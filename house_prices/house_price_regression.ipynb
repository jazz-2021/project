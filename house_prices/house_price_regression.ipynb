{
 "cells": [
  {
   "cell_type": "markdown",
   "metadata": {},
   "source": [
    "# <center> House Prices -- Advance Regression Technique </center>\n",
    "----\n",
    "\n",
    "data source: https://www.kaggle.com/competitions/house-prices-advanced-regression-techniques/data?select=test.csv\n",
    "\n",
    "**Aim** : To build a predictive model to predict housing price\n",
    "\n"
   ]
  },
  {
   "cell_type": "code",
   "execution_count": 146,
   "metadata": {},
   "outputs": [],
   "source": [
    "import inflection as infl\n",
    "import math\n",
    "import numpy as np\n",
    "import pandas as pd\n",
    "import plotly.express as px\n",
    "import plotly.figure_factory as ff\n",
    "import plotly.graph_objects as go\n",
    "\n",
    "\n",
    "from plotly.subplots import make_subplots\n",
    "from scipy.stats import linregress\n",
    "from sklearn.ensemble import RandomForestRegressor, AdaBoostRegressor, GradientBoostingRegressor\n",
    "from sklearn.feature_selection import mutual_info_regression, r_regression\n",
    "from sklearn.linear_model import LinearRegression\n",
    "from sklearn.metrics import accuracy_score, average_precision_score, f1_score\n",
    "from sklearn.model_selection import train_test_split, cross_val_score\n",
    "from sklearn.neighbors import KNeighborsClassifier\n",
    "from sklearn.preprocessing import OrdinalEncoder, OneHotEncoder, MaxAbsScaler, StandardScaler\n",
    "from sklearn.tree import DecisionTreeRegressor\n"
   ]
  },
  {
   "cell_type": "code",
   "execution_count": 14,
   "metadata": {},
   "outputs": [],
   "source": [
    "##### helper functions\n",
    "\n",
    "def dataframe_summary(dataframe: pd.DataFrame,\n",
    "                      max_length: int):\n",
    "    \n",
    "    pd.options.display.float_format = '{:,.4f}'.format\n",
    "\n",
    "    ### Get list of column names\n",
    "    col_names = dataframe.columns.to_list()\n",
    "\n",
    "    ### Get unique count of each column\n",
    "    col_length = [len(dataframe[val].unique()) for val in col_names]\n",
    "\n",
    "    ### Append info for dataframe\n",
    "    col_names.append(\"this_df\")\n",
    "    col_length.append(len(dataframe))\n",
    "\n",
    "    ### Create new dataframe for summary\n",
    "    summary_df = pd.DataFrame(list(zip(col_names, col_length)), columns=[\"column_name\", \"unique_count\"])\n",
    "    summary_df[\"uniqueness\"] = summary_df[\"unique_count\"]/len(dataframe) * 100\n",
    "\n",
    "    ### Count nan values in each column\n",
    "    nan_df = dataframe.isnull().sum(axis = 0).to_frame().reset_index().rename(columns={\"index\":\"column_name\", 0:\"nan_count\"})\n",
    "    nan_df[\"nan_percent\"] = nan_df[\"nan_count\"]/len(dataframe)*100\n",
    "    nan_df[\"percent_complete\"] = 100 - nan_df[\"nan_percent\"]\n",
    "\n",
    "    ### Create new frame for data type in each column\n",
    "    type_df = dataframe.dtypes.to_frame().reset_index().rename(columns={\"index\":\"column_name\", 0:\"data_type\"})\n",
    "    type_df[\"data_type\"] = type_df[\"data_type\"].astype(str)\n",
    "\n",
    "    ### Create new dataframe with unique entries for each column\n",
    "\n",
    "    col_name = []\n",
    "    unique_val = []\n",
    "    \n",
    "    for val  in dataframe.columns.to_list():\n",
    "\n",
    "        col_name.append(val)\n",
    "\n",
    "        if len(dataframe[val].unique())<=max_length:\n",
    "            unique_val.append(list(dataframe[val].unique()))\n",
    "\n",
    "        else:\n",
    "            unique_val.append(f\">{max_length} entries\")\n",
    "\n",
    "    unique_df = pd.DataFrame(list(zip(col_name, unique_val)),\n",
    "                             columns=[\"column_name\", \"unique_entries\"])\n",
    "    \n",
    "    \n",
    "\n",
    "    ### Merge summary_df with nan_df, type_df\n",
    "    summary_df = summary_df.merge(nan_df, on=\"column_name\", how=\"outer\")\n",
    "    summary_df = summary_df.merge(type_df, on=\"column_name\", how=\"outer\")\n",
    "    summary_df = summary_df.merge(unique_df, on=\"column_name\", how=\"outer\")\n",
    "\n",
    "\n",
    "    return summary_df.sort_values([\"data_type\", \"nan_count\"])\n",
    "\n",
    "\n",
    "def describe_dataframe(dataframe: pd.DataFrame):\n",
    "    \n",
    "    pd.options.display.float_format = '{:,.3f}'.format\n",
    "    \n",
    "    return dataframe.select_dtypes([int, float]).describe()\n"
   ]
  },
  {
   "cell_type": "code",
   "execution_count": 2,
   "metadata": {},
   "outputs": [
    {
     "data": {
      "text/html": [
       "<div>\n",
       "<style scoped>\n",
       "    .dataframe tbody tr th:only-of-type {\n",
       "        vertical-align: middle;\n",
       "    }\n",
       "\n",
       "    .dataframe tbody tr th {\n",
       "        vertical-align: top;\n",
       "    }\n",
       "\n",
       "    .dataframe thead th {\n",
       "        text-align: right;\n",
       "    }\n",
       "</style>\n",
       "<table border=\"1\" class=\"dataframe\">\n",
       "  <thead>\n",
       "    <tr style=\"text-align: right;\">\n",
       "      <th></th>\n",
       "      <th>id</th>\n",
       "      <th>ms_sub_class</th>\n",
       "      <th>ms_zoning</th>\n",
       "      <th>lot_frontage</th>\n",
       "      <th>lot_area</th>\n",
       "      <th>street</th>\n",
       "      <th>alley</th>\n",
       "      <th>lot_shape</th>\n",
       "      <th>land_contour</th>\n",
       "      <th>utilities</th>\n",
       "      <th>...</th>\n",
       "      <th>pool_area</th>\n",
       "      <th>pool_qc</th>\n",
       "      <th>fence</th>\n",
       "      <th>misc_feature</th>\n",
       "      <th>misc_val</th>\n",
       "      <th>mo_sold</th>\n",
       "      <th>yr_sold</th>\n",
       "      <th>sale_type</th>\n",
       "      <th>sale_condition</th>\n",
       "      <th>sale_price</th>\n",
       "    </tr>\n",
       "  </thead>\n",
       "  <tbody>\n",
       "    <tr>\n",
       "      <th>0</th>\n",
       "      <td>1</td>\n",
       "      <td>60</td>\n",
       "      <td>RL</td>\n",
       "      <td>65.0</td>\n",
       "      <td>8450</td>\n",
       "      <td>Pave</td>\n",
       "      <td>NaN</td>\n",
       "      <td>Reg</td>\n",
       "      <td>Lvl</td>\n",
       "      <td>AllPub</td>\n",
       "      <td>...</td>\n",
       "      <td>0</td>\n",
       "      <td>NaN</td>\n",
       "      <td>NaN</td>\n",
       "      <td>NaN</td>\n",
       "      <td>0</td>\n",
       "      <td>2</td>\n",
       "      <td>2008</td>\n",
       "      <td>WD</td>\n",
       "      <td>Normal</td>\n",
       "      <td>208500</td>\n",
       "    </tr>\n",
       "    <tr>\n",
       "      <th>1</th>\n",
       "      <td>2</td>\n",
       "      <td>20</td>\n",
       "      <td>RL</td>\n",
       "      <td>80.0</td>\n",
       "      <td>9600</td>\n",
       "      <td>Pave</td>\n",
       "      <td>NaN</td>\n",
       "      <td>Reg</td>\n",
       "      <td>Lvl</td>\n",
       "      <td>AllPub</td>\n",
       "      <td>...</td>\n",
       "      <td>0</td>\n",
       "      <td>NaN</td>\n",
       "      <td>NaN</td>\n",
       "      <td>NaN</td>\n",
       "      <td>0</td>\n",
       "      <td>5</td>\n",
       "      <td>2007</td>\n",
       "      <td>WD</td>\n",
       "      <td>Normal</td>\n",
       "      <td>181500</td>\n",
       "    </tr>\n",
       "    <tr>\n",
       "      <th>2</th>\n",
       "      <td>3</td>\n",
       "      <td>60</td>\n",
       "      <td>RL</td>\n",
       "      <td>68.0</td>\n",
       "      <td>11250</td>\n",
       "      <td>Pave</td>\n",
       "      <td>NaN</td>\n",
       "      <td>IR1</td>\n",
       "      <td>Lvl</td>\n",
       "      <td>AllPub</td>\n",
       "      <td>...</td>\n",
       "      <td>0</td>\n",
       "      <td>NaN</td>\n",
       "      <td>NaN</td>\n",
       "      <td>NaN</td>\n",
       "      <td>0</td>\n",
       "      <td>9</td>\n",
       "      <td>2008</td>\n",
       "      <td>WD</td>\n",
       "      <td>Normal</td>\n",
       "      <td>223500</td>\n",
       "    </tr>\n",
       "    <tr>\n",
       "      <th>3</th>\n",
       "      <td>4</td>\n",
       "      <td>70</td>\n",
       "      <td>RL</td>\n",
       "      <td>60.0</td>\n",
       "      <td>9550</td>\n",
       "      <td>Pave</td>\n",
       "      <td>NaN</td>\n",
       "      <td>IR1</td>\n",
       "      <td>Lvl</td>\n",
       "      <td>AllPub</td>\n",
       "      <td>...</td>\n",
       "      <td>0</td>\n",
       "      <td>NaN</td>\n",
       "      <td>NaN</td>\n",
       "      <td>NaN</td>\n",
       "      <td>0</td>\n",
       "      <td>2</td>\n",
       "      <td>2006</td>\n",
       "      <td>WD</td>\n",
       "      <td>Abnorml</td>\n",
       "      <td>140000</td>\n",
       "    </tr>\n",
       "    <tr>\n",
       "      <th>4</th>\n",
       "      <td>5</td>\n",
       "      <td>60</td>\n",
       "      <td>RL</td>\n",
       "      <td>84.0</td>\n",
       "      <td>14260</td>\n",
       "      <td>Pave</td>\n",
       "      <td>NaN</td>\n",
       "      <td>IR1</td>\n",
       "      <td>Lvl</td>\n",
       "      <td>AllPub</td>\n",
       "      <td>...</td>\n",
       "      <td>0</td>\n",
       "      <td>NaN</td>\n",
       "      <td>NaN</td>\n",
       "      <td>NaN</td>\n",
       "      <td>0</td>\n",
       "      <td>12</td>\n",
       "      <td>2008</td>\n",
       "      <td>WD</td>\n",
       "      <td>Normal</td>\n",
       "      <td>250000</td>\n",
       "    </tr>\n",
       "    <tr>\n",
       "      <th>...</th>\n",
       "      <td>...</td>\n",
       "      <td>...</td>\n",
       "      <td>...</td>\n",
       "      <td>...</td>\n",
       "      <td>...</td>\n",
       "      <td>...</td>\n",
       "      <td>...</td>\n",
       "      <td>...</td>\n",
       "      <td>...</td>\n",
       "      <td>...</td>\n",
       "      <td>...</td>\n",
       "      <td>...</td>\n",
       "      <td>...</td>\n",
       "      <td>...</td>\n",
       "      <td>...</td>\n",
       "      <td>...</td>\n",
       "      <td>...</td>\n",
       "      <td>...</td>\n",
       "      <td>...</td>\n",
       "      <td>...</td>\n",
       "      <td>...</td>\n",
       "    </tr>\n",
       "    <tr>\n",
       "      <th>1455</th>\n",
       "      <td>1456</td>\n",
       "      <td>60</td>\n",
       "      <td>RL</td>\n",
       "      <td>62.0</td>\n",
       "      <td>7917</td>\n",
       "      <td>Pave</td>\n",
       "      <td>NaN</td>\n",
       "      <td>Reg</td>\n",
       "      <td>Lvl</td>\n",
       "      <td>AllPub</td>\n",
       "      <td>...</td>\n",
       "      <td>0</td>\n",
       "      <td>NaN</td>\n",
       "      <td>NaN</td>\n",
       "      <td>NaN</td>\n",
       "      <td>0</td>\n",
       "      <td>8</td>\n",
       "      <td>2007</td>\n",
       "      <td>WD</td>\n",
       "      <td>Normal</td>\n",
       "      <td>175000</td>\n",
       "    </tr>\n",
       "    <tr>\n",
       "      <th>1456</th>\n",
       "      <td>1457</td>\n",
       "      <td>20</td>\n",
       "      <td>RL</td>\n",
       "      <td>85.0</td>\n",
       "      <td>13175</td>\n",
       "      <td>Pave</td>\n",
       "      <td>NaN</td>\n",
       "      <td>Reg</td>\n",
       "      <td>Lvl</td>\n",
       "      <td>AllPub</td>\n",
       "      <td>...</td>\n",
       "      <td>0</td>\n",
       "      <td>NaN</td>\n",
       "      <td>MnPrv</td>\n",
       "      <td>NaN</td>\n",
       "      <td>0</td>\n",
       "      <td>2</td>\n",
       "      <td>2010</td>\n",
       "      <td>WD</td>\n",
       "      <td>Normal</td>\n",
       "      <td>210000</td>\n",
       "    </tr>\n",
       "    <tr>\n",
       "      <th>1457</th>\n",
       "      <td>1458</td>\n",
       "      <td>70</td>\n",
       "      <td>RL</td>\n",
       "      <td>66.0</td>\n",
       "      <td>9042</td>\n",
       "      <td>Pave</td>\n",
       "      <td>NaN</td>\n",
       "      <td>Reg</td>\n",
       "      <td>Lvl</td>\n",
       "      <td>AllPub</td>\n",
       "      <td>...</td>\n",
       "      <td>0</td>\n",
       "      <td>NaN</td>\n",
       "      <td>GdPrv</td>\n",
       "      <td>Shed</td>\n",
       "      <td>2500</td>\n",
       "      <td>5</td>\n",
       "      <td>2010</td>\n",
       "      <td>WD</td>\n",
       "      <td>Normal</td>\n",
       "      <td>266500</td>\n",
       "    </tr>\n",
       "    <tr>\n",
       "      <th>1458</th>\n",
       "      <td>1459</td>\n",
       "      <td>20</td>\n",
       "      <td>RL</td>\n",
       "      <td>68.0</td>\n",
       "      <td>9717</td>\n",
       "      <td>Pave</td>\n",
       "      <td>NaN</td>\n",
       "      <td>Reg</td>\n",
       "      <td>Lvl</td>\n",
       "      <td>AllPub</td>\n",
       "      <td>...</td>\n",
       "      <td>0</td>\n",
       "      <td>NaN</td>\n",
       "      <td>NaN</td>\n",
       "      <td>NaN</td>\n",
       "      <td>0</td>\n",
       "      <td>4</td>\n",
       "      <td>2010</td>\n",
       "      <td>WD</td>\n",
       "      <td>Normal</td>\n",
       "      <td>142125</td>\n",
       "    </tr>\n",
       "    <tr>\n",
       "      <th>1459</th>\n",
       "      <td>1460</td>\n",
       "      <td>20</td>\n",
       "      <td>RL</td>\n",
       "      <td>75.0</td>\n",
       "      <td>9937</td>\n",
       "      <td>Pave</td>\n",
       "      <td>NaN</td>\n",
       "      <td>Reg</td>\n",
       "      <td>Lvl</td>\n",
       "      <td>AllPub</td>\n",
       "      <td>...</td>\n",
       "      <td>0</td>\n",
       "      <td>NaN</td>\n",
       "      <td>NaN</td>\n",
       "      <td>NaN</td>\n",
       "      <td>0</td>\n",
       "      <td>6</td>\n",
       "      <td>2008</td>\n",
       "      <td>WD</td>\n",
       "      <td>Normal</td>\n",
       "      <td>147500</td>\n",
       "    </tr>\n",
       "  </tbody>\n",
       "</table>\n",
       "<p>1460 rows × 81 columns</p>\n",
       "</div>"
      ],
      "text/plain": [
       "        id  ms_sub_class ms_zoning  lot_frontage  lot_area street alley  \\\n",
       "0        1            60        RL          65.0      8450   Pave   NaN   \n",
       "1        2            20        RL          80.0      9600   Pave   NaN   \n",
       "2        3            60        RL          68.0     11250   Pave   NaN   \n",
       "3        4            70        RL          60.0      9550   Pave   NaN   \n",
       "4        5            60        RL          84.0     14260   Pave   NaN   \n",
       "...    ...           ...       ...           ...       ...    ...   ...   \n",
       "1455  1456            60        RL          62.0      7917   Pave   NaN   \n",
       "1456  1457            20        RL          85.0     13175   Pave   NaN   \n",
       "1457  1458            70        RL          66.0      9042   Pave   NaN   \n",
       "1458  1459            20        RL          68.0      9717   Pave   NaN   \n",
       "1459  1460            20        RL          75.0      9937   Pave   NaN   \n",
       "\n",
       "     lot_shape land_contour utilities  ... pool_area pool_qc  fence  \\\n",
       "0          Reg          Lvl    AllPub  ...         0     NaN    NaN   \n",
       "1          Reg          Lvl    AllPub  ...         0     NaN    NaN   \n",
       "2          IR1          Lvl    AllPub  ...         0     NaN    NaN   \n",
       "3          IR1          Lvl    AllPub  ...         0     NaN    NaN   \n",
       "4          IR1          Lvl    AllPub  ...         0     NaN    NaN   \n",
       "...        ...          ...       ...  ...       ...     ...    ...   \n",
       "1455       Reg          Lvl    AllPub  ...         0     NaN    NaN   \n",
       "1456       Reg          Lvl    AllPub  ...         0     NaN  MnPrv   \n",
       "1457       Reg          Lvl    AllPub  ...         0     NaN  GdPrv   \n",
       "1458       Reg          Lvl    AllPub  ...         0     NaN    NaN   \n",
       "1459       Reg          Lvl    AllPub  ...         0     NaN    NaN   \n",
       "\n",
       "     misc_feature misc_val mo_sold yr_sold  sale_type  sale_condition  \\\n",
       "0             NaN        0       2    2008         WD          Normal   \n",
       "1             NaN        0       5    2007         WD          Normal   \n",
       "2             NaN        0       9    2008         WD          Normal   \n",
       "3             NaN        0       2    2006         WD         Abnorml   \n",
       "4             NaN        0      12    2008         WD          Normal   \n",
       "...           ...      ...     ...     ...        ...             ...   \n",
       "1455          NaN        0       8    2007         WD          Normal   \n",
       "1456          NaN        0       2    2010         WD          Normal   \n",
       "1457         Shed     2500       5    2010         WD          Normal   \n",
       "1458          NaN        0       4    2010         WD          Normal   \n",
       "1459          NaN        0       6    2008         WD          Normal   \n",
       "\n",
       "      sale_price  \n",
       "0         208500  \n",
       "1         181500  \n",
       "2         223500  \n",
       "3         140000  \n",
       "4         250000  \n",
       "...          ...  \n",
       "1455      175000  \n",
       "1456      210000  \n",
       "1457      266500  \n",
       "1458      142125  \n",
       "1459      147500  \n",
       "\n",
       "[1460 rows x 81 columns]"
      ]
     },
     "execution_count": 2,
     "metadata": {},
     "output_type": "execute_result"
    }
   ],
   "source": [
    "##### load house price data and rename column to snake case\n",
    "house_df = pd.read_csv(\"house_price_train.csv\")\n",
    "house_df.columns = [infl.underscore(val) for val in house_df.columns]\n",
    "\n",
    "house_df\n"
   ]
  },
  {
   "cell_type": "code",
   "execution_count": 120,
   "metadata": {},
   "outputs": [
    {
     "data": {
      "text/plain": [
       "0        5\n",
       "1       31\n",
       "2        7\n",
       "3       91\n",
       "4        8\n",
       "        ..\n",
       "1455     8\n",
       "1456    32\n",
       "1457    69\n",
       "1458    60\n",
       "1459    43\n",
       "Name: age_sold, Length: 1460, dtype: int64"
      ]
     },
     "execution_count": 120,
     "metadata": {},
     "output_type": "execute_result"
    }
   ],
   "source": [
    "##### introduce new columns\n",
    "house_df[\"age_sold\"] = house_df[\"yr_sold\"] - house_df[\"year_built\"]\n",
    "\n",
    "# house_df[\"age_sold\"]"
   ]
  },
  {
   "cell_type": "markdown",
   "metadata": {},
   "source": [
    "----\n",
    "# <center> Data Clean Up </center>\n",
    "---"
   ]
  },
  {
   "cell_type": "markdown",
   "metadata": {},
   "source": [
    "Determine the amount of rows with NaN values. The following features are removed since the amount missing values are >10%. \n",
    "\n",
    "ID was also removed since it does not contribute to the prediction.\n",
    "\n",
    "| Feature | Description |\n",
    "| --- | --- | \n",
    "| pool_qc | pool quality | \n",
    "| misc_feature | Miscellaneous features not covered in other categories | \n",
    "| alley |  Type of alley access to property | \n",
    "| fence |  Fence quality  | \n",
    "| mas_vnr_type |  Masonry veneer type -- Brick, stone, etc. | \n",
    "| fireplace_qu |  Fireplace quality | \n",
    "| lot_frontage |  Linear feet of street connected to property| "
   ]
  },
  {
   "cell_type": "code",
   "execution_count": 12,
   "metadata": {},
   "outputs": [
    {
     "data": {
      "text/html": [
       "<div>\n",
       "<style scoped>\n",
       "    .dataframe tbody tr th:only-of-type {\n",
       "        vertical-align: middle;\n",
       "    }\n",
       "\n",
       "    .dataframe tbody tr th {\n",
       "        vertical-align: top;\n",
       "    }\n",
       "\n",
       "    .dataframe thead th {\n",
       "        text-align: right;\n",
       "    }\n",
       "</style>\n",
       "<table border=\"1\" class=\"dataframe\">\n",
       "  <thead>\n",
       "    <tr style=\"text-align: right;\">\n",
       "      <th></th>\n",
       "      <th>column</th>\n",
       "      <th>nan_count</th>\n",
       "      <th>nan_percent</th>\n",
       "    </tr>\n",
       "  </thead>\n",
       "  <tbody>\n",
       "    <tr>\n",
       "      <th>72</th>\n",
       "      <td>pool_qc</td>\n",
       "      <td>1453</td>\n",
       "      <td>99.521</td>\n",
       "    </tr>\n",
       "    <tr>\n",
       "      <th>74</th>\n",
       "      <td>misc_feature</td>\n",
       "      <td>1406</td>\n",
       "      <td>96.301</td>\n",
       "    </tr>\n",
       "    <tr>\n",
       "      <th>6</th>\n",
       "      <td>alley</td>\n",
       "      <td>1369</td>\n",
       "      <td>93.767</td>\n",
       "    </tr>\n",
       "    <tr>\n",
       "      <th>73</th>\n",
       "      <td>fence</td>\n",
       "      <td>1179</td>\n",
       "      <td>80.753</td>\n",
       "    </tr>\n",
       "    <tr>\n",
       "      <th>25</th>\n",
       "      <td>mas_vnr_type</td>\n",
       "      <td>872</td>\n",
       "      <td>59.726</td>\n",
       "    </tr>\n",
       "    <tr>\n",
       "      <th>57</th>\n",
       "      <td>fireplace_qu</td>\n",
       "      <td>690</td>\n",
       "      <td>47.260</td>\n",
       "    </tr>\n",
       "    <tr>\n",
       "      <th>3</th>\n",
       "      <td>lot_frontage</td>\n",
       "      <td>259</td>\n",
       "      <td>17.740</td>\n",
       "    </tr>\n",
       "  </tbody>\n",
       "</table>\n",
       "</div>"
      ],
      "text/plain": [
       "          column  nan_count  nan_percent\n",
       "72       pool_qc       1453       99.521\n",
       "74  misc_feature       1406       96.301\n",
       "6          alley       1369       93.767\n",
       "73         fence       1179       80.753\n",
       "25  mas_vnr_type        872       59.726\n",
       "57  fireplace_qu        690       47.260\n",
       "3   lot_frontage        259       17.740"
      ]
     },
     "execution_count": 12,
     "metadata": {},
     "output_type": "execute_result"
    }
   ],
   "source": [
    "col_names = [val for val in house_df.columns]\n",
    "nan_count = [len(house_df.loc[house_df[val].isna(), val]) for val in house_df.columns]\n",
    "\n",
    "nan_count_df = pd.DataFrame(list(zip(col_names, nan_count)), columns=[\"column\", \"nan_count\"])\n",
    "nan_count_df[\"nan_percent\"] = nan_count_df[\"nan_count\"]/len(house_df)*100\n",
    "\n",
    "##### Display the column with NaN; sort according to the amount of NaN in columns\n",
    "nan_count_df[nan_count_df[\"nan_percent\"]>10].sort_values([\"nan_count\"], ascending=False)"
   ]
  },
  {
   "cell_type": "code",
   "execution_count": 13,
   "metadata": {},
   "outputs": [
    {
     "data": {
      "text/html": [
       "<div>\n",
       "<style scoped>\n",
       "    .dataframe tbody tr th:only-of-type {\n",
       "        vertical-align: middle;\n",
       "    }\n",
       "\n",
       "    .dataframe tbody tr th {\n",
       "        vertical-align: top;\n",
       "    }\n",
       "\n",
       "    .dataframe thead th {\n",
       "        text-align: right;\n",
       "    }\n",
       "</style>\n",
       "<table border=\"1\" class=\"dataframe\">\n",
       "  <thead>\n",
       "    <tr style=\"text-align: right;\">\n",
       "      <th></th>\n",
       "      <th>ms_sub_class</th>\n",
       "      <th>ms_zoning</th>\n",
       "      <th>lot_area</th>\n",
       "      <th>street</th>\n",
       "      <th>lot_shape</th>\n",
       "      <th>land_contour</th>\n",
       "      <th>utilities</th>\n",
       "      <th>lot_config</th>\n",
       "      <th>land_slope</th>\n",
       "      <th>neighborhood</th>\n",
       "      <th>...</th>\n",
       "      <th>enclosed_porch</th>\n",
       "      <th>3_ssn_porch</th>\n",
       "      <th>screen_porch</th>\n",
       "      <th>pool_area</th>\n",
       "      <th>misc_val</th>\n",
       "      <th>mo_sold</th>\n",
       "      <th>yr_sold</th>\n",
       "      <th>sale_type</th>\n",
       "      <th>sale_condition</th>\n",
       "      <th>sale_price</th>\n",
       "    </tr>\n",
       "  </thead>\n",
       "  <tbody>\n",
       "    <tr>\n",
       "      <th>0</th>\n",
       "      <td>60</td>\n",
       "      <td>RL</td>\n",
       "      <td>8450</td>\n",
       "      <td>Pave</td>\n",
       "      <td>Reg</td>\n",
       "      <td>Lvl</td>\n",
       "      <td>AllPub</td>\n",
       "      <td>Inside</td>\n",
       "      <td>Gtl</td>\n",
       "      <td>CollgCr</td>\n",
       "      <td>...</td>\n",
       "      <td>0</td>\n",
       "      <td>0</td>\n",
       "      <td>0</td>\n",
       "      <td>0</td>\n",
       "      <td>0</td>\n",
       "      <td>2</td>\n",
       "      <td>2008</td>\n",
       "      <td>WD</td>\n",
       "      <td>Normal</td>\n",
       "      <td>208500</td>\n",
       "    </tr>\n",
       "    <tr>\n",
       "      <th>1</th>\n",
       "      <td>20</td>\n",
       "      <td>RL</td>\n",
       "      <td>9600</td>\n",
       "      <td>Pave</td>\n",
       "      <td>Reg</td>\n",
       "      <td>Lvl</td>\n",
       "      <td>AllPub</td>\n",
       "      <td>FR2</td>\n",
       "      <td>Gtl</td>\n",
       "      <td>Veenker</td>\n",
       "      <td>...</td>\n",
       "      <td>0</td>\n",
       "      <td>0</td>\n",
       "      <td>0</td>\n",
       "      <td>0</td>\n",
       "      <td>0</td>\n",
       "      <td>5</td>\n",
       "      <td>2007</td>\n",
       "      <td>WD</td>\n",
       "      <td>Normal</td>\n",
       "      <td>181500</td>\n",
       "    </tr>\n",
       "    <tr>\n",
       "      <th>2</th>\n",
       "      <td>60</td>\n",
       "      <td>RL</td>\n",
       "      <td>11250</td>\n",
       "      <td>Pave</td>\n",
       "      <td>IR1</td>\n",
       "      <td>Lvl</td>\n",
       "      <td>AllPub</td>\n",
       "      <td>Inside</td>\n",
       "      <td>Gtl</td>\n",
       "      <td>CollgCr</td>\n",
       "      <td>...</td>\n",
       "      <td>0</td>\n",
       "      <td>0</td>\n",
       "      <td>0</td>\n",
       "      <td>0</td>\n",
       "      <td>0</td>\n",
       "      <td>9</td>\n",
       "      <td>2008</td>\n",
       "      <td>WD</td>\n",
       "      <td>Normal</td>\n",
       "      <td>223500</td>\n",
       "    </tr>\n",
       "    <tr>\n",
       "      <th>3</th>\n",
       "      <td>70</td>\n",
       "      <td>RL</td>\n",
       "      <td>9550</td>\n",
       "      <td>Pave</td>\n",
       "      <td>IR1</td>\n",
       "      <td>Lvl</td>\n",
       "      <td>AllPub</td>\n",
       "      <td>Corner</td>\n",
       "      <td>Gtl</td>\n",
       "      <td>Crawfor</td>\n",
       "      <td>...</td>\n",
       "      <td>272</td>\n",
       "      <td>0</td>\n",
       "      <td>0</td>\n",
       "      <td>0</td>\n",
       "      <td>0</td>\n",
       "      <td>2</td>\n",
       "      <td>2006</td>\n",
       "      <td>WD</td>\n",
       "      <td>Abnorml</td>\n",
       "      <td>140000</td>\n",
       "    </tr>\n",
       "    <tr>\n",
       "      <th>4</th>\n",
       "      <td>60</td>\n",
       "      <td>RL</td>\n",
       "      <td>14260</td>\n",
       "      <td>Pave</td>\n",
       "      <td>IR1</td>\n",
       "      <td>Lvl</td>\n",
       "      <td>AllPub</td>\n",
       "      <td>FR2</td>\n",
       "      <td>Gtl</td>\n",
       "      <td>NoRidge</td>\n",
       "      <td>...</td>\n",
       "      <td>0</td>\n",
       "      <td>0</td>\n",
       "      <td>0</td>\n",
       "      <td>0</td>\n",
       "      <td>0</td>\n",
       "      <td>12</td>\n",
       "      <td>2008</td>\n",
       "      <td>WD</td>\n",
       "      <td>Normal</td>\n",
       "      <td>250000</td>\n",
       "    </tr>\n",
       "  </tbody>\n",
       "</table>\n",
       "<p>5 rows × 73 columns</p>\n",
       "</div>"
      ],
      "text/plain": [
       "   ms_sub_class ms_zoning  lot_area street lot_shape land_contour utilities  \\\n",
       "0            60        RL      8450   Pave       Reg          Lvl    AllPub   \n",
       "1            20        RL      9600   Pave       Reg          Lvl    AllPub   \n",
       "2            60        RL     11250   Pave       IR1          Lvl    AllPub   \n",
       "3            70        RL      9550   Pave       IR1          Lvl    AllPub   \n",
       "4            60        RL     14260   Pave       IR1          Lvl    AllPub   \n",
       "\n",
       "  lot_config land_slope neighborhood  ... enclosed_porch 3_ssn_porch  \\\n",
       "0     Inside        Gtl      CollgCr  ...              0           0   \n",
       "1        FR2        Gtl      Veenker  ...              0           0   \n",
       "2     Inside        Gtl      CollgCr  ...              0           0   \n",
       "3     Corner        Gtl      Crawfor  ...            272           0   \n",
       "4        FR2        Gtl      NoRidge  ...              0           0   \n",
       "\n",
       "  screen_porch pool_area  misc_val  mo_sold  yr_sold  sale_type  \\\n",
       "0            0         0         0        2     2008         WD   \n",
       "1            0         0         0        5     2007         WD   \n",
       "2            0         0         0        9     2008         WD   \n",
       "3            0         0         0        2     2006         WD   \n",
       "4            0         0         0       12     2008         WD   \n",
       "\n",
       "  sale_condition sale_price  \n",
       "0         Normal     208500  \n",
       "1         Normal     181500  \n",
       "2         Normal     223500  \n",
       "3        Abnorml     140000  \n",
       "4         Normal     250000  \n",
       "\n",
       "[5 rows x 73 columns]"
      ]
     },
     "execution_count": 13,
     "metadata": {},
     "output_type": "execute_result"
    }
   ],
   "source": [
    "##### remove features with more than 10% NaN row\n",
    "\n",
    "nan_removal = nan_count_df.loc[nan_count_df[\"nan_percent\"]>10, \"column\"].to_list()\n",
    "nan_removal = nan_removal + [\"id\"]\n",
    "\n",
    "cleaned_house_df = house_df.drop(columns=nan_removal)\n",
    "\n",
    "cleaned_house_df.head(5)"
   ]
  },
  {
   "cell_type": "markdown",
   "metadata": {},
   "source": [
    "---\n",
    "# <center> Exploratory Data Analysis </center>\n",
    "---\n",
    "\n"
   ]
  },
  {
   "cell_type": "code",
   "execution_count": 19,
   "metadata": {},
   "outputs": [
    {
     "data": {
      "text/html": [
       "<div>\n",
       "<style scoped>\n",
       "    .dataframe tbody tr th:only-of-type {\n",
       "        vertical-align: middle;\n",
       "    }\n",
       "\n",
       "    .dataframe tbody tr th {\n",
       "        vertical-align: top;\n",
       "    }\n",
       "\n",
       "    .dataframe thead th {\n",
       "        text-align: right;\n",
       "    }\n",
       "</style>\n",
       "<table border=\"1\" class=\"dataframe\">\n",
       "  <thead>\n",
       "    <tr style=\"text-align: right;\">\n",
       "      <th></th>\n",
       "      <th>column_name</th>\n",
       "      <th>unique_count</th>\n",
       "      <th>uniqueness</th>\n",
       "      <th>nan_count</th>\n",
       "      <th>nan_percent</th>\n",
       "      <th>percent_complete</th>\n",
       "      <th>data_type</th>\n",
       "      <th>unique_entries</th>\n",
       "    </tr>\n",
       "  </thead>\n",
       "  <tbody>\n",
       "    <tr>\n",
       "      <th>0</th>\n",
       "      <td>ms_sub_class</td>\n",
       "      <td>15</td>\n",
       "      <td>1.0274</td>\n",
       "      <td>0.0000</td>\n",
       "      <td>0.0000</td>\n",
       "      <td>100.0000</td>\n",
       "      <td>int64</td>\n",
       "      <td>&gt;10 entries</td>\n",
       "    </tr>\n",
       "    <tr>\n",
       "      <th>2</th>\n",
       "      <td>lot_area</td>\n",
       "      <td>1073</td>\n",
       "      <td>73.4932</td>\n",
       "      <td>0.0000</td>\n",
       "      <td>0.0000</td>\n",
       "      <td>100.0000</td>\n",
       "      <td>int64</td>\n",
       "      <td>&gt;10 entries</td>\n",
       "    </tr>\n",
       "    <tr>\n",
       "      <th>14</th>\n",
       "      <td>overall_qual</td>\n",
       "      <td>10</td>\n",
       "      <td>0.6849</td>\n",
       "      <td>0.0000</td>\n",
       "      <td>0.0000</td>\n",
       "      <td>100.0000</td>\n",
       "      <td>int64</td>\n",
       "      <td>[7, 6, 8, 5, 9, 4, 10, 3, 1, 2]</td>\n",
       "    </tr>\n",
       "    <tr>\n",
       "      <th>15</th>\n",
       "      <td>overall_cond</td>\n",
       "      <td>9</td>\n",
       "      <td>0.6164</td>\n",
       "      <td>0.0000</td>\n",
       "      <td>0.0000</td>\n",
       "      <td>100.0000</td>\n",
       "      <td>int64</td>\n",
       "      <td>[5, 8, 6, 7, 4, 2, 3, 9, 1]</td>\n",
       "    </tr>\n",
       "    <tr>\n",
       "      <th>16</th>\n",
       "      <td>year_built</td>\n",
       "      <td>112</td>\n",
       "      <td>7.6712</td>\n",
       "      <td>0.0000</td>\n",
       "      <td>0.0000</td>\n",
       "      <td>100.0000</td>\n",
       "      <td>int64</td>\n",
       "      <td>&gt;10 entries</td>\n",
       "    </tr>\n",
       "    <tr>\n",
       "      <th>...</th>\n",
       "      <td>...</td>\n",
       "      <td>...</td>\n",
       "      <td>...</td>\n",
       "      <td>...</td>\n",
       "      <td>...</td>\n",
       "      <td>...</td>\n",
       "      <td>...</td>\n",
       "      <td>...</td>\n",
       "    </tr>\n",
       "    <tr>\n",
       "      <th>53</th>\n",
       "      <td>garage_type</td>\n",
       "      <td>7</td>\n",
       "      <td>0.4795</td>\n",
       "      <td>81.0000</td>\n",
       "      <td>5.5479</td>\n",
       "      <td>94.4521</td>\n",
       "      <td>object</td>\n",
       "      <td>[Attchd, Detchd, BuiltIn, CarPort, nan, Basmen...</td>\n",
       "    </tr>\n",
       "    <tr>\n",
       "      <th>55</th>\n",
       "      <td>garage_finish</td>\n",
       "      <td>4</td>\n",
       "      <td>0.2740</td>\n",
       "      <td>81.0000</td>\n",
       "      <td>5.5479</td>\n",
       "      <td>94.4521</td>\n",
       "      <td>object</td>\n",
       "      <td>[RFn, Unf, Fin, nan]</td>\n",
       "    </tr>\n",
       "    <tr>\n",
       "      <th>58</th>\n",
       "      <td>garage_qual</td>\n",
       "      <td>6</td>\n",
       "      <td>0.4110</td>\n",
       "      <td>81.0000</td>\n",
       "      <td>5.5479</td>\n",
       "      <td>94.4521</td>\n",
       "      <td>object</td>\n",
       "      <td>[TA, Fa, Gd, nan, Ex, Po]</td>\n",
       "    </tr>\n",
       "    <tr>\n",
       "      <th>59</th>\n",
       "      <td>garage_cond</td>\n",
       "      <td>6</td>\n",
       "      <td>0.4110</td>\n",
       "      <td>81.0000</td>\n",
       "      <td>5.5479</td>\n",
       "      <td>94.4521</td>\n",
       "      <td>object</td>\n",
       "      <td>[TA, Fa, nan, Gd, Po, Ex]</td>\n",
       "    </tr>\n",
       "    <tr>\n",
       "      <th>73</th>\n",
       "      <td>this_df</td>\n",
       "      <td>1460</td>\n",
       "      <td>100.0000</td>\n",
       "      <td>NaN</td>\n",
       "      <td>NaN</td>\n",
       "      <td>NaN</td>\n",
       "      <td>NaN</td>\n",
       "      <td>NaN</td>\n",
       "    </tr>\n",
       "  </tbody>\n",
       "</table>\n",
       "<p>74 rows × 8 columns</p>\n",
       "</div>"
      ],
      "text/plain": [
       "      column_name  unique_count  uniqueness  nan_count  nan_percent  \\\n",
       "0    ms_sub_class            15      1.0274     0.0000       0.0000   \n",
       "2        lot_area          1073     73.4932     0.0000       0.0000   \n",
       "14   overall_qual            10      0.6849     0.0000       0.0000   \n",
       "15   overall_cond             9      0.6164     0.0000       0.0000   \n",
       "16     year_built           112      7.6712     0.0000       0.0000   \n",
       "..            ...           ...         ...        ...          ...   \n",
       "53    garage_type             7      0.4795    81.0000       5.5479   \n",
       "55  garage_finish             4      0.2740    81.0000       5.5479   \n",
       "58    garage_qual             6      0.4110    81.0000       5.5479   \n",
       "59    garage_cond             6      0.4110    81.0000       5.5479   \n",
       "73        this_df          1460    100.0000        NaN          NaN   \n",
       "\n",
       "    percent_complete data_type  \\\n",
       "0           100.0000     int64   \n",
       "2           100.0000     int64   \n",
       "14          100.0000     int64   \n",
       "15          100.0000     int64   \n",
       "16          100.0000     int64   \n",
       "..               ...       ...   \n",
       "53           94.4521    object   \n",
       "55           94.4521    object   \n",
       "58           94.4521    object   \n",
       "59           94.4521    object   \n",
       "73               NaN       NaN   \n",
       "\n",
       "                                       unique_entries  \n",
       "0                                         >10 entries  \n",
       "2                                         >10 entries  \n",
       "14                    [7, 6, 8, 5, 9, 4, 10, 3, 1, 2]  \n",
       "15                        [5, 8, 6, 7, 4, 2, 3, 9, 1]  \n",
       "16                                        >10 entries  \n",
       "..                                                ...  \n",
       "53  [Attchd, Detchd, BuiltIn, CarPort, nan, Basmen...  \n",
       "55                               [RFn, Unf, Fin, nan]  \n",
       "58                          [TA, Fa, Gd, nan, Ex, Po]  \n",
       "59                          [TA, Fa, nan, Gd, Po, Ex]  \n",
       "73                                                NaN  \n",
       "\n",
       "[74 rows x 8 columns]"
      ]
     },
     "execution_count": 19,
     "metadata": {},
     "output_type": "execute_result"
    }
   ],
   "source": [
    "house_df_summary = dataframe_summary(cleaned_house_df, 10)\n",
    "house_df_summary.sort_values([\"percent_complete\", \"data_type\"], ascending=[False, True])"
   ]
  },
  {
   "cell_type": "markdown",
   "metadata": {},
   "source": [
    "## Sale Price with Respect to Neighborhood"
   ]
  },
  {
   "cell_type": "code",
   "execution_count": 158,
   "metadata": {},
   "outputs": [],
   "source": [
    "house_neighborhood = house_df[[\"neighborhood\", \"sale_price\", \"gr_liv_area\", \"age_sold\"]].groupby([\"neighborhood\"]).agg([\"mean\", \"median\", \"std\"]).reset_index()\n",
    "house_neighborhood = house_neighborhood.sort_values((\"sale_price\", \"mean\"), ascending=False)\n",
    "house_neighborhood[\"mean_scaled\"] = house_neighborhood[\"sale_price\"][\"mean\"]/house_neighborhood[\"gr_liv_area\"][\"mean\"]\n",
    "house_neighborhood[\"median_scaled\"] = house_neighborhood[\"sale_price\"][\"median\"]/house_neighborhood[\"gr_liv_area\"][\"median\"]\n",
    "\n"
   ]
  },
  {
   "cell_type": "code",
   "execution_count": 157,
   "metadata": {},
   "outputs": [
    {
     "data": {
      "application/vnd.plotly.v1+json": {
       "config": {
        "plotlyServerURL": "https://plot.ly"
       },
       "data": [
        {
         "legendgroup": "mean",
         "marker": {
          "color": "#811331"
         },
         "name": "mean",
         "orientation": "v",
         "showlegend": true,
         "text": [
          335295.31707317074,
          316270.6233766234,
          310499,
          242247.44736842104,
          238772.72727272726,
          225379.83720930232,
          212565.42857142858,
          210624.72549019608,
          197965.77333333335,
          194870.88235294117,
          192854.50632911394,
          189050.0684931507,
          186555.7966101695,
          156270.1224489796,
          145847.08,
          142694.44444444444,
          142591.36,
          137500,
          136793.13513513515,
          128225.30088495575,
          128219.7,
          124834.05172413793,
          104493.75,
          100123.78378378379,
          98576.4705882353
         ],
         "texttemplate": "$ %{text:,.0f}",
         "type": "bar",
         "x": [
          "NoRidge",
          "NridgHt",
          "StoneBr",
          "Timber",
          "Veenker",
          "Somerst",
          "ClearCr",
          "Crawfor",
          "CollgCr",
          "Blmngtn",
          "Gilbert",
          "NWAmes",
          "SawyerW",
          "Mitchel",
          "NAmes",
          "NPkVill",
          "SWISU",
          "Blueste",
          "Sawyer",
          "OldTown",
          "Edwards",
          "BrkSide",
          "BrDale",
          "IDOTRR",
          "MeadowV"
         ],
         "xaxis": "x",
         "y": [
          335295.31707317074,
          316270.6233766234,
          310499,
          242247.44736842104,
          238772.72727272726,
          225379.83720930232,
          212565.42857142858,
          210624.72549019608,
          197965.77333333335,
          194870.88235294117,
          192854.50632911394,
          189050.0684931507,
          186555.7966101695,
          156270.1224489796,
          145847.08,
          142694.44444444444,
          142591.36,
          137500,
          136793.13513513515,
          128225.30088495575,
          128219.7,
          124834.05172413793,
          104493.75,
          100123.78378378379,
          98576.4705882353
         ],
         "yaxis": "y"
        },
        {
         "legendgroup": "median",
         "marker": {
          "color": "#0F52BA"
         },
         "name": "median",
         "orientation": "v",
         "showlegend": true,
         "text": [
          301500,
          315000,
          278000,
          228475,
          218000,
          225500,
          200250,
          200624,
          197200,
          191000,
          181000,
          182900,
          179900,
          153500,
          140000,
          146000,
          139500,
          137500,
          135000,
          119000,
          121750,
          124300,
          106000,
          103000,
          88000
         ],
         "texttemplate": "$ %{text:,.0f}",
         "type": "bar",
         "x": [
          "NoRidge",
          "NridgHt",
          "StoneBr",
          "Timber",
          "Veenker",
          "Somerst",
          "ClearCr",
          "Crawfor",
          "CollgCr",
          "Blmngtn",
          "Gilbert",
          "NWAmes",
          "SawyerW",
          "Mitchel",
          "NAmes",
          "NPkVill",
          "SWISU",
          "Blueste",
          "Sawyer",
          "OldTown",
          "Edwards",
          "BrkSide",
          "BrDale",
          "IDOTRR",
          "MeadowV"
         ],
         "xaxis": "x",
         "y": [
          -301500,
          -315000,
          -278000,
          -228475,
          -218000,
          -225500,
          -200250,
          -200624,
          -197200,
          -191000,
          -181000,
          -182900,
          -179900,
          -153500,
          -140000,
          -146000,
          -139500,
          -137500,
          -135000,
          -119000,
          -121750,
          -124300,
          -106000,
          -103000,
          -88000
         ],
         "yaxis": "y"
        },
        {
         "legendgroup": "mean",
         "marker": {
          "color": "#811331"
         },
         "name": "mean",
         "orientation": "v",
         "showlegend": false,
         "text": [
          133.64482855837375,
          165.0726506154764,
          165.2399046341827,
          138.47708947590107,
          155.08384506376947,
          141.15784490794687,
          118.87734435855953,
          117.56184607976186,
          133.71548350782393,
          136.46982492276004,
          117.49989202862784,
          109.41785329189396,
          116.9616390028266,
          120.74612085278163,
          111.307214571603,
          113.88223818391415,
          79.16288778841242,
          98.74326750448833,
          112.57442170818506,
          86.65477934800161,
          95.68348706008776,
          103.7630055318295,
          91.40560931605708,
          87.65124807760559,
          93.08965670481058
         ],
         "texttemplate": "$ %{text:,.0f}",
         "type": "bar",
         "x": [
          "NoRidge",
          "NridgHt",
          "StoneBr",
          "Timber",
          "Veenker",
          "Somerst",
          "ClearCr",
          "Crawfor",
          "CollgCr",
          "Blmngtn",
          "Gilbert",
          "NWAmes",
          "SawyerW",
          "Mitchel",
          "NAmes",
          "NPkVill",
          "SWISU",
          "Blueste",
          "Sawyer",
          "OldTown",
          "Edwards",
          "BrkSide",
          "BrDale",
          "IDOTRR",
          "MeadowV"
         ],
         "xaxis": "x2",
         "y": [
          133.64482855837375,
          165.0726506154764,
          165.2399046341827,
          138.47708947590107,
          155.08384506376947,
          141.15784490794687,
          118.87734435855953,
          117.56184607976186,
          133.71548350782393,
          136.46982492276004,
          117.49989202862784,
          109.41785329189396,
          116.9616390028266,
          120.74612085278163,
          111.307214571603,
          113.88223818391415,
          79.16288778841242,
          98.74326750448833,
          112.57442170818506,
          86.65477934800161,
          95.68348706008776,
          103.7630055318295,
          91.40560931605708,
          87.65124807760559,
          93.08965670481058
         ],
         "yaxis": "y2"
        },
        {
         "legendgroup": "median",
         "marker": {
          "color": "#0F52BA"
         },
         "name": "median",
         "orientation": "v",
         "showlegend": false,
         "text": [
          124.68982630272953,
          170.27027027027026,
          159.58668197474168,
          135.23231725362533,
          151.70494084899096,
          144.13550655161393,
          115.21864211737629,
          116.84566103669191,
          131.46666666666667,
          127.33333333333333,
          113.62209667294412,
          109.91586538461539,
          112.22707423580786,
          127.49169435215947,
          116.66666666666667,
          110.43872919818457,
          82.49556475458309,
          98.74326750448833,
          122.0614828209765,
          86.60844250363901,
          101.45833333333333,
          102.6848409748038,
          91.77489177489177,
          91.31205673758865,
          80.58608058608058
         ],
         "texttemplate": "$ %{text:,.0f}",
         "type": "bar",
         "x": [
          "NoRidge",
          "NridgHt",
          "StoneBr",
          "Timber",
          "Veenker",
          "Somerst",
          "ClearCr",
          "Crawfor",
          "CollgCr",
          "Blmngtn",
          "Gilbert",
          "NWAmes",
          "SawyerW",
          "Mitchel",
          "NAmes",
          "NPkVill",
          "SWISU",
          "Blueste",
          "Sawyer",
          "OldTown",
          "Edwards",
          "BrkSide",
          "BrDale",
          "IDOTRR",
          "MeadowV"
         ],
         "xaxis": "x2",
         "y": [
          -124.68982630272953,
          -170.27027027027026,
          -159.58668197474168,
          -135.23231725362533,
          -151.70494084899096,
          -144.13550655161393,
          -115.21864211737629,
          -116.84566103669191,
          -131.46666666666667,
          -127.33333333333333,
          -113.62209667294412,
          -109.91586538461539,
          -112.22707423580786,
          -127.49169435215947,
          -116.66666666666667,
          -110.43872919818457,
          -82.49556475458309,
          -98.74326750448833,
          -122.0614828209765,
          -86.60844250363901,
          -101.45833333333333,
          -102.6848409748038,
          -91.77489177489177,
          -91.31205673758865,
          -80.58608058608058
         ],
         "yaxis": "y2"
        },
        {
         "legendgroup": "mean",
         "marker": {
          "color": "#811331"
         },
         "name": "mean",
         "orientation": "v",
         "showlegend": false,
         "text": [
          12.390243902439025,
          2.142857142857143,
          9.44,
          14.973684210526315,
          24.636363636363637,
          2.755813953488372,
          41.214285714285715,
          65.94117647058823,
          9.92,
          2.235294117647059,
          9.30379746835443,
          32.19178082191781,
          19.661016949152543,
          26,
          47.87111111111111,
          32.22222222222222,
          82.92,
          28.5,
          44.21621621621622,
          84.90265486725664,
          51.97,
          76.24137931034483,
          36.25,
          79.8108108108108,
          35.470588235294116
         ],
         "texttemplate": "%{text:,.0f} years",
         "type": "bar",
         "x": [
          "NoRidge",
          "NridgHt",
          "StoneBr",
          "Timber",
          "Veenker",
          "Somerst",
          "ClearCr",
          "Crawfor",
          "CollgCr",
          "Blmngtn",
          "Gilbert",
          "NWAmes",
          "SawyerW",
          "Mitchel",
          "NAmes",
          "NPkVill",
          "SWISU",
          "Blueste",
          "Sawyer",
          "OldTown",
          "Edwards",
          "BrkSide",
          "BrDale",
          "IDOTRR",
          "MeadowV"
         ],
         "xaxis": "x3",
         "y": [
          12.390243902439025,
          2.142857142857143,
          9.44,
          14.973684210526315,
          24.636363636363637,
          2.755813953488372,
          41.214285714285715,
          65.94117647058823,
          9.92,
          2.235294117647059,
          9.30379746835443,
          32.19178082191781,
          19.661016949152543,
          26,
          47.87111111111111,
          32.22222222222222,
          82.92,
          28.5,
          44.21621621621622,
          84.90265486725664,
          51.97,
          76.24137931034483,
          36.25,
          79.8108108108108,
          35.470588235294116
         ],
         "yaxis": "y3"
        },
        {
         "legendgroup": "median",
         "marker": {
          "color": "#0F52BA"
         },
         "name": "median",
         "orientation": "v",
         "showlegend": false,
         "text": [
          12,
          1,
          7,
          8,
          29,
          1,
          41.5,
          69,
          6,
          2,
          8,
          32,
          17,
          26,
          48,
          32,
          83,
          28.5,
          43,
          86,
          53.5,
          78,
          37,
          84,
          36
         ],
         "texttemplate": "%{text:,.0f} years",
         "type": "bar",
         "x": [
          "NoRidge",
          "NridgHt",
          "StoneBr",
          "Timber",
          "Veenker",
          "Somerst",
          "ClearCr",
          "Crawfor",
          "CollgCr",
          "Blmngtn",
          "Gilbert",
          "NWAmes",
          "SawyerW",
          "Mitchel",
          "NAmes",
          "NPkVill",
          "SWISU",
          "Blueste",
          "Sawyer",
          "OldTown",
          "Edwards",
          "BrkSide",
          "BrDale",
          "IDOTRR",
          "MeadowV"
         ],
         "xaxis": "x3",
         "y": [
          -12,
          -1,
          -7,
          -8,
          -29,
          -1,
          -41.5,
          -69,
          -6,
          -2,
          -8,
          -32,
          -17,
          -26,
          -48,
          -32,
          -83,
          -28.5,
          -43,
          -86,
          -53.5,
          -78,
          -37,
          -84,
          -36
         ],
         "yaxis": "y3"
        },
        {
         "marker": {
          "color": "#7D3C98"
         },
         "mode": "markers",
         "showlegend": false,
         "type": "scatter",
         "x": [
          12.390243902439025,
          2.142857142857143,
          9.44,
          14.973684210526315,
          24.636363636363637,
          2.755813953488372,
          41.214285714285715,
          65.94117647058823,
          9.92,
          2.235294117647059,
          9.30379746835443,
          32.19178082191781,
          19.661016949152543,
          26,
          47.87111111111111,
          32.22222222222222,
          82.92,
          28.5,
          44.21621621621622,
          84.90265486725664,
          51.97,
          76.24137931034483,
          36.25,
          79.8108108108108,
          35.470588235294116
         ],
         "xaxis": "x4",
         "y": [
          133.64482855837375,
          165.0726506154764,
          165.2399046341827,
          138.47708947590107,
          155.08384506376947,
          141.15784490794687,
          118.87734435855953,
          117.56184607976186,
          133.71548350782393,
          136.46982492276004,
          117.49989202862784,
          109.41785329189396,
          116.9616390028266,
          120.74612085278163,
          111.307214571603,
          113.88223818391415,
          79.16288778841242,
          98.74326750448833,
          112.57442170818506,
          86.65477934800161,
          95.68348706008776,
          103.7630055318295,
          91.40560931605708,
          87.65124807760559,
          93.08965670481058
         ],
         "yaxis": "y4"
        },
        {
         "marker": {
          "color": "#AF7AC5"
         },
         "mode": "lines",
         "showlegend": false,
         "type": "scatter",
         "x": [
          0,
          1,
          2,
          3,
          4,
          5,
          6,
          7,
          8,
          9,
          10,
          11,
          12,
          13,
          14,
          15,
          16,
          17,
          18,
          19,
          20,
          21,
          22,
          23,
          24,
          25,
          26,
          27,
          28,
          29,
          30,
          31,
          32,
          33,
          34,
          35,
          36,
          37,
          38,
          39,
          40,
          41,
          42,
          43,
          44,
          45,
          46,
          47,
          48,
          49,
          50,
          51,
          52,
          53,
          54,
          55,
          56,
          57,
          58,
          59,
          60,
          61,
          62,
          63,
          64,
          65,
          66,
          67,
          68,
          69,
          70,
          71,
          72,
          73,
          74,
          75,
          76,
          77,
          78,
          79,
          80,
          81,
          82,
          83,
          84,
          85,
          86
         ],
         "xaxis": "x4",
         "y": [
          141.84775447098377,
          141.15792077821294,
          140.4680870854421,
          139.77825339267127,
          139.08841969990044,
          138.3985860071296,
          137.70875231435878,
          137.01891862158794,
          136.3290849288171,
          135.63925123604628,
          134.94941754327544,
          134.2595838505046,
          133.56975015773378,
          132.87991646496295,
          132.1900827721921,
          131.50024907942128,
          130.81041538665045,
          130.12058169387961,
          129.43074800110878,
          128.74091430833795,
          128.05108061556712,
          127.36124692279627,
          126.67141323002544,
          125.9815795372546,
          125.29174584448377,
          124.60191215171294,
          123.9120784589421,
          123.22224476617127,
          122.53241107340044,
          121.8425773806296,
          121.15274368785877,
          120.46290999508794,
          119.77307630231711,
          119.08324260954628,
          118.39340891677544,
          117.70357522400461,
          117.01374153123378,
          116.32390783846294,
          115.63407414569211,
          114.94424045292128,
          114.25440676015045,
          113.56457306737961,
          112.87473937460878,
          112.18490568183795,
          111.4950719890671,
          110.80523829629627,
          110.11540460352543,
          109.4255709107546,
          108.73573721798377,
          108.04590352521294,
          107.3560698324421,
          106.66623613967127,
          105.97640244690044,
          105.2865687541296,
          104.59673506135877,
          103.90690136858794,
          103.2170676758171,
          102.52723398304627,
          101.83740029027544,
          101.1475665975046,
          100.45773290473377,
          99.76789921196294,
          99.07806551919211,
          98.38823182642128,
          97.69839813365044,
          97.00856444087961,
          96.31873074810878,
          95.62889705533794,
          94.93906336256711,
          94.24922966979628,
          93.55939597702545,
          92.86956228425461,
          92.17972859148378,
          91.48989489871295,
          90.80006120594211,
          90.11022751317128,
          89.42039382040045,
          88.73056012762962,
          88.04072643485878,
          87.35089274208795,
          86.66105904931712,
          85.97122535654628,
          85.28139166377545,
          84.59155797100462,
          83.90172427823379,
          83.21189058546295,
          82.52205689269212
         ],
         "yaxis": "y4"
        }
       ],
       "layout": {
        "annotations": [
         {
          "font": {
           "size": 16
          },
          "showarrow": false,
          "text": "Sale Price by Neighborhood",
          "x": 0.5,
          "xanchor": "center",
          "xref": "paper",
          "y": 1,
          "yanchor": "bottom",
          "yref": "paper"
         },
         {
          "font": {
           "size": 16
          },
          "showarrow": false,
          "text": "Sale Price per Square Foot by Neighborhood",
          "x": 0.5,
          "xanchor": "center",
          "xref": "paper",
          "y": 0.73,
          "yanchor": "bottom",
          "yref": "paper"
         },
         {
          "font": {
           "size": 16
          },
          "showarrow": false,
          "text": "House Age during Sale",
          "x": 0.5,
          "xanchor": "center",
          "xref": "paper",
          "y": 0.46,
          "yanchor": "bottom",
          "yref": "paper"
         },
         {
          "font": {
           "size": 16
          },
          "showarrow": false,
          "text": "Sale Price per Square Foot versus House Age",
          "x": 0.5,
          "xanchor": "center",
          "xref": "paper",
          "y": 0.19,
          "yanchor": "bottom",
          "yref": "paper"
         }
        ],
        "barmode": "overlay",
        "height": 1200,
        "legend": {
         "orientation": "h",
         "x": 0.45,
         "xanchor": "left",
         "y": 1.1,
         "yanchor": "top"
        },
        "template": {
         "data": {
          "bar": [
           {
            "error_x": {
             "color": "#2a3f5f"
            },
            "error_y": {
             "color": "#2a3f5f"
            },
            "marker": {
             "line": {
              "color": "#E5ECF6",
              "width": 0.5
             },
             "pattern": {
              "fillmode": "overlay",
              "size": 10,
              "solidity": 0.2
             }
            },
            "type": "bar"
           }
          ],
          "barpolar": [
           {
            "marker": {
             "line": {
              "color": "#E5ECF6",
              "width": 0.5
             },
             "pattern": {
              "fillmode": "overlay",
              "size": 10,
              "solidity": 0.2
             }
            },
            "type": "barpolar"
           }
          ],
          "carpet": [
           {
            "aaxis": {
             "endlinecolor": "#2a3f5f",
             "gridcolor": "white",
             "linecolor": "white",
             "minorgridcolor": "white",
             "startlinecolor": "#2a3f5f"
            },
            "baxis": {
             "endlinecolor": "#2a3f5f",
             "gridcolor": "white",
             "linecolor": "white",
             "minorgridcolor": "white",
             "startlinecolor": "#2a3f5f"
            },
            "type": "carpet"
           }
          ],
          "choropleth": [
           {
            "colorbar": {
             "outlinewidth": 0,
             "ticks": ""
            },
            "type": "choropleth"
           }
          ],
          "contour": [
           {
            "colorbar": {
             "outlinewidth": 0,
             "ticks": ""
            },
            "colorscale": [
             [
              0,
              "#0d0887"
             ],
             [
              0.1111111111111111,
              "#46039f"
             ],
             [
              0.2222222222222222,
              "#7201a8"
             ],
             [
              0.3333333333333333,
              "#9c179e"
             ],
             [
              0.4444444444444444,
              "#bd3786"
             ],
             [
              0.5555555555555556,
              "#d8576b"
             ],
             [
              0.6666666666666666,
              "#ed7953"
             ],
             [
              0.7777777777777778,
              "#fb9f3a"
             ],
             [
              0.8888888888888888,
              "#fdca26"
             ],
             [
              1,
              "#f0f921"
             ]
            ],
            "type": "contour"
           }
          ],
          "contourcarpet": [
           {
            "colorbar": {
             "outlinewidth": 0,
             "ticks": ""
            },
            "type": "contourcarpet"
           }
          ],
          "heatmap": [
           {
            "colorbar": {
             "outlinewidth": 0,
             "ticks": ""
            },
            "colorscale": [
             [
              0,
              "#0d0887"
             ],
             [
              0.1111111111111111,
              "#46039f"
             ],
             [
              0.2222222222222222,
              "#7201a8"
             ],
             [
              0.3333333333333333,
              "#9c179e"
             ],
             [
              0.4444444444444444,
              "#bd3786"
             ],
             [
              0.5555555555555556,
              "#d8576b"
             ],
             [
              0.6666666666666666,
              "#ed7953"
             ],
             [
              0.7777777777777778,
              "#fb9f3a"
             ],
             [
              0.8888888888888888,
              "#fdca26"
             ],
             [
              1,
              "#f0f921"
             ]
            ],
            "type": "heatmap"
           }
          ],
          "heatmapgl": [
           {
            "colorbar": {
             "outlinewidth": 0,
             "ticks": ""
            },
            "colorscale": [
             [
              0,
              "#0d0887"
             ],
             [
              0.1111111111111111,
              "#46039f"
             ],
             [
              0.2222222222222222,
              "#7201a8"
             ],
             [
              0.3333333333333333,
              "#9c179e"
             ],
             [
              0.4444444444444444,
              "#bd3786"
             ],
             [
              0.5555555555555556,
              "#d8576b"
             ],
             [
              0.6666666666666666,
              "#ed7953"
             ],
             [
              0.7777777777777778,
              "#fb9f3a"
             ],
             [
              0.8888888888888888,
              "#fdca26"
             ],
             [
              1,
              "#f0f921"
             ]
            ],
            "type": "heatmapgl"
           }
          ],
          "histogram": [
           {
            "marker": {
             "pattern": {
              "fillmode": "overlay",
              "size": 10,
              "solidity": 0.2
             }
            },
            "type": "histogram"
           }
          ],
          "histogram2d": [
           {
            "colorbar": {
             "outlinewidth": 0,
             "ticks": ""
            },
            "colorscale": [
             [
              0,
              "#0d0887"
             ],
             [
              0.1111111111111111,
              "#46039f"
             ],
             [
              0.2222222222222222,
              "#7201a8"
             ],
             [
              0.3333333333333333,
              "#9c179e"
             ],
             [
              0.4444444444444444,
              "#bd3786"
             ],
             [
              0.5555555555555556,
              "#d8576b"
             ],
             [
              0.6666666666666666,
              "#ed7953"
             ],
             [
              0.7777777777777778,
              "#fb9f3a"
             ],
             [
              0.8888888888888888,
              "#fdca26"
             ],
             [
              1,
              "#f0f921"
             ]
            ],
            "type": "histogram2d"
           }
          ],
          "histogram2dcontour": [
           {
            "colorbar": {
             "outlinewidth": 0,
             "ticks": ""
            },
            "colorscale": [
             [
              0,
              "#0d0887"
             ],
             [
              0.1111111111111111,
              "#46039f"
             ],
             [
              0.2222222222222222,
              "#7201a8"
             ],
             [
              0.3333333333333333,
              "#9c179e"
             ],
             [
              0.4444444444444444,
              "#bd3786"
             ],
             [
              0.5555555555555556,
              "#d8576b"
             ],
             [
              0.6666666666666666,
              "#ed7953"
             ],
             [
              0.7777777777777778,
              "#fb9f3a"
             ],
             [
              0.8888888888888888,
              "#fdca26"
             ],
             [
              1,
              "#f0f921"
             ]
            ],
            "type": "histogram2dcontour"
           }
          ],
          "mesh3d": [
           {
            "colorbar": {
             "outlinewidth": 0,
             "ticks": ""
            },
            "type": "mesh3d"
           }
          ],
          "parcoords": [
           {
            "line": {
             "colorbar": {
              "outlinewidth": 0,
              "ticks": ""
             }
            },
            "type": "parcoords"
           }
          ],
          "pie": [
           {
            "automargin": true,
            "type": "pie"
           }
          ],
          "scatter": [
           {
            "fillpattern": {
             "fillmode": "overlay",
             "size": 10,
             "solidity": 0.2
            },
            "type": "scatter"
           }
          ],
          "scatter3d": [
           {
            "line": {
             "colorbar": {
              "outlinewidth": 0,
              "ticks": ""
             }
            },
            "marker": {
             "colorbar": {
              "outlinewidth": 0,
              "ticks": ""
             }
            },
            "type": "scatter3d"
           }
          ],
          "scattercarpet": [
           {
            "marker": {
             "colorbar": {
              "outlinewidth": 0,
              "ticks": ""
             }
            },
            "type": "scattercarpet"
           }
          ],
          "scattergeo": [
           {
            "marker": {
             "colorbar": {
              "outlinewidth": 0,
              "ticks": ""
             }
            },
            "type": "scattergeo"
           }
          ],
          "scattergl": [
           {
            "marker": {
             "colorbar": {
              "outlinewidth": 0,
              "ticks": ""
             }
            },
            "type": "scattergl"
           }
          ],
          "scattermapbox": [
           {
            "marker": {
             "colorbar": {
              "outlinewidth": 0,
              "ticks": ""
             }
            },
            "type": "scattermapbox"
           }
          ],
          "scatterpolar": [
           {
            "marker": {
             "colorbar": {
              "outlinewidth": 0,
              "ticks": ""
             }
            },
            "type": "scatterpolar"
           }
          ],
          "scatterpolargl": [
           {
            "marker": {
             "colorbar": {
              "outlinewidth": 0,
              "ticks": ""
             }
            },
            "type": "scatterpolargl"
           }
          ],
          "scatterternary": [
           {
            "marker": {
             "colorbar": {
              "outlinewidth": 0,
              "ticks": ""
             }
            },
            "type": "scatterternary"
           }
          ],
          "surface": [
           {
            "colorbar": {
             "outlinewidth": 0,
             "ticks": ""
            },
            "colorscale": [
             [
              0,
              "#0d0887"
             ],
             [
              0.1111111111111111,
              "#46039f"
             ],
             [
              0.2222222222222222,
              "#7201a8"
             ],
             [
              0.3333333333333333,
              "#9c179e"
             ],
             [
              0.4444444444444444,
              "#bd3786"
             ],
             [
              0.5555555555555556,
              "#d8576b"
             ],
             [
              0.6666666666666666,
              "#ed7953"
             ],
             [
              0.7777777777777778,
              "#fb9f3a"
             ],
             [
              0.8888888888888888,
              "#fdca26"
             ],
             [
              1,
              "#f0f921"
             ]
            ],
            "type": "surface"
           }
          ],
          "table": [
           {
            "cells": {
             "fill": {
              "color": "#EBF0F8"
             },
             "line": {
              "color": "white"
             }
            },
            "header": {
             "fill": {
              "color": "#C8D4E3"
             },
             "line": {
              "color": "white"
             }
            },
            "type": "table"
           }
          ]
         },
         "layout": {
          "annotationdefaults": {
           "arrowcolor": "#2a3f5f",
           "arrowhead": 0,
           "arrowwidth": 1
          },
          "autotypenumbers": "strict",
          "coloraxis": {
           "colorbar": {
            "outlinewidth": 0,
            "ticks": ""
           }
          },
          "colorscale": {
           "diverging": [
            [
             0,
             "#8e0152"
            ],
            [
             0.1,
             "#c51b7d"
            ],
            [
             0.2,
             "#de77ae"
            ],
            [
             0.3,
             "#f1b6da"
            ],
            [
             0.4,
             "#fde0ef"
            ],
            [
             0.5,
             "#f7f7f7"
            ],
            [
             0.6,
             "#e6f5d0"
            ],
            [
             0.7,
             "#b8e186"
            ],
            [
             0.8,
             "#7fbc41"
            ],
            [
             0.9,
             "#4d9221"
            ],
            [
             1,
             "#276419"
            ]
           ],
           "sequential": [
            [
             0,
             "#0d0887"
            ],
            [
             0.1111111111111111,
             "#46039f"
            ],
            [
             0.2222222222222222,
             "#7201a8"
            ],
            [
             0.3333333333333333,
             "#9c179e"
            ],
            [
             0.4444444444444444,
             "#bd3786"
            ],
            [
             0.5555555555555556,
             "#d8576b"
            ],
            [
             0.6666666666666666,
             "#ed7953"
            ],
            [
             0.7777777777777778,
             "#fb9f3a"
            ],
            [
             0.8888888888888888,
             "#fdca26"
            ],
            [
             1,
             "#f0f921"
            ]
           ],
           "sequentialminus": [
            [
             0,
             "#0d0887"
            ],
            [
             0.1111111111111111,
             "#46039f"
            ],
            [
             0.2222222222222222,
             "#7201a8"
            ],
            [
             0.3333333333333333,
             "#9c179e"
            ],
            [
             0.4444444444444444,
             "#bd3786"
            ],
            [
             0.5555555555555556,
             "#d8576b"
            ],
            [
             0.6666666666666666,
             "#ed7953"
            ],
            [
             0.7777777777777778,
             "#fb9f3a"
            ],
            [
             0.8888888888888888,
             "#fdca26"
            ],
            [
             1,
             "#f0f921"
            ]
           ]
          },
          "colorway": [
           "#636efa",
           "#EF553B",
           "#00cc96",
           "#ab63fa",
           "#FFA15A",
           "#19d3f3",
           "#FF6692",
           "#B6E880",
           "#FF97FF",
           "#FECB52"
          ],
          "font": {
           "color": "#2a3f5f"
          },
          "geo": {
           "bgcolor": "white",
           "lakecolor": "white",
           "landcolor": "#E5ECF6",
           "showlakes": true,
           "showland": true,
           "subunitcolor": "white"
          },
          "hoverlabel": {
           "align": "left"
          },
          "hovermode": "closest",
          "mapbox": {
           "style": "light"
          },
          "paper_bgcolor": "white",
          "plot_bgcolor": "#E5ECF6",
          "polar": {
           "angularaxis": {
            "gridcolor": "white",
            "linecolor": "white",
            "ticks": ""
           },
           "bgcolor": "#E5ECF6",
           "radialaxis": {
            "gridcolor": "white",
            "linecolor": "white",
            "ticks": ""
           }
          },
          "scene": {
           "xaxis": {
            "backgroundcolor": "#E5ECF6",
            "gridcolor": "white",
            "gridwidth": 2,
            "linecolor": "white",
            "showbackground": true,
            "ticks": "",
            "zerolinecolor": "white"
           },
           "yaxis": {
            "backgroundcolor": "#E5ECF6",
            "gridcolor": "white",
            "gridwidth": 2,
            "linecolor": "white",
            "showbackground": true,
            "ticks": "",
            "zerolinecolor": "white"
           },
           "zaxis": {
            "backgroundcolor": "#E5ECF6",
            "gridcolor": "white",
            "gridwidth": 2,
            "linecolor": "white",
            "showbackground": true,
            "ticks": "",
            "zerolinecolor": "white"
           }
          },
          "shapedefaults": {
           "line": {
            "color": "#2a3f5f"
           }
          },
          "ternary": {
           "aaxis": {
            "gridcolor": "white",
            "linecolor": "white",
            "ticks": ""
           },
           "baxis": {
            "gridcolor": "white",
            "linecolor": "white",
            "ticks": ""
           },
           "bgcolor": "#E5ECF6",
           "caxis": {
            "gridcolor": "white",
            "linecolor": "white",
            "ticks": ""
           }
          },
          "title": {
           "x": 0.05
          },
          "xaxis": {
           "automargin": true,
           "gridcolor": "white",
           "linecolor": "white",
           "ticks": "",
           "title": {
            "standoff": 15
           },
           "zerolinecolor": "white",
           "zerolinewidth": 2
          },
          "yaxis": {
           "automargin": true,
           "gridcolor": "white",
           "linecolor": "white",
           "ticks": "",
           "title": {
            "standoff": 15
           },
           "zerolinecolor": "white",
           "zerolinewidth": 2
          }
         }
        },
        "xaxis": {
         "anchor": "y",
         "domain": [
          0,
          1
         ]
        },
        "xaxis2": {
         "anchor": "y2",
         "domain": [
          0,
          1
         ]
        },
        "xaxis3": {
         "anchor": "y3",
         "domain": [
          0,
          1
         ]
        },
        "xaxis4": {
         "anchor": "y4",
         "domain": [
          0,
          1
         ],
         "title": {
          "text": "house age during sale (years)"
         }
        },
        "yaxis": {
         "anchor": "x",
         "domain": [
          0.81,
          1
         ],
         "range": [
          -380000,
          380000
         ],
         "showticklabels": false
        },
        "yaxis2": {
         "anchor": "x2",
         "domain": [
          0.54,
          0.73
         ],
         "showticklabels": false
        },
        "yaxis3": {
         "anchor": "x3",
         "domain": [
          0.27,
          0.46
         ],
         "showticklabels": false
        },
        "yaxis4": {
         "anchor": "x4",
         "domain": [
          0,
          0.19
         ],
         "showticklabels": true,
         "title": {
          "text": "sale price per square foot"
         }
        }
       }
      }
     },
     "metadata": {},
     "output_type": "display_data"
    }
   ],
   "source": [
    "linregress_result = linregress(x=house_neighborhood[(\"age_sold\", \"mean\")], y=house_neighborhood[\"mean_scaled\"])\n",
    "linregress_result\n",
    "\n",
    "dummy_x = [val for val in range(87)]\n",
    "dummy_y = [linregress_result[0]*val + linregress_result[1] for val in dummy_x]\n",
    "\n",
    "fig_eda_1 = make_subplots(rows=4, cols=1, \n",
    "                          subplot_titles=[\"Sale Price by Neighborhood\", \"Sale Price per Square Foot by Neighborhood\",\n",
    "                                          \"House Age during Sale\", \"Sale Price per Square Foot versus House Age\"],\n",
    "                            vertical_spacing=0.08)\n",
    "\n",
    "fig_eda_1.add_trace( go.Bar(y=house_neighborhood[\"sale_price\"][\"mean\"], x=house_neighborhood[\"neighborhood\"], orientation=\"v\",\n",
    "                        text=house_neighborhood[\"sale_price\"][\"mean\"], texttemplate='$ %{text:,.0f}', marker_color=\"#811331\",\n",
    "                        showlegend=True, legendgroup=\"mean\", name=\"mean\"), \n",
    "                 row=1, col=1)\n",
    "\n",
    "fig_eda_1.add_trace( go.Bar(y=-1*house_neighborhood[\"sale_price\"][\"median\"], x=house_neighborhood[\"neighborhood\"], orientation=\"v\", \n",
    "                        text=house_neighborhood[\"sale_price\"][\"median\"], texttemplate='$ %{text:,.0f}', \n",
    "                        marker_color=\"#0F52BA\",\n",
    "                        showlegend=True, legendgroup=\"median\", name=\"median\"), \n",
    "                 row=1, col=1)\n",
    "\n",
    "fig_eda_1.add_trace( go.Bar(y=house_neighborhood[\"mean_scaled\"], x=house_neighborhood[\"neighborhood\"], orientation=\"v\",\n",
    "                        text=house_neighborhood[\"mean_scaled\"], texttemplate='$ %{text:,.0f}', marker_color=\"#811331\",\n",
    "                        showlegend=False, legendgroup=\"mean\", name=\"mean\"), \n",
    "                 row=2, col=1)\n",
    "\n",
    "fig_eda_1.add_trace( go.Bar(y=-1*house_neighborhood[\"median_scaled\"], x=house_neighborhood[\"neighborhood\"], orientation=\"v\", \n",
    "                        text=house_neighborhood[\"median_scaled\"], texttemplate='$ %{text:,.0f}', \n",
    "                        marker_color=\"#0F52BA\",\n",
    "                        showlegend=False, legendgroup=\"median\", name=\"median\"), \n",
    "                 row=2, col=1)\n",
    "\n",
    "fig_eda_1.add_trace( go.Bar(y=house_neighborhood[\"age_sold\"][\"mean\"], x=house_neighborhood[\"neighborhood\"], orientation=\"v\",\n",
    "                        text=house_neighborhood[\"age_sold\"][\"mean\"], texttemplate='%{text:,.0f} years', marker_color=\"#811331\",\n",
    "                        showlegend=False, legendgroup=\"mean\", name=\"mean\"), \n",
    "                 row=3, col=1)\n",
    "\n",
    "fig_eda_1.add_trace( go.Bar(y=-1*house_neighborhood[\"age_sold\"][\"median\"], x=house_neighborhood[\"neighborhood\"], orientation=\"v\", \n",
    "                        text=house_neighborhood[\"age_sold\"][\"median\"], texttemplate='%{text:,.0f} years', \n",
    "                        marker_color=\"#0F52BA\",\n",
    "                        showlegend=False, legendgroup=\"median\", name=\"median\"), \n",
    "                 row=3, col=1)\n",
    "\n",
    "fig_eda_1.add_trace( go.Scatter(x=house_neighborhood[(\"age_sold\", \"mean\")], y=house_neighborhood[\"mean_scaled\"], \n",
    "                                mode=\"markers\", showlegend=False, marker=dict(color=\"#7D3C98\")),\n",
    "                    row=4, col=1)\n",
    "\n",
    "fig_eda_1.add_trace( go.Scatter(x=dummy_x, y=dummy_y, mode=\"lines\", showlegend=False, marker=dict(color=\"#AF7AC5\")),\n",
    "                    row=4, col=1)\n",
    "\n",
    "\n",
    "fig_eda_1.update_yaxes(showticklabels=False)\n",
    "\n",
    "fig_eda_1.update_xaxes(title_text=\"house age during sale (years)\", row=4)\n",
    "fig_eda_1.update_yaxes(title_text=\"sale price per square foot\", showticklabels=True, row=4)\n",
    "\n",
    "fig_eda_1.update_layout(height=1200, barmode=\"overlay\", yaxis1=dict(range=[-380000, 380000]),\n",
    "                        legend=dict(yanchor=\"top\", y=1.1, xanchor=\"left\", x=0.45, orientation=\"h\"))\n",
    "\n",
    "fig_eda_1.show()"
   ]
  },
  {
   "cell_type": "markdown",
   "metadata": {},
   "source": [
    "## Sale Price Fluctuation"
   ]
  },
  {
   "cell_type": "code",
   "execution_count": 182,
   "metadata": {},
   "outputs": [],
   "source": [
    "price_temporal = house_df[[\"yr_sold\", \"mo_sold\", \"gr_liv_area\", \"sale_price\"]]\n",
    "price_temporal[\"sale_date_str\"] = [\"{0}-{1}-01\".format(price_temporal.loc[val, \"yr_sold\"], price_temporal.loc[val, \"mo_sold\"]) for val in range(len(price_temporal))]\n",
    "price_temporal[\"date_sold\"] = pd.to_datetime(price_temporal[\"sale_date_str\"])\n",
    "price_temporal[\"price_per_sf\"] = price_temporal[\"sale_price\"]/price_temporal[\"gr_liv_area\"]\n",
    "\n",
    "\n",
    "price_temporal_ave = price_temporal.groupby(\"date_sold\").mean(numeric_only=True).reset_index()\n",
    "price_temporal_med = price_temporal.groupby(\"date_sold\").median(numeric_only=True).reset_index()\n",
    "\n",
    "\n",
    "# price_temporal_ave"
   ]
  },
  {
   "cell_type": "code",
   "execution_count": 190,
   "metadata": {},
   "outputs": [
    {
     "data": {
      "application/vnd.plotly.v1+json": {
       "config": {
        "plotlyServerURL": "https://plot.ly"
       },
       "data": [
        {
         "mode": "markers",
         "type": "scatter",
         "x": [
          "2008-02-01T00:00:00",
          "2007-05-01T00:00:00",
          "2008-09-01T00:00:00",
          "2006-02-01T00:00:00",
          "2008-12-01T00:00:00",
          "2009-10-01T00:00:00",
          "2007-08-01T00:00:00",
          "2009-11-01T00:00:00",
          "2008-04-01T00:00:00",
          "2008-01-01T00:00:00",
          "2008-02-01T00:00:00",
          "2006-07-01T00:00:00",
          "2008-09-01T00:00:00",
          "2007-08-01T00:00:00",
          "2008-05-01T00:00:00",
          "2007-07-01T00:00:00",
          "2010-03-01T00:00:00",
          "2006-10-01T00:00:00",
          "2008-06-01T00:00:00",
          "2009-05-01T00:00:00",
          "2006-11-01T00:00:00",
          "2007-06-01T00:00:00",
          "2008-09-01T00:00:00",
          "2007-06-01T00:00:00",
          "2010-05-01T00:00:00",
          "2009-07-01T00:00:00",
          "2010-05-01T00:00:00",
          "2010-05-01T00:00:00",
          "2006-12-01T00:00:00",
          "2008-05-01T00:00:00",
          "2008-07-01T00:00:00",
          "2008-06-01T00:00:00",
          "2008-01-01T00:00:00",
          "2010-04-01T00:00:00",
          "2007-08-01T00:00:00",
          "2006-09-01T00:00:00",
          "2009-06-01T00:00:00",
          "2009-10-01T00:00:00",
          "2010-01-01T00:00:00",
          "2008-06-01T00:00:00",
          "2006-12-01T00:00:00",
          "2007-07-01T00:00:00",
          "2007-12-01T00:00:00",
          "2008-07-01T00:00:00",
          "2006-05-01T00:00:00",
          "2010-02-01T00:00:00",
          "2009-08-01T00:00:00",
          "2007-07-01T00:00:00",
          "2009-06-01T00:00:00",
          "2007-01-01T00:00:00",
          "2007-07-01T00:00:00",
          "2006-09-01T00:00:00",
          "2010-05-01T00:00:00",
          "2006-11-01T00:00:00",
          "2007-02-01T00:00:00",
          "2008-07-01T00:00:00",
          "2009-08-01T00:00:00",
          "2006-08-01T00:00:00",
          "2006-10-01T00:00:00",
          "2008-01-01T00:00:00",
          "2006-05-01T00:00:00",
          "2007-03-01T00:00:00",
          "2007-10-01T00:00:00",
          "2010-04-01T00:00:00",
          "2009-02-01T00:00:00",
          "2007-10-01T00:00:00",
          "2010-07-01T00:00:00",
          "2007-06-01T00:00:00",
          "2010-06-01T00:00:00",
          "2006-07-01T00:00:00",
          "2007-02-01T00:00:00",
          "2007-06-01T00:00:00",
          "2009-12-01T00:00:00",
          "2010-05-01T00:00:00",
          "2010-05-01T00:00:00",
          "2009-11-01T00:00:00",
          "2008-04-01T00:00:00",
          "2008-01-01T00:00:00",
          "2010-04-01T00:00:00",
          "2009-05-01T00:00:00",
          "2009-06-01T00:00:00",
          "2006-03-01T00:00:00",
          "2008-10-01T00:00:00",
          "2007-07-01T00:00:00",
          "2009-05-01T00:00:00",
          "2006-04-01T00:00:00",
          "2009-03-01T00:00:00",
          "2009-06-01T00:00:00",
          "2009-10-01T00:00:00",
          "2007-08-01T00:00:00",
          "2006-07-01T00:00:00",
          "2006-12-01T00:00:00",
          "2009-08-01T00:00:00",
          "2007-11-01T00:00:00",
          "2007-05-01T00:00:00",
          "2009-04-01T00:00:00",
          "2006-08-01T00:00:00",
          "2007-05-01T00:00:00",
          "2010-05-01T00:00:00",
          "2010-01-01T00:00:00",
          "2010-02-01T00:00:00",
          "2010-06-01T00:00:00",
          "2009-06-01T00:00:00",
          "2010-05-01T00:00:00",
          "2007-06-01T00:00:00",
          "2008-08-01T00:00:00",
          "2007-08-01T00:00:00",
          "2008-04-01T00:00:00",
          "2007-08-01T00:00:00",
          "2010-01-01T00:00:00",
          "2006-10-01T00:00:00",
          "2010-04-01T00:00:00",
          "2007-10-01T00:00:00",
          "2007-10-01T00:00:00",
          "2007-07-01T00:00:00",
          "2007-06-01T00:00:00",
          "2009-09-01T00:00:00",
          "2007-04-01T00:00:00",
          "2010-05-01T00:00:00",
          "2006-07-01T00:00:00",
          "2006-10-01T00:00:00",
          "2007-06-01T00:00:00",
          "2008-06-01T00:00:00",
          "2008-03-01T00:00:00",
          "2009-01-01T00:00:00",
          "2006-06-01T00:00:00",
          "2007-02-01T00:00:00",
          "2007-06-01T00:00:00",
          "2006-07-01T00:00:00",
          "2006-07-01T00:00:00",
          "2006-05-01T00:00:00",
          "2009-07-01T00:00:00",
          "2007-07-01T00:00:00",
          "2009-06-01T00:00:00",
          "2006-07-01T00:00:00",
          "2008-05-01T00:00:00",
          "2007-07-01T00:00:00",
          "2006-07-01T00:00:00",
          "2008-12-01T00:00:00",
          "2009-08-01T00:00:00",
          "2010-04-01T00:00:00",
          "2006-01-01T00:00:00",
          "2010-06-01T00:00:00",
          "2009-06-01T00:00:00",
          "2006-11-01T00:00:00",
          "2006-04-01T00:00:00",
          "2009-11-01T00:00:00",
          "2010-05-01T00:00:00",
          "2008-04-01T00:00:00",
          "2006-04-01T00:00:00",
          "2007-01-01T00:00:00",
          "2008-01-01T00:00:00",
          "2006-06-01T00:00:00",
          "2008-03-01T00:00:00",
          "2006-03-01T00:00:00",
          "2008-04-01T00:00:00",
          "2006-06-01T00:00:00",
          "2010-05-01T00:00:00",
          "2010-05-01T00:00:00",
          "2006-03-01T00:00:00",
          "2008-06-01T00:00:00",
          "2008-03-01T00:00:00",
          "2010-05-01T00:00:00",
          "2007-04-01T00:00:00",
          "2007-10-01T00:00:00",
          "2008-09-01T00:00:00",
          "2009-11-01T00:00:00",
          "2007-11-01T00:00:00",
          "2007-05-01T00:00:00",
          "2006-01-01T00:00:00",
          "2007-05-01T00:00:00",
          "2010-05-01T00:00:00",
          "2006-06-01T00:00:00",
          "2008-06-01T00:00:00",
          "2008-11-01T00:00:00",
          "2007-06-01T00:00:00",
          "2007-09-01T00:00:00",
          "2006-07-01T00:00:00",
          "2009-07-01T00:00:00",
          "2007-07-01T00:00:00",
          "2007-06-01T00:00:00",
          "2006-07-01T00:00:00",
          "2007-06-01T00:00:00",
          "2008-06-01T00:00:00",
          "2006-06-01T00:00:00",
          "2006-06-01T00:00:00",
          "2009-06-01T00:00:00",
          "2009-08-01T00:00:00",
          "2009-06-01T00:00:00",
          "2008-08-01T00:00:00",
          "2007-12-01T00:00:00",
          "2007-06-01T00:00:00",
          "2009-09-01T00:00:00",
          "2006-05-01T00:00:00",
          "2008-05-01T00:00:00",
          "2009-07-01T00:00:00",
          "2007-09-01T00:00:00",
          "2006-03-01T00:00:00",
          "2009-07-01T00:00:00",
          "2009-01-01T00:00:00",
          "2010-03-01T00:00:00",
          "2008-02-01T00:00:00",
          "2006-05-01T00:00:00",
          "2008-01-01T00:00:00",
          "2009-04-01T00:00:00",
          "2009-05-01T00:00:00",
          "2007-03-01T00:00:00",
          "2008-04-01T00:00:00",
          "2007-04-01T00:00:00",
          "2008-07-01T00:00:00",
          "2008-04-01T00:00:00",
          "2010-03-01T00:00:00",
          "2009-07-01T00:00:00",
          "2006-07-01T00:00:00",
          "2010-03-01T00:00:00",
          "2006-05-01T00:00:00",
          "2008-04-01T00:00:00",
          "2006-09-01T00:00:00",
          "2008-05-01T00:00:00",
          "2006-03-01T00:00:00",
          "2006-04-01T00:00:00",
          "2009-12-01T00:00:00",
          "2006-02-01T00:00:00",
          "2009-03-01T00:00:00",
          "2009-06-01T00:00:00",
          "2009-05-01T00:00:00",
          "2007-06-01T00:00:00",
          "2008-09-01T00:00:00",
          "2010-05-01T00:00:00",
          "2009-05-01T00:00:00",
          "2010-04-01T00:00:00",
          "2009-07-01T00:00:00",
          "2006-06-01T00:00:00",
          "2010-02-01T00:00:00",
          "2010-05-01T00:00:00",
          "2008-08-01T00:00:00",
          "2010-05-01T00:00:00",
          "2010-02-01T00:00:00",
          "2007-12-01T00:00:00",
          "2010-04-01T00:00:00",
          "2010-04-01T00:00:00",
          "2007-08-01T00:00:00",
          "2006-04-01T00:00:00",
          "2009-04-01T00:00:00",
          "2010-05-01T00:00:00",
          "2006-06-01T00:00:00",
          "2006-04-01T00:00:00",
          "2006-06-01T00:00:00",
          "2007-09-01T00:00:00",
          "2007-06-01T00:00:00",
          "2010-05-01T00:00:00",
          "2007-12-01T00:00:00",
          "2008-12-01T00:00:00",
          "2007-10-01T00:00:00",
          "2010-06-01T00:00:00",
          "2006-02-01T00:00:00",
          "2008-05-01T00:00:00",
          "2009-03-01T00:00:00",
          "2008-05-01T00:00:00",
          "2008-12-01T00:00:00",
          "2009-05-01T00:00:00",
          "2007-11-01T00:00:00",
          "2006-07-01T00:00:00",
          "2010-04-01T00:00:00",
          "2008-06-01T00:00:00",
          "2008-06-01T00:00:00",
          "2006-06-01T00:00:00",
          "2008-07-01T00:00:00",
          "2008-02-01T00:00:00",
          "2007-05-01T00:00:00",
          "2006-08-01T00:00:00",
          "2008-04-01T00:00:00",
          "2010-04-01T00:00:00",
          "2009-04-01T00:00:00",
          "2007-06-01T00:00:00",
          "2009-10-01T00:00:00",
          "2010-04-01T00:00:00",
          "2010-06-01T00:00:00",
          "2007-05-01T00:00:00",
          "2008-03-01T00:00:00",
          "2007-01-01T00:00:00",
          "2006-05-01T00:00:00",
          "2009-04-01T00:00:00",
          "2009-12-01T00:00:00",
          "2007-07-01T00:00:00",
          "2007-06-01T00:00:00",
          "2006-06-01T00:00:00",
          "2006-06-01T00:00:00",
          "2010-02-01T00:00:00",
          "2007-07-01T00:00:00",
          "2006-07-01T00:00:00",
          "2008-03-01T00:00:00",
          "2009-01-01T00:00:00",
          "2006-03-01T00:00:00",
          "2009-10-01T00:00:00",
          "2006-03-01T00:00:00",
          "2007-06-01T00:00:00",
          "2007-06-01T00:00:00",
          "2007-06-01T00:00:00",
          "2009-08-01T00:00:00",
          "2006-06-01T00:00:00",
          "2007-05-01T00:00:00",
          "2006-01-01T00:00:00",
          "2006-07-01T00:00:00",
          "2008-05-01T00:00:00",
          "2007-07-01T00:00:00",
          "2007-06-01T00:00:00",
          "2008-03-01T00:00:00",
          "2009-03-01T00:00:00",
          "2006-11-01T00:00:00",
          "2006-05-01T00:00:00",
          "2009-05-01T00:00:00",
          "2006-05-01T00:00:00",
          "2009-06-01T00:00:00",
          "2006-08-01T00:00:00",
          "2009-07-01T00:00:00",
          "2009-08-01T00:00:00",
          "2007-12-01T00:00:00",
          "2009-04-01T00:00:00",
          "2009-06-01T00:00:00",
          "2006-09-01T00:00:00",
          "2007-06-01T00:00:00",
          "2007-08-01T00:00:00",
          "2006-07-01T00:00:00",
          "2010-06-01T00:00:00",
          "2007-12-01T00:00:00",
          "2008-05-01T00:00:00",
          "2006-04-01T00:00:00",
          "2009-07-01T00:00:00",
          "2009-07-01T00:00:00",
          "2007-11-01T00:00:00",
          "2007-08-01T00:00:00",
          "2009-10-01T00:00:00",
          "2008-07-01T00:00:00",
          "2008-07-01T00:00:00",
          "2008-08-01T00:00:00",
          "2007-07-01T00:00:00",
          "2008-12-01T00:00:00",
          "2006-05-01T00:00:00",
          "2009-06-01T00:00:00",
          "2010-04-01T00:00:00",
          "2009-09-01T00:00:00",
          "2006-05-01T00:00:00",
          "2008-07-01T00:00:00",
          "2010-04-01T00:00:00",
          "2006-10-01T00:00:00",
          "2007-04-01T00:00:00",
          "2009-12-01T00:00:00",
          "2008-10-01T00:00:00",
          "2006-04-01T00:00:00",
          "2007-12-01T00:00:00",
          "2006-12-01T00:00:00",
          "2008-03-01T00:00:00",
          "2010-05-01T00:00:00",
          "2006-06-01T00:00:00",
          "2007-08-01T00:00:00",
          "2009-07-01T00:00:00",
          "2007-08-01T00:00:00",
          "2006-07-01T00:00:00",
          "2006-06-01T00:00:00",
          "2007-06-01T00:00:00",
          "2008-07-01T00:00:00",
          "2009-07-01T00:00:00",
          "2009-05-01T00:00:00",
          "2006-07-01T00:00:00",
          "2009-07-01T00:00:00",
          "2009-07-01T00:00:00",
          "2008-12-01T00:00:00",
          "2010-03-01T00:00:00",
          "2010-03-01T00:00:00",
          "2006-01-01T00:00:00",
          "2008-07-01T00:00:00",
          "2010-02-01T00:00:00",
          "2009-11-01T00:00:00",
          "2007-07-01T00:00:00",
          "2009-03-01T00:00:00",
          "2006-07-01T00:00:00",
          "2007-12-01T00:00:00",
          "2010-06-01T00:00:00",
          "2009-06-01T00:00:00",
          "2010-05-01T00:00:00",
          "2006-08-01T00:00:00",
          "2007-04-01T00:00:00",
          "2009-10-01T00:00:00",
          "2007-06-01T00:00:00",
          "2010-04-01T00:00:00",
          "2006-05-01T00:00:00",
          "2009-10-01T00:00:00",
          "2008-07-01T00:00:00",
          "2008-08-01T00:00:00",
          "2008-04-01T00:00:00",
          "2009-06-01T00:00:00",
          "2007-07-01T00:00:00",
          "2006-04-01T00:00:00",
          "2007-07-01T00:00:00",
          "2010-06-01T00:00:00",
          "2009-09-01T00:00:00",
          "2007-07-01T00:00:00",
          "2007-11-01T00:00:00",
          "2009-10-01T00:00:00",
          "2008-12-01T00:00:00",
          "2006-07-01T00:00:00",
          "2008-08-01T00:00:00",
          "2006-07-01T00:00:00",
          "2007-05-01T00:00:00",
          "2009-06-01T00:00:00",
          "2008-03-01T00:00:00",
          "2008-03-01T00:00:00",
          "2007-08-01T00:00:00",
          "2008-04-01T00:00:00",
          "2009-06-01T00:00:00",
          "2006-01-01T00:00:00",
          "2010-06-01T00:00:00",
          "2010-03-01T00:00:00",
          "2008-12-01T00:00:00",
          "2007-08-01T00:00:00",
          "2006-03-01T00:00:00",
          "2007-11-01T00:00:00",
          "2007-04-01T00:00:00",
          "2010-07-01T00:00:00",
          "2008-11-01T00:00:00",
          "2009-06-01T00:00:00",
          "2008-02-01T00:00:00",
          "2008-06-01T00:00:00",
          "2008-05-01T00:00:00",
          "2009-09-01T00:00:00",
          "2009-08-01T00:00:00",
          "2008-07-01T00:00:00",
          "2007-09-01T00:00:00",
          "2009-03-01T00:00:00",
          "2008-07-01T00:00:00",
          "2008-09-01T00:00:00",
          "2007-08-01T00:00:00",
          "2008-07-01T00:00:00",
          "2008-06-01T00:00:00",
          "2009-04-01T00:00:00",
          "2006-10-01T00:00:00",
          "2009-01-01T00:00:00",
          "2007-03-01T00:00:00",
          "2009-08-01T00:00:00",
          "2009-04-01T00:00:00",
          "2008-09-01T00:00:00",
          "2008-06-01T00:00:00",
          "2007-06-01T00:00:00",
          "2008-07-01T00:00:00",
          "2009-11-01T00:00:00",
          "2010-06-01T00:00:00",
          "2006-07-01T00:00:00",
          "2006-06-01T00:00:00",
          "2007-06-01T00:00:00",
          "2006-06-01T00:00:00",
          "2006-12-01T00:00:00",
          "2007-07-01T00:00:00",
          "2009-06-01T00:00:00",
          "2006-07-01T00:00:00",
          "2007-09-01T00:00:00",
          "2008-05-01T00:00:00",
          "2008-03-01T00:00:00",
          "2008-06-01T00:00:00",
          "2009-07-01T00:00:00",
          "2009-12-01T00:00:00",
          "2009-04-01T00:00:00",
          "2009-12-01T00:00:00",
          "2008-08-01T00:00:00",
          "2009-08-01T00:00:00",
          "2006-05-01T00:00:00",
          "2007-04-01T00:00:00",
          "2007-06-01T00:00:00",
          "2007-05-01T00:00:00",
          "2008-06-01T00:00:00",
          "2010-06-01T00:00:00",
          "2007-11-01T00:00:00",
          "2008-06-01T00:00:00",
          "2007-07-01T00:00:00",
          "2007-08-01T00:00:00",
          "2007-07-01T00:00:00",
          "2008-04-01T00:00:00",
          "2007-03-01T00:00:00",
          "2009-09-01T00:00:00",
          "2007-03-01T00:00:00",
          "2006-03-01T00:00:00",
          "2006-08-01T00:00:00",
          "2009-06-01T00:00:00",
          "2006-05-01T00:00:00",
          "2007-03-01T00:00:00",
          "2009-07-01T00:00:00",
          "2007-06-01T00:00:00",
          "2007-02-01T00:00:00",
          "2006-05-01T00:00:00",
          "2009-05-01T00:00:00",
          "2008-06-01T00:00:00",
          "2006-08-01T00:00:00",
          "2006-05-01T00:00:00",
          "2008-06-01T00:00:00",
          "2009-12-01T00:00:00",
          "2009-11-01T00:00:00",
          "2007-05-01T00:00:00",
          "2008-06-01T00:00:00",
          "2009-06-01T00:00:00",
          "2007-06-01T00:00:00",
          "2007-05-01T00:00:00",
          "2008-02-01T00:00:00",
          "2007-04-01T00:00:00",
          "2010-03-01T00:00:00",
          "2009-06-01T00:00:00",
          "2009-07-01T00:00:00",
          "2006-09-01T00:00:00",
          "2009-09-01T00:00:00",
          "2008-10-01T00:00:00",
          "2009-07-01T00:00:00",
          "2009-06-01T00:00:00",
          "2006-03-01T00:00:00",
          "2006-07-01T00:00:00",
          "2007-06-01T00:00:00",
          "2007-06-01T00:00:00",
          "2009-09-01T00:00:00",
          "2009-08-01T00:00:00",
          "2009-07-01T00:00:00",
          "2007-05-01T00:00:00",
          "2009-06-01T00:00:00",
          "2008-08-01T00:00:00",
          "2007-05-01T00:00:00",
          "2006-10-01T00:00:00",
          "2007-10-01T00:00:00",
          "2007-08-01T00:00:00",
          "2006-04-01T00:00:00",
          "2007-06-01T00:00:00",
          "2008-11-01T00:00:00",
          "2007-07-01T00:00:00",
          "2007-03-01T00:00:00",
          "2008-08-01T00:00:00",
          "2008-06-01T00:00:00",
          "2010-04-01T00:00:00",
          "2007-01-01T00:00:00",
          "2006-10-01T00:00:00",
          "2008-01-01T00:00:00",
          "2008-07-01T00:00:00",
          "2008-04-01T00:00:00",
          "2006-07-01T00:00:00",
          "2010-05-01T00:00:00",
          "2009-03-01T00:00:00",
          "2007-06-01T00:00:00",
          "2009-06-01T00:00:00",
          "2007-06-01T00:00:00",
          "2006-09-01T00:00:00",
          "2006-02-01T00:00:00",
          "2007-05-01T00:00:00",
          "2007-04-01T00:00:00",
          "2008-06-01T00:00:00",
          "2009-11-01T00:00:00",
          "2008-10-01T00:00:00",
          "2008-06-01T00:00:00",
          "2009-07-01T00:00:00",
          "2009-05-01T00:00:00",
          "2008-08-01T00:00:00",
          "2006-08-01T00:00:00",
          "2006-05-01T00:00:00",
          "2006-09-01T00:00:00",
          "2008-08-01T00:00:00",
          "2006-10-01T00:00:00",
          "2010-05-01T00:00:00",
          "2006-04-01T00:00:00",
          "2008-07-01T00:00:00",
          "2008-07-01T00:00:00",
          "2006-07-01T00:00:00",
          "2010-05-01T00:00:00",
          "2008-06-01T00:00:00",
          "2010-03-01T00:00:00",
          "2009-09-01T00:00:00",
          "2006-12-01T00:00:00",
          "2008-11-01T00:00:00",
          "2006-10-01T00:00:00",
          "2009-07-01T00:00:00",
          "2007-12-01T00:00:00",
          "2007-12-01T00:00:00",
          "2008-10-01T00:00:00",
          "2009-08-01T00:00:00",
          "2006-05-01T00:00:00",
          "2008-02-01T00:00:00",
          "2008-11-01T00:00:00",
          "2007-06-01T00:00:00",
          "2009-08-01T00:00:00",
          "2007-05-01T00:00:00",
          "2008-07-01T00:00:00",
          "2009-07-01T00:00:00",
          "2006-03-01T00:00:00",
          "2008-05-01T00:00:00",
          "2009-07-01T00:00:00",
          "2009-06-01T00:00:00",
          "2008-08-01T00:00:00",
          "2008-09-01T00:00:00",
          "2009-06-01T00:00:00",
          "2008-06-01T00:00:00",
          "2009-05-01T00:00:00",
          "2008-04-01T00:00:00",
          "2006-08-01T00:00:00",
          "2006-10-01T00:00:00",
          "2007-02-01T00:00:00",
          "2006-03-01T00:00:00",
          "2008-07-01T00:00:00",
          "2006-06-01T00:00:00",
          "2007-12-01T00:00:00",
          "2006-02-01T00:00:00",
          "2010-06-01T00:00:00",
          "2008-09-01T00:00:00",
          "2009-10-01T00:00:00",
          "2009-11-01T00:00:00",
          "2006-08-01T00:00:00",
          "2007-09-01T00:00:00",
          "2007-04-01T00:00:00",
          "2009-05-01T00:00:00",
          "2007-07-01T00:00:00",
          "2009-11-01T00:00:00",
          "2007-12-01T00:00:00",
          "2010-05-01T00:00:00",
          "2010-05-01T00:00:00",
          "2006-06-01T00:00:00",
          "2008-06-01T00:00:00",
          "2007-07-01T00:00:00",
          "2008-08-01T00:00:00",
          "2008-09-01T00:00:00",
          "2008-06-01T00:00:00",
          "2009-07-01T00:00:00",
          "2007-06-01T00:00:00",
          "2006-11-01T00:00:00",
          "2010-02-01T00:00:00",
          "2007-08-01T00:00:00",
          "2010-03-01T00:00:00",
          "2007-09-01T00:00:00",
          "2008-06-01T00:00:00",
          "2006-06-01T00:00:00",
          "2007-08-01T00:00:00",
          "2009-04-01T00:00:00",
          "2007-07-01T00:00:00",
          "2010-06-01T00:00:00",
          "2007-03-01T00:00:00",
          "2009-01-01T00:00:00",
          "2009-11-01T00:00:00",
          "2008-05-01T00:00:00",
          "2006-10-01T00:00:00",
          "2008-04-01T00:00:00",
          "2007-05-01T00:00:00",
          "2009-07-01T00:00:00",
          "2007-04-01T00:00:00",
          "2009-10-01T00:00:00",
          "2007-03-01T00:00:00",
          "2008-07-01T00:00:00",
          "2008-06-01T00:00:00",
          "2010-06-01T00:00:00",
          "2007-12-01T00:00:00",
          "2008-05-01T00:00:00",
          "2009-10-01T00:00:00",
          "2009-07-01T00:00:00",
          "2008-06-01T00:00:00",
          "2008-08-01T00:00:00",
          "2010-03-01T00:00:00",
          "2008-08-01T00:00:00",
          "2008-02-01T00:00:00",
          "2010-01-01T00:00:00",
          "2009-03-01T00:00:00",
          "2007-11-01T00:00:00",
          "2009-07-01T00:00:00",
          "2009-07-01T00:00:00",
          "2008-04-01T00:00:00",
          "2006-01-01T00:00:00",
          "2006-11-01T00:00:00",
          "2007-08-01T00:00:00",
          "2008-10-01T00:00:00",
          "2006-11-01T00:00:00",
          "2006-07-01T00:00:00",
          "2009-02-01T00:00:00",
          "2009-07-01T00:00:00",
          "2006-06-01T00:00:00",
          "2007-06-01T00:00:00",
          "2008-07-01T00:00:00",
          "2009-04-01T00:00:00",
          "2006-05-01T00:00:00",
          "2009-05-01T00:00:00",
          "2009-07-01T00:00:00",
          "2007-10-01T00:00:00",
          "2010-05-01T00:00:00",
          "2009-07-01T00:00:00",
          "2008-11-01T00:00:00",
          "2007-07-01T00:00:00",
          "2010-06-01T00:00:00",
          "2007-09-01T00:00:00",
          "2007-08-01T00:00:00",
          "2007-03-01T00:00:00",
          "2007-10-01T00:00:00",
          "2007-06-01T00:00:00",
          "2008-05-01T00:00:00",
          "2007-01-01T00:00:00",
          "2006-04-01T00:00:00",
          "2006-12-01T00:00:00",
          "2009-04-01T00:00:00",
          "2006-07-01T00:00:00",
          "2006-06-01T00:00:00",
          "2006-09-01T00:00:00",
          "2010-04-01T00:00:00",
          "2008-07-01T00:00:00",
          "2006-05-01T00:00:00",
          "2006-07-01T00:00:00",
          "2006-07-01T00:00:00",
          "2010-05-01T00:00:00",
          "2010-05-01T00:00:00",
          "2010-07-01T00:00:00",
          "2007-06-01T00:00:00",
          "2009-12-01T00:00:00",
          "2007-07-01T00:00:00",
          "2008-12-01T00:00:00",
          "2008-07-01T00:00:00",
          "2010-01-01T00:00:00",
          "2008-10-01T00:00:00",
          "2006-05-01T00:00:00",
          "2010-03-01T00:00:00",
          "2009-08-01T00:00:00",
          "2007-07-01T00:00:00",
          "2008-11-01T00:00:00",
          "2008-08-01T00:00:00",
          "2006-05-01T00:00:00",
          "2006-12-01T00:00:00",
          "2010-05-01T00:00:00",
          "2009-07-01T00:00:00",
          "2008-05-01T00:00:00",
          "2009-02-01T00:00:00",
          "2009-11-01T00:00:00",
          "2009-12-01T00:00:00",
          "2009-02-01T00:00:00",
          "2009-07-01T00:00:00",
          "2009-01-01T00:00:00",
          "2010-03-01T00:00:00",
          "2007-05-01T00:00:00",
          "2008-07-01T00:00:00",
          "2009-03-01T00:00:00",
          "2007-05-01T00:00:00",
          "2006-10-01T00:00:00",
          "2006-07-01T00:00:00",
          "2006-06-01T00:00:00",
          "2009-03-01T00:00:00",
          "2009-04-01T00:00:00",
          "2007-05-01T00:00:00",
          "2008-05-01T00:00:00",
          "2007-12-01T00:00:00",
          "2009-10-01T00:00:00",
          "2008-10-01T00:00:00",
          "2008-07-01T00:00:00",
          "2009-04-01T00:00:00",
          "2009-05-01T00:00:00",
          "2010-03-01T00:00:00",
          "2009-04-01T00:00:00",
          "2010-06-01T00:00:00",
          "2007-08-01T00:00:00",
          "2006-07-01T00:00:00",
          "2006-03-01T00:00:00",
          "2009-07-01T00:00:00",
          "2009-03-01T00:00:00",
          "2009-04-01T00:00:00",
          "2010-04-01T00:00:00",
          "2008-08-01T00:00:00",
          "2007-11-01T00:00:00",
          "2009-10-01T00:00:00",
          "2009-10-01T00:00:00",
          "2010-06-01T00:00:00",
          "2009-07-01T00:00:00",
          "2006-04-01T00:00:00",
          "2008-08-01T00:00:00",
          "2010-03-01T00:00:00",
          "2008-07-01T00:00:00",
          "2006-10-01T00:00:00",
          "2010-06-01T00:00:00",
          "2009-04-01T00:00:00",
          "2006-04-01T00:00:00",
          "2010-03-01T00:00:00",
          "2007-07-01T00:00:00",
          "2007-07-01T00:00:00",
          "2009-06-01T00:00:00",
          "2006-07-01T00:00:00",
          "2006-06-01T00:00:00",
          "2007-10-01T00:00:00",
          "2006-05-01T00:00:00",
          "2007-06-01T00:00:00",
          "2006-07-01T00:00:00",
          "2009-06-01T00:00:00",
          "2009-07-01T00:00:00",
          "2008-06-01T00:00:00",
          "2009-09-01T00:00:00",
          "2010-06-01T00:00:00",
          "2010-01-01T00:00:00",
          "2008-08-01T00:00:00",
          "2007-07-01T00:00:00",
          "2009-09-01T00:00:00",
          "2007-05-01T00:00:00",
          "2007-06-01T00:00:00",
          "2007-06-01T00:00:00",
          "2008-10-01T00:00:00",
          "2010-04-01T00:00:00",
          "2007-04-01T00:00:00",
          "2008-04-01T00:00:00",
          "2009-07-01T00:00:00",
          "2007-06-01T00:00:00",
          "2008-05-01T00:00:00",
          "2007-07-01T00:00:00",
          "2008-10-01T00:00:00",
          "2009-01-01T00:00:00",
          "2006-06-01T00:00:00",
          "2008-07-01T00:00:00",
          "2006-10-01T00:00:00",
          "2009-05-01T00:00:00",
          "2006-06-01T00:00:00",
          "2009-11-01T00:00:00",
          "2006-01-01T00:00:00",
          "2008-06-01T00:00:00",
          "2010-06-01T00:00:00",
          "2007-04-01T00:00:00",
          "2006-07-01T00:00:00",
          "2010-05-01T00:00:00",
          "2006-07-01T00:00:00",
          "2008-07-01T00:00:00",
          "2010-06-01T00:00:00",
          "2010-06-01T00:00:00",
          "2008-06-01T00:00:00",
          "2009-02-01T00:00:00",
          "2007-10-01T00:00:00",
          "2009-07-01T00:00:00",
          "2006-06-01T00:00:00",
          "2008-06-01T00:00:00",
          "2008-05-01T00:00:00",
          "2009-04-01T00:00:00",
          "2009-06-01T00:00:00",
          "2006-07-01T00:00:00",
          "2008-06-01T00:00:00",
          "2006-06-01T00:00:00",
          "2010-01-01T00:00:00",
          "2009-02-01T00:00:00",
          "2008-09-01T00:00:00",
          "2010-02-01T00:00:00",
          "2007-06-01T00:00:00",
          "2008-11-01T00:00:00",
          "2008-06-01T00:00:00",
          "2008-05-01T00:00:00",
          "2008-03-01T00:00:00",
          "2008-06-01T00:00:00",
          "2008-05-01T00:00:00",
          "2007-07-01T00:00:00",
          "2008-06-01T00:00:00",
          "2007-01-01T00:00:00",
          "2009-07-01T00:00:00",
          "2009-08-01T00:00:00",
          "2008-09-01T00:00:00",
          "2007-08-01T00:00:00",
          "2007-11-01T00:00:00",
          "2006-05-01T00:00:00",
          "2007-08-01T00:00:00",
          "2009-08-01T00:00:00",
          "2006-07-01T00:00:00",
          "2010-04-01T00:00:00",
          "2008-10-01T00:00:00",
          "2009-03-01T00:00:00",
          "2009-06-01T00:00:00",
          "2006-08-01T00:00:00",
          "2007-06-01T00:00:00",
          "2010-04-01T00:00:00",
          "2010-05-01T00:00:00",
          "2009-07-01T00:00:00",
          "2008-05-01T00:00:00",
          "2009-08-01T00:00:00",
          "2007-11-01T00:00:00",
          "2007-05-01T00:00:00",
          "2006-05-01T00:00:00",
          "2010-06-01T00:00:00",
          "2009-08-01T00:00:00",
          "2010-06-01T00:00:00",
          "2008-10-01T00:00:00",
          "2009-09-01T00:00:00",
          "2009-08-01T00:00:00",
          "2007-08-01T00:00:00",
          "2007-01-01T00:00:00",
          "2009-06-01T00:00:00",
          "2010-06-01T00:00:00",
          "2009-07-01T00:00:00",
          "2007-06-01T00:00:00",
          "2007-04-01T00:00:00",
          "2009-12-01T00:00:00",
          "2006-03-01T00:00:00",
          "2009-07-01T00:00:00",
          "2008-01-01T00:00:00",
          "2006-06-01T00:00:00",
          "2008-04-01T00:00:00",
          "2007-10-01T00:00:00",
          "2009-02-01T00:00:00",
          "2007-07-01T00:00:00",
          "2009-07-01T00:00:00",
          "2006-02-01T00:00:00",
          "2008-06-01T00:00:00",
          "2009-06-01T00:00:00",
          "2008-10-01T00:00:00",
          "2006-04-01T00:00:00",
          "2009-06-01T00:00:00",
          "2010-03-01T00:00:00",
          "2006-06-01T00:00:00",
          "2007-06-01T00:00:00",
          "2009-05-01T00:00:00",
          "2006-07-01T00:00:00",
          "2006-08-01T00:00:00",
          "2007-08-01T00:00:00",
          "2010-02-01T00:00:00",
          "2007-06-01T00:00:00",
          "2006-06-01T00:00:00",
          "2006-06-01T00:00:00",
          "2009-06-01T00:00:00",
          "2010-01-01T00:00:00",
          "2009-10-01T00:00:00",
          "2006-07-01T00:00:00",
          "2007-08-01T00:00:00",
          "2009-06-01T00:00:00",
          "2007-01-01T00:00:00",
          "2006-10-01T00:00:00",
          "2009-04-01T00:00:00",
          "2007-11-01T00:00:00",
          "2008-05-01T00:00:00",
          "2007-07-01T00:00:00",
          "2008-09-01T00:00:00",
          "2006-10-01T00:00:00",
          "2008-07-01T00:00:00",
          "2006-05-01T00:00:00",
          "2008-03-01T00:00:00",
          "2007-05-01T00:00:00",
          "2008-04-01T00:00:00",
          "2009-06-01T00:00:00",
          "2006-11-01T00:00:00",
          "2009-07-01T00:00:00",
          "2009-07-01T00:00:00",
          "2007-03-01T00:00:00",
          "2009-08-01T00:00:00",
          "2008-11-01T00:00:00",
          "2006-06-01T00:00:00",
          "2009-08-01T00:00:00",
          "2009-02-01T00:00:00",
          "2006-08-01T00:00:00",
          "2010-06-01T00:00:00",
          "2006-07-01T00:00:00",
          "2009-06-01T00:00:00",
          "2007-08-01T00:00:00",
          "2007-06-01T00:00:00",
          "2009-01-01T00:00:00",
          "2009-09-01T00:00:00",
          "2006-03-01T00:00:00",
          "2007-11-01T00:00:00",
          "2006-02-01T00:00:00",
          "2010-03-01T00:00:00",
          "2007-07-01T00:00:00",
          "2006-07-01T00:00:00",
          "2009-04-01T00:00:00",
          "2008-09-01T00:00:00",
          "2006-10-01T00:00:00",
          "2007-08-01T00:00:00",
          "2009-05-01T00:00:00",
          "2007-04-01T00:00:00",
          "2007-10-01T00:00:00",
          "2010-05-01T00:00:00",
          "2010-02-01T00:00:00",
          "2008-07-01T00:00:00",
          "2007-07-01T00:00:00",
          "2009-05-01T00:00:00",
          "2010-02-01T00:00:00",
          "2007-07-01T00:00:00",
          "2009-06-01T00:00:00",
          "2008-07-01T00:00:00",
          "2009-05-01T00:00:00",
          "2006-03-01T00:00:00",
          "2006-12-01T00:00:00",
          "2009-07-01T00:00:00",
          "2010-04-01T00:00:00",
          "2008-12-01T00:00:00",
          "2009-10-01T00:00:00",
          "2006-04-01T00:00:00",
          "2006-08-01T00:00:00",
          "2007-11-01T00:00:00",
          "2007-05-01T00:00:00",
          "2009-06-01T00:00:00",
          "2008-07-01T00:00:00",
          "2009-07-01T00:00:00",
          "2008-03-01T00:00:00",
          "2008-05-01T00:00:00",
          "2009-08-01T00:00:00",
          "2008-08-01T00:00:00",
          "2006-06-01T00:00:00",
          "2010-04-01T00:00:00",
          "2007-06-01T00:00:00",
          "2006-08-01T00:00:00",
          "2006-06-01T00:00:00",
          "2009-11-01T00:00:00",
          "2007-07-01T00:00:00",
          "2006-08-01T00:00:00",
          "2009-07-01T00:00:00",
          "2006-08-01T00:00:00",
          "2006-01-01T00:00:00",
          "2009-02-01T00:00:00",
          "2006-05-01T00:00:00",
          "2010-02-01T00:00:00",
          "2009-07-01T00:00:00",
          "2007-01-01T00:00:00",
          "2008-07-01T00:00:00",
          "2007-06-01T00:00:00",
          "2009-05-01T00:00:00",
          "2008-11-01T00:00:00",
          "2007-03-01T00:00:00",
          "2009-08-01T00:00:00",
          "2009-04-01T00:00:00",
          "2006-06-01T00:00:00",
          "2008-08-01T00:00:00",
          "2010-05-01T00:00:00",
          "2007-08-01T00:00:00",
          "2009-06-01T00:00:00",
          "2007-11-01T00:00:00",
          "2009-11-01T00:00:00",
          "2009-06-01T00:00:00",
          "2009-08-01T00:00:00",
          "2007-05-01T00:00:00",
          "2006-04-01T00:00:00",
          "2008-06-01T00:00:00",
          "2006-07-01T00:00:00",
          "2007-03-01T00:00:00",
          "2008-05-01T00:00:00",
          "2008-05-01T00:00:00",
          "2007-03-01T00:00:00",
          "2010-04-01T00:00:00",
          "2008-04-01T00:00:00",
          "2007-04-01T00:00:00",
          "2006-05-01T00:00:00",
          "2006-07-01T00:00:00",
          "2009-08-01T00:00:00",
          "2006-11-01T00:00:00",
          "2006-02-01T00:00:00",
          "2007-06-01T00:00:00",
          "2009-01-01T00:00:00",
          "2009-09-01T00:00:00",
          "2008-09-01T00:00:00",
          "2009-05-01T00:00:00",
          "2009-04-01T00:00:00",
          "2006-01-01T00:00:00",
          "2008-07-01T00:00:00",
          "2009-08-01T00:00:00",
          "2008-05-01T00:00:00",
          "2009-07-01T00:00:00",
          "2009-06-01T00:00:00",
          "2006-07-01T00:00:00",
          "2008-02-01T00:00:00",
          "2009-11-01T00:00:00",
          "2010-04-01T00:00:00",
          "2007-08-01T00:00:00",
          "2007-10-01T00:00:00",
          "2007-06-01T00:00:00",
          "2010-05-01T00:00:00",
          "2006-11-01T00:00:00",
          "2008-05-01T00:00:00",
          "2006-06-01T00:00:00",
          "2009-01-01T00:00:00",
          "2009-07-01T00:00:00",
          "2007-03-01T00:00:00",
          "2010-04-01T00:00:00",
          "2008-08-01T00:00:00",
          "2007-09-01T00:00:00",
          "2006-07-01T00:00:00",
          "2009-11-01T00:00:00",
          "2010-04-01T00:00:00",
          "2009-05-01T00:00:00",
          "2008-06-01T00:00:00",
          "2006-06-01T00:00:00",
          "2007-05-01T00:00:00",
          "2007-06-01T00:00:00",
          "2009-05-01T00:00:00",
          "2006-08-01T00:00:00",
          "2009-07-01T00:00:00",
          "2007-05-01T00:00:00",
          "2007-07-01T00:00:00",
          "2006-04-01T00:00:00",
          "2006-03-01T00:00:00",
          "2006-05-01T00:00:00",
          "2007-04-01T00:00:00",
          "2008-10-01T00:00:00",
          "2010-06-01T00:00:00",
          "2007-09-01T00:00:00",
          "2006-03-01T00:00:00",
          "2006-07-01T00:00:00",
          "2010-04-01T00:00:00",
          "2010-05-01T00:00:00",
          "2009-05-01T00:00:00",
          "2006-04-01T00:00:00",
          "2006-04-01T00:00:00",
          "2009-06-01T00:00:00",
          "2008-03-01T00:00:00",
          "2008-06-01T00:00:00",
          "2006-10-01T00:00:00",
          "2010-05-01T00:00:00",
          "2007-03-01T00:00:00",
          "2007-03-01T00:00:00",
          "2007-10-01T00:00:00",
          "2009-07-01T00:00:00",
          "2009-04-01T00:00:00",
          "2009-01-01T00:00:00",
          "2007-07-01T00:00:00",
          "2007-04-01T00:00:00",
          "2006-07-01T00:00:00",
          "2007-04-01T00:00:00",
          "2010-04-01T00:00:00",
          "2007-05-01T00:00:00",
          "2006-09-01T00:00:00",
          "2007-11-01T00:00:00",
          "2009-03-01T00:00:00",
          "2008-06-01T00:00:00",
          "2008-09-01T00:00:00",
          "2006-07-01T00:00:00",
          "2007-05-01T00:00:00",
          "2006-08-01T00:00:00",
          "2007-11-01T00:00:00",
          "2009-03-01T00:00:00",
          "2008-05-01T00:00:00",
          "2008-12-01T00:00:00",
          "2006-07-01T00:00:00",
          "2007-05-01T00:00:00",
          "2006-07-01T00:00:00",
          "2009-10-01T00:00:00",
          "2009-06-01T00:00:00",
          "2007-07-01T00:00:00",
          "2009-11-01T00:00:00",
          "2009-06-01T00:00:00",
          "2007-11-01T00:00:00",
          "2007-07-01T00:00:00",
          "2007-08-01T00:00:00",
          "2009-12-01T00:00:00",
          "2007-09-01T00:00:00",
          "2007-05-01T00:00:00",
          "2009-06-01T00:00:00",
          "2007-08-01T00:00:00",
          "2007-05-01T00:00:00",
          "2008-04-01T00:00:00",
          "2010-05-01T00:00:00",
          "2009-05-01T00:00:00",
          "2007-05-01T00:00:00",
          "2008-06-01T00:00:00",
          "2009-10-01T00:00:00",
          "2007-04-01T00:00:00",
          "2008-07-01T00:00:00",
          "2010-07-01T00:00:00",
          "2006-08-01T00:00:00",
          "2006-05-01T00:00:00",
          "2009-07-01T00:00:00",
          "2008-08-01T00:00:00",
          "2009-07-01T00:00:00",
          "2007-11-01T00:00:00",
          "2006-11-01T00:00:00",
          "2006-07-01T00:00:00",
          "2008-06-01T00:00:00",
          "2008-05-01T00:00:00",
          "2007-07-01T00:00:00",
          "2008-10-01T00:00:00",
          "2009-07-01T00:00:00",
          "2008-06-01T00:00:00",
          "2008-07-01T00:00:00",
          "2010-07-01T00:00:00",
          "2008-11-01T00:00:00",
          "2007-05-01T00:00:00",
          "2008-01-01T00:00:00",
          "2007-06-01T00:00:00",
          "2009-09-01T00:00:00",
          "2010-02-01T00:00:00",
          "2006-02-01T00:00:00",
          "2008-07-01T00:00:00",
          "2006-07-01T00:00:00",
          "2008-07-01T00:00:00",
          "2008-11-01T00:00:00",
          "2008-03-01T00:00:00",
          "2007-03-01T00:00:00",
          "2006-07-01T00:00:00",
          "2007-04-01T00:00:00",
          "2008-10-01T00:00:00",
          "2009-12-01T00:00:00",
          "2009-07-01T00:00:00",
          "2006-04-01T00:00:00",
          "2006-04-01T00:00:00",
          "2008-11-01T00:00:00",
          "2007-07-01T00:00:00",
          "2006-06-01T00:00:00",
          "2007-05-01T00:00:00",
          "2006-03-01T00:00:00",
          "2009-08-01T00:00:00",
          "2006-07-01T00:00:00",
          "2009-07-01T00:00:00",
          "2010-06-01T00:00:00",
          "2007-03-01T00:00:00",
          "2007-11-01T00:00:00",
          "2007-07-01T00:00:00",
          "2009-06-01T00:00:00",
          "2010-03-01T00:00:00",
          "2008-07-01T00:00:00",
          "2006-11-01T00:00:00",
          "2006-07-01T00:00:00",
          "2009-06-01T00:00:00",
          "2006-10-01T00:00:00",
          "2006-07-01T00:00:00",
          "2009-03-01T00:00:00",
          "2009-05-01T00:00:00",
          "2009-10-01T00:00:00",
          "2006-07-01T00:00:00",
          "2009-06-01T00:00:00",
          "2006-11-01T00:00:00",
          "2006-05-01T00:00:00",
          "2008-10-01T00:00:00",
          "2006-05-01T00:00:00",
          "2010-05-01T00:00:00",
          "2010-06-01T00:00:00",
          "2009-08-01T00:00:00",
          "2006-05-01T00:00:00",
          "2006-05-01T00:00:00",
          "2007-05-01T00:00:00",
          "2010-04-01T00:00:00",
          "2009-09-01T00:00:00",
          "2006-07-01T00:00:00",
          "2006-04-01T00:00:00",
          "2006-11-01T00:00:00",
          "2008-08-01T00:00:00",
          "2007-01-01T00:00:00",
          "2006-10-01T00:00:00",
          "2008-02-01T00:00:00",
          "2007-06-01T00:00:00",
          "2008-01-01T00:00:00",
          "2008-12-01T00:00:00",
          "2008-10-01T00:00:00",
          "2008-08-01T00:00:00",
          "2007-08-01T00:00:00",
          "2006-05-01T00:00:00",
          "2007-03-01T00:00:00",
          "2010-05-01T00:00:00",
          "2008-11-01T00:00:00",
          "2006-07-01T00:00:00",
          "2010-06-01T00:00:00",
          "2006-09-01T00:00:00",
          "2006-03-01T00:00:00",
          "2007-12-01T00:00:00",
          "2008-07-01T00:00:00",
          "2007-06-01T00:00:00",
          "2010-01-01T00:00:00",
          "2006-09-01T00:00:00",
          "2006-06-01T00:00:00",
          "2007-01-01T00:00:00",
          "2006-03-01T00:00:00",
          "2010-05-01T00:00:00",
          "2008-04-01T00:00:00",
          "2007-05-01T00:00:00",
          "2010-04-01T00:00:00",
          "2006-03-01T00:00:00",
          "2009-11-01T00:00:00",
          "2007-07-01T00:00:00",
          "2008-07-01T00:00:00",
          "2007-11-01T00:00:00",
          "2008-08-01T00:00:00",
          "2009-07-01T00:00:00",
          "2008-07-01T00:00:00",
          "2008-07-01T00:00:00",
          "2009-06-01T00:00:00",
          "2009-06-01T00:00:00",
          "2009-11-01T00:00:00",
          "2007-07-01T00:00:00",
          "2008-08-01T00:00:00",
          "2006-03-01T00:00:00",
          "2007-01-01T00:00:00",
          "2010-05-01T00:00:00",
          "2008-05-01T00:00:00",
          "2007-07-01T00:00:00",
          "2010-04-01T00:00:00",
          "2009-08-01T00:00:00",
          "2006-11-01T00:00:00",
          "2008-05-01T00:00:00",
          "2007-11-01T00:00:00",
          "2007-07-01T00:00:00",
          "2009-12-01T00:00:00",
          "2009-06-01T00:00:00",
          "2008-03-01T00:00:00",
          "2010-04-01T00:00:00",
          "2009-03-01T00:00:00",
          "2006-07-01T00:00:00",
          "2009-09-01T00:00:00",
          "2010-04-01T00:00:00",
          "2010-03-01T00:00:00",
          "2009-05-01T00:00:00",
          "2010-06-01T00:00:00",
          "2006-06-01T00:00:00",
          "2009-10-01T00:00:00",
          "2006-10-01T00:00:00",
          "2010-04-01T00:00:00",
          "2009-02-01T00:00:00",
          "2009-12-01T00:00:00",
          "2006-03-01T00:00:00",
          "2006-04-01T00:00:00",
          "2006-11-01T00:00:00",
          "2008-12-01T00:00:00",
          "2006-06-01T00:00:00",
          "2008-01-01T00:00:00",
          "2010-05-01T00:00:00",
          "2009-05-01T00:00:00",
          "2009-11-01T00:00:00",
          "2006-12-01T00:00:00",
          "2006-04-01T00:00:00",
          "2006-04-01T00:00:00",
          "2009-11-01T00:00:00",
          "2006-09-01T00:00:00",
          "2009-05-01T00:00:00",
          "2008-05-01T00:00:00",
          "2008-06-01T00:00:00",
          "2010-05-01T00:00:00",
          "2007-01-01T00:00:00",
          "2007-06-01T00:00:00",
          "2010-05-01T00:00:00",
          "2007-10-01T00:00:00",
          "2008-06-01T00:00:00",
          "2009-01-01T00:00:00",
          "2007-04-01T00:00:00",
          "2006-08-01T00:00:00",
          "2007-02-01T00:00:00",
          "2009-06-01T00:00:00",
          "2008-07-01T00:00:00",
          "2010-06-01T00:00:00",
          "2009-12-01T00:00:00",
          "2007-02-01T00:00:00",
          "2008-01-01T00:00:00",
          "2007-05-01T00:00:00",
          "2008-10-01T00:00:00",
          "2008-06-01T00:00:00",
          "2006-06-01T00:00:00",
          "2007-12-01T00:00:00",
          "2006-07-01T00:00:00",
          "2009-05-01T00:00:00",
          "2006-07-01T00:00:00",
          "2009-05-01T00:00:00",
          "2009-04-01T00:00:00",
          "2008-11-01T00:00:00",
          "2006-03-01T00:00:00",
          "2006-06-01T00:00:00",
          "2006-06-01T00:00:00",
          "2007-06-01T00:00:00",
          "2008-07-01T00:00:00",
          "2007-08-01T00:00:00",
          "2009-03-01T00:00:00",
          "2007-07-01T00:00:00",
          "2007-07-01T00:00:00",
          "2006-06-01T00:00:00",
          "2007-05-01T00:00:00",
          "2007-08-01T00:00:00",
          "2008-12-01T00:00:00",
          "2009-08-01T00:00:00",
          "2008-03-01T00:00:00",
          "2009-07-01T00:00:00",
          "2010-03-01T00:00:00",
          "2008-06-01T00:00:00",
          "2006-09-01T00:00:00",
          "2008-10-01T00:00:00",
          "2010-04-01T00:00:00",
          "2010-06-01T00:00:00",
          "2006-09-01T00:00:00",
          "2008-05-01T00:00:00",
          "2009-06-01T00:00:00",
          "2009-06-01T00:00:00",
          "2007-03-01T00:00:00",
          "2006-04-01T00:00:00",
          "2010-01-01T00:00:00",
          "2008-06-01T00:00:00",
          "2006-07-01T00:00:00",
          "2009-06-01T00:00:00",
          "2010-05-01T00:00:00",
          "2009-10-01T00:00:00",
          "2008-10-01T00:00:00",
          "2006-06-01T00:00:00",
          "2007-03-01T00:00:00",
          "2008-07-01T00:00:00",
          "2007-12-01T00:00:00",
          "2008-04-01T00:00:00",
          "2009-07-01T00:00:00",
          "2006-06-01T00:00:00",
          "2008-05-01T00:00:00",
          "2010-06-01T00:00:00",
          "2008-05-01T00:00:00",
          "2006-10-01T00:00:00",
          "2007-08-01T00:00:00",
          "2009-10-01T00:00:00",
          "2010-05-01T00:00:00",
          "2006-07-01T00:00:00",
          "2007-08-01T00:00:00",
          "2009-10-01T00:00:00",
          "2007-03-01T00:00:00",
          "2006-09-01T00:00:00",
          "2009-04-01T00:00:00",
          "2006-12-01T00:00:00",
          "2008-04-01T00:00:00",
          "2006-10-01T00:00:00",
          "2007-02-01T00:00:00",
          "2010-06-01T00:00:00",
          "2007-05-01T00:00:00",
          "2009-05-01T00:00:00",
          "2009-10-01T00:00:00",
          "2008-07-01T00:00:00",
          "2008-04-01T00:00:00",
          "2006-07-01T00:00:00",
          "2007-08-01T00:00:00",
          "2006-01-01T00:00:00",
          "2008-01-01T00:00:00",
          "2009-03-01T00:00:00",
          "2009-03-01T00:00:00",
          "2010-06-01T00:00:00",
          "2008-11-01T00:00:00",
          "2009-06-01T00:00:00",
          "2009-09-01T00:00:00",
          "2009-06-01T00:00:00",
          "2009-09-01T00:00:00",
          "2008-06-01T00:00:00",
          "2009-05-01T00:00:00",
          "2010-04-01T00:00:00",
          "2009-05-01T00:00:00",
          "2008-08-01T00:00:00",
          "2006-12-01T00:00:00",
          "2006-05-01T00:00:00",
          "2010-07-01T00:00:00",
          "2008-03-01T00:00:00",
          "2006-08-01T00:00:00",
          "2007-06-01T00:00:00",
          "2008-10-01T00:00:00",
          "2008-08-01T00:00:00",
          "2008-04-01T00:00:00",
          "2010-02-01T00:00:00",
          "2007-04-01T00:00:00",
          "2006-07-01T00:00:00",
          "2009-10-01T00:00:00",
          "2007-08-01T00:00:00",
          "2008-05-01T00:00:00",
          "2006-05-01T00:00:00",
          "2008-07-01T00:00:00",
          "2007-05-01T00:00:00",
          "2008-11-01T00:00:00",
          "2010-04-01T00:00:00",
          "2007-11-01T00:00:00",
          "2008-09-01T00:00:00",
          "2008-05-01T00:00:00",
          "2009-04-01T00:00:00",
          "2009-05-01T00:00:00",
          "2007-11-01T00:00:00",
          "2007-05-01T00:00:00",
          "2010-04-01T00:00:00",
          "2007-12-01T00:00:00",
          "2007-05-01T00:00:00",
          "2006-08-01T00:00:00",
          "2009-09-01T00:00:00",
          "2009-05-01T00:00:00",
          "2006-05-01T00:00:00",
          "2006-07-01T00:00:00",
          "2009-10-01T00:00:00",
          "2007-08-01T00:00:00",
          "2010-02-01T00:00:00",
          "2010-05-01T00:00:00",
          "2010-04-01T00:00:00",
          "2008-06-01T00:00:00"
         ],
         "xaxis": "x",
         "y": [
          208500,
          181500,
          223500,
          140000,
          250000,
          143000,
          307000,
          200000,
          129900,
          118000,
          129500,
          345000,
          144000,
          279500,
          157000,
          132000,
          149000,
          90000,
          159000,
          139000,
          325300,
          139400,
          230000,
          129900,
          154000,
          256300,
          134800,
          306000,
          207500,
          68500,
          40000,
          149350,
          179900,
          165500,
          277500,
          309000,
          145000,
          153000,
          109000,
          82000,
          160000,
          170000,
          144000,
          130250,
          141000,
          319900,
          239686,
          249700,
          113000,
          127000,
          177000,
          114500,
          110000,
          385000,
          130000,
          180500,
          172500,
          196500,
          438780,
          124900,
          158000,
          101000,
          202500,
          140000,
          219500,
          317000,
          180000,
          226000,
          80000,
          225000,
          244000,
          129500,
          185000,
          144900,
          107400,
          91000,
          135750,
          127000,
          136500,
          110000,
          193500,
          153500,
          245000,
          126500,
          168500,
          260000,
          174000,
          164500,
          85000,
          123600,
          109900,
          98600,
          163500,
          133900,
          204750,
          185000,
          214000,
          94750,
          83000,
          128950,
          205000,
          178000,
          118964,
          198900,
          169500,
          250000,
          100000,
          115000,
          115000,
          190000,
          136900,
          180000,
          383970,
          217000,
          259500,
          176000,
          139000,
          155000,
          320000,
          163990,
          180000,
          100000,
          136000,
          153900,
          181000,
          84500,
          128000,
          87000,
          155000,
          150000,
          226000,
          244000,
          150750,
          220000,
          180000,
          174000,
          143000,
          171000,
          230000,
          231500,
          115000,
          260000,
          166000,
          204000,
          125000,
          130000,
          105000,
          222500,
          141000,
          115000,
          122000,
          372402,
          190000,
          235000,
          125000,
          79000,
          109500,
          269500,
          254900,
          320000,
          162500,
          412500,
          220000,
          103200,
          152000,
          127500,
          190000,
          325624,
          183500,
          228000,
          128500,
          215000,
          239000,
          163000,
          184000,
          243000,
          211000,
          172500,
          501837,
          100000,
          177000,
          200100,
          120000,
          200000,
          127000,
          475000,
          173000,
          135000,
          153337,
          286000,
          315000,
          184000,
          192000,
          130000,
          127000,
          148500,
          311872,
          235000,
          104000,
          274900,
          140000,
          171500,
          112000,
          149000,
          110000,
          180500,
          143900,
          141000,
          277000,
          145000,
          98000,
          186000,
          252678,
          156000,
          161750,
          134450,
          210000,
          107000,
          311500,
          167240,
          204900,
          200000,
          179900,
          97000,
          386250,
          112000,
          290000,
          106000,
          125000,
          192500,
          148000,
          403000,
          94500,
          128200,
          216500,
          89500,
          185500,
          194500,
          318000,
          113000,
          262500,
          110500,
          79000,
          120000,
          205000,
          241500,
          137000,
          140000,
          180000,
          277000,
          76500,
          235000,
          173000,
          158000,
          145000,
          230000,
          207500,
          220000,
          231500,
          97000,
          176000,
          276000,
          151000,
          130000,
          73000,
          175500,
          185000,
          179500,
          120500,
          148000,
          266000,
          241500,
          290000,
          139000,
          124500,
          205000,
          201000,
          141000,
          415298,
          192000,
          228500,
          185000,
          207500,
          244600,
          179200,
          164700,
          159000,
          88000,
          122000,
          153575,
          233230,
          135900,
          131000,
          235000,
          167000,
          142500,
          152000,
          239000,
          175000,
          158500,
          157000,
          267000,
          205000,
          149900,
          295000,
          305900,
          225000,
          89500,
          82500,
          360000,
          165600,
          132000,
          119900,
          375000,
          178000,
          188500,
          260000,
          270000,
          260000,
          187500,
          342643,
          354000,
          301000,
          126175,
          242000,
          87000,
          324000,
          145250,
          214500,
          78000,
          119000,
          139000,
          284000,
          207000,
          192000,
          228950,
          377426,
          214000,
          202500,
          155000,
          202900,
          82000,
          87500,
          266000,
          85000,
          140200,
          151500,
          157500,
          154000,
          437154,
          318061,
          190000,
          95000,
          105900,
          140000,
          177500,
          173000,
          134000,
          130000,
          280000,
          156000,
          145000,
          198500,
          118000,
          190000,
          147000,
          159000,
          165000,
          132000,
          162000,
          172400,
          134432,
          125000,
          123000,
          219500,
          61000,
          148000,
          340000,
          394432,
          179000,
          127000,
          187750,
          213500,
          76000,
          240000,
          192000,
          81000,
          125000,
          191000,
          426000,
          119000,
          215000,
          106500,
          100000,
          109000,
          129000,
          123000,
          169500,
          67000,
          241000,
          245500,
          164990,
          108000,
          258000,
          168000,
          150000,
          115000,
          177000,
          280000,
          339750,
          60000,
          145000,
          222000,
          115000,
          228000,
          181134,
          149500,
          239000,
          126000,
          142000,
          206300,
          215000,
          113000,
          315000,
          139000,
          135000,
          275000,
          109008,
          195400,
          175000,
          85400,
          79900,
          122500,
          181000,
          81000,
          212000,
          116000,
          119000,
          90350,
          110000,
          555000,
          118000,
          162900,
          172500,
          210000,
          127500,
          190000,
          199900,
          119500,
          120000,
          110000,
          280000,
          204000,
          210000,
          188000,
          175500,
          98000,
          256000,
          161000,
          110000,
          263435,
          155000,
          62383,
          188700,
          124000,
          178740,
          167000,
          146500,
          250000,
          187000,
          212000,
          190000,
          148000,
          440000,
          251000,
          132500,
          208900,
          380000,
          297000,
          89471,
          326000,
          374000,
          155000,
          164000,
          132500,
          147000,
          156000,
          175000,
          160000,
          86000,
          115000,
          133000,
          172785,
          155000,
          91300,
          34900,
          430000,
          184000,
          130000,
          120000,
          113000,
          226700,
          140000,
          289000,
          147000,
          124500,
          215000,
          208300,
          161000,
          124500,
          164900,
          202665,
          129900,
          134000,
          96500,
          402861,
          158000,
          265000,
          211000,
          234000,
          106250,
          150000,
          159000,
          184750,
          315750,
          176000,
          132000,
          446261,
          86000,
          200624,
          175000,
          128000,
          107500,
          39300,
          178000,
          107500,
          188000,
          111250,
          158000,
          272000,
          315000,
          248000,
          213250,
          133000,
          179665,
          229000,
          210000,
          129500,
          125000,
          263000,
          140000,
          112500,
          255500,
          108000,
          284000,
          113000,
          141000,
          108000,
          175000,
          234000,
          121500,
          170000,
          108000,
          185000,
          268000,
          128000,
          325000,
          214000,
          316600,
          135960,
          142600,
          120000,
          224500,
          170000,
          139000,
          118500,
          145000,
          164500,
          146000,
          131500,
          181900,
          253293,
          118500,
          325000,
          133000,
          369900,
          130000,
          137000,
          143000,
          79500,
          185900,
          451950,
          138000,
          140000,
          110000,
          319000,
          114504,
          194201,
          217500,
          151000,
          275000,
          141000,
          220000,
          151000,
          221000,
          205000,
          152000,
          225000,
          359100,
          118500,
          313000,
          148000,
          261500,
          147000,
          75500,
          137500,
          183200,
          105500,
          314813,
          305000,
          67000,
          240000,
          135000,
          168500,
          165150,
          160000,
          139900,
          153000,
          135000,
          168500,
          124000,
          209500,
          82500,
          139400,
          144000,
          200000,
          60000,
          93000,
          85000,
          264561,
          274000,
          226000,
          345000,
          152000,
          370878,
          143250,
          98300,
          155000,
          155000,
          84500,
          205950,
          108000,
          191000,
          135000,
          350000,
          88000,
          145500,
          149000,
          97500,
          167000,
          197900,
          402000,
          110000,
          137500,
          423000,
          230500,
          129000,
          193500,
          168000,
          137500,
          173500,
          103600,
          165000,
          257500,
          140000,
          148500,
          87000,
          109500,
          372500,
          128500,
          143000,
          159434,
          173000,
          285000,
          221000,
          207500,
          227875,
          148800,
          392000,
          194700,
          141000,
          755000,
          335000,
          108480,
          141500,
          176000,
          89000,
          123500,
          138500,
          196000,
          312500,
          140000,
          361919,
          140000,
          213000,
          55000,
          302000,
          254000,
          179540,
          109900,
          52000,
          102776,
          189000,
          129000,
          130500,
          165000,
          159500,
          157000,
          341000,
          128500,
          275000,
          143000,
          124500,
          135000,
          320000,
          120500,
          222000,
          194500,
          110000,
          103000,
          236500,
          187500,
          222500,
          131400,
          108000,
          163000,
          93500,
          239900,
          179000,
          190000,
          132000,
          142000,
          179000,
          175000,
          180000,
          299800,
          236000,
          265979,
          260400,
          98000,
          96500,
          162000,
          217000,
          275500,
          156000,
          172500,
          212000,
          158900,
          179400,
          290000,
          127500,
          100000,
          215200,
          337000,
          270000,
          264132,
          196500,
          160000,
          216837,
          538000,
          134900,
          102000,
          107000,
          114500,
          395000,
          162000,
          221500,
          142500,
          144000,
          135000,
          176000,
          175900,
          187100,
          165500,
          128000,
          161500,
          139000,
          233000,
          107900,
          187500,
          160200,
          146800,
          269790,
          225000,
          194500,
          171000,
          143500,
          110000,
          485000,
          175000,
          200000,
          109900,
          189000,
          582933,
          118000,
          227680,
          135500,
          223500,
          159950,
          106000,
          181000,
          144500,
          55993,
          157900,
          116000,
          224900,
          137000,
          271000,
          155000,
          224000,
          183000,
          93000,
          225000,
          139500,
          232600,
          385000,
          109500,
          189000,
          185000,
          147400,
          166000,
          151000,
          237000,
          167000,
          139950,
          128000,
          153500,
          100000,
          144000,
          130500,
          140000,
          157500,
          174900,
          141000,
          153900,
          171000,
          213000,
          133500,
          240000,
          187000,
          131500,
          215000,
          164000,
          158000,
          170000,
          127000,
          147000,
          174000,
          152000,
          250000,
          189950,
          131500,
          152000,
          132500,
          250580,
          148500,
          248900,
          129000,
          169000,
          236000,
          109500,
          200500,
          116000,
          133000,
          66500,
          303477,
          132250,
          350000,
          148000,
          136500,
          157000,
          187500,
          178000,
          118500,
          100000,
          328900,
          145000,
          135500,
          268000,
          149500,
          122900,
          172500,
          154500,
          165000,
          118858,
          140000,
          106500,
          142953,
          611657,
          135000,
          110000,
          153000,
          180000,
          240000,
          125500,
          128000,
          255000,
          250000,
          131000,
          174000,
          154300,
          143500,
          88000,
          145000,
          173733,
          75000,
          35311,
          135000,
          238000,
          176500,
          201000,
          145900,
          169990,
          193000,
          207500,
          175000,
          285000,
          176000,
          236500,
          222000,
          201000,
          117500,
          320000,
          190000,
          242000,
          79900,
          184900,
          253000,
          239799,
          244400,
          150900,
          214000,
          150000,
          143000,
          137500,
          124900,
          143000,
          270000,
          192500,
          197500,
          129000,
          119900,
          133900,
          172000,
          127500,
          145000,
          124000,
          132000,
          185000,
          155000,
          116500,
          272000,
          155000,
          239000,
          214900,
          178900,
          160000,
          135000,
          37900,
          140000,
          135000,
          173000,
          99500,
          182000,
          167500,
          165000,
          85500,
          199900,
          110000,
          139000,
          178400,
          336000,
          159895,
          255900,
          126000,
          125000,
          117000,
          395192,
          195000,
          197000,
          348000,
          168000,
          187000,
          173900,
          337500,
          121600,
          136500,
          185000,
          91000,
          206000,
          82000,
          86000,
          232000,
          136905,
          181000,
          149900,
          163500,
          88000,
          240000,
          102000,
          135000,
          100000,
          165000,
          85000,
          119200,
          227000,
          203000,
          187500,
          160000,
          213490,
          176000,
          194000,
          87000,
          191000,
          287000,
          112500,
          167500,
          293077,
          105000,
          118000,
          160000,
          197000,
          310000,
          230000,
          119750,
          84000,
          315500,
          287000,
          97000,
          80000,
          155000,
          173000,
          196000,
          262280,
          278000,
          139600,
          556581,
          145000,
          115000,
          84900,
          176485,
          200141,
          165000,
          144500,
          255000,
          180000,
          185850,
          248000,
          335000,
          220000,
          213500,
          81000,
          90000,
          110500,
          154000,
          328000,
          178000,
          167900,
          151400,
          135000,
          135000,
          154000,
          91500,
          159500,
          194000,
          219500,
          170000,
          138800,
          155900,
          126000,
          145000,
          133000,
          192000,
          160000,
          187500,
          147000,
          83500,
          252000,
          137500,
          197000,
          92900,
          160000,
          136500,
          146000,
          129000,
          176432,
          127000,
          170000,
          128000,
          157000,
          60000,
          119500,
          135000,
          159500,
          106000,
          325000,
          179900,
          274725,
          181000,
          280000,
          188000,
          205000,
          129900,
          134500,
          117000,
          318000,
          184100,
          130000,
          140000,
          133700,
          118400,
          212900,
          112000,
          118000,
          163900,
          115000,
          174000,
          259000,
          215000,
          140000,
          135000,
          93500,
          117500,
          239500,
          169000,
          102000,
          119000,
          94000,
          196000,
          144000,
          139000,
          197500,
          424870,
          80000,
          80000,
          149000,
          180000,
          174500,
          116900,
          143000,
          124000,
          149900,
          230000,
          120500,
          201800,
          218000,
          179900,
          230000,
          235128,
          185000,
          146000,
          224000,
          129000,
          108959,
          194000,
          233170,
          245350,
          173000,
          235000,
          625000,
          171000,
          163000,
          171900,
          200500,
          239000,
          285000,
          119500,
          115000,
          154900,
          93000,
          250000,
          392500,
          745000,
          120000,
          186700,
          104900,
          95000,
          262000,
          195000,
          189000,
          168000,
          174000,
          125000,
          165000,
          158000,
          176000,
          219210,
          144000,
          178000,
          148000,
          116050,
          197900,
          117000,
          213000,
          153500,
          271900,
          107000,
          200000,
          140000,
          290000,
          189000,
          164000,
          113000,
          145000,
          134500,
          125000,
          112000,
          229456,
          80500,
          91500,
          115000,
          134000,
          143000,
          137900,
          184000,
          145000,
          214000,
          147000,
          367294,
          127000,
          190000,
          132500,
          101800,
          142000,
          130000,
          138887,
          175500,
          195000,
          142500,
          265900,
          224900,
          248328,
          170000,
          465000,
          230000,
          178000,
          186500,
          169900,
          129500,
          119000,
          244000,
          171750,
          130000,
          294000,
          165400,
          127500,
          301500,
          99900,
          190000,
          151000,
          181000,
          128900,
          161500,
          180500,
          181000,
          183900,
          122000,
          378500,
          381000,
          144000,
          260000,
          185750,
          137000,
          177000,
          139000,
          137000,
          162000,
          197900,
          237000,
          68400,
          227000,
          180000,
          150500,
          139000,
          169000,
          132500,
          143000,
          190000,
          278000,
          281000,
          180500,
          119500,
          107500,
          162900,
          115000,
          138500,
          155000,
          140000,
          160000,
          154000,
          225000,
          177500,
          290000,
          232000,
          130000,
          325000,
          202500,
          138000,
          147000,
          179200,
          335000,
          203000,
          302000,
          333168,
          119000,
          206900,
          295493,
          208900,
          275000,
          111000,
          156500,
          72500,
          190000,
          82500,
          147000,
          55000,
          79000,
          130500,
          256000,
          176500,
          227000,
          132500,
          100000,
          125500,
          125000,
          167900,
          135000,
          52500,
          200000,
          128500,
          123000,
          155000,
          228500,
          177000,
          155835,
          108500,
          262500,
          283463,
          215000,
          122000,
          200000,
          171000,
          134900,
          410000,
          235000,
          170000,
          110000,
          149900,
          177500,
          315000,
          189000,
          260000,
          104900,
          156932,
          144152,
          216000,
          193000,
          127000,
          144000,
          232000,
          105000,
          165500,
          274300,
          466500,
          250000,
          239000,
          91000,
          117000,
          83000,
          167500,
          58500,
          237500,
          157000,
          112000,
          105000,
          125500,
          250000,
          136000,
          377500,
          131000,
          235000,
          124000,
          123000,
          163000,
          246578,
          281213,
          160000,
          137500,
          138000,
          137450,
          120000,
          193000,
          193879,
          282922,
          105000,
          275000,
          133000,
          112000,
          125500,
          215000,
          230000,
          140000,
          90000,
          257000,
          207000,
          175900,
          122500,
          340000,
          124000,
          223000,
          179900,
          127500,
          136500,
          274970,
          144000,
          142000,
          271000,
          140000,
          119000,
          182900,
          192140,
          143750,
          64500,
          186500,
          160000,
          174000,
          120500,
          394617,
          149700,
          197000,
          191000,
          149300,
          310000,
          121000,
          179600,
          129000,
          157900,
          240000,
          112000,
          92000,
          136000,
          287090,
          145000,
          84500,
          185000,
          175000,
          210000,
          266500,
          142125,
          147500
         ],
         "yaxis": "y"
        },
        {
         "mode": "lines",
         "type": "scatter",
         "x": [
          "2006-01-01T00:00:00",
          "2006-02-01T00:00:00",
          "2006-03-01T00:00:00",
          "2006-04-01T00:00:00",
          "2006-05-01T00:00:00",
          "2006-06-01T00:00:00",
          "2006-07-01T00:00:00",
          "2006-08-01T00:00:00",
          "2006-09-01T00:00:00",
          "2006-10-01T00:00:00",
          "2006-11-01T00:00:00",
          "2006-12-01T00:00:00",
          "2007-01-01T00:00:00",
          "2007-02-01T00:00:00",
          "2007-03-01T00:00:00",
          "2007-04-01T00:00:00",
          "2007-05-01T00:00:00",
          "2007-06-01T00:00:00",
          "2007-07-01T00:00:00",
          "2007-08-01T00:00:00",
          "2007-09-01T00:00:00",
          "2007-10-01T00:00:00",
          "2007-11-01T00:00:00",
          "2007-12-01T00:00:00",
          "2008-01-01T00:00:00",
          "2008-02-01T00:00:00",
          "2008-03-01T00:00:00",
          "2008-04-01T00:00:00",
          "2008-05-01T00:00:00",
          "2008-06-01T00:00:00",
          "2008-07-01T00:00:00",
          "2008-08-01T00:00:00",
          "2008-09-01T00:00:00",
          "2008-10-01T00:00:00",
          "2008-11-01T00:00:00",
          "2008-12-01T00:00:00",
          "2009-01-01T00:00:00",
          "2009-02-01T00:00:00",
          "2009-03-01T00:00:00",
          "2009-04-01T00:00:00",
          "2009-05-01T00:00:00",
          "2009-06-01T00:00:00",
          "2009-07-01T00:00:00",
          "2009-08-01T00:00:00",
          "2009-09-01T00:00:00",
          "2009-10-01T00:00:00",
          "2009-11-01T00:00:00",
          "2009-12-01T00:00:00",
          "2010-01-01T00:00:00",
          "2010-02-01T00:00:00",
          "2010-03-01T00:00:00",
          "2010-04-01T00:00:00",
          "2010-05-01T00:00:00",
          "2010-06-01T00:00:00",
          "2010-07-01T00:00:00"
         ],
         "xaxis": "x",
         "y": [
          201090,
          194322.22222222222,
          184982.2,
          174312.8148148148,
          158928.2894736842,
          172283.33333333334,
          183211.05970149254,
          196239.95652173914,
          223768.86666666667,
          172356.70833333334,
          213285,
          185545,
          183234.61538461538,
          176301.75,
          176567.78260869565,
          170772.60869565216,
          169873.51162790696,
          179725.81355932204,
          195396.8431372549,
          183941.075,
          195533.81818181818,
          215428.8125,
          197709.33333333334,
          214414.5,
          178504.6923076923,
          159370,
          178505.27777777778,
          159293.34615384616,
          188334.47368421053,
          169730.9411764706,
          174562.6530612245,
          196076.9655172414,
          169626.4705882353,
          166690.63636363635,
          210981.0588235294,
          175600,
          189735.5,
          187450,
          171547.36842105264,
          181680.76923076922,
          164482.94594594595,
          183260.93220338982,
          197984.40983606558,
          165670.96666666667,
          196849.35,
          175206.59259259258,
          156381.81818181818,
          164014.53333333333,
          163852.6,
          174823.33333333334,
          203181.2857142857,
          171344.02564102566,
          178422.25,
          181639.58333333334,
          121750
         ],
         "yaxis": "y"
        },
        {
         "mode": "lines",
         "type": "scatter",
         "x": [
          "2006-01-01T00:00:00",
          "2006-02-01T00:00:00",
          "2006-03-01T00:00:00",
          "2006-04-01T00:00:00",
          "2006-05-01T00:00:00",
          "2006-06-01T00:00:00",
          "2006-07-01T00:00:00",
          "2006-08-01T00:00:00",
          "2006-09-01T00:00:00",
          "2006-10-01T00:00:00",
          "2006-11-01T00:00:00",
          "2006-12-01T00:00:00",
          "2007-01-01T00:00:00",
          "2007-02-01T00:00:00",
          "2007-03-01T00:00:00",
          "2007-04-01T00:00:00",
          "2007-05-01T00:00:00",
          "2007-06-01T00:00:00",
          "2007-07-01T00:00:00",
          "2007-08-01T00:00:00",
          "2007-09-01T00:00:00",
          "2007-10-01T00:00:00",
          "2007-11-01T00:00:00",
          "2007-12-01T00:00:00",
          "2008-01-01T00:00:00",
          "2008-02-01T00:00:00",
          "2008-03-01T00:00:00",
          "2008-04-01T00:00:00",
          "2008-05-01T00:00:00",
          "2008-06-01T00:00:00",
          "2008-07-01T00:00:00",
          "2008-08-01T00:00:00",
          "2008-09-01T00:00:00",
          "2008-10-01T00:00:00",
          "2008-11-01T00:00:00",
          "2008-12-01T00:00:00",
          "2009-01-01T00:00:00",
          "2009-02-01T00:00:00",
          "2009-03-01T00:00:00",
          "2009-04-01T00:00:00",
          "2009-05-01T00:00:00",
          "2009-06-01T00:00:00",
          "2009-07-01T00:00:00",
          "2009-08-01T00:00:00",
          "2009-09-01T00:00:00",
          "2009-10-01T00:00:00",
          "2009-11-01T00:00:00",
          "2009-12-01T00:00:00",
          "2010-01-01T00:00:00",
          "2010-02-01T00:00:00",
          "2010-03-01T00:00:00",
          "2010-04-01T00:00:00",
          "2010-05-01T00:00:00",
          "2010-06-01T00:00:00",
          "2010-07-01T00:00:00"
         ],
         "xaxis": "x",
         "y": [
          176700,
          192500,
          162900,
          145250,
          156950,
          151200,
          160000,
          196500,
          202500,
          152500,
          193605,
          175000,
          132250,
          161000,
          148800,
          151500,
          144000,
          168500,
          163900,
          167000,
          192000,
          192570.5,
          193500,
          231000,
          149000,
          147500,
          165500,
          136625,
          176750,
          161000,
          178400,
          175000,
          172000,
          150500,
          173000,
          169000,
          134250,
          179250,
          174000,
          156000,
          140000,
          173000,
          159500,
          161000,
          160850,
          153000,
          141000,
          162000,
          162150,
          160000,
          162000,
          149700,
          153000,
          165000,
          134750
         ],
         "yaxis": "y"
        },
        {
         "mode": "markers",
         "type": "scatter",
         "x": [
          "2008-02-01T00:00:00",
          "2007-05-01T00:00:00",
          "2008-09-01T00:00:00",
          "2006-02-01T00:00:00",
          "2008-12-01T00:00:00",
          "2009-10-01T00:00:00",
          "2007-08-01T00:00:00",
          "2009-11-01T00:00:00",
          "2008-04-01T00:00:00",
          "2008-01-01T00:00:00",
          "2008-02-01T00:00:00",
          "2006-07-01T00:00:00",
          "2008-09-01T00:00:00",
          "2007-08-01T00:00:00",
          "2008-05-01T00:00:00",
          "2007-07-01T00:00:00",
          "2010-03-01T00:00:00",
          "2006-10-01T00:00:00",
          "2008-06-01T00:00:00",
          "2009-05-01T00:00:00",
          "2006-11-01T00:00:00",
          "2007-06-01T00:00:00",
          "2008-09-01T00:00:00",
          "2007-06-01T00:00:00",
          "2010-05-01T00:00:00",
          "2009-07-01T00:00:00",
          "2010-05-01T00:00:00",
          "2010-05-01T00:00:00",
          "2006-12-01T00:00:00",
          "2008-05-01T00:00:00",
          "2008-07-01T00:00:00",
          "2008-06-01T00:00:00",
          "2008-01-01T00:00:00",
          "2010-04-01T00:00:00",
          "2007-08-01T00:00:00",
          "2006-09-01T00:00:00",
          "2009-06-01T00:00:00",
          "2009-10-01T00:00:00",
          "2010-01-01T00:00:00",
          "2008-06-01T00:00:00",
          "2006-12-01T00:00:00",
          "2007-07-01T00:00:00",
          "2007-12-01T00:00:00",
          "2008-07-01T00:00:00",
          "2006-05-01T00:00:00",
          "2010-02-01T00:00:00",
          "2009-08-01T00:00:00",
          "2007-07-01T00:00:00",
          "2009-06-01T00:00:00",
          "2007-01-01T00:00:00",
          "2007-07-01T00:00:00",
          "2006-09-01T00:00:00",
          "2010-05-01T00:00:00",
          "2006-11-01T00:00:00",
          "2007-02-01T00:00:00",
          "2008-07-01T00:00:00",
          "2009-08-01T00:00:00",
          "2006-08-01T00:00:00",
          "2006-10-01T00:00:00",
          "2008-01-01T00:00:00",
          "2006-05-01T00:00:00",
          "2007-03-01T00:00:00",
          "2007-10-01T00:00:00",
          "2010-04-01T00:00:00",
          "2009-02-01T00:00:00",
          "2007-10-01T00:00:00",
          "2010-07-01T00:00:00",
          "2007-06-01T00:00:00",
          "2010-06-01T00:00:00",
          "2006-07-01T00:00:00",
          "2007-02-01T00:00:00",
          "2007-06-01T00:00:00",
          "2009-12-01T00:00:00",
          "2010-05-01T00:00:00",
          "2010-05-01T00:00:00",
          "2009-11-01T00:00:00",
          "2008-04-01T00:00:00",
          "2008-01-01T00:00:00",
          "2010-04-01T00:00:00",
          "2009-05-01T00:00:00",
          "2009-06-01T00:00:00",
          "2006-03-01T00:00:00",
          "2008-10-01T00:00:00",
          "2007-07-01T00:00:00",
          "2009-05-01T00:00:00",
          "2006-04-01T00:00:00",
          "2009-03-01T00:00:00",
          "2009-06-01T00:00:00",
          "2009-10-01T00:00:00",
          "2007-08-01T00:00:00",
          "2006-07-01T00:00:00",
          "2006-12-01T00:00:00",
          "2009-08-01T00:00:00",
          "2007-11-01T00:00:00",
          "2007-05-01T00:00:00",
          "2009-04-01T00:00:00",
          "2006-08-01T00:00:00",
          "2007-05-01T00:00:00",
          "2010-05-01T00:00:00",
          "2010-01-01T00:00:00",
          "2010-02-01T00:00:00",
          "2010-06-01T00:00:00",
          "2009-06-01T00:00:00",
          "2010-05-01T00:00:00",
          "2007-06-01T00:00:00",
          "2008-08-01T00:00:00",
          "2007-08-01T00:00:00",
          "2008-04-01T00:00:00",
          "2007-08-01T00:00:00",
          "2010-01-01T00:00:00",
          "2006-10-01T00:00:00",
          "2010-04-01T00:00:00",
          "2007-10-01T00:00:00",
          "2007-10-01T00:00:00",
          "2007-07-01T00:00:00",
          "2007-06-01T00:00:00",
          "2009-09-01T00:00:00",
          "2007-04-01T00:00:00",
          "2010-05-01T00:00:00",
          "2006-07-01T00:00:00",
          "2006-10-01T00:00:00",
          "2007-06-01T00:00:00",
          "2008-06-01T00:00:00",
          "2008-03-01T00:00:00",
          "2009-01-01T00:00:00",
          "2006-06-01T00:00:00",
          "2007-02-01T00:00:00",
          "2007-06-01T00:00:00",
          "2006-07-01T00:00:00",
          "2006-07-01T00:00:00",
          "2006-05-01T00:00:00",
          "2009-07-01T00:00:00",
          "2007-07-01T00:00:00",
          "2009-06-01T00:00:00",
          "2006-07-01T00:00:00",
          "2008-05-01T00:00:00",
          "2007-07-01T00:00:00",
          "2006-07-01T00:00:00",
          "2008-12-01T00:00:00",
          "2009-08-01T00:00:00",
          "2010-04-01T00:00:00",
          "2006-01-01T00:00:00",
          "2010-06-01T00:00:00",
          "2009-06-01T00:00:00",
          "2006-11-01T00:00:00",
          "2006-04-01T00:00:00",
          "2009-11-01T00:00:00",
          "2010-05-01T00:00:00",
          "2008-04-01T00:00:00",
          "2006-04-01T00:00:00",
          "2007-01-01T00:00:00",
          "2008-01-01T00:00:00",
          "2006-06-01T00:00:00",
          "2008-03-01T00:00:00",
          "2006-03-01T00:00:00",
          "2008-04-01T00:00:00",
          "2006-06-01T00:00:00",
          "2010-05-01T00:00:00",
          "2010-05-01T00:00:00",
          "2006-03-01T00:00:00",
          "2008-06-01T00:00:00",
          "2008-03-01T00:00:00",
          "2010-05-01T00:00:00",
          "2007-04-01T00:00:00",
          "2007-10-01T00:00:00",
          "2008-09-01T00:00:00",
          "2009-11-01T00:00:00",
          "2007-11-01T00:00:00",
          "2007-05-01T00:00:00",
          "2006-01-01T00:00:00",
          "2007-05-01T00:00:00",
          "2010-05-01T00:00:00",
          "2006-06-01T00:00:00",
          "2008-06-01T00:00:00",
          "2008-11-01T00:00:00",
          "2007-06-01T00:00:00",
          "2007-09-01T00:00:00",
          "2006-07-01T00:00:00",
          "2009-07-01T00:00:00",
          "2007-07-01T00:00:00",
          "2007-06-01T00:00:00",
          "2006-07-01T00:00:00",
          "2007-06-01T00:00:00",
          "2008-06-01T00:00:00",
          "2006-06-01T00:00:00",
          "2006-06-01T00:00:00",
          "2009-06-01T00:00:00",
          "2009-08-01T00:00:00",
          "2009-06-01T00:00:00",
          "2008-08-01T00:00:00",
          "2007-12-01T00:00:00",
          "2007-06-01T00:00:00",
          "2009-09-01T00:00:00",
          "2006-05-01T00:00:00",
          "2008-05-01T00:00:00",
          "2009-07-01T00:00:00",
          "2007-09-01T00:00:00",
          "2006-03-01T00:00:00",
          "2009-07-01T00:00:00",
          "2009-01-01T00:00:00",
          "2010-03-01T00:00:00",
          "2008-02-01T00:00:00",
          "2006-05-01T00:00:00",
          "2008-01-01T00:00:00",
          "2009-04-01T00:00:00",
          "2009-05-01T00:00:00",
          "2007-03-01T00:00:00",
          "2008-04-01T00:00:00",
          "2007-04-01T00:00:00",
          "2008-07-01T00:00:00",
          "2008-04-01T00:00:00",
          "2010-03-01T00:00:00",
          "2009-07-01T00:00:00",
          "2006-07-01T00:00:00",
          "2010-03-01T00:00:00",
          "2006-05-01T00:00:00",
          "2008-04-01T00:00:00",
          "2006-09-01T00:00:00",
          "2008-05-01T00:00:00",
          "2006-03-01T00:00:00",
          "2006-04-01T00:00:00",
          "2009-12-01T00:00:00",
          "2006-02-01T00:00:00",
          "2009-03-01T00:00:00",
          "2009-06-01T00:00:00",
          "2009-05-01T00:00:00",
          "2007-06-01T00:00:00",
          "2008-09-01T00:00:00",
          "2010-05-01T00:00:00",
          "2009-05-01T00:00:00",
          "2010-04-01T00:00:00",
          "2009-07-01T00:00:00",
          "2006-06-01T00:00:00",
          "2010-02-01T00:00:00",
          "2010-05-01T00:00:00",
          "2008-08-01T00:00:00",
          "2010-05-01T00:00:00",
          "2010-02-01T00:00:00",
          "2007-12-01T00:00:00",
          "2010-04-01T00:00:00",
          "2010-04-01T00:00:00",
          "2007-08-01T00:00:00",
          "2006-04-01T00:00:00",
          "2009-04-01T00:00:00",
          "2010-05-01T00:00:00",
          "2006-06-01T00:00:00",
          "2006-04-01T00:00:00",
          "2006-06-01T00:00:00",
          "2007-09-01T00:00:00",
          "2007-06-01T00:00:00",
          "2010-05-01T00:00:00",
          "2007-12-01T00:00:00",
          "2008-12-01T00:00:00",
          "2007-10-01T00:00:00",
          "2010-06-01T00:00:00",
          "2006-02-01T00:00:00",
          "2008-05-01T00:00:00",
          "2009-03-01T00:00:00",
          "2008-05-01T00:00:00",
          "2008-12-01T00:00:00",
          "2009-05-01T00:00:00",
          "2007-11-01T00:00:00",
          "2006-07-01T00:00:00",
          "2010-04-01T00:00:00",
          "2008-06-01T00:00:00",
          "2008-06-01T00:00:00",
          "2006-06-01T00:00:00",
          "2008-07-01T00:00:00",
          "2008-02-01T00:00:00",
          "2007-05-01T00:00:00",
          "2006-08-01T00:00:00",
          "2008-04-01T00:00:00",
          "2010-04-01T00:00:00",
          "2009-04-01T00:00:00",
          "2007-06-01T00:00:00",
          "2009-10-01T00:00:00",
          "2010-04-01T00:00:00",
          "2010-06-01T00:00:00",
          "2007-05-01T00:00:00",
          "2008-03-01T00:00:00",
          "2007-01-01T00:00:00",
          "2006-05-01T00:00:00",
          "2009-04-01T00:00:00",
          "2009-12-01T00:00:00",
          "2007-07-01T00:00:00",
          "2007-06-01T00:00:00",
          "2006-06-01T00:00:00",
          "2006-06-01T00:00:00",
          "2010-02-01T00:00:00",
          "2007-07-01T00:00:00",
          "2006-07-01T00:00:00",
          "2008-03-01T00:00:00",
          "2009-01-01T00:00:00",
          "2006-03-01T00:00:00",
          "2009-10-01T00:00:00",
          "2006-03-01T00:00:00",
          "2007-06-01T00:00:00",
          "2007-06-01T00:00:00",
          "2007-06-01T00:00:00",
          "2009-08-01T00:00:00",
          "2006-06-01T00:00:00",
          "2007-05-01T00:00:00",
          "2006-01-01T00:00:00",
          "2006-07-01T00:00:00",
          "2008-05-01T00:00:00",
          "2007-07-01T00:00:00",
          "2007-06-01T00:00:00",
          "2008-03-01T00:00:00",
          "2009-03-01T00:00:00",
          "2006-11-01T00:00:00",
          "2006-05-01T00:00:00",
          "2009-05-01T00:00:00",
          "2006-05-01T00:00:00",
          "2009-06-01T00:00:00",
          "2006-08-01T00:00:00",
          "2009-07-01T00:00:00",
          "2009-08-01T00:00:00",
          "2007-12-01T00:00:00",
          "2009-04-01T00:00:00",
          "2009-06-01T00:00:00",
          "2006-09-01T00:00:00",
          "2007-06-01T00:00:00",
          "2007-08-01T00:00:00",
          "2006-07-01T00:00:00",
          "2010-06-01T00:00:00",
          "2007-12-01T00:00:00",
          "2008-05-01T00:00:00",
          "2006-04-01T00:00:00",
          "2009-07-01T00:00:00",
          "2009-07-01T00:00:00",
          "2007-11-01T00:00:00",
          "2007-08-01T00:00:00",
          "2009-10-01T00:00:00",
          "2008-07-01T00:00:00",
          "2008-07-01T00:00:00",
          "2008-08-01T00:00:00",
          "2007-07-01T00:00:00",
          "2008-12-01T00:00:00",
          "2006-05-01T00:00:00",
          "2009-06-01T00:00:00",
          "2010-04-01T00:00:00",
          "2009-09-01T00:00:00",
          "2006-05-01T00:00:00",
          "2008-07-01T00:00:00",
          "2010-04-01T00:00:00",
          "2006-10-01T00:00:00",
          "2007-04-01T00:00:00",
          "2009-12-01T00:00:00",
          "2008-10-01T00:00:00",
          "2006-04-01T00:00:00",
          "2007-12-01T00:00:00",
          "2006-12-01T00:00:00",
          "2008-03-01T00:00:00",
          "2010-05-01T00:00:00",
          "2006-06-01T00:00:00",
          "2007-08-01T00:00:00",
          "2009-07-01T00:00:00",
          "2007-08-01T00:00:00",
          "2006-07-01T00:00:00",
          "2006-06-01T00:00:00",
          "2007-06-01T00:00:00",
          "2008-07-01T00:00:00",
          "2009-07-01T00:00:00",
          "2009-05-01T00:00:00",
          "2006-07-01T00:00:00",
          "2009-07-01T00:00:00",
          "2009-07-01T00:00:00",
          "2008-12-01T00:00:00",
          "2010-03-01T00:00:00",
          "2010-03-01T00:00:00",
          "2006-01-01T00:00:00",
          "2008-07-01T00:00:00",
          "2010-02-01T00:00:00",
          "2009-11-01T00:00:00",
          "2007-07-01T00:00:00",
          "2009-03-01T00:00:00",
          "2006-07-01T00:00:00",
          "2007-12-01T00:00:00",
          "2010-06-01T00:00:00",
          "2009-06-01T00:00:00",
          "2010-05-01T00:00:00",
          "2006-08-01T00:00:00",
          "2007-04-01T00:00:00",
          "2009-10-01T00:00:00",
          "2007-06-01T00:00:00",
          "2010-04-01T00:00:00",
          "2006-05-01T00:00:00",
          "2009-10-01T00:00:00",
          "2008-07-01T00:00:00",
          "2008-08-01T00:00:00",
          "2008-04-01T00:00:00",
          "2009-06-01T00:00:00",
          "2007-07-01T00:00:00",
          "2006-04-01T00:00:00",
          "2007-07-01T00:00:00",
          "2010-06-01T00:00:00",
          "2009-09-01T00:00:00",
          "2007-07-01T00:00:00",
          "2007-11-01T00:00:00",
          "2009-10-01T00:00:00",
          "2008-12-01T00:00:00",
          "2006-07-01T00:00:00",
          "2008-08-01T00:00:00",
          "2006-07-01T00:00:00",
          "2007-05-01T00:00:00",
          "2009-06-01T00:00:00",
          "2008-03-01T00:00:00",
          "2008-03-01T00:00:00",
          "2007-08-01T00:00:00",
          "2008-04-01T00:00:00",
          "2009-06-01T00:00:00",
          "2006-01-01T00:00:00",
          "2010-06-01T00:00:00",
          "2010-03-01T00:00:00",
          "2008-12-01T00:00:00",
          "2007-08-01T00:00:00",
          "2006-03-01T00:00:00",
          "2007-11-01T00:00:00",
          "2007-04-01T00:00:00",
          "2010-07-01T00:00:00",
          "2008-11-01T00:00:00",
          "2009-06-01T00:00:00",
          "2008-02-01T00:00:00",
          "2008-06-01T00:00:00",
          "2008-05-01T00:00:00",
          "2009-09-01T00:00:00",
          "2009-08-01T00:00:00",
          "2008-07-01T00:00:00",
          "2007-09-01T00:00:00",
          "2009-03-01T00:00:00",
          "2008-07-01T00:00:00",
          "2008-09-01T00:00:00",
          "2007-08-01T00:00:00",
          "2008-07-01T00:00:00",
          "2008-06-01T00:00:00",
          "2009-04-01T00:00:00",
          "2006-10-01T00:00:00",
          "2009-01-01T00:00:00",
          "2007-03-01T00:00:00",
          "2009-08-01T00:00:00",
          "2009-04-01T00:00:00",
          "2008-09-01T00:00:00",
          "2008-06-01T00:00:00",
          "2007-06-01T00:00:00",
          "2008-07-01T00:00:00",
          "2009-11-01T00:00:00",
          "2010-06-01T00:00:00",
          "2006-07-01T00:00:00",
          "2006-06-01T00:00:00",
          "2007-06-01T00:00:00",
          "2006-06-01T00:00:00",
          "2006-12-01T00:00:00",
          "2007-07-01T00:00:00",
          "2009-06-01T00:00:00",
          "2006-07-01T00:00:00",
          "2007-09-01T00:00:00",
          "2008-05-01T00:00:00",
          "2008-03-01T00:00:00",
          "2008-06-01T00:00:00",
          "2009-07-01T00:00:00",
          "2009-12-01T00:00:00",
          "2009-04-01T00:00:00",
          "2009-12-01T00:00:00",
          "2008-08-01T00:00:00",
          "2009-08-01T00:00:00",
          "2006-05-01T00:00:00",
          "2007-04-01T00:00:00",
          "2007-06-01T00:00:00",
          "2007-05-01T00:00:00",
          "2008-06-01T00:00:00",
          "2010-06-01T00:00:00",
          "2007-11-01T00:00:00",
          "2008-06-01T00:00:00",
          "2007-07-01T00:00:00",
          "2007-08-01T00:00:00",
          "2007-07-01T00:00:00",
          "2008-04-01T00:00:00",
          "2007-03-01T00:00:00",
          "2009-09-01T00:00:00",
          "2007-03-01T00:00:00",
          "2006-03-01T00:00:00",
          "2006-08-01T00:00:00",
          "2009-06-01T00:00:00",
          "2006-05-01T00:00:00",
          "2007-03-01T00:00:00",
          "2009-07-01T00:00:00",
          "2007-06-01T00:00:00",
          "2007-02-01T00:00:00",
          "2006-05-01T00:00:00",
          "2009-05-01T00:00:00",
          "2008-06-01T00:00:00",
          "2006-08-01T00:00:00",
          "2006-05-01T00:00:00",
          "2008-06-01T00:00:00",
          "2009-12-01T00:00:00",
          "2009-11-01T00:00:00",
          "2007-05-01T00:00:00",
          "2008-06-01T00:00:00",
          "2009-06-01T00:00:00",
          "2007-06-01T00:00:00",
          "2007-05-01T00:00:00",
          "2008-02-01T00:00:00",
          "2007-04-01T00:00:00",
          "2010-03-01T00:00:00",
          "2009-06-01T00:00:00",
          "2009-07-01T00:00:00",
          "2006-09-01T00:00:00",
          "2009-09-01T00:00:00",
          "2008-10-01T00:00:00",
          "2009-07-01T00:00:00",
          "2009-06-01T00:00:00",
          "2006-03-01T00:00:00",
          "2006-07-01T00:00:00",
          "2007-06-01T00:00:00",
          "2007-06-01T00:00:00",
          "2009-09-01T00:00:00",
          "2009-08-01T00:00:00",
          "2009-07-01T00:00:00",
          "2007-05-01T00:00:00",
          "2009-06-01T00:00:00",
          "2008-08-01T00:00:00",
          "2007-05-01T00:00:00",
          "2006-10-01T00:00:00",
          "2007-10-01T00:00:00",
          "2007-08-01T00:00:00",
          "2006-04-01T00:00:00",
          "2007-06-01T00:00:00",
          "2008-11-01T00:00:00",
          "2007-07-01T00:00:00",
          "2007-03-01T00:00:00",
          "2008-08-01T00:00:00",
          "2008-06-01T00:00:00",
          "2010-04-01T00:00:00",
          "2007-01-01T00:00:00",
          "2006-10-01T00:00:00",
          "2008-01-01T00:00:00",
          "2008-07-01T00:00:00",
          "2008-04-01T00:00:00",
          "2006-07-01T00:00:00",
          "2010-05-01T00:00:00",
          "2009-03-01T00:00:00",
          "2007-06-01T00:00:00",
          "2009-06-01T00:00:00",
          "2007-06-01T00:00:00",
          "2006-09-01T00:00:00",
          "2006-02-01T00:00:00",
          "2007-05-01T00:00:00",
          "2007-04-01T00:00:00",
          "2008-06-01T00:00:00",
          "2009-11-01T00:00:00",
          "2008-10-01T00:00:00",
          "2008-06-01T00:00:00",
          "2009-07-01T00:00:00",
          "2009-05-01T00:00:00",
          "2008-08-01T00:00:00",
          "2006-08-01T00:00:00",
          "2006-05-01T00:00:00",
          "2006-09-01T00:00:00",
          "2008-08-01T00:00:00",
          "2006-10-01T00:00:00",
          "2010-05-01T00:00:00",
          "2006-04-01T00:00:00",
          "2008-07-01T00:00:00",
          "2008-07-01T00:00:00",
          "2006-07-01T00:00:00",
          "2010-05-01T00:00:00",
          "2008-06-01T00:00:00",
          "2010-03-01T00:00:00",
          "2009-09-01T00:00:00",
          "2006-12-01T00:00:00",
          "2008-11-01T00:00:00",
          "2006-10-01T00:00:00",
          "2009-07-01T00:00:00",
          "2007-12-01T00:00:00",
          "2007-12-01T00:00:00",
          "2008-10-01T00:00:00",
          "2009-08-01T00:00:00",
          "2006-05-01T00:00:00",
          "2008-02-01T00:00:00",
          "2008-11-01T00:00:00",
          "2007-06-01T00:00:00",
          "2009-08-01T00:00:00",
          "2007-05-01T00:00:00",
          "2008-07-01T00:00:00",
          "2009-07-01T00:00:00",
          "2006-03-01T00:00:00",
          "2008-05-01T00:00:00",
          "2009-07-01T00:00:00",
          "2009-06-01T00:00:00",
          "2008-08-01T00:00:00",
          "2008-09-01T00:00:00",
          "2009-06-01T00:00:00",
          "2008-06-01T00:00:00",
          "2009-05-01T00:00:00",
          "2008-04-01T00:00:00",
          "2006-08-01T00:00:00",
          "2006-10-01T00:00:00",
          "2007-02-01T00:00:00",
          "2006-03-01T00:00:00",
          "2008-07-01T00:00:00",
          "2006-06-01T00:00:00",
          "2007-12-01T00:00:00",
          "2006-02-01T00:00:00",
          "2010-06-01T00:00:00",
          "2008-09-01T00:00:00",
          "2009-10-01T00:00:00",
          "2009-11-01T00:00:00",
          "2006-08-01T00:00:00",
          "2007-09-01T00:00:00",
          "2007-04-01T00:00:00",
          "2009-05-01T00:00:00",
          "2007-07-01T00:00:00",
          "2009-11-01T00:00:00",
          "2007-12-01T00:00:00",
          "2010-05-01T00:00:00",
          "2010-05-01T00:00:00",
          "2006-06-01T00:00:00",
          "2008-06-01T00:00:00",
          "2007-07-01T00:00:00",
          "2008-08-01T00:00:00",
          "2008-09-01T00:00:00",
          "2008-06-01T00:00:00",
          "2009-07-01T00:00:00",
          "2007-06-01T00:00:00",
          "2006-11-01T00:00:00",
          "2010-02-01T00:00:00",
          "2007-08-01T00:00:00",
          "2010-03-01T00:00:00",
          "2007-09-01T00:00:00",
          "2008-06-01T00:00:00",
          "2006-06-01T00:00:00",
          "2007-08-01T00:00:00",
          "2009-04-01T00:00:00",
          "2007-07-01T00:00:00",
          "2010-06-01T00:00:00",
          "2007-03-01T00:00:00",
          "2009-01-01T00:00:00",
          "2009-11-01T00:00:00",
          "2008-05-01T00:00:00",
          "2006-10-01T00:00:00",
          "2008-04-01T00:00:00",
          "2007-05-01T00:00:00",
          "2009-07-01T00:00:00",
          "2007-04-01T00:00:00",
          "2009-10-01T00:00:00",
          "2007-03-01T00:00:00",
          "2008-07-01T00:00:00",
          "2008-06-01T00:00:00",
          "2010-06-01T00:00:00",
          "2007-12-01T00:00:00",
          "2008-05-01T00:00:00",
          "2009-10-01T00:00:00",
          "2009-07-01T00:00:00",
          "2008-06-01T00:00:00",
          "2008-08-01T00:00:00",
          "2010-03-01T00:00:00",
          "2008-08-01T00:00:00",
          "2008-02-01T00:00:00",
          "2010-01-01T00:00:00",
          "2009-03-01T00:00:00",
          "2007-11-01T00:00:00",
          "2009-07-01T00:00:00",
          "2009-07-01T00:00:00",
          "2008-04-01T00:00:00",
          "2006-01-01T00:00:00",
          "2006-11-01T00:00:00",
          "2007-08-01T00:00:00",
          "2008-10-01T00:00:00",
          "2006-11-01T00:00:00",
          "2006-07-01T00:00:00",
          "2009-02-01T00:00:00",
          "2009-07-01T00:00:00",
          "2006-06-01T00:00:00",
          "2007-06-01T00:00:00",
          "2008-07-01T00:00:00",
          "2009-04-01T00:00:00",
          "2006-05-01T00:00:00",
          "2009-05-01T00:00:00",
          "2009-07-01T00:00:00",
          "2007-10-01T00:00:00",
          "2010-05-01T00:00:00",
          "2009-07-01T00:00:00",
          "2008-11-01T00:00:00",
          "2007-07-01T00:00:00",
          "2010-06-01T00:00:00",
          "2007-09-01T00:00:00",
          "2007-08-01T00:00:00",
          "2007-03-01T00:00:00",
          "2007-10-01T00:00:00",
          "2007-06-01T00:00:00",
          "2008-05-01T00:00:00",
          "2007-01-01T00:00:00",
          "2006-04-01T00:00:00",
          "2006-12-01T00:00:00",
          "2009-04-01T00:00:00",
          "2006-07-01T00:00:00",
          "2006-06-01T00:00:00",
          "2006-09-01T00:00:00",
          "2010-04-01T00:00:00",
          "2008-07-01T00:00:00",
          "2006-05-01T00:00:00",
          "2006-07-01T00:00:00",
          "2006-07-01T00:00:00",
          "2010-05-01T00:00:00",
          "2010-05-01T00:00:00",
          "2010-07-01T00:00:00",
          "2007-06-01T00:00:00",
          "2009-12-01T00:00:00",
          "2007-07-01T00:00:00",
          "2008-12-01T00:00:00",
          "2008-07-01T00:00:00",
          "2010-01-01T00:00:00",
          "2008-10-01T00:00:00",
          "2006-05-01T00:00:00",
          "2010-03-01T00:00:00",
          "2009-08-01T00:00:00",
          "2007-07-01T00:00:00",
          "2008-11-01T00:00:00",
          "2008-08-01T00:00:00",
          "2006-05-01T00:00:00",
          "2006-12-01T00:00:00",
          "2010-05-01T00:00:00",
          "2009-07-01T00:00:00",
          "2008-05-01T00:00:00",
          "2009-02-01T00:00:00",
          "2009-11-01T00:00:00",
          "2009-12-01T00:00:00",
          "2009-02-01T00:00:00",
          "2009-07-01T00:00:00",
          "2009-01-01T00:00:00",
          "2010-03-01T00:00:00",
          "2007-05-01T00:00:00",
          "2008-07-01T00:00:00",
          "2009-03-01T00:00:00",
          "2007-05-01T00:00:00",
          "2006-10-01T00:00:00",
          "2006-07-01T00:00:00",
          "2006-06-01T00:00:00",
          "2009-03-01T00:00:00",
          "2009-04-01T00:00:00",
          "2007-05-01T00:00:00",
          "2008-05-01T00:00:00",
          "2007-12-01T00:00:00",
          "2009-10-01T00:00:00",
          "2008-10-01T00:00:00",
          "2008-07-01T00:00:00",
          "2009-04-01T00:00:00",
          "2009-05-01T00:00:00",
          "2010-03-01T00:00:00",
          "2009-04-01T00:00:00",
          "2010-06-01T00:00:00",
          "2007-08-01T00:00:00",
          "2006-07-01T00:00:00",
          "2006-03-01T00:00:00",
          "2009-07-01T00:00:00",
          "2009-03-01T00:00:00",
          "2009-04-01T00:00:00",
          "2010-04-01T00:00:00",
          "2008-08-01T00:00:00",
          "2007-11-01T00:00:00",
          "2009-10-01T00:00:00",
          "2009-10-01T00:00:00",
          "2010-06-01T00:00:00",
          "2009-07-01T00:00:00",
          "2006-04-01T00:00:00",
          "2008-08-01T00:00:00",
          "2010-03-01T00:00:00",
          "2008-07-01T00:00:00",
          "2006-10-01T00:00:00",
          "2010-06-01T00:00:00",
          "2009-04-01T00:00:00",
          "2006-04-01T00:00:00",
          "2010-03-01T00:00:00",
          "2007-07-01T00:00:00",
          "2007-07-01T00:00:00",
          "2009-06-01T00:00:00",
          "2006-07-01T00:00:00",
          "2006-06-01T00:00:00",
          "2007-10-01T00:00:00",
          "2006-05-01T00:00:00",
          "2007-06-01T00:00:00",
          "2006-07-01T00:00:00",
          "2009-06-01T00:00:00",
          "2009-07-01T00:00:00",
          "2008-06-01T00:00:00",
          "2009-09-01T00:00:00",
          "2010-06-01T00:00:00",
          "2010-01-01T00:00:00",
          "2008-08-01T00:00:00",
          "2007-07-01T00:00:00",
          "2009-09-01T00:00:00",
          "2007-05-01T00:00:00",
          "2007-06-01T00:00:00",
          "2007-06-01T00:00:00",
          "2008-10-01T00:00:00",
          "2010-04-01T00:00:00",
          "2007-04-01T00:00:00",
          "2008-04-01T00:00:00",
          "2009-07-01T00:00:00",
          "2007-06-01T00:00:00",
          "2008-05-01T00:00:00",
          "2007-07-01T00:00:00",
          "2008-10-01T00:00:00",
          "2009-01-01T00:00:00",
          "2006-06-01T00:00:00",
          "2008-07-01T00:00:00",
          "2006-10-01T00:00:00",
          "2009-05-01T00:00:00",
          "2006-06-01T00:00:00",
          "2009-11-01T00:00:00",
          "2006-01-01T00:00:00",
          "2008-06-01T00:00:00",
          "2010-06-01T00:00:00",
          "2007-04-01T00:00:00",
          "2006-07-01T00:00:00",
          "2010-05-01T00:00:00",
          "2006-07-01T00:00:00",
          "2008-07-01T00:00:00",
          "2010-06-01T00:00:00",
          "2010-06-01T00:00:00",
          "2008-06-01T00:00:00",
          "2009-02-01T00:00:00",
          "2007-10-01T00:00:00",
          "2009-07-01T00:00:00",
          "2006-06-01T00:00:00",
          "2008-06-01T00:00:00",
          "2008-05-01T00:00:00",
          "2009-04-01T00:00:00",
          "2009-06-01T00:00:00",
          "2006-07-01T00:00:00",
          "2008-06-01T00:00:00",
          "2006-06-01T00:00:00",
          "2010-01-01T00:00:00",
          "2009-02-01T00:00:00",
          "2008-09-01T00:00:00",
          "2010-02-01T00:00:00",
          "2007-06-01T00:00:00",
          "2008-11-01T00:00:00",
          "2008-06-01T00:00:00",
          "2008-05-01T00:00:00",
          "2008-03-01T00:00:00",
          "2008-06-01T00:00:00",
          "2008-05-01T00:00:00",
          "2007-07-01T00:00:00",
          "2008-06-01T00:00:00",
          "2007-01-01T00:00:00",
          "2009-07-01T00:00:00",
          "2009-08-01T00:00:00",
          "2008-09-01T00:00:00",
          "2007-08-01T00:00:00",
          "2007-11-01T00:00:00",
          "2006-05-01T00:00:00",
          "2007-08-01T00:00:00",
          "2009-08-01T00:00:00",
          "2006-07-01T00:00:00",
          "2010-04-01T00:00:00",
          "2008-10-01T00:00:00",
          "2009-03-01T00:00:00",
          "2009-06-01T00:00:00",
          "2006-08-01T00:00:00",
          "2007-06-01T00:00:00",
          "2010-04-01T00:00:00",
          "2010-05-01T00:00:00",
          "2009-07-01T00:00:00",
          "2008-05-01T00:00:00",
          "2009-08-01T00:00:00",
          "2007-11-01T00:00:00",
          "2007-05-01T00:00:00",
          "2006-05-01T00:00:00",
          "2010-06-01T00:00:00",
          "2009-08-01T00:00:00",
          "2010-06-01T00:00:00",
          "2008-10-01T00:00:00",
          "2009-09-01T00:00:00",
          "2009-08-01T00:00:00",
          "2007-08-01T00:00:00",
          "2007-01-01T00:00:00",
          "2009-06-01T00:00:00",
          "2010-06-01T00:00:00",
          "2009-07-01T00:00:00",
          "2007-06-01T00:00:00",
          "2007-04-01T00:00:00",
          "2009-12-01T00:00:00",
          "2006-03-01T00:00:00",
          "2009-07-01T00:00:00",
          "2008-01-01T00:00:00",
          "2006-06-01T00:00:00",
          "2008-04-01T00:00:00",
          "2007-10-01T00:00:00",
          "2009-02-01T00:00:00",
          "2007-07-01T00:00:00",
          "2009-07-01T00:00:00",
          "2006-02-01T00:00:00",
          "2008-06-01T00:00:00",
          "2009-06-01T00:00:00",
          "2008-10-01T00:00:00",
          "2006-04-01T00:00:00",
          "2009-06-01T00:00:00",
          "2010-03-01T00:00:00",
          "2006-06-01T00:00:00",
          "2007-06-01T00:00:00",
          "2009-05-01T00:00:00",
          "2006-07-01T00:00:00",
          "2006-08-01T00:00:00",
          "2007-08-01T00:00:00",
          "2010-02-01T00:00:00",
          "2007-06-01T00:00:00",
          "2006-06-01T00:00:00",
          "2006-06-01T00:00:00",
          "2009-06-01T00:00:00",
          "2010-01-01T00:00:00",
          "2009-10-01T00:00:00",
          "2006-07-01T00:00:00",
          "2007-08-01T00:00:00",
          "2009-06-01T00:00:00",
          "2007-01-01T00:00:00",
          "2006-10-01T00:00:00",
          "2009-04-01T00:00:00",
          "2007-11-01T00:00:00",
          "2008-05-01T00:00:00",
          "2007-07-01T00:00:00",
          "2008-09-01T00:00:00",
          "2006-10-01T00:00:00",
          "2008-07-01T00:00:00",
          "2006-05-01T00:00:00",
          "2008-03-01T00:00:00",
          "2007-05-01T00:00:00",
          "2008-04-01T00:00:00",
          "2009-06-01T00:00:00",
          "2006-11-01T00:00:00",
          "2009-07-01T00:00:00",
          "2009-07-01T00:00:00",
          "2007-03-01T00:00:00",
          "2009-08-01T00:00:00",
          "2008-11-01T00:00:00",
          "2006-06-01T00:00:00",
          "2009-08-01T00:00:00",
          "2009-02-01T00:00:00",
          "2006-08-01T00:00:00",
          "2010-06-01T00:00:00",
          "2006-07-01T00:00:00",
          "2009-06-01T00:00:00",
          "2007-08-01T00:00:00",
          "2007-06-01T00:00:00",
          "2009-01-01T00:00:00",
          "2009-09-01T00:00:00",
          "2006-03-01T00:00:00",
          "2007-11-01T00:00:00",
          "2006-02-01T00:00:00",
          "2010-03-01T00:00:00",
          "2007-07-01T00:00:00",
          "2006-07-01T00:00:00",
          "2009-04-01T00:00:00",
          "2008-09-01T00:00:00",
          "2006-10-01T00:00:00",
          "2007-08-01T00:00:00",
          "2009-05-01T00:00:00",
          "2007-04-01T00:00:00",
          "2007-10-01T00:00:00",
          "2010-05-01T00:00:00",
          "2010-02-01T00:00:00",
          "2008-07-01T00:00:00",
          "2007-07-01T00:00:00",
          "2009-05-01T00:00:00",
          "2010-02-01T00:00:00",
          "2007-07-01T00:00:00",
          "2009-06-01T00:00:00",
          "2008-07-01T00:00:00",
          "2009-05-01T00:00:00",
          "2006-03-01T00:00:00",
          "2006-12-01T00:00:00",
          "2009-07-01T00:00:00",
          "2010-04-01T00:00:00",
          "2008-12-01T00:00:00",
          "2009-10-01T00:00:00",
          "2006-04-01T00:00:00",
          "2006-08-01T00:00:00",
          "2007-11-01T00:00:00",
          "2007-05-01T00:00:00",
          "2009-06-01T00:00:00",
          "2008-07-01T00:00:00",
          "2009-07-01T00:00:00",
          "2008-03-01T00:00:00",
          "2008-05-01T00:00:00",
          "2009-08-01T00:00:00",
          "2008-08-01T00:00:00",
          "2006-06-01T00:00:00",
          "2010-04-01T00:00:00",
          "2007-06-01T00:00:00",
          "2006-08-01T00:00:00",
          "2006-06-01T00:00:00",
          "2009-11-01T00:00:00",
          "2007-07-01T00:00:00",
          "2006-08-01T00:00:00",
          "2009-07-01T00:00:00",
          "2006-08-01T00:00:00",
          "2006-01-01T00:00:00",
          "2009-02-01T00:00:00",
          "2006-05-01T00:00:00",
          "2010-02-01T00:00:00",
          "2009-07-01T00:00:00",
          "2007-01-01T00:00:00",
          "2008-07-01T00:00:00",
          "2007-06-01T00:00:00",
          "2009-05-01T00:00:00",
          "2008-11-01T00:00:00",
          "2007-03-01T00:00:00",
          "2009-08-01T00:00:00",
          "2009-04-01T00:00:00",
          "2006-06-01T00:00:00",
          "2008-08-01T00:00:00",
          "2010-05-01T00:00:00",
          "2007-08-01T00:00:00",
          "2009-06-01T00:00:00",
          "2007-11-01T00:00:00",
          "2009-11-01T00:00:00",
          "2009-06-01T00:00:00",
          "2009-08-01T00:00:00",
          "2007-05-01T00:00:00",
          "2006-04-01T00:00:00",
          "2008-06-01T00:00:00",
          "2006-07-01T00:00:00",
          "2007-03-01T00:00:00",
          "2008-05-01T00:00:00",
          "2008-05-01T00:00:00",
          "2007-03-01T00:00:00",
          "2010-04-01T00:00:00",
          "2008-04-01T00:00:00",
          "2007-04-01T00:00:00",
          "2006-05-01T00:00:00",
          "2006-07-01T00:00:00",
          "2009-08-01T00:00:00",
          "2006-11-01T00:00:00",
          "2006-02-01T00:00:00",
          "2007-06-01T00:00:00",
          "2009-01-01T00:00:00",
          "2009-09-01T00:00:00",
          "2008-09-01T00:00:00",
          "2009-05-01T00:00:00",
          "2009-04-01T00:00:00",
          "2006-01-01T00:00:00",
          "2008-07-01T00:00:00",
          "2009-08-01T00:00:00",
          "2008-05-01T00:00:00",
          "2009-07-01T00:00:00",
          "2009-06-01T00:00:00",
          "2006-07-01T00:00:00",
          "2008-02-01T00:00:00",
          "2009-11-01T00:00:00",
          "2010-04-01T00:00:00",
          "2007-08-01T00:00:00",
          "2007-10-01T00:00:00",
          "2007-06-01T00:00:00",
          "2010-05-01T00:00:00",
          "2006-11-01T00:00:00",
          "2008-05-01T00:00:00",
          "2006-06-01T00:00:00",
          "2009-01-01T00:00:00",
          "2009-07-01T00:00:00",
          "2007-03-01T00:00:00",
          "2010-04-01T00:00:00",
          "2008-08-01T00:00:00",
          "2007-09-01T00:00:00",
          "2006-07-01T00:00:00",
          "2009-11-01T00:00:00",
          "2010-04-01T00:00:00",
          "2009-05-01T00:00:00",
          "2008-06-01T00:00:00",
          "2006-06-01T00:00:00",
          "2007-05-01T00:00:00",
          "2007-06-01T00:00:00",
          "2009-05-01T00:00:00",
          "2006-08-01T00:00:00",
          "2009-07-01T00:00:00",
          "2007-05-01T00:00:00",
          "2007-07-01T00:00:00",
          "2006-04-01T00:00:00",
          "2006-03-01T00:00:00",
          "2006-05-01T00:00:00",
          "2007-04-01T00:00:00",
          "2008-10-01T00:00:00",
          "2010-06-01T00:00:00",
          "2007-09-01T00:00:00",
          "2006-03-01T00:00:00",
          "2006-07-01T00:00:00",
          "2010-04-01T00:00:00",
          "2010-05-01T00:00:00",
          "2009-05-01T00:00:00",
          "2006-04-01T00:00:00",
          "2006-04-01T00:00:00",
          "2009-06-01T00:00:00",
          "2008-03-01T00:00:00",
          "2008-06-01T00:00:00",
          "2006-10-01T00:00:00",
          "2010-05-01T00:00:00",
          "2007-03-01T00:00:00",
          "2007-03-01T00:00:00",
          "2007-10-01T00:00:00",
          "2009-07-01T00:00:00",
          "2009-04-01T00:00:00",
          "2009-01-01T00:00:00",
          "2007-07-01T00:00:00",
          "2007-04-01T00:00:00",
          "2006-07-01T00:00:00",
          "2007-04-01T00:00:00",
          "2010-04-01T00:00:00",
          "2007-05-01T00:00:00",
          "2006-09-01T00:00:00",
          "2007-11-01T00:00:00",
          "2009-03-01T00:00:00",
          "2008-06-01T00:00:00",
          "2008-09-01T00:00:00",
          "2006-07-01T00:00:00",
          "2007-05-01T00:00:00",
          "2006-08-01T00:00:00",
          "2007-11-01T00:00:00",
          "2009-03-01T00:00:00",
          "2008-05-01T00:00:00",
          "2008-12-01T00:00:00",
          "2006-07-01T00:00:00",
          "2007-05-01T00:00:00",
          "2006-07-01T00:00:00",
          "2009-10-01T00:00:00",
          "2009-06-01T00:00:00",
          "2007-07-01T00:00:00",
          "2009-11-01T00:00:00",
          "2009-06-01T00:00:00",
          "2007-11-01T00:00:00",
          "2007-07-01T00:00:00",
          "2007-08-01T00:00:00",
          "2009-12-01T00:00:00",
          "2007-09-01T00:00:00",
          "2007-05-01T00:00:00",
          "2009-06-01T00:00:00",
          "2007-08-01T00:00:00",
          "2007-05-01T00:00:00",
          "2008-04-01T00:00:00",
          "2010-05-01T00:00:00",
          "2009-05-01T00:00:00",
          "2007-05-01T00:00:00",
          "2008-06-01T00:00:00",
          "2009-10-01T00:00:00",
          "2007-04-01T00:00:00",
          "2008-07-01T00:00:00",
          "2010-07-01T00:00:00",
          "2006-08-01T00:00:00",
          "2006-05-01T00:00:00",
          "2009-07-01T00:00:00",
          "2008-08-01T00:00:00",
          "2009-07-01T00:00:00",
          "2007-11-01T00:00:00",
          "2006-11-01T00:00:00",
          "2006-07-01T00:00:00",
          "2008-06-01T00:00:00",
          "2008-05-01T00:00:00",
          "2007-07-01T00:00:00",
          "2008-10-01T00:00:00",
          "2009-07-01T00:00:00",
          "2008-06-01T00:00:00",
          "2008-07-01T00:00:00",
          "2010-07-01T00:00:00",
          "2008-11-01T00:00:00",
          "2007-05-01T00:00:00",
          "2008-01-01T00:00:00",
          "2007-06-01T00:00:00",
          "2009-09-01T00:00:00",
          "2010-02-01T00:00:00",
          "2006-02-01T00:00:00",
          "2008-07-01T00:00:00",
          "2006-07-01T00:00:00",
          "2008-07-01T00:00:00",
          "2008-11-01T00:00:00",
          "2008-03-01T00:00:00",
          "2007-03-01T00:00:00",
          "2006-07-01T00:00:00",
          "2007-04-01T00:00:00",
          "2008-10-01T00:00:00",
          "2009-12-01T00:00:00",
          "2009-07-01T00:00:00",
          "2006-04-01T00:00:00",
          "2006-04-01T00:00:00",
          "2008-11-01T00:00:00",
          "2007-07-01T00:00:00",
          "2006-06-01T00:00:00",
          "2007-05-01T00:00:00",
          "2006-03-01T00:00:00",
          "2009-08-01T00:00:00",
          "2006-07-01T00:00:00",
          "2009-07-01T00:00:00",
          "2010-06-01T00:00:00",
          "2007-03-01T00:00:00",
          "2007-11-01T00:00:00",
          "2007-07-01T00:00:00",
          "2009-06-01T00:00:00",
          "2010-03-01T00:00:00",
          "2008-07-01T00:00:00",
          "2006-11-01T00:00:00",
          "2006-07-01T00:00:00",
          "2009-06-01T00:00:00",
          "2006-10-01T00:00:00",
          "2006-07-01T00:00:00",
          "2009-03-01T00:00:00",
          "2009-05-01T00:00:00",
          "2009-10-01T00:00:00",
          "2006-07-01T00:00:00",
          "2009-06-01T00:00:00",
          "2006-11-01T00:00:00",
          "2006-05-01T00:00:00",
          "2008-10-01T00:00:00",
          "2006-05-01T00:00:00",
          "2010-05-01T00:00:00",
          "2010-06-01T00:00:00",
          "2009-08-01T00:00:00",
          "2006-05-01T00:00:00",
          "2006-05-01T00:00:00",
          "2007-05-01T00:00:00",
          "2010-04-01T00:00:00",
          "2009-09-01T00:00:00",
          "2006-07-01T00:00:00",
          "2006-04-01T00:00:00",
          "2006-11-01T00:00:00",
          "2008-08-01T00:00:00",
          "2007-01-01T00:00:00",
          "2006-10-01T00:00:00",
          "2008-02-01T00:00:00",
          "2007-06-01T00:00:00",
          "2008-01-01T00:00:00",
          "2008-12-01T00:00:00",
          "2008-10-01T00:00:00",
          "2008-08-01T00:00:00",
          "2007-08-01T00:00:00",
          "2006-05-01T00:00:00",
          "2007-03-01T00:00:00",
          "2010-05-01T00:00:00",
          "2008-11-01T00:00:00",
          "2006-07-01T00:00:00",
          "2010-06-01T00:00:00",
          "2006-09-01T00:00:00",
          "2006-03-01T00:00:00",
          "2007-12-01T00:00:00",
          "2008-07-01T00:00:00",
          "2007-06-01T00:00:00",
          "2010-01-01T00:00:00",
          "2006-09-01T00:00:00",
          "2006-06-01T00:00:00",
          "2007-01-01T00:00:00",
          "2006-03-01T00:00:00",
          "2010-05-01T00:00:00",
          "2008-04-01T00:00:00",
          "2007-05-01T00:00:00",
          "2010-04-01T00:00:00",
          "2006-03-01T00:00:00",
          "2009-11-01T00:00:00",
          "2007-07-01T00:00:00",
          "2008-07-01T00:00:00",
          "2007-11-01T00:00:00",
          "2008-08-01T00:00:00",
          "2009-07-01T00:00:00",
          "2008-07-01T00:00:00",
          "2008-07-01T00:00:00",
          "2009-06-01T00:00:00",
          "2009-06-01T00:00:00",
          "2009-11-01T00:00:00",
          "2007-07-01T00:00:00",
          "2008-08-01T00:00:00",
          "2006-03-01T00:00:00",
          "2007-01-01T00:00:00",
          "2010-05-01T00:00:00",
          "2008-05-01T00:00:00",
          "2007-07-01T00:00:00",
          "2010-04-01T00:00:00",
          "2009-08-01T00:00:00",
          "2006-11-01T00:00:00",
          "2008-05-01T00:00:00",
          "2007-11-01T00:00:00",
          "2007-07-01T00:00:00",
          "2009-12-01T00:00:00",
          "2009-06-01T00:00:00",
          "2008-03-01T00:00:00",
          "2010-04-01T00:00:00",
          "2009-03-01T00:00:00",
          "2006-07-01T00:00:00",
          "2009-09-01T00:00:00",
          "2010-04-01T00:00:00",
          "2010-03-01T00:00:00",
          "2009-05-01T00:00:00",
          "2010-06-01T00:00:00",
          "2006-06-01T00:00:00",
          "2009-10-01T00:00:00",
          "2006-10-01T00:00:00",
          "2010-04-01T00:00:00",
          "2009-02-01T00:00:00",
          "2009-12-01T00:00:00",
          "2006-03-01T00:00:00",
          "2006-04-01T00:00:00",
          "2006-11-01T00:00:00",
          "2008-12-01T00:00:00",
          "2006-06-01T00:00:00",
          "2008-01-01T00:00:00",
          "2010-05-01T00:00:00",
          "2009-05-01T00:00:00",
          "2009-11-01T00:00:00",
          "2006-12-01T00:00:00",
          "2006-04-01T00:00:00",
          "2006-04-01T00:00:00",
          "2009-11-01T00:00:00",
          "2006-09-01T00:00:00",
          "2009-05-01T00:00:00",
          "2008-05-01T00:00:00",
          "2008-06-01T00:00:00",
          "2010-05-01T00:00:00",
          "2007-01-01T00:00:00",
          "2007-06-01T00:00:00",
          "2010-05-01T00:00:00",
          "2007-10-01T00:00:00",
          "2008-06-01T00:00:00",
          "2009-01-01T00:00:00",
          "2007-04-01T00:00:00",
          "2006-08-01T00:00:00",
          "2007-02-01T00:00:00",
          "2009-06-01T00:00:00",
          "2008-07-01T00:00:00",
          "2010-06-01T00:00:00",
          "2009-12-01T00:00:00",
          "2007-02-01T00:00:00",
          "2008-01-01T00:00:00",
          "2007-05-01T00:00:00",
          "2008-10-01T00:00:00",
          "2008-06-01T00:00:00",
          "2006-06-01T00:00:00",
          "2007-12-01T00:00:00",
          "2006-07-01T00:00:00",
          "2009-05-01T00:00:00",
          "2006-07-01T00:00:00",
          "2009-05-01T00:00:00",
          "2009-04-01T00:00:00",
          "2008-11-01T00:00:00",
          "2006-03-01T00:00:00",
          "2006-06-01T00:00:00",
          "2006-06-01T00:00:00",
          "2007-06-01T00:00:00",
          "2008-07-01T00:00:00",
          "2007-08-01T00:00:00",
          "2009-03-01T00:00:00",
          "2007-07-01T00:00:00",
          "2007-07-01T00:00:00",
          "2006-06-01T00:00:00",
          "2007-05-01T00:00:00",
          "2007-08-01T00:00:00",
          "2008-12-01T00:00:00",
          "2009-08-01T00:00:00",
          "2008-03-01T00:00:00",
          "2009-07-01T00:00:00",
          "2010-03-01T00:00:00",
          "2008-06-01T00:00:00",
          "2006-09-01T00:00:00",
          "2008-10-01T00:00:00",
          "2010-04-01T00:00:00",
          "2010-06-01T00:00:00",
          "2006-09-01T00:00:00",
          "2008-05-01T00:00:00",
          "2009-06-01T00:00:00",
          "2009-06-01T00:00:00",
          "2007-03-01T00:00:00",
          "2006-04-01T00:00:00",
          "2010-01-01T00:00:00",
          "2008-06-01T00:00:00",
          "2006-07-01T00:00:00",
          "2009-06-01T00:00:00",
          "2010-05-01T00:00:00",
          "2009-10-01T00:00:00",
          "2008-10-01T00:00:00",
          "2006-06-01T00:00:00",
          "2007-03-01T00:00:00",
          "2008-07-01T00:00:00",
          "2007-12-01T00:00:00",
          "2008-04-01T00:00:00",
          "2009-07-01T00:00:00",
          "2006-06-01T00:00:00",
          "2008-05-01T00:00:00",
          "2010-06-01T00:00:00",
          "2008-05-01T00:00:00",
          "2006-10-01T00:00:00",
          "2007-08-01T00:00:00",
          "2009-10-01T00:00:00",
          "2010-05-01T00:00:00",
          "2006-07-01T00:00:00",
          "2007-08-01T00:00:00",
          "2009-10-01T00:00:00",
          "2007-03-01T00:00:00",
          "2006-09-01T00:00:00",
          "2009-04-01T00:00:00",
          "2006-12-01T00:00:00",
          "2008-04-01T00:00:00",
          "2006-10-01T00:00:00",
          "2007-02-01T00:00:00",
          "2010-06-01T00:00:00",
          "2007-05-01T00:00:00",
          "2009-05-01T00:00:00",
          "2009-10-01T00:00:00",
          "2008-07-01T00:00:00",
          "2008-04-01T00:00:00",
          "2006-07-01T00:00:00",
          "2007-08-01T00:00:00",
          "2006-01-01T00:00:00",
          "2008-01-01T00:00:00",
          "2009-03-01T00:00:00",
          "2009-03-01T00:00:00",
          "2010-06-01T00:00:00",
          "2008-11-01T00:00:00",
          "2009-06-01T00:00:00",
          "2009-09-01T00:00:00",
          "2009-06-01T00:00:00",
          "2009-09-01T00:00:00",
          "2008-06-01T00:00:00",
          "2009-05-01T00:00:00",
          "2010-04-01T00:00:00",
          "2009-05-01T00:00:00",
          "2008-08-01T00:00:00",
          "2006-12-01T00:00:00",
          "2006-05-01T00:00:00",
          "2010-07-01T00:00:00",
          "2008-03-01T00:00:00",
          "2006-08-01T00:00:00",
          "2007-06-01T00:00:00",
          "2008-10-01T00:00:00",
          "2008-08-01T00:00:00",
          "2008-04-01T00:00:00",
          "2010-02-01T00:00:00",
          "2007-04-01T00:00:00",
          "2006-07-01T00:00:00",
          "2009-10-01T00:00:00",
          "2007-08-01T00:00:00",
          "2008-05-01T00:00:00",
          "2006-05-01T00:00:00",
          "2008-07-01T00:00:00",
          "2007-05-01T00:00:00",
          "2008-11-01T00:00:00",
          "2010-04-01T00:00:00",
          "2007-11-01T00:00:00",
          "2008-09-01T00:00:00",
          "2008-05-01T00:00:00",
          "2009-04-01T00:00:00",
          "2009-05-01T00:00:00",
          "2007-11-01T00:00:00",
          "2007-05-01T00:00:00",
          "2010-04-01T00:00:00",
          "2007-12-01T00:00:00",
          "2007-05-01T00:00:00",
          "2006-08-01T00:00:00",
          "2009-09-01T00:00:00",
          "2009-05-01T00:00:00",
          "2006-05-01T00:00:00",
          "2006-07-01T00:00:00",
          "2009-10-01T00:00:00",
          "2007-08-01T00:00:00",
          "2010-02-01T00:00:00",
          "2010-05-01T00:00:00",
          "2010-04-01T00:00:00",
          "2008-06-01T00:00:00"
         ],
         "xaxis": "x2",
         "y": [
          121.9298245614035,
          143.81933438985737,
          125.13997760358343,
          81.537565521258,
          113.73976342129208,
          104.99265785609398,
          181.22786304604486,
          95.69377990430623,
          73.22435174746336,
          109.5636025998143,
          124.51923076923077,
          148.4509466437177,
          157.89473684210526,
          187.08165997322624,
          125.29928172386273,
          154.56674473067915,
          148.40637450199202,
          69.44444444444444,
          142.72890484739676,
          103.80881254667662,
          136.91077441077442,
          125.81227436823104,
          128.13370473537606,
          122.54716981132076,
          145.28301886792454,
          160.1875,
          149.77777777777777,
          179.57746478873239,
          129.6875,
          131.73076923076923,
          30.372057706909644,
          121.62052117263843,
          145.78606158833063,
          97.3529411764706,
          177.7706598334401,
          126.01957585644372,
          132.17866909753874,
          117.96453353893601,
          103.12204351939451,
          71.18055555555556,
          120.84592145015105,
          128.0120481927711,
          162.89592760180994,
          138.8592750533049,
          122.6086956521739,
          182.59132420091325,
          111.53373662168451,
          150.78502415458937,
          77.8236914600551,
          132.98429319371726,
          120.40816326530613,
          97.3639455782313,
          134.80392156862746,
          209.01194353963083,
          95.58823529411765,
          126.66666666666667,
          99.19493962047153,
          114.24418604651163,
          148.99151103565364,
          160.12820512820514,
          136.44214162348877,
          90.9090909090909,
          147.8102189781022,
          81.87134502923976,
          107.91543756145526,
          128.1843914274161,
          81.55867693701857,
          152.80594996619337,
          107.095046854083,
          98.38216003498033,
          109.76158344579397,
          153.25443786982248,
          107.68335273573923,
          133.4254143646409,
          66.91588785046729,
          92.10526315789474,
          142.59453781512605,
          98.83268482490273,
          77.20588235294117,
          89.4308943089431,
          90.33613445378151,
          114.80927449513837,
          156.7498400511836,
          118.77934272300469,
          114.31478968792402,
          107.57136946628052,
          111.53846153846153,
          134.3954248366013,
          55.70117955439056,
          124.84848484848484,
          105.67307692307692,
          79.83805668016194,
          169.6058091286307,
          58.44609340899171,
          114.64165733482643,
          125.85034013605443,
          134.76070528967256,
          98.69791666666667,
          99.40119760479043,
          105.26530612244898,
          127.32919254658385,
          102.77136258660508,
          77.50097719869707,
          162.23491027732464,
          93.23432343234323,
          125.50200803212851,
          95.51098376313276,
          145.75411913814955,
          75.80751483190508,
          103.03687635574838,
          73.80053908355795,
          125.87412587412588,
          142.4221068249258,
          96.06020362992474,
          111.85344827586206,
          120.71330589849109,
          127.28937728937728,
          137.77777777777777,
          99.31719428926132,
          112.63049450549451,
          182.18623481781376,
          89.04719501335708,
          125.92592592592592,
          128.35696413678065,
          114.12358133669609,
          112.06896551724138,
          133.61169102296452,
          103.57142857142857,
          114.98516320474778,
          142.45014245014244,
          104.77515067222996,
          118.79259980525804,
          113.60211002260739,
          169.7530864197531,
          104.59035444509006,
          103.44827586206897,
          117.79242174629324,
          87.28943338437979,
          124.19006479481641,
          131.2358276643991,
          133.10185185185185,
          149.94232987312571,
          119.85559566787003,
          135.90939373750834,
          72.33796296296296,
          76.06787595084845,
          120,
          109.33660933660934,
          130.55555555555554,
          85.56547619047619,
          125.90299277605779,
          217.77894736842106,
          95.33366783743101,
          187.6996805111821,
          104.16666666666667,
          72.08029197080292,
          105.28846153846153,
          136.9410569105691,
          130.91936312275294,
          129.97562956945572,
          131.89935064935065,
          154.61019490254873,
          142.76443867618428,
          117.00680272108843,
          94.05940594059406,
          94.09594095940959,
          101.76754151044456,
          150.68209162424805,
          106.68604651162791,
          133.5676625659051,
          92.98118668596237,
          129.83091787439614,
          135.2574985851726,
          119.67694566813509,
          111.44760751059964,
          112.60426320667284,
          102.42718446601941,
          89.84375,
          224.636078782453,
          103.30578512396694,
          116.06557377049181,
          111.04328523862375,
          89.55223880597015,
          96.06147934678194,
          101.43769968051119,
          131.6518847006652,
          142.15283483976992,
          81.52173913043478,
          125.27532679738562,
          179.5354676710609,
          115.51155115511551,
          124.40838404327248,
          134.17190775681343,
          76.06787595084845,
          146.99074074074073,
          101.99175824175825,
          180.69061413673234,
          75.51413881748071,
          46.657694033198744,
          160.4786923525978,
          124.88849241748439,
          134.08913213448005,
          85.49618320610686,
          175.70754716981133,
          85.66978193146417,
          125.17337031900139,
          84.84669811320755,
          128.1818181818182,
          134.33559650824444,
          132.78388278388277,
          113.42592592592592,
          153.46534653465346,
          136.4352051835853,
          157.57575757575756,
          116.19971264367815,
          108.77831715210355,
          146.23955431754874,
          80.57228915662651,
          159.41658137154556,
          134.00641025641025,
          136.78237650200268,
          88.2223202470225,
          115.91494845360825,
          112.26851851851852,
          161.4757525083612,
          86.02150537634408,
          115.07936507936508,
          107.39614994934144,
          137.06140350877192,
          123.79421221864952,
          123.95309882747068,
          144.23765211166787,
          95.74468085106383,
          143.40044742729307,
          110.45918367346938,
          90.67882472137791,
          131.1881188118812,
          111.52522935779817,
          187.72136953955135,
          75.99193006052455,
          167.62452107279694,
          127.59815242494226,
          54.861111111111114,
          98.60312243221036,
          97.1563981042654,
          129.00641025641025,
          71.05809128630706,
          101.81818181818181,
          107.9136690647482,
          129.19776119402985,
          58.575803981623274,
          144.6153846153846,
          105.48780487804878,
          121.35176651305683,
          110.35007610350075,
          100.39284155390659,
          120.08101851851852,
          137.1571072319202,
          129.18526785714286,
          109.97732426303855,
          127.35166425470332,
          107.22610722610723,
          124.58745874587459,
          98.78419452887537,
          95.54973821989529,
          123.41772151898734,
          122.43547319655858,
          81.88868613138686,
          154.88431876606683,
          132.973944294699,
          137.1841155234657,
          177.1826852531181,
          127.7533039647577,
          85.17156862745098,
          152.5735294117647,
          132.42894056847544,
          128.84615384615384,
          163.19444444444446,
          195.8029231494578,
          94.95548961424332,
          115.28758829465187,
          146.59270998415215,
          157.91476407914763,
          166.62125340599454,
          113.77777777777777,
          131.76,
          91.6955017301038,
          102.56410256410257,
          135.55555555555554,
          110.01074498567336,
          121.5372589890568,
          79.1958041958042,
          76.34032634032634,
          103.844454264251,
          101.58150851581509,
          142.073778664008,
          97.5609756097561,
          122.56410256410257,
          100.40160642570281,
          137.58680555555554,
          117.51497005988024,
          108.89070146818923,
          133.03049967553537,
          167.67337807606265,
          84.45462353277985,
          152.95,
          100.31208203299153,
          63.65576102418208,
          95.81881533101046,
          185.1851851851852,
          110.32644903397735,
          135.80246913580248,
          107.24508050089446,
          184.18467583497053,
          108.47044485070079,
          131.6340782122905,
          110.49723756906077,
          137.82542113323123,
          98.26152683295541,
          127.37771739130434,
          131.98882896764252,
          143.4359805510535,
          110.25641025641026,
          108.49097162510748,
          81.26259234385493,
          108.34371108343711,
          188.48167539267016,
          105.02530730296456,
          100.51546391752578,
          65.43624161073825,
          68.86574074074075,
          131.62878787878788,
          174.3400859422959,
          152.43004418262151,
          117.21611721611721,
          128.19148936170214,
          196.37148803329865,
          139.32291666666666,
          124.92288710672425,
          127.57201646090535,
          106.34171907756813,
          97.50297265160523,
          84.13461538461539,
          157.95724465558195,
          76.43884892086331,
          88.90298034242232,
          158.1419624217119,
          106.56292286874154,
          94.71094710947109,
          160.24706744868035,
          170.17710005350455,
          130.7639366827254,
          85.5085508550855,
          147.08333333333334,
          87.7742946708464,
          147.91666666666666,
          148.2433590402742,
          117.33800350262698,
          96.15384615384616,
          145.53014553014552,
          171.05263157894737,
          96.34551495016612,
          103.27783558792925,
          119.55420466058764,
          120.71156289707751,
          109.375,
          114.06025824964132,
          115.30398322851153,
          104.10094637223975,
          125.87412587412588,
          103.60576923076923,
          84.65491183879094,
          166.22340425531914,
          93.2524639878696,
          113.84854771784232,
          67.47787610619469,
          161.92560175054706,
          137.87510137875103,
          212.51724137931035,
          99.44444444444444,
          75.10348905972798,
          144.31206764027672,
          118.80912632164718,
          96.93877551020408,
          122.88786482334869,
          151.30023640661938,
          68.41216216216216,
          111.11111111111111,
          129.14131169709262,
          182.67581475128645,
          87.05193855157279,
          109.63793982661907,
          120.74829931972789,
          126.90355329949239,
          105.41586073500967,
          112.76223776223776,
          137.58389261744966,
          93.54304635761589,
          62.20984215413185,
          155.48387096774192,
          190.6055900621118,
          125.94656488549619,
          160.71428571428572,
          114.00795404330535,
          106.87022900763358,
          92.5925925925926,
          70.1647345942648,
          105.35714285714286,
          128.9134438305709,
          163.4985563041386,
          47.02194357366771,
          137.31060606060606,
          150.20297699594045,
          111.86770428015564,
          108.72675250357653,
          135.17462686567166,
          106.78571428571429,
          91.08231707317073,
          111.11111111111111,
          134.46969696969697,
          153.4970238095238,
          134.207240948814,
          114.37246963562752,
          119.77186311787072,
          116.22073578595318,
          97.19222462203024,
          167.27493917274938,
          120.18522601984564,
          161.75496688741723,
          123.93767705382436,
          86.52482269503547,
          66.69449081803005,
          89.74358974358974,
          112.8428927680798,
          128.57142857142858,
          127.63395544852499,
          103.7567084078712,
          131.63716814159292,
          130.18731988472624,
          91.97324414715719,
          231.05745212323063,
          81.94444444444444,
          103.56007628734902,
          137.12241653418124,
          110.062893081761,
          75.48845470692717,
          100.63559322033899,
          105.9915164369035,
          86.84593023255815,
          101.43702451394759,
          135.30135301353013,
          182.64840182648402,
          116.17312072892939,
          132.0754716981132,
          108.79629629629629,
          141.30434782608697,
          72.91666666666667,
          153.9386650631389,
          96.63865546218487,
          91.4380714879468,
          136.1421188630491,
          136.56387665198238,
          72.20254629629629,
          113.67469879518072,
          119.23076923076923,
          126.4073550212164,
          130.7752545027408,
          89.11192214111922,
          152.99877600979192,
          109.35672514619883,
          141.1451398135819,
          96.49568308786186,
          138.0597014925373,
          222.67206477732793,
          151.9370460048426,
          136.5979381443299,
          139.91962491627595,
          143.77601210745365,
          172.8754365541327,
          79.1078691423519,
          176.21621621621622,
          208.70535714285714,
          84.88499452354874,
          134.8684210526316,
          132.63263263263264,
          132.0754716981132,
          145.38676607642125,
          117.9245283018868,
          66.28003314001657,
          136.5079365079365,
          88.19018404907976,
          84.28390367553865,
          118.67101648351648,
          122.14342001576044,
          103.04740406320542,
          48.47222222222222,
          133.20941759603468,
          101.0989010989011,
          144.60511679644048,
          131.57894736842104,
          92.77504105090313,
          128.2239819004525,
          115.32125205930807,
          160.46640755136036,
          111.19515885022693,
          63.52040816326531,
          112.50654107796964,
          171.01806239737274,
          116.83599419448475,
          119.59654178674351,
          120.98312545854732,
          148.1469298245614,
          150.34722222222223,
          124.07407407407408,
          122.30671736375159,
          199.43613861386137,
          74.56347333647948,
          113.05460750853243,
          117.48329621380846,
          112.5,
          82.1097372488408,
          120.57877813504822,
          95.55288461538461,
          39.51026518391788,
          131.6722268557131,
          139.02053712480253,
          142.24137931034483,
          164.48986361960928,
          142.1487603305785,
          79.77097415506958,
          115.97084161696488,
          93.97944199706315,
          129.98790810157195,
          117.66467065868264,
          125.88401697312588,
          79.80697847067557,
          109.04872389791183,
          128.76157407407408,
          136.3244176013805,
          169.89381636477202,
          171.38193688792165,
          108.53391684901531,
          126.93452380952381,
          173.40286831812256,
          120.09692513368984,
          104.90151168117269,
          128.44036697247705,
          168.61979166666666,
          151.5151515151515,
          125.59694364851958,
          130.96351730589336,
          121.22844827586206,
          148.80605707629587,
          95.91474245115452,
          138.80742913000978,
          107.82442748091603,
          129.12087912087912,
          80.83832335329342,
          121.02351313969571,
          150.28901734104045,
          87.28448275862068,
          122.39020878329734,
          108.43373493975903,
          110.51373954599761,
          116.7755991285403,
          77.7170613236187,
          129.79233226837061,
          139.41368078175896,
          148.49906191369607,
          144.17815482502652,
          82.52314814814815,
          138.88888888888889,
          132.68321513002365,
          118.88111888111888,
          125.33814247069432,
          97.45065789473684,
          98.1719702098849,
          124.62121212121212,
          104.88505747126437,
          73.25905292479109,
          127.29181245626312,
          124.04162585700294,
          145.22058823529412,
          117.11711711711712,
          84.5518118245391,
          182.39644970414201,
          155.13126491646779,
          159.30232558139534,
          97.08078750848608,
          85.02673796791444,
          117.5094816687737,
          196.84233449477352,
          169.11764705882354,
          165.0943396226415,
          119.04761904761905,
          174.6987951807229,
          83.70175438596492,
          138.51711840228245,
          132.05828779599273,
          97.04370179948586,
          144.4327731092437,
          102.54545454545455,
          114.88250652741515,
          125.83333333333333,
          147.92503346720216,
          103.22255790533737,
          146.15384615384616,
          112.05179282868527,
          112.42955541640576,
          115.1603498542274,
          145.37854156990247,
          143.4108527131783,
          139.69017094017093,
          131.25,
          119.84126984126983,
          130.45540796963948,
          121.4049039098741,
          126.80288461538461,
          172.2171772428884,
          134.83642793987622,
          77.54629629629629,
          91.8133129303749,
          137.75510204081633,
          111.44179894179894,
          92.26256983240224,
          143.36917562724014,
          98.38255977496483,
          100.65789473684211,
          64.90384615384616,
          124.81481481481481,
          70.85714285714286,
          134.8133848133848,
          58.46917080085046,
          132.00757575757575,
          136.36363636363637,
          58.910162002945505,
          75,
          67.05118961788031,
          106.78391959798995,
          168.832801531589,
          180.5006587615283,
          117.15914981855884,
          127.58875739644971,
          93.82716049382717,
          210.0101925254813,
          146.0244648318043,
          93.79770992366412,
          141.6819012797075,
          84.28493746601414,
          134.12698412698413,
          123.69369369369369,
          71.52317880794702,
          111.3053613053613,
          91.8992511912866,
          165.6412683388547,
          80.58608058608058,
          138.17663817663816,
          99.20106524633822,
          66.8724279835391,
          112.38223418573351,
          102.27390180878552,
          164.2156862745098,
          79.02298850574712,
          116.42675698560542,
          201.7167381974249,
          119.0599173553719,
          54.20168067226891,
          115.2471709350804,
          116.91022964509395,
          116.52542372881356,
          117.54742547425474,
          75.67567567567568,
          136.58940397350995,
          140.02175095160413,
          123.2394366197183,
          103.05343511450381,
          49.041713641488165,
          138.25757575757575,
          182.06256109481916,
          130.06072874493927,
          154.92957746478874,
          104.89078947368421,
          134.00464756003097,
          170.86330935251797,
          120.17400761283307,
          99.2822966507177,
          129.40090857467348,
          135.02722323049002,
          276.2508809020437,
          142.95154185022025,
          166.27358490566039,
          174.93049119555144,
          132.9892814608972,
          101.09972041006523,
          91.94282001299545,
          154.79331574318383,
          144.4805194805195,
          107.57839721254355,
          154.92170022371366,
          140.9058231488138,
          173.61111111111111,
          120.27491408934708,
          140.49650621118013,
          77.2626931567329,
          143.5309973045822,
          50.366300366300365,
          165.5701754385965,
          191.8429003021148,
          123.31043956043956,
          121.570796460177,
          71.33058984910836,
          87.24617996604414,
          153.9087947882736,
          134.375,
          88.23529411764706,
          122.22222222222223,
          62.45105716523101,
          133.276740237691,
          141.02564102564102,
          132.33779608650875,
          157.86452353616534,
          168.6320754716981,
          144.09722222222223,
          91.83673469387755,
          188.4570082449941,
          139.46759259259258,
          132.14285714285714,
          157.87337662337663,
          61.93693693693694,
          85.26490066225166,
          146.3490099009901,
          163.61256544502618,
          109.55194485475135,
          114.86013986013987,
          113.92405063291139,
          92.1945701357466,
          89.90384615384616,
          133.20377568017767,
          149.16666666666666,
          109.95370370370371,
          92.17877094972067,
          155.7017543859649,
          132.69088213491474,
          119.53551912568307,
          134.62976813762154,
          110.42357274401473,
          104.60992907801419,
          100.74962121212121,
          151.3953488372093,
          64.09417920209287,
          84.64912280701755,
          122.72727272727273,
          145.24765729585008,
          131.3155386081983,
          152.046783625731,
          117.26716519374575,
          119.90950226244344,
          114.64646464646465,
          119.5203197868088,
          114.57921770051364,
          147.56944444444446,
          76.86395080707149,
          139.10795087265674,
          142.49471458773783,
          180.72289156626505,
          175.38645418326692,
          114.6441073512252,
          91.42857142857143,
          118.1029411764706,
          164.0744129307716,
          157.22610722610722,
          83.60655737704919,
          95.79230080572964,
          125.54824561403508,
          200.20273694880893,
          134.55149501661128,
          137.23667905824038,
          159.39597315436242,
          71.2871287128713,
          134.4621513944223,
          140.46288906624102,
          109.73175296319401,
          130.83916083916083,
          149.0990990990991,
          86.2533692722372,
          120.34277198211625,
          84.14043583535108,
          111.8042226487524,
          119.7558268590455,
          89.8418782942022,
          139.9126637554585,
          138.2297551789077,
          134.02384500745157,
          150.40106951871658,
          102.63852242744063,
          109.33503836317135,
          111.67315175097276,
          142.3027166882277,
          154.45859872611464,
          98.98190045248869,
          118.48341232227489,
          91.88963210702342,
          129.80769230769232,
          206.5673281360737,
          104.60992907801419,
          159.43977591036415,
          138.26530612244898,
          141.81472081218274,
          147.28360957642727,
          49.57904583723106,
          138.27349121466767,
          170.4009433962264,
          53.633141762452105,
          109.500693481276,
          92.8,
          135.4003612281758,
          135.9126984126984,
          160.44997039668442,
          147.3384030418251,
          164.94845360824743,
          111.58536585365853,
          99.35897435897436,
          129.8326601269475,
          93.68703828072532,
          156.21222296843519,
          184.74088291746642,
          139.66836734693877,
          131.79916317991632,
          87.01787394167451,
          120.5233033524121,
          119.25287356321839,
          125.83333333333333,
          129.5790049207217,
          110.15831134564644,
          122.33391608391608,
          119.96251171508904,
          98.46055163566389,
          101.31712259371834,
          131.0282074613285,
          108.75,
          94.46693657219973,
          102.3391812865497,
          150.12875536480686,
          78.33333333333333,
          108.6864406779661,
          100.52910052910053,
          120,
          154.51388888888889,
          101.78117048346056,
          100.80862533692722,
          155.07075471698113,
          147.66483516483515,
          99.63547995139733,
          109.34256055363322,
          95.5593029792018,
          122.11538461538461,
          143.2748538011696,
          117.4881836596894,
          110.94890510948905,
          94.19743782969103,
          133.2047685834502,
          126.56400384985562,
          138.55970829535096,
          115.41811846689896,
          182.6384839650146,
          148.20359281437126,
          151.2150668286756,
          115.17857142857143,
          72.84482758620689,
          121.0877373011801,
          122.48322147651007,
          119.20332936979786,
          127.47252747252747,
          104.88958990536278,
          58.797524314765695,
          116.27471264367816,
          127.16346153846153,
          157.37410071942446,
          128.13852813852813,
          157.98611111111111,
          144.03669724770643,
          109.20209668025626,
          111.73885750156937,
          53.139013452914796,
          112.10762331838565,
          192.45172615564658,
          84.69626168224299,
          97.27207465900933,
          120.88407758231845,
          99.33554817275747,
          133.00865800865802,
          102.49554367201426,
          144.6629213483146,
          119.3058568329718,
          77.43192182410424,
          77.95100222717149,
          111.98738170347004,
          63.81830357142857,
          258.73815566835873,
          109.22330097087378,
          128.2051282051282,
          117.15160796324655,
          119.28429423459245,
          143.7125748502994,
          139.13525498891352,
          120.41392285983066,
          155.8679706601467,
          121.53621779290228,
          145.23281596452327,
          117.25067385444744,
          67.85400175901495,
          113.17034700315457,
          86.69950738916256,
          72.42757242757243,
          141.93872549019608,
          68.68131868131869,
          73.56458333333333,
          109.84540276647681,
          111.89468735307945,
          124.82319660537482,
          116.79256246368391,
          66.31818181818181,
          129.17173252279636,
          119.35683364254793,
          123.0723606168446,
          155.41740674955594,
          120.05054759898904,
          88.97876643073812,
          132.27069351230426,
          99.28443649373882,
          137.10777626193723,
          127.02702702702703,
          167.97900262467192,
          126.66666666666667,
          116.96471725471243,
          106.9611780455154,
          154.08333333333334,
          128.36123795027905,
          122.2217125382263,
          101.70620058260508,
          87.32638888888889,
          103.88349514563107,
          104.16666666666667,
          87.62254901960785,
          102.30654761904762,
          66.82718031032638,
          125,
          165.74585635359117,
          108.38963963963964,
          143.01230992034758,
          149.30555555555554,
          124.24870466321244,
          174.34895833333334,
          87.39837398373983,
          130.10204081632654,
          74.05515832482125,
          100.89503661513426,
          124.88174077578051,
          138.36948391922215,
          109.46327683615819,
          135.78088578088577,
          94.70752089136491,
          100.12919896640827,
          132.77777777777777,
          113.4635691657867,
          120.55256064690028,
          122.32415902140673,
          122.95081967213115,
          39.15289256198347,
          127.85388127853881,
          113.25503355704699,
          106.39606396063961,
          108.38779956427015,
          127.45098039215686,
          82.96186230807331,
          119.39218523878436,
          98.38895281933257,
          161.07977437550363,
          123.04250559284117,
          123.9964317573595,
          178.57857857857857,
          128.63705972434917,
          126.29936808846762,
          111.7467248908297,
          72.66435986159169,
          107.38831615120274,
          71.55963302752293,
          203.70721649484537,
          96.05911330049261,
          125,
          145.48494983277592,
          96.44087256027555,
          101.02647217720151,
          115.93333333333334,
          196.44935972060534,
          98.86178861788618,
          130,
          128.29403606102636,
          84.49396471680595,
          170.52980132450332,
          86.86440677966101,
          124.45730824891461,
          147.39517153748412,
          81.49107142857143,
          120.34574468085107,
          152.18274111675126,
          98.67229933614966,
          80.58608058608058,
          140.35087719298247,
          67.01708278580814,
          106.21557828481511,
          60.09615384615385,
          109.85352862849534,
          83.17025440313111,
          110.16635859519408,
          136.33633633633633,
          134.97340425531914,
          137.86764705882354,
          108.69565217391305,
          141.75962815405046,
          155.47703180212014,
          159.01639344262296,
          69.71153846153847,
          126.99468085106383,
          99.03381642512078,
          127.55102040816327,
          132.51582278481013,
          178.05407047387607,
          76.30813953488372,
          96.88013136288998,
          82.98755186721992,
          63.91953277092797,
          123.01587301587301,
          139.05683192261185,
          125.52410901467505,
          99.40828402366864,
          194.7530864197531,
          126.82280159080867,
          72.17261904761905,
          126.98412698412699,
          85.96783139212424,
          106.00490196078431,
          150.07656967840734,
          112.61485616144267,
          110.14263074484944,
          80.55395268320831,
          194.06589958158995,
          146.46464646464648,
          64.93506493506493,
          91.29032258064517,
          135.54915514592935,
          152.08282674772036,
          83.4597875569044,
          94.69200524246396,
          128.2051282051282,
          118.18778726198293,
          136.25366568914956,
          134.05405405405406,
          153.3882783882784,
          110.49723756906077,
          159.56651718983557,
          90.60402684563758,
          38.510911424903725,
          100.18132366273798,
          133.44887348353552,
          145.13274336283186,
          113.30362826225334,
          104.2209807572936,
          60.05553351844506,
          151.17581187010077,
          128.81679389312978,
          98.97172236503856,
          62.84340659340659,
          111.85133239831697,
          156.4516129032258,
          126.14942528735632,
          115.96180081855388,
          126.64233576642336,
          183.8443396226415,
          127.27272727272727,
          115.26232114467409,
          127.88461538461539,
          131.59698423577794,
          127.89768185451639,
          125.16688918558077,
          147.59036144578315,
          76.46520146520146,
          129.03225806451613,
          80.45640725570509,
          157.97914995990376,
          89.32692307692308,
          127.79552715654953,
          80.57851239669421,
          121.66666666666667,
          137.82051282051282,
          134.2709284627093,
          93.7269372693727,
          156.25,
          96.67673716012085,
          98.06371018113678,
          136.986301369863,
          125.78947368421052,
          119.04761904761905,
          133.58458961474037,
          81.41321044546851,
          123.95118230358504,
          124.75728155339806,
          135.93518060366156,
          107.10059171597634,
          152.5054466230937,
          113.38962605548853,
          104.37881873727088,
          159.19117647058823,
          133.43253968253967,
          140.45618247298918,
          183.3910034602076,
          129.73925299506695,
          145.413870246085,
          87.44534665833854,
          128.55769230769232,
          116.99604743083005,
          137.1778350515464,
          116.66666666666667,
          169.054441260745,
          110.59379217273954,
          114.42786069651741,
          111.89710610932475,
          169.281045751634,
          109.74987238386932,
          149.57264957264957,
          68.14740030287733,
          95.99589322381931,
          53.16742081447964,
          118.56435643564356,
          105.625,
          103.44827586206897,
          95.0479233226837,
          92.15686274509804,
          125.07977026164646,
          123.39331619537275,
          146.00840336134453,
          105.72805139186295,
          150.23691654879772,
          79.52286282306163,
          86.58008658008659,
          94.54314720812182,
          138.6748844375963,
          111.57289002557545,
          105.22052205220523,
          96.49122807017544,
          133.04721030042919,
          102.25102319236017,
          127.00165654334621,
          147.67156862745097,
          110.87912087912088,
          151.70494084899096,
          142.21343873517787,
          175.0380517503805,
          148.81518987341772,
          98.61407249466951,
          100.27472527472527,
          136.58536585365854,
          144.29530201342283,
          86.61287758346582,
          135.47486033519553,
          155.23968042609854,
          144.83471074380165,
          103.5308198683423,
          111.48007590132828,
          172.31872070581747,
          152.95169946332737,
          129.26249008723235,
          137.52,
          64.97083603370058,
          101.91897654584221,
          99.23398328690807,
          129.4691224268689,
          93.95424836601308,
          115.33879374534624,
          82.74021352313167,
          99.44311853619729,
          237.590799031477,
          166.4432529043789,
          106.19469026548673,
          118.76590330788804,
          85.91318591318591,
          55.915244261330194,
          161.33004926108376,
          117.46987951807229,
          104.76718403547672,
          103.57583230579532,
          120.74947952810548,
          84.91847826086956,
          134.80392156862746,
          116.86390532544378,
          120.87912087912088,
          117.66505636070853,
          85.20710059171597,
          146.86468646864685,
          107.09117221418235,
          134.31712962962962,
          111.24227093872962,
          86.79525222551929,
          130.67484662576686,
          142.92364990689012,
          123.81602914389799,
          101.32575757575758,
          117.6470588235294,
          109.11925175370226,
          174.6987951807229,
          102.4390243902439,
          93.60730593607306,
          168.1547619047619,
          151.04166666666666,
          134.63463463463464,
          139.82102908277406,
          58.88538380651946,
          174.6240487062405,
          88.26754385964912,
          75.1231527093596,
          126.09649122807018,
          110.6523534269199,
          77.46478873239437,
          64.55992509363296,
          123.48993288590604,
          127.41652021089631,
          110.7087428867046,
          161.18421052631578,
          215.80141010575792,
          84.2733908427339,
          72.51908396946565,
          111.34453781512605,
          83.16993464052288,
          119.52861952861953,
          66.19144602851324,
          77.85145739910314,
          107.93357933579335,
          100.10266940451746,
          124.89044697633655,
          179.177897574124,
          127.20588235294117,
          147.02664298401422,
          144.92753623188406,
          223.98843930635837,
          151.61502966381016,
          95.28907922912205,
          120.09014810045075,
          164.31334622823985,
          62.925170068027214,
          120.44534412955466,
          115.63981042654028,
          122.24199288256227,
          148.74141876430207,
          135.67143516382095,
          99.8792270531401,
          93.26993416239941,
          151.7362858580775,
          115.625,
          162.95025728987994,
          143.2637571157495,
          108.05970149253731,
          122.76190476190476,
          90.32438478747204,
          98.95833333333333,
          135.37771129394167,
          126.65289256198348,
          64.58443620963473,
          187.5619425173439,
          110.53089643167972,
          94.48818897637796,
          170.60367454068242,
          124.74815312290127,
          146.524064171123,
          130.43478260869566,
          111.2,
          71.35416666666667,
          116.12903225806451,
          114.79118329466357,
          116.69128508124076,
          60.638297872340424,
          144.31023521932613,
          134.42867811799852,
          144.71153846153845,
          76.20614035087719,
          69.06416019615857,
          93.83852691218131,
          107.68072289156626,
          120.10113780025284,
          167.5708257986739,
          142.63959390862945,
          156.68402777777777,
          91.78187403993856,
          45.320404721753796,
          97.89663461538461,
          133.10185185185185,
          131.65399239543726,
          137.4113475177305,
          130.59701492537314,
          28.35873803615739,
          123.59550561797752,
          113.464447806354,
          118.80856760374833,
          114.80601741884402,
          143.56435643564356,
          76.11241217798595,
          196.7312348668281,
          148.02631578947367,
          139.3939393939394,
          131.01604278074868,
          138.48531684698608,
          176.130389064143,
          159.34065934065933,
          107.47330960854093,
          128.19084263178146,
          125.52742616033755,
          97.96401515151516,
          181.2840490797546,
          154.51183431952663,
          153.88919977616118,
          117.0886075949367,
          105.88633288227334,
          100.69444444444444,
          98.80395215808632,
          116.52542372881356,
          81.8941504178273,
          69.09547738693468,
          102.0671834625323,
          159.9264705882353,
          91.69054441260745,
          108.14950980392157,
          142.9471032745592,
          138.88888888888889,
          122.54901960784314,
          92.27941176470588,
          91.57509157509158,
          125.86206896551724,
          81.52173913043478,
          75.75757575757575,
          107.46910263299301,
          148.72685185185185,
          141.05504587155963,
          139.13824057450628,
          105.3480866758875,
          92.52483010977522,
          107.02953296703296,
          113.02083333333333,
          121.75324675324676,
          159.60754504504504,
          143.90896921017404,
          51.73876166242579,
          75.9301442672741,
          99.65034965034965,
          114.71088435374149,
          126.6213712168005,
          126.00536193029491,
          88.54166666666667,
          123.31838565022422,
          139.05380333951763,
          112.84170375079466,
          159.0909090909091,
          72.66435986159169,
          169.9346405228758,
          60.35673187571922,
          111.14164305949008,
          120.12666666666667,
          129.03225806451613,
          107.82122905027933,
          86.10169491525424,
          169.81132075471697,
          139.08872901678657,
          76.41921397379913,
          99.6387718242023,
          130.8059132093467,
          177.17432586403342,
          127.68130745658836,
          152.1323997453851,
          115.18987341772151,
          72.9426433915212,
          84.09321175278622,
          120.15781922525107,
          67.70833333333333,
          112.18705715635333,
          89.10329171396141,
          79.09604519774011,
          83.46581875993641,
          108.7521663778163,
          89.79885057471265,
          53.84006334125099,
          216.20847651775486,
          107.55336617405582,
          154.0983606557377,
          78.28282828282828,
          136.66666666666666,
          85.2510460251046,
          164.38533333333334,
          113.30096696212732,
          94.84291641967991,
          90.87904824851289,
          72.47899159663865,
          85.47885572139303,
          103.62694300518135,
          121.15505335844318,
          149.82921174652242,
          193.25273224043715,
          86.49093904448105,
          167.07168894289185,
          173.17708333333334,
          134.45378151260505,
          92.07630227439472,
          102.7233635929288,
          125,
          83.93285371702638,
          86.53846153846153,
          139.3709327548807,
          112.01298701298701,
          112.10962396430848,
          53.493449781659386,
          138.77551020408163,
          108.39160839160839,
          120.93275488069415,
          127.04802259887006,
          119.27034611786716,
          160.96698113207546,
          124.92957746478874,
          107.14285714285714,
          113.4185303514377,
          127.40949694405266,
          89.85879332477535,
          148.0099502487562,
          127.01388888888889,
          104.53754080522307,
          150.05219206680584,
          66.63223140495867,
          104.07366071428571,
          142.09591474245116,
          113.20754716981132,
          139.46759259259258,
          204.25310559006212,
          121.11650485436893,
          114.20289855072464,
          74.75538160469668,
          176.06132075471697,
          154.45939212755357,
          127.10084033613445,
          126.30098452883263,
          141.2924424972618,
          132.9124579124579,
          114.83253588516746,
          83.20950965824666,
          146.03174603174602,
          75.89285714285714,
          181.93282636248415,
          135.26119402985074,
          74.12280701754386,
          151.5151515151515,
          106.25379477838494,
          101.30246020260492,
          113.88888888888889,
          131.8413729128015,
          117.43630573248407
         ],
         "yaxis": "y2"
        },
        {
         "mode": "lines",
         "type": "scatter",
         "x": [
          "2006-01-01T00:00:00",
          "2006-02-01T00:00:00",
          "2006-03-01T00:00:00",
          "2006-04-01T00:00:00",
          "2006-05-01T00:00:00",
          "2006-06-01T00:00:00",
          "2006-07-01T00:00:00",
          "2006-08-01T00:00:00",
          "2006-09-01T00:00:00",
          "2006-10-01T00:00:00",
          "2006-11-01T00:00:00",
          "2006-12-01T00:00:00",
          "2007-01-01T00:00:00",
          "2007-02-01T00:00:00",
          "2007-03-01T00:00:00",
          "2007-04-01T00:00:00",
          "2007-05-01T00:00:00",
          "2007-06-01T00:00:00",
          "2007-07-01T00:00:00",
          "2007-08-01T00:00:00",
          "2007-09-01T00:00:00",
          "2007-10-01T00:00:00",
          "2007-11-01T00:00:00",
          "2007-12-01T00:00:00",
          "2008-01-01T00:00:00",
          "2008-02-01T00:00:00",
          "2008-03-01T00:00:00",
          "2008-04-01T00:00:00",
          "2008-05-01T00:00:00",
          "2008-06-01T00:00:00",
          "2008-07-01T00:00:00",
          "2008-08-01T00:00:00",
          "2008-09-01T00:00:00",
          "2008-10-01T00:00:00",
          "2008-11-01T00:00:00",
          "2008-12-01T00:00:00",
          "2009-01-01T00:00:00",
          "2009-02-01T00:00:00",
          "2009-03-01T00:00:00",
          "2009-04-01T00:00:00",
          "2009-05-01T00:00:00",
          "2009-06-01T00:00:00",
          "2009-07-01T00:00:00",
          "2009-08-01T00:00:00",
          "2009-09-01T00:00:00",
          "2009-10-01T00:00:00",
          "2009-11-01T00:00:00",
          "2009-12-01T00:00:00",
          "2010-01-01T00:00:00",
          "2010-02-01T00:00:00",
          "2010-03-01T00:00:00",
          "2010-04-01T00:00:00",
          "2010-05-01T00:00:00",
          "2010-06-01T00:00:00",
          "2010-07-01T00:00:00"
         ],
         "xaxis": "x2",
         "y": [
          129.99058672546394,
          112.58550961291878,
          119.81141113312432,
          112.61333444080663,
          119.49595067374084,
          116.64789910151528,
          120.74330190865369,
          123.80629805197086,
          124.44989119025101,
          116.7116224543869,
          125.48127534810114,
          127.71555732783594,
          114.17539912525129,
          113.4608601802421,
          110.05162387908855,
          121.35574728136767,
          122.94918555561777,
          123.8156446942369,
          124.51226880458456,
          117.04766843484927,
          112.43729722604316,
          129.37147321214613,
          119.39902671024522,
          138.82711584439932,
          126.30025216476628,
          125.20596598354163,
          119.013935676934,
          120.7877329351896,
          125.89830528236186,
          119.5934799679491,
          116.9539841618336,
          125.70767981213012,
          105.18052359333159,
          126.80949960150124,
          128.29946906411075,
          121.01111735965763,
          125.28760275966054,
          122.9083229832703,
          124.66829910346087,
          119.07622167990783,
          115.61801427099431,
          119.5890282693947,
          121.51777032570187,
          114.753587367559,
          134.30331389989988,
          120.71036353815067,
          108.84150583245388,
          110.41886952027416,
          104.87398575720644,
          137.6194760674641,
          127.4591776009658,
          119.46737287416848,
          123.2259962954127,
          116.23951538105085,
          95.41997204094916
         ],
         "yaxis": "y2"
        },
        {
         "mode": "lines",
         "type": "scatter",
         "x": [
          "2006-01-01T00:00:00",
          "2006-02-01T00:00:00",
          "2006-03-01T00:00:00",
          "2006-04-01T00:00:00",
          "2006-05-01T00:00:00",
          "2006-06-01T00:00:00",
          "2006-07-01T00:00:00",
          "2006-08-01T00:00:00",
          "2006-09-01T00:00:00",
          "2006-10-01T00:00:00",
          "2006-11-01T00:00:00",
          "2006-12-01T00:00:00",
          "2007-01-01T00:00:00",
          "2007-02-01T00:00:00",
          "2007-03-01T00:00:00",
          "2007-04-01T00:00:00",
          "2007-05-01T00:00:00",
          "2007-06-01T00:00:00",
          "2007-07-01T00:00:00",
          "2007-08-01T00:00:00",
          "2007-09-01T00:00:00",
          "2007-10-01T00:00:00",
          "2007-11-01T00:00:00",
          "2007-12-01T00:00:00",
          "2008-01-01T00:00:00",
          "2008-02-01T00:00:00",
          "2008-03-01T00:00:00",
          "2008-04-01T00:00:00",
          "2008-05-01T00:00:00",
          "2008-06-01T00:00:00",
          "2008-07-01T00:00:00",
          "2008-08-01T00:00:00",
          "2008-09-01T00:00:00",
          "2008-10-01T00:00:00",
          "2008-11-01T00:00:00",
          "2008-12-01T00:00:00",
          "2009-01-01T00:00:00",
          "2009-02-01T00:00:00",
          "2009-03-01T00:00:00",
          "2009-04-01T00:00:00",
          "2009-05-01T00:00:00",
          "2009-06-01T00:00:00",
          "2009-07-01T00:00:00",
          "2009-08-01T00:00:00",
          "2009-09-01T00:00:00",
          "2009-10-01T00:00:00",
          "2009-11-01T00:00:00",
          "2009-12-01T00:00:00",
          "2010-01-01T00:00:00",
          "2010-02-01T00:00:00",
          "2010-03-01T00:00:00",
          "2010-04-01T00:00:00",
          "2010-05-01T00:00:00",
          "2010-06-01T00:00:00",
          "2010-07-01T00:00:00"
         ],
         "xaxis": "x2",
         "y": [
          133.29908112072025,
          108.38963963963964,
          125,
          115.96180081855388,
          124.77204961396819,
          120.75302085506347,
          120.27491408934708,
          122.2217125382263,
          120.09692513368984,
          119.88480392156863,
          121.03789518562246,
          125.31012744034707,
          117.66467065868264,
          115.194787278532,
          107.55336617405582,
          118.80912632164718,
          120.44534412955466,
          125.52410901467505,
          118.77934272300469,
          116.80635807315257,
          107.9136690647482,
          129.0085257771818,
          113.04879295190204,
          135.97620263010768,
          110.7087428867046,
          124.00458182756842,
          121.49532658485418,
          120.10133620303111,
          121.92575645947238,
          119.67694566813509,
          113.20754716981132,
          121.02351313969571,
          104.37881873727088,
          125.39545656137585,
          129.26249008723235,
          118.43738984434427,
          122.88037473914451,
          113.85286840995059,
          117.4881836596894,
          114.93160298307357,
          119.55420466058764,
          122.76190476190476,
          115.625,
          120.72649572649573,
          138.47741268616517,
          113.17034700315457,
          108.09770110348099,
          107.68335273573923,
          104.19367482092174,
          135.78088578088577,
          124.88849241748439,
          123.95309882747068,
          130.1431629220178,
          111.55615693286926,
          93.42740592740593
         ],
         "yaxis": "y2"
        }
       ],
       "layout": {
        "height": 600,
        "template": {
         "data": {
          "bar": [
           {
            "error_x": {
             "color": "#2a3f5f"
            },
            "error_y": {
             "color": "#2a3f5f"
            },
            "marker": {
             "line": {
              "color": "#E5ECF6",
              "width": 0.5
             },
             "pattern": {
              "fillmode": "overlay",
              "size": 10,
              "solidity": 0.2
             }
            },
            "type": "bar"
           }
          ],
          "barpolar": [
           {
            "marker": {
             "line": {
              "color": "#E5ECF6",
              "width": 0.5
             },
             "pattern": {
              "fillmode": "overlay",
              "size": 10,
              "solidity": 0.2
             }
            },
            "type": "barpolar"
           }
          ],
          "carpet": [
           {
            "aaxis": {
             "endlinecolor": "#2a3f5f",
             "gridcolor": "white",
             "linecolor": "white",
             "minorgridcolor": "white",
             "startlinecolor": "#2a3f5f"
            },
            "baxis": {
             "endlinecolor": "#2a3f5f",
             "gridcolor": "white",
             "linecolor": "white",
             "minorgridcolor": "white",
             "startlinecolor": "#2a3f5f"
            },
            "type": "carpet"
           }
          ],
          "choropleth": [
           {
            "colorbar": {
             "outlinewidth": 0,
             "ticks": ""
            },
            "type": "choropleth"
           }
          ],
          "contour": [
           {
            "colorbar": {
             "outlinewidth": 0,
             "ticks": ""
            },
            "colorscale": [
             [
              0,
              "#0d0887"
             ],
             [
              0.1111111111111111,
              "#46039f"
             ],
             [
              0.2222222222222222,
              "#7201a8"
             ],
             [
              0.3333333333333333,
              "#9c179e"
             ],
             [
              0.4444444444444444,
              "#bd3786"
             ],
             [
              0.5555555555555556,
              "#d8576b"
             ],
             [
              0.6666666666666666,
              "#ed7953"
             ],
             [
              0.7777777777777778,
              "#fb9f3a"
             ],
             [
              0.8888888888888888,
              "#fdca26"
             ],
             [
              1,
              "#f0f921"
             ]
            ],
            "type": "contour"
           }
          ],
          "contourcarpet": [
           {
            "colorbar": {
             "outlinewidth": 0,
             "ticks": ""
            },
            "type": "contourcarpet"
           }
          ],
          "heatmap": [
           {
            "colorbar": {
             "outlinewidth": 0,
             "ticks": ""
            },
            "colorscale": [
             [
              0,
              "#0d0887"
             ],
             [
              0.1111111111111111,
              "#46039f"
             ],
             [
              0.2222222222222222,
              "#7201a8"
             ],
             [
              0.3333333333333333,
              "#9c179e"
             ],
             [
              0.4444444444444444,
              "#bd3786"
             ],
             [
              0.5555555555555556,
              "#d8576b"
             ],
             [
              0.6666666666666666,
              "#ed7953"
             ],
             [
              0.7777777777777778,
              "#fb9f3a"
             ],
             [
              0.8888888888888888,
              "#fdca26"
             ],
             [
              1,
              "#f0f921"
             ]
            ],
            "type": "heatmap"
           }
          ],
          "heatmapgl": [
           {
            "colorbar": {
             "outlinewidth": 0,
             "ticks": ""
            },
            "colorscale": [
             [
              0,
              "#0d0887"
             ],
             [
              0.1111111111111111,
              "#46039f"
             ],
             [
              0.2222222222222222,
              "#7201a8"
             ],
             [
              0.3333333333333333,
              "#9c179e"
             ],
             [
              0.4444444444444444,
              "#bd3786"
             ],
             [
              0.5555555555555556,
              "#d8576b"
             ],
             [
              0.6666666666666666,
              "#ed7953"
             ],
             [
              0.7777777777777778,
              "#fb9f3a"
             ],
             [
              0.8888888888888888,
              "#fdca26"
             ],
             [
              1,
              "#f0f921"
             ]
            ],
            "type": "heatmapgl"
           }
          ],
          "histogram": [
           {
            "marker": {
             "pattern": {
              "fillmode": "overlay",
              "size": 10,
              "solidity": 0.2
             }
            },
            "type": "histogram"
           }
          ],
          "histogram2d": [
           {
            "colorbar": {
             "outlinewidth": 0,
             "ticks": ""
            },
            "colorscale": [
             [
              0,
              "#0d0887"
             ],
             [
              0.1111111111111111,
              "#46039f"
             ],
             [
              0.2222222222222222,
              "#7201a8"
             ],
             [
              0.3333333333333333,
              "#9c179e"
             ],
             [
              0.4444444444444444,
              "#bd3786"
             ],
             [
              0.5555555555555556,
              "#d8576b"
             ],
             [
              0.6666666666666666,
              "#ed7953"
             ],
             [
              0.7777777777777778,
              "#fb9f3a"
             ],
             [
              0.8888888888888888,
              "#fdca26"
             ],
             [
              1,
              "#f0f921"
             ]
            ],
            "type": "histogram2d"
           }
          ],
          "histogram2dcontour": [
           {
            "colorbar": {
             "outlinewidth": 0,
             "ticks": ""
            },
            "colorscale": [
             [
              0,
              "#0d0887"
             ],
             [
              0.1111111111111111,
              "#46039f"
             ],
             [
              0.2222222222222222,
              "#7201a8"
             ],
             [
              0.3333333333333333,
              "#9c179e"
             ],
             [
              0.4444444444444444,
              "#bd3786"
             ],
             [
              0.5555555555555556,
              "#d8576b"
             ],
             [
              0.6666666666666666,
              "#ed7953"
             ],
             [
              0.7777777777777778,
              "#fb9f3a"
             ],
             [
              0.8888888888888888,
              "#fdca26"
             ],
             [
              1,
              "#f0f921"
             ]
            ],
            "type": "histogram2dcontour"
           }
          ],
          "mesh3d": [
           {
            "colorbar": {
             "outlinewidth": 0,
             "ticks": ""
            },
            "type": "mesh3d"
           }
          ],
          "parcoords": [
           {
            "line": {
             "colorbar": {
              "outlinewidth": 0,
              "ticks": ""
             }
            },
            "type": "parcoords"
           }
          ],
          "pie": [
           {
            "automargin": true,
            "type": "pie"
           }
          ],
          "scatter": [
           {
            "fillpattern": {
             "fillmode": "overlay",
             "size": 10,
             "solidity": 0.2
            },
            "type": "scatter"
           }
          ],
          "scatter3d": [
           {
            "line": {
             "colorbar": {
              "outlinewidth": 0,
              "ticks": ""
             }
            },
            "marker": {
             "colorbar": {
              "outlinewidth": 0,
              "ticks": ""
             }
            },
            "type": "scatter3d"
           }
          ],
          "scattercarpet": [
           {
            "marker": {
             "colorbar": {
              "outlinewidth": 0,
              "ticks": ""
             }
            },
            "type": "scattercarpet"
           }
          ],
          "scattergeo": [
           {
            "marker": {
             "colorbar": {
              "outlinewidth": 0,
              "ticks": ""
             }
            },
            "type": "scattergeo"
           }
          ],
          "scattergl": [
           {
            "marker": {
             "colorbar": {
              "outlinewidth": 0,
              "ticks": ""
             }
            },
            "type": "scattergl"
           }
          ],
          "scattermapbox": [
           {
            "marker": {
             "colorbar": {
              "outlinewidth": 0,
              "ticks": ""
             }
            },
            "type": "scattermapbox"
           }
          ],
          "scatterpolar": [
           {
            "marker": {
             "colorbar": {
              "outlinewidth": 0,
              "ticks": ""
             }
            },
            "type": "scatterpolar"
           }
          ],
          "scatterpolargl": [
           {
            "marker": {
             "colorbar": {
              "outlinewidth": 0,
              "ticks": ""
             }
            },
            "type": "scatterpolargl"
           }
          ],
          "scatterternary": [
           {
            "marker": {
             "colorbar": {
              "outlinewidth": 0,
              "ticks": ""
             }
            },
            "type": "scatterternary"
           }
          ],
          "surface": [
           {
            "colorbar": {
             "outlinewidth": 0,
             "ticks": ""
            },
            "colorscale": [
             [
              0,
              "#0d0887"
             ],
             [
              0.1111111111111111,
              "#46039f"
             ],
             [
              0.2222222222222222,
              "#7201a8"
             ],
             [
              0.3333333333333333,
              "#9c179e"
             ],
             [
              0.4444444444444444,
              "#bd3786"
             ],
             [
              0.5555555555555556,
              "#d8576b"
             ],
             [
              0.6666666666666666,
              "#ed7953"
             ],
             [
              0.7777777777777778,
              "#fb9f3a"
             ],
             [
              0.8888888888888888,
              "#fdca26"
             ],
             [
              1,
              "#f0f921"
             ]
            ],
            "type": "surface"
           }
          ],
          "table": [
           {
            "cells": {
             "fill": {
              "color": "#EBF0F8"
             },
             "line": {
              "color": "white"
             }
            },
            "header": {
             "fill": {
              "color": "#C8D4E3"
             },
             "line": {
              "color": "white"
             }
            },
            "type": "table"
           }
          ]
         },
         "layout": {
          "annotationdefaults": {
           "arrowcolor": "#2a3f5f",
           "arrowhead": 0,
           "arrowwidth": 1
          },
          "autotypenumbers": "strict",
          "coloraxis": {
           "colorbar": {
            "outlinewidth": 0,
            "ticks": ""
           }
          },
          "colorscale": {
           "diverging": [
            [
             0,
             "#8e0152"
            ],
            [
             0.1,
             "#c51b7d"
            ],
            [
             0.2,
             "#de77ae"
            ],
            [
             0.3,
             "#f1b6da"
            ],
            [
             0.4,
             "#fde0ef"
            ],
            [
             0.5,
             "#f7f7f7"
            ],
            [
             0.6,
             "#e6f5d0"
            ],
            [
             0.7,
             "#b8e186"
            ],
            [
             0.8,
             "#7fbc41"
            ],
            [
             0.9,
             "#4d9221"
            ],
            [
             1,
             "#276419"
            ]
           ],
           "sequential": [
            [
             0,
             "#0d0887"
            ],
            [
             0.1111111111111111,
             "#46039f"
            ],
            [
             0.2222222222222222,
             "#7201a8"
            ],
            [
             0.3333333333333333,
             "#9c179e"
            ],
            [
             0.4444444444444444,
             "#bd3786"
            ],
            [
             0.5555555555555556,
             "#d8576b"
            ],
            [
             0.6666666666666666,
             "#ed7953"
            ],
            [
             0.7777777777777778,
             "#fb9f3a"
            ],
            [
             0.8888888888888888,
             "#fdca26"
            ],
            [
             1,
             "#f0f921"
            ]
           ],
           "sequentialminus": [
            [
             0,
             "#0d0887"
            ],
            [
             0.1111111111111111,
             "#46039f"
            ],
            [
             0.2222222222222222,
             "#7201a8"
            ],
            [
             0.3333333333333333,
             "#9c179e"
            ],
            [
             0.4444444444444444,
             "#bd3786"
            ],
            [
             0.5555555555555556,
             "#d8576b"
            ],
            [
             0.6666666666666666,
             "#ed7953"
            ],
            [
             0.7777777777777778,
             "#fb9f3a"
            ],
            [
             0.8888888888888888,
             "#fdca26"
            ],
            [
             1,
             "#f0f921"
            ]
           ]
          },
          "colorway": [
           "#636efa",
           "#EF553B",
           "#00cc96",
           "#ab63fa",
           "#FFA15A",
           "#19d3f3",
           "#FF6692",
           "#B6E880",
           "#FF97FF",
           "#FECB52"
          ],
          "font": {
           "color": "#2a3f5f"
          },
          "geo": {
           "bgcolor": "white",
           "lakecolor": "white",
           "landcolor": "#E5ECF6",
           "showlakes": true,
           "showland": true,
           "subunitcolor": "white"
          },
          "hoverlabel": {
           "align": "left"
          },
          "hovermode": "closest",
          "mapbox": {
           "style": "light"
          },
          "paper_bgcolor": "white",
          "plot_bgcolor": "#E5ECF6",
          "polar": {
           "angularaxis": {
            "gridcolor": "white",
            "linecolor": "white",
            "ticks": ""
           },
           "bgcolor": "#E5ECF6",
           "radialaxis": {
            "gridcolor": "white",
            "linecolor": "white",
            "ticks": ""
           }
          },
          "scene": {
           "xaxis": {
            "backgroundcolor": "#E5ECF6",
            "gridcolor": "white",
            "gridwidth": 2,
            "linecolor": "white",
            "showbackground": true,
            "ticks": "",
            "zerolinecolor": "white"
           },
           "yaxis": {
            "backgroundcolor": "#E5ECF6",
            "gridcolor": "white",
            "gridwidth": 2,
            "linecolor": "white",
            "showbackground": true,
            "ticks": "",
            "zerolinecolor": "white"
           },
           "zaxis": {
            "backgroundcolor": "#E5ECF6",
            "gridcolor": "white",
            "gridwidth": 2,
            "linecolor": "white",
            "showbackground": true,
            "ticks": "",
            "zerolinecolor": "white"
           }
          },
          "shapedefaults": {
           "line": {
            "color": "#2a3f5f"
           }
          },
          "ternary": {
           "aaxis": {
            "gridcolor": "white",
            "linecolor": "white",
            "ticks": ""
           },
           "baxis": {
            "gridcolor": "white",
            "linecolor": "white",
            "ticks": ""
           },
           "bgcolor": "#E5ECF6",
           "caxis": {
            "gridcolor": "white",
            "linecolor": "white",
            "ticks": ""
           }
          },
          "title": {
           "x": 0.05
          },
          "xaxis": {
           "automargin": true,
           "gridcolor": "white",
           "linecolor": "white",
           "ticks": "",
           "title": {
            "standoff": 15
           },
           "zerolinecolor": "white",
           "zerolinewidth": 2
          },
          "yaxis": {
           "automargin": true,
           "gridcolor": "white",
           "linecolor": "white",
           "ticks": "",
           "title": {
            "standoff": 15
           },
           "zerolinecolor": "white",
           "zerolinewidth": 2
          }
         }
        },
        "xaxis": {
         "anchor": "y",
         "domain": [
          0,
          1
         ]
        },
        "xaxis2": {
         "anchor": "y2",
         "domain": [
          0,
          1
         ]
        },
        "yaxis": {
         "anchor": "x",
         "domain": [
          0.575,
          1
         ]
        },
        "yaxis2": {
         "anchor": "x2",
         "domain": [
          0,
          0.425
         ]
        }
       }
      }
     },
     "metadata": {},
     "output_type": "display_data"
    }
   ],
   "source": [
    "fig_eda_2 = make_subplots(rows=2, cols=1)\n",
    "\n",
    "fig_eda_2.add_trace( go.Scatter(x=price_temporal[\"date_sold\"], y=price_temporal[\"sale_price\"],\n",
    "                          mode=\"markers\"),\n",
    "                row=1, col=1)\n",
    "fig_eda_2.add_trace( go.Scatter(x=price_temporal_ave[\"date_sold\"], y=price_temporal_ave[\"sale_price\"],\n",
    "                          mode=\"lines\"),\n",
    "                row=1, col=1)\n",
    "fig_eda_2.add_trace( go.Scatter(x=price_temporal_med[\"date_sold\"], y=price_temporal_med[\"sale_price\"],\n",
    "                          mode=\"lines\"),\n",
    "                row=1, col=1)\n",
    "\n",
    "\n",
    "fig_eda_2.add_trace( go.Scatter(x=price_temporal[\"date_sold\"], y=price_temporal[\"price_per_sf\"],\n",
    "                          mode=\"markers\"),\n",
    "                row=2, col=1)\n",
    "fig_eda_2.add_trace( go.Scatter(x=price_temporal_ave[\"date_sold\"], y=price_temporal_ave[\"price_per_sf\"],\n",
    "                          mode=\"lines\"),\n",
    "                row=2, col=1)\n",
    "fig_eda_2.add_trace( go.Scatter(x=price_temporal_med[\"date_sold\"], y=price_temporal_med[\"price_per_sf\"],\n",
    "                          mode=\"lines\"),\n",
    "                row=2, col=1)\n",
    "\n",
    "fig_eda_2.update_layout(height=600)\n",
    "fig_eda_2.show()\n"
   ]
  },
  {
   "cell_type": "markdown",
   "metadata": {},
   "source": [
    "## House Characteristics"
   ]
  },
  {
   "cell_type": "code",
   "execution_count": 259,
   "metadata": {},
   "outputs": [],
   "source": [
    "##### Building type\n",
    "house_bldg_type = house_df[[\"sale_price\", \"neighborhood\", \"house_style\", \"bldg_type\"]]\n",
    "\n",
    "### group by building type only\n",
    "house_bldg_type_1 =  house_bldg_type.groupby([\"bldg_type\"]).count().rename(columns={\"sale_price\":\"count\"}).reset_index()\n",
    "house_bldg_type_1 = house_bldg_type_1[[\"bldg_type\", \"count\"]]\n",
    "\n",
    "### group by neighborhood and building type\n",
    "house_bldg_type_2 = house_bldg_type.groupby([\"neighborhood\", \"bldg_type\"]).count()\n",
    "house_bldg_type_2 = house_bldg_type_2[\"sale_price\"].rename({\"sale_price\":\"count\"}).unstack().fillna(0)\n",
    "\n",
    "house_bldg_type_3 = house_bldg_type_2.div(house_bldg_type_2.sum(axis=1), axis=0)\n",
    "\n",
    "house_bldg_type_4 = house_bldg_type.groupby([\"neighborhood\", \"bldg_type\"]).agg([\"mean\", \"median\"]).reset_index()\n",
    "\n",
    "\n",
    "##### House style\n",
    "house_style = house_df[[\"sale_price\", \"neighborhood\", \"house_style\", \"bldg_type\"]]\n",
    "\n",
    "house_style_1 = house_style.groupby([\"house_style\"]).count().rename(columns={\"sale_price\":\"count\"}).reset_index()\n",
    "house_style_1 = house_style_1[[\"house_style\", \"count\"]]\n",
    "\n",
    "house_style_2 = house_style.groupby([\"neighborhood\", \"house_style\"]).count()\n",
    "house_style_2 = house_style_2[\"sale_price\"].rename({\"sale_price\":\"count\"}).unstack().fillna(0)\n",
    "\n",
    "house_style_3 = house_style_2.div(house_style_2.sum(axis=1), axis=0)\n"
   ]
  },
  {
   "cell_type": "code",
   "execution_count": 322,
   "metadata": {},
   "outputs": [
    {
     "data": {
      "application/vnd.plotly.v1+json": {
       "config": {
        "plotlyServerURL": "https://plot.ly"
       },
       "data": [
        {
         "domain": {
          "x": [
           0,
           0.45
          ],
          "y": [
           0.545,
           1
          ]
         },
         "labels": [
          "1Fam",
          "2fmCon",
          "Duplex",
          "Twnhs",
          "TwnhsE"
         ],
         "legend": "legend",
         "legendgroup": "1",
         "legendgrouptitle": {
          "text": "Building type"
         },
         "marker": {
          "colors": [
           "rgb(102, 197, 204)",
           "rgb(246, 207, 113)",
           "rgb(248, 156, 116)",
           "rgb(220, 176, 242)",
           "rgb(135, 197, 95)"
          ]
         },
         "textinfo": "value+percent",
         "type": "pie",
         "values": [
          1220,
          31,
          52,
          43,
          114
         ]
        },
        {
         "domain": {
          "x": [
           0.55,
           1
          ],
          "y": [
           0.545,
           1
          ]
         },
         "labels": [
          "1.5Fin",
          "1.5Unf",
          "1Story",
          "2.5Fin",
          "2.5Unf",
          "2Story",
          "SFoyer",
          "SLvl"
         ],
         "legend": "legend2",
         "legendgroup": "2",
         "legendgrouptitle": {
          "text": "House style"
         },
         "marker": {
          "colors": [
           "rgb(127, 60, 141)",
           "rgb(17, 165, 121)",
           "rgb(57, 105, 172)",
           "rgb(242, 183, 1)",
           "rgb(231, 63, 116)"
          ]
         },
         "textinfo": "value+percent",
         "type": "pie",
         "values": [
          154,
          14,
          726,
          8,
          11,
          445,
          37,
          65
         ]
        },
        {
         "colorbar": {
          "len": 0.5,
          "ticktext": [
           "min",
           "max"
          ],
          "tickvals": [
           0,
           1
          ],
          "y": 0.2
         },
         "colorscale": [
          [
           0,
           "rgb(255,245,235)"
          ],
          [
           0.125,
           "rgb(254,230,206)"
          ],
          [
           0.25,
           "rgb(253,208,162)"
          ],
          [
           0.375,
           "rgb(253,174,107)"
          ],
          [
           0.5,
           "rgb(253,141,60)"
          ],
          [
           0.625,
           "rgb(241,105,19)"
          ],
          [
           0.75,
           "rgb(217,72,1)"
          ],
          [
           0.875,
           "rgb(166,54,3)"
          ],
          [
           1,
           "rgb(127,39,4)"
          ]
         ],
         "text": [
          [
           1,
           0,
           0,
           0,
           16
          ],
          [
           0,
           0,
           0,
           1,
           1
          ],
          [
           0,
           0,
           0,
           12,
           4
          ],
          [
           56,
           2,
           0,
           0,
           0
          ],
          [
           28,
           0,
           0,
           0,
           0
          ],
          [
           140,
           0,
           0,
           0,
           10
          ],
          [
           45,
           1,
           2,
           0,
           3
          ],
          [
           81,
           4,
           8,
           3,
           4
          ],
          [
           78,
           1,
           0,
           0,
           0
          ],
          [
           34,
           2,
           1,
           0,
           0
          ],
          [
           0,
           0,
           0,
           7,
           10
          ],
          [
           36,
           1,
           8,
           1,
           3
          ],
          [
           205,
           1,
           17,
           0,
           2
          ],
          [
           0,
           0,
           0,
           3,
           6
          ],
          [
           71,
           0,
           2,
           0,
           0
          ],
          [
           41,
           0,
           0,
           0,
           0
          ],
          [
           55,
           0,
           0,
           7,
           15
          ],
          [
           96,
           14,
           3,
           0,
           0
          ],
          [
           22,
           3,
           0,
           0,
           0
          ],
          [
           67,
           1,
           6,
           0,
           0
          ],
          [
           47,
           0,
           5,
           0,
           7
          ],
          [
           59,
           0,
           0,
           9,
           18
          ],
          [
           13,
           0,
           0,
           0,
           12
          ],
          [
           37,
           1,
           0,
           0,
           0
          ],
          [
           8,
           0,
           0,
           0,
           3
          ]
         ],
         "texttemplate": "%{text:,.0f}",
         "type": "heatmap",
         "x": [
          "1Fam",
          "2fmCon",
          "Duplex",
          "Twnhs",
          "TwnhsE"
         ],
         "xaxis": "x",
         "y": [
          "Blmngtn",
          "Blueste",
          "BrDale",
          "BrkSide",
          "ClearCr",
          "CollgCr",
          "Crawfor",
          "Edwards",
          "Gilbert",
          "IDOTRR",
          "MeadowV",
          "Mitchel",
          "NAmes",
          "NPkVill",
          "NWAmes",
          "NoRidge",
          "NridgHt",
          "OldTown",
          "SWISU",
          "Sawyer",
          "SawyerW",
          "Somerst",
          "StoneBr",
          "Timber",
          "Veenker"
         ],
         "yaxis": "y",
         "z": [
          [
           0.058823529411764705,
           0,
           0,
           0,
           0.9411764705882353
          ],
          [
           0,
           0,
           0,
           0.5,
           0.5
          ],
          [
           0,
           0,
           0,
           0.75,
           0.25
          ],
          [
           0.9655172413793104,
           0.034482758620689655,
           0,
           0,
           0
          ],
          [
           1,
           0,
           0,
           0,
           0
          ],
          [
           0.9333333333333333,
           0,
           0,
           0,
           0.06666666666666667
          ],
          [
           0.8823529411764706,
           0.0196078431372549,
           0.0392156862745098,
           0,
           0.058823529411764705
          ],
          [
           0.81,
           0.04,
           0.08,
           0.03,
           0.04
          ],
          [
           0.9873417721518988,
           0.012658227848101266,
           0,
           0,
           0
          ],
          [
           0.918918918918919,
           0.05405405405405406,
           0.02702702702702703,
           0,
           0
          ],
          [
           0,
           0,
           0,
           0.4117647058823529,
           0.5882352941176471
          ],
          [
           0.7346938775510204,
           0.02040816326530612,
           0.16326530612244897,
           0.02040816326530612,
           0.061224489795918366
          ],
          [
           0.9111111111111111,
           0.0044444444444444444,
           0.07555555555555556,
           0,
           0.008888888888888889
          ],
          [
           0,
           0,
           0,
           0.3333333333333333,
           0.6666666666666666
          ],
          [
           0.9726027397260274,
           0,
           0.0273972602739726,
           0,
           0
          ],
          [
           1,
           0,
           0,
           0,
           0
          ],
          [
           0.7142857142857143,
           0,
           0,
           0.09090909090909091,
           0.19480519480519481
          ],
          [
           0.8495575221238938,
           0.12389380530973451,
           0.02654867256637168,
           0,
           0
          ],
          [
           0.88,
           0.12,
           0,
           0,
           0
          ],
          [
           0.9054054054054054,
           0.013513513513513514,
           0.08108108108108109,
           0,
           0
          ],
          [
           0.7966101694915254,
           0,
           0.0847457627118644,
           0,
           0.11864406779661017
          ],
          [
           0.686046511627907,
           0,
           0,
           0.10465116279069768,
           0.20930232558139536
          ],
          [
           0.52,
           0,
           0,
           0,
           0.48
          ],
          [
           0.9736842105263158,
           0.02631578947368421,
           0,
           0,
           0
          ],
          [
           0.7272727272727273,
           0,
           0,
           0,
           0.2727272727272727
          ]
         ]
        },
        {
         "colorbar": {
          "len": 0.5,
          "ticktext": [
           "min",
           "max"
          ],
          "tickvals": [
           0,
           1
          ]
         },
         "colorscale": [
          [
           0,
           "rgb(255,245,235)"
          ],
          [
           0.125,
           "rgb(254,230,206)"
          ],
          [
           0.25,
           "rgb(253,208,162)"
          ],
          [
           0.375,
           "rgb(253,174,107)"
          ],
          [
           0.5,
           "rgb(253,141,60)"
          ],
          [
           0.625,
           "rgb(241,105,19)"
          ],
          [
           0.75,
           "rgb(217,72,1)"
          ],
          [
           0.875,
           "rgb(166,54,3)"
          ],
          [
           1,
           "rgb(127,39,4)"
          ]
         ],
         "showscale": false,
         "text": [
          [
           0,
           0,
           17,
           0,
           0,
           0,
           0,
           0
          ],
          [
           0,
           0,
           0,
           0,
           0,
           2,
           0,
           0
          ],
          [
           0,
           0,
           0,
           0,
           0,
           16,
           0,
           0
          ],
          [
           25,
           6,
           20,
           0,
           1,
           6,
           0,
           0
          ],
          [
           6,
           0,
           11,
           0,
           0,
           8,
           0,
           3
          ],
          [
           0,
           0,
           91,
           0,
           0,
           53,
           3,
           3
          ],
          [
           9,
           1,
           19,
           1,
           1,
           20,
           0,
           0
          ],
          [
           22,
           0,
           53,
           0,
           0,
           14,
           5,
           6
          ],
          [
           1,
           0,
           11,
           0,
           0,
           60,
           0,
           7
          ],
          [
           16,
           2,
           13,
           0,
           1,
           5,
           0,
           0
          ],
          [
           0,
           0,
           2,
           0,
           0,
           8,
           6,
           1
          ],
          [
           4,
           0,
           32,
           0,
           0,
           3,
           5,
           5
          ],
          [
           15,
           2,
           159,
           0,
           0,
           22,
           6,
           21
          ],
          [
           0,
           0,
           4,
           0,
           0,
           5,
           0,
           0
          ],
          [
           1,
           0,
           35,
           0,
           0,
           29,
           1,
           7
          ],
          [
           2,
           0,
           6,
           0,
           0,
           33,
           0,
           0
          ],
          [
           0,
           0,
           51,
           0,
           0,
           26,
           0,
           0
          ],
          [
           33,
           2,
           33,
           3,
           8,
           32,
           2,
           0
          ],
          [
           12,
           0,
           2,
           4,
           0,
           7,
           0,
           0
          ],
          [
           5,
           0,
           53,
           0,
           0,
           5,
           6,
           5
          ],
          [
           1,
           1,
           28,
           0,
           0,
           25,
           3,
           1
          ],
          [
           0,
           0,
           37,
           0,
           0,
           49,
           0,
           0
          ],
          [
           0,
           0,
           18,
           0,
           0,
           7,
           0,
           0
          ],
          [
           2,
           0,
           23,
           0,
           0,
           9,
           0,
           4
          ],
          [
           0,
           0,
           8,
           0,
           0,
           1,
           0,
           2
          ]
         ],
         "texttemplate": "%{text:,.0f}",
         "type": "heatmap",
         "x": [
          "1.5Fin",
          "1.5Unf",
          "1Story",
          "2.5Fin",
          "2.5Unf",
          "2Story",
          "SFoyer",
          "SLvl"
         ],
         "xaxis": "x2",
         "y": [
          "Blmngtn",
          "Blueste",
          "BrDale",
          "BrkSide",
          "ClearCr",
          "CollgCr",
          "Crawfor",
          "Edwards",
          "Gilbert",
          "IDOTRR",
          "MeadowV",
          "Mitchel",
          "NAmes",
          "NPkVill",
          "NWAmes",
          "NoRidge",
          "NridgHt",
          "OldTown",
          "SWISU",
          "Sawyer",
          "SawyerW",
          "Somerst",
          "StoneBr",
          "Timber",
          "Veenker"
         ],
         "yaxis": "y2",
         "z": [
          [
           0,
           0,
           1,
           0,
           0,
           0,
           0,
           0
          ],
          [
           0,
           0,
           0,
           0,
           0,
           1,
           0,
           0
          ],
          [
           0,
           0,
           0,
           0,
           0,
           1,
           0,
           0
          ],
          [
           0.43103448275862066,
           0.10344827586206896,
           0.3448275862068966,
           0,
           0.017241379310344827,
           0.10344827586206896,
           0,
           0
          ],
          [
           0.21428571428571427,
           0,
           0.39285714285714285,
           0,
           0,
           0.2857142857142857,
           0,
           0.10714285714285714
          ],
          [
           0,
           0,
           0.6066666666666667,
           0,
           0,
           0.35333333333333333,
           0.02,
           0.02
          ],
          [
           0.17647058823529413,
           0.0196078431372549,
           0.37254901960784315,
           0.0196078431372549,
           0.0196078431372549,
           0.39215686274509803,
           0,
           0
          ],
          [
           0.22,
           0,
           0.53,
           0,
           0,
           0.14,
           0.05,
           0.06
          ],
          [
           0.012658227848101266,
           0,
           0.13924050632911392,
           0,
           0,
           0.759493670886076,
           0,
           0.08860759493670886
          ],
          [
           0.43243243243243246,
           0.05405405405405406,
           0.35135135135135137,
           0,
           0.02702702702702703,
           0.13513513513513514,
           0,
           0
          ],
          [
           0,
           0,
           0.11764705882352941,
           0,
           0,
           0.47058823529411764,
           0.35294117647058826,
           0.058823529411764705
          ],
          [
           0.08163265306122448,
           0,
           0.6530612244897959,
           0,
           0,
           0.061224489795918366,
           0.10204081632653061,
           0.10204081632653061
          ],
          [
           0.06666666666666667,
           0.008888888888888889,
           0.7066666666666667,
           0,
           0,
           0.09777777777777778,
           0.02666666666666667,
           0.09333333333333334
          ],
          [
           0,
           0,
           0.4444444444444444,
           0,
           0,
           0.5555555555555556,
           0,
           0
          ],
          [
           0.0136986301369863,
           0,
           0.4794520547945205,
           0,
           0,
           0.3972602739726027,
           0.0136986301369863,
           0.0958904109589041
          ],
          [
           0.04878048780487805,
           0,
           0.14634146341463414,
           0,
           0,
           0.8048780487804879,
           0,
           0
          ],
          [
           0,
           0,
           0.6623376623376623,
           0,
           0,
           0.33766233766233766,
           0,
           0
          ],
          [
           0.2920353982300885,
           0.017699115044247787,
           0.2920353982300885,
           0.02654867256637168,
           0.07079646017699115,
           0.2831858407079646,
           0.017699115044247787,
           0
          ],
          [
           0.48,
           0,
           0.08,
           0.16,
           0,
           0.28,
           0,
           0
          ],
          [
           0.06756756756756757,
           0,
           0.7162162162162162,
           0,
           0,
           0.06756756756756757,
           0.08108108108108109,
           0.06756756756756757
          ],
          [
           0.01694915254237288,
           0.01694915254237288,
           0.4745762711864407,
           0,
           0,
           0.423728813559322,
           0.05084745762711865,
           0.01694915254237288
          ],
          [
           0,
           0,
           0.43023255813953487,
           0,
           0,
           0.5697674418604651,
           0,
           0
          ],
          [
           0,
           0,
           0.72,
           0,
           0,
           0.28,
           0,
           0
          ],
          [
           0.05263157894736842,
           0,
           0.6052631578947368,
           0,
           0,
           0.23684210526315788,
           0,
           0.10526315789473684
          ],
          [
           0,
           0,
           0.7272727272727273,
           0,
           0,
           0.09090909090909091,
           0,
           0.18181818181818182
          ]
         ]
        }
       ],
       "layout": {
        "annotations": [
         {
          "font": {
           "size": 16
          },
          "showarrow": false,
          "text": "Building type",
          "x": 0.225,
          "xanchor": "center",
          "xref": "paper",
          "y": 1,
          "yanchor": "bottom",
          "yref": "paper"
         },
         {
          "font": {
           "size": 16
          },
          "showarrow": false,
          "text": "House style",
          "x": 0.775,
          "xanchor": "center",
          "xref": "paper",
          "y": 1,
          "yanchor": "bottom",
          "yref": "paper"
         },
         {
          "font": {
           "size": 16
          },
          "showarrow": false,
          "text": "Building type breakdown by neighborhood",
          "x": 0.225,
          "xanchor": "center",
          "xref": "paper",
          "y": 0.455,
          "yanchor": "bottom",
          "yref": "paper"
         },
         {
          "font": {
           "size": 16
          },
          "showarrow": false,
          "text": "House style breakdown by neighborhood",
          "x": 0.775,
          "xanchor": "center",
          "xref": "paper",
          "y": 0.455,
          "yanchor": "bottom",
          "yref": "paper"
         }
        ],
        "height": 1200,
        "hovermode": false,
        "template": {
         "data": {
          "bar": [
           {
            "error_x": {
             "color": "#2a3f5f"
            },
            "error_y": {
             "color": "#2a3f5f"
            },
            "marker": {
             "line": {
              "color": "#E5ECF6",
              "width": 0.5
             },
             "pattern": {
              "fillmode": "overlay",
              "size": 10,
              "solidity": 0.2
             }
            },
            "type": "bar"
           }
          ],
          "barpolar": [
           {
            "marker": {
             "line": {
              "color": "#E5ECF6",
              "width": 0.5
             },
             "pattern": {
              "fillmode": "overlay",
              "size": 10,
              "solidity": 0.2
             }
            },
            "type": "barpolar"
           }
          ],
          "carpet": [
           {
            "aaxis": {
             "endlinecolor": "#2a3f5f",
             "gridcolor": "white",
             "linecolor": "white",
             "minorgridcolor": "white",
             "startlinecolor": "#2a3f5f"
            },
            "baxis": {
             "endlinecolor": "#2a3f5f",
             "gridcolor": "white",
             "linecolor": "white",
             "minorgridcolor": "white",
             "startlinecolor": "#2a3f5f"
            },
            "type": "carpet"
           }
          ],
          "choropleth": [
           {
            "colorbar": {
             "outlinewidth": 0,
             "ticks": ""
            },
            "type": "choropleth"
           }
          ],
          "contour": [
           {
            "colorbar": {
             "outlinewidth": 0,
             "ticks": ""
            },
            "colorscale": [
             [
              0,
              "#0d0887"
             ],
             [
              0.1111111111111111,
              "#46039f"
             ],
             [
              0.2222222222222222,
              "#7201a8"
             ],
             [
              0.3333333333333333,
              "#9c179e"
             ],
             [
              0.4444444444444444,
              "#bd3786"
             ],
             [
              0.5555555555555556,
              "#d8576b"
             ],
             [
              0.6666666666666666,
              "#ed7953"
             ],
             [
              0.7777777777777778,
              "#fb9f3a"
             ],
             [
              0.8888888888888888,
              "#fdca26"
             ],
             [
              1,
              "#f0f921"
             ]
            ],
            "type": "contour"
           }
          ],
          "contourcarpet": [
           {
            "colorbar": {
             "outlinewidth": 0,
             "ticks": ""
            },
            "type": "contourcarpet"
           }
          ],
          "heatmap": [
           {
            "colorbar": {
             "outlinewidth": 0,
             "ticks": ""
            },
            "colorscale": [
             [
              0,
              "#0d0887"
             ],
             [
              0.1111111111111111,
              "#46039f"
             ],
             [
              0.2222222222222222,
              "#7201a8"
             ],
             [
              0.3333333333333333,
              "#9c179e"
             ],
             [
              0.4444444444444444,
              "#bd3786"
             ],
             [
              0.5555555555555556,
              "#d8576b"
             ],
             [
              0.6666666666666666,
              "#ed7953"
             ],
             [
              0.7777777777777778,
              "#fb9f3a"
             ],
             [
              0.8888888888888888,
              "#fdca26"
             ],
             [
              1,
              "#f0f921"
             ]
            ],
            "type": "heatmap"
           }
          ],
          "heatmapgl": [
           {
            "colorbar": {
             "outlinewidth": 0,
             "ticks": ""
            },
            "colorscale": [
             [
              0,
              "#0d0887"
             ],
             [
              0.1111111111111111,
              "#46039f"
             ],
             [
              0.2222222222222222,
              "#7201a8"
             ],
             [
              0.3333333333333333,
              "#9c179e"
             ],
             [
              0.4444444444444444,
              "#bd3786"
             ],
             [
              0.5555555555555556,
              "#d8576b"
             ],
             [
              0.6666666666666666,
              "#ed7953"
             ],
             [
              0.7777777777777778,
              "#fb9f3a"
             ],
             [
              0.8888888888888888,
              "#fdca26"
             ],
             [
              1,
              "#f0f921"
             ]
            ],
            "type": "heatmapgl"
           }
          ],
          "histogram": [
           {
            "marker": {
             "pattern": {
              "fillmode": "overlay",
              "size": 10,
              "solidity": 0.2
             }
            },
            "type": "histogram"
           }
          ],
          "histogram2d": [
           {
            "colorbar": {
             "outlinewidth": 0,
             "ticks": ""
            },
            "colorscale": [
             [
              0,
              "#0d0887"
             ],
             [
              0.1111111111111111,
              "#46039f"
             ],
             [
              0.2222222222222222,
              "#7201a8"
             ],
             [
              0.3333333333333333,
              "#9c179e"
             ],
             [
              0.4444444444444444,
              "#bd3786"
             ],
             [
              0.5555555555555556,
              "#d8576b"
             ],
             [
              0.6666666666666666,
              "#ed7953"
             ],
             [
              0.7777777777777778,
              "#fb9f3a"
             ],
             [
              0.8888888888888888,
              "#fdca26"
             ],
             [
              1,
              "#f0f921"
             ]
            ],
            "type": "histogram2d"
           }
          ],
          "histogram2dcontour": [
           {
            "colorbar": {
             "outlinewidth": 0,
             "ticks": ""
            },
            "colorscale": [
             [
              0,
              "#0d0887"
             ],
             [
              0.1111111111111111,
              "#46039f"
             ],
             [
              0.2222222222222222,
              "#7201a8"
             ],
             [
              0.3333333333333333,
              "#9c179e"
             ],
             [
              0.4444444444444444,
              "#bd3786"
             ],
             [
              0.5555555555555556,
              "#d8576b"
             ],
             [
              0.6666666666666666,
              "#ed7953"
             ],
             [
              0.7777777777777778,
              "#fb9f3a"
             ],
             [
              0.8888888888888888,
              "#fdca26"
             ],
             [
              1,
              "#f0f921"
             ]
            ],
            "type": "histogram2dcontour"
           }
          ],
          "mesh3d": [
           {
            "colorbar": {
             "outlinewidth": 0,
             "ticks": ""
            },
            "type": "mesh3d"
           }
          ],
          "parcoords": [
           {
            "line": {
             "colorbar": {
              "outlinewidth": 0,
              "ticks": ""
             }
            },
            "type": "parcoords"
           }
          ],
          "pie": [
           {
            "automargin": true,
            "type": "pie"
           }
          ],
          "scatter": [
           {
            "fillpattern": {
             "fillmode": "overlay",
             "size": 10,
             "solidity": 0.2
            },
            "type": "scatter"
           }
          ],
          "scatter3d": [
           {
            "line": {
             "colorbar": {
              "outlinewidth": 0,
              "ticks": ""
             }
            },
            "marker": {
             "colorbar": {
              "outlinewidth": 0,
              "ticks": ""
             }
            },
            "type": "scatter3d"
           }
          ],
          "scattercarpet": [
           {
            "marker": {
             "colorbar": {
              "outlinewidth": 0,
              "ticks": ""
             }
            },
            "type": "scattercarpet"
           }
          ],
          "scattergeo": [
           {
            "marker": {
             "colorbar": {
              "outlinewidth": 0,
              "ticks": ""
             }
            },
            "type": "scattergeo"
           }
          ],
          "scattergl": [
           {
            "marker": {
             "colorbar": {
              "outlinewidth": 0,
              "ticks": ""
             }
            },
            "type": "scattergl"
           }
          ],
          "scattermapbox": [
           {
            "marker": {
             "colorbar": {
              "outlinewidth": 0,
              "ticks": ""
             }
            },
            "type": "scattermapbox"
           }
          ],
          "scatterpolar": [
           {
            "marker": {
             "colorbar": {
              "outlinewidth": 0,
              "ticks": ""
             }
            },
            "type": "scatterpolar"
           }
          ],
          "scatterpolargl": [
           {
            "marker": {
             "colorbar": {
              "outlinewidth": 0,
              "ticks": ""
             }
            },
            "type": "scatterpolargl"
           }
          ],
          "scatterternary": [
           {
            "marker": {
             "colorbar": {
              "outlinewidth": 0,
              "ticks": ""
             }
            },
            "type": "scatterternary"
           }
          ],
          "surface": [
           {
            "colorbar": {
             "outlinewidth": 0,
             "ticks": ""
            },
            "colorscale": [
             [
              0,
              "#0d0887"
             ],
             [
              0.1111111111111111,
              "#46039f"
             ],
             [
              0.2222222222222222,
              "#7201a8"
             ],
             [
              0.3333333333333333,
              "#9c179e"
             ],
             [
              0.4444444444444444,
              "#bd3786"
             ],
             [
              0.5555555555555556,
              "#d8576b"
             ],
             [
              0.6666666666666666,
              "#ed7953"
             ],
             [
              0.7777777777777778,
              "#fb9f3a"
             ],
             [
              0.8888888888888888,
              "#fdca26"
             ],
             [
              1,
              "#f0f921"
             ]
            ],
            "type": "surface"
           }
          ],
          "table": [
           {
            "cells": {
             "fill": {
              "color": "#EBF0F8"
             },
             "line": {
              "color": "white"
             }
            },
            "header": {
             "fill": {
              "color": "#C8D4E3"
             },
             "line": {
              "color": "white"
             }
            },
            "type": "table"
           }
          ]
         },
         "layout": {
          "annotationdefaults": {
           "arrowcolor": "#2a3f5f",
           "arrowhead": 0,
           "arrowwidth": 1
          },
          "autotypenumbers": "strict",
          "coloraxis": {
           "colorbar": {
            "outlinewidth": 0,
            "ticks": ""
           }
          },
          "colorscale": {
           "diverging": [
            [
             0,
             "#8e0152"
            ],
            [
             0.1,
             "#c51b7d"
            ],
            [
             0.2,
             "#de77ae"
            ],
            [
             0.3,
             "#f1b6da"
            ],
            [
             0.4,
             "#fde0ef"
            ],
            [
             0.5,
             "#f7f7f7"
            ],
            [
             0.6,
             "#e6f5d0"
            ],
            [
             0.7,
             "#b8e186"
            ],
            [
             0.8,
             "#7fbc41"
            ],
            [
             0.9,
             "#4d9221"
            ],
            [
             1,
             "#276419"
            ]
           ],
           "sequential": [
            [
             0,
             "#0d0887"
            ],
            [
             0.1111111111111111,
             "#46039f"
            ],
            [
             0.2222222222222222,
             "#7201a8"
            ],
            [
             0.3333333333333333,
             "#9c179e"
            ],
            [
             0.4444444444444444,
             "#bd3786"
            ],
            [
             0.5555555555555556,
             "#d8576b"
            ],
            [
             0.6666666666666666,
             "#ed7953"
            ],
            [
             0.7777777777777778,
             "#fb9f3a"
            ],
            [
             0.8888888888888888,
             "#fdca26"
            ],
            [
             1,
             "#f0f921"
            ]
           ],
           "sequentialminus": [
            [
             0,
             "#0d0887"
            ],
            [
             0.1111111111111111,
             "#46039f"
            ],
            [
             0.2222222222222222,
             "#7201a8"
            ],
            [
             0.3333333333333333,
             "#9c179e"
            ],
            [
             0.4444444444444444,
             "#bd3786"
            ],
            [
             0.5555555555555556,
             "#d8576b"
            ],
            [
             0.6666666666666666,
             "#ed7953"
            ],
            [
             0.7777777777777778,
             "#fb9f3a"
            ],
            [
             0.8888888888888888,
             "#fdca26"
            ],
            [
             1,
             "#f0f921"
            ]
           ]
          },
          "colorway": [
           "#636efa",
           "#EF553B",
           "#00cc96",
           "#ab63fa",
           "#FFA15A",
           "#19d3f3",
           "#FF6692",
           "#B6E880",
           "#FF97FF",
           "#FECB52"
          ],
          "font": {
           "color": "#2a3f5f"
          },
          "geo": {
           "bgcolor": "white",
           "lakecolor": "white",
           "landcolor": "#E5ECF6",
           "showlakes": true,
           "showland": true,
           "subunitcolor": "white"
          },
          "hoverlabel": {
           "align": "left"
          },
          "hovermode": "closest",
          "mapbox": {
           "style": "light"
          },
          "paper_bgcolor": "white",
          "plot_bgcolor": "#E5ECF6",
          "polar": {
           "angularaxis": {
            "gridcolor": "white",
            "linecolor": "white",
            "ticks": ""
           },
           "bgcolor": "#E5ECF6",
           "radialaxis": {
            "gridcolor": "white",
            "linecolor": "white",
            "ticks": ""
           }
          },
          "scene": {
           "xaxis": {
            "backgroundcolor": "#E5ECF6",
            "gridcolor": "white",
            "gridwidth": 2,
            "linecolor": "white",
            "showbackground": true,
            "ticks": "",
            "zerolinecolor": "white"
           },
           "yaxis": {
            "backgroundcolor": "#E5ECF6",
            "gridcolor": "white",
            "gridwidth": 2,
            "linecolor": "white",
            "showbackground": true,
            "ticks": "",
            "zerolinecolor": "white"
           },
           "zaxis": {
            "backgroundcolor": "#E5ECF6",
            "gridcolor": "white",
            "gridwidth": 2,
            "linecolor": "white",
            "showbackground": true,
            "ticks": "",
            "zerolinecolor": "white"
           }
          },
          "shapedefaults": {
           "line": {
            "color": "#2a3f5f"
           }
          },
          "ternary": {
           "aaxis": {
            "gridcolor": "white",
            "linecolor": "white",
            "ticks": ""
           },
           "baxis": {
            "gridcolor": "white",
            "linecolor": "white",
            "ticks": ""
           },
           "bgcolor": "#E5ECF6",
           "caxis": {
            "gridcolor": "white",
            "linecolor": "white",
            "ticks": ""
           }
          },
          "title": {
           "x": 0.05
          },
          "xaxis": {
           "automargin": true,
           "gridcolor": "white",
           "linecolor": "white",
           "ticks": "",
           "title": {
            "standoff": 15
           },
           "zerolinecolor": "white",
           "zerolinewidth": 2
          },
          "yaxis": {
           "automargin": true,
           "gridcolor": "white",
           "linecolor": "white",
           "ticks": "",
           "title": {
            "standoff": 15
           },
           "zerolinecolor": "white",
           "zerolinewidth": 2
          }
         }
        },
        "xaxis": {
         "anchor": "y",
         "domain": [
          0,
          0.45
         ]
        },
        "xaxis2": {
         "anchor": "y2",
         "domain": [
          0.55,
          1
         ]
        },
        "yaxis": {
         "anchor": "x",
         "domain": [
          0,
          0.455
         ]
        },
        "yaxis2": {
         "anchor": "x2",
         "domain": [
          0,
          0.455
         ]
        }
       }
      }
     },
     "metadata": {},
     "output_type": "display_data"
    }
   ],
   "source": [
    "fig_eda_3 = make_subplots(rows=2, cols=2, vertical_spacing=0.09,\n",
    "                    specs=[[{\"type\":\"domain\"}, {\"type\":\"domain\"}], [{\"type\":\"xy\"}, {\"type\":\"xy\"}]],\n",
    "                    subplot_titles=[\"Building type\", \"House style\", \n",
    "                                    \"Building type breakdown by neighborhood\", \"House style breakdown by neighborhood\"])\n",
    "\n",
    "fig_eda_3.add_trace( go.Pie(values=house_bldg_type_1[\"count\"], labels=house_bldg_type_1[\"bldg_type\"],\n",
    "                      textinfo=\"value+percent\", \n",
    "                      marker=dict(colors=px.colors.qualitative.Pastel[0:len(house_bldg_type_1[\"bldg_type\"])]),\n",
    "                      legend=\"legend1\", legendgroup=\"1\", legendgrouptitle=dict(text=\"Building type\")),\n",
    "              row=1, col=1)\n",
    "\n",
    "fig_eda_3.add_trace( go.Pie(values=house_style_1[\"count\"], labels=house_style_1[\"house_style\"], \n",
    "                      textinfo=\"value+percent\",\n",
    "                      marker=dict(colors=px.colors.qualitative.Bold[0:len(house_bldg_type_1[\"bldg_type\"])]),\n",
    "                      legend=\"legend2\", legendgroup=\"2\", legendgrouptitle=dict(text=\"House style\")),\n",
    "              row=1, col=2)\n",
    "\n",
    "fig_eda_3.add_trace(go.Heatmap(x=house_bldg_type_3.columns, y=house_bldg_type_3.index, \n",
    "                         z=house_bldg_type_3, text=house_bldg_type_2, texttemplate=\"%{text:,.0f}\",\n",
    "                         colorscale=\"Oranges\", \n",
    "                         colorbar=dict(tickvals=[0,1], ticktext=[\"min\", \"max\"],\n",
    "                                       len=0.5, y=0.2)\n",
    "                         ),\n",
    "            row=2, col=1)\n",
    "\n",
    "fig_eda_3.add_trace(go.Heatmap(x=house_style_3.columns, y=house_style_3.index, \n",
    "                         z=house_style_3, text=house_style_2, texttemplate=\"%{text:,.0f}\",\n",
    "                         colorscale=\"Oranges\",\n",
    "                         colorbar=dict(tickvals=[0,1], ticktext=[\"min\", \"max\"], len=0.5),\n",
    "                         showscale=False\n",
    "                         ),\n",
    "            row=2, col=2)\n",
    "\n",
    "fig_eda_3.update_layout(height=1200, hovermode=False,\n",
    "                  )\n",
    "fig_eda_3.show()"
   ]
  },
  {
   "cell_type": "code",
   "execution_count": null,
   "metadata": {},
   "outputs": [],
   "source": []
  },
  {
   "cell_type": "markdown",
   "metadata": {},
   "source": [
    "----\n",
    "# <center> Feature Selection </center>\n",
    "----"
   ]
  },
  {
   "cell_type": "markdown",
   "metadata": {},
   "source": [
    "Split data into categorical and numerical data type."
   ]
  },
  {
   "cell_type": "code",
   "execution_count": 5,
   "metadata": {},
   "outputs": [
    {
     "data": {
      "text/html": [
       "<div>\n",
       "<style scoped>\n",
       "    .dataframe tbody tr th:only-of-type {\n",
       "        vertical-align: middle;\n",
       "    }\n",
       "\n",
       "    .dataframe tbody tr th {\n",
       "        vertical-align: top;\n",
       "    }\n",
       "\n",
       "    .dataframe thead th {\n",
       "        text-align: right;\n",
       "    }\n",
       "</style>\n",
       "<table border=\"1\" class=\"dataframe\">\n",
       "  <thead>\n",
       "    <tr style=\"text-align: right;\">\n",
       "      <th></th>\n",
       "      <th>ms_sub_class</th>\n",
       "      <th>lot_area</th>\n",
       "      <th>overall_qual</th>\n",
       "      <th>overall_cond</th>\n",
       "      <th>year_built</th>\n",
       "      <th>year_remod_add</th>\n",
       "      <th>mas_vnr_area</th>\n",
       "      <th>bsmt_fin_sf1</th>\n",
       "      <th>bsmt_fin_sf2</th>\n",
       "      <th>bsmt_unf_sf</th>\n",
       "      <th>...</th>\n",
       "      <th>wood_deck_sf</th>\n",
       "      <th>open_porch_sf</th>\n",
       "      <th>enclosed_porch</th>\n",
       "      <th>3_ssn_porch</th>\n",
       "      <th>screen_porch</th>\n",
       "      <th>pool_area</th>\n",
       "      <th>misc_val</th>\n",
       "      <th>mo_sold</th>\n",
       "      <th>yr_sold</th>\n",
       "      <th>sale_price</th>\n",
       "    </tr>\n",
       "  </thead>\n",
       "  <tbody>\n",
       "    <tr>\n",
       "      <th>0</th>\n",
       "      <td>60</td>\n",
       "      <td>8450</td>\n",
       "      <td>7</td>\n",
       "      <td>5</td>\n",
       "      <td>2003</td>\n",
       "      <td>2003</td>\n",
       "      <td>196.0</td>\n",
       "      <td>706</td>\n",
       "      <td>0</td>\n",
       "      <td>150</td>\n",
       "      <td>...</td>\n",
       "      <td>0</td>\n",
       "      <td>61</td>\n",
       "      <td>0</td>\n",
       "      <td>0</td>\n",
       "      <td>0</td>\n",
       "      <td>0</td>\n",
       "      <td>0</td>\n",
       "      <td>2</td>\n",
       "      <td>2008</td>\n",
       "      <td>208500</td>\n",
       "    </tr>\n",
       "    <tr>\n",
       "      <th>1</th>\n",
       "      <td>20</td>\n",
       "      <td>9600</td>\n",
       "      <td>6</td>\n",
       "      <td>8</td>\n",
       "      <td>1976</td>\n",
       "      <td>1976</td>\n",
       "      <td>0.0</td>\n",
       "      <td>978</td>\n",
       "      <td>0</td>\n",
       "      <td>284</td>\n",
       "      <td>...</td>\n",
       "      <td>298</td>\n",
       "      <td>0</td>\n",
       "      <td>0</td>\n",
       "      <td>0</td>\n",
       "      <td>0</td>\n",
       "      <td>0</td>\n",
       "      <td>0</td>\n",
       "      <td>5</td>\n",
       "      <td>2007</td>\n",
       "      <td>181500</td>\n",
       "    </tr>\n",
       "    <tr>\n",
       "      <th>2</th>\n",
       "      <td>60</td>\n",
       "      <td>11250</td>\n",
       "      <td>7</td>\n",
       "      <td>5</td>\n",
       "      <td>2001</td>\n",
       "      <td>2002</td>\n",
       "      <td>162.0</td>\n",
       "      <td>486</td>\n",
       "      <td>0</td>\n",
       "      <td>434</td>\n",
       "      <td>...</td>\n",
       "      <td>0</td>\n",
       "      <td>42</td>\n",
       "      <td>0</td>\n",
       "      <td>0</td>\n",
       "      <td>0</td>\n",
       "      <td>0</td>\n",
       "      <td>0</td>\n",
       "      <td>9</td>\n",
       "      <td>2008</td>\n",
       "      <td>223500</td>\n",
       "    </tr>\n",
       "    <tr>\n",
       "      <th>3</th>\n",
       "      <td>70</td>\n",
       "      <td>9550</td>\n",
       "      <td>7</td>\n",
       "      <td>5</td>\n",
       "      <td>1915</td>\n",
       "      <td>1970</td>\n",
       "      <td>0.0</td>\n",
       "      <td>216</td>\n",
       "      <td>0</td>\n",
       "      <td>540</td>\n",
       "      <td>...</td>\n",
       "      <td>0</td>\n",
       "      <td>35</td>\n",
       "      <td>272</td>\n",
       "      <td>0</td>\n",
       "      <td>0</td>\n",
       "      <td>0</td>\n",
       "      <td>0</td>\n",
       "      <td>2</td>\n",
       "      <td>2006</td>\n",
       "      <td>140000</td>\n",
       "    </tr>\n",
       "    <tr>\n",
       "      <th>4</th>\n",
       "      <td>60</td>\n",
       "      <td>14260</td>\n",
       "      <td>8</td>\n",
       "      <td>5</td>\n",
       "      <td>2000</td>\n",
       "      <td>2000</td>\n",
       "      <td>350.0</td>\n",
       "      <td>655</td>\n",
       "      <td>0</td>\n",
       "      <td>490</td>\n",
       "      <td>...</td>\n",
       "      <td>192</td>\n",
       "      <td>84</td>\n",
       "      <td>0</td>\n",
       "      <td>0</td>\n",
       "      <td>0</td>\n",
       "      <td>0</td>\n",
       "      <td>0</td>\n",
       "      <td>12</td>\n",
       "      <td>2008</td>\n",
       "      <td>250000</td>\n",
       "    </tr>\n",
       "  </tbody>\n",
       "</table>\n",
       "<p>5 rows × 36 columns</p>\n",
       "</div>"
      ],
      "text/plain": [
       "   ms_sub_class  lot_area  overall_qual  overall_cond  year_built  \\\n",
       "0            60      8450             7             5        2003   \n",
       "1            20      9600             6             8        1976   \n",
       "2            60     11250             7             5        2001   \n",
       "3            70      9550             7             5        1915   \n",
       "4            60     14260             8             5        2000   \n",
       "\n",
       "   year_remod_add  mas_vnr_area  bsmt_fin_sf1  bsmt_fin_sf2  bsmt_unf_sf  ...  \\\n",
       "0            2003         196.0           706             0          150  ...   \n",
       "1            1976           0.0           978             0          284  ...   \n",
       "2            2002         162.0           486             0          434  ...   \n",
       "3            1970           0.0           216             0          540  ...   \n",
       "4            2000         350.0           655             0          490  ...   \n",
       "\n",
       "   wood_deck_sf  open_porch_sf  enclosed_porch  3_ssn_porch  screen_porch  \\\n",
       "0             0             61               0            0             0   \n",
       "1           298              0               0            0             0   \n",
       "2             0             42               0            0             0   \n",
       "3             0             35             272            0             0   \n",
       "4           192             84               0            0             0   \n",
       "\n",
       "   pool_area  misc_val  mo_sold  yr_sold  sale_price  \n",
       "0          0         0        2     2008      208500  \n",
       "1          0         0        5     2007      181500  \n",
       "2          0         0        9     2008      223500  \n",
       "3          0         0        2     2006      140000  \n",
       "4          0         0       12     2008      250000  \n",
       "\n",
       "[5 rows x 36 columns]"
      ]
     },
     "execution_count": 5,
     "metadata": {},
     "output_type": "execute_result"
    }
   ],
   "source": [
    "##### split numerical and categorical data\n",
    "num_cleaned_house_df = cleaned_house_df.select_dtypes(include=np.number)\n",
    "cat_cleaned_house_df = cleaned_house_df.select_dtypes(exclude=np.number)\n",
    "\n",
    "num_cleaned_house_df.head(5)"
   ]
  },
  {
   "cell_type": "code",
   "execution_count": 271,
   "metadata": {},
   "outputs": [
    {
     "data": {
      "application/vnd.plotly.v1+json": {
       "config": {
        "plotlyServerURL": "https://plot.ly"
       },
       "data": [
        {
         "coloraxis": "coloraxis",
         "hovertemplate": "x: %{x}<br>y: %{y}<br>color: %{z}<extra></extra>",
         "name": "0",
         "type": "heatmap",
         "x": [
          "ms_sub_class",
          "lot_area",
          "overall_cond",
          "year_built",
          "year_remod_add",
          "mas_vnr_area",
          "bsmt_fin_sf1",
          "bsmt_fin_sf2",
          "bsmt_unf_sf",
          "total_bsmt_sf",
          "1st_flr_sf",
          "2nd_flr_sf",
          "low_qual_fin_sf",
          "gr_liv_area",
          "bsmt_full_bath",
          "bsmt_half_bath",
          "full_bath",
          "half_bath",
          "bedroom_abv_gr",
          "kitchen_abv_gr",
          "tot_rms_abv_grd",
          "fireplaces",
          "garage_yr_blt",
          "garage_cars",
          "garage_area",
          "wood_deck_sf",
          "open_porch_sf",
          "enclosed_porch",
          "3_ssn_porch",
          "screen_porch",
          "pool_area",
          "misc_val",
          "mo_sold",
          "yr_sold",
          "sale_price"
         ],
         "xaxis": "x",
         "y": [
          "sale_price",
          "gr_liv_area",
          "garage_cars",
          "garage_area",
          "total_bsmt_sf",
          "1st_flr_sf",
          "full_bath",
          "tot_rms_abv_grd",
          "year_built",
          "year_remod_add",
          "garage_yr_blt",
          "mas_vnr_area",
          "fireplaces",
          "bsmt_fin_sf1",
          "wood_deck_sf",
          "2nd_flr_sf",
          "open_porch_sf",
          "half_bath",
          "lot_area",
          "bsmt_full_bath",
          "bsmt_unf_sf",
          "bedroom_abv_gr",
          "screen_porch",
          "pool_area",
          "mo_sold",
          "3_ssn_porch",
          "bsmt_fin_sf2",
          "bsmt_half_bath",
          "misc_val",
          "low_qual_fin_sf",
          "yr_sold",
          "overall_cond",
          "ms_sub_class",
          "enclosed_porch",
          "kitchen_abv_gr"
         ],
         "yaxis": "y",
         "z": [
          [
           -0.08428413512659509,
           0.2638433538714051,
           -0.07785589404867797,
           0.5228973328794967,
           0.5071009671113866,
           0.47749304709571444,
           0.3864198062421535,
           -0.011378121450215146,
           0.21447910554696928,
           0.6135805515591943,
           0.6058521846919153,
           0.31933380283206736,
           -0.02560613000067955,
           0.7086244776126515,
           0.22712223313149427,
           -0.01684415429735895,
           0.5606637627484453,
           0.28410767559478256,
           0.16821315430073963,
           -0.13590737084214105,
           0.5337231555820284,
           0.46692883675152763,
           0.4863616774878596,
           0.6404091972583519,
           0.6234314389183622,
           0.32441344456812926,
           0.31585622711605504,
           -0.1285779579259566,
           0.04458366533574838,
           0.11144657114291112,
           0.09240354949187318,
           -0.021189579640303213,
           0.046432245223819446,
           -0.028922585168736813,
           1
          ],
          [
           0.0748531796577994,
           0.26311616716714803,
           -0.07968586538833815,
           0.19900971367645826,
           0.2873885196503327,
           0.39085663973843854,
           0.20817113014532704,
           -0.009639891551805443,
           0.240257268349935,
           0.45486820254790317,
           0.5660239689357486,
           0.6875010641666033,
           0.13468281300660076,
           1,
           0.03483604954490554,
           -0.0189184831706347,
           0.6300116462511148,
           0.4157716361052652,
           0.5212695109189948,
           0.10006316473775474,
           0.8254893743088425,
           0.46167913376144704,
           0.23119674063336224,
           0.4672474187951873,
           0.4689974773229655,
           0.24743282051884846,
           0.33022396171200064,
           0.009113210326003087,
           0.020643189710186576,
           0.10151039568208567,
           0.1702053360005616,
           -0.0024156395502935623,
           0.05023968081827284,
           -0.03652581962473121,
           0.7086244776126515
          ],
          [
           -0.040109793135783604,
           0.15487073975354076,
           -0.18575751057836357,
           0.5378500917111052,
           0.42062215494321714,
           0.3642036400698656,
           0.22405352239399068,
           -0.038263512869251545,
           0.2141751897502169,
           0.43458483429168865,
           0.4393168079906709,
           0.18392558307638002,
           -0.09447952015593257,
           0.4672474187951873,
           0.13188122440619438,
           -0.02089105899687853,
           0.469672043267628,
           0.21917815216716094,
           0.08610643768835287,
           -0.05063389240221729,
           0.3622885708147746,
           0.3007887663013562,
           0.5889200070047002,
           1,
           0.882475414281462,
           0.2263421384698597,
           0.21356944558969115,
           -0.15143416002683724,
           0.035765285146453774,
           0.05049379192719834,
           0.020933531041465454,
           -0.04308012810223063,
           0.040521730128251755,
           -0.039116904112831495,
           0.6404091972583519
          ],
          [
           -0.09867154319256435,
           0.1804027551511169,
           -0.15152137057022985,
           0.4789538198934904,
           0.3715998094973092,
           0.37306648160023664,
           0.2969703853445138,
           -0.018226591907316552,
           0.18330269774258412,
           0.4866654637737961,
           0.4897816541041918,
           0.13834695857186657,
           -0.06760141323952208,
           0.4689974773229655,
           0.179189480420231,
           -0.02453557957887923,
           0.4056562084540099,
           0.1635493640166073,
           0.06525252989881626,
           -0.06443304718314395,
           0.33782212063683786,
           0.2691412380738719,
           0.5645670607230577,
           0.882475414281462,
           1,
           0.2246663071787637,
           0.2414346721380881,
           -0.1217767195610043,
           0.03508670020815975,
           0.05141176244520852,
           0.061047271702060014,
           -0.02739991441262488,
           0.02797379982354057,
           -0.027377940418545084,
           0.6234314389183622
          ],
          [
           -0.23851840931511895,
           0.2608331345451572,
           -0.1710975146249218,
           0.3914520020660952,
           0.2910655826041661,
           0.3639362217744723,
           0.5223960519923867,
           0.10480953760636813,
           0.4153596051815893,
           1,
           0.8195299750050339,
           -0.17451195013496046,
           -0.0332453873474563,
           0.45486820254790317,
           0.30735055373550346,
           -0.00031458181983374725,
           0.3237224136066502,
           -0.04880373863521248,
           0.05044995551267818,
           -0.06890064264201659,
           0.28557256372579454,
           0.33951932389865597,
           0.3224451736794739,
           0.43458483429168865,
           0.4866654637737961,
           0.23201860912901803,
           0.2472637462881078,
           -0.09547773670640776,
           0.03738372726300508,
           0.08448898591431157,
           0.12605313210083768,
           -0.018478922431472124,
           0.013196178616778433,
           -0.014968648018762356,
           0.6135805515591943
          ],
          [
           -0.25175835187837925,
           0.29947457850776266,
           -0.1442027840490591,
           0.2819858586998021,
           0.24037926760355463,
           0.3445007468899248,
           0.4458626560920054,
           0.0971174484566702,
           0.3179874383527259,
           0.8195299750050339,
           1,
           -0.20264618100232087,
           -0.014240672666431285,
           0.5660239689357486,
           0.24467110424771052,
           0.001955653582048656,
           0.3806374949735071,
           -0.11991590879396136,
           0.12740074939236454,
           0.06810058817691335,
           0.40951597886683183,
           0.41053108465984556,
           0.23344909271486267,
           0.4393168079906709,
           0.4897816541041918,
           0.23545862278369778,
           0.2116712254979847,
           -0.0652917009103091,
           0.05610437448487508,
           0.08875807262015682,
           0.13152497564028254,
           -0.021095719463122223,
           0.03137156035207926,
           -0.01360377050464661,
           0.6058521846919153
          ],
          [
           0.13160822241028108,
           0.1260306265196436,
           -0.1941494887493024,
           0.4682707871726737,
           0.4390464838723479,
           0.27683284723698837,
           0.058543136861595194,
           -0.07644386196518269,
           0.2888860554869108,
           0.3237224136066502,
           0.3806374949735071,
           0.4213779828759713,
           -0.0007095096206731084,
           0.6300116462511148,
           -0.06451204863131507,
           -0.054535811983635524,
           1,
           0.13638058874914522,
           0.36325198302327694,
           0.1331152141960393,
           0.5547842535334836,
           0.2436705030799116,
           0.4845573867195222,
           0.469672043267628,
           0.4056562084540099,
           0.18770321383582822,
           0.25997742546824865,
           -0.11509296346134239,
           0.03535301658385297,
           -0.00810609332811188,
           0.04960382558403366,
           -0.014289844970848111,
           0.055872128991723384,
           -0.019668840691520386,
           0.5606637627484453
          ],
          [
           0.04038006478367613,
           0.190014777625409,
           -0.057583166112865375,
           0.09558912829795185,
           0.1917398162928069,
           0.2806816946085068,
           0.044315623912920654,
           -0.03522654794752336,
           0.25064706137624926,
           0.28557256372579454,
           0.40951597886683183,
           0.6164226354915431,
           0.13118477598954745,
           0.8254893743088425,
           -0.0532752361233972,
           -0.023836341262220544,
           0.5547842535334836,
           0.3434148575409178,
           0.676619935742649,
           0.2560454085359489,
           1,
           0.3261144801772001,
           0.1481117155859651,
           0.3622885708147746,
           0.33782212063683786,
           0.16598388371493233,
           0.2341915878315988,
           0.004151299023856323,
           -0.006683241010939702,
           0.059382599559410935,
           0.0837573495149245,
           0.024762884163584138,
           0.036907077159844405,
           -0.03451635430218269,
           0.5337231555820284
          ],
          [
           0.027850136946705798,
           0.014227651757025093,
           -0.37598319560698945,
           1,
           0.5928549763436519,
           0.3157070624361963,
           0.24950319668479728,
           -0.049106831196239174,
           0.14904039195440058,
           0.3914520020660952,
           0.2819858586998021,
           0.010307659584364078,
           -0.18378434437372046,
           0.19900971367645826,
           0.1875985499971434,
           -0.03816180567123349,
           0.4682707871726737,
           0.2426559102410641,
           -0.07065121690473103,
           -0.17480024561497706,
           0.09558912829795185,
           0.14771639941245646,
           0.8256674841743408,
           0.5378500917111052,
           0.4789538198934904,
           0.22488014230399744,
           0.188685840001731,
           -0.3872677829280785,
           0.03135451306436603,
           -0.05036443453861205,
           0.004949727615942999,
           -0.03438313873672287,
           0.012398470595440986,
           -0.01361768000183213,
           0.5228973328794967
          ],
          [
           0.04058104478406425,
           0.013788427078155424,
           0.07374149814528905,
           0.5928549763436519,
           1,
           0.17961837073552223,
           0.12845054712828866,
           -0.06775851356598699,
           0.18113308705016903,
           0.2910655826041661,
           0.24037926760355463,
           0.14002377880486447,
           -0.06241910007833181,
           0.2873885196503327,
           0.11946987911123993,
           -0.012337032127797673,
           0.4390464838723479,
           0.1833306117185349,
           -0.040580928067749454,
           -0.14959752104274646,
           0.1917398162928069,
           0.11258131843947561,
           0.6422767797035356,
           0.42062215494321714,
           0.3715998094973092,
           0.20572592049010355,
           0.22629763268298944,
           -0.1939191470992078,
           0.045285809814976964,
           -0.038740010742610125,
           0.005829372037106204,
           -0.010286248783081431,
           0.02149000222687611,
           0.03574324712127364,
           0.5071009671113866
          ],
          [
           0.08507186950664718,
           -0.02494741866564254,
           -0.32429673252939795,
           0.8256674841743408,
           0.6422767797035356,
           0.2526907749903342,
           0.1534840980267781,
           -0.08801081541220088,
           0.19070827345893257,
           0.3224451736794739,
           0.23344909271486267,
           0.0708323397173792,
           -0.03636323404234127,
           0.23119674063336224,
           0.12455252442364974,
           -0.07746361238070294,
           0.4845573867195222,
           0.19678517580586272,
           -0.06451843698438452,
           -0.12441140157001684,
           0.1481117155859651,
           0.04682164840190421,
           1,
           0.5889200070047002,
           0.5645670607230577,
           0.22457699198793213,
           0.22842457877198022,
           -0.2970026030557314,
           0.023543689573665077,
           -0.07541751376190593,
           -0.01450067856370222,
           -0.032417457821261826,
           0.0053370257603695135,
           -0.0010142778712734348,
           0.4863616774878596
          ],
          [
           0.022936285894197328,
           0.10415982154021264,
           -0.1281011991656896,
           0.3157070624361963,
           0.17961837073552223,
           1,
           0.2647362647138685,
           -0.0723188482033582,
           0.11444206231380821,
           0.3639362217744723,
           0.3445007468899248,
           0.1745614734574279,
           -0.06907085606589286,
           0.39085663973843854,
           0.08530982868972814,
           0.026672828155103145,
           0.27683284723698837,
           0.20144394692967832,
           0.10282115127801787,
           -0.03761025181986861,
           0.2806816946085068,
           0.24906961283714313,
           0.2526907749903342,
           0.3642036400698656,
           0.37306648160023664,
           0.15971813436595433,
           0.1257027966825031,
           -0.11020383387243517,
           0.018795515294914033,
           0.06146554318732188,
           0.01172306121326672,
           -0.02981539358527878,
           -0.005964715509114298,
           -0.008201030967080006,
           0.47749304709571444
          ],
          [
           -0.04556934027456939,
           0.2713640096245418,
           -0.02381997776166212,
           0.14771639941245646,
           0.11258131843947561,
           0.24906961283714313,
           0.2600109202350403,
           0.04692070882601213,
           0.0515748822895418,
           0.33951932389865597,
           0.41053108465984556,
           0.19456089224132392,
           -0.02127214341393874,
           0.46167913376144704,
           0.1379277084271981,
           0.028975586646259963,
           0.2436705030799116,
           0.20364850809521917,
           0.10756968099132388,
           -0.12393623529689729,
           0.3261144801772001,
           1,
           0.04682164840190421,
           0.3007887663013562,
           0.2691412380738719,
           0.20001879575902368,
           0.16940532713120185,
           -0.02482186853706847,
           0.011257238992774959,
           0.18453026951684842,
           0.09507352203619863,
           0.0014086054430451757,
           0.04635710249771968,
           -0.024095564980725313,
           0.46692883675152763
          ],
          [
           -0.06983574916710049,
           0.21410313070557713,
           -0.04623085591822496,
           0.24950319668479728,
           0.12845054712828866,
           0.2647362647138685,
           1,
           -0.0501174000471511,
           -0.49525146925701125,
           0.5223960519923867,
           0.4458626560920054,
           -0.13707898608005356,
           -0.06450259692146844,
           0.20817113014532704,
           0.6492117535742649,
           0.06741847791011696,
           0.058543136861595194,
           0.004262424384486936,
           -0.10735467682307034,
           -0.08100685077857439,
           0.044315623912920654,
           0.2600109202350403,
           0.1534840980267781,
           0.22405352239399068,
           0.2969703853445138,
           0.20430614523740265,
           0.11176061335675101,
           -0.10230330550073197,
           0.026450506189898953,
           0.06202062266534991,
           0.1404912862549568,
           0.003571473474954695,
           -0.015726948262154667,
           0.014358922393909302,
           0.3864198062421535
          ],
          [
           -0.012579358249219592,
           0.17169768725711246,
           -0.0033336992893856225,
           0.22488014230399744,
           0.20572592049010355,
           0.15971813436595433,
           0.20430614523740265,
           0.06789832641361218,
           -0.005316424333062066,
           0.23201860912901803,
           0.23545862278369778,
           0.09216541758603868,
           -0.025443647988791077,
           0.24743282051884846,
           0.17531519007972224,
           0.04016122325953452,
           0.18770321383582822,
           0.10808030267536337,
           0.04685377306989394,
           -0.09013027267903444,
           0.16598388371493233,
           0.20001879575902368,
           0.22457699198793213,
           0.2263421384698597,
           0.2246663071787637,
           1,
           0.058660608565887375,
           -0.1259888880376007,
           -0.03277063359357436,
           -0.07418135123983237,
           0.07337820695645396,
           -0.009551228238372468,
           0.021011044294297315,
           0.022270451009253036,
           0.32441344456812926
          ],
          [
           0.30788572075985926,
           0.05098594829349377,
           0.028942115965816882,
           0.010307659584364078,
           0.14002377880486447,
           0.1745614734574279,
           -0.13707898608005356,
           -0.09926031602264425,
           0.004469092144542392,
           -0.17451195013496046,
           -0.20264618100232087,
           1,
           0.06335295010932271,
           0.6875010641666033,
           -0.16949395173099896,
           -0.023854783937045255,
           0.4213779828759713,
           0.6097073002717436,
           0.5029006133459056,
           0.05930575264821624,
           0.6164226354915431,
           0.19456089224132392,
           0.0708323397173792,
           0.18392558307638002,
           0.13834695857186657,
           0.09216541758603868,
           0.2080260631813579,
           0.06198869077325203,
           -0.02435764842204794,
           0.040606447641001006,
           0.08148687804909954,
           0.016196874604388505,
           0.035164427361791005,
           -0.02869991393529755,
           0.31933380283206736
          ],
          [
           -0.006100121231942238,
           0.08477380884021642,
           -0.03258881352158505,
           0.188685840001731,
           0.22629763268298944,
           0.1257027966825031,
           0.11176061335675101,
           0.003092562209894399,
           0.12900541461542128,
           0.2472637462881078,
           0.2116712254979847,
           0.2080260631813579,
           0.018251039053999052,
           0.33022396171200064,
           0.06734146137698176,
           -0.02532375788905772,
           0.25997742546824865,
           0.19974014751279254,
           0.09380957160591452,
           -0.07009060989258609,
           0.2341915878315988,
           0.16940532713120185,
           0.22842457877198022,
           0.21356944558969115,
           0.2414346721380881,
           0.058660608565887375,
           1,
           -0.09307931750864903,
           -0.005842499340135753,
           0.07430394385024312,
           0.060762111489925795,
           -0.018583738987649336,
           0.07125488475868938,
           -0.057619360142091326,
           0.31585622711605504
          ],
          [
           0.17735438864391687,
           0.014259468566431947,
           -0.06076932676159483,
           0.2426559102410641,
           0.1833306117185349,
           0.20144394692967832,
           0.004262424384486936,
           -0.032147837468965886,
           -0.04111753014455172,
           -0.04880373863521248,
           -0.11991590879396136,
           0.6097073002717436,
           -0.02708004931716945,
           0.4157716361052652,
           -0.030904959142533293,
           -0.012339900052275487,
           0.13638058874914522,
           1,
           0.22665148415094508,
           -0.06826254889694101,
           0.3434148575409178,
           0.20364850809521917,
           0.19678517580586272,
           0.21917815216716094,
           0.1635493640166073,
           0.10808030267536337,
           0.19974014751279254,
           -0.09531652573608992,
           -0.0049724884173161,
           0.0724258451703809,
           0.0223814980554099,
           0.0012901448492839542,
           -0.009049888212650292,
           -0.010268668868105917,
           0.28410767559478256
          ],
          [
           -0.13978108172014597,
           1,
           -0.005636270274099278,
           0.014227651757025093,
           0.013788427078155424,
           0.10415982154021264,
           0.21410313070557713,
           0.11116974549624871,
           -0.00261835995009543,
           0.2608331345451572,
           0.29947457850776266,
           0.05098594829349377,
           0.004778969866349555,
           0.26311616716714803,
           0.15815453106001476,
           0.04804557088829686,
           0.1260306265196436,
           0.014259468566431947,
           0.11968990815131542,
           -0.017783870504841995,
           0.190014777625409,
           0.2713640096245418,
           -0.02494741866564254,
           0.15487073975354076,
           0.1804027551511169,
           0.17169768725711246,
           0.08477380884021642,
           -0.018339733672212328,
           0.020422829586133416,
           0.04316037769525204,
           0.07767239188017444,
           0.03806769201918336,
           0.0012049882225877268,
           -0.01426140729855021,
           0.2638433538714051
          ],
          [
           0.003491025779044692,
           0.15815453106001476,
           -0.05494151543295185,
           0.1875985499971434,
           0.11946987911123993,
           0.08530982868972814,
           0.6492117535742649,
           0.15867806078170135,
           -0.42290047738321335,
           0.30735055373550346,
           0.24467110424771052,
           -0.16949395173099896,
           -0.047143421898259166,
           0.03483604954490554,
           1,
           -0.14787096054760138,
           -0.06451204863131507,
           -0.030904959142533293,
           -0.15067280920795623,
           -0.041502546431482885,
           -0.0532752361233972,
           0.1379277084271981,
           0.12455252442364974,
           0.13188122440619438,
           0.179189480420231,
           0.17531519007972224,
           0.06734146137698176,
           -0.049910649083753186,
           -0.00010609153998400853,
           0.023147725763573802,
           0.06761555618047507,
           -0.02304702486861695,
           -0.025360894315259907,
           0.06704913767140361,
           0.22712223313149427
          ],
          [
           -0.14075948083501172,
           -0.00261835995009543,
           -0.13684056989352233,
           0.14904039195440058,
           0.18113308705016903,
           0.11444206231380821,
           -0.49525146925701125,
           -0.20929449241994497,
           1,
           0.4153596051815893,
           0.3179874383527259,
           0.004469092144542392,
           0.028166688132741206,
           0.240257268349935,
           -0.42290047738321335,
           -0.09580428815248283,
           0.2888860554869108,
           -0.04111753014455172,
           0.16664331698696289,
           0.030085868314000126,
           0.25064706137624926,
           0.0515748822895418,
           0.19070827345893257,
           0.2141751897502169,
           0.18330269774258412,
           -0.005316424333062066,
           0.12900541461542128,
           -0.002537854589751547,
           0.02076400569654798,
           -0.012579273444256824,
           -0.035092240793657914,
           -0.023836645134507763,
           0.03488844300908206,
           -0.04125819493876721,
           0.21447910554696928
          ],
          [
           -0.02343802846062706,
           0.11968990815131542,
           0.012980060094550628,
           -0.07065121690473103,
           -0.040580928067749454,
           0.10282115127801787,
           -0.10735467682307034,
           -0.015728113626581035,
           0.16664331698696289,
           0.05044995551267818,
           0.12740074939236454,
           0.5029006133459056,
           0.10560656854090526,
           0.5212695109189948,
           -0.15067280920795623,
           0.046518848389950684,
           0.36325198302327694,
           0.22665148415094508,
           1,
           0.1985967577071338,
           0.676619935742649,
           0.10756968099132388,
           -0.06451843698438452,
           0.08610643768835287,
           0.06525252989881626,
           0.04685377306989394,
           0.09380957160591452,
           0.04157043451959824,
           -0.02447779636611455,
           0.044299691127134826,
           0.07070258356547471,
           0.007766971998717607,
           0.04654385993628238,
           -0.03601389283370446,
           0.16821315430073963
          ],
          [
           -0.026030176699806666,
           0.04316037769525204,
           0.05481052878611526,
           -0.05036443453861205,
           -0.038740010742610125,
           0.06146554318732188,
           0.06202062266534991,
           0.08887125137339073,
           -0.012579273444256824,
           0.08448898591431157,
           0.08875807262015682,
           0.040606447641001006,
           0.02679941302177244,
           0.10151039568208567,
           0.023147725763573802,
           0.03212140720908338,
           -0.00810609332811188,
           0.0724258451703809,
           0.044299691127134826,
           -0.05161336606147979,
           0.059382599559410935,
           0.18453026951684842,
           -0.07541751376190593,
           0.05049379192719834,
           0.05141176244520852,
           -0.07418135123983237,
           0.07430394385024312,
           -0.08286424483260343,
           -0.03143584703909575,
           1,
           0.05130739451790554,
           0.03194576077490817,
           0.023216991793307076,
           0.01069410600377114,
           0.11144657114291112
          ],
          [
           0.008282707579624416,
           0.07767239188017444,
           -0.0019849422681841354,
           0.004949727615942999,
           0.005829372037106204,
           0.01172306121326672,
           0.1404912862549568,
           0.041709054681333575,
           -0.035092240793657914,
           0.12605313210083768,
           0.13152497564028254,
           0.08148687804909954,
           0.06215737226918922,
           0.1702053360005616,
           0.06761555618047507,
           0.02002462983851695,
           0.04960382558403366,
           0.0223814980554099,
           0.07070258356547471,
           -0.014525116015980777,
           0.0837573495149245,
           0.09507352203619863,
           -0.01450067856370222,
           0.020933531041465454,
           0.061047271702060014,
           0.07337820695645396,
           0.060762111489925795,
           0.05420256229213969,
           -0.00799154887286895,
           0.05130739451790554,
           1,
           0.02966865085402175,
           -0.033736640262791315,
           -0.0596889316752469,
           0.09240354949187318
          ],
          [
           -0.013584643238322348,
           0.0012049882225877268,
           -0.003510838599939743,
           0.012398470595440986,
           0.02149000222687611,
           -0.005964715509114298,
           -0.015726948262154667,
           -0.015210737972006668,
           0.03488844300908206,
           0.013196178616778433,
           0.03137156035207926,
           0.035164427361791005,
           -0.02217396057953783,
           0.05023968081827284,
           -0.025360894315259907,
           0.03287270523409066,
           0.055872128991723384,
           -0.009049888212650292,
           0.04654385993628238,
           0.026588907230915452,
           0.036907077159844405,
           0.04635710249771968,
           0.0053370257603695135,
           0.040521730128251755,
           0.02797379982354057,
           0.021011044294297315,
           0.07125488475868938,
           -0.028887265707142493,
           0.02947379524994019,
           0.023216991793307076,
           -0.033736640262791315,
           -0.006494550221282175,
           1,
           -0.1457214126753949,
           0.046432245223819446
          ],
          [
           -0.04382454917560846,
           0.020422829586133416,
           0.025503660024132138,
           0.03135451306436603,
           0.045285809814976964,
           0.018795515294914033,
           0.026450506189898953,
           -0.029993397993921023,
           0.02076400569654798,
           0.03738372726300508,
           0.05610437448487508,
           -0.02435764842204794,
           -0.004295610410300094,
           0.020643189710186576,
           -0.00010609153998400853,
           0.035113630886772336,
           0.03535301658385297,
           -0.0049724884173161,
           -0.02447779636611455,
           -0.024600358690531954,
           -0.006683241010939702,
           0.011257238992774959,
           0.023543689573665077,
           0.035765285146453774,
           0.03508670020815975,
           -0.03277063359357436,
           -0.005842499340135753,
           -0.03730528278804611,
           1,
           -0.03143584703909575,
           -0.00799154887286895,
           0.00035396527793940183,
           0.02947379524994019,
           0.01864492540475066,
           0.04458366533574838
          ],
          [
           -0.06564857918852389,
           0.11116974549624871,
           0.040229169899767575,
           -0.049106831196239174,
           -0.06775851356598699,
           -0.0723188482033582,
           -0.0501174000471511,
           1,
           -0.20929449241994497,
           0.10480953760636813,
           0.0971174484566702,
           -0.09926031602264425,
           0.01480699794683367,
           -0.009639891551805443,
           0.15867806078170135,
           0.07094813365590413,
           -0.07644386196518269,
           -0.032147837468965886,
           -0.015728113626581035,
           -0.04075123644840764,
           -0.03522654794752336,
           0.04692070882601213,
           -0.08801081541220088,
           -0.038263512869251545,
           -0.018226591907316552,
           0.06789832641361218,
           0.003092562209894399,
           0.036543339448210164,
           -0.029993397993921023,
           0.08887125137339073,
           0.041709054681333575,
           0.004939781228437705,
           -0.015210737972006668,
           0.03170563698487945,
           -0.011378121450215146
          ],
          [
           -0.0023325345518022773,
           0.04804557088829686,
           0.11782091508139253,
           -0.03816180567123349,
           -0.012337032127797673,
           0.026672828155103145,
           0.06741847791011696,
           0.07094813365590413,
           -0.09580428815248283,
           -0.00031458181983374725,
           0.001955653582048656,
           -0.023854783937045255,
           -0.005841504819311643,
           -0.0189184831706347,
           -0.14787096054760138,
           1,
           -0.054535811983635524,
           -0.012339900052275487,
           0.046518848389950684,
           -0.03794435022720086,
           -0.023836341262220544,
           0.028975586646259963,
           -0.07746361238070294,
           -0.02089105899687853,
           -0.02453557957887923,
           0.04016122325953452,
           -0.02532375788905772,
           -0.008555333868578032,
           0.035113630886772336,
           0.03212140720908338,
           0.02002462983851695,
           -0.007366524543625446,
           0.03287270523409066,
           -0.04652388177400862,
           -0.01684415429735895
          ],
          [
           -0.007683291329865976,
           0.03806769201918336,
           0.0687768060572499,
           -0.03438313873672287,
           -0.010286248783081431,
           -0.02981539358527878,
           0.003571473474954695,
           0.004939781228437705,
           -0.023836645134507763,
           -0.018478922431472124,
           -0.021095719463122223,
           0.016196874604388505,
           -0.003792870779996453,
           -0.0024156395502935623,
           -0.02304702486861695,
           -0.007366524543625446,
           -0.014289844970848111,
           0.0012901448492839542,
           0.007766971998717607,
           0.062340724004379115,
           0.024762884163584138,
           0.0014086054430451757,
           -0.032417457821261826,
           -0.04308012810223063,
           -0.02739991441262488,
           -0.009551228238372468,
           -0.018583738987649336,
           0.018360600139447715,
           0.00035396527793940183,
           0.03194576077490817,
           0.02966865085402175,
           1,
           -0.006494550221282175,
           0.004906262452651876,
           -0.021189579640303213
          ],
          [
           0.046473755899517154,
           0.004778969866349555,
           0.025494319914213383,
           -0.18378434437372046,
           -0.06241910007833181,
           -0.06907085606589286,
           -0.06450259692146844,
           0.01480699794683367,
           0.028166688132741206,
           -0.0332453873474563,
           -0.014240672666431285,
           0.06335295010932271,
           1,
           0.13468281300660076,
           -0.047143421898259166,
           -0.005841504819311643,
           -0.0007095096206731084,
           -0.02708004931716945,
           0.10560656854090526,
           0.007521744344233734,
           0.13118477598954745,
           -0.02127214341393874,
           -0.03636323404234127,
           -0.09447952015593257,
           -0.06760141323952208,
           -0.025443647988791077,
           0.018251039053999052,
           0.06108123777122687,
           -0.004295610410300094,
           0.02679941302177244,
           0.06215737226918922,
           -0.003792870779996453,
           -0.02217396057953783,
           -0.028920879782296086,
           -0.02560613000067955
          ],
          [
           -0.02140703785109821,
           -0.01426140729855021,
           0.043949745692488544,
           -0.01361768000183213,
           0.03574324712127364,
           -0.008201030967080006,
           0.014358922393909302,
           0.03170563698487945,
           -0.04125819493876721,
           -0.014968648018762356,
           -0.01360377050464661,
           -0.02869991393529755,
           -0.028920879782296086,
           -0.03652581962473121,
           0.06704913767140361,
           -0.04652388177400862,
           -0.019668840691520386,
           -0.010268668868105917,
           -0.03601389283370446,
           0.031687206500669154,
           -0.03451635430218269,
           -0.024095564980725313,
           -0.0010142778712734348,
           -0.039116904112831495,
           -0.027377940418545084,
           0.022270451009253036,
           -0.057619360142091326,
           -0.009915936955524396,
           0.01864492540475066,
           0.01069410600377114,
           -0.0596889316752469,
           0.004906262452651876,
           -0.1457214126753949,
           1,
           -0.028922585168736813
          ],
          [
           -0.059315817084104695,
           -0.005636270274099278,
           1,
           -0.37598319560698945,
           0.07374149814528905,
           -0.1281011991656896,
           -0.04623085591822496,
           0.040229169899767575,
           -0.13684056989352233,
           -0.1710975146249218,
           -0.1442027840490591,
           0.028942115965816882,
           0.025494319914213383,
           -0.07968586538833815,
           -0.05494151543295185,
           0.11782091508139253,
           -0.1941494887493024,
           -0.06076932676159483,
           0.012980060094550628,
           -0.08700085543638039,
           -0.057583166112865375,
           -0.02381997776166212,
           -0.32429673252939795,
           -0.18575751057836357,
           -0.15152137057022985,
           -0.0033336992893856225,
           -0.03258881352158505,
           0.07035618448230374,
           0.025503660024132138,
           0.05481052878611526,
           -0.0019849422681841354,
           0.0687768060572499,
           -0.003510838599939743,
           0.043949745692488544,
           -0.07785589404867797
          ],
          [
           1,
           -0.13978108172014597,
           -0.059315817084104695,
           0.027850136946705798,
           0.04058104478406425,
           0.022936285894197328,
           -0.06983574916710049,
           -0.06564857918852389,
           -0.14075948083501172,
           -0.23851840931511895,
           -0.25175835187837925,
           0.30788572075985926,
           0.046473755899517154,
           0.0748531796577994,
           0.003491025779044692,
           -0.0023325345518022773,
           0.13160822241028108,
           0.17735438864391687,
           -0.02343802846062706,
           0.2817210402648814,
           0.04038006478367613,
           -0.04556934027456939,
           0.08507186950664718,
           -0.040109793135783604,
           -0.09867154319256435,
           -0.012579358249219592,
           -0.006100121231942238,
           -0.012036621902094771,
           -0.04382454917560846,
           -0.026030176699806666,
           0.008282707579624416,
           -0.007683291329865976,
           -0.013584643238322348,
           -0.02140703785109821,
           -0.08428413512659509
          ],
          [
           -0.012036621902094771,
           -0.018339733672212328,
           0.07035618448230374,
           -0.3872677829280785,
           -0.1939191470992078,
           -0.11020383387243517,
           -0.10230330550073197,
           0.036543339448210164,
           -0.002537854589751547,
           -0.09547773670640776,
           -0.0652917009103091,
           0.06198869077325203,
           0.06108123777122687,
           0.009113210326003087,
           -0.049910649083753186,
           -0.008555333868578032,
           -0.11509296346134239,
           -0.09531652573608992,
           0.04157043451959824,
           0.03731238503296963,
           0.004151299023856323,
           -0.02482186853706847,
           -0.2970026030557314,
           -0.15143416002683724,
           -0.1217767195610043,
           -0.1259888880376007,
           -0.09307931750864903,
           1,
           -0.03730528278804611,
           -0.08286424483260343,
           0.05420256229213969,
           0.018360600139447715,
           -0.028887265707142493,
           -0.009915936955524396,
           -0.1285779579259566
          ],
          [
           0.2817210402648814,
           -0.017783870504841995,
           -0.08700085543638039,
           -0.17480024561497706,
           -0.14959752104274646,
           -0.03761025181986861,
           -0.08100685077857439,
           -0.04075123644840764,
           0.030085868314000126,
           -0.06890064264201659,
           0.06810058817691335,
           0.05930575264821624,
           0.007521744344233734,
           0.10006316473775474,
           -0.041502546431482885,
           -0.03794435022720086,
           0.1331152141960393,
           -0.06826254889694101,
           0.1985967577071338,
           1,
           0.2560454085359489,
           -0.12393623529689729,
           -0.12441140157001684,
           -0.05063389240221729,
           -0.06443304718314395,
           -0.09013027267903444,
           -0.07009060989258609,
           0.03731238503296963,
           -0.024600358690531954,
           -0.05161336606147979,
           -0.014525116015980777,
           0.062340724004379115,
           0.026588907230915452,
           0.031687206500669154,
           -0.13590737084214105
          ]
         ]
        }
       ],
       "layout": {
        "coloraxis": {
         "colorscale": [
          [
           0,
           "#0d0887"
          ],
          [
           0.1111111111111111,
           "#46039f"
          ],
          [
           0.2222222222222222,
           "#7201a8"
          ],
          [
           0.3333333333333333,
           "#9c179e"
          ],
          [
           0.4444444444444444,
           "#bd3786"
          ],
          [
           0.5555555555555556,
           "#d8576b"
          ],
          [
           0.6666666666666666,
           "#ed7953"
          ],
          [
           0.7777777777777778,
           "#fb9f3a"
          ],
          [
           0.8888888888888888,
           "#fdca26"
          ],
          [
           1,
           "#f0f921"
          ]
         ]
        },
        "margin": {
         "t": 60
        },
        "template": {
         "data": {
          "bar": [
           {
            "error_x": {
             "color": "#2a3f5f"
            },
            "error_y": {
             "color": "#2a3f5f"
            },
            "marker": {
             "line": {
              "color": "#E5ECF6",
              "width": 0.5
             },
             "pattern": {
              "fillmode": "overlay",
              "size": 10,
              "solidity": 0.2
             }
            },
            "type": "bar"
           }
          ],
          "barpolar": [
           {
            "marker": {
             "line": {
              "color": "#E5ECF6",
              "width": 0.5
             },
             "pattern": {
              "fillmode": "overlay",
              "size": 10,
              "solidity": 0.2
             }
            },
            "type": "barpolar"
           }
          ],
          "carpet": [
           {
            "aaxis": {
             "endlinecolor": "#2a3f5f",
             "gridcolor": "white",
             "linecolor": "white",
             "minorgridcolor": "white",
             "startlinecolor": "#2a3f5f"
            },
            "baxis": {
             "endlinecolor": "#2a3f5f",
             "gridcolor": "white",
             "linecolor": "white",
             "minorgridcolor": "white",
             "startlinecolor": "#2a3f5f"
            },
            "type": "carpet"
           }
          ],
          "choropleth": [
           {
            "colorbar": {
             "outlinewidth": 0,
             "ticks": ""
            },
            "type": "choropleth"
           }
          ],
          "contour": [
           {
            "colorbar": {
             "outlinewidth": 0,
             "ticks": ""
            },
            "colorscale": [
             [
              0,
              "#0d0887"
             ],
             [
              0.1111111111111111,
              "#46039f"
             ],
             [
              0.2222222222222222,
              "#7201a8"
             ],
             [
              0.3333333333333333,
              "#9c179e"
             ],
             [
              0.4444444444444444,
              "#bd3786"
             ],
             [
              0.5555555555555556,
              "#d8576b"
             ],
             [
              0.6666666666666666,
              "#ed7953"
             ],
             [
              0.7777777777777778,
              "#fb9f3a"
             ],
             [
              0.8888888888888888,
              "#fdca26"
             ],
             [
              1,
              "#f0f921"
             ]
            ],
            "type": "contour"
           }
          ],
          "contourcarpet": [
           {
            "colorbar": {
             "outlinewidth": 0,
             "ticks": ""
            },
            "type": "contourcarpet"
           }
          ],
          "heatmap": [
           {
            "colorbar": {
             "outlinewidth": 0,
             "ticks": ""
            },
            "colorscale": [
             [
              0,
              "#0d0887"
             ],
             [
              0.1111111111111111,
              "#46039f"
             ],
             [
              0.2222222222222222,
              "#7201a8"
             ],
             [
              0.3333333333333333,
              "#9c179e"
             ],
             [
              0.4444444444444444,
              "#bd3786"
             ],
             [
              0.5555555555555556,
              "#d8576b"
             ],
             [
              0.6666666666666666,
              "#ed7953"
             ],
             [
              0.7777777777777778,
              "#fb9f3a"
             ],
             [
              0.8888888888888888,
              "#fdca26"
             ],
             [
              1,
              "#f0f921"
             ]
            ],
            "type": "heatmap"
           }
          ],
          "heatmapgl": [
           {
            "colorbar": {
             "outlinewidth": 0,
             "ticks": ""
            },
            "colorscale": [
             [
              0,
              "#0d0887"
             ],
             [
              0.1111111111111111,
              "#46039f"
             ],
             [
              0.2222222222222222,
              "#7201a8"
             ],
             [
              0.3333333333333333,
              "#9c179e"
             ],
             [
              0.4444444444444444,
              "#bd3786"
             ],
             [
              0.5555555555555556,
              "#d8576b"
             ],
             [
              0.6666666666666666,
              "#ed7953"
             ],
             [
              0.7777777777777778,
              "#fb9f3a"
             ],
             [
              0.8888888888888888,
              "#fdca26"
             ],
             [
              1,
              "#f0f921"
             ]
            ],
            "type": "heatmapgl"
           }
          ],
          "histogram": [
           {
            "marker": {
             "pattern": {
              "fillmode": "overlay",
              "size": 10,
              "solidity": 0.2
             }
            },
            "type": "histogram"
           }
          ],
          "histogram2d": [
           {
            "colorbar": {
             "outlinewidth": 0,
             "ticks": ""
            },
            "colorscale": [
             [
              0,
              "#0d0887"
             ],
             [
              0.1111111111111111,
              "#46039f"
             ],
             [
              0.2222222222222222,
              "#7201a8"
             ],
             [
              0.3333333333333333,
              "#9c179e"
             ],
             [
              0.4444444444444444,
              "#bd3786"
             ],
             [
              0.5555555555555556,
              "#d8576b"
             ],
             [
              0.6666666666666666,
              "#ed7953"
             ],
             [
              0.7777777777777778,
              "#fb9f3a"
             ],
             [
              0.8888888888888888,
              "#fdca26"
             ],
             [
              1,
              "#f0f921"
             ]
            ],
            "type": "histogram2d"
           }
          ],
          "histogram2dcontour": [
           {
            "colorbar": {
             "outlinewidth": 0,
             "ticks": ""
            },
            "colorscale": [
             [
              0,
              "#0d0887"
             ],
             [
              0.1111111111111111,
              "#46039f"
             ],
             [
              0.2222222222222222,
              "#7201a8"
             ],
             [
              0.3333333333333333,
              "#9c179e"
             ],
             [
              0.4444444444444444,
              "#bd3786"
             ],
             [
              0.5555555555555556,
              "#d8576b"
             ],
             [
              0.6666666666666666,
              "#ed7953"
             ],
             [
              0.7777777777777778,
              "#fb9f3a"
             ],
             [
              0.8888888888888888,
              "#fdca26"
             ],
             [
              1,
              "#f0f921"
             ]
            ],
            "type": "histogram2dcontour"
           }
          ],
          "mesh3d": [
           {
            "colorbar": {
             "outlinewidth": 0,
             "ticks": ""
            },
            "type": "mesh3d"
           }
          ],
          "parcoords": [
           {
            "line": {
             "colorbar": {
              "outlinewidth": 0,
              "ticks": ""
             }
            },
            "type": "parcoords"
           }
          ],
          "pie": [
           {
            "automargin": true,
            "type": "pie"
           }
          ],
          "scatter": [
           {
            "fillpattern": {
             "fillmode": "overlay",
             "size": 10,
             "solidity": 0.2
            },
            "type": "scatter"
           }
          ],
          "scatter3d": [
           {
            "line": {
             "colorbar": {
              "outlinewidth": 0,
              "ticks": ""
             }
            },
            "marker": {
             "colorbar": {
              "outlinewidth": 0,
              "ticks": ""
             }
            },
            "type": "scatter3d"
           }
          ],
          "scattercarpet": [
           {
            "marker": {
             "colorbar": {
              "outlinewidth": 0,
              "ticks": ""
             }
            },
            "type": "scattercarpet"
           }
          ],
          "scattergeo": [
           {
            "marker": {
             "colorbar": {
              "outlinewidth": 0,
              "ticks": ""
             }
            },
            "type": "scattergeo"
           }
          ],
          "scattergl": [
           {
            "marker": {
             "colorbar": {
              "outlinewidth": 0,
              "ticks": ""
             }
            },
            "type": "scattergl"
           }
          ],
          "scattermapbox": [
           {
            "marker": {
             "colorbar": {
              "outlinewidth": 0,
              "ticks": ""
             }
            },
            "type": "scattermapbox"
           }
          ],
          "scatterpolar": [
           {
            "marker": {
             "colorbar": {
              "outlinewidth": 0,
              "ticks": ""
             }
            },
            "type": "scatterpolar"
           }
          ],
          "scatterpolargl": [
           {
            "marker": {
             "colorbar": {
              "outlinewidth": 0,
              "ticks": ""
             }
            },
            "type": "scatterpolargl"
           }
          ],
          "scatterternary": [
           {
            "marker": {
             "colorbar": {
              "outlinewidth": 0,
              "ticks": ""
             }
            },
            "type": "scatterternary"
           }
          ],
          "surface": [
           {
            "colorbar": {
             "outlinewidth": 0,
             "ticks": ""
            },
            "colorscale": [
             [
              0,
              "#0d0887"
             ],
             [
              0.1111111111111111,
              "#46039f"
             ],
             [
              0.2222222222222222,
              "#7201a8"
             ],
             [
              0.3333333333333333,
              "#9c179e"
             ],
             [
              0.4444444444444444,
              "#bd3786"
             ],
             [
              0.5555555555555556,
              "#d8576b"
             ],
             [
              0.6666666666666666,
              "#ed7953"
             ],
             [
              0.7777777777777778,
              "#fb9f3a"
             ],
             [
              0.8888888888888888,
              "#fdca26"
             ],
             [
              1,
              "#f0f921"
             ]
            ],
            "type": "surface"
           }
          ],
          "table": [
           {
            "cells": {
             "fill": {
              "color": "#EBF0F8"
             },
             "line": {
              "color": "white"
             }
            },
            "header": {
             "fill": {
              "color": "#C8D4E3"
             },
             "line": {
              "color": "white"
             }
            },
            "type": "table"
           }
          ]
         },
         "layout": {
          "annotationdefaults": {
           "arrowcolor": "#2a3f5f",
           "arrowhead": 0,
           "arrowwidth": 1
          },
          "autotypenumbers": "strict",
          "coloraxis": {
           "colorbar": {
            "outlinewidth": 0,
            "ticks": ""
           }
          },
          "colorscale": {
           "diverging": [
            [
             0,
             "#8e0152"
            ],
            [
             0.1,
             "#c51b7d"
            ],
            [
             0.2,
             "#de77ae"
            ],
            [
             0.3,
             "#f1b6da"
            ],
            [
             0.4,
             "#fde0ef"
            ],
            [
             0.5,
             "#f7f7f7"
            ],
            [
             0.6,
             "#e6f5d0"
            ],
            [
             0.7,
             "#b8e186"
            ],
            [
             0.8,
             "#7fbc41"
            ],
            [
             0.9,
             "#4d9221"
            ],
            [
             1,
             "#276419"
            ]
           ],
           "sequential": [
            [
             0,
             "#0d0887"
            ],
            [
             0.1111111111111111,
             "#46039f"
            ],
            [
             0.2222222222222222,
             "#7201a8"
            ],
            [
             0.3333333333333333,
             "#9c179e"
            ],
            [
             0.4444444444444444,
             "#bd3786"
            ],
            [
             0.5555555555555556,
             "#d8576b"
            ],
            [
             0.6666666666666666,
             "#ed7953"
            ],
            [
             0.7777777777777778,
             "#fb9f3a"
            ],
            [
             0.8888888888888888,
             "#fdca26"
            ],
            [
             1,
             "#f0f921"
            ]
           ],
           "sequentialminus": [
            [
             0,
             "#0d0887"
            ],
            [
             0.1111111111111111,
             "#46039f"
            ],
            [
             0.2222222222222222,
             "#7201a8"
            ],
            [
             0.3333333333333333,
             "#9c179e"
            ],
            [
             0.4444444444444444,
             "#bd3786"
            ],
            [
             0.5555555555555556,
             "#d8576b"
            ],
            [
             0.6666666666666666,
             "#ed7953"
            ],
            [
             0.7777777777777778,
             "#fb9f3a"
            ],
            [
             0.8888888888888888,
             "#fdca26"
            ],
            [
             1,
             "#f0f921"
            ]
           ]
          },
          "colorway": [
           "#636efa",
           "#EF553B",
           "#00cc96",
           "#ab63fa",
           "#FFA15A",
           "#19d3f3",
           "#FF6692",
           "#B6E880",
           "#FF97FF",
           "#FECB52"
          ],
          "font": {
           "color": "#2a3f5f"
          },
          "geo": {
           "bgcolor": "white",
           "lakecolor": "white",
           "landcolor": "#E5ECF6",
           "showlakes": true,
           "showland": true,
           "subunitcolor": "white"
          },
          "hoverlabel": {
           "align": "left"
          },
          "hovermode": "closest",
          "mapbox": {
           "style": "light"
          },
          "paper_bgcolor": "white",
          "plot_bgcolor": "#E5ECF6",
          "polar": {
           "angularaxis": {
            "gridcolor": "white",
            "linecolor": "white",
            "ticks": ""
           },
           "bgcolor": "#E5ECF6",
           "radialaxis": {
            "gridcolor": "white",
            "linecolor": "white",
            "ticks": ""
           }
          },
          "scene": {
           "xaxis": {
            "backgroundcolor": "#E5ECF6",
            "gridcolor": "white",
            "gridwidth": 2,
            "linecolor": "white",
            "showbackground": true,
            "ticks": "",
            "zerolinecolor": "white"
           },
           "yaxis": {
            "backgroundcolor": "#E5ECF6",
            "gridcolor": "white",
            "gridwidth": 2,
            "linecolor": "white",
            "showbackground": true,
            "ticks": "",
            "zerolinecolor": "white"
           },
           "zaxis": {
            "backgroundcolor": "#E5ECF6",
            "gridcolor": "white",
            "gridwidth": 2,
            "linecolor": "white",
            "showbackground": true,
            "ticks": "",
            "zerolinecolor": "white"
           }
          },
          "shapedefaults": {
           "line": {
            "color": "#2a3f5f"
           }
          },
          "ternary": {
           "aaxis": {
            "gridcolor": "white",
            "linecolor": "white",
            "ticks": ""
           },
           "baxis": {
            "gridcolor": "white",
            "linecolor": "white",
            "ticks": ""
           },
           "bgcolor": "#E5ECF6",
           "caxis": {
            "gridcolor": "white",
            "linecolor": "white",
            "ticks": ""
           }
          },
          "title": {
           "x": 0.05
          },
          "xaxis": {
           "automargin": true,
           "gridcolor": "white",
           "linecolor": "white",
           "ticks": "",
           "title": {
            "standoff": 15
           },
           "zerolinecolor": "white",
           "zerolinewidth": 2
          },
          "yaxis": {
           "automargin": true,
           "gridcolor": "white",
           "linecolor": "white",
           "ticks": "",
           "title": {
            "standoff": 15
           },
           "zerolinecolor": "white",
           "zerolinewidth": 2
          }
         }
        },
        "title": {
         "text": "Fig_1a: Pearson Correlation Heatmap"
        },
        "xaxis": {
         "anchor": "y",
         "constrain": "domain",
         "domain": [
          0,
          1
         ],
         "scaleanchor": "y",
         "title": {
          "text": "Feature Names"
         }
        },
        "yaxis": {
         "anchor": "x",
         "autorange": "reversed",
         "constrain": "domain",
         "domain": [
          0,
          1
         ],
         "title": {
          "text": "Feature Names"
         }
        }
       }
      }
     },
     "metadata": {},
     "output_type": "display_data"
    }
   ],
   "source": [
    "corr_matrix = num_cleaned_house_df.corr().sort_values(\"sale_price\", ascending=False)\n",
    "corr_matrix = corr_matrix.drop(columns=[\"overall_qual\"]).drop(index=[\"overall_qual\"])\n",
    "\n",
    "fig_1a = px.imshow(corr_matrix)\n",
    "\n",
    "fig_1a.update_xaxes(title_text=\"Feature Names\")\n",
    "fig_1a.update_yaxes(title_text=\"Feature Names\")\n",
    "fig_1a.update_layout(title_text=\"Fig_1a: Pearson Correlation Heatmap\")\n",
    "fig_1a.show()"
   ]
  },
  {
   "cell_type": "markdown",
   "metadata": {},
   "source": [
    "Fig_1a shows the heatmap of Pearson correlation matrix for features with numerical data type. The correlation compares two features at a time, and the correlation values can range from -1 to 1. When two features are negatively correlated, an increase in one feature decreases the other feature. On the other hand, when two features are positively correlated, an increase in one feature increases the other feature. A 0 correlation value means that the two features are not correlated, hence any increase or decrease in one feature does not affect the other feature.\n",
    "\n",
    "The right most column of the heatmap shows how sale price is correlated to other feature. These values are extracted and plotted in Fig_1b."
   ]
  },
  {
   "cell_type": "code",
   "execution_count": 272,
   "metadata": {},
   "outputs": [
    {
     "data": {
      "application/vnd.plotly.v1+json": {
       "config": {
        "plotlyServerURL": "https://plot.ly"
       },
       "data": [
        {
         "hovertemplate": "x=%{x}<br>y=%{y}<extra></extra>",
         "legendgroup": "",
         "marker": {
          "color": "#636efa",
          "symbol": "circle"
         },
         "mode": "markers",
         "name": "",
         "orientation": "v",
         "showlegend": false,
         "type": "scatter",
         "x": [
          "sale_price",
          "gr_liv_area",
          "garage_cars",
          "garage_area",
          "total_bsmt_sf",
          "1st_flr_sf",
          "full_bath",
          "tot_rms_abv_grd",
          "year_built",
          "year_remod_add",
          "garage_yr_blt",
          "mas_vnr_area",
          "fireplaces",
          "bsmt_fin_sf1",
          "wood_deck_sf",
          "2nd_flr_sf",
          "open_porch_sf",
          "half_bath",
          "lot_area",
          "bsmt_full_bath",
          "bsmt_unf_sf",
          "bedroom_abv_gr",
          "screen_porch",
          "pool_area",
          "mo_sold",
          "3_ssn_porch",
          "bsmt_fin_sf2",
          "bsmt_half_bath",
          "misc_val",
          "low_qual_fin_sf",
          "yr_sold",
          "overall_cond",
          "ms_sub_class",
          "enclosed_porch",
          "kitchen_abv_gr"
         ],
         "xaxis": "x",
         "y": [
          1,
          0.7086244776126515,
          0.6404091972583519,
          0.6234314389183622,
          0.6135805515591943,
          0.6058521846919153,
          0.5606637627484453,
          0.5337231555820284,
          0.5228973328794967,
          0.5071009671113866,
          0.4863616774878596,
          0.47749304709571444,
          0.46692883675152763,
          0.3864198062421535,
          0.32441344456812926,
          0.31933380283206736,
          0.31585622711605504,
          0.28410767559478256,
          0.2638433538714051,
          0.22712223313149427,
          0.21447910554696928,
          0.16821315430073963,
          0.11144657114291112,
          0.09240354949187318,
          0.046432245223819446,
          0.04458366533574838,
          -0.011378121450215146,
          -0.01684415429735895,
          -0.021189579640303213,
          -0.02560613000067955,
          -0.028922585168736813,
          -0.07785589404867797,
          -0.08428413512659509,
          -0.1285779579259566,
          -0.13590737084214105
         ],
         "yaxis": "y"
        }
       ],
       "layout": {
        "legend": {
         "tracegroupgap": 0
        },
        "margin": {
         "t": 60
        },
        "template": {
         "data": {
          "bar": [
           {
            "error_x": {
             "color": "#2a3f5f"
            },
            "error_y": {
             "color": "#2a3f5f"
            },
            "marker": {
             "line": {
              "color": "#E5ECF6",
              "width": 0.5
             },
             "pattern": {
              "fillmode": "overlay",
              "size": 10,
              "solidity": 0.2
             }
            },
            "type": "bar"
           }
          ],
          "barpolar": [
           {
            "marker": {
             "line": {
              "color": "#E5ECF6",
              "width": 0.5
             },
             "pattern": {
              "fillmode": "overlay",
              "size": 10,
              "solidity": 0.2
             }
            },
            "type": "barpolar"
           }
          ],
          "carpet": [
           {
            "aaxis": {
             "endlinecolor": "#2a3f5f",
             "gridcolor": "white",
             "linecolor": "white",
             "minorgridcolor": "white",
             "startlinecolor": "#2a3f5f"
            },
            "baxis": {
             "endlinecolor": "#2a3f5f",
             "gridcolor": "white",
             "linecolor": "white",
             "minorgridcolor": "white",
             "startlinecolor": "#2a3f5f"
            },
            "type": "carpet"
           }
          ],
          "choropleth": [
           {
            "colorbar": {
             "outlinewidth": 0,
             "ticks": ""
            },
            "type": "choropleth"
           }
          ],
          "contour": [
           {
            "colorbar": {
             "outlinewidth": 0,
             "ticks": ""
            },
            "colorscale": [
             [
              0,
              "#0d0887"
             ],
             [
              0.1111111111111111,
              "#46039f"
             ],
             [
              0.2222222222222222,
              "#7201a8"
             ],
             [
              0.3333333333333333,
              "#9c179e"
             ],
             [
              0.4444444444444444,
              "#bd3786"
             ],
             [
              0.5555555555555556,
              "#d8576b"
             ],
             [
              0.6666666666666666,
              "#ed7953"
             ],
             [
              0.7777777777777778,
              "#fb9f3a"
             ],
             [
              0.8888888888888888,
              "#fdca26"
             ],
             [
              1,
              "#f0f921"
             ]
            ],
            "type": "contour"
           }
          ],
          "contourcarpet": [
           {
            "colorbar": {
             "outlinewidth": 0,
             "ticks": ""
            },
            "type": "contourcarpet"
           }
          ],
          "heatmap": [
           {
            "colorbar": {
             "outlinewidth": 0,
             "ticks": ""
            },
            "colorscale": [
             [
              0,
              "#0d0887"
             ],
             [
              0.1111111111111111,
              "#46039f"
             ],
             [
              0.2222222222222222,
              "#7201a8"
             ],
             [
              0.3333333333333333,
              "#9c179e"
             ],
             [
              0.4444444444444444,
              "#bd3786"
             ],
             [
              0.5555555555555556,
              "#d8576b"
             ],
             [
              0.6666666666666666,
              "#ed7953"
             ],
             [
              0.7777777777777778,
              "#fb9f3a"
             ],
             [
              0.8888888888888888,
              "#fdca26"
             ],
             [
              1,
              "#f0f921"
             ]
            ],
            "type": "heatmap"
           }
          ],
          "heatmapgl": [
           {
            "colorbar": {
             "outlinewidth": 0,
             "ticks": ""
            },
            "colorscale": [
             [
              0,
              "#0d0887"
             ],
             [
              0.1111111111111111,
              "#46039f"
             ],
             [
              0.2222222222222222,
              "#7201a8"
             ],
             [
              0.3333333333333333,
              "#9c179e"
             ],
             [
              0.4444444444444444,
              "#bd3786"
             ],
             [
              0.5555555555555556,
              "#d8576b"
             ],
             [
              0.6666666666666666,
              "#ed7953"
             ],
             [
              0.7777777777777778,
              "#fb9f3a"
             ],
             [
              0.8888888888888888,
              "#fdca26"
             ],
             [
              1,
              "#f0f921"
             ]
            ],
            "type": "heatmapgl"
           }
          ],
          "histogram": [
           {
            "marker": {
             "pattern": {
              "fillmode": "overlay",
              "size": 10,
              "solidity": 0.2
             }
            },
            "type": "histogram"
           }
          ],
          "histogram2d": [
           {
            "colorbar": {
             "outlinewidth": 0,
             "ticks": ""
            },
            "colorscale": [
             [
              0,
              "#0d0887"
             ],
             [
              0.1111111111111111,
              "#46039f"
             ],
             [
              0.2222222222222222,
              "#7201a8"
             ],
             [
              0.3333333333333333,
              "#9c179e"
             ],
             [
              0.4444444444444444,
              "#bd3786"
             ],
             [
              0.5555555555555556,
              "#d8576b"
             ],
             [
              0.6666666666666666,
              "#ed7953"
             ],
             [
              0.7777777777777778,
              "#fb9f3a"
             ],
             [
              0.8888888888888888,
              "#fdca26"
             ],
             [
              1,
              "#f0f921"
             ]
            ],
            "type": "histogram2d"
           }
          ],
          "histogram2dcontour": [
           {
            "colorbar": {
             "outlinewidth": 0,
             "ticks": ""
            },
            "colorscale": [
             [
              0,
              "#0d0887"
             ],
             [
              0.1111111111111111,
              "#46039f"
             ],
             [
              0.2222222222222222,
              "#7201a8"
             ],
             [
              0.3333333333333333,
              "#9c179e"
             ],
             [
              0.4444444444444444,
              "#bd3786"
             ],
             [
              0.5555555555555556,
              "#d8576b"
             ],
             [
              0.6666666666666666,
              "#ed7953"
             ],
             [
              0.7777777777777778,
              "#fb9f3a"
             ],
             [
              0.8888888888888888,
              "#fdca26"
             ],
             [
              1,
              "#f0f921"
             ]
            ],
            "type": "histogram2dcontour"
           }
          ],
          "mesh3d": [
           {
            "colorbar": {
             "outlinewidth": 0,
             "ticks": ""
            },
            "type": "mesh3d"
           }
          ],
          "parcoords": [
           {
            "line": {
             "colorbar": {
              "outlinewidth": 0,
              "ticks": ""
             }
            },
            "type": "parcoords"
           }
          ],
          "pie": [
           {
            "automargin": true,
            "type": "pie"
           }
          ],
          "scatter": [
           {
            "fillpattern": {
             "fillmode": "overlay",
             "size": 10,
             "solidity": 0.2
            },
            "type": "scatter"
           }
          ],
          "scatter3d": [
           {
            "line": {
             "colorbar": {
              "outlinewidth": 0,
              "ticks": ""
             }
            },
            "marker": {
             "colorbar": {
              "outlinewidth": 0,
              "ticks": ""
             }
            },
            "type": "scatter3d"
           }
          ],
          "scattercarpet": [
           {
            "marker": {
             "colorbar": {
              "outlinewidth": 0,
              "ticks": ""
             }
            },
            "type": "scattercarpet"
           }
          ],
          "scattergeo": [
           {
            "marker": {
             "colorbar": {
              "outlinewidth": 0,
              "ticks": ""
             }
            },
            "type": "scattergeo"
           }
          ],
          "scattergl": [
           {
            "marker": {
             "colorbar": {
              "outlinewidth": 0,
              "ticks": ""
             }
            },
            "type": "scattergl"
           }
          ],
          "scattermapbox": [
           {
            "marker": {
             "colorbar": {
              "outlinewidth": 0,
              "ticks": ""
             }
            },
            "type": "scattermapbox"
           }
          ],
          "scatterpolar": [
           {
            "marker": {
             "colorbar": {
              "outlinewidth": 0,
              "ticks": ""
             }
            },
            "type": "scatterpolar"
           }
          ],
          "scatterpolargl": [
           {
            "marker": {
             "colorbar": {
              "outlinewidth": 0,
              "ticks": ""
             }
            },
            "type": "scatterpolargl"
           }
          ],
          "scatterternary": [
           {
            "marker": {
             "colorbar": {
              "outlinewidth": 0,
              "ticks": ""
             }
            },
            "type": "scatterternary"
           }
          ],
          "surface": [
           {
            "colorbar": {
             "outlinewidth": 0,
             "ticks": ""
            },
            "colorscale": [
             [
              0,
              "#0d0887"
             ],
             [
              0.1111111111111111,
              "#46039f"
             ],
             [
              0.2222222222222222,
              "#7201a8"
             ],
             [
              0.3333333333333333,
              "#9c179e"
             ],
             [
              0.4444444444444444,
              "#bd3786"
             ],
             [
              0.5555555555555556,
              "#d8576b"
             ],
             [
              0.6666666666666666,
              "#ed7953"
             ],
             [
              0.7777777777777778,
              "#fb9f3a"
             ],
             [
              0.8888888888888888,
              "#fdca26"
             ],
             [
              1,
              "#f0f921"
             ]
            ],
            "type": "surface"
           }
          ],
          "table": [
           {
            "cells": {
             "fill": {
              "color": "#EBF0F8"
             },
             "line": {
              "color": "white"
             }
            },
            "header": {
             "fill": {
              "color": "#C8D4E3"
             },
             "line": {
              "color": "white"
             }
            },
            "type": "table"
           }
          ]
         },
         "layout": {
          "annotationdefaults": {
           "arrowcolor": "#2a3f5f",
           "arrowhead": 0,
           "arrowwidth": 1
          },
          "autotypenumbers": "strict",
          "coloraxis": {
           "colorbar": {
            "outlinewidth": 0,
            "ticks": ""
           }
          },
          "colorscale": {
           "diverging": [
            [
             0,
             "#8e0152"
            ],
            [
             0.1,
             "#c51b7d"
            ],
            [
             0.2,
             "#de77ae"
            ],
            [
             0.3,
             "#f1b6da"
            ],
            [
             0.4,
             "#fde0ef"
            ],
            [
             0.5,
             "#f7f7f7"
            ],
            [
             0.6,
             "#e6f5d0"
            ],
            [
             0.7,
             "#b8e186"
            ],
            [
             0.8,
             "#7fbc41"
            ],
            [
             0.9,
             "#4d9221"
            ],
            [
             1,
             "#276419"
            ]
           ],
           "sequential": [
            [
             0,
             "#0d0887"
            ],
            [
             0.1111111111111111,
             "#46039f"
            ],
            [
             0.2222222222222222,
             "#7201a8"
            ],
            [
             0.3333333333333333,
             "#9c179e"
            ],
            [
             0.4444444444444444,
             "#bd3786"
            ],
            [
             0.5555555555555556,
             "#d8576b"
            ],
            [
             0.6666666666666666,
             "#ed7953"
            ],
            [
             0.7777777777777778,
             "#fb9f3a"
            ],
            [
             0.8888888888888888,
             "#fdca26"
            ],
            [
             1,
             "#f0f921"
            ]
           ],
           "sequentialminus": [
            [
             0,
             "#0d0887"
            ],
            [
             0.1111111111111111,
             "#46039f"
            ],
            [
             0.2222222222222222,
             "#7201a8"
            ],
            [
             0.3333333333333333,
             "#9c179e"
            ],
            [
             0.4444444444444444,
             "#bd3786"
            ],
            [
             0.5555555555555556,
             "#d8576b"
            ],
            [
             0.6666666666666666,
             "#ed7953"
            ],
            [
             0.7777777777777778,
             "#fb9f3a"
            ],
            [
             0.8888888888888888,
             "#fdca26"
            ],
            [
             1,
             "#f0f921"
            ]
           ]
          },
          "colorway": [
           "#636efa",
           "#EF553B",
           "#00cc96",
           "#ab63fa",
           "#FFA15A",
           "#19d3f3",
           "#FF6692",
           "#B6E880",
           "#FF97FF",
           "#FECB52"
          ],
          "font": {
           "color": "#2a3f5f"
          },
          "geo": {
           "bgcolor": "white",
           "lakecolor": "white",
           "landcolor": "#E5ECF6",
           "showlakes": true,
           "showland": true,
           "subunitcolor": "white"
          },
          "hoverlabel": {
           "align": "left"
          },
          "hovermode": "closest",
          "mapbox": {
           "style": "light"
          },
          "paper_bgcolor": "white",
          "plot_bgcolor": "#E5ECF6",
          "polar": {
           "angularaxis": {
            "gridcolor": "white",
            "linecolor": "white",
            "ticks": ""
           },
           "bgcolor": "#E5ECF6",
           "radialaxis": {
            "gridcolor": "white",
            "linecolor": "white",
            "ticks": ""
           }
          },
          "scene": {
           "xaxis": {
            "backgroundcolor": "#E5ECF6",
            "gridcolor": "white",
            "gridwidth": 2,
            "linecolor": "white",
            "showbackground": true,
            "ticks": "",
            "zerolinecolor": "white"
           },
           "yaxis": {
            "backgroundcolor": "#E5ECF6",
            "gridcolor": "white",
            "gridwidth": 2,
            "linecolor": "white",
            "showbackground": true,
            "ticks": "",
            "zerolinecolor": "white"
           },
           "zaxis": {
            "backgroundcolor": "#E5ECF6",
            "gridcolor": "white",
            "gridwidth": 2,
            "linecolor": "white",
            "showbackground": true,
            "ticks": "",
            "zerolinecolor": "white"
           }
          },
          "shapedefaults": {
           "line": {
            "color": "#2a3f5f"
           }
          },
          "ternary": {
           "aaxis": {
            "gridcolor": "white",
            "linecolor": "white",
            "ticks": ""
           },
           "baxis": {
            "gridcolor": "white",
            "linecolor": "white",
            "ticks": ""
           },
           "bgcolor": "#E5ECF6",
           "caxis": {
            "gridcolor": "white",
            "linecolor": "white",
            "ticks": ""
           }
          },
          "title": {
           "x": 0.05
          },
          "xaxis": {
           "automargin": true,
           "gridcolor": "white",
           "linecolor": "white",
           "ticks": "",
           "title": {
            "standoff": 15
           },
           "zerolinecolor": "white",
           "zerolinewidth": 2
          },
          "yaxis": {
           "automargin": true,
           "gridcolor": "white",
           "linecolor": "white",
           "ticks": "",
           "title": {
            "standoff": 15
           },
           "zerolinecolor": "white",
           "zerolinewidth": 2
          }
         }
        },
        "title": {
         "text": "Fig_1b: Pearson correlation value between Sale Price and other features"
        },
        "xaxis": {
         "anchor": "y",
         "domain": [
          0,
          1
         ],
         "title": {
          "text": "Feature Name"
         }
        },
        "yaxis": {
         "anchor": "x",
         "domain": [
          0,
          1
         ],
         "title": {
          "text": "Pearson correlation value"
         }
        }
       }
      }
     },
     "metadata": {},
     "output_type": "display_data"
    }
   ],
   "source": [
    "fig_1b = px.scatter(x=corr_matrix.index, y=corr_matrix[\"sale_price\"])\n",
    "\n",
    "fig_1b.update_xaxes(title_text=\"Feature Name\")\n",
    "fig_1b.update_yaxes(title_text=\"Pearson correlation value\")\n",
    "fig_1b.update_layout(title_text=\"Fig_1b: Pearson correlation value between Sale Price and other features\")\n",
    "fig_1b.show()"
   ]
  },
  {
   "cell_type": "markdown",
   "metadata": {},
   "source": [
    "Based on Fig_1b, some of the features that can be used to create a model are `gr_liv_area`, `garage_cars`, `garage_area`, `total_bsmt_sf`, and `1st_flr_sf`. The remainder features will not be included to avoid creating a complex model and potentially overfitting the model.\n",
    "\n",
    "Additionally, `year_built`, `yr_sold`, `year_remod_add`, and `mo_sold` features were also included for feature engineering.\n",
    "\n"
   ]
  },
  {
   "cell_type": "markdown",
   "metadata": {},
   "source": [
    "---\n",
    "# <center> Model Development </center>\n",
    "---"
   ]
  },
  {
   "cell_type": "code",
   "execution_count": 6,
   "metadata": {},
   "outputs": [],
   "source": [
    "y = house_df[\"sale_price\"]\n",
    "\n",
    "num_cols = [\"gr_liv_area\", \"garage_area\", \"total_bsmt_sf\", \"1st_flr_sf\", \"year_built\", \n",
    "            \"yr_sold\", \"year_remod_add\", \"mo_sold\"]\n",
    "cat_cols = [\"neighborhood\"]\n",
    "\n",
    "num_X = num_cleaned_house_df[num_cols]\n",
    "cat_X = cleaned_house_df[cat_cols]\n",
    "\n",
    "\n",
    "##### Feature engineering\n",
    "num_X[\"house_age\"] = num_X[\"yr_sold\"] - num_X[\"year_built\"]\n",
    "num_X.loc[num_X[\"house_age\"]==0, \"house_age\"] = num_X.loc[num_X[\"house_age\"]==0, \"mo_sold\"]/12\n",
    "num_X[\"scaled_remod\"] = (num_X[\"year_remod_add\"] - num_X[\"year_built\"])/num_X[\"house_age\"]\n",
    "\n",
    "\n",
    "##### Drop unnecessary columns\n",
    "num_X = num_X.drop(columns=[\"year_built\", \"yr_sold\", \"mo_sold\"])\n",
    "\n",
    "X = num_X\n",
    "\n",
    "##### create standard scaler\n",
    "std_scaler = StandardScaler()\n",
    "std_scaler.fit(num_X)\n",
    "\n",
    "##### create one-hot encoder\n",
    "ohe_encoder = OneHotEncoder(sparse_output=False)\n",
    "ohe_encoder.fit(cat_X)\n",
    "\n",
    "\n",
    "X_train, X_test, y_train, y_test = train_test_split(X, y, test_size=0.4, random_state=43)\n",
    "\n",
    "\n",
    "##### transform values using standard scaler\n",
    "scaled_num_X_train = std_scaler.transform(X_train.select_dtypes(include=np.number))\n",
    "scaled_num_X_test = std_scaler.transform(X_test.select_dtypes(include=np.number))\n",
    "\n",
    "\n",
    "##### recreate dataframe after scaling and encoding\n",
    "scaled_X_train_df = pd.DataFrame(data=scaled_num_X_train, columns=std_scaler.feature_names_in_)\n",
    "scaled_X_test_df = pd.DataFrame(data=scaled_num_X_test, columns=std_scaler.feature_names_in_)\n",
    "\n",
    "X_train = scaled_X_train_df\n",
    "X_test = scaled_X_test_df\n",
    "\n",
    "\n"
   ]
  },
  {
   "cell_type": "markdown",
   "metadata": {},
   "source": [
    "New features were generated using feature engineering. The new features include `house_age` and `scaled_remod`. `house_age` is the age of the house in years since it was built. This value was computed as `yr_sold` - `year_built`. If the house was sold in the same year it was built, then the month the house was sold will be divided by 12 to convert the house age to year. `scaled_remod` is the time when the house was remodeled scaled to its age. This value was computed as (`year_remod_add` - `year_built`)/`house_age`.\n",
    "\n",
    "After some experimentation, `garage_cars` feature were dropped since it did not improve the model accuracy. The categorical data were also found to not significantly improve the model accuracy."
   ]
  },
  {
   "cell_type": "code",
   "execution_count": 7,
   "metadata": {},
   "outputs": [
    {
     "data": {
      "application/vnd.plotly.v1+json": {
       "config": {
        "plotlyServerURL": "https://plot.ly"
       },
       "data": [
        {
         "hovertemplate": "x=%{x}<br>y=%{y}<extra></extra>",
         "legendgroup": "",
         "marker": {
          "color": "#636efa",
          "symbol": "circle"
         },
         "mode": "markers",
         "name": "",
         "orientation": "v",
         "showlegend": false,
         "type": "scatter",
         "x": [
          189950,
          180000,
          136500,
          160000,
          135000,
          240000,
          100000,
          169900,
          119500,
          240000,
          148000,
          305900,
          140000,
          110000,
          179200,
          99500,
          125000,
          61000,
          143000,
          140000,
          402000,
          93000,
          235000,
          248328,
          200624,
          380000,
          119000,
          132000,
          136500,
          112000,
          137500,
          81000,
          123000,
          157500,
          109500,
          179665,
          501837,
          190000,
          230000,
          149000,
          276000,
          170000,
          60000,
          132000,
          193879,
          104900,
          152000,
          194201,
          171000,
          200000,
          110000,
          152000,
          173000,
          485000,
          120000,
          135500,
          133900,
          245500,
          226000,
          181900,
          112000,
          108500,
          167500,
          410000,
          177500,
          199900,
          150900,
          310000,
          55993,
          369900,
          231500,
          156000,
          134800,
          140000,
          119900,
          196000,
          172000,
          244000,
          161750,
          132000,
          130500,
          180500,
          302000,
          202500,
          228000,
          140000,
          125000,
          174900,
          278000,
          165500,
          131500,
          212000,
          215000,
          466500,
          136000,
          130000,
          168000,
          225000,
          345000,
          138000,
          160000,
          52000,
          82500,
          165000,
          178400,
          177000,
          208900,
          119000,
          311872,
          164500,
          229456,
          240000,
          181000,
          242000,
          135000,
          131500,
          146000,
          210000,
          145000,
          179000,
          180000,
          161500,
          157000,
          155000,
          239000,
          126000,
          168000,
          226000,
          157900,
          118000,
          185000,
          383970,
          175000,
          187500,
          187500,
          290000,
          173733,
          315000,
          176000,
          313000,
          129900,
          194000,
          108000,
          234000,
          113000,
          286000,
          244600,
          315000,
          103000,
          68500,
          252000,
          128000,
          87000,
          122500,
          107900,
          236000,
          160000,
          106250,
          212000,
          124500,
          101800,
          175000,
          129500,
          131400,
          128000,
          187000,
          215000,
          100000,
          372500,
          318000,
          394432,
          137000,
          259500,
          142500,
          277500,
          76000,
          253293,
          170000,
          185000,
          227680,
          290000,
          173500,
          140000,
          124000,
          184000,
          145000,
          165000,
          96500,
          246578,
          156000,
          187750,
          465000,
          138500,
          230000,
          93500,
          114500,
          315000,
          232000,
          128950,
          175000,
          129000,
          115000,
          151000,
          174000,
          266000,
          180000,
          190000,
          91500,
          221500,
          424870,
          97500,
          115000,
          120500,
          287000,
          113000,
          158000,
          125000,
          110000,
          173000,
          340000,
          214000,
          115000,
          185850,
          274000,
          126175,
          112000,
          233230,
          204900,
          205000,
          113000,
          216000,
          215000,
          167500,
          207000,
          86000,
          90000,
          80000,
          97000,
          335000,
          375000,
          187500,
          250000,
          108000,
          184750,
          217500,
          206000,
          149900,
          230000,
          275000,
          181000,
          162000,
          175500,
          140000,
          240000,
          266000,
          187100,
          34900,
          126000,
          110000,
          145000,
          150000,
          163500,
          147000,
          336000,
          237500,
          188000,
          222000,
          87500,
          266500,
          75500,
          117000,
          160000,
          127000,
          306000,
          107500,
          132000,
          172400,
          67000,
          235000,
          153575,
          149500,
          239000,
          234000,
          88000,
          270000,
          197900,
          91000,
          196500,
          119200,
          115000,
          129500,
          272000,
          87000,
          348000,
          129500,
          139000,
          143000,
          324000,
          130000,
          625000,
          215200,
          154000,
          385000,
          158500,
          135500,
          392500,
          287000,
          88000,
          210000,
          134500,
          176432,
          193000,
          315750,
          204000,
          215000,
          176000,
          128500,
          262500,
          159434,
          244400,
          196500,
          185000,
          120500,
          84900,
          58500,
          171750,
          181000,
          132500,
          187500,
          205000,
          250000,
          190000,
          109000,
          129900,
          162900,
          191000,
          184900,
          97000,
          263435,
          167000,
          260000,
          173000,
          89500,
          197500,
          213500,
          85000,
          159500,
          151000,
          215000,
          92000,
          118000,
          159000,
          167000,
          275000,
          155000,
          154000,
          86000,
          135000,
          145000,
          204750,
          212900,
          140000,
          200000,
          72500,
          126000,
          79000,
          105500,
          272000,
          73000,
          106500,
          141000,
          135000,
          224900,
          165150,
          360000,
          125000,
          201000,
          103600,
          179900,
          184000,
          167000,
          124000,
          128000,
          260000,
          35311,
          415298,
          179900,
          173900,
          403000,
          135000,
          175500,
          37900,
          202900,
          123000,
          135000,
          143500,
          136000,
          193500,
          109008,
          200000,
          135000,
          125500,
          143000,
          268000,
          100000,
          142000,
          147000,
          67000,
          162000,
          227000,
          235000,
          209500,
          92900,
          140000,
          85000,
          109500,
          178000,
          294000,
          136905,
          185000,
          134000,
          194700,
          281213,
          185000,
          201000,
          170000,
          106000,
          255500,
          181000,
          437154,
          178000,
          139950,
          105000,
          446261,
          207000,
          95000,
          100000,
          134000,
          127500,
          100000,
          140000,
          139000,
          125500,
          200000,
          185000,
          175000,
          146500,
          194000,
          121000,
          174500,
          165000,
          278000,
          159000,
          245000,
          212000,
          268000,
          148000,
          141000,
          163990,
          188000,
          55000,
          183000,
          173000,
          184000,
          55000,
          130000,
          137450,
          144000,
          335000,
          250580,
          224900,
          115000,
          260400,
          205000,
          143000,
          169000,
          164700,
          231500,
          143500,
          129000,
          173000,
          213000,
          195000,
          110000,
          129000,
          100000,
          89000,
          158000,
          128200,
          124000,
          250000,
          128000,
          290000,
          153337,
          110000,
          206900,
          154500,
          130000,
          253000,
          139000,
          66500,
          335000,
          136000,
          119500,
          98000,
          145000,
          220000,
          179500,
          125500,
          105000,
          156932,
          176000,
          157900,
          255900,
          267000,
          144152,
          190000,
          135000,
          139000,
          176000,
          333168,
          237000,
          158900,
          277000,
          84500,
          149000,
          260000,
          134432,
          213000,
          133000,
          208500,
          241000,
          168000,
          180000,
          159000,
          144000,
          144000,
          114504,
          249700,
          262280,
          145000,
          131000,
          191000,
          178900,
          79900,
          132250,
          110000,
          105000,
          263000,
          39300,
          293077,
          136500,
          239799,
          244000,
          232600,
          239000,
          119000,
          103200,
          93000,
          213250,
          144000,
          236500,
          85500,
          229000,
          121500,
          155000,
          228950,
          117000,
          402861,
          170000,
          261500,
          328000,
          325000,
          283463,
          176000,
          172500,
          157500,
          193000,
          325300,
          147000,
          144000,
          163000,
          164000,
          79900
         ],
         "xaxis": "x",
         "y": [
          129860.1188557227,
          172991.72964315207,
          164417.17630982256,
          164030.54106573225,
          211054.00360681818,
          300587.4376306134,
          73075.4847097267,
          167501.41676455544,
          126770.02508900434,
          239030.1768503107,
          149348.696970327,
          307269.56739856896,
          102275.25727833061,
          133155.44770225155,
          216428.53053103882,
          114869.86488678177,
          111159.51531712149,
          48878.89382565196,
          140429.7307803726,
          142161.1222334894,
          316786.5913905201,
          114957.41903405212,
          246456.68778883747,
          272059.8238349771,
          277271.4611938202,
          335560.2080275938,
          93364.90440377353,
          122274.85958985164,
          143923.68694939886,
          107581.53248386287,
          125747.61225253501,
          150037.14401280228,
          130288.48193608318,
          153629.1950080157,
          88351.71921371465,
          186791.31698521698,
          372677.49815186433,
          274193.6860539207,
          261094.08341316355,
          143915.0761765485,
          321506.3164313538,
          167305.41884984134,
          36645.58299588016,
          126071.81456140512,
          210055.25251632987,
          162462.37936033824,
          166455.02892777362,
          246009.17262980287,
          169964.90031534765,
          288690.83547157503,
          100735.2656454695,
          153094.09276255046,
          185665.7953260553,
          402961.1012639125,
          129890.11687886443,
          121637.78832070489,
          132099.51740067994,
          186817.25732485118,
          218206.51973034622,
          186875.6361823565,
          120280.53100101667,
          83348.21657017258,
          146775.294504082,
          361541.46120162285,
          188294.53182843106,
          220797.14427395328,
          221125.71752562418,
          262235.8539377181,
          105111.290926325,
          326702.21898137627,
          221861.58391680283,
          129593.20474541947,
          140102.47108806315,
          164769.10962796188,
          108395.83038638196,
          207978.39959348948,
          197538.2144313436,
          227464.26026011354,
          141480.6299051157,
          124134.44586862618,
          128959.6643771987,
          153852.37514959287,
          313572.5162594289,
          217409.71080994263,
          247777.96693109375,
          119913.51420508658,
          144382.7961034465,
          144671.13418715438,
          303703.9824494093,
          158138.26480040685,
          131106.73558230832,
          200796.6214111702,
          215425.04455057194,
          359160.4659587424,
          115089.86170843699,
          237730.78851169936,
          185382.87799272974,
          231556.29489194724,
          310790.55095774936,
          154722.98159235372,
          106427.2787924232,
          60889.07022779103,
          35930.30257638023,
          162781.87865239376,
          164740.21956702508,
          187317.24845506143,
          232031.30160490278,
          101315.22480695575,
          263830.10135764343,
          173929.69364601755,
          204476.45668291784,
          248590.82066073443,
          188611.8662597958,
          302568.3568576815,
          84602.271614036,
          143775.28800228116,
          196970.44461126777,
          144934.55231775198,
          104714.28920063117,
          205672.61886334626,
          187162.33261889027,
          188179.48516061174,
          149903.60874937492,
          141100.0275751893,
          264561.2100240485,
          166906.17498959915,
          250856.33758972702,
          241531.78612506852,
          130154.877150964,
          132693.3009953839,
          199242.0200028475,
          317762.8362764929,
          196883.32686286533,
          168106.42217832728,
          179938.1352035786,
          236919.92447328553,
          173929.69364601755,
          304341.3277158537,
          179087.50058041938,
          273662.43970698095,
          150359.12030355577,
          190484.15244970497,
          112528.03527314548,
          199689.79294368444,
          114736.25501006008,
          241207.44763291662,
          274844.32554727,
          302632.7045666432,
          112637.65940799215,
          35959.22509011949,
          281562.8258694306,
          143626.352502836,
          49959.27359948176,
          166041.64876686607,
          124044.6010773569,
          229302.04314481877,
          177823.59160471428,
          64285.545408395046,
          222836.55494264566,
          109915.20872319091,
          112404.55970582884,
          210281.0952697334,
          118640.75522900652,
          130894.63227815958,
          107163.51140868933,
          203483.25399042232,
          231372.75979820653,
          124080.82131289039,
          300333.6671353472,
          262570.53715672897,
          281318.61828638107,
          170104.20746650567,
          219301.6039439193,
          181372.3444147538,
          229193.11034146667,
          71435.93622962883,
          369097.833099943,
          155061.16455405956,
          213005.69171266546,
          216515.86989430655,
          287559.7554858101,
          193377.3143224417,
          158455.985134848,
          94249.2743271266,
          191271.41785891197,
          179374.91453067094,
          147376.5915271849,
          60798.68240026233,
          226388.82358750096,
          137829.72298358014,
          204358.05118656743,
          304495.9945860361,
          123269.85034853683,
          223835.7451267413,
          83580.4902242111,
          97561.57760566333,
          247706.6083369957,
          231847.87910330546,
          101366.77826376457,
          184143.87559358016,
          99978.4042053315,
          83053.18214477386,
          167108.5197271063,
          183482.44631710034,
          276951.5869109519,
          219118.07078761188,
          221296.58448729853,
          126623.2727996218,
          287231.03597308544,
          381665.99764244526,
          129454.00457421888,
          138146.6571150386,
          129521.61388194989,
          286708.1851914155,
          117124.9597613771,
          130218.88433526328,
          107969.89789650221,
          114448.49002876756,
          207333.35518555657,
          306825.54148409166,
          242602.16871972493,
          122214.10075496013,
          204491.77157608443,
          230388.89619746586,
          153818.9236527492,
          91831.23581265775,
          249089.2263092061,
          232550.142583978,
          250501.55608736863,
          124764.24691973248,
          213039.15571524168,
          231314.9045002765,
          184564.27648538302,
          201308.68738106004,
          48962.85620921446,
          179911.44637141467,
          78850.4419302574,
          124536.52967915667,
          278248.36045078747,
          238731.27460418548,
          233816.17295769128,
          252901.1188814019,
          123279.01761119853,
          561836.5759717383,
          210878.19565166833,
          195896.76585877204,
          174617.72278702012,
          235791.27020828213,
          230392.81576108167,
          199755.4080432677,
          152922.13278292544,
          163843.73300131696,
          156390.40369915866,
          247750.6965632962,
          241702.9466123829,
          217052.96610641846,
          34870.927540014585,
          141430.3958563576,
          100690.02976128041,
          143025.84352424,
          150872.2044366064,
          200920.84808811694,
          145168.00594218684,
          295879.557135199,
          226761.51582340582,
          220137.05831538144,
          229738.12313664562,
          83295.77894833688,
          223718.95148662053,
          59740.20586822914,
          126070.09590566505,
          152330.60690293642,
          138919.82780581168,
          268809.5140459343,
          181191.05121400193,
          117094.6269509948,
          205793.0828872258,
          47131.33291451898,
          220474.27600186982,
          132559.47190073447,
          168934.32982565576,
          252729.54373524705,
          222994.8995354069,
          108800.08058637443,
          275891.19319844194,
          209528.20548491552,
          59283.067410441334,
          198172.24160309578,
          104534.7989491631,
          104967.92753726385,
          124350.35411028106,
          312350.54206163576,
          167123.68872781371,
          301512.388315902,
          151281.9517862499,
          136826.5460124106,
          160160.2760854405,
          227542.8186860016,
          102112.69459833555,
          399047.3927211547,
          207239.67999771703,
          158159.59323808097,
          268261.67025848804,
          148129.21240538266,
          126842.31793076452,
          233229.88661845803,
          309668.4421453637,
          106695.95340538611,
          214964.10267144433,
          110855.71400574448,
          196340.61702651024,
          222963.5388748213,
          296447.8266913229,
          216850.2146486663,
          234404.65106134815,
          180678.10643118672,
          116666.50412522073,
          269007.82551558974,
          146947.2197890211,
          199305.8685001127,
          217903.38683381118,
          186461.05885378658,
          119243.74436883522,
          98065.27973501399,
          59403.302210212976,
          206424.97538037846,
          202727.23112746901,
          132954.9191932017,
          194121.572709832,
          179610.5182214611,
          277057.09570985613,
          215457.1019066225,
          139147.47637719024,
          157496.47140806998,
          161070.75103535844,
          204674.57407977642,
          187511.66286301453,
          69223.06278724445,
          232793.55056344054,
          203665.6926753645,
          263924.7562188556,
          203400.14833060125,
          99495.2143163354,
          192542.70481744985,
          201701.03168274637,
          37603.005521948624,
          219955.13368065527,
          134956.2893439136,
          201046.54981146244,
          61074.79528848623,
          129233.95826161993,
          156393.99533541244,
          164490.49243944767,
          218400.9134890821,
          177305.5871621506,
          157132.68802087518,
          107754.58181305575,
          110277.5513876363,
          211882.11565988362,
          222741.15778535022,
          274941.87642842886,
          159564.86456634803,
          214725.39059532108,
          49526.88002524979,
          94478.39738714545,
          96713.82290807068,
          102539.52988507545,
          238066.34192606265,
          103351.63797890623,
          71882.09963738722,
          145891.38167765213,
          116081.2899707641,
          233138.9958035775,
          183944.73561786913,
          287259.8621667546,
          203873.09771178878,
          225974.95976498578,
          103407.32506852434,
          201061.22683057637,
          222695.04039100974,
          178159.92064925618,
          140890.70380248144,
          114840.47084502739,
          194124.42319088485,
          48051.98127545224,
          330541.5642096639,
          183009.63812028445,
          229502.10493782564,
          322490.677999583,
          142243.56780042307,
          192662.728334142,
          42408.3618906386,
          220268.5285944175,
          119806.14522694127,
          112138.0722146702,
          154474.52384185742,
          181724.98960070204,
          232974.40957489563,
          100726.87651263142,
          222697.25551374734,
          141251.5881215794,
          108015.72415922485,
          201985.27426218314,
          275208.41771258117,
          103313.8008348344,
          150817.20090825186,
          157597.9380230534,
          94327.40745583308,
          169601.91554992145,
          225135.0039516161,
          249797.04868119158,
          234428.1740375299,
          81159.24157102346,
          148634.43631052558,
          118292.48670880731,
          100199.16496438827,
          179768.15869333045,
          259672.30487804193,
          212093.80400987525,
          198707.50799648362,
          156316.89005114933,
          216809.87422588395,
          300334.72267594014,
          144686.96594380963,
          203333.04516157415,
          208152.5696788522,
          158268.73870723983,
          269331.29632028355,
          212207.80282961982,
          362568.9599074201,
          165293.8030621174,
          136429.55732808012,
          108989.60176271346,
          329907.8664562144,
          172765.19325176495,
          84978.73432776314,
          55376.926299166225,
          153522.68407979293,
          93683.36683041278,
          113414.22877774689,
          175462.95043179323,
          125857.93533260902,
          112544.57189316793,
          241162.48959726986,
          186267.67711535847,
          155645.30742543956,
          163240.85089443106,
          199898.39378226348,
          70102.82129583924,
          122211.60136408929,
          178741.15568339915,
          224526.44488623526,
          188332.57521037068,
          244752.0587304227,
          199345.75371066135,
          268653.33895197284,
          152460.9889915089,
          120751.93941141097,
          213375.98246488208,
          211982.44470160114,
          43956.85474474836,
          209758.6331486999,
          195241.58686081567,
          144037.1654447061,
          44829.10995277332,
          134633.75205152069,
          144905.88090350822,
          147263.44068871252,
          279402.33363255556,
          238693.54745049388,
          217976.19815953117,
          136851.90164872038,
          232686.34046539734,
          245799.53633378094,
          205372.84588024524,
          195205.77542298625,
          205289.96259461265,
          207495.88599584223,
          162065.03113855195,
          117522.38621762133,
          174434.91817443934,
          196376.58395747226,
          212415.48473460728,
          101106.91275690007,
          150867.77808354524,
          125726.79526293669,
          41915.91358729632,
          212312.84823130348,
          112648.2769012773,
          108735.08522184893,
          259374.49587363657,
          101991.94720916625,
          295408.3162245787,
          162155.32582593424,
          75137.72738698601,
          215360.78328385425,
          151535.16240106497,
          146944.86851614824,
          251273.76359950798,
          126522.2017246813,
          87501.1966958832,
          250461.07848937094,
          153457.72866126566,
          108987.20294983874,
          102998.6338262404,
          237506.91630138486,
          169316.43703946128,
          195301.0700973629,
          105231.9407158621,
          87662.13139412753,
          209684.78444620434,
          182553.03198626172,
          154345.17646474746,
          278773.50836731575,
          281399.55071463017,
          167108.5197271063,
          228893.1877325608,
          135740.0897144762,
          140234.25349727634,
          191888.83893370448,
          304945.31551289855,
          227497.98943607582,
          151401.07429586293,
          246206.23757755992,
          59378.32585497627,
          129191.43274040276,
          255280.21788591775,
          149436.31880847222,
          226031.33162449131,
          112512.10000522947,
          213302.3205026955,
          214155.73594645277,
          187936.58581062118,
          164884.1701966537,
          182508.99781483153,
          133262.03144909348,
          166775.65513486485,
          110889.1829956514,
          259056.0637746606,
          263033.753263784,
          112939.31828849837,
          134691.98725132312,
          219684.82687350738,
          216710.96990425355,
          99413.12601151668,
          142583.38730381688,
          101562.88110618998,
          98100.43988033854,
          251358.07419180725,
          -46.534937926218845,
          286012.5266519004,
          122083.88501675829,
          275245.68086512515,
          264701.05541871133,
          238615.02773530906,
          193308.64714959028,
          96430.68579286899,
          73137.50702072168,
          121129.4294481579,
          237195.93715323688,
          198562.40555358215,
          243938.13306022133,
          46707.73152195415,
          263260.79252693756,
          189185.50974883343,
          187656.95126758257,
          203059.64679119762,
          132924.77071123885,
          302245.9401596217,
          164858.40564239625,
          235433.23847908425,
          260001.19408714198,
          268080.7077072442,
          292121.3954272781,
          167940.81963879702,
          212884.61468111727,
          172268.8844771144,
          194930.87899855655,
          325345.7640314915,
          149904.83826981435,
          122966.32446233777,
          145391.58500936313,
          136477.9169695975,
          78509.39549914678
         ],
         "yaxis": "y"
        }
       ],
       "layout": {
        "legend": {
         "tracegroupgap": 0
        },
        "margin": {
         "t": 60
        },
        "template": {
         "data": {
          "bar": [
           {
            "error_x": {
             "color": "#2a3f5f"
            },
            "error_y": {
             "color": "#2a3f5f"
            },
            "marker": {
             "line": {
              "color": "#E5ECF6",
              "width": 0.5
             },
             "pattern": {
              "fillmode": "overlay",
              "size": 10,
              "solidity": 0.2
             }
            },
            "type": "bar"
           }
          ],
          "barpolar": [
           {
            "marker": {
             "line": {
              "color": "#E5ECF6",
              "width": 0.5
             },
             "pattern": {
              "fillmode": "overlay",
              "size": 10,
              "solidity": 0.2
             }
            },
            "type": "barpolar"
           }
          ],
          "carpet": [
           {
            "aaxis": {
             "endlinecolor": "#2a3f5f",
             "gridcolor": "white",
             "linecolor": "white",
             "minorgridcolor": "white",
             "startlinecolor": "#2a3f5f"
            },
            "baxis": {
             "endlinecolor": "#2a3f5f",
             "gridcolor": "white",
             "linecolor": "white",
             "minorgridcolor": "white",
             "startlinecolor": "#2a3f5f"
            },
            "type": "carpet"
           }
          ],
          "choropleth": [
           {
            "colorbar": {
             "outlinewidth": 0,
             "ticks": ""
            },
            "type": "choropleth"
           }
          ],
          "contour": [
           {
            "colorbar": {
             "outlinewidth": 0,
             "ticks": ""
            },
            "colorscale": [
             [
              0,
              "#0d0887"
             ],
             [
              0.1111111111111111,
              "#46039f"
             ],
             [
              0.2222222222222222,
              "#7201a8"
             ],
             [
              0.3333333333333333,
              "#9c179e"
             ],
             [
              0.4444444444444444,
              "#bd3786"
             ],
             [
              0.5555555555555556,
              "#d8576b"
             ],
             [
              0.6666666666666666,
              "#ed7953"
             ],
             [
              0.7777777777777778,
              "#fb9f3a"
             ],
             [
              0.8888888888888888,
              "#fdca26"
             ],
             [
              1,
              "#f0f921"
             ]
            ],
            "type": "contour"
           }
          ],
          "contourcarpet": [
           {
            "colorbar": {
             "outlinewidth": 0,
             "ticks": ""
            },
            "type": "contourcarpet"
           }
          ],
          "heatmap": [
           {
            "colorbar": {
             "outlinewidth": 0,
             "ticks": ""
            },
            "colorscale": [
             [
              0,
              "#0d0887"
             ],
             [
              0.1111111111111111,
              "#46039f"
             ],
             [
              0.2222222222222222,
              "#7201a8"
             ],
             [
              0.3333333333333333,
              "#9c179e"
             ],
             [
              0.4444444444444444,
              "#bd3786"
             ],
             [
              0.5555555555555556,
              "#d8576b"
             ],
             [
              0.6666666666666666,
              "#ed7953"
             ],
             [
              0.7777777777777778,
              "#fb9f3a"
             ],
             [
              0.8888888888888888,
              "#fdca26"
             ],
             [
              1,
              "#f0f921"
             ]
            ],
            "type": "heatmap"
           }
          ],
          "heatmapgl": [
           {
            "colorbar": {
             "outlinewidth": 0,
             "ticks": ""
            },
            "colorscale": [
             [
              0,
              "#0d0887"
             ],
             [
              0.1111111111111111,
              "#46039f"
             ],
             [
              0.2222222222222222,
              "#7201a8"
             ],
             [
              0.3333333333333333,
              "#9c179e"
             ],
             [
              0.4444444444444444,
              "#bd3786"
             ],
             [
              0.5555555555555556,
              "#d8576b"
             ],
             [
              0.6666666666666666,
              "#ed7953"
             ],
             [
              0.7777777777777778,
              "#fb9f3a"
             ],
             [
              0.8888888888888888,
              "#fdca26"
             ],
             [
              1,
              "#f0f921"
             ]
            ],
            "type": "heatmapgl"
           }
          ],
          "histogram": [
           {
            "marker": {
             "pattern": {
              "fillmode": "overlay",
              "size": 10,
              "solidity": 0.2
             }
            },
            "type": "histogram"
           }
          ],
          "histogram2d": [
           {
            "colorbar": {
             "outlinewidth": 0,
             "ticks": ""
            },
            "colorscale": [
             [
              0,
              "#0d0887"
             ],
             [
              0.1111111111111111,
              "#46039f"
             ],
             [
              0.2222222222222222,
              "#7201a8"
             ],
             [
              0.3333333333333333,
              "#9c179e"
             ],
             [
              0.4444444444444444,
              "#bd3786"
             ],
             [
              0.5555555555555556,
              "#d8576b"
             ],
             [
              0.6666666666666666,
              "#ed7953"
             ],
             [
              0.7777777777777778,
              "#fb9f3a"
             ],
             [
              0.8888888888888888,
              "#fdca26"
             ],
             [
              1,
              "#f0f921"
             ]
            ],
            "type": "histogram2d"
           }
          ],
          "histogram2dcontour": [
           {
            "colorbar": {
             "outlinewidth": 0,
             "ticks": ""
            },
            "colorscale": [
             [
              0,
              "#0d0887"
             ],
             [
              0.1111111111111111,
              "#46039f"
             ],
             [
              0.2222222222222222,
              "#7201a8"
             ],
             [
              0.3333333333333333,
              "#9c179e"
             ],
             [
              0.4444444444444444,
              "#bd3786"
             ],
             [
              0.5555555555555556,
              "#d8576b"
             ],
             [
              0.6666666666666666,
              "#ed7953"
             ],
             [
              0.7777777777777778,
              "#fb9f3a"
             ],
             [
              0.8888888888888888,
              "#fdca26"
             ],
             [
              1,
              "#f0f921"
             ]
            ],
            "type": "histogram2dcontour"
           }
          ],
          "mesh3d": [
           {
            "colorbar": {
             "outlinewidth": 0,
             "ticks": ""
            },
            "type": "mesh3d"
           }
          ],
          "parcoords": [
           {
            "line": {
             "colorbar": {
              "outlinewidth": 0,
              "ticks": ""
             }
            },
            "type": "parcoords"
           }
          ],
          "pie": [
           {
            "automargin": true,
            "type": "pie"
           }
          ],
          "scatter": [
           {
            "fillpattern": {
             "fillmode": "overlay",
             "size": 10,
             "solidity": 0.2
            },
            "type": "scatter"
           }
          ],
          "scatter3d": [
           {
            "line": {
             "colorbar": {
              "outlinewidth": 0,
              "ticks": ""
             }
            },
            "marker": {
             "colorbar": {
              "outlinewidth": 0,
              "ticks": ""
             }
            },
            "type": "scatter3d"
           }
          ],
          "scattercarpet": [
           {
            "marker": {
             "colorbar": {
              "outlinewidth": 0,
              "ticks": ""
             }
            },
            "type": "scattercarpet"
           }
          ],
          "scattergeo": [
           {
            "marker": {
             "colorbar": {
              "outlinewidth": 0,
              "ticks": ""
             }
            },
            "type": "scattergeo"
           }
          ],
          "scattergl": [
           {
            "marker": {
             "colorbar": {
              "outlinewidth": 0,
              "ticks": ""
             }
            },
            "type": "scattergl"
           }
          ],
          "scattermapbox": [
           {
            "marker": {
             "colorbar": {
              "outlinewidth": 0,
              "ticks": ""
             }
            },
            "type": "scattermapbox"
           }
          ],
          "scatterpolar": [
           {
            "marker": {
             "colorbar": {
              "outlinewidth": 0,
              "ticks": ""
             }
            },
            "type": "scatterpolar"
           }
          ],
          "scatterpolargl": [
           {
            "marker": {
             "colorbar": {
              "outlinewidth": 0,
              "ticks": ""
             }
            },
            "type": "scatterpolargl"
           }
          ],
          "scatterternary": [
           {
            "marker": {
             "colorbar": {
              "outlinewidth": 0,
              "ticks": ""
             }
            },
            "type": "scatterternary"
           }
          ],
          "surface": [
           {
            "colorbar": {
             "outlinewidth": 0,
             "ticks": ""
            },
            "colorscale": [
             [
              0,
              "#0d0887"
             ],
             [
              0.1111111111111111,
              "#46039f"
             ],
             [
              0.2222222222222222,
              "#7201a8"
             ],
             [
              0.3333333333333333,
              "#9c179e"
             ],
             [
              0.4444444444444444,
              "#bd3786"
             ],
             [
              0.5555555555555556,
              "#d8576b"
             ],
             [
              0.6666666666666666,
              "#ed7953"
             ],
             [
              0.7777777777777778,
              "#fb9f3a"
             ],
             [
              0.8888888888888888,
              "#fdca26"
             ],
             [
              1,
              "#f0f921"
             ]
            ],
            "type": "surface"
           }
          ],
          "table": [
           {
            "cells": {
             "fill": {
              "color": "#EBF0F8"
             },
             "line": {
              "color": "white"
             }
            },
            "header": {
             "fill": {
              "color": "#C8D4E3"
             },
             "line": {
              "color": "white"
             }
            },
            "type": "table"
           }
          ]
         },
         "layout": {
          "annotationdefaults": {
           "arrowcolor": "#2a3f5f",
           "arrowhead": 0,
           "arrowwidth": 1
          },
          "autotypenumbers": "strict",
          "coloraxis": {
           "colorbar": {
            "outlinewidth": 0,
            "ticks": ""
           }
          },
          "colorscale": {
           "diverging": [
            [
             0,
             "#8e0152"
            ],
            [
             0.1,
             "#c51b7d"
            ],
            [
             0.2,
             "#de77ae"
            ],
            [
             0.3,
             "#f1b6da"
            ],
            [
             0.4,
             "#fde0ef"
            ],
            [
             0.5,
             "#f7f7f7"
            ],
            [
             0.6,
             "#e6f5d0"
            ],
            [
             0.7,
             "#b8e186"
            ],
            [
             0.8,
             "#7fbc41"
            ],
            [
             0.9,
             "#4d9221"
            ],
            [
             1,
             "#276419"
            ]
           ],
           "sequential": [
            [
             0,
             "#0d0887"
            ],
            [
             0.1111111111111111,
             "#46039f"
            ],
            [
             0.2222222222222222,
             "#7201a8"
            ],
            [
             0.3333333333333333,
             "#9c179e"
            ],
            [
             0.4444444444444444,
             "#bd3786"
            ],
            [
             0.5555555555555556,
             "#d8576b"
            ],
            [
             0.6666666666666666,
             "#ed7953"
            ],
            [
             0.7777777777777778,
             "#fb9f3a"
            ],
            [
             0.8888888888888888,
             "#fdca26"
            ],
            [
             1,
             "#f0f921"
            ]
           ],
           "sequentialminus": [
            [
             0,
             "#0d0887"
            ],
            [
             0.1111111111111111,
             "#46039f"
            ],
            [
             0.2222222222222222,
             "#7201a8"
            ],
            [
             0.3333333333333333,
             "#9c179e"
            ],
            [
             0.4444444444444444,
             "#bd3786"
            ],
            [
             0.5555555555555556,
             "#d8576b"
            ],
            [
             0.6666666666666666,
             "#ed7953"
            ],
            [
             0.7777777777777778,
             "#fb9f3a"
            ],
            [
             0.8888888888888888,
             "#fdca26"
            ],
            [
             1,
             "#f0f921"
            ]
           ]
          },
          "colorway": [
           "#636efa",
           "#EF553B",
           "#00cc96",
           "#ab63fa",
           "#FFA15A",
           "#19d3f3",
           "#FF6692",
           "#B6E880",
           "#FF97FF",
           "#FECB52"
          ],
          "font": {
           "color": "#2a3f5f"
          },
          "geo": {
           "bgcolor": "white",
           "lakecolor": "white",
           "landcolor": "#E5ECF6",
           "showlakes": true,
           "showland": true,
           "subunitcolor": "white"
          },
          "hoverlabel": {
           "align": "left"
          },
          "hovermode": "closest",
          "mapbox": {
           "style": "light"
          },
          "paper_bgcolor": "white",
          "plot_bgcolor": "#E5ECF6",
          "polar": {
           "angularaxis": {
            "gridcolor": "white",
            "linecolor": "white",
            "ticks": ""
           },
           "bgcolor": "#E5ECF6",
           "radialaxis": {
            "gridcolor": "white",
            "linecolor": "white",
            "ticks": ""
           }
          },
          "scene": {
           "xaxis": {
            "backgroundcolor": "#E5ECF6",
            "gridcolor": "white",
            "gridwidth": 2,
            "linecolor": "white",
            "showbackground": true,
            "ticks": "",
            "zerolinecolor": "white"
           },
           "yaxis": {
            "backgroundcolor": "#E5ECF6",
            "gridcolor": "white",
            "gridwidth": 2,
            "linecolor": "white",
            "showbackground": true,
            "ticks": "",
            "zerolinecolor": "white"
           },
           "zaxis": {
            "backgroundcolor": "#E5ECF6",
            "gridcolor": "white",
            "gridwidth": 2,
            "linecolor": "white",
            "showbackground": true,
            "ticks": "",
            "zerolinecolor": "white"
           }
          },
          "shapedefaults": {
           "line": {
            "color": "#2a3f5f"
           }
          },
          "ternary": {
           "aaxis": {
            "gridcolor": "white",
            "linecolor": "white",
            "ticks": ""
           },
           "baxis": {
            "gridcolor": "white",
            "linecolor": "white",
            "ticks": ""
           },
           "bgcolor": "#E5ECF6",
           "caxis": {
            "gridcolor": "white",
            "linecolor": "white",
            "ticks": ""
           }
          },
          "title": {
           "x": 0.05
          },
          "xaxis": {
           "automargin": true,
           "gridcolor": "white",
           "linecolor": "white",
           "ticks": "",
           "title": {
            "standoff": 15
           },
           "zerolinecolor": "white",
           "zerolinewidth": 2
          },
          "yaxis": {
           "automargin": true,
           "gridcolor": "white",
           "linecolor": "white",
           "ticks": "",
           "title": {
            "standoff": 15
           },
           "zerolinecolor": "white",
           "zerolinewidth": 2
          }
         }
        },
        "title": {
         "text": "Predicted Sale Price vs. Actual Sale Price"
        },
        "xaxis": {
         "anchor": "y",
         "domain": [
          0,
          1
         ],
         "title": {
          "text": "Actual Sale Price"
         }
        },
        "yaxis": {
         "anchor": "x",
         "domain": [
          0,
          1
         ],
         "title": {
          "text": "Predicted Sale Price"
         }
        }
       }
      }
     },
     "metadata": {},
     "output_type": "display_data"
    },
    {
     "name": "stdout",
     "output_type": "stream",
     "text": [
      "Test set score: 0.7550668341859367\n"
     ]
    }
   ],
   "source": [
    "##### Linear Regression model\n",
    "\n",
    "lr_mod = LinearRegression()\n",
    "\n",
    "lr_mod.fit(X_train, y_train)\n",
    "\n",
    "fig_2a = px.scatter(x=y_test, y=lr_mod.predict(X_test))\n",
    "\n",
    "fig_2a.update_xaxes(title_text=\"Actual Sale Price\")\n",
    "fig_2a.update_yaxes(title_text=\"Predicted Sale Price\")\n",
    "fig_2a.update_layout(title_text=\"Predicted Sale Price vs. Actual Sale Price\")\n",
    "fig_2a.show()\n",
    "\n",
    "\n",
    "print(f\"Test set score: {lr_mod.score(X_test, y_test)}\")\n"
   ]
  },
  {
   "cell_type": "code",
   "execution_count": 277,
   "metadata": {},
   "outputs": [
    {
     "data": {
      "application/vnd.plotly.v1+json": {
       "config": {
        "plotlyServerURL": "https://plot.ly"
       },
       "data": [
        {
         "hovertemplate": "x=%{x}<br>y=%{y}<extra></extra>",
         "legendgroup": "",
         "marker": {
          "color": "#636efa",
          "symbol": "circle"
         },
         "mode": "markers",
         "name": "",
         "orientation": "v",
         "showlegend": false,
         "type": "scatter",
         "x": [
          189950,
          180000,
          136500,
          160000,
          135000,
          240000,
          100000,
          169900,
          119500,
          240000,
          148000,
          305900,
          140000,
          110000,
          179200,
          99500,
          125000,
          61000,
          143000,
          140000,
          402000,
          93000,
          235000,
          248328,
          200624,
          380000,
          119000,
          132000,
          136500,
          112000,
          137500,
          81000,
          123000,
          157500,
          109500,
          179665,
          501837,
          190000,
          230000,
          149000,
          276000,
          170000,
          60000,
          132000,
          193879,
          104900,
          152000,
          194201,
          171000,
          200000,
          110000,
          152000,
          173000,
          485000,
          120000,
          135500,
          133900,
          245500,
          226000,
          181900,
          112000,
          108500,
          167500,
          410000,
          177500,
          199900,
          150900,
          310000,
          55993,
          369900,
          231500,
          156000,
          134800,
          140000,
          119900,
          196000,
          172000,
          244000,
          161750,
          132000,
          130500,
          180500,
          302000,
          202500,
          228000,
          140000,
          125000,
          174900,
          278000,
          165500,
          131500,
          212000,
          215000,
          466500,
          136000,
          130000,
          168000,
          225000,
          345000,
          138000,
          160000,
          52000,
          82500,
          165000,
          178400,
          177000,
          208900,
          119000,
          311872,
          164500,
          229456,
          240000,
          181000,
          242000,
          135000,
          131500,
          146000,
          210000,
          145000,
          179000,
          180000,
          161500,
          157000,
          155000,
          239000,
          126000,
          168000,
          226000,
          157900,
          118000,
          185000,
          383970,
          175000,
          187500,
          187500,
          290000,
          173733,
          315000,
          176000,
          313000,
          129900,
          194000,
          108000,
          234000,
          113000,
          286000,
          244600,
          315000,
          103000,
          68500,
          252000,
          128000,
          87000,
          122500,
          107900,
          236000,
          160000,
          106250,
          212000,
          124500,
          101800,
          175000,
          129500,
          131400,
          128000,
          187000,
          215000,
          100000,
          372500,
          318000,
          394432,
          137000,
          259500,
          142500,
          277500,
          76000,
          253293,
          170000,
          185000,
          227680,
          290000,
          173500,
          140000,
          124000,
          184000,
          145000,
          165000,
          96500,
          246578,
          156000,
          187750,
          465000,
          138500,
          230000,
          93500,
          114500,
          315000,
          232000,
          128950,
          175000,
          129000,
          115000,
          151000,
          174000,
          266000,
          180000,
          190000,
          91500,
          221500,
          424870,
          97500,
          115000,
          120500,
          287000,
          113000,
          158000,
          125000,
          110000,
          173000,
          340000,
          214000,
          115000,
          185850,
          274000,
          126175,
          112000,
          233230,
          204900,
          205000,
          113000,
          216000,
          215000,
          167500,
          207000,
          86000,
          90000,
          80000,
          97000,
          335000,
          375000,
          187500,
          250000,
          108000,
          184750,
          217500,
          206000,
          149900,
          230000,
          275000,
          181000,
          162000,
          175500,
          140000,
          240000,
          266000,
          187100,
          34900,
          126000,
          110000,
          145000,
          150000,
          163500,
          147000,
          336000,
          237500,
          188000,
          222000,
          87500,
          266500,
          75500,
          117000,
          160000,
          127000,
          306000,
          107500,
          132000,
          172400,
          67000,
          235000,
          153575,
          149500,
          239000,
          234000,
          88000,
          270000,
          197900,
          91000,
          196500,
          119200,
          115000,
          129500,
          272000,
          87000,
          348000,
          129500,
          139000,
          143000,
          324000,
          130000,
          625000,
          215200,
          154000,
          385000,
          158500,
          135500,
          392500,
          287000,
          88000,
          210000,
          134500,
          176432,
          193000,
          315750,
          204000,
          215000,
          176000,
          128500,
          262500,
          159434,
          244400,
          196500,
          185000,
          120500,
          84900,
          58500,
          171750,
          181000,
          132500,
          187500,
          205000,
          250000,
          190000,
          109000,
          129900,
          162900,
          191000,
          184900,
          97000,
          263435,
          167000,
          260000,
          173000,
          89500,
          197500,
          213500,
          85000,
          159500,
          151000,
          215000,
          92000,
          118000,
          159000,
          167000,
          275000,
          155000,
          154000,
          86000,
          135000,
          145000,
          204750,
          212900,
          140000,
          200000,
          72500,
          126000,
          79000,
          105500,
          272000,
          73000,
          106500,
          141000,
          135000,
          224900,
          165150,
          360000,
          125000,
          201000,
          103600,
          179900,
          184000,
          167000,
          124000,
          128000,
          260000,
          35311,
          415298,
          179900,
          173900,
          403000,
          135000,
          175500,
          37900,
          202900,
          123000,
          135000,
          143500,
          136000,
          193500,
          109008,
          200000,
          135000,
          125500,
          143000,
          268000,
          100000,
          142000,
          147000,
          67000,
          162000,
          227000,
          235000,
          209500,
          92900,
          140000,
          85000,
          109500,
          178000,
          294000,
          136905,
          185000,
          134000,
          194700,
          281213,
          185000,
          201000,
          170000,
          106000,
          255500,
          181000,
          437154,
          178000,
          139950,
          105000,
          446261,
          207000,
          95000,
          100000,
          134000,
          127500,
          100000,
          140000,
          139000,
          125500,
          200000,
          185000,
          175000,
          146500,
          194000,
          121000,
          174500,
          165000,
          278000,
          159000,
          245000,
          212000,
          268000,
          148000,
          141000,
          163990,
          188000,
          55000,
          183000,
          173000,
          184000,
          55000,
          130000,
          137450,
          144000,
          335000,
          250580,
          224900,
          115000,
          260400,
          205000,
          143000,
          169000,
          164700,
          231500,
          143500,
          129000,
          173000,
          213000,
          195000,
          110000,
          129000,
          100000,
          89000,
          158000,
          128200,
          124000,
          250000,
          128000,
          290000,
          153337,
          110000,
          206900,
          154500,
          130000,
          253000,
          139000,
          66500,
          335000,
          136000,
          119500,
          98000,
          145000,
          220000,
          179500,
          125500,
          105000,
          156932,
          176000,
          157900,
          255900,
          267000,
          144152,
          190000,
          135000,
          139000,
          176000,
          333168,
          237000,
          158900,
          277000,
          84500,
          149000,
          260000,
          134432,
          213000,
          133000,
          208500,
          241000,
          168000,
          180000,
          159000,
          144000,
          144000,
          114504,
          249700,
          262280,
          145000,
          131000,
          191000,
          178900,
          79900,
          132250,
          110000,
          105000,
          263000,
          39300,
          293077,
          136500,
          239799,
          244000,
          232600,
          239000,
          119000,
          103200,
          93000,
          213250,
          144000,
          236500,
          85500,
          229000,
          121500,
          155000,
          228950,
          117000,
          402861,
          170000,
          261500,
          328000,
          325000,
          283463,
          176000,
          172500,
          157500,
          193000,
          325300,
          147000,
          144000,
          163000,
          164000,
          79900
         ],
         "xaxis": "x",
         "y": [
          125026.66666666667,
          189688.2142857143,
          167466.66666666666,
          172425,
          195450,
          156208.83333333334,
          148000,
          140704,
          114220,
          226107.6923076923,
          140704,
          373830.45454545453,
          101925,
          86212.5,
          226107.6923076923,
          131354.16666666666,
          111276,
          89090,
          150094.44444444444,
          146000,
          412500,
          121153.57142857143,
          248600,
          276975.8888888889,
          227346.15384615384,
          485955.0714285714,
          115111.11111111111,
          129613.33333333333,
          121725,
          114220,
          132459.0909090909,
          133725,
          140704,
          166677.77777777778,
          115111.11111111111,
          156619.5,
          373830.45454545453,
          156208.83333333334,
          276975.8888888889,
          146000,
          328336.5833333333,
          172425,
          77500,
          152916.66666666666,
          233700,
          138378.57142857142,
          151400,
          200053.84615384616,
          170005.88235294117,
          287644.53846153844,
          133725,
          128685.66666666667,
          189688.2142857143,
          485955.0714285714,
          113475,
          113170.33333333333,
          129613.33333333333,
          186752.9411764706,
          186752.9411764706,
          159132.35294117648,
          113475,
          121153.57142857143,
          152916.66666666666,
          485955.0714285714,
          172425,
          198720,
          215625,
          298455.44444444444,
          101925,
          269193.64285714284,
          248600,
          140704,
          150937.5,
          138378.57142857142,
          86212.5,
          186752.9411764706,
          195450,
          225291.66666666666,
          152666.66666666666,
          115111.11111111111,
          115111.11111111111,
          140266.66666666666,
          292750,
          170005.88235294117,
          244751.73333333334,
          152666.66666666666,
          129613.33333333333,
          139676.4705882353,
          227346.15384615384,
          158450,
          132459.0909090909,
          178120,
          248600,
          485955.0714285714,
          139676.4705882353,
          156619.5,
          182276.4705882353,
          167466.66666666666,
          287644.53846153844,
          151400,
          114220,
          77500,
          77500,
          176066.66666666666,
          150937.5,
          172425,
          189688.2142857143,
          133681.25,
          325708.26666666666,
          233700,
          233700,
          244751.73333333334,
          128685.66666666667,
          287644.53846153844,
          89090,
          146000,
          128685.66666666667,
          140266.66666666666,
          133150,
          186752.9411764706,
          189688.2142857143,
          138378.57142857142,
          140266.66666666666,
          114220,
          269193.64285714284,
          116205.5,
          138378.57142857142,
          248600,
          150094.44444444444,
          155000,
          182276.4705882353,
          328336.5833333333,
          186752.9411764706,
          168825,
          172425,
          239032.73333333334,
          233700,
          328336.5833333333,
          182276.4705882353,
          244751.73333333334,
          140704,
          176066.66666666666,
          131354.16666666666,
          229808.75,
          125026.66666666667,
          226107.6923076923,
          200053.84615384616,
          373830.45454545453,
          114220,
          77500,
          248600,
          146387.5,
          89090,
          122754.11111111111,
          131354.16666666666,
          248600,
          138378.57142857142,
          77500,
          216947.6875,
          132459.0909090909,
          90000,
          186752.9411764706,
          110360,
          128685.66666666667,
          139676.4705882353,
          170005.88235294117,
          216947.6875,
          111276,
          373830.45454545453,
          325708.26666666666,
          269193.64285714284,
          140266.66666666666,
          229808.75,
          168825,
          239032.73333333334,
          110360,
          373830.45454545453,
          151400,
          195450,
          233700,
          292750,
          178120,
          138378.57142857142,
          121153.57142857143,
          133681.25,
          151400,
          138791.66666666666,
          107979.16666666667,
          233700,
          139676.4705882353,
          233700,
          373830.45454545453,
          157833.33333333334,
          200053.84615384616,
          101925,
          133725,
          287644.53846153844,
          226107.6923076923,
          89090,
          193108.33333333334,
          107979.16666666667,
          89090,
          146000,
          172425,
          248600,
          215625,
          239032.73333333334,
          133681.25,
          276975.8888888889,
          328336.5833333333,
          133681.25,
          140266.66666666666,
          121725,
          225291.66666666666,
          125026.66666666667,
          152666.66666666666,
          113170.33333333333,
          131354.16666666666,
          182276.4705882353,
          412500,
          216947.6875,
          125026.66666666667,
          200053.84615384616,
          239032.73333333334,
          150094.44444444444,
          86212.5,
          248600,
          239032.73333333334,
          276975.8888888889,
          114220,
          211150,
          195450,
          156619.5,
          186752.9411764706,
          107979.16666666667,
          122754.11111111111,
          110360,
          121725,
          292750,
          131683.33333333334,
          314050,
          284000,
          187000,
          485955.0714285714,
          215625,
          200053.84615384616,
          193108.33333333334,
          248600,
          325708.26666666666,
          182276.4705882353,
          133681.25,
          152916.66666666666,
          138378.57142857142,
          325708.26666666666,
          239032.73333333334,
          186752.9411764706,
          89090,
          151400,
          113170.33333333333,
          125026.66666666667,
          193108.33333333334,
          148833.33333333334,
          146387.5,
          328336.5833333333,
          227346.15384615384,
          215625,
          174950,
          101925,
          229808.75,
          77500,
          125026.66666666667,
          152916.66666666666,
          115111.11111111111,
          325708.26666666666,
          122754.11111111111,
          152666.66666666666,
          182276.4705882353,
          89090,
          226107.6923076923,
          152666.66666666666,
          193108.33333333334,
          287644.53846153844,
          189688.2142857143,
          86212.5,
          248600,
          215625,
          89090,
          170005.88235294117,
          139676.4705882353,
          113170.33333333333,
          132459.0909090909,
          287644.53846153844,
          122754.11111111111,
          328336.5833333333,
          129613.33333333333,
          139676.4705882353,
          139676.4705882353,
          325708.26666666666,
          121725,
          485955.0714285714,
          178120,
          152916.66666666666,
          227346.15384615384,
          146387.5,
          133681.25,
          256475,
          287644.53846153844,
          86212.5,
          178120,
          113170.33333333333,
          189688.2142857143,
          226107.6923076923,
          292750,
          226107.6923076923,
          198720,
          172425,
          131354.16666666666,
          227346.15384615384,
          187000,
          167466.66666666666,
          186752.9411764706,
          164500,
          110360,
          110893.75,
          107979.16666666667,
          189688.2142857143,
          186752.9411764706,
          113170.33333333333,
          176066.66666666666,
          166677.77777777778,
          287644.53846153844,
          248600,
          146387.5,
          140266.66666666666,
          138378.57142857142,
          186752.9411764706,
          168825,
          86212.5,
          216947.6875,
          193108.33333333334,
          292750,
          172425,
          86212.5,
          170005.88235294117,
          186752.9411764706,
          89090,
          142633.33333333334,
          157833.33333333334,
          189688.2142857143,
          77500,
          193108.33333333334,
          140266.66666666666,
          60000,
          226107.6923076923,
          178120,
          170005.88235294117,
          113475,
          114220,
          140266.66666666666,
          216947.6875,
          239032.73333333334,
          128685.66666666667,
          229808.75,
          110360,
          107979.16666666667,
          152666.66666666666,
          86212.5,
          226107.6923076923,
          129613.33333333333,
          86212.5,
          113420,
          125026.66666666667,
          226107.6923076923,
          170005.88235294117,
          269193.64285714284,
          131683.33333333334,
          226107.6923076923,
          152666.66666666666,
          206900,
          215625,
          193108.33333333334,
          155000,
          122754.11111111111,
          176066.66666666666,
          110360,
          373830.45454545453,
          114003,
          178120,
          292750,
          129613.33333333333,
          193108.33333333334,
          77500,
          198720,
          86212.5,
          139676.4705882353,
          148000,
          122754.11111111111,
          174950,
          133725,
          216947.6875,
          140704,
          152666.66666666666,
          148833.33333333334,
          284000,
          113170.33333333333,
          152916.66666666666,
          128685.66666666667,
          132459.0909090909,
          172425,
          226107.6923076923,
          156208.83333333334,
          239032.73333333334,
          101925,
          150094.44444444444,
          155000,
          133725,
          156619.5,
          195450,
          215625,
          170005.88235294117,
          158450,
          189688.2142857143,
          328336.5833333333,
          140266.66666666666,
          182276.4705882353,
          170005.88235294117,
          122754.11111111111,
          325708.26666666666,
          215625,
          485955.0714285714,
          166677.77777777778,
          139676.4705882353,
          133681.25,
          328336.5833333333,
          138378.57142857142,
          77500,
          89090,
          158450,
          133725,
          167466.66666666666,
          151400,
          150094.44444444444,
          115111.11111111111,
          325708.26666666666,
          193108.33333333334,
          158450,
          166677.77777777778,
          233700,
          107979.16666666667,
          177125,
          178120,
          226107.6923076923,
          138378.57142857142,
          239032.73333333334,
          193108.33333333334,
          227346.15384615384,
          158450,
          139676.4705882353,
          156619.5,
          186752.9411764706,
          77500,
          178120,
          170005.88235294117,
          140266.66666666666,
          89090,
          152666.66666666666,
          138378.57142857142,
          146000,
          298455.44444444444,
          200053.84615384616,
          216947.6875,
          121725,
          325708.26666666666,
          284000,
          193108.33333333334,
          167466.66666666666,
          178120,
          216947.6875,
          158450,
          180000,
          186752.9411764706,
          198720,
          195450,
          129613.33333333333,
          121725,
          150937.5,
          77500,
          195450,
          131354.16666666666,
          115111.11111111111,
          276975.8888888889,
          107979.16666666667,
          292750,
          158450,
          107979.16666666667,
          195450,
          146387.5,
          150937.5,
          298455.44444444444,
          122754.11111111111,
          107979.16666666667,
          227346.15384615384,
          170005.88235294117,
          125026.66666666667,
          125026.66666666667,
          215625,
          140266.66666666666,
          229808.75,
          113170.33333333333,
          115111.11111111111,
          156619.5,
          172425,
          193108.33333333334,
          244751.73333333334,
          328336.5833333333,
          146000,
          227346.15384615384,
          125026.66666666667,
          146387.5,
          156619.5,
          328336.5833333333,
          216947.6875,
          152666.66666666666,
          314050,
          77500,
          140266.66666666666,
          325708.26666666666,
          140266.66666666666,
          226107.6923076923,
          114220,
          186752.9411764706,
          182276.4705882353,
          159132.35294117648,
          172425,
          151400,
          129613.33333333333,
          128685.66666666667,
          125026.66666666667,
          239032.73333333334,
          292750,
          125026.66666666667,
          140704,
          189688.2142857143,
          156619.5,
          115111.11111111111,
          139676.4705882353,
          110893.75,
          114220,
          284000,
          77500,
          239032.73333333334,
          132459.0909090909,
          248600,
          227346.15384615384,
          239032.73333333334,
          140266.66666666666,
          115111.11111111111,
          89090,
          133681.25,
          226107.6923076923,
          227346.15384615384,
          325708.26666666666,
          77500,
          244751.73333333334,
          138791.66666666666,
          151400,
          167466.66666666666,
          138378.57142857142,
          373830.45454545453,
          133681.25,
          248600,
          244751.73333333334,
          276975.8888888889,
          325708.26666666666,
          168825,
          248600,
          193108.33333333334,
          182276.4705882353,
          328336.5833333333,
          114220,
          177125,
          166677.77777777778,
          140266.66666666666,
          110360
         ],
         "yaxis": "y"
        }
       ],
       "layout": {
        "legend": {
         "tracegroupgap": 0
        },
        "margin": {
         "t": 60
        },
        "template": {
         "data": {
          "bar": [
           {
            "error_x": {
             "color": "#2a3f5f"
            },
            "error_y": {
             "color": "#2a3f5f"
            },
            "marker": {
             "line": {
              "color": "#E5ECF6",
              "width": 0.5
             },
             "pattern": {
              "fillmode": "overlay",
              "size": 10,
              "solidity": 0.2
             }
            },
            "type": "bar"
           }
          ],
          "barpolar": [
           {
            "marker": {
             "line": {
              "color": "#E5ECF6",
              "width": 0.5
             },
             "pattern": {
              "fillmode": "overlay",
              "size": 10,
              "solidity": 0.2
             }
            },
            "type": "barpolar"
           }
          ],
          "carpet": [
           {
            "aaxis": {
             "endlinecolor": "#2a3f5f",
             "gridcolor": "white",
             "linecolor": "white",
             "minorgridcolor": "white",
             "startlinecolor": "#2a3f5f"
            },
            "baxis": {
             "endlinecolor": "#2a3f5f",
             "gridcolor": "white",
             "linecolor": "white",
             "minorgridcolor": "white",
             "startlinecolor": "#2a3f5f"
            },
            "type": "carpet"
           }
          ],
          "choropleth": [
           {
            "colorbar": {
             "outlinewidth": 0,
             "ticks": ""
            },
            "type": "choropleth"
           }
          ],
          "contour": [
           {
            "colorbar": {
             "outlinewidth": 0,
             "ticks": ""
            },
            "colorscale": [
             [
              0,
              "#0d0887"
             ],
             [
              0.1111111111111111,
              "#46039f"
             ],
             [
              0.2222222222222222,
              "#7201a8"
             ],
             [
              0.3333333333333333,
              "#9c179e"
             ],
             [
              0.4444444444444444,
              "#bd3786"
             ],
             [
              0.5555555555555556,
              "#d8576b"
             ],
             [
              0.6666666666666666,
              "#ed7953"
             ],
             [
              0.7777777777777778,
              "#fb9f3a"
             ],
             [
              0.8888888888888888,
              "#fdca26"
             ],
             [
              1,
              "#f0f921"
             ]
            ],
            "type": "contour"
           }
          ],
          "contourcarpet": [
           {
            "colorbar": {
             "outlinewidth": 0,
             "ticks": ""
            },
            "type": "contourcarpet"
           }
          ],
          "heatmap": [
           {
            "colorbar": {
             "outlinewidth": 0,
             "ticks": ""
            },
            "colorscale": [
             [
              0,
              "#0d0887"
             ],
             [
              0.1111111111111111,
              "#46039f"
             ],
             [
              0.2222222222222222,
              "#7201a8"
             ],
             [
              0.3333333333333333,
              "#9c179e"
             ],
             [
              0.4444444444444444,
              "#bd3786"
             ],
             [
              0.5555555555555556,
              "#d8576b"
             ],
             [
              0.6666666666666666,
              "#ed7953"
             ],
             [
              0.7777777777777778,
              "#fb9f3a"
             ],
             [
              0.8888888888888888,
              "#fdca26"
             ],
             [
              1,
              "#f0f921"
             ]
            ],
            "type": "heatmap"
           }
          ],
          "heatmapgl": [
           {
            "colorbar": {
             "outlinewidth": 0,
             "ticks": ""
            },
            "colorscale": [
             [
              0,
              "#0d0887"
             ],
             [
              0.1111111111111111,
              "#46039f"
             ],
             [
              0.2222222222222222,
              "#7201a8"
             ],
             [
              0.3333333333333333,
              "#9c179e"
             ],
             [
              0.4444444444444444,
              "#bd3786"
             ],
             [
              0.5555555555555556,
              "#d8576b"
             ],
             [
              0.6666666666666666,
              "#ed7953"
             ],
             [
              0.7777777777777778,
              "#fb9f3a"
             ],
             [
              0.8888888888888888,
              "#fdca26"
             ],
             [
              1,
              "#f0f921"
             ]
            ],
            "type": "heatmapgl"
           }
          ],
          "histogram": [
           {
            "marker": {
             "pattern": {
              "fillmode": "overlay",
              "size": 10,
              "solidity": 0.2
             }
            },
            "type": "histogram"
           }
          ],
          "histogram2d": [
           {
            "colorbar": {
             "outlinewidth": 0,
             "ticks": ""
            },
            "colorscale": [
             [
              0,
              "#0d0887"
             ],
             [
              0.1111111111111111,
              "#46039f"
             ],
             [
              0.2222222222222222,
              "#7201a8"
             ],
             [
              0.3333333333333333,
              "#9c179e"
             ],
             [
              0.4444444444444444,
              "#bd3786"
             ],
             [
              0.5555555555555556,
              "#d8576b"
             ],
             [
              0.6666666666666666,
              "#ed7953"
             ],
             [
              0.7777777777777778,
              "#fb9f3a"
             ],
             [
              0.8888888888888888,
              "#fdca26"
             ],
             [
              1,
              "#f0f921"
             ]
            ],
            "type": "histogram2d"
           }
          ],
          "histogram2dcontour": [
           {
            "colorbar": {
             "outlinewidth": 0,
             "ticks": ""
            },
            "colorscale": [
             [
              0,
              "#0d0887"
             ],
             [
              0.1111111111111111,
              "#46039f"
             ],
             [
              0.2222222222222222,
              "#7201a8"
             ],
             [
              0.3333333333333333,
              "#9c179e"
             ],
             [
              0.4444444444444444,
              "#bd3786"
             ],
             [
              0.5555555555555556,
              "#d8576b"
             ],
             [
              0.6666666666666666,
              "#ed7953"
             ],
             [
              0.7777777777777778,
              "#fb9f3a"
             ],
             [
              0.8888888888888888,
              "#fdca26"
             ],
             [
              1,
              "#f0f921"
             ]
            ],
            "type": "histogram2dcontour"
           }
          ],
          "mesh3d": [
           {
            "colorbar": {
             "outlinewidth": 0,
             "ticks": ""
            },
            "type": "mesh3d"
           }
          ],
          "parcoords": [
           {
            "line": {
             "colorbar": {
              "outlinewidth": 0,
              "ticks": ""
             }
            },
            "type": "parcoords"
           }
          ],
          "pie": [
           {
            "automargin": true,
            "type": "pie"
           }
          ],
          "scatter": [
           {
            "fillpattern": {
             "fillmode": "overlay",
             "size": 10,
             "solidity": 0.2
            },
            "type": "scatter"
           }
          ],
          "scatter3d": [
           {
            "line": {
             "colorbar": {
              "outlinewidth": 0,
              "ticks": ""
             }
            },
            "marker": {
             "colorbar": {
              "outlinewidth": 0,
              "ticks": ""
             }
            },
            "type": "scatter3d"
           }
          ],
          "scattercarpet": [
           {
            "marker": {
             "colorbar": {
              "outlinewidth": 0,
              "ticks": ""
             }
            },
            "type": "scattercarpet"
           }
          ],
          "scattergeo": [
           {
            "marker": {
             "colorbar": {
              "outlinewidth": 0,
              "ticks": ""
             }
            },
            "type": "scattergeo"
           }
          ],
          "scattergl": [
           {
            "marker": {
             "colorbar": {
              "outlinewidth": 0,
              "ticks": ""
             }
            },
            "type": "scattergl"
           }
          ],
          "scattermapbox": [
           {
            "marker": {
             "colorbar": {
              "outlinewidth": 0,
              "ticks": ""
             }
            },
            "type": "scattermapbox"
           }
          ],
          "scatterpolar": [
           {
            "marker": {
             "colorbar": {
              "outlinewidth": 0,
              "ticks": ""
             }
            },
            "type": "scatterpolar"
           }
          ],
          "scatterpolargl": [
           {
            "marker": {
             "colorbar": {
              "outlinewidth": 0,
              "ticks": ""
             }
            },
            "type": "scatterpolargl"
           }
          ],
          "scatterternary": [
           {
            "marker": {
             "colorbar": {
              "outlinewidth": 0,
              "ticks": ""
             }
            },
            "type": "scatterternary"
           }
          ],
          "surface": [
           {
            "colorbar": {
             "outlinewidth": 0,
             "ticks": ""
            },
            "colorscale": [
             [
              0,
              "#0d0887"
             ],
             [
              0.1111111111111111,
              "#46039f"
             ],
             [
              0.2222222222222222,
              "#7201a8"
             ],
             [
              0.3333333333333333,
              "#9c179e"
             ],
             [
              0.4444444444444444,
              "#bd3786"
             ],
             [
              0.5555555555555556,
              "#d8576b"
             ],
             [
              0.6666666666666666,
              "#ed7953"
             ],
             [
              0.7777777777777778,
              "#fb9f3a"
             ],
             [
              0.8888888888888888,
              "#fdca26"
             ],
             [
              1,
              "#f0f921"
             ]
            ],
            "type": "surface"
           }
          ],
          "table": [
           {
            "cells": {
             "fill": {
              "color": "#EBF0F8"
             },
             "line": {
              "color": "white"
             }
            },
            "header": {
             "fill": {
              "color": "#C8D4E3"
             },
             "line": {
              "color": "white"
             }
            },
            "type": "table"
           }
          ]
         },
         "layout": {
          "annotationdefaults": {
           "arrowcolor": "#2a3f5f",
           "arrowhead": 0,
           "arrowwidth": 1
          },
          "autotypenumbers": "strict",
          "coloraxis": {
           "colorbar": {
            "outlinewidth": 0,
            "ticks": ""
           }
          },
          "colorscale": {
           "diverging": [
            [
             0,
             "#8e0152"
            ],
            [
             0.1,
             "#c51b7d"
            ],
            [
             0.2,
             "#de77ae"
            ],
            [
             0.3,
             "#f1b6da"
            ],
            [
             0.4,
             "#fde0ef"
            ],
            [
             0.5,
             "#f7f7f7"
            ],
            [
             0.6,
             "#e6f5d0"
            ],
            [
             0.7,
             "#b8e186"
            ],
            [
             0.8,
             "#7fbc41"
            ],
            [
             0.9,
             "#4d9221"
            ],
            [
             1,
             "#276419"
            ]
           ],
           "sequential": [
            [
             0,
             "#0d0887"
            ],
            [
             0.1111111111111111,
             "#46039f"
            ],
            [
             0.2222222222222222,
             "#7201a8"
            ],
            [
             0.3333333333333333,
             "#9c179e"
            ],
            [
             0.4444444444444444,
             "#bd3786"
            ],
            [
             0.5555555555555556,
             "#d8576b"
            ],
            [
             0.6666666666666666,
             "#ed7953"
            ],
            [
             0.7777777777777778,
             "#fb9f3a"
            ],
            [
             0.8888888888888888,
             "#fdca26"
            ],
            [
             1,
             "#f0f921"
            ]
           ],
           "sequentialminus": [
            [
             0,
             "#0d0887"
            ],
            [
             0.1111111111111111,
             "#46039f"
            ],
            [
             0.2222222222222222,
             "#7201a8"
            ],
            [
             0.3333333333333333,
             "#9c179e"
            ],
            [
             0.4444444444444444,
             "#bd3786"
            ],
            [
             0.5555555555555556,
             "#d8576b"
            ],
            [
             0.6666666666666666,
             "#ed7953"
            ],
            [
             0.7777777777777778,
             "#fb9f3a"
            ],
            [
             0.8888888888888888,
             "#fdca26"
            ],
            [
             1,
             "#f0f921"
            ]
           ]
          },
          "colorway": [
           "#636efa",
           "#EF553B",
           "#00cc96",
           "#ab63fa",
           "#FFA15A",
           "#19d3f3",
           "#FF6692",
           "#B6E880",
           "#FF97FF",
           "#FECB52"
          ],
          "font": {
           "color": "#2a3f5f"
          },
          "geo": {
           "bgcolor": "white",
           "lakecolor": "white",
           "landcolor": "#E5ECF6",
           "showlakes": true,
           "showland": true,
           "subunitcolor": "white"
          },
          "hoverlabel": {
           "align": "left"
          },
          "hovermode": "closest",
          "mapbox": {
           "style": "light"
          },
          "paper_bgcolor": "white",
          "plot_bgcolor": "#E5ECF6",
          "polar": {
           "angularaxis": {
            "gridcolor": "white",
            "linecolor": "white",
            "ticks": ""
           },
           "bgcolor": "#E5ECF6",
           "radialaxis": {
            "gridcolor": "white",
            "linecolor": "white",
            "ticks": ""
           }
          },
          "scene": {
           "xaxis": {
            "backgroundcolor": "#E5ECF6",
            "gridcolor": "white",
            "gridwidth": 2,
            "linecolor": "white",
            "showbackground": true,
            "ticks": "",
            "zerolinecolor": "white"
           },
           "yaxis": {
            "backgroundcolor": "#E5ECF6",
            "gridcolor": "white",
            "gridwidth": 2,
            "linecolor": "white",
            "showbackground": true,
            "ticks": "",
            "zerolinecolor": "white"
           },
           "zaxis": {
            "backgroundcolor": "#E5ECF6",
            "gridcolor": "white",
            "gridwidth": 2,
            "linecolor": "white",
            "showbackground": true,
            "ticks": "",
            "zerolinecolor": "white"
           }
          },
          "shapedefaults": {
           "line": {
            "color": "#2a3f5f"
           }
          },
          "ternary": {
           "aaxis": {
            "gridcolor": "white",
            "linecolor": "white",
            "ticks": ""
           },
           "baxis": {
            "gridcolor": "white",
            "linecolor": "white",
            "ticks": ""
           },
           "bgcolor": "#E5ECF6",
           "caxis": {
            "gridcolor": "white",
            "linecolor": "white",
            "ticks": ""
           }
          },
          "title": {
           "x": 0.05
          },
          "xaxis": {
           "automargin": true,
           "gridcolor": "white",
           "linecolor": "white",
           "ticks": "",
           "title": {
            "standoff": 15
           },
           "zerolinecolor": "white",
           "zerolinewidth": 2
          },
          "yaxis": {
           "automargin": true,
           "gridcolor": "white",
           "linecolor": "white",
           "ticks": "",
           "title": {
            "standoff": 15
           },
           "zerolinecolor": "white",
           "zerolinewidth": 2
          }
         }
        },
        "title": {
         "text": "Predicted Sale Price vs. Actual Sale Price"
        },
        "xaxis": {
         "anchor": "y",
         "domain": [
          0,
          1
         ],
         "title": {
          "text": "Actual Sale Price"
         }
        },
        "yaxis": {
         "anchor": "x",
         "domain": [
          0,
          1
         ],
         "title": {
          "text": "Predicted Sale Price"
         }
        }
       }
      }
     },
     "metadata": {},
     "output_type": "display_data"
    },
    {
     "name": "stdout",
     "output_type": "stream",
     "text": [
      "Test set score: 0.7399763757956677\n"
     ]
    }
   ],
   "source": [
    "##### Decision Tree Regressor\n",
    "\n",
    "min_splits = []\n",
    "scores = []\n",
    "\n",
    "for min_split in range(2,51):\n",
    "\n",
    "    dtr_mdl = DecisionTreeRegressor(min_samples_split=min_split, ccp_alpha=1000)\n",
    "\n",
    "    score = cross_val_score(dtr_mdl, X=X_test, y=y_test, cv=10)\n",
    "\n",
    "    min_splits.append(min_split)\n",
    "    scores.append(score.mean())\n",
    "\n",
    "dtr_regr_df = pd.DataFrame(list(zip(min_splits, scores)), columns=[\"min_split\", \"score\"]).sort_values(\"score\", ascending=False).reset_index()\n",
    "\n",
    "\n",
    "dtr_mdl = DecisionTreeRegressor(min_samples_split=dtr_regr_df.loc[0, \"min_split\"], ccp_alpha=1000)\n",
    "dtr_mdl.fit(X_train, y_train)\n",
    "\n",
    "fig_3a = px.scatter(x=y_test, y=dtr_mdl.predict(X_test))\n",
    "fig_3a.update_xaxes(title_text=\"Actual Sale Price\")\n",
    "fig_3a.update_yaxes(title_text=\"Predicted Sale Price\")\n",
    "fig_3a.update_layout(title_text=\"Predicted Sale Price vs. Actual Sale Price\")\n",
    "fig_3a.show()\n",
    "\n",
    "\n",
    "print(f\"Test set score: {dtr_mdl.score(X_test, y_test)}\")"
   ]
  },
  {
   "cell_type": "code",
   "execution_count": 300,
   "metadata": {},
   "outputs": [
    {
     "data": {
      "text/html": [
       "<div>\n",
       "<style scoped>\n",
       "    .dataframe tbody tr th:only-of-type {\n",
       "        vertical-align: middle;\n",
       "    }\n",
       "\n",
       "    .dataframe tbody tr th {\n",
       "        vertical-align: top;\n",
       "    }\n",
       "\n",
       "    .dataframe thead th {\n",
       "        text-align: right;\n",
       "    }\n",
       "</style>\n",
       "<table border=\"1\" class=\"dataframe\">\n",
       "  <thead>\n",
       "    <tr style=\"text-align: right;\">\n",
       "      <th></th>\n",
       "      <th>min_split</th>\n",
       "      <th>max_sample</th>\n",
       "      <th>score</th>\n",
       "    </tr>\n",
       "  </thead>\n",
       "  <tbody>\n",
       "    <tr>\n",
       "      <th>0</th>\n",
       "      <td>25</td>\n",
       "      <td>10000</td>\n",
       "      <td>0.709603</td>\n",
       "    </tr>\n",
       "    <tr>\n",
       "      <th>1</th>\n",
       "      <td>50</td>\n",
       "      <td>100000</td>\n",
       "      <td>0.708366</td>\n",
       "    </tr>\n",
       "    <tr>\n",
       "      <th>2</th>\n",
       "      <td>18</td>\n",
       "      <td>100</td>\n",
       "      <td>0.708257</td>\n",
       "    </tr>\n",
       "    <tr>\n",
       "      <th>3</th>\n",
       "      <td>35</td>\n",
       "      <td>10000</td>\n",
       "      <td>0.708037</td>\n",
       "    </tr>\n",
       "    <tr>\n",
       "      <th>4</th>\n",
       "      <td>37</td>\n",
       "      <td>1</td>\n",
       "      <td>0.707800</td>\n",
       "    </tr>\n",
       "    <tr>\n",
       "      <th>...</th>\n",
       "      <td>...</td>\n",
       "      <td>...</td>\n",
       "      <td>...</td>\n",
       "    </tr>\n",
       "    <tr>\n",
       "      <th>289</th>\n",
       "      <td>12</td>\n",
       "      <td>10</td>\n",
       "      <td>0.698179</td>\n",
       "    </tr>\n",
       "    <tr>\n",
       "      <th>290</th>\n",
       "      <td>32</td>\n",
       "      <td>100</td>\n",
       "      <td>0.698024</td>\n",
       "    </tr>\n",
       "    <tr>\n",
       "      <th>291</th>\n",
       "      <td>38</td>\n",
       "      <td>10</td>\n",
       "      <td>0.697939</td>\n",
       "    </tr>\n",
       "    <tr>\n",
       "      <th>292</th>\n",
       "      <td>47</td>\n",
       "      <td>100000</td>\n",
       "      <td>0.697910</td>\n",
       "    </tr>\n",
       "    <tr>\n",
       "      <th>293</th>\n",
       "      <td>9</td>\n",
       "      <td>100</td>\n",
       "      <td>0.697591</td>\n",
       "    </tr>\n",
       "  </tbody>\n",
       "</table>\n",
       "<p>294 rows × 3 columns</p>\n",
       "</div>"
      ],
      "text/plain": [
       "     min_split  max_sample     score\n",
       "0           25       10000  0.709603\n",
       "1           50      100000  0.708366\n",
       "2           18         100  0.708257\n",
       "3           35       10000  0.708037\n",
       "4           37           1  0.707800\n",
       "..         ...         ...       ...\n",
       "289         12          10  0.698179\n",
       "290         32         100  0.698024\n",
       "291         38          10  0.697939\n",
       "292         47      100000  0.697910\n",
       "293          9         100  0.697591\n",
       "\n",
       "[294 rows x 3 columns]"
      ]
     },
     "execution_count": 300,
     "metadata": {},
     "output_type": "execute_result"
    }
   ],
   "source": [
    "##### Random Forest Regressor\n",
    "\n",
    "rfr_min_splits = []\n",
    "rfr_max_samples = []\n",
    "rfr_alphas = []\n",
    "rfr_scores = []\n",
    "\n",
    "for rfr_min_split in range(2,51):\n",
    "\n",
    "    # for rfr_max_sample in [val/100 for val in range(50,96,5)]:\n",
    "    for rfr_alpha in [10**val for val in range(6)]:\n",
    "\n",
    "        # rfr_mdl = RandomForestRegressor(min_samples_split=min_split, max_samples=rfr_max_sample)\n",
    "        rfr_mdl = RandomForestRegressor(min_samples_split=min_split, \n",
    "                                        max_samples=0.75,\n",
    "                                        n_estimators=200,\n",
    "                                        ccp_alpha=rfr_alpha)\n",
    "\n",
    "        rfr_score = cross_val_score(rfr_mdl, X=scaled_num_X_train, y=y_train, cv=10)\n",
    "\n",
    "        rfr_min_splits.append(rfr_min_split)\n",
    "        # rfr_max_samples.append(rfr_max_sample)\n",
    "        rfr_alphas.append(rfr_alpha)\n",
    "        rfr_scores.append(rfr_score.mean())\n",
    "\n",
    "\n",
    "# rfr_result_df = pd.DataFrame(list(zip(rfr_min_splits, rfr_max_samples, rfr_scores)), \n",
    "#                              columns=[\"min_split\", \"max_sample\", \"score\"])\n",
    "rfr_result_df = pd.DataFrame(list(zip(rfr_min_splits, rfr_alphas, rfr_scores)), \n",
    "                             columns=[\"min_split\", \"ccp_alpha\", \"score\"])\n",
    "rfr_result_df = rfr_result_df.sort_values(\"score\", ascending=False).reset_index(drop=True)\n",
    "\n",
    "rfr_result_df\n"
   ]
  },
  {
   "cell_type": "code",
   "execution_count": 301,
   "metadata": {},
   "outputs": [
    {
     "data": {
      "application/vnd.plotly.v1+json": {
       "config": {
        "plotlyServerURL": "https://plot.ly"
       },
       "data": [
        {
         "hovertemplate": "x=%{x}<br>y=%{y}<extra></extra>",
         "legendgroup": "",
         "marker": {
          "color": "#636efa",
          "symbol": "circle"
         },
         "mode": "markers",
         "name": "",
         "orientation": "v",
         "showlegend": false,
         "type": "scatter",
         "x": [
          189950,
          180000,
          136500,
          160000,
          135000,
          240000,
          100000,
          169900,
          119500,
          240000,
          148000,
          305900,
          140000,
          110000,
          179200,
          99500,
          125000,
          61000,
          143000,
          140000,
          402000,
          93000,
          235000,
          248328,
          200624,
          380000,
          119000,
          132000,
          136500,
          112000,
          137500,
          81000,
          123000,
          157500,
          109500,
          179665,
          501837,
          190000,
          230000,
          149000,
          276000,
          170000,
          60000,
          132000,
          193879,
          104900,
          152000,
          194201,
          171000,
          200000,
          110000,
          152000,
          173000,
          485000,
          120000,
          135500,
          133900,
          245500,
          226000,
          181900,
          112000,
          108500,
          167500,
          410000,
          177500,
          199900,
          150900,
          310000,
          55993,
          369900,
          231500,
          156000,
          134800,
          140000,
          119900,
          196000,
          172000,
          244000,
          161750,
          132000,
          130500,
          180500,
          302000,
          202500,
          228000,
          140000,
          125000,
          174900,
          278000,
          165500,
          131500,
          212000,
          215000,
          466500,
          136000,
          130000,
          168000,
          225000,
          345000,
          138000,
          160000,
          52000,
          82500,
          165000,
          178400,
          177000,
          208900,
          119000,
          311872,
          164500,
          229456,
          240000,
          181000,
          242000,
          135000,
          131500,
          146000,
          210000,
          145000,
          179000,
          180000,
          161500,
          157000,
          155000,
          239000,
          126000,
          168000,
          226000,
          157900,
          118000,
          185000,
          383970,
          175000,
          187500,
          187500,
          290000,
          173733,
          315000,
          176000,
          313000,
          129900,
          194000,
          108000,
          234000,
          113000,
          286000,
          244600,
          315000,
          103000,
          68500,
          252000,
          128000,
          87000,
          122500,
          107900,
          236000,
          160000,
          106250,
          212000,
          124500,
          101800,
          175000,
          129500,
          131400,
          128000,
          187000,
          215000,
          100000,
          372500,
          318000,
          394432,
          137000,
          259500,
          142500,
          277500,
          76000,
          253293,
          170000,
          185000,
          227680,
          290000,
          173500,
          140000,
          124000,
          184000,
          145000,
          165000,
          96500,
          246578,
          156000,
          187750,
          465000,
          138500,
          230000,
          93500,
          114500,
          315000,
          232000,
          128950,
          175000,
          129000,
          115000,
          151000,
          174000,
          266000,
          180000,
          190000,
          91500,
          221500,
          424870,
          97500,
          115000,
          120500,
          287000,
          113000,
          158000,
          125000,
          110000,
          173000,
          340000,
          214000,
          115000,
          185850,
          274000,
          126175,
          112000,
          233230,
          204900,
          205000,
          113000,
          216000,
          215000,
          167500,
          207000,
          86000,
          90000,
          80000,
          97000,
          335000,
          375000,
          187500,
          250000,
          108000,
          184750,
          217500,
          206000,
          149900,
          230000,
          275000,
          181000,
          162000,
          175500,
          140000,
          240000,
          266000,
          187100,
          34900,
          126000,
          110000,
          145000,
          150000,
          163500,
          147000,
          336000,
          237500,
          188000,
          222000,
          87500,
          266500,
          75500,
          117000,
          160000,
          127000,
          306000,
          107500,
          132000,
          172400,
          67000,
          235000,
          153575,
          149500,
          239000,
          234000,
          88000,
          270000,
          197900,
          91000,
          196500,
          119200,
          115000,
          129500,
          272000,
          87000,
          348000,
          129500,
          139000,
          143000,
          324000,
          130000,
          625000,
          215200,
          154000,
          385000,
          158500,
          135500,
          392500,
          287000,
          88000,
          210000,
          134500,
          176432,
          193000,
          315750,
          204000,
          215000,
          176000,
          128500,
          262500,
          159434,
          244400,
          196500,
          185000,
          120500,
          84900,
          58500,
          171750,
          181000,
          132500,
          187500,
          205000,
          250000,
          190000,
          109000,
          129900,
          162900,
          191000,
          184900,
          97000,
          263435,
          167000,
          260000,
          173000,
          89500,
          197500,
          213500,
          85000,
          159500,
          151000,
          215000,
          92000,
          118000,
          159000,
          167000,
          275000,
          155000,
          154000,
          86000,
          135000,
          145000,
          204750,
          212900,
          140000,
          200000,
          72500,
          126000,
          79000,
          105500,
          272000,
          73000,
          106500,
          141000,
          135000,
          224900,
          165150,
          360000,
          125000,
          201000,
          103600,
          179900,
          184000,
          167000,
          124000,
          128000,
          260000,
          35311,
          415298,
          179900,
          173900,
          403000,
          135000,
          175500,
          37900,
          202900,
          123000,
          135000,
          143500,
          136000,
          193500,
          109008,
          200000,
          135000,
          125500,
          143000,
          268000,
          100000,
          142000,
          147000,
          67000,
          162000,
          227000,
          235000,
          209500,
          92900,
          140000,
          85000,
          109500,
          178000,
          294000,
          136905,
          185000,
          134000,
          194700,
          281213,
          185000,
          201000,
          170000,
          106000,
          255500,
          181000,
          437154,
          178000,
          139950,
          105000,
          446261,
          207000,
          95000,
          100000,
          134000,
          127500,
          100000,
          140000,
          139000,
          125500,
          200000,
          185000,
          175000,
          146500,
          194000,
          121000,
          174500,
          165000,
          278000,
          159000,
          245000,
          212000,
          268000,
          148000,
          141000,
          163990,
          188000,
          55000,
          183000,
          173000,
          184000,
          55000,
          130000,
          137450,
          144000,
          335000,
          250580,
          224900,
          115000,
          260400,
          205000,
          143000,
          169000,
          164700,
          231500,
          143500,
          129000,
          173000,
          213000,
          195000,
          110000,
          129000,
          100000,
          89000,
          158000,
          128200,
          124000,
          250000,
          128000,
          290000,
          153337,
          110000,
          206900,
          154500,
          130000,
          253000,
          139000,
          66500,
          335000,
          136000,
          119500,
          98000,
          145000,
          220000,
          179500,
          125500,
          105000,
          156932,
          176000,
          157900,
          255900,
          267000,
          144152,
          190000,
          135000,
          139000,
          176000,
          333168,
          237000,
          158900,
          277000,
          84500,
          149000,
          260000,
          134432,
          213000,
          133000,
          208500,
          241000,
          168000,
          180000,
          159000,
          144000,
          144000,
          114504,
          249700,
          262280,
          145000,
          131000,
          191000,
          178900,
          79900,
          132250,
          110000,
          105000,
          263000,
          39300,
          293077,
          136500,
          239799,
          244000,
          232600,
          239000,
          119000,
          103200,
          93000,
          213250,
          144000,
          236500,
          85500,
          229000,
          121500,
          155000,
          228950,
          117000,
          402861,
          170000,
          261500,
          328000,
          325000,
          283463,
          176000,
          172500,
          157500,
          193000,
          325300,
          147000,
          144000,
          163000,
          164000,
          79900
         ],
         "xaxis": "x",
         "y": [
          140801.51006789567,
          176691.97657971308,
          155006.89706993193,
          170639.62669402175,
          183079.91451587385,
          253833.26084132228,
          107243.05728838238,
          152067.2288495093,
          108167.60422366949,
          252182.82568847213,
          145555.691213811,
          368588.6673392633,
          110304.12549740543,
          135691.85175522685,
          230540.19786228714,
          131111.59670454578,
          129996.90072218317,
          94934.50327557285,
          147237.76679142675,
          143408.22920320006,
          349148.81912189565,
          126131.69288133847,
          256073.55658350055,
          281578.92275768984,
          295423.43978916446,
          402143.3423422921,
          109995.31160412914,
          121180.85963564577,
          132367.5026415879,
          110551.64546861016,
          136222.55180520707,
          134650.12359289548,
          133299.16982018226,
          172669.98852089542,
          110004.25760657196,
          176899.19491772237,
          394402.25601581373,
          214744.81796699564,
          267268.0655787689,
          143938.86089136367,
          346568.84977061383,
          171758.45497201494,
          91241.40906062262,
          139119.16892520367,
          199991.8801616406,
          168405.39275800827,
          148307.78897498825,
          198955.049751629,
          164628.17801994036,
          248182.50927425327,
          121744.53644778402,
          148323.93843316156,
          181777.814935015,
          439994.53387381276,
          123561.86728934139,
          128701.44873901285,
          125403.40466636165,
          182363.85644828054,
          209587.00327771596,
          170911.01768429967,
          121660.71286976166,
          114464.96210035178,
          149725.2557000751,
          392921.0984732387,
          176774.73028296503,
          213601.9180901112,
          202440.42009038475,
          278739.4010584092,
          104397.2542532476,
          357260.05936500774,
          211763.8540199587,
          135718.64684910543,
          129085.7497090601,
          150698.83685788474,
          117623.45346543653,
          194509.46314388656,
          178807.60142694743,
          227689.01015236147,
          138321.95451588533,
          122703.66526830984,
          112824.28991512759,
          152562.252548349,
          335648.0688608324,
          185475.65176810249,
          262476.6031928952,
          147793.45601943988,
          142933.6300161505,
          147728.00520850648,
          324591.1799688227,
          149571.68374662736,
          139163.00641443185,
          195159.03761190522,
          213607.98165134486,
          474297.7517317921,
          134532.38066769953,
          160277.39759493124,
          165163.02703307956,
          190387.00856721765,
          283636.21026920906,
          145761.43053182124,
          114418.26319440003,
          94436.73999344087,
          89616.21446360926,
          154088.2175129469,
          144517.66627212174,
          176847.2461089699,
          193305.06786640655,
          121975.67379092144,
          318527.03618193744,
          164839.61719302816,
          200681.02596726417,
          243680.98117340184,
          155161.27402038383,
          258407.99376319398,
          98968.92559593967,
          143499.7694330851,
          154037.220524556,
          147566.80919841203,
          112783.83441929727,
          192026.93245431417,
          184883.99257726278,
          162900.67644414149,
          151351.6617469896,
          123107.32922015585,
          315795.1240886207,
          155717.6911807542,
          184824.14703900935,
          234141.5625931478,
          143306.71919180072,
          100851.36455443449,
          185416.87716178413,
          326284.8294155892,
          187668.5090507818,
          151963.91814882818,
          174343.74999392097,
          266627.12456640904,
          164839.61719302816,
          329920.88936203776,
          173216.2859169212,
          290305.48784472514,
          144884.033583782,
          181472.13408752784,
          128288.81293769972,
          195280.18371639145,
          147491.51616402593,
          241129.8177434066,
          234533.16569603354,
          361099.92954408244,
          113569.40373886259,
          88269.54941449067,
          279224.6334868394,
          133028.1176573295,
          94306.17431820797,
          158566.42213844784,
          128253.88332776484,
          229895.58902564316,
          162475.2424518274,
          97364.03783760764,
          214137.34614706453,
          130001.71512024988,
          112269.20200370318,
          207705.7838343684,
          119202.86663755507,
          126524.59034628833,
          128426.82303340382,
          177942.95937434927,
          224214.00494272026,
          132798.52615848958,
          374685.7069480057,
          288097.19233663066,
          339035.76228745765,
          150789.88354575585,
          200225.4697742831,
          155268.39047904417,
          240140.28055755398,
          104990.78510135166,
          381875.33987629355,
          148375.8917323534,
          182535.56982922123,
          228919.57495990247,
          311617.9423525923,
          185170.0153737596,
          150400.77684658708,
          120538.35362574391,
          161981.3818511779,
          160080.79693650478,
          152340.81401431735,
          100807.4491469656,
          214762.4978356103,
          142209.3921583045,
          198215.49057192437,
          373262.82279427943,
          135615.054917795,
          196764.159135291,
          101122.85891416317,
          124084.12738691596,
          225635.65843369343,
          252604.92928700574,
          116901.72544358212,
          179150.7029743325,
          113701.8077045661,
          106364.20502781995,
          154272.42654069304,
          174634.97776212674,
          279124.606141996,
          199328.97555362762,
          236919.22566161773,
          140934.17514092437,
          255750.81696319007,
          382532.9833972077,
          141366.09087997332,
          144786.1845716046,
          124786.67349306367,
          285697.661698504,
          148811.25282142704,
          123568.55134924805,
          126615.73787761694,
          129592.81204968077,
          185722.02184262165,
          310709.284909942,
          247111.85813636988,
          147713.04578974715,
          194342.4530340316,
          237372.66606413084,
          144656.5829263991,
          108180.75962718856,
          266078.87760984054,
          245463.09450035924,
          244446.97838003043,
          111965.7467318328,
          204261.90212956455,
          221771.5758963581,
          157250.17903146378,
          192991.9605033,
          91688.81536021536,
          163617.21129403877,
          101740.03094206812,
          123670.22619338588,
          276207.3395671958,
          216238.82545662016,
          231829.055387669,
          244540.26079198028,
          153316.2430533952,
          507267.4067194163,
          192530.27228474032,
          184591.69461235832,
          170634.3701216304,
          226216.21308048684,
          252801.4867351977,
          181997.24329301313,
          140761.53208259653,
          153776.5577903478,
          178693.45599875294,
          276413.34123984165,
          262927.54599853733,
          207277.51868528125,
          94101.43681156024,
          141609.61088370893,
          118850.52109513636,
          144555.8100487113,
          168250.78544314884,
          180927.73232346974,
          135295.65396230246,
          303595.3057142751,
          204173.4319357652,
          201686.72984732917,
          206940.01953622876,
          100803.7962217703,
          215370.12861419952,
          91160.94932399376,
          123372.60588218231,
          151474.87568642426,
          113220.39245911544,
          314492.47662947926,
          168400.40340320504,
          139212.82273536464,
          184809.5544465311,
          100415.95238796556,
          233621.83802973648,
          136466.3752276756,
          170561.14529984654,
          240694.22448898596,
          194704.26561864364,
          96538.48022627343,
          278432.2884024398,
          183912.40736327152,
          99539.20473449053,
          184657.30438957058,
          126956.3921473784,
          125277.64097100808,
          133029.02100661077,
          255678.74298772492,
          179394.2059244788,
          318247.1192098565,
          132653.15258240458,
          143455.6741253082,
          150864.36530434166,
          264960.55607952445,
          120260.24899804317,
          425209.63676145783,
          196847.83219025497,
          148953.58773153406,
          248026.6017029738,
          137780.79801768102,
          134202.99465568748,
          258918.1113951282,
          310016.715242701,
          94432.74354205764,
          212931.35490608643,
          128783.7330238308,
          188033.851637246,
          233735.3542190088,
          315288.0950049991,
          232322.1778495195,
          227767.89820096132,
          174690.5848359438,
          130194.24658908602,
          235213.5382673211,
          152839.91848783675,
          175761.83463987618,
          201820.5032832903,
          175934.41657784863,
          130596.92161409828,
          106832.96929632222,
          103903.73941476186,
          193057.17877979076,
          189831.72324924075,
          130729.55144577022,
          184724.00072931455,
          181527.7813587463,
          220630.72494315772,
          217689.251052473,
          132503.3938118015,
          151375.78790073513,
          153919.9768329368,
          190961.18270961393,
          175925.67040213465,
          100530.72612539883,
          239372.14576801728,
          198820.79610993218,
          265080.6759339263,
          176093.37157119054,
          93381.4874117002,
          169904.2287813449,
          194770.02021499406,
          99710.50362738222,
          266229.9344751787,
          142729.115597384,
          184327.4936727381,
          90447.02608865808,
          155147.97151386444,
          143674.80293413228,
          145526.16429634354,
          237098.46442453878,
          168969.7491634896,
          158383.11362399164,
          111119.5179248777,
          111385.05747138234,
          208624.79804403146,
          241214.60323799442,
          244708.72508289796,
          146337.26024936698,
          185757.66831125217,
          95542.7380969543,
          105826.8372243029,
          130494.4598315534,
          114404.28492836533,
          237007.7236968776,
          116746.77769081842,
          100835.94748380462,
          135746.84520098325,
          139363.1767469613,
          253307.7304774163,
          163685.4726787064,
          338728.7461531382,
          173422.53493935935,
          235918.07528409347,
          123640.99021804365,
          200313.7302953424,
          225215.04562769772,
          175035.95097937994,
          130357.79759980302,
          138336.9570468417,
          179014.71584100195,
          94142.04958715828,
          374836.5642692975,
          157595.90248795954,
          193231.76723052477,
          348512.64295022865,
          125579.7970995657,
          190298.27847978554,
          87825.81772410199,
          217339.55771360666,
          120586.27378261104,
          132857.2288849219,
          141033.73593615295,
          174382.6483798537,
          222774.83534683316,
          123534.79074685994,
          215321.56148259158,
          143888.17127114514,
          122073.43778008623,
          180148.15897819257,
          255068.92454189257,
          124251.79631774838,
          149601.2459047864,
          135866.87794432367,
          115539.32784094961,
          159303.68808697932,
          235239.31839872658,
          219051.90331717618,
          242488.1809082524,
          100777.93597002861,
          149934.7062943002,
          107830.96741307841,
          123876.42731866165,
          166619.27174437174,
          216095.27151398655,
          198343.8296910921,
          169796.4344122447,
          151617.52528299682,
          193132.58022196539,
          293288.8520748872,
          144418.49817744308,
          187700.74508193106,
          186280.57343640696,
          155598.91799748584,
          314026.53142757074,
          185944.47283915262,
          385295.5528168746,
          166893.7178307028,
          140884.70841173612,
          127710.41719430347,
          346860.21202922874,
          164363.08612147233,
          91659.27772401873,
          99941.27106070593,
          151393.4440923138,
          117239.58696099473,
          140247.2987879122,
          151592.1959774595,
          138821.94634784694,
          114397.4268720676,
          270019.3981691038,
          172031.44830249026,
          152035.1352345612,
          155538.9069339342,
          186372.49704526947,
          108395.2246611631,
          148966.79614607533,
          163417.11153503685,
          241423.20804374866,
          164885.0050172961,
          244562.96936046274,
          209449.28724031168,
          240294.8533410608,
          150924.27458333987,
          137000.25355626093,
          173402.5274218079,
          196498.77000695755,
          87521.5355248595,
          195537.2132613438,
          170588.12352013346,
          147685.94595938805,
          100749.77743845411,
          126564.2978894377,
          149436.9317399802,
          143847.32066147862,
          289371.08489097253,
          196363.3337201137,
          209430.16754644335,
          127684.87421570712,
          268402.09538921487,
          236378.57642576747,
          188412.95417476754,
          189081.29099053706,
          164512.94560009215,
          201674.6633947941,
          153626.9408109472,
          129201.18648429892,
          172093.82385274034,
          195311.95505211232,
          190526.94423900597,
          117246.39742307979,
          144058.7000745049,
          126797.6140106698,
          88116.0886763716,
          186559.14835918145,
          130206.2861690232,
          122682.10679980092,
          267617.0314394393,
          109390.1995573321,
          314031.40506211825,
          156407.03577179438,
          107618.43762741843,
          184665.79631809,
          138058.6900725945,
          135578.9940567482,
          272720.8678156254,
          135226.31282496164,
          94953.51018268257,
          237657.04773882765,
          153775.70017656992,
          125487.67222528279,
          134670.83007683072,
          231162.31706579746,
          165878.44660712575,
          190413.3115112106,
          122096.0085316238,
          101561.59102444688,
          164775.08482853015,
          174135.60536578193,
          159445.5377340623,
          293946.66343661025,
          302623.9701387235,
          154272.42654069304,
          208308.65833036485,
          127619.64549925782,
          139057.80852631017,
          182348.97897057526,
          320823.54428644286,
          215749.01632799717,
          142755.1223913029,
          231069.66890350307,
          89699.94646217432,
          143355.19436748375,
          296048.1307440623,
          159146.38959018764,
          242252.73945926392,
          117096.68493653776,
          198518.91868111893,
          188569.25990898005,
          172073.39308380045,
          171668.0663755237,
          152201.83466470247,
          134621.27823950886,
          151162.91000003618,
          117891.37054864127,
          268664.8927283318,
          277373.6025580928,
          143482.98640428387,
          137417.9012567851,
          195732.89662030074,
          175224.58068905026,
          108351.67124523189,
          138272.36566988216,
          110168.68888958065,
          105427.70392531077,
          236498.96256419973,
          86630.72587963824,
          270150.9913914063,
          132747.34127627948,
          287372.43018696405,
          231583.42574967086,
          245040.89213778955,
          172945.3308264277,
          108981.971283601,
          105819.19454678758,
          133004.67742586404,
          254046.96780847848,
          208636.36853776235,
          270588.89127743966,
          92025.74042737164,
          255131.59995593372,
          166546.13293023917,
          152142.72333136914,
          175742.81040047677,
          150311.97980135138,
          377619.14879363606,
          160966.98262289236,
          226686.97990055286,
          246457.42811798662,
          270696.6037298061,
          314834.5740212434,
          154029.48709987273,
          198677.73201091748,
          171724.56513296333,
          176440.5346073322,
          319370.5663682272,
          131595.04915803456,
          148538.4210092552,
          149815.01396928885,
          145151.8174641704,
          103194.77594244044
         ],
         "yaxis": "y"
        }
       ],
       "layout": {
        "legend": {
         "tracegroupgap": 0
        },
        "margin": {
         "t": 60
        },
        "template": {
         "data": {
          "bar": [
           {
            "error_x": {
             "color": "#2a3f5f"
            },
            "error_y": {
             "color": "#2a3f5f"
            },
            "marker": {
             "line": {
              "color": "#E5ECF6",
              "width": 0.5
             },
             "pattern": {
              "fillmode": "overlay",
              "size": 10,
              "solidity": 0.2
             }
            },
            "type": "bar"
           }
          ],
          "barpolar": [
           {
            "marker": {
             "line": {
              "color": "#E5ECF6",
              "width": 0.5
             },
             "pattern": {
              "fillmode": "overlay",
              "size": 10,
              "solidity": 0.2
             }
            },
            "type": "barpolar"
           }
          ],
          "carpet": [
           {
            "aaxis": {
             "endlinecolor": "#2a3f5f",
             "gridcolor": "white",
             "linecolor": "white",
             "minorgridcolor": "white",
             "startlinecolor": "#2a3f5f"
            },
            "baxis": {
             "endlinecolor": "#2a3f5f",
             "gridcolor": "white",
             "linecolor": "white",
             "minorgridcolor": "white",
             "startlinecolor": "#2a3f5f"
            },
            "type": "carpet"
           }
          ],
          "choropleth": [
           {
            "colorbar": {
             "outlinewidth": 0,
             "ticks": ""
            },
            "type": "choropleth"
           }
          ],
          "contour": [
           {
            "colorbar": {
             "outlinewidth": 0,
             "ticks": ""
            },
            "colorscale": [
             [
              0,
              "#0d0887"
             ],
             [
              0.1111111111111111,
              "#46039f"
             ],
             [
              0.2222222222222222,
              "#7201a8"
             ],
             [
              0.3333333333333333,
              "#9c179e"
             ],
             [
              0.4444444444444444,
              "#bd3786"
             ],
             [
              0.5555555555555556,
              "#d8576b"
             ],
             [
              0.6666666666666666,
              "#ed7953"
             ],
             [
              0.7777777777777778,
              "#fb9f3a"
             ],
             [
              0.8888888888888888,
              "#fdca26"
             ],
             [
              1,
              "#f0f921"
             ]
            ],
            "type": "contour"
           }
          ],
          "contourcarpet": [
           {
            "colorbar": {
             "outlinewidth": 0,
             "ticks": ""
            },
            "type": "contourcarpet"
           }
          ],
          "heatmap": [
           {
            "colorbar": {
             "outlinewidth": 0,
             "ticks": ""
            },
            "colorscale": [
             [
              0,
              "#0d0887"
             ],
             [
              0.1111111111111111,
              "#46039f"
             ],
             [
              0.2222222222222222,
              "#7201a8"
             ],
             [
              0.3333333333333333,
              "#9c179e"
             ],
             [
              0.4444444444444444,
              "#bd3786"
             ],
             [
              0.5555555555555556,
              "#d8576b"
             ],
             [
              0.6666666666666666,
              "#ed7953"
             ],
             [
              0.7777777777777778,
              "#fb9f3a"
             ],
             [
              0.8888888888888888,
              "#fdca26"
             ],
             [
              1,
              "#f0f921"
             ]
            ],
            "type": "heatmap"
           }
          ],
          "heatmapgl": [
           {
            "colorbar": {
             "outlinewidth": 0,
             "ticks": ""
            },
            "colorscale": [
             [
              0,
              "#0d0887"
             ],
             [
              0.1111111111111111,
              "#46039f"
             ],
             [
              0.2222222222222222,
              "#7201a8"
             ],
             [
              0.3333333333333333,
              "#9c179e"
             ],
             [
              0.4444444444444444,
              "#bd3786"
             ],
             [
              0.5555555555555556,
              "#d8576b"
             ],
             [
              0.6666666666666666,
              "#ed7953"
             ],
             [
              0.7777777777777778,
              "#fb9f3a"
             ],
             [
              0.8888888888888888,
              "#fdca26"
             ],
             [
              1,
              "#f0f921"
             ]
            ],
            "type": "heatmapgl"
           }
          ],
          "histogram": [
           {
            "marker": {
             "pattern": {
              "fillmode": "overlay",
              "size": 10,
              "solidity": 0.2
             }
            },
            "type": "histogram"
           }
          ],
          "histogram2d": [
           {
            "colorbar": {
             "outlinewidth": 0,
             "ticks": ""
            },
            "colorscale": [
             [
              0,
              "#0d0887"
             ],
             [
              0.1111111111111111,
              "#46039f"
             ],
             [
              0.2222222222222222,
              "#7201a8"
             ],
             [
              0.3333333333333333,
              "#9c179e"
             ],
             [
              0.4444444444444444,
              "#bd3786"
             ],
             [
              0.5555555555555556,
              "#d8576b"
             ],
             [
              0.6666666666666666,
              "#ed7953"
             ],
             [
              0.7777777777777778,
              "#fb9f3a"
             ],
             [
              0.8888888888888888,
              "#fdca26"
             ],
             [
              1,
              "#f0f921"
             ]
            ],
            "type": "histogram2d"
           }
          ],
          "histogram2dcontour": [
           {
            "colorbar": {
             "outlinewidth": 0,
             "ticks": ""
            },
            "colorscale": [
             [
              0,
              "#0d0887"
             ],
             [
              0.1111111111111111,
              "#46039f"
             ],
             [
              0.2222222222222222,
              "#7201a8"
             ],
             [
              0.3333333333333333,
              "#9c179e"
             ],
             [
              0.4444444444444444,
              "#bd3786"
             ],
             [
              0.5555555555555556,
              "#d8576b"
             ],
             [
              0.6666666666666666,
              "#ed7953"
             ],
             [
              0.7777777777777778,
              "#fb9f3a"
             ],
             [
              0.8888888888888888,
              "#fdca26"
             ],
             [
              1,
              "#f0f921"
             ]
            ],
            "type": "histogram2dcontour"
           }
          ],
          "mesh3d": [
           {
            "colorbar": {
             "outlinewidth": 0,
             "ticks": ""
            },
            "type": "mesh3d"
           }
          ],
          "parcoords": [
           {
            "line": {
             "colorbar": {
              "outlinewidth": 0,
              "ticks": ""
             }
            },
            "type": "parcoords"
           }
          ],
          "pie": [
           {
            "automargin": true,
            "type": "pie"
           }
          ],
          "scatter": [
           {
            "fillpattern": {
             "fillmode": "overlay",
             "size": 10,
             "solidity": 0.2
            },
            "type": "scatter"
           }
          ],
          "scatter3d": [
           {
            "line": {
             "colorbar": {
              "outlinewidth": 0,
              "ticks": ""
             }
            },
            "marker": {
             "colorbar": {
              "outlinewidth": 0,
              "ticks": ""
             }
            },
            "type": "scatter3d"
           }
          ],
          "scattercarpet": [
           {
            "marker": {
             "colorbar": {
              "outlinewidth": 0,
              "ticks": ""
             }
            },
            "type": "scattercarpet"
           }
          ],
          "scattergeo": [
           {
            "marker": {
             "colorbar": {
              "outlinewidth": 0,
              "ticks": ""
             }
            },
            "type": "scattergeo"
           }
          ],
          "scattergl": [
           {
            "marker": {
             "colorbar": {
              "outlinewidth": 0,
              "ticks": ""
             }
            },
            "type": "scattergl"
           }
          ],
          "scattermapbox": [
           {
            "marker": {
             "colorbar": {
              "outlinewidth": 0,
              "ticks": ""
             }
            },
            "type": "scattermapbox"
           }
          ],
          "scatterpolar": [
           {
            "marker": {
             "colorbar": {
              "outlinewidth": 0,
              "ticks": ""
             }
            },
            "type": "scatterpolar"
           }
          ],
          "scatterpolargl": [
           {
            "marker": {
             "colorbar": {
              "outlinewidth": 0,
              "ticks": ""
             }
            },
            "type": "scatterpolargl"
           }
          ],
          "scatterternary": [
           {
            "marker": {
             "colorbar": {
              "outlinewidth": 0,
              "ticks": ""
             }
            },
            "type": "scatterternary"
           }
          ],
          "surface": [
           {
            "colorbar": {
             "outlinewidth": 0,
             "ticks": ""
            },
            "colorscale": [
             [
              0,
              "#0d0887"
             ],
             [
              0.1111111111111111,
              "#46039f"
             ],
             [
              0.2222222222222222,
              "#7201a8"
             ],
             [
              0.3333333333333333,
              "#9c179e"
             ],
             [
              0.4444444444444444,
              "#bd3786"
             ],
             [
              0.5555555555555556,
              "#d8576b"
             ],
             [
              0.6666666666666666,
              "#ed7953"
             ],
             [
              0.7777777777777778,
              "#fb9f3a"
             ],
             [
              0.8888888888888888,
              "#fdca26"
             ],
             [
              1,
              "#f0f921"
             ]
            ],
            "type": "surface"
           }
          ],
          "table": [
           {
            "cells": {
             "fill": {
              "color": "#EBF0F8"
             },
             "line": {
              "color": "white"
             }
            },
            "header": {
             "fill": {
              "color": "#C8D4E3"
             },
             "line": {
              "color": "white"
             }
            },
            "type": "table"
           }
          ]
         },
         "layout": {
          "annotationdefaults": {
           "arrowcolor": "#2a3f5f",
           "arrowhead": 0,
           "arrowwidth": 1
          },
          "autotypenumbers": "strict",
          "coloraxis": {
           "colorbar": {
            "outlinewidth": 0,
            "ticks": ""
           }
          },
          "colorscale": {
           "diverging": [
            [
             0,
             "#8e0152"
            ],
            [
             0.1,
             "#c51b7d"
            ],
            [
             0.2,
             "#de77ae"
            ],
            [
             0.3,
             "#f1b6da"
            ],
            [
             0.4,
             "#fde0ef"
            ],
            [
             0.5,
             "#f7f7f7"
            ],
            [
             0.6,
             "#e6f5d0"
            ],
            [
             0.7,
             "#b8e186"
            ],
            [
             0.8,
             "#7fbc41"
            ],
            [
             0.9,
             "#4d9221"
            ],
            [
             1,
             "#276419"
            ]
           ],
           "sequential": [
            [
             0,
             "#0d0887"
            ],
            [
             0.1111111111111111,
             "#46039f"
            ],
            [
             0.2222222222222222,
             "#7201a8"
            ],
            [
             0.3333333333333333,
             "#9c179e"
            ],
            [
             0.4444444444444444,
             "#bd3786"
            ],
            [
             0.5555555555555556,
             "#d8576b"
            ],
            [
             0.6666666666666666,
             "#ed7953"
            ],
            [
             0.7777777777777778,
             "#fb9f3a"
            ],
            [
             0.8888888888888888,
             "#fdca26"
            ],
            [
             1,
             "#f0f921"
            ]
           ],
           "sequentialminus": [
            [
             0,
             "#0d0887"
            ],
            [
             0.1111111111111111,
             "#46039f"
            ],
            [
             0.2222222222222222,
             "#7201a8"
            ],
            [
             0.3333333333333333,
             "#9c179e"
            ],
            [
             0.4444444444444444,
             "#bd3786"
            ],
            [
             0.5555555555555556,
             "#d8576b"
            ],
            [
             0.6666666666666666,
             "#ed7953"
            ],
            [
             0.7777777777777778,
             "#fb9f3a"
            ],
            [
             0.8888888888888888,
             "#fdca26"
            ],
            [
             1,
             "#f0f921"
            ]
           ]
          },
          "colorway": [
           "#636efa",
           "#EF553B",
           "#00cc96",
           "#ab63fa",
           "#FFA15A",
           "#19d3f3",
           "#FF6692",
           "#B6E880",
           "#FF97FF",
           "#FECB52"
          ],
          "font": {
           "color": "#2a3f5f"
          },
          "geo": {
           "bgcolor": "white",
           "lakecolor": "white",
           "landcolor": "#E5ECF6",
           "showlakes": true,
           "showland": true,
           "subunitcolor": "white"
          },
          "hoverlabel": {
           "align": "left"
          },
          "hovermode": "closest",
          "mapbox": {
           "style": "light"
          },
          "paper_bgcolor": "white",
          "plot_bgcolor": "#E5ECF6",
          "polar": {
           "angularaxis": {
            "gridcolor": "white",
            "linecolor": "white",
            "ticks": ""
           },
           "bgcolor": "#E5ECF6",
           "radialaxis": {
            "gridcolor": "white",
            "linecolor": "white",
            "ticks": ""
           }
          },
          "scene": {
           "xaxis": {
            "backgroundcolor": "#E5ECF6",
            "gridcolor": "white",
            "gridwidth": 2,
            "linecolor": "white",
            "showbackground": true,
            "ticks": "",
            "zerolinecolor": "white"
           },
           "yaxis": {
            "backgroundcolor": "#E5ECF6",
            "gridcolor": "white",
            "gridwidth": 2,
            "linecolor": "white",
            "showbackground": true,
            "ticks": "",
            "zerolinecolor": "white"
           },
           "zaxis": {
            "backgroundcolor": "#E5ECF6",
            "gridcolor": "white",
            "gridwidth": 2,
            "linecolor": "white",
            "showbackground": true,
            "ticks": "",
            "zerolinecolor": "white"
           }
          },
          "shapedefaults": {
           "line": {
            "color": "#2a3f5f"
           }
          },
          "ternary": {
           "aaxis": {
            "gridcolor": "white",
            "linecolor": "white",
            "ticks": ""
           },
           "baxis": {
            "gridcolor": "white",
            "linecolor": "white",
            "ticks": ""
           },
           "bgcolor": "#E5ECF6",
           "caxis": {
            "gridcolor": "white",
            "linecolor": "white",
            "ticks": ""
           }
          },
          "title": {
           "x": 0.05
          },
          "xaxis": {
           "automargin": true,
           "gridcolor": "white",
           "linecolor": "white",
           "ticks": "",
           "title": {
            "standoff": 15
           },
           "zerolinecolor": "white",
           "zerolinewidth": 2
          },
          "yaxis": {
           "automargin": true,
           "gridcolor": "white",
           "linecolor": "white",
           "ticks": "",
           "title": {
            "standoff": 15
           },
           "zerolinecolor": "white",
           "zerolinewidth": 2
          }
         }
        },
        "title": {
         "text": "Predicted Sale Price vs. Actual Sale Price"
        },
        "xaxis": {
         "anchor": "y",
         "domain": [
          0,
          1
         ],
         "title": {
          "text": "Actual Sale Price"
         }
        },
        "yaxis": {
         "anchor": "x",
         "domain": [
          0,
          1
         ],
         "title": {
          "text": "Predicted Sale Price"
         }
        }
       }
      }
     },
     "metadata": {},
     "output_type": "display_data"
    },
    {
     "name": "stdout",
     "output_type": "stream",
     "text": [
      "Test set score: 0.8068200342578721\n"
     ]
    }
   ],
   "source": [
    "max_sample_df = rfr_result_df.groupby(\"max_sample\").mean().reset_index()\n",
    "\n",
    "final_rfr_mdl = RandomForestRegressor(min_samples_split=25, \n",
    "                                      max_samples=0.75,\n",
    "                                      n_estimators=200,\n",
    "                                      ccp_alpha=10000)\n",
    "final_rfr_mdl.fit(X_train, y_train)\n",
    "\n",
    "fig_5a = px.scatter(x=y_test, y=final_rfr_mdl.predict(X_test))\n",
    "\n",
    "fig_5a.update_xaxes(title_text=\"Actual Sale Price\")\n",
    "fig_5a.update_yaxes(title_text=\"Predicted Sale Price\")\n",
    "fig_5a.update_layout(title_text=\"Predicted Sale Price vs. Actual Sale Price\")\n",
    "fig_5a.show()\n",
    "\n",
    "print(f\"Test set score: {final_rfr_mdl.score(X_test, y_test)}\")"
   ]
  },
  {
   "cell_type": "code",
   "execution_count": 282,
   "metadata": {},
   "outputs": [
    {
     "name": "stdout",
     "output_type": "stream",
     "text": [
      "1\n",
      "2\n",
      "3\n",
      "4\n",
      "5\n",
      "6\n",
      "7\n",
      "8\n",
      "9\n",
      "10\n"
     ]
    },
    {
     "data": {
      "text/html": [
       "<div>\n",
       "<style scoped>\n",
       "    .dataframe tbody tr th:only-of-type {\n",
       "        vertical-align: middle;\n",
       "    }\n",
       "\n",
       "    .dataframe tbody tr th {\n",
       "        vertical-align: top;\n",
       "    }\n",
       "\n",
       "    .dataframe thead th {\n",
       "        text-align: right;\n",
       "    }\n",
       "</style>\n",
       "<table border=\"1\" class=\"dataframe\">\n",
       "  <thead>\n",
       "    <tr style=\"text-align: right;\">\n",
       "      <th></th>\n",
       "      <th>max_depth</th>\n",
       "      <th>min_split</th>\n",
       "      <th>score</th>\n",
       "    </tr>\n",
       "  </thead>\n",
       "  <tbody>\n",
       "    <tr>\n",
       "      <th>0</th>\n",
       "      <td>5</td>\n",
       "      <td>11</td>\n",
       "      <td>0.737433</td>\n",
       "    </tr>\n",
       "    <tr>\n",
       "      <th>1</th>\n",
       "      <td>5</td>\n",
       "      <td>17</td>\n",
       "      <td>0.734476</td>\n",
       "    </tr>\n",
       "    <tr>\n",
       "      <th>2</th>\n",
       "      <td>4</td>\n",
       "      <td>5</td>\n",
       "      <td>0.734187</td>\n",
       "    </tr>\n",
       "    <tr>\n",
       "      <th>3</th>\n",
       "      <td>5</td>\n",
       "      <td>20</td>\n",
       "      <td>0.731060</td>\n",
       "    </tr>\n",
       "    <tr>\n",
       "      <th>4</th>\n",
       "      <td>4</td>\n",
       "      <td>35</td>\n",
       "      <td>0.729722</td>\n",
       "    </tr>\n",
       "    <tr>\n",
       "      <th>...</th>\n",
       "      <td>...</td>\n",
       "      <td>...</td>\n",
       "      <td>...</td>\n",
       "    </tr>\n",
       "    <tr>\n",
       "      <th>105</th>\n",
       "      <td>8</td>\n",
       "      <td>11</td>\n",
       "      <td>0.697120</td>\n",
       "    </tr>\n",
       "    <tr>\n",
       "      <th>106</th>\n",
       "      <td>8</td>\n",
       "      <td>29</td>\n",
       "      <td>0.692223</td>\n",
       "    </tr>\n",
       "    <tr>\n",
       "      <th>107</th>\n",
       "      <td>9</td>\n",
       "      <td>8</td>\n",
       "      <td>0.688742</td>\n",
       "    </tr>\n",
       "    <tr>\n",
       "      <th>108</th>\n",
       "      <td>9</td>\n",
       "      <td>5</td>\n",
       "      <td>0.683167</td>\n",
       "    </tr>\n",
       "    <tr>\n",
       "      <th>109</th>\n",
       "      <td>10</td>\n",
       "      <td>5</td>\n",
       "      <td>0.677278</td>\n",
       "    </tr>\n",
       "  </tbody>\n",
       "</table>\n",
       "<p>110 rows × 3 columns</p>\n",
       "</div>"
      ],
      "text/plain": [
       "     max_depth  min_split     score\n",
       "0            5         11  0.737433\n",
       "1            5         17  0.734476\n",
       "2            4          5  0.734187\n",
       "3            5         20  0.731060\n",
       "4            4         35  0.729722\n",
       "..         ...        ...       ...\n",
       "105          8         11  0.697120\n",
       "106          8         29  0.692223\n",
       "107          9          8  0.688742\n",
       "108          9          5  0.683167\n",
       "109         10          5  0.677278\n",
       "\n",
       "[110 rows x 3 columns]"
      ]
     },
     "execution_count": 282,
     "metadata": {},
     "output_type": "execute_result"
    }
   ],
   "source": [
    "##### Gradient Boost Regressor\n",
    "gbr_max_depth = []\n",
    "gbr_min_split = []\n",
    "gbr_scores = []\n",
    "\n",
    "for val in range(1,11):\n",
    "\n",
    "    for val2 in range(5,38,3):\n",
    "\n",
    "        gbr_params = {\n",
    "            \"n_estimators\": 500,\n",
    "            \"max_depth\": val,\n",
    "            \"min_samples_split\": val2,\n",
    "            \"learning_rate\": 0.2,\n",
    "            \"loss\": \"squared_error\",\n",
    "            \"ccp_alpha\": 100\n",
    "        }\n",
    "\n",
    "        gbr_reg_mdl = GradientBoostingRegressor(**gbr_params)\n",
    "\n",
    "        gbr_score = cross_val_score(gbr_reg_mdl, X=X_train, y=y_train, cv=10)\n",
    "\n",
    "        gbr_max_depth.append(val)\n",
    "        gbr_min_split.append(val2)\n",
    "        gbr_scores.append(gbr_score.mean())\n",
    "\n",
    "    print(val)\n",
    "\n",
    "\n",
    "gbr_reg_df = pd.DataFrame(list(zip(gbr_max_depth, gbr_min_split, gbr_scores)), \n",
    "                          columns=[\"max_depth\", \"min_split\", \"score\"])\n",
    "gbr_reg_df = gbr_reg_df.sort_values(\"score\", ascending=False).reset_index(drop=True)\n",
    "\n",
    "gbr_reg_df"
   ]
  },
  {
   "cell_type": "code",
   "execution_count": 283,
   "metadata": {},
   "outputs": [
    {
     "data": {
      "application/vnd.plotly.v1+json": {
       "config": {
        "plotlyServerURL": "https://plot.ly"
       },
       "data": [
        {
         "hovertemplate": "x=%{x}<br>y=%{y}<extra></extra>",
         "legendgroup": "",
         "marker": {
          "color": "#636efa",
          "symbol": "circle"
         },
         "mode": "markers",
         "name": "",
         "orientation": "v",
         "showlegend": false,
         "type": "scatter",
         "x": [
          189950,
          180000,
          136500,
          160000,
          135000,
          240000,
          100000,
          169900,
          119500,
          240000,
          148000,
          305900,
          140000,
          110000,
          179200,
          99500,
          125000,
          61000,
          143000,
          140000,
          402000,
          93000,
          235000,
          248328,
          200624,
          380000,
          119000,
          132000,
          136500,
          112000,
          137500,
          81000,
          123000,
          157500,
          109500,
          179665,
          501837,
          190000,
          230000,
          149000,
          276000,
          170000,
          60000,
          132000,
          193879,
          104900,
          152000,
          194201,
          171000,
          200000,
          110000,
          152000,
          173000,
          485000,
          120000,
          135500,
          133900,
          245500,
          226000,
          181900,
          112000,
          108500,
          167500,
          410000,
          177500,
          199900,
          150900,
          310000,
          55993,
          369900,
          231500,
          156000,
          134800,
          140000,
          119900,
          196000,
          172000,
          244000,
          161750,
          132000,
          130500,
          180500,
          302000,
          202500,
          228000,
          140000,
          125000,
          174900,
          278000,
          165500,
          131500,
          212000,
          215000,
          466500,
          136000,
          130000,
          168000,
          225000,
          345000,
          138000,
          160000,
          52000,
          82500,
          165000,
          178400,
          177000,
          208900,
          119000,
          311872,
          164500,
          229456,
          240000,
          181000,
          242000,
          135000,
          131500,
          146000,
          210000,
          145000,
          179000,
          180000,
          161500,
          157000,
          155000,
          239000,
          126000,
          168000,
          226000,
          157900,
          118000,
          185000,
          383970,
          175000,
          187500,
          187500,
          290000,
          173733,
          315000,
          176000,
          313000,
          129900,
          194000,
          108000,
          234000,
          113000,
          286000,
          244600,
          315000,
          103000,
          68500,
          252000,
          128000,
          87000,
          122500,
          107900,
          236000,
          160000,
          106250,
          212000,
          124500,
          101800,
          175000,
          129500,
          131400,
          128000,
          187000,
          215000,
          100000,
          372500,
          318000,
          394432,
          137000,
          259500,
          142500,
          277500,
          76000,
          253293,
          170000,
          185000,
          227680,
          290000,
          173500,
          140000,
          124000,
          184000,
          145000,
          165000,
          96500,
          246578,
          156000,
          187750,
          465000,
          138500,
          230000,
          93500,
          114500,
          315000,
          232000,
          128950,
          175000,
          129000,
          115000,
          151000,
          174000,
          266000,
          180000,
          190000,
          91500,
          221500,
          424870,
          97500,
          115000,
          120500,
          287000,
          113000,
          158000,
          125000,
          110000,
          173000,
          340000,
          214000,
          115000,
          185850,
          274000,
          126175,
          112000,
          233230,
          204900,
          205000,
          113000,
          216000,
          215000,
          167500,
          207000,
          86000,
          90000,
          80000,
          97000,
          335000,
          375000,
          187500,
          250000,
          108000,
          184750,
          217500,
          206000,
          149900,
          230000,
          275000,
          181000,
          162000,
          175500,
          140000,
          240000,
          266000,
          187100,
          34900,
          126000,
          110000,
          145000,
          150000,
          163500,
          147000,
          336000,
          237500,
          188000,
          222000,
          87500,
          266500,
          75500,
          117000,
          160000,
          127000,
          306000,
          107500,
          132000,
          172400,
          67000,
          235000,
          153575,
          149500,
          239000,
          234000,
          88000,
          270000,
          197900,
          91000,
          196500,
          119200,
          115000,
          129500,
          272000,
          87000,
          348000,
          129500,
          139000,
          143000,
          324000,
          130000,
          625000,
          215200,
          154000,
          385000,
          158500,
          135500,
          392500,
          287000,
          88000,
          210000,
          134500,
          176432,
          193000,
          315750,
          204000,
          215000,
          176000,
          128500,
          262500,
          159434,
          244400,
          196500,
          185000,
          120500,
          84900,
          58500,
          171750,
          181000,
          132500,
          187500,
          205000,
          250000,
          190000,
          109000,
          129900,
          162900,
          191000,
          184900,
          97000,
          263435,
          167000,
          260000,
          173000,
          89500,
          197500,
          213500,
          85000,
          159500,
          151000,
          215000,
          92000,
          118000,
          159000,
          167000,
          275000,
          155000,
          154000,
          86000,
          135000,
          145000,
          204750,
          212900,
          140000,
          200000,
          72500,
          126000,
          79000,
          105500,
          272000,
          73000,
          106500,
          141000,
          135000,
          224900,
          165150,
          360000,
          125000,
          201000,
          103600,
          179900,
          184000,
          167000,
          124000,
          128000,
          260000,
          35311,
          415298,
          179900,
          173900,
          403000,
          135000,
          175500,
          37900,
          202900,
          123000,
          135000,
          143500,
          136000,
          193500,
          109008,
          200000,
          135000,
          125500,
          143000,
          268000,
          100000,
          142000,
          147000,
          67000,
          162000,
          227000,
          235000,
          209500,
          92900,
          140000,
          85000,
          109500,
          178000,
          294000,
          136905,
          185000,
          134000,
          194700,
          281213,
          185000,
          201000,
          170000,
          106000,
          255500,
          181000,
          437154,
          178000,
          139950,
          105000,
          446261,
          207000,
          95000,
          100000,
          134000,
          127500,
          100000,
          140000,
          139000,
          125500,
          200000,
          185000,
          175000,
          146500,
          194000,
          121000,
          174500,
          165000,
          278000,
          159000,
          245000,
          212000,
          268000,
          148000,
          141000,
          163990,
          188000,
          55000,
          183000,
          173000,
          184000,
          55000,
          130000,
          137450,
          144000,
          335000,
          250580,
          224900,
          115000,
          260400,
          205000,
          143000,
          169000,
          164700,
          231500,
          143500,
          129000,
          173000,
          213000,
          195000,
          110000,
          129000,
          100000,
          89000,
          158000,
          128200,
          124000,
          250000,
          128000,
          290000,
          153337,
          110000,
          206900,
          154500,
          130000,
          253000,
          139000,
          66500,
          335000,
          136000,
          119500,
          98000,
          145000,
          220000,
          179500,
          125500,
          105000,
          156932,
          176000,
          157900,
          255900,
          267000,
          144152,
          190000,
          135000,
          139000,
          176000,
          333168,
          237000,
          158900,
          277000,
          84500,
          149000,
          260000,
          134432,
          213000,
          133000,
          208500,
          241000,
          168000,
          180000,
          159000,
          144000,
          144000,
          114504,
          249700,
          262280,
          145000,
          131000,
          191000,
          178900,
          79900,
          132250,
          110000,
          105000,
          263000,
          39300,
          293077,
          136500,
          239799,
          244000,
          232600,
          239000,
          119000,
          103200,
          93000,
          213250,
          144000,
          236500,
          85500,
          229000,
          121500,
          155000,
          228950,
          117000,
          402861,
          170000,
          261500,
          328000,
          325000,
          283463,
          176000,
          172500,
          157500,
          193000,
          325300,
          147000,
          144000,
          163000,
          164000,
          79900
         ],
         "xaxis": "x",
         "y": [
          137520.9139496569,
          165336.43158971288,
          143436.5755849693,
          170184.23140341527,
          182012.6367283167,
          211216.79488012698,
          103016.01409084769,
          133625.26374879744,
          106978.3840618492,
          250531.6051627506,
          145214.7036636019,
          386584.1878274142,
          119686.66463298544,
          121953.4180897162,
          226928.9467671572,
          149701.44096571027,
          125373.4927186521,
          89684.49943639192,
          142144.3442647291,
          141594.73910729573,
          375026.4725390251,
          115698.87053937324,
          253112.1184567339,
          262260.17422486073,
          262553.0920143169,
          504294.9755467569,
          122769.55399522716,
          111622.53824818737,
          150626.94965624815,
          101045.5677453619,
          124489.55937047613,
          119573.806893479,
          137069.10217245552,
          154963.5495055154,
          105069.34894498222,
          178365.05688315516,
          447812.32411335583,
          182040.80378016332,
          256926.199818094,
          145096.85960417,
          398827.42336490424,
          176352.20714282294,
          77511.1937333063,
          134749.17137493842,
          203815.67099605288,
          162327.90681103553,
          161693.041474213,
          182690.66637169212,
          163058.92907096352,
          186533.240349849,
          128246.67027302431,
          151015.353749162,
          178121.8289707577,
          598655.8212095909,
          132559.2317424098,
          122087.89341351598,
          119927.9941949291,
          183149.63828455258,
          211344.3147149225,
          162240.40544391304,
          117813.07408366559,
          107344.33044756568,
          161759.61048769933,
          448647.597638628,
          171869.27169022735,
          204716.4069303886,
          201275.0977842957,
          305690.5940351562,
          105042.87889996672,
          357405.67667957,
          201257.4928967076,
          146685.16066026897,
          121821.7284226299,
          140108.2820931237,
          121745.5207925191,
          171508.44185848694,
          185508.92941908824,
          211832.2015624991,
          137587.19940350938,
          108655.63182737134,
          107554.30857102346,
          149810.32497441748,
          296924.4630337315,
          179330.28186094607,
          275092.84561554424,
          158346.57630431172,
          133041.5387432157,
          163760.66270675574,
          297203.4802701656,
          154607.74629248353,
          125382.19041138222,
          202308.48327530295,
          219451.60611191258,
          540489.787892468,
          120182.04056208377,
          137120.6830249146,
          172445.779242907,
          139557.7863487305,
          255648.14412038395,
          155561.11627469218,
          110155.25248273165,
          90478.50048143294,
          71858.79061249606,
          157862.4671513222,
          151783.84611037048,
          172148.5862145226,
          222945.41449266716,
          107845.5296387873,
          313256.65357421816,
          153780.28111687722,
          218043.66775886662,
          236380.33209408587,
          145974.76386076913,
          337131.1073568955,
          98974.33028219774,
          145524.29112716802,
          145960.51187516676,
          147888.55490008128,
          127026.03275302744,
          194640.71572854684,
          184438.32323184176,
          156745.4747536918,
          146845.2901771304,
          119776.08855834464,
          296386.3712630463,
          124643.29262560273,
          196204.43779901203,
          223586.8684553975,
          148369.53243379423,
          115414.15444601544,
          187624.76860464478,
          338250.1274604597,
          174335.6696794922,
          149967.88897530152,
          181156.4857450881,
          232039.40061348857,
          153780.28111687722,
          344449.14827250363,
          165458.72152629803,
          286240.9035001326,
          142381.1350993888,
          183094.6530830723,
          130353.8941888367,
          180986.05929011654,
          136347.97158100683,
          224214.35049912275,
          191157.84239156244,
          381527.0774285441,
          111875.03422222953,
          72140.01011902446,
          292597.2454131683,
          148850.48450540204,
          68868.00395730816,
          116574.58137583507,
          124087.55732355341,
          232435.61303455808,
          201196.88639327988,
          81269.239360555,
          214670.88038914875,
          125698.10592019418,
          102513.63961900066,
          201239.90127166687,
          119942.78147057063,
          122767.96435578965,
          135580.09014763116,
          200852.089403339,
          235180.9696111992,
          110355.07585050525,
          389283.48093046766,
          245126.71651909017,
          355503.6659987518,
          149345.89701316887,
          232685.28350123396,
          147225.43505470382,
          243157.57182807627,
          103422.49551765801,
          379939.1445911682,
          152594.8699452859,
          195825.64472017717,
          274781.494414998,
          314301.6173549163,
          178410.6812541077,
          142787.89618082554,
          119211.20093268792,
          145366.95715218375,
          146392.61962301726,
          140199.14362448707,
          102609.36575871827,
          235954.72458943614,
          127671.45047847534,
          196768.97726450008,
          398421.68679646944,
          155229.573248356,
          206782.10849362248,
          106721.50450379611,
          121909.68594834121,
          273774.2829763027,
          228315.38671904278,
          98111.01874706187,
          181902.60926953642,
          106980.11163574095,
          102922.61481285024,
          137717.05029745965,
          172485.66187538544,
          307887.80794698244,
          187901.7736282667,
          242222.322299662,
          145744.78730519998,
          274050.04166455433,
          506476.2326070947,
          144807.8449450232,
          151155.0065225302,
          120709.79563770586,
          276959.087049704,
          152465.23414227462,
          129781.41085265556,
          130957.84503017472,
          137420.777720076,
          192116.9387736776,
          357501.1625635087,
          249251.6107378522,
          118357.56169083244,
          202830.254143852,
          236326.36461338575,
          152843.90467275222,
          107679.29803065443,
          296610.9747921803,
          246563.4733740802,
          256127.31360159008,
          118012.78838677904,
          209514.05506270519,
          208636.44582840856,
          148024.31770912124,
          201287.5353381514,
          69447.91850019828,
          150261.1002618825,
          110510.63987297984,
          127164.37716103907,
          251840.82691543133,
          186576.2955870391,
          220781.95340124413,
          231467.27548605003,
          158474.25861864918,
          711400.3336558718,
          190137.57857768884,
          198959.7091581686,
          173691.97211868773,
          221683.32731913717,
          276608.11935759685,
          184198.59528554673,
          129097.09250186611,
          143234.42724090136,
          155144.3708296121,
          332359.1775110395,
          271715.6266471209,
          208191.79398962873,
          82549.50428020096,
          141327.43442981242,
          113913.60514435997,
          127586.15877005002,
          146454.61279474982,
          142289.5547645966,
          139019.50654506937,
          286479.3820223616,
          247894.1580687215,
          211894.91756336563,
          216959.94924124682,
          97635.54570303982,
          274146.6938631923,
          88441.29100025729,
          126752.19908243095,
          162680.05371527973,
          112360.94457280237,
          339781.4922302766,
          139075.22039121858,
          139627.16734104254,
          178547.52026232146,
          87876.01726065225,
          230924.3064695556,
          147614.53102924928,
          163693.4682475105,
          194120.7578465348,
          193950.862431435,
          82786.00415882948,
          326476.25926235307,
          166413.7855308093,
          89302.91621059412,
          186161.90306747684,
          116512.85960717915,
          125761.31740962173,
          108263.11495579938,
          242379.31902053484,
          116151.61821214035,
          299109.06277547975,
          136689.46720073122,
          152248.83553742155,
          135848.81326144698,
          248374.00447870448,
          117436.69316438313,
          599476.7415771962,
          185446.08573431493,
          151083.59358377272,
          148786.6897143665,
          145862.23910147842,
          131150.9460431205,
          286160.4192938342,
          293230.65916977305,
          88803.22407785065,
          178861.32841478928,
          119592.07416348484,
          184796.8664371724,
          232813.06963289427,
          305565.4367831074,
          230177.62501618292,
          220337.04654889315,
          175381.67302356518,
          126880.49733121952,
          265667.85975488496,
          165077.39536029604,
          148964.6572594303,
          188291.99094021705,
          174856.2296526721,
          112152.12766828499,
          90759.51666201561,
          95068.31157625219,
          164805.99552446423,
          186472.02545690144,
          106615.48840119969,
          172417.79296526135,
          143783.02448660837,
          179377.9036589805,
          228345.12225958743,
          131297.09035313877,
          165902.36716273648,
          143228.6031020654,
          188517.20713584582,
          179447.9727436905,
          99596.3314899052,
          249799.2732116714,
          218008.60251616253,
          266971.6383601269,
          158976.84088435306,
          86570.30798066148,
          169437.9635259799,
          205170.30876237006,
          89793.75044308412,
          292559.9706404674,
          139902.2637384632,
          188920.6558456273,
          79179.90711067674,
          132591.85363283948,
          148925.3594915188,
          100085.53438132003,
          247233.60492383753,
          157765.41896670996,
          159635.54143005618,
          112713.26618631092,
          117163.51667665386,
          170857.09550734132,
          247359.72252037906,
          245945.68895475153,
          133697.9515993557,
          188427.00227905193,
          87120.54610872263,
          102338.21434661633,
          118417.30106487403,
          102657.76240246127,
          206635.85875252596,
          120861.54741656261,
          94789.14352278491,
          137524.0137047749,
          131933.62771399828,
          251016.0008668411,
          158159.21828745943,
          343672.22741397825,
          138381.65910143373,
          228410.71965747862,
          126336.37112477301,
          185753.66833918387,
          226744.6962989608,
          199180.84040454845,
          135517.31236511,
          113868.88273143173,
          167113.64874496803,
          101599.32096035626,
          417301.5404761594,
          149557.3908025124,
          183388.5078351901,
          382121.22531869856,
          127107.90148136992,
          186583.78469473845,
          62142.722885214134,
          218765.31737205,
          120324.10296081367,
          138333.81083364255,
          144519.0467302612,
          145993.91979608737,
          229520.59840399,
          125882.19000006032,
          203345.98885889558,
          144103.3793746922,
          105591.5877433086,
          147098.31790024685,
          248893.7207282951,
          126695.3794420561,
          155883.27269473154,
          135914.5736489611,
          106987.46574464338,
          160490.68175416358,
          208987.0117118945,
          207417.2372483251,
          229588.8110580753,
          100278.32528490548,
          147419.82241906103,
          106560.83110091997,
          131561.77186958736,
          156847.13881019392,
          211518.56803107375,
          205450.89126820918,
          181093.43564788142,
          139485.39395647502,
          201602.4451983336,
          305260.5280216905,
          119699.06855591275,
          199666.41623982508,
          191578.59139507543,
          138448.4635210592,
          329105.33256811934,
          188339.940414351,
          496000.8178387072,
          168383.9258708836,
          135093.1443593642,
          118079.43171745076,
          398898.0484027126,
          169977.5315531078,
          99251.45517236472,
          102963.47229423461,
          146597.69158090607,
          121943.69254499616,
          116091.50232658093,
          170919.73194220426,
          137041.06216634435,
          103860.98280682355,
          263024.50451724,
          159389.61380099828,
          158814.49519557258,
          172869.8705734512,
          199644.0224764774,
          112156.60475305347,
          149472.5958291795,
          159140.23596098213,
          254832.31602539113,
          180496.73253502158,
          258106.88797212264,
          220185.64481925475,
          224284.37254961807,
          170268.9377429607,
          145808.72541141155,
          162751.7166908415,
          194656.85065994333,
          73146.18385704393,
          181312.79045118438,
          155971.9359133405,
          153200.5142347274,
          98845.29262204177,
          127912.85107207784,
          145964.26772416267,
          140586.56453988518,
          309844.94116359524,
          211475.1867765184,
          200746.01087196526,
          132382.95523478903,
          265434.66095424234,
          233912.32877398466,
          173568.18268689737,
          159115.62651728082,
          153195.14015688022,
          212426.8282273098,
          163317.1247962045,
          133157.18063590216,
          180733.8450523198,
          192002.2101162291,
          193048.86724451766,
          114827.25221074703,
          152584.4249346094,
          126938.51150246101,
          83755.97123045212,
          189184.0914251698,
          140808.3402537931,
          118548.68318409077,
          260147.77215489597,
          119503.00350978732,
          317317.87834502093,
          155749.6738019244,
          106468.92917635647,
          189562.23476353948,
          142718.2968397912,
          140860.35845836,
          286626.48743124324,
          113867.90692739397,
          110157.68380115379,
          224793.94431723835,
          140869.01823444074,
          146092.07977829967,
          108982.92089058559,
          217364.42564901314,
          176988.82941058968,
          225629.5383828217,
          124194.64102689744,
          116490.10094135112,
          156535.4005088041,
          184391.90672969876,
          159766.0705576052,
          275910.56412342325,
          294892.1277113583,
          137717.05029745965,
          210113.12658410813,
          141317.8629218881,
          141044.16841597407,
          186006.78455628318,
          303344.59882006864,
          223637.10390266677,
          148030.39020527454,
          278824.86767193,
          88963.7675833514,
          129738.7913130762,
          288073.9612177978,
          123788.52690608178,
          247319.6544976678,
          109659.61759001244,
          186956.08819627037,
          188708.4469371454,
          164287.2732673363,
          174745.28113113,
          165048.82867387825,
          139821.2778225537,
          153731.44074262452,
          118517.96455696899,
          245857.23251961768,
          292236.31736423756,
          134698.99706948537,
          142778.56567383173,
          191460.93226614306,
          171578.89636737993,
          108202.66640045561,
          124132.03070381349,
          107598.84290408755,
          100582.46849581075,
          258127.71174948715,
          67834.91665885026,
          262176.9801953647,
          97229.92332732622,
          297254.0666598999,
          214672.16956471262,
          250860.94274861185,
          161181.14010959756,
          127857.15757091936,
          105577.94558903408,
          144947.28499836934,
          245033.1813143768,
          197911.37967203028,
          274966.35591879615,
          74321.44610218318,
          215185.66229900037,
          162855.2897363571,
          160864.93331312807,
          166827.9093688951,
          112660.96381378961,
          412858.6190848999,
          149059.5223866116,
          202114.83604642877,
          220016.14634014285,
          288695.0315551369,
          305339.26084801165,
          177366.92357015877,
          200996.52879952537,
          175323.0793869833,
          170473.1203112404,
          336924.47880629543,
          142260.39751990314,
          149351.97203923643,
          163309.1232226149,
          153374.06369998583,
          72282.50729570135
         ],
         "yaxis": "y"
        }
       ],
       "layout": {
        "legend": {
         "tracegroupgap": 0
        },
        "margin": {
         "t": 60
        },
        "template": {
         "data": {
          "bar": [
           {
            "error_x": {
             "color": "#2a3f5f"
            },
            "error_y": {
             "color": "#2a3f5f"
            },
            "marker": {
             "line": {
              "color": "#E5ECF6",
              "width": 0.5
             },
             "pattern": {
              "fillmode": "overlay",
              "size": 10,
              "solidity": 0.2
             }
            },
            "type": "bar"
           }
          ],
          "barpolar": [
           {
            "marker": {
             "line": {
              "color": "#E5ECF6",
              "width": 0.5
             },
             "pattern": {
              "fillmode": "overlay",
              "size": 10,
              "solidity": 0.2
             }
            },
            "type": "barpolar"
           }
          ],
          "carpet": [
           {
            "aaxis": {
             "endlinecolor": "#2a3f5f",
             "gridcolor": "white",
             "linecolor": "white",
             "minorgridcolor": "white",
             "startlinecolor": "#2a3f5f"
            },
            "baxis": {
             "endlinecolor": "#2a3f5f",
             "gridcolor": "white",
             "linecolor": "white",
             "minorgridcolor": "white",
             "startlinecolor": "#2a3f5f"
            },
            "type": "carpet"
           }
          ],
          "choropleth": [
           {
            "colorbar": {
             "outlinewidth": 0,
             "ticks": ""
            },
            "type": "choropleth"
           }
          ],
          "contour": [
           {
            "colorbar": {
             "outlinewidth": 0,
             "ticks": ""
            },
            "colorscale": [
             [
              0,
              "#0d0887"
             ],
             [
              0.1111111111111111,
              "#46039f"
             ],
             [
              0.2222222222222222,
              "#7201a8"
             ],
             [
              0.3333333333333333,
              "#9c179e"
             ],
             [
              0.4444444444444444,
              "#bd3786"
             ],
             [
              0.5555555555555556,
              "#d8576b"
             ],
             [
              0.6666666666666666,
              "#ed7953"
             ],
             [
              0.7777777777777778,
              "#fb9f3a"
             ],
             [
              0.8888888888888888,
              "#fdca26"
             ],
             [
              1,
              "#f0f921"
             ]
            ],
            "type": "contour"
           }
          ],
          "contourcarpet": [
           {
            "colorbar": {
             "outlinewidth": 0,
             "ticks": ""
            },
            "type": "contourcarpet"
           }
          ],
          "heatmap": [
           {
            "colorbar": {
             "outlinewidth": 0,
             "ticks": ""
            },
            "colorscale": [
             [
              0,
              "#0d0887"
             ],
             [
              0.1111111111111111,
              "#46039f"
             ],
             [
              0.2222222222222222,
              "#7201a8"
             ],
             [
              0.3333333333333333,
              "#9c179e"
             ],
             [
              0.4444444444444444,
              "#bd3786"
             ],
             [
              0.5555555555555556,
              "#d8576b"
             ],
             [
              0.6666666666666666,
              "#ed7953"
             ],
             [
              0.7777777777777778,
              "#fb9f3a"
             ],
             [
              0.8888888888888888,
              "#fdca26"
             ],
             [
              1,
              "#f0f921"
             ]
            ],
            "type": "heatmap"
           }
          ],
          "heatmapgl": [
           {
            "colorbar": {
             "outlinewidth": 0,
             "ticks": ""
            },
            "colorscale": [
             [
              0,
              "#0d0887"
             ],
             [
              0.1111111111111111,
              "#46039f"
             ],
             [
              0.2222222222222222,
              "#7201a8"
             ],
             [
              0.3333333333333333,
              "#9c179e"
             ],
             [
              0.4444444444444444,
              "#bd3786"
             ],
             [
              0.5555555555555556,
              "#d8576b"
             ],
             [
              0.6666666666666666,
              "#ed7953"
             ],
             [
              0.7777777777777778,
              "#fb9f3a"
             ],
             [
              0.8888888888888888,
              "#fdca26"
             ],
             [
              1,
              "#f0f921"
             ]
            ],
            "type": "heatmapgl"
           }
          ],
          "histogram": [
           {
            "marker": {
             "pattern": {
              "fillmode": "overlay",
              "size": 10,
              "solidity": 0.2
             }
            },
            "type": "histogram"
           }
          ],
          "histogram2d": [
           {
            "colorbar": {
             "outlinewidth": 0,
             "ticks": ""
            },
            "colorscale": [
             [
              0,
              "#0d0887"
             ],
             [
              0.1111111111111111,
              "#46039f"
             ],
             [
              0.2222222222222222,
              "#7201a8"
             ],
             [
              0.3333333333333333,
              "#9c179e"
             ],
             [
              0.4444444444444444,
              "#bd3786"
             ],
             [
              0.5555555555555556,
              "#d8576b"
             ],
             [
              0.6666666666666666,
              "#ed7953"
             ],
             [
              0.7777777777777778,
              "#fb9f3a"
             ],
             [
              0.8888888888888888,
              "#fdca26"
             ],
             [
              1,
              "#f0f921"
             ]
            ],
            "type": "histogram2d"
           }
          ],
          "histogram2dcontour": [
           {
            "colorbar": {
             "outlinewidth": 0,
             "ticks": ""
            },
            "colorscale": [
             [
              0,
              "#0d0887"
             ],
             [
              0.1111111111111111,
              "#46039f"
             ],
             [
              0.2222222222222222,
              "#7201a8"
             ],
             [
              0.3333333333333333,
              "#9c179e"
             ],
             [
              0.4444444444444444,
              "#bd3786"
             ],
             [
              0.5555555555555556,
              "#d8576b"
             ],
             [
              0.6666666666666666,
              "#ed7953"
             ],
             [
              0.7777777777777778,
              "#fb9f3a"
             ],
             [
              0.8888888888888888,
              "#fdca26"
             ],
             [
              1,
              "#f0f921"
             ]
            ],
            "type": "histogram2dcontour"
           }
          ],
          "mesh3d": [
           {
            "colorbar": {
             "outlinewidth": 0,
             "ticks": ""
            },
            "type": "mesh3d"
           }
          ],
          "parcoords": [
           {
            "line": {
             "colorbar": {
              "outlinewidth": 0,
              "ticks": ""
             }
            },
            "type": "parcoords"
           }
          ],
          "pie": [
           {
            "automargin": true,
            "type": "pie"
           }
          ],
          "scatter": [
           {
            "fillpattern": {
             "fillmode": "overlay",
             "size": 10,
             "solidity": 0.2
            },
            "type": "scatter"
           }
          ],
          "scatter3d": [
           {
            "line": {
             "colorbar": {
              "outlinewidth": 0,
              "ticks": ""
             }
            },
            "marker": {
             "colorbar": {
              "outlinewidth": 0,
              "ticks": ""
             }
            },
            "type": "scatter3d"
           }
          ],
          "scattercarpet": [
           {
            "marker": {
             "colorbar": {
              "outlinewidth": 0,
              "ticks": ""
             }
            },
            "type": "scattercarpet"
           }
          ],
          "scattergeo": [
           {
            "marker": {
             "colorbar": {
              "outlinewidth": 0,
              "ticks": ""
             }
            },
            "type": "scattergeo"
           }
          ],
          "scattergl": [
           {
            "marker": {
             "colorbar": {
              "outlinewidth": 0,
              "ticks": ""
             }
            },
            "type": "scattergl"
           }
          ],
          "scattermapbox": [
           {
            "marker": {
             "colorbar": {
              "outlinewidth": 0,
              "ticks": ""
             }
            },
            "type": "scattermapbox"
           }
          ],
          "scatterpolar": [
           {
            "marker": {
             "colorbar": {
              "outlinewidth": 0,
              "ticks": ""
             }
            },
            "type": "scatterpolar"
           }
          ],
          "scatterpolargl": [
           {
            "marker": {
             "colorbar": {
              "outlinewidth": 0,
              "ticks": ""
             }
            },
            "type": "scatterpolargl"
           }
          ],
          "scatterternary": [
           {
            "marker": {
             "colorbar": {
              "outlinewidth": 0,
              "ticks": ""
             }
            },
            "type": "scatterternary"
           }
          ],
          "surface": [
           {
            "colorbar": {
             "outlinewidth": 0,
             "ticks": ""
            },
            "colorscale": [
             [
              0,
              "#0d0887"
             ],
             [
              0.1111111111111111,
              "#46039f"
             ],
             [
              0.2222222222222222,
              "#7201a8"
             ],
             [
              0.3333333333333333,
              "#9c179e"
             ],
             [
              0.4444444444444444,
              "#bd3786"
             ],
             [
              0.5555555555555556,
              "#d8576b"
             ],
             [
              0.6666666666666666,
              "#ed7953"
             ],
             [
              0.7777777777777778,
              "#fb9f3a"
             ],
             [
              0.8888888888888888,
              "#fdca26"
             ],
             [
              1,
              "#f0f921"
             ]
            ],
            "type": "surface"
           }
          ],
          "table": [
           {
            "cells": {
             "fill": {
              "color": "#EBF0F8"
             },
             "line": {
              "color": "white"
             }
            },
            "header": {
             "fill": {
              "color": "#C8D4E3"
             },
             "line": {
              "color": "white"
             }
            },
            "type": "table"
           }
          ]
         },
         "layout": {
          "annotationdefaults": {
           "arrowcolor": "#2a3f5f",
           "arrowhead": 0,
           "arrowwidth": 1
          },
          "autotypenumbers": "strict",
          "coloraxis": {
           "colorbar": {
            "outlinewidth": 0,
            "ticks": ""
           }
          },
          "colorscale": {
           "diverging": [
            [
             0,
             "#8e0152"
            ],
            [
             0.1,
             "#c51b7d"
            ],
            [
             0.2,
             "#de77ae"
            ],
            [
             0.3,
             "#f1b6da"
            ],
            [
             0.4,
             "#fde0ef"
            ],
            [
             0.5,
             "#f7f7f7"
            ],
            [
             0.6,
             "#e6f5d0"
            ],
            [
             0.7,
             "#b8e186"
            ],
            [
             0.8,
             "#7fbc41"
            ],
            [
             0.9,
             "#4d9221"
            ],
            [
             1,
             "#276419"
            ]
           ],
           "sequential": [
            [
             0,
             "#0d0887"
            ],
            [
             0.1111111111111111,
             "#46039f"
            ],
            [
             0.2222222222222222,
             "#7201a8"
            ],
            [
             0.3333333333333333,
             "#9c179e"
            ],
            [
             0.4444444444444444,
             "#bd3786"
            ],
            [
             0.5555555555555556,
             "#d8576b"
            ],
            [
             0.6666666666666666,
             "#ed7953"
            ],
            [
             0.7777777777777778,
             "#fb9f3a"
            ],
            [
             0.8888888888888888,
             "#fdca26"
            ],
            [
             1,
             "#f0f921"
            ]
           ],
           "sequentialminus": [
            [
             0,
             "#0d0887"
            ],
            [
             0.1111111111111111,
             "#46039f"
            ],
            [
             0.2222222222222222,
             "#7201a8"
            ],
            [
             0.3333333333333333,
             "#9c179e"
            ],
            [
             0.4444444444444444,
             "#bd3786"
            ],
            [
             0.5555555555555556,
             "#d8576b"
            ],
            [
             0.6666666666666666,
             "#ed7953"
            ],
            [
             0.7777777777777778,
             "#fb9f3a"
            ],
            [
             0.8888888888888888,
             "#fdca26"
            ],
            [
             1,
             "#f0f921"
            ]
           ]
          },
          "colorway": [
           "#636efa",
           "#EF553B",
           "#00cc96",
           "#ab63fa",
           "#FFA15A",
           "#19d3f3",
           "#FF6692",
           "#B6E880",
           "#FF97FF",
           "#FECB52"
          ],
          "font": {
           "color": "#2a3f5f"
          },
          "geo": {
           "bgcolor": "white",
           "lakecolor": "white",
           "landcolor": "#E5ECF6",
           "showlakes": true,
           "showland": true,
           "subunitcolor": "white"
          },
          "hoverlabel": {
           "align": "left"
          },
          "hovermode": "closest",
          "mapbox": {
           "style": "light"
          },
          "paper_bgcolor": "white",
          "plot_bgcolor": "#E5ECF6",
          "polar": {
           "angularaxis": {
            "gridcolor": "white",
            "linecolor": "white",
            "ticks": ""
           },
           "bgcolor": "#E5ECF6",
           "radialaxis": {
            "gridcolor": "white",
            "linecolor": "white",
            "ticks": ""
           }
          },
          "scene": {
           "xaxis": {
            "backgroundcolor": "#E5ECF6",
            "gridcolor": "white",
            "gridwidth": 2,
            "linecolor": "white",
            "showbackground": true,
            "ticks": "",
            "zerolinecolor": "white"
           },
           "yaxis": {
            "backgroundcolor": "#E5ECF6",
            "gridcolor": "white",
            "gridwidth": 2,
            "linecolor": "white",
            "showbackground": true,
            "ticks": "",
            "zerolinecolor": "white"
           },
           "zaxis": {
            "backgroundcolor": "#E5ECF6",
            "gridcolor": "white",
            "gridwidth": 2,
            "linecolor": "white",
            "showbackground": true,
            "ticks": "",
            "zerolinecolor": "white"
           }
          },
          "shapedefaults": {
           "line": {
            "color": "#2a3f5f"
           }
          },
          "ternary": {
           "aaxis": {
            "gridcolor": "white",
            "linecolor": "white",
            "ticks": ""
           },
           "baxis": {
            "gridcolor": "white",
            "linecolor": "white",
            "ticks": ""
           },
           "bgcolor": "#E5ECF6",
           "caxis": {
            "gridcolor": "white",
            "linecolor": "white",
            "ticks": ""
           }
          },
          "title": {
           "x": 0.05
          },
          "xaxis": {
           "automargin": true,
           "gridcolor": "white",
           "linecolor": "white",
           "ticks": "",
           "title": {
            "standoff": 15
           },
           "zerolinecolor": "white",
           "zerolinewidth": 2
          },
          "yaxis": {
           "automargin": true,
           "gridcolor": "white",
           "linecolor": "white",
           "ticks": "",
           "title": {
            "standoff": 15
           },
           "zerolinecolor": "white",
           "zerolinewidth": 2
          }
         }
        },
        "title": {
         "text": "Predicted Sale Price vs. Actual Sale Price"
        },
        "xaxis": {
         "anchor": "y",
         "domain": [
          0,
          1
         ],
         "title": {
          "text": "Actual Sale Price"
         }
        },
        "yaxis": {
         "anchor": "x",
         "domain": [
          0,
          1
         ],
         "title": {
          "text": "Predicted Sale Price"
         }
        }
       }
      }
     },
     "metadata": {},
     "output_type": "display_data"
    },
    {
     "name": "stdout",
     "output_type": "stream",
     "text": [
      "Testing score: 0.7369047147075481\n"
     ]
    }
   ],
   "source": [
    "gbr_summary = gbr_reg_df.groupby(\"max_depth\").mean().reset_index()\n",
    "\n",
    "final_gbr_params = {\n",
    "        \"n_estimators\": 500,\n",
    "        \"max_depth\": 5,\n",
    "        \"min_samples_split\": 11,\n",
    "        \"learning_rate\": 0.2,\n",
    "        \"loss\": \"squared_error\",\n",
    "}\n",
    "\n",
    "final_gbr_mdl = GradientBoostingRegressor(**final_gbr_params)\n",
    "final_gbr_mdl.fit(X_train, y_train)\n",
    "\n",
    "fig_6a = px.scatter(x=y_test, y=final_gbr_mdl.predict(X_test))\n",
    "\n",
    "fig_6a.update_xaxes(title_text=\"Actual Sale Price\")\n",
    "fig_6a.update_yaxes(title_text=\"Predicted Sale Price\")\n",
    "fig_6a.update_layout(title_text=\"Predicted Sale Price vs. Actual Sale Price\")\n",
    "fig_6a.show()\n",
    "\n",
    "\n",
    "print(f\"Testing score: {final_gbr_mdl.score(X_test, y_test)}\")"
   ]
  },
  {
   "cell_type": "code",
   "execution_count": 261,
   "metadata": {},
   "outputs": [
    {
     "data": {
      "text/html": [
       "<div>\n",
       "<style scoped>\n",
       "    .dataframe tbody tr th:only-of-type {\n",
       "        vertical-align: middle;\n",
       "    }\n",
       "\n",
       "    .dataframe tbody tr th {\n",
       "        vertical-align: top;\n",
       "    }\n",
       "\n",
       "    .dataframe thead th {\n",
       "        text-align: right;\n",
       "    }\n",
       "</style>\n",
       "<table border=\"1\" class=\"dataframe\">\n",
       "  <thead>\n",
       "    <tr style=\"text-align: right;\">\n",
       "      <th></th>\n",
       "      <th>estimator_count</th>\n",
       "      <th>score</th>\n",
       "    </tr>\n",
       "  </thead>\n",
       "  <tbody>\n",
       "    <tr>\n",
       "      <th>0</th>\n",
       "      <td>100</td>\n",
       "      <td>0.720667</td>\n",
       "    </tr>\n",
       "    <tr>\n",
       "      <th>1</th>\n",
       "      <td>200</td>\n",
       "      <td>0.722160</td>\n",
       "    </tr>\n",
       "    <tr>\n",
       "      <th>2</th>\n",
       "      <td>300</td>\n",
       "      <td>0.720407</td>\n",
       "    </tr>\n",
       "    <tr>\n",
       "      <th>3</th>\n",
       "      <td>400</td>\n",
       "      <td>0.721109</td>\n",
       "    </tr>\n",
       "    <tr>\n",
       "      <th>4</th>\n",
       "      <td>500</td>\n",
       "      <td>0.720856</td>\n",
       "    </tr>\n",
       "    <tr>\n",
       "      <th>5</th>\n",
       "      <td>600</td>\n",
       "      <td>0.719175</td>\n",
       "    </tr>\n",
       "    <tr>\n",
       "      <th>6</th>\n",
       "      <td>700</td>\n",
       "      <td>0.718227</td>\n",
       "    </tr>\n",
       "    <tr>\n",
       "      <th>7</th>\n",
       "      <td>800</td>\n",
       "      <td>0.716888</td>\n",
       "    </tr>\n",
       "    <tr>\n",
       "      <th>8</th>\n",
       "      <td>900</td>\n",
       "      <td>0.715606</td>\n",
       "    </tr>\n",
       "    <tr>\n",
       "      <th>9</th>\n",
       "      <td>1000</td>\n",
       "      <td>0.714231</td>\n",
       "    </tr>\n",
       "    <tr>\n",
       "      <th>10</th>\n",
       "      <td>1100</td>\n",
       "      <td>0.713485</td>\n",
       "    </tr>\n",
       "    <tr>\n",
       "      <th>11</th>\n",
       "      <td>1200</td>\n",
       "      <td>0.712577</td>\n",
       "    </tr>\n",
       "    <tr>\n",
       "      <th>12</th>\n",
       "      <td>1300</td>\n",
       "      <td>0.711711</td>\n",
       "    </tr>\n",
       "    <tr>\n",
       "      <th>13</th>\n",
       "      <td>1400</td>\n",
       "      <td>0.710771</td>\n",
       "    </tr>\n",
       "    <tr>\n",
       "      <th>14</th>\n",
       "      <td>1500</td>\n",
       "      <td>0.710084</td>\n",
       "    </tr>\n",
       "    <tr>\n",
       "      <th>15</th>\n",
       "      <td>1600</td>\n",
       "      <td>0.709092</td>\n",
       "    </tr>\n",
       "    <tr>\n",
       "      <th>16</th>\n",
       "      <td>1700</td>\n",
       "      <td>0.708332</td>\n",
       "    </tr>\n",
       "    <tr>\n",
       "      <th>17</th>\n",
       "      <td>1800</td>\n",
       "      <td>0.707649</td>\n",
       "    </tr>\n",
       "    <tr>\n",
       "      <th>18</th>\n",
       "      <td>1900</td>\n",
       "      <td>0.707326</td>\n",
       "    </tr>\n",
       "    <tr>\n",
       "      <th>19</th>\n",
       "      <td>2000</td>\n",
       "      <td>0.706555</td>\n",
       "    </tr>\n",
       "  </tbody>\n",
       "</table>\n",
       "</div>"
      ],
      "text/plain": [
       "    estimator_count     score\n",
       "0               100  0.720667\n",
       "1               200  0.722160\n",
       "2               300  0.720407\n",
       "3               400  0.721109\n",
       "4               500  0.720856\n",
       "5               600  0.719175\n",
       "6               700  0.718227\n",
       "7               800  0.716888\n",
       "8               900  0.715606\n",
       "9              1000  0.714231\n",
       "10             1100  0.713485\n",
       "11             1200  0.712577\n",
       "12             1300  0.711711\n",
       "13             1400  0.710771\n",
       "14             1500  0.710084\n",
       "15             1600  0.709092\n",
       "16             1700  0.708332\n",
       "17             1800  0.707649\n",
       "18             1900  0.707326\n",
       "19             2000  0.706555"
      ]
     },
     "execution_count": 261,
     "metadata": {},
     "output_type": "execute_result"
    }
   ],
   "source": [
    "n_estimators = []\n",
    "ada_regr_scores = []\n",
    "\n",
    "for n_est in range(100,2100,100):\n",
    "\n",
    "    ada_regr_mdl = AdaBoostRegressor(estimator=DecisionTreeRegressor(\n",
    "                                                    max_depth=5,\n",
    "                                                    min_samples_split=7,\n",
    "                                                    ccp_alpha=100,\n",
    "                                                    random_state=43),\n",
    "                                    loss=\"square\",\n",
    "                                    n_estimators=n_est,\n",
    "                                    learning_rate=0.1,\n",
    "                                    random_state=43)\n",
    "    \n",
    "    ada_score = cross_val_score(ada_regr_mdl, X=X_train, y=y_train, cv=10)\n",
    "\n",
    "    n_estimators.append(n_est)\n",
    "    ada_regr_scores.append(ada_score.mean())\n",
    "\n",
    "\n",
    "ada_regr_df = pd.DataFrame(list(zip(n_estimators, ada_regr_scores)), \n",
    "                           columns=[\"estimator_count\", \"score\"])\n",
    "\n",
    "ada_regr_df\n"
   ]
  },
  {
   "cell_type": "code",
   "execution_count": 285,
   "metadata": {},
   "outputs": [
    {
     "data": {
      "application/vnd.plotly.v1+json": {
       "config": {
        "plotlyServerURL": "https://plot.ly"
       },
       "data": [
        {
         "hovertemplate": "x=%{x}<br>y=%{y}<extra></extra>",
         "legendgroup": "",
         "marker": {
          "color": "#636efa",
          "symbol": "circle"
         },
         "mode": "markers",
         "name": "",
         "orientation": "v",
         "showlegend": false,
         "type": "scatter",
         "x": [
          189950,
          180000,
          136500,
          160000,
          135000,
          240000,
          100000,
          169900,
          119500,
          240000,
          148000,
          305900,
          140000,
          110000,
          179200,
          99500,
          125000,
          61000,
          143000,
          140000,
          402000,
          93000,
          235000,
          248328,
          200624,
          380000,
          119000,
          132000,
          136500,
          112000,
          137500,
          81000,
          123000,
          157500,
          109500,
          179665,
          501837,
          190000,
          230000,
          149000,
          276000,
          170000,
          60000,
          132000,
          193879,
          104900,
          152000,
          194201,
          171000,
          200000,
          110000,
          152000,
          173000,
          485000,
          120000,
          135500,
          133900,
          245500,
          226000,
          181900,
          112000,
          108500,
          167500,
          410000,
          177500,
          199900,
          150900,
          310000,
          55993,
          369900,
          231500,
          156000,
          134800,
          140000,
          119900,
          196000,
          172000,
          244000,
          161750,
          132000,
          130500,
          180500,
          302000,
          202500,
          228000,
          140000,
          125000,
          174900,
          278000,
          165500,
          131500,
          212000,
          215000,
          466500,
          136000,
          130000,
          168000,
          225000,
          345000,
          138000,
          160000,
          52000,
          82500,
          165000,
          178400,
          177000,
          208900,
          119000,
          311872,
          164500,
          229456,
          240000,
          181000,
          242000,
          135000,
          131500,
          146000,
          210000,
          145000,
          179000,
          180000,
          161500,
          157000,
          155000,
          239000,
          126000,
          168000,
          226000,
          157900,
          118000,
          185000,
          383970,
          175000,
          187500,
          187500,
          290000,
          173733,
          315000,
          176000,
          313000,
          129900,
          194000,
          108000,
          234000,
          113000,
          286000,
          244600,
          315000,
          103000,
          68500,
          252000,
          128000,
          87000,
          122500,
          107900,
          236000,
          160000,
          106250,
          212000,
          124500,
          101800,
          175000,
          129500,
          131400,
          128000,
          187000,
          215000,
          100000,
          372500,
          318000,
          394432,
          137000,
          259500,
          142500,
          277500,
          76000,
          253293,
          170000,
          185000,
          227680,
          290000,
          173500,
          140000,
          124000,
          184000,
          145000,
          165000,
          96500,
          246578,
          156000,
          187750,
          465000,
          138500,
          230000,
          93500,
          114500,
          315000,
          232000,
          128950,
          175000,
          129000,
          115000,
          151000,
          174000,
          266000,
          180000,
          190000,
          91500,
          221500,
          424870,
          97500,
          115000,
          120500,
          287000,
          113000,
          158000,
          125000,
          110000,
          173000,
          340000,
          214000,
          115000,
          185850,
          274000,
          126175,
          112000,
          233230,
          204900,
          205000,
          113000,
          216000,
          215000,
          167500,
          207000,
          86000,
          90000,
          80000,
          97000,
          335000,
          375000,
          187500,
          250000,
          108000,
          184750,
          217500,
          206000,
          149900,
          230000,
          275000,
          181000,
          162000,
          175500,
          140000,
          240000,
          266000,
          187100,
          34900,
          126000,
          110000,
          145000,
          150000,
          163500,
          147000,
          336000,
          237500,
          188000,
          222000,
          87500,
          266500,
          75500,
          117000,
          160000,
          127000,
          306000,
          107500,
          132000,
          172400,
          67000,
          235000,
          153575,
          149500,
          239000,
          234000,
          88000,
          270000,
          197900,
          91000,
          196500,
          119200,
          115000,
          129500,
          272000,
          87000,
          348000,
          129500,
          139000,
          143000,
          324000,
          130000,
          625000,
          215200,
          154000,
          385000,
          158500,
          135500,
          392500,
          287000,
          88000,
          210000,
          134500,
          176432,
          193000,
          315750,
          204000,
          215000,
          176000,
          128500,
          262500,
          159434,
          244400,
          196500,
          185000,
          120500,
          84900,
          58500,
          171750,
          181000,
          132500,
          187500,
          205000,
          250000,
          190000,
          109000,
          129900,
          162900,
          191000,
          184900,
          97000,
          263435,
          167000,
          260000,
          173000,
          89500,
          197500,
          213500,
          85000,
          159500,
          151000,
          215000,
          92000,
          118000,
          159000,
          167000,
          275000,
          155000,
          154000,
          86000,
          135000,
          145000,
          204750,
          212900,
          140000,
          200000,
          72500,
          126000,
          79000,
          105500,
          272000,
          73000,
          106500,
          141000,
          135000,
          224900,
          165150,
          360000,
          125000,
          201000,
          103600,
          179900,
          184000,
          167000,
          124000,
          128000,
          260000,
          35311,
          415298,
          179900,
          173900,
          403000,
          135000,
          175500,
          37900,
          202900,
          123000,
          135000,
          143500,
          136000,
          193500,
          109008,
          200000,
          135000,
          125500,
          143000,
          268000,
          100000,
          142000,
          147000,
          67000,
          162000,
          227000,
          235000,
          209500,
          92900,
          140000,
          85000,
          109500,
          178000,
          294000,
          136905,
          185000,
          134000,
          194700,
          281213,
          185000,
          201000,
          170000,
          106000,
          255500,
          181000,
          437154,
          178000,
          139950,
          105000,
          446261,
          207000,
          95000,
          100000,
          134000,
          127500,
          100000,
          140000,
          139000,
          125500,
          200000,
          185000,
          175000,
          146500,
          194000,
          121000,
          174500,
          165000,
          278000,
          159000,
          245000,
          212000,
          268000,
          148000,
          141000,
          163990,
          188000,
          55000,
          183000,
          173000,
          184000,
          55000,
          130000,
          137450,
          144000,
          335000,
          250580,
          224900,
          115000,
          260400,
          205000,
          143000,
          169000,
          164700,
          231500,
          143500,
          129000,
          173000,
          213000,
          195000,
          110000,
          129000,
          100000,
          89000,
          158000,
          128200,
          124000,
          250000,
          128000,
          290000,
          153337,
          110000,
          206900,
          154500,
          130000,
          253000,
          139000,
          66500,
          335000,
          136000,
          119500,
          98000,
          145000,
          220000,
          179500,
          125500,
          105000,
          156932,
          176000,
          157900,
          255900,
          267000,
          144152,
          190000,
          135000,
          139000,
          176000,
          333168,
          237000,
          158900,
          277000,
          84500,
          149000,
          260000,
          134432,
          213000,
          133000,
          208500,
          241000,
          168000,
          180000,
          159000,
          144000,
          144000,
          114504,
          249700,
          262280,
          145000,
          131000,
          191000,
          178900,
          79900,
          132250,
          110000,
          105000,
          263000,
          39300,
          293077,
          136500,
          239799,
          244000,
          232600,
          239000,
          119000,
          103200,
          93000,
          213250,
          144000,
          236500,
          85500,
          229000,
          121500,
          155000,
          228950,
          117000,
          402861,
          170000,
          261500,
          328000,
          325000,
          283463,
          176000,
          172500,
          157500,
          193000,
          325300,
          147000,
          144000,
          163000,
          164000,
          79900
         ],
         "xaxis": "x",
         "y": [
          142799.58778625954,
          167614,
          157060.9929078014,
          181321.8795180723,
          192560.86956521738,
          284865.4,
          109700.01315789473,
          137361.66666666666,
          106596.30379746835,
          236207.51351351352,
          137660.25,
          391516,
          108610.43243243243,
          135059.72222222222,
          227152.85714285713,
          124701.33333333333,
          119449.81967213115,
          104475.08602150538,
          129751.44,
          146366.12903225806,
          344285.71428571426,
          130475.49707602338,
          226596.5,
          294650.5272727273,
          295410.5263157895,
          523565.84210526315,
          112656.94444444444,
          130191.51785714286,
          125725.91666666667,
          112961.87037037036,
          134066.32653061225,
          130475.49707602338,
          133912.6888888889,
          164152.93,
          113153.84615384616,
          187001.568627451,
          414023.8620689655,
          248500,
          268003.5142857143,
          147929.24,
          378707.2916666667,
          183960.5394736842,
          101330.35714285714,
          119826,
          189075.48958333334,
          153011.68421052632,
          149842.9411764706,
          189692.45762711865,
          168657.14285714287,
          260593.2380952381,
          128318.18181818182,
          140276.94444444444,
          180790.6530612245,
          568606.4545454546,
          114278.06103286384,
          126747.92592592593,
          128044.45977011495,
          180379.94,
          235959.2962962963,
          176653.82857142857,
          123044.8625,
          116469.24390243902,
          139109.62264150943,
          414197.8888888889,
          187176.43617021278,
          199749.77027027027,
          214001.984,
          281216.2453703704,
          118107.3448275862,
          362428.75,
          199376.8223938224,
          134513.36486486485,
          133060.96261682242,
          156285.51612903227,
          118895.0625,
          187718.18181818182,
          192025.5309446254,
          228776.15151515152,
          129715.12931034483,
          118854.16666666667,
          114108.6129032258,
          152946.86290322582,
          293210.5263157895,
          190309.35555555555,
          245592.67346938775,
          148837.5,
          137126.9255319149,
          137716.02631578947,
          306181.8181818182,
          139696.2,
          134075.19379844962,
          191110.9375,
          216444.45323741008,
          527427.3703703703,
          124830.93103448275,
          180614.68852459016,
          178394.1754385965,
          184872.4705882353,
          298615.3846153846,
          145672.22222222222,
          109772.5046728972,
          105278.92207792208,
          100501.58333333333,
          143444.12727272726,
          138659.77647058823,
          187176.43617021278,
          189737.25,
          126747.92592592593,
          311254.82375478925,
          178082.25342465754,
          188130.11111111112,
          235449.5076923077,
          145675.32278481012,
          295695.4,
          106049.296875,
          146366.12903225806,
          141638.34615384616,
          154311.95789473684,
          108448.67368421053,
          187718.18181818182,
          183960.5394736842,
          167240.14285714287,
          154504.39805825244,
          133453.84615384616,
          292079.329787234,
          161440.4,
          166369.2087912088,
          235743.6,
          128842.14754098361,
          108448.67368421053,
          189075.48958333334,
          328576.9090909091,
          180790.6530612245,
          152946.86290322582,
          185539.59574468085,
          272895.1538461539,
          178082.25342465754,
          358764.4482758621,
          178604.8426966292,
          284613.5111111111,
          139106.02325581395,
          173467.10256410256,
          124341.37037037036,
          184605.55555555556,
          144417.07344632767,
          249940.57230769232,
          240272.10714285713,
          382776.8,
          118987.44,
          94025.79545454546,
          269959.0909090909,
          135919.58415841585,
          102665.66666666667,
          145712.8205128205,
          123460.64893617021,
          231463.60674157302,
          176585.0076923077,
          105144.44444444444,
          200023.59420289856,
          124075.1214953271,
          126430.40476190476,
          211346.29411764705,
          130193.57142857143,
          123460.64893617021,
          120720.4255319149,
          187603.7888888889,
          233227.06666666668,
          134978.44155844155,
          388821,
          291747.1632653061,
          304182.6666666667,
          165988.23529411765,
          220538.46153846153,
          159279.02173913043,
          245185.46892655367,
          109700.01315789473,
          412188.1052631579,
          143923.67021276595,
          190517.53103448276,
          253167.07692307694,
          308007.9423076923,
          189692.45762711865,
          153011.68421052632,
          118449.25,
          176660.225,
          150337.5,
          137716.02631578947,
          106920.56451612903,
          218004.5,
          135583.33333333334,
          187715.35869565216,
          389956.14285714284,
          126925.44086021505,
          188580.85950413224,
          114908.13559322034,
          119323.5294117647,
          220926.43307086613,
          259903.25991189427,
          117558.79629629629,
          184466.66666666666,
          115644.18348623853,
          114278.06103286384,
          172693.5128205128,
          183167.48695652175,
          263539.9789473684,
          214001.984,
          245105.85294117648,
          146987.22916666666,
          260908.78343949045,
          383477.71014492755,
          147154.05405405405,
          150553.03488372092,
          132399.55555555556,
          259914.04166666666,
          148024.76288659795,
          122899.89583333333,
          124075.1214953271,
          124341.37037037036,
          190460.875,
          345887.11627906974,
          249409.64516129033,
          147178.37837837837,
          189692.45762711865,
          245185.46892655367,
          130372.3445945946,
          108128.14285714286,
          249504.55555555556,
          253329.33333333334,
          255060.8514056225,
          108011.31666666667,
          193243.24324324325,
          226407.4054054054,
          179569.585106383,
          188143.94174757283,
          100587.43023255814,
          177991.30434782608,
          105504.125,
          132399.55555555556,
          259668.95918367346,
          192146.85714285713,
          253427.75,
          245663.86486486485,
          149500,
          745000,
          199749.77027027027,
          183824.07407407407,
          172616.5810810811,
          210767.95652173914,
          219593.75,
          187718.18181818182,
          140701.08163265305,
          140316.2705882353,
          167968.3673469388,
          293794.43173431733,
          274834.6289308176,
          211425,
          103392.5,
          134300,
          118275.43037974683,
          148241.32110091744,
          187204.9180327869,
          178346.15384615384,
          128318.18181818182,
          313277.3043478261,
          207179.35251798562,
          213654.00819672132,
          191800.225,
          114908.13559322034,
          256889.80392156861,
          101697.90909090909,
          126925.44086021505,
          140156.68085106384,
          111244.60784313726,
          316126.45801526716,
          177991.30434782608,
          142544.11764705883,
          190209.6883116883,
          107835.29411764706,
          236766.2288135593,
          132235.13513513515,
          175495.62686567163,
          246494.75,
          191445.31818181818,
          104607.69230769231,
          268384.4621212121,
          192235.69343065695,
          106848.61445783133,
          186350.34848484848,
          117794.59340659341,
          123651.34090909091,
          128255.87826086956,
          281132.0833333333,
          148605.7142857143,
          324893.63636363635,
          128862.66666666667,
          136738.04347826086,
          135966.66666666666,
          260790.9245283019,
          118510.9557522124,
          501953.5740740741,
          190992.9929328622,
          130372.3445945946,
          192146.85714285713,
          128044.45977011495,
          130533.85897435897,
          280570.77966101695,
          285042.85714285716,
          104590.92,
          195380.95238095237,
          124075.1214953271,
          187043.05405405405,
          231164.54929577466,
          313893.06097560975,
          239193.8620689655,
          231460.92105263157,
          187103.0642857143,
          124810.83333333333,
          243634.1739130435,
          152565.5982142857,
          173073.68421052632,
          192004.1,
          179151.71875,
          125192.87301587302,
          113153.84615384616,
          109008.80357142857,
          187718.18181818182,
          190225.15625,
          134066.32653061225,
          175102.3076923077,
          179844.84285714285,
          201396.61428571428,
          224456.72727272726,
          127663.95652173914,
          160726.14444444445,
          156640.55102040817,
          190225.15625,
          180351.83333333334,
          107288,
          243567.66666666666,
          212893.33333333334,
          268500,
          188380.28333333333,
          104646.53703703704,
          172336.52173913043,
          188580.85950413224,
          107277.41935483871,
          288605.8823529412,
          135538.424,
          187718.18181818182,
          101661.73469387754,
          157190.72727272726,
          157060.9929078014,
          140762.78431372548,
          217026.31578947368,
          182564.91262135922,
          160383.82352941178,
          108128.14285714286,
          107707.89285714286,
          179666.66666666666,
          210767.95652173914,
          253829.25221238937,
          139109.62264150943,
          195588.17857142858,
          104761.88235294117,
          106990.81060606061,
          138796.24778761063,
          124361.08108108108,
          245185.46892655367,
          124341.37037037036,
          109551.49549549549,
          134291.25,
          143866,
          260826.47967479675,
          169177.64705882352,
          332434.36363636365,
          165810.70967741936,
          243555.0652173913,
          119882.39436619719,
          186931.9512195122,
          217103.56603773584,
          179442.56140350876,
          134513.36486486485,
          143083.95588235295,
          173467.10256410256,
          101330.35714285714,
          391139.23076923075,
          149534.4827586207,
          190225.15625,
          334178.5833333333,
          133060.96261682242,
          200586.12083333332,
          92972.97297297297,
          216005.94736842104,
          131015.49579831933,
          123651.34090909091,
          137126.9255319149,
          183655.88235294117,
          214339.08256880735,
          118895.0625,
          199717.11627906977,
          135583.33333333334,
          129137.47619047618,
          176653.82857142857,
          275227.7611940298,
          122589.44594594595,
          139106.02325581395,
          136566.66666666666,
          117558.79629629629,
          176333.63636363635,
          239156.73033707865,
          221533.67346938775,
          249419.4385026738,
          114108.6129032258,
          138796.24778761063,
          108011.31666666667,
          123044.8625,
          180351.83333333334,
          226407.4054054054,
          206376.0451977401,
          171975.75796178344,
          138450.0285714286,
          189075.48958333334,
          313893.06097560975,
          148271.06666666668,
          190608.17777777778,
          207093.6170212766,
          148130.64516129033,
          302244.6074074074,
          190595.16504854368,
          530382.125,
          173870.75471698114,
          136738.04347826086,
          125192.87301587302,
          392000,
          160726.14444444445,
          94320,
          107207.28865979382,
          141189.78048780488,
          118130.51282051283,
          151748.6049382716,
          155302.63157894736,
          124810.83333333333,
          115644.18348623853,
          282057.46601941745,
          180873.91304347827,
          138386.23188405798,
          156640.55102040817,
          184441.53846153847,
          112961.87037037036,
          148837.5,
          180108.94285714286,
          244008.5445026178,
          167968.3673469388,
          256617.1379310345,
          210302.0153846154,
          208826.66666666666,
          138450.0285714286,
          126950.81666666667,
          183145.51428571428,
          191559.38461538462,
          93856.94444444444,
          191564.24840764332,
          180250.2105263158,
          150277.27272727274,
          107288,
          138806.31707317074,
          151748.6049382716,
          147929.24,
          287926.3888888889,
          190919.35483870967,
          194763.81578947368,
          134026.2142857143,
          272895.1538461539,
          229964.10256410256,
          207179.35251798562,
          194600,
          179050.60431654676,
          192586.3853211009,
          133060.96261682242,
          131684.105,
          165666.44444444444,
          191486.10185185185,
          195588.17857142858,
          117343.47826086957,
          137126.9255319149,
          134053.2894736842,
          93866.03703703704,
          197478.8021978022,
          124577.5052631579,
          123849.47552447552,
          280570.77966101695,
          107835.29411764706,
          309266.1153846154,
          141133.19108280254,
          108071.4125,
          192235.69343065695,
          129715.12931034483,
          136448.22784810126,
          259404,
          146619.68421052632,
          100021.56666666667,
          236766.2288135593,
          157060.9929078014,
          125760.0625,
          145675.32278481012,
          252922.14736842105,
          173768.9375,
          210003.23699421965,
          121587.20238095238,
          109551.49549549549,
          182564.91262135922,
          185676.55844155845,
          157308.9552238806,
          261811.8448275862,
          313277.3043478261,
          172693.5128205128,
          209020.83333333334,
          129107.69230769231,
          128862.66666666667,
          183373.125,
          328009.25925925927,
          201396.61428571428,
          140316.2705882353,
          254151.09770114944,
          98853.46153846153,
          148837.5,
          300079.55670103093,
          152867.6923076923,
          249543.27607361964,
          114758.50515463918,
          191486.10185185185,
          188580.85950413224,
          176653.82857142857,
          183960.5394736842,
          162165.97826086957,
          137361.66666666666,
          145615.23529411765,
          122250,
          281132.0833333333,
          260000,
          144410.44776119402,
          139218.32,
          192530.75555555554,
          184261.44897959183,
          116957.28378378379,
          135059.72222222222,
          118510.9557522124,
          105729.32608695653,
          239133.05,
          94162.5,
          279133.85714285716,
          127088.5,
          264688.3846153846,
          207179.35251798562,
          257402.31578947368,
          171318.18181818182,
          117135.33333333333,
          114278.06103286384,
          129989.96373056994,
          261341.0291970803,
          205537.09677419355,
          280662.16438356164,
          101795.83333333333,
          238574.48387096773,
          171881.62886597938,
          162165.97826086957,
          171894,
          147504.475,
          392471.4,
          171894,
          204763.77777777778,
          231155.1724137931,
          282806.94,
          302244.6074074074,
          145827.35416666666,
          192004.1,
          172616.5810810811,
          185021.33333333334,
          323238.27777777775,
          135919.58415841585,
          145293.9024390244,
          146619.68421052632,
          150553.03488372092,
          114108.6129032258
         ],
         "yaxis": "y"
        }
       ],
       "layout": {
        "legend": {
         "tracegroupgap": 0
        },
        "margin": {
         "t": 60
        },
        "template": {
         "data": {
          "bar": [
           {
            "error_x": {
             "color": "#2a3f5f"
            },
            "error_y": {
             "color": "#2a3f5f"
            },
            "marker": {
             "line": {
              "color": "#E5ECF6",
              "width": 0.5
             },
             "pattern": {
              "fillmode": "overlay",
              "size": 10,
              "solidity": 0.2
             }
            },
            "type": "bar"
           }
          ],
          "barpolar": [
           {
            "marker": {
             "line": {
              "color": "#E5ECF6",
              "width": 0.5
             },
             "pattern": {
              "fillmode": "overlay",
              "size": 10,
              "solidity": 0.2
             }
            },
            "type": "barpolar"
           }
          ],
          "carpet": [
           {
            "aaxis": {
             "endlinecolor": "#2a3f5f",
             "gridcolor": "white",
             "linecolor": "white",
             "minorgridcolor": "white",
             "startlinecolor": "#2a3f5f"
            },
            "baxis": {
             "endlinecolor": "#2a3f5f",
             "gridcolor": "white",
             "linecolor": "white",
             "minorgridcolor": "white",
             "startlinecolor": "#2a3f5f"
            },
            "type": "carpet"
           }
          ],
          "choropleth": [
           {
            "colorbar": {
             "outlinewidth": 0,
             "ticks": ""
            },
            "type": "choropleth"
           }
          ],
          "contour": [
           {
            "colorbar": {
             "outlinewidth": 0,
             "ticks": ""
            },
            "colorscale": [
             [
              0,
              "#0d0887"
             ],
             [
              0.1111111111111111,
              "#46039f"
             ],
             [
              0.2222222222222222,
              "#7201a8"
             ],
             [
              0.3333333333333333,
              "#9c179e"
             ],
             [
              0.4444444444444444,
              "#bd3786"
             ],
             [
              0.5555555555555556,
              "#d8576b"
             ],
             [
              0.6666666666666666,
              "#ed7953"
             ],
             [
              0.7777777777777778,
              "#fb9f3a"
             ],
             [
              0.8888888888888888,
              "#fdca26"
             ],
             [
              1,
              "#f0f921"
             ]
            ],
            "type": "contour"
           }
          ],
          "contourcarpet": [
           {
            "colorbar": {
             "outlinewidth": 0,
             "ticks": ""
            },
            "type": "contourcarpet"
           }
          ],
          "heatmap": [
           {
            "colorbar": {
             "outlinewidth": 0,
             "ticks": ""
            },
            "colorscale": [
             [
              0,
              "#0d0887"
             ],
             [
              0.1111111111111111,
              "#46039f"
             ],
             [
              0.2222222222222222,
              "#7201a8"
             ],
             [
              0.3333333333333333,
              "#9c179e"
             ],
             [
              0.4444444444444444,
              "#bd3786"
             ],
             [
              0.5555555555555556,
              "#d8576b"
             ],
             [
              0.6666666666666666,
              "#ed7953"
             ],
             [
              0.7777777777777778,
              "#fb9f3a"
             ],
             [
              0.8888888888888888,
              "#fdca26"
             ],
             [
              1,
              "#f0f921"
             ]
            ],
            "type": "heatmap"
           }
          ],
          "heatmapgl": [
           {
            "colorbar": {
             "outlinewidth": 0,
             "ticks": ""
            },
            "colorscale": [
             [
              0,
              "#0d0887"
             ],
             [
              0.1111111111111111,
              "#46039f"
             ],
             [
              0.2222222222222222,
              "#7201a8"
             ],
             [
              0.3333333333333333,
              "#9c179e"
             ],
             [
              0.4444444444444444,
              "#bd3786"
             ],
             [
              0.5555555555555556,
              "#d8576b"
             ],
             [
              0.6666666666666666,
              "#ed7953"
             ],
             [
              0.7777777777777778,
              "#fb9f3a"
             ],
             [
              0.8888888888888888,
              "#fdca26"
             ],
             [
              1,
              "#f0f921"
             ]
            ],
            "type": "heatmapgl"
           }
          ],
          "histogram": [
           {
            "marker": {
             "pattern": {
              "fillmode": "overlay",
              "size": 10,
              "solidity": 0.2
             }
            },
            "type": "histogram"
           }
          ],
          "histogram2d": [
           {
            "colorbar": {
             "outlinewidth": 0,
             "ticks": ""
            },
            "colorscale": [
             [
              0,
              "#0d0887"
             ],
             [
              0.1111111111111111,
              "#46039f"
             ],
             [
              0.2222222222222222,
              "#7201a8"
             ],
             [
              0.3333333333333333,
              "#9c179e"
             ],
             [
              0.4444444444444444,
              "#bd3786"
             ],
             [
              0.5555555555555556,
              "#d8576b"
             ],
             [
              0.6666666666666666,
              "#ed7953"
             ],
             [
              0.7777777777777778,
              "#fb9f3a"
             ],
             [
              0.8888888888888888,
              "#fdca26"
             ],
             [
              1,
              "#f0f921"
             ]
            ],
            "type": "histogram2d"
           }
          ],
          "histogram2dcontour": [
           {
            "colorbar": {
             "outlinewidth": 0,
             "ticks": ""
            },
            "colorscale": [
             [
              0,
              "#0d0887"
             ],
             [
              0.1111111111111111,
              "#46039f"
             ],
             [
              0.2222222222222222,
              "#7201a8"
             ],
             [
              0.3333333333333333,
              "#9c179e"
             ],
             [
              0.4444444444444444,
              "#bd3786"
             ],
             [
              0.5555555555555556,
              "#d8576b"
             ],
             [
              0.6666666666666666,
              "#ed7953"
             ],
             [
              0.7777777777777778,
              "#fb9f3a"
             ],
             [
              0.8888888888888888,
              "#fdca26"
             ],
             [
              1,
              "#f0f921"
             ]
            ],
            "type": "histogram2dcontour"
           }
          ],
          "mesh3d": [
           {
            "colorbar": {
             "outlinewidth": 0,
             "ticks": ""
            },
            "type": "mesh3d"
           }
          ],
          "parcoords": [
           {
            "line": {
             "colorbar": {
              "outlinewidth": 0,
              "ticks": ""
             }
            },
            "type": "parcoords"
           }
          ],
          "pie": [
           {
            "automargin": true,
            "type": "pie"
           }
          ],
          "scatter": [
           {
            "fillpattern": {
             "fillmode": "overlay",
             "size": 10,
             "solidity": 0.2
            },
            "type": "scatter"
           }
          ],
          "scatter3d": [
           {
            "line": {
             "colorbar": {
              "outlinewidth": 0,
              "ticks": ""
             }
            },
            "marker": {
             "colorbar": {
              "outlinewidth": 0,
              "ticks": ""
             }
            },
            "type": "scatter3d"
           }
          ],
          "scattercarpet": [
           {
            "marker": {
             "colorbar": {
              "outlinewidth": 0,
              "ticks": ""
             }
            },
            "type": "scattercarpet"
           }
          ],
          "scattergeo": [
           {
            "marker": {
             "colorbar": {
              "outlinewidth": 0,
              "ticks": ""
             }
            },
            "type": "scattergeo"
           }
          ],
          "scattergl": [
           {
            "marker": {
             "colorbar": {
              "outlinewidth": 0,
              "ticks": ""
             }
            },
            "type": "scattergl"
           }
          ],
          "scattermapbox": [
           {
            "marker": {
             "colorbar": {
              "outlinewidth": 0,
              "ticks": ""
             }
            },
            "type": "scattermapbox"
           }
          ],
          "scatterpolar": [
           {
            "marker": {
             "colorbar": {
              "outlinewidth": 0,
              "ticks": ""
             }
            },
            "type": "scatterpolar"
           }
          ],
          "scatterpolargl": [
           {
            "marker": {
             "colorbar": {
              "outlinewidth": 0,
              "ticks": ""
             }
            },
            "type": "scatterpolargl"
           }
          ],
          "scatterternary": [
           {
            "marker": {
             "colorbar": {
              "outlinewidth": 0,
              "ticks": ""
             }
            },
            "type": "scatterternary"
           }
          ],
          "surface": [
           {
            "colorbar": {
             "outlinewidth": 0,
             "ticks": ""
            },
            "colorscale": [
             [
              0,
              "#0d0887"
             ],
             [
              0.1111111111111111,
              "#46039f"
             ],
             [
              0.2222222222222222,
              "#7201a8"
             ],
             [
              0.3333333333333333,
              "#9c179e"
             ],
             [
              0.4444444444444444,
              "#bd3786"
             ],
             [
              0.5555555555555556,
              "#d8576b"
             ],
             [
              0.6666666666666666,
              "#ed7953"
             ],
             [
              0.7777777777777778,
              "#fb9f3a"
             ],
             [
              0.8888888888888888,
              "#fdca26"
             ],
             [
              1,
              "#f0f921"
             ]
            ],
            "type": "surface"
           }
          ],
          "table": [
           {
            "cells": {
             "fill": {
              "color": "#EBF0F8"
             },
             "line": {
              "color": "white"
             }
            },
            "header": {
             "fill": {
              "color": "#C8D4E3"
             },
             "line": {
              "color": "white"
             }
            },
            "type": "table"
           }
          ]
         },
         "layout": {
          "annotationdefaults": {
           "arrowcolor": "#2a3f5f",
           "arrowhead": 0,
           "arrowwidth": 1
          },
          "autotypenumbers": "strict",
          "coloraxis": {
           "colorbar": {
            "outlinewidth": 0,
            "ticks": ""
           }
          },
          "colorscale": {
           "diverging": [
            [
             0,
             "#8e0152"
            ],
            [
             0.1,
             "#c51b7d"
            ],
            [
             0.2,
             "#de77ae"
            ],
            [
             0.3,
             "#f1b6da"
            ],
            [
             0.4,
             "#fde0ef"
            ],
            [
             0.5,
             "#f7f7f7"
            ],
            [
             0.6,
             "#e6f5d0"
            ],
            [
             0.7,
             "#b8e186"
            ],
            [
             0.8,
             "#7fbc41"
            ],
            [
             0.9,
             "#4d9221"
            ],
            [
             1,
             "#276419"
            ]
           ],
           "sequential": [
            [
             0,
             "#0d0887"
            ],
            [
             0.1111111111111111,
             "#46039f"
            ],
            [
             0.2222222222222222,
             "#7201a8"
            ],
            [
             0.3333333333333333,
             "#9c179e"
            ],
            [
             0.4444444444444444,
             "#bd3786"
            ],
            [
             0.5555555555555556,
             "#d8576b"
            ],
            [
             0.6666666666666666,
             "#ed7953"
            ],
            [
             0.7777777777777778,
             "#fb9f3a"
            ],
            [
             0.8888888888888888,
             "#fdca26"
            ],
            [
             1,
             "#f0f921"
            ]
           ],
           "sequentialminus": [
            [
             0,
             "#0d0887"
            ],
            [
             0.1111111111111111,
             "#46039f"
            ],
            [
             0.2222222222222222,
             "#7201a8"
            ],
            [
             0.3333333333333333,
             "#9c179e"
            ],
            [
             0.4444444444444444,
             "#bd3786"
            ],
            [
             0.5555555555555556,
             "#d8576b"
            ],
            [
             0.6666666666666666,
             "#ed7953"
            ],
            [
             0.7777777777777778,
             "#fb9f3a"
            ],
            [
             0.8888888888888888,
             "#fdca26"
            ],
            [
             1,
             "#f0f921"
            ]
           ]
          },
          "colorway": [
           "#636efa",
           "#EF553B",
           "#00cc96",
           "#ab63fa",
           "#FFA15A",
           "#19d3f3",
           "#FF6692",
           "#B6E880",
           "#FF97FF",
           "#FECB52"
          ],
          "font": {
           "color": "#2a3f5f"
          },
          "geo": {
           "bgcolor": "white",
           "lakecolor": "white",
           "landcolor": "#E5ECF6",
           "showlakes": true,
           "showland": true,
           "subunitcolor": "white"
          },
          "hoverlabel": {
           "align": "left"
          },
          "hovermode": "closest",
          "mapbox": {
           "style": "light"
          },
          "paper_bgcolor": "white",
          "plot_bgcolor": "#E5ECF6",
          "polar": {
           "angularaxis": {
            "gridcolor": "white",
            "linecolor": "white",
            "ticks": ""
           },
           "bgcolor": "#E5ECF6",
           "radialaxis": {
            "gridcolor": "white",
            "linecolor": "white",
            "ticks": ""
           }
          },
          "scene": {
           "xaxis": {
            "backgroundcolor": "#E5ECF6",
            "gridcolor": "white",
            "gridwidth": 2,
            "linecolor": "white",
            "showbackground": true,
            "ticks": "",
            "zerolinecolor": "white"
           },
           "yaxis": {
            "backgroundcolor": "#E5ECF6",
            "gridcolor": "white",
            "gridwidth": 2,
            "linecolor": "white",
            "showbackground": true,
            "ticks": "",
            "zerolinecolor": "white"
           },
           "zaxis": {
            "backgroundcolor": "#E5ECF6",
            "gridcolor": "white",
            "gridwidth": 2,
            "linecolor": "white",
            "showbackground": true,
            "ticks": "",
            "zerolinecolor": "white"
           }
          },
          "shapedefaults": {
           "line": {
            "color": "#2a3f5f"
           }
          },
          "ternary": {
           "aaxis": {
            "gridcolor": "white",
            "linecolor": "white",
            "ticks": ""
           },
           "baxis": {
            "gridcolor": "white",
            "linecolor": "white",
            "ticks": ""
           },
           "bgcolor": "#E5ECF6",
           "caxis": {
            "gridcolor": "white",
            "linecolor": "white",
            "ticks": ""
           }
          },
          "title": {
           "x": 0.05
          },
          "xaxis": {
           "automargin": true,
           "gridcolor": "white",
           "linecolor": "white",
           "ticks": "",
           "title": {
            "standoff": 15
           },
           "zerolinecolor": "white",
           "zerolinewidth": 2
          },
          "yaxis": {
           "automargin": true,
           "gridcolor": "white",
           "linecolor": "white",
           "ticks": "",
           "title": {
            "standoff": 15
           },
           "zerolinecolor": "white",
           "zerolinewidth": 2
          }
         }
        },
        "title": {
         "text": "Predicted Sale Price vs. Actual Sale Price"
        },
        "xaxis": {
         "anchor": "y",
         "domain": [
          0,
          1
         ],
         "title": {
          "text": "Actual Sale Price"
         }
        },
        "yaxis": {
         "anchor": "x",
         "domain": [
          0,
          1
         ],
         "title": {
          "text": "Predicted Sale Price"
         }
        }
       }
      }
     },
     "metadata": {},
     "output_type": "display_data"
    },
    {
     "name": "stdout",
     "output_type": "stream",
     "text": [
      "Testing score: 0.7145447032176635\n"
     ]
    }
   ],
   "source": [
    "ada_regr_df = ada_regr_df.sort_values(by=[\"score\"], ascending=False).reset_index(drop=True)\n",
    "\n",
    "final_ada_regr_mdl = AdaBoostRegressor(estimator=DecisionTreeRegressor(max_depth=5),\n",
    "                                        loss=\"square\",\n",
    "                                        n_estimators=ada_regr_df.loc[0,\"estimator_count\"],\n",
    "                                        learning_rate=0.1,\n",
    "                                        random_state=43)\n",
    "\n",
    "final_ada_regr_mdl.fit(X_train, y_train)\n",
    "final_ada_regr_mdl.score(X_test, y_test)\n",
    "\n",
    "fig_7a = px.scatter(x=y_test, y=final_ada_regr_mdl.predict(X_test))\n",
    "\n",
    "fig_7a.update_xaxes(title_text=\"Actual Sale Price\")\n",
    "fig_7a.update_yaxes(title_text=\"Predicted Sale Price\")\n",
    "fig_7a.update_layout(title_text=\"Predicted Sale Price vs. Actual Sale Price\")\n",
    "fig_7a.show()\n",
    "\n",
    "print(f\"Testing score: {final_ada_regr_mdl.score(X_test, y_test)}\")"
   ]
  },
  {
   "cell_type": "markdown",
   "metadata": {},
   "source": [
    "----\n",
    "# <center>Testing Set </center>\n",
    "----"
   ]
  },
  {
   "cell_type": "markdown",
   "metadata": {},
   "source": [
    "The following testing set was obtained as part of the House Prices -- Advance Regression Techniques competition on Kaggle. Random Forest Regression was selected to be used to predict the house prices based on the selected features. The predicted house price was then submitted to Kaggle for evaluation."
   ]
  },
  {
   "cell_type": "code",
   "execution_count": 148,
   "metadata": {},
   "outputs": [
    {
     "data": {
      "text/html": [
       "<div>\n",
       "<style scoped>\n",
       "    .dataframe tbody tr th:only-of-type {\n",
       "        vertical-align: middle;\n",
       "    }\n",
       "\n",
       "    .dataframe tbody tr th {\n",
       "        vertical-align: top;\n",
       "    }\n",
       "\n",
       "    .dataframe thead th {\n",
       "        text-align: right;\n",
       "    }\n",
       "</style>\n",
       "<table border=\"1\" class=\"dataframe\">\n",
       "  <thead>\n",
       "    <tr style=\"text-align: right;\">\n",
       "      <th></th>\n",
       "      <th>gr_liv_area</th>\n",
       "      <th>garage_area</th>\n",
       "      <th>total_bsmt_sf</th>\n",
       "      <th>1st_flr_sf</th>\n",
       "      <th>year_remod_add</th>\n",
       "      <th>house_age</th>\n",
       "      <th>scaled_remod</th>\n",
       "    </tr>\n",
       "  </thead>\n",
       "  <tbody>\n",
       "    <tr>\n",
       "      <th>0</th>\n",
       "      <td>-1.179256</td>\n",
       "      <td>1.202536</td>\n",
       "      <td>-0.400017</td>\n",
       "      <td>-0.689929</td>\n",
       "      <td>-1.156380</td>\n",
       "      <td>0.411259</td>\n",
       "      <td>-0.712248</td>\n",
       "    </tr>\n",
       "    <tr>\n",
       "      <th>1</th>\n",
       "      <td>-0.354966</td>\n",
       "      <td>-0.753188</td>\n",
       "      <td>0.619239</td>\n",
       "      <td>0.430511</td>\n",
       "      <td>-1.301740</td>\n",
       "      <td>0.510587</td>\n",
       "      <td>-0.712248</td>\n",
       "    </tr>\n",
       "    <tr>\n",
       "      <th>2</th>\n",
       "      <td>0.216136</td>\n",
       "      <td>0.042202</td>\n",
       "      <td>-0.295127</td>\n",
       "      <td>-0.607125</td>\n",
       "      <td>0.636400</td>\n",
       "      <td>-0.780683</td>\n",
       "      <td>-0.498028</td>\n",
       "    </tr>\n",
       "    <tr>\n",
       "      <th>3</th>\n",
       "      <td>0.168544</td>\n",
       "      <td>-0.013943</td>\n",
       "      <td>-0.299687</td>\n",
       "      <td>-0.612300</td>\n",
       "      <td>0.636400</td>\n",
       "      <td>-0.813792</td>\n",
       "      <td>-0.712248</td>\n",
       "    </tr>\n",
       "    <tr>\n",
       "      <th>4</th>\n",
       "      <td>-0.448246</td>\n",
       "      <td>0.154492</td>\n",
       "      <td>0.507509</td>\n",
       "      <td>0.303718</td>\n",
       "      <td>0.345679</td>\n",
       "      <td>-0.615135</td>\n",
       "      <td>-0.712248</td>\n",
       "    </tr>\n",
       "    <tr>\n",
       "      <th>...</th>\n",
       "      <td>...</td>\n",
       "      <td>...</td>\n",
       "      <td>...</td>\n",
       "      <td>...</td>\n",
       "      <td>...</td>\n",
       "      <td>...</td>\n",
       "      <td>...</td>\n",
       "    </tr>\n",
       "    <tr>\n",
       "      <th>1454</th>\n",
       "      <td>-0.806136</td>\n",
       "      <td>-2.212963</td>\n",
       "      <td>-1.166169</td>\n",
       "      <td>-1.595596</td>\n",
       "      <td>-0.720298</td>\n",
       "      <td>-0.019165</td>\n",
       "      <td>-0.712248</td>\n",
       "    </tr>\n",
       "    <tr>\n",
       "      <th>1455</th>\n",
       "      <td>-0.806136</td>\n",
       "      <td>-0.874836</td>\n",
       "      <td>-1.166169</td>\n",
       "      <td>-1.595596</td>\n",
       "      <td>-0.720298</td>\n",
       "      <td>-0.019165</td>\n",
       "      <td>-0.712248</td>\n",
       "    </tr>\n",
       "    <tr>\n",
       "      <th>1456</th>\n",
       "      <td>-0.554851</td>\n",
       "      <td>0.482006</td>\n",
       "      <td>0.379817</td>\n",
       "      <td>0.158811</td>\n",
       "      <td>0.539493</td>\n",
       "      <td>0.311930</td>\n",
       "      <td>1.467209</td>\n",
       "    </tr>\n",
       "    <tr>\n",
       "      <th>1457</th>\n",
       "      <td>-1.038384</td>\n",
       "      <td>-2.212963</td>\n",
       "      <td>-0.331610</td>\n",
       "      <td>-0.498445</td>\n",
       "      <td>0.345679</td>\n",
       "      <td>-0.747573</td>\n",
       "      <td>-0.712248</td>\n",
       "    </tr>\n",
       "    <tr>\n",
       "      <th>1458</th>\n",
       "      <td>0.922399</td>\n",
       "      <td>0.828234</td>\n",
       "      <td>-0.140072</td>\n",
       "      <td>-0.431167</td>\n",
       "      <td>0.442586</td>\n",
       "      <td>-0.780683</td>\n",
       "      <td>-0.498028</td>\n",
       "    </tr>\n",
       "  </tbody>\n",
       "</table>\n",
       "<p>1459 rows × 7 columns</p>\n",
       "</div>"
      ],
      "text/plain": [
       "      gr_liv_area  garage_area  total_bsmt_sf  1st_flr_sf  year_remod_add  \\\n",
       "0       -1.179256     1.202536      -0.400017   -0.689929       -1.156380   \n",
       "1       -0.354966    -0.753188       0.619239    0.430511       -1.301740   \n",
       "2        0.216136     0.042202      -0.295127   -0.607125        0.636400   \n",
       "3        0.168544    -0.013943      -0.299687   -0.612300        0.636400   \n",
       "4       -0.448246     0.154492       0.507509    0.303718        0.345679   \n",
       "...           ...          ...            ...         ...             ...   \n",
       "1454    -0.806136    -2.212963      -1.166169   -1.595596       -0.720298   \n",
       "1455    -0.806136    -0.874836      -1.166169   -1.595596       -0.720298   \n",
       "1456    -0.554851     0.482006       0.379817    0.158811        0.539493   \n",
       "1457    -1.038384    -2.212963      -0.331610   -0.498445        0.345679   \n",
       "1458     0.922399     0.828234      -0.140072   -0.431167        0.442586   \n",
       "\n",
       "      house_age  scaled_remod  \n",
       "0      0.411259     -0.712248  \n",
       "1      0.510587     -0.712248  \n",
       "2     -0.780683     -0.498028  \n",
       "3     -0.813792     -0.712248  \n",
       "4     -0.615135     -0.712248  \n",
       "...         ...           ...  \n",
       "1454  -0.019165     -0.712248  \n",
       "1455  -0.019165     -0.712248  \n",
       "1456   0.311930      1.467209  \n",
       "1457  -0.747573     -0.712248  \n",
       "1458  -0.780683     -0.498028  \n",
       "\n",
       "[1459 rows x 7 columns]"
      ]
     },
     "execution_count": 148,
     "metadata": {},
     "output_type": "execute_result"
    }
   ],
   "source": [
    "house_testing_set = pd.read_csv(\"house_price_test.csv\")\n",
    "house_testing_set.columns = [infl.underscore(val) for val in house_testing_set.columns]\n",
    "\n",
    "id_col = house_testing_set[\"id\"]\n",
    "\n",
    "coi_testing = [\"gr_liv_area\", \"garage_area\", \"total_bsmt_sf\", \"1st_flr_sf\", \"year_built\", \n",
    "                \"yr_sold\", \"year_remod_add\", \"mo_sold\"]\n",
    "\n",
    "house_testing_set = house_testing_set[coi_testing]\n",
    "\n",
    "##### Feature engineering\n",
    "house_testing_set[\"house_age\"] = house_testing_set[\"yr_sold\"] - house_testing_set[\"year_built\"]\n",
    "house_testing_set.loc[house_testing_set[\"house_age\"]==0, \"house_age\"] = house_testing_set.loc[house_testing_set[\"house_age\"]==0, \"mo_sold\"]/12\n",
    "house_testing_set[\"scaled_remod\"] = (house_testing_set[\"year_remod_add\"] - house_testing_set[\"year_built\"])/house_testing_set[\"house_age\"]\n",
    "\n",
    "##### Drop unnecessary columns\n",
    "house_testing_set = house_testing_set.drop(columns=[\"year_built\", \"yr_sold\", \"mo_sold\"])\n",
    "\n",
    "##### fillna\n",
    "house_testing_set = house_testing_set.fillna(0)\n",
    "\n",
    "##### transform values\n",
    "scaled_testing_set = std_scaler.transform(house_testing_set)\n",
    "\n",
    "##### recreate dataframe after scaling and encoding\n",
    "house_testing_set = pd.DataFrame(data=scaled_testing_set, columns=std_scaler.feature_names_in_)\n",
    "\n",
    "house_testing_set"
   ]
  },
  {
   "cell_type": "code",
   "execution_count": 151,
   "metadata": {},
   "outputs": [],
   "source": [
    "prediction = final_rfr_mdl.predict(house_testing_set)\n",
    "\n",
    "submission = pd.DataFrame(list(zip(id_col, prediction)), columns=[\"Id\", \"SalePrice\"])\n",
    "submission.to_csv(\"submission_house.csv\", index=False)"
   ]
  },
  {
   "cell_type": "code",
   "execution_count": 141,
   "metadata": {},
   "outputs": [
    {
     "data": {
      "text/html": [
       "<div>\n",
       "<style scoped>\n",
       "    .dataframe tbody tr th:only-of-type {\n",
       "        vertical-align: middle;\n",
       "    }\n",
       "\n",
       "    .dataframe tbody tr th {\n",
       "        vertical-align: top;\n",
       "    }\n",
       "\n",
       "    .dataframe thead th {\n",
       "        text-align: right;\n",
       "    }\n",
       "</style>\n",
       "<table border=\"1\" class=\"dataframe\">\n",
       "  <thead>\n",
       "    <tr style=\"text-align: right;\">\n",
       "      <th></th>\n",
       "      <th>gr_liv_area</th>\n",
       "      <th>garage_area</th>\n",
       "      <th>total_bsmt_sf</th>\n",
       "      <th>1st_flr_sf</th>\n",
       "      <th>year_built</th>\n",
       "      <th>yr_sold</th>\n",
       "      <th>year_remod_add</th>\n",
       "      <th>mo_sold</th>\n",
       "      <th>house_age</th>\n",
       "      <th>scaled_remod</th>\n",
       "    </tr>\n",
       "  </thead>\n",
       "  <tbody>\n",
       "    <tr>\n",
       "      <th>660</th>\n",
       "      <td>896</td>\n",
       "      <td>280.0</td>\n",
       "      <td>NaN</td>\n",
       "      <td>896</td>\n",
       "      <td>1946</td>\n",
       "      <td>2008</td>\n",
       "      <td>1950</td>\n",
       "      <td>4</td>\n",
       "      <td>62.0</td>\n",
       "      <td>0.064516</td>\n",
       "    </tr>\n",
       "  </tbody>\n",
       "</table>\n",
       "</div>"
      ],
      "text/plain": [
       "     gr_liv_area  garage_area  total_bsmt_sf  1st_flr_sf  year_built  yr_sold  \\\n",
       "660          896        280.0            NaN         896        1946     2008   \n",
       "\n",
       "     year_remod_add  mo_sold  house_age  scaled_remod  \n",
       "660            1950        4       62.0      0.064516  "
      ]
     },
     "execution_count": 141,
     "metadata": {},
     "output_type": "execute_result"
    }
   ],
   "source": [
    "# house_testing_set[house_testing_set[\"garage_area\"].isna()]\n",
    "house_testing_set[house_testing_set[\"total_bsmt_sf\"].isna()]"
   ]
  },
  {
   "cell_type": "markdown",
   "metadata": {},
   "source": [
    "----\n",
    "# <center>Regression Analysis </center>\n",
    "----"
   ]
  },
  {
   "cell_type": "code",
   "execution_count": 8,
   "metadata": {},
   "outputs": [
    {
     "data": {
      "application/vnd.plotly.v1+json": {
       "config": {
        "plotlyServerURL": "https://plot.ly"
       },
       "data": [
        {
         "hovertemplate": "x=%{x}<br>y=%{y}<extra></extra>",
         "legendgroup": "",
         "marker": {
          "color": "#636efa",
          "symbol": "circle"
         },
         "mode": "markers",
         "name": "",
         "orientation": "v",
         "showlegend": false,
         "type": "scatter",
         "x": [
          189950,
          180000,
          136500,
          160000,
          135000,
          240000,
          100000,
          169900,
          119500,
          240000,
          148000,
          305900,
          140000,
          110000,
          179200,
          99500,
          125000,
          61000,
          143000,
          140000,
          402000,
          93000,
          235000,
          248328,
          200624,
          380000,
          119000,
          132000,
          136500,
          112000,
          137500,
          81000,
          123000,
          157500,
          109500,
          179665,
          501837,
          190000,
          230000,
          149000,
          276000,
          170000,
          60000,
          132000,
          193879,
          104900,
          152000,
          194201,
          171000,
          200000,
          110000,
          152000,
          173000,
          485000,
          120000,
          135500,
          133900,
          245500,
          226000,
          181900,
          112000,
          108500,
          167500,
          410000,
          177500,
          199900,
          150900,
          310000,
          55993,
          369900,
          231500,
          156000,
          134800,
          140000,
          119900,
          196000,
          172000,
          244000,
          161750,
          132000,
          130500,
          180500,
          302000,
          202500,
          228000,
          140000,
          125000,
          174900,
          278000,
          165500,
          131500,
          212000,
          215000,
          466500,
          136000,
          130000,
          168000,
          225000,
          345000,
          138000,
          160000,
          52000,
          82500,
          165000,
          178400,
          177000,
          208900,
          119000,
          311872,
          164500,
          229456,
          240000,
          181000,
          242000,
          135000,
          131500,
          146000,
          210000,
          145000,
          179000,
          180000,
          161500,
          157000,
          155000,
          239000,
          126000,
          168000,
          226000,
          157900,
          118000,
          185000,
          383970,
          175000,
          187500,
          187500,
          290000,
          173733,
          315000,
          176000,
          313000,
          129900,
          194000,
          108000,
          234000,
          113000,
          286000,
          244600,
          315000,
          103000,
          68500,
          252000,
          128000,
          87000,
          122500,
          107900,
          236000,
          160000,
          106250,
          212000,
          124500,
          101800,
          175000,
          129500,
          131400,
          128000,
          187000,
          215000,
          100000,
          372500,
          318000,
          394432,
          137000,
          259500,
          142500,
          277500,
          76000,
          253293,
          170000,
          185000,
          227680,
          290000,
          173500,
          140000,
          124000,
          184000,
          145000,
          165000,
          96500,
          246578,
          156000,
          187750,
          465000,
          138500,
          230000,
          93500,
          114500,
          315000,
          232000,
          128950,
          175000,
          129000,
          115000,
          151000,
          174000,
          266000,
          180000,
          190000,
          91500,
          221500,
          424870,
          97500,
          115000,
          120500,
          287000,
          113000,
          158000,
          125000,
          110000,
          173000,
          340000,
          214000,
          115000,
          185850,
          274000,
          126175,
          112000,
          233230,
          204900,
          205000,
          113000,
          216000,
          215000,
          167500,
          207000,
          86000,
          90000,
          80000,
          97000,
          335000,
          375000,
          187500,
          250000,
          108000,
          184750,
          217500,
          206000,
          149900,
          230000,
          275000,
          181000,
          162000,
          175500,
          140000,
          240000,
          266000,
          187100,
          34900,
          126000,
          110000,
          145000,
          150000,
          163500,
          147000,
          336000,
          237500,
          188000,
          222000,
          87500,
          266500,
          75500,
          117000,
          160000,
          127000,
          306000,
          107500,
          132000,
          172400,
          67000,
          235000,
          153575,
          149500,
          239000,
          234000,
          88000,
          270000,
          197900,
          91000,
          196500,
          119200,
          115000,
          129500,
          272000,
          87000,
          348000,
          129500,
          139000,
          143000,
          324000,
          130000,
          625000,
          215200,
          154000,
          385000,
          158500,
          135500,
          392500,
          287000,
          88000,
          210000,
          134500,
          176432,
          193000,
          315750,
          204000,
          215000,
          176000,
          128500,
          262500,
          159434,
          244400,
          196500,
          185000,
          120500,
          84900,
          58500,
          171750,
          181000,
          132500,
          187500,
          205000,
          250000,
          190000,
          109000,
          129900,
          162900,
          191000,
          184900,
          97000,
          263435,
          167000,
          260000,
          173000,
          89500,
          197500,
          213500,
          85000,
          159500,
          151000,
          215000,
          92000,
          118000,
          159000,
          167000,
          275000,
          155000,
          154000,
          86000,
          135000,
          145000,
          204750,
          212900,
          140000,
          200000,
          72500,
          126000,
          79000,
          105500,
          272000,
          73000,
          106500,
          141000,
          135000,
          224900,
          165150,
          360000,
          125000,
          201000,
          103600,
          179900,
          184000,
          167000,
          124000,
          128000,
          260000,
          35311,
          415298,
          179900,
          173900,
          403000,
          135000,
          175500,
          37900,
          202900,
          123000,
          135000,
          143500,
          136000,
          193500,
          109008,
          200000,
          135000,
          125500,
          143000,
          268000,
          100000,
          142000,
          147000,
          67000,
          162000,
          227000,
          235000,
          209500,
          92900,
          140000,
          85000,
          109500,
          178000,
          294000,
          136905,
          185000,
          134000,
          194700,
          281213,
          185000,
          201000,
          170000,
          106000,
          255500,
          181000,
          437154,
          178000,
          139950,
          105000,
          446261,
          207000,
          95000,
          100000,
          134000,
          127500,
          100000,
          140000,
          139000,
          125500,
          200000,
          185000,
          175000,
          146500,
          194000,
          121000,
          174500,
          165000,
          278000,
          159000,
          245000,
          212000,
          268000,
          148000,
          141000,
          163990,
          188000,
          55000,
          183000,
          173000,
          184000,
          55000,
          130000,
          137450,
          144000,
          335000,
          250580,
          224900,
          115000,
          260400,
          205000,
          143000,
          169000,
          164700,
          231500,
          143500,
          129000,
          173000,
          213000,
          195000,
          110000,
          129000,
          100000,
          89000,
          158000,
          128200,
          124000,
          250000,
          128000,
          290000,
          153337,
          110000,
          206900,
          154500,
          130000,
          253000,
          139000,
          66500,
          335000,
          136000,
          119500,
          98000,
          145000,
          220000,
          179500,
          125500,
          105000,
          156932,
          176000,
          157900,
          255900,
          267000,
          144152,
          190000,
          135000,
          139000,
          176000,
          333168,
          237000,
          158900,
          277000,
          84500,
          149000,
          260000,
          134432,
          213000,
          133000,
          208500,
          241000,
          168000,
          180000,
          159000,
          144000,
          144000,
          114504,
          249700,
          262280,
          145000,
          131000,
          191000,
          178900,
          79900,
          132250,
          110000,
          105000,
          263000,
          39300,
          293077,
          136500,
          239799,
          244000,
          232600,
          239000,
          119000,
          103200,
          93000,
          213250,
          144000,
          236500,
          85500,
          229000,
          121500,
          155000,
          228950,
          117000,
          402861,
          170000,
          261500,
          328000,
          325000,
          283463,
          176000,
          172500,
          157500,
          193000,
          325300,
          147000,
          144000,
          163000,
          164000,
          79900
         ],
         "xaxis": "x",
         "y": [
          129860.1188557227,
          172991.72964315207,
          164417.17630982256,
          164030.54106573225,
          211054.00360681818,
          300587.4376306134,
          73075.4847097267,
          167501.41676455544,
          126770.02508900434,
          239030.1768503107,
          149348.696970327,
          307269.56739856896,
          102275.25727833061,
          133155.44770225155,
          216428.53053103882,
          114869.86488678177,
          111159.51531712149,
          48878.89382565196,
          140429.7307803726,
          142161.1222334894,
          316786.5913905201,
          114957.41903405212,
          246456.68778883747,
          272059.8238349771,
          277271.4611938202,
          335560.2080275938,
          93364.90440377353,
          122274.85958985164,
          143923.68694939886,
          107581.53248386287,
          125747.61225253501,
          150037.14401280228,
          130288.48193608318,
          153629.1950080157,
          88351.71921371465,
          186791.31698521698,
          372677.49815186433,
          274193.6860539207,
          261094.08341316355,
          143915.0761765485,
          321506.3164313538,
          167305.41884984134,
          36645.58299588016,
          126071.81456140512,
          210055.25251632987,
          162462.37936033824,
          166455.02892777362,
          246009.17262980287,
          169964.90031534765,
          288690.83547157503,
          100735.2656454695,
          153094.09276255046,
          185665.7953260553,
          402961.1012639125,
          129890.11687886443,
          121637.78832070489,
          132099.51740067994,
          186817.25732485118,
          218206.51973034622,
          186875.6361823565,
          120280.53100101667,
          83348.21657017258,
          146775.294504082,
          361541.46120162285,
          188294.53182843106,
          220797.14427395328,
          221125.71752562418,
          262235.8539377181,
          105111.290926325,
          326702.21898137627,
          221861.58391680283,
          129593.20474541947,
          140102.47108806315,
          164769.10962796188,
          108395.83038638196,
          207978.39959348948,
          197538.2144313436,
          227464.26026011354,
          141480.6299051157,
          124134.44586862618,
          128959.6643771987,
          153852.37514959287,
          313572.5162594289,
          217409.71080994263,
          247777.96693109375,
          119913.51420508658,
          144382.7961034465,
          144671.13418715438,
          303703.9824494093,
          158138.26480040685,
          131106.73558230832,
          200796.6214111702,
          215425.04455057194,
          359160.4659587424,
          115089.86170843699,
          237730.78851169936,
          185382.87799272974,
          231556.29489194724,
          310790.55095774936,
          154722.98159235372,
          106427.2787924232,
          60889.07022779103,
          35930.30257638023,
          162781.87865239376,
          164740.21956702508,
          187317.24845506143,
          232031.30160490278,
          101315.22480695575,
          263830.10135764343,
          173929.69364601755,
          204476.45668291784,
          248590.82066073443,
          188611.8662597958,
          302568.3568576815,
          84602.271614036,
          143775.28800228116,
          196970.44461126777,
          144934.55231775198,
          104714.28920063117,
          205672.61886334626,
          187162.33261889027,
          188179.48516061174,
          149903.60874937492,
          141100.0275751893,
          264561.2100240485,
          166906.17498959915,
          250856.33758972702,
          241531.78612506852,
          130154.877150964,
          132693.3009953839,
          199242.0200028475,
          317762.8362764929,
          196883.32686286533,
          168106.42217832728,
          179938.1352035786,
          236919.92447328553,
          173929.69364601755,
          304341.3277158537,
          179087.50058041938,
          273662.43970698095,
          150359.12030355577,
          190484.15244970497,
          112528.03527314548,
          199689.79294368444,
          114736.25501006008,
          241207.44763291662,
          274844.32554727,
          302632.7045666432,
          112637.65940799215,
          35959.22509011949,
          281562.8258694306,
          143626.352502836,
          49959.27359948176,
          166041.64876686607,
          124044.6010773569,
          229302.04314481877,
          177823.59160471428,
          64285.545408395046,
          222836.55494264566,
          109915.20872319091,
          112404.55970582884,
          210281.0952697334,
          118640.75522900652,
          130894.63227815958,
          107163.51140868933,
          203483.25399042232,
          231372.75979820653,
          124080.82131289039,
          300333.6671353472,
          262570.53715672897,
          281318.61828638107,
          170104.20746650567,
          219301.6039439193,
          181372.3444147538,
          229193.11034146667,
          71435.93622962883,
          369097.833099943,
          155061.16455405956,
          213005.69171266546,
          216515.86989430655,
          287559.7554858101,
          193377.3143224417,
          158455.985134848,
          94249.2743271266,
          191271.41785891197,
          179374.91453067094,
          147376.5915271849,
          60798.68240026233,
          226388.82358750096,
          137829.72298358014,
          204358.05118656743,
          304495.9945860361,
          123269.85034853683,
          223835.7451267413,
          83580.4902242111,
          97561.57760566333,
          247706.6083369957,
          231847.87910330546,
          101366.77826376457,
          184143.87559358016,
          99978.4042053315,
          83053.18214477386,
          167108.5197271063,
          183482.44631710034,
          276951.5869109519,
          219118.07078761188,
          221296.58448729853,
          126623.2727996218,
          287231.03597308544,
          381665.99764244526,
          129454.00457421888,
          138146.6571150386,
          129521.61388194989,
          286708.1851914155,
          117124.9597613771,
          130218.88433526328,
          107969.89789650221,
          114448.49002876756,
          207333.35518555657,
          306825.54148409166,
          242602.16871972493,
          122214.10075496013,
          204491.77157608443,
          230388.89619746586,
          153818.9236527492,
          91831.23581265775,
          249089.2263092061,
          232550.142583978,
          250501.55608736863,
          124764.24691973248,
          213039.15571524168,
          231314.9045002765,
          184564.27648538302,
          201308.68738106004,
          48962.85620921446,
          179911.44637141467,
          78850.4419302574,
          124536.52967915667,
          278248.36045078747,
          238731.27460418548,
          233816.17295769128,
          252901.1188814019,
          123279.01761119853,
          561836.5759717383,
          210878.19565166833,
          195896.76585877204,
          174617.72278702012,
          235791.27020828213,
          230392.81576108167,
          199755.4080432677,
          152922.13278292544,
          163843.73300131696,
          156390.40369915866,
          247750.6965632962,
          241702.9466123829,
          217052.96610641846,
          34870.927540014585,
          141430.3958563576,
          100690.02976128041,
          143025.84352424,
          150872.2044366064,
          200920.84808811694,
          145168.00594218684,
          295879.557135199,
          226761.51582340582,
          220137.05831538144,
          229738.12313664562,
          83295.77894833688,
          223718.95148662053,
          59740.20586822914,
          126070.09590566505,
          152330.60690293642,
          138919.82780581168,
          268809.5140459343,
          181191.05121400193,
          117094.6269509948,
          205793.0828872258,
          47131.33291451898,
          220474.27600186982,
          132559.47190073447,
          168934.32982565576,
          252729.54373524705,
          222994.8995354069,
          108800.08058637443,
          275891.19319844194,
          209528.20548491552,
          59283.067410441334,
          198172.24160309578,
          104534.7989491631,
          104967.92753726385,
          124350.35411028106,
          312350.54206163576,
          167123.68872781371,
          301512.388315902,
          151281.9517862499,
          136826.5460124106,
          160160.2760854405,
          227542.8186860016,
          102112.69459833555,
          399047.3927211547,
          207239.67999771703,
          158159.59323808097,
          268261.67025848804,
          148129.21240538266,
          126842.31793076452,
          233229.88661845803,
          309668.4421453637,
          106695.95340538611,
          214964.10267144433,
          110855.71400574448,
          196340.61702651024,
          222963.5388748213,
          296447.8266913229,
          216850.2146486663,
          234404.65106134815,
          180678.10643118672,
          116666.50412522073,
          269007.82551558974,
          146947.2197890211,
          199305.8685001127,
          217903.38683381118,
          186461.05885378658,
          119243.74436883522,
          98065.27973501399,
          59403.302210212976,
          206424.97538037846,
          202727.23112746901,
          132954.9191932017,
          194121.572709832,
          179610.5182214611,
          277057.09570985613,
          215457.1019066225,
          139147.47637719024,
          157496.47140806998,
          161070.75103535844,
          204674.57407977642,
          187511.66286301453,
          69223.06278724445,
          232793.55056344054,
          203665.6926753645,
          263924.7562188556,
          203400.14833060125,
          99495.2143163354,
          192542.70481744985,
          201701.03168274637,
          37603.005521948624,
          219955.13368065527,
          134956.2893439136,
          201046.54981146244,
          61074.79528848623,
          129233.95826161993,
          156393.99533541244,
          164490.49243944767,
          218400.9134890821,
          177305.5871621506,
          157132.68802087518,
          107754.58181305575,
          110277.5513876363,
          211882.11565988362,
          222741.15778535022,
          274941.87642842886,
          159564.86456634803,
          214725.39059532108,
          49526.88002524979,
          94478.39738714545,
          96713.82290807068,
          102539.52988507545,
          238066.34192606265,
          103351.63797890623,
          71882.09963738722,
          145891.38167765213,
          116081.2899707641,
          233138.9958035775,
          183944.73561786913,
          287259.8621667546,
          203873.09771178878,
          225974.95976498578,
          103407.32506852434,
          201061.22683057637,
          222695.04039100974,
          178159.92064925618,
          140890.70380248144,
          114840.47084502739,
          194124.42319088485,
          48051.98127545224,
          330541.5642096639,
          183009.63812028445,
          229502.10493782564,
          322490.677999583,
          142243.56780042307,
          192662.728334142,
          42408.3618906386,
          220268.5285944175,
          119806.14522694127,
          112138.0722146702,
          154474.52384185742,
          181724.98960070204,
          232974.40957489563,
          100726.87651263142,
          222697.25551374734,
          141251.5881215794,
          108015.72415922485,
          201985.27426218314,
          275208.41771258117,
          103313.8008348344,
          150817.20090825186,
          157597.9380230534,
          94327.40745583308,
          169601.91554992145,
          225135.0039516161,
          249797.04868119158,
          234428.1740375299,
          81159.24157102346,
          148634.43631052558,
          118292.48670880731,
          100199.16496438827,
          179768.15869333045,
          259672.30487804193,
          212093.80400987525,
          198707.50799648362,
          156316.89005114933,
          216809.87422588395,
          300334.72267594014,
          144686.96594380963,
          203333.04516157415,
          208152.5696788522,
          158268.73870723983,
          269331.29632028355,
          212207.80282961982,
          362568.9599074201,
          165293.8030621174,
          136429.55732808012,
          108989.60176271346,
          329907.8664562144,
          172765.19325176495,
          84978.73432776314,
          55376.926299166225,
          153522.68407979293,
          93683.36683041278,
          113414.22877774689,
          175462.95043179323,
          125857.93533260902,
          112544.57189316793,
          241162.48959726986,
          186267.67711535847,
          155645.30742543956,
          163240.85089443106,
          199898.39378226348,
          70102.82129583924,
          122211.60136408929,
          178741.15568339915,
          224526.44488623526,
          188332.57521037068,
          244752.0587304227,
          199345.75371066135,
          268653.33895197284,
          152460.9889915089,
          120751.93941141097,
          213375.98246488208,
          211982.44470160114,
          43956.85474474836,
          209758.6331486999,
          195241.58686081567,
          144037.1654447061,
          44829.10995277332,
          134633.75205152069,
          144905.88090350822,
          147263.44068871252,
          279402.33363255556,
          238693.54745049388,
          217976.19815953117,
          136851.90164872038,
          232686.34046539734,
          245799.53633378094,
          205372.84588024524,
          195205.77542298625,
          205289.96259461265,
          207495.88599584223,
          162065.03113855195,
          117522.38621762133,
          174434.91817443934,
          196376.58395747226,
          212415.48473460728,
          101106.91275690007,
          150867.77808354524,
          125726.79526293669,
          41915.91358729632,
          212312.84823130348,
          112648.2769012773,
          108735.08522184893,
          259374.49587363657,
          101991.94720916625,
          295408.3162245787,
          162155.32582593424,
          75137.72738698601,
          215360.78328385425,
          151535.16240106497,
          146944.86851614824,
          251273.76359950798,
          126522.2017246813,
          87501.1966958832,
          250461.07848937094,
          153457.72866126566,
          108987.20294983874,
          102998.6338262404,
          237506.91630138486,
          169316.43703946128,
          195301.0700973629,
          105231.9407158621,
          87662.13139412753,
          209684.78444620434,
          182553.03198626172,
          154345.17646474746,
          278773.50836731575,
          281399.55071463017,
          167108.5197271063,
          228893.1877325608,
          135740.0897144762,
          140234.25349727634,
          191888.83893370448,
          304945.31551289855,
          227497.98943607582,
          151401.07429586293,
          246206.23757755992,
          59378.32585497627,
          129191.43274040276,
          255280.21788591775,
          149436.31880847222,
          226031.33162449131,
          112512.10000522947,
          213302.3205026955,
          214155.73594645277,
          187936.58581062118,
          164884.1701966537,
          182508.99781483153,
          133262.03144909348,
          166775.65513486485,
          110889.1829956514,
          259056.0637746606,
          263033.753263784,
          112939.31828849837,
          134691.98725132312,
          219684.82687350738,
          216710.96990425355,
          99413.12601151668,
          142583.38730381688,
          101562.88110618998,
          98100.43988033854,
          251358.07419180725,
          -46.534937926218845,
          286012.5266519004,
          122083.88501675829,
          275245.68086512515,
          264701.05541871133,
          238615.02773530906,
          193308.64714959028,
          96430.68579286899,
          73137.50702072168,
          121129.4294481579,
          237195.93715323688,
          198562.40555358215,
          243938.13306022133,
          46707.73152195415,
          263260.79252693756,
          189185.50974883343,
          187656.95126758257,
          203059.64679119762,
          132924.77071123885,
          302245.9401596217,
          164858.40564239625,
          235433.23847908425,
          260001.19408714198,
          268080.7077072442,
          292121.3954272781,
          167940.81963879702,
          212884.61468111727,
          172268.8844771144,
          194930.87899855655,
          325345.7640314915,
          149904.83826981435,
          122966.32446233777,
          145391.58500936313,
          136477.9169695975,
          78509.39549914678
         ],
         "yaxis": "y"
        }
       ],
       "layout": {
        "legend": {
         "tracegroupgap": 0
        },
        "margin": {
         "t": 60
        },
        "template": {
         "data": {
          "bar": [
           {
            "error_x": {
             "color": "#2a3f5f"
            },
            "error_y": {
             "color": "#2a3f5f"
            },
            "marker": {
             "line": {
              "color": "#E5ECF6",
              "width": 0.5
             },
             "pattern": {
              "fillmode": "overlay",
              "size": 10,
              "solidity": 0.2
             }
            },
            "type": "bar"
           }
          ],
          "barpolar": [
           {
            "marker": {
             "line": {
              "color": "#E5ECF6",
              "width": 0.5
             },
             "pattern": {
              "fillmode": "overlay",
              "size": 10,
              "solidity": 0.2
             }
            },
            "type": "barpolar"
           }
          ],
          "carpet": [
           {
            "aaxis": {
             "endlinecolor": "#2a3f5f",
             "gridcolor": "white",
             "linecolor": "white",
             "minorgridcolor": "white",
             "startlinecolor": "#2a3f5f"
            },
            "baxis": {
             "endlinecolor": "#2a3f5f",
             "gridcolor": "white",
             "linecolor": "white",
             "minorgridcolor": "white",
             "startlinecolor": "#2a3f5f"
            },
            "type": "carpet"
           }
          ],
          "choropleth": [
           {
            "colorbar": {
             "outlinewidth": 0,
             "ticks": ""
            },
            "type": "choropleth"
           }
          ],
          "contour": [
           {
            "colorbar": {
             "outlinewidth": 0,
             "ticks": ""
            },
            "colorscale": [
             [
              0,
              "#0d0887"
             ],
             [
              0.1111111111111111,
              "#46039f"
             ],
             [
              0.2222222222222222,
              "#7201a8"
             ],
             [
              0.3333333333333333,
              "#9c179e"
             ],
             [
              0.4444444444444444,
              "#bd3786"
             ],
             [
              0.5555555555555556,
              "#d8576b"
             ],
             [
              0.6666666666666666,
              "#ed7953"
             ],
             [
              0.7777777777777778,
              "#fb9f3a"
             ],
             [
              0.8888888888888888,
              "#fdca26"
             ],
             [
              1,
              "#f0f921"
             ]
            ],
            "type": "contour"
           }
          ],
          "contourcarpet": [
           {
            "colorbar": {
             "outlinewidth": 0,
             "ticks": ""
            },
            "type": "contourcarpet"
           }
          ],
          "heatmap": [
           {
            "colorbar": {
             "outlinewidth": 0,
             "ticks": ""
            },
            "colorscale": [
             [
              0,
              "#0d0887"
             ],
             [
              0.1111111111111111,
              "#46039f"
             ],
             [
              0.2222222222222222,
              "#7201a8"
             ],
             [
              0.3333333333333333,
              "#9c179e"
             ],
             [
              0.4444444444444444,
              "#bd3786"
             ],
             [
              0.5555555555555556,
              "#d8576b"
             ],
             [
              0.6666666666666666,
              "#ed7953"
             ],
             [
              0.7777777777777778,
              "#fb9f3a"
             ],
             [
              0.8888888888888888,
              "#fdca26"
             ],
             [
              1,
              "#f0f921"
             ]
            ],
            "type": "heatmap"
           }
          ],
          "heatmapgl": [
           {
            "colorbar": {
             "outlinewidth": 0,
             "ticks": ""
            },
            "colorscale": [
             [
              0,
              "#0d0887"
             ],
             [
              0.1111111111111111,
              "#46039f"
             ],
             [
              0.2222222222222222,
              "#7201a8"
             ],
             [
              0.3333333333333333,
              "#9c179e"
             ],
             [
              0.4444444444444444,
              "#bd3786"
             ],
             [
              0.5555555555555556,
              "#d8576b"
             ],
             [
              0.6666666666666666,
              "#ed7953"
             ],
             [
              0.7777777777777778,
              "#fb9f3a"
             ],
             [
              0.8888888888888888,
              "#fdca26"
             ],
             [
              1,
              "#f0f921"
             ]
            ],
            "type": "heatmapgl"
           }
          ],
          "histogram": [
           {
            "marker": {
             "pattern": {
              "fillmode": "overlay",
              "size": 10,
              "solidity": 0.2
             }
            },
            "type": "histogram"
           }
          ],
          "histogram2d": [
           {
            "colorbar": {
             "outlinewidth": 0,
             "ticks": ""
            },
            "colorscale": [
             [
              0,
              "#0d0887"
             ],
             [
              0.1111111111111111,
              "#46039f"
             ],
             [
              0.2222222222222222,
              "#7201a8"
             ],
             [
              0.3333333333333333,
              "#9c179e"
             ],
             [
              0.4444444444444444,
              "#bd3786"
             ],
             [
              0.5555555555555556,
              "#d8576b"
             ],
             [
              0.6666666666666666,
              "#ed7953"
             ],
             [
              0.7777777777777778,
              "#fb9f3a"
             ],
             [
              0.8888888888888888,
              "#fdca26"
             ],
             [
              1,
              "#f0f921"
             ]
            ],
            "type": "histogram2d"
           }
          ],
          "histogram2dcontour": [
           {
            "colorbar": {
             "outlinewidth": 0,
             "ticks": ""
            },
            "colorscale": [
             [
              0,
              "#0d0887"
             ],
             [
              0.1111111111111111,
              "#46039f"
             ],
             [
              0.2222222222222222,
              "#7201a8"
             ],
             [
              0.3333333333333333,
              "#9c179e"
             ],
             [
              0.4444444444444444,
              "#bd3786"
             ],
             [
              0.5555555555555556,
              "#d8576b"
             ],
             [
              0.6666666666666666,
              "#ed7953"
             ],
             [
              0.7777777777777778,
              "#fb9f3a"
             ],
             [
              0.8888888888888888,
              "#fdca26"
             ],
             [
              1,
              "#f0f921"
             ]
            ],
            "type": "histogram2dcontour"
           }
          ],
          "mesh3d": [
           {
            "colorbar": {
             "outlinewidth": 0,
             "ticks": ""
            },
            "type": "mesh3d"
           }
          ],
          "parcoords": [
           {
            "line": {
             "colorbar": {
              "outlinewidth": 0,
              "ticks": ""
             }
            },
            "type": "parcoords"
           }
          ],
          "pie": [
           {
            "automargin": true,
            "type": "pie"
           }
          ],
          "scatter": [
           {
            "fillpattern": {
             "fillmode": "overlay",
             "size": 10,
             "solidity": 0.2
            },
            "type": "scatter"
           }
          ],
          "scatter3d": [
           {
            "line": {
             "colorbar": {
              "outlinewidth": 0,
              "ticks": ""
             }
            },
            "marker": {
             "colorbar": {
              "outlinewidth": 0,
              "ticks": ""
             }
            },
            "type": "scatter3d"
           }
          ],
          "scattercarpet": [
           {
            "marker": {
             "colorbar": {
              "outlinewidth": 0,
              "ticks": ""
             }
            },
            "type": "scattercarpet"
           }
          ],
          "scattergeo": [
           {
            "marker": {
             "colorbar": {
              "outlinewidth": 0,
              "ticks": ""
             }
            },
            "type": "scattergeo"
           }
          ],
          "scattergl": [
           {
            "marker": {
             "colorbar": {
              "outlinewidth": 0,
              "ticks": ""
             }
            },
            "type": "scattergl"
           }
          ],
          "scattermapbox": [
           {
            "marker": {
             "colorbar": {
              "outlinewidth": 0,
              "ticks": ""
             }
            },
            "type": "scattermapbox"
           }
          ],
          "scatterpolar": [
           {
            "marker": {
             "colorbar": {
              "outlinewidth": 0,
              "ticks": ""
             }
            },
            "type": "scatterpolar"
           }
          ],
          "scatterpolargl": [
           {
            "marker": {
             "colorbar": {
              "outlinewidth": 0,
              "ticks": ""
             }
            },
            "type": "scatterpolargl"
           }
          ],
          "scatterternary": [
           {
            "marker": {
             "colorbar": {
              "outlinewidth": 0,
              "ticks": ""
             }
            },
            "type": "scatterternary"
           }
          ],
          "surface": [
           {
            "colorbar": {
             "outlinewidth": 0,
             "ticks": ""
            },
            "colorscale": [
             [
              0,
              "#0d0887"
             ],
             [
              0.1111111111111111,
              "#46039f"
             ],
             [
              0.2222222222222222,
              "#7201a8"
             ],
             [
              0.3333333333333333,
              "#9c179e"
             ],
             [
              0.4444444444444444,
              "#bd3786"
             ],
             [
              0.5555555555555556,
              "#d8576b"
             ],
             [
              0.6666666666666666,
              "#ed7953"
             ],
             [
              0.7777777777777778,
              "#fb9f3a"
             ],
             [
              0.8888888888888888,
              "#fdca26"
             ],
             [
              1,
              "#f0f921"
             ]
            ],
            "type": "surface"
           }
          ],
          "table": [
           {
            "cells": {
             "fill": {
              "color": "#EBF0F8"
             },
             "line": {
              "color": "white"
             }
            },
            "header": {
             "fill": {
              "color": "#C8D4E3"
             },
             "line": {
              "color": "white"
             }
            },
            "type": "table"
           }
          ]
         },
         "layout": {
          "annotationdefaults": {
           "arrowcolor": "#2a3f5f",
           "arrowhead": 0,
           "arrowwidth": 1
          },
          "autotypenumbers": "strict",
          "coloraxis": {
           "colorbar": {
            "outlinewidth": 0,
            "ticks": ""
           }
          },
          "colorscale": {
           "diverging": [
            [
             0,
             "#8e0152"
            ],
            [
             0.1,
             "#c51b7d"
            ],
            [
             0.2,
             "#de77ae"
            ],
            [
             0.3,
             "#f1b6da"
            ],
            [
             0.4,
             "#fde0ef"
            ],
            [
             0.5,
             "#f7f7f7"
            ],
            [
             0.6,
             "#e6f5d0"
            ],
            [
             0.7,
             "#b8e186"
            ],
            [
             0.8,
             "#7fbc41"
            ],
            [
             0.9,
             "#4d9221"
            ],
            [
             1,
             "#276419"
            ]
           ],
           "sequential": [
            [
             0,
             "#0d0887"
            ],
            [
             0.1111111111111111,
             "#46039f"
            ],
            [
             0.2222222222222222,
             "#7201a8"
            ],
            [
             0.3333333333333333,
             "#9c179e"
            ],
            [
             0.4444444444444444,
             "#bd3786"
            ],
            [
             0.5555555555555556,
             "#d8576b"
            ],
            [
             0.6666666666666666,
             "#ed7953"
            ],
            [
             0.7777777777777778,
             "#fb9f3a"
            ],
            [
             0.8888888888888888,
             "#fdca26"
            ],
            [
             1,
             "#f0f921"
            ]
           ],
           "sequentialminus": [
            [
             0,
             "#0d0887"
            ],
            [
             0.1111111111111111,
             "#46039f"
            ],
            [
             0.2222222222222222,
             "#7201a8"
            ],
            [
             0.3333333333333333,
             "#9c179e"
            ],
            [
             0.4444444444444444,
             "#bd3786"
            ],
            [
             0.5555555555555556,
             "#d8576b"
            ],
            [
             0.6666666666666666,
             "#ed7953"
            ],
            [
             0.7777777777777778,
             "#fb9f3a"
            ],
            [
             0.8888888888888888,
             "#fdca26"
            ],
            [
             1,
             "#f0f921"
            ]
           ]
          },
          "colorway": [
           "#636efa",
           "#EF553B",
           "#00cc96",
           "#ab63fa",
           "#FFA15A",
           "#19d3f3",
           "#FF6692",
           "#B6E880",
           "#FF97FF",
           "#FECB52"
          ],
          "font": {
           "color": "#2a3f5f"
          },
          "geo": {
           "bgcolor": "white",
           "lakecolor": "white",
           "landcolor": "#E5ECF6",
           "showlakes": true,
           "showland": true,
           "subunitcolor": "white"
          },
          "hoverlabel": {
           "align": "left"
          },
          "hovermode": "closest",
          "mapbox": {
           "style": "light"
          },
          "paper_bgcolor": "white",
          "plot_bgcolor": "#E5ECF6",
          "polar": {
           "angularaxis": {
            "gridcolor": "white",
            "linecolor": "white",
            "ticks": ""
           },
           "bgcolor": "#E5ECF6",
           "radialaxis": {
            "gridcolor": "white",
            "linecolor": "white",
            "ticks": ""
           }
          },
          "scene": {
           "xaxis": {
            "backgroundcolor": "#E5ECF6",
            "gridcolor": "white",
            "gridwidth": 2,
            "linecolor": "white",
            "showbackground": true,
            "ticks": "",
            "zerolinecolor": "white"
           },
           "yaxis": {
            "backgroundcolor": "#E5ECF6",
            "gridcolor": "white",
            "gridwidth": 2,
            "linecolor": "white",
            "showbackground": true,
            "ticks": "",
            "zerolinecolor": "white"
           },
           "zaxis": {
            "backgroundcolor": "#E5ECF6",
            "gridcolor": "white",
            "gridwidth": 2,
            "linecolor": "white",
            "showbackground": true,
            "ticks": "",
            "zerolinecolor": "white"
           }
          },
          "shapedefaults": {
           "line": {
            "color": "#2a3f5f"
           }
          },
          "ternary": {
           "aaxis": {
            "gridcolor": "white",
            "linecolor": "white",
            "ticks": ""
           },
           "baxis": {
            "gridcolor": "white",
            "linecolor": "white",
            "ticks": ""
           },
           "bgcolor": "#E5ECF6",
           "caxis": {
            "gridcolor": "white",
            "linecolor": "white",
            "ticks": ""
           }
          },
          "title": {
           "x": 0.05
          },
          "xaxis": {
           "automargin": true,
           "gridcolor": "white",
           "linecolor": "white",
           "ticks": "",
           "title": {
            "standoff": 15
           },
           "zerolinecolor": "white",
           "zerolinewidth": 2
          },
          "yaxis": {
           "automargin": true,
           "gridcolor": "white",
           "linecolor": "white",
           "ticks": "",
           "title": {
            "standoff": 15
           },
           "zerolinecolor": "white",
           "zerolinewidth": 2
          }
         }
        },
        "title": {
         "text": "Predicted Sale Price vs. Actual Sale Price"
        },
        "xaxis": {
         "anchor": "y",
         "domain": [
          0,
          1
         ],
         "title": {
          "text": "Actual Sale Price"
         }
        },
        "yaxis": {
         "anchor": "x",
         "domain": [
          0,
          1
         ],
         "title": {
          "text": "Predicted Sale Price"
         }
        }
       }
      }
     },
     "metadata": {},
     "output_type": "display_data"
    },
    {
     "name": "stdout",
     "output_type": "stream",
     "text": [
      "Test set score: 0.7550668341859367\n"
     ]
    }
   ],
   "source": [
    "fig_2a = px.scatter(x=y_test, y=lr_mod.predict(X_test))\n",
    "\n",
    "fig_2a.update_xaxes(title_text=\"Actual Sale Price\")\n",
    "fig_2a.update_yaxes(title_text=\"Predicted Sale Price\")\n",
    "fig_2a.update_layout(title_text=\"Predicted Sale Price vs. Actual Sale Price\")\n",
    "fig_2a.show()\n",
    "\n",
    "\n",
    "print(f\"Test set score: {lr_mod.score(X_test, y_test)}\")"
   ]
  },
  {
   "cell_type": "code",
   "execution_count": 13,
   "metadata": {},
   "outputs": [
    {
     "data": {
      "application/vnd.plotly.v1+json": {
       "config": {
        "plotlyServerURL": "https://plot.ly"
       },
       "data": [
        {
         "hovertemplate": "x=%{x}<br>y=%{y}<extra></extra>",
         "legendgroup": "",
         "marker": {
          "color": "#636efa",
          "symbol": "circle"
         },
         "mode": "markers",
         "name": "",
         "orientation": "v",
         "showlegend": false,
         "type": "scatter",
         "x": [
          129860.1188557227,
          172991.72964315207,
          164417.17630982256,
          164030.54106573225,
          211054.00360681818,
          300587.4376306134,
          73075.4847097267,
          167501.41676455544,
          126770.02508900434,
          239030.1768503107,
          149348.696970327,
          307269.56739856896,
          102275.25727833061,
          133155.44770225155,
          216428.53053103882,
          114869.86488678177,
          111159.51531712149,
          48878.89382565196,
          140429.7307803726,
          142161.1222334894,
          316786.5913905201,
          114957.41903405212,
          246456.68778883747,
          272059.8238349771,
          277271.4611938202,
          335560.2080275938,
          93364.90440377353,
          122274.85958985164,
          143923.68694939886,
          107581.53248386287,
          125747.61225253501,
          150037.14401280228,
          130288.48193608318,
          153629.1950080157,
          88351.71921371465,
          186791.31698521698,
          372677.49815186433,
          274193.6860539207,
          261094.08341316355,
          143915.0761765485,
          321506.3164313538,
          167305.41884984134,
          36645.58299588016,
          126071.81456140512,
          210055.25251632987,
          162462.37936033824,
          166455.02892777362,
          246009.17262980287,
          169964.90031534765,
          288690.83547157503,
          100735.2656454695,
          153094.09276255046,
          185665.7953260553,
          402961.1012639125,
          129890.11687886443,
          121637.78832070489,
          132099.51740067994,
          186817.25732485118,
          218206.51973034622,
          186875.6361823565,
          120280.53100101667,
          83348.21657017258,
          146775.294504082,
          361541.46120162285,
          188294.53182843106,
          220797.14427395328,
          221125.71752562418,
          262235.8539377181,
          105111.290926325,
          326702.21898137627,
          221861.58391680283,
          129593.20474541947,
          140102.47108806315,
          164769.10962796188,
          108395.83038638196,
          207978.39959348948,
          197538.2144313436,
          227464.26026011354,
          141480.6299051157,
          124134.44586862618,
          128959.6643771987,
          153852.37514959287,
          313572.5162594289,
          217409.71080994263,
          247777.96693109375,
          119913.51420508658,
          144382.7961034465,
          144671.13418715438,
          303703.9824494093,
          158138.26480040685,
          131106.73558230832,
          200796.6214111702,
          215425.04455057194,
          359160.4659587424,
          115089.86170843699,
          237730.78851169936,
          185382.87799272974,
          231556.29489194724,
          310790.55095774936,
          154722.98159235372,
          106427.2787924232,
          60889.07022779103,
          35930.30257638023,
          162781.87865239376,
          164740.21956702508,
          187317.24845506143,
          232031.30160490278,
          101315.22480695575,
          263830.10135764343,
          173929.69364601755,
          204476.45668291784,
          248590.82066073443,
          188611.8662597958,
          302568.3568576815,
          84602.271614036,
          143775.28800228116,
          196970.44461126777,
          144934.55231775198,
          104714.28920063117,
          205672.61886334626,
          187162.33261889027,
          188179.48516061174,
          149903.60874937492,
          141100.0275751893,
          264561.2100240485,
          166906.17498959915,
          250856.33758972702,
          241531.78612506852,
          130154.877150964,
          132693.3009953839,
          199242.0200028475,
          317762.8362764929,
          196883.32686286533,
          168106.42217832728,
          179938.1352035786,
          236919.92447328553,
          173929.69364601755,
          304341.3277158537,
          179087.50058041938,
          273662.43970698095,
          150359.12030355577,
          190484.15244970497,
          112528.03527314548,
          199689.79294368444,
          114736.25501006008,
          241207.44763291662,
          274844.32554727,
          302632.7045666432,
          112637.65940799215,
          35959.22509011949,
          281562.8258694306,
          143626.352502836,
          49959.27359948176,
          166041.64876686607,
          124044.6010773569,
          229302.04314481877,
          177823.59160471428,
          64285.545408395046,
          222836.55494264566,
          109915.20872319091,
          112404.55970582884,
          210281.0952697334,
          118640.75522900652,
          130894.63227815958,
          107163.51140868933,
          203483.25399042232,
          231372.75979820653,
          124080.82131289039,
          300333.6671353472,
          262570.53715672897,
          281318.61828638107,
          170104.20746650567,
          219301.6039439193,
          181372.3444147538,
          229193.11034146667,
          71435.93622962883,
          369097.833099943,
          155061.16455405956,
          213005.69171266546,
          216515.86989430655,
          287559.7554858101,
          193377.3143224417,
          158455.985134848,
          94249.2743271266,
          191271.41785891197,
          179374.91453067094,
          147376.5915271849,
          60798.68240026233,
          226388.82358750096,
          137829.72298358014,
          204358.05118656743,
          304495.9945860361,
          123269.85034853683,
          223835.7451267413,
          83580.4902242111,
          97561.57760566333,
          247706.6083369957,
          231847.87910330546,
          101366.77826376457,
          184143.87559358016,
          99978.4042053315,
          83053.18214477386,
          167108.5197271063,
          183482.44631710034,
          276951.5869109519,
          219118.07078761188,
          221296.58448729853,
          126623.2727996218,
          287231.03597308544,
          381665.99764244526,
          129454.00457421888,
          138146.6571150386,
          129521.61388194989,
          286708.1851914155,
          117124.9597613771,
          130218.88433526328,
          107969.89789650221,
          114448.49002876756,
          207333.35518555657,
          306825.54148409166,
          242602.16871972493,
          122214.10075496013,
          204491.77157608443,
          230388.89619746586,
          153818.9236527492,
          91831.23581265775,
          249089.2263092061,
          232550.142583978,
          250501.55608736863,
          124764.24691973248,
          213039.15571524168,
          231314.9045002765,
          184564.27648538302,
          201308.68738106004,
          48962.85620921446,
          179911.44637141467,
          78850.4419302574,
          124536.52967915667,
          278248.36045078747,
          238731.27460418548,
          233816.17295769128,
          252901.1188814019,
          123279.01761119853,
          561836.5759717383,
          210878.19565166833,
          195896.76585877204,
          174617.72278702012,
          235791.27020828213,
          230392.81576108167,
          199755.4080432677,
          152922.13278292544,
          163843.73300131696,
          156390.40369915866,
          247750.6965632962,
          241702.9466123829,
          217052.96610641846,
          34870.927540014585,
          141430.3958563576,
          100690.02976128041,
          143025.84352424,
          150872.2044366064,
          200920.84808811694,
          145168.00594218684,
          295879.557135199,
          226761.51582340582,
          220137.05831538144,
          229738.12313664562,
          83295.77894833688,
          223718.95148662053,
          59740.20586822914,
          126070.09590566505,
          152330.60690293642,
          138919.82780581168,
          268809.5140459343,
          181191.05121400193,
          117094.6269509948,
          205793.0828872258,
          47131.33291451898,
          220474.27600186982,
          132559.47190073447,
          168934.32982565576,
          252729.54373524705,
          222994.8995354069,
          108800.08058637443,
          275891.19319844194,
          209528.20548491552,
          59283.067410441334,
          198172.24160309578,
          104534.7989491631,
          104967.92753726385,
          124350.35411028106,
          312350.54206163576,
          167123.68872781371,
          301512.388315902,
          151281.9517862499,
          136826.5460124106,
          160160.2760854405,
          227542.8186860016,
          102112.69459833555,
          399047.3927211547,
          207239.67999771703,
          158159.59323808097,
          268261.67025848804,
          148129.21240538266,
          126842.31793076452,
          233229.88661845803,
          309668.4421453637,
          106695.95340538611,
          214964.10267144433,
          110855.71400574448,
          196340.61702651024,
          222963.5388748213,
          296447.8266913229,
          216850.2146486663,
          234404.65106134815,
          180678.10643118672,
          116666.50412522073,
          269007.82551558974,
          146947.2197890211,
          199305.8685001127,
          217903.38683381118,
          186461.05885378658,
          119243.74436883522,
          98065.27973501399,
          59403.302210212976,
          206424.97538037846,
          202727.23112746901,
          132954.9191932017,
          194121.572709832,
          179610.5182214611,
          277057.09570985613,
          215457.1019066225,
          139147.47637719024,
          157496.47140806998,
          161070.75103535844,
          204674.57407977642,
          187511.66286301453,
          69223.06278724445,
          232793.55056344054,
          203665.6926753645,
          263924.7562188556,
          203400.14833060125,
          99495.2143163354,
          192542.70481744985,
          201701.03168274637,
          37603.005521948624,
          219955.13368065527,
          134956.2893439136,
          201046.54981146244,
          61074.79528848623,
          129233.95826161993,
          156393.99533541244,
          164490.49243944767,
          218400.9134890821,
          177305.5871621506,
          157132.68802087518,
          107754.58181305575,
          110277.5513876363,
          211882.11565988362,
          222741.15778535022,
          274941.87642842886,
          159564.86456634803,
          214725.39059532108,
          49526.88002524979,
          94478.39738714545,
          96713.82290807068,
          102539.52988507545,
          238066.34192606265,
          103351.63797890623,
          71882.09963738722,
          145891.38167765213,
          116081.2899707641,
          233138.9958035775,
          183944.73561786913,
          287259.8621667546,
          203873.09771178878,
          225974.95976498578,
          103407.32506852434,
          201061.22683057637,
          222695.04039100974,
          178159.92064925618,
          140890.70380248144,
          114840.47084502739,
          194124.42319088485,
          48051.98127545224,
          330541.5642096639,
          183009.63812028445,
          229502.10493782564,
          322490.677999583,
          142243.56780042307,
          192662.728334142,
          42408.3618906386,
          220268.5285944175,
          119806.14522694127,
          112138.0722146702,
          154474.52384185742,
          181724.98960070204,
          232974.40957489563,
          100726.87651263142,
          222697.25551374734,
          141251.5881215794,
          108015.72415922485,
          201985.27426218314,
          275208.41771258117,
          103313.8008348344,
          150817.20090825186,
          157597.9380230534,
          94327.40745583308,
          169601.91554992145,
          225135.0039516161,
          249797.04868119158,
          234428.1740375299,
          81159.24157102346,
          148634.43631052558,
          118292.48670880731,
          100199.16496438827,
          179768.15869333045,
          259672.30487804193,
          212093.80400987525,
          198707.50799648362,
          156316.89005114933,
          216809.87422588395,
          300334.72267594014,
          144686.96594380963,
          203333.04516157415,
          208152.5696788522,
          158268.73870723983,
          269331.29632028355,
          212207.80282961982,
          362568.9599074201,
          165293.8030621174,
          136429.55732808012,
          108989.60176271346,
          329907.8664562144,
          172765.19325176495,
          84978.73432776314,
          55376.926299166225,
          153522.68407979293,
          93683.36683041278,
          113414.22877774689,
          175462.95043179323,
          125857.93533260902,
          112544.57189316793,
          241162.48959726986,
          186267.67711535847,
          155645.30742543956,
          163240.85089443106,
          199898.39378226348,
          70102.82129583924,
          122211.60136408929,
          178741.15568339915,
          224526.44488623526,
          188332.57521037068,
          244752.0587304227,
          199345.75371066135,
          268653.33895197284,
          152460.9889915089,
          120751.93941141097,
          213375.98246488208,
          211982.44470160114,
          43956.85474474836,
          209758.6331486999,
          195241.58686081567,
          144037.1654447061,
          44829.10995277332,
          134633.75205152069,
          144905.88090350822,
          147263.44068871252,
          279402.33363255556,
          238693.54745049388,
          217976.19815953117,
          136851.90164872038,
          232686.34046539734,
          245799.53633378094,
          205372.84588024524,
          195205.77542298625,
          205289.96259461265,
          207495.88599584223,
          162065.03113855195,
          117522.38621762133,
          174434.91817443934,
          196376.58395747226,
          212415.48473460728,
          101106.91275690007,
          150867.77808354524,
          125726.79526293669,
          41915.91358729632,
          212312.84823130348,
          112648.2769012773,
          108735.08522184893,
          259374.49587363657,
          101991.94720916625,
          295408.3162245787,
          162155.32582593424,
          75137.72738698601,
          215360.78328385425,
          151535.16240106497,
          146944.86851614824,
          251273.76359950798,
          126522.2017246813,
          87501.1966958832,
          250461.07848937094,
          153457.72866126566,
          108987.20294983874,
          102998.6338262404,
          237506.91630138486,
          169316.43703946128,
          195301.0700973629,
          105231.9407158621,
          87662.13139412753,
          209684.78444620434,
          182553.03198626172,
          154345.17646474746,
          278773.50836731575,
          281399.55071463017,
          167108.5197271063,
          228893.1877325608,
          135740.0897144762,
          140234.25349727634,
          191888.83893370448,
          304945.31551289855,
          227497.98943607582,
          151401.07429586293,
          246206.23757755992,
          59378.32585497627,
          129191.43274040276,
          255280.21788591775,
          149436.31880847222,
          226031.33162449131,
          112512.10000522947,
          213302.3205026955,
          214155.73594645277,
          187936.58581062118,
          164884.1701966537,
          182508.99781483153,
          133262.03144909348,
          166775.65513486485,
          110889.1829956514,
          259056.0637746606,
          263033.753263784,
          112939.31828849837,
          134691.98725132312,
          219684.82687350738,
          216710.96990425355,
          99413.12601151668,
          142583.38730381688,
          101562.88110618998,
          98100.43988033854,
          251358.07419180725,
          -46.534937926218845,
          286012.5266519004,
          122083.88501675829,
          275245.68086512515,
          264701.05541871133,
          238615.02773530906,
          193308.64714959028,
          96430.68579286899,
          73137.50702072168,
          121129.4294481579,
          237195.93715323688,
          198562.40555358215,
          243938.13306022133,
          46707.73152195415,
          263260.79252693756,
          189185.50974883343,
          187656.95126758257,
          203059.64679119762,
          132924.77071123885,
          302245.9401596217,
          164858.40564239625,
          235433.23847908425,
          260001.19408714198,
          268080.7077072442,
          292121.3954272781,
          167940.81963879702,
          212884.61468111727,
          172268.8844771144,
          194930.87899855655,
          325345.7640314915,
          149904.83826981435,
          122966.32446233777,
          145391.58500936313,
          136477.9169695975,
          78509.39549914678
         ],
         "xaxis": "x",
         "y": [
          60089.8811442773,
          7008.270356847934,
          -27917.176309822564,
          -4030.54106573225,
          -76054.00360681818,
          -60587.43763061339,
          26924.515290273295,
          2398.5832354445593,
          -7270.025089004339,
          969.8231496892986,
          -1348.6969703270006,
          -1369.5673985689646,
          37724.74272166939,
          -23155.44770225155,
          -37228.53053103882,
          -15369.864886781768,
          13840.484682878508,
          12121.106174348039,
          2570.2692196274,
          -2161.122233489412,
          85213.4086094799,
          -21957.419034052116,
          -11456.687788837473,
          -23731.823834977113,
          -76647.46119382023,
          44439.79197240621,
          25635.09559622647,
          9725.140410148364,
          -7423.686949398863,
          4418.467516137127,
          11752.387747464993,
          -69037.14401280228,
          -7288.481936083175,
          3870.8049919843033,
          21148.28078628535,
          -7126.316985216981,
          129159.50184813567,
          -84193.68605392071,
          -31094.08341316355,
          5084.923823451507,
          -45506.3164313538,
          2694.5811501586577,
          23354.417004119838,
          5928.185438594883,
          -16176.25251632987,
          -57562.37936033824,
          -14455.028927773616,
          -51808.172629802866,
          1035.0996846523485,
          -88690.83547157503,
          9264.734354530505,
          -1094.0927625504555,
          -12665.79532605529,
          82038.89873608749,
          -9890.116878864428,
          13862.211679295113,
          1800.4825993200648,
          58682.742675148824,
          7793.480269653781,
          -4975.636182356509,
          -8280.531001016672,
          25151.783429827425,
          20724.705495917995,
          48458.53879837715,
          -10794.531828431063,
          -20897.14427395328,
          -70225.71752562418,
          47764.146062281914,
          -49118.290926325004,
          43197.78101862373,
          9638.416083197168,
          26406.79525458053,
          -5302.471088063146,
          -24769.10962796188,
          11504.16961361804,
          -11978.399593489477,
          -25538.2144313436,
          16535.739739886456,
          20269.370094884303,
          7865.554131373821,
          1540.3356228013,
          26647.624850407126,
          -11572.516259428929,
          -14909.710809942626,
          -19777.966931093746,
          20086.485794913417,
          -19382.79610344651,
          30228.865812845615,
          -25703.98244940932,
          7361.735199593153,
          393.26441769168014,
          11203.3785888298,
          -425.0445505719399,
          107339.53404125758,
          20910.13829156301,
          -107730.78851169936,
          -17382.877992729744,
          -6556.29489194724,
          34209.449042250635,
          -16722.981592353724,
          53572.721207576804,
          -8889.070227791031,
          46569.69742361977,
          2218.1213476062403,
          13659.78043297492,
          -10317.248455061432,
          -23131.30160490278,
          17684.775193044246,
          48041.898642356566,
          -9429.69364601755,
          24979.543317082163,
          -8590.820660734433,
          -7611.866259795788,
          -60568.35685768147,
          50397.728385964,
          -12275.288002281159,
          -50970.44461126777,
          65065.44768224802,
          40285.710799368826,
          -26672.61886334626,
          -7162.332618890272,
          -26679.485160611745,
          7096.391250625078,
          13899.972424810694,
          -25561.210024048516,
          -40906.17498959915,
          -82856.33758972702,
          -15531.786125068524,
          27745.122849035994,
          -14693.300995383906,
          -14242.020002847508,
          66207.16372350708,
          -21883.32686286533,
          19393.57782167272,
          7561.864796421403,
          53080.07552671447,
          -196.69364601754933,
          10658.672284146305,
          -3087.500580419379,
          39337.56029301905,
          -20459.12030355577,
          3515.8475502950314,
          -4528.035273145477,
          34310.20705631556,
          -1736.2550100600783,
          44792.55236708338,
          -30244.32554727001,
          12367.295433356776,
          -9637.659407992149,
          32540.774909880507,
          -29562.825869430613,
          -15626.352502836002,
          37040.72640051824,
          -43541.64876686607,
          -16144.6010773569,
          6697.956855181226,
          -17823.591604714282,
          41964.454591604954,
          -10836.554942645656,
          14584.79127680909,
          -10604.55970582884,
          -35281.0952697334,
          10859.244770993479,
          505.3677218404191,
          20836.48859131067,
          -16483.253990422323,
          -16372.759798206534,
          -24080.821312890388,
          72166.3328646528,
          55429.46284327103,
          113113.38171361893,
          -33104.20746650567,
          40198.3960560807,
          -38872.34441475381,
          48306.88965853333,
          4564.063770371169,
          -115804.833099943,
          14938.835445940436,
          -28005.69171266546,
          11164.130105693446,
          2440.2445141898934,
          -19877.3143224417,
          -18455.985134847986,
          29750.725672873406,
          -7271.417858911969,
          -34374.91453067094,
          17623.408472815092,
          35701.31759973767,
          20189.176412499044,
          18170.27701641986,
          -16608.051186567434,
          160504.00541396393,
          15230.149651463173,
          6164.254873258702,
          9919.509775788902,
          16938.422394336667,
          67293.3916630043,
          152.12089669454144,
          27583.221736235428,
          -9143.87559358016,
          29021.595794668494,
          31946.817855226138,
          -16108.519727106293,
          -9482.446317100344,
          -10951.586910951883,
          -39118.07078761188,
          -31296.584487298533,
          -35123.2727996218,
          -65731.03597308544,
          43204.00235755474,
          -31954.00457421888,
          -23146.6571150386,
          -9021.613881949888,
          291.81480858451687,
          -4124.959761377104,
          27781.115664736717,
          17030.10210349779,
          -4448.4900287675555,
          -34333.355185556575,
          33174.458515908336,
          -28602.168719724927,
          -7214.1007549601345,
          -18641.77157608443,
          43611.10380253414,
          -27643.92365274919,
          20168.764187342254,
          -15859.226309206104,
          -27650.142583978013,
          -45501.55608736863,
          -11764.246919732483,
          2960.844284758321,
          -16314.90450027649,
          -17064.276485383016,
          5691.312618939963,
          37037.14379078554,
          -89911.44637141467,
          1149.5580697426049,
          -27536.529679156665,
          56751.63954921253,
          136268.72539581452,
          -46316.17295769128,
          -2901.118881401897,
          -15279.017611198535,
          -377086.5759717383,
          6621.804348331672,
          10103.234141227964,
          -24717.722787020117,
          -5791.270208282134,
          44607.18423891833,
          -18755.4080432677,
          9077.867217074556,
          11656.266998683044,
          -16390.40369915866,
          -7750.696563296195,
          24297.05338761711,
          -29952.966106418462,
          29.072459985414753,
          -15430.395856357587,
          9309.970238719587,
          1974.1564757600136,
          -872.2044366064074,
          -37420.84808811694,
          1831.9940578131645,
          40120.44286480098,
          10738.484176594182,
          -32137.058315381437,
          -7738.1231366456195,
          4204.221051663117,
          42781.04851337947,
          15759.794131770861,
          -9070.095905665046,
          7669.393097063585,
          -11919.827805811685,
          37190.48595406569,
          -73691.05121400193,
          14905.373049005197,
          -33393.08288722581,
          19868.66708548102,
          14525.723998130183,
          21015.52809926553,
          -19434.32982565576,
          -13729.543735247047,
          11005.100464593095,
          -20800.08058637443,
          -5891.193198441935,
          -11628.205484915525,
          31716.932589558666,
          -1672.241603095783,
          14665.201050836899,
          10032.072462736149,
          5149.645889718944,
          -40350.54206163576,
          -80123.68872781371,
          46487.611684098025,
          -21781.951786249905,
          2173.453987589397,
          -17160.276085440506,
          96457.18131399839,
          27887.305401664446,
          225952.60727884527,
          7960.32000228297,
          -4159.593238080968,
          116738.32974151196,
          10370.787594617344,
          8657.682069235481,
          159270.11338154197,
          -22668.44214536372,
          -18695.953405386113,
          -4964.102671444329,
          23644.285994255522,
          -19908.61702651024,
          -29963.5388748213,
          19302.1733086771,
          -12850.214648666297,
          -19404.65106134815,
          -4678.106431186723,
          11833.49587477927,
          -6507.825515589735,
          12486.780210978905,
          45094.1314998873,
          -21403.38683381118,
          -1461.0588537865842,
          1256.2556311647786,
          -13165.279735013988,
          -903.3022102129762,
          -34674.975380378455,
          -21727.231127469015,
          -454.91919320169836,
          -6621.572709831991,
          25389.481778538902,
          -27057.095709856134,
          -25457.101906622498,
          -30147.476377190236,
          -27596.471408069978,
          1829.2489646415634,
          -13674.574079776416,
          -2611.662863014528,
          27776.937212755554,
          30641.44943655946,
          -36665.692675364495,
          -3924.7562188556185,
          -30400.148330601252,
          -9995.214316335405,
          4957.295182550151,
          11798.968317253632,
          47396.994478051376,
          -60455.13368065527,
          16043.71065608639,
          13953.450188537565,
          30925.20471151377,
          -11233.958261619933,
          2606.0046645875555,
          2509.5075605523307,
          56599.0865109179,
          -22305.587162150594,
          -3132.6880208751827,
          -21754.581813055745,
          24722.448612363703,
          -66882.11565988362,
          -17991.157785350224,
          -62041.87642842886,
          -19564.864566348027,
          -14725.390595321078,
          22973.11997475021,
          31521.60261285455,
          -17713.82290807068,
          2960.470114924552,
          33933.658073937346,
          -30351.637978906234,
          34617.90036261278,
          -4891.381677652127,
          18918.710029235895,
          -8238.995803577505,
          -18794.735617869126,
          72740.13783324539,
          -78873.09771178878,
          -24974.959764985775,
          192.67493147565983,
          -21161.226830576372,
          -38695.04039100974,
          -11159.920649256179,
          -16890.70380248144,
          13159.52915497261,
          65875.57680911515,
          -12740.981275452243,
          84756.43579033611,
          -3109.6381202844495,
          -55602.10493782564,
          80509.32200041699,
          -7243.567800423072,
          -17162.72833414201,
          -4508.361890638596,
          -17368.528594417498,
          3193.8547730587306,
          22861.927785329797,
          -10974.523841857415,
          -45724.98960070204,
          -39474.40957489563,
          8281.123487368575,
          -22697.25551374734,
          -6251.588121579407,
          17484.275840775153,
          -58985.27426218314,
          -7208.417712581169,
          -3313.800834834401,
          -8817.200908251863,
          -10597.9380230534,
          -27327.407455833076,
          -7601.915549921454,
          1864.9960483839095,
          -14797.048681191576,
          -24928.174037529912,
          11740.758428976536,
          -8634.436310525576,
          -33292.48670880731,
          9300.83503561173,
          -1768.1586933304498,
          34327.695121958066,
          -75188.80400987525,
          -13707.507996483619,
          -22316.890051149327,
          -22109.87422588395,
          -19121.72267594014,
          40313.03405619037,
          -2333.0451615741476,
          -38152.56967885219,
          -52268.73870723983,
          -13831.296320283553,
          -31207.802829619817,
          74585.0400925799,
          12706.196937882603,
          3520.442671919882,
          -3989.601762713457,
          116353.1335437856,
          34234.806748235045,
          10021.265672236856,
          44623.073700833775,
          -19522.684079792933,
          33816.63316958722,
          -13414.228777746888,
          -35462.95043179323,
          13142.06466739098,
          12955.42810683207,
          -41162.48959726986,
          -1267.6771153584705,
          19354.69257456044,
          -16740.85089443106,
          -5898.393782263476,
          50897.17870416076,
          52288.39863591071,
          -13741.155683399149,
          53473.55511376474,
          -29332.575210370676,
          247.94126957730623,
          12654.246289338655,
          -653.3389519728371,
          -4460.988991508901,
          20248.060588589025,
          -49385.98246488208,
          -23982.44470160114,
          11043.145255251642,
          -26758.63314869991,
          -22241.586860815674,
          39962.8345552939,
          10170.890047226683,
          -4633.752051520685,
          -7455.880903508223,
          -3263.4406887125224,
          55597.66636744444,
          11886.452549506124,
          6923.801840468834,
          -21851.901648720377,
          27713.65953460266,
          -40799.53633378094,
          -62372.84588024524,
          -26205.775422986248,
          -40589.96259461265,
          24004.114004157775,
          -18565.031138551945,
          11477.61378237867,
          -1434.9181744393427,
          16623.416042527737,
          -17415.48473460728,
          8893.08724309993,
          -21867.778083545243,
          -25726.795262936692,
          47084.08641270368,
          -54312.84823130348,
          15551.723098722694,
          15264.91477815107,
          -9374.495873636566,
          26008.052790833754,
          -5408.31622457871,
          -8818.32582593424,
          34862.27261301399,
          -8460.783283854253,
          2964.8375989350316,
          -16944.868516148243,
          1726.2364004920237,
          12477.798275318695,
          -21001.196695883205,
          84538.92151062906,
          -17457.72866126566,
          10512.797050161258,
          -4998.633826240402,
          -92506.91630138486,
          50683.56296053872,
          -15801.070097362914,
          20268.059284137897,
          17337.86860587247,
          -52752.78444620434,
          -6553.031986261718,
          3554.823535252537,
          -22873.50836731575,
          -14399.550714630168,
          -22956.519727106293,
          -38893.18773256079,
          -740.0897144761984,
          -1234.2534972763387,
          -15888.83893370448,
          28222.684487101447,
          9502.010563924181,
          7498.925704137073,
          30793.76242244008,
          25121.67414502373,
          19808.567259597243,
          4719.782114082249,
          -15004.31880847222,
          -13031.331624491315,
          20487.89999477053,
          -4802.320502695511,
          26844.26405354723,
          -19936.58581062118,
          15115.829803346307,
          -23508.997814831528,
          10737.968550906517,
          -22775.65513486485,
          3614.8170043486025,
          -9356.063774660608,
          -753.7532637839904,
          32060.68171150163,
          -3691.987251323124,
          -28684.82687350738,
          -37810.96990425355,
          -19513.12601151668,
          -10333.387303816882,
          8437.118893810024,
          6899.560119661459,
          11641.925808192755,
          39346.53493792622,
          7064.473348099622,
          14416.114983241714,
          -35446.68086512515,
          -20701.05541871133,
          -6015.027735309064,
          45691.35285040972,
          22569.314207131014,
          30062.492979278322,
          -28129.429448157898,
          -23945.937153236882,
          -54562.40555358215,
          -7438.1330602213275,
          38792.26847804585,
          -34260.792526937556,
          -67685.50974883343,
          -32656.951267582568,
          25890.35320880238,
          -15924.770711238845,
          100615.0598403783,
          5141.594357603753,
          26066.761520915752,
          67998.80591285802,
          56919.292292755796,
          -8658.395427278127,
          8059.180361202976,
          -40384.614681117266,
          -14768.884477114392,
          -1930.8789985565527,
          -45.76403149147518,
          -2904.838269814354,
          21033.67553766223,
          17608.41499063687,
          27522.083030402486,
          1390.6045008532237
         ],
         "yaxis": "y"
        }
       ],
       "layout": {
        "legend": {
         "tracegroupgap": 0
        },
        "margin": {
         "t": 60
        },
        "template": {
         "data": {
          "bar": [
           {
            "error_x": {
             "color": "#2a3f5f"
            },
            "error_y": {
             "color": "#2a3f5f"
            },
            "marker": {
             "line": {
              "color": "#E5ECF6",
              "width": 0.5
             },
             "pattern": {
              "fillmode": "overlay",
              "size": 10,
              "solidity": 0.2
             }
            },
            "type": "bar"
           }
          ],
          "barpolar": [
           {
            "marker": {
             "line": {
              "color": "#E5ECF6",
              "width": 0.5
             },
             "pattern": {
              "fillmode": "overlay",
              "size": 10,
              "solidity": 0.2
             }
            },
            "type": "barpolar"
           }
          ],
          "carpet": [
           {
            "aaxis": {
             "endlinecolor": "#2a3f5f",
             "gridcolor": "white",
             "linecolor": "white",
             "minorgridcolor": "white",
             "startlinecolor": "#2a3f5f"
            },
            "baxis": {
             "endlinecolor": "#2a3f5f",
             "gridcolor": "white",
             "linecolor": "white",
             "minorgridcolor": "white",
             "startlinecolor": "#2a3f5f"
            },
            "type": "carpet"
           }
          ],
          "choropleth": [
           {
            "colorbar": {
             "outlinewidth": 0,
             "ticks": ""
            },
            "type": "choropleth"
           }
          ],
          "contour": [
           {
            "colorbar": {
             "outlinewidth": 0,
             "ticks": ""
            },
            "colorscale": [
             [
              0,
              "#0d0887"
             ],
             [
              0.1111111111111111,
              "#46039f"
             ],
             [
              0.2222222222222222,
              "#7201a8"
             ],
             [
              0.3333333333333333,
              "#9c179e"
             ],
             [
              0.4444444444444444,
              "#bd3786"
             ],
             [
              0.5555555555555556,
              "#d8576b"
             ],
             [
              0.6666666666666666,
              "#ed7953"
             ],
             [
              0.7777777777777778,
              "#fb9f3a"
             ],
             [
              0.8888888888888888,
              "#fdca26"
             ],
             [
              1,
              "#f0f921"
             ]
            ],
            "type": "contour"
           }
          ],
          "contourcarpet": [
           {
            "colorbar": {
             "outlinewidth": 0,
             "ticks": ""
            },
            "type": "contourcarpet"
           }
          ],
          "heatmap": [
           {
            "colorbar": {
             "outlinewidth": 0,
             "ticks": ""
            },
            "colorscale": [
             [
              0,
              "#0d0887"
             ],
             [
              0.1111111111111111,
              "#46039f"
             ],
             [
              0.2222222222222222,
              "#7201a8"
             ],
             [
              0.3333333333333333,
              "#9c179e"
             ],
             [
              0.4444444444444444,
              "#bd3786"
             ],
             [
              0.5555555555555556,
              "#d8576b"
             ],
             [
              0.6666666666666666,
              "#ed7953"
             ],
             [
              0.7777777777777778,
              "#fb9f3a"
             ],
             [
              0.8888888888888888,
              "#fdca26"
             ],
             [
              1,
              "#f0f921"
             ]
            ],
            "type": "heatmap"
           }
          ],
          "heatmapgl": [
           {
            "colorbar": {
             "outlinewidth": 0,
             "ticks": ""
            },
            "colorscale": [
             [
              0,
              "#0d0887"
             ],
             [
              0.1111111111111111,
              "#46039f"
             ],
             [
              0.2222222222222222,
              "#7201a8"
             ],
             [
              0.3333333333333333,
              "#9c179e"
             ],
             [
              0.4444444444444444,
              "#bd3786"
             ],
             [
              0.5555555555555556,
              "#d8576b"
             ],
             [
              0.6666666666666666,
              "#ed7953"
             ],
             [
              0.7777777777777778,
              "#fb9f3a"
             ],
             [
              0.8888888888888888,
              "#fdca26"
             ],
             [
              1,
              "#f0f921"
             ]
            ],
            "type": "heatmapgl"
           }
          ],
          "histogram": [
           {
            "marker": {
             "pattern": {
              "fillmode": "overlay",
              "size": 10,
              "solidity": 0.2
             }
            },
            "type": "histogram"
           }
          ],
          "histogram2d": [
           {
            "colorbar": {
             "outlinewidth": 0,
             "ticks": ""
            },
            "colorscale": [
             [
              0,
              "#0d0887"
             ],
             [
              0.1111111111111111,
              "#46039f"
             ],
             [
              0.2222222222222222,
              "#7201a8"
             ],
             [
              0.3333333333333333,
              "#9c179e"
             ],
             [
              0.4444444444444444,
              "#bd3786"
             ],
             [
              0.5555555555555556,
              "#d8576b"
             ],
             [
              0.6666666666666666,
              "#ed7953"
             ],
             [
              0.7777777777777778,
              "#fb9f3a"
             ],
             [
              0.8888888888888888,
              "#fdca26"
             ],
             [
              1,
              "#f0f921"
             ]
            ],
            "type": "histogram2d"
           }
          ],
          "histogram2dcontour": [
           {
            "colorbar": {
             "outlinewidth": 0,
             "ticks": ""
            },
            "colorscale": [
             [
              0,
              "#0d0887"
             ],
             [
              0.1111111111111111,
              "#46039f"
             ],
             [
              0.2222222222222222,
              "#7201a8"
             ],
             [
              0.3333333333333333,
              "#9c179e"
             ],
             [
              0.4444444444444444,
              "#bd3786"
             ],
             [
              0.5555555555555556,
              "#d8576b"
             ],
             [
              0.6666666666666666,
              "#ed7953"
             ],
             [
              0.7777777777777778,
              "#fb9f3a"
             ],
             [
              0.8888888888888888,
              "#fdca26"
             ],
             [
              1,
              "#f0f921"
             ]
            ],
            "type": "histogram2dcontour"
           }
          ],
          "mesh3d": [
           {
            "colorbar": {
             "outlinewidth": 0,
             "ticks": ""
            },
            "type": "mesh3d"
           }
          ],
          "parcoords": [
           {
            "line": {
             "colorbar": {
              "outlinewidth": 0,
              "ticks": ""
             }
            },
            "type": "parcoords"
           }
          ],
          "pie": [
           {
            "automargin": true,
            "type": "pie"
           }
          ],
          "scatter": [
           {
            "fillpattern": {
             "fillmode": "overlay",
             "size": 10,
             "solidity": 0.2
            },
            "type": "scatter"
           }
          ],
          "scatter3d": [
           {
            "line": {
             "colorbar": {
              "outlinewidth": 0,
              "ticks": ""
             }
            },
            "marker": {
             "colorbar": {
              "outlinewidth": 0,
              "ticks": ""
             }
            },
            "type": "scatter3d"
           }
          ],
          "scattercarpet": [
           {
            "marker": {
             "colorbar": {
              "outlinewidth": 0,
              "ticks": ""
             }
            },
            "type": "scattercarpet"
           }
          ],
          "scattergeo": [
           {
            "marker": {
             "colorbar": {
              "outlinewidth": 0,
              "ticks": ""
             }
            },
            "type": "scattergeo"
           }
          ],
          "scattergl": [
           {
            "marker": {
             "colorbar": {
              "outlinewidth": 0,
              "ticks": ""
             }
            },
            "type": "scattergl"
           }
          ],
          "scattermapbox": [
           {
            "marker": {
             "colorbar": {
              "outlinewidth": 0,
              "ticks": ""
             }
            },
            "type": "scattermapbox"
           }
          ],
          "scatterpolar": [
           {
            "marker": {
             "colorbar": {
              "outlinewidth": 0,
              "ticks": ""
             }
            },
            "type": "scatterpolar"
           }
          ],
          "scatterpolargl": [
           {
            "marker": {
             "colorbar": {
              "outlinewidth": 0,
              "ticks": ""
             }
            },
            "type": "scatterpolargl"
           }
          ],
          "scatterternary": [
           {
            "marker": {
             "colorbar": {
              "outlinewidth": 0,
              "ticks": ""
             }
            },
            "type": "scatterternary"
           }
          ],
          "surface": [
           {
            "colorbar": {
             "outlinewidth": 0,
             "ticks": ""
            },
            "colorscale": [
             [
              0,
              "#0d0887"
             ],
             [
              0.1111111111111111,
              "#46039f"
             ],
             [
              0.2222222222222222,
              "#7201a8"
             ],
             [
              0.3333333333333333,
              "#9c179e"
             ],
             [
              0.4444444444444444,
              "#bd3786"
             ],
             [
              0.5555555555555556,
              "#d8576b"
             ],
             [
              0.6666666666666666,
              "#ed7953"
             ],
             [
              0.7777777777777778,
              "#fb9f3a"
             ],
             [
              0.8888888888888888,
              "#fdca26"
             ],
             [
              1,
              "#f0f921"
             ]
            ],
            "type": "surface"
           }
          ],
          "table": [
           {
            "cells": {
             "fill": {
              "color": "#EBF0F8"
             },
             "line": {
              "color": "white"
             }
            },
            "header": {
             "fill": {
              "color": "#C8D4E3"
             },
             "line": {
              "color": "white"
             }
            },
            "type": "table"
           }
          ]
         },
         "layout": {
          "annotationdefaults": {
           "arrowcolor": "#2a3f5f",
           "arrowhead": 0,
           "arrowwidth": 1
          },
          "autotypenumbers": "strict",
          "coloraxis": {
           "colorbar": {
            "outlinewidth": 0,
            "ticks": ""
           }
          },
          "colorscale": {
           "diverging": [
            [
             0,
             "#8e0152"
            ],
            [
             0.1,
             "#c51b7d"
            ],
            [
             0.2,
             "#de77ae"
            ],
            [
             0.3,
             "#f1b6da"
            ],
            [
             0.4,
             "#fde0ef"
            ],
            [
             0.5,
             "#f7f7f7"
            ],
            [
             0.6,
             "#e6f5d0"
            ],
            [
             0.7,
             "#b8e186"
            ],
            [
             0.8,
             "#7fbc41"
            ],
            [
             0.9,
             "#4d9221"
            ],
            [
             1,
             "#276419"
            ]
           ],
           "sequential": [
            [
             0,
             "#0d0887"
            ],
            [
             0.1111111111111111,
             "#46039f"
            ],
            [
             0.2222222222222222,
             "#7201a8"
            ],
            [
             0.3333333333333333,
             "#9c179e"
            ],
            [
             0.4444444444444444,
             "#bd3786"
            ],
            [
             0.5555555555555556,
             "#d8576b"
            ],
            [
             0.6666666666666666,
             "#ed7953"
            ],
            [
             0.7777777777777778,
             "#fb9f3a"
            ],
            [
             0.8888888888888888,
             "#fdca26"
            ],
            [
             1,
             "#f0f921"
            ]
           ],
           "sequentialminus": [
            [
             0,
             "#0d0887"
            ],
            [
             0.1111111111111111,
             "#46039f"
            ],
            [
             0.2222222222222222,
             "#7201a8"
            ],
            [
             0.3333333333333333,
             "#9c179e"
            ],
            [
             0.4444444444444444,
             "#bd3786"
            ],
            [
             0.5555555555555556,
             "#d8576b"
            ],
            [
             0.6666666666666666,
             "#ed7953"
            ],
            [
             0.7777777777777778,
             "#fb9f3a"
            ],
            [
             0.8888888888888888,
             "#fdca26"
            ],
            [
             1,
             "#f0f921"
            ]
           ]
          },
          "colorway": [
           "#636efa",
           "#EF553B",
           "#00cc96",
           "#ab63fa",
           "#FFA15A",
           "#19d3f3",
           "#FF6692",
           "#B6E880",
           "#FF97FF",
           "#FECB52"
          ],
          "font": {
           "color": "#2a3f5f"
          },
          "geo": {
           "bgcolor": "white",
           "lakecolor": "white",
           "landcolor": "#E5ECF6",
           "showlakes": true,
           "showland": true,
           "subunitcolor": "white"
          },
          "hoverlabel": {
           "align": "left"
          },
          "hovermode": "closest",
          "mapbox": {
           "style": "light"
          },
          "paper_bgcolor": "white",
          "plot_bgcolor": "#E5ECF6",
          "polar": {
           "angularaxis": {
            "gridcolor": "white",
            "linecolor": "white",
            "ticks": ""
           },
           "bgcolor": "#E5ECF6",
           "radialaxis": {
            "gridcolor": "white",
            "linecolor": "white",
            "ticks": ""
           }
          },
          "scene": {
           "xaxis": {
            "backgroundcolor": "#E5ECF6",
            "gridcolor": "white",
            "gridwidth": 2,
            "linecolor": "white",
            "showbackground": true,
            "ticks": "",
            "zerolinecolor": "white"
           },
           "yaxis": {
            "backgroundcolor": "#E5ECF6",
            "gridcolor": "white",
            "gridwidth": 2,
            "linecolor": "white",
            "showbackground": true,
            "ticks": "",
            "zerolinecolor": "white"
           },
           "zaxis": {
            "backgroundcolor": "#E5ECF6",
            "gridcolor": "white",
            "gridwidth": 2,
            "linecolor": "white",
            "showbackground": true,
            "ticks": "",
            "zerolinecolor": "white"
           }
          },
          "shapedefaults": {
           "line": {
            "color": "#2a3f5f"
           }
          },
          "ternary": {
           "aaxis": {
            "gridcolor": "white",
            "linecolor": "white",
            "ticks": ""
           },
           "baxis": {
            "gridcolor": "white",
            "linecolor": "white",
            "ticks": ""
           },
           "bgcolor": "#E5ECF6",
           "caxis": {
            "gridcolor": "white",
            "linecolor": "white",
            "ticks": ""
           }
          },
          "title": {
           "x": 0.05
          },
          "xaxis": {
           "automargin": true,
           "gridcolor": "white",
           "linecolor": "white",
           "ticks": "",
           "title": {
            "standoff": 15
           },
           "zerolinecolor": "white",
           "zerolinewidth": 2
          },
          "yaxis": {
           "automargin": true,
           "gridcolor": "white",
           "linecolor": "white",
           "ticks": "",
           "title": {
            "standoff": 15
           },
           "zerolinecolor": "white",
           "zerolinewidth": 2
          }
         }
        },
        "title": {
         "text": "Residual vs. Predicted Sale Price"
        },
        "xaxis": {
         "anchor": "y",
         "domain": [
          0,
          1
         ],
         "title": {
          "text": "Predicted Sale Price"
         }
        },
        "yaxis": {
         "anchor": "x",
         "domain": [
          0,
          1
         ],
         "title": {
          "text": "Residual"
         }
        }
       }
      }
     },
     "metadata": {},
     "output_type": "display_data"
    }
   ],
   "source": [
    "lr_predicted_y = lr_mod.predict(X_test)\n",
    "lr_residual = y_test - lr_predicted_y\n",
    "lr_z_score = (lr_residual - np.mean(lr_residual))/np.std(lr_residual)\n",
    "qq_plot_y = \n",
    "\n",
    "fig_2b = px.scatter(x=lr_predicted_y, y=lr_residual)\n",
    "\n",
    "fig_2b.update_xaxes(title_text=\"Predicted Sale Price\")\n",
    "fig_2b.update_yaxes(title_text=\"Residual\")\n",
    "fig_2b.update_layout(title_text=\"Residual vs. Predicted Sale Price\")\n",
    "fig_2b.show()"
   ]
  },
  {
   "cell_type": "code",
   "execution_count": 18,
   "metadata": {},
   "outputs": [
    {
     "data": {
      "application/vnd.plotly.v1+json": {
       "config": {
        "plotlyServerURL": "https://plot.ly"
       },
       "data": [
        {
         "hovertemplate": "x=%{x}<br>y=%{y}<extra></extra>",
         "legendgroup": "",
         "marker": {
          "color": "#636efa",
          "symbol": "circle"
         },
         "mode": "markers",
         "name": "",
         "orientation": "v",
         "showlegend": false,
         "type": "scatter",
         "x": [
          -9.736286812469853,
          -2.9892616130973844,
          -2.7807672051108807,
          -2.387644255508473,
          -2.3206219644396517,
          -2.28910237792232,
          -2.1729734049877463,
          -2.1384393281361374,
          -2.0678746934635486,
          -2.0355809365156348,
          -1.9781087782762985,
          -1.9627840439483193,
          -1.9404421710761488,
          -1.9017660058564978,
          -1.8122814002245178,
          -1.7815891086232218,
          -1.7466861324753329,
          -1.725940250640677,
          -1.6962161544678958,
          -1.6094982960686068,
          -1.60095173936287,
          -1.5633940626880745,
          -1.5629013437771386,
          -1.5599776047506289,
          -1.5220217245311962,
          -1.485278599453694,
          -1.4346588325269727,
          -1.4078108872087844,
          -1.4013666193330596,
          -1.3610814101370348,
          -1.3485819956638048,
          -1.3366888917052628,
          -1.3150564118038635,
          -1.2741411686964967,
          -1.2672286246494004,
          -1.1948701033911322,
          -1.179604096041307,
          -1.1739573433527994,
          -1.1738344179601847,
          -1.1232241306338564,
          -1.0617875882480374,
          -1.0551688283687064,
          -1.0524151200914857,
          -1.0470033401341354,
          -1.0417006828119522,
          -1.0408208325027664,
          -1.0181966418453847,
          -1.0089949779599099,
          -1.0031878686584152,
          -1.0026496359103612,
          -0.9980711502381403,
          -0.9840630395886166,
          -0.9752419782240349,
          -0.965167942069162,
          -0.9602017649852755,
          -0.9456677177393539,
          -0.9146095498913733,
          -0.9141894241868909,
          -0.9099135411019047,
          -0.9058381236189746,
          -0.8942618307207271,
          -0.8865134205483596,
          -0.885440242048882,
          -0.8835664713029627,
          -0.8611597821078965,
          -0.8585621074931674,
          -0.8537002109887828,
          -0.8421508053106738,
          -0.8287257155553657,
          -0.8239987561019867,
          -0.807022331173584,
          -0.8047297405202284,
          -0.8017931872040449,
          -0.7838738429845991,
          -0.7826211700587402,
          -0.7798500630058804,
          -0.7773491466238768,
          -0.7725993659849678,
          -0.7723263475411338,
          -0.7622518357083734,
          -0.7563061198624264,
          -0.7395794465647336,
          -0.7374449819045776,
          -0.7252375320347995,
          -0.7220422777077857,
          -0.7197565624987953,
          -0.7128610050153182,
          -0.7127004148215571,
          -0.711475065177535,
          -0.7099272021273773,
          -0.7045270815716698,
          -0.6975468764423444,
          -0.6898397385495205,
          -0.6877959161827487,
          -0.68761860918775,
          -0.6755634061657146,
          -0.6631947991044875,
          -0.6626057084698108,
          -0.6589189252254204,
          -0.6583251147212908,
          -0.6562305625254011,
          -0.6437803042580312,
          -0.6425721659524376,
          -0.6384646781200198,
          -0.6371377261985443,
          -0.62069114922673,
          -0.6181507900416525,
          -0.6172080630601434,
          -0.6116790584770381,
          -0.6059250675687033,
          -0.596795415061798,
          -0.5965684175196385,
          -0.5961718953107124,
          -0.591658538499306,
          -0.5895149530723832,
          -0.5869881089923886,
          -0.5849636115533898,
          -0.584219569813518,
          -0.5751415117276895,
          -0.5748496395284995,
          -0.5731969727897982,
          -0.5697957842597746,
          -0.5658589649100613,
          -0.563945697872805,
          -0.56354418491312,
          -0.5631342109721083,
          -0.5613279099286691,
          -0.5606211406886241,
          -0.5599148695085351,
          -0.5515523043098847,
          -0.5452990558963242,
          -0.5411666303408059,
          -0.538479705854232,
          -0.5359732500305664,
          -0.5334161433064166,
          -0.5271687021318965,
          -0.51367540040855,
          -0.512953168196233,
          -0.512144844848273,
          -0.5095794174075756,
          -0.5040765184710405,
          -0.5029873003627219,
          -0.5027404843134703,
          -0.5007057464639186,
          -0.49993935778146126,
          -0.4993750016574058,
          -0.49263335574326184,
          -0.48418963557963635,
          -0.48317408763530023,
          -0.48163880263759007,
          -0.48023967630128905,
          -0.4782580236218801,
          -0.4754421508908011,
          -0.4634390089722409,
          -0.45911198163811884,
          -0.45627744695453765,
          -0.4496643774089337,
          -0.4485735210997564,
          -0.44773152384920567,
          -0.44736098226086335,
          -0.4420466440799617,
          -0.44198332016148834,
          -0.43950434205303557,
          -0.43642089439772724,
          -0.43502221003497776,
          -0.43115258892903136,
          -0.43069115358308707,
          -0.42772332913622285,
          -0.42450071657268357,
          -0.42210306242341383,
          -0.4216474475647911,
          -0.42015346199671894,
          -0.41657308007125904,
          -0.4157557514129309,
          -0.4148240300584554,
          -0.41007911666806257,
          -0.409151257699357,
          -0.4083865769317149,
          -0.40688482092498696,
          -0.40237312408735054,
          -0.3999311557860153,
          -0.3973129755394931,
          -0.3957498966477892,
          -0.39340396596423904,
          -0.3863104747625162,
          -0.3838674316967227,
          -0.38095818050548563,
          -0.38023090200320514,
          -0.3791077683573078,
          -0.3782791251576943,
          -0.37212627411344035,
          -0.37069367152138455,
          -0.36662578805432494,
          -0.3560197541011688,
          -0.3536920708047321,
          -0.35339221783400815,
          -0.35282319344260016,
          -0.3519727476230981,
          -0.3452499039447575,
          -0.3388213435477814,
          -0.3353624287871421,
          -0.3306854820303795,
          -0.3278647708946255,
          -0.32592325944555,
          -0.31583926840551635,
          -0.30817277952840433,
          -0.30666029219159,
          -0.30264275867631435,
          -0.29912978842902394,
          -0.29769173690823336,
          -0.29470072191692265,
          -0.2889492227258046,
          -0.2870373645499169,
          -0.2822499005746156,
          -0.28165760488217667,
          -0.27868715780705766,
          -0.27760200349261677,
          -0.2726963920852235,
          -0.2725254017203511,
          -0.2656939624104996,
          -0.2652772122080359,
          -0.2569613902712967,
          -0.25424748056137075,
          -0.24772832273953665,
          -0.2437202867244319,
          -0.24235806524956802,
          -0.24093270442217007,
          -0.24045673608660542,
          -0.23497744392855646,
          -0.23307224608314342,
          -0.23182030466493556,
          -0.22839765689476388,
          -0.22657083862267163,
          -0.22654179010260744,
          -0.2224409885305129,
          -0.22182229714125848,
          -0.22069601910516834,
          -0.2173380904224078,
          -0.2126834724564433,
          -0.2116109175174613,
          -0.19900166574655206,
          -0.19867698471250247,
          -0.19541667911159463,
          -0.19515972395837247,
          -0.19138870104455571,
          -0.19093040210420475,
          -0.1905573631284202,
          -0.1870659916231021,
          -0.18662534943581138,
          -0.18658938422232027,
          -0.18590618305103726,
          -0.18514526154115954,
          -0.18499850949595906,
          -0.18380846351329544,
          -0.18287843914460356,
          -0.16984453058355828,
          -0.1681588747953367,
          -0.1680746174467695,
          -0.16690725996726807,
          -0.16029049396055356,
          -0.15418184331471627,
          -0.1511700285141424,
          -0.15098408930553123,
          -0.14840379829401715,
          -0.1385148556153284,
          -0.1357816382253482,
          -0.12793571053252709,
          -0.12734184706122073,
          -0.12704401955935848,
          -0.12516616015652932,
          -0.12286635158546948,
          -0.11965879693057853,
          -0.11851344282347533,
          -0.11578353999959531,
          -0.11527551825237378,
          -0.11405221753230695,
          -0.11372945936461035,
          -0.1062693364132082,
          -0.10537500320226698,
          -0.102936848466288,
          -0.10187968118748554,
          -0.10020518792336747,
          -0.09419444231094151,
          -0.08442861154885183,
          -0.08312817175847918,
          -0.0797517722631016,
          -0.07915655937750393,
          -0.07858490619699436,
          -0.07386805457513258,
          -0.0737720095661347,
          -0.0662974457917807,
          -0.05910275766719989,
          -0.05466322693157256,
          -0.048717702797345996,
          -0.0445158095163876,
          -0.04369196720497278,
          -0.04203896204227486,
          -0.036585632943957176,
          -0.03591060750840236,
          -0.03422306774098611,
          -0.03368413492569438,
          -0.03159197572194014,
          -0.0307288844436299,
          -0.02710954235426658,
          -0.02218279680260821,
          -0.021379765332204814,
          -0.018321024835666503,
          -0.01796819378639654,
          -0.015728046525276373,
          -0.010604293530643417,
          -0.0098328467221914,
          -0.003936187849688586,
          -0.00003876317184317137,
          0.0018937242965788117,
          0.00507117900158371,
          0.006118397577198814,
          0.007545528963228384,
          0.008678466419989567,
          0.011298179001470534,
          0.014192999778885463,
          0.026186537640500766,
          0.027872160300096697,
          0.030827795852720687,
          0.03358302523734796,
          0.03705228872025393,
          0.04091876496849942,
          0.04571924286594554,
          0.047636487327592486,
          0.04837931531696999,
          0.04845020129851561,
          0.0493024049755231,
          0.05212123244576938,
          0.05726765147874742,
          0.058421087613666954,
          0.06308111816684994,
          0.0641569288777069,
          0.065945494408755,
          0.06751453034838562,
          0.06843731946103809,
          0.07072461199687104,
          0.07759060854830555,
          0.07760027065967061,
          0.07770338919785526,
          0.08361725301366675,
          0.09193200688108578,
          0.09205066577036095,
          0.09293847579769772,
          0.09448767492405052,
          0.10109800056077975,
          0.10970773552275236,
          0.11524017831341413,
          0.11899988071532797,
          0.123020963771019,
          0.12915421533509605,
          0.13244994371955357,
          0.1339133353740356,
          0.13412124844701828,
          0.14810859800901627,
          0.15422531655847246,
          0.16032128946102592,
          0.17213649631147832,
          0.17410296697667682,
          0.17930892699046663,
          0.1799349160066367,
          0.18211612929119073,
          0.18356744768063257,
          0.1843916571729737,
          0.1912435798925303,
          0.19478622233321027,
          0.19641148568686284,
          0.1991881670810714,
          0.20239244485104838,
          0.20425359349425767,
          0.2067007132663354,
          0.2092535641678987,
          0.21498475628491379,
          0.21901299387502832,
          0.22470855180530194,
          0.23078737163660346,
          0.23555890724809822,
          0.24038433925682653,
          0.24131655978740166,
          0.24155245627558583,
          0.24651147445729954,
          0.25003384638330095,
          0.25227331100454486,
          0.25729247152279905,
          0.2599200932998627,
          0.26019915484860184,
          0.2620367483702032,
          0.2637838130431594,
          0.2689457266721546,
          0.2726128079024497,
          0.27637971434162023,
          0.27842736567832244,
          0.27844068057537524,
          0.28155905679465454,
          0.28532545864643427,
          0.28630788152243297,
          0.2894320486597966,
          0.2904455542413484,
          0.29752707375776133,
          0.2982128195760224,
          0.3017700697150852,
          0.30214039935451376,
          0.3043222043404095,
          0.30462250586178924,
          0.3058253464227514,
          0.3067169445043386,
          0.308084433923729,
          0.31414384665778033,
          0.3205011417220659,
          0.32335463409059,
          0.32358657278470804,
          0.32791101519815186,
          0.3292525262084399,
          0.33568837189321177,
          0.3405078497617173,
          0.34095883166543645,
          0.3538767184707002,
          0.3585430074901035,
          0.35910405929080824,
          0.36007914732696594,
          0.3614600927214106,
          0.37340739142824403,
          0.37623780268240414,
          0.3777630849823637,
          0.37983949019031454,
          0.3860414027541796,
          0.3869054954109109,
          0.3914759846323874,
          0.3944280427729801,
          0.39532577555462994,
          0.40273196836786435,
          0.40810494425131244,
          0.4154364627991471,
          0.4281420295591335,
          0.4304060768546186,
          0.43854042168199564,
          0.44090784812818534,
          0.44885523979903624,
          0.452635883989486,
          0.4558415039579529,
          0.456228677592708,
          0.45781333790321466,
          0.4703503525474558,
          0.4896769857136691,
          0.49957907983240474,
          0.5009352741323689,
          0.5019393999440952,
          0.5126555876286056,
          0.5142075331846131,
          0.5198322213288447,
          0.5219568794889582,
          0.5224839802193589,
          0.5240045342984794,
          0.5245209565380884,
          0.5245548053368617,
          0.5301978584072486,
          0.5363128386046057,
          0.5391993906965683,
          0.5411012318970558,
          0.5438226914238887,
          0.5442913090273264,
          0.5472507370070301,
          0.5839457934400416,
          0.5915018942379242,
          0.5943731874853864,
          0.6042193429699855,
          0.6117045708296365,
          0.6209963361997174,
          0.6285608502004472,
          0.6395457443974607,
          0.6461846485638794,
          0.6498548639688645,
          0.6506323698943561,
          0.6567704059124045,
          0.6631128414727232,
          0.6697043067831271,
          0.6727436391038356,
          0.6742596626764461,
          0.6830402844851374,
          0.6892591780593204,
          0.6943369521287539,
          0.6964092634602702,
          0.7118401334348402,
          0.7134189057760608,
          0.7167871744612793,
          0.7175996452179584,
          0.7184211810488151,
          0.7185290803627947,
          0.721271196298992,
          0.7299316220750717,
          0.7505617459596301,
          0.7693899182145809,
          0.7774406218325776,
          0.781736833608539,
          0.7923908964429698,
          0.7963240436373854,
          0.7997182510814108,
          0.81511891254735,
          0.8201628787293354,
          0.8260991590961726,
          0.8290394422523725,
          0.8414367910755507,
          0.8578002736951412,
          0.874383018907828,
          0.8774049291642667,
          0.8845266231353687,
          0.8851814300093379,
          0.8871284767990145,
          0.8875800675541948,
          0.8950739783424739,
          0.9013843531637769,
          0.9230508408663238,
          0.9575456083687135,
          0.9576381213697381,
          0.9615053318013802,
          0.975301335434616,
          1.002867835489636,
          1.0169487949022538,
          1.0171805453287417,
          1.0330951247518578,
          1.0371650120091414,
          1.0391779813814173,
          1.0414326922034083,
          1.0421382550960836,
          1.0847825510378424,
          1.1058692894655269,
          1.116630488022214,
          1.1167911403895778,
          1.1273036380397667,
          1.148702683771378,
          1.1530252201565228,
          1.1534355304934398,
          1.1578119435538166,
          1.1655995600411704,
          1.1810214852675158,
          1.2015831148596532,
          1.2037027981830075,
          1.2169857602203964,
          1.2250659214240964,
          1.23454680196158,
          1.2417191502334373,
          1.2485619592414483,
          1.2524779640749413,
          1.3025532616062696,
          1.3099343095750664,
          1.3154504653897028,
          1.3513756541695094,
          1.371818965184297,
          1.3819797083731906,
          1.3845404542045654,
          1.4324867150763017,
          1.436830200402707,
          1.4626896686874464,
          1.4666290147064285,
          1.4709582773368655,
          1.5164954971865006,
          1.5528317471129822,
          1.6813147878484958,
          1.7022345871947526,
          1.7107970885107449,
          1.73884653122916,
          1.7570622996462242,
          1.8646794988189208,
          1.8794967475867346,
          1.9271372826554896,
          2.0801188070476324,
          2.119616755379241,
          2.1841743340046778,
          2.1897911609221516,
          2.2015914769040617,
          2.491937128075817,
          2.599305177925286,
          2.772949904828859,
          2.9220467966154198,
          3.0057062478943144,
          3.015653090808775,
          3.33640248679797,
          3.5199825176755852,
          4.113942672160603,
          4.145805214658036,
          5.835871122794314
         ],
         "xaxis": "x",
         "y": [
          -46.534937926218845,
          34870.927540014585,
          35930.30257638023,
          35959.22509011949,
          36645.58299588016,
          37603.005521948624,
          41915.91358729632,
          42408.3618906386,
          43956.85474474836,
          44829.10995277332,
          46707.73152195415,
          47131.33291451898,
          48051.98127545224,
          48878.89382565196,
          48962.85620921446,
          49526.88002524979,
          49959.27359948176,
          55376.926299166225,
          59283.067410441334,
          59378.32585497627,
          59403.302210212976,
          59740.20586822914,
          60798.68240026233,
          60889.07022779103,
          61074.79528848623,
          64285.545408395046,
          69223.06278724445,
          70102.82129583924,
          71435.93622962883,
          71882.09963738722,
          73075.4847097267,
          73137.50702072168,
          75137.72738698601,
          78509.39549914678,
          78850.4419302574,
          81159.24157102346,
          83053.18214477386,
          83295.77894833688,
          83348.21657017258,
          83580.4902242111,
          84602.271614036,
          84978.73432776314,
          87501.1966958832,
          87662.13139412753,
          88351.71921371465,
          91831.23581265775,
          93364.90440377353,
          93683.36683041278,
          94249.2743271266,
          94327.40745583308,
          94478.39738714545,
          96430.68579286899,
          96713.82290807068,
          97561.57760566333,
          98065.27973501399,
          98100.43988033854,
          99413.12601151668,
          99495.2143163354,
          99978.4042053315,
          100199.16496438827,
          100690.02976128041,
          100726.87651263142,
          100735.2656454695,
          101106.91275690007,
          101315.22480695575,
          101366.77826376457,
          101562.88110618998,
          101991.94720916625,
          102112.69459833555,
          102275.25727833061,
          102539.52988507545,
          102998.6338262404,
          103313.8008348344,
          103351.63797890623,
          103407.32506852434,
          104534.7989491631,
          104714.28920063117,
          104967.92753726385,
          105111.290926325,
          105231.9407158621,
          106427.2787924232,
          106695.95340538611,
          107163.51140868933,
          107581.53248386287,
          107754.58181305575,
          107969.89789650221,
          108015.72415922485,
          108395.83038638196,
          108735.08522184893,
          108800.08058637443,
          108987.20294983874,
          108989.60176271346,
          109915.20872319091,
          110277.5513876363,
          110855.71400574448,
          110889.1829956514,
          111159.51531712149,
          112138.0722146702,
          112404.55970582884,
          112512.10000522947,
          112528.03527314548,
          112544.57189316793,
          112637.65940799215,
          112648.2769012773,
          112939.31828849837,
          113414.22877774689,
          114448.49002876756,
          114736.25501006008,
          114840.47084502739,
          114869.86488678177,
          114957.41903405212,
          115089.86170843699,
          116081.2899707641,
          116666.50412522073,
          117094.6269509948,
          117124.9597613771,
          117522.38621762133,
          118292.48670880731,
          118640.75522900652,
          119243.74436883522,
          119806.14522694127,
          119913.51420508658,
          120280.53100101667,
          120751.93941141097,
          121129.4294481579,
          121637.78832070489,
          122083.88501675829,
          122211.60136408929,
          122214.10075496013,
          122274.85958985164,
          122966.32446233777,
          123269.85034853683,
          123279.01761119853,
          124044.6010773569,
          124080.82131289039,
          124134.44586862618,
          124350.35411028106,
          124536.52967915667,
          124764.24691973248,
          125726.79526293669,
          125747.61225253501,
          125857.93533260902,
          126070.09590566505,
          126071.81456140512,
          126522.2017246813,
          126623.2727996218,
          126770.02508900434,
          126842.31793076452,
          128959.6643771987,
          129191.43274040276,
          129233.95826161993,
          129454.00457421888,
          129521.61388194989,
          129593.20474541947,
          129860.1188557227,
          129890.11687886443,
          130154.877150964,
          130218.88433526328,
          130288.48193608318,
          130894.63227815958,
          131106.73558230832,
          132099.51740067994,
          132559.47190073447,
          132693.3009953839,
          132924.77071123885,
          132954.9191932017,
          133155.44770225155,
          133262.03144909348,
          134633.75205152069,
          134691.98725132312,
          134956.2893439136,
          135740.0897144762,
          136429.55732808012,
          136477.9169695975,
          136826.5460124106,
          136851.90164872038,
          137829.72298358014,
          138146.6571150386,
          138919.82780581168,
          139147.47637719024,
          140102.47108806315,
          140234.25349727634,
          140429.7307803726,
          140890.70380248144,
          141100.0275751893,
          141251.5881215794,
          141430.3958563576,
          141480.6299051157,
          142161.1222334894,
          142243.56780042307,
          142583.38730381688,
          143025.84352424,
          143626.352502836,
          143775.28800228116,
          143915.0761765485,
          143923.68694939886,
          144037.1654447061,
          144382.7961034465,
          144671.13418715438,
          144686.96594380963,
          144905.88090350822,
          144934.55231775198,
          145168.00594218684,
          145391.58500936313,
          145891.38167765213,
          146775.294504082,
          146944.86851614824,
          146947.2197890211,
          147263.44068871252,
          147376.5915271849,
          148129.21240538266,
          148634.43631052558,
          149348.696970327,
          149436.31880847222,
          149903.60874937492,
          149904.83826981435,
          150037.14401280228,
          150359.12030355577,
          150817.20090825186,
          150867.77808354524,
          150872.2044366064,
          151281.9517862499,
          151401.07429586293,
          151535.16240106497,
          152330.60690293642,
          152460.9889915089,
          152922.13278292544,
          153094.09276255046,
          153457.72866126566,
          153522.68407979293,
          153629.1950080157,
          153818.9236527492,
          153852.37514959287,
          154345.17646474746,
          154474.52384185742,
          154722.98159235372,
          155061.16455405956,
          155645.30742543956,
          156316.89005114933,
          156390.40369915866,
          156393.99533541244,
          157132.68802087518,
          157496.47140806998,
          157597.9380230534,
          158138.26480040685,
          158159.59323808097,
          158268.73870723983,
          158455.985134848,
          159564.86456634803,
          160160.2760854405,
          161070.75103535844,
          162065.03113855195,
          162155.32582593424,
          162462.37936033824,
          162781.87865239376,
          163240.85089443106,
          163843.73300131696,
          164030.54106573225,
          164417.17630982256,
          164490.49243944767,
          164740.21956702508,
          164769.10962796188,
          164858.40564239625,
          164884.1701966537,
          165293.8030621174,
          166041.64876686607,
          166455.02892777362,
          166775.65513486485,
          166906.17498959915,
          167108.5197271063,
          167108.5197271063,
          167123.68872781371,
          167305.41884984134,
          167501.41676455544,
          167940.81963879702,
          168106.42217832728,
          168934.32982565576,
          169316.43703946128,
          169601.91554992145,
          169964.90031534765,
          170104.20746650567,
          172268.8844771144,
          172765.19325176495,
          172991.72964315207,
          173929.69364601755,
          173929.69364601755,
          174434.91817443934,
          174617.72278702012,
          175462.95043179323,
          177305.5871621506,
          177823.59160471428,
          178159.92064925618,
          178741.15568339915,
          179087.50058041938,
          179374.91453067094,
          179610.5182214611,
          179768.15869333045,
          179911.44637141467,
          179938.1352035786,
          180678.10643118672,
          181191.05121400193,
          181372.3444147538,
          181724.98960070204,
          182508.99781483153,
          182553.03198626172,
          183009.63812028445,
          183482.44631710034,
          183944.73561786913,
          184143.87559358016,
          184564.27648538302,
          185382.87799272974,
          185665.7953260553,
          186267.67711535847,
          186461.05885378658,
          186791.31698521698,
          186817.25732485118,
          186875.6361823565,
          187162.33261889027,
          187317.24845506143,
          187511.66286301453,
          187656.95126758257,
          187936.58581062118,
          188179.48516061174,
          188294.53182843106,
          188332.57521037068,
          188611.8662597958,
          189185.50974883343,
          190484.15244970497,
          191271.41785891197,
          191888.83893370448,
          192542.70481744985,
          192662.728334142,
          193308.64714959028,
          193377.3143224417,
          194121.572709832,
          194124.42319088485,
          194930.87899855655,
          195205.77542298625,
          195241.58686081567,
          195301.0700973629,
          195896.76585877204,
          196340.61702651024,
          196376.58395747226,
          196883.32686286533,
          196970.44461126777,
          197538.2144313436,
          198172.24160309578,
          198562.40555358215,
          198707.50799648362,
          199242.0200028475,
          199305.8685001127,
          199345.75371066135,
          199689.79294368444,
          199755.4080432677,
          199898.39378226348,
          200796.6214111702,
          200920.84808811694,
          201046.54981146244,
          201061.22683057637,
          201308.68738106004,
          201701.03168274637,
          201985.27426218314,
          202727.23112746901,
          203059.64679119762,
          203333.04516157415,
          203400.14833060125,
          203483.25399042232,
          203665.6926753645,
          203873.09771178878,
          204358.05118656743,
          204476.45668291784,
          204491.77157608443,
          204674.57407977642,
          205289.96259461265,
          205372.84588024524,
          205672.61886334626,
          205793.0828872258,
          206424.97538037846,
          207239.67999771703,
          207333.35518555657,
          207495.88599584223,
          207978.39959348948,
          208152.5696788522,
          209528.20548491552,
          209684.78444620434,
          209758.6331486999,
          210055.25251632987,
          210281.0952697334,
          210878.19565166833,
          211054.00360681818,
          211882.11565988362,
          211982.44470160114,
          212093.80400987525,
          212207.80282961982,
          212312.84823130348,
          212415.48473460728,
          212884.61468111727,
          213005.69171266546,
          213039.15571524168,
          213302.3205026955,
          213375.98246488208,
          214155.73594645277,
          214725.39059532108,
          214964.10267144433,
          215360.78328385425,
          215425.04455057194,
          215457.1019066225,
          216428.53053103882,
          216515.86989430655,
          216710.96990425355,
          216809.87422588395,
          216850.2146486663,
          217052.96610641846,
          217409.71080994263,
          217903.38683381118,
          217976.19815953117,
          218206.51973034622,
          218400.9134890821,
          219118.07078761188,
          219301.6039439193,
          219684.82687350738,
          219955.13368065527,
          220137.05831538144,
          220268.5285944175,
          220474.27600186982,
          220797.14427395328,
          221125.71752562418,
          221296.58448729853,
          221861.58391680283,
          222695.04039100974,
          222697.25551374734,
          222741.15778535022,
          222836.55494264566,
          222963.5388748213,
          222994.8995354069,
          223718.95148662053,
          223835.7451267413,
          224526.44488623526,
          225135.0039516161,
          225974.95976498578,
          226031.33162449131,
          226388.82358750096,
          226761.51582340582,
          227464.26026011354,
          227497.98943607582,
          227542.8186860016,
          228893.1877325608,
          229193.11034146667,
          229302.04314481877,
          229502.10493782564,
          229738.12313664562,
          230388.89619746586,
          230392.81576108167,
          231314.9045002765,
          231372.75979820653,
          231556.29489194724,
          231847.87910330546,
          232031.30160490278,
          232550.142583978,
          232686.34046539734,
          232793.55056344054,
          232974.40957489563,
          233138.9958035775,
          233229.88661845803,
          233816.17295769128,
          234404.65106134815,
          234428.1740375299,
          235433.23847908425,
          235791.27020828213,
          236919.92447328553,
          237195.93715323688,
          237506.91630138486,
          237730.78851169936,
          238066.34192606265,
          238615.02773530906,
          238693.54745049388,
          238731.27460418548,
          239030.1768503107,
          241162.48959726986,
          241207.44763291662,
          241531.78612506852,
          241702.9466123829,
          242602.16871972493,
          243938.13306022133,
          244752.0587304227,
          245799.53633378094,
          246009.17262980287,
          246206.23757755992,
          246456.68778883747,
          247706.6083369957,
          247750.6965632962,
          247777.96693109375,
          248590.82066073443,
          249089.2263092061,
          249797.04868119158,
          250461.07848937094,
          250501.55608736863,
          250856.33758972702,
          251273.76359950798,
          251358.07419180725,
          252729.54373524705,
          252901.1188814019,
          255280.21788591775,
          259056.0637746606,
          259374.49587363657,
          259672.30487804193,
          260001.19408714198,
          261094.08341316355,
          262235.8539377181,
          262570.53715672897,
          263033.753263784,
          263260.79252693756,
          263830.10135764343,
          263924.7562188556,
          264561.2100240485,
          264701.05541871133,
          268080.7077072442,
          268261.67025848804,
          268653.33895197284,
          268809.5140459343,
          269007.82551558974,
          269331.29632028355,
          272059.8238349771,
          273662.43970698095,
          274193.6860539207,
          274844.32554727,
          274941.87642842886,
          275208.41771258117,
          275245.68086512515,
          275891.19319844194,
          276951.5869109519,
          277057.09570985613,
          277271.4611938202,
          278248.36045078747,
          278773.50836731575,
          279402.33363255556,
          281318.61828638107,
          281399.55071463017,
          281562.8258694306,
          286012.5266519004,
          286708.1851914155,
          287231.03597308544,
          287259.8621667546,
          287559.7554858101,
          288690.83547157503,
          292121.3954272781,
          295408.3162245787,
          295879.557135199,
          296447.8266913229,
          300333.6671353472,
          300334.72267594014,
          300587.4376306134,
          301512.388315902,
          302245.9401596217,
          302568.3568576815,
          302632.7045666432,
          303703.9824494093,
          304341.3277158537,
          304495.9945860361,
          304945.31551289855,
          306825.54148409166,
          307269.56739856896,
          309668.4421453637,
          310790.55095774936,
          312350.54206163576,
          313572.5162594289,
          316786.5913905201,
          317762.8362764929,
          321506.3164313538,
          322490.677999583,
          325345.7640314915,
          326702.21898137627,
          329907.8664562144,
          330541.5642096639,
          335560.2080275938,
          359160.4659587424,
          361541.46120162285,
          362568.9599074201,
          369097.833099943,
          372677.49815186433,
          381665.99764244526,
          399047.3927211547,
          402961.1012639125,
          561836.5759717383
         ],
         "yaxis": "y"
        }
       ],
       "layout": {
        "legend": {
         "tracegroupgap": 0
        },
        "margin": {
         "t": 60
        },
        "template": {
         "data": {
          "bar": [
           {
            "error_x": {
             "color": "#2a3f5f"
            },
            "error_y": {
             "color": "#2a3f5f"
            },
            "marker": {
             "line": {
              "color": "#E5ECF6",
              "width": 0.5
             },
             "pattern": {
              "fillmode": "overlay",
              "size": 10,
              "solidity": 0.2
             }
            },
            "type": "bar"
           }
          ],
          "barpolar": [
           {
            "marker": {
             "line": {
              "color": "#E5ECF6",
              "width": 0.5
             },
             "pattern": {
              "fillmode": "overlay",
              "size": 10,
              "solidity": 0.2
             }
            },
            "type": "barpolar"
           }
          ],
          "carpet": [
           {
            "aaxis": {
             "endlinecolor": "#2a3f5f",
             "gridcolor": "white",
             "linecolor": "white",
             "minorgridcolor": "white",
             "startlinecolor": "#2a3f5f"
            },
            "baxis": {
             "endlinecolor": "#2a3f5f",
             "gridcolor": "white",
             "linecolor": "white",
             "minorgridcolor": "white",
             "startlinecolor": "#2a3f5f"
            },
            "type": "carpet"
           }
          ],
          "choropleth": [
           {
            "colorbar": {
             "outlinewidth": 0,
             "ticks": ""
            },
            "type": "choropleth"
           }
          ],
          "contour": [
           {
            "colorbar": {
             "outlinewidth": 0,
             "ticks": ""
            },
            "colorscale": [
             [
              0,
              "#0d0887"
             ],
             [
              0.1111111111111111,
              "#46039f"
             ],
             [
              0.2222222222222222,
              "#7201a8"
             ],
             [
              0.3333333333333333,
              "#9c179e"
             ],
             [
              0.4444444444444444,
              "#bd3786"
             ],
             [
              0.5555555555555556,
              "#d8576b"
             ],
             [
              0.6666666666666666,
              "#ed7953"
             ],
             [
              0.7777777777777778,
              "#fb9f3a"
             ],
             [
              0.8888888888888888,
              "#fdca26"
             ],
             [
              1,
              "#f0f921"
             ]
            ],
            "type": "contour"
           }
          ],
          "contourcarpet": [
           {
            "colorbar": {
             "outlinewidth": 0,
             "ticks": ""
            },
            "type": "contourcarpet"
           }
          ],
          "heatmap": [
           {
            "colorbar": {
             "outlinewidth": 0,
             "ticks": ""
            },
            "colorscale": [
             [
              0,
              "#0d0887"
             ],
             [
              0.1111111111111111,
              "#46039f"
             ],
             [
              0.2222222222222222,
              "#7201a8"
             ],
             [
              0.3333333333333333,
              "#9c179e"
             ],
             [
              0.4444444444444444,
              "#bd3786"
             ],
             [
              0.5555555555555556,
              "#d8576b"
             ],
             [
              0.6666666666666666,
              "#ed7953"
             ],
             [
              0.7777777777777778,
              "#fb9f3a"
             ],
             [
              0.8888888888888888,
              "#fdca26"
             ],
             [
              1,
              "#f0f921"
             ]
            ],
            "type": "heatmap"
           }
          ],
          "heatmapgl": [
           {
            "colorbar": {
             "outlinewidth": 0,
             "ticks": ""
            },
            "colorscale": [
             [
              0,
              "#0d0887"
             ],
             [
              0.1111111111111111,
              "#46039f"
             ],
             [
              0.2222222222222222,
              "#7201a8"
             ],
             [
              0.3333333333333333,
              "#9c179e"
             ],
             [
              0.4444444444444444,
              "#bd3786"
             ],
             [
              0.5555555555555556,
              "#d8576b"
             ],
             [
              0.6666666666666666,
              "#ed7953"
             ],
             [
              0.7777777777777778,
              "#fb9f3a"
             ],
             [
              0.8888888888888888,
              "#fdca26"
             ],
             [
              1,
              "#f0f921"
             ]
            ],
            "type": "heatmapgl"
           }
          ],
          "histogram": [
           {
            "marker": {
             "pattern": {
              "fillmode": "overlay",
              "size": 10,
              "solidity": 0.2
             }
            },
            "type": "histogram"
           }
          ],
          "histogram2d": [
           {
            "colorbar": {
             "outlinewidth": 0,
             "ticks": ""
            },
            "colorscale": [
             [
              0,
              "#0d0887"
             ],
             [
              0.1111111111111111,
              "#46039f"
             ],
             [
              0.2222222222222222,
              "#7201a8"
             ],
             [
              0.3333333333333333,
              "#9c179e"
             ],
             [
              0.4444444444444444,
              "#bd3786"
             ],
             [
              0.5555555555555556,
              "#d8576b"
             ],
             [
              0.6666666666666666,
              "#ed7953"
             ],
             [
              0.7777777777777778,
              "#fb9f3a"
             ],
             [
              0.8888888888888888,
              "#fdca26"
             ],
             [
              1,
              "#f0f921"
             ]
            ],
            "type": "histogram2d"
           }
          ],
          "histogram2dcontour": [
           {
            "colorbar": {
             "outlinewidth": 0,
             "ticks": ""
            },
            "colorscale": [
             [
              0,
              "#0d0887"
             ],
             [
              0.1111111111111111,
              "#46039f"
             ],
             [
              0.2222222222222222,
              "#7201a8"
             ],
             [
              0.3333333333333333,
              "#9c179e"
             ],
             [
              0.4444444444444444,
              "#bd3786"
             ],
             [
              0.5555555555555556,
              "#d8576b"
             ],
             [
              0.6666666666666666,
              "#ed7953"
             ],
             [
              0.7777777777777778,
              "#fb9f3a"
             ],
             [
              0.8888888888888888,
              "#fdca26"
             ],
             [
              1,
              "#f0f921"
             ]
            ],
            "type": "histogram2dcontour"
           }
          ],
          "mesh3d": [
           {
            "colorbar": {
             "outlinewidth": 0,
             "ticks": ""
            },
            "type": "mesh3d"
           }
          ],
          "parcoords": [
           {
            "line": {
             "colorbar": {
              "outlinewidth": 0,
              "ticks": ""
             }
            },
            "type": "parcoords"
           }
          ],
          "pie": [
           {
            "automargin": true,
            "type": "pie"
           }
          ],
          "scatter": [
           {
            "fillpattern": {
             "fillmode": "overlay",
             "size": 10,
             "solidity": 0.2
            },
            "type": "scatter"
           }
          ],
          "scatter3d": [
           {
            "line": {
             "colorbar": {
              "outlinewidth": 0,
              "ticks": ""
             }
            },
            "marker": {
             "colorbar": {
              "outlinewidth": 0,
              "ticks": ""
             }
            },
            "type": "scatter3d"
           }
          ],
          "scattercarpet": [
           {
            "marker": {
             "colorbar": {
              "outlinewidth": 0,
              "ticks": ""
             }
            },
            "type": "scattercarpet"
           }
          ],
          "scattergeo": [
           {
            "marker": {
             "colorbar": {
              "outlinewidth": 0,
              "ticks": ""
             }
            },
            "type": "scattergeo"
           }
          ],
          "scattergl": [
           {
            "marker": {
             "colorbar": {
              "outlinewidth": 0,
              "ticks": ""
             }
            },
            "type": "scattergl"
           }
          ],
          "scattermapbox": [
           {
            "marker": {
             "colorbar": {
              "outlinewidth": 0,
              "ticks": ""
             }
            },
            "type": "scattermapbox"
           }
          ],
          "scatterpolar": [
           {
            "marker": {
             "colorbar": {
              "outlinewidth": 0,
              "ticks": ""
             }
            },
            "type": "scatterpolar"
           }
          ],
          "scatterpolargl": [
           {
            "marker": {
             "colorbar": {
              "outlinewidth": 0,
              "ticks": ""
             }
            },
            "type": "scatterpolargl"
           }
          ],
          "scatterternary": [
           {
            "marker": {
             "colorbar": {
              "outlinewidth": 0,
              "ticks": ""
             }
            },
            "type": "scatterternary"
           }
          ],
          "surface": [
           {
            "colorbar": {
             "outlinewidth": 0,
             "ticks": ""
            },
            "colorscale": [
             [
              0,
              "#0d0887"
             ],
             [
              0.1111111111111111,
              "#46039f"
             ],
             [
              0.2222222222222222,
              "#7201a8"
             ],
             [
              0.3333333333333333,
              "#9c179e"
             ],
             [
              0.4444444444444444,
              "#bd3786"
             ],
             [
              0.5555555555555556,
              "#d8576b"
             ],
             [
              0.6666666666666666,
              "#ed7953"
             ],
             [
              0.7777777777777778,
              "#fb9f3a"
             ],
             [
              0.8888888888888888,
              "#fdca26"
             ],
             [
              1,
              "#f0f921"
             ]
            ],
            "type": "surface"
           }
          ],
          "table": [
           {
            "cells": {
             "fill": {
              "color": "#EBF0F8"
             },
             "line": {
              "color": "white"
             }
            },
            "header": {
             "fill": {
              "color": "#C8D4E3"
             },
             "line": {
              "color": "white"
             }
            },
            "type": "table"
           }
          ]
         },
         "layout": {
          "annotationdefaults": {
           "arrowcolor": "#2a3f5f",
           "arrowhead": 0,
           "arrowwidth": 1
          },
          "autotypenumbers": "strict",
          "coloraxis": {
           "colorbar": {
            "outlinewidth": 0,
            "ticks": ""
           }
          },
          "colorscale": {
           "diverging": [
            [
             0,
             "#8e0152"
            ],
            [
             0.1,
             "#c51b7d"
            ],
            [
             0.2,
             "#de77ae"
            ],
            [
             0.3,
             "#f1b6da"
            ],
            [
             0.4,
             "#fde0ef"
            ],
            [
             0.5,
             "#f7f7f7"
            ],
            [
             0.6,
             "#e6f5d0"
            ],
            [
             0.7,
             "#b8e186"
            ],
            [
             0.8,
             "#7fbc41"
            ],
            [
             0.9,
             "#4d9221"
            ],
            [
             1,
             "#276419"
            ]
           ],
           "sequential": [
            [
             0,
             "#0d0887"
            ],
            [
             0.1111111111111111,
             "#46039f"
            ],
            [
             0.2222222222222222,
             "#7201a8"
            ],
            [
             0.3333333333333333,
             "#9c179e"
            ],
            [
             0.4444444444444444,
             "#bd3786"
            ],
            [
             0.5555555555555556,
             "#d8576b"
            ],
            [
             0.6666666666666666,
             "#ed7953"
            ],
            [
             0.7777777777777778,
             "#fb9f3a"
            ],
            [
             0.8888888888888888,
             "#fdca26"
            ],
            [
             1,
             "#f0f921"
            ]
           ],
           "sequentialminus": [
            [
             0,
             "#0d0887"
            ],
            [
             0.1111111111111111,
             "#46039f"
            ],
            [
             0.2222222222222222,
             "#7201a8"
            ],
            [
             0.3333333333333333,
             "#9c179e"
            ],
            [
             0.4444444444444444,
             "#bd3786"
            ],
            [
             0.5555555555555556,
             "#d8576b"
            ],
            [
             0.6666666666666666,
             "#ed7953"
            ],
            [
             0.7777777777777778,
             "#fb9f3a"
            ],
            [
             0.8888888888888888,
             "#fdca26"
            ],
            [
             1,
             "#f0f921"
            ]
           ]
          },
          "colorway": [
           "#636efa",
           "#EF553B",
           "#00cc96",
           "#ab63fa",
           "#FFA15A",
           "#19d3f3",
           "#FF6692",
           "#B6E880",
           "#FF97FF",
           "#FECB52"
          ],
          "font": {
           "color": "#2a3f5f"
          },
          "geo": {
           "bgcolor": "white",
           "lakecolor": "white",
           "landcolor": "#E5ECF6",
           "showlakes": true,
           "showland": true,
           "subunitcolor": "white"
          },
          "hoverlabel": {
           "align": "left"
          },
          "hovermode": "closest",
          "mapbox": {
           "style": "light"
          },
          "paper_bgcolor": "white",
          "plot_bgcolor": "#E5ECF6",
          "polar": {
           "angularaxis": {
            "gridcolor": "white",
            "linecolor": "white",
            "ticks": ""
           },
           "bgcolor": "#E5ECF6",
           "radialaxis": {
            "gridcolor": "white",
            "linecolor": "white",
            "ticks": ""
           }
          },
          "scene": {
           "xaxis": {
            "backgroundcolor": "#E5ECF6",
            "gridcolor": "white",
            "gridwidth": 2,
            "linecolor": "white",
            "showbackground": true,
            "ticks": "",
            "zerolinecolor": "white"
           },
           "yaxis": {
            "backgroundcolor": "#E5ECF6",
            "gridcolor": "white",
            "gridwidth": 2,
            "linecolor": "white",
            "showbackground": true,
            "ticks": "",
            "zerolinecolor": "white"
           },
           "zaxis": {
            "backgroundcolor": "#E5ECF6",
            "gridcolor": "white",
            "gridwidth": 2,
            "linecolor": "white",
            "showbackground": true,
            "ticks": "",
            "zerolinecolor": "white"
           }
          },
          "shapedefaults": {
           "line": {
            "color": "#2a3f5f"
           }
          },
          "ternary": {
           "aaxis": {
            "gridcolor": "white",
            "linecolor": "white",
            "ticks": ""
           },
           "baxis": {
            "gridcolor": "white",
            "linecolor": "white",
            "ticks": ""
           },
           "bgcolor": "#E5ECF6",
           "caxis": {
            "gridcolor": "white",
            "linecolor": "white",
            "ticks": ""
           }
          },
          "title": {
           "x": 0.05
          },
          "xaxis": {
           "automargin": true,
           "gridcolor": "white",
           "linecolor": "white",
           "ticks": "",
           "title": {
            "standoff": 15
           },
           "zerolinecolor": "white",
           "zerolinewidth": 2
          },
          "yaxis": {
           "automargin": true,
           "gridcolor": "white",
           "linecolor": "white",
           "ticks": "",
           "title": {
            "standoff": 15
           },
           "zerolinecolor": "white",
           "zerolinewidth": 2
          }
         }
        },
        "title": {
         "text": "Sample Quantile vs. Theoretical Quantile"
        },
        "xaxis": {
         "anchor": "y",
         "domain": [
          0,
          1
         ],
         "title": {
          "text": "Theoretical Quantiles"
         }
        },
        "yaxis": {
         "anchor": "x",
         "domain": [
          0,
          1
         ],
         "title": {
          "text": "Sample Quantile"
         }
        }
       }
      }
     },
     "metadata": {},
     "output_type": "display_data"
    }
   ],
   "source": [
    "fig_2c = px.scatter(x=sorted(lr_z_score), y=sorted(lr_predicted_y))\n",
    "\n",
    "fig_2c.update_xaxes(title_text=\"Theoretical Quantiles\")\n",
    "fig_2c.update_yaxes(title_text=\"Sample Quantile\")\n",
    "fig_2c.update_layout(title_text=\"Sample Quantile vs. Theoretical Quantile\")\n",
    "fig_2c.show()"
   ]
  },
  {
   "cell_type": "code",
   "execution_count": 22,
   "metadata": {},
   "outputs": [
    {
     "data": {
      "application/vnd.plotly.v1+json": {
       "config": {
        "plotlyServerURL": "https://plot.ly"
       },
       "data": [
        {
         "type": "scatter",
         "x": [
          -9.736286812469853,
          -2.9892616130973844,
          -2.7807672051108807,
          -2.387644255508473,
          -2.3206219644396517,
          -2.28910237792232,
          -2.1729734049877463,
          -2.1384393281361374,
          -2.0678746934635486,
          -2.0355809365156348,
          -1.9781087782762985,
          -1.9627840439483193,
          -1.9404421710761488,
          -1.9017660058564978,
          -1.8122814002245178,
          -1.7815891086232218,
          -1.7466861324753329,
          -1.725940250640677,
          -1.6962161544678958,
          -1.6094982960686068,
          -1.60095173936287,
          -1.5633940626880745,
          -1.5629013437771386,
          -1.5599776047506289,
          -1.5220217245311962,
          -1.485278599453694,
          -1.4346588325269727,
          -1.4078108872087844,
          -1.4013666193330596,
          -1.3610814101370348,
          -1.3485819956638048,
          -1.3366888917052628,
          -1.3150564118038635,
          -1.2741411686964967,
          -1.2672286246494004,
          -1.1948701033911322,
          -1.179604096041307,
          -1.1739573433527994,
          -1.1738344179601847,
          -1.1232241306338564,
          -1.0617875882480374,
          -1.0551688283687064,
          -1.0524151200914857,
          -1.0470033401341354,
          -1.0417006828119522,
          -1.0408208325027664,
          -1.0181966418453847,
          -1.0089949779599099,
          -1.0031878686584152,
          -1.0026496359103612,
          -0.9980711502381403,
          -0.9840630395886166,
          -0.9752419782240349,
          -0.965167942069162,
          -0.9602017649852755,
          -0.9456677177393539,
          -0.9146095498913733,
          -0.9141894241868909,
          -0.9099135411019047,
          -0.9058381236189746,
          -0.8942618307207271,
          -0.8865134205483596,
          -0.885440242048882,
          -0.8835664713029627,
          -0.8611597821078965,
          -0.8585621074931674,
          -0.8537002109887828,
          -0.8421508053106738,
          -0.8287257155553657,
          -0.8239987561019867,
          -0.807022331173584,
          -0.8047297405202284,
          -0.8017931872040449,
          -0.7838738429845991,
          -0.7826211700587402,
          -0.7798500630058804,
          -0.7773491466238768,
          -0.7725993659849678,
          -0.7723263475411338,
          -0.7622518357083734,
          -0.7563061198624264,
          -0.7395794465647336,
          -0.7374449819045776,
          -0.7252375320347995,
          -0.7220422777077857,
          -0.7197565624987953,
          -0.7128610050153182,
          -0.7127004148215571,
          -0.711475065177535,
          -0.7099272021273773,
          -0.7045270815716698,
          -0.6975468764423444,
          -0.6898397385495205,
          -0.6877959161827487,
          -0.68761860918775,
          -0.6755634061657146,
          -0.6631947991044875,
          -0.6626057084698108,
          -0.6589189252254204,
          -0.6583251147212908,
          -0.6562305625254011,
          -0.6437803042580312,
          -0.6425721659524376,
          -0.6384646781200198,
          -0.6371377261985443,
          -0.62069114922673,
          -0.6181507900416525,
          -0.6172080630601434,
          -0.6116790584770381,
          -0.6059250675687033,
          -0.596795415061798,
          -0.5965684175196385,
          -0.5961718953107124,
          -0.591658538499306,
          -0.5895149530723832,
          -0.5869881089923886,
          -0.5849636115533898,
          -0.584219569813518,
          -0.5751415117276895,
          -0.5748496395284995,
          -0.5731969727897982,
          -0.5697957842597746,
          -0.5658589649100613,
          -0.563945697872805,
          -0.56354418491312,
          -0.5631342109721083,
          -0.5613279099286691,
          -0.5606211406886241,
          -0.5599148695085351,
          -0.5515523043098847,
          -0.5452990558963242,
          -0.5411666303408059,
          -0.538479705854232,
          -0.5359732500305664,
          -0.5334161433064166,
          -0.5271687021318965,
          -0.51367540040855,
          -0.512953168196233,
          -0.512144844848273,
          -0.5095794174075756,
          -0.5040765184710405,
          -0.5029873003627219,
          -0.5027404843134703,
          -0.5007057464639186,
          -0.49993935778146126,
          -0.4993750016574058,
          -0.49263335574326184,
          -0.48418963557963635,
          -0.48317408763530023,
          -0.48163880263759007,
          -0.48023967630128905,
          -0.4782580236218801,
          -0.4754421508908011,
          -0.4634390089722409,
          -0.45911198163811884,
          -0.45627744695453765,
          -0.4496643774089337,
          -0.4485735210997564,
          -0.44773152384920567,
          -0.44736098226086335,
          -0.4420466440799617,
          -0.44198332016148834,
          -0.43950434205303557,
          -0.43642089439772724,
          -0.43502221003497776,
          -0.43115258892903136,
          -0.43069115358308707,
          -0.42772332913622285,
          -0.42450071657268357,
          -0.42210306242341383,
          -0.4216474475647911,
          -0.42015346199671894,
          -0.41657308007125904,
          -0.4157557514129309,
          -0.4148240300584554,
          -0.41007911666806257,
          -0.409151257699357,
          -0.4083865769317149,
          -0.40688482092498696,
          -0.40237312408735054,
          -0.3999311557860153,
          -0.3973129755394931,
          -0.3957498966477892,
          -0.39340396596423904,
          -0.3863104747625162,
          -0.3838674316967227,
          -0.38095818050548563,
          -0.38023090200320514,
          -0.3791077683573078,
          -0.3782791251576943,
          -0.37212627411344035,
          -0.37069367152138455,
          -0.36662578805432494,
          -0.3560197541011688,
          -0.3536920708047321,
          -0.35339221783400815,
          -0.35282319344260016,
          -0.3519727476230981,
          -0.3452499039447575,
          -0.3388213435477814,
          -0.3353624287871421,
          -0.3306854820303795,
          -0.3278647708946255,
          -0.32592325944555,
          -0.31583926840551635,
          -0.30817277952840433,
          -0.30666029219159,
          -0.30264275867631435,
          -0.29912978842902394,
          -0.29769173690823336,
          -0.29470072191692265,
          -0.2889492227258046,
          -0.2870373645499169,
          -0.2822499005746156,
          -0.28165760488217667,
          -0.27868715780705766,
          -0.27760200349261677,
          -0.2726963920852235,
          -0.2725254017203511,
          -0.2656939624104996,
          -0.2652772122080359,
          -0.2569613902712967,
          -0.25424748056137075,
          -0.24772832273953665,
          -0.2437202867244319,
          -0.24235806524956802,
          -0.24093270442217007,
          -0.24045673608660542,
          -0.23497744392855646,
          -0.23307224608314342,
          -0.23182030466493556,
          -0.22839765689476388,
          -0.22657083862267163,
          -0.22654179010260744,
          -0.2224409885305129,
          -0.22182229714125848,
          -0.22069601910516834,
          -0.2173380904224078,
          -0.2126834724564433,
          -0.2116109175174613,
          -0.19900166574655206,
          -0.19867698471250247,
          -0.19541667911159463,
          -0.19515972395837247,
          -0.19138870104455571,
          -0.19093040210420475,
          -0.1905573631284202,
          -0.1870659916231021,
          -0.18662534943581138,
          -0.18658938422232027,
          -0.18590618305103726,
          -0.18514526154115954,
          -0.18499850949595906,
          -0.18380846351329544,
          -0.18287843914460356,
          -0.16984453058355828,
          -0.1681588747953367,
          -0.1680746174467695,
          -0.16690725996726807,
          -0.16029049396055356,
          -0.15418184331471627,
          -0.1511700285141424,
          -0.15098408930553123,
          -0.14840379829401715,
          -0.1385148556153284,
          -0.1357816382253482,
          -0.12793571053252709,
          -0.12734184706122073,
          -0.12704401955935848,
          -0.12516616015652932,
          -0.12286635158546948,
          -0.11965879693057853,
          -0.11851344282347533,
          -0.11578353999959531,
          -0.11527551825237378,
          -0.11405221753230695,
          -0.11372945936461035,
          -0.1062693364132082,
          -0.10537500320226698,
          -0.102936848466288,
          -0.10187968118748554,
          -0.10020518792336747,
          -0.09419444231094151,
          -0.08442861154885183,
          -0.08312817175847918,
          -0.0797517722631016,
          -0.07915655937750393,
          -0.07858490619699436,
          -0.07386805457513258,
          -0.0737720095661347,
          -0.0662974457917807,
          -0.05910275766719989,
          -0.05466322693157256,
          -0.048717702797345996,
          -0.0445158095163876,
          -0.04369196720497278,
          -0.04203896204227486,
          -0.036585632943957176,
          -0.03591060750840236,
          -0.03422306774098611,
          -0.03368413492569438,
          -0.03159197572194014,
          -0.0307288844436299,
          -0.02710954235426658,
          -0.02218279680260821,
          -0.021379765332204814,
          -0.018321024835666503,
          -0.01796819378639654,
          -0.015728046525276373,
          -0.010604293530643417,
          -0.0098328467221914,
          -0.003936187849688586,
          -0.00003876317184317137,
          0.0018937242965788117,
          0.00507117900158371,
          0.006118397577198814,
          0.007545528963228384,
          0.008678466419989567,
          0.011298179001470534,
          0.014192999778885463,
          0.026186537640500766,
          0.027872160300096697,
          0.030827795852720687,
          0.03358302523734796,
          0.03705228872025393,
          0.04091876496849942,
          0.04571924286594554,
          0.047636487327592486,
          0.04837931531696999,
          0.04845020129851561,
          0.0493024049755231,
          0.05212123244576938,
          0.05726765147874742,
          0.058421087613666954,
          0.06308111816684994,
          0.0641569288777069,
          0.065945494408755,
          0.06751453034838562,
          0.06843731946103809,
          0.07072461199687104,
          0.07759060854830555,
          0.07760027065967061,
          0.07770338919785526,
          0.08361725301366675,
          0.09193200688108578,
          0.09205066577036095,
          0.09293847579769772,
          0.09448767492405052,
          0.10109800056077975,
          0.10970773552275236,
          0.11524017831341413,
          0.11899988071532797,
          0.123020963771019,
          0.12915421533509605,
          0.13244994371955357,
          0.1339133353740356,
          0.13412124844701828,
          0.14810859800901627,
          0.15422531655847246,
          0.16032128946102592,
          0.17213649631147832,
          0.17410296697667682,
          0.17930892699046663,
          0.1799349160066367,
          0.18211612929119073,
          0.18356744768063257,
          0.1843916571729737,
          0.1912435798925303,
          0.19478622233321027,
          0.19641148568686284,
          0.1991881670810714,
          0.20239244485104838,
          0.20425359349425767,
          0.2067007132663354,
          0.2092535641678987,
          0.21498475628491379,
          0.21901299387502832,
          0.22470855180530194,
          0.23078737163660346,
          0.23555890724809822,
          0.24038433925682653,
          0.24131655978740166,
          0.24155245627558583,
          0.24651147445729954,
          0.25003384638330095,
          0.25227331100454486,
          0.25729247152279905,
          0.2599200932998627,
          0.26019915484860184,
          0.2620367483702032,
          0.2637838130431594,
          0.2689457266721546,
          0.2726128079024497,
          0.27637971434162023,
          0.27842736567832244,
          0.27844068057537524,
          0.28155905679465454,
          0.28532545864643427,
          0.28630788152243297,
          0.2894320486597966,
          0.2904455542413484,
          0.29752707375776133,
          0.2982128195760224,
          0.3017700697150852,
          0.30214039935451376,
          0.3043222043404095,
          0.30462250586178924,
          0.3058253464227514,
          0.3067169445043386,
          0.308084433923729,
          0.31414384665778033,
          0.3205011417220659,
          0.32335463409059,
          0.32358657278470804,
          0.32791101519815186,
          0.3292525262084399,
          0.33568837189321177,
          0.3405078497617173,
          0.34095883166543645,
          0.3538767184707002,
          0.3585430074901035,
          0.35910405929080824,
          0.36007914732696594,
          0.3614600927214106,
          0.37340739142824403,
          0.37623780268240414,
          0.3777630849823637,
          0.37983949019031454,
          0.3860414027541796,
          0.3869054954109109,
          0.3914759846323874,
          0.3944280427729801,
          0.39532577555462994,
          0.40273196836786435,
          0.40810494425131244,
          0.4154364627991471,
          0.4281420295591335,
          0.4304060768546186,
          0.43854042168199564,
          0.44090784812818534,
          0.44885523979903624,
          0.452635883989486,
          0.4558415039579529,
          0.456228677592708,
          0.45781333790321466,
          0.4703503525474558,
          0.4896769857136691,
          0.49957907983240474,
          0.5009352741323689,
          0.5019393999440952,
          0.5126555876286056,
          0.5142075331846131,
          0.5198322213288447,
          0.5219568794889582,
          0.5224839802193589,
          0.5240045342984794,
          0.5245209565380884,
          0.5245548053368617,
          0.5301978584072486,
          0.5363128386046057,
          0.5391993906965683,
          0.5411012318970558,
          0.5438226914238887,
          0.5442913090273264,
          0.5472507370070301,
          0.5839457934400416,
          0.5915018942379242,
          0.5943731874853864,
          0.6042193429699855,
          0.6117045708296365,
          0.6209963361997174,
          0.6285608502004472,
          0.6395457443974607,
          0.6461846485638794,
          0.6498548639688645,
          0.6506323698943561,
          0.6567704059124045,
          0.6631128414727232,
          0.6697043067831271,
          0.6727436391038356,
          0.6742596626764461,
          0.6830402844851374,
          0.6892591780593204,
          0.6943369521287539,
          0.6964092634602702,
          0.7118401334348402,
          0.7134189057760608,
          0.7167871744612793,
          0.7175996452179584,
          0.7184211810488151,
          0.7185290803627947,
          0.721271196298992,
          0.7299316220750717,
          0.7505617459596301,
          0.7693899182145809,
          0.7774406218325776,
          0.781736833608539,
          0.7923908964429698,
          0.7963240436373854,
          0.7997182510814108,
          0.81511891254735,
          0.8201628787293354,
          0.8260991590961726,
          0.8290394422523725,
          0.8414367910755507,
          0.8578002736951412,
          0.874383018907828,
          0.8774049291642667,
          0.8845266231353687,
          0.8851814300093379,
          0.8871284767990145,
          0.8875800675541948,
          0.8950739783424739,
          0.9013843531637769,
          0.9230508408663238,
          0.9575456083687135,
          0.9576381213697381,
          0.9615053318013802,
          0.975301335434616,
          1.002867835489636,
          1.0169487949022538,
          1.0171805453287417,
          1.0330951247518578,
          1.0371650120091414,
          1.0391779813814173,
          1.0414326922034083,
          1.0421382550960836,
          1.0847825510378424,
          1.1058692894655269,
          1.116630488022214,
          1.1167911403895778,
          1.1273036380397667,
          1.148702683771378,
          1.1530252201565228,
          1.1534355304934398,
          1.1578119435538166,
          1.1655995600411704,
          1.1810214852675158,
          1.2015831148596532,
          1.2037027981830075,
          1.2169857602203964,
          1.2250659214240964,
          1.23454680196158,
          1.2417191502334373,
          1.2485619592414483,
          1.2524779640749413,
          1.3025532616062696,
          1.3099343095750664,
          1.3154504653897028,
          1.3513756541695094,
          1.371818965184297,
          1.3819797083731906,
          1.3845404542045654,
          1.4324867150763017,
          1.436830200402707,
          1.4626896686874464,
          1.4666290147064285,
          1.4709582773368655,
          1.5164954971865006,
          1.5528317471129822,
          1.6813147878484958,
          1.7022345871947526,
          1.7107970885107449,
          1.73884653122916,
          1.7570622996462242,
          1.8646794988189208,
          1.8794967475867346,
          1.9271372826554896,
          2.0801188070476324,
          2.119616755379241,
          2.1841743340046778,
          2.1897911609221516,
          2.2015914769040617,
          2.491937128075817,
          2.599305177925286,
          2.772949904828859,
          2.9220467966154198,
          3.0057062478943144,
          3.015653090808775,
          3.33640248679797,
          3.5199825176755852,
          4.113942672160603,
          4.145805214658036,
          5.835871122794314
         ],
         "xaxis": "x",
         "y": [
          -46.534937926218845,
          34870.927540014585,
          35930.30257638023,
          35959.22509011949,
          36645.58299588016,
          37603.005521948624,
          41915.91358729632,
          42408.3618906386,
          43956.85474474836,
          44829.10995277332,
          46707.73152195415,
          47131.33291451898,
          48051.98127545224,
          48878.89382565196,
          48962.85620921446,
          49526.88002524979,
          49959.27359948176,
          55376.926299166225,
          59283.067410441334,
          59378.32585497627,
          59403.302210212976,
          59740.20586822914,
          60798.68240026233,
          60889.07022779103,
          61074.79528848623,
          64285.545408395046,
          69223.06278724445,
          70102.82129583924,
          71435.93622962883,
          71882.09963738722,
          73075.4847097267,
          73137.50702072168,
          75137.72738698601,
          78509.39549914678,
          78850.4419302574,
          81159.24157102346,
          83053.18214477386,
          83295.77894833688,
          83348.21657017258,
          83580.4902242111,
          84602.271614036,
          84978.73432776314,
          87501.1966958832,
          87662.13139412753,
          88351.71921371465,
          91831.23581265775,
          93364.90440377353,
          93683.36683041278,
          94249.2743271266,
          94327.40745583308,
          94478.39738714545,
          96430.68579286899,
          96713.82290807068,
          97561.57760566333,
          98065.27973501399,
          98100.43988033854,
          99413.12601151668,
          99495.2143163354,
          99978.4042053315,
          100199.16496438827,
          100690.02976128041,
          100726.87651263142,
          100735.2656454695,
          101106.91275690007,
          101315.22480695575,
          101366.77826376457,
          101562.88110618998,
          101991.94720916625,
          102112.69459833555,
          102275.25727833061,
          102539.52988507545,
          102998.6338262404,
          103313.8008348344,
          103351.63797890623,
          103407.32506852434,
          104534.7989491631,
          104714.28920063117,
          104967.92753726385,
          105111.290926325,
          105231.9407158621,
          106427.2787924232,
          106695.95340538611,
          107163.51140868933,
          107581.53248386287,
          107754.58181305575,
          107969.89789650221,
          108015.72415922485,
          108395.83038638196,
          108735.08522184893,
          108800.08058637443,
          108987.20294983874,
          108989.60176271346,
          109915.20872319091,
          110277.5513876363,
          110855.71400574448,
          110889.1829956514,
          111159.51531712149,
          112138.0722146702,
          112404.55970582884,
          112512.10000522947,
          112528.03527314548,
          112544.57189316793,
          112637.65940799215,
          112648.2769012773,
          112939.31828849837,
          113414.22877774689,
          114448.49002876756,
          114736.25501006008,
          114840.47084502739,
          114869.86488678177,
          114957.41903405212,
          115089.86170843699,
          116081.2899707641,
          116666.50412522073,
          117094.6269509948,
          117124.9597613771,
          117522.38621762133,
          118292.48670880731,
          118640.75522900652,
          119243.74436883522,
          119806.14522694127,
          119913.51420508658,
          120280.53100101667,
          120751.93941141097,
          121129.4294481579,
          121637.78832070489,
          122083.88501675829,
          122211.60136408929,
          122214.10075496013,
          122274.85958985164,
          122966.32446233777,
          123269.85034853683,
          123279.01761119853,
          124044.6010773569,
          124080.82131289039,
          124134.44586862618,
          124350.35411028106,
          124536.52967915667,
          124764.24691973248,
          125726.79526293669,
          125747.61225253501,
          125857.93533260902,
          126070.09590566505,
          126071.81456140512,
          126522.2017246813,
          126623.2727996218,
          126770.02508900434,
          126842.31793076452,
          128959.6643771987,
          129191.43274040276,
          129233.95826161993,
          129454.00457421888,
          129521.61388194989,
          129593.20474541947,
          129860.1188557227,
          129890.11687886443,
          130154.877150964,
          130218.88433526328,
          130288.48193608318,
          130894.63227815958,
          131106.73558230832,
          132099.51740067994,
          132559.47190073447,
          132693.3009953839,
          132924.77071123885,
          132954.9191932017,
          133155.44770225155,
          133262.03144909348,
          134633.75205152069,
          134691.98725132312,
          134956.2893439136,
          135740.0897144762,
          136429.55732808012,
          136477.9169695975,
          136826.5460124106,
          136851.90164872038,
          137829.72298358014,
          138146.6571150386,
          138919.82780581168,
          139147.47637719024,
          140102.47108806315,
          140234.25349727634,
          140429.7307803726,
          140890.70380248144,
          141100.0275751893,
          141251.5881215794,
          141430.3958563576,
          141480.6299051157,
          142161.1222334894,
          142243.56780042307,
          142583.38730381688,
          143025.84352424,
          143626.352502836,
          143775.28800228116,
          143915.0761765485,
          143923.68694939886,
          144037.1654447061,
          144382.7961034465,
          144671.13418715438,
          144686.96594380963,
          144905.88090350822,
          144934.55231775198,
          145168.00594218684,
          145391.58500936313,
          145891.38167765213,
          146775.294504082,
          146944.86851614824,
          146947.2197890211,
          147263.44068871252,
          147376.5915271849,
          148129.21240538266,
          148634.43631052558,
          149348.696970327,
          149436.31880847222,
          149903.60874937492,
          149904.83826981435,
          150037.14401280228,
          150359.12030355577,
          150817.20090825186,
          150867.77808354524,
          150872.2044366064,
          151281.9517862499,
          151401.07429586293,
          151535.16240106497,
          152330.60690293642,
          152460.9889915089,
          152922.13278292544,
          153094.09276255046,
          153457.72866126566,
          153522.68407979293,
          153629.1950080157,
          153818.9236527492,
          153852.37514959287,
          154345.17646474746,
          154474.52384185742,
          154722.98159235372,
          155061.16455405956,
          155645.30742543956,
          156316.89005114933,
          156390.40369915866,
          156393.99533541244,
          157132.68802087518,
          157496.47140806998,
          157597.9380230534,
          158138.26480040685,
          158159.59323808097,
          158268.73870723983,
          158455.985134848,
          159564.86456634803,
          160160.2760854405,
          161070.75103535844,
          162065.03113855195,
          162155.32582593424,
          162462.37936033824,
          162781.87865239376,
          163240.85089443106,
          163843.73300131696,
          164030.54106573225,
          164417.17630982256,
          164490.49243944767,
          164740.21956702508,
          164769.10962796188,
          164858.40564239625,
          164884.1701966537,
          165293.8030621174,
          166041.64876686607,
          166455.02892777362,
          166775.65513486485,
          166906.17498959915,
          167108.5197271063,
          167108.5197271063,
          167123.68872781371,
          167305.41884984134,
          167501.41676455544,
          167940.81963879702,
          168106.42217832728,
          168934.32982565576,
          169316.43703946128,
          169601.91554992145,
          169964.90031534765,
          170104.20746650567,
          172268.8844771144,
          172765.19325176495,
          172991.72964315207,
          173929.69364601755,
          173929.69364601755,
          174434.91817443934,
          174617.72278702012,
          175462.95043179323,
          177305.5871621506,
          177823.59160471428,
          178159.92064925618,
          178741.15568339915,
          179087.50058041938,
          179374.91453067094,
          179610.5182214611,
          179768.15869333045,
          179911.44637141467,
          179938.1352035786,
          180678.10643118672,
          181191.05121400193,
          181372.3444147538,
          181724.98960070204,
          182508.99781483153,
          182553.03198626172,
          183009.63812028445,
          183482.44631710034,
          183944.73561786913,
          184143.87559358016,
          184564.27648538302,
          185382.87799272974,
          185665.7953260553,
          186267.67711535847,
          186461.05885378658,
          186791.31698521698,
          186817.25732485118,
          186875.6361823565,
          187162.33261889027,
          187317.24845506143,
          187511.66286301453,
          187656.95126758257,
          187936.58581062118,
          188179.48516061174,
          188294.53182843106,
          188332.57521037068,
          188611.8662597958,
          189185.50974883343,
          190484.15244970497,
          191271.41785891197,
          191888.83893370448,
          192542.70481744985,
          192662.728334142,
          193308.64714959028,
          193377.3143224417,
          194121.572709832,
          194124.42319088485,
          194930.87899855655,
          195205.77542298625,
          195241.58686081567,
          195301.0700973629,
          195896.76585877204,
          196340.61702651024,
          196376.58395747226,
          196883.32686286533,
          196970.44461126777,
          197538.2144313436,
          198172.24160309578,
          198562.40555358215,
          198707.50799648362,
          199242.0200028475,
          199305.8685001127,
          199345.75371066135,
          199689.79294368444,
          199755.4080432677,
          199898.39378226348,
          200796.6214111702,
          200920.84808811694,
          201046.54981146244,
          201061.22683057637,
          201308.68738106004,
          201701.03168274637,
          201985.27426218314,
          202727.23112746901,
          203059.64679119762,
          203333.04516157415,
          203400.14833060125,
          203483.25399042232,
          203665.6926753645,
          203873.09771178878,
          204358.05118656743,
          204476.45668291784,
          204491.77157608443,
          204674.57407977642,
          205289.96259461265,
          205372.84588024524,
          205672.61886334626,
          205793.0828872258,
          206424.97538037846,
          207239.67999771703,
          207333.35518555657,
          207495.88599584223,
          207978.39959348948,
          208152.5696788522,
          209528.20548491552,
          209684.78444620434,
          209758.6331486999,
          210055.25251632987,
          210281.0952697334,
          210878.19565166833,
          211054.00360681818,
          211882.11565988362,
          211982.44470160114,
          212093.80400987525,
          212207.80282961982,
          212312.84823130348,
          212415.48473460728,
          212884.61468111727,
          213005.69171266546,
          213039.15571524168,
          213302.3205026955,
          213375.98246488208,
          214155.73594645277,
          214725.39059532108,
          214964.10267144433,
          215360.78328385425,
          215425.04455057194,
          215457.1019066225,
          216428.53053103882,
          216515.86989430655,
          216710.96990425355,
          216809.87422588395,
          216850.2146486663,
          217052.96610641846,
          217409.71080994263,
          217903.38683381118,
          217976.19815953117,
          218206.51973034622,
          218400.9134890821,
          219118.07078761188,
          219301.6039439193,
          219684.82687350738,
          219955.13368065527,
          220137.05831538144,
          220268.5285944175,
          220474.27600186982,
          220797.14427395328,
          221125.71752562418,
          221296.58448729853,
          221861.58391680283,
          222695.04039100974,
          222697.25551374734,
          222741.15778535022,
          222836.55494264566,
          222963.5388748213,
          222994.8995354069,
          223718.95148662053,
          223835.7451267413,
          224526.44488623526,
          225135.0039516161,
          225974.95976498578,
          226031.33162449131,
          226388.82358750096,
          226761.51582340582,
          227464.26026011354,
          227497.98943607582,
          227542.8186860016,
          228893.1877325608,
          229193.11034146667,
          229302.04314481877,
          229502.10493782564,
          229738.12313664562,
          230388.89619746586,
          230392.81576108167,
          231314.9045002765,
          231372.75979820653,
          231556.29489194724,
          231847.87910330546,
          232031.30160490278,
          232550.142583978,
          232686.34046539734,
          232793.55056344054,
          232974.40957489563,
          233138.9958035775,
          233229.88661845803,
          233816.17295769128,
          234404.65106134815,
          234428.1740375299,
          235433.23847908425,
          235791.27020828213,
          236919.92447328553,
          237195.93715323688,
          237506.91630138486,
          237730.78851169936,
          238066.34192606265,
          238615.02773530906,
          238693.54745049388,
          238731.27460418548,
          239030.1768503107,
          241162.48959726986,
          241207.44763291662,
          241531.78612506852,
          241702.9466123829,
          242602.16871972493,
          243938.13306022133,
          244752.0587304227,
          245799.53633378094,
          246009.17262980287,
          246206.23757755992,
          246456.68778883747,
          247706.6083369957,
          247750.6965632962,
          247777.96693109375,
          248590.82066073443,
          249089.2263092061,
          249797.04868119158,
          250461.07848937094,
          250501.55608736863,
          250856.33758972702,
          251273.76359950798,
          251358.07419180725,
          252729.54373524705,
          252901.1188814019,
          255280.21788591775,
          259056.0637746606,
          259374.49587363657,
          259672.30487804193,
          260001.19408714198,
          261094.08341316355,
          262235.8539377181,
          262570.53715672897,
          263033.753263784,
          263260.79252693756,
          263830.10135764343,
          263924.7562188556,
          264561.2100240485,
          264701.05541871133,
          268080.7077072442,
          268261.67025848804,
          268653.33895197284,
          268809.5140459343,
          269007.82551558974,
          269331.29632028355,
          272059.8238349771,
          273662.43970698095,
          274193.6860539207,
          274844.32554727,
          274941.87642842886,
          275208.41771258117,
          275245.68086512515,
          275891.19319844194,
          276951.5869109519,
          277057.09570985613,
          277271.4611938202,
          278248.36045078747,
          278773.50836731575,
          279402.33363255556,
          281318.61828638107,
          281399.55071463017,
          281562.8258694306,
          286012.5266519004,
          286708.1851914155,
          287231.03597308544,
          287259.8621667546,
          287559.7554858101,
          288690.83547157503,
          292121.3954272781,
          295408.3162245787,
          295879.557135199,
          296447.8266913229,
          300333.6671353472,
          300334.72267594014,
          300587.4376306134,
          301512.388315902,
          302245.9401596217,
          302568.3568576815,
          302632.7045666432,
          303703.9824494093,
          304341.3277158537,
          304495.9945860361,
          304945.31551289855,
          306825.54148409166,
          307269.56739856896,
          309668.4421453637,
          310790.55095774936,
          312350.54206163576,
          313572.5162594289,
          316786.5913905201,
          317762.8362764929,
          321506.3164313538,
          322490.677999583,
          325345.7640314915,
          326702.21898137627,
          329907.8664562144,
          330541.5642096639,
          335560.2080275938,
          359160.4659587424,
          361541.46120162285,
          362568.9599074201,
          369097.833099943,
          372677.49815186433,
          381665.99764244526,
          399047.3927211547,
          402961.1012639125,
          561836.5759717383
         ],
         "yaxis": "y"
        },
        {
         "type": "scatter",
         "x": [
          -9.736286812469853,
          -2.9892616130973844,
          -2.7807672051108807,
          -2.387644255508473,
          -2.3206219644396517,
          -2.28910237792232,
          -2.1729734049877463,
          -2.1384393281361374,
          -2.0678746934635486,
          -2.0355809365156348,
          -1.9781087782762985,
          -1.9627840439483193,
          -1.9404421710761488,
          -1.9017660058564978,
          -1.8122814002245178,
          -1.7815891086232218,
          -1.7466861324753329,
          -1.725940250640677,
          -1.6962161544678958,
          -1.6094982960686068,
          -1.60095173936287,
          -1.5633940626880745,
          -1.5629013437771386,
          -1.5599776047506289,
          -1.5220217245311962,
          -1.485278599453694,
          -1.4346588325269727,
          -1.4078108872087844,
          -1.4013666193330596,
          -1.3610814101370348,
          -1.3485819956638048,
          -1.3366888917052628,
          -1.3150564118038635,
          -1.2741411686964967,
          -1.2672286246494004,
          -1.1948701033911322,
          -1.179604096041307,
          -1.1739573433527994,
          -1.1738344179601847,
          -1.1232241306338564,
          -1.0617875882480374,
          -1.0551688283687064,
          -1.0524151200914857,
          -1.0470033401341354,
          -1.0417006828119522,
          -1.0408208325027664,
          -1.0181966418453847,
          -1.0089949779599099,
          -1.0031878686584152,
          -1.0026496359103612,
          -0.9980711502381403,
          -0.9840630395886166,
          -0.9752419782240349,
          -0.965167942069162,
          -0.9602017649852755,
          -0.9456677177393539,
          -0.9146095498913733,
          -0.9141894241868909,
          -0.9099135411019047,
          -0.9058381236189746,
          -0.8942618307207271,
          -0.8865134205483596,
          -0.885440242048882,
          -0.8835664713029627,
          -0.8611597821078965,
          -0.8585621074931674,
          -0.8537002109887828,
          -0.8421508053106738,
          -0.8287257155553657,
          -0.8239987561019867,
          -0.807022331173584,
          -0.8047297405202284,
          -0.8017931872040449,
          -0.7838738429845991,
          -0.7826211700587402,
          -0.7798500630058804,
          -0.7773491466238768,
          -0.7725993659849678,
          -0.7723263475411338,
          -0.7622518357083734,
          -0.7563061198624264,
          -0.7395794465647336,
          -0.7374449819045776,
          -0.7252375320347995,
          -0.7220422777077857,
          -0.7197565624987953,
          -0.7128610050153182,
          -0.7127004148215571,
          -0.711475065177535,
          -0.7099272021273773,
          -0.7045270815716698,
          -0.6975468764423444,
          -0.6898397385495205,
          -0.6877959161827487,
          -0.68761860918775,
          -0.6755634061657146,
          -0.6631947991044875,
          -0.6626057084698108,
          -0.6589189252254204,
          -0.6583251147212908,
          -0.6562305625254011,
          -0.6437803042580312,
          -0.6425721659524376,
          -0.6384646781200198,
          -0.6371377261985443,
          -0.62069114922673,
          -0.6181507900416525,
          -0.6172080630601434,
          -0.6116790584770381,
          -0.6059250675687033,
          -0.596795415061798,
          -0.5965684175196385,
          -0.5961718953107124,
          -0.591658538499306,
          -0.5895149530723832,
          -0.5869881089923886,
          -0.5849636115533898,
          -0.584219569813518,
          -0.5751415117276895,
          -0.5748496395284995,
          -0.5731969727897982,
          -0.5697957842597746,
          -0.5658589649100613,
          -0.563945697872805,
          -0.56354418491312,
          -0.5631342109721083,
          -0.5613279099286691,
          -0.5606211406886241,
          -0.5599148695085351,
          -0.5515523043098847,
          -0.5452990558963242,
          -0.5411666303408059,
          -0.538479705854232,
          -0.5359732500305664,
          -0.5334161433064166,
          -0.5271687021318965,
          -0.51367540040855,
          -0.512953168196233,
          -0.512144844848273,
          -0.5095794174075756,
          -0.5040765184710405,
          -0.5029873003627219,
          -0.5027404843134703,
          -0.5007057464639186,
          -0.49993935778146126,
          -0.4993750016574058,
          -0.49263335574326184,
          -0.48418963557963635,
          -0.48317408763530023,
          -0.48163880263759007,
          -0.48023967630128905,
          -0.4782580236218801,
          -0.4754421508908011,
          -0.4634390089722409,
          -0.45911198163811884,
          -0.45627744695453765,
          -0.4496643774089337,
          -0.4485735210997564,
          -0.44773152384920567,
          -0.44736098226086335,
          -0.4420466440799617,
          -0.44198332016148834,
          -0.43950434205303557,
          -0.43642089439772724,
          -0.43502221003497776,
          -0.43115258892903136,
          -0.43069115358308707,
          -0.42772332913622285,
          -0.42450071657268357,
          -0.42210306242341383,
          -0.4216474475647911,
          -0.42015346199671894,
          -0.41657308007125904,
          -0.4157557514129309,
          -0.4148240300584554,
          -0.41007911666806257,
          -0.409151257699357,
          -0.4083865769317149,
          -0.40688482092498696,
          -0.40237312408735054,
          -0.3999311557860153,
          -0.3973129755394931,
          -0.3957498966477892,
          -0.39340396596423904,
          -0.3863104747625162,
          -0.3838674316967227,
          -0.38095818050548563,
          -0.38023090200320514,
          -0.3791077683573078,
          -0.3782791251576943,
          -0.37212627411344035,
          -0.37069367152138455,
          -0.36662578805432494,
          -0.3560197541011688,
          -0.3536920708047321,
          -0.35339221783400815,
          -0.35282319344260016,
          -0.3519727476230981,
          -0.3452499039447575,
          -0.3388213435477814,
          -0.3353624287871421,
          -0.3306854820303795,
          -0.3278647708946255,
          -0.32592325944555,
          -0.31583926840551635,
          -0.30817277952840433,
          -0.30666029219159,
          -0.30264275867631435,
          -0.29912978842902394,
          -0.29769173690823336,
          -0.29470072191692265,
          -0.2889492227258046,
          -0.2870373645499169,
          -0.2822499005746156,
          -0.28165760488217667,
          -0.27868715780705766,
          -0.27760200349261677,
          -0.2726963920852235,
          -0.2725254017203511,
          -0.2656939624104996,
          -0.2652772122080359,
          -0.2569613902712967,
          -0.25424748056137075,
          -0.24772832273953665,
          -0.2437202867244319,
          -0.24235806524956802,
          -0.24093270442217007,
          -0.24045673608660542,
          -0.23497744392855646,
          -0.23307224608314342,
          -0.23182030466493556,
          -0.22839765689476388,
          -0.22657083862267163,
          -0.22654179010260744,
          -0.2224409885305129,
          -0.22182229714125848,
          -0.22069601910516834,
          -0.2173380904224078,
          -0.2126834724564433,
          -0.2116109175174613,
          -0.19900166574655206,
          -0.19867698471250247,
          -0.19541667911159463,
          -0.19515972395837247,
          -0.19138870104455571,
          -0.19093040210420475,
          -0.1905573631284202,
          -0.1870659916231021,
          -0.18662534943581138,
          -0.18658938422232027,
          -0.18590618305103726,
          -0.18514526154115954,
          -0.18499850949595906,
          -0.18380846351329544,
          -0.18287843914460356,
          -0.16984453058355828,
          -0.1681588747953367,
          -0.1680746174467695,
          -0.16690725996726807,
          -0.16029049396055356,
          -0.15418184331471627,
          -0.1511700285141424,
          -0.15098408930553123,
          -0.14840379829401715,
          -0.1385148556153284,
          -0.1357816382253482,
          -0.12793571053252709,
          -0.12734184706122073,
          -0.12704401955935848,
          -0.12516616015652932,
          -0.12286635158546948,
          -0.11965879693057853,
          -0.11851344282347533,
          -0.11578353999959531,
          -0.11527551825237378,
          -0.11405221753230695,
          -0.11372945936461035,
          -0.1062693364132082,
          -0.10537500320226698,
          -0.102936848466288,
          -0.10187968118748554,
          -0.10020518792336747,
          -0.09419444231094151,
          -0.08442861154885183,
          -0.08312817175847918,
          -0.0797517722631016,
          -0.07915655937750393,
          -0.07858490619699436,
          -0.07386805457513258,
          -0.0737720095661347,
          -0.0662974457917807,
          -0.05910275766719989,
          -0.05466322693157256,
          -0.048717702797345996,
          -0.0445158095163876,
          -0.04369196720497278,
          -0.04203896204227486,
          -0.036585632943957176,
          -0.03591060750840236,
          -0.03422306774098611,
          -0.03368413492569438,
          -0.03159197572194014,
          -0.0307288844436299,
          -0.02710954235426658,
          -0.02218279680260821,
          -0.021379765332204814,
          -0.018321024835666503,
          -0.01796819378639654,
          -0.015728046525276373,
          -0.010604293530643417,
          -0.0098328467221914,
          -0.003936187849688586,
          -0.00003876317184317137,
          0.0018937242965788117,
          0.00507117900158371,
          0.006118397577198814,
          0.007545528963228384,
          0.008678466419989567,
          0.011298179001470534,
          0.014192999778885463,
          0.026186537640500766,
          0.027872160300096697,
          0.030827795852720687,
          0.03358302523734796,
          0.03705228872025393,
          0.04091876496849942,
          0.04571924286594554,
          0.047636487327592486,
          0.04837931531696999,
          0.04845020129851561,
          0.0493024049755231,
          0.05212123244576938,
          0.05726765147874742,
          0.058421087613666954,
          0.06308111816684994,
          0.0641569288777069,
          0.065945494408755,
          0.06751453034838562,
          0.06843731946103809,
          0.07072461199687104,
          0.07759060854830555,
          0.07760027065967061,
          0.07770338919785526,
          0.08361725301366675,
          0.09193200688108578,
          0.09205066577036095,
          0.09293847579769772,
          0.09448767492405052,
          0.10109800056077975,
          0.10970773552275236,
          0.11524017831341413,
          0.11899988071532797,
          0.123020963771019,
          0.12915421533509605,
          0.13244994371955357,
          0.1339133353740356,
          0.13412124844701828,
          0.14810859800901627,
          0.15422531655847246,
          0.16032128946102592,
          0.17213649631147832,
          0.17410296697667682,
          0.17930892699046663,
          0.1799349160066367,
          0.18211612929119073,
          0.18356744768063257,
          0.1843916571729737,
          0.1912435798925303,
          0.19478622233321027,
          0.19641148568686284,
          0.1991881670810714,
          0.20239244485104838,
          0.20425359349425767,
          0.2067007132663354,
          0.2092535641678987,
          0.21498475628491379,
          0.21901299387502832,
          0.22470855180530194,
          0.23078737163660346,
          0.23555890724809822,
          0.24038433925682653,
          0.24131655978740166,
          0.24155245627558583,
          0.24651147445729954,
          0.25003384638330095,
          0.25227331100454486,
          0.25729247152279905,
          0.2599200932998627,
          0.26019915484860184,
          0.2620367483702032,
          0.2637838130431594,
          0.2689457266721546,
          0.2726128079024497,
          0.27637971434162023,
          0.27842736567832244,
          0.27844068057537524,
          0.28155905679465454,
          0.28532545864643427,
          0.28630788152243297,
          0.2894320486597966,
          0.2904455542413484,
          0.29752707375776133,
          0.2982128195760224,
          0.3017700697150852,
          0.30214039935451376,
          0.3043222043404095,
          0.30462250586178924,
          0.3058253464227514,
          0.3067169445043386,
          0.308084433923729,
          0.31414384665778033,
          0.3205011417220659,
          0.32335463409059,
          0.32358657278470804,
          0.32791101519815186,
          0.3292525262084399,
          0.33568837189321177,
          0.3405078497617173,
          0.34095883166543645,
          0.3538767184707002,
          0.3585430074901035,
          0.35910405929080824,
          0.36007914732696594,
          0.3614600927214106,
          0.37340739142824403,
          0.37623780268240414,
          0.3777630849823637,
          0.37983949019031454,
          0.3860414027541796,
          0.3869054954109109,
          0.3914759846323874,
          0.3944280427729801,
          0.39532577555462994,
          0.40273196836786435,
          0.40810494425131244,
          0.4154364627991471,
          0.4281420295591335,
          0.4304060768546186,
          0.43854042168199564,
          0.44090784812818534,
          0.44885523979903624,
          0.452635883989486,
          0.4558415039579529,
          0.456228677592708,
          0.45781333790321466,
          0.4703503525474558,
          0.4896769857136691,
          0.49957907983240474,
          0.5009352741323689,
          0.5019393999440952,
          0.5126555876286056,
          0.5142075331846131,
          0.5198322213288447,
          0.5219568794889582,
          0.5224839802193589,
          0.5240045342984794,
          0.5245209565380884,
          0.5245548053368617,
          0.5301978584072486,
          0.5363128386046057,
          0.5391993906965683,
          0.5411012318970558,
          0.5438226914238887,
          0.5442913090273264,
          0.5472507370070301,
          0.5839457934400416,
          0.5915018942379242,
          0.5943731874853864,
          0.6042193429699855,
          0.6117045708296365,
          0.6209963361997174,
          0.6285608502004472,
          0.6395457443974607,
          0.6461846485638794,
          0.6498548639688645,
          0.6506323698943561,
          0.6567704059124045,
          0.6631128414727232,
          0.6697043067831271,
          0.6727436391038356,
          0.6742596626764461,
          0.6830402844851374,
          0.6892591780593204,
          0.6943369521287539,
          0.6964092634602702,
          0.7118401334348402,
          0.7134189057760608,
          0.7167871744612793,
          0.7175996452179584,
          0.7184211810488151,
          0.7185290803627947,
          0.721271196298992,
          0.7299316220750717,
          0.7505617459596301,
          0.7693899182145809,
          0.7774406218325776,
          0.781736833608539,
          0.7923908964429698,
          0.7963240436373854,
          0.7997182510814108,
          0.81511891254735,
          0.8201628787293354,
          0.8260991590961726,
          0.8290394422523725,
          0.8414367910755507,
          0.8578002736951412,
          0.874383018907828,
          0.8774049291642667,
          0.8845266231353687,
          0.8851814300093379,
          0.8871284767990145,
          0.8875800675541948,
          0.8950739783424739,
          0.9013843531637769,
          0.9230508408663238,
          0.9575456083687135,
          0.9576381213697381,
          0.9615053318013802,
          0.975301335434616,
          1.002867835489636,
          1.0169487949022538,
          1.0171805453287417,
          1.0330951247518578,
          1.0371650120091414,
          1.0391779813814173,
          1.0414326922034083,
          1.0421382550960836,
          1.0847825510378424,
          1.1058692894655269,
          1.116630488022214,
          1.1167911403895778,
          1.1273036380397667,
          1.148702683771378,
          1.1530252201565228,
          1.1534355304934398,
          1.1578119435538166,
          1.1655995600411704,
          1.1810214852675158,
          1.2015831148596532,
          1.2037027981830075,
          1.2169857602203964,
          1.2250659214240964,
          1.23454680196158,
          1.2417191502334373,
          1.2485619592414483,
          1.2524779640749413,
          1.3025532616062696,
          1.3099343095750664,
          1.3154504653897028,
          1.3513756541695094,
          1.371818965184297,
          1.3819797083731906,
          1.3845404542045654,
          1.4324867150763017,
          1.436830200402707,
          1.4626896686874464,
          1.4666290147064285,
          1.4709582773368655,
          1.5164954971865006,
          1.5528317471129822,
          1.6813147878484958,
          1.7022345871947526,
          1.7107970885107449,
          1.73884653122916,
          1.7570622996462242,
          1.8646794988189208,
          1.8794967475867346,
          1.9271372826554896,
          2.0801188070476324,
          2.119616755379241,
          2.1841743340046778,
          2.1897911609221516,
          2.2015914769040617,
          2.491937128075817,
          2.599305177925286,
          2.772949904828859,
          2.9220467966154198,
          3.0057062478943144,
          3.015653090808775,
          3.33640248679797,
          3.5199825176755852,
          4.113942672160603,
          4.145805214658036,
          5.835871122794314
         ],
         "xaxis": "x",
         "y": [
          2.5152383390624884,
          0.29498718802374896,
          -1.165843823166681,
          -0.16673455333846626,
          -3.17926889878284,
          -2.5323469157857175,
          1.1280264474178694,
          0.10217723019842921,
          -0.3022328553821706,
          0.04241630399632613,
          -0.05456072606757176,
          -0.05543367607115125,
          1.5797689064412876,
          -0.9666744071474268,
          -1.5553109968395769,
          -0.6410258642503862,
          0.5807590682754515,
          0.5088424090782878,
          0.10935836125953563,
          -0.08854213881883029,
          3.566083254002018,
          -0.9165643127081468,
          -0.47734891799639695,
          -0.9907825634963342,
          -3.2040915232489766,
          1.860640108484029,
          1.0740937291485617,
          0.4086260504015175,
          -0.3086600891708726,
          0.18666318178591895,
          0.49341997747622823,
          -2.8857738378910476,
          -0.30300485222558665,
          0.16375603312194045,
          0.8864231668108308,
          -0.2962219586118142,
          5.404221973784195,
          -3.5197284111107705,
          -1.298724712580202,
          0.21453913282586362,
          -1.9015469795196462,
          0.11455797187337247,
          0.978699501389495,
          0.2498103415151871,
          -0.6747547401478668,
          -2.405817426440827,
          -0.6027609065584751,
          -2.165135504259755,
          0.045146633760958184,
          -3.7078312403735323,
          0.38936858892348647,
          -0.04391136413243904,
          -0.5279224096710922,
          3.433302633824372,
          -0.41182376127159104,
          0.581667846062843,
          0.07716040033789137,
          2.456381782914172,
          0.32783026092324485,
          -0.2062651645877961,
          -0.3444994121236656,
          1.053878170919635,
          0.8687062303418944,
          2.0287327329114757,
          -0.44965283810261103,
          -0.8722160681540412,
          -2.9354884503677643,
          1.999688281382633,
          -2.0526254869541183,
          1.8086903615032668,
          0.4049986211679259,
          1.1063717069510468,
          -0.21993572892882104,
          -1.0341692456573803,
          0.4830377266513739,
          -0.49917062268105256,
          -1.0663386881374883,
          0.6934938375089811,
          0.8496608597652134,
          0.3308449033214297,
          0.06627920032367064,
          1.116444916475141,
          -0.4821936898738668,
          -0.6217789423201417,
          -0.8254040979285857,
          0.8420113353537682,
          -0.8088752384624657,
          1.2662379286134262,
          -1.0732722876921381,
          0.30977160606071347,
          0.01830051004490559,
          0.47045650296389757,
          -0.01592700117302616,
          4.491555460462748,
          0.8764623509995718,
          -4.504217729516598,
          -0.7252244143553406,
          -0.27237957346325786,
          1.4327342795302103,
          -0.6976228453606004,
          2.2426442780248843,
          -0.36995285821648766,
          1.9497279292850602,
          0.09462902832120702,
          0.5732007290899148,
          -0.42968944695121575,
          -0.9656644453238041,
          0.7415546866357008,
          2.011305873171328,
          -0.3925655813194607,
          1.0466738622540759,
          -0.35747793639834574,
          -0.3165310886434318,
          -2.531548821917872,
          2.1098434575118237,
          -0.5115886111627791,
          -2.13009575000553,
          2.7233519808515094,
          1.6868868374523824,
          -1.1137875637185928,
          -0.29772838901082255,
          -1.1140747611902015,
          0.2986730316320519,
          0.5832472694724075,
          -1.0673005276599619,
          -1.7091362900268645,
          -3.463790970198199,
          -0.6477985640677197,
          1.162350102067126,
          -0.6127271420310695,
          -0.5938513557039876,
          2.771106680024375,
          -0.9134652502283137,
          0.8130289871859183,
          0.3181424516534412,
          2.2220383257230774,
          -0.006375739424245762,
          0.44767300446015595,
          -0.12728988140910802,
          1.6472284280361484,
          -0.8538947849444528,
          0.14890918396289032,
          -0.18754330556468732,
          1.4369486975440093,
          -0.07077116450467093,
          1.875395061483842,
          -1.2631817844009925,
          0.5191397979023845,
          -0.4012641911685442,
          1.3629384385950156,
          -1.2346766124269388,
          -0.651754003738317,
          1.5511584705137331,
          -1.819370580220918,
          -0.6734308514645865,
          0.28200766650889836,
          -0.7436581975388538,
          1.7571038633059775,
          -0.451410544139054,
          0.6118912729577451,
          -0.4417068504504665,
          -1.4738553794167775,
          0.4560623748689115,
          0.022989468921233186,
          0.873381795806668,
          -0.6875957290725243,
          -0.6829740747215924,
          -1.0053801245076148,
          3.0203615905026497,
          2.320306441864267,
          4.733058906765822,
          -1.3828024219216903,
          1.6832347128010705,
          -1.6240670050554387,
          2.022389685436134,
          0.19275305446036714,
          -4.841931798940267,
          0.6266999225516754,
          -1.1695461679548524,
          0.46881485176742227,
          0.10391980169759665,
          -0.8295595136501679,
          -0.7701094005517307,
          1.2462387013785488,
          -0.3022911109427061,
          -1.4359524446884095,
          0.7389878931793026,
          1.4951348516459213,
          0.8463065886159273,
          0.7618618319199276,
          -0.6928156369516801,
          6.7152724315304555,
          0.6388847581384463,
          0.25968444718497086,
          0.4167559620863429,
          0.7103368950911398,
          2.8165404714482456,
          0.008214169933572284,
          1.155578244041012,
          -0.3806106340128871,
          1.2157412950766933,
          1.3380949228331267,
          -0.6719216723301071,
          -0.3947720738684713,
          -0.45622200061615537,
          -1.6343450326828124,
          -1.3071947502498433,
          -1.4672541192868187,
          -2.7474888448068118,
          1.808950582222225,
          -1.3346927421730004,
          -0.9663067221603224,
          -0.375496778160582,
          0.014057164599067104,
          -0.17068381589051201,
          1.1638555780559514,
          0.7141715937141154,
          -0.1842161567127621,
          -1.4342141367799308,
          1.389443601773124,
          -1.1944950860801018,
          -0.29989370129112475,
          -0.7778803131876428,
          1.8259784651066515,
          -1.154414450218277,
          0.8454528039299066,
          -0.6614944454651238,
          -1.1546745702299757,
          -1.901347868018401,
          -0.49021323210164697,
          0.1256949931940232,
          -0.6805541539633985,
          -0.7118982293938102,
          0.2399026325612385,
          1.5510086202498707,
          -3.7588858846305073,
          0.04993409890138792,
          -1.149922469098143,
          2.375609291753261,
          5.701580353279033,
          -1.9354209493955348,
          -0.1194940708517894,
          -0.6372259839304362,
          -15.770595826858042,
          0.2788224261124775,
          0.42444062402083976,
          -1.0320198818559296,
          -0.24038079065912443,
          1.8676416456809095,
          -0.7826333998653249,
          0.3815524738720921,
          0.48939952293545597,
          -0.6837120683660326,
          -0.3223379610531672,
          1.018127270901841,
          -1.2509950567504846,
          0.003067407633328485,
          -0.643557700660031,
          0.3912606758901248,
          0.084424679216227,
          -0.0346304134647551,
          -1.5633550872719035,
          0.07847843404019157,
          1.6799741549525333,
          0.45101130643414095,
          -1.3423493538222904,
          -0.3218120507693736,
          0.17770186821050177,
          1.7912596390606286,
          0.6610382638365616,
          -0.37752464180980944,
          0.32264005128782497,
          -0.496720733216869,
          1.5574224820275195,
          -3.080433394506047,
          0.6253002867039709,
          -1.3948852501525282,
          0.8329006050431957,
          0.609420658529695,
          0.880870503623205,
          -0.8110307458850002,
          -0.5724159469787984,
          0.46216309914604276,
          -0.8681561731946734,
          -0.24456028202395824,
          -0.48452301004996723,
          1.328479483170811,
          -0.06809366775229193,
          0.6152545825990999,
          0.4214641356242458,
          0.21724627075924963,
          -1.685895762289189,
          -3.3494921256257486,
          1.9462945188260814,
          -0.9092250222622975,
          0.09276072108598755,
          -0.7159136166317833,
          4.03637793645233,
          1.1682971894189986,
          9.45279925991358,
          0.3348086872165305,
          -0.17213243463767403,
          4.884680059778969,
          0.4356316156663465,
          0.3639773373172681,
          6.663662275685464,
          -0.9463043650141439,
          -0.7801465833156198,
          -0.20578275098921797,
          0.9908238877721255,
          -0.8308688157551308,
          -1.2514372852523679,
          0.8092057992272604,
          -0.5356361396658467,
          -0.8097893685108422,
          -0.19382035059847708,
          0.4968124972275461,
          -0.2703522388166355,
          0.5241375025897855,
          1.8880092494635279,
          -0.8933907388084493,
          -0.059260500572966016,
          0.054396951102864605,
          -0.5488144063054348,
          -0.03593114391774048,
          -1.448503127251768,
          -0.9069362144465288,
          -0.01717657157418098,
          -0.27510995688881584,
          1.0638204093803343,
          -1.1298691247026738,
          -1.062945984455287,
          -1.2591308620917983,
          -1.1524296592651482,
          0.07836361468592663,
          -0.5701167243474502,
          -0.10738695788995291,
          1.1636808054240906,
          1.2834951152711327,
          -1.5317691076924407,
          -0.162309877362056,
          -1.269699403382728,
          -0.4162196848891052,
          0.20920079375394812,
          0.4953683087750546,
          1.984331386303507,
          -2.5268130219791067,
          0.6729136756893563,
          0.5854840905618247,
          1.2953637825267958,
          -0.46803278229819084,
          0.11085307217031411,
          0.10681687577145028,
          2.3692284368047463,
          -0.9311271844013455,
          -0.12917994211367603,
          -0.9080802149818331,
          1.0359203299929127,
          -2.7956351983488226,
          -0.7506670090634698,
          -2.5931819086780195,
          -0.816490638755116,
          -0.6140693577276164,
          0.962750943013304,
          1.320309391887289,
          -0.7390668885816529,
          0.1256793427457458,
          1.4211987363211736,
          -1.267670354855556,
          1.4498186238205328,
          -0.20274104091718576,
          0.7931666328393021,
          -0.34276211424300723,
          -0.7842783592303684,
          3.044362202448871,
          -3.2971834993120646,
          -1.0427793649979378,
          0.00991042860143031,
          -0.8832618821678564,
          -1.6166508875533148,
          -0.46493600185704953,
          -0.7046381831502179,
          0.5522766565284948,
          2.757237352823732,
          -0.5310672217484615,
          3.546969394933942,
          -0.12821583104849293,
          -2.323824783821811,
          3.3693248370394486,
          -0.3011262230747759,
          -0.7160161871438945,
          -0.18672042454228113,
          -0.724624220283479,
          0.13544115193296635,
          0.9581000934462888,
          -0.4571813864842339,
          -1.9106934494316277,
          -1.649249659556228,
          0.34822697457542184,
          -0.9475095453651174,
          -0.2596345653973253,
          0.7331683752360589,
          -2.465333028864415,
          -0.29965599596914744,
          -0.13675537035889512,
          -0.36694677122959846,
          -0.4414298844996241,
          -1.141175487796062,
          -0.3161148790611602,
          0.07985881241349856,
          -0.6170666094175158,
          -1.0408224525437915,
          0.4929335565222148,
          -0.35930225361885904,
          -1.3906776012584845,
          0.39087857661102765,
          -0.07210560384162097,
          1.4376801730455295,
          -3.1430800873942135,
          -0.5714942553867814,
          -0.9315999517484028,
          -0.9229410750204654,
          -0.7979552876673038,
          1.6880296907213062,
          -0.09573318056205637,
          -1.5939608974568231,
          -2.1843996589903605,
          -0.5766719650365995,
          -1.3034812687874653,
          3.121529159217475,
          0.5333150733763236,
          0.1491013846878757,
          -0.16502218000800725,
          4.868568410401888,
          1.4337949194592632,
          0.4210121186509634,
          1.8683062561850716,
          -0.8147263502861704,
          1.416303921059744,
          -0.5592272289473695,
          -1.4814618579485346,
          0.5515461672294661,
          0.5437396965466857,
          -1.719857193071572,
          -0.05117189849466264,
          0.8114025291078995,
          -0.698370266886001,
          -0.244861461741016,
          2.130734028227617,
          2.1889247577287527,
          -0.5729016413815878,
          2.238496445457935,
          -1.2250458894096503,
          0.012222060614167482,
          0.5311421271240175,
          -0.025475899557362257,
          -0.18473895238534244,
          0.8487695443891669,
          -2.0638222543051463,
          -1.0012653137245562,
          0.4637544033472082,
          -1.1173852939537772,
          -0.92845023581976,
          1.673381852544875,
          0.42727047603436985,
          -0.19196513443140378,
          -0.3100066697023874,
          -0.13464895024965348,
          2.3273419116364695,
          0.4990275226624058,
          0.29145411286014367,
          -0.9121508238791137,
          1.1610340820924148,
          -1.7046759016774273,
          -2.607025409194548,
          -1.0942608449465305,
          -1.6959100347658287,
          1.005874458794937,
          -0.7746704813412615,
          0.48192697258793543,
          -0.058167111119468255,
          0.6971610851484258,
          -0.7265882606122889,
          0.37382365886779634,
          -0.9128148894975341,
          -1.0742264820871692,
          1.9712433416501587,
          -2.2698988828520137,
          0.6523352508011618,
          0.6403388834259005,
          -0.3902568172136684,
          1.089693456216586,
          -0.224362926647474,
          -0.3669938233017204,
          1.460040012399112,
          -0.3520388468263946,
          0.12586202204385982,
          -0.7069037373804011,
          0.07405489532470802,
          0.523761814047326,
          -0.8765682817762583,
          3.5378713980434386,
          -0.7283552025983425,
          0.4415714628648876,
          -0.20722708990518837,
          -3.867446928917193,
          2.121799095891895,
          -0.6590619383431757,
          0.8496060323207306,
          0.7270445815720946,
          -2.2046459004504233,
          -0.2722430955004277,
          0.15053943734407188,
          -0.9548816954412751,
          -0.6004404124219542,
          -0.9583538219346162,
          -1.624938821107475,
          -0.02910443451408948,
          -0.049773884654880925,
          -0.6627330564012366,
          1.1823251322306392,
          0.3992931705103206,
          0.31550989039509464,
          1.2898659295174042,
          1.0526187861110228,
          0.8303868021345,
          0.19926630503309178,
          -0.6257361228675442,
          -0.5432117419899454,
          0.8588013371275485,
          -0.19901586805078292,
          1.1246697689359964,
          -0.8320386695744534,
          0.6341030876012711,
          -0.9814623917763986,
          0.45098973929423014,
          -0.9507887760901272,
          0.1530487916541504,
          -0.3894858555122363,
          -0.02967594149415053,
          1.3428575205427133,
          -0.15257382074237807,
          -1.197952438981715,
          -1.5796727611042085,
          -0.8143265637729645,
          -0.43036448858982057,
          0.3547518138855056,
          0.2904401513821985,
          0.4887996721731865,
          1.6476038116273715,
          0.297337997544547,
          0.6048360286011703,
          -1.4807813487555042,
          -0.8640142351633228,
          -0.24973992463349834,
          1.9129893013355848,
          0.9458609088366298,
          1.2592790313654014,
          -1.174721761641227,
          -0.9997383079484515,
          -2.2803371480783317,
          -0.30926432844895435,
          1.6244204393205353,
          -1.4311790494129237,
          -2.829238863050553,
          -1.364094981138763,
          1.0847704211276843,
          -0.6642359793390695,
          4.210290039855575,
          0.21690949832184256,
          1.0921490735877804,
          2.8460459212068985,
          2.3826217239553915,
          -0.36030439458177643,
          0.3389437317720403,
          -1.6873209219914005,
          -0.615888581742906,
          -0.07891172633143033,
          -0.00006278762405835735,
          -0.11964964217453974,
          0.8816295587911054,
          0.7383607589312936,
          1.1530209877711861,
          0.060016378021935476
         ],
         "yaxis": "y2"
        }
       ],
       "layout": {
        "template": {
         "data": {
          "bar": [
           {
            "error_x": {
             "color": "#2a3f5f"
            },
            "error_y": {
             "color": "#2a3f5f"
            },
            "marker": {
             "line": {
              "color": "#E5ECF6",
              "width": 0.5
             },
             "pattern": {
              "fillmode": "overlay",
              "size": 10,
              "solidity": 0.2
             }
            },
            "type": "bar"
           }
          ],
          "barpolar": [
           {
            "marker": {
             "line": {
              "color": "#E5ECF6",
              "width": 0.5
             },
             "pattern": {
              "fillmode": "overlay",
              "size": 10,
              "solidity": 0.2
             }
            },
            "type": "barpolar"
           }
          ],
          "carpet": [
           {
            "aaxis": {
             "endlinecolor": "#2a3f5f",
             "gridcolor": "white",
             "linecolor": "white",
             "minorgridcolor": "white",
             "startlinecolor": "#2a3f5f"
            },
            "baxis": {
             "endlinecolor": "#2a3f5f",
             "gridcolor": "white",
             "linecolor": "white",
             "minorgridcolor": "white",
             "startlinecolor": "#2a3f5f"
            },
            "type": "carpet"
           }
          ],
          "choropleth": [
           {
            "colorbar": {
             "outlinewidth": 0,
             "ticks": ""
            },
            "type": "choropleth"
           }
          ],
          "contour": [
           {
            "colorbar": {
             "outlinewidth": 0,
             "ticks": ""
            },
            "colorscale": [
             [
              0,
              "#0d0887"
             ],
             [
              0.1111111111111111,
              "#46039f"
             ],
             [
              0.2222222222222222,
              "#7201a8"
             ],
             [
              0.3333333333333333,
              "#9c179e"
             ],
             [
              0.4444444444444444,
              "#bd3786"
             ],
             [
              0.5555555555555556,
              "#d8576b"
             ],
             [
              0.6666666666666666,
              "#ed7953"
             ],
             [
              0.7777777777777778,
              "#fb9f3a"
             ],
             [
              0.8888888888888888,
              "#fdca26"
             ],
             [
              1,
              "#f0f921"
             ]
            ],
            "type": "contour"
           }
          ],
          "contourcarpet": [
           {
            "colorbar": {
             "outlinewidth": 0,
             "ticks": ""
            },
            "type": "contourcarpet"
           }
          ],
          "heatmap": [
           {
            "colorbar": {
             "outlinewidth": 0,
             "ticks": ""
            },
            "colorscale": [
             [
              0,
              "#0d0887"
             ],
             [
              0.1111111111111111,
              "#46039f"
             ],
             [
              0.2222222222222222,
              "#7201a8"
             ],
             [
              0.3333333333333333,
              "#9c179e"
             ],
             [
              0.4444444444444444,
              "#bd3786"
             ],
             [
              0.5555555555555556,
              "#d8576b"
             ],
             [
              0.6666666666666666,
              "#ed7953"
             ],
             [
              0.7777777777777778,
              "#fb9f3a"
             ],
             [
              0.8888888888888888,
              "#fdca26"
             ],
             [
              1,
              "#f0f921"
             ]
            ],
            "type": "heatmap"
           }
          ],
          "heatmapgl": [
           {
            "colorbar": {
             "outlinewidth": 0,
             "ticks": ""
            },
            "colorscale": [
             [
              0,
              "#0d0887"
             ],
             [
              0.1111111111111111,
              "#46039f"
             ],
             [
              0.2222222222222222,
              "#7201a8"
             ],
             [
              0.3333333333333333,
              "#9c179e"
             ],
             [
              0.4444444444444444,
              "#bd3786"
             ],
             [
              0.5555555555555556,
              "#d8576b"
             ],
             [
              0.6666666666666666,
              "#ed7953"
             ],
             [
              0.7777777777777778,
              "#fb9f3a"
             ],
             [
              0.8888888888888888,
              "#fdca26"
             ],
             [
              1,
              "#f0f921"
             ]
            ],
            "type": "heatmapgl"
           }
          ],
          "histogram": [
           {
            "marker": {
             "pattern": {
              "fillmode": "overlay",
              "size": 10,
              "solidity": 0.2
             }
            },
            "type": "histogram"
           }
          ],
          "histogram2d": [
           {
            "colorbar": {
             "outlinewidth": 0,
             "ticks": ""
            },
            "colorscale": [
             [
              0,
              "#0d0887"
             ],
             [
              0.1111111111111111,
              "#46039f"
             ],
             [
              0.2222222222222222,
              "#7201a8"
             ],
             [
              0.3333333333333333,
              "#9c179e"
             ],
             [
              0.4444444444444444,
              "#bd3786"
             ],
             [
              0.5555555555555556,
              "#d8576b"
             ],
             [
              0.6666666666666666,
              "#ed7953"
             ],
             [
              0.7777777777777778,
              "#fb9f3a"
             ],
             [
              0.8888888888888888,
              "#fdca26"
             ],
             [
              1,
              "#f0f921"
             ]
            ],
            "type": "histogram2d"
           }
          ],
          "histogram2dcontour": [
           {
            "colorbar": {
             "outlinewidth": 0,
             "ticks": ""
            },
            "colorscale": [
             [
              0,
              "#0d0887"
             ],
             [
              0.1111111111111111,
              "#46039f"
             ],
             [
              0.2222222222222222,
              "#7201a8"
             ],
             [
              0.3333333333333333,
              "#9c179e"
             ],
             [
              0.4444444444444444,
              "#bd3786"
             ],
             [
              0.5555555555555556,
              "#d8576b"
             ],
             [
              0.6666666666666666,
              "#ed7953"
             ],
             [
              0.7777777777777778,
              "#fb9f3a"
             ],
             [
              0.8888888888888888,
              "#fdca26"
             ],
             [
              1,
              "#f0f921"
             ]
            ],
            "type": "histogram2dcontour"
           }
          ],
          "mesh3d": [
           {
            "colorbar": {
             "outlinewidth": 0,
             "ticks": ""
            },
            "type": "mesh3d"
           }
          ],
          "parcoords": [
           {
            "line": {
             "colorbar": {
              "outlinewidth": 0,
              "ticks": ""
             }
            },
            "type": "parcoords"
           }
          ],
          "pie": [
           {
            "automargin": true,
            "type": "pie"
           }
          ],
          "scatter": [
           {
            "fillpattern": {
             "fillmode": "overlay",
             "size": 10,
             "solidity": 0.2
            },
            "type": "scatter"
           }
          ],
          "scatter3d": [
           {
            "line": {
             "colorbar": {
              "outlinewidth": 0,
              "ticks": ""
             }
            },
            "marker": {
             "colorbar": {
              "outlinewidth": 0,
              "ticks": ""
             }
            },
            "type": "scatter3d"
           }
          ],
          "scattercarpet": [
           {
            "marker": {
             "colorbar": {
              "outlinewidth": 0,
              "ticks": ""
             }
            },
            "type": "scattercarpet"
           }
          ],
          "scattergeo": [
           {
            "marker": {
             "colorbar": {
              "outlinewidth": 0,
              "ticks": ""
             }
            },
            "type": "scattergeo"
           }
          ],
          "scattergl": [
           {
            "marker": {
             "colorbar": {
              "outlinewidth": 0,
              "ticks": ""
             }
            },
            "type": "scattergl"
           }
          ],
          "scattermapbox": [
           {
            "marker": {
             "colorbar": {
              "outlinewidth": 0,
              "ticks": ""
             }
            },
            "type": "scattermapbox"
           }
          ],
          "scatterpolar": [
           {
            "marker": {
             "colorbar": {
              "outlinewidth": 0,
              "ticks": ""
             }
            },
            "type": "scatterpolar"
           }
          ],
          "scatterpolargl": [
           {
            "marker": {
             "colorbar": {
              "outlinewidth": 0,
              "ticks": ""
             }
            },
            "type": "scatterpolargl"
           }
          ],
          "scatterternary": [
           {
            "marker": {
             "colorbar": {
              "outlinewidth": 0,
              "ticks": ""
             }
            },
            "type": "scatterternary"
           }
          ],
          "surface": [
           {
            "colorbar": {
             "outlinewidth": 0,
             "ticks": ""
            },
            "colorscale": [
             [
              0,
              "#0d0887"
             ],
             [
              0.1111111111111111,
              "#46039f"
             ],
             [
              0.2222222222222222,
              "#7201a8"
             ],
             [
              0.3333333333333333,
              "#9c179e"
             ],
             [
              0.4444444444444444,
              "#bd3786"
             ],
             [
              0.5555555555555556,
              "#d8576b"
             ],
             [
              0.6666666666666666,
              "#ed7953"
             ],
             [
              0.7777777777777778,
              "#fb9f3a"
             ],
             [
              0.8888888888888888,
              "#fdca26"
             ],
             [
              1,
              "#f0f921"
             ]
            ],
            "type": "surface"
           }
          ],
          "table": [
           {
            "cells": {
             "fill": {
              "color": "#EBF0F8"
             },
             "line": {
              "color": "white"
             }
            },
            "header": {
             "fill": {
              "color": "#C8D4E3"
             },
             "line": {
              "color": "white"
             }
            },
            "type": "table"
           }
          ]
         },
         "layout": {
          "annotationdefaults": {
           "arrowcolor": "#2a3f5f",
           "arrowhead": 0,
           "arrowwidth": 1
          },
          "autotypenumbers": "strict",
          "coloraxis": {
           "colorbar": {
            "outlinewidth": 0,
            "ticks": ""
           }
          },
          "colorscale": {
           "diverging": [
            [
             0,
             "#8e0152"
            ],
            [
             0.1,
             "#c51b7d"
            ],
            [
             0.2,
             "#de77ae"
            ],
            [
             0.3,
             "#f1b6da"
            ],
            [
             0.4,
             "#fde0ef"
            ],
            [
             0.5,
             "#f7f7f7"
            ],
            [
             0.6,
             "#e6f5d0"
            ],
            [
             0.7,
             "#b8e186"
            ],
            [
             0.8,
             "#7fbc41"
            ],
            [
             0.9,
             "#4d9221"
            ],
            [
             1,
             "#276419"
            ]
           ],
           "sequential": [
            [
             0,
             "#0d0887"
            ],
            [
             0.1111111111111111,
             "#46039f"
            ],
            [
             0.2222222222222222,
             "#7201a8"
            ],
            [
             0.3333333333333333,
             "#9c179e"
            ],
            [
             0.4444444444444444,
             "#bd3786"
            ],
            [
             0.5555555555555556,
             "#d8576b"
            ],
            [
             0.6666666666666666,
             "#ed7953"
            ],
            [
             0.7777777777777778,
             "#fb9f3a"
            ],
            [
             0.8888888888888888,
             "#fdca26"
            ],
            [
             1,
             "#f0f921"
            ]
           ],
           "sequentialminus": [
            [
             0,
             "#0d0887"
            ],
            [
             0.1111111111111111,
             "#46039f"
            ],
            [
             0.2222222222222222,
             "#7201a8"
            ],
            [
             0.3333333333333333,
             "#9c179e"
            ],
            [
             0.4444444444444444,
             "#bd3786"
            ],
            [
             0.5555555555555556,
             "#d8576b"
            ],
            [
             0.6666666666666666,
             "#ed7953"
            ],
            [
             0.7777777777777778,
             "#fb9f3a"
            ],
            [
             0.8888888888888888,
             "#fdca26"
            ],
            [
             1,
             "#f0f921"
            ]
           ]
          },
          "colorway": [
           "#636efa",
           "#EF553B",
           "#00cc96",
           "#ab63fa",
           "#FFA15A",
           "#19d3f3",
           "#FF6692",
           "#B6E880",
           "#FF97FF",
           "#FECB52"
          ],
          "font": {
           "color": "#2a3f5f"
          },
          "geo": {
           "bgcolor": "white",
           "lakecolor": "white",
           "landcolor": "#E5ECF6",
           "showlakes": true,
           "showland": true,
           "subunitcolor": "white"
          },
          "hoverlabel": {
           "align": "left"
          },
          "hovermode": "closest",
          "mapbox": {
           "style": "light"
          },
          "paper_bgcolor": "white",
          "plot_bgcolor": "#E5ECF6",
          "polar": {
           "angularaxis": {
            "gridcolor": "white",
            "linecolor": "white",
            "ticks": ""
           },
           "bgcolor": "#E5ECF6",
           "radialaxis": {
            "gridcolor": "white",
            "linecolor": "white",
            "ticks": ""
           }
          },
          "scene": {
           "xaxis": {
            "backgroundcolor": "#E5ECF6",
            "gridcolor": "white",
            "gridwidth": 2,
            "linecolor": "white",
            "showbackground": true,
            "ticks": "",
            "zerolinecolor": "white"
           },
           "yaxis": {
            "backgroundcolor": "#E5ECF6",
            "gridcolor": "white",
            "gridwidth": 2,
            "linecolor": "white",
            "showbackground": true,
            "ticks": "",
            "zerolinecolor": "white"
           },
           "zaxis": {
            "backgroundcolor": "#E5ECF6",
            "gridcolor": "white",
            "gridwidth": 2,
            "linecolor": "white",
            "showbackground": true,
            "ticks": "",
            "zerolinecolor": "white"
           }
          },
          "shapedefaults": {
           "line": {
            "color": "#2a3f5f"
           }
          },
          "ternary": {
           "aaxis": {
            "gridcolor": "white",
            "linecolor": "white",
            "ticks": ""
           },
           "baxis": {
            "gridcolor": "white",
            "linecolor": "white",
            "ticks": ""
           },
           "bgcolor": "#E5ECF6",
           "caxis": {
            "gridcolor": "white",
            "linecolor": "white",
            "ticks": ""
           }
          },
          "title": {
           "x": 0.05
          },
          "xaxis": {
           "automargin": true,
           "gridcolor": "white",
           "linecolor": "white",
           "ticks": "",
           "title": {
            "standoff": 15
           },
           "zerolinecolor": "white",
           "zerolinewidth": 2
          },
          "yaxis": {
           "automargin": true,
           "gridcolor": "white",
           "linecolor": "white",
           "ticks": "",
           "title": {
            "standoff": 15
           },
           "zerolinecolor": "white",
           "zerolinewidth": 2
          }
         }
        },
        "xaxis": {
         "anchor": "y",
         "domain": [
          0,
          0.94
         ]
        },
        "yaxis": {
         "anchor": "x",
         "domain": [
          0,
          1
         ]
        },
        "yaxis2": {
         "anchor": "x",
         "overlaying": "y",
         "side": "right"
        }
       }
      }
     },
     "metadata": {},
     "output_type": "display_data"
    }
   ],
   "source": [
    "fig_2c = make_subplots(specs=[[{\"secondary_y\": True}]])\n",
    "\n",
    "fig_2c.add_trace(\n",
    "    go.Scatter(x=sorted(lr_z_score), y=sorted(lr_predicted_y)),\n",
    "    secondary_y=False,\n",
    ")\n",
    "\n",
    "fig_2c.add_trace(\n",
    "    go.Scatter(x=sorted(lr_z_score), y=lr_z_score*math.tan(45)),\n",
    "    secondary_y=True,\n",
    ")\n",
    "\n",
    "fig_2c.show()\n"
   ]
  },
  {
   "cell_type": "code",
   "execution_count": 17,
   "metadata": {},
   "outputs": [
    {
     "data": {
      "text/plain": [
       "[-46.534937926218845,\n",
       " 34870.927540014585,\n",
       " 35930.30257638023,\n",
       " 35959.22509011949,\n",
       " 36645.58299588016,\n",
       " 37603.005521948624,\n",
       " 41915.91358729632,\n",
       " 42408.3618906386,\n",
       " 43956.85474474836,\n",
       " 44829.10995277332,\n",
       " 46707.73152195415,\n",
       " 47131.33291451898,\n",
       " 48051.98127545224,\n",
       " 48878.89382565196,\n",
       " 48962.85620921446,\n",
       " 49526.88002524979,\n",
       " 49959.27359948176,\n",
       " 55376.926299166225,\n",
       " 59283.067410441334,\n",
       " 59378.32585497627,\n",
       " 59403.302210212976,\n",
       " 59740.20586822914,\n",
       " 60798.68240026233,\n",
       " 60889.07022779103,\n",
       " 61074.79528848623,\n",
       " 64285.545408395046,\n",
       " 69223.06278724445,\n",
       " 70102.82129583924,\n",
       " 71435.93622962883,\n",
       " 71882.09963738722,\n",
       " 73075.4847097267,\n",
       " 73137.50702072168,\n",
       " 75137.72738698601,\n",
       " 78509.39549914678,\n",
       " 78850.4419302574,\n",
       " 81159.24157102346,\n",
       " 83053.18214477386,\n",
       " 83295.77894833688,\n",
       " 83348.21657017258,\n",
       " 83580.4902242111,\n",
       " 84602.271614036,\n",
       " 84978.73432776314,\n",
       " 87501.1966958832,\n",
       " 87662.13139412753,\n",
       " 88351.71921371465,\n",
       " 91831.23581265775,\n",
       " 93364.90440377353,\n",
       " 93683.36683041278,\n",
       " 94249.2743271266,\n",
       " 94327.40745583308,\n",
       " 94478.39738714545,\n",
       " 96430.68579286899,\n",
       " 96713.82290807068,\n",
       " 97561.57760566333,\n",
       " 98065.27973501399,\n",
       " 98100.43988033854,\n",
       " 99413.12601151668,\n",
       " 99495.2143163354,\n",
       " 99978.4042053315,\n",
       " 100199.16496438827,\n",
       " 100690.02976128041,\n",
       " 100726.87651263142,\n",
       " 100735.2656454695,\n",
       " 101106.91275690007,\n",
       " 101315.22480695575,\n",
       " 101366.77826376457,\n",
       " 101562.88110618998,\n",
       " 101991.94720916625,\n",
       " 102112.69459833555,\n",
       " 102275.25727833061,\n",
       " 102539.52988507545,\n",
       " 102998.6338262404,\n",
       " 103313.8008348344,\n",
       " 103351.63797890623,\n",
       " 103407.32506852434,\n",
       " 104534.7989491631,\n",
       " 104714.28920063117,\n",
       " 104967.92753726385,\n",
       " 105111.290926325,\n",
       " 105231.9407158621,\n",
       " 106427.2787924232,\n",
       " 106695.95340538611,\n",
       " 107163.51140868933,\n",
       " 107581.53248386287,\n",
       " 107754.58181305575,\n",
       " 107969.89789650221,\n",
       " 108015.72415922485,\n",
       " 108395.83038638196,\n",
       " 108735.08522184893,\n",
       " 108800.08058637443,\n",
       " 108987.20294983874,\n",
       " 108989.60176271346,\n",
       " 109915.20872319091,\n",
       " 110277.5513876363,\n",
       " 110855.71400574448,\n",
       " 110889.1829956514,\n",
       " 111159.51531712149,\n",
       " 112138.0722146702,\n",
       " 112404.55970582884,\n",
       " 112512.10000522947,\n",
       " 112528.03527314548,\n",
       " 112544.57189316793,\n",
       " 112637.65940799215,\n",
       " 112648.2769012773,\n",
       " 112939.31828849837,\n",
       " 113414.22877774689,\n",
       " 114448.49002876756,\n",
       " 114736.25501006008,\n",
       " 114840.47084502739,\n",
       " 114869.86488678177,\n",
       " 114957.41903405212,\n",
       " 115089.86170843699,\n",
       " 116081.2899707641,\n",
       " 116666.50412522073,\n",
       " 117094.6269509948,\n",
       " 117124.9597613771,\n",
       " 117522.38621762133,\n",
       " 118292.48670880731,\n",
       " 118640.75522900652,\n",
       " 119243.74436883522,\n",
       " 119806.14522694127,\n",
       " 119913.51420508658,\n",
       " 120280.53100101667,\n",
       " 120751.93941141097,\n",
       " 121129.4294481579,\n",
       " 121637.78832070489,\n",
       " 122083.88501675829,\n",
       " 122211.60136408929,\n",
       " 122214.10075496013,\n",
       " 122274.85958985164,\n",
       " 122966.32446233777,\n",
       " 123269.85034853683,\n",
       " 123279.01761119853,\n",
       " 124044.6010773569,\n",
       " 124080.82131289039,\n",
       " 124134.44586862618,\n",
       " 124350.35411028106,\n",
       " 124536.52967915667,\n",
       " 124764.24691973248,\n",
       " 125726.79526293669,\n",
       " 125747.61225253501,\n",
       " 125857.93533260902,\n",
       " 126070.09590566505,\n",
       " 126071.81456140512,\n",
       " 126522.2017246813,\n",
       " 126623.2727996218,\n",
       " 126770.02508900434,\n",
       " 126842.31793076452,\n",
       " 128959.6643771987,\n",
       " 129191.43274040276,\n",
       " 129233.95826161993,\n",
       " 129454.00457421888,\n",
       " 129521.61388194989,\n",
       " 129593.20474541947,\n",
       " 129860.1188557227,\n",
       " 129890.11687886443,\n",
       " 130154.877150964,\n",
       " 130218.88433526328,\n",
       " 130288.48193608318,\n",
       " 130894.63227815958,\n",
       " 131106.73558230832,\n",
       " 132099.51740067994,\n",
       " 132559.47190073447,\n",
       " 132693.3009953839,\n",
       " 132924.77071123885,\n",
       " 132954.9191932017,\n",
       " 133155.44770225155,\n",
       " 133262.03144909348,\n",
       " 134633.75205152069,\n",
       " 134691.98725132312,\n",
       " 134956.2893439136,\n",
       " 135740.0897144762,\n",
       " 136429.55732808012,\n",
       " 136477.9169695975,\n",
       " 136826.5460124106,\n",
       " 136851.90164872038,\n",
       " 137829.72298358014,\n",
       " 138146.6571150386,\n",
       " 138919.82780581168,\n",
       " 139147.47637719024,\n",
       " 140102.47108806315,\n",
       " 140234.25349727634,\n",
       " 140429.7307803726,\n",
       " 140890.70380248144,\n",
       " 141100.0275751893,\n",
       " 141251.5881215794,\n",
       " 141430.3958563576,\n",
       " 141480.6299051157,\n",
       " 142161.1222334894,\n",
       " 142243.56780042307,\n",
       " 142583.38730381688,\n",
       " 143025.84352424,\n",
       " 143626.352502836,\n",
       " 143775.28800228116,\n",
       " 143915.0761765485,\n",
       " 143923.68694939886,\n",
       " 144037.1654447061,\n",
       " 144382.7961034465,\n",
       " 144671.13418715438,\n",
       " 144686.96594380963,\n",
       " 144905.88090350822,\n",
       " 144934.55231775198,\n",
       " 145168.00594218684,\n",
       " 145391.58500936313,\n",
       " 145891.38167765213,\n",
       " 146775.294504082,\n",
       " 146944.86851614824,\n",
       " 146947.2197890211,\n",
       " 147263.44068871252,\n",
       " 147376.5915271849,\n",
       " 148129.21240538266,\n",
       " 148634.43631052558,\n",
       " 149348.696970327,\n",
       " 149436.31880847222,\n",
       " 149903.60874937492,\n",
       " 149904.83826981435,\n",
       " 150037.14401280228,\n",
       " 150359.12030355577,\n",
       " 150817.20090825186,\n",
       " 150867.77808354524,\n",
       " 150872.2044366064,\n",
       " 151281.9517862499,\n",
       " 151401.07429586293,\n",
       " 151535.16240106497,\n",
       " 152330.60690293642,\n",
       " 152460.9889915089,\n",
       " 152922.13278292544,\n",
       " 153094.09276255046,\n",
       " 153457.72866126566,\n",
       " 153522.68407979293,\n",
       " 153629.1950080157,\n",
       " 153818.9236527492,\n",
       " 153852.37514959287,\n",
       " 154345.17646474746,\n",
       " 154474.52384185742,\n",
       " 154722.98159235372,\n",
       " 155061.16455405956,\n",
       " 155645.30742543956,\n",
       " 156316.89005114933,\n",
       " 156390.40369915866,\n",
       " 156393.99533541244,\n",
       " 157132.68802087518,\n",
       " 157496.47140806998,\n",
       " 157597.9380230534,\n",
       " 158138.26480040685,\n",
       " 158159.59323808097,\n",
       " 158268.73870723983,\n",
       " 158455.985134848,\n",
       " 159564.86456634803,\n",
       " 160160.2760854405,\n",
       " 161070.75103535844,\n",
       " 162065.03113855195,\n",
       " 162155.32582593424,\n",
       " 162462.37936033824,\n",
       " 162781.87865239376,\n",
       " 163240.85089443106,\n",
       " 163843.73300131696,\n",
       " 164030.54106573225,\n",
       " 164417.17630982256,\n",
       " 164490.49243944767,\n",
       " 164740.21956702508,\n",
       " 164769.10962796188,\n",
       " 164858.40564239625,\n",
       " 164884.1701966537,\n",
       " 165293.8030621174,\n",
       " 166041.64876686607,\n",
       " 166455.02892777362,\n",
       " 166775.65513486485,\n",
       " 166906.17498959915,\n",
       " 167108.5197271063,\n",
       " 167108.5197271063,\n",
       " 167123.68872781371,\n",
       " 167305.41884984134,\n",
       " 167501.41676455544,\n",
       " 167940.81963879702,\n",
       " 168106.42217832728,\n",
       " 168934.32982565576,\n",
       " 169316.43703946128,\n",
       " 169601.91554992145,\n",
       " 169964.90031534765,\n",
       " 170104.20746650567,\n",
       " 172268.8844771144,\n",
       " 172765.19325176495,\n",
       " 172991.72964315207,\n",
       " 173929.69364601755,\n",
       " 173929.69364601755,\n",
       " 174434.91817443934,\n",
       " 174617.72278702012,\n",
       " 175462.95043179323,\n",
       " 177305.5871621506,\n",
       " 177823.59160471428,\n",
       " 178159.92064925618,\n",
       " 178741.15568339915,\n",
       " 179087.50058041938,\n",
       " 179374.91453067094,\n",
       " 179610.5182214611,\n",
       " 179768.15869333045,\n",
       " 179911.44637141467,\n",
       " 179938.1352035786,\n",
       " 180678.10643118672,\n",
       " 181191.05121400193,\n",
       " 181372.3444147538,\n",
       " 181724.98960070204,\n",
       " 182508.99781483153,\n",
       " 182553.03198626172,\n",
       " 183009.63812028445,\n",
       " 183482.44631710034,\n",
       " 183944.73561786913,\n",
       " 184143.87559358016,\n",
       " 184564.27648538302,\n",
       " 185382.87799272974,\n",
       " 185665.7953260553,\n",
       " 186267.67711535847,\n",
       " 186461.05885378658,\n",
       " 186791.31698521698,\n",
       " 186817.25732485118,\n",
       " 186875.6361823565,\n",
       " 187162.33261889027,\n",
       " 187317.24845506143,\n",
       " 187511.66286301453,\n",
       " 187656.95126758257,\n",
       " 187936.58581062118,\n",
       " 188179.48516061174,\n",
       " 188294.53182843106,\n",
       " 188332.57521037068,\n",
       " 188611.8662597958,\n",
       " 189185.50974883343,\n",
       " 190484.15244970497,\n",
       " 191271.41785891197,\n",
       " 191888.83893370448,\n",
       " 192542.70481744985,\n",
       " 192662.728334142,\n",
       " 193308.64714959028,\n",
       " 193377.3143224417,\n",
       " 194121.572709832,\n",
       " 194124.42319088485,\n",
       " 194930.87899855655,\n",
       " 195205.77542298625,\n",
       " 195241.58686081567,\n",
       " 195301.0700973629,\n",
       " 195896.76585877204,\n",
       " 196340.61702651024,\n",
       " 196376.58395747226,\n",
       " 196883.32686286533,\n",
       " 196970.44461126777,\n",
       " 197538.2144313436,\n",
       " 198172.24160309578,\n",
       " 198562.40555358215,\n",
       " 198707.50799648362,\n",
       " 199242.0200028475,\n",
       " 199305.8685001127,\n",
       " 199345.75371066135,\n",
       " 199689.79294368444,\n",
       " 199755.4080432677,\n",
       " 199898.39378226348,\n",
       " 200796.6214111702,\n",
       " 200920.84808811694,\n",
       " 201046.54981146244,\n",
       " 201061.22683057637,\n",
       " 201308.68738106004,\n",
       " 201701.03168274637,\n",
       " 201985.27426218314,\n",
       " 202727.23112746901,\n",
       " 203059.64679119762,\n",
       " 203333.04516157415,\n",
       " 203400.14833060125,\n",
       " 203483.25399042232,\n",
       " 203665.6926753645,\n",
       " 203873.09771178878,\n",
       " 204358.05118656743,\n",
       " 204476.45668291784,\n",
       " 204491.77157608443,\n",
       " 204674.57407977642,\n",
       " 205289.96259461265,\n",
       " 205372.84588024524,\n",
       " 205672.61886334626,\n",
       " 205793.0828872258,\n",
       " 206424.97538037846,\n",
       " 207239.67999771703,\n",
       " 207333.35518555657,\n",
       " 207495.88599584223,\n",
       " 207978.39959348948,\n",
       " 208152.5696788522,\n",
       " 209528.20548491552,\n",
       " 209684.78444620434,\n",
       " 209758.6331486999,\n",
       " 210055.25251632987,\n",
       " 210281.0952697334,\n",
       " 210878.19565166833,\n",
       " 211054.00360681818,\n",
       " 211882.11565988362,\n",
       " 211982.44470160114,\n",
       " 212093.80400987525,\n",
       " 212207.80282961982,\n",
       " 212312.84823130348,\n",
       " 212415.48473460728,\n",
       " 212884.61468111727,\n",
       " 213005.69171266546,\n",
       " 213039.15571524168,\n",
       " 213302.3205026955,\n",
       " 213375.98246488208,\n",
       " 214155.73594645277,\n",
       " 214725.39059532108,\n",
       " 214964.10267144433,\n",
       " 215360.78328385425,\n",
       " 215425.04455057194,\n",
       " 215457.1019066225,\n",
       " 216428.53053103882,\n",
       " 216515.86989430655,\n",
       " 216710.96990425355,\n",
       " 216809.87422588395,\n",
       " 216850.2146486663,\n",
       " 217052.96610641846,\n",
       " 217409.71080994263,\n",
       " 217903.38683381118,\n",
       " 217976.19815953117,\n",
       " 218206.51973034622,\n",
       " 218400.9134890821,\n",
       " 219118.07078761188,\n",
       " 219301.6039439193,\n",
       " 219684.82687350738,\n",
       " 219955.13368065527,\n",
       " 220137.05831538144,\n",
       " 220268.5285944175,\n",
       " 220474.27600186982,\n",
       " 220797.14427395328,\n",
       " 221125.71752562418,\n",
       " 221296.58448729853,\n",
       " 221861.58391680283,\n",
       " 222695.04039100974,\n",
       " 222697.25551374734,\n",
       " 222741.15778535022,\n",
       " 222836.55494264566,\n",
       " 222963.5388748213,\n",
       " 222994.8995354069,\n",
       " 223718.95148662053,\n",
       " 223835.7451267413,\n",
       " 224526.44488623526,\n",
       " 225135.0039516161,\n",
       " 225974.95976498578,\n",
       " 226031.33162449131,\n",
       " 226388.82358750096,\n",
       " 226761.51582340582,\n",
       " 227464.26026011354,\n",
       " 227497.98943607582,\n",
       " 227542.8186860016,\n",
       " 228893.1877325608,\n",
       " 229193.11034146667,\n",
       " 229302.04314481877,\n",
       " 229502.10493782564,\n",
       " 229738.12313664562,\n",
       " 230388.89619746586,\n",
       " 230392.81576108167,\n",
       " 231314.9045002765,\n",
       " 231372.75979820653,\n",
       " 231556.29489194724,\n",
       " 231847.87910330546,\n",
       " 232031.30160490278,\n",
       " 232550.142583978,\n",
       " 232686.34046539734,\n",
       " 232793.55056344054,\n",
       " 232974.40957489563,\n",
       " 233138.9958035775,\n",
       " 233229.88661845803,\n",
       " 233816.17295769128,\n",
       " 234404.65106134815,\n",
       " 234428.1740375299,\n",
       " 235433.23847908425,\n",
       " 235791.27020828213,\n",
       " 236919.92447328553,\n",
       " 237195.93715323688,\n",
       " 237506.91630138486,\n",
       " 237730.78851169936,\n",
       " 238066.34192606265,\n",
       " 238615.02773530906,\n",
       " 238693.54745049388,\n",
       " 238731.27460418548,\n",
       " 239030.1768503107,\n",
       " 241162.48959726986,\n",
       " 241207.44763291662,\n",
       " 241531.78612506852,\n",
       " 241702.9466123829,\n",
       " 242602.16871972493,\n",
       " 243938.13306022133,\n",
       " 244752.0587304227,\n",
       " 245799.53633378094,\n",
       " 246009.17262980287,\n",
       " 246206.23757755992,\n",
       " 246456.68778883747,\n",
       " 247706.6083369957,\n",
       " 247750.6965632962,\n",
       " 247777.96693109375,\n",
       " 248590.82066073443,\n",
       " 249089.2263092061,\n",
       " 249797.04868119158,\n",
       " 250461.07848937094,\n",
       " 250501.55608736863,\n",
       " 250856.33758972702,\n",
       " 251273.76359950798,\n",
       " 251358.07419180725,\n",
       " 252729.54373524705,\n",
       " 252901.1188814019,\n",
       " 255280.21788591775,\n",
       " 259056.0637746606,\n",
       " 259374.49587363657,\n",
       " 259672.30487804193,\n",
       " 260001.19408714198,\n",
       " 261094.08341316355,\n",
       " 262235.8539377181,\n",
       " 262570.53715672897,\n",
       " 263033.753263784,\n",
       " 263260.79252693756,\n",
       " 263830.10135764343,\n",
       " 263924.7562188556,\n",
       " 264561.2100240485,\n",
       " 264701.05541871133,\n",
       " 268080.7077072442,\n",
       " 268261.67025848804,\n",
       " 268653.33895197284,\n",
       " 268809.5140459343,\n",
       " 269007.82551558974,\n",
       " 269331.29632028355,\n",
       " 272059.8238349771,\n",
       " 273662.43970698095,\n",
       " 274193.6860539207,\n",
       " 274844.32554727,\n",
       " 274941.87642842886,\n",
       " 275208.41771258117,\n",
       " 275245.68086512515,\n",
       " 275891.19319844194,\n",
       " 276951.5869109519,\n",
       " 277057.09570985613,\n",
       " 277271.4611938202,\n",
       " 278248.36045078747,\n",
       " 278773.50836731575,\n",
       " 279402.33363255556,\n",
       " 281318.61828638107,\n",
       " 281399.55071463017,\n",
       " 281562.8258694306,\n",
       " 286012.5266519004,\n",
       " 286708.1851914155,\n",
       " 287231.03597308544,\n",
       " 287259.8621667546,\n",
       " 287559.7554858101,\n",
       " 288690.83547157503,\n",
       " 292121.3954272781,\n",
       " 295408.3162245787,\n",
       " 295879.557135199,\n",
       " 296447.8266913229,\n",
       " 300333.6671353472,\n",
       " 300334.72267594014,\n",
       " 300587.4376306134,\n",
       " 301512.388315902,\n",
       " 302245.9401596217,\n",
       " 302568.3568576815,\n",
       " 302632.7045666432,\n",
       " 303703.9824494093,\n",
       " 304341.3277158537,\n",
       " 304495.9945860361,\n",
       " 304945.31551289855,\n",
       " 306825.54148409166,\n",
       " 307269.56739856896,\n",
       " 309668.4421453637,\n",
       " 310790.55095774936,\n",
       " 312350.54206163576,\n",
       " 313572.5162594289,\n",
       " 316786.5913905201,\n",
       " 317762.8362764929,\n",
       " 321506.3164313538,\n",
       " 322490.677999583,\n",
       " 325345.7640314915,\n",
       " 326702.21898137627,\n",
       " 329907.8664562144,\n",
       " 330541.5642096639,\n",
       " 335560.2080275938,\n",
       " 359160.4659587424,\n",
       " 361541.46120162285,\n",
       " 362568.9599074201,\n",
       " 369097.833099943,\n",
       " 372677.49815186433,\n",
       " 381665.99764244526,\n",
       " 399047.3927211547,\n",
       " 402961.1012639125,\n",
       " 561836.5759717383]"
      ]
     },
     "execution_count": 17,
     "metadata": {},
     "output_type": "execute_result"
    }
   ],
   "source": [
    "x = [0, ]\n",
    "y = [200000, ]"
   ]
  },
  {
   "cell_type": "code",
   "execution_count": 19,
   "metadata": {},
   "outputs": [
    {
     "data": {
      "text/plain": [
       "1.6197751905438615"
      ]
     },
     "execution_count": 19,
     "metadata": {},
     "output_type": "execute_result"
    }
   ],
   "source": [
    "math.tan(45)"
   ]
  },
  {
   "cell_type": "code",
   "execution_count": null,
   "metadata": {},
   "outputs": [],
   "source": []
  }
 ],
 "metadata": {
  "kernelspec": {
   "display_name": "Python 3",
   "language": "python",
   "name": "python3"
  },
  "language_info": {
   "codemirror_mode": {
    "name": "ipython",
    "version": 3
   },
   "file_extension": ".py",
   "mimetype": "text/x-python",
   "name": "python",
   "nbconvert_exporter": "python",
   "pygments_lexer": "ipython3",
   "version": "3.undefined.undefined"
  },
  "orig_nbformat": 4
 },
 "nbformat": 4,
 "nbformat_minor": 2
}
