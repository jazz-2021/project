{
 "cells": [
  {
   "cell_type": "markdown",
   "metadata": {},
   "source": [
    "# <center> House Prices -- Advance Regression Technique </center>\n",
    "----\n",
    "\n",
    "data source: https://www.kaggle.com/competitions/house-prices-advanced-regression-techniques/data?select=test.csv\n",
    "\n",
    "**Aim** : To build a predictive model to predict housing price\n",
    "\n"
   ]
  },
  {
   "cell_type": "code",
   "execution_count": 153,
   "metadata": {},
   "outputs": [],
   "source": [
    "import inflection as infl\n",
    "import math\n",
    "import numpy as np\n",
    "import pandas as pd\n",
    "import plotly.express as px\n",
    "import plotly.figure_factory as ff\n",
    "import plotly.graph_objects as go\n",
    "\n",
    "\n",
    "from plotly.subplots import make_subplots\n",
    "from sklearn.ensemble import RandomForestRegressor, AdaBoostRegressor, GradientBoostingRegressor\n",
    "from sklearn.feature_selection import mutual_info_regression, r_regression\n",
    "from sklearn.linear_model import LinearRegression\n",
    "from sklearn.metrics import accuracy_score, average_precision_score, f1_score\n",
    "from sklearn.model_selection import train_test_split, cross_val_score\n",
    "from sklearn.neighbors import KNeighborsClassifier\n",
    "from sklearn.preprocessing import OrdinalEncoder, OneHotEncoder, MaxAbsScaler, StandardScaler\n",
    "from sklearn.tree import DecisionTreeRegressor\n"
   ]
  },
  {
   "cell_type": "code",
   "execution_count": 2,
   "metadata": {},
   "outputs": [
    {
     "data": {
      "text/html": [
       "<div>\n",
       "<style scoped>\n",
       "    .dataframe tbody tr th:only-of-type {\n",
       "        vertical-align: middle;\n",
       "    }\n",
       "\n",
       "    .dataframe tbody tr th {\n",
       "        vertical-align: top;\n",
       "    }\n",
       "\n",
       "    .dataframe thead th {\n",
       "        text-align: right;\n",
       "    }\n",
       "</style>\n",
       "<table border=\"1\" class=\"dataframe\">\n",
       "  <thead>\n",
       "    <tr style=\"text-align: right;\">\n",
       "      <th></th>\n",
       "      <th>id</th>\n",
       "      <th>ms_sub_class</th>\n",
       "      <th>ms_zoning</th>\n",
       "      <th>lot_frontage</th>\n",
       "      <th>lot_area</th>\n",
       "      <th>street</th>\n",
       "      <th>alley</th>\n",
       "      <th>lot_shape</th>\n",
       "      <th>land_contour</th>\n",
       "      <th>utilities</th>\n",
       "      <th>...</th>\n",
       "      <th>pool_area</th>\n",
       "      <th>pool_qc</th>\n",
       "      <th>fence</th>\n",
       "      <th>misc_feature</th>\n",
       "      <th>misc_val</th>\n",
       "      <th>mo_sold</th>\n",
       "      <th>yr_sold</th>\n",
       "      <th>sale_type</th>\n",
       "      <th>sale_condition</th>\n",
       "      <th>sale_price</th>\n",
       "    </tr>\n",
       "  </thead>\n",
       "  <tbody>\n",
       "    <tr>\n",
       "      <th>0</th>\n",
       "      <td>1</td>\n",
       "      <td>60</td>\n",
       "      <td>RL</td>\n",
       "      <td>65.0</td>\n",
       "      <td>8450</td>\n",
       "      <td>Pave</td>\n",
       "      <td>NaN</td>\n",
       "      <td>Reg</td>\n",
       "      <td>Lvl</td>\n",
       "      <td>AllPub</td>\n",
       "      <td>...</td>\n",
       "      <td>0</td>\n",
       "      <td>NaN</td>\n",
       "      <td>NaN</td>\n",
       "      <td>NaN</td>\n",
       "      <td>0</td>\n",
       "      <td>2</td>\n",
       "      <td>2008</td>\n",
       "      <td>WD</td>\n",
       "      <td>Normal</td>\n",
       "      <td>208500</td>\n",
       "    </tr>\n",
       "    <tr>\n",
       "      <th>1</th>\n",
       "      <td>2</td>\n",
       "      <td>20</td>\n",
       "      <td>RL</td>\n",
       "      <td>80.0</td>\n",
       "      <td>9600</td>\n",
       "      <td>Pave</td>\n",
       "      <td>NaN</td>\n",
       "      <td>Reg</td>\n",
       "      <td>Lvl</td>\n",
       "      <td>AllPub</td>\n",
       "      <td>...</td>\n",
       "      <td>0</td>\n",
       "      <td>NaN</td>\n",
       "      <td>NaN</td>\n",
       "      <td>NaN</td>\n",
       "      <td>0</td>\n",
       "      <td>5</td>\n",
       "      <td>2007</td>\n",
       "      <td>WD</td>\n",
       "      <td>Normal</td>\n",
       "      <td>181500</td>\n",
       "    </tr>\n",
       "    <tr>\n",
       "      <th>2</th>\n",
       "      <td>3</td>\n",
       "      <td>60</td>\n",
       "      <td>RL</td>\n",
       "      <td>68.0</td>\n",
       "      <td>11250</td>\n",
       "      <td>Pave</td>\n",
       "      <td>NaN</td>\n",
       "      <td>IR1</td>\n",
       "      <td>Lvl</td>\n",
       "      <td>AllPub</td>\n",
       "      <td>...</td>\n",
       "      <td>0</td>\n",
       "      <td>NaN</td>\n",
       "      <td>NaN</td>\n",
       "      <td>NaN</td>\n",
       "      <td>0</td>\n",
       "      <td>9</td>\n",
       "      <td>2008</td>\n",
       "      <td>WD</td>\n",
       "      <td>Normal</td>\n",
       "      <td>223500</td>\n",
       "    </tr>\n",
       "    <tr>\n",
       "      <th>3</th>\n",
       "      <td>4</td>\n",
       "      <td>70</td>\n",
       "      <td>RL</td>\n",
       "      <td>60.0</td>\n",
       "      <td>9550</td>\n",
       "      <td>Pave</td>\n",
       "      <td>NaN</td>\n",
       "      <td>IR1</td>\n",
       "      <td>Lvl</td>\n",
       "      <td>AllPub</td>\n",
       "      <td>...</td>\n",
       "      <td>0</td>\n",
       "      <td>NaN</td>\n",
       "      <td>NaN</td>\n",
       "      <td>NaN</td>\n",
       "      <td>0</td>\n",
       "      <td>2</td>\n",
       "      <td>2006</td>\n",
       "      <td>WD</td>\n",
       "      <td>Abnorml</td>\n",
       "      <td>140000</td>\n",
       "    </tr>\n",
       "    <tr>\n",
       "      <th>4</th>\n",
       "      <td>5</td>\n",
       "      <td>60</td>\n",
       "      <td>RL</td>\n",
       "      <td>84.0</td>\n",
       "      <td>14260</td>\n",
       "      <td>Pave</td>\n",
       "      <td>NaN</td>\n",
       "      <td>IR1</td>\n",
       "      <td>Lvl</td>\n",
       "      <td>AllPub</td>\n",
       "      <td>...</td>\n",
       "      <td>0</td>\n",
       "      <td>NaN</td>\n",
       "      <td>NaN</td>\n",
       "      <td>NaN</td>\n",
       "      <td>0</td>\n",
       "      <td>12</td>\n",
       "      <td>2008</td>\n",
       "      <td>WD</td>\n",
       "      <td>Normal</td>\n",
       "      <td>250000</td>\n",
       "    </tr>\n",
       "    <tr>\n",
       "      <th>...</th>\n",
       "      <td>...</td>\n",
       "      <td>...</td>\n",
       "      <td>...</td>\n",
       "      <td>...</td>\n",
       "      <td>...</td>\n",
       "      <td>...</td>\n",
       "      <td>...</td>\n",
       "      <td>...</td>\n",
       "      <td>...</td>\n",
       "      <td>...</td>\n",
       "      <td>...</td>\n",
       "      <td>...</td>\n",
       "      <td>...</td>\n",
       "      <td>...</td>\n",
       "      <td>...</td>\n",
       "      <td>...</td>\n",
       "      <td>...</td>\n",
       "      <td>...</td>\n",
       "      <td>...</td>\n",
       "      <td>...</td>\n",
       "      <td>...</td>\n",
       "    </tr>\n",
       "    <tr>\n",
       "      <th>1455</th>\n",
       "      <td>1456</td>\n",
       "      <td>60</td>\n",
       "      <td>RL</td>\n",
       "      <td>62.0</td>\n",
       "      <td>7917</td>\n",
       "      <td>Pave</td>\n",
       "      <td>NaN</td>\n",
       "      <td>Reg</td>\n",
       "      <td>Lvl</td>\n",
       "      <td>AllPub</td>\n",
       "      <td>...</td>\n",
       "      <td>0</td>\n",
       "      <td>NaN</td>\n",
       "      <td>NaN</td>\n",
       "      <td>NaN</td>\n",
       "      <td>0</td>\n",
       "      <td>8</td>\n",
       "      <td>2007</td>\n",
       "      <td>WD</td>\n",
       "      <td>Normal</td>\n",
       "      <td>175000</td>\n",
       "    </tr>\n",
       "    <tr>\n",
       "      <th>1456</th>\n",
       "      <td>1457</td>\n",
       "      <td>20</td>\n",
       "      <td>RL</td>\n",
       "      <td>85.0</td>\n",
       "      <td>13175</td>\n",
       "      <td>Pave</td>\n",
       "      <td>NaN</td>\n",
       "      <td>Reg</td>\n",
       "      <td>Lvl</td>\n",
       "      <td>AllPub</td>\n",
       "      <td>...</td>\n",
       "      <td>0</td>\n",
       "      <td>NaN</td>\n",
       "      <td>MnPrv</td>\n",
       "      <td>NaN</td>\n",
       "      <td>0</td>\n",
       "      <td>2</td>\n",
       "      <td>2010</td>\n",
       "      <td>WD</td>\n",
       "      <td>Normal</td>\n",
       "      <td>210000</td>\n",
       "    </tr>\n",
       "    <tr>\n",
       "      <th>1457</th>\n",
       "      <td>1458</td>\n",
       "      <td>70</td>\n",
       "      <td>RL</td>\n",
       "      <td>66.0</td>\n",
       "      <td>9042</td>\n",
       "      <td>Pave</td>\n",
       "      <td>NaN</td>\n",
       "      <td>Reg</td>\n",
       "      <td>Lvl</td>\n",
       "      <td>AllPub</td>\n",
       "      <td>...</td>\n",
       "      <td>0</td>\n",
       "      <td>NaN</td>\n",
       "      <td>GdPrv</td>\n",
       "      <td>Shed</td>\n",
       "      <td>2500</td>\n",
       "      <td>5</td>\n",
       "      <td>2010</td>\n",
       "      <td>WD</td>\n",
       "      <td>Normal</td>\n",
       "      <td>266500</td>\n",
       "    </tr>\n",
       "    <tr>\n",
       "      <th>1458</th>\n",
       "      <td>1459</td>\n",
       "      <td>20</td>\n",
       "      <td>RL</td>\n",
       "      <td>68.0</td>\n",
       "      <td>9717</td>\n",
       "      <td>Pave</td>\n",
       "      <td>NaN</td>\n",
       "      <td>Reg</td>\n",
       "      <td>Lvl</td>\n",
       "      <td>AllPub</td>\n",
       "      <td>...</td>\n",
       "      <td>0</td>\n",
       "      <td>NaN</td>\n",
       "      <td>NaN</td>\n",
       "      <td>NaN</td>\n",
       "      <td>0</td>\n",
       "      <td>4</td>\n",
       "      <td>2010</td>\n",
       "      <td>WD</td>\n",
       "      <td>Normal</td>\n",
       "      <td>142125</td>\n",
       "    </tr>\n",
       "    <tr>\n",
       "      <th>1459</th>\n",
       "      <td>1460</td>\n",
       "      <td>20</td>\n",
       "      <td>RL</td>\n",
       "      <td>75.0</td>\n",
       "      <td>9937</td>\n",
       "      <td>Pave</td>\n",
       "      <td>NaN</td>\n",
       "      <td>Reg</td>\n",
       "      <td>Lvl</td>\n",
       "      <td>AllPub</td>\n",
       "      <td>...</td>\n",
       "      <td>0</td>\n",
       "      <td>NaN</td>\n",
       "      <td>NaN</td>\n",
       "      <td>NaN</td>\n",
       "      <td>0</td>\n",
       "      <td>6</td>\n",
       "      <td>2008</td>\n",
       "      <td>WD</td>\n",
       "      <td>Normal</td>\n",
       "      <td>147500</td>\n",
       "    </tr>\n",
       "  </tbody>\n",
       "</table>\n",
       "<p>1460 rows × 81 columns</p>\n",
       "</div>"
      ],
      "text/plain": [
       "        id  ms_sub_class ms_zoning  lot_frontage  lot_area street alley  \\\n",
       "0        1            60        RL          65.0      8450   Pave   NaN   \n",
       "1        2            20        RL          80.0      9600   Pave   NaN   \n",
       "2        3            60        RL          68.0     11250   Pave   NaN   \n",
       "3        4            70        RL          60.0      9550   Pave   NaN   \n",
       "4        5            60        RL          84.0     14260   Pave   NaN   \n",
       "...    ...           ...       ...           ...       ...    ...   ...   \n",
       "1455  1456            60        RL          62.0      7917   Pave   NaN   \n",
       "1456  1457            20        RL          85.0     13175   Pave   NaN   \n",
       "1457  1458            70        RL          66.0      9042   Pave   NaN   \n",
       "1458  1459            20        RL          68.0      9717   Pave   NaN   \n",
       "1459  1460            20        RL          75.0      9937   Pave   NaN   \n",
       "\n",
       "     lot_shape land_contour utilities  ... pool_area pool_qc  fence  \\\n",
       "0          Reg          Lvl    AllPub  ...         0     NaN    NaN   \n",
       "1          Reg          Lvl    AllPub  ...         0     NaN    NaN   \n",
       "2          IR1          Lvl    AllPub  ...         0     NaN    NaN   \n",
       "3          IR1          Lvl    AllPub  ...         0     NaN    NaN   \n",
       "4          IR1          Lvl    AllPub  ...         0     NaN    NaN   \n",
       "...        ...          ...       ...  ...       ...     ...    ...   \n",
       "1455       Reg          Lvl    AllPub  ...         0     NaN    NaN   \n",
       "1456       Reg          Lvl    AllPub  ...         0     NaN  MnPrv   \n",
       "1457       Reg          Lvl    AllPub  ...         0     NaN  GdPrv   \n",
       "1458       Reg          Lvl    AllPub  ...         0     NaN    NaN   \n",
       "1459       Reg          Lvl    AllPub  ...         0     NaN    NaN   \n",
       "\n",
       "     misc_feature misc_val mo_sold yr_sold  sale_type  sale_condition  \\\n",
       "0             NaN        0       2    2008         WD          Normal   \n",
       "1             NaN        0       5    2007         WD          Normal   \n",
       "2             NaN        0       9    2008         WD          Normal   \n",
       "3             NaN        0       2    2006         WD         Abnorml   \n",
       "4             NaN        0      12    2008         WD          Normal   \n",
       "...           ...      ...     ...     ...        ...             ...   \n",
       "1455          NaN        0       8    2007         WD          Normal   \n",
       "1456          NaN        0       2    2010         WD          Normal   \n",
       "1457         Shed     2500       5    2010         WD          Normal   \n",
       "1458          NaN        0       4    2010         WD          Normal   \n",
       "1459          NaN        0       6    2008         WD          Normal   \n",
       "\n",
       "      sale_price  \n",
       "0         208500  \n",
       "1         181500  \n",
       "2         223500  \n",
       "3         140000  \n",
       "4         250000  \n",
       "...          ...  \n",
       "1455      175000  \n",
       "1456      210000  \n",
       "1457      266500  \n",
       "1458      142125  \n",
       "1459      147500  \n",
       "\n",
       "[1460 rows x 81 columns]"
      ]
     },
     "execution_count": 2,
     "metadata": {},
     "output_type": "execute_result"
    }
   ],
   "source": [
    "##### load house price data and rename column to snake case\n",
    "house_df = pd.read_csv(\"house_price_train.csv\")\n",
    "house_df.columns = [infl.underscore(val) for val in house_df.columns]\n",
    "\n",
    "house_df\n"
   ]
  },
  {
   "cell_type": "markdown",
   "metadata": {},
   "source": [
    "----\n",
    "# <center> Data Clean Up </center>\n",
    "---"
   ]
  },
  {
   "cell_type": "markdown",
   "metadata": {},
   "source": [
    "Determine the amount of rows with NaN values. The following features are removed since the amount missing values are >10%. \n",
    "\n",
    "ID was also removed since it does not contribute to the prediction.\n",
    "\n",
    "| Feature | Description |\n",
    "| --- | --- | \n",
    "| pool_qc | pool quality | \n",
    "| misc_feature | Miscellaneous features not covered in other categories | \n",
    "| alley |  Type of alley access to property | \n",
    "| fence |  Fence quality  | \n",
    "| mas_vnr_type |  Masonry veneer type -- Brick, stone, etc. | \n",
    "| fireplace_qu |  Fireplace quality | \n",
    "| lot_frontage |  Linear feet of street connected to property| "
   ]
  },
  {
   "cell_type": "code",
   "execution_count": 5,
   "metadata": {},
   "outputs": [
    {
     "data": {
      "text/html": [
       "<div>\n",
       "<style scoped>\n",
       "    .dataframe tbody tr th:only-of-type {\n",
       "        vertical-align: middle;\n",
       "    }\n",
       "\n",
       "    .dataframe tbody tr th {\n",
       "        vertical-align: top;\n",
       "    }\n",
       "\n",
       "    .dataframe thead th {\n",
       "        text-align: right;\n",
       "    }\n",
       "</style>\n",
       "<table border=\"1\" class=\"dataframe\">\n",
       "  <thead>\n",
       "    <tr style=\"text-align: right;\">\n",
       "      <th></th>\n",
       "      <th>column</th>\n",
       "      <th>nan_count</th>\n",
       "      <th>nan_percent</th>\n",
       "    </tr>\n",
       "  </thead>\n",
       "  <tbody>\n",
       "    <tr>\n",
       "      <th>72</th>\n",
       "      <td>pool_qc</td>\n",
       "      <td>1453</td>\n",
       "      <td>99.520548</td>\n",
       "    </tr>\n",
       "    <tr>\n",
       "      <th>74</th>\n",
       "      <td>misc_feature</td>\n",
       "      <td>1406</td>\n",
       "      <td>96.301370</td>\n",
       "    </tr>\n",
       "    <tr>\n",
       "      <th>6</th>\n",
       "      <td>alley</td>\n",
       "      <td>1369</td>\n",
       "      <td>93.767123</td>\n",
       "    </tr>\n",
       "    <tr>\n",
       "      <th>73</th>\n",
       "      <td>fence</td>\n",
       "      <td>1179</td>\n",
       "      <td>80.753425</td>\n",
       "    </tr>\n",
       "    <tr>\n",
       "      <th>25</th>\n",
       "      <td>mas_vnr_type</td>\n",
       "      <td>872</td>\n",
       "      <td>59.726027</td>\n",
       "    </tr>\n",
       "    <tr>\n",
       "      <th>57</th>\n",
       "      <td>fireplace_qu</td>\n",
       "      <td>690</td>\n",
       "      <td>47.260274</td>\n",
       "    </tr>\n",
       "    <tr>\n",
       "      <th>3</th>\n",
       "      <td>lot_frontage</td>\n",
       "      <td>259</td>\n",
       "      <td>17.739726</td>\n",
       "    </tr>\n",
       "  </tbody>\n",
       "</table>\n",
       "</div>"
      ],
      "text/plain": [
       "          column  nan_count  nan_percent\n",
       "72       pool_qc       1453    99.520548\n",
       "74  misc_feature       1406    96.301370\n",
       "6          alley       1369    93.767123\n",
       "73         fence       1179    80.753425\n",
       "25  mas_vnr_type        872    59.726027\n",
       "57  fireplace_qu        690    47.260274\n",
       "3   lot_frontage        259    17.739726"
      ]
     },
     "execution_count": 5,
     "metadata": {},
     "output_type": "execute_result"
    }
   ],
   "source": [
    "col_names = [val for val in house_df.columns]\n",
    "nan_count = [len(house_df.loc[house_df[val].isna(), val]) for val in house_df.columns]\n",
    "\n",
    "nan_count_df = pd.DataFrame(list(zip(col_names, nan_count)), columns=[\"column\", \"nan_count\"])\n",
    "nan_count_df[\"nan_percent\"] = nan_count_df[\"nan_count\"]/len(house_df)*100\n",
    "\n",
    "##### Display the column with NaN; sort according to the amount of NaN in columns\n",
    "nan_count_df[nan_count_df[\"nan_percent\"]>10].sort_values([\"nan_count\"], ascending=False)"
   ]
  },
  {
   "cell_type": "code",
   "execution_count": 6,
   "metadata": {},
   "outputs": [
    {
     "data": {
      "text/html": [
       "<div>\n",
       "<style scoped>\n",
       "    .dataframe tbody tr th:only-of-type {\n",
       "        vertical-align: middle;\n",
       "    }\n",
       "\n",
       "    .dataframe tbody tr th {\n",
       "        vertical-align: top;\n",
       "    }\n",
       "\n",
       "    .dataframe thead th {\n",
       "        text-align: right;\n",
       "    }\n",
       "</style>\n",
       "<table border=\"1\" class=\"dataframe\">\n",
       "  <thead>\n",
       "    <tr style=\"text-align: right;\">\n",
       "      <th></th>\n",
       "      <th>ms_sub_class</th>\n",
       "      <th>ms_zoning</th>\n",
       "      <th>lot_area</th>\n",
       "      <th>street</th>\n",
       "      <th>lot_shape</th>\n",
       "      <th>land_contour</th>\n",
       "      <th>utilities</th>\n",
       "      <th>lot_config</th>\n",
       "      <th>land_slope</th>\n",
       "      <th>neighborhood</th>\n",
       "      <th>...</th>\n",
       "      <th>enclosed_porch</th>\n",
       "      <th>3_ssn_porch</th>\n",
       "      <th>screen_porch</th>\n",
       "      <th>pool_area</th>\n",
       "      <th>misc_val</th>\n",
       "      <th>mo_sold</th>\n",
       "      <th>yr_sold</th>\n",
       "      <th>sale_type</th>\n",
       "      <th>sale_condition</th>\n",
       "      <th>sale_price</th>\n",
       "    </tr>\n",
       "  </thead>\n",
       "  <tbody>\n",
       "    <tr>\n",
       "      <th>0</th>\n",
       "      <td>60</td>\n",
       "      <td>RL</td>\n",
       "      <td>8450</td>\n",
       "      <td>Pave</td>\n",
       "      <td>Reg</td>\n",
       "      <td>Lvl</td>\n",
       "      <td>AllPub</td>\n",
       "      <td>Inside</td>\n",
       "      <td>Gtl</td>\n",
       "      <td>CollgCr</td>\n",
       "      <td>...</td>\n",
       "      <td>0</td>\n",
       "      <td>0</td>\n",
       "      <td>0</td>\n",
       "      <td>0</td>\n",
       "      <td>0</td>\n",
       "      <td>2</td>\n",
       "      <td>2008</td>\n",
       "      <td>WD</td>\n",
       "      <td>Normal</td>\n",
       "      <td>208500</td>\n",
       "    </tr>\n",
       "    <tr>\n",
       "      <th>1</th>\n",
       "      <td>20</td>\n",
       "      <td>RL</td>\n",
       "      <td>9600</td>\n",
       "      <td>Pave</td>\n",
       "      <td>Reg</td>\n",
       "      <td>Lvl</td>\n",
       "      <td>AllPub</td>\n",
       "      <td>FR2</td>\n",
       "      <td>Gtl</td>\n",
       "      <td>Veenker</td>\n",
       "      <td>...</td>\n",
       "      <td>0</td>\n",
       "      <td>0</td>\n",
       "      <td>0</td>\n",
       "      <td>0</td>\n",
       "      <td>0</td>\n",
       "      <td>5</td>\n",
       "      <td>2007</td>\n",
       "      <td>WD</td>\n",
       "      <td>Normal</td>\n",
       "      <td>181500</td>\n",
       "    </tr>\n",
       "    <tr>\n",
       "      <th>2</th>\n",
       "      <td>60</td>\n",
       "      <td>RL</td>\n",
       "      <td>11250</td>\n",
       "      <td>Pave</td>\n",
       "      <td>IR1</td>\n",
       "      <td>Lvl</td>\n",
       "      <td>AllPub</td>\n",
       "      <td>Inside</td>\n",
       "      <td>Gtl</td>\n",
       "      <td>CollgCr</td>\n",
       "      <td>...</td>\n",
       "      <td>0</td>\n",
       "      <td>0</td>\n",
       "      <td>0</td>\n",
       "      <td>0</td>\n",
       "      <td>0</td>\n",
       "      <td>9</td>\n",
       "      <td>2008</td>\n",
       "      <td>WD</td>\n",
       "      <td>Normal</td>\n",
       "      <td>223500</td>\n",
       "    </tr>\n",
       "    <tr>\n",
       "      <th>3</th>\n",
       "      <td>70</td>\n",
       "      <td>RL</td>\n",
       "      <td>9550</td>\n",
       "      <td>Pave</td>\n",
       "      <td>IR1</td>\n",
       "      <td>Lvl</td>\n",
       "      <td>AllPub</td>\n",
       "      <td>Corner</td>\n",
       "      <td>Gtl</td>\n",
       "      <td>Crawfor</td>\n",
       "      <td>...</td>\n",
       "      <td>272</td>\n",
       "      <td>0</td>\n",
       "      <td>0</td>\n",
       "      <td>0</td>\n",
       "      <td>0</td>\n",
       "      <td>2</td>\n",
       "      <td>2006</td>\n",
       "      <td>WD</td>\n",
       "      <td>Abnorml</td>\n",
       "      <td>140000</td>\n",
       "    </tr>\n",
       "    <tr>\n",
       "      <th>4</th>\n",
       "      <td>60</td>\n",
       "      <td>RL</td>\n",
       "      <td>14260</td>\n",
       "      <td>Pave</td>\n",
       "      <td>IR1</td>\n",
       "      <td>Lvl</td>\n",
       "      <td>AllPub</td>\n",
       "      <td>FR2</td>\n",
       "      <td>Gtl</td>\n",
       "      <td>NoRidge</td>\n",
       "      <td>...</td>\n",
       "      <td>0</td>\n",
       "      <td>0</td>\n",
       "      <td>0</td>\n",
       "      <td>0</td>\n",
       "      <td>0</td>\n",
       "      <td>12</td>\n",
       "      <td>2008</td>\n",
       "      <td>WD</td>\n",
       "      <td>Normal</td>\n",
       "      <td>250000</td>\n",
       "    </tr>\n",
       "  </tbody>\n",
       "</table>\n",
       "<p>5 rows × 73 columns</p>\n",
       "</div>"
      ],
      "text/plain": [
       "   ms_sub_class ms_zoning  lot_area street lot_shape land_contour utilities  \\\n",
       "0            60        RL      8450   Pave       Reg          Lvl    AllPub   \n",
       "1            20        RL      9600   Pave       Reg          Lvl    AllPub   \n",
       "2            60        RL     11250   Pave       IR1          Lvl    AllPub   \n",
       "3            70        RL      9550   Pave       IR1          Lvl    AllPub   \n",
       "4            60        RL     14260   Pave       IR1          Lvl    AllPub   \n",
       "\n",
       "  lot_config land_slope neighborhood  ... enclosed_porch 3_ssn_porch  \\\n",
       "0     Inside        Gtl      CollgCr  ...              0           0   \n",
       "1        FR2        Gtl      Veenker  ...              0           0   \n",
       "2     Inside        Gtl      CollgCr  ...              0           0   \n",
       "3     Corner        Gtl      Crawfor  ...            272           0   \n",
       "4        FR2        Gtl      NoRidge  ...              0           0   \n",
       "\n",
       "  screen_porch pool_area  misc_val  mo_sold  yr_sold  sale_type  \\\n",
       "0            0         0         0        2     2008         WD   \n",
       "1            0         0         0        5     2007         WD   \n",
       "2            0         0         0        9     2008         WD   \n",
       "3            0         0         0        2     2006         WD   \n",
       "4            0         0         0       12     2008         WD   \n",
       "\n",
       "  sale_condition sale_price  \n",
       "0         Normal     208500  \n",
       "1         Normal     181500  \n",
       "2         Normal     223500  \n",
       "3        Abnorml     140000  \n",
       "4         Normal     250000  \n",
       "\n",
       "[5 rows x 73 columns]"
      ]
     },
     "execution_count": 6,
     "metadata": {},
     "output_type": "execute_result"
    }
   ],
   "source": [
    "##### remove features with more than 10% NaN row\n",
    "\n",
    "nan_removal = nan_count_df.loc[nan_count_df[\"nan_percent\"]>10, \"column\"].to_list()\n",
    "nan_removal = nan_removal + [\"id\"]\n",
    "\n",
    "cleaned_house_df = house_df.drop(columns=nan_removal)\n",
    "\n",
    "cleaned_house_df.head(5)"
   ]
  },
  {
   "cell_type": "code",
   "execution_count": null,
   "metadata": {},
   "outputs": [],
   "source": []
  },
  {
   "cell_type": "markdown",
   "metadata": {},
   "source": [
    "----\n",
    "# <center> Feature Selection </center>\n",
    "----"
   ]
  },
  {
   "cell_type": "markdown",
   "metadata": {},
   "source": [
    "Split data into categorical and numerical data type."
   ]
  },
  {
   "cell_type": "code",
   "execution_count": 8,
   "metadata": {},
   "outputs": [
    {
     "data": {
      "text/html": [
       "<div>\n",
       "<style scoped>\n",
       "    .dataframe tbody tr th:only-of-type {\n",
       "        vertical-align: middle;\n",
       "    }\n",
       "\n",
       "    .dataframe tbody tr th {\n",
       "        vertical-align: top;\n",
       "    }\n",
       "\n",
       "    .dataframe thead th {\n",
       "        text-align: right;\n",
       "    }\n",
       "</style>\n",
       "<table border=\"1\" class=\"dataframe\">\n",
       "  <thead>\n",
       "    <tr style=\"text-align: right;\">\n",
       "      <th></th>\n",
       "      <th>ms_sub_class</th>\n",
       "      <th>lot_area</th>\n",
       "      <th>overall_qual</th>\n",
       "      <th>overall_cond</th>\n",
       "      <th>year_built</th>\n",
       "      <th>year_remod_add</th>\n",
       "      <th>mas_vnr_area</th>\n",
       "      <th>bsmt_fin_sf1</th>\n",
       "      <th>bsmt_fin_sf2</th>\n",
       "      <th>bsmt_unf_sf</th>\n",
       "      <th>...</th>\n",
       "      <th>wood_deck_sf</th>\n",
       "      <th>open_porch_sf</th>\n",
       "      <th>enclosed_porch</th>\n",
       "      <th>3_ssn_porch</th>\n",
       "      <th>screen_porch</th>\n",
       "      <th>pool_area</th>\n",
       "      <th>misc_val</th>\n",
       "      <th>mo_sold</th>\n",
       "      <th>yr_sold</th>\n",
       "      <th>sale_price</th>\n",
       "    </tr>\n",
       "  </thead>\n",
       "  <tbody>\n",
       "    <tr>\n",
       "      <th>0</th>\n",
       "      <td>60</td>\n",
       "      <td>8450</td>\n",
       "      <td>7</td>\n",
       "      <td>5</td>\n",
       "      <td>2003</td>\n",
       "      <td>2003</td>\n",
       "      <td>196.0</td>\n",
       "      <td>706</td>\n",
       "      <td>0</td>\n",
       "      <td>150</td>\n",
       "      <td>...</td>\n",
       "      <td>0</td>\n",
       "      <td>61</td>\n",
       "      <td>0</td>\n",
       "      <td>0</td>\n",
       "      <td>0</td>\n",
       "      <td>0</td>\n",
       "      <td>0</td>\n",
       "      <td>2</td>\n",
       "      <td>2008</td>\n",
       "      <td>208500</td>\n",
       "    </tr>\n",
       "    <tr>\n",
       "      <th>1</th>\n",
       "      <td>20</td>\n",
       "      <td>9600</td>\n",
       "      <td>6</td>\n",
       "      <td>8</td>\n",
       "      <td>1976</td>\n",
       "      <td>1976</td>\n",
       "      <td>0.0</td>\n",
       "      <td>978</td>\n",
       "      <td>0</td>\n",
       "      <td>284</td>\n",
       "      <td>...</td>\n",
       "      <td>298</td>\n",
       "      <td>0</td>\n",
       "      <td>0</td>\n",
       "      <td>0</td>\n",
       "      <td>0</td>\n",
       "      <td>0</td>\n",
       "      <td>0</td>\n",
       "      <td>5</td>\n",
       "      <td>2007</td>\n",
       "      <td>181500</td>\n",
       "    </tr>\n",
       "    <tr>\n",
       "      <th>2</th>\n",
       "      <td>60</td>\n",
       "      <td>11250</td>\n",
       "      <td>7</td>\n",
       "      <td>5</td>\n",
       "      <td>2001</td>\n",
       "      <td>2002</td>\n",
       "      <td>162.0</td>\n",
       "      <td>486</td>\n",
       "      <td>0</td>\n",
       "      <td>434</td>\n",
       "      <td>...</td>\n",
       "      <td>0</td>\n",
       "      <td>42</td>\n",
       "      <td>0</td>\n",
       "      <td>0</td>\n",
       "      <td>0</td>\n",
       "      <td>0</td>\n",
       "      <td>0</td>\n",
       "      <td>9</td>\n",
       "      <td>2008</td>\n",
       "      <td>223500</td>\n",
       "    </tr>\n",
       "    <tr>\n",
       "      <th>3</th>\n",
       "      <td>70</td>\n",
       "      <td>9550</td>\n",
       "      <td>7</td>\n",
       "      <td>5</td>\n",
       "      <td>1915</td>\n",
       "      <td>1970</td>\n",
       "      <td>0.0</td>\n",
       "      <td>216</td>\n",
       "      <td>0</td>\n",
       "      <td>540</td>\n",
       "      <td>...</td>\n",
       "      <td>0</td>\n",
       "      <td>35</td>\n",
       "      <td>272</td>\n",
       "      <td>0</td>\n",
       "      <td>0</td>\n",
       "      <td>0</td>\n",
       "      <td>0</td>\n",
       "      <td>2</td>\n",
       "      <td>2006</td>\n",
       "      <td>140000</td>\n",
       "    </tr>\n",
       "    <tr>\n",
       "      <th>4</th>\n",
       "      <td>60</td>\n",
       "      <td>14260</td>\n",
       "      <td>8</td>\n",
       "      <td>5</td>\n",
       "      <td>2000</td>\n",
       "      <td>2000</td>\n",
       "      <td>350.0</td>\n",
       "      <td>655</td>\n",
       "      <td>0</td>\n",
       "      <td>490</td>\n",
       "      <td>...</td>\n",
       "      <td>192</td>\n",
       "      <td>84</td>\n",
       "      <td>0</td>\n",
       "      <td>0</td>\n",
       "      <td>0</td>\n",
       "      <td>0</td>\n",
       "      <td>0</td>\n",
       "      <td>12</td>\n",
       "      <td>2008</td>\n",
       "      <td>250000</td>\n",
       "    </tr>\n",
       "  </tbody>\n",
       "</table>\n",
       "<p>5 rows × 36 columns</p>\n",
       "</div>"
      ],
      "text/plain": [
       "   ms_sub_class  lot_area  overall_qual  overall_cond  year_built  \\\n",
       "0            60      8450             7             5        2003   \n",
       "1            20      9600             6             8        1976   \n",
       "2            60     11250             7             5        2001   \n",
       "3            70      9550             7             5        1915   \n",
       "4            60     14260             8             5        2000   \n",
       "\n",
       "   year_remod_add  mas_vnr_area  bsmt_fin_sf1  bsmt_fin_sf2  bsmt_unf_sf  ...  \\\n",
       "0            2003         196.0           706             0          150  ...   \n",
       "1            1976           0.0           978             0          284  ...   \n",
       "2            2002         162.0           486             0          434  ...   \n",
       "3            1970           0.0           216             0          540  ...   \n",
       "4            2000         350.0           655             0          490  ...   \n",
       "\n",
       "   wood_deck_sf  open_porch_sf  enclosed_porch  3_ssn_porch  screen_porch  \\\n",
       "0             0             61               0            0             0   \n",
       "1           298              0               0            0             0   \n",
       "2             0             42               0            0             0   \n",
       "3             0             35             272            0             0   \n",
       "4           192             84               0            0             0   \n",
       "\n",
       "   pool_area  misc_val  mo_sold  yr_sold  sale_price  \n",
       "0          0         0        2     2008      208500  \n",
       "1          0         0        5     2007      181500  \n",
       "2          0         0        9     2008      223500  \n",
       "3          0         0        2     2006      140000  \n",
       "4          0         0       12     2008      250000  \n",
       "\n",
       "[5 rows x 36 columns]"
      ]
     },
     "execution_count": 8,
     "metadata": {},
     "output_type": "execute_result"
    }
   ],
   "source": [
    "##### split numerical and categorical data\n",
    "num_cleaned_house_df = cleaned_house_df.select_dtypes(include=np.number)\n",
    "cat_cleaned_house_df = cleaned_house_df.select_dtypes(exclude=np.number)\n",
    "\n",
    "num_cleaned_house_df.head(5)"
   ]
  },
  {
   "cell_type": "code",
   "execution_count": 271,
   "metadata": {},
   "outputs": [
    {
     "data": {
      "application/vnd.plotly.v1+json": {
       "config": {
        "plotlyServerURL": "https://plot.ly"
       },
       "data": [
        {
         "coloraxis": "coloraxis",
         "hovertemplate": "x: %{x}<br>y: %{y}<br>color: %{z}<extra></extra>",
         "name": "0",
         "type": "heatmap",
         "x": [
          "ms_sub_class",
          "lot_area",
          "overall_cond",
          "year_built",
          "year_remod_add",
          "mas_vnr_area",
          "bsmt_fin_sf1",
          "bsmt_fin_sf2",
          "bsmt_unf_sf",
          "total_bsmt_sf",
          "1st_flr_sf",
          "2nd_flr_sf",
          "low_qual_fin_sf",
          "gr_liv_area",
          "bsmt_full_bath",
          "bsmt_half_bath",
          "full_bath",
          "half_bath",
          "bedroom_abv_gr",
          "kitchen_abv_gr",
          "tot_rms_abv_grd",
          "fireplaces",
          "garage_yr_blt",
          "garage_cars",
          "garage_area",
          "wood_deck_sf",
          "open_porch_sf",
          "enclosed_porch",
          "3_ssn_porch",
          "screen_porch",
          "pool_area",
          "misc_val",
          "mo_sold",
          "yr_sold",
          "sale_price"
         ],
         "xaxis": "x",
         "y": [
          "sale_price",
          "gr_liv_area",
          "garage_cars",
          "garage_area",
          "total_bsmt_sf",
          "1st_flr_sf",
          "full_bath",
          "tot_rms_abv_grd",
          "year_built",
          "year_remod_add",
          "garage_yr_blt",
          "mas_vnr_area",
          "fireplaces",
          "bsmt_fin_sf1",
          "wood_deck_sf",
          "2nd_flr_sf",
          "open_porch_sf",
          "half_bath",
          "lot_area",
          "bsmt_full_bath",
          "bsmt_unf_sf",
          "bedroom_abv_gr",
          "screen_porch",
          "pool_area",
          "mo_sold",
          "3_ssn_porch",
          "bsmt_fin_sf2",
          "bsmt_half_bath",
          "misc_val",
          "low_qual_fin_sf",
          "yr_sold",
          "overall_cond",
          "ms_sub_class",
          "enclosed_porch",
          "kitchen_abv_gr"
         ],
         "yaxis": "y",
         "z": [
          [
           -0.08428413512659509,
           0.2638433538714051,
           -0.07785589404867797,
           0.5228973328794967,
           0.5071009671113866,
           0.47749304709571444,
           0.3864198062421535,
           -0.011378121450215146,
           0.21447910554696928,
           0.6135805515591943,
           0.6058521846919153,
           0.31933380283206736,
           -0.02560613000067955,
           0.7086244776126515,
           0.22712223313149427,
           -0.01684415429735895,
           0.5606637627484453,
           0.28410767559478256,
           0.16821315430073963,
           -0.13590737084214105,
           0.5337231555820284,
           0.46692883675152763,
           0.4863616774878596,
           0.6404091972583519,
           0.6234314389183622,
           0.32441344456812926,
           0.31585622711605504,
           -0.1285779579259566,
           0.04458366533574838,
           0.11144657114291112,
           0.09240354949187318,
           -0.021189579640303213,
           0.046432245223819446,
           -0.028922585168736813,
           1
          ],
          [
           0.0748531796577994,
           0.26311616716714803,
           -0.07968586538833815,
           0.19900971367645826,
           0.2873885196503327,
           0.39085663973843854,
           0.20817113014532704,
           -0.009639891551805443,
           0.240257268349935,
           0.45486820254790317,
           0.5660239689357486,
           0.6875010641666033,
           0.13468281300660076,
           1,
           0.03483604954490554,
           -0.0189184831706347,
           0.6300116462511148,
           0.4157716361052652,
           0.5212695109189948,
           0.10006316473775474,
           0.8254893743088425,
           0.46167913376144704,
           0.23119674063336224,
           0.4672474187951873,
           0.4689974773229655,
           0.24743282051884846,
           0.33022396171200064,
           0.009113210326003087,
           0.020643189710186576,
           0.10151039568208567,
           0.1702053360005616,
           -0.0024156395502935623,
           0.05023968081827284,
           -0.03652581962473121,
           0.7086244776126515
          ],
          [
           -0.040109793135783604,
           0.15487073975354076,
           -0.18575751057836357,
           0.5378500917111052,
           0.42062215494321714,
           0.3642036400698656,
           0.22405352239399068,
           -0.038263512869251545,
           0.2141751897502169,
           0.43458483429168865,
           0.4393168079906709,
           0.18392558307638002,
           -0.09447952015593257,
           0.4672474187951873,
           0.13188122440619438,
           -0.02089105899687853,
           0.469672043267628,
           0.21917815216716094,
           0.08610643768835287,
           -0.05063389240221729,
           0.3622885708147746,
           0.3007887663013562,
           0.5889200070047002,
           1,
           0.882475414281462,
           0.2263421384698597,
           0.21356944558969115,
           -0.15143416002683724,
           0.035765285146453774,
           0.05049379192719834,
           0.020933531041465454,
           -0.04308012810223063,
           0.040521730128251755,
           -0.039116904112831495,
           0.6404091972583519
          ],
          [
           -0.09867154319256435,
           0.1804027551511169,
           -0.15152137057022985,
           0.4789538198934904,
           0.3715998094973092,
           0.37306648160023664,
           0.2969703853445138,
           -0.018226591907316552,
           0.18330269774258412,
           0.4866654637737961,
           0.4897816541041918,
           0.13834695857186657,
           -0.06760141323952208,
           0.4689974773229655,
           0.179189480420231,
           -0.02453557957887923,
           0.4056562084540099,
           0.1635493640166073,
           0.06525252989881626,
           -0.06443304718314395,
           0.33782212063683786,
           0.2691412380738719,
           0.5645670607230577,
           0.882475414281462,
           1,
           0.2246663071787637,
           0.2414346721380881,
           -0.1217767195610043,
           0.03508670020815975,
           0.05141176244520852,
           0.061047271702060014,
           -0.02739991441262488,
           0.02797379982354057,
           -0.027377940418545084,
           0.6234314389183622
          ],
          [
           -0.23851840931511895,
           0.2608331345451572,
           -0.1710975146249218,
           0.3914520020660952,
           0.2910655826041661,
           0.3639362217744723,
           0.5223960519923867,
           0.10480953760636813,
           0.4153596051815893,
           1,
           0.8195299750050339,
           -0.17451195013496046,
           -0.0332453873474563,
           0.45486820254790317,
           0.30735055373550346,
           -0.00031458181983374725,
           0.3237224136066502,
           -0.04880373863521248,
           0.05044995551267818,
           -0.06890064264201659,
           0.28557256372579454,
           0.33951932389865597,
           0.3224451736794739,
           0.43458483429168865,
           0.4866654637737961,
           0.23201860912901803,
           0.2472637462881078,
           -0.09547773670640776,
           0.03738372726300508,
           0.08448898591431157,
           0.12605313210083768,
           -0.018478922431472124,
           0.013196178616778433,
           -0.014968648018762356,
           0.6135805515591943
          ],
          [
           -0.25175835187837925,
           0.29947457850776266,
           -0.1442027840490591,
           0.2819858586998021,
           0.24037926760355463,
           0.3445007468899248,
           0.4458626560920054,
           0.0971174484566702,
           0.3179874383527259,
           0.8195299750050339,
           1,
           -0.20264618100232087,
           -0.014240672666431285,
           0.5660239689357486,
           0.24467110424771052,
           0.001955653582048656,
           0.3806374949735071,
           -0.11991590879396136,
           0.12740074939236454,
           0.06810058817691335,
           0.40951597886683183,
           0.41053108465984556,
           0.23344909271486267,
           0.4393168079906709,
           0.4897816541041918,
           0.23545862278369778,
           0.2116712254979847,
           -0.0652917009103091,
           0.05610437448487508,
           0.08875807262015682,
           0.13152497564028254,
           -0.021095719463122223,
           0.03137156035207926,
           -0.01360377050464661,
           0.6058521846919153
          ],
          [
           0.13160822241028108,
           0.1260306265196436,
           -0.1941494887493024,
           0.4682707871726737,
           0.4390464838723479,
           0.27683284723698837,
           0.058543136861595194,
           -0.07644386196518269,
           0.2888860554869108,
           0.3237224136066502,
           0.3806374949735071,
           0.4213779828759713,
           -0.0007095096206731084,
           0.6300116462511148,
           -0.06451204863131507,
           -0.054535811983635524,
           1,
           0.13638058874914522,
           0.36325198302327694,
           0.1331152141960393,
           0.5547842535334836,
           0.2436705030799116,
           0.4845573867195222,
           0.469672043267628,
           0.4056562084540099,
           0.18770321383582822,
           0.25997742546824865,
           -0.11509296346134239,
           0.03535301658385297,
           -0.00810609332811188,
           0.04960382558403366,
           -0.014289844970848111,
           0.055872128991723384,
           -0.019668840691520386,
           0.5606637627484453
          ],
          [
           0.04038006478367613,
           0.190014777625409,
           -0.057583166112865375,
           0.09558912829795185,
           0.1917398162928069,
           0.2806816946085068,
           0.044315623912920654,
           -0.03522654794752336,
           0.25064706137624926,
           0.28557256372579454,
           0.40951597886683183,
           0.6164226354915431,
           0.13118477598954745,
           0.8254893743088425,
           -0.0532752361233972,
           -0.023836341262220544,
           0.5547842535334836,
           0.3434148575409178,
           0.676619935742649,
           0.2560454085359489,
           1,
           0.3261144801772001,
           0.1481117155859651,
           0.3622885708147746,
           0.33782212063683786,
           0.16598388371493233,
           0.2341915878315988,
           0.004151299023856323,
           -0.006683241010939702,
           0.059382599559410935,
           0.0837573495149245,
           0.024762884163584138,
           0.036907077159844405,
           -0.03451635430218269,
           0.5337231555820284
          ],
          [
           0.027850136946705798,
           0.014227651757025093,
           -0.37598319560698945,
           1,
           0.5928549763436519,
           0.3157070624361963,
           0.24950319668479728,
           -0.049106831196239174,
           0.14904039195440058,
           0.3914520020660952,
           0.2819858586998021,
           0.010307659584364078,
           -0.18378434437372046,
           0.19900971367645826,
           0.1875985499971434,
           -0.03816180567123349,
           0.4682707871726737,
           0.2426559102410641,
           -0.07065121690473103,
           -0.17480024561497706,
           0.09558912829795185,
           0.14771639941245646,
           0.8256674841743408,
           0.5378500917111052,
           0.4789538198934904,
           0.22488014230399744,
           0.188685840001731,
           -0.3872677829280785,
           0.03135451306436603,
           -0.05036443453861205,
           0.004949727615942999,
           -0.03438313873672287,
           0.012398470595440986,
           -0.01361768000183213,
           0.5228973328794967
          ],
          [
           0.04058104478406425,
           0.013788427078155424,
           0.07374149814528905,
           0.5928549763436519,
           1,
           0.17961837073552223,
           0.12845054712828866,
           -0.06775851356598699,
           0.18113308705016903,
           0.2910655826041661,
           0.24037926760355463,
           0.14002377880486447,
           -0.06241910007833181,
           0.2873885196503327,
           0.11946987911123993,
           -0.012337032127797673,
           0.4390464838723479,
           0.1833306117185349,
           -0.040580928067749454,
           -0.14959752104274646,
           0.1917398162928069,
           0.11258131843947561,
           0.6422767797035356,
           0.42062215494321714,
           0.3715998094973092,
           0.20572592049010355,
           0.22629763268298944,
           -0.1939191470992078,
           0.045285809814976964,
           -0.038740010742610125,
           0.005829372037106204,
           -0.010286248783081431,
           0.02149000222687611,
           0.03574324712127364,
           0.5071009671113866
          ],
          [
           0.08507186950664718,
           -0.02494741866564254,
           -0.32429673252939795,
           0.8256674841743408,
           0.6422767797035356,
           0.2526907749903342,
           0.1534840980267781,
           -0.08801081541220088,
           0.19070827345893257,
           0.3224451736794739,
           0.23344909271486267,
           0.0708323397173792,
           -0.03636323404234127,
           0.23119674063336224,
           0.12455252442364974,
           -0.07746361238070294,
           0.4845573867195222,
           0.19678517580586272,
           -0.06451843698438452,
           -0.12441140157001684,
           0.1481117155859651,
           0.04682164840190421,
           1,
           0.5889200070047002,
           0.5645670607230577,
           0.22457699198793213,
           0.22842457877198022,
           -0.2970026030557314,
           0.023543689573665077,
           -0.07541751376190593,
           -0.01450067856370222,
           -0.032417457821261826,
           0.0053370257603695135,
           -0.0010142778712734348,
           0.4863616774878596
          ],
          [
           0.022936285894197328,
           0.10415982154021264,
           -0.1281011991656896,
           0.3157070624361963,
           0.17961837073552223,
           1,
           0.2647362647138685,
           -0.0723188482033582,
           0.11444206231380821,
           0.3639362217744723,
           0.3445007468899248,
           0.1745614734574279,
           -0.06907085606589286,
           0.39085663973843854,
           0.08530982868972814,
           0.026672828155103145,
           0.27683284723698837,
           0.20144394692967832,
           0.10282115127801787,
           -0.03761025181986861,
           0.2806816946085068,
           0.24906961283714313,
           0.2526907749903342,
           0.3642036400698656,
           0.37306648160023664,
           0.15971813436595433,
           0.1257027966825031,
           -0.11020383387243517,
           0.018795515294914033,
           0.06146554318732188,
           0.01172306121326672,
           -0.02981539358527878,
           -0.005964715509114298,
           -0.008201030967080006,
           0.47749304709571444
          ],
          [
           -0.04556934027456939,
           0.2713640096245418,
           -0.02381997776166212,
           0.14771639941245646,
           0.11258131843947561,
           0.24906961283714313,
           0.2600109202350403,
           0.04692070882601213,
           0.0515748822895418,
           0.33951932389865597,
           0.41053108465984556,
           0.19456089224132392,
           -0.02127214341393874,
           0.46167913376144704,
           0.1379277084271981,
           0.028975586646259963,
           0.2436705030799116,
           0.20364850809521917,
           0.10756968099132388,
           -0.12393623529689729,
           0.3261144801772001,
           1,
           0.04682164840190421,
           0.3007887663013562,
           0.2691412380738719,
           0.20001879575902368,
           0.16940532713120185,
           -0.02482186853706847,
           0.011257238992774959,
           0.18453026951684842,
           0.09507352203619863,
           0.0014086054430451757,
           0.04635710249771968,
           -0.024095564980725313,
           0.46692883675152763
          ],
          [
           -0.06983574916710049,
           0.21410313070557713,
           -0.04623085591822496,
           0.24950319668479728,
           0.12845054712828866,
           0.2647362647138685,
           1,
           -0.0501174000471511,
           -0.49525146925701125,
           0.5223960519923867,
           0.4458626560920054,
           -0.13707898608005356,
           -0.06450259692146844,
           0.20817113014532704,
           0.6492117535742649,
           0.06741847791011696,
           0.058543136861595194,
           0.004262424384486936,
           -0.10735467682307034,
           -0.08100685077857439,
           0.044315623912920654,
           0.2600109202350403,
           0.1534840980267781,
           0.22405352239399068,
           0.2969703853445138,
           0.20430614523740265,
           0.11176061335675101,
           -0.10230330550073197,
           0.026450506189898953,
           0.06202062266534991,
           0.1404912862549568,
           0.003571473474954695,
           -0.015726948262154667,
           0.014358922393909302,
           0.3864198062421535
          ],
          [
           -0.012579358249219592,
           0.17169768725711246,
           -0.0033336992893856225,
           0.22488014230399744,
           0.20572592049010355,
           0.15971813436595433,
           0.20430614523740265,
           0.06789832641361218,
           -0.005316424333062066,
           0.23201860912901803,
           0.23545862278369778,
           0.09216541758603868,
           -0.025443647988791077,
           0.24743282051884846,
           0.17531519007972224,
           0.04016122325953452,
           0.18770321383582822,
           0.10808030267536337,
           0.04685377306989394,
           -0.09013027267903444,
           0.16598388371493233,
           0.20001879575902368,
           0.22457699198793213,
           0.2263421384698597,
           0.2246663071787637,
           1,
           0.058660608565887375,
           -0.1259888880376007,
           -0.03277063359357436,
           -0.07418135123983237,
           0.07337820695645396,
           -0.009551228238372468,
           0.021011044294297315,
           0.022270451009253036,
           0.32441344456812926
          ],
          [
           0.30788572075985926,
           0.05098594829349377,
           0.028942115965816882,
           0.010307659584364078,
           0.14002377880486447,
           0.1745614734574279,
           -0.13707898608005356,
           -0.09926031602264425,
           0.004469092144542392,
           -0.17451195013496046,
           -0.20264618100232087,
           1,
           0.06335295010932271,
           0.6875010641666033,
           -0.16949395173099896,
           -0.023854783937045255,
           0.4213779828759713,
           0.6097073002717436,
           0.5029006133459056,
           0.05930575264821624,
           0.6164226354915431,
           0.19456089224132392,
           0.0708323397173792,
           0.18392558307638002,
           0.13834695857186657,
           0.09216541758603868,
           0.2080260631813579,
           0.06198869077325203,
           -0.02435764842204794,
           0.040606447641001006,
           0.08148687804909954,
           0.016196874604388505,
           0.035164427361791005,
           -0.02869991393529755,
           0.31933380283206736
          ],
          [
           -0.006100121231942238,
           0.08477380884021642,
           -0.03258881352158505,
           0.188685840001731,
           0.22629763268298944,
           0.1257027966825031,
           0.11176061335675101,
           0.003092562209894399,
           0.12900541461542128,
           0.2472637462881078,
           0.2116712254979847,
           0.2080260631813579,
           0.018251039053999052,
           0.33022396171200064,
           0.06734146137698176,
           -0.02532375788905772,
           0.25997742546824865,
           0.19974014751279254,
           0.09380957160591452,
           -0.07009060989258609,
           0.2341915878315988,
           0.16940532713120185,
           0.22842457877198022,
           0.21356944558969115,
           0.2414346721380881,
           0.058660608565887375,
           1,
           -0.09307931750864903,
           -0.005842499340135753,
           0.07430394385024312,
           0.060762111489925795,
           -0.018583738987649336,
           0.07125488475868938,
           -0.057619360142091326,
           0.31585622711605504
          ],
          [
           0.17735438864391687,
           0.014259468566431947,
           -0.06076932676159483,
           0.2426559102410641,
           0.1833306117185349,
           0.20144394692967832,
           0.004262424384486936,
           -0.032147837468965886,
           -0.04111753014455172,
           -0.04880373863521248,
           -0.11991590879396136,
           0.6097073002717436,
           -0.02708004931716945,
           0.4157716361052652,
           -0.030904959142533293,
           -0.012339900052275487,
           0.13638058874914522,
           1,
           0.22665148415094508,
           -0.06826254889694101,
           0.3434148575409178,
           0.20364850809521917,
           0.19678517580586272,
           0.21917815216716094,
           0.1635493640166073,
           0.10808030267536337,
           0.19974014751279254,
           -0.09531652573608992,
           -0.0049724884173161,
           0.0724258451703809,
           0.0223814980554099,
           0.0012901448492839542,
           -0.009049888212650292,
           -0.010268668868105917,
           0.28410767559478256
          ],
          [
           -0.13978108172014597,
           1,
           -0.005636270274099278,
           0.014227651757025093,
           0.013788427078155424,
           0.10415982154021264,
           0.21410313070557713,
           0.11116974549624871,
           -0.00261835995009543,
           0.2608331345451572,
           0.29947457850776266,
           0.05098594829349377,
           0.004778969866349555,
           0.26311616716714803,
           0.15815453106001476,
           0.04804557088829686,
           0.1260306265196436,
           0.014259468566431947,
           0.11968990815131542,
           -0.017783870504841995,
           0.190014777625409,
           0.2713640096245418,
           -0.02494741866564254,
           0.15487073975354076,
           0.1804027551511169,
           0.17169768725711246,
           0.08477380884021642,
           -0.018339733672212328,
           0.020422829586133416,
           0.04316037769525204,
           0.07767239188017444,
           0.03806769201918336,
           0.0012049882225877268,
           -0.01426140729855021,
           0.2638433538714051
          ],
          [
           0.003491025779044692,
           0.15815453106001476,
           -0.05494151543295185,
           0.1875985499971434,
           0.11946987911123993,
           0.08530982868972814,
           0.6492117535742649,
           0.15867806078170135,
           -0.42290047738321335,
           0.30735055373550346,
           0.24467110424771052,
           -0.16949395173099896,
           -0.047143421898259166,
           0.03483604954490554,
           1,
           -0.14787096054760138,
           -0.06451204863131507,
           -0.030904959142533293,
           -0.15067280920795623,
           -0.041502546431482885,
           -0.0532752361233972,
           0.1379277084271981,
           0.12455252442364974,
           0.13188122440619438,
           0.179189480420231,
           0.17531519007972224,
           0.06734146137698176,
           -0.049910649083753186,
           -0.00010609153998400853,
           0.023147725763573802,
           0.06761555618047507,
           -0.02304702486861695,
           -0.025360894315259907,
           0.06704913767140361,
           0.22712223313149427
          ],
          [
           -0.14075948083501172,
           -0.00261835995009543,
           -0.13684056989352233,
           0.14904039195440058,
           0.18113308705016903,
           0.11444206231380821,
           -0.49525146925701125,
           -0.20929449241994497,
           1,
           0.4153596051815893,
           0.3179874383527259,
           0.004469092144542392,
           0.028166688132741206,
           0.240257268349935,
           -0.42290047738321335,
           -0.09580428815248283,
           0.2888860554869108,
           -0.04111753014455172,
           0.16664331698696289,
           0.030085868314000126,
           0.25064706137624926,
           0.0515748822895418,
           0.19070827345893257,
           0.2141751897502169,
           0.18330269774258412,
           -0.005316424333062066,
           0.12900541461542128,
           -0.002537854589751547,
           0.02076400569654798,
           -0.012579273444256824,
           -0.035092240793657914,
           -0.023836645134507763,
           0.03488844300908206,
           -0.04125819493876721,
           0.21447910554696928
          ],
          [
           -0.02343802846062706,
           0.11968990815131542,
           0.012980060094550628,
           -0.07065121690473103,
           -0.040580928067749454,
           0.10282115127801787,
           -0.10735467682307034,
           -0.015728113626581035,
           0.16664331698696289,
           0.05044995551267818,
           0.12740074939236454,
           0.5029006133459056,
           0.10560656854090526,
           0.5212695109189948,
           -0.15067280920795623,
           0.046518848389950684,
           0.36325198302327694,
           0.22665148415094508,
           1,
           0.1985967577071338,
           0.676619935742649,
           0.10756968099132388,
           -0.06451843698438452,
           0.08610643768835287,
           0.06525252989881626,
           0.04685377306989394,
           0.09380957160591452,
           0.04157043451959824,
           -0.02447779636611455,
           0.044299691127134826,
           0.07070258356547471,
           0.007766971998717607,
           0.04654385993628238,
           -0.03601389283370446,
           0.16821315430073963
          ],
          [
           -0.026030176699806666,
           0.04316037769525204,
           0.05481052878611526,
           -0.05036443453861205,
           -0.038740010742610125,
           0.06146554318732188,
           0.06202062266534991,
           0.08887125137339073,
           -0.012579273444256824,
           0.08448898591431157,
           0.08875807262015682,
           0.040606447641001006,
           0.02679941302177244,
           0.10151039568208567,
           0.023147725763573802,
           0.03212140720908338,
           -0.00810609332811188,
           0.0724258451703809,
           0.044299691127134826,
           -0.05161336606147979,
           0.059382599559410935,
           0.18453026951684842,
           -0.07541751376190593,
           0.05049379192719834,
           0.05141176244520852,
           -0.07418135123983237,
           0.07430394385024312,
           -0.08286424483260343,
           -0.03143584703909575,
           1,
           0.05130739451790554,
           0.03194576077490817,
           0.023216991793307076,
           0.01069410600377114,
           0.11144657114291112
          ],
          [
           0.008282707579624416,
           0.07767239188017444,
           -0.0019849422681841354,
           0.004949727615942999,
           0.005829372037106204,
           0.01172306121326672,
           0.1404912862549568,
           0.041709054681333575,
           -0.035092240793657914,
           0.12605313210083768,
           0.13152497564028254,
           0.08148687804909954,
           0.06215737226918922,
           0.1702053360005616,
           0.06761555618047507,
           0.02002462983851695,
           0.04960382558403366,
           0.0223814980554099,
           0.07070258356547471,
           -0.014525116015980777,
           0.0837573495149245,
           0.09507352203619863,
           -0.01450067856370222,
           0.020933531041465454,
           0.061047271702060014,
           0.07337820695645396,
           0.060762111489925795,
           0.05420256229213969,
           -0.00799154887286895,
           0.05130739451790554,
           1,
           0.02966865085402175,
           -0.033736640262791315,
           -0.0596889316752469,
           0.09240354949187318
          ],
          [
           -0.013584643238322348,
           0.0012049882225877268,
           -0.003510838599939743,
           0.012398470595440986,
           0.02149000222687611,
           -0.005964715509114298,
           -0.015726948262154667,
           -0.015210737972006668,
           0.03488844300908206,
           0.013196178616778433,
           0.03137156035207926,
           0.035164427361791005,
           -0.02217396057953783,
           0.05023968081827284,
           -0.025360894315259907,
           0.03287270523409066,
           0.055872128991723384,
           -0.009049888212650292,
           0.04654385993628238,
           0.026588907230915452,
           0.036907077159844405,
           0.04635710249771968,
           0.0053370257603695135,
           0.040521730128251755,
           0.02797379982354057,
           0.021011044294297315,
           0.07125488475868938,
           -0.028887265707142493,
           0.02947379524994019,
           0.023216991793307076,
           -0.033736640262791315,
           -0.006494550221282175,
           1,
           -0.1457214126753949,
           0.046432245223819446
          ],
          [
           -0.04382454917560846,
           0.020422829586133416,
           0.025503660024132138,
           0.03135451306436603,
           0.045285809814976964,
           0.018795515294914033,
           0.026450506189898953,
           -0.029993397993921023,
           0.02076400569654798,
           0.03738372726300508,
           0.05610437448487508,
           -0.02435764842204794,
           -0.004295610410300094,
           0.020643189710186576,
           -0.00010609153998400853,
           0.035113630886772336,
           0.03535301658385297,
           -0.0049724884173161,
           -0.02447779636611455,
           -0.024600358690531954,
           -0.006683241010939702,
           0.011257238992774959,
           0.023543689573665077,
           0.035765285146453774,
           0.03508670020815975,
           -0.03277063359357436,
           -0.005842499340135753,
           -0.03730528278804611,
           1,
           -0.03143584703909575,
           -0.00799154887286895,
           0.00035396527793940183,
           0.02947379524994019,
           0.01864492540475066,
           0.04458366533574838
          ],
          [
           -0.06564857918852389,
           0.11116974549624871,
           0.040229169899767575,
           -0.049106831196239174,
           -0.06775851356598699,
           -0.0723188482033582,
           -0.0501174000471511,
           1,
           -0.20929449241994497,
           0.10480953760636813,
           0.0971174484566702,
           -0.09926031602264425,
           0.01480699794683367,
           -0.009639891551805443,
           0.15867806078170135,
           0.07094813365590413,
           -0.07644386196518269,
           -0.032147837468965886,
           -0.015728113626581035,
           -0.04075123644840764,
           -0.03522654794752336,
           0.04692070882601213,
           -0.08801081541220088,
           -0.038263512869251545,
           -0.018226591907316552,
           0.06789832641361218,
           0.003092562209894399,
           0.036543339448210164,
           -0.029993397993921023,
           0.08887125137339073,
           0.041709054681333575,
           0.004939781228437705,
           -0.015210737972006668,
           0.03170563698487945,
           -0.011378121450215146
          ],
          [
           -0.0023325345518022773,
           0.04804557088829686,
           0.11782091508139253,
           -0.03816180567123349,
           -0.012337032127797673,
           0.026672828155103145,
           0.06741847791011696,
           0.07094813365590413,
           -0.09580428815248283,
           -0.00031458181983374725,
           0.001955653582048656,
           -0.023854783937045255,
           -0.005841504819311643,
           -0.0189184831706347,
           -0.14787096054760138,
           1,
           -0.054535811983635524,
           -0.012339900052275487,
           0.046518848389950684,
           -0.03794435022720086,
           -0.023836341262220544,
           0.028975586646259963,
           -0.07746361238070294,
           -0.02089105899687853,
           -0.02453557957887923,
           0.04016122325953452,
           -0.02532375788905772,
           -0.008555333868578032,
           0.035113630886772336,
           0.03212140720908338,
           0.02002462983851695,
           -0.007366524543625446,
           0.03287270523409066,
           -0.04652388177400862,
           -0.01684415429735895
          ],
          [
           -0.007683291329865976,
           0.03806769201918336,
           0.0687768060572499,
           -0.03438313873672287,
           -0.010286248783081431,
           -0.02981539358527878,
           0.003571473474954695,
           0.004939781228437705,
           -0.023836645134507763,
           -0.018478922431472124,
           -0.021095719463122223,
           0.016196874604388505,
           -0.003792870779996453,
           -0.0024156395502935623,
           -0.02304702486861695,
           -0.007366524543625446,
           -0.014289844970848111,
           0.0012901448492839542,
           0.007766971998717607,
           0.062340724004379115,
           0.024762884163584138,
           0.0014086054430451757,
           -0.032417457821261826,
           -0.04308012810223063,
           -0.02739991441262488,
           -0.009551228238372468,
           -0.018583738987649336,
           0.018360600139447715,
           0.00035396527793940183,
           0.03194576077490817,
           0.02966865085402175,
           1,
           -0.006494550221282175,
           0.004906262452651876,
           -0.021189579640303213
          ],
          [
           0.046473755899517154,
           0.004778969866349555,
           0.025494319914213383,
           -0.18378434437372046,
           -0.06241910007833181,
           -0.06907085606589286,
           -0.06450259692146844,
           0.01480699794683367,
           0.028166688132741206,
           -0.0332453873474563,
           -0.014240672666431285,
           0.06335295010932271,
           1,
           0.13468281300660076,
           -0.047143421898259166,
           -0.005841504819311643,
           -0.0007095096206731084,
           -0.02708004931716945,
           0.10560656854090526,
           0.007521744344233734,
           0.13118477598954745,
           -0.02127214341393874,
           -0.03636323404234127,
           -0.09447952015593257,
           -0.06760141323952208,
           -0.025443647988791077,
           0.018251039053999052,
           0.06108123777122687,
           -0.004295610410300094,
           0.02679941302177244,
           0.06215737226918922,
           -0.003792870779996453,
           -0.02217396057953783,
           -0.028920879782296086,
           -0.02560613000067955
          ],
          [
           -0.02140703785109821,
           -0.01426140729855021,
           0.043949745692488544,
           -0.01361768000183213,
           0.03574324712127364,
           -0.008201030967080006,
           0.014358922393909302,
           0.03170563698487945,
           -0.04125819493876721,
           -0.014968648018762356,
           -0.01360377050464661,
           -0.02869991393529755,
           -0.028920879782296086,
           -0.03652581962473121,
           0.06704913767140361,
           -0.04652388177400862,
           -0.019668840691520386,
           -0.010268668868105917,
           -0.03601389283370446,
           0.031687206500669154,
           -0.03451635430218269,
           -0.024095564980725313,
           -0.0010142778712734348,
           -0.039116904112831495,
           -0.027377940418545084,
           0.022270451009253036,
           -0.057619360142091326,
           -0.009915936955524396,
           0.01864492540475066,
           0.01069410600377114,
           -0.0596889316752469,
           0.004906262452651876,
           -0.1457214126753949,
           1,
           -0.028922585168736813
          ],
          [
           -0.059315817084104695,
           -0.005636270274099278,
           1,
           -0.37598319560698945,
           0.07374149814528905,
           -0.1281011991656896,
           -0.04623085591822496,
           0.040229169899767575,
           -0.13684056989352233,
           -0.1710975146249218,
           -0.1442027840490591,
           0.028942115965816882,
           0.025494319914213383,
           -0.07968586538833815,
           -0.05494151543295185,
           0.11782091508139253,
           -0.1941494887493024,
           -0.06076932676159483,
           0.012980060094550628,
           -0.08700085543638039,
           -0.057583166112865375,
           -0.02381997776166212,
           -0.32429673252939795,
           -0.18575751057836357,
           -0.15152137057022985,
           -0.0033336992893856225,
           -0.03258881352158505,
           0.07035618448230374,
           0.025503660024132138,
           0.05481052878611526,
           -0.0019849422681841354,
           0.0687768060572499,
           -0.003510838599939743,
           0.043949745692488544,
           -0.07785589404867797
          ],
          [
           1,
           -0.13978108172014597,
           -0.059315817084104695,
           0.027850136946705798,
           0.04058104478406425,
           0.022936285894197328,
           -0.06983574916710049,
           -0.06564857918852389,
           -0.14075948083501172,
           -0.23851840931511895,
           -0.25175835187837925,
           0.30788572075985926,
           0.046473755899517154,
           0.0748531796577994,
           0.003491025779044692,
           -0.0023325345518022773,
           0.13160822241028108,
           0.17735438864391687,
           -0.02343802846062706,
           0.2817210402648814,
           0.04038006478367613,
           -0.04556934027456939,
           0.08507186950664718,
           -0.040109793135783604,
           -0.09867154319256435,
           -0.012579358249219592,
           -0.006100121231942238,
           -0.012036621902094771,
           -0.04382454917560846,
           -0.026030176699806666,
           0.008282707579624416,
           -0.007683291329865976,
           -0.013584643238322348,
           -0.02140703785109821,
           -0.08428413512659509
          ],
          [
           -0.012036621902094771,
           -0.018339733672212328,
           0.07035618448230374,
           -0.3872677829280785,
           -0.1939191470992078,
           -0.11020383387243517,
           -0.10230330550073197,
           0.036543339448210164,
           -0.002537854589751547,
           -0.09547773670640776,
           -0.0652917009103091,
           0.06198869077325203,
           0.06108123777122687,
           0.009113210326003087,
           -0.049910649083753186,
           -0.008555333868578032,
           -0.11509296346134239,
           -0.09531652573608992,
           0.04157043451959824,
           0.03731238503296963,
           0.004151299023856323,
           -0.02482186853706847,
           -0.2970026030557314,
           -0.15143416002683724,
           -0.1217767195610043,
           -0.1259888880376007,
           -0.09307931750864903,
           1,
           -0.03730528278804611,
           -0.08286424483260343,
           0.05420256229213969,
           0.018360600139447715,
           -0.028887265707142493,
           -0.009915936955524396,
           -0.1285779579259566
          ],
          [
           0.2817210402648814,
           -0.017783870504841995,
           -0.08700085543638039,
           -0.17480024561497706,
           -0.14959752104274646,
           -0.03761025181986861,
           -0.08100685077857439,
           -0.04075123644840764,
           0.030085868314000126,
           -0.06890064264201659,
           0.06810058817691335,
           0.05930575264821624,
           0.007521744344233734,
           0.10006316473775474,
           -0.041502546431482885,
           -0.03794435022720086,
           0.1331152141960393,
           -0.06826254889694101,
           0.1985967577071338,
           1,
           0.2560454085359489,
           -0.12393623529689729,
           -0.12441140157001684,
           -0.05063389240221729,
           -0.06443304718314395,
           -0.09013027267903444,
           -0.07009060989258609,
           0.03731238503296963,
           -0.024600358690531954,
           -0.05161336606147979,
           -0.014525116015980777,
           0.062340724004379115,
           0.026588907230915452,
           0.031687206500669154,
           -0.13590737084214105
          ]
         ]
        }
       ],
       "layout": {
        "coloraxis": {
         "colorscale": [
          [
           0,
           "#0d0887"
          ],
          [
           0.1111111111111111,
           "#46039f"
          ],
          [
           0.2222222222222222,
           "#7201a8"
          ],
          [
           0.3333333333333333,
           "#9c179e"
          ],
          [
           0.4444444444444444,
           "#bd3786"
          ],
          [
           0.5555555555555556,
           "#d8576b"
          ],
          [
           0.6666666666666666,
           "#ed7953"
          ],
          [
           0.7777777777777778,
           "#fb9f3a"
          ],
          [
           0.8888888888888888,
           "#fdca26"
          ],
          [
           1,
           "#f0f921"
          ]
         ]
        },
        "margin": {
         "t": 60
        },
        "template": {
         "data": {
          "bar": [
           {
            "error_x": {
             "color": "#2a3f5f"
            },
            "error_y": {
             "color": "#2a3f5f"
            },
            "marker": {
             "line": {
              "color": "#E5ECF6",
              "width": 0.5
             },
             "pattern": {
              "fillmode": "overlay",
              "size": 10,
              "solidity": 0.2
             }
            },
            "type": "bar"
           }
          ],
          "barpolar": [
           {
            "marker": {
             "line": {
              "color": "#E5ECF6",
              "width": 0.5
             },
             "pattern": {
              "fillmode": "overlay",
              "size": 10,
              "solidity": 0.2
             }
            },
            "type": "barpolar"
           }
          ],
          "carpet": [
           {
            "aaxis": {
             "endlinecolor": "#2a3f5f",
             "gridcolor": "white",
             "linecolor": "white",
             "minorgridcolor": "white",
             "startlinecolor": "#2a3f5f"
            },
            "baxis": {
             "endlinecolor": "#2a3f5f",
             "gridcolor": "white",
             "linecolor": "white",
             "minorgridcolor": "white",
             "startlinecolor": "#2a3f5f"
            },
            "type": "carpet"
           }
          ],
          "choropleth": [
           {
            "colorbar": {
             "outlinewidth": 0,
             "ticks": ""
            },
            "type": "choropleth"
           }
          ],
          "contour": [
           {
            "colorbar": {
             "outlinewidth": 0,
             "ticks": ""
            },
            "colorscale": [
             [
              0,
              "#0d0887"
             ],
             [
              0.1111111111111111,
              "#46039f"
             ],
             [
              0.2222222222222222,
              "#7201a8"
             ],
             [
              0.3333333333333333,
              "#9c179e"
             ],
             [
              0.4444444444444444,
              "#bd3786"
             ],
             [
              0.5555555555555556,
              "#d8576b"
             ],
             [
              0.6666666666666666,
              "#ed7953"
             ],
             [
              0.7777777777777778,
              "#fb9f3a"
             ],
             [
              0.8888888888888888,
              "#fdca26"
             ],
             [
              1,
              "#f0f921"
             ]
            ],
            "type": "contour"
           }
          ],
          "contourcarpet": [
           {
            "colorbar": {
             "outlinewidth": 0,
             "ticks": ""
            },
            "type": "contourcarpet"
           }
          ],
          "heatmap": [
           {
            "colorbar": {
             "outlinewidth": 0,
             "ticks": ""
            },
            "colorscale": [
             [
              0,
              "#0d0887"
             ],
             [
              0.1111111111111111,
              "#46039f"
             ],
             [
              0.2222222222222222,
              "#7201a8"
             ],
             [
              0.3333333333333333,
              "#9c179e"
             ],
             [
              0.4444444444444444,
              "#bd3786"
             ],
             [
              0.5555555555555556,
              "#d8576b"
             ],
             [
              0.6666666666666666,
              "#ed7953"
             ],
             [
              0.7777777777777778,
              "#fb9f3a"
             ],
             [
              0.8888888888888888,
              "#fdca26"
             ],
             [
              1,
              "#f0f921"
             ]
            ],
            "type": "heatmap"
           }
          ],
          "heatmapgl": [
           {
            "colorbar": {
             "outlinewidth": 0,
             "ticks": ""
            },
            "colorscale": [
             [
              0,
              "#0d0887"
             ],
             [
              0.1111111111111111,
              "#46039f"
             ],
             [
              0.2222222222222222,
              "#7201a8"
             ],
             [
              0.3333333333333333,
              "#9c179e"
             ],
             [
              0.4444444444444444,
              "#bd3786"
             ],
             [
              0.5555555555555556,
              "#d8576b"
             ],
             [
              0.6666666666666666,
              "#ed7953"
             ],
             [
              0.7777777777777778,
              "#fb9f3a"
             ],
             [
              0.8888888888888888,
              "#fdca26"
             ],
             [
              1,
              "#f0f921"
             ]
            ],
            "type": "heatmapgl"
           }
          ],
          "histogram": [
           {
            "marker": {
             "pattern": {
              "fillmode": "overlay",
              "size": 10,
              "solidity": 0.2
             }
            },
            "type": "histogram"
           }
          ],
          "histogram2d": [
           {
            "colorbar": {
             "outlinewidth": 0,
             "ticks": ""
            },
            "colorscale": [
             [
              0,
              "#0d0887"
             ],
             [
              0.1111111111111111,
              "#46039f"
             ],
             [
              0.2222222222222222,
              "#7201a8"
             ],
             [
              0.3333333333333333,
              "#9c179e"
             ],
             [
              0.4444444444444444,
              "#bd3786"
             ],
             [
              0.5555555555555556,
              "#d8576b"
             ],
             [
              0.6666666666666666,
              "#ed7953"
             ],
             [
              0.7777777777777778,
              "#fb9f3a"
             ],
             [
              0.8888888888888888,
              "#fdca26"
             ],
             [
              1,
              "#f0f921"
             ]
            ],
            "type": "histogram2d"
           }
          ],
          "histogram2dcontour": [
           {
            "colorbar": {
             "outlinewidth": 0,
             "ticks": ""
            },
            "colorscale": [
             [
              0,
              "#0d0887"
             ],
             [
              0.1111111111111111,
              "#46039f"
             ],
             [
              0.2222222222222222,
              "#7201a8"
             ],
             [
              0.3333333333333333,
              "#9c179e"
             ],
             [
              0.4444444444444444,
              "#bd3786"
             ],
             [
              0.5555555555555556,
              "#d8576b"
             ],
             [
              0.6666666666666666,
              "#ed7953"
             ],
             [
              0.7777777777777778,
              "#fb9f3a"
             ],
             [
              0.8888888888888888,
              "#fdca26"
             ],
             [
              1,
              "#f0f921"
             ]
            ],
            "type": "histogram2dcontour"
           }
          ],
          "mesh3d": [
           {
            "colorbar": {
             "outlinewidth": 0,
             "ticks": ""
            },
            "type": "mesh3d"
           }
          ],
          "parcoords": [
           {
            "line": {
             "colorbar": {
              "outlinewidth": 0,
              "ticks": ""
             }
            },
            "type": "parcoords"
           }
          ],
          "pie": [
           {
            "automargin": true,
            "type": "pie"
           }
          ],
          "scatter": [
           {
            "fillpattern": {
             "fillmode": "overlay",
             "size": 10,
             "solidity": 0.2
            },
            "type": "scatter"
           }
          ],
          "scatter3d": [
           {
            "line": {
             "colorbar": {
              "outlinewidth": 0,
              "ticks": ""
             }
            },
            "marker": {
             "colorbar": {
              "outlinewidth": 0,
              "ticks": ""
             }
            },
            "type": "scatter3d"
           }
          ],
          "scattercarpet": [
           {
            "marker": {
             "colorbar": {
              "outlinewidth": 0,
              "ticks": ""
             }
            },
            "type": "scattercarpet"
           }
          ],
          "scattergeo": [
           {
            "marker": {
             "colorbar": {
              "outlinewidth": 0,
              "ticks": ""
             }
            },
            "type": "scattergeo"
           }
          ],
          "scattergl": [
           {
            "marker": {
             "colorbar": {
              "outlinewidth": 0,
              "ticks": ""
             }
            },
            "type": "scattergl"
           }
          ],
          "scattermapbox": [
           {
            "marker": {
             "colorbar": {
              "outlinewidth": 0,
              "ticks": ""
             }
            },
            "type": "scattermapbox"
           }
          ],
          "scatterpolar": [
           {
            "marker": {
             "colorbar": {
              "outlinewidth": 0,
              "ticks": ""
             }
            },
            "type": "scatterpolar"
           }
          ],
          "scatterpolargl": [
           {
            "marker": {
             "colorbar": {
              "outlinewidth": 0,
              "ticks": ""
             }
            },
            "type": "scatterpolargl"
           }
          ],
          "scatterternary": [
           {
            "marker": {
             "colorbar": {
              "outlinewidth": 0,
              "ticks": ""
             }
            },
            "type": "scatterternary"
           }
          ],
          "surface": [
           {
            "colorbar": {
             "outlinewidth": 0,
             "ticks": ""
            },
            "colorscale": [
             [
              0,
              "#0d0887"
             ],
             [
              0.1111111111111111,
              "#46039f"
             ],
             [
              0.2222222222222222,
              "#7201a8"
             ],
             [
              0.3333333333333333,
              "#9c179e"
             ],
             [
              0.4444444444444444,
              "#bd3786"
             ],
             [
              0.5555555555555556,
              "#d8576b"
             ],
             [
              0.6666666666666666,
              "#ed7953"
             ],
             [
              0.7777777777777778,
              "#fb9f3a"
             ],
             [
              0.8888888888888888,
              "#fdca26"
             ],
             [
              1,
              "#f0f921"
             ]
            ],
            "type": "surface"
           }
          ],
          "table": [
           {
            "cells": {
             "fill": {
              "color": "#EBF0F8"
             },
             "line": {
              "color": "white"
             }
            },
            "header": {
             "fill": {
              "color": "#C8D4E3"
             },
             "line": {
              "color": "white"
             }
            },
            "type": "table"
           }
          ]
         },
         "layout": {
          "annotationdefaults": {
           "arrowcolor": "#2a3f5f",
           "arrowhead": 0,
           "arrowwidth": 1
          },
          "autotypenumbers": "strict",
          "coloraxis": {
           "colorbar": {
            "outlinewidth": 0,
            "ticks": ""
           }
          },
          "colorscale": {
           "diverging": [
            [
             0,
             "#8e0152"
            ],
            [
             0.1,
             "#c51b7d"
            ],
            [
             0.2,
             "#de77ae"
            ],
            [
             0.3,
             "#f1b6da"
            ],
            [
             0.4,
             "#fde0ef"
            ],
            [
             0.5,
             "#f7f7f7"
            ],
            [
             0.6,
             "#e6f5d0"
            ],
            [
             0.7,
             "#b8e186"
            ],
            [
             0.8,
             "#7fbc41"
            ],
            [
             0.9,
             "#4d9221"
            ],
            [
             1,
             "#276419"
            ]
           ],
           "sequential": [
            [
             0,
             "#0d0887"
            ],
            [
             0.1111111111111111,
             "#46039f"
            ],
            [
             0.2222222222222222,
             "#7201a8"
            ],
            [
             0.3333333333333333,
             "#9c179e"
            ],
            [
             0.4444444444444444,
             "#bd3786"
            ],
            [
             0.5555555555555556,
             "#d8576b"
            ],
            [
             0.6666666666666666,
             "#ed7953"
            ],
            [
             0.7777777777777778,
             "#fb9f3a"
            ],
            [
             0.8888888888888888,
             "#fdca26"
            ],
            [
             1,
             "#f0f921"
            ]
           ],
           "sequentialminus": [
            [
             0,
             "#0d0887"
            ],
            [
             0.1111111111111111,
             "#46039f"
            ],
            [
             0.2222222222222222,
             "#7201a8"
            ],
            [
             0.3333333333333333,
             "#9c179e"
            ],
            [
             0.4444444444444444,
             "#bd3786"
            ],
            [
             0.5555555555555556,
             "#d8576b"
            ],
            [
             0.6666666666666666,
             "#ed7953"
            ],
            [
             0.7777777777777778,
             "#fb9f3a"
            ],
            [
             0.8888888888888888,
             "#fdca26"
            ],
            [
             1,
             "#f0f921"
            ]
           ]
          },
          "colorway": [
           "#636efa",
           "#EF553B",
           "#00cc96",
           "#ab63fa",
           "#FFA15A",
           "#19d3f3",
           "#FF6692",
           "#B6E880",
           "#FF97FF",
           "#FECB52"
          ],
          "font": {
           "color": "#2a3f5f"
          },
          "geo": {
           "bgcolor": "white",
           "lakecolor": "white",
           "landcolor": "#E5ECF6",
           "showlakes": true,
           "showland": true,
           "subunitcolor": "white"
          },
          "hoverlabel": {
           "align": "left"
          },
          "hovermode": "closest",
          "mapbox": {
           "style": "light"
          },
          "paper_bgcolor": "white",
          "plot_bgcolor": "#E5ECF6",
          "polar": {
           "angularaxis": {
            "gridcolor": "white",
            "linecolor": "white",
            "ticks": ""
           },
           "bgcolor": "#E5ECF6",
           "radialaxis": {
            "gridcolor": "white",
            "linecolor": "white",
            "ticks": ""
           }
          },
          "scene": {
           "xaxis": {
            "backgroundcolor": "#E5ECF6",
            "gridcolor": "white",
            "gridwidth": 2,
            "linecolor": "white",
            "showbackground": true,
            "ticks": "",
            "zerolinecolor": "white"
           },
           "yaxis": {
            "backgroundcolor": "#E5ECF6",
            "gridcolor": "white",
            "gridwidth": 2,
            "linecolor": "white",
            "showbackground": true,
            "ticks": "",
            "zerolinecolor": "white"
           },
           "zaxis": {
            "backgroundcolor": "#E5ECF6",
            "gridcolor": "white",
            "gridwidth": 2,
            "linecolor": "white",
            "showbackground": true,
            "ticks": "",
            "zerolinecolor": "white"
           }
          },
          "shapedefaults": {
           "line": {
            "color": "#2a3f5f"
           }
          },
          "ternary": {
           "aaxis": {
            "gridcolor": "white",
            "linecolor": "white",
            "ticks": ""
           },
           "baxis": {
            "gridcolor": "white",
            "linecolor": "white",
            "ticks": ""
           },
           "bgcolor": "#E5ECF6",
           "caxis": {
            "gridcolor": "white",
            "linecolor": "white",
            "ticks": ""
           }
          },
          "title": {
           "x": 0.05
          },
          "xaxis": {
           "automargin": true,
           "gridcolor": "white",
           "linecolor": "white",
           "ticks": "",
           "title": {
            "standoff": 15
           },
           "zerolinecolor": "white",
           "zerolinewidth": 2
          },
          "yaxis": {
           "automargin": true,
           "gridcolor": "white",
           "linecolor": "white",
           "ticks": "",
           "title": {
            "standoff": 15
           },
           "zerolinecolor": "white",
           "zerolinewidth": 2
          }
         }
        },
        "title": {
         "text": "Fig_1a: Pearson Correlation Heatmap"
        },
        "xaxis": {
         "anchor": "y",
         "constrain": "domain",
         "domain": [
          0,
          1
         ],
         "scaleanchor": "y",
         "title": {
          "text": "Feature Names"
         }
        },
        "yaxis": {
         "anchor": "x",
         "autorange": "reversed",
         "constrain": "domain",
         "domain": [
          0,
          1
         ],
         "title": {
          "text": "Feature Names"
         }
        }
       }
      }
     },
     "metadata": {},
     "output_type": "display_data"
    }
   ],
   "source": [
    "corr_matrix = num_cleaned_house_df.corr().sort_values(\"sale_price\", ascending=False)\n",
    "corr_matrix = corr_matrix.drop(columns=[\"overall_qual\"]).drop(index=[\"overall_qual\"])\n",
    "\n",
    "fig_1a = px.imshow(corr_matrix)\n",
    "\n",
    "fig_1a.update_xaxes(title_text=\"Feature Names\")\n",
    "fig_1a.update_yaxes(title_text=\"Feature Names\")\n",
    "fig_1a.update_layout(title_text=\"Fig_1a: Pearson Correlation Heatmap\")\n",
    "fig_1a.show()"
   ]
  },
  {
   "cell_type": "markdown",
   "metadata": {},
   "source": [
    "Fig_1a shows the heatmap of Pearson correlation matrix for features with numerical data type. The correlation compares two features at a time, and the correlation values can range from -1 to 1. When two features are negatively correlated, an increase in one feature decreases the other feature. On the other hand, when two features are positively correlated, an increase in one feature increases the other feature. A 0 correlation value means that the two features are not correlated, hence any increase or decrease in one feature does not affect the other feature.\n",
    "\n",
    "The right most column of the heatmap shows how sale price is correlated to other feature. These values are extracted and plotted in Fig_1b."
   ]
  },
  {
   "cell_type": "code",
   "execution_count": 272,
   "metadata": {},
   "outputs": [
    {
     "data": {
      "application/vnd.plotly.v1+json": {
       "config": {
        "plotlyServerURL": "https://plot.ly"
       },
       "data": [
        {
         "hovertemplate": "x=%{x}<br>y=%{y}<extra></extra>",
         "legendgroup": "",
         "marker": {
          "color": "#636efa",
          "symbol": "circle"
         },
         "mode": "markers",
         "name": "",
         "orientation": "v",
         "showlegend": false,
         "type": "scatter",
         "x": [
          "sale_price",
          "gr_liv_area",
          "garage_cars",
          "garage_area",
          "total_bsmt_sf",
          "1st_flr_sf",
          "full_bath",
          "tot_rms_abv_grd",
          "year_built",
          "year_remod_add",
          "garage_yr_blt",
          "mas_vnr_area",
          "fireplaces",
          "bsmt_fin_sf1",
          "wood_deck_sf",
          "2nd_flr_sf",
          "open_porch_sf",
          "half_bath",
          "lot_area",
          "bsmt_full_bath",
          "bsmt_unf_sf",
          "bedroom_abv_gr",
          "screen_porch",
          "pool_area",
          "mo_sold",
          "3_ssn_porch",
          "bsmt_fin_sf2",
          "bsmt_half_bath",
          "misc_val",
          "low_qual_fin_sf",
          "yr_sold",
          "overall_cond",
          "ms_sub_class",
          "enclosed_porch",
          "kitchen_abv_gr"
         ],
         "xaxis": "x",
         "y": [
          1,
          0.7086244776126515,
          0.6404091972583519,
          0.6234314389183622,
          0.6135805515591943,
          0.6058521846919153,
          0.5606637627484453,
          0.5337231555820284,
          0.5228973328794967,
          0.5071009671113866,
          0.4863616774878596,
          0.47749304709571444,
          0.46692883675152763,
          0.3864198062421535,
          0.32441344456812926,
          0.31933380283206736,
          0.31585622711605504,
          0.28410767559478256,
          0.2638433538714051,
          0.22712223313149427,
          0.21447910554696928,
          0.16821315430073963,
          0.11144657114291112,
          0.09240354949187318,
          0.046432245223819446,
          0.04458366533574838,
          -0.011378121450215146,
          -0.01684415429735895,
          -0.021189579640303213,
          -0.02560613000067955,
          -0.028922585168736813,
          -0.07785589404867797,
          -0.08428413512659509,
          -0.1285779579259566,
          -0.13590737084214105
         ],
         "yaxis": "y"
        }
       ],
       "layout": {
        "legend": {
         "tracegroupgap": 0
        },
        "margin": {
         "t": 60
        },
        "template": {
         "data": {
          "bar": [
           {
            "error_x": {
             "color": "#2a3f5f"
            },
            "error_y": {
             "color": "#2a3f5f"
            },
            "marker": {
             "line": {
              "color": "#E5ECF6",
              "width": 0.5
             },
             "pattern": {
              "fillmode": "overlay",
              "size": 10,
              "solidity": 0.2
             }
            },
            "type": "bar"
           }
          ],
          "barpolar": [
           {
            "marker": {
             "line": {
              "color": "#E5ECF6",
              "width": 0.5
             },
             "pattern": {
              "fillmode": "overlay",
              "size": 10,
              "solidity": 0.2
             }
            },
            "type": "barpolar"
           }
          ],
          "carpet": [
           {
            "aaxis": {
             "endlinecolor": "#2a3f5f",
             "gridcolor": "white",
             "linecolor": "white",
             "minorgridcolor": "white",
             "startlinecolor": "#2a3f5f"
            },
            "baxis": {
             "endlinecolor": "#2a3f5f",
             "gridcolor": "white",
             "linecolor": "white",
             "minorgridcolor": "white",
             "startlinecolor": "#2a3f5f"
            },
            "type": "carpet"
           }
          ],
          "choropleth": [
           {
            "colorbar": {
             "outlinewidth": 0,
             "ticks": ""
            },
            "type": "choropleth"
           }
          ],
          "contour": [
           {
            "colorbar": {
             "outlinewidth": 0,
             "ticks": ""
            },
            "colorscale": [
             [
              0,
              "#0d0887"
             ],
             [
              0.1111111111111111,
              "#46039f"
             ],
             [
              0.2222222222222222,
              "#7201a8"
             ],
             [
              0.3333333333333333,
              "#9c179e"
             ],
             [
              0.4444444444444444,
              "#bd3786"
             ],
             [
              0.5555555555555556,
              "#d8576b"
             ],
             [
              0.6666666666666666,
              "#ed7953"
             ],
             [
              0.7777777777777778,
              "#fb9f3a"
             ],
             [
              0.8888888888888888,
              "#fdca26"
             ],
             [
              1,
              "#f0f921"
             ]
            ],
            "type": "contour"
           }
          ],
          "contourcarpet": [
           {
            "colorbar": {
             "outlinewidth": 0,
             "ticks": ""
            },
            "type": "contourcarpet"
           }
          ],
          "heatmap": [
           {
            "colorbar": {
             "outlinewidth": 0,
             "ticks": ""
            },
            "colorscale": [
             [
              0,
              "#0d0887"
             ],
             [
              0.1111111111111111,
              "#46039f"
             ],
             [
              0.2222222222222222,
              "#7201a8"
             ],
             [
              0.3333333333333333,
              "#9c179e"
             ],
             [
              0.4444444444444444,
              "#bd3786"
             ],
             [
              0.5555555555555556,
              "#d8576b"
             ],
             [
              0.6666666666666666,
              "#ed7953"
             ],
             [
              0.7777777777777778,
              "#fb9f3a"
             ],
             [
              0.8888888888888888,
              "#fdca26"
             ],
             [
              1,
              "#f0f921"
             ]
            ],
            "type": "heatmap"
           }
          ],
          "heatmapgl": [
           {
            "colorbar": {
             "outlinewidth": 0,
             "ticks": ""
            },
            "colorscale": [
             [
              0,
              "#0d0887"
             ],
             [
              0.1111111111111111,
              "#46039f"
             ],
             [
              0.2222222222222222,
              "#7201a8"
             ],
             [
              0.3333333333333333,
              "#9c179e"
             ],
             [
              0.4444444444444444,
              "#bd3786"
             ],
             [
              0.5555555555555556,
              "#d8576b"
             ],
             [
              0.6666666666666666,
              "#ed7953"
             ],
             [
              0.7777777777777778,
              "#fb9f3a"
             ],
             [
              0.8888888888888888,
              "#fdca26"
             ],
             [
              1,
              "#f0f921"
             ]
            ],
            "type": "heatmapgl"
           }
          ],
          "histogram": [
           {
            "marker": {
             "pattern": {
              "fillmode": "overlay",
              "size": 10,
              "solidity": 0.2
             }
            },
            "type": "histogram"
           }
          ],
          "histogram2d": [
           {
            "colorbar": {
             "outlinewidth": 0,
             "ticks": ""
            },
            "colorscale": [
             [
              0,
              "#0d0887"
             ],
             [
              0.1111111111111111,
              "#46039f"
             ],
             [
              0.2222222222222222,
              "#7201a8"
             ],
             [
              0.3333333333333333,
              "#9c179e"
             ],
             [
              0.4444444444444444,
              "#bd3786"
             ],
             [
              0.5555555555555556,
              "#d8576b"
             ],
             [
              0.6666666666666666,
              "#ed7953"
             ],
             [
              0.7777777777777778,
              "#fb9f3a"
             ],
             [
              0.8888888888888888,
              "#fdca26"
             ],
             [
              1,
              "#f0f921"
             ]
            ],
            "type": "histogram2d"
           }
          ],
          "histogram2dcontour": [
           {
            "colorbar": {
             "outlinewidth": 0,
             "ticks": ""
            },
            "colorscale": [
             [
              0,
              "#0d0887"
             ],
             [
              0.1111111111111111,
              "#46039f"
             ],
             [
              0.2222222222222222,
              "#7201a8"
             ],
             [
              0.3333333333333333,
              "#9c179e"
             ],
             [
              0.4444444444444444,
              "#bd3786"
             ],
             [
              0.5555555555555556,
              "#d8576b"
             ],
             [
              0.6666666666666666,
              "#ed7953"
             ],
             [
              0.7777777777777778,
              "#fb9f3a"
             ],
             [
              0.8888888888888888,
              "#fdca26"
             ],
             [
              1,
              "#f0f921"
             ]
            ],
            "type": "histogram2dcontour"
           }
          ],
          "mesh3d": [
           {
            "colorbar": {
             "outlinewidth": 0,
             "ticks": ""
            },
            "type": "mesh3d"
           }
          ],
          "parcoords": [
           {
            "line": {
             "colorbar": {
              "outlinewidth": 0,
              "ticks": ""
             }
            },
            "type": "parcoords"
           }
          ],
          "pie": [
           {
            "automargin": true,
            "type": "pie"
           }
          ],
          "scatter": [
           {
            "fillpattern": {
             "fillmode": "overlay",
             "size": 10,
             "solidity": 0.2
            },
            "type": "scatter"
           }
          ],
          "scatter3d": [
           {
            "line": {
             "colorbar": {
              "outlinewidth": 0,
              "ticks": ""
             }
            },
            "marker": {
             "colorbar": {
              "outlinewidth": 0,
              "ticks": ""
             }
            },
            "type": "scatter3d"
           }
          ],
          "scattercarpet": [
           {
            "marker": {
             "colorbar": {
              "outlinewidth": 0,
              "ticks": ""
             }
            },
            "type": "scattercarpet"
           }
          ],
          "scattergeo": [
           {
            "marker": {
             "colorbar": {
              "outlinewidth": 0,
              "ticks": ""
             }
            },
            "type": "scattergeo"
           }
          ],
          "scattergl": [
           {
            "marker": {
             "colorbar": {
              "outlinewidth": 0,
              "ticks": ""
             }
            },
            "type": "scattergl"
           }
          ],
          "scattermapbox": [
           {
            "marker": {
             "colorbar": {
              "outlinewidth": 0,
              "ticks": ""
             }
            },
            "type": "scattermapbox"
           }
          ],
          "scatterpolar": [
           {
            "marker": {
             "colorbar": {
              "outlinewidth": 0,
              "ticks": ""
             }
            },
            "type": "scatterpolar"
           }
          ],
          "scatterpolargl": [
           {
            "marker": {
             "colorbar": {
              "outlinewidth": 0,
              "ticks": ""
             }
            },
            "type": "scatterpolargl"
           }
          ],
          "scatterternary": [
           {
            "marker": {
             "colorbar": {
              "outlinewidth": 0,
              "ticks": ""
             }
            },
            "type": "scatterternary"
           }
          ],
          "surface": [
           {
            "colorbar": {
             "outlinewidth": 0,
             "ticks": ""
            },
            "colorscale": [
             [
              0,
              "#0d0887"
             ],
             [
              0.1111111111111111,
              "#46039f"
             ],
             [
              0.2222222222222222,
              "#7201a8"
             ],
             [
              0.3333333333333333,
              "#9c179e"
             ],
             [
              0.4444444444444444,
              "#bd3786"
             ],
             [
              0.5555555555555556,
              "#d8576b"
             ],
             [
              0.6666666666666666,
              "#ed7953"
             ],
             [
              0.7777777777777778,
              "#fb9f3a"
             ],
             [
              0.8888888888888888,
              "#fdca26"
             ],
             [
              1,
              "#f0f921"
             ]
            ],
            "type": "surface"
           }
          ],
          "table": [
           {
            "cells": {
             "fill": {
              "color": "#EBF0F8"
             },
             "line": {
              "color": "white"
             }
            },
            "header": {
             "fill": {
              "color": "#C8D4E3"
             },
             "line": {
              "color": "white"
             }
            },
            "type": "table"
           }
          ]
         },
         "layout": {
          "annotationdefaults": {
           "arrowcolor": "#2a3f5f",
           "arrowhead": 0,
           "arrowwidth": 1
          },
          "autotypenumbers": "strict",
          "coloraxis": {
           "colorbar": {
            "outlinewidth": 0,
            "ticks": ""
           }
          },
          "colorscale": {
           "diverging": [
            [
             0,
             "#8e0152"
            ],
            [
             0.1,
             "#c51b7d"
            ],
            [
             0.2,
             "#de77ae"
            ],
            [
             0.3,
             "#f1b6da"
            ],
            [
             0.4,
             "#fde0ef"
            ],
            [
             0.5,
             "#f7f7f7"
            ],
            [
             0.6,
             "#e6f5d0"
            ],
            [
             0.7,
             "#b8e186"
            ],
            [
             0.8,
             "#7fbc41"
            ],
            [
             0.9,
             "#4d9221"
            ],
            [
             1,
             "#276419"
            ]
           ],
           "sequential": [
            [
             0,
             "#0d0887"
            ],
            [
             0.1111111111111111,
             "#46039f"
            ],
            [
             0.2222222222222222,
             "#7201a8"
            ],
            [
             0.3333333333333333,
             "#9c179e"
            ],
            [
             0.4444444444444444,
             "#bd3786"
            ],
            [
             0.5555555555555556,
             "#d8576b"
            ],
            [
             0.6666666666666666,
             "#ed7953"
            ],
            [
             0.7777777777777778,
             "#fb9f3a"
            ],
            [
             0.8888888888888888,
             "#fdca26"
            ],
            [
             1,
             "#f0f921"
            ]
           ],
           "sequentialminus": [
            [
             0,
             "#0d0887"
            ],
            [
             0.1111111111111111,
             "#46039f"
            ],
            [
             0.2222222222222222,
             "#7201a8"
            ],
            [
             0.3333333333333333,
             "#9c179e"
            ],
            [
             0.4444444444444444,
             "#bd3786"
            ],
            [
             0.5555555555555556,
             "#d8576b"
            ],
            [
             0.6666666666666666,
             "#ed7953"
            ],
            [
             0.7777777777777778,
             "#fb9f3a"
            ],
            [
             0.8888888888888888,
             "#fdca26"
            ],
            [
             1,
             "#f0f921"
            ]
           ]
          },
          "colorway": [
           "#636efa",
           "#EF553B",
           "#00cc96",
           "#ab63fa",
           "#FFA15A",
           "#19d3f3",
           "#FF6692",
           "#B6E880",
           "#FF97FF",
           "#FECB52"
          ],
          "font": {
           "color": "#2a3f5f"
          },
          "geo": {
           "bgcolor": "white",
           "lakecolor": "white",
           "landcolor": "#E5ECF6",
           "showlakes": true,
           "showland": true,
           "subunitcolor": "white"
          },
          "hoverlabel": {
           "align": "left"
          },
          "hovermode": "closest",
          "mapbox": {
           "style": "light"
          },
          "paper_bgcolor": "white",
          "plot_bgcolor": "#E5ECF6",
          "polar": {
           "angularaxis": {
            "gridcolor": "white",
            "linecolor": "white",
            "ticks": ""
           },
           "bgcolor": "#E5ECF6",
           "radialaxis": {
            "gridcolor": "white",
            "linecolor": "white",
            "ticks": ""
           }
          },
          "scene": {
           "xaxis": {
            "backgroundcolor": "#E5ECF6",
            "gridcolor": "white",
            "gridwidth": 2,
            "linecolor": "white",
            "showbackground": true,
            "ticks": "",
            "zerolinecolor": "white"
           },
           "yaxis": {
            "backgroundcolor": "#E5ECF6",
            "gridcolor": "white",
            "gridwidth": 2,
            "linecolor": "white",
            "showbackground": true,
            "ticks": "",
            "zerolinecolor": "white"
           },
           "zaxis": {
            "backgroundcolor": "#E5ECF6",
            "gridcolor": "white",
            "gridwidth": 2,
            "linecolor": "white",
            "showbackground": true,
            "ticks": "",
            "zerolinecolor": "white"
           }
          },
          "shapedefaults": {
           "line": {
            "color": "#2a3f5f"
           }
          },
          "ternary": {
           "aaxis": {
            "gridcolor": "white",
            "linecolor": "white",
            "ticks": ""
           },
           "baxis": {
            "gridcolor": "white",
            "linecolor": "white",
            "ticks": ""
           },
           "bgcolor": "#E5ECF6",
           "caxis": {
            "gridcolor": "white",
            "linecolor": "white",
            "ticks": ""
           }
          },
          "title": {
           "x": 0.05
          },
          "xaxis": {
           "automargin": true,
           "gridcolor": "white",
           "linecolor": "white",
           "ticks": "",
           "title": {
            "standoff": 15
           },
           "zerolinecolor": "white",
           "zerolinewidth": 2
          },
          "yaxis": {
           "automargin": true,
           "gridcolor": "white",
           "linecolor": "white",
           "ticks": "",
           "title": {
            "standoff": 15
           },
           "zerolinecolor": "white",
           "zerolinewidth": 2
          }
         }
        },
        "title": {
         "text": "Fig_1b: Pearson correlation value between Sale Price and other features"
        },
        "xaxis": {
         "anchor": "y",
         "domain": [
          0,
          1
         ],
         "title": {
          "text": "Feature Name"
         }
        },
        "yaxis": {
         "anchor": "x",
         "domain": [
          0,
          1
         ],
         "title": {
          "text": "Pearson correlation value"
         }
        }
       }
      }
     },
     "metadata": {},
     "output_type": "display_data"
    }
   ],
   "source": [
    "fig_1b = px.scatter(x=corr_matrix.index, y=corr_matrix[\"sale_price\"])\n",
    "\n",
    "fig_1b.update_xaxes(title_text=\"Feature Name\")\n",
    "fig_1b.update_yaxes(title_text=\"Pearson correlation value\")\n",
    "fig_1b.update_layout(title_text=\"Fig_1b: Pearson correlation value between Sale Price and other features\")\n",
    "fig_1b.show()"
   ]
  },
  {
   "cell_type": "markdown",
   "metadata": {},
   "source": [
    "Based on Fig_1b, some of the features that can be used to create a model are `gr_liv_area`, `garage_cars`, `garage_area`, `total_bsmt_sf`, and `1st_flr_sf`. The remainder features will not be included to avoid creating a complex model and potentially overfitting the model.\n",
    "\n",
    "Additionally, `year_built`, `yr_sold`, `year_remod_add`, and `mo_sold` features were also included for feature engineering.\n",
    "\n"
   ]
  },
  {
   "cell_type": "markdown",
   "metadata": {},
   "source": [
    "---\n",
    "# <center> Model Development </center>\n",
    "---"
   ]
  },
  {
   "cell_type": "code",
   "execution_count": 109,
   "metadata": {},
   "outputs": [],
   "source": [
    "y = house_df[\"sale_price\"]\n",
    "\n",
    "num_cols = [\"gr_liv_area\", \"garage_area\", \"total_bsmt_sf\", \"1st_flr_sf\", \"year_built\", \n",
    "            \"yr_sold\", \"year_remod_add\", \"mo_sold\"]\n",
    "cat_cols = [\"neighborhood\"]\n",
    "\n",
    "num_X = num_cleaned_house_df[num_cols]\n",
    "cat_X = cleaned_house_df[cat_cols]\n",
    "\n",
    "\n",
    "##### Feature engineering\n",
    "num_X[\"house_age\"] = num_X[\"yr_sold\"] - num_X[\"year_built\"]\n",
    "num_X.loc[num_X[\"house_age\"]==0, \"house_age\"] = num_X.loc[num_X[\"house_age\"]==0, \"mo_sold\"]/12\n",
    "num_X[\"scaled_remod\"] = (num_X[\"year_remod_add\"] - num_X[\"year_built\"])/num_X[\"house_age\"]\n",
    "\n",
    "\n",
    "##### Drop unnecessary columns\n",
    "num_X = num_X.drop(columns=[\"year_built\", \"yr_sold\", \"mo_sold\"])\n",
    "\n",
    "X = num_X\n",
    "\n",
    "##### create standard scaler\n",
    "std_scaler = StandardScaler()\n",
    "std_scaler.fit(num_X)\n",
    "\n",
    "##### create one-hot encoder\n",
    "ohe_encoder = OneHotEncoder(sparse_output=False)\n",
    "ohe_encoder.fit(cat_X)\n",
    "\n",
    "\n",
    "X_train, X_test, y_train, y_test = train_test_split(X, y, test_size=0.4, random_state=43)\n",
    "\n",
    "\n",
    "##### transform values using standard scaler\n",
    "scaled_num_X_train = std_scaler.transform(X_train.select_dtypes(include=np.number))\n",
    "scaled_num_X_test = std_scaler.transform(X_test.select_dtypes(include=np.number))\n",
    "\n",
    "\n",
    "##### recreate dataframe after scaling and encoding\n",
    "scaled_X_train_df = pd.DataFrame(data=scaled_num_X_train, columns=std_scaler.feature_names_in_)\n",
    "scaled_X_test_df = pd.DataFrame(data=scaled_num_X_test, columns=std_scaler.feature_names_in_)\n",
    "\n",
    "X_train = scaled_X_train_df\n",
    "X_test = scaled_X_test_df\n",
    "\n",
    "\n"
   ]
  },
  {
   "cell_type": "markdown",
   "metadata": {},
   "source": [
    "New features were generated using feature engineering. The new features include `house_age` and `scaled_remod`. `house_age` is the age of the house in years since it was built. This value was computed as `yr_sold` - `year_built`. If the house was sold in the same year it was built, then the month the house was sold will be divided by 12 to convert the house age to year. `scaled_remod` is the time when the house was remodeled scaled to its age. This value was computed as (`year_remod_add` - `year_built`)/`house_age`.\n",
    "\n",
    "After some experimentation, `garage_cars` feature were dropped since it did not improve the model accuracy. The categorical data were also found to not significantly improve the model accuracy."
   ]
  },
  {
   "cell_type": "code",
   "execution_count": 275,
   "metadata": {},
   "outputs": [
    {
     "data": {
      "application/vnd.plotly.v1+json": {
       "config": {
        "plotlyServerURL": "https://plot.ly"
       },
       "data": [
        {
         "hovertemplate": "x=%{x}<br>y=%{y}<extra></extra>",
         "legendgroup": "",
         "marker": {
          "color": "#636efa",
          "symbol": "circle"
         },
         "mode": "markers",
         "name": "",
         "orientation": "v",
         "showlegend": false,
         "type": "scatter",
         "x": [
          189950,
          180000,
          136500,
          160000,
          135000,
          240000,
          100000,
          169900,
          119500,
          240000,
          148000,
          305900,
          140000,
          110000,
          179200,
          99500,
          125000,
          61000,
          143000,
          140000,
          402000,
          93000,
          235000,
          248328,
          200624,
          380000,
          119000,
          132000,
          136500,
          112000,
          137500,
          81000,
          123000,
          157500,
          109500,
          179665,
          501837,
          190000,
          230000,
          149000,
          276000,
          170000,
          60000,
          132000,
          193879,
          104900,
          152000,
          194201,
          171000,
          200000,
          110000,
          152000,
          173000,
          485000,
          120000,
          135500,
          133900,
          245500,
          226000,
          181900,
          112000,
          108500,
          167500,
          410000,
          177500,
          199900,
          150900,
          310000,
          55993,
          369900,
          231500,
          156000,
          134800,
          140000,
          119900,
          196000,
          172000,
          244000,
          161750,
          132000,
          130500,
          180500,
          302000,
          202500,
          228000,
          140000,
          125000,
          174900,
          278000,
          165500,
          131500,
          212000,
          215000,
          466500,
          136000,
          130000,
          168000,
          225000,
          345000,
          138000,
          160000,
          52000,
          82500,
          165000,
          178400,
          177000,
          208900,
          119000,
          311872,
          164500,
          229456,
          240000,
          181000,
          242000,
          135000,
          131500,
          146000,
          210000,
          145000,
          179000,
          180000,
          161500,
          157000,
          155000,
          239000,
          126000,
          168000,
          226000,
          157900,
          118000,
          185000,
          383970,
          175000,
          187500,
          187500,
          290000,
          173733,
          315000,
          176000,
          313000,
          129900,
          194000,
          108000,
          234000,
          113000,
          286000,
          244600,
          315000,
          103000,
          68500,
          252000,
          128000,
          87000,
          122500,
          107900,
          236000,
          160000,
          106250,
          212000,
          124500,
          101800,
          175000,
          129500,
          131400,
          128000,
          187000,
          215000,
          100000,
          372500,
          318000,
          394432,
          137000,
          259500,
          142500,
          277500,
          76000,
          253293,
          170000,
          185000,
          227680,
          290000,
          173500,
          140000,
          124000,
          184000,
          145000,
          165000,
          96500,
          246578,
          156000,
          187750,
          465000,
          138500,
          230000,
          93500,
          114500,
          315000,
          232000,
          128950,
          175000,
          129000,
          115000,
          151000,
          174000,
          266000,
          180000,
          190000,
          91500,
          221500,
          424870,
          97500,
          115000,
          120500,
          287000,
          113000,
          158000,
          125000,
          110000,
          173000,
          340000,
          214000,
          115000,
          185850,
          274000,
          126175,
          112000,
          233230,
          204900,
          205000,
          113000,
          216000,
          215000,
          167500,
          207000,
          86000,
          90000,
          80000,
          97000,
          335000,
          375000,
          187500,
          250000,
          108000,
          184750,
          217500,
          206000,
          149900,
          230000,
          275000,
          181000,
          162000,
          175500,
          140000,
          240000,
          266000,
          187100,
          34900,
          126000,
          110000,
          145000,
          150000,
          163500,
          147000,
          336000,
          237500,
          188000,
          222000,
          87500,
          266500,
          75500,
          117000,
          160000,
          127000,
          306000,
          107500,
          132000,
          172400,
          67000,
          235000,
          153575,
          149500,
          239000,
          234000,
          88000,
          270000,
          197900,
          91000,
          196500,
          119200,
          115000,
          129500,
          272000,
          87000,
          348000,
          129500,
          139000,
          143000,
          324000,
          130000,
          625000,
          215200,
          154000,
          385000,
          158500,
          135500,
          392500,
          287000,
          88000,
          210000,
          134500,
          176432,
          193000,
          315750,
          204000,
          215000,
          176000,
          128500,
          262500,
          159434,
          244400,
          196500,
          185000,
          120500,
          84900,
          58500,
          171750,
          181000,
          132500,
          187500,
          205000,
          250000,
          190000,
          109000,
          129900,
          162900,
          191000,
          184900,
          97000,
          263435,
          167000,
          260000,
          173000,
          89500,
          197500,
          213500,
          85000,
          159500,
          151000,
          215000,
          92000,
          118000,
          159000,
          167000,
          275000,
          155000,
          154000,
          86000,
          135000,
          145000,
          204750,
          212900,
          140000,
          200000,
          72500,
          126000,
          79000,
          105500,
          272000,
          73000,
          106500,
          141000,
          135000,
          224900,
          165150,
          360000,
          125000,
          201000,
          103600,
          179900,
          184000,
          167000,
          124000,
          128000,
          260000,
          35311,
          415298,
          179900,
          173900,
          403000,
          135000,
          175500,
          37900,
          202900,
          123000,
          135000,
          143500,
          136000,
          193500,
          109008,
          200000,
          135000,
          125500,
          143000,
          268000,
          100000,
          142000,
          147000,
          67000,
          162000,
          227000,
          235000,
          209500,
          92900,
          140000,
          85000,
          109500,
          178000,
          294000,
          136905,
          185000,
          134000,
          194700,
          281213,
          185000,
          201000,
          170000,
          106000,
          255500,
          181000,
          437154,
          178000,
          139950,
          105000,
          446261,
          207000,
          95000,
          100000,
          134000,
          127500,
          100000,
          140000,
          139000,
          125500,
          200000,
          185000,
          175000,
          146500,
          194000,
          121000,
          174500,
          165000,
          278000,
          159000,
          245000,
          212000,
          268000,
          148000,
          141000,
          163990,
          188000,
          55000,
          183000,
          173000,
          184000,
          55000,
          130000,
          137450,
          144000,
          335000,
          250580,
          224900,
          115000,
          260400,
          205000,
          143000,
          169000,
          164700,
          231500,
          143500,
          129000,
          173000,
          213000,
          195000,
          110000,
          129000,
          100000,
          89000,
          158000,
          128200,
          124000,
          250000,
          128000,
          290000,
          153337,
          110000,
          206900,
          154500,
          130000,
          253000,
          139000,
          66500,
          335000,
          136000,
          119500,
          98000,
          145000,
          220000,
          179500,
          125500,
          105000,
          156932,
          176000,
          157900,
          255900,
          267000,
          144152,
          190000,
          135000,
          139000,
          176000,
          333168,
          237000,
          158900,
          277000,
          84500,
          149000,
          260000,
          134432,
          213000,
          133000,
          208500,
          241000,
          168000,
          180000,
          159000,
          144000,
          144000,
          114504,
          249700,
          262280,
          145000,
          131000,
          191000,
          178900,
          79900,
          132250,
          110000,
          105000,
          263000,
          39300,
          293077,
          136500,
          239799,
          244000,
          232600,
          239000,
          119000,
          103200,
          93000,
          213250,
          144000,
          236500,
          85500,
          229000,
          121500,
          155000,
          228950,
          117000,
          402861,
          170000,
          261500,
          328000,
          325000,
          283463,
          176000,
          172500,
          157500,
          193000,
          325300,
          147000,
          144000,
          163000,
          164000,
          79900
         ],
         "xaxis": "x",
         "y": [
          129860.1188557227,
          172991.72964315207,
          164417.17630982256,
          164030.54106573225,
          211054.00360681818,
          300587.4376306134,
          73075.4847097267,
          167501.41676455544,
          126770.02508900434,
          239030.1768503107,
          149348.696970327,
          307269.56739856896,
          102275.25727833061,
          133155.44770225155,
          216428.53053103882,
          114869.86488678177,
          111159.51531712149,
          48878.89382565196,
          140429.7307803726,
          142161.1222334894,
          316786.5913905201,
          114957.41903405212,
          246456.68778883747,
          272059.8238349771,
          277271.4611938202,
          335560.2080275938,
          93364.90440377353,
          122274.85958985164,
          143923.68694939886,
          107581.53248386287,
          125747.61225253501,
          150037.14401280228,
          130288.48193608318,
          153629.1950080157,
          88351.71921371465,
          186791.31698521698,
          372677.49815186433,
          274193.6860539207,
          261094.08341316355,
          143915.0761765485,
          321506.3164313538,
          167305.41884984134,
          36645.58299588016,
          126071.81456140512,
          210055.25251632987,
          162462.37936033824,
          166455.02892777362,
          246009.17262980287,
          169964.90031534765,
          288690.83547157503,
          100735.2656454695,
          153094.09276255046,
          185665.7953260553,
          402961.1012639125,
          129890.11687886443,
          121637.78832070489,
          132099.51740067994,
          186817.25732485118,
          218206.51973034622,
          186875.6361823565,
          120280.53100101667,
          83348.21657017258,
          146775.294504082,
          361541.46120162285,
          188294.53182843106,
          220797.14427395328,
          221125.71752562418,
          262235.8539377181,
          105111.290926325,
          326702.21898137627,
          221861.58391680283,
          129593.20474541947,
          140102.47108806315,
          164769.10962796188,
          108395.83038638196,
          207978.39959348948,
          197538.2144313436,
          227464.26026011354,
          141480.6299051157,
          124134.44586862618,
          128959.6643771987,
          153852.37514959287,
          313572.5162594289,
          217409.71080994263,
          247777.96693109375,
          119913.51420508658,
          144382.7961034465,
          144671.13418715438,
          303703.9824494093,
          158138.26480040685,
          131106.73558230832,
          200796.6214111702,
          215425.04455057194,
          359160.4659587424,
          115089.86170843699,
          237730.78851169936,
          185382.87799272974,
          231556.29489194724,
          310790.55095774936,
          154722.98159235372,
          106427.2787924232,
          60889.07022779103,
          35930.30257638023,
          162781.87865239376,
          164740.21956702508,
          187317.24845506143,
          232031.30160490278,
          101315.22480695575,
          263830.10135764343,
          173929.69364601755,
          204476.45668291784,
          248590.82066073443,
          188611.8662597958,
          302568.3568576815,
          84602.271614036,
          143775.28800228116,
          196970.44461126777,
          144934.55231775198,
          104714.28920063117,
          205672.61886334626,
          187162.33261889027,
          188179.48516061174,
          149903.60874937492,
          141100.0275751893,
          264561.2100240485,
          166906.17498959915,
          250856.33758972702,
          241531.78612506852,
          130154.877150964,
          132693.3009953839,
          199242.0200028475,
          317762.8362764929,
          196883.32686286533,
          168106.42217832728,
          179938.1352035786,
          236919.92447328553,
          173929.69364601755,
          304341.3277158537,
          179087.50058041938,
          273662.43970698095,
          150359.12030355577,
          190484.15244970497,
          112528.03527314548,
          199689.79294368444,
          114736.25501006008,
          241207.44763291662,
          274844.32554727,
          302632.7045666432,
          112637.65940799215,
          35959.22509011949,
          281562.8258694306,
          143626.352502836,
          49959.27359948176,
          166041.64876686607,
          124044.6010773569,
          229302.04314481877,
          177823.59160471428,
          64285.545408395046,
          222836.55494264566,
          109915.20872319091,
          112404.55970582884,
          210281.0952697334,
          118640.75522900652,
          130894.63227815958,
          107163.51140868933,
          203483.25399042232,
          231372.75979820653,
          124080.82131289039,
          300333.6671353472,
          262570.53715672897,
          281318.61828638107,
          170104.20746650567,
          219301.6039439193,
          181372.3444147538,
          229193.11034146667,
          71435.93622962883,
          369097.833099943,
          155061.16455405956,
          213005.69171266546,
          216515.86989430655,
          287559.7554858101,
          193377.3143224417,
          158455.985134848,
          94249.2743271266,
          191271.41785891197,
          179374.91453067094,
          147376.5915271849,
          60798.68240026233,
          226388.82358750096,
          137829.72298358014,
          204358.05118656743,
          304495.9945860361,
          123269.85034853683,
          223835.7451267413,
          83580.4902242111,
          97561.57760566333,
          247706.6083369957,
          231847.87910330546,
          101366.77826376457,
          184143.87559358016,
          99978.4042053315,
          83053.18214477386,
          167108.5197271063,
          183482.44631710034,
          276951.5869109519,
          219118.07078761188,
          221296.58448729853,
          126623.2727996218,
          287231.03597308544,
          381665.99764244526,
          129454.00457421888,
          138146.6571150386,
          129521.61388194989,
          286708.1851914155,
          117124.9597613771,
          130218.88433526328,
          107969.89789650221,
          114448.49002876756,
          207333.35518555657,
          306825.54148409166,
          242602.16871972493,
          122214.10075496013,
          204491.77157608443,
          230388.89619746586,
          153818.9236527492,
          91831.23581265775,
          249089.2263092061,
          232550.142583978,
          250501.55608736863,
          124764.24691973248,
          213039.15571524168,
          231314.9045002765,
          184564.27648538302,
          201308.68738106004,
          48962.85620921446,
          179911.44637141467,
          78850.4419302574,
          124536.52967915667,
          278248.36045078747,
          238731.27460418548,
          233816.17295769128,
          252901.1188814019,
          123279.01761119853,
          561836.5759717383,
          210878.19565166833,
          195896.76585877204,
          174617.72278702012,
          235791.27020828213,
          230392.81576108167,
          199755.4080432677,
          152922.13278292544,
          163843.73300131696,
          156390.40369915866,
          247750.6965632962,
          241702.9466123829,
          217052.96610641846,
          34870.927540014585,
          141430.3958563576,
          100690.02976128041,
          143025.84352424,
          150872.2044366064,
          200920.84808811694,
          145168.00594218684,
          295879.557135199,
          226761.51582340582,
          220137.05831538144,
          229738.12313664562,
          83295.77894833688,
          223718.95148662053,
          59740.20586822914,
          126070.09590566505,
          152330.60690293642,
          138919.82780581168,
          268809.5140459343,
          181191.05121400193,
          117094.6269509948,
          205793.0828872258,
          47131.33291451898,
          220474.27600186982,
          132559.47190073447,
          168934.32982565576,
          252729.54373524705,
          222994.8995354069,
          108800.08058637443,
          275891.19319844194,
          209528.20548491552,
          59283.067410441334,
          198172.24160309578,
          104534.7989491631,
          104967.92753726385,
          124350.35411028106,
          312350.54206163576,
          167123.68872781371,
          301512.388315902,
          151281.9517862499,
          136826.5460124106,
          160160.2760854405,
          227542.8186860016,
          102112.69459833555,
          399047.3927211547,
          207239.67999771703,
          158159.59323808097,
          268261.67025848804,
          148129.21240538266,
          126842.31793076452,
          233229.88661845803,
          309668.4421453637,
          106695.95340538611,
          214964.10267144433,
          110855.71400574448,
          196340.61702651024,
          222963.5388748213,
          296447.8266913229,
          216850.2146486663,
          234404.65106134815,
          180678.10643118672,
          116666.50412522073,
          269007.82551558974,
          146947.2197890211,
          199305.8685001127,
          217903.38683381118,
          186461.05885378658,
          119243.74436883522,
          98065.27973501399,
          59403.302210212976,
          206424.97538037846,
          202727.23112746901,
          132954.9191932017,
          194121.572709832,
          179610.5182214611,
          277057.09570985613,
          215457.1019066225,
          139147.47637719024,
          157496.47140806998,
          161070.75103535844,
          204674.57407977642,
          187511.66286301453,
          69223.06278724445,
          232793.55056344054,
          203665.6926753645,
          263924.7562188556,
          203400.14833060125,
          99495.2143163354,
          192542.70481744985,
          201701.03168274637,
          37603.005521948624,
          219955.13368065527,
          134956.2893439136,
          201046.54981146244,
          61074.79528848623,
          129233.95826161993,
          156393.99533541244,
          164490.49243944767,
          218400.9134890821,
          177305.5871621506,
          157132.68802087518,
          107754.58181305575,
          110277.5513876363,
          211882.11565988362,
          222741.15778535022,
          274941.87642842886,
          159564.86456634803,
          214725.39059532108,
          49526.88002524979,
          94478.39738714545,
          96713.82290807068,
          102539.52988507545,
          238066.34192606265,
          103351.63797890623,
          71882.09963738722,
          145891.38167765213,
          116081.2899707641,
          233138.9958035775,
          183944.73561786913,
          287259.8621667546,
          203873.09771178878,
          225974.95976498578,
          103407.32506852434,
          201061.22683057637,
          222695.04039100974,
          178159.92064925618,
          140890.70380248144,
          114840.47084502739,
          194124.42319088485,
          48051.98127545224,
          330541.5642096639,
          183009.63812028445,
          229502.10493782564,
          322490.677999583,
          142243.56780042307,
          192662.728334142,
          42408.3618906386,
          220268.5285944175,
          119806.14522694127,
          112138.0722146702,
          154474.52384185742,
          181724.98960070204,
          232974.40957489563,
          100726.87651263142,
          222697.25551374734,
          141251.5881215794,
          108015.72415922485,
          201985.27426218314,
          275208.41771258117,
          103313.8008348344,
          150817.20090825186,
          157597.9380230534,
          94327.40745583308,
          169601.91554992145,
          225135.0039516161,
          249797.04868119158,
          234428.1740375299,
          81159.24157102346,
          148634.43631052558,
          118292.48670880731,
          100199.16496438827,
          179768.15869333045,
          259672.30487804193,
          212093.80400987525,
          198707.50799648362,
          156316.89005114933,
          216809.87422588395,
          300334.72267594014,
          144686.96594380963,
          203333.04516157415,
          208152.5696788522,
          158268.73870723983,
          269331.29632028355,
          212207.80282961982,
          362568.9599074201,
          165293.8030621174,
          136429.55732808012,
          108989.60176271346,
          329907.8664562144,
          172765.19325176495,
          84978.73432776314,
          55376.926299166225,
          153522.68407979293,
          93683.36683041278,
          113414.22877774689,
          175462.95043179323,
          125857.93533260902,
          112544.57189316793,
          241162.48959726986,
          186267.67711535847,
          155645.30742543956,
          163240.85089443106,
          199898.39378226348,
          70102.82129583924,
          122211.60136408929,
          178741.15568339915,
          224526.44488623526,
          188332.57521037068,
          244752.0587304227,
          199345.75371066135,
          268653.33895197284,
          152460.9889915089,
          120751.93941141097,
          213375.98246488208,
          211982.44470160114,
          43956.85474474836,
          209758.6331486999,
          195241.58686081567,
          144037.1654447061,
          44829.10995277332,
          134633.75205152069,
          144905.88090350822,
          147263.44068871252,
          279402.33363255556,
          238693.54745049388,
          217976.19815953117,
          136851.90164872038,
          232686.34046539734,
          245799.53633378094,
          205372.84588024524,
          195205.77542298625,
          205289.96259461265,
          207495.88599584223,
          162065.03113855195,
          117522.38621762133,
          174434.91817443934,
          196376.58395747226,
          212415.48473460728,
          101106.91275690007,
          150867.77808354524,
          125726.79526293669,
          41915.91358729632,
          212312.84823130348,
          112648.2769012773,
          108735.08522184893,
          259374.49587363657,
          101991.94720916625,
          295408.3162245787,
          162155.32582593424,
          75137.72738698601,
          215360.78328385425,
          151535.16240106497,
          146944.86851614824,
          251273.76359950798,
          126522.2017246813,
          87501.1966958832,
          250461.07848937094,
          153457.72866126566,
          108987.20294983874,
          102998.6338262404,
          237506.91630138486,
          169316.43703946128,
          195301.0700973629,
          105231.9407158621,
          87662.13139412753,
          209684.78444620434,
          182553.03198626172,
          154345.17646474746,
          278773.50836731575,
          281399.55071463017,
          167108.5197271063,
          228893.1877325608,
          135740.0897144762,
          140234.25349727634,
          191888.83893370448,
          304945.31551289855,
          227497.98943607582,
          151401.07429586293,
          246206.23757755992,
          59378.32585497627,
          129191.43274040276,
          255280.21788591775,
          149436.31880847222,
          226031.33162449131,
          112512.10000522947,
          213302.3205026955,
          214155.73594645277,
          187936.58581062118,
          164884.1701966537,
          182508.99781483153,
          133262.03144909348,
          166775.65513486485,
          110889.1829956514,
          259056.0637746606,
          263033.753263784,
          112939.31828849837,
          134691.98725132312,
          219684.82687350738,
          216710.96990425355,
          99413.12601151668,
          142583.38730381688,
          101562.88110618998,
          98100.43988033854,
          251358.07419180725,
          -46.534937926218845,
          286012.5266519004,
          122083.88501675829,
          275245.68086512515,
          264701.05541871133,
          238615.02773530906,
          193308.64714959028,
          96430.68579286899,
          73137.50702072168,
          121129.4294481579,
          237195.93715323688,
          198562.40555358215,
          243938.13306022133,
          46707.73152195415,
          263260.79252693756,
          189185.50974883343,
          187656.95126758257,
          203059.64679119762,
          132924.77071123885,
          302245.9401596217,
          164858.40564239625,
          235433.23847908425,
          260001.19408714198,
          268080.7077072442,
          292121.3954272781,
          167940.81963879702,
          212884.61468111727,
          172268.8844771144,
          194930.87899855655,
          325345.7640314915,
          149904.83826981435,
          122966.32446233777,
          145391.58500936313,
          136477.9169695975,
          78509.39549914678
         ],
         "yaxis": "y"
        }
       ],
       "layout": {
        "legend": {
         "tracegroupgap": 0
        },
        "margin": {
         "t": 60
        },
        "template": {
         "data": {
          "bar": [
           {
            "error_x": {
             "color": "#2a3f5f"
            },
            "error_y": {
             "color": "#2a3f5f"
            },
            "marker": {
             "line": {
              "color": "#E5ECF6",
              "width": 0.5
             },
             "pattern": {
              "fillmode": "overlay",
              "size": 10,
              "solidity": 0.2
             }
            },
            "type": "bar"
           }
          ],
          "barpolar": [
           {
            "marker": {
             "line": {
              "color": "#E5ECF6",
              "width": 0.5
             },
             "pattern": {
              "fillmode": "overlay",
              "size": 10,
              "solidity": 0.2
             }
            },
            "type": "barpolar"
           }
          ],
          "carpet": [
           {
            "aaxis": {
             "endlinecolor": "#2a3f5f",
             "gridcolor": "white",
             "linecolor": "white",
             "minorgridcolor": "white",
             "startlinecolor": "#2a3f5f"
            },
            "baxis": {
             "endlinecolor": "#2a3f5f",
             "gridcolor": "white",
             "linecolor": "white",
             "minorgridcolor": "white",
             "startlinecolor": "#2a3f5f"
            },
            "type": "carpet"
           }
          ],
          "choropleth": [
           {
            "colorbar": {
             "outlinewidth": 0,
             "ticks": ""
            },
            "type": "choropleth"
           }
          ],
          "contour": [
           {
            "colorbar": {
             "outlinewidth": 0,
             "ticks": ""
            },
            "colorscale": [
             [
              0,
              "#0d0887"
             ],
             [
              0.1111111111111111,
              "#46039f"
             ],
             [
              0.2222222222222222,
              "#7201a8"
             ],
             [
              0.3333333333333333,
              "#9c179e"
             ],
             [
              0.4444444444444444,
              "#bd3786"
             ],
             [
              0.5555555555555556,
              "#d8576b"
             ],
             [
              0.6666666666666666,
              "#ed7953"
             ],
             [
              0.7777777777777778,
              "#fb9f3a"
             ],
             [
              0.8888888888888888,
              "#fdca26"
             ],
             [
              1,
              "#f0f921"
             ]
            ],
            "type": "contour"
           }
          ],
          "contourcarpet": [
           {
            "colorbar": {
             "outlinewidth": 0,
             "ticks": ""
            },
            "type": "contourcarpet"
           }
          ],
          "heatmap": [
           {
            "colorbar": {
             "outlinewidth": 0,
             "ticks": ""
            },
            "colorscale": [
             [
              0,
              "#0d0887"
             ],
             [
              0.1111111111111111,
              "#46039f"
             ],
             [
              0.2222222222222222,
              "#7201a8"
             ],
             [
              0.3333333333333333,
              "#9c179e"
             ],
             [
              0.4444444444444444,
              "#bd3786"
             ],
             [
              0.5555555555555556,
              "#d8576b"
             ],
             [
              0.6666666666666666,
              "#ed7953"
             ],
             [
              0.7777777777777778,
              "#fb9f3a"
             ],
             [
              0.8888888888888888,
              "#fdca26"
             ],
             [
              1,
              "#f0f921"
             ]
            ],
            "type": "heatmap"
           }
          ],
          "heatmapgl": [
           {
            "colorbar": {
             "outlinewidth": 0,
             "ticks": ""
            },
            "colorscale": [
             [
              0,
              "#0d0887"
             ],
             [
              0.1111111111111111,
              "#46039f"
             ],
             [
              0.2222222222222222,
              "#7201a8"
             ],
             [
              0.3333333333333333,
              "#9c179e"
             ],
             [
              0.4444444444444444,
              "#bd3786"
             ],
             [
              0.5555555555555556,
              "#d8576b"
             ],
             [
              0.6666666666666666,
              "#ed7953"
             ],
             [
              0.7777777777777778,
              "#fb9f3a"
             ],
             [
              0.8888888888888888,
              "#fdca26"
             ],
             [
              1,
              "#f0f921"
             ]
            ],
            "type": "heatmapgl"
           }
          ],
          "histogram": [
           {
            "marker": {
             "pattern": {
              "fillmode": "overlay",
              "size": 10,
              "solidity": 0.2
             }
            },
            "type": "histogram"
           }
          ],
          "histogram2d": [
           {
            "colorbar": {
             "outlinewidth": 0,
             "ticks": ""
            },
            "colorscale": [
             [
              0,
              "#0d0887"
             ],
             [
              0.1111111111111111,
              "#46039f"
             ],
             [
              0.2222222222222222,
              "#7201a8"
             ],
             [
              0.3333333333333333,
              "#9c179e"
             ],
             [
              0.4444444444444444,
              "#bd3786"
             ],
             [
              0.5555555555555556,
              "#d8576b"
             ],
             [
              0.6666666666666666,
              "#ed7953"
             ],
             [
              0.7777777777777778,
              "#fb9f3a"
             ],
             [
              0.8888888888888888,
              "#fdca26"
             ],
             [
              1,
              "#f0f921"
             ]
            ],
            "type": "histogram2d"
           }
          ],
          "histogram2dcontour": [
           {
            "colorbar": {
             "outlinewidth": 0,
             "ticks": ""
            },
            "colorscale": [
             [
              0,
              "#0d0887"
             ],
             [
              0.1111111111111111,
              "#46039f"
             ],
             [
              0.2222222222222222,
              "#7201a8"
             ],
             [
              0.3333333333333333,
              "#9c179e"
             ],
             [
              0.4444444444444444,
              "#bd3786"
             ],
             [
              0.5555555555555556,
              "#d8576b"
             ],
             [
              0.6666666666666666,
              "#ed7953"
             ],
             [
              0.7777777777777778,
              "#fb9f3a"
             ],
             [
              0.8888888888888888,
              "#fdca26"
             ],
             [
              1,
              "#f0f921"
             ]
            ],
            "type": "histogram2dcontour"
           }
          ],
          "mesh3d": [
           {
            "colorbar": {
             "outlinewidth": 0,
             "ticks": ""
            },
            "type": "mesh3d"
           }
          ],
          "parcoords": [
           {
            "line": {
             "colorbar": {
              "outlinewidth": 0,
              "ticks": ""
             }
            },
            "type": "parcoords"
           }
          ],
          "pie": [
           {
            "automargin": true,
            "type": "pie"
           }
          ],
          "scatter": [
           {
            "fillpattern": {
             "fillmode": "overlay",
             "size": 10,
             "solidity": 0.2
            },
            "type": "scatter"
           }
          ],
          "scatter3d": [
           {
            "line": {
             "colorbar": {
              "outlinewidth": 0,
              "ticks": ""
             }
            },
            "marker": {
             "colorbar": {
              "outlinewidth": 0,
              "ticks": ""
             }
            },
            "type": "scatter3d"
           }
          ],
          "scattercarpet": [
           {
            "marker": {
             "colorbar": {
              "outlinewidth": 0,
              "ticks": ""
             }
            },
            "type": "scattercarpet"
           }
          ],
          "scattergeo": [
           {
            "marker": {
             "colorbar": {
              "outlinewidth": 0,
              "ticks": ""
             }
            },
            "type": "scattergeo"
           }
          ],
          "scattergl": [
           {
            "marker": {
             "colorbar": {
              "outlinewidth": 0,
              "ticks": ""
             }
            },
            "type": "scattergl"
           }
          ],
          "scattermapbox": [
           {
            "marker": {
             "colorbar": {
              "outlinewidth": 0,
              "ticks": ""
             }
            },
            "type": "scattermapbox"
           }
          ],
          "scatterpolar": [
           {
            "marker": {
             "colorbar": {
              "outlinewidth": 0,
              "ticks": ""
             }
            },
            "type": "scatterpolar"
           }
          ],
          "scatterpolargl": [
           {
            "marker": {
             "colorbar": {
              "outlinewidth": 0,
              "ticks": ""
             }
            },
            "type": "scatterpolargl"
           }
          ],
          "scatterternary": [
           {
            "marker": {
             "colorbar": {
              "outlinewidth": 0,
              "ticks": ""
             }
            },
            "type": "scatterternary"
           }
          ],
          "surface": [
           {
            "colorbar": {
             "outlinewidth": 0,
             "ticks": ""
            },
            "colorscale": [
             [
              0,
              "#0d0887"
             ],
             [
              0.1111111111111111,
              "#46039f"
             ],
             [
              0.2222222222222222,
              "#7201a8"
             ],
             [
              0.3333333333333333,
              "#9c179e"
             ],
             [
              0.4444444444444444,
              "#bd3786"
             ],
             [
              0.5555555555555556,
              "#d8576b"
             ],
             [
              0.6666666666666666,
              "#ed7953"
             ],
             [
              0.7777777777777778,
              "#fb9f3a"
             ],
             [
              0.8888888888888888,
              "#fdca26"
             ],
             [
              1,
              "#f0f921"
             ]
            ],
            "type": "surface"
           }
          ],
          "table": [
           {
            "cells": {
             "fill": {
              "color": "#EBF0F8"
             },
             "line": {
              "color": "white"
             }
            },
            "header": {
             "fill": {
              "color": "#C8D4E3"
             },
             "line": {
              "color": "white"
             }
            },
            "type": "table"
           }
          ]
         },
         "layout": {
          "annotationdefaults": {
           "arrowcolor": "#2a3f5f",
           "arrowhead": 0,
           "arrowwidth": 1
          },
          "autotypenumbers": "strict",
          "coloraxis": {
           "colorbar": {
            "outlinewidth": 0,
            "ticks": ""
           }
          },
          "colorscale": {
           "diverging": [
            [
             0,
             "#8e0152"
            ],
            [
             0.1,
             "#c51b7d"
            ],
            [
             0.2,
             "#de77ae"
            ],
            [
             0.3,
             "#f1b6da"
            ],
            [
             0.4,
             "#fde0ef"
            ],
            [
             0.5,
             "#f7f7f7"
            ],
            [
             0.6,
             "#e6f5d0"
            ],
            [
             0.7,
             "#b8e186"
            ],
            [
             0.8,
             "#7fbc41"
            ],
            [
             0.9,
             "#4d9221"
            ],
            [
             1,
             "#276419"
            ]
           ],
           "sequential": [
            [
             0,
             "#0d0887"
            ],
            [
             0.1111111111111111,
             "#46039f"
            ],
            [
             0.2222222222222222,
             "#7201a8"
            ],
            [
             0.3333333333333333,
             "#9c179e"
            ],
            [
             0.4444444444444444,
             "#bd3786"
            ],
            [
             0.5555555555555556,
             "#d8576b"
            ],
            [
             0.6666666666666666,
             "#ed7953"
            ],
            [
             0.7777777777777778,
             "#fb9f3a"
            ],
            [
             0.8888888888888888,
             "#fdca26"
            ],
            [
             1,
             "#f0f921"
            ]
           ],
           "sequentialminus": [
            [
             0,
             "#0d0887"
            ],
            [
             0.1111111111111111,
             "#46039f"
            ],
            [
             0.2222222222222222,
             "#7201a8"
            ],
            [
             0.3333333333333333,
             "#9c179e"
            ],
            [
             0.4444444444444444,
             "#bd3786"
            ],
            [
             0.5555555555555556,
             "#d8576b"
            ],
            [
             0.6666666666666666,
             "#ed7953"
            ],
            [
             0.7777777777777778,
             "#fb9f3a"
            ],
            [
             0.8888888888888888,
             "#fdca26"
            ],
            [
             1,
             "#f0f921"
            ]
           ]
          },
          "colorway": [
           "#636efa",
           "#EF553B",
           "#00cc96",
           "#ab63fa",
           "#FFA15A",
           "#19d3f3",
           "#FF6692",
           "#B6E880",
           "#FF97FF",
           "#FECB52"
          ],
          "font": {
           "color": "#2a3f5f"
          },
          "geo": {
           "bgcolor": "white",
           "lakecolor": "white",
           "landcolor": "#E5ECF6",
           "showlakes": true,
           "showland": true,
           "subunitcolor": "white"
          },
          "hoverlabel": {
           "align": "left"
          },
          "hovermode": "closest",
          "mapbox": {
           "style": "light"
          },
          "paper_bgcolor": "white",
          "plot_bgcolor": "#E5ECF6",
          "polar": {
           "angularaxis": {
            "gridcolor": "white",
            "linecolor": "white",
            "ticks": ""
           },
           "bgcolor": "#E5ECF6",
           "radialaxis": {
            "gridcolor": "white",
            "linecolor": "white",
            "ticks": ""
           }
          },
          "scene": {
           "xaxis": {
            "backgroundcolor": "#E5ECF6",
            "gridcolor": "white",
            "gridwidth": 2,
            "linecolor": "white",
            "showbackground": true,
            "ticks": "",
            "zerolinecolor": "white"
           },
           "yaxis": {
            "backgroundcolor": "#E5ECF6",
            "gridcolor": "white",
            "gridwidth": 2,
            "linecolor": "white",
            "showbackground": true,
            "ticks": "",
            "zerolinecolor": "white"
           },
           "zaxis": {
            "backgroundcolor": "#E5ECF6",
            "gridcolor": "white",
            "gridwidth": 2,
            "linecolor": "white",
            "showbackground": true,
            "ticks": "",
            "zerolinecolor": "white"
           }
          },
          "shapedefaults": {
           "line": {
            "color": "#2a3f5f"
           }
          },
          "ternary": {
           "aaxis": {
            "gridcolor": "white",
            "linecolor": "white",
            "ticks": ""
           },
           "baxis": {
            "gridcolor": "white",
            "linecolor": "white",
            "ticks": ""
           },
           "bgcolor": "#E5ECF6",
           "caxis": {
            "gridcolor": "white",
            "linecolor": "white",
            "ticks": ""
           }
          },
          "title": {
           "x": 0.05
          },
          "xaxis": {
           "automargin": true,
           "gridcolor": "white",
           "linecolor": "white",
           "ticks": "",
           "title": {
            "standoff": 15
           },
           "zerolinecolor": "white",
           "zerolinewidth": 2
          },
          "yaxis": {
           "automargin": true,
           "gridcolor": "white",
           "linecolor": "white",
           "ticks": "",
           "title": {
            "standoff": 15
           },
           "zerolinecolor": "white",
           "zerolinewidth": 2
          }
         }
        },
        "title": {
         "text": "Predicted Sale Price vs. Actual Sale Price"
        },
        "xaxis": {
         "anchor": "y",
         "domain": [
          0,
          1
         ],
         "title": {
          "text": "Actual Sale Price"
         }
        },
        "yaxis": {
         "anchor": "x",
         "domain": [
          0,
          1
         ],
         "title": {
          "text": "Predicted Sale Price"
         }
        }
       }
      }
     },
     "metadata": {},
     "output_type": "display_data"
    },
    {
     "name": "stdout",
     "output_type": "stream",
     "text": [
      "Test set score: 0.7550668341859367\n"
     ]
    }
   ],
   "source": [
    "##### Linear Regression model\n",
    "\n",
    "lr_mod = LinearRegression()\n",
    "\n",
    "lr_mod.fit(X_train, y_train)\n",
    "\n",
    "fig_2a = px.scatter(x=y_test, y=lr_mod.predict(X_test))\n",
    "\n",
    "fig_2a.update_xaxes(title_text=\"Actual Sale Price\")\n",
    "fig_2a.update_yaxes(title_text=\"Predicted Sale Price\")\n",
    "fig_2a.update_layout(title_text=\"Predicted Sale Price vs. Actual Sale Price\")\n",
    "fig_2a.show()\n",
    "\n",
    "\n",
    "print(f\"Test set score: {lr_mod.score(X_test, y_test)}\")\n"
   ]
  },
  {
   "cell_type": "code",
   "execution_count": 277,
   "metadata": {},
   "outputs": [
    {
     "data": {
      "application/vnd.plotly.v1+json": {
       "config": {
        "plotlyServerURL": "https://plot.ly"
       },
       "data": [
        {
         "hovertemplate": "x=%{x}<br>y=%{y}<extra></extra>",
         "legendgroup": "",
         "marker": {
          "color": "#636efa",
          "symbol": "circle"
         },
         "mode": "markers",
         "name": "",
         "orientation": "v",
         "showlegend": false,
         "type": "scatter",
         "x": [
          189950,
          180000,
          136500,
          160000,
          135000,
          240000,
          100000,
          169900,
          119500,
          240000,
          148000,
          305900,
          140000,
          110000,
          179200,
          99500,
          125000,
          61000,
          143000,
          140000,
          402000,
          93000,
          235000,
          248328,
          200624,
          380000,
          119000,
          132000,
          136500,
          112000,
          137500,
          81000,
          123000,
          157500,
          109500,
          179665,
          501837,
          190000,
          230000,
          149000,
          276000,
          170000,
          60000,
          132000,
          193879,
          104900,
          152000,
          194201,
          171000,
          200000,
          110000,
          152000,
          173000,
          485000,
          120000,
          135500,
          133900,
          245500,
          226000,
          181900,
          112000,
          108500,
          167500,
          410000,
          177500,
          199900,
          150900,
          310000,
          55993,
          369900,
          231500,
          156000,
          134800,
          140000,
          119900,
          196000,
          172000,
          244000,
          161750,
          132000,
          130500,
          180500,
          302000,
          202500,
          228000,
          140000,
          125000,
          174900,
          278000,
          165500,
          131500,
          212000,
          215000,
          466500,
          136000,
          130000,
          168000,
          225000,
          345000,
          138000,
          160000,
          52000,
          82500,
          165000,
          178400,
          177000,
          208900,
          119000,
          311872,
          164500,
          229456,
          240000,
          181000,
          242000,
          135000,
          131500,
          146000,
          210000,
          145000,
          179000,
          180000,
          161500,
          157000,
          155000,
          239000,
          126000,
          168000,
          226000,
          157900,
          118000,
          185000,
          383970,
          175000,
          187500,
          187500,
          290000,
          173733,
          315000,
          176000,
          313000,
          129900,
          194000,
          108000,
          234000,
          113000,
          286000,
          244600,
          315000,
          103000,
          68500,
          252000,
          128000,
          87000,
          122500,
          107900,
          236000,
          160000,
          106250,
          212000,
          124500,
          101800,
          175000,
          129500,
          131400,
          128000,
          187000,
          215000,
          100000,
          372500,
          318000,
          394432,
          137000,
          259500,
          142500,
          277500,
          76000,
          253293,
          170000,
          185000,
          227680,
          290000,
          173500,
          140000,
          124000,
          184000,
          145000,
          165000,
          96500,
          246578,
          156000,
          187750,
          465000,
          138500,
          230000,
          93500,
          114500,
          315000,
          232000,
          128950,
          175000,
          129000,
          115000,
          151000,
          174000,
          266000,
          180000,
          190000,
          91500,
          221500,
          424870,
          97500,
          115000,
          120500,
          287000,
          113000,
          158000,
          125000,
          110000,
          173000,
          340000,
          214000,
          115000,
          185850,
          274000,
          126175,
          112000,
          233230,
          204900,
          205000,
          113000,
          216000,
          215000,
          167500,
          207000,
          86000,
          90000,
          80000,
          97000,
          335000,
          375000,
          187500,
          250000,
          108000,
          184750,
          217500,
          206000,
          149900,
          230000,
          275000,
          181000,
          162000,
          175500,
          140000,
          240000,
          266000,
          187100,
          34900,
          126000,
          110000,
          145000,
          150000,
          163500,
          147000,
          336000,
          237500,
          188000,
          222000,
          87500,
          266500,
          75500,
          117000,
          160000,
          127000,
          306000,
          107500,
          132000,
          172400,
          67000,
          235000,
          153575,
          149500,
          239000,
          234000,
          88000,
          270000,
          197900,
          91000,
          196500,
          119200,
          115000,
          129500,
          272000,
          87000,
          348000,
          129500,
          139000,
          143000,
          324000,
          130000,
          625000,
          215200,
          154000,
          385000,
          158500,
          135500,
          392500,
          287000,
          88000,
          210000,
          134500,
          176432,
          193000,
          315750,
          204000,
          215000,
          176000,
          128500,
          262500,
          159434,
          244400,
          196500,
          185000,
          120500,
          84900,
          58500,
          171750,
          181000,
          132500,
          187500,
          205000,
          250000,
          190000,
          109000,
          129900,
          162900,
          191000,
          184900,
          97000,
          263435,
          167000,
          260000,
          173000,
          89500,
          197500,
          213500,
          85000,
          159500,
          151000,
          215000,
          92000,
          118000,
          159000,
          167000,
          275000,
          155000,
          154000,
          86000,
          135000,
          145000,
          204750,
          212900,
          140000,
          200000,
          72500,
          126000,
          79000,
          105500,
          272000,
          73000,
          106500,
          141000,
          135000,
          224900,
          165150,
          360000,
          125000,
          201000,
          103600,
          179900,
          184000,
          167000,
          124000,
          128000,
          260000,
          35311,
          415298,
          179900,
          173900,
          403000,
          135000,
          175500,
          37900,
          202900,
          123000,
          135000,
          143500,
          136000,
          193500,
          109008,
          200000,
          135000,
          125500,
          143000,
          268000,
          100000,
          142000,
          147000,
          67000,
          162000,
          227000,
          235000,
          209500,
          92900,
          140000,
          85000,
          109500,
          178000,
          294000,
          136905,
          185000,
          134000,
          194700,
          281213,
          185000,
          201000,
          170000,
          106000,
          255500,
          181000,
          437154,
          178000,
          139950,
          105000,
          446261,
          207000,
          95000,
          100000,
          134000,
          127500,
          100000,
          140000,
          139000,
          125500,
          200000,
          185000,
          175000,
          146500,
          194000,
          121000,
          174500,
          165000,
          278000,
          159000,
          245000,
          212000,
          268000,
          148000,
          141000,
          163990,
          188000,
          55000,
          183000,
          173000,
          184000,
          55000,
          130000,
          137450,
          144000,
          335000,
          250580,
          224900,
          115000,
          260400,
          205000,
          143000,
          169000,
          164700,
          231500,
          143500,
          129000,
          173000,
          213000,
          195000,
          110000,
          129000,
          100000,
          89000,
          158000,
          128200,
          124000,
          250000,
          128000,
          290000,
          153337,
          110000,
          206900,
          154500,
          130000,
          253000,
          139000,
          66500,
          335000,
          136000,
          119500,
          98000,
          145000,
          220000,
          179500,
          125500,
          105000,
          156932,
          176000,
          157900,
          255900,
          267000,
          144152,
          190000,
          135000,
          139000,
          176000,
          333168,
          237000,
          158900,
          277000,
          84500,
          149000,
          260000,
          134432,
          213000,
          133000,
          208500,
          241000,
          168000,
          180000,
          159000,
          144000,
          144000,
          114504,
          249700,
          262280,
          145000,
          131000,
          191000,
          178900,
          79900,
          132250,
          110000,
          105000,
          263000,
          39300,
          293077,
          136500,
          239799,
          244000,
          232600,
          239000,
          119000,
          103200,
          93000,
          213250,
          144000,
          236500,
          85500,
          229000,
          121500,
          155000,
          228950,
          117000,
          402861,
          170000,
          261500,
          328000,
          325000,
          283463,
          176000,
          172500,
          157500,
          193000,
          325300,
          147000,
          144000,
          163000,
          164000,
          79900
         ],
         "xaxis": "x",
         "y": [
          125026.66666666667,
          189688.2142857143,
          167466.66666666666,
          172425,
          195450,
          156208.83333333334,
          148000,
          140704,
          114220,
          226107.6923076923,
          140704,
          373830.45454545453,
          101925,
          86212.5,
          226107.6923076923,
          131354.16666666666,
          111276,
          89090,
          150094.44444444444,
          146000,
          412500,
          121153.57142857143,
          248600,
          276975.8888888889,
          227346.15384615384,
          485955.0714285714,
          115111.11111111111,
          129613.33333333333,
          121725,
          114220,
          132459.0909090909,
          133725,
          140704,
          166677.77777777778,
          115111.11111111111,
          156619.5,
          373830.45454545453,
          156208.83333333334,
          276975.8888888889,
          146000,
          328336.5833333333,
          172425,
          77500,
          152916.66666666666,
          233700,
          138378.57142857142,
          151400,
          200053.84615384616,
          170005.88235294117,
          287644.53846153844,
          133725,
          128685.66666666667,
          189688.2142857143,
          485955.0714285714,
          113475,
          113170.33333333333,
          129613.33333333333,
          186752.9411764706,
          186752.9411764706,
          159132.35294117648,
          113475,
          121153.57142857143,
          152916.66666666666,
          485955.0714285714,
          172425,
          198720,
          215625,
          298455.44444444444,
          101925,
          269193.64285714284,
          248600,
          140704,
          150937.5,
          138378.57142857142,
          86212.5,
          186752.9411764706,
          195450,
          225291.66666666666,
          152666.66666666666,
          115111.11111111111,
          115111.11111111111,
          140266.66666666666,
          292750,
          170005.88235294117,
          244751.73333333334,
          152666.66666666666,
          129613.33333333333,
          139676.4705882353,
          227346.15384615384,
          158450,
          132459.0909090909,
          178120,
          248600,
          485955.0714285714,
          139676.4705882353,
          156619.5,
          182276.4705882353,
          167466.66666666666,
          287644.53846153844,
          151400,
          114220,
          77500,
          77500,
          176066.66666666666,
          150937.5,
          172425,
          189688.2142857143,
          133681.25,
          325708.26666666666,
          233700,
          233700,
          244751.73333333334,
          128685.66666666667,
          287644.53846153844,
          89090,
          146000,
          128685.66666666667,
          140266.66666666666,
          133150,
          186752.9411764706,
          189688.2142857143,
          138378.57142857142,
          140266.66666666666,
          114220,
          269193.64285714284,
          116205.5,
          138378.57142857142,
          248600,
          150094.44444444444,
          155000,
          182276.4705882353,
          328336.5833333333,
          186752.9411764706,
          168825,
          172425,
          239032.73333333334,
          233700,
          328336.5833333333,
          182276.4705882353,
          244751.73333333334,
          140704,
          176066.66666666666,
          131354.16666666666,
          229808.75,
          125026.66666666667,
          226107.6923076923,
          200053.84615384616,
          373830.45454545453,
          114220,
          77500,
          248600,
          146387.5,
          89090,
          122754.11111111111,
          131354.16666666666,
          248600,
          138378.57142857142,
          77500,
          216947.6875,
          132459.0909090909,
          90000,
          186752.9411764706,
          110360,
          128685.66666666667,
          139676.4705882353,
          170005.88235294117,
          216947.6875,
          111276,
          373830.45454545453,
          325708.26666666666,
          269193.64285714284,
          140266.66666666666,
          229808.75,
          168825,
          239032.73333333334,
          110360,
          373830.45454545453,
          151400,
          195450,
          233700,
          292750,
          178120,
          138378.57142857142,
          121153.57142857143,
          133681.25,
          151400,
          138791.66666666666,
          107979.16666666667,
          233700,
          139676.4705882353,
          233700,
          373830.45454545453,
          157833.33333333334,
          200053.84615384616,
          101925,
          133725,
          287644.53846153844,
          226107.6923076923,
          89090,
          193108.33333333334,
          107979.16666666667,
          89090,
          146000,
          172425,
          248600,
          215625,
          239032.73333333334,
          133681.25,
          276975.8888888889,
          328336.5833333333,
          133681.25,
          140266.66666666666,
          121725,
          225291.66666666666,
          125026.66666666667,
          152666.66666666666,
          113170.33333333333,
          131354.16666666666,
          182276.4705882353,
          412500,
          216947.6875,
          125026.66666666667,
          200053.84615384616,
          239032.73333333334,
          150094.44444444444,
          86212.5,
          248600,
          239032.73333333334,
          276975.8888888889,
          114220,
          211150,
          195450,
          156619.5,
          186752.9411764706,
          107979.16666666667,
          122754.11111111111,
          110360,
          121725,
          292750,
          131683.33333333334,
          314050,
          284000,
          187000,
          485955.0714285714,
          215625,
          200053.84615384616,
          193108.33333333334,
          248600,
          325708.26666666666,
          182276.4705882353,
          133681.25,
          152916.66666666666,
          138378.57142857142,
          325708.26666666666,
          239032.73333333334,
          186752.9411764706,
          89090,
          151400,
          113170.33333333333,
          125026.66666666667,
          193108.33333333334,
          148833.33333333334,
          146387.5,
          328336.5833333333,
          227346.15384615384,
          215625,
          174950,
          101925,
          229808.75,
          77500,
          125026.66666666667,
          152916.66666666666,
          115111.11111111111,
          325708.26666666666,
          122754.11111111111,
          152666.66666666666,
          182276.4705882353,
          89090,
          226107.6923076923,
          152666.66666666666,
          193108.33333333334,
          287644.53846153844,
          189688.2142857143,
          86212.5,
          248600,
          215625,
          89090,
          170005.88235294117,
          139676.4705882353,
          113170.33333333333,
          132459.0909090909,
          287644.53846153844,
          122754.11111111111,
          328336.5833333333,
          129613.33333333333,
          139676.4705882353,
          139676.4705882353,
          325708.26666666666,
          121725,
          485955.0714285714,
          178120,
          152916.66666666666,
          227346.15384615384,
          146387.5,
          133681.25,
          256475,
          287644.53846153844,
          86212.5,
          178120,
          113170.33333333333,
          189688.2142857143,
          226107.6923076923,
          292750,
          226107.6923076923,
          198720,
          172425,
          131354.16666666666,
          227346.15384615384,
          187000,
          167466.66666666666,
          186752.9411764706,
          164500,
          110360,
          110893.75,
          107979.16666666667,
          189688.2142857143,
          186752.9411764706,
          113170.33333333333,
          176066.66666666666,
          166677.77777777778,
          287644.53846153844,
          248600,
          146387.5,
          140266.66666666666,
          138378.57142857142,
          186752.9411764706,
          168825,
          86212.5,
          216947.6875,
          193108.33333333334,
          292750,
          172425,
          86212.5,
          170005.88235294117,
          186752.9411764706,
          89090,
          142633.33333333334,
          157833.33333333334,
          189688.2142857143,
          77500,
          193108.33333333334,
          140266.66666666666,
          60000,
          226107.6923076923,
          178120,
          170005.88235294117,
          113475,
          114220,
          140266.66666666666,
          216947.6875,
          239032.73333333334,
          128685.66666666667,
          229808.75,
          110360,
          107979.16666666667,
          152666.66666666666,
          86212.5,
          226107.6923076923,
          129613.33333333333,
          86212.5,
          113420,
          125026.66666666667,
          226107.6923076923,
          170005.88235294117,
          269193.64285714284,
          131683.33333333334,
          226107.6923076923,
          152666.66666666666,
          206900,
          215625,
          193108.33333333334,
          155000,
          122754.11111111111,
          176066.66666666666,
          110360,
          373830.45454545453,
          114003,
          178120,
          292750,
          129613.33333333333,
          193108.33333333334,
          77500,
          198720,
          86212.5,
          139676.4705882353,
          148000,
          122754.11111111111,
          174950,
          133725,
          216947.6875,
          140704,
          152666.66666666666,
          148833.33333333334,
          284000,
          113170.33333333333,
          152916.66666666666,
          128685.66666666667,
          132459.0909090909,
          172425,
          226107.6923076923,
          156208.83333333334,
          239032.73333333334,
          101925,
          150094.44444444444,
          155000,
          133725,
          156619.5,
          195450,
          215625,
          170005.88235294117,
          158450,
          189688.2142857143,
          328336.5833333333,
          140266.66666666666,
          182276.4705882353,
          170005.88235294117,
          122754.11111111111,
          325708.26666666666,
          215625,
          485955.0714285714,
          166677.77777777778,
          139676.4705882353,
          133681.25,
          328336.5833333333,
          138378.57142857142,
          77500,
          89090,
          158450,
          133725,
          167466.66666666666,
          151400,
          150094.44444444444,
          115111.11111111111,
          325708.26666666666,
          193108.33333333334,
          158450,
          166677.77777777778,
          233700,
          107979.16666666667,
          177125,
          178120,
          226107.6923076923,
          138378.57142857142,
          239032.73333333334,
          193108.33333333334,
          227346.15384615384,
          158450,
          139676.4705882353,
          156619.5,
          186752.9411764706,
          77500,
          178120,
          170005.88235294117,
          140266.66666666666,
          89090,
          152666.66666666666,
          138378.57142857142,
          146000,
          298455.44444444444,
          200053.84615384616,
          216947.6875,
          121725,
          325708.26666666666,
          284000,
          193108.33333333334,
          167466.66666666666,
          178120,
          216947.6875,
          158450,
          180000,
          186752.9411764706,
          198720,
          195450,
          129613.33333333333,
          121725,
          150937.5,
          77500,
          195450,
          131354.16666666666,
          115111.11111111111,
          276975.8888888889,
          107979.16666666667,
          292750,
          158450,
          107979.16666666667,
          195450,
          146387.5,
          150937.5,
          298455.44444444444,
          122754.11111111111,
          107979.16666666667,
          227346.15384615384,
          170005.88235294117,
          125026.66666666667,
          125026.66666666667,
          215625,
          140266.66666666666,
          229808.75,
          113170.33333333333,
          115111.11111111111,
          156619.5,
          172425,
          193108.33333333334,
          244751.73333333334,
          328336.5833333333,
          146000,
          227346.15384615384,
          125026.66666666667,
          146387.5,
          156619.5,
          328336.5833333333,
          216947.6875,
          152666.66666666666,
          314050,
          77500,
          140266.66666666666,
          325708.26666666666,
          140266.66666666666,
          226107.6923076923,
          114220,
          186752.9411764706,
          182276.4705882353,
          159132.35294117648,
          172425,
          151400,
          129613.33333333333,
          128685.66666666667,
          125026.66666666667,
          239032.73333333334,
          292750,
          125026.66666666667,
          140704,
          189688.2142857143,
          156619.5,
          115111.11111111111,
          139676.4705882353,
          110893.75,
          114220,
          284000,
          77500,
          239032.73333333334,
          132459.0909090909,
          248600,
          227346.15384615384,
          239032.73333333334,
          140266.66666666666,
          115111.11111111111,
          89090,
          133681.25,
          226107.6923076923,
          227346.15384615384,
          325708.26666666666,
          77500,
          244751.73333333334,
          138791.66666666666,
          151400,
          167466.66666666666,
          138378.57142857142,
          373830.45454545453,
          133681.25,
          248600,
          244751.73333333334,
          276975.8888888889,
          325708.26666666666,
          168825,
          248600,
          193108.33333333334,
          182276.4705882353,
          328336.5833333333,
          114220,
          177125,
          166677.77777777778,
          140266.66666666666,
          110360
         ],
         "yaxis": "y"
        }
       ],
       "layout": {
        "legend": {
         "tracegroupgap": 0
        },
        "margin": {
         "t": 60
        },
        "template": {
         "data": {
          "bar": [
           {
            "error_x": {
             "color": "#2a3f5f"
            },
            "error_y": {
             "color": "#2a3f5f"
            },
            "marker": {
             "line": {
              "color": "#E5ECF6",
              "width": 0.5
             },
             "pattern": {
              "fillmode": "overlay",
              "size": 10,
              "solidity": 0.2
             }
            },
            "type": "bar"
           }
          ],
          "barpolar": [
           {
            "marker": {
             "line": {
              "color": "#E5ECF6",
              "width": 0.5
             },
             "pattern": {
              "fillmode": "overlay",
              "size": 10,
              "solidity": 0.2
             }
            },
            "type": "barpolar"
           }
          ],
          "carpet": [
           {
            "aaxis": {
             "endlinecolor": "#2a3f5f",
             "gridcolor": "white",
             "linecolor": "white",
             "minorgridcolor": "white",
             "startlinecolor": "#2a3f5f"
            },
            "baxis": {
             "endlinecolor": "#2a3f5f",
             "gridcolor": "white",
             "linecolor": "white",
             "minorgridcolor": "white",
             "startlinecolor": "#2a3f5f"
            },
            "type": "carpet"
           }
          ],
          "choropleth": [
           {
            "colorbar": {
             "outlinewidth": 0,
             "ticks": ""
            },
            "type": "choropleth"
           }
          ],
          "contour": [
           {
            "colorbar": {
             "outlinewidth": 0,
             "ticks": ""
            },
            "colorscale": [
             [
              0,
              "#0d0887"
             ],
             [
              0.1111111111111111,
              "#46039f"
             ],
             [
              0.2222222222222222,
              "#7201a8"
             ],
             [
              0.3333333333333333,
              "#9c179e"
             ],
             [
              0.4444444444444444,
              "#bd3786"
             ],
             [
              0.5555555555555556,
              "#d8576b"
             ],
             [
              0.6666666666666666,
              "#ed7953"
             ],
             [
              0.7777777777777778,
              "#fb9f3a"
             ],
             [
              0.8888888888888888,
              "#fdca26"
             ],
             [
              1,
              "#f0f921"
             ]
            ],
            "type": "contour"
           }
          ],
          "contourcarpet": [
           {
            "colorbar": {
             "outlinewidth": 0,
             "ticks": ""
            },
            "type": "contourcarpet"
           }
          ],
          "heatmap": [
           {
            "colorbar": {
             "outlinewidth": 0,
             "ticks": ""
            },
            "colorscale": [
             [
              0,
              "#0d0887"
             ],
             [
              0.1111111111111111,
              "#46039f"
             ],
             [
              0.2222222222222222,
              "#7201a8"
             ],
             [
              0.3333333333333333,
              "#9c179e"
             ],
             [
              0.4444444444444444,
              "#bd3786"
             ],
             [
              0.5555555555555556,
              "#d8576b"
             ],
             [
              0.6666666666666666,
              "#ed7953"
             ],
             [
              0.7777777777777778,
              "#fb9f3a"
             ],
             [
              0.8888888888888888,
              "#fdca26"
             ],
             [
              1,
              "#f0f921"
             ]
            ],
            "type": "heatmap"
           }
          ],
          "heatmapgl": [
           {
            "colorbar": {
             "outlinewidth": 0,
             "ticks": ""
            },
            "colorscale": [
             [
              0,
              "#0d0887"
             ],
             [
              0.1111111111111111,
              "#46039f"
             ],
             [
              0.2222222222222222,
              "#7201a8"
             ],
             [
              0.3333333333333333,
              "#9c179e"
             ],
             [
              0.4444444444444444,
              "#bd3786"
             ],
             [
              0.5555555555555556,
              "#d8576b"
             ],
             [
              0.6666666666666666,
              "#ed7953"
             ],
             [
              0.7777777777777778,
              "#fb9f3a"
             ],
             [
              0.8888888888888888,
              "#fdca26"
             ],
             [
              1,
              "#f0f921"
             ]
            ],
            "type": "heatmapgl"
           }
          ],
          "histogram": [
           {
            "marker": {
             "pattern": {
              "fillmode": "overlay",
              "size": 10,
              "solidity": 0.2
             }
            },
            "type": "histogram"
           }
          ],
          "histogram2d": [
           {
            "colorbar": {
             "outlinewidth": 0,
             "ticks": ""
            },
            "colorscale": [
             [
              0,
              "#0d0887"
             ],
             [
              0.1111111111111111,
              "#46039f"
             ],
             [
              0.2222222222222222,
              "#7201a8"
             ],
             [
              0.3333333333333333,
              "#9c179e"
             ],
             [
              0.4444444444444444,
              "#bd3786"
             ],
             [
              0.5555555555555556,
              "#d8576b"
             ],
             [
              0.6666666666666666,
              "#ed7953"
             ],
             [
              0.7777777777777778,
              "#fb9f3a"
             ],
             [
              0.8888888888888888,
              "#fdca26"
             ],
             [
              1,
              "#f0f921"
             ]
            ],
            "type": "histogram2d"
           }
          ],
          "histogram2dcontour": [
           {
            "colorbar": {
             "outlinewidth": 0,
             "ticks": ""
            },
            "colorscale": [
             [
              0,
              "#0d0887"
             ],
             [
              0.1111111111111111,
              "#46039f"
             ],
             [
              0.2222222222222222,
              "#7201a8"
             ],
             [
              0.3333333333333333,
              "#9c179e"
             ],
             [
              0.4444444444444444,
              "#bd3786"
             ],
             [
              0.5555555555555556,
              "#d8576b"
             ],
             [
              0.6666666666666666,
              "#ed7953"
             ],
             [
              0.7777777777777778,
              "#fb9f3a"
             ],
             [
              0.8888888888888888,
              "#fdca26"
             ],
             [
              1,
              "#f0f921"
             ]
            ],
            "type": "histogram2dcontour"
           }
          ],
          "mesh3d": [
           {
            "colorbar": {
             "outlinewidth": 0,
             "ticks": ""
            },
            "type": "mesh3d"
           }
          ],
          "parcoords": [
           {
            "line": {
             "colorbar": {
              "outlinewidth": 0,
              "ticks": ""
             }
            },
            "type": "parcoords"
           }
          ],
          "pie": [
           {
            "automargin": true,
            "type": "pie"
           }
          ],
          "scatter": [
           {
            "fillpattern": {
             "fillmode": "overlay",
             "size": 10,
             "solidity": 0.2
            },
            "type": "scatter"
           }
          ],
          "scatter3d": [
           {
            "line": {
             "colorbar": {
              "outlinewidth": 0,
              "ticks": ""
             }
            },
            "marker": {
             "colorbar": {
              "outlinewidth": 0,
              "ticks": ""
             }
            },
            "type": "scatter3d"
           }
          ],
          "scattercarpet": [
           {
            "marker": {
             "colorbar": {
              "outlinewidth": 0,
              "ticks": ""
             }
            },
            "type": "scattercarpet"
           }
          ],
          "scattergeo": [
           {
            "marker": {
             "colorbar": {
              "outlinewidth": 0,
              "ticks": ""
             }
            },
            "type": "scattergeo"
           }
          ],
          "scattergl": [
           {
            "marker": {
             "colorbar": {
              "outlinewidth": 0,
              "ticks": ""
             }
            },
            "type": "scattergl"
           }
          ],
          "scattermapbox": [
           {
            "marker": {
             "colorbar": {
              "outlinewidth": 0,
              "ticks": ""
             }
            },
            "type": "scattermapbox"
           }
          ],
          "scatterpolar": [
           {
            "marker": {
             "colorbar": {
              "outlinewidth": 0,
              "ticks": ""
             }
            },
            "type": "scatterpolar"
           }
          ],
          "scatterpolargl": [
           {
            "marker": {
             "colorbar": {
              "outlinewidth": 0,
              "ticks": ""
             }
            },
            "type": "scatterpolargl"
           }
          ],
          "scatterternary": [
           {
            "marker": {
             "colorbar": {
              "outlinewidth": 0,
              "ticks": ""
             }
            },
            "type": "scatterternary"
           }
          ],
          "surface": [
           {
            "colorbar": {
             "outlinewidth": 0,
             "ticks": ""
            },
            "colorscale": [
             [
              0,
              "#0d0887"
             ],
             [
              0.1111111111111111,
              "#46039f"
             ],
             [
              0.2222222222222222,
              "#7201a8"
             ],
             [
              0.3333333333333333,
              "#9c179e"
             ],
             [
              0.4444444444444444,
              "#bd3786"
             ],
             [
              0.5555555555555556,
              "#d8576b"
             ],
             [
              0.6666666666666666,
              "#ed7953"
             ],
             [
              0.7777777777777778,
              "#fb9f3a"
             ],
             [
              0.8888888888888888,
              "#fdca26"
             ],
             [
              1,
              "#f0f921"
             ]
            ],
            "type": "surface"
           }
          ],
          "table": [
           {
            "cells": {
             "fill": {
              "color": "#EBF0F8"
             },
             "line": {
              "color": "white"
             }
            },
            "header": {
             "fill": {
              "color": "#C8D4E3"
             },
             "line": {
              "color": "white"
             }
            },
            "type": "table"
           }
          ]
         },
         "layout": {
          "annotationdefaults": {
           "arrowcolor": "#2a3f5f",
           "arrowhead": 0,
           "arrowwidth": 1
          },
          "autotypenumbers": "strict",
          "coloraxis": {
           "colorbar": {
            "outlinewidth": 0,
            "ticks": ""
           }
          },
          "colorscale": {
           "diverging": [
            [
             0,
             "#8e0152"
            ],
            [
             0.1,
             "#c51b7d"
            ],
            [
             0.2,
             "#de77ae"
            ],
            [
             0.3,
             "#f1b6da"
            ],
            [
             0.4,
             "#fde0ef"
            ],
            [
             0.5,
             "#f7f7f7"
            ],
            [
             0.6,
             "#e6f5d0"
            ],
            [
             0.7,
             "#b8e186"
            ],
            [
             0.8,
             "#7fbc41"
            ],
            [
             0.9,
             "#4d9221"
            ],
            [
             1,
             "#276419"
            ]
           ],
           "sequential": [
            [
             0,
             "#0d0887"
            ],
            [
             0.1111111111111111,
             "#46039f"
            ],
            [
             0.2222222222222222,
             "#7201a8"
            ],
            [
             0.3333333333333333,
             "#9c179e"
            ],
            [
             0.4444444444444444,
             "#bd3786"
            ],
            [
             0.5555555555555556,
             "#d8576b"
            ],
            [
             0.6666666666666666,
             "#ed7953"
            ],
            [
             0.7777777777777778,
             "#fb9f3a"
            ],
            [
             0.8888888888888888,
             "#fdca26"
            ],
            [
             1,
             "#f0f921"
            ]
           ],
           "sequentialminus": [
            [
             0,
             "#0d0887"
            ],
            [
             0.1111111111111111,
             "#46039f"
            ],
            [
             0.2222222222222222,
             "#7201a8"
            ],
            [
             0.3333333333333333,
             "#9c179e"
            ],
            [
             0.4444444444444444,
             "#bd3786"
            ],
            [
             0.5555555555555556,
             "#d8576b"
            ],
            [
             0.6666666666666666,
             "#ed7953"
            ],
            [
             0.7777777777777778,
             "#fb9f3a"
            ],
            [
             0.8888888888888888,
             "#fdca26"
            ],
            [
             1,
             "#f0f921"
            ]
           ]
          },
          "colorway": [
           "#636efa",
           "#EF553B",
           "#00cc96",
           "#ab63fa",
           "#FFA15A",
           "#19d3f3",
           "#FF6692",
           "#B6E880",
           "#FF97FF",
           "#FECB52"
          ],
          "font": {
           "color": "#2a3f5f"
          },
          "geo": {
           "bgcolor": "white",
           "lakecolor": "white",
           "landcolor": "#E5ECF6",
           "showlakes": true,
           "showland": true,
           "subunitcolor": "white"
          },
          "hoverlabel": {
           "align": "left"
          },
          "hovermode": "closest",
          "mapbox": {
           "style": "light"
          },
          "paper_bgcolor": "white",
          "plot_bgcolor": "#E5ECF6",
          "polar": {
           "angularaxis": {
            "gridcolor": "white",
            "linecolor": "white",
            "ticks": ""
           },
           "bgcolor": "#E5ECF6",
           "radialaxis": {
            "gridcolor": "white",
            "linecolor": "white",
            "ticks": ""
           }
          },
          "scene": {
           "xaxis": {
            "backgroundcolor": "#E5ECF6",
            "gridcolor": "white",
            "gridwidth": 2,
            "linecolor": "white",
            "showbackground": true,
            "ticks": "",
            "zerolinecolor": "white"
           },
           "yaxis": {
            "backgroundcolor": "#E5ECF6",
            "gridcolor": "white",
            "gridwidth": 2,
            "linecolor": "white",
            "showbackground": true,
            "ticks": "",
            "zerolinecolor": "white"
           },
           "zaxis": {
            "backgroundcolor": "#E5ECF6",
            "gridcolor": "white",
            "gridwidth": 2,
            "linecolor": "white",
            "showbackground": true,
            "ticks": "",
            "zerolinecolor": "white"
           }
          },
          "shapedefaults": {
           "line": {
            "color": "#2a3f5f"
           }
          },
          "ternary": {
           "aaxis": {
            "gridcolor": "white",
            "linecolor": "white",
            "ticks": ""
           },
           "baxis": {
            "gridcolor": "white",
            "linecolor": "white",
            "ticks": ""
           },
           "bgcolor": "#E5ECF6",
           "caxis": {
            "gridcolor": "white",
            "linecolor": "white",
            "ticks": ""
           }
          },
          "title": {
           "x": 0.05
          },
          "xaxis": {
           "automargin": true,
           "gridcolor": "white",
           "linecolor": "white",
           "ticks": "",
           "title": {
            "standoff": 15
           },
           "zerolinecolor": "white",
           "zerolinewidth": 2
          },
          "yaxis": {
           "automargin": true,
           "gridcolor": "white",
           "linecolor": "white",
           "ticks": "",
           "title": {
            "standoff": 15
           },
           "zerolinecolor": "white",
           "zerolinewidth": 2
          }
         }
        },
        "title": {
         "text": "Predicted Sale Price vs. Actual Sale Price"
        },
        "xaxis": {
         "anchor": "y",
         "domain": [
          0,
          1
         ],
         "title": {
          "text": "Actual Sale Price"
         }
        },
        "yaxis": {
         "anchor": "x",
         "domain": [
          0,
          1
         ],
         "title": {
          "text": "Predicted Sale Price"
         }
        }
       }
      }
     },
     "metadata": {},
     "output_type": "display_data"
    },
    {
     "name": "stdout",
     "output_type": "stream",
     "text": [
      "Test set score: 0.7399763757956677\n"
     ]
    }
   ],
   "source": [
    "##### Decision Tree Regressor\n",
    "\n",
    "min_splits = []\n",
    "scores = []\n",
    "\n",
    "for min_split in range(2,51):\n",
    "\n",
    "    dtr_mdl = DecisionTreeRegressor(min_samples_split=min_split, ccp_alpha=1000)\n",
    "\n",
    "    score = cross_val_score(dtr_mdl, X=X_test, y=y_test, cv=10)\n",
    "\n",
    "    min_splits.append(min_split)\n",
    "    scores.append(score.mean())\n",
    "\n",
    "dtr_regr_df = pd.DataFrame(list(zip(min_splits, scores)), columns=[\"min_split\", \"score\"]).sort_values(\"score\", ascending=False).reset_index()\n",
    "\n",
    "\n",
    "dtr_mdl = DecisionTreeRegressor(min_samples_split=dtr_regr_df.loc[0, \"min_split\"], ccp_alpha=1000)\n",
    "dtr_mdl.fit(X_train, y_train)\n",
    "\n",
    "fig_3a = px.scatter(x=y_test, y=dtr_mdl.predict(X_test))\n",
    "fig_3a.update_xaxes(title_text=\"Actual Sale Price\")\n",
    "fig_3a.update_yaxes(title_text=\"Predicted Sale Price\")\n",
    "fig_3a.update_layout(title_text=\"Predicted Sale Price vs. Actual Sale Price\")\n",
    "fig_3a.show()\n",
    "\n",
    "\n",
    "print(f\"Test set score: {dtr_mdl.score(X_test, y_test)}\")"
   ]
  },
  {
   "cell_type": "code",
   "execution_count": 300,
   "metadata": {},
   "outputs": [
    {
     "data": {
      "text/html": [
       "<div>\n",
       "<style scoped>\n",
       "    .dataframe tbody tr th:only-of-type {\n",
       "        vertical-align: middle;\n",
       "    }\n",
       "\n",
       "    .dataframe tbody tr th {\n",
       "        vertical-align: top;\n",
       "    }\n",
       "\n",
       "    .dataframe thead th {\n",
       "        text-align: right;\n",
       "    }\n",
       "</style>\n",
       "<table border=\"1\" class=\"dataframe\">\n",
       "  <thead>\n",
       "    <tr style=\"text-align: right;\">\n",
       "      <th></th>\n",
       "      <th>min_split</th>\n",
       "      <th>max_sample</th>\n",
       "      <th>score</th>\n",
       "    </tr>\n",
       "  </thead>\n",
       "  <tbody>\n",
       "    <tr>\n",
       "      <th>0</th>\n",
       "      <td>25</td>\n",
       "      <td>10000</td>\n",
       "      <td>0.709603</td>\n",
       "    </tr>\n",
       "    <tr>\n",
       "      <th>1</th>\n",
       "      <td>50</td>\n",
       "      <td>100000</td>\n",
       "      <td>0.708366</td>\n",
       "    </tr>\n",
       "    <tr>\n",
       "      <th>2</th>\n",
       "      <td>18</td>\n",
       "      <td>100</td>\n",
       "      <td>0.708257</td>\n",
       "    </tr>\n",
       "    <tr>\n",
       "      <th>3</th>\n",
       "      <td>35</td>\n",
       "      <td>10000</td>\n",
       "      <td>0.708037</td>\n",
       "    </tr>\n",
       "    <tr>\n",
       "      <th>4</th>\n",
       "      <td>37</td>\n",
       "      <td>1</td>\n",
       "      <td>0.707800</td>\n",
       "    </tr>\n",
       "    <tr>\n",
       "      <th>...</th>\n",
       "      <td>...</td>\n",
       "      <td>...</td>\n",
       "      <td>...</td>\n",
       "    </tr>\n",
       "    <tr>\n",
       "      <th>289</th>\n",
       "      <td>12</td>\n",
       "      <td>10</td>\n",
       "      <td>0.698179</td>\n",
       "    </tr>\n",
       "    <tr>\n",
       "      <th>290</th>\n",
       "      <td>32</td>\n",
       "      <td>100</td>\n",
       "      <td>0.698024</td>\n",
       "    </tr>\n",
       "    <tr>\n",
       "      <th>291</th>\n",
       "      <td>38</td>\n",
       "      <td>10</td>\n",
       "      <td>0.697939</td>\n",
       "    </tr>\n",
       "    <tr>\n",
       "      <th>292</th>\n",
       "      <td>47</td>\n",
       "      <td>100000</td>\n",
       "      <td>0.697910</td>\n",
       "    </tr>\n",
       "    <tr>\n",
       "      <th>293</th>\n",
       "      <td>9</td>\n",
       "      <td>100</td>\n",
       "      <td>0.697591</td>\n",
       "    </tr>\n",
       "  </tbody>\n",
       "</table>\n",
       "<p>294 rows × 3 columns</p>\n",
       "</div>"
      ],
      "text/plain": [
       "     min_split  max_sample     score\n",
       "0           25       10000  0.709603\n",
       "1           50      100000  0.708366\n",
       "2           18         100  0.708257\n",
       "3           35       10000  0.708037\n",
       "4           37           1  0.707800\n",
       "..         ...         ...       ...\n",
       "289         12          10  0.698179\n",
       "290         32         100  0.698024\n",
       "291         38          10  0.697939\n",
       "292         47      100000  0.697910\n",
       "293          9         100  0.697591\n",
       "\n",
       "[294 rows x 3 columns]"
      ]
     },
     "execution_count": 300,
     "metadata": {},
     "output_type": "execute_result"
    }
   ],
   "source": [
    "##### Random Forest Regressor\n",
    "\n",
    "rfr_min_splits = []\n",
    "rfr_max_samples = []\n",
    "rfr_alphas = []\n",
    "rfr_scores = []\n",
    "\n",
    "for rfr_min_split in range(2,51):\n",
    "\n",
    "    # for rfr_max_sample in [val/100 for val in range(50,96,5)]:\n",
    "    for rfr_alpha in [10**val for val in range(6)]:\n",
    "\n",
    "        # rfr_mdl = RandomForestRegressor(min_samples_split=min_split, max_samples=rfr_max_sample)\n",
    "        rfr_mdl = RandomForestRegressor(min_samples_split=min_split, \n",
    "                                        max_samples=0.75,\n",
    "                                        n_estimators=200,\n",
    "                                        ccp_alpha=rfr_alpha)\n",
    "\n",
    "        rfr_score = cross_val_score(rfr_mdl, X=scaled_num_X_train, y=y_train, cv=10)\n",
    "\n",
    "        rfr_min_splits.append(rfr_min_split)\n",
    "        # rfr_max_samples.append(rfr_max_sample)\n",
    "        rfr_alphas.append(rfr_alpha)\n",
    "        rfr_scores.append(rfr_score.mean())\n",
    "\n",
    "\n",
    "# rfr_result_df = pd.DataFrame(list(zip(rfr_min_splits, rfr_max_samples, rfr_scores)), \n",
    "#                              columns=[\"min_split\", \"max_sample\", \"score\"])\n",
    "rfr_result_df = pd.DataFrame(list(zip(rfr_min_splits, rfr_alphas, rfr_scores)), \n",
    "                             columns=[\"min_split\", \"ccp_alpha\", \"score\"])\n",
    "rfr_result_df = rfr_result_df.sort_values(\"score\", ascending=False).reset_index(drop=True)\n",
    "\n",
    "rfr_result_df\n"
   ]
  },
  {
   "cell_type": "code",
   "execution_count": 301,
   "metadata": {},
   "outputs": [
    {
     "data": {
      "application/vnd.plotly.v1+json": {
       "config": {
        "plotlyServerURL": "https://plot.ly"
       },
       "data": [
        {
         "hovertemplate": "x=%{x}<br>y=%{y}<extra></extra>",
         "legendgroup": "",
         "marker": {
          "color": "#636efa",
          "symbol": "circle"
         },
         "mode": "markers",
         "name": "",
         "orientation": "v",
         "showlegend": false,
         "type": "scatter",
         "x": [
          189950,
          180000,
          136500,
          160000,
          135000,
          240000,
          100000,
          169900,
          119500,
          240000,
          148000,
          305900,
          140000,
          110000,
          179200,
          99500,
          125000,
          61000,
          143000,
          140000,
          402000,
          93000,
          235000,
          248328,
          200624,
          380000,
          119000,
          132000,
          136500,
          112000,
          137500,
          81000,
          123000,
          157500,
          109500,
          179665,
          501837,
          190000,
          230000,
          149000,
          276000,
          170000,
          60000,
          132000,
          193879,
          104900,
          152000,
          194201,
          171000,
          200000,
          110000,
          152000,
          173000,
          485000,
          120000,
          135500,
          133900,
          245500,
          226000,
          181900,
          112000,
          108500,
          167500,
          410000,
          177500,
          199900,
          150900,
          310000,
          55993,
          369900,
          231500,
          156000,
          134800,
          140000,
          119900,
          196000,
          172000,
          244000,
          161750,
          132000,
          130500,
          180500,
          302000,
          202500,
          228000,
          140000,
          125000,
          174900,
          278000,
          165500,
          131500,
          212000,
          215000,
          466500,
          136000,
          130000,
          168000,
          225000,
          345000,
          138000,
          160000,
          52000,
          82500,
          165000,
          178400,
          177000,
          208900,
          119000,
          311872,
          164500,
          229456,
          240000,
          181000,
          242000,
          135000,
          131500,
          146000,
          210000,
          145000,
          179000,
          180000,
          161500,
          157000,
          155000,
          239000,
          126000,
          168000,
          226000,
          157900,
          118000,
          185000,
          383970,
          175000,
          187500,
          187500,
          290000,
          173733,
          315000,
          176000,
          313000,
          129900,
          194000,
          108000,
          234000,
          113000,
          286000,
          244600,
          315000,
          103000,
          68500,
          252000,
          128000,
          87000,
          122500,
          107900,
          236000,
          160000,
          106250,
          212000,
          124500,
          101800,
          175000,
          129500,
          131400,
          128000,
          187000,
          215000,
          100000,
          372500,
          318000,
          394432,
          137000,
          259500,
          142500,
          277500,
          76000,
          253293,
          170000,
          185000,
          227680,
          290000,
          173500,
          140000,
          124000,
          184000,
          145000,
          165000,
          96500,
          246578,
          156000,
          187750,
          465000,
          138500,
          230000,
          93500,
          114500,
          315000,
          232000,
          128950,
          175000,
          129000,
          115000,
          151000,
          174000,
          266000,
          180000,
          190000,
          91500,
          221500,
          424870,
          97500,
          115000,
          120500,
          287000,
          113000,
          158000,
          125000,
          110000,
          173000,
          340000,
          214000,
          115000,
          185850,
          274000,
          126175,
          112000,
          233230,
          204900,
          205000,
          113000,
          216000,
          215000,
          167500,
          207000,
          86000,
          90000,
          80000,
          97000,
          335000,
          375000,
          187500,
          250000,
          108000,
          184750,
          217500,
          206000,
          149900,
          230000,
          275000,
          181000,
          162000,
          175500,
          140000,
          240000,
          266000,
          187100,
          34900,
          126000,
          110000,
          145000,
          150000,
          163500,
          147000,
          336000,
          237500,
          188000,
          222000,
          87500,
          266500,
          75500,
          117000,
          160000,
          127000,
          306000,
          107500,
          132000,
          172400,
          67000,
          235000,
          153575,
          149500,
          239000,
          234000,
          88000,
          270000,
          197900,
          91000,
          196500,
          119200,
          115000,
          129500,
          272000,
          87000,
          348000,
          129500,
          139000,
          143000,
          324000,
          130000,
          625000,
          215200,
          154000,
          385000,
          158500,
          135500,
          392500,
          287000,
          88000,
          210000,
          134500,
          176432,
          193000,
          315750,
          204000,
          215000,
          176000,
          128500,
          262500,
          159434,
          244400,
          196500,
          185000,
          120500,
          84900,
          58500,
          171750,
          181000,
          132500,
          187500,
          205000,
          250000,
          190000,
          109000,
          129900,
          162900,
          191000,
          184900,
          97000,
          263435,
          167000,
          260000,
          173000,
          89500,
          197500,
          213500,
          85000,
          159500,
          151000,
          215000,
          92000,
          118000,
          159000,
          167000,
          275000,
          155000,
          154000,
          86000,
          135000,
          145000,
          204750,
          212900,
          140000,
          200000,
          72500,
          126000,
          79000,
          105500,
          272000,
          73000,
          106500,
          141000,
          135000,
          224900,
          165150,
          360000,
          125000,
          201000,
          103600,
          179900,
          184000,
          167000,
          124000,
          128000,
          260000,
          35311,
          415298,
          179900,
          173900,
          403000,
          135000,
          175500,
          37900,
          202900,
          123000,
          135000,
          143500,
          136000,
          193500,
          109008,
          200000,
          135000,
          125500,
          143000,
          268000,
          100000,
          142000,
          147000,
          67000,
          162000,
          227000,
          235000,
          209500,
          92900,
          140000,
          85000,
          109500,
          178000,
          294000,
          136905,
          185000,
          134000,
          194700,
          281213,
          185000,
          201000,
          170000,
          106000,
          255500,
          181000,
          437154,
          178000,
          139950,
          105000,
          446261,
          207000,
          95000,
          100000,
          134000,
          127500,
          100000,
          140000,
          139000,
          125500,
          200000,
          185000,
          175000,
          146500,
          194000,
          121000,
          174500,
          165000,
          278000,
          159000,
          245000,
          212000,
          268000,
          148000,
          141000,
          163990,
          188000,
          55000,
          183000,
          173000,
          184000,
          55000,
          130000,
          137450,
          144000,
          335000,
          250580,
          224900,
          115000,
          260400,
          205000,
          143000,
          169000,
          164700,
          231500,
          143500,
          129000,
          173000,
          213000,
          195000,
          110000,
          129000,
          100000,
          89000,
          158000,
          128200,
          124000,
          250000,
          128000,
          290000,
          153337,
          110000,
          206900,
          154500,
          130000,
          253000,
          139000,
          66500,
          335000,
          136000,
          119500,
          98000,
          145000,
          220000,
          179500,
          125500,
          105000,
          156932,
          176000,
          157900,
          255900,
          267000,
          144152,
          190000,
          135000,
          139000,
          176000,
          333168,
          237000,
          158900,
          277000,
          84500,
          149000,
          260000,
          134432,
          213000,
          133000,
          208500,
          241000,
          168000,
          180000,
          159000,
          144000,
          144000,
          114504,
          249700,
          262280,
          145000,
          131000,
          191000,
          178900,
          79900,
          132250,
          110000,
          105000,
          263000,
          39300,
          293077,
          136500,
          239799,
          244000,
          232600,
          239000,
          119000,
          103200,
          93000,
          213250,
          144000,
          236500,
          85500,
          229000,
          121500,
          155000,
          228950,
          117000,
          402861,
          170000,
          261500,
          328000,
          325000,
          283463,
          176000,
          172500,
          157500,
          193000,
          325300,
          147000,
          144000,
          163000,
          164000,
          79900
         ],
         "xaxis": "x",
         "y": [
          140801.51006789567,
          176691.97657971308,
          155006.89706993193,
          170639.62669402175,
          183079.91451587385,
          253833.26084132228,
          107243.05728838238,
          152067.2288495093,
          108167.60422366949,
          252182.82568847213,
          145555.691213811,
          368588.6673392633,
          110304.12549740543,
          135691.85175522685,
          230540.19786228714,
          131111.59670454578,
          129996.90072218317,
          94934.50327557285,
          147237.76679142675,
          143408.22920320006,
          349148.81912189565,
          126131.69288133847,
          256073.55658350055,
          281578.92275768984,
          295423.43978916446,
          402143.3423422921,
          109995.31160412914,
          121180.85963564577,
          132367.5026415879,
          110551.64546861016,
          136222.55180520707,
          134650.12359289548,
          133299.16982018226,
          172669.98852089542,
          110004.25760657196,
          176899.19491772237,
          394402.25601581373,
          214744.81796699564,
          267268.0655787689,
          143938.86089136367,
          346568.84977061383,
          171758.45497201494,
          91241.40906062262,
          139119.16892520367,
          199991.8801616406,
          168405.39275800827,
          148307.78897498825,
          198955.049751629,
          164628.17801994036,
          248182.50927425327,
          121744.53644778402,
          148323.93843316156,
          181777.814935015,
          439994.53387381276,
          123561.86728934139,
          128701.44873901285,
          125403.40466636165,
          182363.85644828054,
          209587.00327771596,
          170911.01768429967,
          121660.71286976166,
          114464.96210035178,
          149725.2557000751,
          392921.0984732387,
          176774.73028296503,
          213601.9180901112,
          202440.42009038475,
          278739.4010584092,
          104397.2542532476,
          357260.05936500774,
          211763.8540199587,
          135718.64684910543,
          129085.7497090601,
          150698.83685788474,
          117623.45346543653,
          194509.46314388656,
          178807.60142694743,
          227689.01015236147,
          138321.95451588533,
          122703.66526830984,
          112824.28991512759,
          152562.252548349,
          335648.0688608324,
          185475.65176810249,
          262476.6031928952,
          147793.45601943988,
          142933.6300161505,
          147728.00520850648,
          324591.1799688227,
          149571.68374662736,
          139163.00641443185,
          195159.03761190522,
          213607.98165134486,
          474297.7517317921,
          134532.38066769953,
          160277.39759493124,
          165163.02703307956,
          190387.00856721765,
          283636.21026920906,
          145761.43053182124,
          114418.26319440003,
          94436.73999344087,
          89616.21446360926,
          154088.2175129469,
          144517.66627212174,
          176847.2461089699,
          193305.06786640655,
          121975.67379092144,
          318527.03618193744,
          164839.61719302816,
          200681.02596726417,
          243680.98117340184,
          155161.27402038383,
          258407.99376319398,
          98968.92559593967,
          143499.7694330851,
          154037.220524556,
          147566.80919841203,
          112783.83441929727,
          192026.93245431417,
          184883.99257726278,
          162900.67644414149,
          151351.6617469896,
          123107.32922015585,
          315795.1240886207,
          155717.6911807542,
          184824.14703900935,
          234141.5625931478,
          143306.71919180072,
          100851.36455443449,
          185416.87716178413,
          326284.8294155892,
          187668.5090507818,
          151963.91814882818,
          174343.74999392097,
          266627.12456640904,
          164839.61719302816,
          329920.88936203776,
          173216.2859169212,
          290305.48784472514,
          144884.033583782,
          181472.13408752784,
          128288.81293769972,
          195280.18371639145,
          147491.51616402593,
          241129.8177434066,
          234533.16569603354,
          361099.92954408244,
          113569.40373886259,
          88269.54941449067,
          279224.6334868394,
          133028.1176573295,
          94306.17431820797,
          158566.42213844784,
          128253.88332776484,
          229895.58902564316,
          162475.2424518274,
          97364.03783760764,
          214137.34614706453,
          130001.71512024988,
          112269.20200370318,
          207705.7838343684,
          119202.86663755507,
          126524.59034628833,
          128426.82303340382,
          177942.95937434927,
          224214.00494272026,
          132798.52615848958,
          374685.7069480057,
          288097.19233663066,
          339035.76228745765,
          150789.88354575585,
          200225.4697742831,
          155268.39047904417,
          240140.28055755398,
          104990.78510135166,
          381875.33987629355,
          148375.8917323534,
          182535.56982922123,
          228919.57495990247,
          311617.9423525923,
          185170.0153737596,
          150400.77684658708,
          120538.35362574391,
          161981.3818511779,
          160080.79693650478,
          152340.81401431735,
          100807.4491469656,
          214762.4978356103,
          142209.3921583045,
          198215.49057192437,
          373262.82279427943,
          135615.054917795,
          196764.159135291,
          101122.85891416317,
          124084.12738691596,
          225635.65843369343,
          252604.92928700574,
          116901.72544358212,
          179150.7029743325,
          113701.8077045661,
          106364.20502781995,
          154272.42654069304,
          174634.97776212674,
          279124.606141996,
          199328.97555362762,
          236919.22566161773,
          140934.17514092437,
          255750.81696319007,
          382532.9833972077,
          141366.09087997332,
          144786.1845716046,
          124786.67349306367,
          285697.661698504,
          148811.25282142704,
          123568.55134924805,
          126615.73787761694,
          129592.81204968077,
          185722.02184262165,
          310709.284909942,
          247111.85813636988,
          147713.04578974715,
          194342.4530340316,
          237372.66606413084,
          144656.5829263991,
          108180.75962718856,
          266078.87760984054,
          245463.09450035924,
          244446.97838003043,
          111965.7467318328,
          204261.90212956455,
          221771.5758963581,
          157250.17903146378,
          192991.9605033,
          91688.81536021536,
          163617.21129403877,
          101740.03094206812,
          123670.22619338588,
          276207.3395671958,
          216238.82545662016,
          231829.055387669,
          244540.26079198028,
          153316.2430533952,
          507267.4067194163,
          192530.27228474032,
          184591.69461235832,
          170634.3701216304,
          226216.21308048684,
          252801.4867351977,
          181997.24329301313,
          140761.53208259653,
          153776.5577903478,
          178693.45599875294,
          276413.34123984165,
          262927.54599853733,
          207277.51868528125,
          94101.43681156024,
          141609.61088370893,
          118850.52109513636,
          144555.8100487113,
          168250.78544314884,
          180927.73232346974,
          135295.65396230246,
          303595.3057142751,
          204173.4319357652,
          201686.72984732917,
          206940.01953622876,
          100803.7962217703,
          215370.12861419952,
          91160.94932399376,
          123372.60588218231,
          151474.87568642426,
          113220.39245911544,
          314492.47662947926,
          168400.40340320504,
          139212.82273536464,
          184809.5544465311,
          100415.95238796556,
          233621.83802973648,
          136466.3752276756,
          170561.14529984654,
          240694.22448898596,
          194704.26561864364,
          96538.48022627343,
          278432.2884024398,
          183912.40736327152,
          99539.20473449053,
          184657.30438957058,
          126956.3921473784,
          125277.64097100808,
          133029.02100661077,
          255678.74298772492,
          179394.2059244788,
          318247.1192098565,
          132653.15258240458,
          143455.6741253082,
          150864.36530434166,
          264960.55607952445,
          120260.24899804317,
          425209.63676145783,
          196847.83219025497,
          148953.58773153406,
          248026.6017029738,
          137780.79801768102,
          134202.99465568748,
          258918.1113951282,
          310016.715242701,
          94432.74354205764,
          212931.35490608643,
          128783.7330238308,
          188033.851637246,
          233735.3542190088,
          315288.0950049991,
          232322.1778495195,
          227767.89820096132,
          174690.5848359438,
          130194.24658908602,
          235213.5382673211,
          152839.91848783675,
          175761.83463987618,
          201820.5032832903,
          175934.41657784863,
          130596.92161409828,
          106832.96929632222,
          103903.73941476186,
          193057.17877979076,
          189831.72324924075,
          130729.55144577022,
          184724.00072931455,
          181527.7813587463,
          220630.72494315772,
          217689.251052473,
          132503.3938118015,
          151375.78790073513,
          153919.9768329368,
          190961.18270961393,
          175925.67040213465,
          100530.72612539883,
          239372.14576801728,
          198820.79610993218,
          265080.6759339263,
          176093.37157119054,
          93381.4874117002,
          169904.2287813449,
          194770.02021499406,
          99710.50362738222,
          266229.9344751787,
          142729.115597384,
          184327.4936727381,
          90447.02608865808,
          155147.97151386444,
          143674.80293413228,
          145526.16429634354,
          237098.46442453878,
          168969.7491634896,
          158383.11362399164,
          111119.5179248777,
          111385.05747138234,
          208624.79804403146,
          241214.60323799442,
          244708.72508289796,
          146337.26024936698,
          185757.66831125217,
          95542.7380969543,
          105826.8372243029,
          130494.4598315534,
          114404.28492836533,
          237007.7236968776,
          116746.77769081842,
          100835.94748380462,
          135746.84520098325,
          139363.1767469613,
          253307.7304774163,
          163685.4726787064,
          338728.7461531382,
          173422.53493935935,
          235918.07528409347,
          123640.99021804365,
          200313.7302953424,
          225215.04562769772,
          175035.95097937994,
          130357.79759980302,
          138336.9570468417,
          179014.71584100195,
          94142.04958715828,
          374836.5642692975,
          157595.90248795954,
          193231.76723052477,
          348512.64295022865,
          125579.7970995657,
          190298.27847978554,
          87825.81772410199,
          217339.55771360666,
          120586.27378261104,
          132857.2288849219,
          141033.73593615295,
          174382.6483798537,
          222774.83534683316,
          123534.79074685994,
          215321.56148259158,
          143888.17127114514,
          122073.43778008623,
          180148.15897819257,
          255068.92454189257,
          124251.79631774838,
          149601.2459047864,
          135866.87794432367,
          115539.32784094961,
          159303.68808697932,
          235239.31839872658,
          219051.90331717618,
          242488.1809082524,
          100777.93597002861,
          149934.7062943002,
          107830.96741307841,
          123876.42731866165,
          166619.27174437174,
          216095.27151398655,
          198343.8296910921,
          169796.4344122447,
          151617.52528299682,
          193132.58022196539,
          293288.8520748872,
          144418.49817744308,
          187700.74508193106,
          186280.57343640696,
          155598.91799748584,
          314026.53142757074,
          185944.47283915262,
          385295.5528168746,
          166893.7178307028,
          140884.70841173612,
          127710.41719430347,
          346860.21202922874,
          164363.08612147233,
          91659.27772401873,
          99941.27106070593,
          151393.4440923138,
          117239.58696099473,
          140247.2987879122,
          151592.1959774595,
          138821.94634784694,
          114397.4268720676,
          270019.3981691038,
          172031.44830249026,
          152035.1352345612,
          155538.9069339342,
          186372.49704526947,
          108395.2246611631,
          148966.79614607533,
          163417.11153503685,
          241423.20804374866,
          164885.0050172961,
          244562.96936046274,
          209449.28724031168,
          240294.8533410608,
          150924.27458333987,
          137000.25355626093,
          173402.5274218079,
          196498.77000695755,
          87521.5355248595,
          195537.2132613438,
          170588.12352013346,
          147685.94595938805,
          100749.77743845411,
          126564.2978894377,
          149436.9317399802,
          143847.32066147862,
          289371.08489097253,
          196363.3337201137,
          209430.16754644335,
          127684.87421570712,
          268402.09538921487,
          236378.57642576747,
          188412.95417476754,
          189081.29099053706,
          164512.94560009215,
          201674.6633947941,
          153626.9408109472,
          129201.18648429892,
          172093.82385274034,
          195311.95505211232,
          190526.94423900597,
          117246.39742307979,
          144058.7000745049,
          126797.6140106698,
          88116.0886763716,
          186559.14835918145,
          130206.2861690232,
          122682.10679980092,
          267617.0314394393,
          109390.1995573321,
          314031.40506211825,
          156407.03577179438,
          107618.43762741843,
          184665.79631809,
          138058.6900725945,
          135578.9940567482,
          272720.8678156254,
          135226.31282496164,
          94953.51018268257,
          237657.04773882765,
          153775.70017656992,
          125487.67222528279,
          134670.83007683072,
          231162.31706579746,
          165878.44660712575,
          190413.3115112106,
          122096.0085316238,
          101561.59102444688,
          164775.08482853015,
          174135.60536578193,
          159445.5377340623,
          293946.66343661025,
          302623.9701387235,
          154272.42654069304,
          208308.65833036485,
          127619.64549925782,
          139057.80852631017,
          182348.97897057526,
          320823.54428644286,
          215749.01632799717,
          142755.1223913029,
          231069.66890350307,
          89699.94646217432,
          143355.19436748375,
          296048.1307440623,
          159146.38959018764,
          242252.73945926392,
          117096.68493653776,
          198518.91868111893,
          188569.25990898005,
          172073.39308380045,
          171668.0663755237,
          152201.83466470247,
          134621.27823950886,
          151162.91000003618,
          117891.37054864127,
          268664.8927283318,
          277373.6025580928,
          143482.98640428387,
          137417.9012567851,
          195732.89662030074,
          175224.58068905026,
          108351.67124523189,
          138272.36566988216,
          110168.68888958065,
          105427.70392531077,
          236498.96256419973,
          86630.72587963824,
          270150.9913914063,
          132747.34127627948,
          287372.43018696405,
          231583.42574967086,
          245040.89213778955,
          172945.3308264277,
          108981.971283601,
          105819.19454678758,
          133004.67742586404,
          254046.96780847848,
          208636.36853776235,
          270588.89127743966,
          92025.74042737164,
          255131.59995593372,
          166546.13293023917,
          152142.72333136914,
          175742.81040047677,
          150311.97980135138,
          377619.14879363606,
          160966.98262289236,
          226686.97990055286,
          246457.42811798662,
          270696.6037298061,
          314834.5740212434,
          154029.48709987273,
          198677.73201091748,
          171724.56513296333,
          176440.5346073322,
          319370.5663682272,
          131595.04915803456,
          148538.4210092552,
          149815.01396928885,
          145151.8174641704,
          103194.77594244044
         ],
         "yaxis": "y"
        }
       ],
       "layout": {
        "legend": {
         "tracegroupgap": 0
        },
        "margin": {
         "t": 60
        },
        "template": {
         "data": {
          "bar": [
           {
            "error_x": {
             "color": "#2a3f5f"
            },
            "error_y": {
             "color": "#2a3f5f"
            },
            "marker": {
             "line": {
              "color": "#E5ECF6",
              "width": 0.5
             },
             "pattern": {
              "fillmode": "overlay",
              "size": 10,
              "solidity": 0.2
             }
            },
            "type": "bar"
           }
          ],
          "barpolar": [
           {
            "marker": {
             "line": {
              "color": "#E5ECF6",
              "width": 0.5
             },
             "pattern": {
              "fillmode": "overlay",
              "size": 10,
              "solidity": 0.2
             }
            },
            "type": "barpolar"
           }
          ],
          "carpet": [
           {
            "aaxis": {
             "endlinecolor": "#2a3f5f",
             "gridcolor": "white",
             "linecolor": "white",
             "minorgridcolor": "white",
             "startlinecolor": "#2a3f5f"
            },
            "baxis": {
             "endlinecolor": "#2a3f5f",
             "gridcolor": "white",
             "linecolor": "white",
             "minorgridcolor": "white",
             "startlinecolor": "#2a3f5f"
            },
            "type": "carpet"
           }
          ],
          "choropleth": [
           {
            "colorbar": {
             "outlinewidth": 0,
             "ticks": ""
            },
            "type": "choropleth"
           }
          ],
          "contour": [
           {
            "colorbar": {
             "outlinewidth": 0,
             "ticks": ""
            },
            "colorscale": [
             [
              0,
              "#0d0887"
             ],
             [
              0.1111111111111111,
              "#46039f"
             ],
             [
              0.2222222222222222,
              "#7201a8"
             ],
             [
              0.3333333333333333,
              "#9c179e"
             ],
             [
              0.4444444444444444,
              "#bd3786"
             ],
             [
              0.5555555555555556,
              "#d8576b"
             ],
             [
              0.6666666666666666,
              "#ed7953"
             ],
             [
              0.7777777777777778,
              "#fb9f3a"
             ],
             [
              0.8888888888888888,
              "#fdca26"
             ],
             [
              1,
              "#f0f921"
             ]
            ],
            "type": "contour"
           }
          ],
          "contourcarpet": [
           {
            "colorbar": {
             "outlinewidth": 0,
             "ticks": ""
            },
            "type": "contourcarpet"
           }
          ],
          "heatmap": [
           {
            "colorbar": {
             "outlinewidth": 0,
             "ticks": ""
            },
            "colorscale": [
             [
              0,
              "#0d0887"
             ],
             [
              0.1111111111111111,
              "#46039f"
             ],
             [
              0.2222222222222222,
              "#7201a8"
             ],
             [
              0.3333333333333333,
              "#9c179e"
             ],
             [
              0.4444444444444444,
              "#bd3786"
             ],
             [
              0.5555555555555556,
              "#d8576b"
             ],
             [
              0.6666666666666666,
              "#ed7953"
             ],
             [
              0.7777777777777778,
              "#fb9f3a"
             ],
             [
              0.8888888888888888,
              "#fdca26"
             ],
             [
              1,
              "#f0f921"
             ]
            ],
            "type": "heatmap"
           }
          ],
          "heatmapgl": [
           {
            "colorbar": {
             "outlinewidth": 0,
             "ticks": ""
            },
            "colorscale": [
             [
              0,
              "#0d0887"
             ],
             [
              0.1111111111111111,
              "#46039f"
             ],
             [
              0.2222222222222222,
              "#7201a8"
             ],
             [
              0.3333333333333333,
              "#9c179e"
             ],
             [
              0.4444444444444444,
              "#bd3786"
             ],
             [
              0.5555555555555556,
              "#d8576b"
             ],
             [
              0.6666666666666666,
              "#ed7953"
             ],
             [
              0.7777777777777778,
              "#fb9f3a"
             ],
             [
              0.8888888888888888,
              "#fdca26"
             ],
             [
              1,
              "#f0f921"
             ]
            ],
            "type": "heatmapgl"
           }
          ],
          "histogram": [
           {
            "marker": {
             "pattern": {
              "fillmode": "overlay",
              "size": 10,
              "solidity": 0.2
             }
            },
            "type": "histogram"
           }
          ],
          "histogram2d": [
           {
            "colorbar": {
             "outlinewidth": 0,
             "ticks": ""
            },
            "colorscale": [
             [
              0,
              "#0d0887"
             ],
             [
              0.1111111111111111,
              "#46039f"
             ],
             [
              0.2222222222222222,
              "#7201a8"
             ],
             [
              0.3333333333333333,
              "#9c179e"
             ],
             [
              0.4444444444444444,
              "#bd3786"
             ],
             [
              0.5555555555555556,
              "#d8576b"
             ],
             [
              0.6666666666666666,
              "#ed7953"
             ],
             [
              0.7777777777777778,
              "#fb9f3a"
             ],
             [
              0.8888888888888888,
              "#fdca26"
             ],
             [
              1,
              "#f0f921"
             ]
            ],
            "type": "histogram2d"
           }
          ],
          "histogram2dcontour": [
           {
            "colorbar": {
             "outlinewidth": 0,
             "ticks": ""
            },
            "colorscale": [
             [
              0,
              "#0d0887"
             ],
             [
              0.1111111111111111,
              "#46039f"
             ],
             [
              0.2222222222222222,
              "#7201a8"
             ],
             [
              0.3333333333333333,
              "#9c179e"
             ],
             [
              0.4444444444444444,
              "#bd3786"
             ],
             [
              0.5555555555555556,
              "#d8576b"
             ],
             [
              0.6666666666666666,
              "#ed7953"
             ],
             [
              0.7777777777777778,
              "#fb9f3a"
             ],
             [
              0.8888888888888888,
              "#fdca26"
             ],
             [
              1,
              "#f0f921"
             ]
            ],
            "type": "histogram2dcontour"
           }
          ],
          "mesh3d": [
           {
            "colorbar": {
             "outlinewidth": 0,
             "ticks": ""
            },
            "type": "mesh3d"
           }
          ],
          "parcoords": [
           {
            "line": {
             "colorbar": {
              "outlinewidth": 0,
              "ticks": ""
             }
            },
            "type": "parcoords"
           }
          ],
          "pie": [
           {
            "automargin": true,
            "type": "pie"
           }
          ],
          "scatter": [
           {
            "fillpattern": {
             "fillmode": "overlay",
             "size": 10,
             "solidity": 0.2
            },
            "type": "scatter"
           }
          ],
          "scatter3d": [
           {
            "line": {
             "colorbar": {
              "outlinewidth": 0,
              "ticks": ""
             }
            },
            "marker": {
             "colorbar": {
              "outlinewidth": 0,
              "ticks": ""
             }
            },
            "type": "scatter3d"
           }
          ],
          "scattercarpet": [
           {
            "marker": {
             "colorbar": {
              "outlinewidth": 0,
              "ticks": ""
             }
            },
            "type": "scattercarpet"
           }
          ],
          "scattergeo": [
           {
            "marker": {
             "colorbar": {
              "outlinewidth": 0,
              "ticks": ""
             }
            },
            "type": "scattergeo"
           }
          ],
          "scattergl": [
           {
            "marker": {
             "colorbar": {
              "outlinewidth": 0,
              "ticks": ""
             }
            },
            "type": "scattergl"
           }
          ],
          "scattermapbox": [
           {
            "marker": {
             "colorbar": {
              "outlinewidth": 0,
              "ticks": ""
             }
            },
            "type": "scattermapbox"
           }
          ],
          "scatterpolar": [
           {
            "marker": {
             "colorbar": {
              "outlinewidth": 0,
              "ticks": ""
             }
            },
            "type": "scatterpolar"
           }
          ],
          "scatterpolargl": [
           {
            "marker": {
             "colorbar": {
              "outlinewidth": 0,
              "ticks": ""
             }
            },
            "type": "scatterpolargl"
           }
          ],
          "scatterternary": [
           {
            "marker": {
             "colorbar": {
              "outlinewidth": 0,
              "ticks": ""
             }
            },
            "type": "scatterternary"
           }
          ],
          "surface": [
           {
            "colorbar": {
             "outlinewidth": 0,
             "ticks": ""
            },
            "colorscale": [
             [
              0,
              "#0d0887"
             ],
             [
              0.1111111111111111,
              "#46039f"
             ],
             [
              0.2222222222222222,
              "#7201a8"
             ],
             [
              0.3333333333333333,
              "#9c179e"
             ],
             [
              0.4444444444444444,
              "#bd3786"
             ],
             [
              0.5555555555555556,
              "#d8576b"
             ],
             [
              0.6666666666666666,
              "#ed7953"
             ],
             [
              0.7777777777777778,
              "#fb9f3a"
             ],
             [
              0.8888888888888888,
              "#fdca26"
             ],
             [
              1,
              "#f0f921"
             ]
            ],
            "type": "surface"
           }
          ],
          "table": [
           {
            "cells": {
             "fill": {
              "color": "#EBF0F8"
             },
             "line": {
              "color": "white"
             }
            },
            "header": {
             "fill": {
              "color": "#C8D4E3"
             },
             "line": {
              "color": "white"
             }
            },
            "type": "table"
           }
          ]
         },
         "layout": {
          "annotationdefaults": {
           "arrowcolor": "#2a3f5f",
           "arrowhead": 0,
           "arrowwidth": 1
          },
          "autotypenumbers": "strict",
          "coloraxis": {
           "colorbar": {
            "outlinewidth": 0,
            "ticks": ""
           }
          },
          "colorscale": {
           "diverging": [
            [
             0,
             "#8e0152"
            ],
            [
             0.1,
             "#c51b7d"
            ],
            [
             0.2,
             "#de77ae"
            ],
            [
             0.3,
             "#f1b6da"
            ],
            [
             0.4,
             "#fde0ef"
            ],
            [
             0.5,
             "#f7f7f7"
            ],
            [
             0.6,
             "#e6f5d0"
            ],
            [
             0.7,
             "#b8e186"
            ],
            [
             0.8,
             "#7fbc41"
            ],
            [
             0.9,
             "#4d9221"
            ],
            [
             1,
             "#276419"
            ]
           ],
           "sequential": [
            [
             0,
             "#0d0887"
            ],
            [
             0.1111111111111111,
             "#46039f"
            ],
            [
             0.2222222222222222,
             "#7201a8"
            ],
            [
             0.3333333333333333,
             "#9c179e"
            ],
            [
             0.4444444444444444,
             "#bd3786"
            ],
            [
             0.5555555555555556,
             "#d8576b"
            ],
            [
             0.6666666666666666,
             "#ed7953"
            ],
            [
             0.7777777777777778,
             "#fb9f3a"
            ],
            [
             0.8888888888888888,
             "#fdca26"
            ],
            [
             1,
             "#f0f921"
            ]
           ],
           "sequentialminus": [
            [
             0,
             "#0d0887"
            ],
            [
             0.1111111111111111,
             "#46039f"
            ],
            [
             0.2222222222222222,
             "#7201a8"
            ],
            [
             0.3333333333333333,
             "#9c179e"
            ],
            [
             0.4444444444444444,
             "#bd3786"
            ],
            [
             0.5555555555555556,
             "#d8576b"
            ],
            [
             0.6666666666666666,
             "#ed7953"
            ],
            [
             0.7777777777777778,
             "#fb9f3a"
            ],
            [
             0.8888888888888888,
             "#fdca26"
            ],
            [
             1,
             "#f0f921"
            ]
           ]
          },
          "colorway": [
           "#636efa",
           "#EF553B",
           "#00cc96",
           "#ab63fa",
           "#FFA15A",
           "#19d3f3",
           "#FF6692",
           "#B6E880",
           "#FF97FF",
           "#FECB52"
          ],
          "font": {
           "color": "#2a3f5f"
          },
          "geo": {
           "bgcolor": "white",
           "lakecolor": "white",
           "landcolor": "#E5ECF6",
           "showlakes": true,
           "showland": true,
           "subunitcolor": "white"
          },
          "hoverlabel": {
           "align": "left"
          },
          "hovermode": "closest",
          "mapbox": {
           "style": "light"
          },
          "paper_bgcolor": "white",
          "plot_bgcolor": "#E5ECF6",
          "polar": {
           "angularaxis": {
            "gridcolor": "white",
            "linecolor": "white",
            "ticks": ""
           },
           "bgcolor": "#E5ECF6",
           "radialaxis": {
            "gridcolor": "white",
            "linecolor": "white",
            "ticks": ""
           }
          },
          "scene": {
           "xaxis": {
            "backgroundcolor": "#E5ECF6",
            "gridcolor": "white",
            "gridwidth": 2,
            "linecolor": "white",
            "showbackground": true,
            "ticks": "",
            "zerolinecolor": "white"
           },
           "yaxis": {
            "backgroundcolor": "#E5ECF6",
            "gridcolor": "white",
            "gridwidth": 2,
            "linecolor": "white",
            "showbackground": true,
            "ticks": "",
            "zerolinecolor": "white"
           },
           "zaxis": {
            "backgroundcolor": "#E5ECF6",
            "gridcolor": "white",
            "gridwidth": 2,
            "linecolor": "white",
            "showbackground": true,
            "ticks": "",
            "zerolinecolor": "white"
           }
          },
          "shapedefaults": {
           "line": {
            "color": "#2a3f5f"
           }
          },
          "ternary": {
           "aaxis": {
            "gridcolor": "white",
            "linecolor": "white",
            "ticks": ""
           },
           "baxis": {
            "gridcolor": "white",
            "linecolor": "white",
            "ticks": ""
           },
           "bgcolor": "#E5ECF6",
           "caxis": {
            "gridcolor": "white",
            "linecolor": "white",
            "ticks": ""
           }
          },
          "title": {
           "x": 0.05
          },
          "xaxis": {
           "automargin": true,
           "gridcolor": "white",
           "linecolor": "white",
           "ticks": "",
           "title": {
            "standoff": 15
           },
           "zerolinecolor": "white",
           "zerolinewidth": 2
          },
          "yaxis": {
           "automargin": true,
           "gridcolor": "white",
           "linecolor": "white",
           "ticks": "",
           "title": {
            "standoff": 15
           },
           "zerolinecolor": "white",
           "zerolinewidth": 2
          }
         }
        },
        "title": {
         "text": "Predicted Sale Price vs. Actual Sale Price"
        },
        "xaxis": {
         "anchor": "y",
         "domain": [
          0,
          1
         ],
         "title": {
          "text": "Actual Sale Price"
         }
        },
        "yaxis": {
         "anchor": "x",
         "domain": [
          0,
          1
         ],
         "title": {
          "text": "Predicted Sale Price"
         }
        }
       }
      }
     },
     "metadata": {},
     "output_type": "display_data"
    },
    {
     "name": "stdout",
     "output_type": "stream",
     "text": [
      "Test set score: 0.8068200342578721\n"
     ]
    }
   ],
   "source": [
    "max_sample_df = rfr_result_df.groupby(\"max_sample\").mean().reset_index()\n",
    "\n",
    "final_rfr_mdl = RandomForestRegressor(min_samples_split=25, \n",
    "                                      max_samples=0.75,\n",
    "                                      n_estimators=200,\n",
    "                                      ccp_alpha=10000)\n",
    "final_rfr_mdl.fit(X_train, y_train)\n",
    "\n",
    "fig_5a = px.scatter(x=y_test, y=final_rfr_mdl.predict(X_test))\n",
    "\n",
    "fig_5a.update_xaxes(title_text=\"Actual Sale Price\")\n",
    "fig_5a.update_yaxes(title_text=\"Predicted Sale Price\")\n",
    "fig_5a.update_layout(title_text=\"Predicted Sale Price vs. Actual Sale Price\")\n",
    "fig_5a.show()\n",
    "\n",
    "print(f\"Test set score: {final_rfr_mdl.score(X_test, y_test)}\")"
   ]
  },
  {
   "cell_type": "code",
   "execution_count": 282,
   "metadata": {},
   "outputs": [
    {
     "name": "stdout",
     "output_type": "stream",
     "text": [
      "1\n",
      "2\n",
      "3\n",
      "4\n",
      "5\n",
      "6\n",
      "7\n",
      "8\n",
      "9\n",
      "10\n"
     ]
    },
    {
     "data": {
      "text/html": [
       "<div>\n",
       "<style scoped>\n",
       "    .dataframe tbody tr th:only-of-type {\n",
       "        vertical-align: middle;\n",
       "    }\n",
       "\n",
       "    .dataframe tbody tr th {\n",
       "        vertical-align: top;\n",
       "    }\n",
       "\n",
       "    .dataframe thead th {\n",
       "        text-align: right;\n",
       "    }\n",
       "</style>\n",
       "<table border=\"1\" class=\"dataframe\">\n",
       "  <thead>\n",
       "    <tr style=\"text-align: right;\">\n",
       "      <th></th>\n",
       "      <th>max_depth</th>\n",
       "      <th>min_split</th>\n",
       "      <th>score</th>\n",
       "    </tr>\n",
       "  </thead>\n",
       "  <tbody>\n",
       "    <tr>\n",
       "      <th>0</th>\n",
       "      <td>5</td>\n",
       "      <td>11</td>\n",
       "      <td>0.737433</td>\n",
       "    </tr>\n",
       "    <tr>\n",
       "      <th>1</th>\n",
       "      <td>5</td>\n",
       "      <td>17</td>\n",
       "      <td>0.734476</td>\n",
       "    </tr>\n",
       "    <tr>\n",
       "      <th>2</th>\n",
       "      <td>4</td>\n",
       "      <td>5</td>\n",
       "      <td>0.734187</td>\n",
       "    </tr>\n",
       "    <tr>\n",
       "      <th>3</th>\n",
       "      <td>5</td>\n",
       "      <td>20</td>\n",
       "      <td>0.731060</td>\n",
       "    </tr>\n",
       "    <tr>\n",
       "      <th>4</th>\n",
       "      <td>4</td>\n",
       "      <td>35</td>\n",
       "      <td>0.729722</td>\n",
       "    </tr>\n",
       "    <tr>\n",
       "      <th>...</th>\n",
       "      <td>...</td>\n",
       "      <td>...</td>\n",
       "      <td>...</td>\n",
       "    </tr>\n",
       "    <tr>\n",
       "      <th>105</th>\n",
       "      <td>8</td>\n",
       "      <td>11</td>\n",
       "      <td>0.697120</td>\n",
       "    </tr>\n",
       "    <tr>\n",
       "      <th>106</th>\n",
       "      <td>8</td>\n",
       "      <td>29</td>\n",
       "      <td>0.692223</td>\n",
       "    </tr>\n",
       "    <tr>\n",
       "      <th>107</th>\n",
       "      <td>9</td>\n",
       "      <td>8</td>\n",
       "      <td>0.688742</td>\n",
       "    </tr>\n",
       "    <tr>\n",
       "      <th>108</th>\n",
       "      <td>9</td>\n",
       "      <td>5</td>\n",
       "      <td>0.683167</td>\n",
       "    </tr>\n",
       "    <tr>\n",
       "      <th>109</th>\n",
       "      <td>10</td>\n",
       "      <td>5</td>\n",
       "      <td>0.677278</td>\n",
       "    </tr>\n",
       "  </tbody>\n",
       "</table>\n",
       "<p>110 rows × 3 columns</p>\n",
       "</div>"
      ],
      "text/plain": [
       "     max_depth  min_split     score\n",
       "0            5         11  0.737433\n",
       "1            5         17  0.734476\n",
       "2            4          5  0.734187\n",
       "3            5         20  0.731060\n",
       "4            4         35  0.729722\n",
       "..         ...        ...       ...\n",
       "105          8         11  0.697120\n",
       "106          8         29  0.692223\n",
       "107          9          8  0.688742\n",
       "108          9          5  0.683167\n",
       "109         10          5  0.677278\n",
       "\n",
       "[110 rows x 3 columns]"
      ]
     },
     "execution_count": 282,
     "metadata": {},
     "output_type": "execute_result"
    }
   ],
   "source": [
    "##### Gradient Boost Regressor\n",
    "gbr_max_depth = []\n",
    "gbr_min_split = []\n",
    "gbr_scores = []\n",
    "\n",
    "for val in range(1,11):\n",
    "\n",
    "    for val2 in range(5,38,3):\n",
    "\n",
    "        gbr_params = {\n",
    "            \"n_estimators\": 500,\n",
    "            \"max_depth\": val,\n",
    "            \"min_samples_split\": val2,\n",
    "            \"learning_rate\": 0.2,\n",
    "            \"loss\": \"squared_error\",\n",
    "            \"ccp_alpha\": 100\n",
    "        }\n",
    "\n",
    "        gbr_reg_mdl = GradientBoostingRegressor(**gbr_params)\n",
    "\n",
    "        gbr_score = cross_val_score(gbr_reg_mdl, X=X_train, y=y_train, cv=10)\n",
    "\n",
    "        gbr_max_depth.append(val)\n",
    "        gbr_min_split.append(val2)\n",
    "        gbr_scores.append(gbr_score.mean())\n",
    "\n",
    "    print(val)\n",
    "\n",
    "\n",
    "gbr_reg_df = pd.DataFrame(list(zip(gbr_max_depth, gbr_min_split, gbr_scores)), \n",
    "                          columns=[\"max_depth\", \"min_split\", \"score\"])\n",
    "gbr_reg_df = gbr_reg_df.sort_values(\"score\", ascending=False).reset_index(drop=True)\n",
    "\n",
    "gbr_reg_df"
   ]
  },
  {
   "cell_type": "code",
   "execution_count": 283,
   "metadata": {},
   "outputs": [
    {
     "data": {
      "application/vnd.plotly.v1+json": {
       "config": {
        "plotlyServerURL": "https://plot.ly"
       },
       "data": [
        {
         "hovertemplate": "x=%{x}<br>y=%{y}<extra></extra>",
         "legendgroup": "",
         "marker": {
          "color": "#636efa",
          "symbol": "circle"
         },
         "mode": "markers",
         "name": "",
         "orientation": "v",
         "showlegend": false,
         "type": "scatter",
         "x": [
          189950,
          180000,
          136500,
          160000,
          135000,
          240000,
          100000,
          169900,
          119500,
          240000,
          148000,
          305900,
          140000,
          110000,
          179200,
          99500,
          125000,
          61000,
          143000,
          140000,
          402000,
          93000,
          235000,
          248328,
          200624,
          380000,
          119000,
          132000,
          136500,
          112000,
          137500,
          81000,
          123000,
          157500,
          109500,
          179665,
          501837,
          190000,
          230000,
          149000,
          276000,
          170000,
          60000,
          132000,
          193879,
          104900,
          152000,
          194201,
          171000,
          200000,
          110000,
          152000,
          173000,
          485000,
          120000,
          135500,
          133900,
          245500,
          226000,
          181900,
          112000,
          108500,
          167500,
          410000,
          177500,
          199900,
          150900,
          310000,
          55993,
          369900,
          231500,
          156000,
          134800,
          140000,
          119900,
          196000,
          172000,
          244000,
          161750,
          132000,
          130500,
          180500,
          302000,
          202500,
          228000,
          140000,
          125000,
          174900,
          278000,
          165500,
          131500,
          212000,
          215000,
          466500,
          136000,
          130000,
          168000,
          225000,
          345000,
          138000,
          160000,
          52000,
          82500,
          165000,
          178400,
          177000,
          208900,
          119000,
          311872,
          164500,
          229456,
          240000,
          181000,
          242000,
          135000,
          131500,
          146000,
          210000,
          145000,
          179000,
          180000,
          161500,
          157000,
          155000,
          239000,
          126000,
          168000,
          226000,
          157900,
          118000,
          185000,
          383970,
          175000,
          187500,
          187500,
          290000,
          173733,
          315000,
          176000,
          313000,
          129900,
          194000,
          108000,
          234000,
          113000,
          286000,
          244600,
          315000,
          103000,
          68500,
          252000,
          128000,
          87000,
          122500,
          107900,
          236000,
          160000,
          106250,
          212000,
          124500,
          101800,
          175000,
          129500,
          131400,
          128000,
          187000,
          215000,
          100000,
          372500,
          318000,
          394432,
          137000,
          259500,
          142500,
          277500,
          76000,
          253293,
          170000,
          185000,
          227680,
          290000,
          173500,
          140000,
          124000,
          184000,
          145000,
          165000,
          96500,
          246578,
          156000,
          187750,
          465000,
          138500,
          230000,
          93500,
          114500,
          315000,
          232000,
          128950,
          175000,
          129000,
          115000,
          151000,
          174000,
          266000,
          180000,
          190000,
          91500,
          221500,
          424870,
          97500,
          115000,
          120500,
          287000,
          113000,
          158000,
          125000,
          110000,
          173000,
          340000,
          214000,
          115000,
          185850,
          274000,
          126175,
          112000,
          233230,
          204900,
          205000,
          113000,
          216000,
          215000,
          167500,
          207000,
          86000,
          90000,
          80000,
          97000,
          335000,
          375000,
          187500,
          250000,
          108000,
          184750,
          217500,
          206000,
          149900,
          230000,
          275000,
          181000,
          162000,
          175500,
          140000,
          240000,
          266000,
          187100,
          34900,
          126000,
          110000,
          145000,
          150000,
          163500,
          147000,
          336000,
          237500,
          188000,
          222000,
          87500,
          266500,
          75500,
          117000,
          160000,
          127000,
          306000,
          107500,
          132000,
          172400,
          67000,
          235000,
          153575,
          149500,
          239000,
          234000,
          88000,
          270000,
          197900,
          91000,
          196500,
          119200,
          115000,
          129500,
          272000,
          87000,
          348000,
          129500,
          139000,
          143000,
          324000,
          130000,
          625000,
          215200,
          154000,
          385000,
          158500,
          135500,
          392500,
          287000,
          88000,
          210000,
          134500,
          176432,
          193000,
          315750,
          204000,
          215000,
          176000,
          128500,
          262500,
          159434,
          244400,
          196500,
          185000,
          120500,
          84900,
          58500,
          171750,
          181000,
          132500,
          187500,
          205000,
          250000,
          190000,
          109000,
          129900,
          162900,
          191000,
          184900,
          97000,
          263435,
          167000,
          260000,
          173000,
          89500,
          197500,
          213500,
          85000,
          159500,
          151000,
          215000,
          92000,
          118000,
          159000,
          167000,
          275000,
          155000,
          154000,
          86000,
          135000,
          145000,
          204750,
          212900,
          140000,
          200000,
          72500,
          126000,
          79000,
          105500,
          272000,
          73000,
          106500,
          141000,
          135000,
          224900,
          165150,
          360000,
          125000,
          201000,
          103600,
          179900,
          184000,
          167000,
          124000,
          128000,
          260000,
          35311,
          415298,
          179900,
          173900,
          403000,
          135000,
          175500,
          37900,
          202900,
          123000,
          135000,
          143500,
          136000,
          193500,
          109008,
          200000,
          135000,
          125500,
          143000,
          268000,
          100000,
          142000,
          147000,
          67000,
          162000,
          227000,
          235000,
          209500,
          92900,
          140000,
          85000,
          109500,
          178000,
          294000,
          136905,
          185000,
          134000,
          194700,
          281213,
          185000,
          201000,
          170000,
          106000,
          255500,
          181000,
          437154,
          178000,
          139950,
          105000,
          446261,
          207000,
          95000,
          100000,
          134000,
          127500,
          100000,
          140000,
          139000,
          125500,
          200000,
          185000,
          175000,
          146500,
          194000,
          121000,
          174500,
          165000,
          278000,
          159000,
          245000,
          212000,
          268000,
          148000,
          141000,
          163990,
          188000,
          55000,
          183000,
          173000,
          184000,
          55000,
          130000,
          137450,
          144000,
          335000,
          250580,
          224900,
          115000,
          260400,
          205000,
          143000,
          169000,
          164700,
          231500,
          143500,
          129000,
          173000,
          213000,
          195000,
          110000,
          129000,
          100000,
          89000,
          158000,
          128200,
          124000,
          250000,
          128000,
          290000,
          153337,
          110000,
          206900,
          154500,
          130000,
          253000,
          139000,
          66500,
          335000,
          136000,
          119500,
          98000,
          145000,
          220000,
          179500,
          125500,
          105000,
          156932,
          176000,
          157900,
          255900,
          267000,
          144152,
          190000,
          135000,
          139000,
          176000,
          333168,
          237000,
          158900,
          277000,
          84500,
          149000,
          260000,
          134432,
          213000,
          133000,
          208500,
          241000,
          168000,
          180000,
          159000,
          144000,
          144000,
          114504,
          249700,
          262280,
          145000,
          131000,
          191000,
          178900,
          79900,
          132250,
          110000,
          105000,
          263000,
          39300,
          293077,
          136500,
          239799,
          244000,
          232600,
          239000,
          119000,
          103200,
          93000,
          213250,
          144000,
          236500,
          85500,
          229000,
          121500,
          155000,
          228950,
          117000,
          402861,
          170000,
          261500,
          328000,
          325000,
          283463,
          176000,
          172500,
          157500,
          193000,
          325300,
          147000,
          144000,
          163000,
          164000,
          79900
         ],
         "xaxis": "x",
         "y": [
          137520.9139496569,
          165336.43158971288,
          143436.5755849693,
          170184.23140341527,
          182012.6367283167,
          211216.79488012698,
          103016.01409084769,
          133625.26374879744,
          106978.3840618492,
          250531.6051627506,
          145214.7036636019,
          386584.1878274142,
          119686.66463298544,
          121953.4180897162,
          226928.9467671572,
          149701.44096571027,
          125373.4927186521,
          89684.49943639192,
          142144.3442647291,
          141594.73910729573,
          375026.4725390251,
          115698.87053937324,
          253112.1184567339,
          262260.17422486073,
          262553.0920143169,
          504294.9755467569,
          122769.55399522716,
          111622.53824818737,
          150626.94965624815,
          101045.5677453619,
          124489.55937047613,
          119573.806893479,
          137069.10217245552,
          154963.5495055154,
          105069.34894498222,
          178365.05688315516,
          447812.32411335583,
          182040.80378016332,
          256926.199818094,
          145096.85960417,
          398827.42336490424,
          176352.20714282294,
          77511.1937333063,
          134749.17137493842,
          203815.67099605288,
          162327.90681103553,
          161693.041474213,
          182690.66637169212,
          163058.92907096352,
          186533.240349849,
          128246.67027302431,
          151015.353749162,
          178121.8289707577,
          598655.8212095909,
          132559.2317424098,
          122087.89341351598,
          119927.9941949291,
          183149.63828455258,
          211344.3147149225,
          162240.40544391304,
          117813.07408366559,
          107344.33044756568,
          161759.61048769933,
          448647.597638628,
          171869.27169022735,
          204716.4069303886,
          201275.0977842957,
          305690.5940351562,
          105042.87889996672,
          357405.67667957,
          201257.4928967076,
          146685.16066026897,
          121821.7284226299,
          140108.2820931237,
          121745.5207925191,
          171508.44185848694,
          185508.92941908824,
          211832.2015624991,
          137587.19940350938,
          108655.63182737134,
          107554.30857102346,
          149810.32497441748,
          296924.4630337315,
          179330.28186094607,
          275092.84561554424,
          158346.57630431172,
          133041.5387432157,
          163760.66270675574,
          297203.4802701656,
          154607.74629248353,
          125382.19041138222,
          202308.48327530295,
          219451.60611191258,
          540489.787892468,
          120182.04056208377,
          137120.6830249146,
          172445.779242907,
          139557.7863487305,
          255648.14412038395,
          155561.11627469218,
          110155.25248273165,
          90478.50048143294,
          71858.79061249606,
          157862.4671513222,
          151783.84611037048,
          172148.5862145226,
          222945.41449266716,
          107845.5296387873,
          313256.65357421816,
          153780.28111687722,
          218043.66775886662,
          236380.33209408587,
          145974.76386076913,
          337131.1073568955,
          98974.33028219774,
          145524.29112716802,
          145960.51187516676,
          147888.55490008128,
          127026.03275302744,
          194640.71572854684,
          184438.32323184176,
          156745.4747536918,
          146845.2901771304,
          119776.08855834464,
          296386.3712630463,
          124643.29262560273,
          196204.43779901203,
          223586.8684553975,
          148369.53243379423,
          115414.15444601544,
          187624.76860464478,
          338250.1274604597,
          174335.6696794922,
          149967.88897530152,
          181156.4857450881,
          232039.40061348857,
          153780.28111687722,
          344449.14827250363,
          165458.72152629803,
          286240.9035001326,
          142381.1350993888,
          183094.6530830723,
          130353.8941888367,
          180986.05929011654,
          136347.97158100683,
          224214.35049912275,
          191157.84239156244,
          381527.0774285441,
          111875.03422222953,
          72140.01011902446,
          292597.2454131683,
          148850.48450540204,
          68868.00395730816,
          116574.58137583507,
          124087.55732355341,
          232435.61303455808,
          201196.88639327988,
          81269.239360555,
          214670.88038914875,
          125698.10592019418,
          102513.63961900066,
          201239.90127166687,
          119942.78147057063,
          122767.96435578965,
          135580.09014763116,
          200852.089403339,
          235180.9696111992,
          110355.07585050525,
          389283.48093046766,
          245126.71651909017,
          355503.6659987518,
          149345.89701316887,
          232685.28350123396,
          147225.43505470382,
          243157.57182807627,
          103422.49551765801,
          379939.1445911682,
          152594.8699452859,
          195825.64472017717,
          274781.494414998,
          314301.6173549163,
          178410.6812541077,
          142787.89618082554,
          119211.20093268792,
          145366.95715218375,
          146392.61962301726,
          140199.14362448707,
          102609.36575871827,
          235954.72458943614,
          127671.45047847534,
          196768.97726450008,
          398421.68679646944,
          155229.573248356,
          206782.10849362248,
          106721.50450379611,
          121909.68594834121,
          273774.2829763027,
          228315.38671904278,
          98111.01874706187,
          181902.60926953642,
          106980.11163574095,
          102922.61481285024,
          137717.05029745965,
          172485.66187538544,
          307887.80794698244,
          187901.7736282667,
          242222.322299662,
          145744.78730519998,
          274050.04166455433,
          506476.2326070947,
          144807.8449450232,
          151155.0065225302,
          120709.79563770586,
          276959.087049704,
          152465.23414227462,
          129781.41085265556,
          130957.84503017472,
          137420.777720076,
          192116.9387736776,
          357501.1625635087,
          249251.6107378522,
          118357.56169083244,
          202830.254143852,
          236326.36461338575,
          152843.90467275222,
          107679.29803065443,
          296610.9747921803,
          246563.4733740802,
          256127.31360159008,
          118012.78838677904,
          209514.05506270519,
          208636.44582840856,
          148024.31770912124,
          201287.5353381514,
          69447.91850019828,
          150261.1002618825,
          110510.63987297984,
          127164.37716103907,
          251840.82691543133,
          186576.2955870391,
          220781.95340124413,
          231467.27548605003,
          158474.25861864918,
          711400.3336558718,
          190137.57857768884,
          198959.7091581686,
          173691.97211868773,
          221683.32731913717,
          276608.11935759685,
          184198.59528554673,
          129097.09250186611,
          143234.42724090136,
          155144.3708296121,
          332359.1775110395,
          271715.6266471209,
          208191.79398962873,
          82549.50428020096,
          141327.43442981242,
          113913.60514435997,
          127586.15877005002,
          146454.61279474982,
          142289.5547645966,
          139019.50654506937,
          286479.3820223616,
          247894.1580687215,
          211894.91756336563,
          216959.94924124682,
          97635.54570303982,
          274146.6938631923,
          88441.29100025729,
          126752.19908243095,
          162680.05371527973,
          112360.94457280237,
          339781.4922302766,
          139075.22039121858,
          139627.16734104254,
          178547.52026232146,
          87876.01726065225,
          230924.3064695556,
          147614.53102924928,
          163693.4682475105,
          194120.7578465348,
          193950.862431435,
          82786.00415882948,
          326476.25926235307,
          166413.7855308093,
          89302.91621059412,
          186161.90306747684,
          116512.85960717915,
          125761.31740962173,
          108263.11495579938,
          242379.31902053484,
          116151.61821214035,
          299109.06277547975,
          136689.46720073122,
          152248.83553742155,
          135848.81326144698,
          248374.00447870448,
          117436.69316438313,
          599476.7415771962,
          185446.08573431493,
          151083.59358377272,
          148786.6897143665,
          145862.23910147842,
          131150.9460431205,
          286160.4192938342,
          293230.65916977305,
          88803.22407785065,
          178861.32841478928,
          119592.07416348484,
          184796.8664371724,
          232813.06963289427,
          305565.4367831074,
          230177.62501618292,
          220337.04654889315,
          175381.67302356518,
          126880.49733121952,
          265667.85975488496,
          165077.39536029604,
          148964.6572594303,
          188291.99094021705,
          174856.2296526721,
          112152.12766828499,
          90759.51666201561,
          95068.31157625219,
          164805.99552446423,
          186472.02545690144,
          106615.48840119969,
          172417.79296526135,
          143783.02448660837,
          179377.9036589805,
          228345.12225958743,
          131297.09035313877,
          165902.36716273648,
          143228.6031020654,
          188517.20713584582,
          179447.9727436905,
          99596.3314899052,
          249799.2732116714,
          218008.60251616253,
          266971.6383601269,
          158976.84088435306,
          86570.30798066148,
          169437.9635259799,
          205170.30876237006,
          89793.75044308412,
          292559.9706404674,
          139902.2637384632,
          188920.6558456273,
          79179.90711067674,
          132591.85363283948,
          148925.3594915188,
          100085.53438132003,
          247233.60492383753,
          157765.41896670996,
          159635.54143005618,
          112713.26618631092,
          117163.51667665386,
          170857.09550734132,
          247359.72252037906,
          245945.68895475153,
          133697.9515993557,
          188427.00227905193,
          87120.54610872263,
          102338.21434661633,
          118417.30106487403,
          102657.76240246127,
          206635.85875252596,
          120861.54741656261,
          94789.14352278491,
          137524.0137047749,
          131933.62771399828,
          251016.0008668411,
          158159.21828745943,
          343672.22741397825,
          138381.65910143373,
          228410.71965747862,
          126336.37112477301,
          185753.66833918387,
          226744.6962989608,
          199180.84040454845,
          135517.31236511,
          113868.88273143173,
          167113.64874496803,
          101599.32096035626,
          417301.5404761594,
          149557.3908025124,
          183388.5078351901,
          382121.22531869856,
          127107.90148136992,
          186583.78469473845,
          62142.722885214134,
          218765.31737205,
          120324.10296081367,
          138333.81083364255,
          144519.0467302612,
          145993.91979608737,
          229520.59840399,
          125882.19000006032,
          203345.98885889558,
          144103.3793746922,
          105591.5877433086,
          147098.31790024685,
          248893.7207282951,
          126695.3794420561,
          155883.27269473154,
          135914.5736489611,
          106987.46574464338,
          160490.68175416358,
          208987.0117118945,
          207417.2372483251,
          229588.8110580753,
          100278.32528490548,
          147419.82241906103,
          106560.83110091997,
          131561.77186958736,
          156847.13881019392,
          211518.56803107375,
          205450.89126820918,
          181093.43564788142,
          139485.39395647502,
          201602.4451983336,
          305260.5280216905,
          119699.06855591275,
          199666.41623982508,
          191578.59139507543,
          138448.4635210592,
          329105.33256811934,
          188339.940414351,
          496000.8178387072,
          168383.9258708836,
          135093.1443593642,
          118079.43171745076,
          398898.0484027126,
          169977.5315531078,
          99251.45517236472,
          102963.47229423461,
          146597.69158090607,
          121943.69254499616,
          116091.50232658093,
          170919.73194220426,
          137041.06216634435,
          103860.98280682355,
          263024.50451724,
          159389.61380099828,
          158814.49519557258,
          172869.8705734512,
          199644.0224764774,
          112156.60475305347,
          149472.5958291795,
          159140.23596098213,
          254832.31602539113,
          180496.73253502158,
          258106.88797212264,
          220185.64481925475,
          224284.37254961807,
          170268.9377429607,
          145808.72541141155,
          162751.7166908415,
          194656.85065994333,
          73146.18385704393,
          181312.79045118438,
          155971.9359133405,
          153200.5142347274,
          98845.29262204177,
          127912.85107207784,
          145964.26772416267,
          140586.56453988518,
          309844.94116359524,
          211475.1867765184,
          200746.01087196526,
          132382.95523478903,
          265434.66095424234,
          233912.32877398466,
          173568.18268689737,
          159115.62651728082,
          153195.14015688022,
          212426.8282273098,
          163317.1247962045,
          133157.18063590216,
          180733.8450523198,
          192002.2101162291,
          193048.86724451766,
          114827.25221074703,
          152584.4249346094,
          126938.51150246101,
          83755.97123045212,
          189184.0914251698,
          140808.3402537931,
          118548.68318409077,
          260147.77215489597,
          119503.00350978732,
          317317.87834502093,
          155749.6738019244,
          106468.92917635647,
          189562.23476353948,
          142718.2968397912,
          140860.35845836,
          286626.48743124324,
          113867.90692739397,
          110157.68380115379,
          224793.94431723835,
          140869.01823444074,
          146092.07977829967,
          108982.92089058559,
          217364.42564901314,
          176988.82941058968,
          225629.5383828217,
          124194.64102689744,
          116490.10094135112,
          156535.4005088041,
          184391.90672969876,
          159766.0705576052,
          275910.56412342325,
          294892.1277113583,
          137717.05029745965,
          210113.12658410813,
          141317.8629218881,
          141044.16841597407,
          186006.78455628318,
          303344.59882006864,
          223637.10390266677,
          148030.39020527454,
          278824.86767193,
          88963.7675833514,
          129738.7913130762,
          288073.9612177978,
          123788.52690608178,
          247319.6544976678,
          109659.61759001244,
          186956.08819627037,
          188708.4469371454,
          164287.2732673363,
          174745.28113113,
          165048.82867387825,
          139821.2778225537,
          153731.44074262452,
          118517.96455696899,
          245857.23251961768,
          292236.31736423756,
          134698.99706948537,
          142778.56567383173,
          191460.93226614306,
          171578.89636737993,
          108202.66640045561,
          124132.03070381349,
          107598.84290408755,
          100582.46849581075,
          258127.71174948715,
          67834.91665885026,
          262176.9801953647,
          97229.92332732622,
          297254.0666598999,
          214672.16956471262,
          250860.94274861185,
          161181.14010959756,
          127857.15757091936,
          105577.94558903408,
          144947.28499836934,
          245033.1813143768,
          197911.37967203028,
          274966.35591879615,
          74321.44610218318,
          215185.66229900037,
          162855.2897363571,
          160864.93331312807,
          166827.9093688951,
          112660.96381378961,
          412858.6190848999,
          149059.5223866116,
          202114.83604642877,
          220016.14634014285,
          288695.0315551369,
          305339.26084801165,
          177366.92357015877,
          200996.52879952537,
          175323.0793869833,
          170473.1203112404,
          336924.47880629543,
          142260.39751990314,
          149351.97203923643,
          163309.1232226149,
          153374.06369998583,
          72282.50729570135
         ],
         "yaxis": "y"
        }
       ],
       "layout": {
        "legend": {
         "tracegroupgap": 0
        },
        "margin": {
         "t": 60
        },
        "template": {
         "data": {
          "bar": [
           {
            "error_x": {
             "color": "#2a3f5f"
            },
            "error_y": {
             "color": "#2a3f5f"
            },
            "marker": {
             "line": {
              "color": "#E5ECF6",
              "width": 0.5
             },
             "pattern": {
              "fillmode": "overlay",
              "size": 10,
              "solidity": 0.2
             }
            },
            "type": "bar"
           }
          ],
          "barpolar": [
           {
            "marker": {
             "line": {
              "color": "#E5ECF6",
              "width": 0.5
             },
             "pattern": {
              "fillmode": "overlay",
              "size": 10,
              "solidity": 0.2
             }
            },
            "type": "barpolar"
           }
          ],
          "carpet": [
           {
            "aaxis": {
             "endlinecolor": "#2a3f5f",
             "gridcolor": "white",
             "linecolor": "white",
             "minorgridcolor": "white",
             "startlinecolor": "#2a3f5f"
            },
            "baxis": {
             "endlinecolor": "#2a3f5f",
             "gridcolor": "white",
             "linecolor": "white",
             "minorgridcolor": "white",
             "startlinecolor": "#2a3f5f"
            },
            "type": "carpet"
           }
          ],
          "choropleth": [
           {
            "colorbar": {
             "outlinewidth": 0,
             "ticks": ""
            },
            "type": "choropleth"
           }
          ],
          "contour": [
           {
            "colorbar": {
             "outlinewidth": 0,
             "ticks": ""
            },
            "colorscale": [
             [
              0,
              "#0d0887"
             ],
             [
              0.1111111111111111,
              "#46039f"
             ],
             [
              0.2222222222222222,
              "#7201a8"
             ],
             [
              0.3333333333333333,
              "#9c179e"
             ],
             [
              0.4444444444444444,
              "#bd3786"
             ],
             [
              0.5555555555555556,
              "#d8576b"
             ],
             [
              0.6666666666666666,
              "#ed7953"
             ],
             [
              0.7777777777777778,
              "#fb9f3a"
             ],
             [
              0.8888888888888888,
              "#fdca26"
             ],
             [
              1,
              "#f0f921"
             ]
            ],
            "type": "contour"
           }
          ],
          "contourcarpet": [
           {
            "colorbar": {
             "outlinewidth": 0,
             "ticks": ""
            },
            "type": "contourcarpet"
           }
          ],
          "heatmap": [
           {
            "colorbar": {
             "outlinewidth": 0,
             "ticks": ""
            },
            "colorscale": [
             [
              0,
              "#0d0887"
             ],
             [
              0.1111111111111111,
              "#46039f"
             ],
             [
              0.2222222222222222,
              "#7201a8"
             ],
             [
              0.3333333333333333,
              "#9c179e"
             ],
             [
              0.4444444444444444,
              "#bd3786"
             ],
             [
              0.5555555555555556,
              "#d8576b"
             ],
             [
              0.6666666666666666,
              "#ed7953"
             ],
             [
              0.7777777777777778,
              "#fb9f3a"
             ],
             [
              0.8888888888888888,
              "#fdca26"
             ],
             [
              1,
              "#f0f921"
             ]
            ],
            "type": "heatmap"
           }
          ],
          "heatmapgl": [
           {
            "colorbar": {
             "outlinewidth": 0,
             "ticks": ""
            },
            "colorscale": [
             [
              0,
              "#0d0887"
             ],
             [
              0.1111111111111111,
              "#46039f"
             ],
             [
              0.2222222222222222,
              "#7201a8"
             ],
             [
              0.3333333333333333,
              "#9c179e"
             ],
             [
              0.4444444444444444,
              "#bd3786"
             ],
             [
              0.5555555555555556,
              "#d8576b"
             ],
             [
              0.6666666666666666,
              "#ed7953"
             ],
             [
              0.7777777777777778,
              "#fb9f3a"
             ],
             [
              0.8888888888888888,
              "#fdca26"
             ],
             [
              1,
              "#f0f921"
             ]
            ],
            "type": "heatmapgl"
           }
          ],
          "histogram": [
           {
            "marker": {
             "pattern": {
              "fillmode": "overlay",
              "size": 10,
              "solidity": 0.2
             }
            },
            "type": "histogram"
           }
          ],
          "histogram2d": [
           {
            "colorbar": {
             "outlinewidth": 0,
             "ticks": ""
            },
            "colorscale": [
             [
              0,
              "#0d0887"
             ],
             [
              0.1111111111111111,
              "#46039f"
             ],
             [
              0.2222222222222222,
              "#7201a8"
             ],
             [
              0.3333333333333333,
              "#9c179e"
             ],
             [
              0.4444444444444444,
              "#bd3786"
             ],
             [
              0.5555555555555556,
              "#d8576b"
             ],
             [
              0.6666666666666666,
              "#ed7953"
             ],
             [
              0.7777777777777778,
              "#fb9f3a"
             ],
             [
              0.8888888888888888,
              "#fdca26"
             ],
             [
              1,
              "#f0f921"
             ]
            ],
            "type": "histogram2d"
           }
          ],
          "histogram2dcontour": [
           {
            "colorbar": {
             "outlinewidth": 0,
             "ticks": ""
            },
            "colorscale": [
             [
              0,
              "#0d0887"
             ],
             [
              0.1111111111111111,
              "#46039f"
             ],
             [
              0.2222222222222222,
              "#7201a8"
             ],
             [
              0.3333333333333333,
              "#9c179e"
             ],
             [
              0.4444444444444444,
              "#bd3786"
             ],
             [
              0.5555555555555556,
              "#d8576b"
             ],
             [
              0.6666666666666666,
              "#ed7953"
             ],
             [
              0.7777777777777778,
              "#fb9f3a"
             ],
             [
              0.8888888888888888,
              "#fdca26"
             ],
             [
              1,
              "#f0f921"
             ]
            ],
            "type": "histogram2dcontour"
           }
          ],
          "mesh3d": [
           {
            "colorbar": {
             "outlinewidth": 0,
             "ticks": ""
            },
            "type": "mesh3d"
           }
          ],
          "parcoords": [
           {
            "line": {
             "colorbar": {
              "outlinewidth": 0,
              "ticks": ""
             }
            },
            "type": "parcoords"
           }
          ],
          "pie": [
           {
            "automargin": true,
            "type": "pie"
           }
          ],
          "scatter": [
           {
            "fillpattern": {
             "fillmode": "overlay",
             "size": 10,
             "solidity": 0.2
            },
            "type": "scatter"
           }
          ],
          "scatter3d": [
           {
            "line": {
             "colorbar": {
              "outlinewidth": 0,
              "ticks": ""
             }
            },
            "marker": {
             "colorbar": {
              "outlinewidth": 0,
              "ticks": ""
             }
            },
            "type": "scatter3d"
           }
          ],
          "scattercarpet": [
           {
            "marker": {
             "colorbar": {
              "outlinewidth": 0,
              "ticks": ""
             }
            },
            "type": "scattercarpet"
           }
          ],
          "scattergeo": [
           {
            "marker": {
             "colorbar": {
              "outlinewidth": 0,
              "ticks": ""
             }
            },
            "type": "scattergeo"
           }
          ],
          "scattergl": [
           {
            "marker": {
             "colorbar": {
              "outlinewidth": 0,
              "ticks": ""
             }
            },
            "type": "scattergl"
           }
          ],
          "scattermapbox": [
           {
            "marker": {
             "colorbar": {
              "outlinewidth": 0,
              "ticks": ""
             }
            },
            "type": "scattermapbox"
           }
          ],
          "scatterpolar": [
           {
            "marker": {
             "colorbar": {
              "outlinewidth": 0,
              "ticks": ""
             }
            },
            "type": "scatterpolar"
           }
          ],
          "scatterpolargl": [
           {
            "marker": {
             "colorbar": {
              "outlinewidth": 0,
              "ticks": ""
             }
            },
            "type": "scatterpolargl"
           }
          ],
          "scatterternary": [
           {
            "marker": {
             "colorbar": {
              "outlinewidth": 0,
              "ticks": ""
             }
            },
            "type": "scatterternary"
           }
          ],
          "surface": [
           {
            "colorbar": {
             "outlinewidth": 0,
             "ticks": ""
            },
            "colorscale": [
             [
              0,
              "#0d0887"
             ],
             [
              0.1111111111111111,
              "#46039f"
             ],
             [
              0.2222222222222222,
              "#7201a8"
             ],
             [
              0.3333333333333333,
              "#9c179e"
             ],
             [
              0.4444444444444444,
              "#bd3786"
             ],
             [
              0.5555555555555556,
              "#d8576b"
             ],
             [
              0.6666666666666666,
              "#ed7953"
             ],
             [
              0.7777777777777778,
              "#fb9f3a"
             ],
             [
              0.8888888888888888,
              "#fdca26"
             ],
             [
              1,
              "#f0f921"
             ]
            ],
            "type": "surface"
           }
          ],
          "table": [
           {
            "cells": {
             "fill": {
              "color": "#EBF0F8"
             },
             "line": {
              "color": "white"
             }
            },
            "header": {
             "fill": {
              "color": "#C8D4E3"
             },
             "line": {
              "color": "white"
             }
            },
            "type": "table"
           }
          ]
         },
         "layout": {
          "annotationdefaults": {
           "arrowcolor": "#2a3f5f",
           "arrowhead": 0,
           "arrowwidth": 1
          },
          "autotypenumbers": "strict",
          "coloraxis": {
           "colorbar": {
            "outlinewidth": 0,
            "ticks": ""
           }
          },
          "colorscale": {
           "diverging": [
            [
             0,
             "#8e0152"
            ],
            [
             0.1,
             "#c51b7d"
            ],
            [
             0.2,
             "#de77ae"
            ],
            [
             0.3,
             "#f1b6da"
            ],
            [
             0.4,
             "#fde0ef"
            ],
            [
             0.5,
             "#f7f7f7"
            ],
            [
             0.6,
             "#e6f5d0"
            ],
            [
             0.7,
             "#b8e186"
            ],
            [
             0.8,
             "#7fbc41"
            ],
            [
             0.9,
             "#4d9221"
            ],
            [
             1,
             "#276419"
            ]
           ],
           "sequential": [
            [
             0,
             "#0d0887"
            ],
            [
             0.1111111111111111,
             "#46039f"
            ],
            [
             0.2222222222222222,
             "#7201a8"
            ],
            [
             0.3333333333333333,
             "#9c179e"
            ],
            [
             0.4444444444444444,
             "#bd3786"
            ],
            [
             0.5555555555555556,
             "#d8576b"
            ],
            [
             0.6666666666666666,
             "#ed7953"
            ],
            [
             0.7777777777777778,
             "#fb9f3a"
            ],
            [
             0.8888888888888888,
             "#fdca26"
            ],
            [
             1,
             "#f0f921"
            ]
           ],
           "sequentialminus": [
            [
             0,
             "#0d0887"
            ],
            [
             0.1111111111111111,
             "#46039f"
            ],
            [
             0.2222222222222222,
             "#7201a8"
            ],
            [
             0.3333333333333333,
             "#9c179e"
            ],
            [
             0.4444444444444444,
             "#bd3786"
            ],
            [
             0.5555555555555556,
             "#d8576b"
            ],
            [
             0.6666666666666666,
             "#ed7953"
            ],
            [
             0.7777777777777778,
             "#fb9f3a"
            ],
            [
             0.8888888888888888,
             "#fdca26"
            ],
            [
             1,
             "#f0f921"
            ]
           ]
          },
          "colorway": [
           "#636efa",
           "#EF553B",
           "#00cc96",
           "#ab63fa",
           "#FFA15A",
           "#19d3f3",
           "#FF6692",
           "#B6E880",
           "#FF97FF",
           "#FECB52"
          ],
          "font": {
           "color": "#2a3f5f"
          },
          "geo": {
           "bgcolor": "white",
           "lakecolor": "white",
           "landcolor": "#E5ECF6",
           "showlakes": true,
           "showland": true,
           "subunitcolor": "white"
          },
          "hoverlabel": {
           "align": "left"
          },
          "hovermode": "closest",
          "mapbox": {
           "style": "light"
          },
          "paper_bgcolor": "white",
          "plot_bgcolor": "#E5ECF6",
          "polar": {
           "angularaxis": {
            "gridcolor": "white",
            "linecolor": "white",
            "ticks": ""
           },
           "bgcolor": "#E5ECF6",
           "radialaxis": {
            "gridcolor": "white",
            "linecolor": "white",
            "ticks": ""
           }
          },
          "scene": {
           "xaxis": {
            "backgroundcolor": "#E5ECF6",
            "gridcolor": "white",
            "gridwidth": 2,
            "linecolor": "white",
            "showbackground": true,
            "ticks": "",
            "zerolinecolor": "white"
           },
           "yaxis": {
            "backgroundcolor": "#E5ECF6",
            "gridcolor": "white",
            "gridwidth": 2,
            "linecolor": "white",
            "showbackground": true,
            "ticks": "",
            "zerolinecolor": "white"
           },
           "zaxis": {
            "backgroundcolor": "#E5ECF6",
            "gridcolor": "white",
            "gridwidth": 2,
            "linecolor": "white",
            "showbackground": true,
            "ticks": "",
            "zerolinecolor": "white"
           }
          },
          "shapedefaults": {
           "line": {
            "color": "#2a3f5f"
           }
          },
          "ternary": {
           "aaxis": {
            "gridcolor": "white",
            "linecolor": "white",
            "ticks": ""
           },
           "baxis": {
            "gridcolor": "white",
            "linecolor": "white",
            "ticks": ""
           },
           "bgcolor": "#E5ECF6",
           "caxis": {
            "gridcolor": "white",
            "linecolor": "white",
            "ticks": ""
           }
          },
          "title": {
           "x": 0.05
          },
          "xaxis": {
           "automargin": true,
           "gridcolor": "white",
           "linecolor": "white",
           "ticks": "",
           "title": {
            "standoff": 15
           },
           "zerolinecolor": "white",
           "zerolinewidth": 2
          },
          "yaxis": {
           "automargin": true,
           "gridcolor": "white",
           "linecolor": "white",
           "ticks": "",
           "title": {
            "standoff": 15
           },
           "zerolinecolor": "white",
           "zerolinewidth": 2
          }
         }
        },
        "title": {
         "text": "Predicted Sale Price vs. Actual Sale Price"
        },
        "xaxis": {
         "anchor": "y",
         "domain": [
          0,
          1
         ],
         "title": {
          "text": "Actual Sale Price"
         }
        },
        "yaxis": {
         "anchor": "x",
         "domain": [
          0,
          1
         ],
         "title": {
          "text": "Predicted Sale Price"
         }
        }
       }
      }
     },
     "metadata": {},
     "output_type": "display_data"
    },
    {
     "name": "stdout",
     "output_type": "stream",
     "text": [
      "Testing score: 0.7369047147075481\n"
     ]
    }
   ],
   "source": [
    "gbr_summary = gbr_reg_df.groupby(\"max_depth\").mean().reset_index()\n",
    "\n",
    "final_gbr_params = {\n",
    "        \"n_estimators\": 500,\n",
    "        \"max_depth\": 5,\n",
    "        \"min_samples_split\": 11,\n",
    "        \"learning_rate\": 0.2,\n",
    "        \"loss\": \"squared_error\",\n",
    "}\n",
    "\n",
    "final_gbr_mdl = GradientBoostingRegressor(**final_gbr_params)\n",
    "final_gbr_mdl.fit(X_train, y_train)\n",
    "\n",
    "fig_6a = px.scatter(x=y_test, y=final_gbr_mdl.predict(X_test))\n",
    "\n",
    "fig_6a.update_xaxes(title_text=\"Actual Sale Price\")\n",
    "fig_6a.update_yaxes(title_text=\"Predicted Sale Price\")\n",
    "fig_6a.update_layout(title_text=\"Predicted Sale Price vs. Actual Sale Price\")\n",
    "fig_6a.show()\n",
    "\n",
    "\n",
    "print(f\"Testing score: {final_gbr_mdl.score(X_test, y_test)}\")"
   ]
  },
  {
   "cell_type": "code",
   "execution_count": 261,
   "metadata": {},
   "outputs": [
    {
     "data": {
      "text/html": [
       "<div>\n",
       "<style scoped>\n",
       "    .dataframe tbody tr th:only-of-type {\n",
       "        vertical-align: middle;\n",
       "    }\n",
       "\n",
       "    .dataframe tbody tr th {\n",
       "        vertical-align: top;\n",
       "    }\n",
       "\n",
       "    .dataframe thead th {\n",
       "        text-align: right;\n",
       "    }\n",
       "</style>\n",
       "<table border=\"1\" class=\"dataframe\">\n",
       "  <thead>\n",
       "    <tr style=\"text-align: right;\">\n",
       "      <th></th>\n",
       "      <th>estimator_count</th>\n",
       "      <th>score</th>\n",
       "    </tr>\n",
       "  </thead>\n",
       "  <tbody>\n",
       "    <tr>\n",
       "      <th>0</th>\n",
       "      <td>100</td>\n",
       "      <td>0.720667</td>\n",
       "    </tr>\n",
       "    <tr>\n",
       "      <th>1</th>\n",
       "      <td>200</td>\n",
       "      <td>0.722160</td>\n",
       "    </tr>\n",
       "    <tr>\n",
       "      <th>2</th>\n",
       "      <td>300</td>\n",
       "      <td>0.720407</td>\n",
       "    </tr>\n",
       "    <tr>\n",
       "      <th>3</th>\n",
       "      <td>400</td>\n",
       "      <td>0.721109</td>\n",
       "    </tr>\n",
       "    <tr>\n",
       "      <th>4</th>\n",
       "      <td>500</td>\n",
       "      <td>0.720856</td>\n",
       "    </tr>\n",
       "    <tr>\n",
       "      <th>5</th>\n",
       "      <td>600</td>\n",
       "      <td>0.719175</td>\n",
       "    </tr>\n",
       "    <tr>\n",
       "      <th>6</th>\n",
       "      <td>700</td>\n",
       "      <td>0.718227</td>\n",
       "    </tr>\n",
       "    <tr>\n",
       "      <th>7</th>\n",
       "      <td>800</td>\n",
       "      <td>0.716888</td>\n",
       "    </tr>\n",
       "    <tr>\n",
       "      <th>8</th>\n",
       "      <td>900</td>\n",
       "      <td>0.715606</td>\n",
       "    </tr>\n",
       "    <tr>\n",
       "      <th>9</th>\n",
       "      <td>1000</td>\n",
       "      <td>0.714231</td>\n",
       "    </tr>\n",
       "    <tr>\n",
       "      <th>10</th>\n",
       "      <td>1100</td>\n",
       "      <td>0.713485</td>\n",
       "    </tr>\n",
       "    <tr>\n",
       "      <th>11</th>\n",
       "      <td>1200</td>\n",
       "      <td>0.712577</td>\n",
       "    </tr>\n",
       "    <tr>\n",
       "      <th>12</th>\n",
       "      <td>1300</td>\n",
       "      <td>0.711711</td>\n",
       "    </tr>\n",
       "    <tr>\n",
       "      <th>13</th>\n",
       "      <td>1400</td>\n",
       "      <td>0.710771</td>\n",
       "    </tr>\n",
       "    <tr>\n",
       "      <th>14</th>\n",
       "      <td>1500</td>\n",
       "      <td>0.710084</td>\n",
       "    </tr>\n",
       "    <tr>\n",
       "      <th>15</th>\n",
       "      <td>1600</td>\n",
       "      <td>0.709092</td>\n",
       "    </tr>\n",
       "    <tr>\n",
       "      <th>16</th>\n",
       "      <td>1700</td>\n",
       "      <td>0.708332</td>\n",
       "    </tr>\n",
       "    <tr>\n",
       "      <th>17</th>\n",
       "      <td>1800</td>\n",
       "      <td>0.707649</td>\n",
       "    </tr>\n",
       "    <tr>\n",
       "      <th>18</th>\n",
       "      <td>1900</td>\n",
       "      <td>0.707326</td>\n",
       "    </tr>\n",
       "    <tr>\n",
       "      <th>19</th>\n",
       "      <td>2000</td>\n",
       "      <td>0.706555</td>\n",
       "    </tr>\n",
       "  </tbody>\n",
       "</table>\n",
       "</div>"
      ],
      "text/plain": [
       "    estimator_count     score\n",
       "0               100  0.720667\n",
       "1               200  0.722160\n",
       "2               300  0.720407\n",
       "3               400  0.721109\n",
       "4               500  0.720856\n",
       "5               600  0.719175\n",
       "6               700  0.718227\n",
       "7               800  0.716888\n",
       "8               900  0.715606\n",
       "9              1000  0.714231\n",
       "10             1100  0.713485\n",
       "11             1200  0.712577\n",
       "12             1300  0.711711\n",
       "13             1400  0.710771\n",
       "14             1500  0.710084\n",
       "15             1600  0.709092\n",
       "16             1700  0.708332\n",
       "17             1800  0.707649\n",
       "18             1900  0.707326\n",
       "19             2000  0.706555"
      ]
     },
     "execution_count": 261,
     "metadata": {},
     "output_type": "execute_result"
    }
   ],
   "source": [
    "n_estimators = []\n",
    "ada_regr_scores = []\n",
    "\n",
    "for n_est in range(100,2100,100):\n",
    "\n",
    "    ada_regr_mdl = AdaBoostRegressor(estimator=DecisionTreeRegressor(\n",
    "                                                    max_depth=5,\n",
    "                                                    min_samples_split=7,\n",
    "                                                    ccp_alpha=100,\n",
    "                                                    random_state=43),\n",
    "                                    loss=\"square\",\n",
    "                                    n_estimators=n_est,\n",
    "                                    learning_rate=0.1,\n",
    "                                    random_state=43)\n",
    "    \n",
    "    ada_score = cross_val_score(ada_regr_mdl, X=X_train, y=y_train, cv=10)\n",
    "\n",
    "    n_estimators.append(n_est)\n",
    "    ada_regr_scores.append(ada_score.mean())\n",
    "\n",
    "\n",
    "ada_regr_df = pd.DataFrame(list(zip(n_estimators, ada_regr_scores)), \n",
    "                           columns=[\"estimator_count\", \"score\"])\n",
    "\n",
    "ada_regr_df\n"
   ]
  },
  {
   "cell_type": "code",
   "execution_count": 285,
   "metadata": {},
   "outputs": [
    {
     "data": {
      "application/vnd.plotly.v1+json": {
       "config": {
        "plotlyServerURL": "https://plot.ly"
       },
       "data": [
        {
         "hovertemplate": "x=%{x}<br>y=%{y}<extra></extra>",
         "legendgroup": "",
         "marker": {
          "color": "#636efa",
          "symbol": "circle"
         },
         "mode": "markers",
         "name": "",
         "orientation": "v",
         "showlegend": false,
         "type": "scatter",
         "x": [
          189950,
          180000,
          136500,
          160000,
          135000,
          240000,
          100000,
          169900,
          119500,
          240000,
          148000,
          305900,
          140000,
          110000,
          179200,
          99500,
          125000,
          61000,
          143000,
          140000,
          402000,
          93000,
          235000,
          248328,
          200624,
          380000,
          119000,
          132000,
          136500,
          112000,
          137500,
          81000,
          123000,
          157500,
          109500,
          179665,
          501837,
          190000,
          230000,
          149000,
          276000,
          170000,
          60000,
          132000,
          193879,
          104900,
          152000,
          194201,
          171000,
          200000,
          110000,
          152000,
          173000,
          485000,
          120000,
          135500,
          133900,
          245500,
          226000,
          181900,
          112000,
          108500,
          167500,
          410000,
          177500,
          199900,
          150900,
          310000,
          55993,
          369900,
          231500,
          156000,
          134800,
          140000,
          119900,
          196000,
          172000,
          244000,
          161750,
          132000,
          130500,
          180500,
          302000,
          202500,
          228000,
          140000,
          125000,
          174900,
          278000,
          165500,
          131500,
          212000,
          215000,
          466500,
          136000,
          130000,
          168000,
          225000,
          345000,
          138000,
          160000,
          52000,
          82500,
          165000,
          178400,
          177000,
          208900,
          119000,
          311872,
          164500,
          229456,
          240000,
          181000,
          242000,
          135000,
          131500,
          146000,
          210000,
          145000,
          179000,
          180000,
          161500,
          157000,
          155000,
          239000,
          126000,
          168000,
          226000,
          157900,
          118000,
          185000,
          383970,
          175000,
          187500,
          187500,
          290000,
          173733,
          315000,
          176000,
          313000,
          129900,
          194000,
          108000,
          234000,
          113000,
          286000,
          244600,
          315000,
          103000,
          68500,
          252000,
          128000,
          87000,
          122500,
          107900,
          236000,
          160000,
          106250,
          212000,
          124500,
          101800,
          175000,
          129500,
          131400,
          128000,
          187000,
          215000,
          100000,
          372500,
          318000,
          394432,
          137000,
          259500,
          142500,
          277500,
          76000,
          253293,
          170000,
          185000,
          227680,
          290000,
          173500,
          140000,
          124000,
          184000,
          145000,
          165000,
          96500,
          246578,
          156000,
          187750,
          465000,
          138500,
          230000,
          93500,
          114500,
          315000,
          232000,
          128950,
          175000,
          129000,
          115000,
          151000,
          174000,
          266000,
          180000,
          190000,
          91500,
          221500,
          424870,
          97500,
          115000,
          120500,
          287000,
          113000,
          158000,
          125000,
          110000,
          173000,
          340000,
          214000,
          115000,
          185850,
          274000,
          126175,
          112000,
          233230,
          204900,
          205000,
          113000,
          216000,
          215000,
          167500,
          207000,
          86000,
          90000,
          80000,
          97000,
          335000,
          375000,
          187500,
          250000,
          108000,
          184750,
          217500,
          206000,
          149900,
          230000,
          275000,
          181000,
          162000,
          175500,
          140000,
          240000,
          266000,
          187100,
          34900,
          126000,
          110000,
          145000,
          150000,
          163500,
          147000,
          336000,
          237500,
          188000,
          222000,
          87500,
          266500,
          75500,
          117000,
          160000,
          127000,
          306000,
          107500,
          132000,
          172400,
          67000,
          235000,
          153575,
          149500,
          239000,
          234000,
          88000,
          270000,
          197900,
          91000,
          196500,
          119200,
          115000,
          129500,
          272000,
          87000,
          348000,
          129500,
          139000,
          143000,
          324000,
          130000,
          625000,
          215200,
          154000,
          385000,
          158500,
          135500,
          392500,
          287000,
          88000,
          210000,
          134500,
          176432,
          193000,
          315750,
          204000,
          215000,
          176000,
          128500,
          262500,
          159434,
          244400,
          196500,
          185000,
          120500,
          84900,
          58500,
          171750,
          181000,
          132500,
          187500,
          205000,
          250000,
          190000,
          109000,
          129900,
          162900,
          191000,
          184900,
          97000,
          263435,
          167000,
          260000,
          173000,
          89500,
          197500,
          213500,
          85000,
          159500,
          151000,
          215000,
          92000,
          118000,
          159000,
          167000,
          275000,
          155000,
          154000,
          86000,
          135000,
          145000,
          204750,
          212900,
          140000,
          200000,
          72500,
          126000,
          79000,
          105500,
          272000,
          73000,
          106500,
          141000,
          135000,
          224900,
          165150,
          360000,
          125000,
          201000,
          103600,
          179900,
          184000,
          167000,
          124000,
          128000,
          260000,
          35311,
          415298,
          179900,
          173900,
          403000,
          135000,
          175500,
          37900,
          202900,
          123000,
          135000,
          143500,
          136000,
          193500,
          109008,
          200000,
          135000,
          125500,
          143000,
          268000,
          100000,
          142000,
          147000,
          67000,
          162000,
          227000,
          235000,
          209500,
          92900,
          140000,
          85000,
          109500,
          178000,
          294000,
          136905,
          185000,
          134000,
          194700,
          281213,
          185000,
          201000,
          170000,
          106000,
          255500,
          181000,
          437154,
          178000,
          139950,
          105000,
          446261,
          207000,
          95000,
          100000,
          134000,
          127500,
          100000,
          140000,
          139000,
          125500,
          200000,
          185000,
          175000,
          146500,
          194000,
          121000,
          174500,
          165000,
          278000,
          159000,
          245000,
          212000,
          268000,
          148000,
          141000,
          163990,
          188000,
          55000,
          183000,
          173000,
          184000,
          55000,
          130000,
          137450,
          144000,
          335000,
          250580,
          224900,
          115000,
          260400,
          205000,
          143000,
          169000,
          164700,
          231500,
          143500,
          129000,
          173000,
          213000,
          195000,
          110000,
          129000,
          100000,
          89000,
          158000,
          128200,
          124000,
          250000,
          128000,
          290000,
          153337,
          110000,
          206900,
          154500,
          130000,
          253000,
          139000,
          66500,
          335000,
          136000,
          119500,
          98000,
          145000,
          220000,
          179500,
          125500,
          105000,
          156932,
          176000,
          157900,
          255900,
          267000,
          144152,
          190000,
          135000,
          139000,
          176000,
          333168,
          237000,
          158900,
          277000,
          84500,
          149000,
          260000,
          134432,
          213000,
          133000,
          208500,
          241000,
          168000,
          180000,
          159000,
          144000,
          144000,
          114504,
          249700,
          262280,
          145000,
          131000,
          191000,
          178900,
          79900,
          132250,
          110000,
          105000,
          263000,
          39300,
          293077,
          136500,
          239799,
          244000,
          232600,
          239000,
          119000,
          103200,
          93000,
          213250,
          144000,
          236500,
          85500,
          229000,
          121500,
          155000,
          228950,
          117000,
          402861,
          170000,
          261500,
          328000,
          325000,
          283463,
          176000,
          172500,
          157500,
          193000,
          325300,
          147000,
          144000,
          163000,
          164000,
          79900
         ],
         "xaxis": "x",
         "y": [
          142799.58778625954,
          167614,
          157060.9929078014,
          181321.8795180723,
          192560.86956521738,
          284865.4,
          109700.01315789473,
          137361.66666666666,
          106596.30379746835,
          236207.51351351352,
          137660.25,
          391516,
          108610.43243243243,
          135059.72222222222,
          227152.85714285713,
          124701.33333333333,
          119449.81967213115,
          104475.08602150538,
          129751.44,
          146366.12903225806,
          344285.71428571426,
          130475.49707602338,
          226596.5,
          294650.5272727273,
          295410.5263157895,
          523565.84210526315,
          112656.94444444444,
          130191.51785714286,
          125725.91666666667,
          112961.87037037036,
          134066.32653061225,
          130475.49707602338,
          133912.6888888889,
          164152.93,
          113153.84615384616,
          187001.568627451,
          414023.8620689655,
          248500,
          268003.5142857143,
          147929.24,
          378707.2916666667,
          183960.5394736842,
          101330.35714285714,
          119826,
          189075.48958333334,
          153011.68421052632,
          149842.9411764706,
          189692.45762711865,
          168657.14285714287,
          260593.2380952381,
          128318.18181818182,
          140276.94444444444,
          180790.6530612245,
          568606.4545454546,
          114278.06103286384,
          126747.92592592593,
          128044.45977011495,
          180379.94,
          235959.2962962963,
          176653.82857142857,
          123044.8625,
          116469.24390243902,
          139109.62264150943,
          414197.8888888889,
          187176.43617021278,
          199749.77027027027,
          214001.984,
          281216.2453703704,
          118107.3448275862,
          362428.75,
          199376.8223938224,
          134513.36486486485,
          133060.96261682242,
          156285.51612903227,
          118895.0625,
          187718.18181818182,
          192025.5309446254,
          228776.15151515152,
          129715.12931034483,
          118854.16666666667,
          114108.6129032258,
          152946.86290322582,
          293210.5263157895,
          190309.35555555555,
          245592.67346938775,
          148837.5,
          137126.9255319149,
          137716.02631578947,
          306181.8181818182,
          139696.2,
          134075.19379844962,
          191110.9375,
          216444.45323741008,
          527427.3703703703,
          124830.93103448275,
          180614.68852459016,
          178394.1754385965,
          184872.4705882353,
          298615.3846153846,
          145672.22222222222,
          109772.5046728972,
          105278.92207792208,
          100501.58333333333,
          143444.12727272726,
          138659.77647058823,
          187176.43617021278,
          189737.25,
          126747.92592592593,
          311254.82375478925,
          178082.25342465754,
          188130.11111111112,
          235449.5076923077,
          145675.32278481012,
          295695.4,
          106049.296875,
          146366.12903225806,
          141638.34615384616,
          154311.95789473684,
          108448.67368421053,
          187718.18181818182,
          183960.5394736842,
          167240.14285714287,
          154504.39805825244,
          133453.84615384616,
          292079.329787234,
          161440.4,
          166369.2087912088,
          235743.6,
          128842.14754098361,
          108448.67368421053,
          189075.48958333334,
          328576.9090909091,
          180790.6530612245,
          152946.86290322582,
          185539.59574468085,
          272895.1538461539,
          178082.25342465754,
          358764.4482758621,
          178604.8426966292,
          284613.5111111111,
          139106.02325581395,
          173467.10256410256,
          124341.37037037036,
          184605.55555555556,
          144417.07344632767,
          249940.57230769232,
          240272.10714285713,
          382776.8,
          118987.44,
          94025.79545454546,
          269959.0909090909,
          135919.58415841585,
          102665.66666666667,
          145712.8205128205,
          123460.64893617021,
          231463.60674157302,
          176585.0076923077,
          105144.44444444444,
          200023.59420289856,
          124075.1214953271,
          126430.40476190476,
          211346.29411764705,
          130193.57142857143,
          123460.64893617021,
          120720.4255319149,
          187603.7888888889,
          233227.06666666668,
          134978.44155844155,
          388821,
          291747.1632653061,
          304182.6666666667,
          165988.23529411765,
          220538.46153846153,
          159279.02173913043,
          245185.46892655367,
          109700.01315789473,
          412188.1052631579,
          143923.67021276595,
          190517.53103448276,
          253167.07692307694,
          308007.9423076923,
          189692.45762711865,
          153011.68421052632,
          118449.25,
          176660.225,
          150337.5,
          137716.02631578947,
          106920.56451612903,
          218004.5,
          135583.33333333334,
          187715.35869565216,
          389956.14285714284,
          126925.44086021505,
          188580.85950413224,
          114908.13559322034,
          119323.5294117647,
          220926.43307086613,
          259903.25991189427,
          117558.79629629629,
          184466.66666666666,
          115644.18348623853,
          114278.06103286384,
          172693.5128205128,
          183167.48695652175,
          263539.9789473684,
          214001.984,
          245105.85294117648,
          146987.22916666666,
          260908.78343949045,
          383477.71014492755,
          147154.05405405405,
          150553.03488372092,
          132399.55555555556,
          259914.04166666666,
          148024.76288659795,
          122899.89583333333,
          124075.1214953271,
          124341.37037037036,
          190460.875,
          345887.11627906974,
          249409.64516129033,
          147178.37837837837,
          189692.45762711865,
          245185.46892655367,
          130372.3445945946,
          108128.14285714286,
          249504.55555555556,
          253329.33333333334,
          255060.8514056225,
          108011.31666666667,
          193243.24324324325,
          226407.4054054054,
          179569.585106383,
          188143.94174757283,
          100587.43023255814,
          177991.30434782608,
          105504.125,
          132399.55555555556,
          259668.95918367346,
          192146.85714285713,
          253427.75,
          245663.86486486485,
          149500,
          745000,
          199749.77027027027,
          183824.07407407407,
          172616.5810810811,
          210767.95652173914,
          219593.75,
          187718.18181818182,
          140701.08163265305,
          140316.2705882353,
          167968.3673469388,
          293794.43173431733,
          274834.6289308176,
          211425,
          103392.5,
          134300,
          118275.43037974683,
          148241.32110091744,
          187204.9180327869,
          178346.15384615384,
          128318.18181818182,
          313277.3043478261,
          207179.35251798562,
          213654.00819672132,
          191800.225,
          114908.13559322034,
          256889.80392156861,
          101697.90909090909,
          126925.44086021505,
          140156.68085106384,
          111244.60784313726,
          316126.45801526716,
          177991.30434782608,
          142544.11764705883,
          190209.6883116883,
          107835.29411764706,
          236766.2288135593,
          132235.13513513515,
          175495.62686567163,
          246494.75,
          191445.31818181818,
          104607.69230769231,
          268384.4621212121,
          192235.69343065695,
          106848.61445783133,
          186350.34848484848,
          117794.59340659341,
          123651.34090909091,
          128255.87826086956,
          281132.0833333333,
          148605.7142857143,
          324893.63636363635,
          128862.66666666667,
          136738.04347826086,
          135966.66666666666,
          260790.9245283019,
          118510.9557522124,
          501953.5740740741,
          190992.9929328622,
          130372.3445945946,
          192146.85714285713,
          128044.45977011495,
          130533.85897435897,
          280570.77966101695,
          285042.85714285716,
          104590.92,
          195380.95238095237,
          124075.1214953271,
          187043.05405405405,
          231164.54929577466,
          313893.06097560975,
          239193.8620689655,
          231460.92105263157,
          187103.0642857143,
          124810.83333333333,
          243634.1739130435,
          152565.5982142857,
          173073.68421052632,
          192004.1,
          179151.71875,
          125192.87301587302,
          113153.84615384616,
          109008.80357142857,
          187718.18181818182,
          190225.15625,
          134066.32653061225,
          175102.3076923077,
          179844.84285714285,
          201396.61428571428,
          224456.72727272726,
          127663.95652173914,
          160726.14444444445,
          156640.55102040817,
          190225.15625,
          180351.83333333334,
          107288,
          243567.66666666666,
          212893.33333333334,
          268500,
          188380.28333333333,
          104646.53703703704,
          172336.52173913043,
          188580.85950413224,
          107277.41935483871,
          288605.8823529412,
          135538.424,
          187718.18181818182,
          101661.73469387754,
          157190.72727272726,
          157060.9929078014,
          140762.78431372548,
          217026.31578947368,
          182564.91262135922,
          160383.82352941178,
          108128.14285714286,
          107707.89285714286,
          179666.66666666666,
          210767.95652173914,
          253829.25221238937,
          139109.62264150943,
          195588.17857142858,
          104761.88235294117,
          106990.81060606061,
          138796.24778761063,
          124361.08108108108,
          245185.46892655367,
          124341.37037037036,
          109551.49549549549,
          134291.25,
          143866,
          260826.47967479675,
          169177.64705882352,
          332434.36363636365,
          165810.70967741936,
          243555.0652173913,
          119882.39436619719,
          186931.9512195122,
          217103.56603773584,
          179442.56140350876,
          134513.36486486485,
          143083.95588235295,
          173467.10256410256,
          101330.35714285714,
          391139.23076923075,
          149534.4827586207,
          190225.15625,
          334178.5833333333,
          133060.96261682242,
          200586.12083333332,
          92972.97297297297,
          216005.94736842104,
          131015.49579831933,
          123651.34090909091,
          137126.9255319149,
          183655.88235294117,
          214339.08256880735,
          118895.0625,
          199717.11627906977,
          135583.33333333334,
          129137.47619047618,
          176653.82857142857,
          275227.7611940298,
          122589.44594594595,
          139106.02325581395,
          136566.66666666666,
          117558.79629629629,
          176333.63636363635,
          239156.73033707865,
          221533.67346938775,
          249419.4385026738,
          114108.6129032258,
          138796.24778761063,
          108011.31666666667,
          123044.8625,
          180351.83333333334,
          226407.4054054054,
          206376.0451977401,
          171975.75796178344,
          138450.0285714286,
          189075.48958333334,
          313893.06097560975,
          148271.06666666668,
          190608.17777777778,
          207093.6170212766,
          148130.64516129033,
          302244.6074074074,
          190595.16504854368,
          530382.125,
          173870.75471698114,
          136738.04347826086,
          125192.87301587302,
          392000,
          160726.14444444445,
          94320,
          107207.28865979382,
          141189.78048780488,
          118130.51282051283,
          151748.6049382716,
          155302.63157894736,
          124810.83333333333,
          115644.18348623853,
          282057.46601941745,
          180873.91304347827,
          138386.23188405798,
          156640.55102040817,
          184441.53846153847,
          112961.87037037036,
          148837.5,
          180108.94285714286,
          244008.5445026178,
          167968.3673469388,
          256617.1379310345,
          210302.0153846154,
          208826.66666666666,
          138450.0285714286,
          126950.81666666667,
          183145.51428571428,
          191559.38461538462,
          93856.94444444444,
          191564.24840764332,
          180250.2105263158,
          150277.27272727274,
          107288,
          138806.31707317074,
          151748.6049382716,
          147929.24,
          287926.3888888889,
          190919.35483870967,
          194763.81578947368,
          134026.2142857143,
          272895.1538461539,
          229964.10256410256,
          207179.35251798562,
          194600,
          179050.60431654676,
          192586.3853211009,
          133060.96261682242,
          131684.105,
          165666.44444444444,
          191486.10185185185,
          195588.17857142858,
          117343.47826086957,
          137126.9255319149,
          134053.2894736842,
          93866.03703703704,
          197478.8021978022,
          124577.5052631579,
          123849.47552447552,
          280570.77966101695,
          107835.29411764706,
          309266.1153846154,
          141133.19108280254,
          108071.4125,
          192235.69343065695,
          129715.12931034483,
          136448.22784810126,
          259404,
          146619.68421052632,
          100021.56666666667,
          236766.2288135593,
          157060.9929078014,
          125760.0625,
          145675.32278481012,
          252922.14736842105,
          173768.9375,
          210003.23699421965,
          121587.20238095238,
          109551.49549549549,
          182564.91262135922,
          185676.55844155845,
          157308.9552238806,
          261811.8448275862,
          313277.3043478261,
          172693.5128205128,
          209020.83333333334,
          129107.69230769231,
          128862.66666666667,
          183373.125,
          328009.25925925927,
          201396.61428571428,
          140316.2705882353,
          254151.09770114944,
          98853.46153846153,
          148837.5,
          300079.55670103093,
          152867.6923076923,
          249543.27607361964,
          114758.50515463918,
          191486.10185185185,
          188580.85950413224,
          176653.82857142857,
          183960.5394736842,
          162165.97826086957,
          137361.66666666666,
          145615.23529411765,
          122250,
          281132.0833333333,
          260000,
          144410.44776119402,
          139218.32,
          192530.75555555554,
          184261.44897959183,
          116957.28378378379,
          135059.72222222222,
          118510.9557522124,
          105729.32608695653,
          239133.05,
          94162.5,
          279133.85714285716,
          127088.5,
          264688.3846153846,
          207179.35251798562,
          257402.31578947368,
          171318.18181818182,
          117135.33333333333,
          114278.06103286384,
          129989.96373056994,
          261341.0291970803,
          205537.09677419355,
          280662.16438356164,
          101795.83333333333,
          238574.48387096773,
          171881.62886597938,
          162165.97826086957,
          171894,
          147504.475,
          392471.4,
          171894,
          204763.77777777778,
          231155.1724137931,
          282806.94,
          302244.6074074074,
          145827.35416666666,
          192004.1,
          172616.5810810811,
          185021.33333333334,
          323238.27777777775,
          135919.58415841585,
          145293.9024390244,
          146619.68421052632,
          150553.03488372092,
          114108.6129032258
         ],
         "yaxis": "y"
        }
       ],
       "layout": {
        "legend": {
         "tracegroupgap": 0
        },
        "margin": {
         "t": 60
        },
        "template": {
         "data": {
          "bar": [
           {
            "error_x": {
             "color": "#2a3f5f"
            },
            "error_y": {
             "color": "#2a3f5f"
            },
            "marker": {
             "line": {
              "color": "#E5ECF6",
              "width": 0.5
             },
             "pattern": {
              "fillmode": "overlay",
              "size": 10,
              "solidity": 0.2
             }
            },
            "type": "bar"
           }
          ],
          "barpolar": [
           {
            "marker": {
             "line": {
              "color": "#E5ECF6",
              "width": 0.5
             },
             "pattern": {
              "fillmode": "overlay",
              "size": 10,
              "solidity": 0.2
             }
            },
            "type": "barpolar"
           }
          ],
          "carpet": [
           {
            "aaxis": {
             "endlinecolor": "#2a3f5f",
             "gridcolor": "white",
             "linecolor": "white",
             "minorgridcolor": "white",
             "startlinecolor": "#2a3f5f"
            },
            "baxis": {
             "endlinecolor": "#2a3f5f",
             "gridcolor": "white",
             "linecolor": "white",
             "minorgridcolor": "white",
             "startlinecolor": "#2a3f5f"
            },
            "type": "carpet"
           }
          ],
          "choropleth": [
           {
            "colorbar": {
             "outlinewidth": 0,
             "ticks": ""
            },
            "type": "choropleth"
           }
          ],
          "contour": [
           {
            "colorbar": {
             "outlinewidth": 0,
             "ticks": ""
            },
            "colorscale": [
             [
              0,
              "#0d0887"
             ],
             [
              0.1111111111111111,
              "#46039f"
             ],
             [
              0.2222222222222222,
              "#7201a8"
             ],
             [
              0.3333333333333333,
              "#9c179e"
             ],
             [
              0.4444444444444444,
              "#bd3786"
             ],
             [
              0.5555555555555556,
              "#d8576b"
             ],
             [
              0.6666666666666666,
              "#ed7953"
             ],
             [
              0.7777777777777778,
              "#fb9f3a"
             ],
             [
              0.8888888888888888,
              "#fdca26"
             ],
             [
              1,
              "#f0f921"
             ]
            ],
            "type": "contour"
           }
          ],
          "contourcarpet": [
           {
            "colorbar": {
             "outlinewidth": 0,
             "ticks": ""
            },
            "type": "contourcarpet"
           }
          ],
          "heatmap": [
           {
            "colorbar": {
             "outlinewidth": 0,
             "ticks": ""
            },
            "colorscale": [
             [
              0,
              "#0d0887"
             ],
             [
              0.1111111111111111,
              "#46039f"
             ],
             [
              0.2222222222222222,
              "#7201a8"
             ],
             [
              0.3333333333333333,
              "#9c179e"
             ],
             [
              0.4444444444444444,
              "#bd3786"
             ],
             [
              0.5555555555555556,
              "#d8576b"
             ],
             [
              0.6666666666666666,
              "#ed7953"
             ],
             [
              0.7777777777777778,
              "#fb9f3a"
             ],
             [
              0.8888888888888888,
              "#fdca26"
             ],
             [
              1,
              "#f0f921"
             ]
            ],
            "type": "heatmap"
           }
          ],
          "heatmapgl": [
           {
            "colorbar": {
             "outlinewidth": 0,
             "ticks": ""
            },
            "colorscale": [
             [
              0,
              "#0d0887"
             ],
             [
              0.1111111111111111,
              "#46039f"
             ],
             [
              0.2222222222222222,
              "#7201a8"
             ],
             [
              0.3333333333333333,
              "#9c179e"
             ],
             [
              0.4444444444444444,
              "#bd3786"
             ],
             [
              0.5555555555555556,
              "#d8576b"
             ],
             [
              0.6666666666666666,
              "#ed7953"
             ],
             [
              0.7777777777777778,
              "#fb9f3a"
             ],
             [
              0.8888888888888888,
              "#fdca26"
             ],
             [
              1,
              "#f0f921"
             ]
            ],
            "type": "heatmapgl"
           }
          ],
          "histogram": [
           {
            "marker": {
             "pattern": {
              "fillmode": "overlay",
              "size": 10,
              "solidity": 0.2
             }
            },
            "type": "histogram"
           }
          ],
          "histogram2d": [
           {
            "colorbar": {
             "outlinewidth": 0,
             "ticks": ""
            },
            "colorscale": [
             [
              0,
              "#0d0887"
             ],
             [
              0.1111111111111111,
              "#46039f"
             ],
             [
              0.2222222222222222,
              "#7201a8"
             ],
             [
              0.3333333333333333,
              "#9c179e"
             ],
             [
              0.4444444444444444,
              "#bd3786"
             ],
             [
              0.5555555555555556,
              "#d8576b"
             ],
             [
              0.6666666666666666,
              "#ed7953"
             ],
             [
              0.7777777777777778,
              "#fb9f3a"
             ],
             [
              0.8888888888888888,
              "#fdca26"
             ],
             [
              1,
              "#f0f921"
             ]
            ],
            "type": "histogram2d"
           }
          ],
          "histogram2dcontour": [
           {
            "colorbar": {
             "outlinewidth": 0,
             "ticks": ""
            },
            "colorscale": [
             [
              0,
              "#0d0887"
             ],
             [
              0.1111111111111111,
              "#46039f"
             ],
             [
              0.2222222222222222,
              "#7201a8"
             ],
             [
              0.3333333333333333,
              "#9c179e"
             ],
             [
              0.4444444444444444,
              "#bd3786"
             ],
             [
              0.5555555555555556,
              "#d8576b"
             ],
             [
              0.6666666666666666,
              "#ed7953"
             ],
             [
              0.7777777777777778,
              "#fb9f3a"
             ],
             [
              0.8888888888888888,
              "#fdca26"
             ],
             [
              1,
              "#f0f921"
             ]
            ],
            "type": "histogram2dcontour"
           }
          ],
          "mesh3d": [
           {
            "colorbar": {
             "outlinewidth": 0,
             "ticks": ""
            },
            "type": "mesh3d"
           }
          ],
          "parcoords": [
           {
            "line": {
             "colorbar": {
              "outlinewidth": 0,
              "ticks": ""
             }
            },
            "type": "parcoords"
           }
          ],
          "pie": [
           {
            "automargin": true,
            "type": "pie"
           }
          ],
          "scatter": [
           {
            "fillpattern": {
             "fillmode": "overlay",
             "size": 10,
             "solidity": 0.2
            },
            "type": "scatter"
           }
          ],
          "scatter3d": [
           {
            "line": {
             "colorbar": {
              "outlinewidth": 0,
              "ticks": ""
             }
            },
            "marker": {
             "colorbar": {
              "outlinewidth": 0,
              "ticks": ""
             }
            },
            "type": "scatter3d"
           }
          ],
          "scattercarpet": [
           {
            "marker": {
             "colorbar": {
              "outlinewidth": 0,
              "ticks": ""
             }
            },
            "type": "scattercarpet"
           }
          ],
          "scattergeo": [
           {
            "marker": {
             "colorbar": {
              "outlinewidth": 0,
              "ticks": ""
             }
            },
            "type": "scattergeo"
           }
          ],
          "scattergl": [
           {
            "marker": {
             "colorbar": {
              "outlinewidth": 0,
              "ticks": ""
             }
            },
            "type": "scattergl"
           }
          ],
          "scattermapbox": [
           {
            "marker": {
             "colorbar": {
              "outlinewidth": 0,
              "ticks": ""
             }
            },
            "type": "scattermapbox"
           }
          ],
          "scatterpolar": [
           {
            "marker": {
             "colorbar": {
              "outlinewidth": 0,
              "ticks": ""
             }
            },
            "type": "scatterpolar"
           }
          ],
          "scatterpolargl": [
           {
            "marker": {
             "colorbar": {
              "outlinewidth": 0,
              "ticks": ""
             }
            },
            "type": "scatterpolargl"
           }
          ],
          "scatterternary": [
           {
            "marker": {
             "colorbar": {
              "outlinewidth": 0,
              "ticks": ""
             }
            },
            "type": "scatterternary"
           }
          ],
          "surface": [
           {
            "colorbar": {
             "outlinewidth": 0,
             "ticks": ""
            },
            "colorscale": [
             [
              0,
              "#0d0887"
             ],
             [
              0.1111111111111111,
              "#46039f"
             ],
             [
              0.2222222222222222,
              "#7201a8"
             ],
             [
              0.3333333333333333,
              "#9c179e"
             ],
             [
              0.4444444444444444,
              "#bd3786"
             ],
             [
              0.5555555555555556,
              "#d8576b"
             ],
             [
              0.6666666666666666,
              "#ed7953"
             ],
             [
              0.7777777777777778,
              "#fb9f3a"
             ],
             [
              0.8888888888888888,
              "#fdca26"
             ],
             [
              1,
              "#f0f921"
             ]
            ],
            "type": "surface"
           }
          ],
          "table": [
           {
            "cells": {
             "fill": {
              "color": "#EBF0F8"
             },
             "line": {
              "color": "white"
             }
            },
            "header": {
             "fill": {
              "color": "#C8D4E3"
             },
             "line": {
              "color": "white"
             }
            },
            "type": "table"
           }
          ]
         },
         "layout": {
          "annotationdefaults": {
           "arrowcolor": "#2a3f5f",
           "arrowhead": 0,
           "arrowwidth": 1
          },
          "autotypenumbers": "strict",
          "coloraxis": {
           "colorbar": {
            "outlinewidth": 0,
            "ticks": ""
           }
          },
          "colorscale": {
           "diverging": [
            [
             0,
             "#8e0152"
            ],
            [
             0.1,
             "#c51b7d"
            ],
            [
             0.2,
             "#de77ae"
            ],
            [
             0.3,
             "#f1b6da"
            ],
            [
             0.4,
             "#fde0ef"
            ],
            [
             0.5,
             "#f7f7f7"
            ],
            [
             0.6,
             "#e6f5d0"
            ],
            [
             0.7,
             "#b8e186"
            ],
            [
             0.8,
             "#7fbc41"
            ],
            [
             0.9,
             "#4d9221"
            ],
            [
             1,
             "#276419"
            ]
           ],
           "sequential": [
            [
             0,
             "#0d0887"
            ],
            [
             0.1111111111111111,
             "#46039f"
            ],
            [
             0.2222222222222222,
             "#7201a8"
            ],
            [
             0.3333333333333333,
             "#9c179e"
            ],
            [
             0.4444444444444444,
             "#bd3786"
            ],
            [
             0.5555555555555556,
             "#d8576b"
            ],
            [
             0.6666666666666666,
             "#ed7953"
            ],
            [
             0.7777777777777778,
             "#fb9f3a"
            ],
            [
             0.8888888888888888,
             "#fdca26"
            ],
            [
             1,
             "#f0f921"
            ]
           ],
           "sequentialminus": [
            [
             0,
             "#0d0887"
            ],
            [
             0.1111111111111111,
             "#46039f"
            ],
            [
             0.2222222222222222,
             "#7201a8"
            ],
            [
             0.3333333333333333,
             "#9c179e"
            ],
            [
             0.4444444444444444,
             "#bd3786"
            ],
            [
             0.5555555555555556,
             "#d8576b"
            ],
            [
             0.6666666666666666,
             "#ed7953"
            ],
            [
             0.7777777777777778,
             "#fb9f3a"
            ],
            [
             0.8888888888888888,
             "#fdca26"
            ],
            [
             1,
             "#f0f921"
            ]
           ]
          },
          "colorway": [
           "#636efa",
           "#EF553B",
           "#00cc96",
           "#ab63fa",
           "#FFA15A",
           "#19d3f3",
           "#FF6692",
           "#B6E880",
           "#FF97FF",
           "#FECB52"
          ],
          "font": {
           "color": "#2a3f5f"
          },
          "geo": {
           "bgcolor": "white",
           "lakecolor": "white",
           "landcolor": "#E5ECF6",
           "showlakes": true,
           "showland": true,
           "subunitcolor": "white"
          },
          "hoverlabel": {
           "align": "left"
          },
          "hovermode": "closest",
          "mapbox": {
           "style": "light"
          },
          "paper_bgcolor": "white",
          "plot_bgcolor": "#E5ECF6",
          "polar": {
           "angularaxis": {
            "gridcolor": "white",
            "linecolor": "white",
            "ticks": ""
           },
           "bgcolor": "#E5ECF6",
           "radialaxis": {
            "gridcolor": "white",
            "linecolor": "white",
            "ticks": ""
           }
          },
          "scene": {
           "xaxis": {
            "backgroundcolor": "#E5ECF6",
            "gridcolor": "white",
            "gridwidth": 2,
            "linecolor": "white",
            "showbackground": true,
            "ticks": "",
            "zerolinecolor": "white"
           },
           "yaxis": {
            "backgroundcolor": "#E5ECF6",
            "gridcolor": "white",
            "gridwidth": 2,
            "linecolor": "white",
            "showbackground": true,
            "ticks": "",
            "zerolinecolor": "white"
           },
           "zaxis": {
            "backgroundcolor": "#E5ECF6",
            "gridcolor": "white",
            "gridwidth": 2,
            "linecolor": "white",
            "showbackground": true,
            "ticks": "",
            "zerolinecolor": "white"
           }
          },
          "shapedefaults": {
           "line": {
            "color": "#2a3f5f"
           }
          },
          "ternary": {
           "aaxis": {
            "gridcolor": "white",
            "linecolor": "white",
            "ticks": ""
           },
           "baxis": {
            "gridcolor": "white",
            "linecolor": "white",
            "ticks": ""
           },
           "bgcolor": "#E5ECF6",
           "caxis": {
            "gridcolor": "white",
            "linecolor": "white",
            "ticks": ""
           }
          },
          "title": {
           "x": 0.05
          },
          "xaxis": {
           "automargin": true,
           "gridcolor": "white",
           "linecolor": "white",
           "ticks": "",
           "title": {
            "standoff": 15
           },
           "zerolinecolor": "white",
           "zerolinewidth": 2
          },
          "yaxis": {
           "automargin": true,
           "gridcolor": "white",
           "linecolor": "white",
           "ticks": "",
           "title": {
            "standoff": 15
           },
           "zerolinecolor": "white",
           "zerolinewidth": 2
          }
         }
        },
        "title": {
         "text": "Predicted Sale Price vs. Actual Sale Price"
        },
        "xaxis": {
         "anchor": "y",
         "domain": [
          0,
          1
         ],
         "title": {
          "text": "Actual Sale Price"
         }
        },
        "yaxis": {
         "anchor": "x",
         "domain": [
          0,
          1
         ],
         "title": {
          "text": "Predicted Sale Price"
         }
        }
       }
      }
     },
     "metadata": {},
     "output_type": "display_data"
    },
    {
     "name": "stdout",
     "output_type": "stream",
     "text": [
      "Testing score: 0.7145447032176635\n"
     ]
    }
   ],
   "source": [
    "ada_regr_df = ada_regr_df.sort_values(by=[\"score\"], ascending=False).reset_index(drop=True)\n",
    "\n",
    "final_ada_regr_mdl = AdaBoostRegressor(estimator=DecisionTreeRegressor(max_depth=5),\n",
    "                                        loss=\"square\",\n",
    "                                        n_estimators=ada_regr_df.loc[0,\"estimator_count\"],\n",
    "                                        learning_rate=0.1,\n",
    "                                        random_state=43)\n",
    "\n",
    "final_ada_regr_mdl.fit(X_train, y_train)\n",
    "final_ada_regr_mdl.score(X_test, y_test)\n",
    "\n",
    "fig_7a = px.scatter(x=y_test, y=final_ada_regr_mdl.predict(X_test))\n",
    "\n",
    "fig_7a.update_xaxes(title_text=\"Actual Sale Price\")\n",
    "fig_7a.update_yaxes(title_text=\"Predicted Sale Price\")\n",
    "fig_7a.update_layout(title_text=\"Predicted Sale Price vs. Actual Sale Price\")\n",
    "fig_7a.show()\n",
    "\n",
    "print(f\"Testing score: {final_ada_regr_mdl.score(X_test, y_test)}\")"
   ]
  },
  {
   "cell_type": "markdown",
   "metadata": {},
   "source": [
    "----\n",
    "# <center>Testing Set </center>\n",
    "----"
   ]
  },
  {
   "cell_type": "markdown",
   "metadata": {},
   "source": [
    "The following testing set was obtained as part of the House Prices -- Advance Regression Techniques competition on Kaggle. Random Forest Regression was selected to be used to predict the house prices based on the selected features. The predicted house price was then submitted to Kaggle for evaluation."
   ]
  },
  {
   "cell_type": "code",
   "execution_count": 148,
   "metadata": {},
   "outputs": [
    {
     "data": {
      "text/html": [
       "<div>\n",
       "<style scoped>\n",
       "    .dataframe tbody tr th:only-of-type {\n",
       "        vertical-align: middle;\n",
       "    }\n",
       "\n",
       "    .dataframe tbody tr th {\n",
       "        vertical-align: top;\n",
       "    }\n",
       "\n",
       "    .dataframe thead th {\n",
       "        text-align: right;\n",
       "    }\n",
       "</style>\n",
       "<table border=\"1\" class=\"dataframe\">\n",
       "  <thead>\n",
       "    <tr style=\"text-align: right;\">\n",
       "      <th></th>\n",
       "      <th>gr_liv_area</th>\n",
       "      <th>garage_area</th>\n",
       "      <th>total_bsmt_sf</th>\n",
       "      <th>1st_flr_sf</th>\n",
       "      <th>year_remod_add</th>\n",
       "      <th>house_age</th>\n",
       "      <th>scaled_remod</th>\n",
       "    </tr>\n",
       "  </thead>\n",
       "  <tbody>\n",
       "    <tr>\n",
       "      <th>0</th>\n",
       "      <td>-1.179256</td>\n",
       "      <td>1.202536</td>\n",
       "      <td>-0.400017</td>\n",
       "      <td>-0.689929</td>\n",
       "      <td>-1.156380</td>\n",
       "      <td>0.411259</td>\n",
       "      <td>-0.712248</td>\n",
       "    </tr>\n",
       "    <tr>\n",
       "      <th>1</th>\n",
       "      <td>-0.354966</td>\n",
       "      <td>-0.753188</td>\n",
       "      <td>0.619239</td>\n",
       "      <td>0.430511</td>\n",
       "      <td>-1.301740</td>\n",
       "      <td>0.510587</td>\n",
       "      <td>-0.712248</td>\n",
       "    </tr>\n",
       "    <tr>\n",
       "      <th>2</th>\n",
       "      <td>0.216136</td>\n",
       "      <td>0.042202</td>\n",
       "      <td>-0.295127</td>\n",
       "      <td>-0.607125</td>\n",
       "      <td>0.636400</td>\n",
       "      <td>-0.780683</td>\n",
       "      <td>-0.498028</td>\n",
       "    </tr>\n",
       "    <tr>\n",
       "      <th>3</th>\n",
       "      <td>0.168544</td>\n",
       "      <td>-0.013943</td>\n",
       "      <td>-0.299687</td>\n",
       "      <td>-0.612300</td>\n",
       "      <td>0.636400</td>\n",
       "      <td>-0.813792</td>\n",
       "      <td>-0.712248</td>\n",
       "    </tr>\n",
       "    <tr>\n",
       "      <th>4</th>\n",
       "      <td>-0.448246</td>\n",
       "      <td>0.154492</td>\n",
       "      <td>0.507509</td>\n",
       "      <td>0.303718</td>\n",
       "      <td>0.345679</td>\n",
       "      <td>-0.615135</td>\n",
       "      <td>-0.712248</td>\n",
       "    </tr>\n",
       "    <tr>\n",
       "      <th>...</th>\n",
       "      <td>...</td>\n",
       "      <td>...</td>\n",
       "      <td>...</td>\n",
       "      <td>...</td>\n",
       "      <td>...</td>\n",
       "      <td>...</td>\n",
       "      <td>...</td>\n",
       "    </tr>\n",
       "    <tr>\n",
       "      <th>1454</th>\n",
       "      <td>-0.806136</td>\n",
       "      <td>-2.212963</td>\n",
       "      <td>-1.166169</td>\n",
       "      <td>-1.595596</td>\n",
       "      <td>-0.720298</td>\n",
       "      <td>-0.019165</td>\n",
       "      <td>-0.712248</td>\n",
       "    </tr>\n",
       "    <tr>\n",
       "      <th>1455</th>\n",
       "      <td>-0.806136</td>\n",
       "      <td>-0.874836</td>\n",
       "      <td>-1.166169</td>\n",
       "      <td>-1.595596</td>\n",
       "      <td>-0.720298</td>\n",
       "      <td>-0.019165</td>\n",
       "      <td>-0.712248</td>\n",
       "    </tr>\n",
       "    <tr>\n",
       "      <th>1456</th>\n",
       "      <td>-0.554851</td>\n",
       "      <td>0.482006</td>\n",
       "      <td>0.379817</td>\n",
       "      <td>0.158811</td>\n",
       "      <td>0.539493</td>\n",
       "      <td>0.311930</td>\n",
       "      <td>1.467209</td>\n",
       "    </tr>\n",
       "    <tr>\n",
       "      <th>1457</th>\n",
       "      <td>-1.038384</td>\n",
       "      <td>-2.212963</td>\n",
       "      <td>-0.331610</td>\n",
       "      <td>-0.498445</td>\n",
       "      <td>0.345679</td>\n",
       "      <td>-0.747573</td>\n",
       "      <td>-0.712248</td>\n",
       "    </tr>\n",
       "    <tr>\n",
       "      <th>1458</th>\n",
       "      <td>0.922399</td>\n",
       "      <td>0.828234</td>\n",
       "      <td>-0.140072</td>\n",
       "      <td>-0.431167</td>\n",
       "      <td>0.442586</td>\n",
       "      <td>-0.780683</td>\n",
       "      <td>-0.498028</td>\n",
       "    </tr>\n",
       "  </tbody>\n",
       "</table>\n",
       "<p>1459 rows × 7 columns</p>\n",
       "</div>"
      ],
      "text/plain": [
       "      gr_liv_area  garage_area  total_bsmt_sf  1st_flr_sf  year_remod_add  \\\n",
       "0       -1.179256     1.202536      -0.400017   -0.689929       -1.156380   \n",
       "1       -0.354966    -0.753188       0.619239    0.430511       -1.301740   \n",
       "2        0.216136     0.042202      -0.295127   -0.607125        0.636400   \n",
       "3        0.168544    -0.013943      -0.299687   -0.612300        0.636400   \n",
       "4       -0.448246     0.154492       0.507509    0.303718        0.345679   \n",
       "...           ...          ...            ...         ...             ...   \n",
       "1454    -0.806136    -2.212963      -1.166169   -1.595596       -0.720298   \n",
       "1455    -0.806136    -0.874836      -1.166169   -1.595596       -0.720298   \n",
       "1456    -0.554851     0.482006       0.379817    0.158811        0.539493   \n",
       "1457    -1.038384    -2.212963      -0.331610   -0.498445        0.345679   \n",
       "1458     0.922399     0.828234      -0.140072   -0.431167        0.442586   \n",
       "\n",
       "      house_age  scaled_remod  \n",
       "0      0.411259     -0.712248  \n",
       "1      0.510587     -0.712248  \n",
       "2     -0.780683     -0.498028  \n",
       "3     -0.813792     -0.712248  \n",
       "4     -0.615135     -0.712248  \n",
       "...         ...           ...  \n",
       "1454  -0.019165     -0.712248  \n",
       "1455  -0.019165     -0.712248  \n",
       "1456   0.311930      1.467209  \n",
       "1457  -0.747573     -0.712248  \n",
       "1458  -0.780683     -0.498028  \n",
       "\n",
       "[1459 rows x 7 columns]"
      ]
     },
     "execution_count": 148,
     "metadata": {},
     "output_type": "execute_result"
    }
   ],
   "source": [
    "house_testing_set = pd.read_csv(\"house_price_test.csv\")\n",
    "house_testing_set.columns = [infl.underscore(val) for val in house_testing_set.columns]\n",
    "\n",
    "id_col = house_testing_set[\"id\"]\n",
    "\n",
    "coi_testing = [\"gr_liv_area\", \"garage_area\", \"total_bsmt_sf\", \"1st_flr_sf\", \"year_built\", \n",
    "                \"yr_sold\", \"year_remod_add\", \"mo_sold\"]\n",
    "\n",
    "house_testing_set = house_testing_set[coi_testing]\n",
    "\n",
    "##### Feature engineering\n",
    "house_testing_set[\"house_age\"] = house_testing_set[\"yr_sold\"] - house_testing_set[\"year_built\"]\n",
    "house_testing_set.loc[house_testing_set[\"house_age\"]==0, \"house_age\"] = house_testing_set.loc[house_testing_set[\"house_age\"]==0, \"mo_sold\"]/12\n",
    "house_testing_set[\"scaled_remod\"] = (house_testing_set[\"year_remod_add\"] - house_testing_set[\"year_built\"])/house_testing_set[\"house_age\"]\n",
    "\n",
    "##### Drop unnecessary columns\n",
    "house_testing_set = house_testing_set.drop(columns=[\"year_built\", \"yr_sold\", \"mo_sold\"])\n",
    "\n",
    "##### fillna\n",
    "house_testing_set = house_testing_set.fillna(0)\n",
    "\n",
    "##### transform values\n",
    "scaled_testing_set = std_scaler.transform(house_testing_set)\n",
    "\n",
    "##### recreate dataframe after scaling and encoding\n",
    "house_testing_set = pd.DataFrame(data=scaled_testing_set, columns=std_scaler.feature_names_in_)\n",
    "\n",
    "house_testing_set"
   ]
  },
  {
   "cell_type": "code",
   "execution_count": 151,
   "metadata": {},
   "outputs": [],
   "source": [
    "prediction = final_rfr_mdl.predict(house_testing_set)\n",
    "\n",
    "submission = pd.DataFrame(list(zip(id_col, prediction)), columns=[\"Id\", \"SalePrice\"])\n",
    "submission.to_csv(\"submission_house.csv\", index=False)"
   ]
  },
  {
   "cell_type": "code",
   "execution_count": 141,
   "metadata": {},
   "outputs": [
    {
     "data": {
      "text/html": [
       "<div>\n",
       "<style scoped>\n",
       "    .dataframe tbody tr th:only-of-type {\n",
       "        vertical-align: middle;\n",
       "    }\n",
       "\n",
       "    .dataframe tbody tr th {\n",
       "        vertical-align: top;\n",
       "    }\n",
       "\n",
       "    .dataframe thead th {\n",
       "        text-align: right;\n",
       "    }\n",
       "</style>\n",
       "<table border=\"1\" class=\"dataframe\">\n",
       "  <thead>\n",
       "    <tr style=\"text-align: right;\">\n",
       "      <th></th>\n",
       "      <th>gr_liv_area</th>\n",
       "      <th>garage_area</th>\n",
       "      <th>total_bsmt_sf</th>\n",
       "      <th>1st_flr_sf</th>\n",
       "      <th>year_built</th>\n",
       "      <th>yr_sold</th>\n",
       "      <th>year_remod_add</th>\n",
       "      <th>mo_sold</th>\n",
       "      <th>house_age</th>\n",
       "      <th>scaled_remod</th>\n",
       "    </tr>\n",
       "  </thead>\n",
       "  <tbody>\n",
       "    <tr>\n",
       "      <th>660</th>\n",
       "      <td>896</td>\n",
       "      <td>280.0</td>\n",
       "      <td>NaN</td>\n",
       "      <td>896</td>\n",
       "      <td>1946</td>\n",
       "      <td>2008</td>\n",
       "      <td>1950</td>\n",
       "      <td>4</td>\n",
       "      <td>62.0</td>\n",
       "      <td>0.064516</td>\n",
       "    </tr>\n",
       "  </tbody>\n",
       "</table>\n",
       "</div>"
      ],
      "text/plain": [
       "     gr_liv_area  garage_area  total_bsmt_sf  1st_flr_sf  year_built  yr_sold  \\\n",
       "660          896        280.0            NaN         896        1946     2008   \n",
       "\n",
       "     year_remod_add  mo_sold  house_age  scaled_remod  \n",
       "660            1950        4       62.0      0.064516  "
      ]
     },
     "execution_count": 141,
     "metadata": {},
     "output_type": "execute_result"
    }
   ],
   "source": [
    "# house_testing_set[house_testing_set[\"garage_area\"].isna()]\n",
    "house_testing_set[house_testing_set[\"total_bsmt_sf\"].isna()]"
   ]
  }
 ],
 "metadata": {
  "kernelspec": {
   "display_name": "Python 3",
   "language": "python",
   "name": "python3"
  },
  "language_info": {
   "codemirror_mode": {
    "name": "ipython",
    "version": 3
   },
   "file_extension": ".py",
   "mimetype": "text/x-python",
   "name": "python",
   "nbconvert_exporter": "python",
   "pygments_lexer": "ipython3",
   "version": "3.9.6"
  },
  "orig_nbformat": 4
 },
 "nbformat": 4,
 "nbformat_minor": 2
}
