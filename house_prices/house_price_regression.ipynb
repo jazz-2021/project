{
 "cells": [
  {
   "cell_type": "markdown",
   "metadata": {},
   "source": [
    "# <center> House Prices -- Advance Regression Technique </center>\n",
    "----\n",
    "\n",
    "data source: https://www.kaggle.com/competitions/house-prices-advanced-regression-techniques/data?select=test.csv\n",
    "\n",
    "**Aim** : To build a predictive model to predict housing price\n",
    "\n"
   ]
  },
  {
   "cell_type": "code",
   "execution_count": 57,
   "metadata": {},
   "outputs": [],
   "source": [
    "import inflection as infl\n",
    "import math\n",
    "import numpy as np\n",
    "import pandas as pd\n",
    "import plotly.express as px\n",
    "import plotly.figure_factory as ff\n",
    "import plotly.graph_objects as go\n",
    "\n",
    "\n",
    "from plotly.subplots import make_subplots\n",
    "from scipy.stats import linregress, uniform, randint \n",
    "from sklearn.ensemble import RandomForestRegressor, AdaBoostRegressor, GradientBoostingRegressor\n",
    "from sklearn.feature_selection import mutual_info_regression, r_regression\n",
    "from sklearn.linear_model import LinearRegression\n",
    "from sklearn.metrics import accuracy_score, average_precision_score, f1_score\n",
    "from sklearn.model_selection import train_test_split, cross_val_score, RandomizedSearchCV\n",
    "from sklearn.neighbors import KNeighborsClassifier\n",
    "from sklearn.preprocessing import OrdinalEncoder, OneHotEncoder, MaxAbsScaler, StandardScaler\n",
    "from sklearn.tree import DecisionTreeRegressor\n"
   ]
  },
  {
   "cell_type": "code",
   "execution_count": 2,
   "metadata": {},
   "outputs": [],
   "source": [
    "##### helper functions\n",
    "\n",
    "def dataframe_summary(dataframe: pd.DataFrame,\n",
    "                      max_length: int):\n",
    "    \n",
    "    pd.options.display.float_format = '{:,.4f}'.format\n",
    "\n",
    "    ### Get list of column names\n",
    "    col_names = dataframe.columns.to_list()\n",
    "\n",
    "    ### Get unique count of each column\n",
    "    col_length = [len(dataframe[val].unique()) for val in col_names]\n",
    "\n",
    "    ### Append info for dataframe\n",
    "    col_names.append(\"this_df\")\n",
    "    col_length.append(len(dataframe))\n",
    "\n",
    "    ### Create new dataframe for summary\n",
    "    summary_df = pd.DataFrame(list(zip(col_names, col_length)), columns=[\"column_name\", \"unique_count\"])\n",
    "    summary_df[\"uniqueness\"] = summary_df[\"unique_count\"]/len(dataframe) * 100\n",
    "\n",
    "    ### Count nan values in each column\n",
    "    nan_df = dataframe.isnull().sum(axis = 0).to_frame().reset_index().rename(columns={\"index\":\"column_name\", 0:\"nan_count\"})\n",
    "    nan_df[\"nan_percent\"] = nan_df[\"nan_count\"]/len(dataframe)*100\n",
    "    nan_df[\"percent_complete\"] = 100 - nan_df[\"nan_percent\"]\n",
    "\n",
    "    ### Create new frame for data type in each column\n",
    "    type_df = dataframe.dtypes.to_frame().reset_index().rename(columns={\"index\":\"column_name\", 0:\"data_type\"})\n",
    "    type_df[\"data_type\"] = type_df[\"data_type\"].astype(str)\n",
    "\n",
    "    ### Create new dataframe with unique entries for each column\n",
    "\n",
    "    col_name = []\n",
    "    unique_val = []\n",
    "    \n",
    "    for val  in dataframe.columns.to_list():\n",
    "\n",
    "        col_name.append(val)\n",
    "\n",
    "        if len(dataframe[val].unique())<=max_length:\n",
    "            unique_val.append(list(dataframe[val].unique()))\n",
    "\n",
    "        else:\n",
    "            unique_val.append(f\">{max_length} entries\")\n",
    "\n",
    "    unique_df = pd.DataFrame(list(zip(col_name, unique_val)),\n",
    "                             columns=[\"column_name\", \"unique_entries\"])\n",
    "    \n",
    "    \n",
    "\n",
    "    ### Merge summary_df with nan_df, type_df\n",
    "    summary_df = summary_df.merge(nan_df, on=\"column_name\", how=\"outer\")\n",
    "    summary_df = summary_df.merge(type_df, on=\"column_name\", how=\"outer\")\n",
    "    summary_df = summary_df.merge(unique_df, on=\"column_name\", how=\"outer\")\n",
    "\n",
    "\n",
    "    return summary_df.sort_values([\"data_type\", \"nan_count\"])\n",
    "\n",
    "\n",
    "def describe_dataframe(dataframe: pd.DataFrame):\n",
    "    \n",
    "    pd.options.display.float_format = '{:,.3f}'.format\n",
    "    \n",
    "    return dataframe.select_dtypes([int, float]).describe()\n"
   ]
  },
  {
   "cell_type": "code",
   "execution_count": 3,
   "metadata": {},
   "outputs": [
    {
     "data": {
      "text/html": [
       "<div>\n",
       "<style scoped>\n",
       "    .dataframe tbody tr th:only-of-type {\n",
       "        vertical-align: middle;\n",
       "    }\n",
       "\n",
       "    .dataframe tbody tr th {\n",
       "        vertical-align: top;\n",
       "    }\n",
       "\n",
       "    .dataframe thead th {\n",
       "        text-align: right;\n",
       "    }\n",
       "</style>\n",
       "<table border=\"1\" class=\"dataframe\">\n",
       "  <thead>\n",
       "    <tr style=\"text-align: right;\">\n",
       "      <th></th>\n",
       "      <th>id</th>\n",
       "      <th>ms_sub_class</th>\n",
       "      <th>ms_zoning</th>\n",
       "      <th>lot_frontage</th>\n",
       "      <th>lot_area</th>\n",
       "      <th>street</th>\n",
       "      <th>alley</th>\n",
       "      <th>lot_shape</th>\n",
       "      <th>land_contour</th>\n",
       "      <th>utilities</th>\n",
       "      <th>...</th>\n",
       "      <th>pool_area</th>\n",
       "      <th>pool_qc</th>\n",
       "      <th>fence</th>\n",
       "      <th>misc_feature</th>\n",
       "      <th>misc_val</th>\n",
       "      <th>mo_sold</th>\n",
       "      <th>yr_sold</th>\n",
       "      <th>sale_type</th>\n",
       "      <th>sale_condition</th>\n",
       "      <th>sale_price</th>\n",
       "    </tr>\n",
       "  </thead>\n",
       "  <tbody>\n",
       "    <tr>\n",
       "      <th>0</th>\n",
       "      <td>1</td>\n",
       "      <td>60</td>\n",
       "      <td>RL</td>\n",
       "      <td>65.0</td>\n",
       "      <td>8450</td>\n",
       "      <td>Pave</td>\n",
       "      <td>NaN</td>\n",
       "      <td>Reg</td>\n",
       "      <td>Lvl</td>\n",
       "      <td>AllPub</td>\n",
       "      <td>...</td>\n",
       "      <td>0</td>\n",
       "      <td>NaN</td>\n",
       "      <td>NaN</td>\n",
       "      <td>NaN</td>\n",
       "      <td>0</td>\n",
       "      <td>2</td>\n",
       "      <td>2008</td>\n",
       "      <td>WD</td>\n",
       "      <td>Normal</td>\n",
       "      <td>208500</td>\n",
       "    </tr>\n",
       "    <tr>\n",
       "      <th>1</th>\n",
       "      <td>2</td>\n",
       "      <td>20</td>\n",
       "      <td>RL</td>\n",
       "      <td>80.0</td>\n",
       "      <td>9600</td>\n",
       "      <td>Pave</td>\n",
       "      <td>NaN</td>\n",
       "      <td>Reg</td>\n",
       "      <td>Lvl</td>\n",
       "      <td>AllPub</td>\n",
       "      <td>...</td>\n",
       "      <td>0</td>\n",
       "      <td>NaN</td>\n",
       "      <td>NaN</td>\n",
       "      <td>NaN</td>\n",
       "      <td>0</td>\n",
       "      <td>5</td>\n",
       "      <td>2007</td>\n",
       "      <td>WD</td>\n",
       "      <td>Normal</td>\n",
       "      <td>181500</td>\n",
       "    </tr>\n",
       "    <tr>\n",
       "      <th>2</th>\n",
       "      <td>3</td>\n",
       "      <td>60</td>\n",
       "      <td>RL</td>\n",
       "      <td>68.0</td>\n",
       "      <td>11250</td>\n",
       "      <td>Pave</td>\n",
       "      <td>NaN</td>\n",
       "      <td>IR1</td>\n",
       "      <td>Lvl</td>\n",
       "      <td>AllPub</td>\n",
       "      <td>...</td>\n",
       "      <td>0</td>\n",
       "      <td>NaN</td>\n",
       "      <td>NaN</td>\n",
       "      <td>NaN</td>\n",
       "      <td>0</td>\n",
       "      <td>9</td>\n",
       "      <td>2008</td>\n",
       "      <td>WD</td>\n",
       "      <td>Normal</td>\n",
       "      <td>223500</td>\n",
       "    </tr>\n",
       "    <tr>\n",
       "      <th>3</th>\n",
       "      <td>4</td>\n",
       "      <td>70</td>\n",
       "      <td>RL</td>\n",
       "      <td>60.0</td>\n",
       "      <td>9550</td>\n",
       "      <td>Pave</td>\n",
       "      <td>NaN</td>\n",
       "      <td>IR1</td>\n",
       "      <td>Lvl</td>\n",
       "      <td>AllPub</td>\n",
       "      <td>...</td>\n",
       "      <td>0</td>\n",
       "      <td>NaN</td>\n",
       "      <td>NaN</td>\n",
       "      <td>NaN</td>\n",
       "      <td>0</td>\n",
       "      <td>2</td>\n",
       "      <td>2006</td>\n",
       "      <td>WD</td>\n",
       "      <td>Abnorml</td>\n",
       "      <td>140000</td>\n",
       "    </tr>\n",
       "    <tr>\n",
       "      <th>4</th>\n",
       "      <td>5</td>\n",
       "      <td>60</td>\n",
       "      <td>RL</td>\n",
       "      <td>84.0</td>\n",
       "      <td>14260</td>\n",
       "      <td>Pave</td>\n",
       "      <td>NaN</td>\n",
       "      <td>IR1</td>\n",
       "      <td>Lvl</td>\n",
       "      <td>AllPub</td>\n",
       "      <td>...</td>\n",
       "      <td>0</td>\n",
       "      <td>NaN</td>\n",
       "      <td>NaN</td>\n",
       "      <td>NaN</td>\n",
       "      <td>0</td>\n",
       "      <td>12</td>\n",
       "      <td>2008</td>\n",
       "      <td>WD</td>\n",
       "      <td>Normal</td>\n",
       "      <td>250000</td>\n",
       "    </tr>\n",
       "    <tr>\n",
       "      <th>...</th>\n",
       "      <td>...</td>\n",
       "      <td>...</td>\n",
       "      <td>...</td>\n",
       "      <td>...</td>\n",
       "      <td>...</td>\n",
       "      <td>...</td>\n",
       "      <td>...</td>\n",
       "      <td>...</td>\n",
       "      <td>...</td>\n",
       "      <td>...</td>\n",
       "      <td>...</td>\n",
       "      <td>...</td>\n",
       "      <td>...</td>\n",
       "      <td>...</td>\n",
       "      <td>...</td>\n",
       "      <td>...</td>\n",
       "      <td>...</td>\n",
       "      <td>...</td>\n",
       "      <td>...</td>\n",
       "      <td>...</td>\n",
       "      <td>...</td>\n",
       "    </tr>\n",
       "    <tr>\n",
       "      <th>1455</th>\n",
       "      <td>1456</td>\n",
       "      <td>60</td>\n",
       "      <td>RL</td>\n",
       "      <td>62.0</td>\n",
       "      <td>7917</td>\n",
       "      <td>Pave</td>\n",
       "      <td>NaN</td>\n",
       "      <td>Reg</td>\n",
       "      <td>Lvl</td>\n",
       "      <td>AllPub</td>\n",
       "      <td>...</td>\n",
       "      <td>0</td>\n",
       "      <td>NaN</td>\n",
       "      <td>NaN</td>\n",
       "      <td>NaN</td>\n",
       "      <td>0</td>\n",
       "      <td>8</td>\n",
       "      <td>2007</td>\n",
       "      <td>WD</td>\n",
       "      <td>Normal</td>\n",
       "      <td>175000</td>\n",
       "    </tr>\n",
       "    <tr>\n",
       "      <th>1456</th>\n",
       "      <td>1457</td>\n",
       "      <td>20</td>\n",
       "      <td>RL</td>\n",
       "      <td>85.0</td>\n",
       "      <td>13175</td>\n",
       "      <td>Pave</td>\n",
       "      <td>NaN</td>\n",
       "      <td>Reg</td>\n",
       "      <td>Lvl</td>\n",
       "      <td>AllPub</td>\n",
       "      <td>...</td>\n",
       "      <td>0</td>\n",
       "      <td>NaN</td>\n",
       "      <td>MnPrv</td>\n",
       "      <td>NaN</td>\n",
       "      <td>0</td>\n",
       "      <td>2</td>\n",
       "      <td>2010</td>\n",
       "      <td>WD</td>\n",
       "      <td>Normal</td>\n",
       "      <td>210000</td>\n",
       "    </tr>\n",
       "    <tr>\n",
       "      <th>1457</th>\n",
       "      <td>1458</td>\n",
       "      <td>70</td>\n",
       "      <td>RL</td>\n",
       "      <td>66.0</td>\n",
       "      <td>9042</td>\n",
       "      <td>Pave</td>\n",
       "      <td>NaN</td>\n",
       "      <td>Reg</td>\n",
       "      <td>Lvl</td>\n",
       "      <td>AllPub</td>\n",
       "      <td>...</td>\n",
       "      <td>0</td>\n",
       "      <td>NaN</td>\n",
       "      <td>GdPrv</td>\n",
       "      <td>Shed</td>\n",
       "      <td>2500</td>\n",
       "      <td>5</td>\n",
       "      <td>2010</td>\n",
       "      <td>WD</td>\n",
       "      <td>Normal</td>\n",
       "      <td>266500</td>\n",
       "    </tr>\n",
       "    <tr>\n",
       "      <th>1458</th>\n",
       "      <td>1459</td>\n",
       "      <td>20</td>\n",
       "      <td>RL</td>\n",
       "      <td>68.0</td>\n",
       "      <td>9717</td>\n",
       "      <td>Pave</td>\n",
       "      <td>NaN</td>\n",
       "      <td>Reg</td>\n",
       "      <td>Lvl</td>\n",
       "      <td>AllPub</td>\n",
       "      <td>...</td>\n",
       "      <td>0</td>\n",
       "      <td>NaN</td>\n",
       "      <td>NaN</td>\n",
       "      <td>NaN</td>\n",
       "      <td>0</td>\n",
       "      <td>4</td>\n",
       "      <td>2010</td>\n",
       "      <td>WD</td>\n",
       "      <td>Normal</td>\n",
       "      <td>142125</td>\n",
       "    </tr>\n",
       "    <tr>\n",
       "      <th>1459</th>\n",
       "      <td>1460</td>\n",
       "      <td>20</td>\n",
       "      <td>RL</td>\n",
       "      <td>75.0</td>\n",
       "      <td>9937</td>\n",
       "      <td>Pave</td>\n",
       "      <td>NaN</td>\n",
       "      <td>Reg</td>\n",
       "      <td>Lvl</td>\n",
       "      <td>AllPub</td>\n",
       "      <td>...</td>\n",
       "      <td>0</td>\n",
       "      <td>NaN</td>\n",
       "      <td>NaN</td>\n",
       "      <td>NaN</td>\n",
       "      <td>0</td>\n",
       "      <td>6</td>\n",
       "      <td>2008</td>\n",
       "      <td>WD</td>\n",
       "      <td>Normal</td>\n",
       "      <td>147500</td>\n",
       "    </tr>\n",
       "  </tbody>\n",
       "</table>\n",
       "<p>1460 rows × 81 columns</p>\n",
       "</div>"
      ],
      "text/plain": [
       "        id  ms_sub_class ms_zoning  lot_frontage  lot_area street alley  \\\n",
       "0        1            60        RL          65.0      8450   Pave   NaN   \n",
       "1        2            20        RL          80.0      9600   Pave   NaN   \n",
       "2        3            60        RL          68.0     11250   Pave   NaN   \n",
       "3        4            70        RL          60.0      9550   Pave   NaN   \n",
       "4        5            60        RL          84.0     14260   Pave   NaN   \n",
       "...    ...           ...       ...           ...       ...    ...   ...   \n",
       "1455  1456            60        RL          62.0      7917   Pave   NaN   \n",
       "1456  1457            20        RL          85.0     13175   Pave   NaN   \n",
       "1457  1458            70        RL          66.0      9042   Pave   NaN   \n",
       "1458  1459            20        RL          68.0      9717   Pave   NaN   \n",
       "1459  1460            20        RL          75.0      9937   Pave   NaN   \n",
       "\n",
       "     lot_shape land_contour utilities  ... pool_area pool_qc  fence  \\\n",
       "0          Reg          Lvl    AllPub  ...         0     NaN    NaN   \n",
       "1          Reg          Lvl    AllPub  ...         0     NaN    NaN   \n",
       "2          IR1          Lvl    AllPub  ...         0     NaN    NaN   \n",
       "3          IR1          Lvl    AllPub  ...         0     NaN    NaN   \n",
       "4          IR1          Lvl    AllPub  ...         0     NaN    NaN   \n",
       "...        ...          ...       ...  ...       ...     ...    ...   \n",
       "1455       Reg          Lvl    AllPub  ...         0     NaN    NaN   \n",
       "1456       Reg          Lvl    AllPub  ...         0     NaN  MnPrv   \n",
       "1457       Reg          Lvl    AllPub  ...         0     NaN  GdPrv   \n",
       "1458       Reg          Lvl    AllPub  ...         0     NaN    NaN   \n",
       "1459       Reg          Lvl    AllPub  ...         0     NaN    NaN   \n",
       "\n",
       "     misc_feature misc_val mo_sold yr_sold  sale_type  sale_condition  \\\n",
       "0             NaN        0       2    2008         WD          Normal   \n",
       "1             NaN        0       5    2007         WD          Normal   \n",
       "2             NaN        0       9    2008         WD          Normal   \n",
       "3             NaN        0       2    2006         WD         Abnorml   \n",
       "4             NaN        0      12    2008         WD          Normal   \n",
       "...           ...      ...     ...     ...        ...             ...   \n",
       "1455          NaN        0       8    2007         WD          Normal   \n",
       "1456          NaN        0       2    2010         WD          Normal   \n",
       "1457         Shed     2500       5    2010         WD          Normal   \n",
       "1458          NaN        0       4    2010         WD          Normal   \n",
       "1459          NaN        0       6    2008         WD          Normal   \n",
       "\n",
       "      sale_price  \n",
       "0         208500  \n",
       "1         181500  \n",
       "2         223500  \n",
       "3         140000  \n",
       "4         250000  \n",
       "...          ...  \n",
       "1455      175000  \n",
       "1456      210000  \n",
       "1457      266500  \n",
       "1458      142125  \n",
       "1459      147500  \n",
       "\n",
       "[1460 rows x 81 columns]"
      ]
     },
     "execution_count": 3,
     "metadata": {},
     "output_type": "execute_result"
    }
   ],
   "source": [
    "##### load house price data and rename column to snake case\n",
    "house_df = pd.read_csv(\"house_price_train.csv\")\n",
    "house_df.columns = [infl.underscore(val) for val in house_df.columns]\n",
    "\n",
    "house_df\n"
   ]
  },
  {
   "cell_type": "code",
   "execution_count": 4,
   "metadata": {},
   "outputs": [],
   "source": [
    "##### introduce new columns\n",
    "house_df[\"age_sold\"] = house_df[\"yr_sold\"] - house_df[\"year_built\"]\n",
    "\n",
    "# house_df[\"age_sold\"]"
   ]
  },
  {
   "cell_type": "markdown",
   "metadata": {},
   "source": [
    "----\n",
    "# <center> Data Clean Up </center>\n",
    "---"
   ]
  },
  {
   "cell_type": "markdown",
   "metadata": {},
   "source": [
    "Determine the amount of rows with NaN values. The following features are removed since the amount missing values are >10%. \n",
    "\n",
    "ID was also removed since it does not contribute to the prediction.\n",
    "\n",
    "| Feature | Description |\n",
    "| --- | --- | \n",
    "| pool_qc | pool quality | \n",
    "| misc_feature | Miscellaneous features not covered in other categories | \n",
    "| alley |  Type of alley access to property | \n",
    "| fence |  Fence quality  | \n",
    "| mas_vnr_type |  Masonry veneer type -- Brick, stone, etc. | \n",
    "| fireplace_qu |  Fireplace quality | \n",
    "| lot_frontage |  Linear feet of street connected to property| "
   ]
  },
  {
   "cell_type": "code",
   "execution_count": 5,
   "metadata": {},
   "outputs": [
    {
     "data": {
      "text/html": [
       "<div>\n",
       "<style scoped>\n",
       "    .dataframe tbody tr th:only-of-type {\n",
       "        vertical-align: middle;\n",
       "    }\n",
       "\n",
       "    .dataframe tbody tr th {\n",
       "        vertical-align: top;\n",
       "    }\n",
       "\n",
       "    .dataframe thead th {\n",
       "        text-align: right;\n",
       "    }\n",
       "</style>\n",
       "<table border=\"1\" class=\"dataframe\">\n",
       "  <thead>\n",
       "    <tr style=\"text-align: right;\">\n",
       "      <th></th>\n",
       "      <th>column</th>\n",
       "      <th>nan_count</th>\n",
       "      <th>nan_percent</th>\n",
       "    </tr>\n",
       "  </thead>\n",
       "  <tbody>\n",
       "    <tr>\n",
       "      <th>72</th>\n",
       "      <td>pool_qc</td>\n",
       "      <td>1453</td>\n",
       "      <td>99.520548</td>\n",
       "    </tr>\n",
       "    <tr>\n",
       "      <th>74</th>\n",
       "      <td>misc_feature</td>\n",
       "      <td>1406</td>\n",
       "      <td>96.301370</td>\n",
       "    </tr>\n",
       "    <tr>\n",
       "      <th>6</th>\n",
       "      <td>alley</td>\n",
       "      <td>1369</td>\n",
       "      <td>93.767123</td>\n",
       "    </tr>\n",
       "    <tr>\n",
       "      <th>73</th>\n",
       "      <td>fence</td>\n",
       "      <td>1179</td>\n",
       "      <td>80.753425</td>\n",
       "    </tr>\n",
       "    <tr>\n",
       "      <th>25</th>\n",
       "      <td>mas_vnr_type</td>\n",
       "      <td>872</td>\n",
       "      <td>59.726027</td>\n",
       "    </tr>\n",
       "    <tr>\n",
       "      <th>57</th>\n",
       "      <td>fireplace_qu</td>\n",
       "      <td>690</td>\n",
       "      <td>47.260274</td>\n",
       "    </tr>\n",
       "    <tr>\n",
       "      <th>3</th>\n",
       "      <td>lot_frontage</td>\n",
       "      <td>259</td>\n",
       "      <td>17.739726</td>\n",
       "    </tr>\n",
       "  </tbody>\n",
       "</table>\n",
       "</div>"
      ],
      "text/plain": [
       "          column  nan_count  nan_percent\n",
       "72       pool_qc       1453    99.520548\n",
       "74  misc_feature       1406    96.301370\n",
       "6          alley       1369    93.767123\n",
       "73         fence       1179    80.753425\n",
       "25  mas_vnr_type        872    59.726027\n",
       "57  fireplace_qu        690    47.260274\n",
       "3   lot_frontage        259    17.739726"
      ]
     },
     "execution_count": 5,
     "metadata": {},
     "output_type": "execute_result"
    }
   ],
   "source": [
    "col_names = [val for val in house_df.columns]\n",
    "nan_count = [len(house_df.loc[house_df[val].isna(), val]) for val in house_df.columns]\n",
    "\n",
    "nan_count_df = pd.DataFrame(list(zip(col_names, nan_count)), columns=[\"column\", \"nan_count\"])\n",
    "nan_count_df[\"nan_percent\"] = nan_count_df[\"nan_count\"]/len(house_df)*100\n",
    "\n",
    "##### Display the column with NaN; sort according to the amount of NaN in columns\n",
    "nan_count_df[nan_count_df[\"nan_percent\"]>10].sort_values([\"nan_count\"], ascending=False)"
   ]
  },
  {
   "cell_type": "code",
   "execution_count": 6,
   "metadata": {},
   "outputs": [
    {
     "data": {
      "text/html": [
       "<div>\n",
       "<style scoped>\n",
       "    .dataframe tbody tr th:only-of-type {\n",
       "        vertical-align: middle;\n",
       "    }\n",
       "\n",
       "    .dataframe tbody tr th {\n",
       "        vertical-align: top;\n",
       "    }\n",
       "\n",
       "    .dataframe thead th {\n",
       "        text-align: right;\n",
       "    }\n",
       "</style>\n",
       "<table border=\"1\" class=\"dataframe\">\n",
       "  <thead>\n",
       "    <tr style=\"text-align: right;\">\n",
       "      <th></th>\n",
       "      <th>ms_sub_class</th>\n",
       "      <th>ms_zoning</th>\n",
       "      <th>lot_area</th>\n",
       "      <th>street</th>\n",
       "      <th>lot_shape</th>\n",
       "      <th>land_contour</th>\n",
       "      <th>utilities</th>\n",
       "      <th>lot_config</th>\n",
       "      <th>land_slope</th>\n",
       "      <th>neighborhood</th>\n",
       "      <th>...</th>\n",
       "      <th>3_ssn_porch</th>\n",
       "      <th>screen_porch</th>\n",
       "      <th>pool_area</th>\n",
       "      <th>misc_val</th>\n",
       "      <th>mo_sold</th>\n",
       "      <th>yr_sold</th>\n",
       "      <th>sale_type</th>\n",
       "      <th>sale_condition</th>\n",
       "      <th>sale_price</th>\n",
       "      <th>age_sold</th>\n",
       "    </tr>\n",
       "  </thead>\n",
       "  <tbody>\n",
       "    <tr>\n",
       "      <th>0</th>\n",
       "      <td>60</td>\n",
       "      <td>RL</td>\n",
       "      <td>8450</td>\n",
       "      <td>Pave</td>\n",
       "      <td>Reg</td>\n",
       "      <td>Lvl</td>\n",
       "      <td>AllPub</td>\n",
       "      <td>Inside</td>\n",
       "      <td>Gtl</td>\n",
       "      <td>CollgCr</td>\n",
       "      <td>...</td>\n",
       "      <td>0</td>\n",
       "      <td>0</td>\n",
       "      <td>0</td>\n",
       "      <td>0</td>\n",
       "      <td>2</td>\n",
       "      <td>2008</td>\n",
       "      <td>WD</td>\n",
       "      <td>Normal</td>\n",
       "      <td>208500</td>\n",
       "      <td>5</td>\n",
       "    </tr>\n",
       "    <tr>\n",
       "      <th>1</th>\n",
       "      <td>20</td>\n",
       "      <td>RL</td>\n",
       "      <td>9600</td>\n",
       "      <td>Pave</td>\n",
       "      <td>Reg</td>\n",
       "      <td>Lvl</td>\n",
       "      <td>AllPub</td>\n",
       "      <td>FR2</td>\n",
       "      <td>Gtl</td>\n",
       "      <td>Veenker</td>\n",
       "      <td>...</td>\n",
       "      <td>0</td>\n",
       "      <td>0</td>\n",
       "      <td>0</td>\n",
       "      <td>0</td>\n",
       "      <td>5</td>\n",
       "      <td>2007</td>\n",
       "      <td>WD</td>\n",
       "      <td>Normal</td>\n",
       "      <td>181500</td>\n",
       "      <td>31</td>\n",
       "    </tr>\n",
       "    <tr>\n",
       "      <th>2</th>\n",
       "      <td>60</td>\n",
       "      <td>RL</td>\n",
       "      <td>11250</td>\n",
       "      <td>Pave</td>\n",
       "      <td>IR1</td>\n",
       "      <td>Lvl</td>\n",
       "      <td>AllPub</td>\n",
       "      <td>Inside</td>\n",
       "      <td>Gtl</td>\n",
       "      <td>CollgCr</td>\n",
       "      <td>...</td>\n",
       "      <td>0</td>\n",
       "      <td>0</td>\n",
       "      <td>0</td>\n",
       "      <td>0</td>\n",
       "      <td>9</td>\n",
       "      <td>2008</td>\n",
       "      <td>WD</td>\n",
       "      <td>Normal</td>\n",
       "      <td>223500</td>\n",
       "      <td>7</td>\n",
       "    </tr>\n",
       "    <tr>\n",
       "      <th>3</th>\n",
       "      <td>70</td>\n",
       "      <td>RL</td>\n",
       "      <td>9550</td>\n",
       "      <td>Pave</td>\n",
       "      <td>IR1</td>\n",
       "      <td>Lvl</td>\n",
       "      <td>AllPub</td>\n",
       "      <td>Corner</td>\n",
       "      <td>Gtl</td>\n",
       "      <td>Crawfor</td>\n",
       "      <td>...</td>\n",
       "      <td>0</td>\n",
       "      <td>0</td>\n",
       "      <td>0</td>\n",
       "      <td>0</td>\n",
       "      <td>2</td>\n",
       "      <td>2006</td>\n",
       "      <td>WD</td>\n",
       "      <td>Abnorml</td>\n",
       "      <td>140000</td>\n",
       "      <td>91</td>\n",
       "    </tr>\n",
       "    <tr>\n",
       "      <th>4</th>\n",
       "      <td>60</td>\n",
       "      <td>RL</td>\n",
       "      <td>14260</td>\n",
       "      <td>Pave</td>\n",
       "      <td>IR1</td>\n",
       "      <td>Lvl</td>\n",
       "      <td>AllPub</td>\n",
       "      <td>FR2</td>\n",
       "      <td>Gtl</td>\n",
       "      <td>NoRidge</td>\n",
       "      <td>...</td>\n",
       "      <td>0</td>\n",
       "      <td>0</td>\n",
       "      <td>0</td>\n",
       "      <td>0</td>\n",
       "      <td>12</td>\n",
       "      <td>2008</td>\n",
       "      <td>WD</td>\n",
       "      <td>Normal</td>\n",
       "      <td>250000</td>\n",
       "      <td>8</td>\n",
       "    </tr>\n",
       "  </tbody>\n",
       "</table>\n",
       "<p>5 rows × 74 columns</p>\n",
       "</div>"
      ],
      "text/plain": [
       "   ms_sub_class ms_zoning  lot_area street lot_shape land_contour utilities  \\\n",
       "0            60        RL      8450   Pave       Reg          Lvl    AllPub   \n",
       "1            20        RL      9600   Pave       Reg          Lvl    AllPub   \n",
       "2            60        RL     11250   Pave       IR1          Lvl    AllPub   \n",
       "3            70        RL      9550   Pave       IR1          Lvl    AllPub   \n",
       "4            60        RL     14260   Pave       IR1          Lvl    AllPub   \n",
       "\n",
       "  lot_config land_slope neighborhood  ... 3_ssn_porch screen_porch pool_area  \\\n",
       "0     Inside        Gtl      CollgCr  ...           0            0         0   \n",
       "1        FR2        Gtl      Veenker  ...           0            0         0   \n",
       "2     Inside        Gtl      CollgCr  ...           0            0         0   \n",
       "3     Corner        Gtl      Crawfor  ...           0            0         0   \n",
       "4        FR2        Gtl      NoRidge  ...           0            0         0   \n",
       "\n",
       "  misc_val  mo_sold  yr_sold  sale_type  sale_condition sale_price age_sold  \n",
       "0        0        2     2008         WD          Normal     208500        5  \n",
       "1        0        5     2007         WD          Normal     181500       31  \n",
       "2        0        9     2008         WD          Normal     223500        7  \n",
       "3        0        2     2006         WD         Abnorml     140000       91  \n",
       "4        0       12     2008         WD          Normal     250000        8  \n",
       "\n",
       "[5 rows x 74 columns]"
      ]
     },
     "execution_count": 6,
     "metadata": {},
     "output_type": "execute_result"
    }
   ],
   "source": [
    "##### remove features with more than 10% NaN row\n",
    "\n",
    "nan_removal = nan_count_df.loc[nan_count_df[\"nan_percent\"]>10, \"column\"].to_list()\n",
    "nan_removal = nan_removal + [\"id\"]\n",
    "\n",
    "cleaned_house_df = house_df.drop(columns=nan_removal)\n",
    "\n",
    "cleaned_house_df.head(5)"
   ]
  },
  {
   "cell_type": "markdown",
   "metadata": {},
   "source": [
    "---\n",
    "# <center> Exploratory Data Analysis </center>\n",
    "---\n",
    "\n"
   ]
  },
  {
   "cell_type": "code",
   "execution_count": 19,
   "metadata": {},
   "outputs": [
    {
     "data": {
      "text/html": [
       "<div>\n",
       "<style scoped>\n",
       "    .dataframe tbody tr th:only-of-type {\n",
       "        vertical-align: middle;\n",
       "    }\n",
       "\n",
       "    .dataframe tbody tr th {\n",
       "        vertical-align: top;\n",
       "    }\n",
       "\n",
       "    .dataframe thead th {\n",
       "        text-align: right;\n",
       "    }\n",
       "</style>\n",
       "<table border=\"1\" class=\"dataframe\">\n",
       "  <thead>\n",
       "    <tr style=\"text-align: right;\">\n",
       "      <th></th>\n",
       "      <th>column_name</th>\n",
       "      <th>unique_count</th>\n",
       "      <th>uniqueness</th>\n",
       "      <th>nan_count</th>\n",
       "      <th>nan_percent</th>\n",
       "      <th>percent_complete</th>\n",
       "      <th>data_type</th>\n",
       "      <th>unique_entries</th>\n",
       "    </tr>\n",
       "  </thead>\n",
       "  <tbody>\n",
       "    <tr>\n",
       "      <th>0</th>\n",
       "      <td>ms_sub_class</td>\n",
       "      <td>15</td>\n",
       "      <td>1.0274</td>\n",
       "      <td>0.0000</td>\n",
       "      <td>0.0000</td>\n",
       "      <td>100.0000</td>\n",
       "      <td>int64</td>\n",
       "      <td>&gt;10 entries</td>\n",
       "    </tr>\n",
       "    <tr>\n",
       "      <th>2</th>\n",
       "      <td>lot_area</td>\n",
       "      <td>1073</td>\n",
       "      <td>73.4932</td>\n",
       "      <td>0.0000</td>\n",
       "      <td>0.0000</td>\n",
       "      <td>100.0000</td>\n",
       "      <td>int64</td>\n",
       "      <td>&gt;10 entries</td>\n",
       "    </tr>\n",
       "    <tr>\n",
       "      <th>14</th>\n",
       "      <td>overall_qual</td>\n",
       "      <td>10</td>\n",
       "      <td>0.6849</td>\n",
       "      <td>0.0000</td>\n",
       "      <td>0.0000</td>\n",
       "      <td>100.0000</td>\n",
       "      <td>int64</td>\n",
       "      <td>[7, 6, 8, 5, 9, 4, 10, 3, 1, 2]</td>\n",
       "    </tr>\n",
       "    <tr>\n",
       "      <th>15</th>\n",
       "      <td>overall_cond</td>\n",
       "      <td>9</td>\n",
       "      <td>0.6164</td>\n",
       "      <td>0.0000</td>\n",
       "      <td>0.0000</td>\n",
       "      <td>100.0000</td>\n",
       "      <td>int64</td>\n",
       "      <td>[5, 8, 6, 7, 4, 2, 3, 9, 1]</td>\n",
       "    </tr>\n",
       "    <tr>\n",
       "      <th>16</th>\n",
       "      <td>year_built</td>\n",
       "      <td>112</td>\n",
       "      <td>7.6712</td>\n",
       "      <td>0.0000</td>\n",
       "      <td>0.0000</td>\n",
       "      <td>100.0000</td>\n",
       "      <td>int64</td>\n",
       "      <td>&gt;10 entries</td>\n",
       "    </tr>\n",
       "    <tr>\n",
       "      <th>...</th>\n",
       "      <td>...</td>\n",
       "      <td>...</td>\n",
       "      <td>...</td>\n",
       "      <td>...</td>\n",
       "      <td>...</td>\n",
       "      <td>...</td>\n",
       "      <td>...</td>\n",
       "      <td>...</td>\n",
       "    </tr>\n",
       "    <tr>\n",
       "      <th>53</th>\n",
       "      <td>garage_type</td>\n",
       "      <td>7</td>\n",
       "      <td>0.4795</td>\n",
       "      <td>81.0000</td>\n",
       "      <td>5.5479</td>\n",
       "      <td>94.4521</td>\n",
       "      <td>object</td>\n",
       "      <td>[Attchd, Detchd, BuiltIn, CarPort, nan, Basmen...</td>\n",
       "    </tr>\n",
       "    <tr>\n",
       "      <th>55</th>\n",
       "      <td>garage_finish</td>\n",
       "      <td>4</td>\n",
       "      <td>0.2740</td>\n",
       "      <td>81.0000</td>\n",
       "      <td>5.5479</td>\n",
       "      <td>94.4521</td>\n",
       "      <td>object</td>\n",
       "      <td>[RFn, Unf, Fin, nan]</td>\n",
       "    </tr>\n",
       "    <tr>\n",
       "      <th>58</th>\n",
       "      <td>garage_qual</td>\n",
       "      <td>6</td>\n",
       "      <td>0.4110</td>\n",
       "      <td>81.0000</td>\n",
       "      <td>5.5479</td>\n",
       "      <td>94.4521</td>\n",
       "      <td>object</td>\n",
       "      <td>[TA, Fa, Gd, nan, Ex, Po]</td>\n",
       "    </tr>\n",
       "    <tr>\n",
       "      <th>59</th>\n",
       "      <td>garage_cond</td>\n",
       "      <td>6</td>\n",
       "      <td>0.4110</td>\n",
       "      <td>81.0000</td>\n",
       "      <td>5.5479</td>\n",
       "      <td>94.4521</td>\n",
       "      <td>object</td>\n",
       "      <td>[TA, Fa, nan, Gd, Po, Ex]</td>\n",
       "    </tr>\n",
       "    <tr>\n",
       "      <th>73</th>\n",
       "      <td>this_df</td>\n",
       "      <td>1460</td>\n",
       "      <td>100.0000</td>\n",
       "      <td>NaN</td>\n",
       "      <td>NaN</td>\n",
       "      <td>NaN</td>\n",
       "      <td>NaN</td>\n",
       "      <td>NaN</td>\n",
       "    </tr>\n",
       "  </tbody>\n",
       "</table>\n",
       "<p>74 rows × 8 columns</p>\n",
       "</div>"
      ],
      "text/plain": [
       "      column_name  unique_count  uniqueness  nan_count  nan_percent  \\\n",
       "0    ms_sub_class            15      1.0274     0.0000       0.0000   \n",
       "2        lot_area          1073     73.4932     0.0000       0.0000   \n",
       "14   overall_qual            10      0.6849     0.0000       0.0000   \n",
       "15   overall_cond             9      0.6164     0.0000       0.0000   \n",
       "16     year_built           112      7.6712     0.0000       0.0000   \n",
       "..            ...           ...         ...        ...          ...   \n",
       "53    garage_type             7      0.4795    81.0000       5.5479   \n",
       "55  garage_finish             4      0.2740    81.0000       5.5479   \n",
       "58    garage_qual             6      0.4110    81.0000       5.5479   \n",
       "59    garage_cond             6      0.4110    81.0000       5.5479   \n",
       "73        this_df          1460    100.0000        NaN          NaN   \n",
       "\n",
       "    percent_complete data_type  \\\n",
       "0           100.0000     int64   \n",
       "2           100.0000     int64   \n",
       "14          100.0000     int64   \n",
       "15          100.0000     int64   \n",
       "16          100.0000     int64   \n",
       "..               ...       ...   \n",
       "53           94.4521    object   \n",
       "55           94.4521    object   \n",
       "58           94.4521    object   \n",
       "59           94.4521    object   \n",
       "73               NaN       NaN   \n",
       "\n",
       "                                       unique_entries  \n",
       "0                                         >10 entries  \n",
       "2                                         >10 entries  \n",
       "14                    [7, 6, 8, 5, 9, 4, 10, 3, 1, 2]  \n",
       "15                        [5, 8, 6, 7, 4, 2, 3, 9, 1]  \n",
       "16                                        >10 entries  \n",
       "..                                                ...  \n",
       "53  [Attchd, Detchd, BuiltIn, CarPort, nan, Basmen...  \n",
       "55                               [RFn, Unf, Fin, nan]  \n",
       "58                          [TA, Fa, Gd, nan, Ex, Po]  \n",
       "59                          [TA, Fa, nan, Gd, Po, Ex]  \n",
       "73                                                NaN  \n",
       "\n",
       "[74 rows x 8 columns]"
      ]
     },
     "execution_count": 19,
     "metadata": {},
     "output_type": "execute_result"
    }
   ],
   "source": [
    "house_df_summary = dataframe_summary(cleaned_house_df, 10)\n",
    "house_df_summary.sort_values([\"percent_complete\", \"data_type\"], ascending=[False, True])"
   ]
  },
  {
   "cell_type": "markdown",
   "metadata": {},
   "source": [
    "## Sale Price with Respect to Neighborhood"
   ]
  },
  {
   "cell_type": "code",
   "execution_count": 158,
   "metadata": {},
   "outputs": [],
   "source": [
    "house_neighborhood = house_df[[\"neighborhood\", \"sale_price\", \"gr_liv_area\", \"age_sold\"]].groupby([\"neighborhood\"]).agg([\"mean\", \"median\", \"std\"]).reset_index()\n",
    "house_neighborhood = house_neighborhood.sort_values((\"sale_price\", \"mean\"), ascending=False)\n",
    "house_neighborhood[\"mean_scaled\"] = house_neighborhood[\"sale_price\"][\"mean\"]/house_neighborhood[\"gr_liv_area\"][\"mean\"]\n",
    "house_neighborhood[\"median_scaled\"] = house_neighborhood[\"sale_price\"][\"median\"]/house_neighborhood[\"gr_liv_area\"][\"median\"]\n",
    "\n"
   ]
  },
  {
   "cell_type": "code",
   "execution_count": 157,
   "metadata": {},
   "outputs": [
    {
     "data": {
      "application/vnd.plotly.v1+json": {
       "config": {
        "plotlyServerURL": "https://plot.ly"
       },
       "data": [
        {
         "legendgroup": "mean",
         "marker": {
          "color": "#811331"
         },
         "name": "mean",
         "orientation": "v",
         "showlegend": true,
         "text": [
          335295.31707317074,
          316270.6233766234,
          310499,
          242247.44736842104,
          238772.72727272726,
          225379.83720930232,
          212565.42857142858,
          210624.72549019608,
          197965.77333333335,
          194870.88235294117,
          192854.50632911394,
          189050.0684931507,
          186555.7966101695,
          156270.1224489796,
          145847.08,
          142694.44444444444,
          142591.36,
          137500,
          136793.13513513515,
          128225.30088495575,
          128219.7,
          124834.05172413793,
          104493.75,
          100123.78378378379,
          98576.4705882353
         ],
         "texttemplate": "$ %{text:,.0f}",
         "type": "bar",
         "x": [
          "NoRidge",
          "NridgHt",
          "StoneBr",
          "Timber",
          "Veenker",
          "Somerst",
          "ClearCr",
          "Crawfor",
          "CollgCr",
          "Blmngtn",
          "Gilbert",
          "NWAmes",
          "SawyerW",
          "Mitchel",
          "NAmes",
          "NPkVill",
          "SWISU",
          "Blueste",
          "Sawyer",
          "OldTown",
          "Edwards",
          "BrkSide",
          "BrDale",
          "IDOTRR",
          "MeadowV"
         ],
         "xaxis": "x",
         "y": [
          335295.31707317074,
          316270.6233766234,
          310499,
          242247.44736842104,
          238772.72727272726,
          225379.83720930232,
          212565.42857142858,
          210624.72549019608,
          197965.77333333335,
          194870.88235294117,
          192854.50632911394,
          189050.0684931507,
          186555.7966101695,
          156270.1224489796,
          145847.08,
          142694.44444444444,
          142591.36,
          137500,
          136793.13513513515,
          128225.30088495575,
          128219.7,
          124834.05172413793,
          104493.75,
          100123.78378378379,
          98576.4705882353
         ],
         "yaxis": "y"
        },
        {
         "legendgroup": "median",
         "marker": {
          "color": "#0F52BA"
         },
         "name": "median",
         "orientation": "v",
         "showlegend": true,
         "text": [
          301500,
          315000,
          278000,
          228475,
          218000,
          225500,
          200250,
          200624,
          197200,
          191000,
          181000,
          182900,
          179900,
          153500,
          140000,
          146000,
          139500,
          137500,
          135000,
          119000,
          121750,
          124300,
          106000,
          103000,
          88000
         ],
         "texttemplate": "$ %{text:,.0f}",
         "type": "bar",
         "x": [
          "NoRidge",
          "NridgHt",
          "StoneBr",
          "Timber",
          "Veenker",
          "Somerst",
          "ClearCr",
          "Crawfor",
          "CollgCr",
          "Blmngtn",
          "Gilbert",
          "NWAmes",
          "SawyerW",
          "Mitchel",
          "NAmes",
          "NPkVill",
          "SWISU",
          "Blueste",
          "Sawyer",
          "OldTown",
          "Edwards",
          "BrkSide",
          "BrDale",
          "IDOTRR",
          "MeadowV"
         ],
         "xaxis": "x",
         "y": [
          -301500,
          -315000,
          -278000,
          -228475,
          -218000,
          -225500,
          -200250,
          -200624,
          -197200,
          -191000,
          -181000,
          -182900,
          -179900,
          -153500,
          -140000,
          -146000,
          -139500,
          -137500,
          -135000,
          -119000,
          -121750,
          -124300,
          -106000,
          -103000,
          -88000
         ],
         "yaxis": "y"
        },
        {
         "legendgroup": "mean",
         "marker": {
          "color": "#811331"
         },
         "name": "mean",
         "orientation": "v",
         "showlegend": false,
         "text": [
          133.64482855837375,
          165.0726506154764,
          165.2399046341827,
          138.47708947590107,
          155.08384506376947,
          141.15784490794687,
          118.87734435855953,
          117.56184607976186,
          133.71548350782393,
          136.46982492276004,
          117.49989202862784,
          109.41785329189396,
          116.9616390028266,
          120.74612085278163,
          111.307214571603,
          113.88223818391415,
          79.16288778841242,
          98.74326750448833,
          112.57442170818506,
          86.65477934800161,
          95.68348706008776,
          103.7630055318295,
          91.40560931605708,
          87.65124807760559,
          93.08965670481058
         ],
         "texttemplate": "$ %{text:,.0f}",
         "type": "bar",
         "x": [
          "NoRidge",
          "NridgHt",
          "StoneBr",
          "Timber",
          "Veenker",
          "Somerst",
          "ClearCr",
          "Crawfor",
          "CollgCr",
          "Blmngtn",
          "Gilbert",
          "NWAmes",
          "SawyerW",
          "Mitchel",
          "NAmes",
          "NPkVill",
          "SWISU",
          "Blueste",
          "Sawyer",
          "OldTown",
          "Edwards",
          "BrkSide",
          "BrDale",
          "IDOTRR",
          "MeadowV"
         ],
         "xaxis": "x2",
         "y": [
          133.64482855837375,
          165.0726506154764,
          165.2399046341827,
          138.47708947590107,
          155.08384506376947,
          141.15784490794687,
          118.87734435855953,
          117.56184607976186,
          133.71548350782393,
          136.46982492276004,
          117.49989202862784,
          109.41785329189396,
          116.9616390028266,
          120.74612085278163,
          111.307214571603,
          113.88223818391415,
          79.16288778841242,
          98.74326750448833,
          112.57442170818506,
          86.65477934800161,
          95.68348706008776,
          103.7630055318295,
          91.40560931605708,
          87.65124807760559,
          93.08965670481058
         ],
         "yaxis": "y2"
        },
        {
         "legendgroup": "median",
         "marker": {
          "color": "#0F52BA"
         },
         "name": "median",
         "orientation": "v",
         "showlegend": false,
         "text": [
          124.68982630272953,
          170.27027027027026,
          159.58668197474168,
          135.23231725362533,
          151.70494084899096,
          144.13550655161393,
          115.21864211737629,
          116.84566103669191,
          131.46666666666667,
          127.33333333333333,
          113.62209667294412,
          109.91586538461539,
          112.22707423580786,
          127.49169435215947,
          116.66666666666667,
          110.43872919818457,
          82.49556475458309,
          98.74326750448833,
          122.0614828209765,
          86.60844250363901,
          101.45833333333333,
          102.6848409748038,
          91.77489177489177,
          91.31205673758865,
          80.58608058608058
         ],
         "texttemplate": "$ %{text:,.0f}",
         "type": "bar",
         "x": [
          "NoRidge",
          "NridgHt",
          "StoneBr",
          "Timber",
          "Veenker",
          "Somerst",
          "ClearCr",
          "Crawfor",
          "CollgCr",
          "Blmngtn",
          "Gilbert",
          "NWAmes",
          "SawyerW",
          "Mitchel",
          "NAmes",
          "NPkVill",
          "SWISU",
          "Blueste",
          "Sawyer",
          "OldTown",
          "Edwards",
          "BrkSide",
          "BrDale",
          "IDOTRR",
          "MeadowV"
         ],
         "xaxis": "x2",
         "y": [
          -124.68982630272953,
          -170.27027027027026,
          -159.58668197474168,
          -135.23231725362533,
          -151.70494084899096,
          -144.13550655161393,
          -115.21864211737629,
          -116.84566103669191,
          -131.46666666666667,
          -127.33333333333333,
          -113.62209667294412,
          -109.91586538461539,
          -112.22707423580786,
          -127.49169435215947,
          -116.66666666666667,
          -110.43872919818457,
          -82.49556475458309,
          -98.74326750448833,
          -122.0614828209765,
          -86.60844250363901,
          -101.45833333333333,
          -102.6848409748038,
          -91.77489177489177,
          -91.31205673758865,
          -80.58608058608058
         ],
         "yaxis": "y2"
        },
        {
         "legendgroup": "mean",
         "marker": {
          "color": "#811331"
         },
         "name": "mean",
         "orientation": "v",
         "showlegend": false,
         "text": [
          12.390243902439025,
          2.142857142857143,
          9.44,
          14.973684210526315,
          24.636363636363637,
          2.755813953488372,
          41.214285714285715,
          65.94117647058823,
          9.92,
          2.235294117647059,
          9.30379746835443,
          32.19178082191781,
          19.661016949152543,
          26,
          47.87111111111111,
          32.22222222222222,
          82.92,
          28.5,
          44.21621621621622,
          84.90265486725664,
          51.97,
          76.24137931034483,
          36.25,
          79.8108108108108,
          35.470588235294116
         ],
         "texttemplate": "%{text:,.0f} years",
         "type": "bar",
         "x": [
          "NoRidge",
          "NridgHt",
          "StoneBr",
          "Timber",
          "Veenker",
          "Somerst",
          "ClearCr",
          "Crawfor",
          "CollgCr",
          "Blmngtn",
          "Gilbert",
          "NWAmes",
          "SawyerW",
          "Mitchel",
          "NAmes",
          "NPkVill",
          "SWISU",
          "Blueste",
          "Sawyer",
          "OldTown",
          "Edwards",
          "BrkSide",
          "BrDale",
          "IDOTRR",
          "MeadowV"
         ],
         "xaxis": "x3",
         "y": [
          12.390243902439025,
          2.142857142857143,
          9.44,
          14.973684210526315,
          24.636363636363637,
          2.755813953488372,
          41.214285714285715,
          65.94117647058823,
          9.92,
          2.235294117647059,
          9.30379746835443,
          32.19178082191781,
          19.661016949152543,
          26,
          47.87111111111111,
          32.22222222222222,
          82.92,
          28.5,
          44.21621621621622,
          84.90265486725664,
          51.97,
          76.24137931034483,
          36.25,
          79.8108108108108,
          35.470588235294116
         ],
         "yaxis": "y3"
        },
        {
         "legendgroup": "median",
         "marker": {
          "color": "#0F52BA"
         },
         "name": "median",
         "orientation": "v",
         "showlegend": false,
         "text": [
          12,
          1,
          7,
          8,
          29,
          1,
          41.5,
          69,
          6,
          2,
          8,
          32,
          17,
          26,
          48,
          32,
          83,
          28.5,
          43,
          86,
          53.5,
          78,
          37,
          84,
          36
         ],
         "texttemplate": "%{text:,.0f} years",
         "type": "bar",
         "x": [
          "NoRidge",
          "NridgHt",
          "StoneBr",
          "Timber",
          "Veenker",
          "Somerst",
          "ClearCr",
          "Crawfor",
          "CollgCr",
          "Blmngtn",
          "Gilbert",
          "NWAmes",
          "SawyerW",
          "Mitchel",
          "NAmes",
          "NPkVill",
          "SWISU",
          "Blueste",
          "Sawyer",
          "OldTown",
          "Edwards",
          "BrkSide",
          "BrDale",
          "IDOTRR",
          "MeadowV"
         ],
         "xaxis": "x3",
         "y": [
          -12,
          -1,
          -7,
          -8,
          -29,
          -1,
          -41.5,
          -69,
          -6,
          -2,
          -8,
          -32,
          -17,
          -26,
          -48,
          -32,
          -83,
          -28.5,
          -43,
          -86,
          -53.5,
          -78,
          -37,
          -84,
          -36
         ],
         "yaxis": "y3"
        },
        {
         "marker": {
          "color": "#7D3C98"
         },
         "mode": "markers",
         "showlegend": false,
         "type": "scatter",
         "x": [
          12.390243902439025,
          2.142857142857143,
          9.44,
          14.973684210526315,
          24.636363636363637,
          2.755813953488372,
          41.214285714285715,
          65.94117647058823,
          9.92,
          2.235294117647059,
          9.30379746835443,
          32.19178082191781,
          19.661016949152543,
          26,
          47.87111111111111,
          32.22222222222222,
          82.92,
          28.5,
          44.21621621621622,
          84.90265486725664,
          51.97,
          76.24137931034483,
          36.25,
          79.8108108108108,
          35.470588235294116
         ],
         "xaxis": "x4",
         "y": [
          133.64482855837375,
          165.0726506154764,
          165.2399046341827,
          138.47708947590107,
          155.08384506376947,
          141.15784490794687,
          118.87734435855953,
          117.56184607976186,
          133.71548350782393,
          136.46982492276004,
          117.49989202862784,
          109.41785329189396,
          116.9616390028266,
          120.74612085278163,
          111.307214571603,
          113.88223818391415,
          79.16288778841242,
          98.74326750448833,
          112.57442170818506,
          86.65477934800161,
          95.68348706008776,
          103.7630055318295,
          91.40560931605708,
          87.65124807760559,
          93.08965670481058
         ],
         "yaxis": "y4"
        },
        {
         "marker": {
          "color": "#AF7AC5"
         },
         "mode": "lines",
         "showlegend": false,
         "type": "scatter",
         "x": [
          0,
          1,
          2,
          3,
          4,
          5,
          6,
          7,
          8,
          9,
          10,
          11,
          12,
          13,
          14,
          15,
          16,
          17,
          18,
          19,
          20,
          21,
          22,
          23,
          24,
          25,
          26,
          27,
          28,
          29,
          30,
          31,
          32,
          33,
          34,
          35,
          36,
          37,
          38,
          39,
          40,
          41,
          42,
          43,
          44,
          45,
          46,
          47,
          48,
          49,
          50,
          51,
          52,
          53,
          54,
          55,
          56,
          57,
          58,
          59,
          60,
          61,
          62,
          63,
          64,
          65,
          66,
          67,
          68,
          69,
          70,
          71,
          72,
          73,
          74,
          75,
          76,
          77,
          78,
          79,
          80,
          81,
          82,
          83,
          84,
          85,
          86
         ],
         "xaxis": "x4",
         "y": [
          141.84775447098377,
          141.15792077821294,
          140.4680870854421,
          139.77825339267127,
          139.08841969990044,
          138.3985860071296,
          137.70875231435878,
          137.01891862158794,
          136.3290849288171,
          135.63925123604628,
          134.94941754327544,
          134.2595838505046,
          133.56975015773378,
          132.87991646496295,
          132.1900827721921,
          131.50024907942128,
          130.81041538665045,
          130.12058169387961,
          129.43074800110878,
          128.74091430833795,
          128.05108061556712,
          127.36124692279627,
          126.67141323002544,
          125.9815795372546,
          125.29174584448377,
          124.60191215171294,
          123.9120784589421,
          123.22224476617127,
          122.53241107340044,
          121.8425773806296,
          121.15274368785877,
          120.46290999508794,
          119.77307630231711,
          119.08324260954628,
          118.39340891677544,
          117.70357522400461,
          117.01374153123378,
          116.32390783846294,
          115.63407414569211,
          114.94424045292128,
          114.25440676015045,
          113.56457306737961,
          112.87473937460878,
          112.18490568183795,
          111.4950719890671,
          110.80523829629627,
          110.11540460352543,
          109.4255709107546,
          108.73573721798377,
          108.04590352521294,
          107.3560698324421,
          106.66623613967127,
          105.97640244690044,
          105.2865687541296,
          104.59673506135877,
          103.90690136858794,
          103.2170676758171,
          102.52723398304627,
          101.83740029027544,
          101.1475665975046,
          100.45773290473377,
          99.76789921196294,
          99.07806551919211,
          98.38823182642128,
          97.69839813365044,
          97.00856444087961,
          96.31873074810878,
          95.62889705533794,
          94.93906336256711,
          94.24922966979628,
          93.55939597702545,
          92.86956228425461,
          92.17972859148378,
          91.48989489871295,
          90.80006120594211,
          90.11022751317128,
          89.42039382040045,
          88.73056012762962,
          88.04072643485878,
          87.35089274208795,
          86.66105904931712,
          85.97122535654628,
          85.28139166377545,
          84.59155797100462,
          83.90172427823379,
          83.21189058546295,
          82.52205689269212
         ],
         "yaxis": "y4"
        }
       ],
       "layout": {
        "annotations": [
         {
          "font": {
           "size": 16
          },
          "showarrow": false,
          "text": "Sale Price by Neighborhood",
          "x": 0.5,
          "xanchor": "center",
          "xref": "paper",
          "y": 1,
          "yanchor": "bottom",
          "yref": "paper"
         },
         {
          "font": {
           "size": 16
          },
          "showarrow": false,
          "text": "Sale Price per Square Foot by Neighborhood",
          "x": 0.5,
          "xanchor": "center",
          "xref": "paper",
          "y": 0.73,
          "yanchor": "bottom",
          "yref": "paper"
         },
         {
          "font": {
           "size": 16
          },
          "showarrow": false,
          "text": "House Age during Sale",
          "x": 0.5,
          "xanchor": "center",
          "xref": "paper",
          "y": 0.46,
          "yanchor": "bottom",
          "yref": "paper"
         },
         {
          "font": {
           "size": 16
          },
          "showarrow": false,
          "text": "Sale Price per Square Foot versus House Age",
          "x": 0.5,
          "xanchor": "center",
          "xref": "paper",
          "y": 0.19,
          "yanchor": "bottom",
          "yref": "paper"
         }
        ],
        "barmode": "overlay",
        "height": 1200,
        "legend": {
         "orientation": "h",
         "x": 0.45,
         "xanchor": "left",
         "y": 1.1,
         "yanchor": "top"
        },
        "template": {
         "data": {
          "bar": [
           {
            "error_x": {
             "color": "#2a3f5f"
            },
            "error_y": {
             "color": "#2a3f5f"
            },
            "marker": {
             "line": {
              "color": "#E5ECF6",
              "width": 0.5
             },
             "pattern": {
              "fillmode": "overlay",
              "size": 10,
              "solidity": 0.2
             }
            },
            "type": "bar"
           }
          ],
          "barpolar": [
           {
            "marker": {
             "line": {
              "color": "#E5ECF6",
              "width": 0.5
             },
             "pattern": {
              "fillmode": "overlay",
              "size": 10,
              "solidity": 0.2
             }
            },
            "type": "barpolar"
           }
          ],
          "carpet": [
           {
            "aaxis": {
             "endlinecolor": "#2a3f5f",
             "gridcolor": "white",
             "linecolor": "white",
             "minorgridcolor": "white",
             "startlinecolor": "#2a3f5f"
            },
            "baxis": {
             "endlinecolor": "#2a3f5f",
             "gridcolor": "white",
             "linecolor": "white",
             "minorgridcolor": "white",
             "startlinecolor": "#2a3f5f"
            },
            "type": "carpet"
           }
          ],
          "choropleth": [
           {
            "colorbar": {
             "outlinewidth": 0,
             "ticks": ""
            },
            "type": "choropleth"
           }
          ],
          "contour": [
           {
            "colorbar": {
             "outlinewidth": 0,
             "ticks": ""
            },
            "colorscale": [
             [
              0,
              "#0d0887"
             ],
             [
              0.1111111111111111,
              "#46039f"
             ],
             [
              0.2222222222222222,
              "#7201a8"
             ],
             [
              0.3333333333333333,
              "#9c179e"
             ],
             [
              0.4444444444444444,
              "#bd3786"
             ],
             [
              0.5555555555555556,
              "#d8576b"
             ],
             [
              0.6666666666666666,
              "#ed7953"
             ],
             [
              0.7777777777777778,
              "#fb9f3a"
             ],
             [
              0.8888888888888888,
              "#fdca26"
             ],
             [
              1,
              "#f0f921"
             ]
            ],
            "type": "contour"
           }
          ],
          "contourcarpet": [
           {
            "colorbar": {
             "outlinewidth": 0,
             "ticks": ""
            },
            "type": "contourcarpet"
           }
          ],
          "heatmap": [
           {
            "colorbar": {
             "outlinewidth": 0,
             "ticks": ""
            },
            "colorscale": [
             [
              0,
              "#0d0887"
             ],
             [
              0.1111111111111111,
              "#46039f"
             ],
             [
              0.2222222222222222,
              "#7201a8"
             ],
             [
              0.3333333333333333,
              "#9c179e"
             ],
             [
              0.4444444444444444,
              "#bd3786"
             ],
             [
              0.5555555555555556,
              "#d8576b"
             ],
             [
              0.6666666666666666,
              "#ed7953"
             ],
             [
              0.7777777777777778,
              "#fb9f3a"
             ],
             [
              0.8888888888888888,
              "#fdca26"
             ],
             [
              1,
              "#f0f921"
             ]
            ],
            "type": "heatmap"
           }
          ],
          "heatmapgl": [
           {
            "colorbar": {
             "outlinewidth": 0,
             "ticks": ""
            },
            "colorscale": [
             [
              0,
              "#0d0887"
             ],
             [
              0.1111111111111111,
              "#46039f"
             ],
             [
              0.2222222222222222,
              "#7201a8"
             ],
             [
              0.3333333333333333,
              "#9c179e"
             ],
             [
              0.4444444444444444,
              "#bd3786"
             ],
             [
              0.5555555555555556,
              "#d8576b"
             ],
             [
              0.6666666666666666,
              "#ed7953"
             ],
             [
              0.7777777777777778,
              "#fb9f3a"
             ],
             [
              0.8888888888888888,
              "#fdca26"
             ],
             [
              1,
              "#f0f921"
             ]
            ],
            "type": "heatmapgl"
           }
          ],
          "histogram": [
           {
            "marker": {
             "pattern": {
              "fillmode": "overlay",
              "size": 10,
              "solidity": 0.2
             }
            },
            "type": "histogram"
           }
          ],
          "histogram2d": [
           {
            "colorbar": {
             "outlinewidth": 0,
             "ticks": ""
            },
            "colorscale": [
             [
              0,
              "#0d0887"
             ],
             [
              0.1111111111111111,
              "#46039f"
             ],
             [
              0.2222222222222222,
              "#7201a8"
             ],
             [
              0.3333333333333333,
              "#9c179e"
             ],
             [
              0.4444444444444444,
              "#bd3786"
             ],
             [
              0.5555555555555556,
              "#d8576b"
             ],
             [
              0.6666666666666666,
              "#ed7953"
             ],
             [
              0.7777777777777778,
              "#fb9f3a"
             ],
             [
              0.8888888888888888,
              "#fdca26"
             ],
             [
              1,
              "#f0f921"
             ]
            ],
            "type": "histogram2d"
           }
          ],
          "histogram2dcontour": [
           {
            "colorbar": {
             "outlinewidth": 0,
             "ticks": ""
            },
            "colorscale": [
             [
              0,
              "#0d0887"
             ],
             [
              0.1111111111111111,
              "#46039f"
             ],
             [
              0.2222222222222222,
              "#7201a8"
             ],
             [
              0.3333333333333333,
              "#9c179e"
             ],
             [
              0.4444444444444444,
              "#bd3786"
             ],
             [
              0.5555555555555556,
              "#d8576b"
             ],
             [
              0.6666666666666666,
              "#ed7953"
             ],
             [
              0.7777777777777778,
              "#fb9f3a"
             ],
             [
              0.8888888888888888,
              "#fdca26"
             ],
             [
              1,
              "#f0f921"
             ]
            ],
            "type": "histogram2dcontour"
           }
          ],
          "mesh3d": [
           {
            "colorbar": {
             "outlinewidth": 0,
             "ticks": ""
            },
            "type": "mesh3d"
           }
          ],
          "parcoords": [
           {
            "line": {
             "colorbar": {
              "outlinewidth": 0,
              "ticks": ""
             }
            },
            "type": "parcoords"
           }
          ],
          "pie": [
           {
            "automargin": true,
            "type": "pie"
           }
          ],
          "scatter": [
           {
            "fillpattern": {
             "fillmode": "overlay",
             "size": 10,
             "solidity": 0.2
            },
            "type": "scatter"
           }
          ],
          "scatter3d": [
           {
            "line": {
             "colorbar": {
              "outlinewidth": 0,
              "ticks": ""
             }
            },
            "marker": {
             "colorbar": {
              "outlinewidth": 0,
              "ticks": ""
             }
            },
            "type": "scatter3d"
           }
          ],
          "scattercarpet": [
           {
            "marker": {
             "colorbar": {
              "outlinewidth": 0,
              "ticks": ""
             }
            },
            "type": "scattercarpet"
           }
          ],
          "scattergeo": [
           {
            "marker": {
             "colorbar": {
              "outlinewidth": 0,
              "ticks": ""
             }
            },
            "type": "scattergeo"
           }
          ],
          "scattergl": [
           {
            "marker": {
             "colorbar": {
              "outlinewidth": 0,
              "ticks": ""
             }
            },
            "type": "scattergl"
           }
          ],
          "scattermapbox": [
           {
            "marker": {
             "colorbar": {
              "outlinewidth": 0,
              "ticks": ""
             }
            },
            "type": "scattermapbox"
           }
          ],
          "scatterpolar": [
           {
            "marker": {
             "colorbar": {
              "outlinewidth": 0,
              "ticks": ""
             }
            },
            "type": "scatterpolar"
           }
          ],
          "scatterpolargl": [
           {
            "marker": {
             "colorbar": {
              "outlinewidth": 0,
              "ticks": ""
             }
            },
            "type": "scatterpolargl"
           }
          ],
          "scatterternary": [
           {
            "marker": {
             "colorbar": {
              "outlinewidth": 0,
              "ticks": ""
             }
            },
            "type": "scatterternary"
           }
          ],
          "surface": [
           {
            "colorbar": {
             "outlinewidth": 0,
             "ticks": ""
            },
            "colorscale": [
             [
              0,
              "#0d0887"
             ],
             [
              0.1111111111111111,
              "#46039f"
             ],
             [
              0.2222222222222222,
              "#7201a8"
             ],
             [
              0.3333333333333333,
              "#9c179e"
             ],
             [
              0.4444444444444444,
              "#bd3786"
             ],
             [
              0.5555555555555556,
              "#d8576b"
             ],
             [
              0.6666666666666666,
              "#ed7953"
             ],
             [
              0.7777777777777778,
              "#fb9f3a"
             ],
             [
              0.8888888888888888,
              "#fdca26"
             ],
             [
              1,
              "#f0f921"
             ]
            ],
            "type": "surface"
           }
          ],
          "table": [
           {
            "cells": {
             "fill": {
              "color": "#EBF0F8"
             },
             "line": {
              "color": "white"
             }
            },
            "header": {
             "fill": {
              "color": "#C8D4E3"
             },
             "line": {
              "color": "white"
             }
            },
            "type": "table"
           }
          ]
         },
         "layout": {
          "annotationdefaults": {
           "arrowcolor": "#2a3f5f",
           "arrowhead": 0,
           "arrowwidth": 1
          },
          "autotypenumbers": "strict",
          "coloraxis": {
           "colorbar": {
            "outlinewidth": 0,
            "ticks": ""
           }
          },
          "colorscale": {
           "diverging": [
            [
             0,
             "#8e0152"
            ],
            [
             0.1,
             "#c51b7d"
            ],
            [
             0.2,
             "#de77ae"
            ],
            [
             0.3,
             "#f1b6da"
            ],
            [
             0.4,
             "#fde0ef"
            ],
            [
             0.5,
             "#f7f7f7"
            ],
            [
             0.6,
             "#e6f5d0"
            ],
            [
             0.7,
             "#b8e186"
            ],
            [
             0.8,
             "#7fbc41"
            ],
            [
             0.9,
             "#4d9221"
            ],
            [
             1,
             "#276419"
            ]
           ],
           "sequential": [
            [
             0,
             "#0d0887"
            ],
            [
             0.1111111111111111,
             "#46039f"
            ],
            [
             0.2222222222222222,
             "#7201a8"
            ],
            [
             0.3333333333333333,
             "#9c179e"
            ],
            [
             0.4444444444444444,
             "#bd3786"
            ],
            [
             0.5555555555555556,
             "#d8576b"
            ],
            [
             0.6666666666666666,
             "#ed7953"
            ],
            [
             0.7777777777777778,
             "#fb9f3a"
            ],
            [
             0.8888888888888888,
             "#fdca26"
            ],
            [
             1,
             "#f0f921"
            ]
           ],
           "sequentialminus": [
            [
             0,
             "#0d0887"
            ],
            [
             0.1111111111111111,
             "#46039f"
            ],
            [
             0.2222222222222222,
             "#7201a8"
            ],
            [
             0.3333333333333333,
             "#9c179e"
            ],
            [
             0.4444444444444444,
             "#bd3786"
            ],
            [
             0.5555555555555556,
             "#d8576b"
            ],
            [
             0.6666666666666666,
             "#ed7953"
            ],
            [
             0.7777777777777778,
             "#fb9f3a"
            ],
            [
             0.8888888888888888,
             "#fdca26"
            ],
            [
             1,
             "#f0f921"
            ]
           ]
          },
          "colorway": [
           "#636efa",
           "#EF553B",
           "#00cc96",
           "#ab63fa",
           "#FFA15A",
           "#19d3f3",
           "#FF6692",
           "#B6E880",
           "#FF97FF",
           "#FECB52"
          ],
          "font": {
           "color": "#2a3f5f"
          },
          "geo": {
           "bgcolor": "white",
           "lakecolor": "white",
           "landcolor": "#E5ECF6",
           "showlakes": true,
           "showland": true,
           "subunitcolor": "white"
          },
          "hoverlabel": {
           "align": "left"
          },
          "hovermode": "closest",
          "mapbox": {
           "style": "light"
          },
          "paper_bgcolor": "white",
          "plot_bgcolor": "#E5ECF6",
          "polar": {
           "angularaxis": {
            "gridcolor": "white",
            "linecolor": "white",
            "ticks": ""
           },
           "bgcolor": "#E5ECF6",
           "radialaxis": {
            "gridcolor": "white",
            "linecolor": "white",
            "ticks": ""
           }
          },
          "scene": {
           "xaxis": {
            "backgroundcolor": "#E5ECF6",
            "gridcolor": "white",
            "gridwidth": 2,
            "linecolor": "white",
            "showbackground": true,
            "ticks": "",
            "zerolinecolor": "white"
           },
           "yaxis": {
            "backgroundcolor": "#E5ECF6",
            "gridcolor": "white",
            "gridwidth": 2,
            "linecolor": "white",
            "showbackground": true,
            "ticks": "",
            "zerolinecolor": "white"
           },
           "zaxis": {
            "backgroundcolor": "#E5ECF6",
            "gridcolor": "white",
            "gridwidth": 2,
            "linecolor": "white",
            "showbackground": true,
            "ticks": "",
            "zerolinecolor": "white"
           }
          },
          "shapedefaults": {
           "line": {
            "color": "#2a3f5f"
           }
          },
          "ternary": {
           "aaxis": {
            "gridcolor": "white",
            "linecolor": "white",
            "ticks": ""
           },
           "baxis": {
            "gridcolor": "white",
            "linecolor": "white",
            "ticks": ""
           },
           "bgcolor": "#E5ECF6",
           "caxis": {
            "gridcolor": "white",
            "linecolor": "white",
            "ticks": ""
           }
          },
          "title": {
           "x": 0.05
          },
          "xaxis": {
           "automargin": true,
           "gridcolor": "white",
           "linecolor": "white",
           "ticks": "",
           "title": {
            "standoff": 15
           },
           "zerolinecolor": "white",
           "zerolinewidth": 2
          },
          "yaxis": {
           "automargin": true,
           "gridcolor": "white",
           "linecolor": "white",
           "ticks": "",
           "title": {
            "standoff": 15
           },
           "zerolinecolor": "white",
           "zerolinewidth": 2
          }
         }
        },
        "xaxis": {
         "anchor": "y",
         "domain": [
          0,
          1
         ]
        },
        "xaxis2": {
         "anchor": "y2",
         "domain": [
          0,
          1
         ]
        },
        "xaxis3": {
         "anchor": "y3",
         "domain": [
          0,
          1
         ]
        },
        "xaxis4": {
         "anchor": "y4",
         "domain": [
          0,
          1
         ],
         "title": {
          "text": "house age during sale (years)"
         }
        },
        "yaxis": {
         "anchor": "x",
         "domain": [
          0.81,
          1
         ],
         "range": [
          -380000,
          380000
         ],
         "showticklabels": false
        },
        "yaxis2": {
         "anchor": "x2",
         "domain": [
          0.54,
          0.73
         ],
         "showticklabels": false
        },
        "yaxis3": {
         "anchor": "x3",
         "domain": [
          0.27,
          0.46
         ],
         "showticklabels": false
        },
        "yaxis4": {
         "anchor": "x4",
         "domain": [
          0,
          0.19
         ],
         "showticklabels": true,
         "title": {
          "text": "sale price per square foot"
         }
        }
       }
      }
     },
     "metadata": {},
     "output_type": "display_data"
    }
   ],
   "source": [
    "linregress_result = linregress(x=house_neighborhood[(\"age_sold\", \"mean\")], y=house_neighborhood[\"mean_scaled\"])\n",
    "linregress_result\n",
    "\n",
    "dummy_x = [val for val in range(87)]\n",
    "dummy_y = [linregress_result[0]*val + linregress_result[1] for val in dummy_x]\n",
    "\n",
    "fig_eda_1 = make_subplots(rows=4, cols=1, \n",
    "                          subplot_titles=[\"Sale Price by Neighborhood\", \"Sale Price per Square Foot by Neighborhood\",\n",
    "                                          \"House Age during Sale\", \"Sale Price per Square Foot versus House Age\"],\n",
    "                            vertical_spacing=0.08)\n",
    "\n",
    "fig_eda_1.add_trace( go.Bar(y=house_neighborhood[\"sale_price\"][\"mean\"], x=house_neighborhood[\"neighborhood\"], orientation=\"v\",\n",
    "                        text=house_neighborhood[\"sale_price\"][\"mean\"], texttemplate='$ %{text:,.0f}', marker_color=\"#811331\",\n",
    "                        showlegend=True, legendgroup=\"mean\", name=\"mean\"), \n",
    "                 row=1, col=1)\n",
    "\n",
    "fig_eda_1.add_trace( go.Bar(y=-1*house_neighborhood[\"sale_price\"][\"median\"], x=house_neighborhood[\"neighborhood\"], orientation=\"v\", \n",
    "                        text=house_neighborhood[\"sale_price\"][\"median\"], texttemplate='$ %{text:,.0f}', \n",
    "                        marker_color=\"#0F52BA\",\n",
    "                        showlegend=True, legendgroup=\"median\", name=\"median\"), \n",
    "                 row=1, col=1)\n",
    "\n",
    "fig_eda_1.add_trace( go.Bar(y=house_neighborhood[\"mean_scaled\"], x=house_neighborhood[\"neighborhood\"], orientation=\"v\",\n",
    "                        text=house_neighborhood[\"mean_scaled\"], texttemplate='$ %{text:,.0f}', marker_color=\"#811331\",\n",
    "                        showlegend=False, legendgroup=\"mean\", name=\"mean\"), \n",
    "                 row=2, col=1)\n",
    "\n",
    "fig_eda_1.add_trace( go.Bar(y=-1*house_neighborhood[\"median_scaled\"], x=house_neighborhood[\"neighborhood\"], orientation=\"v\", \n",
    "                        text=house_neighborhood[\"median_scaled\"], texttemplate='$ %{text:,.0f}', \n",
    "                        marker_color=\"#0F52BA\",\n",
    "                        showlegend=False, legendgroup=\"median\", name=\"median\"), \n",
    "                 row=2, col=1)\n",
    "\n",
    "fig_eda_1.add_trace( go.Bar(y=house_neighborhood[\"age_sold\"][\"mean\"], x=house_neighborhood[\"neighborhood\"], orientation=\"v\",\n",
    "                        text=house_neighborhood[\"age_sold\"][\"mean\"], texttemplate='%{text:,.0f} years', marker_color=\"#811331\",\n",
    "                        showlegend=False, legendgroup=\"mean\", name=\"mean\"), \n",
    "                 row=3, col=1)\n",
    "\n",
    "fig_eda_1.add_trace( go.Bar(y=-1*house_neighborhood[\"age_sold\"][\"median\"], x=house_neighborhood[\"neighborhood\"], orientation=\"v\", \n",
    "                        text=house_neighborhood[\"age_sold\"][\"median\"], texttemplate='%{text:,.0f} years', \n",
    "                        marker_color=\"#0F52BA\",\n",
    "                        showlegend=False, legendgroup=\"median\", name=\"median\"), \n",
    "                 row=3, col=1)\n",
    "\n",
    "fig_eda_1.add_trace( go.Scatter(x=house_neighborhood[(\"age_sold\", \"mean\")], y=house_neighborhood[\"mean_scaled\"], \n",
    "                                mode=\"markers\", showlegend=False, marker=dict(color=\"#7D3C98\")),\n",
    "                    row=4, col=1)\n",
    "\n",
    "fig_eda_1.add_trace( go.Scatter(x=dummy_x, y=dummy_y, mode=\"lines\", showlegend=False, marker=dict(color=\"#AF7AC5\")),\n",
    "                    row=4, col=1)\n",
    "\n",
    "\n",
    "fig_eda_1.update_yaxes(showticklabels=False)\n",
    "\n",
    "fig_eda_1.update_xaxes(title_text=\"house age during sale (years)\", row=4)\n",
    "fig_eda_1.update_yaxes(title_text=\"sale price per square foot\", showticklabels=True, row=4)\n",
    "\n",
    "fig_eda_1.update_layout(height=1200, barmode=\"overlay\", yaxis1=dict(range=[-380000, 380000]),\n",
    "                        legend=dict(yanchor=\"top\", y=1.1, xanchor=\"left\", x=0.45, orientation=\"h\"))\n",
    "\n",
    "fig_eda_1.show()"
   ]
  },
  {
   "cell_type": "markdown",
   "metadata": {},
   "source": [
    "From the first bar plot, it can be seen that North Ridge (NoRidge) area has the most expensive house on average while Meadow Village (MeadowV) area has the cheapest house. However, price per square feet gives a different perspective. From the second bar plot, it can be see that North Ridge Heights (NridgHt) has the highest price per square feet and the lowest price per square feet is South & West of Iowa State University (SWISU). These descrepancy can be contributed by other factors such as the age of the house at point of sale.\n",
    "\n",
    "The third bar plot shows the average and median house age during sale. It can be seen that areas with old houses such as SWISU and Old Town (OldTown) tend to have cheaper per square feet compared to areas with new houses such as NridgHt. In order to view the effect of house age on price per square foot, a plot of sale price per square foot as a function of house age was plotted, and this was shown as the final plot above. From this plot, it can be seen that the house price per square foot decreases as the house gets older."
   ]
  },
  {
   "cell_type": "markdown",
   "metadata": {},
   "source": [
    "## Sale Price Fluctuation"
   ]
  },
  {
   "cell_type": "code",
   "execution_count": 84,
   "metadata": {},
   "outputs": [],
   "source": [
    "price_temporal = house_df[[\"yr_sold\", \"mo_sold\", \"gr_liv_area\", \"sale_price\"]]\n",
    "price_temporal[\"sale_date_str\"] = [\"{0}-{1}-01\".format(price_temporal.loc[val, \"yr_sold\"], price_temporal.loc[val, \"mo_sold\"]) for val in range(len(price_temporal))]\n",
    "price_temporal[\"date_sold\"] = pd.to_datetime(price_temporal[\"sale_date_str\"])\n",
    "price_temporal[\"price_per_sf\"] = price_temporal[\"sale_price\"]/price_temporal[\"gr_liv_area\"]\n",
    "\n",
    "\n",
    "price_temporal_ave = price_temporal.groupby(\"date_sold\").mean(numeric_only=True).reset_index()\n",
    "price_temporal_med = price_temporal.groupby(\"date_sold\").median(numeric_only=True).reset_index()\n",
    "\n",
    "\n",
    "# price_temporal_ave"
   ]
  },
  {
   "cell_type": "code",
   "execution_count": 102,
   "metadata": {},
   "outputs": [
    {
     "data": {
      "application/vnd.plotly.v1+json": {
       "config": {
        "plotlyServerURL": "https://plot.ly"
       },
       "data": [
        {
         "marker": {
          "color": "#ff847c"
         },
         "mode": "markers",
         "showlegend": false,
         "type": "scatter",
         "x": [
          "2008-02-01T00:00:00",
          "2007-05-01T00:00:00",
          "2008-09-01T00:00:00",
          "2006-02-01T00:00:00",
          "2008-12-01T00:00:00",
          "2009-10-01T00:00:00",
          "2007-08-01T00:00:00",
          "2009-11-01T00:00:00",
          "2008-04-01T00:00:00",
          "2008-01-01T00:00:00",
          "2008-02-01T00:00:00",
          "2006-07-01T00:00:00",
          "2008-09-01T00:00:00",
          "2007-08-01T00:00:00",
          "2008-05-01T00:00:00",
          "2007-07-01T00:00:00",
          "2010-03-01T00:00:00",
          "2006-10-01T00:00:00",
          "2008-06-01T00:00:00",
          "2009-05-01T00:00:00",
          "2006-11-01T00:00:00",
          "2007-06-01T00:00:00",
          "2008-09-01T00:00:00",
          "2007-06-01T00:00:00",
          "2010-05-01T00:00:00",
          "2009-07-01T00:00:00",
          "2010-05-01T00:00:00",
          "2010-05-01T00:00:00",
          "2006-12-01T00:00:00",
          "2008-05-01T00:00:00",
          "2008-07-01T00:00:00",
          "2008-06-01T00:00:00",
          "2008-01-01T00:00:00",
          "2010-04-01T00:00:00",
          "2007-08-01T00:00:00",
          "2006-09-01T00:00:00",
          "2009-06-01T00:00:00",
          "2009-10-01T00:00:00",
          "2010-01-01T00:00:00",
          "2008-06-01T00:00:00",
          "2006-12-01T00:00:00",
          "2007-07-01T00:00:00",
          "2007-12-01T00:00:00",
          "2008-07-01T00:00:00",
          "2006-05-01T00:00:00",
          "2010-02-01T00:00:00",
          "2009-08-01T00:00:00",
          "2007-07-01T00:00:00",
          "2009-06-01T00:00:00",
          "2007-01-01T00:00:00",
          "2007-07-01T00:00:00",
          "2006-09-01T00:00:00",
          "2010-05-01T00:00:00",
          "2006-11-01T00:00:00",
          "2007-02-01T00:00:00",
          "2008-07-01T00:00:00",
          "2009-08-01T00:00:00",
          "2006-08-01T00:00:00",
          "2006-10-01T00:00:00",
          "2008-01-01T00:00:00",
          "2006-05-01T00:00:00",
          "2007-03-01T00:00:00",
          "2007-10-01T00:00:00",
          "2010-04-01T00:00:00",
          "2009-02-01T00:00:00",
          "2007-10-01T00:00:00",
          "2010-07-01T00:00:00",
          "2007-06-01T00:00:00",
          "2010-06-01T00:00:00",
          "2006-07-01T00:00:00",
          "2007-02-01T00:00:00",
          "2007-06-01T00:00:00",
          "2009-12-01T00:00:00",
          "2010-05-01T00:00:00",
          "2010-05-01T00:00:00",
          "2009-11-01T00:00:00",
          "2008-04-01T00:00:00",
          "2008-01-01T00:00:00",
          "2010-04-01T00:00:00",
          "2009-05-01T00:00:00",
          "2009-06-01T00:00:00",
          "2006-03-01T00:00:00",
          "2008-10-01T00:00:00",
          "2007-07-01T00:00:00",
          "2009-05-01T00:00:00",
          "2006-04-01T00:00:00",
          "2009-03-01T00:00:00",
          "2009-06-01T00:00:00",
          "2009-10-01T00:00:00",
          "2007-08-01T00:00:00",
          "2006-07-01T00:00:00",
          "2006-12-01T00:00:00",
          "2009-08-01T00:00:00",
          "2007-11-01T00:00:00",
          "2007-05-01T00:00:00",
          "2009-04-01T00:00:00",
          "2006-08-01T00:00:00",
          "2007-05-01T00:00:00",
          "2010-05-01T00:00:00",
          "2010-01-01T00:00:00",
          "2010-02-01T00:00:00",
          "2010-06-01T00:00:00",
          "2009-06-01T00:00:00",
          "2010-05-01T00:00:00",
          "2007-06-01T00:00:00",
          "2008-08-01T00:00:00",
          "2007-08-01T00:00:00",
          "2008-04-01T00:00:00",
          "2007-08-01T00:00:00",
          "2010-01-01T00:00:00",
          "2006-10-01T00:00:00",
          "2010-04-01T00:00:00",
          "2007-10-01T00:00:00",
          "2007-10-01T00:00:00",
          "2007-07-01T00:00:00",
          "2007-06-01T00:00:00",
          "2009-09-01T00:00:00",
          "2007-04-01T00:00:00",
          "2010-05-01T00:00:00",
          "2006-07-01T00:00:00",
          "2006-10-01T00:00:00",
          "2007-06-01T00:00:00",
          "2008-06-01T00:00:00",
          "2008-03-01T00:00:00",
          "2009-01-01T00:00:00",
          "2006-06-01T00:00:00",
          "2007-02-01T00:00:00",
          "2007-06-01T00:00:00",
          "2006-07-01T00:00:00",
          "2006-07-01T00:00:00",
          "2006-05-01T00:00:00",
          "2009-07-01T00:00:00",
          "2007-07-01T00:00:00",
          "2009-06-01T00:00:00",
          "2006-07-01T00:00:00",
          "2008-05-01T00:00:00",
          "2007-07-01T00:00:00",
          "2006-07-01T00:00:00",
          "2008-12-01T00:00:00",
          "2009-08-01T00:00:00",
          "2010-04-01T00:00:00",
          "2006-01-01T00:00:00",
          "2010-06-01T00:00:00",
          "2009-06-01T00:00:00",
          "2006-11-01T00:00:00",
          "2006-04-01T00:00:00",
          "2009-11-01T00:00:00",
          "2010-05-01T00:00:00",
          "2008-04-01T00:00:00",
          "2006-04-01T00:00:00",
          "2007-01-01T00:00:00",
          "2008-01-01T00:00:00",
          "2006-06-01T00:00:00",
          "2008-03-01T00:00:00",
          "2006-03-01T00:00:00",
          "2008-04-01T00:00:00",
          "2006-06-01T00:00:00",
          "2010-05-01T00:00:00",
          "2010-05-01T00:00:00",
          "2006-03-01T00:00:00",
          "2008-06-01T00:00:00",
          "2008-03-01T00:00:00",
          "2010-05-01T00:00:00",
          "2007-04-01T00:00:00",
          "2007-10-01T00:00:00",
          "2008-09-01T00:00:00",
          "2009-11-01T00:00:00",
          "2007-11-01T00:00:00",
          "2007-05-01T00:00:00",
          "2006-01-01T00:00:00",
          "2007-05-01T00:00:00",
          "2010-05-01T00:00:00",
          "2006-06-01T00:00:00",
          "2008-06-01T00:00:00",
          "2008-11-01T00:00:00",
          "2007-06-01T00:00:00",
          "2007-09-01T00:00:00",
          "2006-07-01T00:00:00",
          "2009-07-01T00:00:00",
          "2007-07-01T00:00:00",
          "2007-06-01T00:00:00",
          "2006-07-01T00:00:00",
          "2007-06-01T00:00:00",
          "2008-06-01T00:00:00",
          "2006-06-01T00:00:00",
          "2006-06-01T00:00:00",
          "2009-06-01T00:00:00",
          "2009-08-01T00:00:00",
          "2009-06-01T00:00:00",
          "2008-08-01T00:00:00",
          "2007-12-01T00:00:00",
          "2007-06-01T00:00:00",
          "2009-09-01T00:00:00",
          "2006-05-01T00:00:00",
          "2008-05-01T00:00:00",
          "2009-07-01T00:00:00",
          "2007-09-01T00:00:00",
          "2006-03-01T00:00:00",
          "2009-07-01T00:00:00",
          "2009-01-01T00:00:00",
          "2010-03-01T00:00:00",
          "2008-02-01T00:00:00",
          "2006-05-01T00:00:00",
          "2008-01-01T00:00:00",
          "2009-04-01T00:00:00",
          "2009-05-01T00:00:00",
          "2007-03-01T00:00:00",
          "2008-04-01T00:00:00",
          "2007-04-01T00:00:00",
          "2008-07-01T00:00:00",
          "2008-04-01T00:00:00",
          "2010-03-01T00:00:00",
          "2009-07-01T00:00:00",
          "2006-07-01T00:00:00",
          "2010-03-01T00:00:00",
          "2006-05-01T00:00:00",
          "2008-04-01T00:00:00",
          "2006-09-01T00:00:00",
          "2008-05-01T00:00:00",
          "2006-03-01T00:00:00",
          "2006-04-01T00:00:00",
          "2009-12-01T00:00:00",
          "2006-02-01T00:00:00",
          "2009-03-01T00:00:00",
          "2009-06-01T00:00:00",
          "2009-05-01T00:00:00",
          "2007-06-01T00:00:00",
          "2008-09-01T00:00:00",
          "2010-05-01T00:00:00",
          "2009-05-01T00:00:00",
          "2010-04-01T00:00:00",
          "2009-07-01T00:00:00",
          "2006-06-01T00:00:00",
          "2010-02-01T00:00:00",
          "2010-05-01T00:00:00",
          "2008-08-01T00:00:00",
          "2010-05-01T00:00:00",
          "2010-02-01T00:00:00",
          "2007-12-01T00:00:00",
          "2010-04-01T00:00:00",
          "2010-04-01T00:00:00",
          "2007-08-01T00:00:00",
          "2006-04-01T00:00:00",
          "2009-04-01T00:00:00",
          "2010-05-01T00:00:00",
          "2006-06-01T00:00:00",
          "2006-04-01T00:00:00",
          "2006-06-01T00:00:00",
          "2007-09-01T00:00:00",
          "2007-06-01T00:00:00",
          "2010-05-01T00:00:00",
          "2007-12-01T00:00:00",
          "2008-12-01T00:00:00",
          "2007-10-01T00:00:00",
          "2010-06-01T00:00:00",
          "2006-02-01T00:00:00",
          "2008-05-01T00:00:00",
          "2009-03-01T00:00:00",
          "2008-05-01T00:00:00",
          "2008-12-01T00:00:00",
          "2009-05-01T00:00:00",
          "2007-11-01T00:00:00",
          "2006-07-01T00:00:00",
          "2010-04-01T00:00:00",
          "2008-06-01T00:00:00",
          "2008-06-01T00:00:00",
          "2006-06-01T00:00:00",
          "2008-07-01T00:00:00",
          "2008-02-01T00:00:00",
          "2007-05-01T00:00:00",
          "2006-08-01T00:00:00",
          "2008-04-01T00:00:00",
          "2010-04-01T00:00:00",
          "2009-04-01T00:00:00",
          "2007-06-01T00:00:00",
          "2009-10-01T00:00:00",
          "2010-04-01T00:00:00",
          "2010-06-01T00:00:00",
          "2007-05-01T00:00:00",
          "2008-03-01T00:00:00",
          "2007-01-01T00:00:00",
          "2006-05-01T00:00:00",
          "2009-04-01T00:00:00",
          "2009-12-01T00:00:00",
          "2007-07-01T00:00:00",
          "2007-06-01T00:00:00",
          "2006-06-01T00:00:00",
          "2006-06-01T00:00:00",
          "2010-02-01T00:00:00",
          "2007-07-01T00:00:00",
          "2006-07-01T00:00:00",
          "2008-03-01T00:00:00",
          "2009-01-01T00:00:00",
          "2006-03-01T00:00:00",
          "2009-10-01T00:00:00",
          "2006-03-01T00:00:00",
          "2007-06-01T00:00:00",
          "2007-06-01T00:00:00",
          "2007-06-01T00:00:00",
          "2009-08-01T00:00:00",
          "2006-06-01T00:00:00",
          "2007-05-01T00:00:00",
          "2006-01-01T00:00:00",
          "2006-07-01T00:00:00",
          "2008-05-01T00:00:00",
          "2007-07-01T00:00:00",
          "2007-06-01T00:00:00",
          "2008-03-01T00:00:00",
          "2009-03-01T00:00:00",
          "2006-11-01T00:00:00",
          "2006-05-01T00:00:00",
          "2009-05-01T00:00:00",
          "2006-05-01T00:00:00",
          "2009-06-01T00:00:00",
          "2006-08-01T00:00:00",
          "2009-07-01T00:00:00",
          "2009-08-01T00:00:00",
          "2007-12-01T00:00:00",
          "2009-04-01T00:00:00",
          "2009-06-01T00:00:00",
          "2006-09-01T00:00:00",
          "2007-06-01T00:00:00",
          "2007-08-01T00:00:00",
          "2006-07-01T00:00:00",
          "2010-06-01T00:00:00",
          "2007-12-01T00:00:00",
          "2008-05-01T00:00:00",
          "2006-04-01T00:00:00",
          "2009-07-01T00:00:00",
          "2009-07-01T00:00:00",
          "2007-11-01T00:00:00",
          "2007-08-01T00:00:00",
          "2009-10-01T00:00:00",
          "2008-07-01T00:00:00",
          "2008-07-01T00:00:00",
          "2008-08-01T00:00:00",
          "2007-07-01T00:00:00",
          "2008-12-01T00:00:00",
          "2006-05-01T00:00:00",
          "2009-06-01T00:00:00",
          "2010-04-01T00:00:00",
          "2009-09-01T00:00:00",
          "2006-05-01T00:00:00",
          "2008-07-01T00:00:00",
          "2010-04-01T00:00:00",
          "2006-10-01T00:00:00",
          "2007-04-01T00:00:00",
          "2009-12-01T00:00:00",
          "2008-10-01T00:00:00",
          "2006-04-01T00:00:00",
          "2007-12-01T00:00:00",
          "2006-12-01T00:00:00",
          "2008-03-01T00:00:00",
          "2010-05-01T00:00:00",
          "2006-06-01T00:00:00",
          "2007-08-01T00:00:00",
          "2009-07-01T00:00:00",
          "2007-08-01T00:00:00",
          "2006-07-01T00:00:00",
          "2006-06-01T00:00:00",
          "2007-06-01T00:00:00",
          "2008-07-01T00:00:00",
          "2009-07-01T00:00:00",
          "2009-05-01T00:00:00",
          "2006-07-01T00:00:00",
          "2009-07-01T00:00:00",
          "2009-07-01T00:00:00",
          "2008-12-01T00:00:00",
          "2010-03-01T00:00:00",
          "2010-03-01T00:00:00",
          "2006-01-01T00:00:00",
          "2008-07-01T00:00:00",
          "2010-02-01T00:00:00",
          "2009-11-01T00:00:00",
          "2007-07-01T00:00:00",
          "2009-03-01T00:00:00",
          "2006-07-01T00:00:00",
          "2007-12-01T00:00:00",
          "2010-06-01T00:00:00",
          "2009-06-01T00:00:00",
          "2010-05-01T00:00:00",
          "2006-08-01T00:00:00",
          "2007-04-01T00:00:00",
          "2009-10-01T00:00:00",
          "2007-06-01T00:00:00",
          "2010-04-01T00:00:00",
          "2006-05-01T00:00:00",
          "2009-10-01T00:00:00",
          "2008-07-01T00:00:00",
          "2008-08-01T00:00:00",
          "2008-04-01T00:00:00",
          "2009-06-01T00:00:00",
          "2007-07-01T00:00:00",
          "2006-04-01T00:00:00",
          "2007-07-01T00:00:00",
          "2010-06-01T00:00:00",
          "2009-09-01T00:00:00",
          "2007-07-01T00:00:00",
          "2007-11-01T00:00:00",
          "2009-10-01T00:00:00",
          "2008-12-01T00:00:00",
          "2006-07-01T00:00:00",
          "2008-08-01T00:00:00",
          "2006-07-01T00:00:00",
          "2007-05-01T00:00:00",
          "2009-06-01T00:00:00",
          "2008-03-01T00:00:00",
          "2008-03-01T00:00:00",
          "2007-08-01T00:00:00",
          "2008-04-01T00:00:00",
          "2009-06-01T00:00:00",
          "2006-01-01T00:00:00",
          "2010-06-01T00:00:00",
          "2010-03-01T00:00:00",
          "2008-12-01T00:00:00",
          "2007-08-01T00:00:00",
          "2006-03-01T00:00:00",
          "2007-11-01T00:00:00",
          "2007-04-01T00:00:00",
          "2010-07-01T00:00:00",
          "2008-11-01T00:00:00",
          "2009-06-01T00:00:00",
          "2008-02-01T00:00:00",
          "2008-06-01T00:00:00",
          "2008-05-01T00:00:00",
          "2009-09-01T00:00:00",
          "2009-08-01T00:00:00",
          "2008-07-01T00:00:00",
          "2007-09-01T00:00:00",
          "2009-03-01T00:00:00",
          "2008-07-01T00:00:00",
          "2008-09-01T00:00:00",
          "2007-08-01T00:00:00",
          "2008-07-01T00:00:00",
          "2008-06-01T00:00:00",
          "2009-04-01T00:00:00",
          "2006-10-01T00:00:00",
          "2009-01-01T00:00:00",
          "2007-03-01T00:00:00",
          "2009-08-01T00:00:00",
          "2009-04-01T00:00:00",
          "2008-09-01T00:00:00",
          "2008-06-01T00:00:00",
          "2007-06-01T00:00:00",
          "2008-07-01T00:00:00",
          "2009-11-01T00:00:00",
          "2010-06-01T00:00:00",
          "2006-07-01T00:00:00",
          "2006-06-01T00:00:00",
          "2007-06-01T00:00:00",
          "2006-06-01T00:00:00",
          "2006-12-01T00:00:00",
          "2007-07-01T00:00:00",
          "2009-06-01T00:00:00",
          "2006-07-01T00:00:00",
          "2007-09-01T00:00:00",
          "2008-05-01T00:00:00",
          "2008-03-01T00:00:00",
          "2008-06-01T00:00:00",
          "2009-07-01T00:00:00",
          "2009-12-01T00:00:00",
          "2009-04-01T00:00:00",
          "2009-12-01T00:00:00",
          "2008-08-01T00:00:00",
          "2009-08-01T00:00:00",
          "2006-05-01T00:00:00",
          "2007-04-01T00:00:00",
          "2007-06-01T00:00:00",
          "2007-05-01T00:00:00",
          "2008-06-01T00:00:00",
          "2010-06-01T00:00:00",
          "2007-11-01T00:00:00",
          "2008-06-01T00:00:00",
          "2007-07-01T00:00:00",
          "2007-08-01T00:00:00",
          "2007-07-01T00:00:00",
          "2008-04-01T00:00:00",
          "2007-03-01T00:00:00",
          "2009-09-01T00:00:00",
          "2007-03-01T00:00:00",
          "2006-03-01T00:00:00",
          "2006-08-01T00:00:00",
          "2009-06-01T00:00:00",
          "2006-05-01T00:00:00",
          "2007-03-01T00:00:00",
          "2009-07-01T00:00:00",
          "2007-06-01T00:00:00",
          "2007-02-01T00:00:00",
          "2006-05-01T00:00:00",
          "2009-05-01T00:00:00",
          "2008-06-01T00:00:00",
          "2006-08-01T00:00:00",
          "2006-05-01T00:00:00",
          "2008-06-01T00:00:00",
          "2009-12-01T00:00:00",
          "2009-11-01T00:00:00",
          "2007-05-01T00:00:00",
          "2008-06-01T00:00:00",
          "2009-06-01T00:00:00",
          "2007-06-01T00:00:00",
          "2007-05-01T00:00:00",
          "2008-02-01T00:00:00",
          "2007-04-01T00:00:00",
          "2010-03-01T00:00:00",
          "2009-06-01T00:00:00",
          "2009-07-01T00:00:00",
          "2006-09-01T00:00:00",
          "2009-09-01T00:00:00",
          "2008-10-01T00:00:00",
          "2009-07-01T00:00:00",
          "2009-06-01T00:00:00",
          "2006-03-01T00:00:00",
          "2006-07-01T00:00:00",
          "2007-06-01T00:00:00",
          "2007-06-01T00:00:00",
          "2009-09-01T00:00:00",
          "2009-08-01T00:00:00",
          "2009-07-01T00:00:00",
          "2007-05-01T00:00:00",
          "2009-06-01T00:00:00",
          "2008-08-01T00:00:00",
          "2007-05-01T00:00:00",
          "2006-10-01T00:00:00",
          "2007-10-01T00:00:00",
          "2007-08-01T00:00:00",
          "2006-04-01T00:00:00",
          "2007-06-01T00:00:00",
          "2008-11-01T00:00:00",
          "2007-07-01T00:00:00",
          "2007-03-01T00:00:00",
          "2008-08-01T00:00:00",
          "2008-06-01T00:00:00",
          "2010-04-01T00:00:00",
          "2007-01-01T00:00:00",
          "2006-10-01T00:00:00",
          "2008-01-01T00:00:00",
          "2008-07-01T00:00:00",
          "2008-04-01T00:00:00",
          "2006-07-01T00:00:00",
          "2010-05-01T00:00:00",
          "2009-03-01T00:00:00",
          "2007-06-01T00:00:00",
          "2009-06-01T00:00:00",
          "2007-06-01T00:00:00",
          "2006-09-01T00:00:00",
          "2006-02-01T00:00:00",
          "2007-05-01T00:00:00",
          "2007-04-01T00:00:00",
          "2008-06-01T00:00:00",
          "2009-11-01T00:00:00",
          "2008-10-01T00:00:00",
          "2008-06-01T00:00:00",
          "2009-07-01T00:00:00",
          "2009-05-01T00:00:00",
          "2008-08-01T00:00:00",
          "2006-08-01T00:00:00",
          "2006-05-01T00:00:00",
          "2006-09-01T00:00:00",
          "2008-08-01T00:00:00",
          "2006-10-01T00:00:00",
          "2010-05-01T00:00:00",
          "2006-04-01T00:00:00",
          "2008-07-01T00:00:00",
          "2008-07-01T00:00:00",
          "2006-07-01T00:00:00",
          "2010-05-01T00:00:00",
          "2008-06-01T00:00:00",
          "2010-03-01T00:00:00",
          "2009-09-01T00:00:00",
          "2006-12-01T00:00:00",
          "2008-11-01T00:00:00",
          "2006-10-01T00:00:00",
          "2009-07-01T00:00:00",
          "2007-12-01T00:00:00",
          "2007-12-01T00:00:00",
          "2008-10-01T00:00:00",
          "2009-08-01T00:00:00",
          "2006-05-01T00:00:00",
          "2008-02-01T00:00:00",
          "2008-11-01T00:00:00",
          "2007-06-01T00:00:00",
          "2009-08-01T00:00:00",
          "2007-05-01T00:00:00",
          "2008-07-01T00:00:00",
          "2009-07-01T00:00:00",
          "2006-03-01T00:00:00",
          "2008-05-01T00:00:00",
          "2009-07-01T00:00:00",
          "2009-06-01T00:00:00",
          "2008-08-01T00:00:00",
          "2008-09-01T00:00:00",
          "2009-06-01T00:00:00",
          "2008-06-01T00:00:00",
          "2009-05-01T00:00:00",
          "2008-04-01T00:00:00",
          "2006-08-01T00:00:00",
          "2006-10-01T00:00:00",
          "2007-02-01T00:00:00",
          "2006-03-01T00:00:00",
          "2008-07-01T00:00:00",
          "2006-06-01T00:00:00",
          "2007-12-01T00:00:00",
          "2006-02-01T00:00:00",
          "2010-06-01T00:00:00",
          "2008-09-01T00:00:00",
          "2009-10-01T00:00:00",
          "2009-11-01T00:00:00",
          "2006-08-01T00:00:00",
          "2007-09-01T00:00:00",
          "2007-04-01T00:00:00",
          "2009-05-01T00:00:00",
          "2007-07-01T00:00:00",
          "2009-11-01T00:00:00",
          "2007-12-01T00:00:00",
          "2010-05-01T00:00:00",
          "2010-05-01T00:00:00",
          "2006-06-01T00:00:00",
          "2008-06-01T00:00:00",
          "2007-07-01T00:00:00",
          "2008-08-01T00:00:00",
          "2008-09-01T00:00:00",
          "2008-06-01T00:00:00",
          "2009-07-01T00:00:00",
          "2007-06-01T00:00:00",
          "2006-11-01T00:00:00",
          "2010-02-01T00:00:00",
          "2007-08-01T00:00:00",
          "2010-03-01T00:00:00",
          "2007-09-01T00:00:00",
          "2008-06-01T00:00:00",
          "2006-06-01T00:00:00",
          "2007-08-01T00:00:00",
          "2009-04-01T00:00:00",
          "2007-07-01T00:00:00",
          "2010-06-01T00:00:00",
          "2007-03-01T00:00:00",
          "2009-01-01T00:00:00",
          "2009-11-01T00:00:00",
          "2008-05-01T00:00:00",
          "2006-10-01T00:00:00",
          "2008-04-01T00:00:00",
          "2007-05-01T00:00:00",
          "2009-07-01T00:00:00",
          "2007-04-01T00:00:00",
          "2009-10-01T00:00:00",
          "2007-03-01T00:00:00",
          "2008-07-01T00:00:00",
          "2008-06-01T00:00:00",
          "2010-06-01T00:00:00",
          "2007-12-01T00:00:00",
          "2008-05-01T00:00:00",
          "2009-10-01T00:00:00",
          "2009-07-01T00:00:00",
          "2008-06-01T00:00:00",
          "2008-08-01T00:00:00",
          "2010-03-01T00:00:00",
          "2008-08-01T00:00:00",
          "2008-02-01T00:00:00",
          "2010-01-01T00:00:00",
          "2009-03-01T00:00:00",
          "2007-11-01T00:00:00",
          "2009-07-01T00:00:00",
          "2009-07-01T00:00:00",
          "2008-04-01T00:00:00",
          "2006-01-01T00:00:00",
          "2006-11-01T00:00:00",
          "2007-08-01T00:00:00",
          "2008-10-01T00:00:00",
          "2006-11-01T00:00:00",
          "2006-07-01T00:00:00",
          "2009-02-01T00:00:00",
          "2009-07-01T00:00:00",
          "2006-06-01T00:00:00",
          "2007-06-01T00:00:00",
          "2008-07-01T00:00:00",
          "2009-04-01T00:00:00",
          "2006-05-01T00:00:00",
          "2009-05-01T00:00:00",
          "2009-07-01T00:00:00",
          "2007-10-01T00:00:00",
          "2010-05-01T00:00:00",
          "2009-07-01T00:00:00",
          "2008-11-01T00:00:00",
          "2007-07-01T00:00:00",
          "2010-06-01T00:00:00",
          "2007-09-01T00:00:00",
          "2007-08-01T00:00:00",
          "2007-03-01T00:00:00",
          "2007-10-01T00:00:00",
          "2007-06-01T00:00:00",
          "2008-05-01T00:00:00",
          "2007-01-01T00:00:00",
          "2006-04-01T00:00:00",
          "2006-12-01T00:00:00",
          "2009-04-01T00:00:00",
          "2006-07-01T00:00:00",
          "2006-06-01T00:00:00",
          "2006-09-01T00:00:00",
          "2010-04-01T00:00:00",
          "2008-07-01T00:00:00",
          "2006-05-01T00:00:00",
          "2006-07-01T00:00:00",
          "2006-07-01T00:00:00",
          "2010-05-01T00:00:00",
          "2010-05-01T00:00:00",
          "2010-07-01T00:00:00",
          "2007-06-01T00:00:00",
          "2009-12-01T00:00:00",
          "2007-07-01T00:00:00",
          "2008-12-01T00:00:00",
          "2008-07-01T00:00:00",
          "2010-01-01T00:00:00",
          "2008-10-01T00:00:00",
          "2006-05-01T00:00:00",
          "2010-03-01T00:00:00",
          "2009-08-01T00:00:00",
          "2007-07-01T00:00:00",
          "2008-11-01T00:00:00",
          "2008-08-01T00:00:00",
          "2006-05-01T00:00:00",
          "2006-12-01T00:00:00",
          "2010-05-01T00:00:00",
          "2009-07-01T00:00:00",
          "2008-05-01T00:00:00",
          "2009-02-01T00:00:00",
          "2009-11-01T00:00:00",
          "2009-12-01T00:00:00",
          "2009-02-01T00:00:00",
          "2009-07-01T00:00:00",
          "2009-01-01T00:00:00",
          "2010-03-01T00:00:00",
          "2007-05-01T00:00:00",
          "2008-07-01T00:00:00",
          "2009-03-01T00:00:00",
          "2007-05-01T00:00:00",
          "2006-10-01T00:00:00",
          "2006-07-01T00:00:00",
          "2006-06-01T00:00:00",
          "2009-03-01T00:00:00",
          "2009-04-01T00:00:00",
          "2007-05-01T00:00:00",
          "2008-05-01T00:00:00",
          "2007-12-01T00:00:00",
          "2009-10-01T00:00:00",
          "2008-10-01T00:00:00",
          "2008-07-01T00:00:00",
          "2009-04-01T00:00:00",
          "2009-05-01T00:00:00",
          "2010-03-01T00:00:00",
          "2009-04-01T00:00:00",
          "2010-06-01T00:00:00",
          "2007-08-01T00:00:00",
          "2006-07-01T00:00:00",
          "2006-03-01T00:00:00",
          "2009-07-01T00:00:00",
          "2009-03-01T00:00:00",
          "2009-04-01T00:00:00",
          "2010-04-01T00:00:00",
          "2008-08-01T00:00:00",
          "2007-11-01T00:00:00",
          "2009-10-01T00:00:00",
          "2009-10-01T00:00:00",
          "2010-06-01T00:00:00",
          "2009-07-01T00:00:00",
          "2006-04-01T00:00:00",
          "2008-08-01T00:00:00",
          "2010-03-01T00:00:00",
          "2008-07-01T00:00:00",
          "2006-10-01T00:00:00",
          "2010-06-01T00:00:00",
          "2009-04-01T00:00:00",
          "2006-04-01T00:00:00",
          "2010-03-01T00:00:00",
          "2007-07-01T00:00:00",
          "2007-07-01T00:00:00",
          "2009-06-01T00:00:00",
          "2006-07-01T00:00:00",
          "2006-06-01T00:00:00",
          "2007-10-01T00:00:00",
          "2006-05-01T00:00:00",
          "2007-06-01T00:00:00",
          "2006-07-01T00:00:00",
          "2009-06-01T00:00:00",
          "2009-07-01T00:00:00",
          "2008-06-01T00:00:00",
          "2009-09-01T00:00:00",
          "2010-06-01T00:00:00",
          "2010-01-01T00:00:00",
          "2008-08-01T00:00:00",
          "2007-07-01T00:00:00",
          "2009-09-01T00:00:00",
          "2007-05-01T00:00:00",
          "2007-06-01T00:00:00",
          "2007-06-01T00:00:00",
          "2008-10-01T00:00:00",
          "2010-04-01T00:00:00",
          "2007-04-01T00:00:00",
          "2008-04-01T00:00:00",
          "2009-07-01T00:00:00",
          "2007-06-01T00:00:00",
          "2008-05-01T00:00:00",
          "2007-07-01T00:00:00",
          "2008-10-01T00:00:00",
          "2009-01-01T00:00:00",
          "2006-06-01T00:00:00",
          "2008-07-01T00:00:00",
          "2006-10-01T00:00:00",
          "2009-05-01T00:00:00",
          "2006-06-01T00:00:00",
          "2009-11-01T00:00:00",
          "2006-01-01T00:00:00",
          "2008-06-01T00:00:00",
          "2010-06-01T00:00:00",
          "2007-04-01T00:00:00",
          "2006-07-01T00:00:00",
          "2010-05-01T00:00:00",
          "2006-07-01T00:00:00",
          "2008-07-01T00:00:00",
          "2010-06-01T00:00:00",
          "2010-06-01T00:00:00",
          "2008-06-01T00:00:00",
          "2009-02-01T00:00:00",
          "2007-10-01T00:00:00",
          "2009-07-01T00:00:00",
          "2006-06-01T00:00:00",
          "2008-06-01T00:00:00",
          "2008-05-01T00:00:00",
          "2009-04-01T00:00:00",
          "2009-06-01T00:00:00",
          "2006-07-01T00:00:00",
          "2008-06-01T00:00:00",
          "2006-06-01T00:00:00",
          "2010-01-01T00:00:00",
          "2009-02-01T00:00:00",
          "2008-09-01T00:00:00",
          "2010-02-01T00:00:00",
          "2007-06-01T00:00:00",
          "2008-11-01T00:00:00",
          "2008-06-01T00:00:00",
          "2008-05-01T00:00:00",
          "2008-03-01T00:00:00",
          "2008-06-01T00:00:00",
          "2008-05-01T00:00:00",
          "2007-07-01T00:00:00",
          "2008-06-01T00:00:00",
          "2007-01-01T00:00:00",
          "2009-07-01T00:00:00",
          "2009-08-01T00:00:00",
          "2008-09-01T00:00:00",
          "2007-08-01T00:00:00",
          "2007-11-01T00:00:00",
          "2006-05-01T00:00:00",
          "2007-08-01T00:00:00",
          "2009-08-01T00:00:00",
          "2006-07-01T00:00:00",
          "2010-04-01T00:00:00",
          "2008-10-01T00:00:00",
          "2009-03-01T00:00:00",
          "2009-06-01T00:00:00",
          "2006-08-01T00:00:00",
          "2007-06-01T00:00:00",
          "2010-04-01T00:00:00",
          "2010-05-01T00:00:00",
          "2009-07-01T00:00:00",
          "2008-05-01T00:00:00",
          "2009-08-01T00:00:00",
          "2007-11-01T00:00:00",
          "2007-05-01T00:00:00",
          "2006-05-01T00:00:00",
          "2010-06-01T00:00:00",
          "2009-08-01T00:00:00",
          "2010-06-01T00:00:00",
          "2008-10-01T00:00:00",
          "2009-09-01T00:00:00",
          "2009-08-01T00:00:00",
          "2007-08-01T00:00:00",
          "2007-01-01T00:00:00",
          "2009-06-01T00:00:00",
          "2010-06-01T00:00:00",
          "2009-07-01T00:00:00",
          "2007-06-01T00:00:00",
          "2007-04-01T00:00:00",
          "2009-12-01T00:00:00",
          "2006-03-01T00:00:00",
          "2009-07-01T00:00:00",
          "2008-01-01T00:00:00",
          "2006-06-01T00:00:00",
          "2008-04-01T00:00:00",
          "2007-10-01T00:00:00",
          "2009-02-01T00:00:00",
          "2007-07-01T00:00:00",
          "2009-07-01T00:00:00",
          "2006-02-01T00:00:00",
          "2008-06-01T00:00:00",
          "2009-06-01T00:00:00",
          "2008-10-01T00:00:00",
          "2006-04-01T00:00:00",
          "2009-06-01T00:00:00",
          "2010-03-01T00:00:00",
          "2006-06-01T00:00:00",
          "2007-06-01T00:00:00",
          "2009-05-01T00:00:00",
          "2006-07-01T00:00:00",
          "2006-08-01T00:00:00",
          "2007-08-01T00:00:00",
          "2010-02-01T00:00:00",
          "2007-06-01T00:00:00",
          "2006-06-01T00:00:00",
          "2006-06-01T00:00:00",
          "2009-06-01T00:00:00",
          "2010-01-01T00:00:00",
          "2009-10-01T00:00:00",
          "2006-07-01T00:00:00",
          "2007-08-01T00:00:00",
          "2009-06-01T00:00:00",
          "2007-01-01T00:00:00",
          "2006-10-01T00:00:00",
          "2009-04-01T00:00:00",
          "2007-11-01T00:00:00",
          "2008-05-01T00:00:00",
          "2007-07-01T00:00:00",
          "2008-09-01T00:00:00",
          "2006-10-01T00:00:00",
          "2008-07-01T00:00:00",
          "2006-05-01T00:00:00",
          "2008-03-01T00:00:00",
          "2007-05-01T00:00:00",
          "2008-04-01T00:00:00",
          "2009-06-01T00:00:00",
          "2006-11-01T00:00:00",
          "2009-07-01T00:00:00",
          "2009-07-01T00:00:00",
          "2007-03-01T00:00:00",
          "2009-08-01T00:00:00",
          "2008-11-01T00:00:00",
          "2006-06-01T00:00:00",
          "2009-08-01T00:00:00",
          "2009-02-01T00:00:00",
          "2006-08-01T00:00:00",
          "2010-06-01T00:00:00",
          "2006-07-01T00:00:00",
          "2009-06-01T00:00:00",
          "2007-08-01T00:00:00",
          "2007-06-01T00:00:00",
          "2009-01-01T00:00:00",
          "2009-09-01T00:00:00",
          "2006-03-01T00:00:00",
          "2007-11-01T00:00:00",
          "2006-02-01T00:00:00",
          "2010-03-01T00:00:00",
          "2007-07-01T00:00:00",
          "2006-07-01T00:00:00",
          "2009-04-01T00:00:00",
          "2008-09-01T00:00:00",
          "2006-10-01T00:00:00",
          "2007-08-01T00:00:00",
          "2009-05-01T00:00:00",
          "2007-04-01T00:00:00",
          "2007-10-01T00:00:00",
          "2010-05-01T00:00:00",
          "2010-02-01T00:00:00",
          "2008-07-01T00:00:00",
          "2007-07-01T00:00:00",
          "2009-05-01T00:00:00",
          "2010-02-01T00:00:00",
          "2007-07-01T00:00:00",
          "2009-06-01T00:00:00",
          "2008-07-01T00:00:00",
          "2009-05-01T00:00:00",
          "2006-03-01T00:00:00",
          "2006-12-01T00:00:00",
          "2009-07-01T00:00:00",
          "2010-04-01T00:00:00",
          "2008-12-01T00:00:00",
          "2009-10-01T00:00:00",
          "2006-04-01T00:00:00",
          "2006-08-01T00:00:00",
          "2007-11-01T00:00:00",
          "2007-05-01T00:00:00",
          "2009-06-01T00:00:00",
          "2008-07-01T00:00:00",
          "2009-07-01T00:00:00",
          "2008-03-01T00:00:00",
          "2008-05-01T00:00:00",
          "2009-08-01T00:00:00",
          "2008-08-01T00:00:00",
          "2006-06-01T00:00:00",
          "2010-04-01T00:00:00",
          "2007-06-01T00:00:00",
          "2006-08-01T00:00:00",
          "2006-06-01T00:00:00",
          "2009-11-01T00:00:00",
          "2007-07-01T00:00:00",
          "2006-08-01T00:00:00",
          "2009-07-01T00:00:00",
          "2006-08-01T00:00:00",
          "2006-01-01T00:00:00",
          "2009-02-01T00:00:00",
          "2006-05-01T00:00:00",
          "2010-02-01T00:00:00",
          "2009-07-01T00:00:00",
          "2007-01-01T00:00:00",
          "2008-07-01T00:00:00",
          "2007-06-01T00:00:00",
          "2009-05-01T00:00:00",
          "2008-11-01T00:00:00",
          "2007-03-01T00:00:00",
          "2009-08-01T00:00:00",
          "2009-04-01T00:00:00",
          "2006-06-01T00:00:00",
          "2008-08-01T00:00:00",
          "2010-05-01T00:00:00",
          "2007-08-01T00:00:00",
          "2009-06-01T00:00:00",
          "2007-11-01T00:00:00",
          "2009-11-01T00:00:00",
          "2009-06-01T00:00:00",
          "2009-08-01T00:00:00",
          "2007-05-01T00:00:00",
          "2006-04-01T00:00:00",
          "2008-06-01T00:00:00",
          "2006-07-01T00:00:00",
          "2007-03-01T00:00:00",
          "2008-05-01T00:00:00",
          "2008-05-01T00:00:00",
          "2007-03-01T00:00:00",
          "2010-04-01T00:00:00",
          "2008-04-01T00:00:00",
          "2007-04-01T00:00:00",
          "2006-05-01T00:00:00",
          "2006-07-01T00:00:00",
          "2009-08-01T00:00:00",
          "2006-11-01T00:00:00",
          "2006-02-01T00:00:00",
          "2007-06-01T00:00:00",
          "2009-01-01T00:00:00",
          "2009-09-01T00:00:00",
          "2008-09-01T00:00:00",
          "2009-05-01T00:00:00",
          "2009-04-01T00:00:00",
          "2006-01-01T00:00:00",
          "2008-07-01T00:00:00",
          "2009-08-01T00:00:00",
          "2008-05-01T00:00:00",
          "2009-07-01T00:00:00",
          "2009-06-01T00:00:00",
          "2006-07-01T00:00:00",
          "2008-02-01T00:00:00",
          "2009-11-01T00:00:00",
          "2010-04-01T00:00:00",
          "2007-08-01T00:00:00",
          "2007-10-01T00:00:00",
          "2007-06-01T00:00:00",
          "2010-05-01T00:00:00",
          "2006-11-01T00:00:00",
          "2008-05-01T00:00:00",
          "2006-06-01T00:00:00",
          "2009-01-01T00:00:00",
          "2009-07-01T00:00:00",
          "2007-03-01T00:00:00",
          "2010-04-01T00:00:00",
          "2008-08-01T00:00:00",
          "2007-09-01T00:00:00",
          "2006-07-01T00:00:00",
          "2009-11-01T00:00:00",
          "2010-04-01T00:00:00",
          "2009-05-01T00:00:00",
          "2008-06-01T00:00:00",
          "2006-06-01T00:00:00",
          "2007-05-01T00:00:00",
          "2007-06-01T00:00:00",
          "2009-05-01T00:00:00",
          "2006-08-01T00:00:00",
          "2009-07-01T00:00:00",
          "2007-05-01T00:00:00",
          "2007-07-01T00:00:00",
          "2006-04-01T00:00:00",
          "2006-03-01T00:00:00",
          "2006-05-01T00:00:00",
          "2007-04-01T00:00:00",
          "2008-10-01T00:00:00",
          "2010-06-01T00:00:00",
          "2007-09-01T00:00:00",
          "2006-03-01T00:00:00",
          "2006-07-01T00:00:00",
          "2010-04-01T00:00:00",
          "2010-05-01T00:00:00",
          "2009-05-01T00:00:00",
          "2006-04-01T00:00:00",
          "2006-04-01T00:00:00",
          "2009-06-01T00:00:00",
          "2008-03-01T00:00:00",
          "2008-06-01T00:00:00",
          "2006-10-01T00:00:00",
          "2010-05-01T00:00:00",
          "2007-03-01T00:00:00",
          "2007-03-01T00:00:00",
          "2007-10-01T00:00:00",
          "2009-07-01T00:00:00",
          "2009-04-01T00:00:00",
          "2009-01-01T00:00:00",
          "2007-07-01T00:00:00",
          "2007-04-01T00:00:00",
          "2006-07-01T00:00:00",
          "2007-04-01T00:00:00",
          "2010-04-01T00:00:00",
          "2007-05-01T00:00:00",
          "2006-09-01T00:00:00",
          "2007-11-01T00:00:00",
          "2009-03-01T00:00:00",
          "2008-06-01T00:00:00",
          "2008-09-01T00:00:00",
          "2006-07-01T00:00:00",
          "2007-05-01T00:00:00",
          "2006-08-01T00:00:00",
          "2007-11-01T00:00:00",
          "2009-03-01T00:00:00",
          "2008-05-01T00:00:00",
          "2008-12-01T00:00:00",
          "2006-07-01T00:00:00",
          "2007-05-01T00:00:00",
          "2006-07-01T00:00:00",
          "2009-10-01T00:00:00",
          "2009-06-01T00:00:00",
          "2007-07-01T00:00:00",
          "2009-11-01T00:00:00",
          "2009-06-01T00:00:00",
          "2007-11-01T00:00:00",
          "2007-07-01T00:00:00",
          "2007-08-01T00:00:00",
          "2009-12-01T00:00:00",
          "2007-09-01T00:00:00",
          "2007-05-01T00:00:00",
          "2009-06-01T00:00:00",
          "2007-08-01T00:00:00",
          "2007-05-01T00:00:00",
          "2008-04-01T00:00:00",
          "2010-05-01T00:00:00",
          "2009-05-01T00:00:00",
          "2007-05-01T00:00:00",
          "2008-06-01T00:00:00",
          "2009-10-01T00:00:00",
          "2007-04-01T00:00:00",
          "2008-07-01T00:00:00",
          "2010-07-01T00:00:00",
          "2006-08-01T00:00:00",
          "2006-05-01T00:00:00",
          "2009-07-01T00:00:00",
          "2008-08-01T00:00:00",
          "2009-07-01T00:00:00",
          "2007-11-01T00:00:00",
          "2006-11-01T00:00:00",
          "2006-07-01T00:00:00",
          "2008-06-01T00:00:00",
          "2008-05-01T00:00:00",
          "2007-07-01T00:00:00",
          "2008-10-01T00:00:00",
          "2009-07-01T00:00:00",
          "2008-06-01T00:00:00",
          "2008-07-01T00:00:00",
          "2010-07-01T00:00:00",
          "2008-11-01T00:00:00",
          "2007-05-01T00:00:00",
          "2008-01-01T00:00:00",
          "2007-06-01T00:00:00",
          "2009-09-01T00:00:00",
          "2010-02-01T00:00:00",
          "2006-02-01T00:00:00",
          "2008-07-01T00:00:00",
          "2006-07-01T00:00:00",
          "2008-07-01T00:00:00",
          "2008-11-01T00:00:00",
          "2008-03-01T00:00:00",
          "2007-03-01T00:00:00",
          "2006-07-01T00:00:00",
          "2007-04-01T00:00:00",
          "2008-10-01T00:00:00",
          "2009-12-01T00:00:00",
          "2009-07-01T00:00:00",
          "2006-04-01T00:00:00",
          "2006-04-01T00:00:00",
          "2008-11-01T00:00:00",
          "2007-07-01T00:00:00",
          "2006-06-01T00:00:00",
          "2007-05-01T00:00:00",
          "2006-03-01T00:00:00",
          "2009-08-01T00:00:00",
          "2006-07-01T00:00:00",
          "2009-07-01T00:00:00",
          "2010-06-01T00:00:00",
          "2007-03-01T00:00:00",
          "2007-11-01T00:00:00",
          "2007-07-01T00:00:00",
          "2009-06-01T00:00:00",
          "2010-03-01T00:00:00",
          "2008-07-01T00:00:00",
          "2006-11-01T00:00:00",
          "2006-07-01T00:00:00",
          "2009-06-01T00:00:00",
          "2006-10-01T00:00:00",
          "2006-07-01T00:00:00",
          "2009-03-01T00:00:00",
          "2009-05-01T00:00:00",
          "2009-10-01T00:00:00",
          "2006-07-01T00:00:00",
          "2009-06-01T00:00:00",
          "2006-11-01T00:00:00",
          "2006-05-01T00:00:00",
          "2008-10-01T00:00:00",
          "2006-05-01T00:00:00",
          "2010-05-01T00:00:00",
          "2010-06-01T00:00:00",
          "2009-08-01T00:00:00",
          "2006-05-01T00:00:00",
          "2006-05-01T00:00:00",
          "2007-05-01T00:00:00",
          "2010-04-01T00:00:00",
          "2009-09-01T00:00:00",
          "2006-07-01T00:00:00",
          "2006-04-01T00:00:00",
          "2006-11-01T00:00:00",
          "2008-08-01T00:00:00",
          "2007-01-01T00:00:00",
          "2006-10-01T00:00:00",
          "2008-02-01T00:00:00",
          "2007-06-01T00:00:00",
          "2008-01-01T00:00:00",
          "2008-12-01T00:00:00",
          "2008-10-01T00:00:00",
          "2008-08-01T00:00:00",
          "2007-08-01T00:00:00",
          "2006-05-01T00:00:00",
          "2007-03-01T00:00:00",
          "2010-05-01T00:00:00",
          "2008-11-01T00:00:00",
          "2006-07-01T00:00:00",
          "2010-06-01T00:00:00",
          "2006-09-01T00:00:00",
          "2006-03-01T00:00:00",
          "2007-12-01T00:00:00",
          "2008-07-01T00:00:00",
          "2007-06-01T00:00:00",
          "2010-01-01T00:00:00",
          "2006-09-01T00:00:00",
          "2006-06-01T00:00:00",
          "2007-01-01T00:00:00",
          "2006-03-01T00:00:00",
          "2010-05-01T00:00:00",
          "2008-04-01T00:00:00",
          "2007-05-01T00:00:00",
          "2010-04-01T00:00:00",
          "2006-03-01T00:00:00",
          "2009-11-01T00:00:00",
          "2007-07-01T00:00:00",
          "2008-07-01T00:00:00",
          "2007-11-01T00:00:00",
          "2008-08-01T00:00:00",
          "2009-07-01T00:00:00",
          "2008-07-01T00:00:00",
          "2008-07-01T00:00:00",
          "2009-06-01T00:00:00",
          "2009-06-01T00:00:00",
          "2009-11-01T00:00:00",
          "2007-07-01T00:00:00",
          "2008-08-01T00:00:00",
          "2006-03-01T00:00:00",
          "2007-01-01T00:00:00",
          "2010-05-01T00:00:00",
          "2008-05-01T00:00:00",
          "2007-07-01T00:00:00",
          "2010-04-01T00:00:00",
          "2009-08-01T00:00:00",
          "2006-11-01T00:00:00",
          "2008-05-01T00:00:00",
          "2007-11-01T00:00:00",
          "2007-07-01T00:00:00",
          "2009-12-01T00:00:00",
          "2009-06-01T00:00:00",
          "2008-03-01T00:00:00",
          "2010-04-01T00:00:00",
          "2009-03-01T00:00:00",
          "2006-07-01T00:00:00",
          "2009-09-01T00:00:00",
          "2010-04-01T00:00:00",
          "2010-03-01T00:00:00",
          "2009-05-01T00:00:00",
          "2010-06-01T00:00:00",
          "2006-06-01T00:00:00",
          "2009-10-01T00:00:00",
          "2006-10-01T00:00:00",
          "2010-04-01T00:00:00",
          "2009-02-01T00:00:00",
          "2009-12-01T00:00:00",
          "2006-03-01T00:00:00",
          "2006-04-01T00:00:00",
          "2006-11-01T00:00:00",
          "2008-12-01T00:00:00",
          "2006-06-01T00:00:00",
          "2008-01-01T00:00:00",
          "2010-05-01T00:00:00",
          "2009-05-01T00:00:00",
          "2009-11-01T00:00:00",
          "2006-12-01T00:00:00",
          "2006-04-01T00:00:00",
          "2006-04-01T00:00:00",
          "2009-11-01T00:00:00",
          "2006-09-01T00:00:00",
          "2009-05-01T00:00:00",
          "2008-05-01T00:00:00",
          "2008-06-01T00:00:00",
          "2010-05-01T00:00:00",
          "2007-01-01T00:00:00",
          "2007-06-01T00:00:00",
          "2010-05-01T00:00:00",
          "2007-10-01T00:00:00",
          "2008-06-01T00:00:00",
          "2009-01-01T00:00:00",
          "2007-04-01T00:00:00",
          "2006-08-01T00:00:00",
          "2007-02-01T00:00:00",
          "2009-06-01T00:00:00",
          "2008-07-01T00:00:00",
          "2010-06-01T00:00:00",
          "2009-12-01T00:00:00",
          "2007-02-01T00:00:00",
          "2008-01-01T00:00:00",
          "2007-05-01T00:00:00",
          "2008-10-01T00:00:00",
          "2008-06-01T00:00:00",
          "2006-06-01T00:00:00",
          "2007-12-01T00:00:00",
          "2006-07-01T00:00:00",
          "2009-05-01T00:00:00",
          "2006-07-01T00:00:00",
          "2009-05-01T00:00:00",
          "2009-04-01T00:00:00",
          "2008-11-01T00:00:00",
          "2006-03-01T00:00:00",
          "2006-06-01T00:00:00",
          "2006-06-01T00:00:00",
          "2007-06-01T00:00:00",
          "2008-07-01T00:00:00",
          "2007-08-01T00:00:00",
          "2009-03-01T00:00:00",
          "2007-07-01T00:00:00",
          "2007-07-01T00:00:00",
          "2006-06-01T00:00:00",
          "2007-05-01T00:00:00",
          "2007-08-01T00:00:00",
          "2008-12-01T00:00:00",
          "2009-08-01T00:00:00",
          "2008-03-01T00:00:00",
          "2009-07-01T00:00:00",
          "2010-03-01T00:00:00",
          "2008-06-01T00:00:00",
          "2006-09-01T00:00:00",
          "2008-10-01T00:00:00",
          "2010-04-01T00:00:00",
          "2010-06-01T00:00:00",
          "2006-09-01T00:00:00",
          "2008-05-01T00:00:00",
          "2009-06-01T00:00:00",
          "2009-06-01T00:00:00",
          "2007-03-01T00:00:00",
          "2006-04-01T00:00:00",
          "2010-01-01T00:00:00",
          "2008-06-01T00:00:00",
          "2006-07-01T00:00:00",
          "2009-06-01T00:00:00",
          "2010-05-01T00:00:00",
          "2009-10-01T00:00:00",
          "2008-10-01T00:00:00",
          "2006-06-01T00:00:00",
          "2007-03-01T00:00:00",
          "2008-07-01T00:00:00",
          "2007-12-01T00:00:00",
          "2008-04-01T00:00:00",
          "2009-07-01T00:00:00",
          "2006-06-01T00:00:00",
          "2008-05-01T00:00:00",
          "2010-06-01T00:00:00",
          "2008-05-01T00:00:00",
          "2006-10-01T00:00:00",
          "2007-08-01T00:00:00",
          "2009-10-01T00:00:00",
          "2010-05-01T00:00:00",
          "2006-07-01T00:00:00",
          "2007-08-01T00:00:00",
          "2009-10-01T00:00:00",
          "2007-03-01T00:00:00",
          "2006-09-01T00:00:00",
          "2009-04-01T00:00:00",
          "2006-12-01T00:00:00",
          "2008-04-01T00:00:00",
          "2006-10-01T00:00:00",
          "2007-02-01T00:00:00",
          "2010-06-01T00:00:00",
          "2007-05-01T00:00:00",
          "2009-05-01T00:00:00",
          "2009-10-01T00:00:00",
          "2008-07-01T00:00:00",
          "2008-04-01T00:00:00",
          "2006-07-01T00:00:00",
          "2007-08-01T00:00:00",
          "2006-01-01T00:00:00",
          "2008-01-01T00:00:00",
          "2009-03-01T00:00:00",
          "2009-03-01T00:00:00",
          "2010-06-01T00:00:00",
          "2008-11-01T00:00:00",
          "2009-06-01T00:00:00",
          "2009-09-01T00:00:00",
          "2009-06-01T00:00:00",
          "2009-09-01T00:00:00",
          "2008-06-01T00:00:00",
          "2009-05-01T00:00:00",
          "2010-04-01T00:00:00",
          "2009-05-01T00:00:00",
          "2008-08-01T00:00:00",
          "2006-12-01T00:00:00",
          "2006-05-01T00:00:00",
          "2010-07-01T00:00:00",
          "2008-03-01T00:00:00",
          "2006-08-01T00:00:00",
          "2007-06-01T00:00:00",
          "2008-10-01T00:00:00",
          "2008-08-01T00:00:00",
          "2008-04-01T00:00:00",
          "2010-02-01T00:00:00",
          "2007-04-01T00:00:00",
          "2006-07-01T00:00:00",
          "2009-10-01T00:00:00",
          "2007-08-01T00:00:00",
          "2008-05-01T00:00:00",
          "2006-05-01T00:00:00",
          "2008-07-01T00:00:00",
          "2007-05-01T00:00:00",
          "2008-11-01T00:00:00",
          "2010-04-01T00:00:00",
          "2007-11-01T00:00:00",
          "2008-09-01T00:00:00",
          "2008-05-01T00:00:00",
          "2009-04-01T00:00:00",
          "2009-05-01T00:00:00",
          "2007-11-01T00:00:00",
          "2007-05-01T00:00:00",
          "2010-04-01T00:00:00",
          "2007-12-01T00:00:00",
          "2007-05-01T00:00:00",
          "2006-08-01T00:00:00",
          "2009-09-01T00:00:00",
          "2009-05-01T00:00:00",
          "2006-05-01T00:00:00",
          "2006-07-01T00:00:00",
          "2009-10-01T00:00:00",
          "2007-08-01T00:00:00",
          "2010-02-01T00:00:00",
          "2010-05-01T00:00:00",
          "2010-04-01T00:00:00",
          "2008-06-01T00:00:00"
         ],
         "xaxis": "x",
         "y": [
          208500,
          181500,
          223500,
          140000,
          250000,
          143000,
          307000,
          200000,
          129900,
          118000,
          129500,
          345000,
          144000,
          279500,
          157000,
          132000,
          149000,
          90000,
          159000,
          139000,
          325300,
          139400,
          230000,
          129900,
          154000,
          256300,
          134800,
          306000,
          207500,
          68500,
          40000,
          149350,
          179900,
          165500,
          277500,
          309000,
          145000,
          153000,
          109000,
          82000,
          160000,
          170000,
          144000,
          130250,
          141000,
          319900,
          239686,
          249700,
          113000,
          127000,
          177000,
          114500,
          110000,
          385000,
          130000,
          180500,
          172500,
          196500,
          438780,
          124900,
          158000,
          101000,
          202500,
          140000,
          219500,
          317000,
          180000,
          226000,
          80000,
          225000,
          244000,
          129500,
          185000,
          144900,
          107400,
          91000,
          135750,
          127000,
          136500,
          110000,
          193500,
          153500,
          245000,
          126500,
          168500,
          260000,
          174000,
          164500,
          85000,
          123600,
          109900,
          98600,
          163500,
          133900,
          204750,
          185000,
          214000,
          94750,
          83000,
          128950,
          205000,
          178000,
          118964,
          198900,
          169500,
          250000,
          100000,
          115000,
          115000,
          190000,
          136900,
          180000,
          383970,
          217000,
          259500,
          176000,
          139000,
          155000,
          320000,
          163990,
          180000,
          100000,
          136000,
          153900,
          181000,
          84500,
          128000,
          87000,
          155000,
          150000,
          226000,
          244000,
          150750,
          220000,
          180000,
          174000,
          143000,
          171000,
          230000,
          231500,
          115000,
          260000,
          166000,
          204000,
          125000,
          130000,
          105000,
          222500,
          141000,
          115000,
          122000,
          372402,
          190000,
          235000,
          125000,
          79000,
          109500,
          269500,
          254900,
          320000,
          162500,
          412500,
          220000,
          103200,
          152000,
          127500,
          190000,
          325624,
          183500,
          228000,
          128500,
          215000,
          239000,
          163000,
          184000,
          243000,
          211000,
          172500,
          501837,
          100000,
          177000,
          200100,
          120000,
          200000,
          127000,
          475000,
          173000,
          135000,
          153337,
          286000,
          315000,
          184000,
          192000,
          130000,
          127000,
          148500,
          311872,
          235000,
          104000,
          274900,
          140000,
          171500,
          112000,
          149000,
          110000,
          180500,
          143900,
          141000,
          277000,
          145000,
          98000,
          186000,
          252678,
          156000,
          161750,
          134450,
          210000,
          107000,
          311500,
          167240,
          204900,
          200000,
          179900,
          97000,
          386250,
          112000,
          290000,
          106000,
          125000,
          192500,
          148000,
          403000,
          94500,
          128200,
          216500,
          89500,
          185500,
          194500,
          318000,
          113000,
          262500,
          110500,
          79000,
          120000,
          205000,
          241500,
          137000,
          140000,
          180000,
          277000,
          76500,
          235000,
          173000,
          158000,
          145000,
          230000,
          207500,
          220000,
          231500,
          97000,
          176000,
          276000,
          151000,
          130000,
          73000,
          175500,
          185000,
          179500,
          120500,
          148000,
          266000,
          241500,
          290000,
          139000,
          124500,
          205000,
          201000,
          141000,
          415298,
          192000,
          228500,
          185000,
          207500,
          244600,
          179200,
          164700,
          159000,
          88000,
          122000,
          153575,
          233230,
          135900,
          131000,
          235000,
          167000,
          142500,
          152000,
          239000,
          175000,
          158500,
          157000,
          267000,
          205000,
          149900,
          295000,
          305900,
          225000,
          89500,
          82500,
          360000,
          165600,
          132000,
          119900,
          375000,
          178000,
          188500,
          260000,
          270000,
          260000,
          187500,
          342643,
          354000,
          301000,
          126175,
          242000,
          87000,
          324000,
          145250,
          214500,
          78000,
          119000,
          139000,
          284000,
          207000,
          192000,
          228950,
          377426,
          214000,
          202500,
          155000,
          202900,
          82000,
          87500,
          266000,
          85000,
          140200,
          151500,
          157500,
          154000,
          437154,
          318061,
          190000,
          95000,
          105900,
          140000,
          177500,
          173000,
          134000,
          130000,
          280000,
          156000,
          145000,
          198500,
          118000,
          190000,
          147000,
          159000,
          165000,
          132000,
          162000,
          172400,
          134432,
          125000,
          123000,
          219500,
          61000,
          148000,
          340000,
          394432,
          179000,
          127000,
          187750,
          213500,
          76000,
          240000,
          192000,
          81000,
          125000,
          191000,
          426000,
          119000,
          215000,
          106500,
          100000,
          109000,
          129000,
          123000,
          169500,
          67000,
          241000,
          245500,
          164990,
          108000,
          258000,
          168000,
          150000,
          115000,
          177000,
          280000,
          339750,
          60000,
          145000,
          222000,
          115000,
          228000,
          181134,
          149500,
          239000,
          126000,
          142000,
          206300,
          215000,
          113000,
          315000,
          139000,
          135000,
          275000,
          109008,
          195400,
          175000,
          85400,
          79900,
          122500,
          181000,
          81000,
          212000,
          116000,
          119000,
          90350,
          110000,
          555000,
          118000,
          162900,
          172500,
          210000,
          127500,
          190000,
          199900,
          119500,
          120000,
          110000,
          280000,
          204000,
          210000,
          188000,
          175500,
          98000,
          256000,
          161000,
          110000,
          263435,
          155000,
          62383,
          188700,
          124000,
          178740,
          167000,
          146500,
          250000,
          187000,
          212000,
          190000,
          148000,
          440000,
          251000,
          132500,
          208900,
          380000,
          297000,
          89471,
          326000,
          374000,
          155000,
          164000,
          132500,
          147000,
          156000,
          175000,
          160000,
          86000,
          115000,
          133000,
          172785,
          155000,
          91300,
          34900,
          430000,
          184000,
          130000,
          120000,
          113000,
          226700,
          140000,
          289000,
          147000,
          124500,
          215000,
          208300,
          161000,
          124500,
          164900,
          202665,
          129900,
          134000,
          96500,
          402861,
          158000,
          265000,
          211000,
          234000,
          106250,
          150000,
          159000,
          184750,
          315750,
          176000,
          132000,
          446261,
          86000,
          200624,
          175000,
          128000,
          107500,
          39300,
          178000,
          107500,
          188000,
          111250,
          158000,
          272000,
          315000,
          248000,
          213250,
          133000,
          179665,
          229000,
          210000,
          129500,
          125000,
          263000,
          140000,
          112500,
          255500,
          108000,
          284000,
          113000,
          141000,
          108000,
          175000,
          234000,
          121500,
          170000,
          108000,
          185000,
          268000,
          128000,
          325000,
          214000,
          316600,
          135960,
          142600,
          120000,
          224500,
          170000,
          139000,
          118500,
          145000,
          164500,
          146000,
          131500,
          181900,
          253293,
          118500,
          325000,
          133000,
          369900,
          130000,
          137000,
          143000,
          79500,
          185900,
          451950,
          138000,
          140000,
          110000,
          319000,
          114504,
          194201,
          217500,
          151000,
          275000,
          141000,
          220000,
          151000,
          221000,
          205000,
          152000,
          225000,
          359100,
          118500,
          313000,
          148000,
          261500,
          147000,
          75500,
          137500,
          183200,
          105500,
          314813,
          305000,
          67000,
          240000,
          135000,
          168500,
          165150,
          160000,
          139900,
          153000,
          135000,
          168500,
          124000,
          209500,
          82500,
          139400,
          144000,
          200000,
          60000,
          93000,
          85000,
          264561,
          274000,
          226000,
          345000,
          152000,
          370878,
          143250,
          98300,
          155000,
          155000,
          84500,
          205950,
          108000,
          191000,
          135000,
          350000,
          88000,
          145500,
          149000,
          97500,
          167000,
          197900,
          402000,
          110000,
          137500,
          423000,
          230500,
          129000,
          193500,
          168000,
          137500,
          173500,
          103600,
          165000,
          257500,
          140000,
          148500,
          87000,
          109500,
          372500,
          128500,
          143000,
          159434,
          173000,
          285000,
          221000,
          207500,
          227875,
          148800,
          392000,
          194700,
          141000,
          755000,
          335000,
          108480,
          141500,
          176000,
          89000,
          123500,
          138500,
          196000,
          312500,
          140000,
          361919,
          140000,
          213000,
          55000,
          302000,
          254000,
          179540,
          109900,
          52000,
          102776,
          189000,
          129000,
          130500,
          165000,
          159500,
          157000,
          341000,
          128500,
          275000,
          143000,
          124500,
          135000,
          320000,
          120500,
          222000,
          194500,
          110000,
          103000,
          236500,
          187500,
          222500,
          131400,
          108000,
          163000,
          93500,
          239900,
          179000,
          190000,
          132000,
          142000,
          179000,
          175000,
          180000,
          299800,
          236000,
          265979,
          260400,
          98000,
          96500,
          162000,
          217000,
          275500,
          156000,
          172500,
          212000,
          158900,
          179400,
          290000,
          127500,
          100000,
          215200,
          337000,
          270000,
          264132,
          196500,
          160000,
          216837,
          538000,
          134900,
          102000,
          107000,
          114500,
          395000,
          162000,
          221500,
          142500,
          144000,
          135000,
          176000,
          175900,
          187100,
          165500,
          128000,
          161500,
          139000,
          233000,
          107900,
          187500,
          160200,
          146800,
          269790,
          225000,
          194500,
          171000,
          143500,
          110000,
          485000,
          175000,
          200000,
          109900,
          189000,
          582933,
          118000,
          227680,
          135500,
          223500,
          159950,
          106000,
          181000,
          144500,
          55993,
          157900,
          116000,
          224900,
          137000,
          271000,
          155000,
          224000,
          183000,
          93000,
          225000,
          139500,
          232600,
          385000,
          109500,
          189000,
          185000,
          147400,
          166000,
          151000,
          237000,
          167000,
          139950,
          128000,
          153500,
          100000,
          144000,
          130500,
          140000,
          157500,
          174900,
          141000,
          153900,
          171000,
          213000,
          133500,
          240000,
          187000,
          131500,
          215000,
          164000,
          158000,
          170000,
          127000,
          147000,
          174000,
          152000,
          250000,
          189950,
          131500,
          152000,
          132500,
          250580,
          148500,
          248900,
          129000,
          169000,
          236000,
          109500,
          200500,
          116000,
          133000,
          66500,
          303477,
          132250,
          350000,
          148000,
          136500,
          157000,
          187500,
          178000,
          118500,
          100000,
          328900,
          145000,
          135500,
          268000,
          149500,
          122900,
          172500,
          154500,
          165000,
          118858,
          140000,
          106500,
          142953,
          611657,
          135000,
          110000,
          153000,
          180000,
          240000,
          125500,
          128000,
          255000,
          250000,
          131000,
          174000,
          154300,
          143500,
          88000,
          145000,
          173733,
          75000,
          35311,
          135000,
          238000,
          176500,
          201000,
          145900,
          169990,
          193000,
          207500,
          175000,
          285000,
          176000,
          236500,
          222000,
          201000,
          117500,
          320000,
          190000,
          242000,
          79900,
          184900,
          253000,
          239799,
          244400,
          150900,
          214000,
          150000,
          143000,
          137500,
          124900,
          143000,
          270000,
          192500,
          197500,
          129000,
          119900,
          133900,
          172000,
          127500,
          145000,
          124000,
          132000,
          185000,
          155000,
          116500,
          272000,
          155000,
          239000,
          214900,
          178900,
          160000,
          135000,
          37900,
          140000,
          135000,
          173000,
          99500,
          182000,
          167500,
          165000,
          85500,
          199900,
          110000,
          139000,
          178400,
          336000,
          159895,
          255900,
          126000,
          125000,
          117000,
          395192,
          195000,
          197000,
          348000,
          168000,
          187000,
          173900,
          337500,
          121600,
          136500,
          185000,
          91000,
          206000,
          82000,
          86000,
          232000,
          136905,
          181000,
          149900,
          163500,
          88000,
          240000,
          102000,
          135000,
          100000,
          165000,
          85000,
          119200,
          227000,
          203000,
          187500,
          160000,
          213490,
          176000,
          194000,
          87000,
          191000,
          287000,
          112500,
          167500,
          293077,
          105000,
          118000,
          160000,
          197000,
          310000,
          230000,
          119750,
          84000,
          315500,
          287000,
          97000,
          80000,
          155000,
          173000,
          196000,
          262280,
          278000,
          139600,
          556581,
          145000,
          115000,
          84900,
          176485,
          200141,
          165000,
          144500,
          255000,
          180000,
          185850,
          248000,
          335000,
          220000,
          213500,
          81000,
          90000,
          110500,
          154000,
          328000,
          178000,
          167900,
          151400,
          135000,
          135000,
          154000,
          91500,
          159500,
          194000,
          219500,
          170000,
          138800,
          155900,
          126000,
          145000,
          133000,
          192000,
          160000,
          187500,
          147000,
          83500,
          252000,
          137500,
          197000,
          92900,
          160000,
          136500,
          146000,
          129000,
          176432,
          127000,
          170000,
          128000,
          157000,
          60000,
          119500,
          135000,
          159500,
          106000,
          325000,
          179900,
          274725,
          181000,
          280000,
          188000,
          205000,
          129900,
          134500,
          117000,
          318000,
          184100,
          130000,
          140000,
          133700,
          118400,
          212900,
          112000,
          118000,
          163900,
          115000,
          174000,
          259000,
          215000,
          140000,
          135000,
          93500,
          117500,
          239500,
          169000,
          102000,
          119000,
          94000,
          196000,
          144000,
          139000,
          197500,
          424870,
          80000,
          80000,
          149000,
          180000,
          174500,
          116900,
          143000,
          124000,
          149900,
          230000,
          120500,
          201800,
          218000,
          179900,
          230000,
          235128,
          185000,
          146000,
          224000,
          129000,
          108959,
          194000,
          233170,
          245350,
          173000,
          235000,
          625000,
          171000,
          163000,
          171900,
          200500,
          239000,
          285000,
          119500,
          115000,
          154900,
          93000,
          250000,
          392500,
          745000,
          120000,
          186700,
          104900,
          95000,
          262000,
          195000,
          189000,
          168000,
          174000,
          125000,
          165000,
          158000,
          176000,
          219210,
          144000,
          178000,
          148000,
          116050,
          197900,
          117000,
          213000,
          153500,
          271900,
          107000,
          200000,
          140000,
          290000,
          189000,
          164000,
          113000,
          145000,
          134500,
          125000,
          112000,
          229456,
          80500,
          91500,
          115000,
          134000,
          143000,
          137900,
          184000,
          145000,
          214000,
          147000,
          367294,
          127000,
          190000,
          132500,
          101800,
          142000,
          130000,
          138887,
          175500,
          195000,
          142500,
          265900,
          224900,
          248328,
          170000,
          465000,
          230000,
          178000,
          186500,
          169900,
          129500,
          119000,
          244000,
          171750,
          130000,
          294000,
          165400,
          127500,
          301500,
          99900,
          190000,
          151000,
          181000,
          128900,
          161500,
          180500,
          181000,
          183900,
          122000,
          378500,
          381000,
          144000,
          260000,
          185750,
          137000,
          177000,
          139000,
          137000,
          162000,
          197900,
          237000,
          68400,
          227000,
          180000,
          150500,
          139000,
          169000,
          132500,
          143000,
          190000,
          278000,
          281000,
          180500,
          119500,
          107500,
          162900,
          115000,
          138500,
          155000,
          140000,
          160000,
          154000,
          225000,
          177500,
          290000,
          232000,
          130000,
          325000,
          202500,
          138000,
          147000,
          179200,
          335000,
          203000,
          302000,
          333168,
          119000,
          206900,
          295493,
          208900,
          275000,
          111000,
          156500,
          72500,
          190000,
          82500,
          147000,
          55000,
          79000,
          130500,
          256000,
          176500,
          227000,
          132500,
          100000,
          125500,
          125000,
          167900,
          135000,
          52500,
          200000,
          128500,
          123000,
          155000,
          228500,
          177000,
          155835,
          108500,
          262500,
          283463,
          215000,
          122000,
          200000,
          171000,
          134900,
          410000,
          235000,
          170000,
          110000,
          149900,
          177500,
          315000,
          189000,
          260000,
          104900,
          156932,
          144152,
          216000,
          193000,
          127000,
          144000,
          232000,
          105000,
          165500,
          274300,
          466500,
          250000,
          239000,
          91000,
          117000,
          83000,
          167500,
          58500,
          237500,
          157000,
          112000,
          105000,
          125500,
          250000,
          136000,
          377500,
          131000,
          235000,
          124000,
          123000,
          163000,
          246578,
          281213,
          160000,
          137500,
          138000,
          137450,
          120000,
          193000,
          193879,
          282922,
          105000,
          275000,
          133000,
          112000,
          125500,
          215000,
          230000,
          140000,
          90000,
          257000,
          207000,
          175900,
          122500,
          340000,
          124000,
          223000,
          179900,
          127500,
          136500,
          274970,
          144000,
          142000,
          271000,
          140000,
          119000,
          182900,
          192140,
          143750,
          64500,
          186500,
          160000,
          174000,
          120500,
          394617,
          149700,
          197000,
          191000,
          149300,
          310000,
          121000,
          179600,
          129000,
          157900,
          240000,
          112000,
          92000,
          136000,
          287090,
          145000,
          84500,
          185000,
          175000,
          210000,
          266500,
          142125,
          147500
         ],
         "yaxis": "y"
        },
        {
         "legendgroup": "mean",
         "marker": {
          "color": "#811331"
         },
         "mode": "lines",
         "name": "mean",
         "showlegend": true,
         "type": "scatter",
         "x": [
          "2006-01-01T00:00:00",
          "2006-02-01T00:00:00",
          "2006-03-01T00:00:00",
          "2006-04-01T00:00:00",
          "2006-05-01T00:00:00",
          "2006-06-01T00:00:00",
          "2006-07-01T00:00:00",
          "2006-08-01T00:00:00",
          "2006-09-01T00:00:00",
          "2006-10-01T00:00:00",
          "2006-11-01T00:00:00",
          "2006-12-01T00:00:00",
          "2007-01-01T00:00:00",
          "2007-02-01T00:00:00",
          "2007-03-01T00:00:00",
          "2007-04-01T00:00:00",
          "2007-05-01T00:00:00",
          "2007-06-01T00:00:00",
          "2007-07-01T00:00:00",
          "2007-08-01T00:00:00",
          "2007-09-01T00:00:00",
          "2007-10-01T00:00:00",
          "2007-11-01T00:00:00",
          "2007-12-01T00:00:00",
          "2008-01-01T00:00:00",
          "2008-02-01T00:00:00",
          "2008-03-01T00:00:00",
          "2008-04-01T00:00:00",
          "2008-05-01T00:00:00",
          "2008-06-01T00:00:00",
          "2008-07-01T00:00:00",
          "2008-08-01T00:00:00",
          "2008-09-01T00:00:00",
          "2008-10-01T00:00:00",
          "2008-11-01T00:00:00",
          "2008-12-01T00:00:00",
          "2009-01-01T00:00:00",
          "2009-02-01T00:00:00",
          "2009-03-01T00:00:00",
          "2009-04-01T00:00:00",
          "2009-05-01T00:00:00",
          "2009-06-01T00:00:00",
          "2009-07-01T00:00:00",
          "2009-08-01T00:00:00",
          "2009-09-01T00:00:00",
          "2009-10-01T00:00:00",
          "2009-11-01T00:00:00",
          "2009-12-01T00:00:00",
          "2010-01-01T00:00:00",
          "2010-02-01T00:00:00",
          "2010-03-01T00:00:00",
          "2010-04-01T00:00:00",
          "2010-05-01T00:00:00",
          "2010-06-01T00:00:00",
          "2010-07-01T00:00:00"
         ],
         "xaxis": "x",
         "y": [
          201090,
          194322.22222222222,
          184982.2,
          174312.8148148148,
          158928.2894736842,
          172283.33333333334,
          183211.05970149254,
          196239.95652173914,
          223768.86666666667,
          172356.70833333334,
          213285,
          185545,
          183234.61538461538,
          176301.75,
          176567.78260869565,
          170772.60869565216,
          169873.51162790696,
          179725.81355932204,
          195396.8431372549,
          183941.075,
          195533.81818181818,
          215428.8125,
          197709.33333333334,
          214414.5,
          178504.6923076923,
          159370,
          178505.27777777778,
          159293.34615384616,
          188334.47368421053,
          169730.9411764706,
          174562.6530612245,
          196076.9655172414,
          169626.4705882353,
          166690.63636363635,
          210981.0588235294,
          175600,
          189735.5,
          187450,
          171547.36842105264,
          181680.76923076922,
          164482.94594594595,
          183260.93220338982,
          197984.40983606558,
          165670.96666666667,
          196849.35,
          175206.59259259258,
          156381.81818181818,
          164014.53333333333,
          163852.6,
          174823.33333333334,
          203181.2857142857,
          171344.02564102566,
          178422.25,
          181639.58333333334,
          121750
         ],
         "yaxis": "y"
        },
        {
         "legendgroup": "median",
         "marker": {
          "color": "#0F52BA"
         },
         "mode": "lines",
         "name": "median",
         "showlegend": true,
         "type": "scatter",
         "x": [
          "2006-01-01T00:00:00",
          "2006-02-01T00:00:00",
          "2006-03-01T00:00:00",
          "2006-04-01T00:00:00",
          "2006-05-01T00:00:00",
          "2006-06-01T00:00:00",
          "2006-07-01T00:00:00",
          "2006-08-01T00:00:00",
          "2006-09-01T00:00:00",
          "2006-10-01T00:00:00",
          "2006-11-01T00:00:00",
          "2006-12-01T00:00:00",
          "2007-01-01T00:00:00",
          "2007-02-01T00:00:00",
          "2007-03-01T00:00:00",
          "2007-04-01T00:00:00",
          "2007-05-01T00:00:00",
          "2007-06-01T00:00:00",
          "2007-07-01T00:00:00",
          "2007-08-01T00:00:00",
          "2007-09-01T00:00:00",
          "2007-10-01T00:00:00",
          "2007-11-01T00:00:00",
          "2007-12-01T00:00:00",
          "2008-01-01T00:00:00",
          "2008-02-01T00:00:00",
          "2008-03-01T00:00:00",
          "2008-04-01T00:00:00",
          "2008-05-01T00:00:00",
          "2008-06-01T00:00:00",
          "2008-07-01T00:00:00",
          "2008-08-01T00:00:00",
          "2008-09-01T00:00:00",
          "2008-10-01T00:00:00",
          "2008-11-01T00:00:00",
          "2008-12-01T00:00:00",
          "2009-01-01T00:00:00",
          "2009-02-01T00:00:00",
          "2009-03-01T00:00:00",
          "2009-04-01T00:00:00",
          "2009-05-01T00:00:00",
          "2009-06-01T00:00:00",
          "2009-07-01T00:00:00",
          "2009-08-01T00:00:00",
          "2009-09-01T00:00:00",
          "2009-10-01T00:00:00",
          "2009-11-01T00:00:00",
          "2009-12-01T00:00:00",
          "2010-01-01T00:00:00",
          "2010-02-01T00:00:00",
          "2010-03-01T00:00:00",
          "2010-04-01T00:00:00",
          "2010-05-01T00:00:00",
          "2010-06-01T00:00:00",
          "2010-07-01T00:00:00"
         ],
         "xaxis": "x",
         "y": [
          176700,
          192500,
          162900,
          145250,
          156950,
          151200,
          160000,
          196500,
          202500,
          152500,
          193605,
          175000,
          132250,
          161000,
          148800,
          151500,
          144000,
          168500,
          163900,
          167000,
          192000,
          192570.5,
          193500,
          231000,
          149000,
          147500,
          165500,
          136625,
          176750,
          161000,
          178400,
          175000,
          172000,
          150500,
          173000,
          169000,
          134250,
          179250,
          174000,
          156000,
          140000,
          173000,
          159500,
          161000,
          160850,
          153000,
          141000,
          162000,
          162150,
          160000,
          162000,
          149700,
          153000,
          165000,
          134750
         ],
         "yaxis": "y"
        },
        {
         "marker": {
          "color": "#ff847c"
         },
         "mode": "markers",
         "showlegend": false,
         "type": "scatter",
         "x": [
          "2008-02-01T00:00:00",
          "2007-05-01T00:00:00",
          "2008-09-01T00:00:00",
          "2006-02-01T00:00:00",
          "2008-12-01T00:00:00",
          "2009-10-01T00:00:00",
          "2007-08-01T00:00:00",
          "2009-11-01T00:00:00",
          "2008-04-01T00:00:00",
          "2008-01-01T00:00:00",
          "2008-02-01T00:00:00",
          "2006-07-01T00:00:00",
          "2008-09-01T00:00:00",
          "2007-08-01T00:00:00",
          "2008-05-01T00:00:00",
          "2007-07-01T00:00:00",
          "2010-03-01T00:00:00",
          "2006-10-01T00:00:00",
          "2008-06-01T00:00:00",
          "2009-05-01T00:00:00",
          "2006-11-01T00:00:00",
          "2007-06-01T00:00:00",
          "2008-09-01T00:00:00",
          "2007-06-01T00:00:00",
          "2010-05-01T00:00:00",
          "2009-07-01T00:00:00",
          "2010-05-01T00:00:00",
          "2010-05-01T00:00:00",
          "2006-12-01T00:00:00",
          "2008-05-01T00:00:00",
          "2008-07-01T00:00:00",
          "2008-06-01T00:00:00",
          "2008-01-01T00:00:00",
          "2010-04-01T00:00:00",
          "2007-08-01T00:00:00",
          "2006-09-01T00:00:00",
          "2009-06-01T00:00:00",
          "2009-10-01T00:00:00",
          "2010-01-01T00:00:00",
          "2008-06-01T00:00:00",
          "2006-12-01T00:00:00",
          "2007-07-01T00:00:00",
          "2007-12-01T00:00:00",
          "2008-07-01T00:00:00",
          "2006-05-01T00:00:00",
          "2010-02-01T00:00:00",
          "2009-08-01T00:00:00",
          "2007-07-01T00:00:00",
          "2009-06-01T00:00:00",
          "2007-01-01T00:00:00",
          "2007-07-01T00:00:00",
          "2006-09-01T00:00:00",
          "2010-05-01T00:00:00",
          "2006-11-01T00:00:00",
          "2007-02-01T00:00:00",
          "2008-07-01T00:00:00",
          "2009-08-01T00:00:00",
          "2006-08-01T00:00:00",
          "2006-10-01T00:00:00",
          "2008-01-01T00:00:00",
          "2006-05-01T00:00:00",
          "2007-03-01T00:00:00",
          "2007-10-01T00:00:00",
          "2010-04-01T00:00:00",
          "2009-02-01T00:00:00",
          "2007-10-01T00:00:00",
          "2010-07-01T00:00:00",
          "2007-06-01T00:00:00",
          "2010-06-01T00:00:00",
          "2006-07-01T00:00:00",
          "2007-02-01T00:00:00",
          "2007-06-01T00:00:00",
          "2009-12-01T00:00:00",
          "2010-05-01T00:00:00",
          "2010-05-01T00:00:00",
          "2009-11-01T00:00:00",
          "2008-04-01T00:00:00",
          "2008-01-01T00:00:00",
          "2010-04-01T00:00:00",
          "2009-05-01T00:00:00",
          "2009-06-01T00:00:00",
          "2006-03-01T00:00:00",
          "2008-10-01T00:00:00",
          "2007-07-01T00:00:00",
          "2009-05-01T00:00:00",
          "2006-04-01T00:00:00",
          "2009-03-01T00:00:00",
          "2009-06-01T00:00:00",
          "2009-10-01T00:00:00",
          "2007-08-01T00:00:00",
          "2006-07-01T00:00:00",
          "2006-12-01T00:00:00",
          "2009-08-01T00:00:00",
          "2007-11-01T00:00:00",
          "2007-05-01T00:00:00",
          "2009-04-01T00:00:00",
          "2006-08-01T00:00:00",
          "2007-05-01T00:00:00",
          "2010-05-01T00:00:00",
          "2010-01-01T00:00:00",
          "2010-02-01T00:00:00",
          "2010-06-01T00:00:00",
          "2009-06-01T00:00:00",
          "2010-05-01T00:00:00",
          "2007-06-01T00:00:00",
          "2008-08-01T00:00:00",
          "2007-08-01T00:00:00",
          "2008-04-01T00:00:00",
          "2007-08-01T00:00:00",
          "2010-01-01T00:00:00",
          "2006-10-01T00:00:00",
          "2010-04-01T00:00:00",
          "2007-10-01T00:00:00",
          "2007-10-01T00:00:00",
          "2007-07-01T00:00:00",
          "2007-06-01T00:00:00",
          "2009-09-01T00:00:00",
          "2007-04-01T00:00:00",
          "2010-05-01T00:00:00",
          "2006-07-01T00:00:00",
          "2006-10-01T00:00:00",
          "2007-06-01T00:00:00",
          "2008-06-01T00:00:00",
          "2008-03-01T00:00:00",
          "2009-01-01T00:00:00",
          "2006-06-01T00:00:00",
          "2007-02-01T00:00:00",
          "2007-06-01T00:00:00",
          "2006-07-01T00:00:00",
          "2006-07-01T00:00:00",
          "2006-05-01T00:00:00",
          "2009-07-01T00:00:00",
          "2007-07-01T00:00:00",
          "2009-06-01T00:00:00",
          "2006-07-01T00:00:00",
          "2008-05-01T00:00:00",
          "2007-07-01T00:00:00",
          "2006-07-01T00:00:00",
          "2008-12-01T00:00:00",
          "2009-08-01T00:00:00",
          "2010-04-01T00:00:00",
          "2006-01-01T00:00:00",
          "2010-06-01T00:00:00",
          "2009-06-01T00:00:00",
          "2006-11-01T00:00:00",
          "2006-04-01T00:00:00",
          "2009-11-01T00:00:00",
          "2010-05-01T00:00:00",
          "2008-04-01T00:00:00",
          "2006-04-01T00:00:00",
          "2007-01-01T00:00:00",
          "2008-01-01T00:00:00",
          "2006-06-01T00:00:00",
          "2008-03-01T00:00:00",
          "2006-03-01T00:00:00",
          "2008-04-01T00:00:00",
          "2006-06-01T00:00:00",
          "2010-05-01T00:00:00",
          "2010-05-01T00:00:00",
          "2006-03-01T00:00:00",
          "2008-06-01T00:00:00",
          "2008-03-01T00:00:00",
          "2010-05-01T00:00:00",
          "2007-04-01T00:00:00",
          "2007-10-01T00:00:00",
          "2008-09-01T00:00:00",
          "2009-11-01T00:00:00",
          "2007-11-01T00:00:00",
          "2007-05-01T00:00:00",
          "2006-01-01T00:00:00",
          "2007-05-01T00:00:00",
          "2010-05-01T00:00:00",
          "2006-06-01T00:00:00",
          "2008-06-01T00:00:00",
          "2008-11-01T00:00:00",
          "2007-06-01T00:00:00",
          "2007-09-01T00:00:00",
          "2006-07-01T00:00:00",
          "2009-07-01T00:00:00",
          "2007-07-01T00:00:00",
          "2007-06-01T00:00:00",
          "2006-07-01T00:00:00",
          "2007-06-01T00:00:00",
          "2008-06-01T00:00:00",
          "2006-06-01T00:00:00",
          "2006-06-01T00:00:00",
          "2009-06-01T00:00:00",
          "2009-08-01T00:00:00",
          "2009-06-01T00:00:00",
          "2008-08-01T00:00:00",
          "2007-12-01T00:00:00",
          "2007-06-01T00:00:00",
          "2009-09-01T00:00:00",
          "2006-05-01T00:00:00",
          "2008-05-01T00:00:00",
          "2009-07-01T00:00:00",
          "2007-09-01T00:00:00",
          "2006-03-01T00:00:00",
          "2009-07-01T00:00:00",
          "2009-01-01T00:00:00",
          "2010-03-01T00:00:00",
          "2008-02-01T00:00:00",
          "2006-05-01T00:00:00",
          "2008-01-01T00:00:00",
          "2009-04-01T00:00:00",
          "2009-05-01T00:00:00",
          "2007-03-01T00:00:00",
          "2008-04-01T00:00:00",
          "2007-04-01T00:00:00",
          "2008-07-01T00:00:00",
          "2008-04-01T00:00:00",
          "2010-03-01T00:00:00",
          "2009-07-01T00:00:00",
          "2006-07-01T00:00:00",
          "2010-03-01T00:00:00",
          "2006-05-01T00:00:00",
          "2008-04-01T00:00:00",
          "2006-09-01T00:00:00",
          "2008-05-01T00:00:00",
          "2006-03-01T00:00:00",
          "2006-04-01T00:00:00",
          "2009-12-01T00:00:00",
          "2006-02-01T00:00:00",
          "2009-03-01T00:00:00",
          "2009-06-01T00:00:00",
          "2009-05-01T00:00:00",
          "2007-06-01T00:00:00",
          "2008-09-01T00:00:00",
          "2010-05-01T00:00:00",
          "2009-05-01T00:00:00",
          "2010-04-01T00:00:00",
          "2009-07-01T00:00:00",
          "2006-06-01T00:00:00",
          "2010-02-01T00:00:00",
          "2010-05-01T00:00:00",
          "2008-08-01T00:00:00",
          "2010-05-01T00:00:00",
          "2010-02-01T00:00:00",
          "2007-12-01T00:00:00",
          "2010-04-01T00:00:00",
          "2010-04-01T00:00:00",
          "2007-08-01T00:00:00",
          "2006-04-01T00:00:00",
          "2009-04-01T00:00:00",
          "2010-05-01T00:00:00",
          "2006-06-01T00:00:00",
          "2006-04-01T00:00:00",
          "2006-06-01T00:00:00",
          "2007-09-01T00:00:00",
          "2007-06-01T00:00:00",
          "2010-05-01T00:00:00",
          "2007-12-01T00:00:00",
          "2008-12-01T00:00:00",
          "2007-10-01T00:00:00",
          "2010-06-01T00:00:00",
          "2006-02-01T00:00:00",
          "2008-05-01T00:00:00",
          "2009-03-01T00:00:00",
          "2008-05-01T00:00:00",
          "2008-12-01T00:00:00",
          "2009-05-01T00:00:00",
          "2007-11-01T00:00:00",
          "2006-07-01T00:00:00",
          "2010-04-01T00:00:00",
          "2008-06-01T00:00:00",
          "2008-06-01T00:00:00",
          "2006-06-01T00:00:00",
          "2008-07-01T00:00:00",
          "2008-02-01T00:00:00",
          "2007-05-01T00:00:00",
          "2006-08-01T00:00:00",
          "2008-04-01T00:00:00",
          "2010-04-01T00:00:00",
          "2009-04-01T00:00:00",
          "2007-06-01T00:00:00",
          "2009-10-01T00:00:00",
          "2010-04-01T00:00:00",
          "2010-06-01T00:00:00",
          "2007-05-01T00:00:00",
          "2008-03-01T00:00:00",
          "2007-01-01T00:00:00",
          "2006-05-01T00:00:00",
          "2009-04-01T00:00:00",
          "2009-12-01T00:00:00",
          "2007-07-01T00:00:00",
          "2007-06-01T00:00:00",
          "2006-06-01T00:00:00",
          "2006-06-01T00:00:00",
          "2010-02-01T00:00:00",
          "2007-07-01T00:00:00",
          "2006-07-01T00:00:00",
          "2008-03-01T00:00:00",
          "2009-01-01T00:00:00",
          "2006-03-01T00:00:00",
          "2009-10-01T00:00:00",
          "2006-03-01T00:00:00",
          "2007-06-01T00:00:00",
          "2007-06-01T00:00:00",
          "2007-06-01T00:00:00",
          "2009-08-01T00:00:00",
          "2006-06-01T00:00:00",
          "2007-05-01T00:00:00",
          "2006-01-01T00:00:00",
          "2006-07-01T00:00:00",
          "2008-05-01T00:00:00",
          "2007-07-01T00:00:00",
          "2007-06-01T00:00:00",
          "2008-03-01T00:00:00",
          "2009-03-01T00:00:00",
          "2006-11-01T00:00:00",
          "2006-05-01T00:00:00",
          "2009-05-01T00:00:00",
          "2006-05-01T00:00:00",
          "2009-06-01T00:00:00",
          "2006-08-01T00:00:00",
          "2009-07-01T00:00:00",
          "2009-08-01T00:00:00",
          "2007-12-01T00:00:00",
          "2009-04-01T00:00:00",
          "2009-06-01T00:00:00",
          "2006-09-01T00:00:00",
          "2007-06-01T00:00:00",
          "2007-08-01T00:00:00",
          "2006-07-01T00:00:00",
          "2010-06-01T00:00:00",
          "2007-12-01T00:00:00",
          "2008-05-01T00:00:00",
          "2006-04-01T00:00:00",
          "2009-07-01T00:00:00",
          "2009-07-01T00:00:00",
          "2007-11-01T00:00:00",
          "2007-08-01T00:00:00",
          "2009-10-01T00:00:00",
          "2008-07-01T00:00:00",
          "2008-07-01T00:00:00",
          "2008-08-01T00:00:00",
          "2007-07-01T00:00:00",
          "2008-12-01T00:00:00",
          "2006-05-01T00:00:00",
          "2009-06-01T00:00:00",
          "2010-04-01T00:00:00",
          "2009-09-01T00:00:00",
          "2006-05-01T00:00:00",
          "2008-07-01T00:00:00",
          "2010-04-01T00:00:00",
          "2006-10-01T00:00:00",
          "2007-04-01T00:00:00",
          "2009-12-01T00:00:00",
          "2008-10-01T00:00:00",
          "2006-04-01T00:00:00",
          "2007-12-01T00:00:00",
          "2006-12-01T00:00:00",
          "2008-03-01T00:00:00",
          "2010-05-01T00:00:00",
          "2006-06-01T00:00:00",
          "2007-08-01T00:00:00",
          "2009-07-01T00:00:00",
          "2007-08-01T00:00:00",
          "2006-07-01T00:00:00",
          "2006-06-01T00:00:00",
          "2007-06-01T00:00:00",
          "2008-07-01T00:00:00",
          "2009-07-01T00:00:00",
          "2009-05-01T00:00:00",
          "2006-07-01T00:00:00",
          "2009-07-01T00:00:00",
          "2009-07-01T00:00:00",
          "2008-12-01T00:00:00",
          "2010-03-01T00:00:00",
          "2010-03-01T00:00:00",
          "2006-01-01T00:00:00",
          "2008-07-01T00:00:00",
          "2010-02-01T00:00:00",
          "2009-11-01T00:00:00",
          "2007-07-01T00:00:00",
          "2009-03-01T00:00:00",
          "2006-07-01T00:00:00",
          "2007-12-01T00:00:00",
          "2010-06-01T00:00:00",
          "2009-06-01T00:00:00",
          "2010-05-01T00:00:00",
          "2006-08-01T00:00:00",
          "2007-04-01T00:00:00",
          "2009-10-01T00:00:00",
          "2007-06-01T00:00:00",
          "2010-04-01T00:00:00",
          "2006-05-01T00:00:00",
          "2009-10-01T00:00:00",
          "2008-07-01T00:00:00",
          "2008-08-01T00:00:00",
          "2008-04-01T00:00:00",
          "2009-06-01T00:00:00",
          "2007-07-01T00:00:00",
          "2006-04-01T00:00:00",
          "2007-07-01T00:00:00",
          "2010-06-01T00:00:00",
          "2009-09-01T00:00:00",
          "2007-07-01T00:00:00",
          "2007-11-01T00:00:00",
          "2009-10-01T00:00:00",
          "2008-12-01T00:00:00",
          "2006-07-01T00:00:00",
          "2008-08-01T00:00:00",
          "2006-07-01T00:00:00",
          "2007-05-01T00:00:00",
          "2009-06-01T00:00:00",
          "2008-03-01T00:00:00",
          "2008-03-01T00:00:00",
          "2007-08-01T00:00:00",
          "2008-04-01T00:00:00",
          "2009-06-01T00:00:00",
          "2006-01-01T00:00:00",
          "2010-06-01T00:00:00",
          "2010-03-01T00:00:00",
          "2008-12-01T00:00:00",
          "2007-08-01T00:00:00",
          "2006-03-01T00:00:00",
          "2007-11-01T00:00:00",
          "2007-04-01T00:00:00",
          "2010-07-01T00:00:00",
          "2008-11-01T00:00:00",
          "2009-06-01T00:00:00",
          "2008-02-01T00:00:00",
          "2008-06-01T00:00:00",
          "2008-05-01T00:00:00",
          "2009-09-01T00:00:00",
          "2009-08-01T00:00:00",
          "2008-07-01T00:00:00",
          "2007-09-01T00:00:00",
          "2009-03-01T00:00:00",
          "2008-07-01T00:00:00",
          "2008-09-01T00:00:00",
          "2007-08-01T00:00:00",
          "2008-07-01T00:00:00",
          "2008-06-01T00:00:00",
          "2009-04-01T00:00:00",
          "2006-10-01T00:00:00",
          "2009-01-01T00:00:00",
          "2007-03-01T00:00:00",
          "2009-08-01T00:00:00",
          "2009-04-01T00:00:00",
          "2008-09-01T00:00:00",
          "2008-06-01T00:00:00",
          "2007-06-01T00:00:00",
          "2008-07-01T00:00:00",
          "2009-11-01T00:00:00",
          "2010-06-01T00:00:00",
          "2006-07-01T00:00:00",
          "2006-06-01T00:00:00",
          "2007-06-01T00:00:00",
          "2006-06-01T00:00:00",
          "2006-12-01T00:00:00",
          "2007-07-01T00:00:00",
          "2009-06-01T00:00:00",
          "2006-07-01T00:00:00",
          "2007-09-01T00:00:00",
          "2008-05-01T00:00:00",
          "2008-03-01T00:00:00",
          "2008-06-01T00:00:00",
          "2009-07-01T00:00:00",
          "2009-12-01T00:00:00",
          "2009-04-01T00:00:00",
          "2009-12-01T00:00:00",
          "2008-08-01T00:00:00",
          "2009-08-01T00:00:00",
          "2006-05-01T00:00:00",
          "2007-04-01T00:00:00",
          "2007-06-01T00:00:00",
          "2007-05-01T00:00:00",
          "2008-06-01T00:00:00",
          "2010-06-01T00:00:00",
          "2007-11-01T00:00:00",
          "2008-06-01T00:00:00",
          "2007-07-01T00:00:00",
          "2007-08-01T00:00:00",
          "2007-07-01T00:00:00",
          "2008-04-01T00:00:00",
          "2007-03-01T00:00:00",
          "2009-09-01T00:00:00",
          "2007-03-01T00:00:00",
          "2006-03-01T00:00:00",
          "2006-08-01T00:00:00",
          "2009-06-01T00:00:00",
          "2006-05-01T00:00:00",
          "2007-03-01T00:00:00",
          "2009-07-01T00:00:00",
          "2007-06-01T00:00:00",
          "2007-02-01T00:00:00",
          "2006-05-01T00:00:00",
          "2009-05-01T00:00:00",
          "2008-06-01T00:00:00",
          "2006-08-01T00:00:00",
          "2006-05-01T00:00:00",
          "2008-06-01T00:00:00",
          "2009-12-01T00:00:00",
          "2009-11-01T00:00:00",
          "2007-05-01T00:00:00",
          "2008-06-01T00:00:00",
          "2009-06-01T00:00:00",
          "2007-06-01T00:00:00",
          "2007-05-01T00:00:00",
          "2008-02-01T00:00:00",
          "2007-04-01T00:00:00",
          "2010-03-01T00:00:00",
          "2009-06-01T00:00:00",
          "2009-07-01T00:00:00",
          "2006-09-01T00:00:00",
          "2009-09-01T00:00:00",
          "2008-10-01T00:00:00",
          "2009-07-01T00:00:00",
          "2009-06-01T00:00:00",
          "2006-03-01T00:00:00",
          "2006-07-01T00:00:00",
          "2007-06-01T00:00:00",
          "2007-06-01T00:00:00",
          "2009-09-01T00:00:00",
          "2009-08-01T00:00:00",
          "2009-07-01T00:00:00",
          "2007-05-01T00:00:00",
          "2009-06-01T00:00:00",
          "2008-08-01T00:00:00",
          "2007-05-01T00:00:00",
          "2006-10-01T00:00:00",
          "2007-10-01T00:00:00",
          "2007-08-01T00:00:00",
          "2006-04-01T00:00:00",
          "2007-06-01T00:00:00",
          "2008-11-01T00:00:00",
          "2007-07-01T00:00:00",
          "2007-03-01T00:00:00",
          "2008-08-01T00:00:00",
          "2008-06-01T00:00:00",
          "2010-04-01T00:00:00",
          "2007-01-01T00:00:00",
          "2006-10-01T00:00:00",
          "2008-01-01T00:00:00",
          "2008-07-01T00:00:00",
          "2008-04-01T00:00:00",
          "2006-07-01T00:00:00",
          "2010-05-01T00:00:00",
          "2009-03-01T00:00:00",
          "2007-06-01T00:00:00",
          "2009-06-01T00:00:00",
          "2007-06-01T00:00:00",
          "2006-09-01T00:00:00",
          "2006-02-01T00:00:00",
          "2007-05-01T00:00:00",
          "2007-04-01T00:00:00",
          "2008-06-01T00:00:00",
          "2009-11-01T00:00:00",
          "2008-10-01T00:00:00",
          "2008-06-01T00:00:00",
          "2009-07-01T00:00:00",
          "2009-05-01T00:00:00",
          "2008-08-01T00:00:00",
          "2006-08-01T00:00:00",
          "2006-05-01T00:00:00",
          "2006-09-01T00:00:00",
          "2008-08-01T00:00:00",
          "2006-10-01T00:00:00",
          "2010-05-01T00:00:00",
          "2006-04-01T00:00:00",
          "2008-07-01T00:00:00",
          "2008-07-01T00:00:00",
          "2006-07-01T00:00:00",
          "2010-05-01T00:00:00",
          "2008-06-01T00:00:00",
          "2010-03-01T00:00:00",
          "2009-09-01T00:00:00",
          "2006-12-01T00:00:00",
          "2008-11-01T00:00:00",
          "2006-10-01T00:00:00",
          "2009-07-01T00:00:00",
          "2007-12-01T00:00:00",
          "2007-12-01T00:00:00",
          "2008-10-01T00:00:00",
          "2009-08-01T00:00:00",
          "2006-05-01T00:00:00",
          "2008-02-01T00:00:00",
          "2008-11-01T00:00:00",
          "2007-06-01T00:00:00",
          "2009-08-01T00:00:00",
          "2007-05-01T00:00:00",
          "2008-07-01T00:00:00",
          "2009-07-01T00:00:00",
          "2006-03-01T00:00:00",
          "2008-05-01T00:00:00",
          "2009-07-01T00:00:00",
          "2009-06-01T00:00:00",
          "2008-08-01T00:00:00",
          "2008-09-01T00:00:00",
          "2009-06-01T00:00:00",
          "2008-06-01T00:00:00",
          "2009-05-01T00:00:00",
          "2008-04-01T00:00:00",
          "2006-08-01T00:00:00",
          "2006-10-01T00:00:00",
          "2007-02-01T00:00:00",
          "2006-03-01T00:00:00",
          "2008-07-01T00:00:00",
          "2006-06-01T00:00:00",
          "2007-12-01T00:00:00",
          "2006-02-01T00:00:00",
          "2010-06-01T00:00:00",
          "2008-09-01T00:00:00",
          "2009-10-01T00:00:00",
          "2009-11-01T00:00:00",
          "2006-08-01T00:00:00",
          "2007-09-01T00:00:00",
          "2007-04-01T00:00:00",
          "2009-05-01T00:00:00",
          "2007-07-01T00:00:00",
          "2009-11-01T00:00:00",
          "2007-12-01T00:00:00",
          "2010-05-01T00:00:00",
          "2010-05-01T00:00:00",
          "2006-06-01T00:00:00",
          "2008-06-01T00:00:00",
          "2007-07-01T00:00:00",
          "2008-08-01T00:00:00",
          "2008-09-01T00:00:00",
          "2008-06-01T00:00:00",
          "2009-07-01T00:00:00",
          "2007-06-01T00:00:00",
          "2006-11-01T00:00:00",
          "2010-02-01T00:00:00",
          "2007-08-01T00:00:00",
          "2010-03-01T00:00:00",
          "2007-09-01T00:00:00",
          "2008-06-01T00:00:00",
          "2006-06-01T00:00:00",
          "2007-08-01T00:00:00",
          "2009-04-01T00:00:00",
          "2007-07-01T00:00:00",
          "2010-06-01T00:00:00",
          "2007-03-01T00:00:00",
          "2009-01-01T00:00:00",
          "2009-11-01T00:00:00",
          "2008-05-01T00:00:00",
          "2006-10-01T00:00:00",
          "2008-04-01T00:00:00",
          "2007-05-01T00:00:00",
          "2009-07-01T00:00:00",
          "2007-04-01T00:00:00",
          "2009-10-01T00:00:00",
          "2007-03-01T00:00:00",
          "2008-07-01T00:00:00",
          "2008-06-01T00:00:00",
          "2010-06-01T00:00:00",
          "2007-12-01T00:00:00",
          "2008-05-01T00:00:00",
          "2009-10-01T00:00:00",
          "2009-07-01T00:00:00",
          "2008-06-01T00:00:00",
          "2008-08-01T00:00:00",
          "2010-03-01T00:00:00",
          "2008-08-01T00:00:00",
          "2008-02-01T00:00:00",
          "2010-01-01T00:00:00",
          "2009-03-01T00:00:00",
          "2007-11-01T00:00:00",
          "2009-07-01T00:00:00",
          "2009-07-01T00:00:00",
          "2008-04-01T00:00:00",
          "2006-01-01T00:00:00",
          "2006-11-01T00:00:00",
          "2007-08-01T00:00:00",
          "2008-10-01T00:00:00",
          "2006-11-01T00:00:00",
          "2006-07-01T00:00:00",
          "2009-02-01T00:00:00",
          "2009-07-01T00:00:00",
          "2006-06-01T00:00:00",
          "2007-06-01T00:00:00",
          "2008-07-01T00:00:00",
          "2009-04-01T00:00:00",
          "2006-05-01T00:00:00",
          "2009-05-01T00:00:00",
          "2009-07-01T00:00:00",
          "2007-10-01T00:00:00",
          "2010-05-01T00:00:00",
          "2009-07-01T00:00:00",
          "2008-11-01T00:00:00",
          "2007-07-01T00:00:00",
          "2010-06-01T00:00:00",
          "2007-09-01T00:00:00",
          "2007-08-01T00:00:00",
          "2007-03-01T00:00:00",
          "2007-10-01T00:00:00",
          "2007-06-01T00:00:00",
          "2008-05-01T00:00:00",
          "2007-01-01T00:00:00",
          "2006-04-01T00:00:00",
          "2006-12-01T00:00:00",
          "2009-04-01T00:00:00",
          "2006-07-01T00:00:00",
          "2006-06-01T00:00:00",
          "2006-09-01T00:00:00",
          "2010-04-01T00:00:00",
          "2008-07-01T00:00:00",
          "2006-05-01T00:00:00",
          "2006-07-01T00:00:00",
          "2006-07-01T00:00:00",
          "2010-05-01T00:00:00",
          "2010-05-01T00:00:00",
          "2010-07-01T00:00:00",
          "2007-06-01T00:00:00",
          "2009-12-01T00:00:00",
          "2007-07-01T00:00:00",
          "2008-12-01T00:00:00",
          "2008-07-01T00:00:00",
          "2010-01-01T00:00:00",
          "2008-10-01T00:00:00",
          "2006-05-01T00:00:00",
          "2010-03-01T00:00:00",
          "2009-08-01T00:00:00",
          "2007-07-01T00:00:00",
          "2008-11-01T00:00:00",
          "2008-08-01T00:00:00",
          "2006-05-01T00:00:00",
          "2006-12-01T00:00:00",
          "2010-05-01T00:00:00",
          "2009-07-01T00:00:00",
          "2008-05-01T00:00:00",
          "2009-02-01T00:00:00",
          "2009-11-01T00:00:00",
          "2009-12-01T00:00:00",
          "2009-02-01T00:00:00",
          "2009-07-01T00:00:00",
          "2009-01-01T00:00:00",
          "2010-03-01T00:00:00",
          "2007-05-01T00:00:00",
          "2008-07-01T00:00:00",
          "2009-03-01T00:00:00",
          "2007-05-01T00:00:00",
          "2006-10-01T00:00:00",
          "2006-07-01T00:00:00",
          "2006-06-01T00:00:00",
          "2009-03-01T00:00:00",
          "2009-04-01T00:00:00",
          "2007-05-01T00:00:00",
          "2008-05-01T00:00:00",
          "2007-12-01T00:00:00",
          "2009-10-01T00:00:00",
          "2008-10-01T00:00:00",
          "2008-07-01T00:00:00",
          "2009-04-01T00:00:00",
          "2009-05-01T00:00:00",
          "2010-03-01T00:00:00",
          "2009-04-01T00:00:00",
          "2010-06-01T00:00:00",
          "2007-08-01T00:00:00",
          "2006-07-01T00:00:00",
          "2006-03-01T00:00:00",
          "2009-07-01T00:00:00",
          "2009-03-01T00:00:00",
          "2009-04-01T00:00:00",
          "2010-04-01T00:00:00",
          "2008-08-01T00:00:00",
          "2007-11-01T00:00:00",
          "2009-10-01T00:00:00",
          "2009-10-01T00:00:00",
          "2010-06-01T00:00:00",
          "2009-07-01T00:00:00",
          "2006-04-01T00:00:00",
          "2008-08-01T00:00:00",
          "2010-03-01T00:00:00",
          "2008-07-01T00:00:00",
          "2006-10-01T00:00:00",
          "2010-06-01T00:00:00",
          "2009-04-01T00:00:00",
          "2006-04-01T00:00:00",
          "2010-03-01T00:00:00",
          "2007-07-01T00:00:00",
          "2007-07-01T00:00:00",
          "2009-06-01T00:00:00",
          "2006-07-01T00:00:00",
          "2006-06-01T00:00:00",
          "2007-10-01T00:00:00",
          "2006-05-01T00:00:00",
          "2007-06-01T00:00:00",
          "2006-07-01T00:00:00",
          "2009-06-01T00:00:00",
          "2009-07-01T00:00:00",
          "2008-06-01T00:00:00",
          "2009-09-01T00:00:00",
          "2010-06-01T00:00:00",
          "2010-01-01T00:00:00",
          "2008-08-01T00:00:00",
          "2007-07-01T00:00:00",
          "2009-09-01T00:00:00",
          "2007-05-01T00:00:00",
          "2007-06-01T00:00:00",
          "2007-06-01T00:00:00",
          "2008-10-01T00:00:00",
          "2010-04-01T00:00:00",
          "2007-04-01T00:00:00",
          "2008-04-01T00:00:00",
          "2009-07-01T00:00:00",
          "2007-06-01T00:00:00",
          "2008-05-01T00:00:00",
          "2007-07-01T00:00:00",
          "2008-10-01T00:00:00",
          "2009-01-01T00:00:00",
          "2006-06-01T00:00:00",
          "2008-07-01T00:00:00",
          "2006-10-01T00:00:00",
          "2009-05-01T00:00:00",
          "2006-06-01T00:00:00",
          "2009-11-01T00:00:00",
          "2006-01-01T00:00:00",
          "2008-06-01T00:00:00",
          "2010-06-01T00:00:00",
          "2007-04-01T00:00:00",
          "2006-07-01T00:00:00",
          "2010-05-01T00:00:00",
          "2006-07-01T00:00:00",
          "2008-07-01T00:00:00",
          "2010-06-01T00:00:00",
          "2010-06-01T00:00:00",
          "2008-06-01T00:00:00",
          "2009-02-01T00:00:00",
          "2007-10-01T00:00:00",
          "2009-07-01T00:00:00",
          "2006-06-01T00:00:00",
          "2008-06-01T00:00:00",
          "2008-05-01T00:00:00",
          "2009-04-01T00:00:00",
          "2009-06-01T00:00:00",
          "2006-07-01T00:00:00",
          "2008-06-01T00:00:00",
          "2006-06-01T00:00:00",
          "2010-01-01T00:00:00",
          "2009-02-01T00:00:00",
          "2008-09-01T00:00:00",
          "2010-02-01T00:00:00",
          "2007-06-01T00:00:00",
          "2008-11-01T00:00:00",
          "2008-06-01T00:00:00",
          "2008-05-01T00:00:00",
          "2008-03-01T00:00:00",
          "2008-06-01T00:00:00",
          "2008-05-01T00:00:00",
          "2007-07-01T00:00:00",
          "2008-06-01T00:00:00",
          "2007-01-01T00:00:00",
          "2009-07-01T00:00:00",
          "2009-08-01T00:00:00",
          "2008-09-01T00:00:00",
          "2007-08-01T00:00:00",
          "2007-11-01T00:00:00",
          "2006-05-01T00:00:00",
          "2007-08-01T00:00:00",
          "2009-08-01T00:00:00",
          "2006-07-01T00:00:00",
          "2010-04-01T00:00:00",
          "2008-10-01T00:00:00",
          "2009-03-01T00:00:00",
          "2009-06-01T00:00:00",
          "2006-08-01T00:00:00",
          "2007-06-01T00:00:00",
          "2010-04-01T00:00:00",
          "2010-05-01T00:00:00",
          "2009-07-01T00:00:00",
          "2008-05-01T00:00:00",
          "2009-08-01T00:00:00",
          "2007-11-01T00:00:00",
          "2007-05-01T00:00:00",
          "2006-05-01T00:00:00",
          "2010-06-01T00:00:00",
          "2009-08-01T00:00:00",
          "2010-06-01T00:00:00",
          "2008-10-01T00:00:00",
          "2009-09-01T00:00:00",
          "2009-08-01T00:00:00",
          "2007-08-01T00:00:00",
          "2007-01-01T00:00:00",
          "2009-06-01T00:00:00",
          "2010-06-01T00:00:00",
          "2009-07-01T00:00:00",
          "2007-06-01T00:00:00",
          "2007-04-01T00:00:00",
          "2009-12-01T00:00:00",
          "2006-03-01T00:00:00",
          "2009-07-01T00:00:00",
          "2008-01-01T00:00:00",
          "2006-06-01T00:00:00",
          "2008-04-01T00:00:00",
          "2007-10-01T00:00:00",
          "2009-02-01T00:00:00",
          "2007-07-01T00:00:00",
          "2009-07-01T00:00:00",
          "2006-02-01T00:00:00",
          "2008-06-01T00:00:00",
          "2009-06-01T00:00:00",
          "2008-10-01T00:00:00",
          "2006-04-01T00:00:00",
          "2009-06-01T00:00:00",
          "2010-03-01T00:00:00",
          "2006-06-01T00:00:00",
          "2007-06-01T00:00:00",
          "2009-05-01T00:00:00",
          "2006-07-01T00:00:00",
          "2006-08-01T00:00:00",
          "2007-08-01T00:00:00",
          "2010-02-01T00:00:00",
          "2007-06-01T00:00:00",
          "2006-06-01T00:00:00",
          "2006-06-01T00:00:00",
          "2009-06-01T00:00:00",
          "2010-01-01T00:00:00",
          "2009-10-01T00:00:00",
          "2006-07-01T00:00:00",
          "2007-08-01T00:00:00",
          "2009-06-01T00:00:00",
          "2007-01-01T00:00:00",
          "2006-10-01T00:00:00",
          "2009-04-01T00:00:00",
          "2007-11-01T00:00:00",
          "2008-05-01T00:00:00",
          "2007-07-01T00:00:00",
          "2008-09-01T00:00:00",
          "2006-10-01T00:00:00",
          "2008-07-01T00:00:00",
          "2006-05-01T00:00:00",
          "2008-03-01T00:00:00",
          "2007-05-01T00:00:00",
          "2008-04-01T00:00:00",
          "2009-06-01T00:00:00",
          "2006-11-01T00:00:00",
          "2009-07-01T00:00:00",
          "2009-07-01T00:00:00",
          "2007-03-01T00:00:00",
          "2009-08-01T00:00:00",
          "2008-11-01T00:00:00",
          "2006-06-01T00:00:00",
          "2009-08-01T00:00:00",
          "2009-02-01T00:00:00",
          "2006-08-01T00:00:00",
          "2010-06-01T00:00:00",
          "2006-07-01T00:00:00",
          "2009-06-01T00:00:00",
          "2007-08-01T00:00:00",
          "2007-06-01T00:00:00",
          "2009-01-01T00:00:00",
          "2009-09-01T00:00:00",
          "2006-03-01T00:00:00",
          "2007-11-01T00:00:00",
          "2006-02-01T00:00:00",
          "2010-03-01T00:00:00",
          "2007-07-01T00:00:00",
          "2006-07-01T00:00:00",
          "2009-04-01T00:00:00",
          "2008-09-01T00:00:00",
          "2006-10-01T00:00:00",
          "2007-08-01T00:00:00",
          "2009-05-01T00:00:00",
          "2007-04-01T00:00:00",
          "2007-10-01T00:00:00",
          "2010-05-01T00:00:00",
          "2010-02-01T00:00:00",
          "2008-07-01T00:00:00",
          "2007-07-01T00:00:00",
          "2009-05-01T00:00:00",
          "2010-02-01T00:00:00",
          "2007-07-01T00:00:00",
          "2009-06-01T00:00:00",
          "2008-07-01T00:00:00",
          "2009-05-01T00:00:00",
          "2006-03-01T00:00:00",
          "2006-12-01T00:00:00",
          "2009-07-01T00:00:00",
          "2010-04-01T00:00:00",
          "2008-12-01T00:00:00",
          "2009-10-01T00:00:00",
          "2006-04-01T00:00:00",
          "2006-08-01T00:00:00",
          "2007-11-01T00:00:00",
          "2007-05-01T00:00:00",
          "2009-06-01T00:00:00",
          "2008-07-01T00:00:00",
          "2009-07-01T00:00:00",
          "2008-03-01T00:00:00",
          "2008-05-01T00:00:00",
          "2009-08-01T00:00:00",
          "2008-08-01T00:00:00",
          "2006-06-01T00:00:00",
          "2010-04-01T00:00:00",
          "2007-06-01T00:00:00",
          "2006-08-01T00:00:00",
          "2006-06-01T00:00:00",
          "2009-11-01T00:00:00",
          "2007-07-01T00:00:00",
          "2006-08-01T00:00:00",
          "2009-07-01T00:00:00",
          "2006-08-01T00:00:00",
          "2006-01-01T00:00:00",
          "2009-02-01T00:00:00",
          "2006-05-01T00:00:00",
          "2010-02-01T00:00:00",
          "2009-07-01T00:00:00",
          "2007-01-01T00:00:00",
          "2008-07-01T00:00:00",
          "2007-06-01T00:00:00",
          "2009-05-01T00:00:00",
          "2008-11-01T00:00:00",
          "2007-03-01T00:00:00",
          "2009-08-01T00:00:00",
          "2009-04-01T00:00:00",
          "2006-06-01T00:00:00",
          "2008-08-01T00:00:00",
          "2010-05-01T00:00:00",
          "2007-08-01T00:00:00",
          "2009-06-01T00:00:00",
          "2007-11-01T00:00:00",
          "2009-11-01T00:00:00",
          "2009-06-01T00:00:00",
          "2009-08-01T00:00:00",
          "2007-05-01T00:00:00",
          "2006-04-01T00:00:00",
          "2008-06-01T00:00:00",
          "2006-07-01T00:00:00",
          "2007-03-01T00:00:00",
          "2008-05-01T00:00:00",
          "2008-05-01T00:00:00",
          "2007-03-01T00:00:00",
          "2010-04-01T00:00:00",
          "2008-04-01T00:00:00",
          "2007-04-01T00:00:00",
          "2006-05-01T00:00:00",
          "2006-07-01T00:00:00",
          "2009-08-01T00:00:00",
          "2006-11-01T00:00:00",
          "2006-02-01T00:00:00",
          "2007-06-01T00:00:00",
          "2009-01-01T00:00:00",
          "2009-09-01T00:00:00",
          "2008-09-01T00:00:00",
          "2009-05-01T00:00:00",
          "2009-04-01T00:00:00",
          "2006-01-01T00:00:00",
          "2008-07-01T00:00:00",
          "2009-08-01T00:00:00",
          "2008-05-01T00:00:00",
          "2009-07-01T00:00:00",
          "2009-06-01T00:00:00",
          "2006-07-01T00:00:00",
          "2008-02-01T00:00:00",
          "2009-11-01T00:00:00",
          "2010-04-01T00:00:00",
          "2007-08-01T00:00:00",
          "2007-10-01T00:00:00",
          "2007-06-01T00:00:00",
          "2010-05-01T00:00:00",
          "2006-11-01T00:00:00",
          "2008-05-01T00:00:00",
          "2006-06-01T00:00:00",
          "2009-01-01T00:00:00",
          "2009-07-01T00:00:00",
          "2007-03-01T00:00:00",
          "2010-04-01T00:00:00",
          "2008-08-01T00:00:00",
          "2007-09-01T00:00:00",
          "2006-07-01T00:00:00",
          "2009-11-01T00:00:00",
          "2010-04-01T00:00:00",
          "2009-05-01T00:00:00",
          "2008-06-01T00:00:00",
          "2006-06-01T00:00:00",
          "2007-05-01T00:00:00",
          "2007-06-01T00:00:00",
          "2009-05-01T00:00:00",
          "2006-08-01T00:00:00",
          "2009-07-01T00:00:00",
          "2007-05-01T00:00:00",
          "2007-07-01T00:00:00",
          "2006-04-01T00:00:00",
          "2006-03-01T00:00:00",
          "2006-05-01T00:00:00",
          "2007-04-01T00:00:00",
          "2008-10-01T00:00:00",
          "2010-06-01T00:00:00",
          "2007-09-01T00:00:00",
          "2006-03-01T00:00:00",
          "2006-07-01T00:00:00",
          "2010-04-01T00:00:00",
          "2010-05-01T00:00:00",
          "2009-05-01T00:00:00",
          "2006-04-01T00:00:00",
          "2006-04-01T00:00:00",
          "2009-06-01T00:00:00",
          "2008-03-01T00:00:00",
          "2008-06-01T00:00:00",
          "2006-10-01T00:00:00",
          "2010-05-01T00:00:00",
          "2007-03-01T00:00:00",
          "2007-03-01T00:00:00",
          "2007-10-01T00:00:00",
          "2009-07-01T00:00:00",
          "2009-04-01T00:00:00",
          "2009-01-01T00:00:00",
          "2007-07-01T00:00:00",
          "2007-04-01T00:00:00",
          "2006-07-01T00:00:00",
          "2007-04-01T00:00:00",
          "2010-04-01T00:00:00",
          "2007-05-01T00:00:00",
          "2006-09-01T00:00:00",
          "2007-11-01T00:00:00",
          "2009-03-01T00:00:00",
          "2008-06-01T00:00:00",
          "2008-09-01T00:00:00",
          "2006-07-01T00:00:00",
          "2007-05-01T00:00:00",
          "2006-08-01T00:00:00",
          "2007-11-01T00:00:00",
          "2009-03-01T00:00:00",
          "2008-05-01T00:00:00",
          "2008-12-01T00:00:00",
          "2006-07-01T00:00:00",
          "2007-05-01T00:00:00",
          "2006-07-01T00:00:00",
          "2009-10-01T00:00:00",
          "2009-06-01T00:00:00",
          "2007-07-01T00:00:00",
          "2009-11-01T00:00:00",
          "2009-06-01T00:00:00",
          "2007-11-01T00:00:00",
          "2007-07-01T00:00:00",
          "2007-08-01T00:00:00",
          "2009-12-01T00:00:00",
          "2007-09-01T00:00:00",
          "2007-05-01T00:00:00",
          "2009-06-01T00:00:00",
          "2007-08-01T00:00:00",
          "2007-05-01T00:00:00",
          "2008-04-01T00:00:00",
          "2010-05-01T00:00:00",
          "2009-05-01T00:00:00",
          "2007-05-01T00:00:00",
          "2008-06-01T00:00:00",
          "2009-10-01T00:00:00",
          "2007-04-01T00:00:00",
          "2008-07-01T00:00:00",
          "2010-07-01T00:00:00",
          "2006-08-01T00:00:00",
          "2006-05-01T00:00:00",
          "2009-07-01T00:00:00",
          "2008-08-01T00:00:00",
          "2009-07-01T00:00:00",
          "2007-11-01T00:00:00",
          "2006-11-01T00:00:00",
          "2006-07-01T00:00:00",
          "2008-06-01T00:00:00",
          "2008-05-01T00:00:00",
          "2007-07-01T00:00:00",
          "2008-10-01T00:00:00",
          "2009-07-01T00:00:00",
          "2008-06-01T00:00:00",
          "2008-07-01T00:00:00",
          "2010-07-01T00:00:00",
          "2008-11-01T00:00:00",
          "2007-05-01T00:00:00",
          "2008-01-01T00:00:00",
          "2007-06-01T00:00:00",
          "2009-09-01T00:00:00",
          "2010-02-01T00:00:00",
          "2006-02-01T00:00:00",
          "2008-07-01T00:00:00",
          "2006-07-01T00:00:00",
          "2008-07-01T00:00:00",
          "2008-11-01T00:00:00",
          "2008-03-01T00:00:00",
          "2007-03-01T00:00:00",
          "2006-07-01T00:00:00",
          "2007-04-01T00:00:00",
          "2008-10-01T00:00:00",
          "2009-12-01T00:00:00",
          "2009-07-01T00:00:00",
          "2006-04-01T00:00:00",
          "2006-04-01T00:00:00",
          "2008-11-01T00:00:00",
          "2007-07-01T00:00:00",
          "2006-06-01T00:00:00",
          "2007-05-01T00:00:00",
          "2006-03-01T00:00:00",
          "2009-08-01T00:00:00",
          "2006-07-01T00:00:00",
          "2009-07-01T00:00:00",
          "2010-06-01T00:00:00",
          "2007-03-01T00:00:00",
          "2007-11-01T00:00:00",
          "2007-07-01T00:00:00",
          "2009-06-01T00:00:00",
          "2010-03-01T00:00:00",
          "2008-07-01T00:00:00",
          "2006-11-01T00:00:00",
          "2006-07-01T00:00:00",
          "2009-06-01T00:00:00",
          "2006-10-01T00:00:00",
          "2006-07-01T00:00:00",
          "2009-03-01T00:00:00",
          "2009-05-01T00:00:00",
          "2009-10-01T00:00:00",
          "2006-07-01T00:00:00",
          "2009-06-01T00:00:00",
          "2006-11-01T00:00:00",
          "2006-05-01T00:00:00",
          "2008-10-01T00:00:00",
          "2006-05-01T00:00:00",
          "2010-05-01T00:00:00",
          "2010-06-01T00:00:00",
          "2009-08-01T00:00:00",
          "2006-05-01T00:00:00",
          "2006-05-01T00:00:00",
          "2007-05-01T00:00:00",
          "2010-04-01T00:00:00",
          "2009-09-01T00:00:00",
          "2006-07-01T00:00:00",
          "2006-04-01T00:00:00",
          "2006-11-01T00:00:00",
          "2008-08-01T00:00:00",
          "2007-01-01T00:00:00",
          "2006-10-01T00:00:00",
          "2008-02-01T00:00:00",
          "2007-06-01T00:00:00",
          "2008-01-01T00:00:00",
          "2008-12-01T00:00:00",
          "2008-10-01T00:00:00",
          "2008-08-01T00:00:00",
          "2007-08-01T00:00:00",
          "2006-05-01T00:00:00",
          "2007-03-01T00:00:00",
          "2010-05-01T00:00:00",
          "2008-11-01T00:00:00",
          "2006-07-01T00:00:00",
          "2010-06-01T00:00:00",
          "2006-09-01T00:00:00",
          "2006-03-01T00:00:00",
          "2007-12-01T00:00:00",
          "2008-07-01T00:00:00",
          "2007-06-01T00:00:00",
          "2010-01-01T00:00:00",
          "2006-09-01T00:00:00",
          "2006-06-01T00:00:00",
          "2007-01-01T00:00:00",
          "2006-03-01T00:00:00",
          "2010-05-01T00:00:00",
          "2008-04-01T00:00:00",
          "2007-05-01T00:00:00",
          "2010-04-01T00:00:00",
          "2006-03-01T00:00:00",
          "2009-11-01T00:00:00",
          "2007-07-01T00:00:00",
          "2008-07-01T00:00:00",
          "2007-11-01T00:00:00",
          "2008-08-01T00:00:00",
          "2009-07-01T00:00:00",
          "2008-07-01T00:00:00",
          "2008-07-01T00:00:00",
          "2009-06-01T00:00:00",
          "2009-06-01T00:00:00",
          "2009-11-01T00:00:00",
          "2007-07-01T00:00:00",
          "2008-08-01T00:00:00",
          "2006-03-01T00:00:00",
          "2007-01-01T00:00:00",
          "2010-05-01T00:00:00",
          "2008-05-01T00:00:00",
          "2007-07-01T00:00:00",
          "2010-04-01T00:00:00",
          "2009-08-01T00:00:00",
          "2006-11-01T00:00:00",
          "2008-05-01T00:00:00",
          "2007-11-01T00:00:00",
          "2007-07-01T00:00:00",
          "2009-12-01T00:00:00",
          "2009-06-01T00:00:00",
          "2008-03-01T00:00:00",
          "2010-04-01T00:00:00",
          "2009-03-01T00:00:00",
          "2006-07-01T00:00:00",
          "2009-09-01T00:00:00",
          "2010-04-01T00:00:00",
          "2010-03-01T00:00:00",
          "2009-05-01T00:00:00",
          "2010-06-01T00:00:00",
          "2006-06-01T00:00:00",
          "2009-10-01T00:00:00",
          "2006-10-01T00:00:00",
          "2010-04-01T00:00:00",
          "2009-02-01T00:00:00",
          "2009-12-01T00:00:00",
          "2006-03-01T00:00:00",
          "2006-04-01T00:00:00",
          "2006-11-01T00:00:00",
          "2008-12-01T00:00:00",
          "2006-06-01T00:00:00",
          "2008-01-01T00:00:00",
          "2010-05-01T00:00:00",
          "2009-05-01T00:00:00",
          "2009-11-01T00:00:00",
          "2006-12-01T00:00:00",
          "2006-04-01T00:00:00",
          "2006-04-01T00:00:00",
          "2009-11-01T00:00:00",
          "2006-09-01T00:00:00",
          "2009-05-01T00:00:00",
          "2008-05-01T00:00:00",
          "2008-06-01T00:00:00",
          "2010-05-01T00:00:00",
          "2007-01-01T00:00:00",
          "2007-06-01T00:00:00",
          "2010-05-01T00:00:00",
          "2007-10-01T00:00:00",
          "2008-06-01T00:00:00",
          "2009-01-01T00:00:00",
          "2007-04-01T00:00:00",
          "2006-08-01T00:00:00",
          "2007-02-01T00:00:00",
          "2009-06-01T00:00:00",
          "2008-07-01T00:00:00",
          "2010-06-01T00:00:00",
          "2009-12-01T00:00:00",
          "2007-02-01T00:00:00",
          "2008-01-01T00:00:00",
          "2007-05-01T00:00:00",
          "2008-10-01T00:00:00",
          "2008-06-01T00:00:00",
          "2006-06-01T00:00:00",
          "2007-12-01T00:00:00",
          "2006-07-01T00:00:00",
          "2009-05-01T00:00:00",
          "2006-07-01T00:00:00",
          "2009-05-01T00:00:00",
          "2009-04-01T00:00:00",
          "2008-11-01T00:00:00",
          "2006-03-01T00:00:00",
          "2006-06-01T00:00:00",
          "2006-06-01T00:00:00",
          "2007-06-01T00:00:00",
          "2008-07-01T00:00:00",
          "2007-08-01T00:00:00",
          "2009-03-01T00:00:00",
          "2007-07-01T00:00:00",
          "2007-07-01T00:00:00",
          "2006-06-01T00:00:00",
          "2007-05-01T00:00:00",
          "2007-08-01T00:00:00",
          "2008-12-01T00:00:00",
          "2009-08-01T00:00:00",
          "2008-03-01T00:00:00",
          "2009-07-01T00:00:00",
          "2010-03-01T00:00:00",
          "2008-06-01T00:00:00",
          "2006-09-01T00:00:00",
          "2008-10-01T00:00:00",
          "2010-04-01T00:00:00",
          "2010-06-01T00:00:00",
          "2006-09-01T00:00:00",
          "2008-05-01T00:00:00",
          "2009-06-01T00:00:00",
          "2009-06-01T00:00:00",
          "2007-03-01T00:00:00",
          "2006-04-01T00:00:00",
          "2010-01-01T00:00:00",
          "2008-06-01T00:00:00",
          "2006-07-01T00:00:00",
          "2009-06-01T00:00:00",
          "2010-05-01T00:00:00",
          "2009-10-01T00:00:00",
          "2008-10-01T00:00:00",
          "2006-06-01T00:00:00",
          "2007-03-01T00:00:00",
          "2008-07-01T00:00:00",
          "2007-12-01T00:00:00",
          "2008-04-01T00:00:00",
          "2009-07-01T00:00:00",
          "2006-06-01T00:00:00",
          "2008-05-01T00:00:00",
          "2010-06-01T00:00:00",
          "2008-05-01T00:00:00",
          "2006-10-01T00:00:00",
          "2007-08-01T00:00:00",
          "2009-10-01T00:00:00",
          "2010-05-01T00:00:00",
          "2006-07-01T00:00:00",
          "2007-08-01T00:00:00",
          "2009-10-01T00:00:00",
          "2007-03-01T00:00:00",
          "2006-09-01T00:00:00",
          "2009-04-01T00:00:00",
          "2006-12-01T00:00:00",
          "2008-04-01T00:00:00",
          "2006-10-01T00:00:00",
          "2007-02-01T00:00:00",
          "2010-06-01T00:00:00",
          "2007-05-01T00:00:00",
          "2009-05-01T00:00:00",
          "2009-10-01T00:00:00",
          "2008-07-01T00:00:00",
          "2008-04-01T00:00:00",
          "2006-07-01T00:00:00",
          "2007-08-01T00:00:00",
          "2006-01-01T00:00:00",
          "2008-01-01T00:00:00",
          "2009-03-01T00:00:00",
          "2009-03-01T00:00:00",
          "2010-06-01T00:00:00",
          "2008-11-01T00:00:00",
          "2009-06-01T00:00:00",
          "2009-09-01T00:00:00",
          "2009-06-01T00:00:00",
          "2009-09-01T00:00:00",
          "2008-06-01T00:00:00",
          "2009-05-01T00:00:00",
          "2010-04-01T00:00:00",
          "2009-05-01T00:00:00",
          "2008-08-01T00:00:00",
          "2006-12-01T00:00:00",
          "2006-05-01T00:00:00",
          "2010-07-01T00:00:00",
          "2008-03-01T00:00:00",
          "2006-08-01T00:00:00",
          "2007-06-01T00:00:00",
          "2008-10-01T00:00:00",
          "2008-08-01T00:00:00",
          "2008-04-01T00:00:00",
          "2010-02-01T00:00:00",
          "2007-04-01T00:00:00",
          "2006-07-01T00:00:00",
          "2009-10-01T00:00:00",
          "2007-08-01T00:00:00",
          "2008-05-01T00:00:00",
          "2006-05-01T00:00:00",
          "2008-07-01T00:00:00",
          "2007-05-01T00:00:00",
          "2008-11-01T00:00:00",
          "2010-04-01T00:00:00",
          "2007-11-01T00:00:00",
          "2008-09-01T00:00:00",
          "2008-05-01T00:00:00",
          "2009-04-01T00:00:00",
          "2009-05-01T00:00:00",
          "2007-11-01T00:00:00",
          "2007-05-01T00:00:00",
          "2010-04-01T00:00:00",
          "2007-12-01T00:00:00",
          "2007-05-01T00:00:00",
          "2006-08-01T00:00:00",
          "2009-09-01T00:00:00",
          "2009-05-01T00:00:00",
          "2006-05-01T00:00:00",
          "2006-07-01T00:00:00",
          "2009-10-01T00:00:00",
          "2007-08-01T00:00:00",
          "2010-02-01T00:00:00",
          "2010-05-01T00:00:00",
          "2010-04-01T00:00:00",
          "2008-06-01T00:00:00"
         ],
         "xaxis": "x2",
         "y": [
          121.9298245614035,
          143.81933438985737,
          125.13997760358343,
          81.537565521258,
          113.73976342129208,
          104.99265785609398,
          181.22786304604486,
          95.69377990430623,
          73.22435174746336,
          109.5636025998143,
          124.51923076923077,
          148.4509466437177,
          157.89473684210526,
          187.08165997322624,
          125.29928172386273,
          154.56674473067915,
          148.40637450199202,
          69.44444444444444,
          142.72890484739676,
          103.80881254667662,
          136.91077441077442,
          125.81227436823104,
          128.13370473537606,
          122.54716981132076,
          145.28301886792454,
          160.1875,
          149.77777777777777,
          179.57746478873239,
          129.6875,
          131.73076923076923,
          30.372057706909644,
          121.62052117263843,
          145.78606158833063,
          97.3529411764706,
          177.7706598334401,
          126.01957585644372,
          132.17866909753874,
          117.96453353893601,
          103.12204351939451,
          71.18055555555556,
          120.84592145015105,
          128.0120481927711,
          162.89592760180994,
          138.8592750533049,
          122.6086956521739,
          182.59132420091325,
          111.53373662168451,
          150.78502415458937,
          77.8236914600551,
          132.98429319371726,
          120.40816326530613,
          97.3639455782313,
          134.80392156862746,
          209.01194353963083,
          95.58823529411765,
          126.66666666666667,
          99.19493962047153,
          114.24418604651163,
          148.99151103565364,
          160.12820512820514,
          136.44214162348877,
          90.9090909090909,
          147.8102189781022,
          81.87134502923976,
          107.91543756145526,
          128.1843914274161,
          81.55867693701857,
          152.80594996619337,
          107.095046854083,
          98.38216003498033,
          109.76158344579397,
          153.25443786982248,
          107.68335273573923,
          133.4254143646409,
          66.91588785046729,
          92.10526315789474,
          142.59453781512605,
          98.83268482490273,
          77.20588235294117,
          89.4308943089431,
          90.33613445378151,
          114.80927449513837,
          156.7498400511836,
          118.77934272300469,
          114.31478968792402,
          107.57136946628052,
          111.53846153846153,
          134.3954248366013,
          55.70117955439056,
          124.84848484848484,
          105.67307692307692,
          79.83805668016194,
          169.6058091286307,
          58.44609340899171,
          114.64165733482643,
          125.85034013605443,
          134.76070528967256,
          98.69791666666667,
          99.40119760479043,
          105.26530612244898,
          127.32919254658385,
          102.77136258660508,
          77.50097719869707,
          162.23491027732464,
          93.23432343234323,
          125.50200803212851,
          95.51098376313276,
          145.75411913814955,
          75.80751483190508,
          103.03687635574838,
          73.80053908355795,
          125.87412587412588,
          142.4221068249258,
          96.06020362992474,
          111.85344827586206,
          120.71330589849109,
          127.28937728937728,
          137.77777777777777,
          99.31719428926132,
          112.63049450549451,
          182.18623481781376,
          89.04719501335708,
          125.92592592592592,
          128.35696413678065,
          114.12358133669609,
          112.06896551724138,
          133.61169102296452,
          103.57142857142857,
          114.98516320474778,
          142.45014245014244,
          104.77515067222996,
          118.79259980525804,
          113.60211002260739,
          169.7530864197531,
          104.59035444509006,
          103.44827586206897,
          117.79242174629324,
          87.28943338437979,
          124.19006479481641,
          131.2358276643991,
          133.10185185185185,
          149.94232987312571,
          119.85559566787003,
          135.90939373750834,
          72.33796296296296,
          76.06787595084845,
          120,
          109.33660933660934,
          130.55555555555554,
          85.56547619047619,
          125.90299277605779,
          217.77894736842106,
          95.33366783743101,
          187.6996805111821,
          104.16666666666667,
          72.08029197080292,
          105.28846153846153,
          136.9410569105691,
          130.91936312275294,
          129.97562956945572,
          131.89935064935065,
          154.61019490254873,
          142.76443867618428,
          117.00680272108843,
          94.05940594059406,
          94.09594095940959,
          101.76754151044456,
          150.68209162424805,
          106.68604651162791,
          133.5676625659051,
          92.98118668596237,
          129.83091787439614,
          135.2574985851726,
          119.67694566813509,
          111.44760751059964,
          112.60426320667284,
          102.42718446601941,
          89.84375,
          224.636078782453,
          103.30578512396694,
          116.06557377049181,
          111.04328523862375,
          89.55223880597015,
          96.06147934678194,
          101.43769968051119,
          131.6518847006652,
          142.15283483976992,
          81.52173913043478,
          125.27532679738562,
          179.5354676710609,
          115.51155115511551,
          124.40838404327248,
          134.17190775681343,
          76.06787595084845,
          146.99074074074073,
          101.99175824175825,
          180.69061413673234,
          75.51413881748071,
          46.657694033198744,
          160.4786923525978,
          124.88849241748439,
          134.08913213448005,
          85.49618320610686,
          175.70754716981133,
          85.66978193146417,
          125.17337031900139,
          84.84669811320755,
          128.1818181818182,
          134.33559650824444,
          132.78388278388277,
          113.42592592592592,
          153.46534653465346,
          136.4352051835853,
          157.57575757575756,
          116.19971264367815,
          108.77831715210355,
          146.23955431754874,
          80.57228915662651,
          159.41658137154556,
          134.00641025641025,
          136.78237650200268,
          88.2223202470225,
          115.91494845360825,
          112.26851851851852,
          161.4757525083612,
          86.02150537634408,
          115.07936507936508,
          107.39614994934144,
          137.06140350877192,
          123.79421221864952,
          123.95309882747068,
          144.23765211166787,
          95.74468085106383,
          143.40044742729307,
          110.45918367346938,
          90.67882472137791,
          131.1881188118812,
          111.52522935779817,
          187.72136953955135,
          75.99193006052455,
          167.62452107279694,
          127.59815242494226,
          54.861111111111114,
          98.60312243221036,
          97.1563981042654,
          129.00641025641025,
          71.05809128630706,
          101.81818181818181,
          107.9136690647482,
          129.19776119402985,
          58.575803981623274,
          144.6153846153846,
          105.48780487804878,
          121.35176651305683,
          110.35007610350075,
          100.39284155390659,
          120.08101851851852,
          137.1571072319202,
          129.18526785714286,
          109.97732426303855,
          127.35166425470332,
          107.22610722610723,
          124.58745874587459,
          98.78419452887537,
          95.54973821989529,
          123.41772151898734,
          122.43547319655858,
          81.88868613138686,
          154.88431876606683,
          132.973944294699,
          137.1841155234657,
          177.1826852531181,
          127.7533039647577,
          85.17156862745098,
          152.5735294117647,
          132.42894056847544,
          128.84615384615384,
          163.19444444444446,
          195.8029231494578,
          94.95548961424332,
          115.28758829465187,
          146.59270998415215,
          157.91476407914763,
          166.62125340599454,
          113.77777777777777,
          131.76,
          91.6955017301038,
          102.56410256410257,
          135.55555555555554,
          110.01074498567336,
          121.5372589890568,
          79.1958041958042,
          76.34032634032634,
          103.844454264251,
          101.58150851581509,
          142.073778664008,
          97.5609756097561,
          122.56410256410257,
          100.40160642570281,
          137.58680555555554,
          117.51497005988024,
          108.89070146818923,
          133.03049967553537,
          167.67337807606265,
          84.45462353277985,
          152.95,
          100.31208203299153,
          63.65576102418208,
          95.81881533101046,
          185.1851851851852,
          110.32644903397735,
          135.80246913580248,
          107.24508050089446,
          184.18467583497053,
          108.47044485070079,
          131.6340782122905,
          110.49723756906077,
          137.82542113323123,
          98.26152683295541,
          127.37771739130434,
          131.98882896764252,
          143.4359805510535,
          110.25641025641026,
          108.49097162510748,
          81.26259234385493,
          108.34371108343711,
          188.48167539267016,
          105.02530730296456,
          100.51546391752578,
          65.43624161073825,
          68.86574074074075,
          131.62878787878788,
          174.3400859422959,
          152.43004418262151,
          117.21611721611721,
          128.19148936170214,
          196.37148803329865,
          139.32291666666666,
          124.92288710672425,
          127.57201646090535,
          106.34171907756813,
          97.50297265160523,
          84.13461538461539,
          157.95724465558195,
          76.43884892086331,
          88.90298034242232,
          158.1419624217119,
          106.56292286874154,
          94.71094710947109,
          160.24706744868035,
          170.17710005350455,
          130.7639366827254,
          85.5085508550855,
          147.08333333333334,
          87.7742946708464,
          147.91666666666666,
          148.2433590402742,
          117.33800350262698,
          96.15384615384616,
          145.53014553014552,
          171.05263157894737,
          96.34551495016612,
          103.27783558792925,
          119.55420466058764,
          120.71156289707751,
          109.375,
          114.06025824964132,
          115.30398322851153,
          104.10094637223975,
          125.87412587412588,
          103.60576923076923,
          84.65491183879094,
          166.22340425531914,
          93.2524639878696,
          113.84854771784232,
          67.47787610619469,
          161.92560175054706,
          137.87510137875103,
          212.51724137931035,
          99.44444444444444,
          75.10348905972798,
          144.31206764027672,
          118.80912632164718,
          96.93877551020408,
          122.88786482334869,
          151.30023640661938,
          68.41216216216216,
          111.11111111111111,
          129.14131169709262,
          182.67581475128645,
          87.05193855157279,
          109.63793982661907,
          120.74829931972789,
          126.90355329949239,
          105.41586073500967,
          112.76223776223776,
          137.58389261744966,
          93.54304635761589,
          62.20984215413185,
          155.48387096774192,
          190.6055900621118,
          125.94656488549619,
          160.71428571428572,
          114.00795404330535,
          106.87022900763358,
          92.5925925925926,
          70.1647345942648,
          105.35714285714286,
          128.9134438305709,
          163.4985563041386,
          47.02194357366771,
          137.31060606060606,
          150.20297699594045,
          111.86770428015564,
          108.72675250357653,
          135.17462686567166,
          106.78571428571429,
          91.08231707317073,
          111.11111111111111,
          134.46969696969697,
          153.4970238095238,
          134.207240948814,
          114.37246963562752,
          119.77186311787072,
          116.22073578595318,
          97.19222462203024,
          167.27493917274938,
          120.18522601984564,
          161.75496688741723,
          123.93767705382436,
          86.52482269503547,
          66.69449081803005,
          89.74358974358974,
          112.8428927680798,
          128.57142857142858,
          127.63395544852499,
          103.7567084078712,
          131.63716814159292,
          130.18731988472624,
          91.97324414715719,
          231.05745212323063,
          81.94444444444444,
          103.56007628734902,
          137.12241653418124,
          110.062893081761,
          75.48845470692717,
          100.63559322033899,
          105.9915164369035,
          86.84593023255815,
          101.43702451394759,
          135.30135301353013,
          182.64840182648402,
          116.17312072892939,
          132.0754716981132,
          108.79629629629629,
          141.30434782608697,
          72.91666666666667,
          153.9386650631389,
          96.63865546218487,
          91.4380714879468,
          136.1421188630491,
          136.56387665198238,
          72.20254629629629,
          113.67469879518072,
          119.23076923076923,
          126.4073550212164,
          130.7752545027408,
          89.11192214111922,
          152.99877600979192,
          109.35672514619883,
          141.1451398135819,
          96.49568308786186,
          138.0597014925373,
          222.67206477732793,
          151.9370460048426,
          136.5979381443299,
          139.91962491627595,
          143.77601210745365,
          172.8754365541327,
          79.1078691423519,
          176.21621621621622,
          208.70535714285714,
          84.88499452354874,
          134.8684210526316,
          132.63263263263264,
          132.0754716981132,
          145.38676607642125,
          117.9245283018868,
          66.28003314001657,
          136.5079365079365,
          88.19018404907976,
          84.28390367553865,
          118.67101648351648,
          122.14342001576044,
          103.04740406320542,
          48.47222222222222,
          133.20941759603468,
          101.0989010989011,
          144.60511679644048,
          131.57894736842104,
          92.77504105090313,
          128.2239819004525,
          115.32125205930807,
          160.46640755136036,
          111.19515885022693,
          63.52040816326531,
          112.50654107796964,
          171.01806239737274,
          116.83599419448475,
          119.59654178674351,
          120.98312545854732,
          148.1469298245614,
          150.34722222222223,
          124.07407407407408,
          122.30671736375159,
          199.43613861386137,
          74.56347333647948,
          113.05460750853243,
          117.48329621380846,
          112.5,
          82.1097372488408,
          120.57877813504822,
          95.55288461538461,
          39.51026518391788,
          131.6722268557131,
          139.02053712480253,
          142.24137931034483,
          164.48986361960928,
          142.1487603305785,
          79.77097415506958,
          115.97084161696488,
          93.97944199706315,
          129.98790810157195,
          117.66467065868264,
          125.88401697312588,
          79.80697847067557,
          109.04872389791183,
          128.76157407407408,
          136.3244176013805,
          169.89381636477202,
          171.38193688792165,
          108.53391684901531,
          126.93452380952381,
          173.40286831812256,
          120.09692513368984,
          104.90151168117269,
          128.44036697247705,
          168.61979166666666,
          151.5151515151515,
          125.59694364851958,
          130.96351730589336,
          121.22844827586206,
          148.80605707629587,
          95.91474245115452,
          138.80742913000978,
          107.82442748091603,
          129.12087912087912,
          80.83832335329342,
          121.02351313969571,
          150.28901734104045,
          87.28448275862068,
          122.39020878329734,
          108.43373493975903,
          110.51373954599761,
          116.7755991285403,
          77.7170613236187,
          129.79233226837061,
          139.41368078175896,
          148.49906191369607,
          144.17815482502652,
          82.52314814814815,
          138.88888888888889,
          132.68321513002365,
          118.88111888111888,
          125.33814247069432,
          97.45065789473684,
          98.1719702098849,
          124.62121212121212,
          104.88505747126437,
          73.25905292479109,
          127.29181245626312,
          124.04162585700294,
          145.22058823529412,
          117.11711711711712,
          84.5518118245391,
          182.39644970414201,
          155.13126491646779,
          159.30232558139534,
          97.08078750848608,
          85.02673796791444,
          117.5094816687737,
          196.84233449477352,
          169.11764705882354,
          165.0943396226415,
          119.04761904761905,
          174.6987951807229,
          83.70175438596492,
          138.51711840228245,
          132.05828779599273,
          97.04370179948586,
          144.4327731092437,
          102.54545454545455,
          114.88250652741515,
          125.83333333333333,
          147.92503346720216,
          103.22255790533737,
          146.15384615384616,
          112.05179282868527,
          112.42955541640576,
          115.1603498542274,
          145.37854156990247,
          143.4108527131783,
          139.69017094017093,
          131.25,
          119.84126984126983,
          130.45540796963948,
          121.4049039098741,
          126.80288461538461,
          172.2171772428884,
          134.83642793987622,
          77.54629629629629,
          91.8133129303749,
          137.75510204081633,
          111.44179894179894,
          92.26256983240224,
          143.36917562724014,
          98.38255977496483,
          100.65789473684211,
          64.90384615384616,
          124.81481481481481,
          70.85714285714286,
          134.8133848133848,
          58.46917080085046,
          132.00757575757575,
          136.36363636363637,
          58.910162002945505,
          75,
          67.05118961788031,
          106.78391959798995,
          168.832801531589,
          180.5006587615283,
          117.15914981855884,
          127.58875739644971,
          93.82716049382717,
          210.0101925254813,
          146.0244648318043,
          93.79770992366412,
          141.6819012797075,
          84.28493746601414,
          134.12698412698413,
          123.69369369369369,
          71.52317880794702,
          111.3053613053613,
          91.8992511912866,
          165.6412683388547,
          80.58608058608058,
          138.17663817663816,
          99.20106524633822,
          66.8724279835391,
          112.38223418573351,
          102.27390180878552,
          164.2156862745098,
          79.02298850574712,
          116.42675698560542,
          201.7167381974249,
          119.0599173553719,
          54.20168067226891,
          115.2471709350804,
          116.91022964509395,
          116.52542372881356,
          117.54742547425474,
          75.67567567567568,
          136.58940397350995,
          140.02175095160413,
          123.2394366197183,
          103.05343511450381,
          49.041713641488165,
          138.25757575757575,
          182.06256109481916,
          130.06072874493927,
          154.92957746478874,
          104.89078947368421,
          134.00464756003097,
          170.86330935251797,
          120.17400761283307,
          99.2822966507177,
          129.40090857467348,
          135.02722323049002,
          276.2508809020437,
          142.95154185022025,
          166.27358490566039,
          174.93049119555144,
          132.9892814608972,
          101.09972041006523,
          91.94282001299545,
          154.79331574318383,
          144.4805194805195,
          107.57839721254355,
          154.92170022371366,
          140.9058231488138,
          173.61111111111111,
          120.27491408934708,
          140.49650621118013,
          77.2626931567329,
          143.5309973045822,
          50.366300366300365,
          165.5701754385965,
          191.8429003021148,
          123.31043956043956,
          121.570796460177,
          71.33058984910836,
          87.24617996604414,
          153.9087947882736,
          134.375,
          88.23529411764706,
          122.22222222222223,
          62.45105716523101,
          133.276740237691,
          141.02564102564102,
          132.33779608650875,
          157.86452353616534,
          168.6320754716981,
          144.09722222222223,
          91.83673469387755,
          188.4570082449941,
          139.46759259259258,
          132.14285714285714,
          157.87337662337663,
          61.93693693693694,
          85.26490066225166,
          146.3490099009901,
          163.61256544502618,
          109.55194485475135,
          114.86013986013987,
          113.92405063291139,
          92.1945701357466,
          89.90384615384616,
          133.20377568017767,
          149.16666666666666,
          109.95370370370371,
          92.17877094972067,
          155.7017543859649,
          132.69088213491474,
          119.53551912568307,
          134.62976813762154,
          110.42357274401473,
          104.60992907801419,
          100.74962121212121,
          151.3953488372093,
          64.09417920209287,
          84.64912280701755,
          122.72727272727273,
          145.24765729585008,
          131.3155386081983,
          152.046783625731,
          117.26716519374575,
          119.90950226244344,
          114.64646464646465,
          119.5203197868088,
          114.57921770051364,
          147.56944444444446,
          76.86395080707149,
          139.10795087265674,
          142.49471458773783,
          180.72289156626505,
          175.38645418326692,
          114.6441073512252,
          91.42857142857143,
          118.1029411764706,
          164.0744129307716,
          157.22610722610722,
          83.60655737704919,
          95.79230080572964,
          125.54824561403508,
          200.20273694880893,
          134.55149501661128,
          137.23667905824038,
          159.39597315436242,
          71.2871287128713,
          134.4621513944223,
          140.46288906624102,
          109.73175296319401,
          130.83916083916083,
          149.0990990990991,
          86.2533692722372,
          120.34277198211625,
          84.14043583535108,
          111.8042226487524,
          119.7558268590455,
          89.8418782942022,
          139.9126637554585,
          138.2297551789077,
          134.02384500745157,
          150.40106951871658,
          102.63852242744063,
          109.33503836317135,
          111.67315175097276,
          142.3027166882277,
          154.45859872611464,
          98.98190045248869,
          118.48341232227489,
          91.88963210702342,
          129.80769230769232,
          206.5673281360737,
          104.60992907801419,
          159.43977591036415,
          138.26530612244898,
          141.81472081218274,
          147.28360957642727,
          49.57904583723106,
          138.27349121466767,
          170.4009433962264,
          53.633141762452105,
          109.500693481276,
          92.8,
          135.4003612281758,
          135.9126984126984,
          160.44997039668442,
          147.3384030418251,
          164.94845360824743,
          111.58536585365853,
          99.35897435897436,
          129.8326601269475,
          93.68703828072532,
          156.21222296843519,
          184.74088291746642,
          139.66836734693877,
          131.79916317991632,
          87.01787394167451,
          120.5233033524121,
          119.25287356321839,
          125.83333333333333,
          129.5790049207217,
          110.15831134564644,
          122.33391608391608,
          119.96251171508904,
          98.46055163566389,
          101.31712259371834,
          131.0282074613285,
          108.75,
          94.46693657219973,
          102.3391812865497,
          150.12875536480686,
          78.33333333333333,
          108.6864406779661,
          100.52910052910053,
          120,
          154.51388888888889,
          101.78117048346056,
          100.80862533692722,
          155.07075471698113,
          147.66483516483515,
          99.63547995139733,
          109.34256055363322,
          95.5593029792018,
          122.11538461538461,
          143.2748538011696,
          117.4881836596894,
          110.94890510948905,
          94.19743782969103,
          133.2047685834502,
          126.56400384985562,
          138.55970829535096,
          115.41811846689896,
          182.6384839650146,
          148.20359281437126,
          151.2150668286756,
          115.17857142857143,
          72.84482758620689,
          121.0877373011801,
          122.48322147651007,
          119.20332936979786,
          127.47252747252747,
          104.88958990536278,
          58.797524314765695,
          116.27471264367816,
          127.16346153846153,
          157.37410071942446,
          128.13852813852813,
          157.98611111111111,
          144.03669724770643,
          109.20209668025626,
          111.73885750156937,
          53.139013452914796,
          112.10762331838565,
          192.45172615564658,
          84.69626168224299,
          97.27207465900933,
          120.88407758231845,
          99.33554817275747,
          133.00865800865802,
          102.49554367201426,
          144.6629213483146,
          119.3058568329718,
          77.43192182410424,
          77.95100222717149,
          111.98738170347004,
          63.81830357142857,
          258.73815566835873,
          109.22330097087378,
          128.2051282051282,
          117.15160796324655,
          119.28429423459245,
          143.7125748502994,
          139.13525498891352,
          120.41392285983066,
          155.8679706601467,
          121.53621779290228,
          145.23281596452327,
          117.25067385444744,
          67.85400175901495,
          113.17034700315457,
          86.69950738916256,
          72.42757242757243,
          141.93872549019608,
          68.68131868131869,
          73.56458333333333,
          109.84540276647681,
          111.89468735307945,
          124.82319660537482,
          116.79256246368391,
          66.31818181818181,
          129.17173252279636,
          119.35683364254793,
          123.0723606168446,
          155.41740674955594,
          120.05054759898904,
          88.97876643073812,
          132.27069351230426,
          99.28443649373882,
          137.10777626193723,
          127.02702702702703,
          167.97900262467192,
          126.66666666666667,
          116.96471725471243,
          106.9611780455154,
          154.08333333333334,
          128.36123795027905,
          122.2217125382263,
          101.70620058260508,
          87.32638888888889,
          103.88349514563107,
          104.16666666666667,
          87.62254901960785,
          102.30654761904762,
          66.82718031032638,
          125,
          165.74585635359117,
          108.38963963963964,
          143.01230992034758,
          149.30555555555554,
          124.24870466321244,
          174.34895833333334,
          87.39837398373983,
          130.10204081632654,
          74.05515832482125,
          100.89503661513426,
          124.88174077578051,
          138.36948391922215,
          109.46327683615819,
          135.78088578088577,
          94.70752089136491,
          100.12919896640827,
          132.77777777777777,
          113.4635691657867,
          120.55256064690028,
          122.32415902140673,
          122.95081967213115,
          39.15289256198347,
          127.85388127853881,
          113.25503355704699,
          106.39606396063961,
          108.38779956427015,
          127.45098039215686,
          82.96186230807331,
          119.39218523878436,
          98.38895281933257,
          161.07977437550363,
          123.04250559284117,
          123.9964317573595,
          178.57857857857857,
          128.63705972434917,
          126.29936808846762,
          111.7467248908297,
          72.66435986159169,
          107.38831615120274,
          71.55963302752293,
          203.70721649484537,
          96.05911330049261,
          125,
          145.48494983277592,
          96.44087256027555,
          101.02647217720151,
          115.93333333333334,
          196.44935972060534,
          98.86178861788618,
          130,
          128.29403606102636,
          84.49396471680595,
          170.52980132450332,
          86.86440677966101,
          124.45730824891461,
          147.39517153748412,
          81.49107142857143,
          120.34574468085107,
          152.18274111675126,
          98.67229933614966,
          80.58608058608058,
          140.35087719298247,
          67.01708278580814,
          106.21557828481511,
          60.09615384615385,
          109.85352862849534,
          83.17025440313111,
          110.16635859519408,
          136.33633633633633,
          134.97340425531914,
          137.86764705882354,
          108.69565217391305,
          141.75962815405046,
          155.47703180212014,
          159.01639344262296,
          69.71153846153847,
          126.99468085106383,
          99.03381642512078,
          127.55102040816327,
          132.51582278481013,
          178.05407047387607,
          76.30813953488372,
          96.88013136288998,
          82.98755186721992,
          63.91953277092797,
          123.01587301587301,
          139.05683192261185,
          125.52410901467505,
          99.40828402366864,
          194.7530864197531,
          126.82280159080867,
          72.17261904761905,
          126.98412698412699,
          85.96783139212424,
          106.00490196078431,
          150.07656967840734,
          112.61485616144267,
          110.14263074484944,
          80.55395268320831,
          194.06589958158995,
          146.46464646464648,
          64.93506493506493,
          91.29032258064517,
          135.54915514592935,
          152.08282674772036,
          83.4597875569044,
          94.69200524246396,
          128.2051282051282,
          118.18778726198293,
          136.25366568914956,
          134.05405405405406,
          153.3882783882784,
          110.49723756906077,
          159.56651718983557,
          90.60402684563758,
          38.510911424903725,
          100.18132366273798,
          133.44887348353552,
          145.13274336283186,
          113.30362826225334,
          104.2209807572936,
          60.05553351844506,
          151.17581187010077,
          128.81679389312978,
          98.97172236503856,
          62.84340659340659,
          111.85133239831697,
          156.4516129032258,
          126.14942528735632,
          115.96180081855388,
          126.64233576642336,
          183.8443396226415,
          127.27272727272727,
          115.26232114467409,
          127.88461538461539,
          131.59698423577794,
          127.89768185451639,
          125.16688918558077,
          147.59036144578315,
          76.46520146520146,
          129.03225806451613,
          80.45640725570509,
          157.97914995990376,
          89.32692307692308,
          127.79552715654953,
          80.57851239669421,
          121.66666666666667,
          137.82051282051282,
          134.2709284627093,
          93.7269372693727,
          156.25,
          96.67673716012085,
          98.06371018113678,
          136.986301369863,
          125.78947368421052,
          119.04761904761905,
          133.58458961474037,
          81.41321044546851,
          123.95118230358504,
          124.75728155339806,
          135.93518060366156,
          107.10059171597634,
          152.5054466230937,
          113.38962605548853,
          104.37881873727088,
          159.19117647058823,
          133.43253968253967,
          140.45618247298918,
          183.3910034602076,
          129.73925299506695,
          145.413870246085,
          87.44534665833854,
          128.55769230769232,
          116.99604743083005,
          137.1778350515464,
          116.66666666666667,
          169.054441260745,
          110.59379217273954,
          114.42786069651741,
          111.89710610932475,
          169.281045751634,
          109.74987238386932,
          149.57264957264957,
          68.14740030287733,
          95.99589322381931,
          53.16742081447964,
          118.56435643564356,
          105.625,
          103.44827586206897,
          95.0479233226837,
          92.15686274509804,
          125.07977026164646,
          123.39331619537275,
          146.00840336134453,
          105.72805139186295,
          150.23691654879772,
          79.52286282306163,
          86.58008658008659,
          94.54314720812182,
          138.6748844375963,
          111.57289002557545,
          105.22052205220523,
          96.49122807017544,
          133.04721030042919,
          102.25102319236017,
          127.00165654334621,
          147.67156862745097,
          110.87912087912088,
          151.70494084899096,
          142.21343873517787,
          175.0380517503805,
          148.81518987341772,
          98.61407249466951,
          100.27472527472527,
          136.58536585365854,
          144.29530201342283,
          86.61287758346582,
          135.47486033519553,
          155.23968042609854,
          144.83471074380165,
          103.5308198683423,
          111.48007590132828,
          172.31872070581747,
          152.95169946332737,
          129.26249008723235,
          137.52,
          64.97083603370058,
          101.91897654584221,
          99.23398328690807,
          129.4691224268689,
          93.95424836601308,
          115.33879374534624,
          82.74021352313167,
          99.44311853619729,
          237.590799031477,
          166.4432529043789,
          106.19469026548673,
          118.76590330788804,
          85.91318591318591,
          55.915244261330194,
          161.33004926108376,
          117.46987951807229,
          104.76718403547672,
          103.57583230579532,
          120.74947952810548,
          84.91847826086956,
          134.80392156862746,
          116.86390532544378,
          120.87912087912088,
          117.66505636070853,
          85.20710059171597,
          146.86468646864685,
          107.09117221418235,
          134.31712962962962,
          111.24227093872962,
          86.79525222551929,
          130.67484662576686,
          142.92364990689012,
          123.81602914389799,
          101.32575757575758,
          117.6470588235294,
          109.11925175370226,
          174.6987951807229,
          102.4390243902439,
          93.60730593607306,
          168.1547619047619,
          151.04166666666666,
          134.63463463463464,
          139.82102908277406,
          58.88538380651946,
          174.6240487062405,
          88.26754385964912,
          75.1231527093596,
          126.09649122807018,
          110.6523534269199,
          77.46478873239437,
          64.55992509363296,
          123.48993288590604,
          127.41652021089631,
          110.7087428867046,
          161.18421052631578,
          215.80141010575792,
          84.2733908427339,
          72.51908396946565,
          111.34453781512605,
          83.16993464052288,
          119.52861952861953,
          66.19144602851324,
          77.85145739910314,
          107.93357933579335,
          100.10266940451746,
          124.89044697633655,
          179.177897574124,
          127.20588235294117,
          147.02664298401422,
          144.92753623188406,
          223.98843930635837,
          151.61502966381016,
          95.28907922912205,
          120.09014810045075,
          164.31334622823985,
          62.925170068027214,
          120.44534412955466,
          115.63981042654028,
          122.24199288256227,
          148.74141876430207,
          135.67143516382095,
          99.8792270531401,
          93.26993416239941,
          151.7362858580775,
          115.625,
          162.95025728987994,
          143.2637571157495,
          108.05970149253731,
          122.76190476190476,
          90.32438478747204,
          98.95833333333333,
          135.37771129394167,
          126.65289256198348,
          64.58443620963473,
          187.5619425173439,
          110.53089643167972,
          94.48818897637796,
          170.60367454068242,
          124.74815312290127,
          146.524064171123,
          130.43478260869566,
          111.2,
          71.35416666666667,
          116.12903225806451,
          114.79118329466357,
          116.69128508124076,
          60.638297872340424,
          144.31023521932613,
          134.42867811799852,
          144.71153846153845,
          76.20614035087719,
          69.06416019615857,
          93.83852691218131,
          107.68072289156626,
          120.10113780025284,
          167.5708257986739,
          142.63959390862945,
          156.68402777777777,
          91.78187403993856,
          45.320404721753796,
          97.89663461538461,
          133.10185185185185,
          131.65399239543726,
          137.4113475177305,
          130.59701492537314,
          28.35873803615739,
          123.59550561797752,
          113.464447806354,
          118.80856760374833,
          114.80601741884402,
          143.56435643564356,
          76.11241217798595,
          196.7312348668281,
          148.02631578947367,
          139.3939393939394,
          131.01604278074868,
          138.48531684698608,
          176.130389064143,
          159.34065934065933,
          107.47330960854093,
          128.19084263178146,
          125.52742616033755,
          97.96401515151516,
          181.2840490797546,
          154.51183431952663,
          153.88919977616118,
          117.0886075949367,
          105.88633288227334,
          100.69444444444444,
          98.80395215808632,
          116.52542372881356,
          81.8941504178273,
          69.09547738693468,
          102.0671834625323,
          159.9264705882353,
          91.69054441260745,
          108.14950980392157,
          142.9471032745592,
          138.88888888888889,
          122.54901960784314,
          92.27941176470588,
          91.57509157509158,
          125.86206896551724,
          81.52173913043478,
          75.75757575757575,
          107.46910263299301,
          148.72685185185185,
          141.05504587155963,
          139.13824057450628,
          105.3480866758875,
          92.52483010977522,
          107.02953296703296,
          113.02083333333333,
          121.75324675324676,
          159.60754504504504,
          143.90896921017404,
          51.73876166242579,
          75.9301442672741,
          99.65034965034965,
          114.71088435374149,
          126.6213712168005,
          126.00536193029491,
          88.54166666666667,
          123.31838565022422,
          139.05380333951763,
          112.84170375079466,
          159.0909090909091,
          72.66435986159169,
          169.9346405228758,
          60.35673187571922,
          111.14164305949008,
          120.12666666666667,
          129.03225806451613,
          107.82122905027933,
          86.10169491525424,
          169.81132075471697,
          139.08872901678657,
          76.41921397379913,
          99.6387718242023,
          130.8059132093467,
          177.17432586403342,
          127.68130745658836,
          152.1323997453851,
          115.18987341772151,
          72.9426433915212,
          84.09321175278622,
          120.15781922525107,
          67.70833333333333,
          112.18705715635333,
          89.10329171396141,
          79.09604519774011,
          83.46581875993641,
          108.7521663778163,
          89.79885057471265,
          53.84006334125099,
          216.20847651775486,
          107.55336617405582,
          154.0983606557377,
          78.28282828282828,
          136.66666666666666,
          85.2510460251046,
          164.38533333333334,
          113.30096696212732,
          94.84291641967991,
          90.87904824851289,
          72.47899159663865,
          85.47885572139303,
          103.62694300518135,
          121.15505335844318,
          149.82921174652242,
          193.25273224043715,
          86.49093904448105,
          167.07168894289185,
          173.17708333333334,
          134.45378151260505,
          92.07630227439472,
          102.7233635929288,
          125,
          83.93285371702638,
          86.53846153846153,
          139.3709327548807,
          112.01298701298701,
          112.10962396430848,
          53.493449781659386,
          138.77551020408163,
          108.39160839160839,
          120.93275488069415,
          127.04802259887006,
          119.27034611786716,
          160.96698113207546,
          124.92957746478874,
          107.14285714285714,
          113.4185303514377,
          127.40949694405266,
          89.85879332477535,
          148.0099502487562,
          127.01388888888889,
          104.53754080522307,
          150.05219206680584,
          66.63223140495867,
          104.07366071428571,
          142.09591474245116,
          113.20754716981132,
          139.46759259259258,
          204.25310559006212,
          121.11650485436893,
          114.20289855072464,
          74.75538160469668,
          176.06132075471697,
          154.45939212755357,
          127.10084033613445,
          126.30098452883263,
          141.2924424972618,
          132.9124579124579,
          114.83253588516746,
          83.20950965824666,
          146.03174603174602,
          75.89285714285714,
          181.93282636248415,
          135.26119402985074,
          74.12280701754386,
          151.5151515151515,
          106.25379477838494,
          101.30246020260492,
          113.88888888888889,
          131.8413729128015,
          117.43630573248407
         ],
         "yaxis": "y2"
        },
        {
         "legendgroup": "mean",
         "marker": {
          "color": "#811331"
         },
         "mode": "lines",
         "name": "mean",
         "showlegend": false,
         "type": "scatter",
         "x": [
          "2006-01-01T00:00:00",
          "2006-02-01T00:00:00",
          "2006-03-01T00:00:00",
          "2006-04-01T00:00:00",
          "2006-05-01T00:00:00",
          "2006-06-01T00:00:00",
          "2006-07-01T00:00:00",
          "2006-08-01T00:00:00",
          "2006-09-01T00:00:00",
          "2006-10-01T00:00:00",
          "2006-11-01T00:00:00",
          "2006-12-01T00:00:00",
          "2007-01-01T00:00:00",
          "2007-02-01T00:00:00",
          "2007-03-01T00:00:00",
          "2007-04-01T00:00:00",
          "2007-05-01T00:00:00",
          "2007-06-01T00:00:00",
          "2007-07-01T00:00:00",
          "2007-08-01T00:00:00",
          "2007-09-01T00:00:00",
          "2007-10-01T00:00:00",
          "2007-11-01T00:00:00",
          "2007-12-01T00:00:00",
          "2008-01-01T00:00:00",
          "2008-02-01T00:00:00",
          "2008-03-01T00:00:00",
          "2008-04-01T00:00:00",
          "2008-05-01T00:00:00",
          "2008-06-01T00:00:00",
          "2008-07-01T00:00:00",
          "2008-08-01T00:00:00",
          "2008-09-01T00:00:00",
          "2008-10-01T00:00:00",
          "2008-11-01T00:00:00",
          "2008-12-01T00:00:00",
          "2009-01-01T00:00:00",
          "2009-02-01T00:00:00",
          "2009-03-01T00:00:00",
          "2009-04-01T00:00:00",
          "2009-05-01T00:00:00",
          "2009-06-01T00:00:00",
          "2009-07-01T00:00:00",
          "2009-08-01T00:00:00",
          "2009-09-01T00:00:00",
          "2009-10-01T00:00:00",
          "2009-11-01T00:00:00",
          "2009-12-01T00:00:00",
          "2010-01-01T00:00:00",
          "2010-02-01T00:00:00",
          "2010-03-01T00:00:00",
          "2010-04-01T00:00:00",
          "2010-05-01T00:00:00",
          "2010-06-01T00:00:00",
          "2010-07-01T00:00:00"
         ],
         "xaxis": "x2",
         "y": [
          129.99058672546394,
          112.58550961291878,
          119.81141113312432,
          112.61333444080663,
          119.49595067374084,
          116.64789910151528,
          120.74330190865369,
          123.80629805197086,
          124.44989119025101,
          116.7116224543869,
          125.48127534810114,
          127.71555732783594,
          114.17539912525129,
          113.4608601802421,
          110.05162387908855,
          121.35574728136767,
          122.94918555561777,
          123.8156446942369,
          124.51226880458456,
          117.04766843484927,
          112.43729722604316,
          129.37147321214613,
          119.39902671024522,
          138.82711584439932,
          126.30025216476628,
          125.20596598354163,
          119.013935676934,
          120.7877329351896,
          125.89830528236186,
          119.5934799679491,
          116.9539841618336,
          125.70767981213012,
          105.18052359333159,
          126.80949960150124,
          128.29946906411075,
          121.01111735965763,
          125.28760275966054,
          122.9083229832703,
          124.66829910346087,
          119.07622167990783,
          115.61801427099431,
          119.5890282693947,
          121.51777032570187,
          114.753587367559,
          134.30331389989988,
          120.71036353815067,
          108.84150583245388,
          110.41886952027416,
          104.87398575720644,
          137.6194760674641,
          127.4591776009658,
          119.46737287416848,
          123.2259962954127,
          116.23951538105085,
          95.41997204094916
         ],
         "yaxis": "y2"
        },
        {
         "legendgroup": "median",
         "marker": {
          "color": "#0F52BA"
         },
         "mode": "lines",
         "name": "median",
         "showlegend": false,
         "type": "scatter",
         "x": [
          "2006-01-01T00:00:00",
          "2006-02-01T00:00:00",
          "2006-03-01T00:00:00",
          "2006-04-01T00:00:00",
          "2006-05-01T00:00:00",
          "2006-06-01T00:00:00",
          "2006-07-01T00:00:00",
          "2006-08-01T00:00:00",
          "2006-09-01T00:00:00",
          "2006-10-01T00:00:00",
          "2006-11-01T00:00:00",
          "2006-12-01T00:00:00",
          "2007-01-01T00:00:00",
          "2007-02-01T00:00:00",
          "2007-03-01T00:00:00",
          "2007-04-01T00:00:00",
          "2007-05-01T00:00:00",
          "2007-06-01T00:00:00",
          "2007-07-01T00:00:00",
          "2007-08-01T00:00:00",
          "2007-09-01T00:00:00",
          "2007-10-01T00:00:00",
          "2007-11-01T00:00:00",
          "2007-12-01T00:00:00",
          "2008-01-01T00:00:00",
          "2008-02-01T00:00:00",
          "2008-03-01T00:00:00",
          "2008-04-01T00:00:00",
          "2008-05-01T00:00:00",
          "2008-06-01T00:00:00",
          "2008-07-01T00:00:00",
          "2008-08-01T00:00:00",
          "2008-09-01T00:00:00",
          "2008-10-01T00:00:00",
          "2008-11-01T00:00:00",
          "2008-12-01T00:00:00",
          "2009-01-01T00:00:00",
          "2009-02-01T00:00:00",
          "2009-03-01T00:00:00",
          "2009-04-01T00:00:00",
          "2009-05-01T00:00:00",
          "2009-06-01T00:00:00",
          "2009-07-01T00:00:00",
          "2009-08-01T00:00:00",
          "2009-09-01T00:00:00",
          "2009-10-01T00:00:00",
          "2009-11-01T00:00:00",
          "2009-12-01T00:00:00",
          "2010-01-01T00:00:00",
          "2010-02-01T00:00:00",
          "2010-03-01T00:00:00",
          "2010-04-01T00:00:00",
          "2010-05-01T00:00:00",
          "2010-06-01T00:00:00",
          "2010-07-01T00:00:00"
         ],
         "xaxis": "x2",
         "y": [
          133.29908112072025,
          108.38963963963964,
          125,
          115.96180081855388,
          124.77204961396819,
          120.75302085506347,
          120.27491408934708,
          122.2217125382263,
          120.09692513368984,
          119.88480392156863,
          121.03789518562246,
          125.31012744034707,
          117.66467065868264,
          115.194787278532,
          107.55336617405582,
          118.80912632164718,
          120.44534412955466,
          125.52410901467505,
          118.77934272300469,
          116.80635807315257,
          107.9136690647482,
          129.0085257771818,
          113.04879295190204,
          135.97620263010768,
          110.7087428867046,
          124.00458182756842,
          121.49532658485418,
          120.10133620303111,
          121.92575645947238,
          119.67694566813509,
          113.20754716981132,
          121.02351313969571,
          104.37881873727088,
          125.39545656137585,
          129.26249008723235,
          118.43738984434427,
          122.88037473914451,
          113.85286840995059,
          117.4881836596894,
          114.93160298307357,
          119.55420466058764,
          122.76190476190476,
          115.625,
          120.72649572649573,
          138.47741268616517,
          113.17034700315457,
          108.09770110348099,
          107.68335273573923,
          104.19367482092174,
          135.78088578088577,
          124.88849241748439,
          123.95309882747068,
          130.1431629220178,
          111.55615693286926,
          93.42740592740593
         ],
         "yaxis": "y2"
        }
       ],
       "layout": {
        "annotations": [
         {
          "font": {
           "size": 16
          },
          "showarrow": false,
          "text": "House Price as a function of Date",
          "x": 0.5,
          "xanchor": "center",
          "xref": "paper",
          "y": 1,
          "yanchor": "bottom",
          "yref": "paper"
         },
         {
          "font": {
           "size": 16
          },
          "showarrow": false,
          "text": "Price per Square Foot as a function of Date",
          "x": 0.5,
          "xanchor": "center",
          "xref": "paper",
          "y": 0.375,
          "yanchor": "bottom",
          "yref": "paper"
         }
        ],
        "height": 600,
        "legend": {
         "orientation": "h",
         "x": 0.4,
         "xanchor": "left",
         "y": 1.2,
         "yanchor": "top"
        },
        "template": {
         "data": {
          "bar": [
           {
            "error_x": {
             "color": "#2a3f5f"
            },
            "error_y": {
             "color": "#2a3f5f"
            },
            "marker": {
             "line": {
              "color": "#E5ECF6",
              "width": 0.5
             },
             "pattern": {
              "fillmode": "overlay",
              "size": 10,
              "solidity": 0.2
             }
            },
            "type": "bar"
           }
          ],
          "barpolar": [
           {
            "marker": {
             "line": {
              "color": "#E5ECF6",
              "width": 0.5
             },
             "pattern": {
              "fillmode": "overlay",
              "size": 10,
              "solidity": 0.2
             }
            },
            "type": "barpolar"
           }
          ],
          "carpet": [
           {
            "aaxis": {
             "endlinecolor": "#2a3f5f",
             "gridcolor": "white",
             "linecolor": "white",
             "minorgridcolor": "white",
             "startlinecolor": "#2a3f5f"
            },
            "baxis": {
             "endlinecolor": "#2a3f5f",
             "gridcolor": "white",
             "linecolor": "white",
             "minorgridcolor": "white",
             "startlinecolor": "#2a3f5f"
            },
            "type": "carpet"
           }
          ],
          "choropleth": [
           {
            "colorbar": {
             "outlinewidth": 0,
             "ticks": ""
            },
            "type": "choropleth"
           }
          ],
          "contour": [
           {
            "colorbar": {
             "outlinewidth": 0,
             "ticks": ""
            },
            "colorscale": [
             [
              0,
              "#0d0887"
             ],
             [
              0.1111111111111111,
              "#46039f"
             ],
             [
              0.2222222222222222,
              "#7201a8"
             ],
             [
              0.3333333333333333,
              "#9c179e"
             ],
             [
              0.4444444444444444,
              "#bd3786"
             ],
             [
              0.5555555555555556,
              "#d8576b"
             ],
             [
              0.6666666666666666,
              "#ed7953"
             ],
             [
              0.7777777777777778,
              "#fb9f3a"
             ],
             [
              0.8888888888888888,
              "#fdca26"
             ],
             [
              1,
              "#f0f921"
             ]
            ],
            "type": "contour"
           }
          ],
          "contourcarpet": [
           {
            "colorbar": {
             "outlinewidth": 0,
             "ticks": ""
            },
            "type": "contourcarpet"
           }
          ],
          "heatmap": [
           {
            "colorbar": {
             "outlinewidth": 0,
             "ticks": ""
            },
            "colorscale": [
             [
              0,
              "#0d0887"
             ],
             [
              0.1111111111111111,
              "#46039f"
             ],
             [
              0.2222222222222222,
              "#7201a8"
             ],
             [
              0.3333333333333333,
              "#9c179e"
             ],
             [
              0.4444444444444444,
              "#bd3786"
             ],
             [
              0.5555555555555556,
              "#d8576b"
             ],
             [
              0.6666666666666666,
              "#ed7953"
             ],
             [
              0.7777777777777778,
              "#fb9f3a"
             ],
             [
              0.8888888888888888,
              "#fdca26"
             ],
             [
              1,
              "#f0f921"
             ]
            ],
            "type": "heatmap"
           }
          ],
          "heatmapgl": [
           {
            "colorbar": {
             "outlinewidth": 0,
             "ticks": ""
            },
            "colorscale": [
             [
              0,
              "#0d0887"
             ],
             [
              0.1111111111111111,
              "#46039f"
             ],
             [
              0.2222222222222222,
              "#7201a8"
             ],
             [
              0.3333333333333333,
              "#9c179e"
             ],
             [
              0.4444444444444444,
              "#bd3786"
             ],
             [
              0.5555555555555556,
              "#d8576b"
             ],
             [
              0.6666666666666666,
              "#ed7953"
             ],
             [
              0.7777777777777778,
              "#fb9f3a"
             ],
             [
              0.8888888888888888,
              "#fdca26"
             ],
             [
              1,
              "#f0f921"
             ]
            ],
            "type": "heatmapgl"
           }
          ],
          "histogram": [
           {
            "marker": {
             "pattern": {
              "fillmode": "overlay",
              "size": 10,
              "solidity": 0.2
             }
            },
            "type": "histogram"
           }
          ],
          "histogram2d": [
           {
            "colorbar": {
             "outlinewidth": 0,
             "ticks": ""
            },
            "colorscale": [
             [
              0,
              "#0d0887"
             ],
             [
              0.1111111111111111,
              "#46039f"
             ],
             [
              0.2222222222222222,
              "#7201a8"
             ],
             [
              0.3333333333333333,
              "#9c179e"
             ],
             [
              0.4444444444444444,
              "#bd3786"
             ],
             [
              0.5555555555555556,
              "#d8576b"
             ],
             [
              0.6666666666666666,
              "#ed7953"
             ],
             [
              0.7777777777777778,
              "#fb9f3a"
             ],
             [
              0.8888888888888888,
              "#fdca26"
             ],
             [
              1,
              "#f0f921"
             ]
            ],
            "type": "histogram2d"
           }
          ],
          "histogram2dcontour": [
           {
            "colorbar": {
             "outlinewidth": 0,
             "ticks": ""
            },
            "colorscale": [
             [
              0,
              "#0d0887"
             ],
             [
              0.1111111111111111,
              "#46039f"
             ],
             [
              0.2222222222222222,
              "#7201a8"
             ],
             [
              0.3333333333333333,
              "#9c179e"
             ],
             [
              0.4444444444444444,
              "#bd3786"
             ],
             [
              0.5555555555555556,
              "#d8576b"
             ],
             [
              0.6666666666666666,
              "#ed7953"
             ],
             [
              0.7777777777777778,
              "#fb9f3a"
             ],
             [
              0.8888888888888888,
              "#fdca26"
             ],
             [
              1,
              "#f0f921"
             ]
            ],
            "type": "histogram2dcontour"
           }
          ],
          "mesh3d": [
           {
            "colorbar": {
             "outlinewidth": 0,
             "ticks": ""
            },
            "type": "mesh3d"
           }
          ],
          "parcoords": [
           {
            "line": {
             "colorbar": {
              "outlinewidth": 0,
              "ticks": ""
             }
            },
            "type": "parcoords"
           }
          ],
          "pie": [
           {
            "automargin": true,
            "type": "pie"
           }
          ],
          "scatter": [
           {
            "fillpattern": {
             "fillmode": "overlay",
             "size": 10,
             "solidity": 0.2
            },
            "type": "scatter"
           }
          ],
          "scatter3d": [
           {
            "line": {
             "colorbar": {
              "outlinewidth": 0,
              "ticks": ""
             }
            },
            "marker": {
             "colorbar": {
              "outlinewidth": 0,
              "ticks": ""
             }
            },
            "type": "scatter3d"
           }
          ],
          "scattercarpet": [
           {
            "marker": {
             "colorbar": {
              "outlinewidth": 0,
              "ticks": ""
             }
            },
            "type": "scattercarpet"
           }
          ],
          "scattergeo": [
           {
            "marker": {
             "colorbar": {
              "outlinewidth": 0,
              "ticks": ""
             }
            },
            "type": "scattergeo"
           }
          ],
          "scattergl": [
           {
            "marker": {
             "colorbar": {
              "outlinewidth": 0,
              "ticks": ""
             }
            },
            "type": "scattergl"
           }
          ],
          "scattermapbox": [
           {
            "marker": {
             "colorbar": {
              "outlinewidth": 0,
              "ticks": ""
             }
            },
            "type": "scattermapbox"
           }
          ],
          "scatterpolar": [
           {
            "marker": {
             "colorbar": {
              "outlinewidth": 0,
              "ticks": ""
             }
            },
            "type": "scatterpolar"
           }
          ],
          "scatterpolargl": [
           {
            "marker": {
             "colorbar": {
              "outlinewidth": 0,
              "ticks": ""
             }
            },
            "type": "scatterpolargl"
           }
          ],
          "scatterternary": [
           {
            "marker": {
             "colorbar": {
              "outlinewidth": 0,
              "ticks": ""
             }
            },
            "type": "scatterternary"
           }
          ],
          "surface": [
           {
            "colorbar": {
             "outlinewidth": 0,
             "ticks": ""
            },
            "colorscale": [
             [
              0,
              "#0d0887"
             ],
             [
              0.1111111111111111,
              "#46039f"
             ],
             [
              0.2222222222222222,
              "#7201a8"
             ],
             [
              0.3333333333333333,
              "#9c179e"
             ],
             [
              0.4444444444444444,
              "#bd3786"
             ],
             [
              0.5555555555555556,
              "#d8576b"
             ],
             [
              0.6666666666666666,
              "#ed7953"
             ],
             [
              0.7777777777777778,
              "#fb9f3a"
             ],
             [
              0.8888888888888888,
              "#fdca26"
             ],
             [
              1,
              "#f0f921"
             ]
            ],
            "type": "surface"
           }
          ],
          "table": [
           {
            "cells": {
             "fill": {
              "color": "#EBF0F8"
             },
             "line": {
              "color": "white"
             }
            },
            "header": {
             "fill": {
              "color": "#C8D4E3"
             },
             "line": {
              "color": "white"
             }
            },
            "type": "table"
           }
          ]
         },
         "layout": {
          "annotationdefaults": {
           "arrowcolor": "#2a3f5f",
           "arrowhead": 0,
           "arrowwidth": 1
          },
          "autotypenumbers": "strict",
          "coloraxis": {
           "colorbar": {
            "outlinewidth": 0,
            "ticks": ""
           }
          },
          "colorscale": {
           "diverging": [
            [
             0,
             "#8e0152"
            ],
            [
             0.1,
             "#c51b7d"
            ],
            [
             0.2,
             "#de77ae"
            ],
            [
             0.3,
             "#f1b6da"
            ],
            [
             0.4,
             "#fde0ef"
            ],
            [
             0.5,
             "#f7f7f7"
            ],
            [
             0.6,
             "#e6f5d0"
            ],
            [
             0.7,
             "#b8e186"
            ],
            [
             0.8,
             "#7fbc41"
            ],
            [
             0.9,
             "#4d9221"
            ],
            [
             1,
             "#276419"
            ]
           ],
           "sequential": [
            [
             0,
             "#0d0887"
            ],
            [
             0.1111111111111111,
             "#46039f"
            ],
            [
             0.2222222222222222,
             "#7201a8"
            ],
            [
             0.3333333333333333,
             "#9c179e"
            ],
            [
             0.4444444444444444,
             "#bd3786"
            ],
            [
             0.5555555555555556,
             "#d8576b"
            ],
            [
             0.6666666666666666,
             "#ed7953"
            ],
            [
             0.7777777777777778,
             "#fb9f3a"
            ],
            [
             0.8888888888888888,
             "#fdca26"
            ],
            [
             1,
             "#f0f921"
            ]
           ],
           "sequentialminus": [
            [
             0,
             "#0d0887"
            ],
            [
             0.1111111111111111,
             "#46039f"
            ],
            [
             0.2222222222222222,
             "#7201a8"
            ],
            [
             0.3333333333333333,
             "#9c179e"
            ],
            [
             0.4444444444444444,
             "#bd3786"
            ],
            [
             0.5555555555555556,
             "#d8576b"
            ],
            [
             0.6666666666666666,
             "#ed7953"
            ],
            [
             0.7777777777777778,
             "#fb9f3a"
            ],
            [
             0.8888888888888888,
             "#fdca26"
            ],
            [
             1,
             "#f0f921"
            ]
           ]
          },
          "colorway": [
           "#636efa",
           "#EF553B",
           "#00cc96",
           "#ab63fa",
           "#FFA15A",
           "#19d3f3",
           "#FF6692",
           "#B6E880",
           "#FF97FF",
           "#FECB52"
          ],
          "font": {
           "color": "#2a3f5f"
          },
          "geo": {
           "bgcolor": "white",
           "lakecolor": "white",
           "landcolor": "#E5ECF6",
           "showlakes": true,
           "showland": true,
           "subunitcolor": "white"
          },
          "hoverlabel": {
           "align": "left"
          },
          "hovermode": "closest",
          "mapbox": {
           "style": "light"
          },
          "paper_bgcolor": "white",
          "plot_bgcolor": "#E5ECF6",
          "polar": {
           "angularaxis": {
            "gridcolor": "white",
            "linecolor": "white",
            "ticks": ""
           },
           "bgcolor": "#E5ECF6",
           "radialaxis": {
            "gridcolor": "white",
            "linecolor": "white",
            "ticks": ""
           }
          },
          "scene": {
           "xaxis": {
            "backgroundcolor": "#E5ECF6",
            "gridcolor": "white",
            "gridwidth": 2,
            "linecolor": "white",
            "showbackground": true,
            "ticks": "",
            "zerolinecolor": "white"
           },
           "yaxis": {
            "backgroundcolor": "#E5ECF6",
            "gridcolor": "white",
            "gridwidth": 2,
            "linecolor": "white",
            "showbackground": true,
            "ticks": "",
            "zerolinecolor": "white"
           },
           "zaxis": {
            "backgroundcolor": "#E5ECF6",
            "gridcolor": "white",
            "gridwidth": 2,
            "linecolor": "white",
            "showbackground": true,
            "ticks": "",
            "zerolinecolor": "white"
           }
          },
          "shapedefaults": {
           "line": {
            "color": "#2a3f5f"
           }
          },
          "ternary": {
           "aaxis": {
            "gridcolor": "white",
            "linecolor": "white",
            "ticks": ""
           },
           "baxis": {
            "gridcolor": "white",
            "linecolor": "white",
            "ticks": ""
           },
           "bgcolor": "#E5ECF6",
           "caxis": {
            "gridcolor": "white",
            "linecolor": "white",
            "ticks": ""
           }
          },
          "title": {
           "x": 0.05
          },
          "xaxis": {
           "automargin": true,
           "gridcolor": "white",
           "linecolor": "white",
           "ticks": "",
           "title": {
            "standoff": 15
           },
           "zerolinecolor": "white",
           "zerolinewidth": 2
          },
          "yaxis": {
           "automargin": true,
           "gridcolor": "white",
           "linecolor": "white",
           "ticks": "",
           "title": {
            "standoff": 15
           },
           "zerolinecolor": "white",
           "zerolinewidth": 2
          }
         }
        },
        "xaxis": {
         "anchor": "y",
         "domain": [
          0,
          1
         ]
        },
        "xaxis2": {
         "anchor": "y2",
         "domain": [
          0,
          1
         ],
         "title": {
          "text": "Date"
         }
        },
        "yaxis": {
         "anchor": "x",
         "domain": [
          0.625,
          1
         ],
         "title": {
          "text": "House Price"
         }
        },
        "yaxis2": {
         "anchor": "x2",
         "domain": [
          0,
          0.375
         ],
         "title": {
          "text": "Price per Square Foot"
         }
        }
       }
      }
     },
     "metadata": {},
     "output_type": "display_data"
    }
   ],
   "source": [
    "fig_eda_2 = make_subplots(rows=2, cols=1, \n",
    "                          subplot_titles=[\"House Price as a function of Date\",\n",
    "                                          \"Price per Square Foot as a function of Date\"])\n",
    "\n",
    "fig_eda_2.add_trace( go.Scatter(x=price_temporal[\"date_sold\"], y=price_temporal[\"sale_price\"],\n",
    "                          mode=\"markers\", marker_color=\"#ff847c\", showlegend=False),\n",
    "                row=1, col=1)\n",
    "fig_eda_2.add_trace( go.Scatter(x=price_temporal_ave[\"date_sold\"], y=price_temporal_ave[\"sale_price\"],\n",
    "                          mode=\"lines\", marker_color=\"#811331\",\n",
    "                          showlegend=True, legendgroup=\"mean\", name=\"mean\"),\n",
    "                row=1, col=1)\n",
    "fig_eda_2.add_trace( go.Scatter(x=price_temporal_med[\"date_sold\"], y=price_temporal_med[\"sale_price\"],\n",
    "                          mode=\"lines\", marker_color=\"#0F52BA\",\n",
    "                          showlegend=True, legendgroup=\"median\", name=\"median\"),\n",
    "                row=1, col=1)\n",
    "\n",
    "\n",
    "fig_eda_2.add_trace( go.Scatter(x=price_temporal[\"date_sold\"], y=price_temporal[\"price_per_sf\"],\n",
    "                          mode=\"markers\", marker_color=\"#ff847c\", showlegend=False),\n",
    "                row=2, col=1)\n",
    "fig_eda_2.add_trace( go.Scatter(x=price_temporal_ave[\"date_sold\"], y=price_temporal_ave[\"price_per_sf\"],\n",
    "                          mode=\"lines\", marker_color=\"#811331\",\n",
    "                          showlegend=False, legendgroup=\"mean\", name=\"mean\"),\n",
    "                row=2, col=1)\n",
    "fig_eda_2.add_trace( go.Scatter(x=price_temporal_med[\"date_sold\"], y=price_temporal_med[\"price_per_sf\"],\n",
    "                          mode=\"lines\", marker_color=\"#0F52BA\",\n",
    "                          showlegend=False, legendgroup=\"median\", name=\"median\"),\n",
    "                row=2, col=1)\n",
    "\n",
    "fig_eda_2.update_xaxes(title_text=\"Date\", row=2)\n",
    "\n",
    "fig_eda_2.update_yaxes(title_text=\"House Price\", row=1)\n",
    "fig_eda_2.update_yaxes(title_text=\"Price per Square Foot\", row=2)\n",
    "\n",
    "\n",
    "\n",
    "fig_eda_2.update_layout(height=600, legend=dict(yanchor=\"top\", y=1.2, xanchor=\"left\", x=0.4, orientation=\"h\"))\n",
    "fig_eda_2.show()\n"
   ]
  },
  {
   "cell_type": "markdown",
   "metadata": {},
   "source": [
    "The price and price per square foot were relatively stable over time as shown in the plots above."
   ]
  },
  {
   "cell_type": "markdown",
   "metadata": {},
   "source": [
    "## House Characteristics"
   ]
  },
  {
   "cell_type": "code",
   "execution_count": 259,
   "metadata": {},
   "outputs": [],
   "source": [
    "##### Building type\n",
    "house_bldg_type = house_df[[\"sale_price\", \"neighborhood\", \"house_style\", \"bldg_type\"]]\n",
    "\n",
    "### group by building type only\n",
    "house_bldg_type_1 =  house_bldg_type.groupby([\"bldg_type\"]).count().rename(columns={\"sale_price\":\"count\"}).reset_index()\n",
    "house_bldg_type_1 = house_bldg_type_1[[\"bldg_type\", \"count\"]]\n",
    "\n",
    "### group by neighborhood and building type\n",
    "house_bldg_type_2 = house_bldg_type.groupby([\"neighborhood\", \"bldg_type\"]).count()\n",
    "house_bldg_type_2 = house_bldg_type_2[\"sale_price\"].rename({\"sale_price\":\"count\"}).unstack().fillna(0)\n",
    "\n",
    "house_bldg_type_3 = house_bldg_type_2.div(house_bldg_type_2.sum(axis=1), axis=0)\n",
    "\n",
    "house_bldg_type_4 = house_bldg_type.groupby([\"neighborhood\", \"bldg_type\"]).agg([\"mean\", \"median\"]).reset_index()\n",
    "\n",
    "\n",
    "##### House style\n",
    "house_style = house_df[[\"sale_price\", \"neighborhood\", \"house_style\", \"bldg_type\"]]\n",
    "\n",
    "house_style_1 = house_style.groupby([\"house_style\"]).count().rename(columns={\"sale_price\":\"count\"}).reset_index()\n",
    "house_style_1 = house_style_1[[\"house_style\", \"count\"]]\n",
    "\n",
    "house_style_2 = house_style.groupby([\"neighborhood\", \"house_style\"]).count()\n",
    "house_style_2 = house_style_2[\"sale_price\"].rename({\"sale_price\":\"count\"}).unstack().fillna(0)\n",
    "\n",
    "house_style_3 = house_style_2.div(house_style_2.sum(axis=1), axis=0)\n"
   ]
  },
  {
   "cell_type": "code",
   "execution_count": 322,
   "metadata": {},
   "outputs": [
    {
     "data": {
      "application/vnd.plotly.v1+json": {
       "config": {
        "plotlyServerURL": "https://plot.ly"
       },
       "data": [
        {
         "domain": {
          "x": [
           0,
           0.45
          ],
          "y": [
           0.545,
           1
          ]
         },
         "labels": [
          "1Fam",
          "2fmCon",
          "Duplex",
          "Twnhs",
          "TwnhsE"
         ],
         "legend": "legend",
         "legendgroup": "1",
         "legendgrouptitle": {
          "text": "Building type"
         },
         "marker": {
          "colors": [
           "rgb(102, 197, 204)",
           "rgb(246, 207, 113)",
           "rgb(248, 156, 116)",
           "rgb(220, 176, 242)",
           "rgb(135, 197, 95)"
          ]
         },
         "textinfo": "value+percent",
         "type": "pie",
         "values": [
          1220,
          31,
          52,
          43,
          114
         ]
        },
        {
         "domain": {
          "x": [
           0.55,
           1
          ],
          "y": [
           0.545,
           1
          ]
         },
         "labels": [
          "1.5Fin",
          "1.5Unf",
          "1Story",
          "2.5Fin",
          "2.5Unf",
          "2Story",
          "SFoyer",
          "SLvl"
         ],
         "legend": "legend2",
         "legendgroup": "2",
         "legendgrouptitle": {
          "text": "House style"
         },
         "marker": {
          "colors": [
           "rgb(127, 60, 141)",
           "rgb(17, 165, 121)",
           "rgb(57, 105, 172)",
           "rgb(242, 183, 1)",
           "rgb(231, 63, 116)"
          ]
         },
         "textinfo": "value+percent",
         "type": "pie",
         "values": [
          154,
          14,
          726,
          8,
          11,
          445,
          37,
          65
         ]
        },
        {
         "colorbar": {
          "len": 0.5,
          "ticktext": [
           "min",
           "max"
          ],
          "tickvals": [
           0,
           1
          ],
          "y": 0.2
         },
         "colorscale": [
          [
           0,
           "rgb(255,245,235)"
          ],
          [
           0.125,
           "rgb(254,230,206)"
          ],
          [
           0.25,
           "rgb(253,208,162)"
          ],
          [
           0.375,
           "rgb(253,174,107)"
          ],
          [
           0.5,
           "rgb(253,141,60)"
          ],
          [
           0.625,
           "rgb(241,105,19)"
          ],
          [
           0.75,
           "rgb(217,72,1)"
          ],
          [
           0.875,
           "rgb(166,54,3)"
          ],
          [
           1,
           "rgb(127,39,4)"
          ]
         ],
         "text": [
          [
           1,
           0,
           0,
           0,
           16
          ],
          [
           0,
           0,
           0,
           1,
           1
          ],
          [
           0,
           0,
           0,
           12,
           4
          ],
          [
           56,
           2,
           0,
           0,
           0
          ],
          [
           28,
           0,
           0,
           0,
           0
          ],
          [
           140,
           0,
           0,
           0,
           10
          ],
          [
           45,
           1,
           2,
           0,
           3
          ],
          [
           81,
           4,
           8,
           3,
           4
          ],
          [
           78,
           1,
           0,
           0,
           0
          ],
          [
           34,
           2,
           1,
           0,
           0
          ],
          [
           0,
           0,
           0,
           7,
           10
          ],
          [
           36,
           1,
           8,
           1,
           3
          ],
          [
           205,
           1,
           17,
           0,
           2
          ],
          [
           0,
           0,
           0,
           3,
           6
          ],
          [
           71,
           0,
           2,
           0,
           0
          ],
          [
           41,
           0,
           0,
           0,
           0
          ],
          [
           55,
           0,
           0,
           7,
           15
          ],
          [
           96,
           14,
           3,
           0,
           0
          ],
          [
           22,
           3,
           0,
           0,
           0
          ],
          [
           67,
           1,
           6,
           0,
           0
          ],
          [
           47,
           0,
           5,
           0,
           7
          ],
          [
           59,
           0,
           0,
           9,
           18
          ],
          [
           13,
           0,
           0,
           0,
           12
          ],
          [
           37,
           1,
           0,
           0,
           0
          ],
          [
           8,
           0,
           0,
           0,
           3
          ]
         ],
         "texttemplate": "%{text:,.0f}",
         "type": "heatmap",
         "x": [
          "1Fam",
          "2fmCon",
          "Duplex",
          "Twnhs",
          "TwnhsE"
         ],
         "xaxis": "x",
         "y": [
          "Blmngtn",
          "Blueste",
          "BrDale",
          "BrkSide",
          "ClearCr",
          "CollgCr",
          "Crawfor",
          "Edwards",
          "Gilbert",
          "IDOTRR",
          "MeadowV",
          "Mitchel",
          "NAmes",
          "NPkVill",
          "NWAmes",
          "NoRidge",
          "NridgHt",
          "OldTown",
          "SWISU",
          "Sawyer",
          "SawyerW",
          "Somerst",
          "StoneBr",
          "Timber",
          "Veenker"
         ],
         "yaxis": "y",
         "z": [
          [
           0.058823529411764705,
           0,
           0,
           0,
           0.9411764705882353
          ],
          [
           0,
           0,
           0,
           0.5,
           0.5
          ],
          [
           0,
           0,
           0,
           0.75,
           0.25
          ],
          [
           0.9655172413793104,
           0.034482758620689655,
           0,
           0,
           0
          ],
          [
           1,
           0,
           0,
           0,
           0
          ],
          [
           0.9333333333333333,
           0,
           0,
           0,
           0.06666666666666667
          ],
          [
           0.8823529411764706,
           0.0196078431372549,
           0.0392156862745098,
           0,
           0.058823529411764705
          ],
          [
           0.81,
           0.04,
           0.08,
           0.03,
           0.04
          ],
          [
           0.9873417721518988,
           0.012658227848101266,
           0,
           0,
           0
          ],
          [
           0.918918918918919,
           0.05405405405405406,
           0.02702702702702703,
           0,
           0
          ],
          [
           0,
           0,
           0,
           0.4117647058823529,
           0.5882352941176471
          ],
          [
           0.7346938775510204,
           0.02040816326530612,
           0.16326530612244897,
           0.02040816326530612,
           0.061224489795918366
          ],
          [
           0.9111111111111111,
           0.0044444444444444444,
           0.07555555555555556,
           0,
           0.008888888888888889
          ],
          [
           0,
           0,
           0,
           0.3333333333333333,
           0.6666666666666666
          ],
          [
           0.9726027397260274,
           0,
           0.0273972602739726,
           0,
           0
          ],
          [
           1,
           0,
           0,
           0,
           0
          ],
          [
           0.7142857142857143,
           0,
           0,
           0.09090909090909091,
           0.19480519480519481
          ],
          [
           0.8495575221238938,
           0.12389380530973451,
           0.02654867256637168,
           0,
           0
          ],
          [
           0.88,
           0.12,
           0,
           0,
           0
          ],
          [
           0.9054054054054054,
           0.013513513513513514,
           0.08108108108108109,
           0,
           0
          ],
          [
           0.7966101694915254,
           0,
           0.0847457627118644,
           0,
           0.11864406779661017
          ],
          [
           0.686046511627907,
           0,
           0,
           0.10465116279069768,
           0.20930232558139536
          ],
          [
           0.52,
           0,
           0,
           0,
           0.48
          ],
          [
           0.9736842105263158,
           0.02631578947368421,
           0,
           0,
           0
          ],
          [
           0.7272727272727273,
           0,
           0,
           0,
           0.2727272727272727
          ]
         ]
        },
        {
         "colorbar": {
          "len": 0.5,
          "ticktext": [
           "min",
           "max"
          ],
          "tickvals": [
           0,
           1
          ]
         },
         "colorscale": [
          [
           0,
           "rgb(255,245,235)"
          ],
          [
           0.125,
           "rgb(254,230,206)"
          ],
          [
           0.25,
           "rgb(253,208,162)"
          ],
          [
           0.375,
           "rgb(253,174,107)"
          ],
          [
           0.5,
           "rgb(253,141,60)"
          ],
          [
           0.625,
           "rgb(241,105,19)"
          ],
          [
           0.75,
           "rgb(217,72,1)"
          ],
          [
           0.875,
           "rgb(166,54,3)"
          ],
          [
           1,
           "rgb(127,39,4)"
          ]
         ],
         "showscale": false,
         "text": [
          [
           0,
           0,
           17,
           0,
           0,
           0,
           0,
           0
          ],
          [
           0,
           0,
           0,
           0,
           0,
           2,
           0,
           0
          ],
          [
           0,
           0,
           0,
           0,
           0,
           16,
           0,
           0
          ],
          [
           25,
           6,
           20,
           0,
           1,
           6,
           0,
           0
          ],
          [
           6,
           0,
           11,
           0,
           0,
           8,
           0,
           3
          ],
          [
           0,
           0,
           91,
           0,
           0,
           53,
           3,
           3
          ],
          [
           9,
           1,
           19,
           1,
           1,
           20,
           0,
           0
          ],
          [
           22,
           0,
           53,
           0,
           0,
           14,
           5,
           6
          ],
          [
           1,
           0,
           11,
           0,
           0,
           60,
           0,
           7
          ],
          [
           16,
           2,
           13,
           0,
           1,
           5,
           0,
           0
          ],
          [
           0,
           0,
           2,
           0,
           0,
           8,
           6,
           1
          ],
          [
           4,
           0,
           32,
           0,
           0,
           3,
           5,
           5
          ],
          [
           15,
           2,
           159,
           0,
           0,
           22,
           6,
           21
          ],
          [
           0,
           0,
           4,
           0,
           0,
           5,
           0,
           0
          ],
          [
           1,
           0,
           35,
           0,
           0,
           29,
           1,
           7
          ],
          [
           2,
           0,
           6,
           0,
           0,
           33,
           0,
           0
          ],
          [
           0,
           0,
           51,
           0,
           0,
           26,
           0,
           0
          ],
          [
           33,
           2,
           33,
           3,
           8,
           32,
           2,
           0
          ],
          [
           12,
           0,
           2,
           4,
           0,
           7,
           0,
           0
          ],
          [
           5,
           0,
           53,
           0,
           0,
           5,
           6,
           5
          ],
          [
           1,
           1,
           28,
           0,
           0,
           25,
           3,
           1
          ],
          [
           0,
           0,
           37,
           0,
           0,
           49,
           0,
           0
          ],
          [
           0,
           0,
           18,
           0,
           0,
           7,
           0,
           0
          ],
          [
           2,
           0,
           23,
           0,
           0,
           9,
           0,
           4
          ],
          [
           0,
           0,
           8,
           0,
           0,
           1,
           0,
           2
          ]
         ],
         "texttemplate": "%{text:,.0f}",
         "type": "heatmap",
         "x": [
          "1.5Fin",
          "1.5Unf",
          "1Story",
          "2.5Fin",
          "2.5Unf",
          "2Story",
          "SFoyer",
          "SLvl"
         ],
         "xaxis": "x2",
         "y": [
          "Blmngtn",
          "Blueste",
          "BrDale",
          "BrkSide",
          "ClearCr",
          "CollgCr",
          "Crawfor",
          "Edwards",
          "Gilbert",
          "IDOTRR",
          "MeadowV",
          "Mitchel",
          "NAmes",
          "NPkVill",
          "NWAmes",
          "NoRidge",
          "NridgHt",
          "OldTown",
          "SWISU",
          "Sawyer",
          "SawyerW",
          "Somerst",
          "StoneBr",
          "Timber",
          "Veenker"
         ],
         "yaxis": "y2",
         "z": [
          [
           0,
           0,
           1,
           0,
           0,
           0,
           0,
           0
          ],
          [
           0,
           0,
           0,
           0,
           0,
           1,
           0,
           0
          ],
          [
           0,
           0,
           0,
           0,
           0,
           1,
           0,
           0
          ],
          [
           0.43103448275862066,
           0.10344827586206896,
           0.3448275862068966,
           0,
           0.017241379310344827,
           0.10344827586206896,
           0,
           0
          ],
          [
           0.21428571428571427,
           0,
           0.39285714285714285,
           0,
           0,
           0.2857142857142857,
           0,
           0.10714285714285714
          ],
          [
           0,
           0,
           0.6066666666666667,
           0,
           0,
           0.35333333333333333,
           0.02,
           0.02
          ],
          [
           0.17647058823529413,
           0.0196078431372549,
           0.37254901960784315,
           0.0196078431372549,
           0.0196078431372549,
           0.39215686274509803,
           0,
           0
          ],
          [
           0.22,
           0,
           0.53,
           0,
           0,
           0.14,
           0.05,
           0.06
          ],
          [
           0.012658227848101266,
           0,
           0.13924050632911392,
           0,
           0,
           0.759493670886076,
           0,
           0.08860759493670886
          ],
          [
           0.43243243243243246,
           0.05405405405405406,
           0.35135135135135137,
           0,
           0.02702702702702703,
           0.13513513513513514,
           0,
           0
          ],
          [
           0,
           0,
           0.11764705882352941,
           0,
           0,
           0.47058823529411764,
           0.35294117647058826,
           0.058823529411764705
          ],
          [
           0.08163265306122448,
           0,
           0.6530612244897959,
           0,
           0,
           0.061224489795918366,
           0.10204081632653061,
           0.10204081632653061
          ],
          [
           0.06666666666666667,
           0.008888888888888889,
           0.7066666666666667,
           0,
           0,
           0.09777777777777778,
           0.02666666666666667,
           0.09333333333333334
          ],
          [
           0,
           0,
           0.4444444444444444,
           0,
           0,
           0.5555555555555556,
           0,
           0
          ],
          [
           0.0136986301369863,
           0,
           0.4794520547945205,
           0,
           0,
           0.3972602739726027,
           0.0136986301369863,
           0.0958904109589041
          ],
          [
           0.04878048780487805,
           0,
           0.14634146341463414,
           0,
           0,
           0.8048780487804879,
           0,
           0
          ],
          [
           0,
           0,
           0.6623376623376623,
           0,
           0,
           0.33766233766233766,
           0,
           0
          ],
          [
           0.2920353982300885,
           0.017699115044247787,
           0.2920353982300885,
           0.02654867256637168,
           0.07079646017699115,
           0.2831858407079646,
           0.017699115044247787,
           0
          ],
          [
           0.48,
           0,
           0.08,
           0.16,
           0,
           0.28,
           0,
           0
          ],
          [
           0.06756756756756757,
           0,
           0.7162162162162162,
           0,
           0,
           0.06756756756756757,
           0.08108108108108109,
           0.06756756756756757
          ],
          [
           0.01694915254237288,
           0.01694915254237288,
           0.4745762711864407,
           0,
           0,
           0.423728813559322,
           0.05084745762711865,
           0.01694915254237288
          ],
          [
           0,
           0,
           0.43023255813953487,
           0,
           0,
           0.5697674418604651,
           0,
           0
          ],
          [
           0,
           0,
           0.72,
           0,
           0,
           0.28,
           0,
           0
          ],
          [
           0.05263157894736842,
           0,
           0.6052631578947368,
           0,
           0,
           0.23684210526315788,
           0,
           0.10526315789473684
          ],
          [
           0,
           0,
           0.7272727272727273,
           0,
           0,
           0.09090909090909091,
           0,
           0.18181818181818182
          ]
         ]
        }
       ],
       "layout": {
        "annotations": [
         {
          "font": {
           "size": 16
          },
          "showarrow": false,
          "text": "Building type",
          "x": 0.225,
          "xanchor": "center",
          "xref": "paper",
          "y": 1,
          "yanchor": "bottom",
          "yref": "paper"
         },
         {
          "font": {
           "size": 16
          },
          "showarrow": false,
          "text": "House style",
          "x": 0.775,
          "xanchor": "center",
          "xref": "paper",
          "y": 1,
          "yanchor": "bottom",
          "yref": "paper"
         },
         {
          "font": {
           "size": 16
          },
          "showarrow": false,
          "text": "Building type breakdown by neighborhood",
          "x": 0.225,
          "xanchor": "center",
          "xref": "paper",
          "y": 0.455,
          "yanchor": "bottom",
          "yref": "paper"
         },
         {
          "font": {
           "size": 16
          },
          "showarrow": false,
          "text": "House style breakdown by neighborhood",
          "x": 0.775,
          "xanchor": "center",
          "xref": "paper",
          "y": 0.455,
          "yanchor": "bottom",
          "yref": "paper"
         }
        ],
        "height": 1200,
        "hovermode": false,
        "template": {
         "data": {
          "bar": [
           {
            "error_x": {
             "color": "#2a3f5f"
            },
            "error_y": {
             "color": "#2a3f5f"
            },
            "marker": {
             "line": {
              "color": "#E5ECF6",
              "width": 0.5
             },
             "pattern": {
              "fillmode": "overlay",
              "size": 10,
              "solidity": 0.2
             }
            },
            "type": "bar"
           }
          ],
          "barpolar": [
           {
            "marker": {
             "line": {
              "color": "#E5ECF6",
              "width": 0.5
             },
             "pattern": {
              "fillmode": "overlay",
              "size": 10,
              "solidity": 0.2
             }
            },
            "type": "barpolar"
           }
          ],
          "carpet": [
           {
            "aaxis": {
             "endlinecolor": "#2a3f5f",
             "gridcolor": "white",
             "linecolor": "white",
             "minorgridcolor": "white",
             "startlinecolor": "#2a3f5f"
            },
            "baxis": {
             "endlinecolor": "#2a3f5f",
             "gridcolor": "white",
             "linecolor": "white",
             "minorgridcolor": "white",
             "startlinecolor": "#2a3f5f"
            },
            "type": "carpet"
           }
          ],
          "choropleth": [
           {
            "colorbar": {
             "outlinewidth": 0,
             "ticks": ""
            },
            "type": "choropleth"
           }
          ],
          "contour": [
           {
            "colorbar": {
             "outlinewidth": 0,
             "ticks": ""
            },
            "colorscale": [
             [
              0,
              "#0d0887"
             ],
             [
              0.1111111111111111,
              "#46039f"
             ],
             [
              0.2222222222222222,
              "#7201a8"
             ],
             [
              0.3333333333333333,
              "#9c179e"
             ],
             [
              0.4444444444444444,
              "#bd3786"
             ],
             [
              0.5555555555555556,
              "#d8576b"
             ],
             [
              0.6666666666666666,
              "#ed7953"
             ],
             [
              0.7777777777777778,
              "#fb9f3a"
             ],
             [
              0.8888888888888888,
              "#fdca26"
             ],
             [
              1,
              "#f0f921"
             ]
            ],
            "type": "contour"
           }
          ],
          "contourcarpet": [
           {
            "colorbar": {
             "outlinewidth": 0,
             "ticks": ""
            },
            "type": "contourcarpet"
           }
          ],
          "heatmap": [
           {
            "colorbar": {
             "outlinewidth": 0,
             "ticks": ""
            },
            "colorscale": [
             [
              0,
              "#0d0887"
             ],
             [
              0.1111111111111111,
              "#46039f"
             ],
             [
              0.2222222222222222,
              "#7201a8"
             ],
             [
              0.3333333333333333,
              "#9c179e"
             ],
             [
              0.4444444444444444,
              "#bd3786"
             ],
             [
              0.5555555555555556,
              "#d8576b"
             ],
             [
              0.6666666666666666,
              "#ed7953"
             ],
             [
              0.7777777777777778,
              "#fb9f3a"
             ],
             [
              0.8888888888888888,
              "#fdca26"
             ],
             [
              1,
              "#f0f921"
             ]
            ],
            "type": "heatmap"
           }
          ],
          "heatmapgl": [
           {
            "colorbar": {
             "outlinewidth": 0,
             "ticks": ""
            },
            "colorscale": [
             [
              0,
              "#0d0887"
             ],
             [
              0.1111111111111111,
              "#46039f"
             ],
             [
              0.2222222222222222,
              "#7201a8"
             ],
             [
              0.3333333333333333,
              "#9c179e"
             ],
             [
              0.4444444444444444,
              "#bd3786"
             ],
             [
              0.5555555555555556,
              "#d8576b"
             ],
             [
              0.6666666666666666,
              "#ed7953"
             ],
             [
              0.7777777777777778,
              "#fb9f3a"
             ],
             [
              0.8888888888888888,
              "#fdca26"
             ],
             [
              1,
              "#f0f921"
             ]
            ],
            "type": "heatmapgl"
           }
          ],
          "histogram": [
           {
            "marker": {
             "pattern": {
              "fillmode": "overlay",
              "size": 10,
              "solidity": 0.2
             }
            },
            "type": "histogram"
           }
          ],
          "histogram2d": [
           {
            "colorbar": {
             "outlinewidth": 0,
             "ticks": ""
            },
            "colorscale": [
             [
              0,
              "#0d0887"
             ],
             [
              0.1111111111111111,
              "#46039f"
             ],
             [
              0.2222222222222222,
              "#7201a8"
             ],
             [
              0.3333333333333333,
              "#9c179e"
             ],
             [
              0.4444444444444444,
              "#bd3786"
             ],
             [
              0.5555555555555556,
              "#d8576b"
             ],
             [
              0.6666666666666666,
              "#ed7953"
             ],
             [
              0.7777777777777778,
              "#fb9f3a"
             ],
             [
              0.8888888888888888,
              "#fdca26"
             ],
             [
              1,
              "#f0f921"
             ]
            ],
            "type": "histogram2d"
           }
          ],
          "histogram2dcontour": [
           {
            "colorbar": {
             "outlinewidth": 0,
             "ticks": ""
            },
            "colorscale": [
             [
              0,
              "#0d0887"
             ],
             [
              0.1111111111111111,
              "#46039f"
             ],
             [
              0.2222222222222222,
              "#7201a8"
             ],
             [
              0.3333333333333333,
              "#9c179e"
             ],
             [
              0.4444444444444444,
              "#bd3786"
             ],
             [
              0.5555555555555556,
              "#d8576b"
             ],
             [
              0.6666666666666666,
              "#ed7953"
             ],
             [
              0.7777777777777778,
              "#fb9f3a"
             ],
             [
              0.8888888888888888,
              "#fdca26"
             ],
             [
              1,
              "#f0f921"
             ]
            ],
            "type": "histogram2dcontour"
           }
          ],
          "mesh3d": [
           {
            "colorbar": {
             "outlinewidth": 0,
             "ticks": ""
            },
            "type": "mesh3d"
           }
          ],
          "parcoords": [
           {
            "line": {
             "colorbar": {
              "outlinewidth": 0,
              "ticks": ""
             }
            },
            "type": "parcoords"
           }
          ],
          "pie": [
           {
            "automargin": true,
            "type": "pie"
           }
          ],
          "scatter": [
           {
            "fillpattern": {
             "fillmode": "overlay",
             "size": 10,
             "solidity": 0.2
            },
            "type": "scatter"
           }
          ],
          "scatter3d": [
           {
            "line": {
             "colorbar": {
              "outlinewidth": 0,
              "ticks": ""
             }
            },
            "marker": {
             "colorbar": {
              "outlinewidth": 0,
              "ticks": ""
             }
            },
            "type": "scatter3d"
           }
          ],
          "scattercarpet": [
           {
            "marker": {
             "colorbar": {
              "outlinewidth": 0,
              "ticks": ""
             }
            },
            "type": "scattercarpet"
           }
          ],
          "scattergeo": [
           {
            "marker": {
             "colorbar": {
              "outlinewidth": 0,
              "ticks": ""
             }
            },
            "type": "scattergeo"
           }
          ],
          "scattergl": [
           {
            "marker": {
             "colorbar": {
              "outlinewidth": 0,
              "ticks": ""
             }
            },
            "type": "scattergl"
           }
          ],
          "scattermapbox": [
           {
            "marker": {
             "colorbar": {
              "outlinewidth": 0,
              "ticks": ""
             }
            },
            "type": "scattermapbox"
           }
          ],
          "scatterpolar": [
           {
            "marker": {
             "colorbar": {
              "outlinewidth": 0,
              "ticks": ""
             }
            },
            "type": "scatterpolar"
           }
          ],
          "scatterpolargl": [
           {
            "marker": {
             "colorbar": {
              "outlinewidth": 0,
              "ticks": ""
             }
            },
            "type": "scatterpolargl"
           }
          ],
          "scatterternary": [
           {
            "marker": {
             "colorbar": {
              "outlinewidth": 0,
              "ticks": ""
             }
            },
            "type": "scatterternary"
           }
          ],
          "surface": [
           {
            "colorbar": {
             "outlinewidth": 0,
             "ticks": ""
            },
            "colorscale": [
             [
              0,
              "#0d0887"
             ],
             [
              0.1111111111111111,
              "#46039f"
             ],
             [
              0.2222222222222222,
              "#7201a8"
             ],
             [
              0.3333333333333333,
              "#9c179e"
             ],
             [
              0.4444444444444444,
              "#bd3786"
             ],
             [
              0.5555555555555556,
              "#d8576b"
             ],
             [
              0.6666666666666666,
              "#ed7953"
             ],
             [
              0.7777777777777778,
              "#fb9f3a"
             ],
             [
              0.8888888888888888,
              "#fdca26"
             ],
             [
              1,
              "#f0f921"
             ]
            ],
            "type": "surface"
           }
          ],
          "table": [
           {
            "cells": {
             "fill": {
              "color": "#EBF0F8"
             },
             "line": {
              "color": "white"
             }
            },
            "header": {
             "fill": {
              "color": "#C8D4E3"
             },
             "line": {
              "color": "white"
             }
            },
            "type": "table"
           }
          ]
         },
         "layout": {
          "annotationdefaults": {
           "arrowcolor": "#2a3f5f",
           "arrowhead": 0,
           "arrowwidth": 1
          },
          "autotypenumbers": "strict",
          "coloraxis": {
           "colorbar": {
            "outlinewidth": 0,
            "ticks": ""
           }
          },
          "colorscale": {
           "diverging": [
            [
             0,
             "#8e0152"
            ],
            [
             0.1,
             "#c51b7d"
            ],
            [
             0.2,
             "#de77ae"
            ],
            [
             0.3,
             "#f1b6da"
            ],
            [
             0.4,
             "#fde0ef"
            ],
            [
             0.5,
             "#f7f7f7"
            ],
            [
             0.6,
             "#e6f5d0"
            ],
            [
             0.7,
             "#b8e186"
            ],
            [
             0.8,
             "#7fbc41"
            ],
            [
             0.9,
             "#4d9221"
            ],
            [
             1,
             "#276419"
            ]
           ],
           "sequential": [
            [
             0,
             "#0d0887"
            ],
            [
             0.1111111111111111,
             "#46039f"
            ],
            [
             0.2222222222222222,
             "#7201a8"
            ],
            [
             0.3333333333333333,
             "#9c179e"
            ],
            [
             0.4444444444444444,
             "#bd3786"
            ],
            [
             0.5555555555555556,
             "#d8576b"
            ],
            [
             0.6666666666666666,
             "#ed7953"
            ],
            [
             0.7777777777777778,
             "#fb9f3a"
            ],
            [
             0.8888888888888888,
             "#fdca26"
            ],
            [
             1,
             "#f0f921"
            ]
           ],
           "sequentialminus": [
            [
             0,
             "#0d0887"
            ],
            [
             0.1111111111111111,
             "#46039f"
            ],
            [
             0.2222222222222222,
             "#7201a8"
            ],
            [
             0.3333333333333333,
             "#9c179e"
            ],
            [
             0.4444444444444444,
             "#bd3786"
            ],
            [
             0.5555555555555556,
             "#d8576b"
            ],
            [
             0.6666666666666666,
             "#ed7953"
            ],
            [
             0.7777777777777778,
             "#fb9f3a"
            ],
            [
             0.8888888888888888,
             "#fdca26"
            ],
            [
             1,
             "#f0f921"
            ]
           ]
          },
          "colorway": [
           "#636efa",
           "#EF553B",
           "#00cc96",
           "#ab63fa",
           "#FFA15A",
           "#19d3f3",
           "#FF6692",
           "#B6E880",
           "#FF97FF",
           "#FECB52"
          ],
          "font": {
           "color": "#2a3f5f"
          },
          "geo": {
           "bgcolor": "white",
           "lakecolor": "white",
           "landcolor": "#E5ECF6",
           "showlakes": true,
           "showland": true,
           "subunitcolor": "white"
          },
          "hoverlabel": {
           "align": "left"
          },
          "hovermode": "closest",
          "mapbox": {
           "style": "light"
          },
          "paper_bgcolor": "white",
          "plot_bgcolor": "#E5ECF6",
          "polar": {
           "angularaxis": {
            "gridcolor": "white",
            "linecolor": "white",
            "ticks": ""
           },
           "bgcolor": "#E5ECF6",
           "radialaxis": {
            "gridcolor": "white",
            "linecolor": "white",
            "ticks": ""
           }
          },
          "scene": {
           "xaxis": {
            "backgroundcolor": "#E5ECF6",
            "gridcolor": "white",
            "gridwidth": 2,
            "linecolor": "white",
            "showbackground": true,
            "ticks": "",
            "zerolinecolor": "white"
           },
           "yaxis": {
            "backgroundcolor": "#E5ECF6",
            "gridcolor": "white",
            "gridwidth": 2,
            "linecolor": "white",
            "showbackground": true,
            "ticks": "",
            "zerolinecolor": "white"
           },
           "zaxis": {
            "backgroundcolor": "#E5ECF6",
            "gridcolor": "white",
            "gridwidth": 2,
            "linecolor": "white",
            "showbackground": true,
            "ticks": "",
            "zerolinecolor": "white"
           }
          },
          "shapedefaults": {
           "line": {
            "color": "#2a3f5f"
           }
          },
          "ternary": {
           "aaxis": {
            "gridcolor": "white",
            "linecolor": "white",
            "ticks": ""
           },
           "baxis": {
            "gridcolor": "white",
            "linecolor": "white",
            "ticks": ""
           },
           "bgcolor": "#E5ECF6",
           "caxis": {
            "gridcolor": "white",
            "linecolor": "white",
            "ticks": ""
           }
          },
          "title": {
           "x": 0.05
          },
          "xaxis": {
           "automargin": true,
           "gridcolor": "white",
           "linecolor": "white",
           "ticks": "",
           "title": {
            "standoff": 15
           },
           "zerolinecolor": "white",
           "zerolinewidth": 2
          },
          "yaxis": {
           "automargin": true,
           "gridcolor": "white",
           "linecolor": "white",
           "ticks": "",
           "title": {
            "standoff": 15
           },
           "zerolinecolor": "white",
           "zerolinewidth": 2
          }
         }
        },
        "xaxis": {
         "anchor": "y",
         "domain": [
          0,
          0.45
         ]
        },
        "xaxis2": {
         "anchor": "y2",
         "domain": [
          0.55,
          1
         ]
        },
        "yaxis": {
         "anchor": "x",
         "domain": [
          0,
          0.455
         ]
        },
        "yaxis2": {
         "anchor": "x2",
         "domain": [
          0,
          0.455
         ]
        }
       }
      }
     },
     "metadata": {},
     "output_type": "display_data"
    }
   ],
   "source": [
    "fig_eda_3 = make_subplots(rows=2, cols=2, vertical_spacing=0.09,\n",
    "                    specs=[[{\"type\":\"domain\"}, {\"type\":\"domain\"}], [{\"type\":\"xy\"}, {\"type\":\"xy\"}]],\n",
    "                    subplot_titles=[\"Building type\", \"House style\", \n",
    "                                    \"Building type breakdown by neighborhood\", \"House style breakdown by neighborhood\"])\n",
    "\n",
    "fig_eda_3.add_trace( go.Pie(values=house_bldg_type_1[\"count\"], labels=house_bldg_type_1[\"bldg_type\"],\n",
    "                      textinfo=\"value+percent\", \n",
    "                      marker=dict(colors=px.colors.qualitative.Pastel[0:len(house_bldg_type_1[\"bldg_type\"])]),\n",
    "                      legend=\"legend1\", legendgroup=\"1\", legendgrouptitle=dict(text=\"Building type\")),\n",
    "              row=1, col=1)\n",
    "\n",
    "fig_eda_3.add_trace( go.Pie(values=house_style_1[\"count\"], labels=house_style_1[\"house_style\"], \n",
    "                      textinfo=\"value+percent\",\n",
    "                      marker=dict(colors=px.colors.qualitative.Bold[0:len(house_bldg_type_1[\"bldg_type\"])]),\n",
    "                      legend=\"legend2\", legendgroup=\"2\", legendgrouptitle=dict(text=\"House style\")),\n",
    "              row=1, col=2)\n",
    "\n",
    "fig_eda_3.add_trace(go.Heatmap(x=house_bldg_type_3.columns, y=house_bldg_type_3.index, \n",
    "                         z=house_bldg_type_3, text=house_bldg_type_2, texttemplate=\"%{text:,.0f}\",\n",
    "                         colorscale=\"Oranges\", \n",
    "                         colorbar=dict(tickvals=[0,1], ticktext=[\"min\", \"max\"],\n",
    "                                       len=0.5, y=0.2)\n",
    "                         ),\n",
    "            row=2, col=1)\n",
    "\n",
    "fig_eda_3.add_trace(go.Heatmap(x=house_style_3.columns, y=house_style_3.index, \n",
    "                         z=house_style_3, text=house_style_2, texttemplate=\"%{text:,.0f}\",\n",
    "                         colorscale=\"Oranges\",\n",
    "                         colorbar=dict(tickvals=[0,1], ticktext=[\"min\", \"max\"], len=0.5),\n",
    "                         showscale=False\n",
    "                         ),\n",
    "            row=2, col=2)\n",
    "\n",
    "fig_eda_3.update_layout(height=1200, hovermode=False,\n",
    "                  )\n",
    "fig_eda_3.show()"
   ]
  },
  {
   "cell_type": "code",
   "execution_count": null,
   "metadata": {},
   "outputs": [],
   "source": []
  },
  {
   "cell_type": "markdown",
   "metadata": {},
   "source": [
    "----\n",
    "# <center> Feature Selection </center>\n",
    "----"
   ]
  },
  {
   "cell_type": "markdown",
   "metadata": {},
   "source": [
    "Split data into categorical and numerical data type."
   ]
  },
  {
   "cell_type": "code",
   "execution_count": 7,
   "metadata": {},
   "outputs": [
    {
     "data": {
      "text/html": [
       "<div>\n",
       "<style scoped>\n",
       "    .dataframe tbody tr th:only-of-type {\n",
       "        vertical-align: middle;\n",
       "    }\n",
       "\n",
       "    .dataframe tbody tr th {\n",
       "        vertical-align: top;\n",
       "    }\n",
       "\n",
       "    .dataframe thead th {\n",
       "        text-align: right;\n",
       "    }\n",
       "</style>\n",
       "<table border=\"1\" class=\"dataframe\">\n",
       "  <thead>\n",
       "    <tr style=\"text-align: right;\">\n",
       "      <th></th>\n",
       "      <th>ms_sub_class</th>\n",
       "      <th>lot_area</th>\n",
       "      <th>overall_qual</th>\n",
       "      <th>overall_cond</th>\n",
       "      <th>year_built</th>\n",
       "      <th>year_remod_add</th>\n",
       "      <th>mas_vnr_area</th>\n",
       "      <th>bsmt_fin_sf1</th>\n",
       "      <th>bsmt_fin_sf2</th>\n",
       "      <th>bsmt_unf_sf</th>\n",
       "      <th>...</th>\n",
       "      <th>open_porch_sf</th>\n",
       "      <th>enclosed_porch</th>\n",
       "      <th>3_ssn_porch</th>\n",
       "      <th>screen_porch</th>\n",
       "      <th>pool_area</th>\n",
       "      <th>misc_val</th>\n",
       "      <th>mo_sold</th>\n",
       "      <th>yr_sold</th>\n",
       "      <th>sale_price</th>\n",
       "      <th>age_sold</th>\n",
       "    </tr>\n",
       "  </thead>\n",
       "  <tbody>\n",
       "    <tr>\n",
       "      <th>0</th>\n",
       "      <td>60</td>\n",
       "      <td>8450</td>\n",
       "      <td>7</td>\n",
       "      <td>5</td>\n",
       "      <td>2003</td>\n",
       "      <td>2003</td>\n",
       "      <td>196.0</td>\n",
       "      <td>706</td>\n",
       "      <td>0</td>\n",
       "      <td>150</td>\n",
       "      <td>...</td>\n",
       "      <td>61</td>\n",
       "      <td>0</td>\n",
       "      <td>0</td>\n",
       "      <td>0</td>\n",
       "      <td>0</td>\n",
       "      <td>0</td>\n",
       "      <td>2</td>\n",
       "      <td>2008</td>\n",
       "      <td>208500</td>\n",
       "      <td>5</td>\n",
       "    </tr>\n",
       "    <tr>\n",
       "      <th>1</th>\n",
       "      <td>20</td>\n",
       "      <td>9600</td>\n",
       "      <td>6</td>\n",
       "      <td>8</td>\n",
       "      <td>1976</td>\n",
       "      <td>1976</td>\n",
       "      <td>0.0</td>\n",
       "      <td>978</td>\n",
       "      <td>0</td>\n",
       "      <td>284</td>\n",
       "      <td>...</td>\n",
       "      <td>0</td>\n",
       "      <td>0</td>\n",
       "      <td>0</td>\n",
       "      <td>0</td>\n",
       "      <td>0</td>\n",
       "      <td>0</td>\n",
       "      <td>5</td>\n",
       "      <td>2007</td>\n",
       "      <td>181500</td>\n",
       "      <td>31</td>\n",
       "    </tr>\n",
       "    <tr>\n",
       "      <th>2</th>\n",
       "      <td>60</td>\n",
       "      <td>11250</td>\n",
       "      <td>7</td>\n",
       "      <td>5</td>\n",
       "      <td>2001</td>\n",
       "      <td>2002</td>\n",
       "      <td>162.0</td>\n",
       "      <td>486</td>\n",
       "      <td>0</td>\n",
       "      <td>434</td>\n",
       "      <td>...</td>\n",
       "      <td>42</td>\n",
       "      <td>0</td>\n",
       "      <td>0</td>\n",
       "      <td>0</td>\n",
       "      <td>0</td>\n",
       "      <td>0</td>\n",
       "      <td>9</td>\n",
       "      <td>2008</td>\n",
       "      <td>223500</td>\n",
       "      <td>7</td>\n",
       "    </tr>\n",
       "    <tr>\n",
       "      <th>3</th>\n",
       "      <td>70</td>\n",
       "      <td>9550</td>\n",
       "      <td>7</td>\n",
       "      <td>5</td>\n",
       "      <td>1915</td>\n",
       "      <td>1970</td>\n",
       "      <td>0.0</td>\n",
       "      <td>216</td>\n",
       "      <td>0</td>\n",
       "      <td>540</td>\n",
       "      <td>...</td>\n",
       "      <td>35</td>\n",
       "      <td>272</td>\n",
       "      <td>0</td>\n",
       "      <td>0</td>\n",
       "      <td>0</td>\n",
       "      <td>0</td>\n",
       "      <td>2</td>\n",
       "      <td>2006</td>\n",
       "      <td>140000</td>\n",
       "      <td>91</td>\n",
       "    </tr>\n",
       "    <tr>\n",
       "      <th>4</th>\n",
       "      <td>60</td>\n",
       "      <td>14260</td>\n",
       "      <td>8</td>\n",
       "      <td>5</td>\n",
       "      <td>2000</td>\n",
       "      <td>2000</td>\n",
       "      <td>350.0</td>\n",
       "      <td>655</td>\n",
       "      <td>0</td>\n",
       "      <td>490</td>\n",
       "      <td>...</td>\n",
       "      <td>84</td>\n",
       "      <td>0</td>\n",
       "      <td>0</td>\n",
       "      <td>0</td>\n",
       "      <td>0</td>\n",
       "      <td>0</td>\n",
       "      <td>12</td>\n",
       "      <td>2008</td>\n",
       "      <td>250000</td>\n",
       "      <td>8</td>\n",
       "    </tr>\n",
       "  </tbody>\n",
       "</table>\n",
       "<p>5 rows × 37 columns</p>\n",
       "</div>"
      ],
      "text/plain": [
       "   ms_sub_class  lot_area  overall_qual  overall_cond  year_built  \\\n",
       "0            60      8450             7             5        2003   \n",
       "1            20      9600             6             8        1976   \n",
       "2            60     11250             7             5        2001   \n",
       "3            70      9550             7             5        1915   \n",
       "4            60     14260             8             5        2000   \n",
       "\n",
       "   year_remod_add  mas_vnr_area  bsmt_fin_sf1  bsmt_fin_sf2  bsmt_unf_sf  ...  \\\n",
       "0            2003         196.0           706             0          150  ...   \n",
       "1            1976           0.0           978             0          284  ...   \n",
       "2            2002         162.0           486             0          434  ...   \n",
       "3            1970           0.0           216             0          540  ...   \n",
       "4            2000         350.0           655             0          490  ...   \n",
       "\n",
       "   open_porch_sf  enclosed_porch  3_ssn_porch  screen_porch  pool_area  \\\n",
       "0             61               0            0             0          0   \n",
       "1              0               0            0             0          0   \n",
       "2             42               0            0             0          0   \n",
       "3             35             272            0             0          0   \n",
       "4             84               0            0             0          0   \n",
       "\n",
       "   misc_val  mo_sold  yr_sold  sale_price  age_sold  \n",
       "0         0        2     2008      208500         5  \n",
       "1         0        5     2007      181500        31  \n",
       "2         0        9     2008      223500         7  \n",
       "3         0        2     2006      140000        91  \n",
       "4         0       12     2008      250000         8  \n",
       "\n",
       "[5 rows x 37 columns]"
      ]
     },
     "execution_count": 7,
     "metadata": {},
     "output_type": "execute_result"
    }
   ],
   "source": [
    "##### split numerical and categorical data\n",
    "num_cleaned_house_df = cleaned_house_df.select_dtypes(include=np.number)\n",
    "cat_cleaned_house_df = cleaned_house_df.select_dtypes(exclude=np.number)\n",
    "\n",
    "num_cleaned_house_df.head(5)"
   ]
  },
  {
   "cell_type": "code",
   "execution_count": 8,
   "metadata": {},
   "outputs": [
    {
     "data": {
      "application/vnd.plotly.v1+json": {
       "config": {
        "plotlyServerURL": "https://plot.ly"
       },
       "data": [
        {
         "coloraxis": "coloraxis",
         "hovertemplate": "x: %{x}<br>y: %{y}<br>color: %{z}<extra></extra>",
         "name": "0",
         "type": "heatmap",
         "x": [
          "ms_sub_class",
          "lot_area",
          "overall_cond",
          "year_built",
          "year_remod_add",
          "mas_vnr_area",
          "bsmt_fin_sf1",
          "bsmt_fin_sf2",
          "bsmt_unf_sf",
          "total_bsmt_sf",
          "1st_flr_sf",
          "2nd_flr_sf",
          "low_qual_fin_sf",
          "gr_liv_area",
          "bsmt_full_bath",
          "bsmt_half_bath",
          "full_bath",
          "half_bath",
          "bedroom_abv_gr",
          "kitchen_abv_gr",
          "tot_rms_abv_grd",
          "fireplaces",
          "garage_yr_blt",
          "garage_cars",
          "garage_area",
          "wood_deck_sf",
          "open_porch_sf",
          "enclosed_porch",
          "3_ssn_porch",
          "screen_porch",
          "pool_area",
          "misc_val",
          "mo_sold",
          "yr_sold",
          "sale_price",
          "age_sold"
         ],
         "xaxis": "x",
         "y": [
          "sale_price",
          "gr_liv_area",
          "garage_cars",
          "garage_area",
          "total_bsmt_sf",
          "1st_flr_sf",
          "full_bath",
          "tot_rms_abv_grd",
          "year_built",
          "year_remod_add",
          "garage_yr_blt",
          "mas_vnr_area",
          "fireplaces",
          "bsmt_fin_sf1",
          "wood_deck_sf",
          "2nd_flr_sf",
          "open_porch_sf",
          "half_bath",
          "lot_area",
          "bsmt_full_bath",
          "bsmt_unf_sf",
          "bedroom_abv_gr",
          "screen_porch",
          "pool_area",
          "mo_sold",
          "3_ssn_porch",
          "bsmt_fin_sf2",
          "bsmt_half_bath",
          "misc_val",
          "low_qual_fin_sf",
          "yr_sold",
          "overall_cond",
          "ms_sub_class",
          "enclosed_porch",
          "kitchen_abv_gr",
          "age_sold"
         ],
         "yaxis": "y",
         "z": [
          [
           -0.08428413512659509,
           0.2638433538714051,
           -0.07785589404867797,
           0.5228973328794967,
           0.5071009671113866,
           0.47749304709571444,
           0.3864198062421535,
           -0.011378121450215146,
           0.21447910554696928,
           0.6135805515591943,
           0.6058521846919153,
           0.31933380283206736,
           -0.02560613000067955,
           0.7086244776126515,
           0.22712223313149427,
           -0.01684415429735895,
           0.5606637627484453,
           0.28410767559478256,
           0.16821315430073963,
           -0.13590737084214105,
           0.5337231555820284,
           0.46692883675152763,
           0.4863616774878596,
           0.6404091972583519,
           0.6234314389183622,
           0.32441344456812926,
           0.31585622711605504,
           -0.1285779579259566,
           0.04458366533574838,
           0.11144657114291112,
           0.09240354949187318,
           -0.021189579640303213,
           0.046432245223819446,
           -0.028922585168736813,
           1,
           -0.5233504175468151
          ],
          [
           0.0748531796577994,
           0.26311616716714803,
           -0.07968586538833815,
           0.19900971367645826,
           0.2873885196503327,
           0.39085663973843854,
           0.20817113014532704,
           -0.009639891551805443,
           0.240257268349935,
           0.45486820254790317,
           0.5660239689357486,
           0.6875010641666033,
           0.13468281300660076,
           1,
           0.03483604954490554,
           -0.0189184831706347,
           0.6300116462511148,
           0.4157716361052652,
           0.5212695109189948,
           0.10006316473775474,
           0.8254893743088425,
           0.46167913376144704,
           0.23119674063336224,
           0.4672474187951873,
           0.4689974773229655,
           0.24743282051884846,
           0.33022396171200064,
           0.009113210326003087,
           0.020643189710186576,
           0.10151039568208567,
           0.1702053360005616,
           -0.0024156395502935623,
           0.05023968081827284,
           -0.03652581962473121,
           0.7086244776126515,
           -0.20030249630654806
          ],
          [
           -0.040109793135783604,
           0.15487073975354076,
           -0.18575751057836357,
           0.5378500917111052,
           0.42062215494321714,
           0.3642036400698656,
           0.22405352239399068,
           -0.038263512869251545,
           0.2141751897502169,
           0.43458483429168865,
           0.4393168079906709,
           0.18392558307638002,
           -0.09447952015593257,
           0.4672474187951873,
           0.13188122440619438,
           -0.02089105899687853,
           0.469672043267628,
           0.21917815216716094,
           0.08610643768835287,
           -0.05063389240221729,
           0.3622885708147746,
           0.3007887663013562,
           0.5889200070047002,
           1,
           0.882475414281462,
           0.2263421384698597,
           0.21356944558969115,
           -0.15143416002683724,
           0.035765285146453774,
           0.05049379192719834,
           0.020933531041465454,
           -0.04308012810223063,
           0.040521730128251755,
           -0.039116904112831495,
           0.6404091972583519,
           -0.5387273901503337
          ],
          [
           -0.09867154319256435,
           0.1804027551511169,
           -0.15152137057022985,
           0.4789538198934904,
           0.3715998094973092,
           0.37306648160023664,
           0.2969703853445138,
           -0.018226591907316552,
           0.18330269774258412,
           0.4866654637737961,
           0.4897816541041918,
           0.13834695857186657,
           -0.06760141323952208,
           0.4689974773229655,
           0.179189480420231,
           -0.02453557957887923,
           0.4056562084540099,
           0.1635493640166073,
           0.06525252989881626,
           -0.06443304718314395,
           0.33782212063683786,
           0.2691412380738719,
           0.5645670607230577,
           0.882475414281462,
           1,
           0.2246663071787637,
           0.2414346721380881,
           -0.1217767195610043,
           0.03508670020815975,
           0.05141176244520852,
           0.061047271702060014,
           -0.02739991441262488,
           0.02797379982354057,
           -0.027377940418545084,
           0.6234314389183622,
           -0.47940772523967634
          ],
          [
           -0.23851840931511895,
           0.2608331345451572,
           -0.1710975146249218,
           0.3914520020660952,
           0.2910655826041661,
           0.3639362217744723,
           0.5223960519923867,
           0.10480953760636813,
           0.4153596051815893,
           1,
           0.8195299750050339,
           -0.17451195013496046,
           -0.0332453873474563,
           0.45486820254790317,
           0.30735055373550346,
           -0.00031458181983374725,
           0.3237224136066502,
           -0.04880373863521248,
           0.05044995551267818,
           -0.06890064264201659,
           0.28557256372579454,
           0.33951932389865597,
           0.3224451736794739,
           0.43458483429168865,
           0.4866654637737961,
           0.23201860912901803,
           0.2472637462881078,
           -0.09547773670640776,
           0.03738372726300508,
           0.08448898591431157,
           0.12605313210083768,
           -0.018478922431472124,
           0.013196178616778433,
           -0.014968648018762356,
           0.6135805515591943,
           -0.39149776403037023
          ],
          [
           -0.25175835187837925,
           0.29947457850776266,
           -0.1442027840490591,
           0.2819858586998021,
           0.24037926760355463,
           0.3445007468899248,
           0.4458626560920054,
           0.0971174484566702,
           0.3179874383527259,
           0.8195299750050339,
           1,
           -0.20264618100232087,
           -0.014240672666431285,
           0.5660239689357486,
           0.24467110424771052,
           0.001955653582048656,
           0.3806374949735071,
           -0.11991590879396136,
           0.12740074939236454,
           0.06810058817691335,
           0.40951597886683183,
           0.41053108465984556,
           0.23344909271486267,
           0.4393168079906709,
           0.4897816541041918,
           0.23545862278369778,
           0.2116712254979847,
           -0.0652917009103091,
           0.05610437448487508,
           0.08875807262015682,
           0.13152497564028254,
           -0.021095719463122223,
           0.03137156035207926,
           -0.01360377050464661,
           0.6058521846919153,
           -0.28214267508967616
          ],
          [
           0.13160822241028108,
           0.1260306265196436,
           -0.1941494887493024,
           0.4682707871726737,
           0.4390464838723479,
           0.27683284723698837,
           0.058543136861595194,
           -0.07644386196518269,
           0.2888860554869108,
           0.3237224136066502,
           0.3806374949735071,
           0.4213779828759713,
           -0.0007095096206731084,
           0.6300116462511148,
           -0.06451204863131507,
           -0.054535811983635524,
           1,
           0.13638058874914522,
           0.36325198302327694,
           0.1331152141960393,
           0.5547842535334836,
           0.2436705030799116,
           0.4845573867195222,
           0.469672043267628,
           0.4056562084540099,
           0.18770321383582822,
           0.25997742546824865,
           -0.11509296346134239,
           0.03535301658385297,
           -0.00810609332811188,
           0.04960382558403366,
           -0.014289844970848111,
           0.055872128991723384,
           -0.019668840691520386,
           0.5606637627484453,
           -0.46840292020672947
          ],
          [
           0.04038006478367613,
           0.190014777625409,
           -0.057583166112865375,
           0.09558912829795185,
           0.1917398162928069,
           0.2806816946085068,
           0.044315623912920654,
           -0.03522654794752336,
           0.25064706137624926,
           0.28557256372579454,
           0.40951597886683183,
           0.6164226354915431,
           0.13118477598954745,
           0.8254893743088425,
           -0.0532752361233972,
           -0.023836341262220544,
           0.5547842535334836,
           0.3434148575409178,
           0.676619935742649,
           0.2560454085359489,
           1,
           0.3261144801772001,
           0.1481117155859651,
           0.3622885708147746,
           0.33782212063683786,
           0.16598388371493233,
           0.2341915878315988,
           0.004151299023856323,
           -0.006683241010939702,
           0.059382599559410935,
           0.0837573495149245,
           0.024762884163584138,
           0.036907077159844405,
           -0.03451635430218269,
           0.5337231555820284,
           -0.09695522283693345
          ],
          [
           0.027850136946705798,
           0.014227651757025093,
           -0.37598319560698945,
           1,
           0.5928549763436519,
           0.3157070624361963,
           0.24950319668479728,
           -0.049106831196239174,
           0.14904039195440058,
           0.3914520020660952,
           0.2819858586998021,
           0.010307659584364078,
           -0.18378434437372046,
           0.19900971367645826,
           0.1875985499971434,
           -0.03816180567123349,
           0.4682707871726737,
           0.2426559102410641,
           -0.07065121690473103,
           -0.17480024561497706,
           0.09558912829795185,
           0.14771639941245646,
           0.8256674841743408,
           0.5378500917111052,
           0.4789538198934904,
           0.22488014230399744,
           0.188685840001731,
           -0.3872677829280785,
           0.03135451306436603,
           -0.05036443453861205,
           0.004949727615942999,
           -0.03438313873672287,
           0.012398470595440986,
           -0.01361768000183213,
           0.5228973328794967,
           -0.9990359444033182
          ],
          [
           0.04058104478406425,
           0.013788427078155424,
           0.07374149814528905,
           0.5928549763436519,
           1,
           0.17961837073552223,
           0.12845054712828866,
           -0.06775851356598699,
           0.18113308705016903,
           0.2910655826041661,
           0.24037926760355463,
           0.14002377880486447,
           -0.06241910007833181,
           0.2873885196503327,
           0.11946987911123993,
           -0.012337032127797673,
           0.4390464838723479,
           0.1833306117185349,
           -0.040580928067749454,
           -0.14959752104274646,
           0.1917398162928069,
           0.11258131843947561,
           0.6422767797035356,
           0.42062215494321714,
           0.3715998094973092,
           0.20572592049010355,
           0.22629763268298944,
           -0.1939191470992078,
           0.045285809814976964,
           -0.038740010742610125,
           0.005829372037106204,
           -0.010286248783081431,
           0.02149000222687611,
           0.03574324712127364,
           0.5071009671113866,
           -0.5903597200585918
          ],
          [
           0.08507186950664718,
           -0.02494741866564254,
           -0.32429673252939795,
           0.8256674841743408,
           0.6422767797035356,
           0.2526907749903342,
           0.1534840980267781,
           -0.08801081541220088,
           0.19070827345893257,
           0.3224451736794739,
           0.23344909271486267,
           0.0708323397173792,
           -0.03636323404234127,
           0.23119674063336224,
           0.12455252442364974,
           -0.07746361238070294,
           0.4845573867195222,
           0.19678517580586272,
           -0.06451843698438452,
           -0.12441140157001684,
           0.1481117155859651,
           0.04682164840190421,
           1,
           0.5889200070047002,
           0.5645670607230577,
           0.22457699198793213,
           0.22842457877198022,
           -0.2970026030557314,
           0.023543689573665077,
           -0.07541751376190593,
           -0.01450067856370222,
           -0.032417457821261826,
           0.0053370257603695135,
           -0.0010142778712734348,
           0.4863616774878596,
           -0.8246146956392572
          ],
          [
           0.022936285894197328,
           0.10415982154021264,
           -0.1281011991656896,
           0.3157070624361963,
           0.17961837073552223,
           1,
           0.2647362647138685,
           -0.0723188482033582,
           0.11444206231380821,
           0.3639362217744723,
           0.3445007468899248,
           0.1745614734574279,
           -0.06907085606589286,
           0.39085663973843854,
           0.08530982868972814,
           0.026672828155103145,
           0.27683284723698837,
           0.20144394692967832,
           0.10282115127801787,
           -0.03761025181986861,
           0.2806816946085068,
           0.24906961283714313,
           0.2526907749903342,
           0.3642036400698656,
           0.37306648160023664,
           0.15971813436595433,
           0.1257027966825031,
           -0.11020383387243517,
           0.018795515294914033,
           0.06146554318732188,
           0.01172306121326672,
           -0.02981539358527878,
           -0.005964715509114298,
           -0.008201030967080006,
           0.47749304709571444,
           -0.31556219710446276
          ],
          [
           -0.04556934027456939,
           0.2713640096245418,
           -0.02381997776166212,
           0.14771639941245646,
           0.11258131843947561,
           0.24906961283714313,
           0.2600109202350403,
           0.04692070882601213,
           0.0515748822895418,
           0.33951932389865597,
           0.41053108465984556,
           0.19456089224132392,
           -0.02127214341393874,
           0.46167913376144704,
           0.1379277084271981,
           0.028975586646259963,
           0.2436705030799116,
           0.20364850809521917,
           0.10756968099132388,
           -0.12393623529689729,
           0.3261144801772001,
           1,
           0.04682164840190421,
           0.3007887663013562,
           0.2691412380738719,
           0.20001879575902368,
           0.16940532713120185,
           -0.02482186853706847,
           0.011257238992774959,
           0.18453026951684842,
           0.09507352203619863,
           0.0014086054430451757,
           0.04635710249771968,
           -0.024095564980725313,
           0.46692883675152763,
           -0.14854356345186034
          ],
          [
           -0.06983574916710049,
           0.21410313070557713,
           -0.04623085591822496,
           0.24950319668479728,
           0.12845054712828866,
           0.2647362647138685,
           1,
           -0.0501174000471511,
           -0.49525146925701125,
           0.5223960519923867,
           0.4458626560920054,
           -0.13707898608005356,
           -0.06450259692146844,
           0.20817113014532704,
           0.6492117535742649,
           0.06741847791011696,
           0.058543136861595194,
           0.004262424384486936,
           -0.10735467682307034,
           -0.08100685077857439,
           0.044315623912920654,
           0.2600109202350403,
           0.1534840980267781,
           0.22405352239399068,
           0.2969703853445138,
           0.20430614523740265,
           0.11176061335675101,
           -0.10230330550073197,
           0.026450506189898953,
           0.06202062266534991,
           0.1404912862549568,
           0.003571473474954695,
           -0.015726948262154667,
           0.014358922393909302,
           0.3864198062421535,
           -0.24848308141621445
          ],
          [
           -0.012579358249219592,
           0.17169768725711246,
           -0.0033336992893856225,
           0.22488014230399744,
           0.20572592049010355,
           0.15971813436595433,
           0.20430614523740265,
           0.06789832641361218,
           -0.005316424333062066,
           0.23201860912901803,
           0.23545862278369778,
           0.09216541758603868,
           -0.025443647988791077,
           0.24743282051884846,
           0.17531519007972224,
           0.04016122325953452,
           0.18770321383582822,
           0.10808030267536337,
           0.04685377306989394,
           -0.09013027267903444,
           0.16598388371493233,
           0.20001879575902368,
           0.22457699198793213,
           0.2263421384698597,
           0.2246663071787637,
           1,
           0.058660608565887375,
           -0.1259888880376007,
           -0.03277063359357436,
           -0.07418135123983237,
           0.07337820695645396,
           -0.009551228238372468,
           0.021011044294297315,
           0.022270451009253036,
           0.32441344456812926,
           -0.22355114057385767
          ],
          [
           0.30788572075985926,
           0.05098594829349377,
           0.028942115965816882,
           0.010307659584364078,
           0.14002377880486447,
           0.1745614734574279,
           -0.13707898608005356,
           -0.09926031602264425,
           0.004469092144542392,
           -0.17451195013496046,
           -0.20264618100232087,
           1,
           0.06335295010932271,
           0.6875010641666033,
           -0.16949395173099896,
           -0.023854783937045255,
           0.4213779828759713,
           0.6097073002717436,
           0.5029006133459056,
           0.05930575264821624,
           0.6164226354915431,
           0.19456089224132392,
           0.0708323397173792,
           0.18392558307638002,
           0.13834695857186657,
           0.09216541758603868,
           0.2080260631813579,
           0.06198869077325203,
           -0.02435764842204794,
           0.040606447641001006,
           0.08148687804909954,
           0.016196874604388505,
           0.035164427361791005,
           -0.02869991393529755,
           0.31933380283206736,
           -0.011551593652793877
          ],
          [
           -0.006100121231942238,
           0.08477380884021642,
           -0.03258881352158505,
           0.188685840001731,
           0.22629763268298944,
           0.1257027966825031,
           0.11176061335675101,
           0.003092562209894399,
           0.12900541461542128,
           0.2472637462881078,
           0.2116712254979847,
           0.2080260631813579,
           0.018251039053999052,
           0.33022396171200064,
           0.06734146137698176,
           -0.02532375788905772,
           0.25997742546824865,
           0.19974014751279254,
           0.09380957160591452,
           -0.07009060989258609,
           0.2341915878315988,
           0.16940532713120185,
           0.22842457877198022,
           0.21356944558969115,
           0.2414346721380881,
           0.058660608565887375,
           1,
           -0.09307931750864903,
           -0.005842499340135753,
           0.07430394385024312,
           0.060762111489925795,
           -0.018583738987649336,
           0.07125488475868938,
           -0.057619360142091326,
           0.31585622711605504,
           -0.19092083324820494
          ],
          [
           0.17735438864391687,
           0.014259468566431947,
           -0.06076932676159483,
           0.2426559102410641,
           0.1833306117185349,
           0.20144394692967832,
           0.004262424384486936,
           -0.032147837468965886,
           -0.04111753014455172,
           -0.04880373863521248,
           -0.11991590879396136,
           0.6097073002717436,
           -0.02708004931716945,
           0.4157716361052652,
           -0.030904959142533293,
           -0.012339900052275487,
           0.13638058874914522,
           1,
           0.22665148415094508,
           -0.06826254889694101,
           0.3434148575409178,
           0.20364850809521917,
           0.19678517580586272,
           0.21917815216716094,
           0.1635493640166073,
           0.10808030267536337,
           0.19974014751279254,
           -0.09531652573608992,
           -0.0049724884173161,
           0.0724258451703809,
           0.0223814980554099,
           0.0012901448492839542,
           -0.009049888212650292,
           -0.010268668868105917,
           0.28410767559478256,
           -0.24272773350719212
          ],
          [
           -0.13978108172014597,
           1,
           -0.005636270274099278,
           0.014227651757025093,
           0.013788427078155424,
           0.10415982154021264,
           0.21410313070557713,
           0.11116974549624871,
           -0.00261835995009543,
           0.2608331345451572,
           0.29947457850776266,
           0.05098594829349377,
           0.004778969866349555,
           0.26311616716714803,
           0.15815453106001476,
           0.04804557088829686,
           0.1260306265196436,
           0.014259468566431947,
           0.11968990815131542,
           -0.017783870504841995,
           0.190014777625409,
           0.2713640096245418,
           -0.02494741866564254,
           0.15487073975354076,
           0.1804027551511169,
           0.17169768725711246,
           0.08477380884021642,
           -0.018339733672212328,
           0.020422829586133416,
           0.04316037769525204,
           0.07767239188017444,
           0.03806769201918336,
           0.0012049882225877268,
           -0.01426140729855021,
           0.2638433538714051,
           -0.014831558519227094
          ],
          [
           0.003491025779044692,
           0.15815453106001476,
           -0.05494151543295185,
           0.1875985499971434,
           0.11946987911123993,
           0.08530982868972814,
           0.6492117535742649,
           0.15867806078170135,
           -0.42290047738321335,
           0.30735055373550346,
           0.24467110424771052,
           -0.16949395173099896,
           -0.047143421898259166,
           0.03483604954490554,
           1,
           -0.14787096054760138,
           -0.06451204863131507,
           -0.030904959142533293,
           -0.15067280920795623,
           -0.041502546431482885,
           -0.0532752361233972,
           0.1379277084271981,
           0.12455252442364974,
           0.13188122440619438,
           0.179189480420231,
           0.17531519007972224,
           0.06734146137698176,
           -0.049910649083753186,
           -0.00010609153998400853,
           0.023147725763573802,
           0.06761555618047507,
           -0.02304702486861695,
           -0.025360894315259907,
           0.06704913767140361,
           0.22712223313149427,
           -0.18436182698653145
          ],
          [
           -0.14075948083501172,
           -0.00261835995009543,
           -0.13684056989352233,
           0.14904039195440058,
           0.18113308705016903,
           0.11444206231380821,
           -0.49525146925701125,
           -0.20929449241994497,
           1,
           0.4153596051815893,
           0.3179874383527259,
           0.004469092144542392,
           0.028166688132741206,
           0.240257268349935,
           -0.42290047738321335,
           -0.09580428815248283,
           0.2888860554869108,
           -0.04111753014455172,
           0.16664331698696289,
           0.030085868314000126,
           0.25064706137624926,
           0.0515748822895418,
           0.19070827345893257,
           0.2141751897502169,
           0.18330269774258412,
           -0.005316424333062066,
           0.12900541461542128,
           -0.002537854589751547,
           0.02076400569654798,
           -0.012579273444256824,
           -0.035092240793657914,
           -0.023836645134507763,
           0.03488844300908206,
           -0.04125819493876721,
           0.21447910554696928,
           -0.1506189918290662
          ],
          [
           -0.02343802846062706,
           0.11968990815131542,
           0.012980060094550628,
           -0.07065121690473103,
           -0.040580928067749454,
           0.10282115127801787,
           -0.10735467682307034,
           -0.015728113626581035,
           0.16664331698696289,
           0.05044995551267818,
           0.12740074939236454,
           0.5029006133459056,
           0.10560656854090526,
           0.5212695109189948,
           -0.15067280920795623,
           0.046518848389950684,
           0.36325198302327694,
           0.22665148415094508,
           1,
           0.1985967577071338,
           0.676619935742649,
           0.10756968099132388,
           -0.06451843698438452,
           0.08610643768835287,
           0.06525252989881626,
           0.04685377306989394,
           0.09380957160591452,
           0.04157043451959824,
           -0.02447779636611455,
           0.044299691127134826,
           0.07070258356547471,
           0.007766971998717607,
           0.04654385993628238,
           -0.03601389283370446,
           0.16821315430073963,
           0.06895972022171822
          ],
          [
           -0.026030176699806666,
           0.04316037769525204,
           0.05481052878611526,
           -0.05036443453861205,
           -0.038740010742610125,
           0.06146554318732188,
           0.06202062266534991,
           0.08887125137339073,
           -0.012579273444256824,
           0.08448898591431157,
           0.08875807262015682,
           0.040606447641001006,
           0.02679941302177244,
           0.10151039568208567,
           0.023147725763573802,
           0.03212140720908338,
           -0.00810609332811188,
           0.0724258451703809,
           0.044299691127134826,
           -0.05161336606147979,
           0.059382599559410935,
           0.18453026951684842,
           -0.07541751376190593,
           0.05049379192719834,
           0.05141176244520852,
           -0.07418135123983237,
           0.07430394385024312,
           -0.08286424483260343,
           -0.03143584703909575,
           1,
           0.05130739451790554,
           0.03194576077490817,
           0.023216991793307076,
           0.01069410600377114,
           0.11144657114291112,
           0.05075528053243195
          ],
          [
           0.008282707579624416,
           0.07767239188017444,
           -0.0019849422681841354,
           0.004949727615942999,
           0.005829372037106204,
           0.01172306121326672,
           0.1404912862549568,
           0.041709054681333575,
           -0.035092240793657914,
           0.12605313210083768,
           0.13152497564028254,
           0.08148687804909954,
           0.06215737226918922,
           0.1702053360005616,
           0.06761555618047507,
           0.02002462983851695,
           0.04960382558403366,
           0.0223814980554099,
           0.07070258356547471,
           -0.014525116015980777,
           0.0837573495149245,
           0.09507352203619863,
           -0.01450067856370222,
           0.020933531041465454,
           0.061047271702060014,
           0.07337820695645396,
           0.060762111489925795,
           0.05420256229213969,
           -0.00799154887286895,
           0.05130739451790554,
           1,
           0.02966865085402175,
           -0.033736640262791315,
           -0.0596889316752469,
           0.09240354949187318,
           -0.0075625644380090794
          ],
          [
           -0.013584643238322348,
           0.0012049882225877268,
           -0.003510838599939743,
           0.012398470595440986,
           0.02149000222687611,
           -0.005964715509114298,
           -0.015726948262154667,
           -0.015210737972006668,
           0.03488844300908206,
           0.013196178616778433,
           0.03137156035207926,
           0.035164427361791005,
           -0.02217396057953783,
           0.05023968081827284,
           -0.025360894315259907,
           0.03287270523409066,
           0.055872128991723384,
           -0.009049888212650292,
           0.04654385993628238,
           0.026588907230915452,
           0.036907077159844405,
           0.04635710249771968,
           0.0053370257603695135,
           0.040521730128251755,
           0.02797379982354057,
           0.021011044294297315,
           0.07125488475868938,
           -0.028887265707142493,
           0.02947379524994019,
           0.023216991793307076,
           -0.033736640262791315,
           -0.006494550221282175,
           1,
           -0.1457214126753949,
           0.046432245223819446,
           -0.01877682156553721
          ],
          [
           -0.04382454917560846,
           0.020422829586133416,
           0.025503660024132138,
           0.03135451306436603,
           0.045285809814976964,
           0.018795515294914033,
           0.026450506189898953,
           -0.029993397993921023,
           0.02076400569654798,
           0.03738372726300508,
           0.05610437448487508,
           -0.02435764842204794,
           -0.004295610410300094,
           0.020643189710186576,
           -0.00010609153998400853,
           0.035113630886772336,
           0.03535301658385297,
           -0.0049724884173161,
           -0.02447779636611455,
           -0.024600358690531954,
           -0.006683241010939702,
           0.011257238992774959,
           0.023543689573665077,
           0.035765285146453774,
           0.03508670020815975,
           -0.03277063359357436,
           -0.005842499340135753,
           -0.03730528278804611,
           1,
           -0.03143584703909575,
           -0.00799154887286895,
           0.00035396527793940183,
           0.02947379524994019,
           0.01864492540475066,
           0.04458366533574838,
           -0.030486957597546285
          ],
          [
           -0.06564857918852389,
           0.11116974549624871,
           0.040229169899767575,
           -0.049106831196239174,
           -0.06775851356598699,
           -0.0723188482033582,
           -0.0501174000471511,
           1,
           -0.20929449241994497,
           0.10480953760636813,
           0.0971174484566702,
           -0.09926031602264425,
           0.01480699794683367,
           -0.009639891551805443,
           0.15867806078170135,
           0.07094813365590413,
           -0.07644386196518269,
           -0.032147837468965886,
           -0.015728113626581035,
           -0.04075123644840764,
           -0.03522654794752336,
           0.04692070882601213,
           -0.08801081541220088,
           -0.038263512869251545,
           -0.018226591907316552,
           0.06789832641361218,
           0.003092562209894399,
           0.036543339448210164,
           -0.029993397993921023,
           0.08887125137339073,
           0.041709054681333575,
           0.004939781228437705,
           -0.015210737972006668,
           0.03170563698487945,
           -0.011378121450215146,
           0.050422126465853
          ],
          [
           -0.0023325345518022773,
           0.04804557088829686,
           0.11782091508139253,
           -0.03816180567123349,
           -0.012337032127797673,
           0.026672828155103145,
           0.06741847791011696,
           0.07094813365590413,
           -0.09580428815248283,
           -0.00031458181983374725,
           0.001955653582048656,
           -0.023854783937045255,
           -0.005841504819311643,
           -0.0189184831706347,
           -0.14787096054760138,
           1,
           -0.054535811983635524,
           -0.012339900052275487,
           0.046518848389950684,
           -0.03794435022720086,
           -0.023836341262220544,
           0.028975586646259963,
           -0.07746361238070294,
           -0.02089105899687853,
           -0.02453557957887923,
           0.04016122325953452,
           -0.02532375788905772,
           -0.008555333868578032,
           0.035113630886772336,
           0.03212140720908338,
           0.02002462983851695,
           -0.007366524543625446,
           0.03287270523409066,
           -0.04652388177400862,
           -0.01684415429735895,
           0.03605962701722577
          ],
          [
           -0.007683291329865976,
           0.03806769201918336,
           0.0687768060572499,
           -0.03438313873672287,
           -0.010286248783081431,
           -0.02981539358527878,
           0.003571473474954695,
           0.004939781228437705,
           -0.023836645134507763,
           -0.018478922431472124,
           -0.021095719463122223,
           0.016196874604388505,
           -0.003792870779996453,
           -0.0024156395502935623,
           -0.02304702486861695,
           -0.007366524543625446,
           -0.014289844970848111,
           0.0012901448492839542,
           0.007766971998717607,
           0.062340724004379115,
           0.024762884163584138,
           0.0014086054430451757,
           -0.032417457821261826,
           -0.04308012810223063,
           -0.02739991441262488,
           -0.009551228238372468,
           -0.018583738987649336,
           0.018360600139447715,
           0.00035396527793940183,
           0.03194576077490817,
           0.02966865085402175,
           1,
           -0.006494550221282175,
           0.004906262452651876,
           -0.021189579640303213,
           0.03454483824658244
          ],
          [
           0.046473755899517154,
           0.004778969866349555,
           0.025494319914213383,
           -0.18378434437372046,
           -0.06241910007833181,
           -0.06907085606589286,
           -0.06450259692146844,
           0.01480699794683367,
           0.028166688132741206,
           -0.0332453873474563,
           -0.014240672666431285,
           0.06335295010932271,
           1,
           0.13468281300660076,
           -0.047143421898259166,
           -0.005841504819311643,
           -0.0007095096206731084,
           -0.02708004931716945,
           0.10560656854090526,
           0.007521744344233734,
           0.13118477598954745,
           -0.02127214341393874,
           -0.03636323404234127,
           -0.09447952015593257,
           -0.06760141323952208,
           -0.025443647988791077,
           0.018251039053999052,
           0.06108123777122687,
           -0.004295610410300094,
           0.02679941302177244,
           0.06215737226918922,
           -0.003792870779996453,
           -0.02217396057953783,
           -0.028920879782296086,
           -0.02560613000067955,
           0.18222755234771848
          ],
          [
           -0.02140703785109821,
           -0.01426140729855021,
           0.043949745692488544,
           -0.01361768000183213,
           0.03574324712127364,
           -0.008201030967080006,
           0.014358922393909302,
           0.03170563698487945,
           -0.04125819493876721,
           -0.014968648018762356,
           -0.01360377050464661,
           -0.02869991393529755,
           -0.028920879782296086,
           -0.03652581962473121,
           0.06704913767140361,
           -0.04652388177400862,
           -0.019668840691520386,
           -0.010268668868105917,
           -0.03601389283370446,
           0.031687206500669154,
           -0.03451635430218269,
           -0.024095564980725313,
           -0.0010142778712734348,
           -0.039116904112831495,
           -0.027377940418545084,
           0.022270451009253036,
           -0.057619360142091326,
           -0.009915936955524396,
           0.01864492540475066,
           0.01069410600377114,
           -0.0596889316752469,
           0.004906262452651876,
           -0.1457214126753949,
           1,
           -0.028922585168736813,
           0.05750015991007409
          ],
          [
           -0.059315817084104695,
           -0.005636270274099278,
           1,
           -0.37598319560698945,
           0.07374149814528905,
           -0.1281011991656896,
           -0.04623085591822496,
           0.040229169899767575,
           -0.13684056989352233,
           -0.1710975146249218,
           -0.1442027840490591,
           0.028942115965816882,
           0.025494319914213383,
           -0.07968586538833815,
           -0.05494151543295185,
           0.11782091508139253,
           -0.1941494887493024,
           -0.06076932676159483,
           0.012980060094550628,
           -0.08700085543638039,
           -0.057583166112865375,
           -0.02381997776166212,
           -0.32429673252939795,
           -0.18575751057836357,
           -0.15152137057022985,
           -0.0033336992893856225,
           -0.03258881352158505,
           0.07035618448230374,
           0.025503660024132138,
           0.05481052878611526,
           -0.0019849422681841354,
           0.0687768060572499,
           -0.003510838599939743,
           0.043949745692488544,
           -0.07785589404867797,
           0.3773254975104505
          ],
          [
           1,
           -0.13978108172014597,
           -0.059315817084104695,
           0.027850136946705798,
           0.04058104478406425,
           0.022936285894197328,
           -0.06983574916710049,
           -0.06564857918852389,
           -0.14075948083501172,
           -0.23851840931511895,
           -0.25175835187837925,
           0.30788572075985926,
           0.046473755899517154,
           0.0748531796577994,
           0.003491025779044692,
           -0.0023325345518022773,
           0.13160822241028108,
           0.17735438864391687,
           -0.02343802846062706,
           0.2817210402648814,
           0.04038006478367613,
           -0.04556934027456939,
           0.08507186950664718,
           -0.040109793135783604,
           -0.09867154319256435,
           -0.012579358249219592,
           -0.006100121231942238,
           -0.012036621902094771,
           -0.04382454917560846,
           -0.026030176699806666,
           0.008282707579624416,
           -0.007683291329865976,
           -0.013584643238322348,
           -0.02140703785109821,
           -0.08428413512659509,
           -0.02874648641359135
          ],
          [
           -0.012036621902094771,
           -0.018339733672212328,
           0.07035618448230374,
           -0.3872677829280785,
           -0.1939191470992078,
           -0.11020383387243517,
           -0.10230330550073197,
           0.036543339448210164,
           -0.002537854589751547,
           -0.09547773670640776,
           -0.0652917009103091,
           0.06198869077325203,
           0.06108123777122687,
           0.009113210326003087,
           -0.049910649083753186,
           -0.008555333868578032,
           -0.11509296346134239,
           -0.09531652573608992,
           0.04157043451959824,
           0.03731238503296963,
           0.004151299023856323,
           -0.02482186853706847,
           -0.2970026030557314,
           -0.15143416002683724,
           -0.1217767195610043,
           -0.1259888880376007,
           -0.09307931750864903,
           1,
           -0.03730528278804611,
           -0.08286424483260343,
           0.05420256229213969,
           0.018360600139447715,
           -0.028887265707142493,
           -0.009915936955524396,
           -0.1285779579259566,
           0.38622755373023665
          ],
          [
           0.2817210402648814,
           -0.017783870504841995,
           -0.08700085543638039,
           -0.17480024561497706,
           -0.14959752104274646,
           -0.03761025181986861,
           -0.08100685077857439,
           -0.04075123644840764,
           0.030085868314000126,
           -0.06890064264201659,
           0.06810058817691335,
           0.05930575264821624,
           0.007521744344233734,
           0.10006316473775474,
           -0.041502546431482885,
           -0.03794435022720086,
           0.1331152141960393,
           -0.06826254889694101,
           0.1985967577071338,
           1,
           0.2560454085359489,
           -0.12393623529689729,
           -0.12441140157001684,
           -0.05063389240221729,
           -0.06443304718314395,
           -0.09013027267903444,
           -0.07009060989258609,
           0.03731238503296963,
           -0.024600358690531954,
           -0.05161336606147979,
           -0.014525116015980777,
           0.062340724004379115,
           0.026588907230915452,
           0.031687206500669154,
           -0.13590737084214105,
           0.1759184083061002
          ],
          [
           -0.02874648641359135,
           -0.014831558519227094,
           0.3773254975104505,
           -0.9990359444033182,
           -0.5903597200585918,
           -0.31556219710446276,
           -0.24848308141621445,
           0.050422126465853,
           -0.1506189918290662,
           -0.39149776403037023,
           -0.28214267508967616,
           -0.011551593652793877,
           0.18222755234771848,
           -0.20030249630654806,
           -0.18436182698653145,
           0.03605962701722577,
           -0.46840292020672947,
           -0.24272773350719212,
           0.06895972022171822,
           0.1759184083061002,
           -0.09695522283693345,
           -0.14854356345186034,
           -0.8246146956392572,
           -0.5387273901503337,
           -0.47940772523967634,
           -0.22355114057385767,
           -0.19092083324820494,
           0.38622755373023665,
           -0.030486957597546285,
           0.05075528053243195,
           -0.0075625644380090794,
           0.03454483824658244,
           -0.01877682156553721,
           0.05750015991007409,
           -0.5233504175468151,
           1
          ]
         ]
        }
       ],
       "layout": {
        "coloraxis": {
         "colorscale": [
          [
           0,
           "#0d0887"
          ],
          [
           0.1111111111111111,
           "#46039f"
          ],
          [
           0.2222222222222222,
           "#7201a8"
          ],
          [
           0.3333333333333333,
           "#9c179e"
          ],
          [
           0.4444444444444444,
           "#bd3786"
          ],
          [
           0.5555555555555556,
           "#d8576b"
          ],
          [
           0.6666666666666666,
           "#ed7953"
          ],
          [
           0.7777777777777778,
           "#fb9f3a"
          ],
          [
           0.8888888888888888,
           "#fdca26"
          ],
          [
           1,
           "#f0f921"
          ]
         ]
        },
        "margin": {
         "t": 60
        },
        "template": {
         "data": {
          "bar": [
           {
            "error_x": {
             "color": "#2a3f5f"
            },
            "error_y": {
             "color": "#2a3f5f"
            },
            "marker": {
             "line": {
              "color": "#E5ECF6",
              "width": 0.5
             },
             "pattern": {
              "fillmode": "overlay",
              "size": 10,
              "solidity": 0.2
             }
            },
            "type": "bar"
           }
          ],
          "barpolar": [
           {
            "marker": {
             "line": {
              "color": "#E5ECF6",
              "width": 0.5
             },
             "pattern": {
              "fillmode": "overlay",
              "size": 10,
              "solidity": 0.2
             }
            },
            "type": "barpolar"
           }
          ],
          "carpet": [
           {
            "aaxis": {
             "endlinecolor": "#2a3f5f",
             "gridcolor": "white",
             "linecolor": "white",
             "minorgridcolor": "white",
             "startlinecolor": "#2a3f5f"
            },
            "baxis": {
             "endlinecolor": "#2a3f5f",
             "gridcolor": "white",
             "linecolor": "white",
             "minorgridcolor": "white",
             "startlinecolor": "#2a3f5f"
            },
            "type": "carpet"
           }
          ],
          "choropleth": [
           {
            "colorbar": {
             "outlinewidth": 0,
             "ticks": ""
            },
            "type": "choropleth"
           }
          ],
          "contour": [
           {
            "colorbar": {
             "outlinewidth": 0,
             "ticks": ""
            },
            "colorscale": [
             [
              0,
              "#0d0887"
             ],
             [
              0.1111111111111111,
              "#46039f"
             ],
             [
              0.2222222222222222,
              "#7201a8"
             ],
             [
              0.3333333333333333,
              "#9c179e"
             ],
             [
              0.4444444444444444,
              "#bd3786"
             ],
             [
              0.5555555555555556,
              "#d8576b"
             ],
             [
              0.6666666666666666,
              "#ed7953"
             ],
             [
              0.7777777777777778,
              "#fb9f3a"
             ],
             [
              0.8888888888888888,
              "#fdca26"
             ],
             [
              1,
              "#f0f921"
             ]
            ],
            "type": "contour"
           }
          ],
          "contourcarpet": [
           {
            "colorbar": {
             "outlinewidth": 0,
             "ticks": ""
            },
            "type": "contourcarpet"
           }
          ],
          "heatmap": [
           {
            "colorbar": {
             "outlinewidth": 0,
             "ticks": ""
            },
            "colorscale": [
             [
              0,
              "#0d0887"
             ],
             [
              0.1111111111111111,
              "#46039f"
             ],
             [
              0.2222222222222222,
              "#7201a8"
             ],
             [
              0.3333333333333333,
              "#9c179e"
             ],
             [
              0.4444444444444444,
              "#bd3786"
             ],
             [
              0.5555555555555556,
              "#d8576b"
             ],
             [
              0.6666666666666666,
              "#ed7953"
             ],
             [
              0.7777777777777778,
              "#fb9f3a"
             ],
             [
              0.8888888888888888,
              "#fdca26"
             ],
             [
              1,
              "#f0f921"
             ]
            ],
            "type": "heatmap"
           }
          ],
          "heatmapgl": [
           {
            "colorbar": {
             "outlinewidth": 0,
             "ticks": ""
            },
            "colorscale": [
             [
              0,
              "#0d0887"
             ],
             [
              0.1111111111111111,
              "#46039f"
             ],
             [
              0.2222222222222222,
              "#7201a8"
             ],
             [
              0.3333333333333333,
              "#9c179e"
             ],
             [
              0.4444444444444444,
              "#bd3786"
             ],
             [
              0.5555555555555556,
              "#d8576b"
             ],
             [
              0.6666666666666666,
              "#ed7953"
             ],
             [
              0.7777777777777778,
              "#fb9f3a"
             ],
             [
              0.8888888888888888,
              "#fdca26"
             ],
             [
              1,
              "#f0f921"
             ]
            ],
            "type": "heatmapgl"
           }
          ],
          "histogram": [
           {
            "marker": {
             "pattern": {
              "fillmode": "overlay",
              "size": 10,
              "solidity": 0.2
             }
            },
            "type": "histogram"
           }
          ],
          "histogram2d": [
           {
            "colorbar": {
             "outlinewidth": 0,
             "ticks": ""
            },
            "colorscale": [
             [
              0,
              "#0d0887"
             ],
             [
              0.1111111111111111,
              "#46039f"
             ],
             [
              0.2222222222222222,
              "#7201a8"
             ],
             [
              0.3333333333333333,
              "#9c179e"
             ],
             [
              0.4444444444444444,
              "#bd3786"
             ],
             [
              0.5555555555555556,
              "#d8576b"
             ],
             [
              0.6666666666666666,
              "#ed7953"
             ],
             [
              0.7777777777777778,
              "#fb9f3a"
             ],
             [
              0.8888888888888888,
              "#fdca26"
             ],
             [
              1,
              "#f0f921"
             ]
            ],
            "type": "histogram2d"
           }
          ],
          "histogram2dcontour": [
           {
            "colorbar": {
             "outlinewidth": 0,
             "ticks": ""
            },
            "colorscale": [
             [
              0,
              "#0d0887"
             ],
             [
              0.1111111111111111,
              "#46039f"
             ],
             [
              0.2222222222222222,
              "#7201a8"
             ],
             [
              0.3333333333333333,
              "#9c179e"
             ],
             [
              0.4444444444444444,
              "#bd3786"
             ],
             [
              0.5555555555555556,
              "#d8576b"
             ],
             [
              0.6666666666666666,
              "#ed7953"
             ],
             [
              0.7777777777777778,
              "#fb9f3a"
             ],
             [
              0.8888888888888888,
              "#fdca26"
             ],
             [
              1,
              "#f0f921"
             ]
            ],
            "type": "histogram2dcontour"
           }
          ],
          "mesh3d": [
           {
            "colorbar": {
             "outlinewidth": 0,
             "ticks": ""
            },
            "type": "mesh3d"
           }
          ],
          "parcoords": [
           {
            "line": {
             "colorbar": {
              "outlinewidth": 0,
              "ticks": ""
             }
            },
            "type": "parcoords"
           }
          ],
          "pie": [
           {
            "automargin": true,
            "type": "pie"
           }
          ],
          "scatter": [
           {
            "fillpattern": {
             "fillmode": "overlay",
             "size": 10,
             "solidity": 0.2
            },
            "type": "scatter"
           }
          ],
          "scatter3d": [
           {
            "line": {
             "colorbar": {
              "outlinewidth": 0,
              "ticks": ""
             }
            },
            "marker": {
             "colorbar": {
              "outlinewidth": 0,
              "ticks": ""
             }
            },
            "type": "scatter3d"
           }
          ],
          "scattercarpet": [
           {
            "marker": {
             "colorbar": {
              "outlinewidth": 0,
              "ticks": ""
             }
            },
            "type": "scattercarpet"
           }
          ],
          "scattergeo": [
           {
            "marker": {
             "colorbar": {
              "outlinewidth": 0,
              "ticks": ""
             }
            },
            "type": "scattergeo"
           }
          ],
          "scattergl": [
           {
            "marker": {
             "colorbar": {
              "outlinewidth": 0,
              "ticks": ""
             }
            },
            "type": "scattergl"
           }
          ],
          "scattermapbox": [
           {
            "marker": {
             "colorbar": {
              "outlinewidth": 0,
              "ticks": ""
             }
            },
            "type": "scattermapbox"
           }
          ],
          "scatterpolar": [
           {
            "marker": {
             "colorbar": {
              "outlinewidth": 0,
              "ticks": ""
             }
            },
            "type": "scatterpolar"
           }
          ],
          "scatterpolargl": [
           {
            "marker": {
             "colorbar": {
              "outlinewidth": 0,
              "ticks": ""
             }
            },
            "type": "scatterpolargl"
           }
          ],
          "scatterternary": [
           {
            "marker": {
             "colorbar": {
              "outlinewidth": 0,
              "ticks": ""
             }
            },
            "type": "scatterternary"
           }
          ],
          "surface": [
           {
            "colorbar": {
             "outlinewidth": 0,
             "ticks": ""
            },
            "colorscale": [
             [
              0,
              "#0d0887"
             ],
             [
              0.1111111111111111,
              "#46039f"
             ],
             [
              0.2222222222222222,
              "#7201a8"
             ],
             [
              0.3333333333333333,
              "#9c179e"
             ],
             [
              0.4444444444444444,
              "#bd3786"
             ],
             [
              0.5555555555555556,
              "#d8576b"
             ],
             [
              0.6666666666666666,
              "#ed7953"
             ],
             [
              0.7777777777777778,
              "#fb9f3a"
             ],
             [
              0.8888888888888888,
              "#fdca26"
             ],
             [
              1,
              "#f0f921"
             ]
            ],
            "type": "surface"
           }
          ],
          "table": [
           {
            "cells": {
             "fill": {
              "color": "#EBF0F8"
             },
             "line": {
              "color": "white"
             }
            },
            "header": {
             "fill": {
              "color": "#C8D4E3"
             },
             "line": {
              "color": "white"
             }
            },
            "type": "table"
           }
          ]
         },
         "layout": {
          "annotationdefaults": {
           "arrowcolor": "#2a3f5f",
           "arrowhead": 0,
           "arrowwidth": 1
          },
          "autotypenumbers": "strict",
          "coloraxis": {
           "colorbar": {
            "outlinewidth": 0,
            "ticks": ""
           }
          },
          "colorscale": {
           "diverging": [
            [
             0,
             "#8e0152"
            ],
            [
             0.1,
             "#c51b7d"
            ],
            [
             0.2,
             "#de77ae"
            ],
            [
             0.3,
             "#f1b6da"
            ],
            [
             0.4,
             "#fde0ef"
            ],
            [
             0.5,
             "#f7f7f7"
            ],
            [
             0.6,
             "#e6f5d0"
            ],
            [
             0.7,
             "#b8e186"
            ],
            [
             0.8,
             "#7fbc41"
            ],
            [
             0.9,
             "#4d9221"
            ],
            [
             1,
             "#276419"
            ]
           ],
           "sequential": [
            [
             0,
             "#0d0887"
            ],
            [
             0.1111111111111111,
             "#46039f"
            ],
            [
             0.2222222222222222,
             "#7201a8"
            ],
            [
             0.3333333333333333,
             "#9c179e"
            ],
            [
             0.4444444444444444,
             "#bd3786"
            ],
            [
             0.5555555555555556,
             "#d8576b"
            ],
            [
             0.6666666666666666,
             "#ed7953"
            ],
            [
             0.7777777777777778,
             "#fb9f3a"
            ],
            [
             0.8888888888888888,
             "#fdca26"
            ],
            [
             1,
             "#f0f921"
            ]
           ],
           "sequentialminus": [
            [
             0,
             "#0d0887"
            ],
            [
             0.1111111111111111,
             "#46039f"
            ],
            [
             0.2222222222222222,
             "#7201a8"
            ],
            [
             0.3333333333333333,
             "#9c179e"
            ],
            [
             0.4444444444444444,
             "#bd3786"
            ],
            [
             0.5555555555555556,
             "#d8576b"
            ],
            [
             0.6666666666666666,
             "#ed7953"
            ],
            [
             0.7777777777777778,
             "#fb9f3a"
            ],
            [
             0.8888888888888888,
             "#fdca26"
            ],
            [
             1,
             "#f0f921"
            ]
           ]
          },
          "colorway": [
           "#636efa",
           "#EF553B",
           "#00cc96",
           "#ab63fa",
           "#FFA15A",
           "#19d3f3",
           "#FF6692",
           "#B6E880",
           "#FF97FF",
           "#FECB52"
          ],
          "font": {
           "color": "#2a3f5f"
          },
          "geo": {
           "bgcolor": "white",
           "lakecolor": "white",
           "landcolor": "#E5ECF6",
           "showlakes": true,
           "showland": true,
           "subunitcolor": "white"
          },
          "hoverlabel": {
           "align": "left"
          },
          "hovermode": "closest",
          "mapbox": {
           "style": "light"
          },
          "paper_bgcolor": "white",
          "plot_bgcolor": "#E5ECF6",
          "polar": {
           "angularaxis": {
            "gridcolor": "white",
            "linecolor": "white",
            "ticks": ""
           },
           "bgcolor": "#E5ECF6",
           "radialaxis": {
            "gridcolor": "white",
            "linecolor": "white",
            "ticks": ""
           }
          },
          "scene": {
           "xaxis": {
            "backgroundcolor": "#E5ECF6",
            "gridcolor": "white",
            "gridwidth": 2,
            "linecolor": "white",
            "showbackground": true,
            "ticks": "",
            "zerolinecolor": "white"
           },
           "yaxis": {
            "backgroundcolor": "#E5ECF6",
            "gridcolor": "white",
            "gridwidth": 2,
            "linecolor": "white",
            "showbackground": true,
            "ticks": "",
            "zerolinecolor": "white"
           },
           "zaxis": {
            "backgroundcolor": "#E5ECF6",
            "gridcolor": "white",
            "gridwidth": 2,
            "linecolor": "white",
            "showbackground": true,
            "ticks": "",
            "zerolinecolor": "white"
           }
          },
          "shapedefaults": {
           "line": {
            "color": "#2a3f5f"
           }
          },
          "ternary": {
           "aaxis": {
            "gridcolor": "white",
            "linecolor": "white",
            "ticks": ""
           },
           "baxis": {
            "gridcolor": "white",
            "linecolor": "white",
            "ticks": ""
           },
           "bgcolor": "#E5ECF6",
           "caxis": {
            "gridcolor": "white",
            "linecolor": "white",
            "ticks": ""
           }
          },
          "title": {
           "x": 0.05
          },
          "xaxis": {
           "automargin": true,
           "gridcolor": "white",
           "linecolor": "white",
           "ticks": "",
           "title": {
            "standoff": 15
           },
           "zerolinecolor": "white",
           "zerolinewidth": 2
          },
          "yaxis": {
           "automargin": true,
           "gridcolor": "white",
           "linecolor": "white",
           "ticks": "",
           "title": {
            "standoff": 15
           },
           "zerolinecolor": "white",
           "zerolinewidth": 2
          }
         }
        },
        "title": {
         "text": "Fig_1a: Pearson Correlation Heatmap"
        },
        "xaxis": {
         "anchor": "y",
         "constrain": "domain",
         "domain": [
          0,
          1
         ],
         "scaleanchor": "y",
         "title": {
          "text": "Feature Names"
         }
        },
        "yaxis": {
         "anchor": "x",
         "autorange": "reversed",
         "constrain": "domain",
         "domain": [
          0,
          1
         ],
         "title": {
          "text": "Feature Names"
         }
        }
       }
      }
     },
     "metadata": {},
     "output_type": "display_data"
    }
   ],
   "source": [
    "corr_matrix = num_cleaned_house_df.corr().sort_values(\"sale_price\", ascending=False)\n",
    "corr_matrix = corr_matrix.drop(columns=[\"overall_qual\"]).drop(index=[\"overall_qual\"])\n",
    "\n",
    "fig_1a = px.imshow(corr_matrix)\n",
    "\n",
    "fig_1a.update_xaxes(title_text=\"Feature Names\")\n",
    "fig_1a.update_yaxes(title_text=\"Feature Names\")\n",
    "fig_1a.update_layout(title_text=\"Fig_1a: Pearson Correlation Heatmap\")\n",
    "fig_1a.show()"
   ]
  },
  {
   "cell_type": "markdown",
   "metadata": {},
   "source": [
    "Fig_1a shows the heatmap of Pearson correlation matrix for features with numerical data type. The correlation compares two features at a time, and the correlation values can range from -1 to 1. When two features are negatively correlated, an increase in one feature decreases the other feature. On the other hand, when two features are positively correlated, an increase in one feature increases the other feature. A 0 correlation value means that the two features are not correlated, hence any increase or decrease in one feature does not affect the other feature.\n",
    "\n",
    "The right most column of the heatmap shows how sale price is correlated to other feature. These values are extracted and plotted in Fig_1b."
   ]
  },
  {
   "cell_type": "code",
   "execution_count": 9,
   "metadata": {},
   "outputs": [
    {
     "data": {
      "application/vnd.plotly.v1+json": {
       "config": {
        "plotlyServerURL": "https://plot.ly"
       },
       "data": [
        {
         "hovertemplate": "x=%{x}<br>y=%{y}<extra></extra>",
         "legendgroup": "",
         "marker": {
          "color": "#636efa",
          "symbol": "circle"
         },
         "mode": "markers",
         "name": "",
         "orientation": "v",
         "showlegend": false,
         "type": "scatter",
         "x": [
          "sale_price",
          "gr_liv_area",
          "garage_cars",
          "garage_area",
          "total_bsmt_sf",
          "1st_flr_sf",
          "full_bath",
          "tot_rms_abv_grd",
          "year_built",
          "year_remod_add",
          "garage_yr_blt",
          "mas_vnr_area",
          "fireplaces",
          "bsmt_fin_sf1",
          "wood_deck_sf",
          "2nd_flr_sf",
          "open_porch_sf",
          "half_bath",
          "lot_area",
          "bsmt_full_bath",
          "bsmt_unf_sf",
          "bedroom_abv_gr",
          "screen_porch",
          "pool_area",
          "mo_sold",
          "3_ssn_porch",
          "bsmt_fin_sf2",
          "bsmt_half_bath",
          "misc_val",
          "low_qual_fin_sf",
          "yr_sold",
          "overall_cond",
          "ms_sub_class",
          "enclosed_porch",
          "kitchen_abv_gr",
          "age_sold"
         ],
         "xaxis": "x",
         "y": [
          1,
          0.7086244776126515,
          0.6404091972583519,
          0.6234314389183622,
          0.6135805515591943,
          0.6058521846919153,
          0.5606637627484453,
          0.5337231555820284,
          0.5228973328794967,
          0.5071009671113866,
          0.4863616774878596,
          0.47749304709571444,
          0.46692883675152763,
          0.3864198062421535,
          0.32441344456812926,
          0.31933380283206736,
          0.31585622711605504,
          0.28410767559478256,
          0.2638433538714051,
          0.22712223313149427,
          0.21447910554696928,
          0.16821315430073963,
          0.11144657114291112,
          0.09240354949187318,
          0.046432245223819446,
          0.04458366533574838,
          -0.011378121450215146,
          -0.01684415429735895,
          -0.021189579640303213,
          -0.02560613000067955,
          -0.028922585168736813,
          -0.07785589404867797,
          -0.08428413512659509,
          -0.1285779579259566,
          -0.13590737084214105,
          -0.5233504175468151
         ],
         "yaxis": "y"
        }
       ],
       "layout": {
        "legend": {
         "tracegroupgap": 0
        },
        "margin": {
         "t": 60
        },
        "template": {
         "data": {
          "bar": [
           {
            "error_x": {
             "color": "#2a3f5f"
            },
            "error_y": {
             "color": "#2a3f5f"
            },
            "marker": {
             "line": {
              "color": "#E5ECF6",
              "width": 0.5
             },
             "pattern": {
              "fillmode": "overlay",
              "size": 10,
              "solidity": 0.2
             }
            },
            "type": "bar"
           }
          ],
          "barpolar": [
           {
            "marker": {
             "line": {
              "color": "#E5ECF6",
              "width": 0.5
             },
             "pattern": {
              "fillmode": "overlay",
              "size": 10,
              "solidity": 0.2
             }
            },
            "type": "barpolar"
           }
          ],
          "carpet": [
           {
            "aaxis": {
             "endlinecolor": "#2a3f5f",
             "gridcolor": "white",
             "linecolor": "white",
             "minorgridcolor": "white",
             "startlinecolor": "#2a3f5f"
            },
            "baxis": {
             "endlinecolor": "#2a3f5f",
             "gridcolor": "white",
             "linecolor": "white",
             "minorgridcolor": "white",
             "startlinecolor": "#2a3f5f"
            },
            "type": "carpet"
           }
          ],
          "choropleth": [
           {
            "colorbar": {
             "outlinewidth": 0,
             "ticks": ""
            },
            "type": "choropleth"
           }
          ],
          "contour": [
           {
            "colorbar": {
             "outlinewidth": 0,
             "ticks": ""
            },
            "colorscale": [
             [
              0,
              "#0d0887"
             ],
             [
              0.1111111111111111,
              "#46039f"
             ],
             [
              0.2222222222222222,
              "#7201a8"
             ],
             [
              0.3333333333333333,
              "#9c179e"
             ],
             [
              0.4444444444444444,
              "#bd3786"
             ],
             [
              0.5555555555555556,
              "#d8576b"
             ],
             [
              0.6666666666666666,
              "#ed7953"
             ],
             [
              0.7777777777777778,
              "#fb9f3a"
             ],
             [
              0.8888888888888888,
              "#fdca26"
             ],
             [
              1,
              "#f0f921"
             ]
            ],
            "type": "contour"
           }
          ],
          "contourcarpet": [
           {
            "colorbar": {
             "outlinewidth": 0,
             "ticks": ""
            },
            "type": "contourcarpet"
           }
          ],
          "heatmap": [
           {
            "colorbar": {
             "outlinewidth": 0,
             "ticks": ""
            },
            "colorscale": [
             [
              0,
              "#0d0887"
             ],
             [
              0.1111111111111111,
              "#46039f"
             ],
             [
              0.2222222222222222,
              "#7201a8"
             ],
             [
              0.3333333333333333,
              "#9c179e"
             ],
             [
              0.4444444444444444,
              "#bd3786"
             ],
             [
              0.5555555555555556,
              "#d8576b"
             ],
             [
              0.6666666666666666,
              "#ed7953"
             ],
             [
              0.7777777777777778,
              "#fb9f3a"
             ],
             [
              0.8888888888888888,
              "#fdca26"
             ],
             [
              1,
              "#f0f921"
             ]
            ],
            "type": "heatmap"
           }
          ],
          "heatmapgl": [
           {
            "colorbar": {
             "outlinewidth": 0,
             "ticks": ""
            },
            "colorscale": [
             [
              0,
              "#0d0887"
             ],
             [
              0.1111111111111111,
              "#46039f"
             ],
             [
              0.2222222222222222,
              "#7201a8"
             ],
             [
              0.3333333333333333,
              "#9c179e"
             ],
             [
              0.4444444444444444,
              "#bd3786"
             ],
             [
              0.5555555555555556,
              "#d8576b"
             ],
             [
              0.6666666666666666,
              "#ed7953"
             ],
             [
              0.7777777777777778,
              "#fb9f3a"
             ],
             [
              0.8888888888888888,
              "#fdca26"
             ],
             [
              1,
              "#f0f921"
             ]
            ],
            "type": "heatmapgl"
           }
          ],
          "histogram": [
           {
            "marker": {
             "pattern": {
              "fillmode": "overlay",
              "size": 10,
              "solidity": 0.2
             }
            },
            "type": "histogram"
           }
          ],
          "histogram2d": [
           {
            "colorbar": {
             "outlinewidth": 0,
             "ticks": ""
            },
            "colorscale": [
             [
              0,
              "#0d0887"
             ],
             [
              0.1111111111111111,
              "#46039f"
             ],
             [
              0.2222222222222222,
              "#7201a8"
             ],
             [
              0.3333333333333333,
              "#9c179e"
             ],
             [
              0.4444444444444444,
              "#bd3786"
             ],
             [
              0.5555555555555556,
              "#d8576b"
             ],
             [
              0.6666666666666666,
              "#ed7953"
             ],
             [
              0.7777777777777778,
              "#fb9f3a"
             ],
             [
              0.8888888888888888,
              "#fdca26"
             ],
             [
              1,
              "#f0f921"
             ]
            ],
            "type": "histogram2d"
           }
          ],
          "histogram2dcontour": [
           {
            "colorbar": {
             "outlinewidth": 0,
             "ticks": ""
            },
            "colorscale": [
             [
              0,
              "#0d0887"
             ],
             [
              0.1111111111111111,
              "#46039f"
             ],
             [
              0.2222222222222222,
              "#7201a8"
             ],
             [
              0.3333333333333333,
              "#9c179e"
             ],
             [
              0.4444444444444444,
              "#bd3786"
             ],
             [
              0.5555555555555556,
              "#d8576b"
             ],
             [
              0.6666666666666666,
              "#ed7953"
             ],
             [
              0.7777777777777778,
              "#fb9f3a"
             ],
             [
              0.8888888888888888,
              "#fdca26"
             ],
             [
              1,
              "#f0f921"
             ]
            ],
            "type": "histogram2dcontour"
           }
          ],
          "mesh3d": [
           {
            "colorbar": {
             "outlinewidth": 0,
             "ticks": ""
            },
            "type": "mesh3d"
           }
          ],
          "parcoords": [
           {
            "line": {
             "colorbar": {
              "outlinewidth": 0,
              "ticks": ""
             }
            },
            "type": "parcoords"
           }
          ],
          "pie": [
           {
            "automargin": true,
            "type": "pie"
           }
          ],
          "scatter": [
           {
            "fillpattern": {
             "fillmode": "overlay",
             "size": 10,
             "solidity": 0.2
            },
            "type": "scatter"
           }
          ],
          "scatter3d": [
           {
            "line": {
             "colorbar": {
              "outlinewidth": 0,
              "ticks": ""
             }
            },
            "marker": {
             "colorbar": {
              "outlinewidth": 0,
              "ticks": ""
             }
            },
            "type": "scatter3d"
           }
          ],
          "scattercarpet": [
           {
            "marker": {
             "colorbar": {
              "outlinewidth": 0,
              "ticks": ""
             }
            },
            "type": "scattercarpet"
           }
          ],
          "scattergeo": [
           {
            "marker": {
             "colorbar": {
              "outlinewidth": 0,
              "ticks": ""
             }
            },
            "type": "scattergeo"
           }
          ],
          "scattergl": [
           {
            "marker": {
             "colorbar": {
              "outlinewidth": 0,
              "ticks": ""
             }
            },
            "type": "scattergl"
           }
          ],
          "scattermapbox": [
           {
            "marker": {
             "colorbar": {
              "outlinewidth": 0,
              "ticks": ""
             }
            },
            "type": "scattermapbox"
           }
          ],
          "scatterpolar": [
           {
            "marker": {
             "colorbar": {
              "outlinewidth": 0,
              "ticks": ""
             }
            },
            "type": "scatterpolar"
           }
          ],
          "scatterpolargl": [
           {
            "marker": {
             "colorbar": {
              "outlinewidth": 0,
              "ticks": ""
             }
            },
            "type": "scatterpolargl"
           }
          ],
          "scatterternary": [
           {
            "marker": {
             "colorbar": {
              "outlinewidth": 0,
              "ticks": ""
             }
            },
            "type": "scatterternary"
           }
          ],
          "surface": [
           {
            "colorbar": {
             "outlinewidth": 0,
             "ticks": ""
            },
            "colorscale": [
             [
              0,
              "#0d0887"
             ],
             [
              0.1111111111111111,
              "#46039f"
             ],
             [
              0.2222222222222222,
              "#7201a8"
             ],
             [
              0.3333333333333333,
              "#9c179e"
             ],
             [
              0.4444444444444444,
              "#bd3786"
             ],
             [
              0.5555555555555556,
              "#d8576b"
             ],
             [
              0.6666666666666666,
              "#ed7953"
             ],
             [
              0.7777777777777778,
              "#fb9f3a"
             ],
             [
              0.8888888888888888,
              "#fdca26"
             ],
             [
              1,
              "#f0f921"
             ]
            ],
            "type": "surface"
           }
          ],
          "table": [
           {
            "cells": {
             "fill": {
              "color": "#EBF0F8"
             },
             "line": {
              "color": "white"
             }
            },
            "header": {
             "fill": {
              "color": "#C8D4E3"
             },
             "line": {
              "color": "white"
             }
            },
            "type": "table"
           }
          ]
         },
         "layout": {
          "annotationdefaults": {
           "arrowcolor": "#2a3f5f",
           "arrowhead": 0,
           "arrowwidth": 1
          },
          "autotypenumbers": "strict",
          "coloraxis": {
           "colorbar": {
            "outlinewidth": 0,
            "ticks": ""
           }
          },
          "colorscale": {
           "diverging": [
            [
             0,
             "#8e0152"
            ],
            [
             0.1,
             "#c51b7d"
            ],
            [
             0.2,
             "#de77ae"
            ],
            [
             0.3,
             "#f1b6da"
            ],
            [
             0.4,
             "#fde0ef"
            ],
            [
             0.5,
             "#f7f7f7"
            ],
            [
             0.6,
             "#e6f5d0"
            ],
            [
             0.7,
             "#b8e186"
            ],
            [
             0.8,
             "#7fbc41"
            ],
            [
             0.9,
             "#4d9221"
            ],
            [
             1,
             "#276419"
            ]
           ],
           "sequential": [
            [
             0,
             "#0d0887"
            ],
            [
             0.1111111111111111,
             "#46039f"
            ],
            [
             0.2222222222222222,
             "#7201a8"
            ],
            [
             0.3333333333333333,
             "#9c179e"
            ],
            [
             0.4444444444444444,
             "#bd3786"
            ],
            [
             0.5555555555555556,
             "#d8576b"
            ],
            [
             0.6666666666666666,
             "#ed7953"
            ],
            [
             0.7777777777777778,
             "#fb9f3a"
            ],
            [
             0.8888888888888888,
             "#fdca26"
            ],
            [
             1,
             "#f0f921"
            ]
           ],
           "sequentialminus": [
            [
             0,
             "#0d0887"
            ],
            [
             0.1111111111111111,
             "#46039f"
            ],
            [
             0.2222222222222222,
             "#7201a8"
            ],
            [
             0.3333333333333333,
             "#9c179e"
            ],
            [
             0.4444444444444444,
             "#bd3786"
            ],
            [
             0.5555555555555556,
             "#d8576b"
            ],
            [
             0.6666666666666666,
             "#ed7953"
            ],
            [
             0.7777777777777778,
             "#fb9f3a"
            ],
            [
             0.8888888888888888,
             "#fdca26"
            ],
            [
             1,
             "#f0f921"
            ]
           ]
          },
          "colorway": [
           "#636efa",
           "#EF553B",
           "#00cc96",
           "#ab63fa",
           "#FFA15A",
           "#19d3f3",
           "#FF6692",
           "#B6E880",
           "#FF97FF",
           "#FECB52"
          ],
          "font": {
           "color": "#2a3f5f"
          },
          "geo": {
           "bgcolor": "white",
           "lakecolor": "white",
           "landcolor": "#E5ECF6",
           "showlakes": true,
           "showland": true,
           "subunitcolor": "white"
          },
          "hoverlabel": {
           "align": "left"
          },
          "hovermode": "closest",
          "mapbox": {
           "style": "light"
          },
          "paper_bgcolor": "white",
          "plot_bgcolor": "#E5ECF6",
          "polar": {
           "angularaxis": {
            "gridcolor": "white",
            "linecolor": "white",
            "ticks": ""
           },
           "bgcolor": "#E5ECF6",
           "radialaxis": {
            "gridcolor": "white",
            "linecolor": "white",
            "ticks": ""
           }
          },
          "scene": {
           "xaxis": {
            "backgroundcolor": "#E5ECF6",
            "gridcolor": "white",
            "gridwidth": 2,
            "linecolor": "white",
            "showbackground": true,
            "ticks": "",
            "zerolinecolor": "white"
           },
           "yaxis": {
            "backgroundcolor": "#E5ECF6",
            "gridcolor": "white",
            "gridwidth": 2,
            "linecolor": "white",
            "showbackground": true,
            "ticks": "",
            "zerolinecolor": "white"
           },
           "zaxis": {
            "backgroundcolor": "#E5ECF6",
            "gridcolor": "white",
            "gridwidth": 2,
            "linecolor": "white",
            "showbackground": true,
            "ticks": "",
            "zerolinecolor": "white"
           }
          },
          "shapedefaults": {
           "line": {
            "color": "#2a3f5f"
           }
          },
          "ternary": {
           "aaxis": {
            "gridcolor": "white",
            "linecolor": "white",
            "ticks": ""
           },
           "baxis": {
            "gridcolor": "white",
            "linecolor": "white",
            "ticks": ""
           },
           "bgcolor": "#E5ECF6",
           "caxis": {
            "gridcolor": "white",
            "linecolor": "white",
            "ticks": ""
           }
          },
          "title": {
           "x": 0.05
          },
          "xaxis": {
           "automargin": true,
           "gridcolor": "white",
           "linecolor": "white",
           "ticks": "",
           "title": {
            "standoff": 15
           },
           "zerolinecolor": "white",
           "zerolinewidth": 2
          },
          "yaxis": {
           "automargin": true,
           "gridcolor": "white",
           "linecolor": "white",
           "ticks": "",
           "title": {
            "standoff": 15
           },
           "zerolinecolor": "white",
           "zerolinewidth": 2
          }
         }
        },
        "title": {
         "text": "Fig_1b: Pearson correlation value between Sale Price and other features"
        },
        "xaxis": {
         "anchor": "y",
         "domain": [
          0,
          1
         ],
         "title": {
          "text": "Feature Name"
         }
        },
        "yaxis": {
         "anchor": "x",
         "domain": [
          0,
          1
         ],
         "title": {
          "text": "Pearson correlation value"
         }
        }
       }
      }
     },
     "metadata": {},
     "output_type": "display_data"
    }
   ],
   "source": [
    "fig_1b = px.scatter(x=corr_matrix.index, y=corr_matrix[\"sale_price\"])\n",
    "\n",
    "fig_1b.update_xaxes(title_text=\"Feature Name\")\n",
    "fig_1b.update_yaxes(title_text=\"Pearson correlation value\")\n",
    "fig_1b.update_layout(title_text=\"Fig_1b: Pearson correlation value between Sale Price and other features\")\n",
    "fig_1b.show()"
   ]
  },
  {
   "cell_type": "markdown",
   "metadata": {},
   "source": [
    "Based on Fig_1b, some of the features that can be used to create a model are `gr_liv_area`, `garage_cars`, `garage_area`, `total_bsmt_sf`, and `1st_flr_sf`. The remainder features will not be included to avoid creating a complex model and potentially overfitting the model.\n",
    "\n",
    "Additionally, `year_built`, `yr_sold`, `year_remod_add`, and `mo_sold` features were also included for feature engineering.\n",
    "\n"
   ]
  },
  {
   "cell_type": "markdown",
   "metadata": {},
   "source": [
    "---\n",
    "# <center> Model Development </center>\n",
    "---"
   ]
  },
  {
   "cell_type": "code",
   "execution_count": 10,
   "metadata": {},
   "outputs": [],
   "source": [
    "y = house_df[\"sale_price\"]\n",
    "\n",
    "num_cols = [\"gr_liv_area\", \"garage_area\", \"total_bsmt_sf\", \"1st_flr_sf\", \"year_built\", \n",
    "            \"yr_sold\", \"year_remod_add\", \"mo_sold\", \"age_sold\"]\n",
    "cat_cols = [\"neighborhood\"]\n",
    "\n",
    "num_X = num_cleaned_house_df[num_cols]\n",
    "cat_X = cleaned_house_df[cat_cols]\n",
    "\n",
    "\n",
    "##### Feature engineering\n",
    "# num_X[\"house_age\"] = num_X[\"yr_sold\"] - num_X[\"year_built\"]\n",
    "# num_X.loc[num_X[\"house_age\"]==0, \"house_age\"] = num_X.loc[num_X[\"house_age\"]==0, \"mo_sold\"]/12\n",
    "num_X.loc[num_X[\"age_sold\"]==0, \"age_sold\"] = num_X.loc[num_X[\"age_sold\"]==0, \"mo_sold\"]/12\n",
    "num_X[\"scaled_remod\"] = (num_X[\"year_remod_add\"] - num_X[\"year_built\"])/num_X[\"age_sold\"]\n",
    "\n",
    "\n",
    "##### Drop unnecessary columns\n",
    "num_X = num_X.drop(columns=[\"year_built\", \"yr_sold\", \"mo_sold\"])\n",
    "\n",
    "X = num_X\n",
    "\n",
    "##### Split data into train and test sets\n",
    "X_train, X_test, y_train, y_test = train_test_split(X, y, test_size=0.25, random_state=43)\n",
    "\n",
    "\n",
    "##### create standard scaler\n",
    "std_scaler = StandardScaler()\n",
    "std_scaler.fit(X_train)\n",
    "\n",
    "# ##### create one-hot encoder\n",
    "# ohe_encoder = OneHotEncoder(sparse_output=False)\n",
    "# ohe_encoder.fit(cat_X)\n",
    "\n",
    "\n",
    "##### transform values using standard scaler\n",
    "scaled_num_X_train = std_scaler.transform(X_train.select_dtypes(include=np.number))\n",
    "scaled_num_X_test = std_scaler.transform(X_test.select_dtypes(include=np.number))\n",
    "\n",
    "\n",
    "##### recreate dataframe after scaling and encoding\n",
    "scaled_X_train_df = pd.DataFrame(data=scaled_num_X_train, columns=std_scaler.feature_names_in_)\n",
    "scaled_X_test_df = pd.DataFrame(data=scaled_num_X_test, columns=std_scaler.feature_names_in_)\n",
    "\n",
    "X_train = scaled_X_train_df\n",
    "X_test = scaled_X_test_df\n",
    "\n",
    "\n"
   ]
  },
  {
   "cell_type": "markdown",
   "metadata": {},
   "source": [
    "New features were generated using feature engineering. The new features include `age_sold` and `scaled_remod`. `age_sold` is the age of the house in years since it was built. This value was computed as `yr_sold` - `year_built`. If the house was sold in the same year it was built, then the month the house was sold will be divided by 12 to convert the house age to year. `scaled_remod` is the time when the house was remodeled scaled to its age. This value was computed as (`year_remod_add` - `year_built`)/`age_sold`.\n",
    "\n",
    "After some experimentation, `garage_cars` feature were dropped since it did not improve the model accuracy. The categorical data were also found to not significantly improve the model accuracy."
   ]
  },
  {
   "cell_type": "code",
   "execution_count": 12,
   "metadata": {},
   "outputs": [
    {
     "data": {
      "application/vnd.plotly.v1+json": {
       "config": {
        "plotlyServerURL": "https://plot.ly"
       },
       "data": [
        {
         "hovertemplate": "x=%{x}<br>y=%{y}<extra></extra>",
         "legendgroup": "",
         "marker": {
          "color": "#636efa",
          "symbol": "circle"
         },
         "mode": "markers",
         "name": "",
         "orientation": "v",
         "showlegend": false,
         "type": "scatter",
         "x": [
          189950,
          180000,
          136500,
          160000,
          135000,
          240000,
          100000,
          169900,
          119500,
          240000,
          148000,
          305900,
          140000,
          110000,
          179200,
          99500,
          125000,
          61000,
          143000,
          140000,
          402000,
          93000,
          235000,
          248328,
          200624,
          380000,
          119000,
          132000,
          136500,
          112000,
          137500,
          81000,
          123000,
          157500,
          109500,
          179665,
          501837,
          190000,
          230000,
          149000,
          276000,
          170000,
          60000,
          132000,
          193879,
          104900,
          152000,
          194201,
          171000,
          200000,
          110000,
          152000,
          173000,
          485000,
          120000,
          135500,
          133900,
          245500,
          226000,
          181900,
          112000,
          108500,
          167500,
          410000,
          177500,
          199900,
          150900,
          310000,
          55993,
          369900,
          231500,
          156000,
          134800,
          140000,
          119900,
          196000,
          172000,
          244000,
          161750,
          132000,
          130500,
          180500,
          302000,
          202500,
          228000,
          140000,
          125000,
          174900,
          278000,
          165500,
          131500,
          212000,
          215000,
          466500,
          136000,
          130000,
          168000,
          225000,
          345000,
          138000,
          160000,
          52000,
          82500,
          165000,
          178400,
          177000,
          208900,
          119000,
          311872,
          164500,
          229456,
          240000,
          181000,
          242000,
          135000,
          131500,
          146000,
          210000,
          145000,
          179000,
          180000,
          161500,
          157000,
          155000,
          239000,
          126000,
          168000,
          226000,
          157900,
          118000,
          185000,
          383970,
          175000,
          187500,
          187500,
          290000,
          173733,
          315000,
          176000,
          313000,
          129900,
          194000,
          108000,
          234000,
          113000,
          286000,
          244600,
          315000,
          103000,
          68500,
          252000,
          128000,
          87000,
          122500,
          107900,
          236000,
          160000,
          106250,
          212000,
          124500,
          101800,
          175000,
          129500,
          131400,
          128000,
          187000,
          215000,
          100000,
          372500,
          318000,
          394432,
          137000,
          259500,
          142500,
          277500,
          76000,
          253293,
          170000,
          185000,
          227680,
          290000,
          173500,
          140000,
          124000,
          184000,
          145000,
          165000,
          96500,
          246578,
          156000,
          187750,
          465000,
          138500,
          230000,
          93500,
          114500,
          315000,
          232000,
          128950,
          175000,
          129000,
          115000,
          151000,
          174000,
          266000,
          180000,
          190000,
          91500,
          221500,
          424870,
          97500,
          115000,
          120500,
          287000,
          113000,
          158000,
          125000,
          110000,
          173000,
          340000,
          214000,
          115000,
          185850,
          274000,
          126175,
          112000,
          233230,
          204900,
          205000,
          113000,
          216000,
          215000,
          167500,
          207000,
          86000,
          90000,
          80000,
          97000,
          335000,
          375000,
          187500,
          250000,
          108000,
          184750,
          217500,
          206000,
          149900,
          230000,
          275000,
          181000,
          162000,
          175500,
          140000,
          240000,
          266000,
          187100,
          34900,
          126000,
          110000,
          145000,
          150000,
          163500,
          147000,
          336000,
          237500,
          188000,
          222000,
          87500,
          266500,
          75500,
          117000,
          160000,
          127000,
          306000,
          107500,
          132000,
          172400,
          67000,
          235000,
          153575,
          149500,
          239000,
          234000,
          88000,
          270000,
          197900,
          91000,
          196500,
          119200,
          115000,
          129500,
          272000,
          87000,
          348000,
          129500,
          139000,
          143000,
          324000,
          130000,
          625000,
          215200,
          154000,
          385000,
          158500,
          135500,
          392500,
          287000,
          88000,
          210000,
          134500,
          176432,
          193000,
          315750,
          204000,
          215000,
          176000,
          128500,
          262500,
          159434,
          244400,
          196500,
          185000,
          120500,
          84900,
          58500,
          171750,
          181000,
          132500,
          187500,
          205000,
          250000,
          190000,
          109000,
          129900,
          162900,
          191000,
          184900,
          97000,
          263435,
          167000,
          260000,
          173000,
          89500,
          197500,
          213500,
          85000,
          159500,
          151000,
          215000,
          92000,
          118000,
          159000,
          167000,
          275000,
          155000,
          154000,
          86000,
          135000,
          145000,
          204750,
          212900,
          140000,
          200000,
          72500,
          126000
         ],
         "xaxis": "x",
         "y": [
          130796.27439626248,
          173193.90810203762,
          165970.75709182397,
          161812.02558105436,
          212833.64410595488,
          301374.7334227657,
          72496.58685597304,
          166624.1874960408,
          127611.83179111424,
          241903.04361563962,
          149061.1395901554,
          306454.3192352371,
          101286.61717086783,
          132619.36196978844,
          216602.38783507995,
          115013.7238195967,
          113414.78534760134,
          50252.85402562488,
          141569.0500283664,
          140611.30041571212,
          316294.96653489245,
          115759.69473599375,
          245684.29639436427,
          270842.02122558735,
          277983.2121157461,
          336897.3037718819,
          93035.66123379162,
          121097.98591583507,
          142017.06877633734,
          108415.63011959865,
          125950.75581734361,
          149615.3762532314,
          130006.49547458155,
          152583.6265963649,
          87773.8986606707,
          185779.02275928357,
          370578.7419934906,
          276327.94435617793,
          260125.66573800705,
          142286.6848249379,
          321614.42251570406,
          164808.8861711847,
          36089.98083408558,
          128209.15844574623,
          208638.74120985385,
          160731.4007217697,
          165315.5594384502,
          242760.93668544394,
          169310.76232815854,
          290092.7187745172,
          101712.45274161354,
          152548.90166154352,
          185163.13957810073,
          402606.3510643452,
          130158.93624802117,
          122142.05202281041,
          130136.80883143225,
          186170.76684205097,
          217453.2240202856,
          185511.87096523575,
          119702.20466443195,
          85217.20240341061,
          148172.13106637466,
          363794.75829076074,
          187802.402679041,
          220602.46676490255,
          222284.2132663796,
          261326.6181093788,
          103949.59671902012,
          324171.2386647126,
          221490.85422323763,
          129145.9602750261,
          138732.95352882158,
          164140.35530290907,
          108490.03384435202,
          207209.76555476343,
          197372.91722841602,
          227797.2433977223,
          142190.42954928236,
          123545.12147731974,
          128887.7943223236,
          155168.41732151786,
          315068.11121043575,
          215056.0787439283,
          248071.48830461368,
          121532.21332685082,
          142606.5404164319,
          145251.23254181494,
          306360.6354069755,
          157923.00614189514,
          131693.83869161946,
          200334.22098779416,
          214312.3769867993,
          360175.44694652525,
          116501.56968806742,
          235961.3828226478,
          185137.29413811924,
          234216.65433304716,
          312250.3715086251,
          153667.08759144827,
          107491.76466261488,
          58373.89827503922,
          36327.75582225836,
          162201.04102549094,
          162578.3375247084,
          186671.2940452495,
          229749.81362521776,
          103558.7498255143,
          263043.2239841492,
          172264.9301143993,
          203240.70629444337,
          248942.0752082928,
          186288.1675997444,
          298331.10817906517,
          86908.13137889556,
          142168.33899627748,
          193520.6071251352,
          148125.06584010256,
          103634.90249207888,
          204748.52118427664,
          186977.00489938533,
          189096.83735305967,
          150419.92272926474,
          141845.73463365866,
          264133.20159098366,
          161709.3206249075,
          248439.16627632652,
          241203.02778411604,
          131590.27514065028,
          130910.2462272291,
          198930.9429408714,
          317996.77121220727,
          196794.13866454703,
          165730.75956087376,
          179405.96577114626,
          236607.8016341945,
          172264.9301143993,
          305332.2592245692,
          178513.97587210592,
          273653.0461953044,
          150115.47318297872,
          190604.4857442288,
          113121.50104887247,
          201272.03595375345,
          115713.9004764357,
          240453.5260660123,
          271853.54328946315,
          301758.04458143434,
          113968.6330466531,
          37002.48965111459,
          279946.15421032393,
          143132.91231186083,
          51260.64601860613,
          168036.99639239899,
          123117.89514141693,
          229486.29465113214,
          178845.5586707975,
          62500.65135418644,
          222074.36494693477,
          111264.74047073384,
          107664.1147156588,
          210081.7146806542,
          118099.09205185389,
          129903.29712073013,
          108781.4777564309,
          202784.9492131907,
          230987.05243510194,
          125611.27093303921,
          300074.1716928941,
          261660.05267906364,
          280621.0242289942,
          172766.7629324229,
          219052.36590718385,
          180091.07534673886,
          228632.63557895616,
          72776.28369231762,
          366234.0300218067,
          154633.26034826416,
          214304.67082614795,
          215535.53727500557,
          288261.52826555795,
          192304.7922749143,
          156771.12999228592,
          95698.28270801144,
          189922.69275917113,
          178133.9993865812,
          149458.4657982269,
          62346.63059351068,
          224771.5769872785,
          138376.4114514651,
          203145.24174501898,
          304299.09460768994,
          124068.2343767051,
          221861.1503137156,
          80051.10965339089,
          98634.95039398217,
          246857.9638825421,
          231747.4290934556,
          102361.25851937987,
          185272.81189662236,
          100253.39170064114,
          84038.1995319413,
          165938.131323374,
          182735.76713964817,
          275561.0884171955,
          218229.90410650425,
          220691.81002285262,
          127973.16557966104,
          284665.96899995126,
          380326.9368297763,
          131685.0828866331,
          140538.8160280428,
          129154.63397272129,
          286126.28581121424,
          119280.62051791191,
          131256.73138690856,
          108551.96889125205,
          114713.97946134256,
          206972.85599165896,
          307004.39116314106,
          241874.73242821905,
          122513.83645160258,
          203657.5965304164,
          229499.18723168908,
          153164.51222540354,
          91754.41680419246,
          248424.38779676417,
          231546.67508270266,
          249170.19751478103,
          125404.27353798182,
          212314.81573687613,
          229770.77963323353,
          181098.69763005196,
          200569.61602775965,
          50483.97150955313,
          180246.28295075658,
          78792.5964972557,
          124294.34523919015,
          279241.66997030564,
          241747.9327722293,
          232857.93783323636,
          252287.15123647635,
          125602.9468776054,
          564139.3788033943,
          210689.31764793905,
          194405.71969563732,
          176196.75873051744,
          235250.9717374734,
          231150.13641891888,
          199341.45628485247,
          153415.20043554803,
          164302.15045456914,
          154463.73427384088,
          247303.5640183083,
          241400.9911201154,
          216105.1088802295,
          36967.78828509015,
          140809.99421756805,
          101240.88344235397,
          143708.80965042763,
          152626.32121868225,
          202452.88196419948,
          144532.45159904286,
          296407.4529545744,
          224748.06584855003,
          221324.68762430057,
          224842.906286382,
          79770.0878169557,
          225063.10919296357,
          60206.0693281017,
          126816.93598312179,
          153367.98330627958,
          136917.106543224,
          267577.8791124866,
          183355.19881762486,
          115318.88514228107,
          205444.10641931056,
          49594.63973149372,
          220094.3052676919,
          132874.90487332927,
          171025.14581163044,
          256079.78794829137,
          221412.15417641518,
          109348.85274345476,
          274592.7743414632,
          210702.93508792957,
          60882.340428781215,
          198549.45612956342,
          106430.95244596506,
          105685.64849413968,
          125132.0512358416,
          312715.0121987385,
          169609.8472137429,
          301527.8400818027,
          148968.2409075158,
          137699.44295300212,
          160536.03258612068,
          228100.4743709828,
          102592.10053701587,
          401849.62106893177,
          205919.4732023052,
          158152.3598752654,
          268263.8529376008,
          147346.58073179724,
          128433.9391957492,
          232662.04187767906,
          306669.28116343875,
          107256.77034789466,
          213562.4392823521,
          111469.21446731663,
          195476.31698154515,
          223013.7375711019,
          296673.3290845205,
          216430.33282671473,
          233800.95509935397,
          180025.77038119992,
          117227.51320349996,
          266695.0550198968,
          147217.89490704177,
          202246.78516670808,
          217160.92937002942,
          185345.67268230568,
          118810.56684881664,
          92731.08521219235,
          61518.85483250751,
          205785.4991722,
          202162.69548928557,
          133168.2885919108,
          194145.3898246328,
          179348.9274196094,
          276580.87199718377,
          214350.43242595452,
          138406.53809657448,
          159743.0936739454,
          161765.3003675796,
          204412.54756496398,
          186271.92761749224,
          66080.61852952592,
          232231.163805777,
          203367.1380538185,
          265116.1647579168,
          202535.37693425704,
          99825.27151908269,
          192326.11905549868,
          200925.0722410907,
          40008.525793281355,
          218530.2717098228,
          135407.8777378652,
          199796.9796210673,
          61526.41625134625,
          132116.7693116515,
          158672.00983251134,
          165173.26135771256,
          218234.790777828,
          176568.44214137914,
          157795.71869119373,
          105847.236240487,
          112109.59081458616,
          213718.72104345314,
          221862.55527312547,
          272425.2257274743,
          158106.72370196698,
          216457.17291146904,
          47182.19861300738,
          96322.46530186401
         ],
         "yaxis": "y"
        }
       ],
       "layout": {
        "legend": {
         "tracegroupgap": 0
        },
        "margin": {
         "t": 60
        },
        "template": {
         "data": {
          "bar": [
           {
            "error_x": {
             "color": "#2a3f5f"
            },
            "error_y": {
             "color": "#2a3f5f"
            },
            "marker": {
             "line": {
              "color": "#E5ECF6",
              "width": 0.5
             },
             "pattern": {
              "fillmode": "overlay",
              "size": 10,
              "solidity": 0.2
             }
            },
            "type": "bar"
           }
          ],
          "barpolar": [
           {
            "marker": {
             "line": {
              "color": "#E5ECF6",
              "width": 0.5
             },
             "pattern": {
              "fillmode": "overlay",
              "size": 10,
              "solidity": 0.2
             }
            },
            "type": "barpolar"
           }
          ],
          "carpet": [
           {
            "aaxis": {
             "endlinecolor": "#2a3f5f",
             "gridcolor": "white",
             "linecolor": "white",
             "minorgridcolor": "white",
             "startlinecolor": "#2a3f5f"
            },
            "baxis": {
             "endlinecolor": "#2a3f5f",
             "gridcolor": "white",
             "linecolor": "white",
             "minorgridcolor": "white",
             "startlinecolor": "#2a3f5f"
            },
            "type": "carpet"
           }
          ],
          "choropleth": [
           {
            "colorbar": {
             "outlinewidth": 0,
             "ticks": ""
            },
            "type": "choropleth"
           }
          ],
          "contour": [
           {
            "colorbar": {
             "outlinewidth": 0,
             "ticks": ""
            },
            "colorscale": [
             [
              0,
              "#0d0887"
             ],
             [
              0.1111111111111111,
              "#46039f"
             ],
             [
              0.2222222222222222,
              "#7201a8"
             ],
             [
              0.3333333333333333,
              "#9c179e"
             ],
             [
              0.4444444444444444,
              "#bd3786"
             ],
             [
              0.5555555555555556,
              "#d8576b"
             ],
             [
              0.6666666666666666,
              "#ed7953"
             ],
             [
              0.7777777777777778,
              "#fb9f3a"
             ],
             [
              0.8888888888888888,
              "#fdca26"
             ],
             [
              1,
              "#f0f921"
             ]
            ],
            "type": "contour"
           }
          ],
          "contourcarpet": [
           {
            "colorbar": {
             "outlinewidth": 0,
             "ticks": ""
            },
            "type": "contourcarpet"
           }
          ],
          "heatmap": [
           {
            "colorbar": {
             "outlinewidth": 0,
             "ticks": ""
            },
            "colorscale": [
             [
              0,
              "#0d0887"
             ],
             [
              0.1111111111111111,
              "#46039f"
             ],
             [
              0.2222222222222222,
              "#7201a8"
             ],
             [
              0.3333333333333333,
              "#9c179e"
             ],
             [
              0.4444444444444444,
              "#bd3786"
             ],
             [
              0.5555555555555556,
              "#d8576b"
             ],
             [
              0.6666666666666666,
              "#ed7953"
             ],
             [
              0.7777777777777778,
              "#fb9f3a"
             ],
             [
              0.8888888888888888,
              "#fdca26"
             ],
             [
              1,
              "#f0f921"
             ]
            ],
            "type": "heatmap"
           }
          ],
          "heatmapgl": [
           {
            "colorbar": {
             "outlinewidth": 0,
             "ticks": ""
            },
            "colorscale": [
             [
              0,
              "#0d0887"
             ],
             [
              0.1111111111111111,
              "#46039f"
             ],
             [
              0.2222222222222222,
              "#7201a8"
             ],
             [
              0.3333333333333333,
              "#9c179e"
             ],
             [
              0.4444444444444444,
              "#bd3786"
             ],
             [
              0.5555555555555556,
              "#d8576b"
             ],
             [
              0.6666666666666666,
              "#ed7953"
             ],
             [
              0.7777777777777778,
              "#fb9f3a"
             ],
             [
              0.8888888888888888,
              "#fdca26"
             ],
             [
              1,
              "#f0f921"
             ]
            ],
            "type": "heatmapgl"
           }
          ],
          "histogram": [
           {
            "marker": {
             "pattern": {
              "fillmode": "overlay",
              "size": 10,
              "solidity": 0.2
             }
            },
            "type": "histogram"
           }
          ],
          "histogram2d": [
           {
            "colorbar": {
             "outlinewidth": 0,
             "ticks": ""
            },
            "colorscale": [
             [
              0,
              "#0d0887"
             ],
             [
              0.1111111111111111,
              "#46039f"
             ],
             [
              0.2222222222222222,
              "#7201a8"
             ],
             [
              0.3333333333333333,
              "#9c179e"
             ],
             [
              0.4444444444444444,
              "#bd3786"
             ],
             [
              0.5555555555555556,
              "#d8576b"
             ],
             [
              0.6666666666666666,
              "#ed7953"
             ],
             [
              0.7777777777777778,
              "#fb9f3a"
             ],
             [
              0.8888888888888888,
              "#fdca26"
             ],
             [
              1,
              "#f0f921"
             ]
            ],
            "type": "histogram2d"
           }
          ],
          "histogram2dcontour": [
           {
            "colorbar": {
             "outlinewidth": 0,
             "ticks": ""
            },
            "colorscale": [
             [
              0,
              "#0d0887"
             ],
             [
              0.1111111111111111,
              "#46039f"
             ],
             [
              0.2222222222222222,
              "#7201a8"
             ],
             [
              0.3333333333333333,
              "#9c179e"
             ],
             [
              0.4444444444444444,
              "#bd3786"
             ],
             [
              0.5555555555555556,
              "#d8576b"
             ],
             [
              0.6666666666666666,
              "#ed7953"
             ],
             [
              0.7777777777777778,
              "#fb9f3a"
             ],
             [
              0.8888888888888888,
              "#fdca26"
             ],
             [
              1,
              "#f0f921"
             ]
            ],
            "type": "histogram2dcontour"
           }
          ],
          "mesh3d": [
           {
            "colorbar": {
             "outlinewidth": 0,
             "ticks": ""
            },
            "type": "mesh3d"
           }
          ],
          "parcoords": [
           {
            "line": {
             "colorbar": {
              "outlinewidth": 0,
              "ticks": ""
             }
            },
            "type": "parcoords"
           }
          ],
          "pie": [
           {
            "automargin": true,
            "type": "pie"
           }
          ],
          "scatter": [
           {
            "fillpattern": {
             "fillmode": "overlay",
             "size": 10,
             "solidity": 0.2
            },
            "type": "scatter"
           }
          ],
          "scatter3d": [
           {
            "line": {
             "colorbar": {
              "outlinewidth": 0,
              "ticks": ""
             }
            },
            "marker": {
             "colorbar": {
              "outlinewidth": 0,
              "ticks": ""
             }
            },
            "type": "scatter3d"
           }
          ],
          "scattercarpet": [
           {
            "marker": {
             "colorbar": {
              "outlinewidth": 0,
              "ticks": ""
             }
            },
            "type": "scattercarpet"
           }
          ],
          "scattergeo": [
           {
            "marker": {
             "colorbar": {
              "outlinewidth": 0,
              "ticks": ""
             }
            },
            "type": "scattergeo"
           }
          ],
          "scattergl": [
           {
            "marker": {
             "colorbar": {
              "outlinewidth": 0,
              "ticks": ""
             }
            },
            "type": "scattergl"
           }
          ],
          "scattermapbox": [
           {
            "marker": {
             "colorbar": {
              "outlinewidth": 0,
              "ticks": ""
             }
            },
            "type": "scattermapbox"
           }
          ],
          "scatterpolar": [
           {
            "marker": {
             "colorbar": {
              "outlinewidth": 0,
              "ticks": ""
             }
            },
            "type": "scatterpolar"
           }
          ],
          "scatterpolargl": [
           {
            "marker": {
             "colorbar": {
              "outlinewidth": 0,
              "ticks": ""
             }
            },
            "type": "scatterpolargl"
           }
          ],
          "scatterternary": [
           {
            "marker": {
             "colorbar": {
              "outlinewidth": 0,
              "ticks": ""
             }
            },
            "type": "scatterternary"
           }
          ],
          "surface": [
           {
            "colorbar": {
             "outlinewidth": 0,
             "ticks": ""
            },
            "colorscale": [
             [
              0,
              "#0d0887"
             ],
             [
              0.1111111111111111,
              "#46039f"
             ],
             [
              0.2222222222222222,
              "#7201a8"
             ],
             [
              0.3333333333333333,
              "#9c179e"
             ],
             [
              0.4444444444444444,
              "#bd3786"
             ],
             [
              0.5555555555555556,
              "#d8576b"
             ],
             [
              0.6666666666666666,
              "#ed7953"
             ],
             [
              0.7777777777777778,
              "#fb9f3a"
             ],
             [
              0.8888888888888888,
              "#fdca26"
             ],
             [
              1,
              "#f0f921"
             ]
            ],
            "type": "surface"
           }
          ],
          "table": [
           {
            "cells": {
             "fill": {
              "color": "#EBF0F8"
             },
             "line": {
              "color": "white"
             }
            },
            "header": {
             "fill": {
              "color": "#C8D4E3"
             },
             "line": {
              "color": "white"
             }
            },
            "type": "table"
           }
          ]
         },
         "layout": {
          "annotationdefaults": {
           "arrowcolor": "#2a3f5f",
           "arrowhead": 0,
           "arrowwidth": 1
          },
          "autotypenumbers": "strict",
          "coloraxis": {
           "colorbar": {
            "outlinewidth": 0,
            "ticks": ""
           }
          },
          "colorscale": {
           "diverging": [
            [
             0,
             "#8e0152"
            ],
            [
             0.1,
             "#c51b7d"
            ],
            [
             0.2,
             "#de77ae"
            ],
            [
             0.3,
             "#f1b6da"
            ],
            [
             0.4,
             "#fde0ef"
            ],
            [
             0.5,
             "#f7f7f7"
            ],
            [
             0.6,
             "#e6f5d0"
            ],
            [
             0.7,
             "#b8e186"
            ],
            [
             0.8,
             "#7fbc41"
            ],
            [
             0.9,
             "#4d9221"
            ],
            [
             1,
             "#276419"
            ]
           ],
           "sequential": [
            [
             0,
             "#0d0887"
            ],
            [
             0.1111111111111111,
             "#46039f"
            ],
            [
             0.2222222222222222,
             "#7201a8"
            ],
            [
             0.3333333333333333,
             "#9c179e"
            ],
            [
             0.4444444444444444,
             "#bd3786"
            ],
            [
             0.5555555555555556,
             "#d8576b"
            ],
            [
             0.6666666666666666,
             "#ed7953"
            ],
            [
             0.7777777777777778,
             "#fb9f3a"
            ],
            [
             0.8888888888888888,
             "#fdca26"
            ],
            [
             1,
             "#f0f921"
            ]
           ],
           "sequentialminus": [
            [
             0,
             "#0d0887"
            ],
            [
             0.1111111111111111,
             "#46039f"
            ],
            [
             0.2222222222222222,
             "#7201a8"
            ],
            [
             0.3333333333333333,
             "#9c179e"
            ],
            [
             0.4444444444444444,
             "#bd3786"
            ],
            [
             0.5555555555555556,
             "#d8576b"
            ],
            [
             0.6666666666666666,
             "#ed7953"
            ],
            [
             0.7777777777777778,
             "#fb9f3a"
            ],
            [
             0.8888888888888888,
             "#fdca26"
            ],
            [
             1,
             "#f0f921"
            ]
           ]
          },
          "colorway": [
           "#636efa",
           "#EF553B",
           "#00cc96",
           "#ab63fa",
           "#FFA15A",
           "#19d3f3",
           "#FF6692",
           "#B6E880",
           "#FF97FF",
           "#FECB52"
          ],
          "font": {
           "color": "#2a3f5f"
          },
          "geo": {
           "bgcolor": "white",
           "lakecolor": "white",
           "landcolor": "#E5ECF6",
           "showlakes": true,
           "showland": true,
           "subunitcolor": "white"
          },
          "hoverlabel": {
           "align": "left"
          },
          "hovermode": "closest",
          "mapbox": {
           "style": "light"
          },
          "paper_bgcolor": "white",
          "plot_bgcolor": "#E5ECF6",
          "polar": {
           "angularaxis": {
            "gridcolor": "white",
            "linecolor": "white",
            "ticks": ""
           },
           "bgcolor": "#E5ECF6",
           "radialaxis": {
            "gridcolor": "white",
            "linecolor": "white",
            "ticks": ""
           }
          },
          "scene": {
           "xaxis": {
            "backgroundcolor": "#E5ECF6",
            "gridcolor": "white",
            "gridwidth": 2,
            "linecolor": "white",
            "showbackground": true,
            "ticks": "",
            "zerolinecolor": "white"
           },
           "yaxis": {
            "backgroundcolor": "#E5ECF6",
            "gridcolor": "white",
            "gridwidth": 2,
            "linecolor": "white",
            "showbackground": true,
            "ticks": "",
            "zerolinecolor": "white"
           },
           "zaxis": {
            "backgroundcolor": "#E5ECF6",
            "gridcolor": "white",
            "gridwidth": 2,
            "linecolor": "white",
            "showbackground": true,
            "ticks": "",
            "zerolinecolor": "white"
           }
          },
          "shapedefaults": {
           "line": {
            "color": "#2a3f5f"
           }
          },
          "ternary": {
           "aaxis": {
            "gridcolor": "white",
            "linecolor": "white",
            "ticks": ""
           },
           "baxis": {
            "gridcolor": "white",
            "linecolor": "white",
            "ticks": ""
           },
           "bgcolor": "#E5ECF6",
           "caxis": {
            "gridcolor": "white",
            "linecolor": "white",
            "ticks": ""
           }
          },
          "title": {
           "x": 0.05
          },
          "xaxis": {
           "automargin": true,
           "gridcolor": "white",
           "linecolor": "white",
           "ticks": "",
           "title": {
            "standoff": 15
           },
           "zerolinecolor": "white",
           "zerolinewidth": 2
          },
          "yaxis": {
           "automargin": true,
           "gridcolor": "white",
           "linecolor": "white",
           "ticks": "",
           "title": {
            "standoff": 15
           },
           "zerolinecolor": "white",
           "zerolinewidth": 2
          }
         }
        },
        "title": {
         "text": "Predicted Sale Price vs. Actual Sale Price"
        },
        "xaxis": {
         "anchor": "y",
         "domain": [
          0,
          1
         ],
         "title": {
          "text": "Actual Sale Price"
         }
        },
        "yaxis": {
         "anchor": "x",
         "domain": [
          0,
          1
         ],
         "title": {
          "text": "Predicted Sale Price"
         }
        }
       }
      }
     },
     "metadata": {},
     "output_type": "display_data"
    },
    {
     "name": "stdout",
     "output_type": "stream",
     "text": [
      "Test set score: 0.7276759228544866\n"
     ]
    }
   ],
   "source": [
    "##### Linear Regression model\n",
    "\n",
    "lr_mod = LinearRegression()\n",
    "\n",
    "lr_mod.fit(X_train, y_train)\n",
    "\n",
    "fig_2a = px.scatter(x=y_test, y=lr_mod.predict(X_test))\n",
    "\n",
    "fig_2a.update_xaxes(title_text=\"Actual Sale Price\")\n",
    "fig_2a.update_yaxes(title_text=\"Predicted Sale Price\")\n",
    "fig_2a.update_layout(title_text=\"Predicted Sale Price vs. Actual Sale Price\")\n",
    "fig_2a.show()\n",
    "\n",
    "\n",
    "print(f\"Test set score: {lr_mod.score(X_test, y_test)}\")\n"
   ]
  },
  {
   "cell_type": "code",
   "execution_count": 60,
   "metadata": {},
   "outputs": [
    {
     "name": "stdout",
     "output_type": "stream",
     "text": [
      "Fitting 10 folds for each of 50 candidates, totalling 500 fits\n",
      "[CV 1/10] END ccp_alpha=51324, max_samples=0.40251420297345275, min_samples_split=0.5682069619641424, n_estimators=99;, score=-0.009 total time=   0.1s\n",
      "[CV 2/10] END ccp_alpha=51324, max_samples=0.40251420297345275, min_samples_split=0.5682069619641424, n_estimators=99;, score=-0.001 total time=   0.0s\n",
      "[CV 3/10] END ccp_alpha=51324, max_samples=0.40251420297345275, min_samples_split=0.5682069619641424, n_estimators=99;, score=-0.025 total time=   0.0s\n",
      "[CV 4/10] END ccp_alpha=51324, max_samples=0.40251420297345275, min_samples_split=0.5682069619641424, n_estimators=99;, score=-0.001 total time=   0.0s\n",
      "[CV 5/10] END ccp_alpha=51324, max_samples=0.40251420297345275, min_samples_split=0.5682069619641424, n_estimators=99;, score=-0.016 total time=   0.0s\n",
      "[CV 6/10] END ccp_alpha=51324, max_samples=0.40251420297345275, min_samples_split=0.5682069619641424, n_estimators=99;, score=-0.010 total time=   0.0s\n",
      "[CV 7/10] END ccp_alpha=51324, max_samples=0.40251420297345275, min_samples_split=0.5682069619641424, n_estimators=99;, score=-0.019 total time=   0.0s\n",
      "[CV 8/10] END ccp_alpha=51324, max_samples=0.40251420297345275, min_samples_split=0.5682069619641424, n_estimators=99;, score=-0.015 total time=   0.0s\n",
      "[CV 9/10] END ccp_alpha=51324, max_samples=0.40251420297345275, min_samples_split=0.5682069619641424, n_estimators=99;, score=-0.019 total time=   0.0s\n",
      "[CV 10/10] END ccp_alpha=51324, max_samples=0.40251420297345275, min_samples_split=0.5682069619641424, n_estimators=99;, score=-0.001 total time=   0.0s\n",
      "[CV 1/10] END ccp_alpha=8280, max_samples=0.7928451025956477, min_samples_split=0.7770428294076225, n_estimators=1046;, score=-0.010 total time=   0.4s\n",
      "[CV 2/10] END ccp_alpha=8280, max_samples=0.7928451025956477, min_samples_split=0.7770428294076225, n_estimators=1046;, score=-0.001 total time=   0.4s\n",
      "[CV 3/10] END ccp_alpha=8280, max_samples=0.7928451025956477, min_samples_split=0.7770428294076225, n_estimators=1046;, score=-0.027 total time=   0.5s\n",
      "[CV 4/10] END ccp_alpha=8280, max_samples=0.7928451025956477, min_samples_split=0.7770428294076225, n_estimators=1046;, score=-0.001 total time=   0.4s\n",
      "[CV 5/10] END ccp_alpha=8280, max_samples=0.7928451025956477, min_samples_split=0.7770428294076225, n_estimators=1046;, score=-0.018 total time=   0.4s\n",
      "[CV 6/10] END ccp_alpha=8280, max_samples=0.7928451025956477, min_samples_split=0.7770428294076225, n_estimators=1046;, score=-0.010 total time=   0.4s\n",
      "[CV 7/10] END ccp_alpha=8280, max_samples=0.7928451025956477, min_samples_split=0.7770428294076225, n_estimators=1046;, score=-0.018 total time=   0.4s\n",
      "[CV 8/10] END ccp_alpha=8280, max_samples=0.7928451025956477, min_samples_split=0.7770428294076225, n_estimators=1046;, score=-0.017 total time=   0.4s\n",
      "[CV 9/10] END ccp_alpha=8280, max_samples=0.7928451025956477, min_samples_split=0.7770428294076225, n_estimators=1046;, score=-0.020 total time=   0.4s\n",
      "[CV 10/10] END ccp_alpha=8280, max_samples=0.7928451025956477, min_samples_split=0.7770428294076225, n_estimators=1046;, score=-0.001 total time=   0.4s\n",
      "[CV 1/10] END ccp_alpha=91276, max_samples=0.6680677871385893, min_samples_split=0.9011878992551513, n_estimators=97;, score=-0.009 total time=   0.0s\n",
      "[CV 2/10] END ccp_alpha=91276, max_samples=0.6680677871385893, min_samples_split=0.9011878992551513, n_estimators=97;, score=-0.001 total time=   0.0s\n",
      "[CV 3/10] END ccp_alpha=91276, max_samples=0.6680677871385893, min_samples_split=0.9011878992551513, n_estimators=97;, score=-0.024 total time=   0.0s\n",
      "[CV 4/10] END ccp_alpha=91276, max_samples=0.6680677871385893, min_samples_split=0.9011878992551513, n_estimators=97;, score=-0.001 total time=   0.0s\n",
      "[CV 5/10] END ccp_alpha=91276, max_samples=0.6680677871385893, min_samples_split=0.9011878992551513, n_estimators=97;, score=-0.018 total time=   0.0s\n",
      "[CV 6/10] END ccp_alpha=91276, max_samples=0.6680677871385893, min_samples_split=0.9011878992551513, n_estimators=97;, score=-0.010 total time=   0.0s\n",
      "[CV 7/10] END ccp_alpha=91276, max_samples=0.6680677871385893, min_samples_split=0.9011878992551513, n_estimators=97;, score=-0.017 total time=   0.0s\n",
      "[CV 8/10] END ccp_alpha=91276, max_samples=0.6680677871385893, min_samples_split=0.9011878992551513, n_estimators=97;, score=-0.017 total time=   0.0s\n",
      "[CV 9/10] END ccp_alpha=91276, max_samples=0.6680677871385893, min_samples_split=0.9011878992551513, n_estimators=97;, score=-0.019 total time=   0.0s\n",
      "[CV 10/10] END ccp_alpha=91276, max_samples=0.6680677871385893, min_samples_split=0.9011878992551513, n_estimators=97;, score=-0.001 total time=   0.0s\n",
      "[CV 1/10] END ccp_alpha=24093, max_samples=0.33653905531458084, min_samples_split=0.04782217574078218, n_estimators=103;, score=0.776 total time=   0.1s\n",
      "[CV 2/10] END ccp_alpha=24093, max_samples=0.33653905531458084, min_samples_split=0.04782217574078218, n_estimators=103;, score=0.810 total time=   0.1s\n",
      "[CV 3/10] END ccp_alpha=24093, max_samples=0.33653905531458084, min_samples_split=0.04782217574078218, n_estimators=103;, score=0.734 total time=   0.1s\n",
      "[CV 4/10] END ccp_alpha=24093, max_samples=0.33653905531458084, min_samples_split=0.04782217574078218, n_estimators=103;, score=0.682 total time=   0.1s\n",
      "[CV 5/10] END ccp_alpha=24093, max_samples=0.33653905531458084, min_samples_split=0.04782217574078218, n_estimators=103;, score=0.661 total time=   0.1s\n",
      "[CV 6/10] END ccp_alpha=24093, max_samples=0.33653905531458084, min_samples_split=0.04782217574078218, n_estimators=103;, score=0.600 total time=   0.1s\n",
      "[CV 7/10] END ccp_alpha=24093, max_samples=0.33653905531458084, min_samples_split=0.04782217574078218, n_estimators=103;, score=0.643 total time=   0.1s\n",
      "[CV 8/10] END ccp_alpha=24093, max_samples=0.33653905531458084, min_samples_split=0.04782217574078218, n_estimators=103;, score=0.786 total time=   0.1s\n",
      "[CV 9/10] END ccp_alpha=24093, max_samples=0.33653905531458084, min_samples_split=0.04782217574078218, n_estimators=103;, score=0.831 total time=   0.1s\n",
      "[CV 10/10] END ccp_alpha=24093, max_samples=0.33653905531458084, min_samples_split=0.04782217574078218, n_estimators=103;, score=0.587 total time=   0.1s\n",
      "[CV 1/10] END ccp_alpha=38107, max_samples=0.2908575226463551, min_samples_split=0.5944692819437997, n_estimators=834;, score=-0.010 total time=   0.3s\n",
      "[CV 2/10] END ccp_alpha=38107, max_samples=0.2908575226463551, min_samples_split=0.5944692819437997, n_estimators=834;, score=-0.001 total time=   0.3s\n",
      "[CV 3/10] END ccp_alpha=38107, max_samples=0.2908575226463551, min_samples_split=0.5944692819437997, n_estimators=834;, score=-0.026 total time=   0.3s\n",
      "[CV 4/10] END ccp_alpha=38107, max_samples=0.2908575226463551, min_samples_split=0.5944692819437997, n_estimators=834;, score=-0.001 total time=   0.3s\n",
      "[CV 5/10] END ccp_alpha=38107, max_samples=0.2908575226463551, min_samples_split=0.5944692819437997, n_estimators=834;, score=-0.018 total time=   0.3s\n",
      "[CV 6/10] END ccp_alpha=38107, max_samples=0.2908575226463551, min_samples_split=0.5944692819437997, n_estimators=834;, score=-0.010 total time=   0.3s\n",
      "[CV 7/10] END ccp_alpha=38107, max_samples=0.2908575226463551, min_samples_split=0.5944692819437997, n_estimators=834;, score=-0.018 total time=   0.3s\n",
      "[CV 8/10] END ccp_alpha=38107, max_samples=0.2908575226463551, min_samples_split=0.5944692819437997, n_estimators=834;, score=-0.018 total time=   0.3s\n",
      "[CV 9/10] END ccp_alpha=38107, max_samples=0.2908575226463551, min_samples_split=0.5944692819437997, n_estimators=834;, score=-0.021 total time=   0.3s\n",
      "[CV 10/10] END ccp_alpha=38107, max_samples=0.2908575226463551, min_samples_split=0.5944692819437997, n_estimators=834;, score=-0.001 total time=   0.3s\n",
      "[CV 1/10] END ccp_alpha=97955, max_samples=0.4041002046391955, min_samples_split=0.5030242410152252, n_estimators=1214;, score=-0.009 total time=   0.5s\n",
      "[CV 2/10] END ccp_alpha=97955, max_samples=0.4041002046391955, min_samples_split=0.5030242410152252, n_estimators=1214;, score=-0.001 total time=   0.5s\n",
      "[CV 3/10] END ccp_alpha=97955, max_samples=0.4041002046391955, min_samples_split=0.5030242410152252, n_estimators=1214;, score=-0.026 total time=   0.5s\n",
      "[CV 4/10] END ccp_alpha=97955, max_samples=0.4041002046391955, min_samples_split=0.5030242410152252, n_estimators=1214;, score=-0.001 total time=   0.5s\n",
      "[CV 5/10] END ccp_alpha=97955, max_samples=0.4041002046391955, min_samples_split=0.5030242410152252, n_estimators=1214;, score=-0.018 total time=   0.5s\n",
      "[CV 6/10] END ccp_alpha=97955, max_samples=0.4041002046391955, min_samples_split=0.5030242410152252, n_estimators=1214;, score=-0.010 total time=   0.5s\n",
      "[CV 7/10] END ccp_alpha=97955, max_samples=0.4041002046391955, min_samples_split=0.5030242410152252, n_estimators=1214;, score=-0.018 total time=   0.5s\n",
      "[CV 8/10] END ccp_alpha=97955, max_samples=0.4041002046391955, min_samples_split=0.5030242410152252, n_estimators=1214;, score=-0.017 total time=   0.5s\n",
      "[CV 9/10] END ccp_alpha=97955, max_samples=0.4041002046391955, min_samples_split=0.5030242410152252, n_estimators=1214;, score=-0.020 total time=   0.5s\n",
      "[CV 10/10] END ccp_alpha=97955, max_samples=0.4041002046391955, min_samples_split=0.5030242410152252, n_estimators=1214;, score=-0.001 total time=   0.5s\n",
      "[CV 1/10] END ccp_alpha=73899, max_samples=0.49311668624812544, min_samples_split=0.3920180553527195, n_estimators=568;, score=0.202 total time=   0.3s\n",
      "[CV 2/10] END ccp_alpha=73899, max_samples=0.49311668624812544, min_samples_split=0.3920180553527195, n_estimators=568;, score=0.241 total time=   0.2s\n",
      "[CV 3/10] END ccp_alpha=73899, max_samples=0.49311668624812544, min_samples_split=0.3920180553527195, n_estimators=568;, score=0.195 total time=   0.3s\n",
      "[CV 4/10] END ccp_alpha=73899, max_samples=0.49311668624812544, min_samples_split=0.3920180553527195, n_estimators=568;, score=0.183 total time=   0.3s\n",
      "[CV 5/10] END ccp_alpha=73899, max_samples=0.49311668624812544, min_samples_split=0.3920180553527195, n_estimators=568;, score=0.161 total time=   0.2s\n",
      "[CV 6/10] END ccp_alpha=73899, max_samples=0.49311668624812544, min_samples_split=0.3920180553527195, n_estimators=568;, score=0.192 total time=   0.3s\n",
      "[CV 7/10] END ccp_alpha=73899, max_samples=0.49311668624812544, min_samples_split=0.3920180553527195, n_estimators=568;, score=0.152 total time=   0.3s\n",
      "[CV 8/10] END ccp_alpha=73899, max_samples=0.49311668624812544, min_samples_split=0.3920180553527195, n_estimators=568;, score=0.222 total time=   0.3s\n",
      "[CV 9/10] END ccp_alpha=73899, max_samples=0.49311668624812544, min_samples_split=0.3920180553527195, n_estimators=568;, score=0.276 total time=   0.3s\n",
      "[CV 10/10] END ccp_alpha=73899, max_samples=0.49311668624812544, min_samples_split=0.3920180553527195, n_estimators=568;, score=0.187 total time=   0.3s\n",
      "[CV 1/10] END ccp_alpha=49651, max_samples=0.7124994445460798, min_samples_split=0.1522145573386383, n_estimators=1066;, score=0.720 total time=   0.9s\n",
      "[CV 2/10] END ccp_alpha=49651, max_samples=0.7124994445460798, min_samples_split=0.1522145573386383, n_estimators=1066;, score=0.743 total time=   1.0s\n",
      "[CV 3/10] END ccp_alpha=49651, max_samples=0.7124994445460798, min_samples_split=0.1522145573386383, n_estimators=1066;, score=0.664 total time=   0.9s\n",
      "[CV 4/10] END ccp_alpha=49651, max_samples=0.7124994445460798, min_samples_split=0.1522145573386383, n_estimators=1066;, score=0.615 total time=   0.9s\n",
      "[CV 5/10] END ccp_alpha=49651, max_samples=0.7124994445460798, min_samples_split=0.1522145573386383, n_estimators=1066;, score=0.591 total time=   0.9s\n",
      "[CV 6/10] END ccp_alpha=49651, max_samples=0.7124994445460798, min_samples_split=0.1522145573386383, n_estimators=1066;, score=0.522 total time=   0.9s\n",
      "[CV 7/10] END ccp_alpha=49651, max_samples=0.7124994445460798, min_samples_split=0.1522145573386383, n_estimators=1066;, score=0.534 total time=   0.9s\n",
      "[CV 8/10] END ccp_alpha=49651, max_samples=0.7124994445460798, min_samples_split=0.1522145573386383, n_estimators=1066;, score=0.741 total time=   0.9s\n",
      "[CV 9/10] END ccp_alpha=49651, max_samples=0.7124994445460798, min_samples_split=0.1522145573386383, n_estimators=1066;, score=0.794 total time=   0.9s\n",
      "[CV 10/10] END ccp_alpha=49651, max_samples=0.7124994445460798, min_samples_split=0.1522145573386383, n_estimators=1066;, score=0.547 total time=   0.9s\n",
      "[CV 1/10] END ccp_alpha=83896, max_samples=0.5657123412253932, min_samples_split=0.31226784237505734, n_estimators=1495;, score=0.560 total time=   0.9s\n",
      "[CV 2/10] END ccp_alpha=83896, max_samples=0.5657123412253932, min_samples_split=0.31226784237505734, n_estimators=1495;, score=0.675 total time=   0.9s\n",
      "[CV 3/10] END ccp_alpha=83896, max_samples=0.5657123412253932, min_samples_split=0.31226784237505734, n_estimators=1495;, score=0.559 total time=   0.9s\n",
      "[CV 4/10] END ccp_alpha=83896, max_samples=0.5657123412253932, min_samples_split=0.31226784237505734, n_estimators=1495;, score=0.508 total time=   0.9s\n",
      "[CV 5/10] END ccp_alpha=83896, max_samples=0.5657123412253932, min_samples_split=0.31226784237505734, n_estimators=1495;, score=0.468 total time=   0.9s\n",
      "[CV 6/10] END ccp_alpha=83896, max_samples=0.5657123412253932, min_samples_split=0.31226784237505734, n_estimators=1495;, score=0.453 total time=   0.9s\n",
      "[CV 7/10] END ccp_alpha=83896, max_samples=0.5657123412253932, min_samples_split=0.31226784237505734, n_estimators=1495;, score=0.409 total time=   0.9s\n",
      "[CV 8/10] END ccp_alpha=83896, max_samples=0.5657123412253932, min_samples_split=0.31226784237505734, n_estimators=1495;, score=0.592 total time=   0.9s\n",
      "[CV 9/10] END ccp_alpha=83896, max_samples=0.5657123412253932, min_samples_split=0.31226784237505734, n_estimators=1495;, score=0.650 total time=   0.9s\n",
      "[CV 10/10] END ccp_alpha=83896, max_samples=0.5657123412253932, min_samples_split=0.31226784237505734, n_estimators=1495;, score=0.479 total time=   0.9s\n",
      "[CV 1/10] END ccp_alpha=84396, max_samples=0.39381269084454884, min_samples_split=0.004034096726891034, n_estimators=633;, score=0.870 total time=   0.8s\n",
      "[CV 2/10] END ccp_alpha=84396, max_samples=0.39381269084454884, min_samples_split=0.004034096726891034, n_estimators=633;, score=0.850 total time=   0.8s\n",
      "[CV 3/10] END ccp_alpha=84396, max_samples=0.39381269084454884, min_samples_split=0.004034096726891034, n_estimators=633;, score=0.825 total time=   0.8s\n",
      "[CV 4/10] END ccp_alpha=84396, max_samples=0.39381269084454884, min_samples_split=0.004034096726891034, n_estimators=633;, score=0.790 total time=   0.8s\n",
      "[CV 5/10] END ccp_alpha=84396, max_samples=0.39381269084454884, min_samples_split=0.004034096726891034, n_estimators=633;, score=0.809 total time=   0.8s\n",
      "[CV 6/10] END ccp_alpha=84396, max_samples=0.39381269084454884, min_samples_split=0.004034096726891034, n_estimators=633;, score=0.712 total time=   0.8s\n",
      "[CV 7/10] END ccp_alpha=84396, max_samples=0.39381269084454884, min_samples_split=0.004034096726891034, n_estimators=633;, score=0.831 total time=   0.8s\n",
      "[CV 8/10] END ccp_alpha=84396, max_samples=0.39381269084454884, min_samples_split=0.004034096726891034, n_estimators=633;, score=0.874 total time=   0.9s\n",
      "[CV 9/10] END ccp_alpha=84396, max_samples=0.39381269084454884, min_samples_split=0.004034096726891034, n_estimators=633;, score=0.870 total time=   0.8s\n",
      "[CV 10/10] END ccp_alpha=84396, max_samples=0.39381269084454884, min_samples_split=0.004034096726891034, n_estimators=633;, score=0.541 total time=   0.8s\n",
      "[CV 1/10] END ccp_alpha=5578, max_samples=0.8247276377425943, min_samples_split=0.6486607003160093, n_estimators=1103;, score=-0.010 total time=   0.4s\n",
      "[CV 2/10] END ccp_alpha=5578, max_samples=0.8247276377425943, min_samples_split=0.6486607003160093, n_estimators=1103;, score=-0.001 total time=   0.4s\n",
      "[CV 3/10] END ccp_alpha=5578, max_samples=0.8247276377425943, min_samples_split=0.6486607003160093, n_estimators=1103;, score=-0.026 total time=   0.4s\n",
      "[CV 4/10] END ccp_alpha=5578, max_samples=0.8247276377425943, min_samples_split=0.6486607003160093, n_estimators=1103;, score=-0.001 total time=   0.4s\n",
      "[CV 5/10] END ccp_alpha=5578, max_samples=0.8247276377425943, min_samples_split=0.6486607003160093, n_estimators=1103;, score=-0.018 total time=   0.4s\n",
      "[CV 6/10] END ccp_alpha=5578, max_samples=0.8247276377425943, min_samples_split=0.6486607003160093, n_estimators=1103;, score=-0.010 total time=   0.4s\n",
      "[CV 7/10] END ccp_alpha=5578, max_samples=0.8247276377425943, min_samples_split=0.6486607003160093, n_estimators=1103;, score=-0.019 total time=   0.4s\n",
      "[CV 8/10] END ccp_alpha=5578, max_samples=0.8247276377425943, min_samples_split=0.6486607003160093, n_estimators=1103;, score=-0.017 total time=   0.4s\n",
      "[CV 9/10] END ccp_alpha=5578, max_samples=0.8247276377425943, min_samples_split=0.6486607003160093, n_estimators=1103;, score=-0.020 total time=   0.4s\n",
      "[CV 10/10] END ccp_alpha=5578, max_samples=0.8247276377425943, min_samples_split=0.6486607003160093, n_estimators=1103;, score=-0.001 total time=   0.4s\n",
      "[CV 1/10] END ccp_alpha=3027, max_samples=0.1853006166846196, min_samples_split=0.19261700364068612, n_estimators=243;, score=-0.010 total time=   0.1s\n",
      "[CV 2/10] END ccp_alpha=3027, max_samples=0.1853006166846196, min_samples_split=0.19261700364068612, n_estimators=243;, score=-0.001 total time=   0.1s\n",
      "[CV 3/10] END ccp_alpha=3027, max_samples=0.1853006166846196, min_samples_split=0.19261700364068612, n_estimators=243;, score=-0.024 total time=   0.1s\n",
      "[CV 4/10] END ccp_alpha=3027, max_samples=0.1853006166846196, min_samples_split=0.19261700364068612, n_estimators=243;, score=-0.000 total time=   0.1s\n",
      "[CV 5/10] END ccp_alpha=3027, max_samples=0.1853006166846196, min_samples_split=0.19261700364068612, n_estimators=243;, score=-0.018 total time=   0.1s\n",
      "[CV 6/10] END ccp_alpha=3027, max_samples=0.1853006166846196, min_samples_split=0.19261700364068612, n_estimators=243;, score=-0.010 total time=   0.1s\n",
      "[CV 7/10] END ccp_alpha=3027, max_samples=0.1853006166846196, min_samples_split=0.19261700364068612, n_estimators=243;, score=-0.018 total time=   0.1s\n",
      "[CV 8/10] END ccp_alpha=3027, max_samples=0.1853006166846196, min_samples_split=0.19261700364068612, n_estimators=243;, score=-0.016 total time=   0.1s\n",
      "[CV 9/10] END ccp_alpha=3027, max_samples=0.1853006166846196, min_samples_split=0.19261700364068612, n_estimators=243;, score=-0.018 total time=   0.1s\n",
      "[CV 10/10] END ccp_alpha=3027, max_samples=0.1853006166846196, min_samples_split=0.19261700364068612, n_estimators=243;, score=-0.001 total time=   0.1s\n",
      "[CV 1/10] END ccp_alpha=61723, max_samples=0.7175935733029739, min_samples_split=0.44419369890115634, n_estimators=53;, score=0.517 total time=   0.0s\n",
      "[CV 2/10] END ccp_alpha=61723, max_samples=0.7175935733029739, min_samples_split=0.44419369890115634, n_estimators=53;, score=0.602 total time=   0.0s\n",
      "[CV 3/10] END ccp_alpha=61723, max_samples=0.7175935733029739, min_samples_split=0.44419369890115634, n_estimators=53;, score=0.513 total time=   0.0s\n",
      "[CV 4/10] END ccp_alpha=61723, max_samples=0.7175935733029739, min_samples_split=0.44419369890115634, n_estimators=53;, score=0.468 total time=   0.0s\n",
      "[CV 5/10] END ccp_alpha=61723, max_samples=0.7175935733029739, min_samples_split=0.44419369890115634, n_estimators=53;, score=0.427 total time=   0.0s\n",
      "[CV 6/10] END ccp_alpha=61723, max_samples=0.7175935733029739, min_samples_split=0.44419369890115634, n_estimators=53;, score=0.429 total time=   0.0s\n",
      "[CV 7/10] END ccp_alpha=61723, max_samples=0.7175935733029739, min_samples_split=0.44419369890115634, n_estimators=53;, score=0.406 total time=   0.0s\n",
      "[CV 8/10] END ccp_alpha=61723, max_samples=0.7175935733029739, min_samples_split=0.44419369890115634, n_estimators=53;, score=0.553 total time=   0.0s\n",
      "[CV 9/10] END ccp_alpha=61723, max_samples=0.7175935733029739, min_samples_split=0.44419369890115634, n_estimators=53;, score=0.586 total time=   0.0s\n",
      "[CV 10/10] END ccp_alpha=61723, max_samples=0.7175935733029739, min_samples_split=0.44419369890115634, n_estimators=53;, score=0.429 total time=   0.0s\n",
      "[CV 1/10] END ccp_alpha=63955, max_samples=0.06735865470588365, min_samples_split=0.893628105641053, n_estimators=935;, score=-0.010 total time=   0.4s\n",
      "[CV 2/10] END ccp_alpha=63955, max_samples=0.06735865470588365, min_samples_split=0.893628105641053, n_estimators=935;, score=-0.001 total time=   0.4s\n",
      "[CV 3/10] END ccp_alpha=63955, max_samples=0.06735865470588365, min_samples_split=0.893628105641053, n_estimators=935;, score=-0.027 total time=   0.4s\n",
      "[CV 4/10] END ccp_alpha=63955, max_samples=0.06735865470588365, min_samples_split=0.893628105641053, n_estimators=935;, score=-0.000 total time=   0.4s\n",
      "[CV 5/10] END ccp_alpha=63955, max_samples=0.06735865470588365, min_samples_split=0.893628105641053, n_estimators=935;, score=-0.016 total time=   0.4s\n",
      "[CV 6/10] END ccp_alpha=63955, max_samples=0.06735865470588365, min_samples_split=0.893628105641053, n_estimators=935;, score=-0.010 total time=   0.4s\n",
      "[CV 7/10] END ccp_alpha=63955, max_samples=0.06735865470588365, min_samples_split=0.893628105641053, n_estimators=935;, score=-0.019 total time=   0.4s\n",
      "[CV 8/10] END ccp_alpha=63955, max_samples=0.06735865470588365, min_samples_split=0.893628105641053, n_estimators=935;, score=-0.016 total time=   0.4s\n",
      "[CV 9/10] END ccp_alpha=63955, max_samples=0.06735865470588365, min_samples_split=0.893628105641053, n_estimators=935;, score=-0.021 total time=   0.4s\n",
      "[CV 10/10] END ccp_alpha=63955, max_samples=0.06735865470588365, min_samples_split=0.893628105641053, n_estimators=935;, score=-0.001 total time=   0.4s\n",
      "[CV 1/10] END ccp_alpha=49286, max_samples=0.08627263963982112, min_samples_split=0.7099778363304835, n_estimators=1479;, score=-0.009 total time=   0.6s\n",
      "[CV 2/10] END ccp_alpha=49286, max_samples=0.08627263963982112, min_samples_split=0.7099778363304835, n_estimators=1479;, score=-0.001 total time=   0.6s\n",
      "[CV 3/10] END ccp_alpha=49286, max_samples=0.08627263963982112, min_samples_split=0.7099778363304835, n_estimators=1479;, score=-0.025 total time=   0.6s\n",
      "[CV 4/10] END ccp_alpha=49286, max_samples=0.08627263963982112, min_samples_split=0.7099778363304835, n_estimators=1479;, score=-0.001 total time=   0.6s\n",
      "[CV 5/10] END ccp_alpha=49286, max_samples=0.08627263963982112, min_samples_split=0.7099778363304835, n_estimators=1479;, score=-0.017 total time=   0.6s\n",
      "[CV 6/10] END ccp_alpha=49286, max_samples=0.08627263963982112, min_samples_split=0.7099778363304835, n_estimators=1479;, score=-0.010 total time=   0.6s\n",
      "[CV 7/10] END ccp_alpha=49286, max_samples=0.08627263963982112, min_samples_split=0.7099778363304835, n_estimators=1479;, score=-0.018 total time=   0.6s\n",
      "[CV 8/10] END ccp_alpha=49286, max_samples=0.08627263963982112, min_samples_split=0.7099778363304835, n_estimators=1479;, score=-0.019 total time=   0.6s\n",
      "[CV 9/10] END ccp_alpha=49286, max_samples=0.08627263963982112, min_samples_split=0.7099778363304835, n_estimators=1479;, score=-0.020 total time=   0.6s\n",
      "[CV 10/10] END ccp_alpha=49286, max_samples=0.08627263963982112, min_samples_split=0.7099778363304835, n_estimators=1479;, score=-0.001 total time=   0.6s\n",
      "[CV 1/10] END ccp_alpha=26319, max_samples=0.33815283505490557, min_samples_split=0.6882173571561483, n_estimators=639;, score=-0.010 total time=   0.3s\n",
      "[CV 2/10] END ccp_alpha=26319, max_samples=0.33815283505490557, min_samples_split=0.6882173571561483, n_estimators=639;, score=-0.001 total time=   0.3s\n",
      "[CV 3/10] END ccp_alpha=26319, max_samples=0.33815283505490557, min_samples_split=0.6882173571561483, n_estimators=639;, score=-0.025 total time=   0.3s\n",
      "[CV 4/10] END ccp_alpha=26319, max_samples=0.33815283505490557, min_samples_split=0.6882173571561483, n_estimators=639;, score=-0.001 total time=   0.3s\n",
      "[CV 5/10] END ccp_alpha=26319, max_samples=0.33815283505490557, min_samples_split=0.6882173571561483, n_estimators=639;, score=-0.018 total time=   0.3s\n",
      "[CV 6/10] END ccp_alpha=26319, max_samples=0.33815283505490557, min_samples_split=0.6882173571561483, n_estimators=639;, score=-0.010 total time=   0.3s\n",
      "[CV 7/10] END ccp_alpha=26319, max_samples=0.33815283505490557, min_samples_split=0.6882173571561483, n_estimators=639;, score=-0.019 total time=   0.3s\n",
      "[CV 8/10] END ccp_alpha=26319, max_samples=0.33815283505490557, min_samples_split=0.6882173571561483, n_estimators=639;, score=-0.018 total time=   0.3s\n",
      "[CV 9/10] END ccp_alpha=26319, max_samples=0.33815283505490557, min_samples_split=0.6882173571561483, n_estimators=639;, score=-0.020 total time=   0.3s\n",
      "[CV 10/10] END ccp_alpha=26319, max_samples=0.33815283505490557, min_samples_split=0.6882173571561483, n_estimators=639;, score=-0.001 total time=   0.3s\n",
      "[CV 1/10] END ccp_alpha=64270, max_samples=0.7614249111240323, min_samples_split=0.9573840858564118, n_estimators=362;, score=-0.010 total time=   0.1s\n",
      "[CV 2/10] END ccp_alpha=64270, max_samples=0.7614249111240323, min_samples_split=0.9573840858564118, n_estimators=362;, score=-0.001 total time=   0.1s\n",
      "[CV 3/10] END ccp_alpha=64270, max_samples=0.7614249111240323, min_samples_split=0.9573840858564118, n_estimators=362;, score=-0.026 total time=   0.1s\n",
      "[CV 4/10] END ccp_alpha=64270, max_samples=0.7614249111240323, min_samples_split=0.9573840858564118, n_estimators=362;, score=-0.001 total time=   0.1s\n",
      "[CV 5/10] END ccp_alpha=64270, max_samples=0.7614249111240323, min_samples_split=0.9573840858564118, n_estimators=362;, score=-0.017 total time=   0.1s\n",
      "[CV 6/10] END ccp_alpha=64270, max_samples=0.7614249111240323, min_samples_split=0.9573840858564118, n_estimators=362;, score=-0.011 total time=   0.1s\n",
      "[CV 7/10] END ccp_alpha=64270, max_samples=0.7614249111240323, min_samples_split=0.9573840858564118, n_estimators=362;, score=-0.018 total time=   0.1s\n",
      "[CV 8/10] END ccp_alpha=64270, max_samples=0.7614249111240323, min_samples_split=0.9573840858564118, n_estimators=362;, score=-0.017 total time=   0.1s\n",
      "[CV 9/10] END ccp_alpha=64270, max_samples=0.7614249111240323, min_samples_split=0.9573840858564118, n_estimators=362;, score=-0.020 total time=   0.1s\n",
      "[CV 10/10] END ccp_alpha=64270, max_samples=0.7614249111240323, min_samples_split=0.9573840858564118, n_estimators=362;, score=-0.001 total time=   0.1s\n",
      "[CV 1/10] END ccp_alpha=17608, max_samples=0.7662190388796711, min_samples_split=0.7077564571335327, n_estimators=1388;, score=-0.010 total time=   0.5s\n",
      "[CV 2/10] END ccp_alpha=17608, max_samples=0.7662190388796711, min_samples_split=0.7077564571335327, n_estimators=1388;, score=-0.001 total time=   0.5s\n",
      "[CV 3/10] END ccp_alpha=17608, max_samples=0.7662190388796711, min_samples_split=0.7077564571335327, n_estimators=1388;, score=-0.026 total time=   0.5s\n",
      "[CV 4/10] END ccp_alpha=17608, max_samples=0.7662190388796711, min_samples_split=0.7077564571335327, n_estimators=1388;, score=-0.001 total time=   0.5s\n",
      "[CV 5/10] END ccp_alpha=17608, max_samples=0.7662190388796711, min_samples_split=0.7077564571335327, n_estimators=1388;, score=-0.017 total time=   0.5s\n",
      "[CV 6/10] END ccp_alpha=17608, max_samples=0.7662190388796711, min_samples_split=0.7077564571335327, n_estimators=1388;, score=-0.010 total time=   0.6s\n",
      "[CV 7/10] END ccp_alpha=17608, max_samples=0.7662190388796711, min_samples_split=0.7077564571335327, n_estimators=1388;, score=-0.019 total time=   0.5s\n",
      "[CV 8/10] END ccp_alpha=17608, max_samples=0.7662190388796711, min_samples_split=0.7077564571335327, n_estimators=1388;, score=-0.017 total time=   0.5s\n",
      "[CV 9/10] END ccp_alpha=17608, max_samples=0.7662190388796711, min_samples_split=0.7077564571335327, n_estimators=1388;, score=-0.020 total time=   0.5s\n",
      "[CV 10/10] END ccp_alpha=17608, max_samples=0.7662190388796711, min_samples_split=0.7077564571335327, n_estimators=1388;, score=-0.001 total time=   0.5s\n",
      "[CV 1/10] END ccp_alpha=74186, max_samples=0.7061111856053521, min_samples_split=0.44670032206009824, n_estimators=1128;, score=0.518 total time=   0.6s\n",
      "[CV 2/10] END ccp_alpha=74186, max_samples=0.7061111856053521, min_samples_split=0.44670032206009824, n_estimators=1128;, score=0.579 total time=   0.6s\n",
      "[CV 3/10] END ccp_alpha=74186, max_samples=0.7061111856053521, min_samples_split=0.44670032206009824, n_estimators=1128;, score=0.507 total time=   0.7s\n",
      "[CV 4/10] END ccp_alpha=74186, max_samples=0.7061111856053521, min_samples_split=0.44670032206009824, n_estimators=1128;, score=0.460 total time=   0.6s\n",
      "[CV 5/10] END ccp_alpha=74186, max_samples=0.7061111856053521, min_samples_split=0.44670032206009824, n_estimators=1128;, score=0.424 total time=   0.6s\n",
      "[CV 6/10] END ccp_alpha=74186, max_samples=0.7061111856053521, min_samples_split=0.44670032206009824, n_estimators=1128;, score=0.393 total time=   0.6s\n",
      "[CV 7/10] END ccp_alpha=74186, max_samples=0.7061111856053521, min_samples_split=0.44670032206009824, n_estimators=1128;, score=0.364 total time=   0.6s\n",
      "[CV 8/10] END ccp_alpha=74186, max_samples=0.7061111856053521, min_samples_split=0.44670032206009824, n_estimators=1128;, score=0.554 total time=   0.6s\n",
      "[CV 9/10] END ccp_alpha=74186, max_samples=0.7061111856053521, min_samples_split=0.44670032206009824, n_estimators=1128;, score=0.628 total time=   0.6s\n",
      "[CV 10/10] END ccp_alpha=74186, max_samples=0.7061111856053521, min_samples_split=0.44670032206009824, n_estimators=1128;, score=0.428 total time=   0.7s\n",
      "[CV 1/10] END ccp_alpha=26319, max_samples=0.09438936423468214, min_samples_split=0.09872226466264, n_estimators=1126;, score=-0.010 total time=   0.4s\n",
      "[CV 2/10] END ccp_alpha=26319, max_samples=0.09438936423468214, min_samples_split=0.09872226466264, n_estimators=1126;, score=-0.001 total time=   0.4s\n",
      "[CV 3/10] END ccp_alpha=26319, max_samples=0.09438936423468214, min_samples_split=0.09872226466264, n_estimators=1126;, score=-0.025 total time=   0.4s\n",
      "[CV 4/10] END ccp_alpha=26319, max_samples=0.09438936423468214, min_samples_split=0.09872226466264, n_estimators=1126;, score=-0.001 total time=   0.4s\n",
      "[CV 5/10] END ccp_alpha=26319, max_samples=0.09438936423468214, min_samples_split=0.09872226466264, n_estimators=1126;, score=-0.017 total time=   0.4s\n",
      "[CV 6/10] END ccp_alpha=26319, max_samples=0.09438936423468214, min_samples_split=0.09872226466264, n_estimators=1126;, score=-0.011 total time=   0.4s\n",
      "[CV 7/10] END ccp_alpha=26319, max_samples=0.09438936423468214, min_samples_split=0.09872226466264, n_estimators=1126;, score=-0.018 total time=   0.4s\n",
      "[CV 8/10] END ccp_alpha=26319, max_samples=0.09438936423468214, min_samples_split=0.09872226466264, n_estimators=1126;, score=-0.019 total time=   0.4s\n",
      "[CV 9/10] END ccp_alpha=26319, max_samples=0.09438936423468214, min_samples_split=0.09872226466264, n_estimators=1126;, score=-0.020 total time=   0.4s\n",
      "[CV 10/10] END ccp_alpha=26319, max_samples=0.09438936423468214, min_samples_split=0.09872226466264, n_estimators=1126;, score=-0.001 total time=   0.4s\n",
      "[CV 1/10] END ccp_alpha=36374, max_samples=0.29062538436038676, min_samples_split=0.37975636016007597, n_estimators=1383;, score=-0.010 total time=   0.5s\n",
      "[CV 2/10] END ccp_alpha=36374, max_samples=0.29062538436038676, min_samples_split=0.37975636016007597, n_estimators=1383;, score=-0.001 total time=   0.6s\n",
      "[CV 3/10] END ccp_alpha=36374, max_samples=0.29062538436038676, min_samples_split=0.37975636016007597, n_estimators=1383;, score=-0.026 total time=   0.5s\n",
      "[CV 4/10] END ccp_alpha=36374, max_samples=0.29062538436038676, min_samples_split=0.37975636016007597, n_estimators=1383;, score=-0.001 total time=   0.5s\n",
      "[CV 5/10] END ccp_alpha=36374, max_samples=0.29062538436038676, min_samples_split=0.37975636016007597, n_estimators=1383;, score=-0.017 total time=   0.5s\n",
      "[CV 6/10] END ccp_alpha=36374, max_samples=0.29062538436038676, min_samples_split=0.37975636016007597, n_estimators=1383;, score=-0.010 total time=   0.6s\n",
      "[CV 7/10] END ccp_alpha=36374, max_samples=0.29062538436038676, min_samples_split=0.37975636016007597, n_estimators=1383;, score=-0.019 total time=   0.5s\n",
      "[CV 8/10] END ccp_alpha=36374, max_samples=0.29062538436038676, min_samples_split=0.37975636016007597, n_estimators=1383;, score=-0.017 total time=   0.5s\n",
      "[CV 9/10] END ccp_alpha=36374, max_samples=0.29062538436038676, min_samples_split=0.37975636016007597, n_estimators=1383;, score=-0.021 total time=   0.5s\n",
      "[CV 10/10] END ccp_alpha=36374, max_samples=0.29062538436038676, min_samples_split=0.37975636016007597, n_estimators=1383;, score=-0.001 total time=   0.5s\n",
      "[CV 1/10] END ccp_alpha=33561, max_samples=0.636522328347741, min_samples_split=0.6056042932888887, n_estimators=468;, score=-0.010 total time=   0.2s\n",
      "[CV 2/10] END ccp_alpha=33561, max_samples=0.636522328347741, min_samples_split=0.6056042932888887, n_estimators=468;, score=-0.001 total time=   0.2s\n",
      "[CV 3/10] END ccp_alpha=33561, max_samples=0.636522328347741, min_samples_split=0.6056042932888887, n_estimators=468;, score=-0.026 total time=   0.2s\n",
      "[CV 4/10] END ccp_alpha=33561, max_samples=0.636522328347741, min_samples_split=0.6056042932888887, n_estimators=468;, score=-0.001 total time=   0.2s\n",
      "[CV 5/10] END ccp_alpha=33561, max_samples=0.636522328347741, min_samples_split=0.6056042932888887, n_estimators=468;, score=-0.018 total time=   0.2s\n",
      "[CV 6/10] END ccp_alpha=33561, max_samples=0.636522328347741, min_samples_split=0.6056042932888887, n_estimators=468;, score=-0.011 total time=   0.2s\n",
      "[CV 7/10] END ccp_alpha=33561, max_samples=0.636522328347741, min_samples_split=0.6056042932888887, n_estimators=468;, score=-0.019 total time=   0.2s\n",
      "[CV 8/10] END ccp_alpha=33561, max_samples=0.636522328347741, min_samples_split=0.6056042932888887, n_estimators=468;, score=-0.017 total time=   0.2s\n",
      "[CV 9/10] END ccp_alpha=33561, max_samples=0.636522328347741, min_samples_split=0.6056042932888887, n_estimators=468;, score=-0.021 total time=   0.2s\n",
      "[CV 10/10] END ccp_alpha=33561, max_samples=0.636522328347741, min_samples_split=0.6056042932888887, n_estimators=468;, score=-0.001 total time=   0.2s\n",
      "[CV 1/10] END ccp_alpha=38187, max_samples=0.6195376384250529, min_samples_split=0.6830375129114818, n_estimators=427;, score=-0.010 total time=   0.2s\n",
      "[CV 2/10] END ccp_alpha=38187, max_samples=0.6195376384250529, min_samples_split=0.6830375129114818, n_estimators=427;, score=-0.001 total time=   0.2s\n",
      "[CV 3/10] END ccp_alpha=38187, max_samples=0.6195376384250529, min_samples_split=0.6830375129114818, n_estimators=427;, score=-0.026 total time=   0.2s\n",
      "[CV 4/10] END ccp_alpha=38187, max_samples=0.6195376384250529, min_samples_split=0.6830375129114818, n_estimators=427;, score=-0.001 total time=   0.2s\n",
      "[CV 5/10] END ccp_alpha=38187, max_samples=0.6195376384250529, min_samples_split=0.6830375129114818, n_estimators=427;, score=-0.017 total time=   0.2s\n",
      "[CV 6/10] END ccp_alpha=38187, max_samples=0.6195376384250529, min_samples_split=0.6830375129114818, n_estimators=427;, score=-0.010 total time=   0.2s\n",
      "[CV 7/10] END ccp_alpha=38187, max_samples=0.6195376384250529, min_samples_split=0.6830375129114818, n_estimators=427;, score=-0.019 total time=   0.2s\n",
      "[CV 8/10] END ccp_alpha=38187, max_samples=0.6195376384250529, min_samples_split=0.6830375129114818, n_estimators=427;, score=-0.017 total time=   0.2s\n",
      "[CV 9/10] END ccp_alpha=38187, max_samples=0.6195376384250529, min_samples_split=0.6830375129114818, n_estimators=427;, score=-0.022 total time=   0.2s\n",
      "[CV 10/10] END ccp_alpha=38187, max_samples=0.6195376384250529, min_samples_split=0.6830375129114818, n_estimators=427;, score=-0.001 total time=   0.2s\n",
      "[CV 1/10] END ccp_alpha=62445, max_samples=0.7337144345972705, min_samples_split=0.6066660526892382, n_estimators=920;, score=-0.010 total time=   0.4s\n",
      "[CV 2/10] END ccp_alpha=62445, max_samples=0.7337144345972705, min_samples_split=0.6066660526892382, n_estimators=920;, score=-0.001 total time=   0.4s\n",
      "[CV 3/10] END ccp_alpha=62445, max_samples=0.7337144345972705, min_samples_split=0.6066660526892382, n_estimators=920;, score=-0.026 total time=   0.4s\n",
      "[CV 4/10] END ccp_alpha=62445, max_samples=0.7337144345972705, min_samples_split=0.6066660526892382, n_estimators=920;, score=-0.001 total time=   0.4s\n",
      "[CV 5/10] END ccp_alpha=62445, max_samples=0.7337144345972705, min_samples_split=0.6066660526892382, n_estimators=920;, score=-0.018 total time=   0.4s\n",
      "[CV 6/10] END ccp_alpha=62445, max_samples=0.7337144345972705, min_samples_split=0.6066660526892382, n_estimators=920;, score=-0.010 total time=   0.4s\n",
      "[CV 7/10] END ccp_alpha=62445, max_samples=0.7337144345972705, min_samples_split=0.6066660526892382, n_estimators=920;, score=-0.019 total time=   0.4s\n",
      "[CV 8/10] END ccp_alpha=62445, max_samples=0.7337144345972705, min_samples_split=0.6066660526892382, n_estimators=920;, score=-0.017 total time=   0.4s\n",
      "[CV 9/10] END ccp_alpha=62445, max_samples=0.7337144345972705, min_samples_split=0.6066660526892382, n_estimators=920;, score=-0.020 total time=   0.4s\n",
      "[CV 10/10] END ccp_alpha=62445, max_samples=0.7337144345972705, min_samples_split=0.6066660526892382, n_estimators=920;, score=-0.001 total time=   0.4s\n",
      "[CV 1/10] END ccp_alpha=70559, max_samples=0.306666825567261, min_samples_split=0.004034096726891034, n_estimators=1486;, score=0.867 total time=   1.7s\n",
      "[CV 2/10] END ccp_alpha=70559, max_samples=0.306666825567261, min_samples_split=0.004034096726891034, n_estimators=1486;, score=0.849 total time=   1.7s\n",
      "[CV 3/10] END ccp_alpha=70559, max_samples=0.306666825567261, min_samples_split=0.004034096726891034, n_estimators=1486;, score=0.820 total time=   1.7s\n",
      "[CV 4/10] END ccp_alpha=70559, max_samples=0.306666825567261, min_samples_split=0.004034096726891034, n_estimators=1486;, score=0.787 total time=   1.9s\n",
      "[CV 5/10] END ccp_alpha=70559, max_samples=0.306666825567261, min_samples_split=0.004034096726891034, n_estimators=1486;, score=0.790 total time=   1.7s\n",
      "[CV 6/10] END ccp_alpha=70559, max_samples=0.306666825567261, min_samples_split=0.004034096726891034, n_estimators=1486;, score=0.716 total time=   1.8s\n",
      "[CV 7/10] END ccp_alpha=70559, max_samples=0.306666825567261, min_samples_split=0.004034096726891034, n_estimators=1486;, score=0.820 total time=   1.7s\n",
      "[CV 8/10] END ccp_alpha=70559, max_samples=0.306666825567261, min_samples_split=0.004034096726891034, n_estimators=1486;, score=0.872 total time=   1.7s\n",
      "[CV 9/10] END ccp_alpha=70559, max_samples=0.306666825567261, min_samples_split=0.004034096726891034, n_estimators=1486;, score=0.878 total time=   1.7s\n",
      "[CV 10/10] END ccp_alpha=70559, max_samples=0.306666825567261, min_samples_split=0.004034096726891034, n_estimators=1486;, score=0.557 total time=   1.7s\n",
      "[CV 1/10] END ccp_alpha=88615, max_samples=0.7378390161350041, min_samples_split=0.4576522118583126, n_estimators=265;, score=0.521 total time=   0.2s\n",
      "[CV 2/10] END ccp_alpha=88615, max_samples=0.7378390161350041, min_samples_split=0.4576522118583126, n_estimators=265;, score=0.582 total time=   0.2s\n",
      "[CV 3/10] END ccp_alpha=88615, max_samples=0.7378390161350041, min_samples_split=0.4576522118583126, n_estimators=265;, score=0.511 total time=   0.2s\n",
      "[CV 4/10] END ccp_alpha=88615, max_samples=0.7378390161350041, min_samples_split=0.4576522118583126, n_estimators=265;, score=0.453 total time=   0.2s\n",
      "[CV 5/10] END ccp_alpha=88615, max_samples=0.7378390161350041, min_samples_split=0.4576522118583126, n_estimators=265;, score=0.422 total time=   0.2s\n",
      "[CV 6/10] END ccp_alpha=88615, max_samples=0.7378390161350041, min_samples_split=0.4576522118583126, n_estimators=265;, score=0.392 total time=   0.2s\n",
      "[CV 7/10] END ccp_alpha=88615, max_samples=0.7378390161350041, min_samples_split=0.4576522118583126, n_estimators=265;, score=0.357 total time=   0.2s\n",
      "[CV 8/10] END ccp_alpha=88615, max_samples=0.7378390161350041, min_samples_split=0.4576522118583126, n_estimators=265;, score=0.550 total time=   0.2s\n",
      "[CV 9/10] END ccp_alpha=88615, max_samples=0.7378390161350041, min_samples_split=0.4576522118583126, n_estimators=265;, score=0.626 total time=   0.2s\n",
      "[CV 10/10] END ccp_alpha=88615, max_samples=0.7378390161350041, min_samples_split=0.4576522118583126, n_estimators=265;, score=0.434 total time=   0.2s\n",
      "[CV 1/10] END ccp_alpha=65127, max_samples=0.5870985819784664, min_samples_split=0.06299804665253861, n_estimators=1066;, score=0.784 total time=   1.1s\n",
      "[CV 2/10] END ccp_alpha=65127, max_samples=0.5870985819784664, min_samples_split=0.06299804665253861, n_estimators=1066;, score=0.797 total time=   1.1s\n",
      "[CV 3/10] END ccp_alpha=65127, max_samples=0.5870985819784664, min_samples_split=0.06299804665253861, n_estimators=1066;, score=0.734 total time=   1.1s\n",
      "[CV 4/10] END ccp_alpha=65127, max_samples=0.5870985819784664, min_samples_split=0.06299804665253861, n_estimators=1066;, score=0.696 total time=   1.1s\n",
      "[CV 5/10] END ccp_alpha=65127, max_samples=0.5870985819784664, min_samples_split=0.06299804665253861, n_estimators=1066;, score=0.674 total time=   1.1s\n",
      "[CV 6/10] END ccp_alpha=65127, max_samples=0.5870985819784664, min_samples_split=0.06299804665253861, n_estimators=1066;, score=0.606 total time=   1.1s\n",
      "[CV 7/10] END ccp_alpha=65127, max_samples=0.5870985819784664, min_samples_split=0.06299804665253861, n_estimators=1066;, score=0.660 total time=   1.1s\n",
      "[CV 8/10] END ccp_alpha=65127, max_samples=0.5870985819784664, min_samples_split=0.06299804665253861, n_estimators=1066;, score=0.806 total time=   1.1s\n",
      "[CV 9/10] END ccp_alpha=65127, max_samples=0.5870985819784664, min_samples_split=0.06299804665253861, n_estimators=1066;, score=0.837 total time=   1.1s\n",
      "[CV 10/10] END ccp_alpha=65127, max_samples=0.5870985819784664, min_samples_split=0.06299804665253861, n_estimators=1066;, score=0.599 total time=   1.1s\n",
      "[CV 1/10] END ccp_alpha=37880, max_samples=0.1741945018899248, min_samples_split=0.2743207952086516, n_estimators=741;, score=-0.011 total time=   0.3s\n",
      "[CV 2/10] END ccp_alpha=37880, max_samples=0.1741945018899248, min_samples_split=0.2743207952086516, n_estimators=741;, score=-0.001 total time=   0.3s\n",
      "[CV 3/10] END ccp_alpha=37880, max_samples=0.1741945018899248, min_samples_split=0.2743207952086516, n_estimators=741;, score=-0.026 total time=   0.3s\n",
      "[CV 4/10] END ccp_alpha=37880, max_samples=0.1741945018899248, min_samples_split=0.2743207952086516, n_estimators=741;, score=-0.001 total time=   0.3s\n",
      "[CV 5/10] END ccp_alpha=37880, max_samples=0.1741945018899248, min_samples_split=0.2743207952086516, n_estimators=741;, score=-0.018 total time=   0.3s\n",
      "[CV 6/10] END ccp_alpha=37880, max_samples=0.1741945018899248, min_samples_split=0.2743207952086516, n_estimators=741;, score=-0.011 total time=   0.3s\n",
      "[CV 7/10] END ccp_alpha=37880, max_samples=0.1741945018899248, min_samples_split=0.2743207952086516, n_estimators=741;, score=-0.019 total time=   0.3s\n",
      "[CV 8/10] END ccp_alpha=37880, max_samples=0.1741945018899248, min_samples_split=0.2743207952086516, n_estimators=741;, score=-0.019 total time=   0.3s\n",
      "[CV 9/10] END ccp_alpha=37880, max_samples=0.1741945018899248, min_samples_split=0.2743207952086516, n_estimators=741;, score=-0.022 total time=   0.3s\n",
      "[CV 10/10] END ccp_alpha=37880, max_samples=0.1741945018899248, min_samples_split=0.2743207952086516, n_estimators=741;, score=-0.001 total time=   0.3s\n",
      "[CV 1/10] END ccp_alpha=3032, max_samples=0.17355237687990765, min_samples_split=0.5708732525896674, n_estimators=1153;, score=-0.010 total time=   0.5s\n",
      "[CV 2/10] END ccp_alpha=3032, max_samples=0.17355237687990765, min_samples_split=0.5708732525896674, n_estimators=1153;, score=-0.001 total time=   0.5s\n",
      "[CV 3/10] END ccp_alpha=3032, max_samples=0.17355237687990765, min_samples_split=0.5708732525896674, n_estimators=1153;, score=-0.026 total time=   0.5s\n",
      "[CV 4/10] END ccp_alpha=3032, max_samples=0.17355237687990765, min_samples_split=0.5708732525896674, n_estimators=1153;, score=-0.001 total time=   0.5s\n",
      "[CV 5/10] END ccp_alpha=3032, max_samples=0.17355237687990765, min_samples_split=0.5708732525896674, n_estimators=1153;, score=-0.016 total time=   0.5s\n",
      "[CV 6/10] END ccp_alpha=3032, max_samples=0.17355237687990765, min_samples_split=0.5708732525896674, n_estimators=1153;, score=-0.011 total time=   0.5s\n",
      "[CV 7/10] END ccp_alpha=3032, max_samples=0.17355237687990765, min_samples_split=0.5708732525896674, n_estimators=1153;, score=-0.018 total time=   0.5s\n",
      "[CV 8/10] END ccp_alpha=3032, max_samples=0.17355237687990765, min_samples_split=0.5708732525896674, n_estimators=1153;, score=-0.017 total time=   0.5s\n",
      "[CV 9/10] END ccp_alpha=3032, max_samples=0.17355237687990765, min_samples_split=0.5708732525896674, n_estimators=1153;, score=-0.021 total time=   0.4s\n",
      "[CV 10/10] END ccp_alpha=3032, max_samples=0.17355237687990765, min_samples_split=0.5708732525896674, n_estimators=1153;, score=-0.001 total time=   0.4s\n",
      "[CV 1/10] END ccp_alpha=90982, max_samples=0.627293793084438, min_samples_split=0.6875226471601904, n_estimators=1114;, score=-0.010 total time=   0.4s\n",
      "[CV 2/10] END ccp_alpha=90982, max_samples=0.627293793084438, min_samples_split=0.6875226471601904, n_estimators=1114;, score=-0.001 total time=   0.4s\n",
      "[CV 3/10] END ccp_alpha=90982, max_samples=0.627293793084438, min_samples_split=0.6875226471601904, n_estimators=1114;, score=-0.027 total time=   0.4s\n",
      "[CV 4/10] END ccp_alpha=90982, max_samples=0.627293793084438, min_samples_split=0.6875226471601904, n_estimators=1114;, score=-0.001 total time=   0.5s\n",
      "[CV 5/10] END ccp_alpha=90982, max_samples=0.627293793084438, min_samples_split=0.6875226471601904, n_estimators=1114;, score=-0.018 total time=   0.4s\n",
      "[CV 6/10] END ccp_alpha=90982, max_samples=0.627293793084438, min_samples_split=0.6875226471601904, n_estimators=1114;, score=-0.010 total time=   0.5s\n",
      "[CV 7/10] END ccp_alpha=90982, max_samples=0.627293793084438, min_samples_split=0.6875226471601904, n_estimators=1114;, score=-0.019 total time=   0.5s\n",
      "[CV 8/10] END ccp_alpha=90982, max_samples=0.627293793084438, min_samples_split=0.6875226471601904, n_estimators=1114;, score=-0.017 total time=   0.5s\n",
      "[CV 9/10] END ccp_alpha=90982, max_samples=0.627293793084438, min_samples_split=0.6875226471601904, n_estimators=1114;, score=-0.020 total time=   0.4s\n",
      "[CV 10/10] END ccp_alpha=90982, max_samples=0.627293793084438, min_samples_split=0.6875226471601904, n_estimators=1114;, score=-0.001 total time=   0.4s\n",
      "[CV 1/10] END ccp_alpha=17, max_samples=0.4827076349322188, min_samples_split=0.12041879049537452, n_estimators=514;, score=0.713 total time=   0.4s\n",
      "[CV 2/10] END ccp_alpha=17, max_samples=0.4827076349322188, min_samples_split=0.12041879049537452, n_estimators=514;, score=0.758 total time=   0.4s\n",
      "[CV 3/10] END ccp_alpha=17, max_samples=0.4827076349322188, min_samples_split=0.12041879049537452, n_estimators=514;, score=0.665 total time=   0.4s\n",
      "[CV 4/10] END ccp_alpha=17, max_samples=0.4827076349322188, min_samples_split=0.12041879049537452, n_estimators=514;, score=0.617 total time=   0.4s\n",
      "[CV 5/10] END ccp_alpha=17, max_samples=0.4827076349322188, min_samples_split=0.12041879049537452, n_estimators=514;, score=0.593 total time=   0.4s\n",
      "[CV 6/10] END ccp_alpha=17, max_samples=0.4827076349322188, min_samples_split=0.12041879049537452, n_estimators=514;, score=0.542 total time=   0.4s\n",
      "[CV 7/10] END ccp_alpha=17, max_samples=0.4827076349322188, min_samples_split=0.12041879049537452, n_estimators=514;, score=0.541 total time=   0.4s\n",
      "[CV 8/10] END ccp_alpha=17, max_samples=0.4827076349322188, min_samples_split=0.12041879049537452, n_estimators=514;, score=0.738 total time=   0.4s\n",
      "[CV 9/10] END ccp_alpha=17, max_samples=0.4827076349322188, min_samples_split=0.12041879049537452, n_estimators=514;, score=0.781 total time=   0.4s\n",
      "[CV 10/10] END ccp_alpha=17, max_samples=0.4827076349322188, min_samples_split=0.12041879049537452, n_estimators=514;, score=0.552 total time=   0.4s\n",
      "[CV 1/10] END ccp_alpha=20241, max_samples=0.6808779612168454, min_samples_split=0.793157247710199, n_estimators=628;, score=-0.010 total time=   0.2s\n",
      "[CV 2/10] END ccp_alpha=20241, max_samples=0.6808779612168454, min_samples_split=0.793157247710199, n_estimators=628;, score=-0.001 total time=   0.2s\n",
      "[CV 3/10] END ccp_alpha=20241, max_samples=0.6808779612168454, min_samples_split=0.793157247710199, n_estimators=628;, score=-0.025 total time=   0.2s\n",
      "[CV 4/10] END ccp_alpha=20241, max_samples=0.6808779612168454, min_samples_split=0.793157247710199, n_estimators=628;, score=-0.001 total time=   0.2s\n",
      "[CV 5/10] END ccp_alpha=20241, max_samples=0.6808779612168454, min_samples_split=0.793157247710199, n_estimators=628;, score=-0.017 total time=   0.3s\n",
      "[CV 6/10] END ccp_alpha=20241, max_samples=0.6808779612168454, min_samples_split=0.793157247710199, n_estimators=628;, score=-0.010 total time=   0.3s\n",
      "[CV 7/10] END ccp_alpha=20241, max_samples=0.6808779612168454, min_samples_split=0.793157247710199, n_estimators=628;, score=-0.018 total time=   0.3s\n",
      "[CV 8/10] END ccp_alpha=20241, max_samples=0.6808779612168454, min_samples_split=0.793157247710199, n_estimators=628;, score=-0.016 total time=   0.3s\n",
      "[CV 9/10] END ccp_alpha=20241, max_samples=0.6808779612168454, min_samples_split=0.793157247710199, n_estimators=628;, score=-0.020 total time=   0.3s\n",
      "[CV 10/10] END ccp_alpha=20241, max_samples=0.6808779612168454, min_samples_split=0.793157247710199, n_estimators=628;, score=-0.001 total time=   0.3s\n",
      "[CV 1/10] END ccp_alpha=5792, max_samples=0.2306969744238767, min_samples_split=0.3153394926797305, n_estimators=178;, score=-0.008 total time=   0.1s\n",
      "[CV 2/10] END ccp_alpha=5792, max_samples=0.2306969744238767, min_samples_split=0.3153394926797305, n_estimators=178;, score=-0.001 total time=   0.1s\n",
      "[CV 3/10] END ccp_alpha=5792, max_samples=0.2306969744238767, min_samples_split=0.3153394926797305, n_estimators=178;, score=-0.025 total time=   0.1s\n",
      "[CV 4/10] END ccp_alpha=5792, max_samples=0.2306969744238767, min_samples_split=0.3153394926797305, n_estimators=178;, score=-0.000 total time=   0.1s\n",
      "[CV 5/10] END ccp_alpha=5792, max_samples=0.2306969744238767, min_samples_split=0.3153394926797305, n_estimators=178;, score=-0.016 total time=   0.1s\n",
      "[CV 6/10] END ccp_alpha=5792, max_samples=0.2306969744238767, min_samples_split=0.3153394926797305, n_estimators=178;, score=-0.010 total time=   0.1s\n",
      "[CV 7/10] END ccp_alpha=5792, max_samples=0.2306969744238767, min_samples_split=0.3153394926797305, n_estimators=178;, score=-0.019 total time=   0.1s\n",
      "[CV 8/10] END ccp_alpha=5792, max_samples=0.2306969744238767, min_samples_split=0.3153394926797305, n_estimators=178;, score=-0.016 total time=   0.1s\n",
      "[CV 9/10] END ccp_alpha=5792, max_samples=0.2306969744238767, min_samples_split=0.3153394926797305, n_estimators=178;, score=-0.021 total time=   0.1s\n",
      "[CV 10/10] END ccp_alpha=5792, max_samples=0.2306969744238767, min_samples_split=0.3153394926797305, n_estimators=178;, score=-0.001 total time=   0.1s\n",
      "[CV 1/10] END ccp_alpha=48902, max_samples=0.2813821227041481, min_samples_split=0.05734461864099094, n_estimators=737;, score=0.743 total time=   0.5s\n",
      "[CV 2/10] END ccp_alpha=48902, max_samples=0.2813821227041481, min_samples_split=0.05734461864099094, n_estimators=737;, score=0.800 total time=   0.5s\n",
      "[CV 3/10] END ccp_alpha=48902, max_samples=0.2813821227041481, min_samples_split=0.05734461864099094, n_estimators=737;, score=0.695 total time=   0.5s\n",
      "[CV 4/10] END ccp_alpha=48902, max_samples=0.2813821227041481, min_samples_split=0.05734461864099094, n_estimators=737;, score=0.655 total time=   0.5s\n",
      "[CV 5/10] END ccp_alpha=48902, max_samples=0.2813821227041481, min_samples_split=0.05734461864099094, n_estimators=737;, score=0.628 total time=   0.5s\n",
      "[CV 6/10] END ccp_alpha=48902, max_samples=0.2813821227041481, min_samples_split=0.05734461864099094, n_estimators=737;, score=0.591 total time=   0.5s\n",
      "[CV 7/10] END ccp_alpha=48902, max_samples=0.2813821227041481, min_samples_split=0.05734461864099094, n_estimators=737;, score=0.601 total time=   0.5s\n",
      "[CV 8/10] END ccp_alpha=48902, max_samples=0.2813821227041481, min_samples_split=0.05734461864099094, n_estimators=737;, score=0.772 total time=   0.5s\n",
      "[CV 9/10] END ccp_alpha=48902, max_samples=0.2813821227041481, min_samples_split=0.05734461864099094, n_estimators=737;, score=0.807 total time=   0.5s\n",
      "[CV 10/10] END ccp_alpha=48902, max_samples=0.2813821227041481, min_samples_split=0.05734461864099094, n_estimators=737;, score=0.587 total time=   0.5s\n",
      "[CV 1/10] END ccp_alpha=31710, max_samples=0.5476003888489465, min_samples_split=0.7773970726724794, n_estimators=1333;, score=-0.010 total time=   0.5s\n",
      "[CV 2/10] END ccp_alpha=31710, max_samples=0.5476003888489465, min_samples_split=0.7773970726724794, n_estimators=1333;, score=-0.001 total time=   0.5s\n",
      "[CV 3/10] END ccp_alpha=31710, max_samples=0.5476003888489465, min_samples_split=0.7773970726724794, n_estimators=1333;, score=-0.025 total time=   0.5s\n",
      "[CV 4/10] END ccp_alpha=31710, max_samples=0.5476003888489465, min_samples_split=0.7773970726724794, n_estimators=1333;, score=-0.001 total time=   0.5s\n",
      "[CV 5/10] END ccp_alpha=31710, max_samples=0.5476003888489465, min_samples_split=0.7773970726724794, n_estimators=1333;, score=-0.018 total time=   0.5s\n",
      "[CV 6/10] END ccp_alpha=31710, max_samples=0.5476003888489465, min_samples_split=0.7773970726724794, n_estimators=1333;, score=-0.010 total time=   0.5s\n",
      "[CV 7/10] END ccp_alpha=31710, max_samples=0.5476003888489465, min_samples_split=0.7773970726724794, n_estimators=1333;, score=-0.019 total time=   0.5s\n",
      "[CV 8/10] END ccp_alpha=31710, max_samples=0.5476003888489465, min_samples_split=0.7773970726724794, n_estimators=1333;, score=-0.017 total time=   0.5s\n",
      "[CV 9/10] END ccp_alpha=31710, max_samples=0.5476003888489465, min_samples_split=0.7773970726724794, n_estimators=1333;, score=-0.020 total time=   0.5s\n",
      "[CV 10/10] END ccp_alpha=31710, max_samples=0.5476003888489465, min_samples_split=0.7773970726724794, n_estimators=1333;, score=-0.001 total time=   0.5s\n",
      "[CV 1/10] END ccp_alpha=44315, max_samples=0.4055055819672789, min_samples_split=0.08407153884412033, n_estimators=228;, score=0.734 total time=   0.2s\n",
      "[CV 2/10] END ccp_alpha=44315, max_samples=0.4055055819672789, min_samples_split=0.08407153884412033, n_estimators=228;, score=0.778 total time=   0.2s\n",
      "[CV 3/10] END ccp_alpha=44315, max_samples=0.4055055819672789, min_samples_split=0.08407153884412033, n_estimators=228;, score=0.675 total time=   0.2s\n",
      "[CV 4/10] END ccp_alpha=44315, max_samples=0.4055055819672789, min_samples_split=0.08407153884412033, n_estimators=228;, score=0.646 total time=   0.2s\n",
      "[CV 5/10] END ccp_alpha=44315, max_samples=0.4055055819672789, min_samples_split=0.08407153884412033, n_estimators=228;, score=0.613 total time=   0.2s\n",
      "[CV 6/10] END ccp_alpha=44315, max_samples=0.4055055819672789, min_samples_split=0.08407153884412033, n_estimators=228;, score=0.569 total time=   0.2s\n",
      "[CV 7/10] END ccp_alpha=44315, max_samples=0.4055055819672789, min_samples_split=0.08407153884412033, n_estimators=228;, score=0.572 total time=   0.2s\n",
      "[CV 8/10] END ccp_alpha=44315, max_samples=0.4055055819672789, min_samples_split=0.08407153884412033, n_estimators=228;, score=0.758 total time=   0.2s\n",
      "[CV 9/10] END ccp_alpha=44315, max_samples=0.4055055819672789, min_samples_split=0.08407153884412033, n_estimators=228;, score=0.808 total time=   0.2s\n",
      "[CV 10/10] END ccp_alpha=44315, max_samples=0.4055055819672789, min_samples_split=0.08407153884412033, n_estimators=228;, score=0.573 total time=   0.2s\n",
      "[CV 1/10] END ccp_alpha=33561, max_samples=0.3741292889825001, min_samples_split=0.6300861284664239, n_estimators=79;, score=-0.011 total time=   0.0s\n",
      "[CV 2/10] END ccp_alpha=33561, max_samples=0.3741292889825001, min_samples_split=0.6300861284664239, n_estimators=79;, score=-0.000 total time=   0.0s\n",
      "[CV 3/10] END ccp_alpha=33561, max_samples=0.3741292889825001, min_samples_split=0.6300861284664239, n_estimators=79;, score=-0.029 total time=   0.0s\n",
      "[CV 4/10] END ccp_alpha=33561, max_samples=0.3741292889825001, min_samples_split=0.6300861284664239, n_estimators=79;, score=-0.001 total time=   0.0s\n",
      "[CV 5/10] END ccp_alpha=33561, max_samples=0.3741292889825001, min_samples_split=0.6300861284664239, n_estimators=79;, score=-0.020 total time=   0.0s\n",
      "[CV 6/10] END ccp_alpha=33561, max_samples=0.3741292889825001, min_samples_split=0.6300861284664239, n_estimators=79;, score=-0.010 total time=   0.0s\n",
      "[CV 7/10] END ccp_alpha=33561, max_samples=0.3741292889825001, min_samples_split=0.6300861284664239, n_estimators=79;, score=-0.019 total time=   0.0s\n",
      "[CV 8/10] END ccp_alpha=33561, max_samples=0.3741292889825001, min_samples_split=0.6300861284664239, n_estimators=79;, score=-0.017 total time=   0.0s\n",
      "[CV 9/10] END ccp_alpha=33561, max_samples=0.3741292889825001, min_samples_split=0.6300861284664239, n_estimators=79;, score=-0.020 total time=   0.0s\n",
      "[CV 10/10] END ccp_alpha=33561, max_samples=0.3741292889825001, min_samples_split=0.6300861284664239, n_estimators=79;, score=-0.001 total time=   0.0s\n",
      "[CV 1/10] END ccp_alpha=80263, max_samples=0.625851451605264, min_samples_split=0.7924008447655011, n_estimators=257;, score=-0.009 total time=   0.1s\n",
      "[CV 2/10] END ccp_alpha=80263, max_samples=0.625851451605264, min_samples_split=0.7924008447655011, n_estimators=257;, score=-0.001 total time=   0.1s\n",
      "[CV 3/10] END ccp_alpha=80263, max_samples=0.625851451605264, min_samples_split=0.7924008447655011, n_estimators=257;, score=-0.024 total time=   0.1s\n",
      "[CV 4/10] END ccp_alpha=80263, max_samples=0.625851451605264, min_samples_split=0.7924008447655011, n_estimators=257;, score=-0.001 total time=   0.1s\n",
      "[CV 5/10] END ccp_alpha=80263, max_samples=0.625851451605264, min_samples_split=0.7924008447655011, n_estimators=257;, score=-0.017 total time=   0.1s\n",
      "[CV 6/10] END ccp_alpha=80263, max_samples=0.625851451605264, min_samples_split=0.7924008447655011, n_estimators=257;, score=-0.010 total time=   0.1s\n",
      "[CV 7/10] END ccp_alpha=80263, max_samples=0.625851451605264, min_samples_split=0.7924008447655011, n_estimators=257;, score=-0.018 total time=   0.1s\n",
      "[CV 8/10] END ccp_alpha=80263, max_samples=0.625851451605264, min_samples_split=0.7924008447655011, n_estimators=257;, score=-0.018 total time=   0.1s\n",
      "[CV 9/10] END ccp_alpha=80263, max_samples=0.625851451605264, min_samples_split=0.7924008447655011, n_estimators=257;, score=-0.021 total time=   0.1s\n",
      "[CV 10/10] END ccp_alpha=80263, max_samples=0.625851451605264, min_samples_split=0.7924008447655011, n_estimators=257;, score=-0.001 total time=   0.1s\n",
      "[CV 1/10] END ccp_alpha=44504, max_samples=0.5472642342329019, min_samples_split=0.8510243769907446, n_estimators=1333;, score=-0.009 total time=   0.5s\n",
      "[CV 2/10] END ccp_alpha=44504, max_samples=0.5472642342329019, min_samples_split=0.8510243769907446, n_estimators=1333;, score=-0.001 total time=   0.5s\n",
      "[CV 3/10] END ccp_alpha=44504, max_samples=0.5472642342329019, min_samples_split=0.8510243769907446, n_estimators=1333;, score=-0.026 total time=   0.5s\n",
      "[CV 4/10] END ccp_alpha=44504, max_samples=0.5472642342329019, min_samples_split=0.8510243769907446, n_estimators=1333;, score=-0.001 total time=   0.5s\n",
      "[CV 5/10] END ccp_alpha=44504, max_samples=0.5472642342329019, min_samples_split=0.8510243769907446, n_estimators=1333;, score=-0.017 total time=   0.5s\n",
      "[CV 6/10] END ccp_alpha=44504, max_samples=0.5472642342329019, min_samples_split=0.8510243769907446, n_estimators=1333;, score=-0.010 total time=   0.5s\n",
      "[CV 7/10] END ccp_alpha=44504, max_samples=0.5472642342329019, min_samples_split=0.8510243769907446, n_estimators=1333;, score=-0.019 total time=   0.5s\n",
      "[CV 8/10] END ccp_alpha=44504, max_samples=0.5472642342329019, min_samples_split=0.8510243769907446, n_estimators=1333;, score=-0.018 total time=   0.5s\n",
      "[CV 9/10] END ccp_alpha=44504, max_samples=0.5472642342329019, min_samples_split=0.8510243769907446, n_estimators=1333;, score=-0.020 total time=   0.6s\n",
      "[CV 10/10] END ccp_alpha=44504, max_samples=0.5472642342329019, min_samples_split=0.8510243769907446, n_estimators=1333;, score=-0.001 total time=   0.5s\n",
      "[CV 1/10] END ccp_alpha=34586, max_samples=0.19425558323418846, min_samples_split=0.3060386979129426, n_estimators=184;, score=-0.010 total time=   0.1s\n",
      "[CV 2/10] END ccp_alpha=34586, max_samples=0.19425558323418846, min_samples_split=0.3060386979129426, n_estimators=184;, score=-0.001 total time=   0.1s\n",
      "[CV 3/10] END ccp_alpha=34586, max_samples=0.19425558323418846, min_samples_split=0.3060386979129426, n_estimators=184;, score=-0.024 total time=   0.1s\n",
      "[CV 4/10] END ccp_alpha=34586, max_samples=0.19425558323418846, min_samples_split=0.3060386979129426, n_estimators=184;, score=-0.001 total time=   0.1s\n",
      "[CV 5/10] END ccp_alpha=34586, max_samples=0.19425558323418846, min_samples_split=0.3060386979129426, n_estimators=184;, score=-0.017 total time=   0.1s\n",
      "[CV 6/10] END ccp_alpha=34586, max_samples=0.19425558323418846, min_samples_split=0.3060386979129426, n_estimators=184;, score=-0.012 total time=   0.1s\n",
      "[CV 7/10] END ccp_alpha=34586, max_samples=0.19425558323418846, min_samples_split=0.3060386979129426, n_estimators=184;, score=-0.020 total time=   0.1s\n",
      "[CV 8/10] END ccp_alpha=34586, max_samples=0.19425558323418846, min_samples_split=0.3060386979129426, n_estimators=184;, score=-0.016 total time=   0.1s\n",
      "[CV 9/10] END ccp_alpha=34586, max_samples=0.19425558323418846, min_samples_split=0.3060386979129426, n_estimators=184;, score=-0.021 total time=   0.1s\n",
      "[CV 10/10] END ccp_alpha=34586, max_samples=0.19425558323418846, min_samples_split=0.3060386979129426, n_estimators=184;, score=-0.001 total time=   0.1s\n",
      "[CV 1/10] END ccp_alpha=97469, max_samples=0.5375349815268052, min_samples_split=0.06297476827126947, n_estimators=405;, score=0.779 total time=   0.4s\n",
      "[CV 2/10] END ccp_alpha=97469, max_samples=0.5375349815268052, min_samples_split=0.06297476827126947, n_estimators=405;, score=0.801 total time=   0.4s\n",
      "[CV 3/10] END ccp_alpha=97469, max_samples=0.5375349815268052, min_samples_split=0.06297476827126947, n_estimators=405;, score=0.732 total time=   0.4s\n",
      "[CV 4/10] END ccp_alpha=97469, max_samples=0.5375349815268052, min_samples_split=0.06297476827126947, n_estimators=405;, score=0.691 total time=   0.4s\n",
      "[CV 5/10] END ccp_alpha=97469, max_samples=0.5375349815268052, min_samples_split=0.06297476827126947, n_estimators=405;, score=0.660 total time=   0.4s\n",
      "[CV 6/10] END ccp_alpha=97469, max_samples=0.5375349815268052, min_samples_split=0.06297476827126947, n_estimators=405;, score=0.602 total time=   0.4s\n",
      "[CV 7/10] END ccp_alpha=97469, max_samples=0.5375349815268052, min_samples_split=0.06297476827126947, n_estimators=405;, score=0.643 total time=   0.4s\n",
      "[CV 8/10] END ccp_alpha=97469, max_samples=0.5375349815268052, min_samples_split=0.06297476827126947, n_estimators=405;, score=0.802 total time=   0.4s\n",
      "[CV 9/10] END ccp_alpha=97469, max_samples=0.5375349815268052, min_samples_split=0.06297476827126947, n_estimators=405;, score=0.834 total time=   0.4s\n",
      "[CV 10/10] END ccp_alpha=97469, max_samples=0.5375349815268052, min_samples_split=0.06297476827126947, n_estimators=405;, score=0.594 total time=   0.4s\n",
      "[CV 1/10] END ccp_alpha=69804, max_samples=0.9273943353460459, min_samples_split=0.37211827492835836, n_estimators=932;, score=0.559 total time=   0.6s\n",
      "[CV 2/10] END ccp_alpha=69804, max_samples=0.9273943353460459, min_samples_split=0.37211827492835836, n_estimators=932;, score=0.670 total time=   0.7s\n",
      "[CV 3/10] END ccp_alpha=69804, max_samples=0.9273943353460459, min_samples_split=0.37211827492835836, n_estimators=932;, score=0.554 total time=   0.7s\n",
      "[CV 4/10] END ccp_alpha=69804, max_samples=0.9273943353460459, min_samples_split=0.37211827492835836, n_estimators=932;, score=0.505 total time=   0.7s\n",
      "[CV 5/10] END ccp_alpha=69804, max_samples=0.9273943353460459, min_samples_split=0.37211827492835836, n_estimators=932;, score=0.468 total time=   0.7s\n",
      "[CV 6/10] END ccp_alpha=69804, max_samples=0.9273943353460459, min_samples_split=0.37211827492835836, n_estimators=932;, score=0.436 total time=   0.7s\n",
      "[CV 7/10] END ccp_alpha=69804, max_samples=0.9273943353460459, min_samples_split=0.37211827492835836, n_estimators=932;, score=0.393 total time=   0.7s\n",
      "[CV 8/10] END ccp_alpha=69804, max_samples=0.9273943353460459, min_samples_split=0.37211827492835836, n_estimators=932;, score=0.575 total time=   0.6s\n",
      "[CV 9/10] END ccp_alpha=69804, max_samples=0.9273943353460459, min_samples_split=0.37211827492835836, n_estimators=932;, score=0.619 total time=   0.7s\n",
      "[CV 10/10] END ccp_alpha=69804, max_samples=0.9273943353460459, min_samples_split=0.37211827492835836, n_estimators=932;, score=0.466 total time=   0.7s\n",
      "[CV 1/10] END ccp_alpha=19282, max_samples=0.13250050670087965, min_samples_split=0.035351616937735586, n_estimators=454;, score=0.727 total time=   0.2s\n",
      "[CV 2/10] END ccp_alpha=19282, max_samples=0.13250050670087965, min_samples_split=0.035351616937735586, n_estimators=454;, score=0.803 total time=   0.2s\n",
      "[CV 3/10] END ccp_alpha=19282, max_samples=0.13250050670087965, min_samples_split=0.035351616937735586, n_estimators=454;, score=0.694 total time=   0.2s\n",
      "[CV 4/10] END ccp_alpha=19282, max_samples=0.13250050670087965, min_samples_split=0.035351616937735586, n_estimators=454;, score=0.665 total time=   0.2s\n",
      "[CV 5/10] END ccp_alpha=19282, max_samples=0.13250050670087965, min_samples_split=0.035351616937735586, n_estimators=454;, score=0.634 total time=   0.2s\n",
      "[CV 6/10] END ccp_alpha=19282, max_samples=0.13250050670087965, min_samples_split=0.035351616937735586, n_estimators=454;, score=0.605 total time=   0.2s\n",
      "[CV 7/10] END ccp_alpha=19282, max_samples=0.13250050670087965, min_samples_split=0.035351616937735586, n_estimators=454;, score=0.611 total time=   0.2s\n",
      "[CV 8/10] END ccp_alpha=19282, max_samples=0.13250050670087965, min_samples_split=0.035351616937735586, n_estimators=454;, score=0.762 total time=   0.2s\n",
      "[CV 9/10] END ccp_alpha=19282, max_samples=0.13250050670087965, min_samples_split=0.035351616937735586, n_estimators=454;, score=0.792 total time=   0.2s\n",
      "[CV 10/10] END ccp_alpha=19282, max_samples=0.13250050670087965, min_samples_split=0.035351616937735586, n_estimators=454;, score=0.596 total time=   0.2s\n",
      "[CV 1/10] END ccp_alpha=59118, max_samples=0.625851451605264, min_samples_split=0.8740476804144495, n_estimators=265;, score=-0.010 total time=   0.1s\n",
      "[CV 2/10] END ccp_alpha=59118, max_samples=0.625851451605264, min_samples_split=0.8740476804144495, n_estimators=265;, score=-0.001 total time=   0.1s\n",
      "[CV 3/10] END ccp_alpha=59118, max_samples=0.625851451605264, min_samples_split=0.8740476804144495, n_estimators=265;, score=-0.027 total time=   0.1s\n",
      "[CV 4/10] END ccp_alpha=59118, max_samples=0.625851451605264, min_samples_split=0.8740476804144495, n_estimators=265;, score=-0.001 total time=   0.1s\n",
      "[CV 5/10] END ccp_alpha=59118, max_samples=0.625851451605264, min_samples_split=0.8740476804144495, n_estimators=265;, score=-0.018 total time=   0.1s\n",
      "[CV 6/10] END ccp_alpha=59118, max_samples=0.625851451605264, min_samples_split=0.8740476804144495, n_estimators=265;, score=-0.011 total time=   0.1s\n",
      "[CV 7/10] END ccp_alpha=59118, max_samples=0.625851451605264, min_samples_split=0.8740476804144495, n_estimators=265;, score=-0.018 total time=   0.1s\n",
      "[CV 8/10] END ccp_alpha=59118, max_samples=0.625851451605264, min_samples_split=0.8740476804144495, n_estimators=265;, score=-0.018 total time=   0.1s\n",
      "[CV 9/10] END ccp_alpha=59118, max_samples=0.625851451605264, min_samples_split=0.8740476804144495, n_estimators=265;, score=-0.021 total time=   0.1s\n",
      "[CV 10/10] END ccp_alpha=59118, max_samples=0.625851451605264, min_samples_split=0.8740476804144495, n_estimators=265;, score=-0.001 total time=   0.1s\n",
      "[CV 1/10] END ccp_alpha=51634, max_samples=0.5424778606587806, min_samples_split=0.6100031271678468, n_estimators=468;, score=-0.009 total time=   0.2s\n",
      "[CV 2/10] END ccp_alpha=51634, max_samples=0.5424778606587806, min_samples_split=0.6100031271678468, n_estimators=468;, score=-0.001 total time=   0.2s\n",
      "[CV 3/10] END ccp_alpha=51634, max_samples=0.5424778606587806, min_samples_split=0.6100031271678468, n_estimators=468;, score=-0.025 total time=   0.2s\n",
      "[CV 4/10] END ccp_alpha=51634, max_samples=0.5424778606587806, min_samples_split=0.6100031271678468, n_estimators=468;, score=-0.001 total time=   0.2s\n",
      "[CV 5/10] END ccp_alpha=51634, max_samples=0.5424778606587806, min_samples_split=0.6100031271678468, n_estimators=468;, score=-0.018 total time=   0.2s\n",
      "[CV 6/10] END ccp_alpha=51634, max_samples=0.5424778606587806, min_samples_split=0.6100031271678468, n_estimators=468;, score=-0.010 total time=   0.2s\n",
      "[CV 7/10] END ccp_alpha=51634, max_samples=0.5424778606587806, min_samples_split=0.6100031271678468, n_estimators=468;, score=-0.019 total time=   0.2s\n",
      "[CV 8/10] END ccp_alpha=51634, max_samples=0.5424778606587806, min_samples_split=0.6100031271678468, n_estimators=468;, score=-0.016 total time=   0.2s\n",
      "[CV 9/10] END ccp_alpha=51634, max_samples=0.5424778606587806, min_samples_split=0.6100031271678468, n_estimators=468;, score=-0.021 total time=   0.2s\n",
      "[CV 10/10] END ccp_alpha=51634, max_samples=0.5424778606587806, min_samples_split=0.6100031271678468, n_estimators=468;, score=-0.001 total time=   0.2s\n",
      "[CV 1/10] END ccp_alpha=41524, max_samples=0.7247578345536138, min_samples_split=0.26164061947860084, n_estimators=936;, score=0.589 total time=   0.7s\n",
      "[CV 2/10] END ccp_alpha=41524, max_samples=0.7247578345536138, min_samples_split=0.26164061947860084, n_estimators=936;, score=0.689 total time=   0.7s\n",
      "[CV 3/10] END ccp_alpha=41524, max_samples=0.7247578345536138, min_samples_split=0.26164061947860084, n_estimators=936;, score=0.577 total time=   0.7s\n",
      "[CV 4/10] END ccp_alpha=41524, max_samples=0.7247578345536138, min_samples_split=0.26164061947860084, n_estimators=936;, score=0.519 total time=   0.7s\n",
      "[CV 5/10] END ccp_alpha=41524, max_samples=0.7247578345536138, min_samples_split=0.26164061947860084, n_estimators=936;, score=0.489 total time=   0.7s\n",
      "[CV 6/10] END ccp_alpha=41524, max_samples=0.7247578345536138, min_samples_split=0.26164061947860084, n_estimators=936;, score=0.455 total time=   0.7s\n",
      "[CV 7/10] END ccp_alpha=41524, max_samples=0.7247578345536138, min_samples_split=0.26164061947860084, n_estimators=936;, score=0.411 total time=   0.7s\n",
      "[CV 8/10] END ccp_alpha=41524, max_samples=0.7247578345536138, min_samples_split=0.26164061947860084, n_estimators=936;, score=0.604 total time=   0.7s\n",
      "[CV 9/10] END ccp_alpha=41524, max_samples=0.7247578345536138, min_samples_split=0.26164061947860084, n_estimators=936;, score=0.641 total time=   0.7s\n",
      "[CV 10/10] END ccp_alpha=41524, max_samples=0.7247578345536138, min_samples_split=0.26164061947860084, n_estimators=936;, score=0.466 total time=   0.7s\n",
      "[CV 1/10] END ccp_alpha=52338, max_samples=0.9882280677975473, min_samples_split=0.6638701582483262, n_estimators=844;, score=-0.010 total time=   0.3s\n",
      "[CV 2/10] END ccp_alpha=52338, max_samples=0.9882280677975473, min_samples_split=0.6638701582483262, n_estimators=844;, score=-0.001 total time=   0.3s\n",
      "[CV 3/10] END ccp_alpha=52338, max_samples=0.9882280677975473, min_samples_split=0.6638701582483262, n_estimators=844;, score=-0.026 total time=   0.3s\n",
      "[CV 4/10] END ccp_alpha=52338, max_samples=0.9882280677975473, min_samples_split=0.6638701582483262, n_estimators=844;, score=-0.001 total time=   0.3s\n",
      "[CV 5/10] END ccp_alpha=52338, max_samples=0.9882280677975473, min_samples_split=0.6638701582483262, n_estimators=844;, score=-0.017 total time=   0.3s\n",
      "[CV 6/10] END ccp_alpha=52338, max_samples=0.9882280677975473, min_samples_split=0.6638701582483262, n_estimators=844;, score=-0.011 total time=   0.4s\n",
      "[CV 7/10] END ccp_alpha=52338, max_samples=0.9882280677975473, min_samples_split=0.6638701582483262, n_estimators=844;, score=-0.018 total time=   0.3s\n",
      "[CV 8/10] END ccp_alpha=52338, max_samples=0.9882280677975473, min_samples_split=0.6638701582483262, n_estimators=844;, score=-0.017 total time=   0.3s\n",
      "[CV 9/10] END ccp_alpha=52338, max_samples=0.9882280677975473, min_samples_split=0.6638701582483262, n_estimators=844;, score=-0.021 total time=   0.3s\n",
      "[CV 10/10] END ccp_alpha=52338, max_samples=0.9882280677975473, min_samples_split=0.6638701582483262, n_estimators=844;, score=-0.001 total time=   0.3s\n",
      "[CV 1/10] END ccp_alpha=23753, max_samples=0.2133396992078037, min_samples_split=0.9806839294078974, n_estimators=1425;, score=-0.010 total time=   0.6s\n",
      "[CV 2/10] END ccp_alpha=23753, max_samples=0.2133396992078037, min_samples_split=0.9806839294078974, n_estimators=1425;, score=-0.001 total time=   0.6s\n",
      "[CV 3/10] END ccp_alpha=23753, max_samples=0.2133396992078037, min_samples_split=0.9806839294078974, n_estimators=1425;, score=-0.026 total time=   0.6s\n",
      "[CV 4/10] END ccp_alpha=23753, max_samples=0.2133396992078037, min_samples_split=0.9806839294078974, n_estimators=1425;, score=-0.001 total time=   0.6s\n",
      "[CV 5/10] END ccp_alpha=23753, max_samples=0.2133396992078037, min_samples_split=0.9806839294078974, n_estimators=1425;, score=-0.017 total time=   0.6s\n",
      "[CV 6/10] END ccp_alpha=23753, max_samples=0.2133396992078037, min_samples_split=0.9806839294078974, n_estimators=1425;, score=-0.010 total time=   0.6s\n",
      "[CV 7/10] END ccp_alpha=23753, max_samples=0.2133396992078037, min_samples_split=0.9806839294078974, n_estimators=1425;, score=-0.019 total time=   0.6s\n",
      "[CV 8/10] END ccp_alpha=23753, max_samples=0.2133396992078037, min_samples_split=0.9806839294078974, n_estimators=1425;, score=-0.017 total time=   0.6s\n",
      "[CV 9/10] END ccp_alpha=23753, max_samples=0.2133396992078037, min_samples_split=0.9806839294078974, n_estimators=1425;, score=-0.020 total time=   0.6s\n",
      "[CV 10/10] END ccp_alpha=23753, max_samples=0.2133396992078037, min_samples_split=0.9806839294078974, n_estimators=1425;, score=-0.001 total time=   0.6s\n",
      "[CV 1/10] END ccp_alpha=12059, max_samples=0.7031745565558466, min_samples_split=0.3072121418253695, n_estimators=781;, score=0.568 total time=   0.5s\n",
      "[CV 2/10] END ccp_alpha=12059, max_samples=0.7031745565558466, min_samples_split=0.3072121418253695, n_estimators=781;, score=0.677 total time=   0.5s\n",
      "[CV 3/10] END ccp_alpha=12059, max_samples=0.7031745565558466, min_samples_split=0.3072121418253695, n_estimators=781;, score=0.564 total time=   0.5s\n",
      "[CV 4/10] END ccp_alpha=12059, max_samples=0.7031745565558466, min_samples_split=0.3072121418253695, n_estimators=781;, score=0.514 total time=   0.5s\n",
      "[CV 5/10] END ccp_alpha=12059, max_samples=0.7031745565558466, min_samples_split=0.3072121418253695, n_estimators=781;, score=0.477 total time=   0.5s\n",
      "[CV 6/10] END ccp_alpha=12059, max_samples=0.7031745565558466, min_samples_split=0.3072121418253695, n_estimators=781;, score=0.452 total time=   0.5s\n",
      "[CV 7/10] END ccp_alpha=12059, max_samples=0.7031745565558466, min_samples_split=0.3072121418253695, n_estimators=781;, score=0.406 total time=   0.5s\n",
      "[CV 8/10] END ccp_alpha=12059, max_samples=0.7031745565558466, min_samples_split=0.3072121418253695, n_estimators=781;, score=0.585 total time=   0.5s\n",
      "[CV 9/10] END ccp_alpha=12059, max_samples=0.7031745565558466, min_samples_split=0.3072121418253695, n_estimators=781;, score=0.628 total time=   0.5s\n",
      "[CV 10/10] END ccp_alpha=12059, max_samples=0.7031745565558466, min_samples_split=0.3072121418253695, n_estimators=781;, score=0.470 total time=   0.5s\n",
      "[CV 1/10] END ccp_alpha=72370, max_samples=0.514336123770044, min_samples_split=0.10142871805493492, n_estimators=1002;, score=0.735 total time=   0.8s\n",
      "[CV 2/10] END ccp_alpha=72370, max_samples=0.514336123770044, min_samples_split=0.10142871805493492, n_estimators=1002;, score=0.771 total time=   0.8s\n",
      "[CV 3/10] END ccp_alpha=72370, max_samples=0.514336123770044, min_samples_split=0.10142871805493492, n_estimators=1002;, score=0.681 total time=   0.8s\n",
      "[CV 4/10] END ccp_alpha=72370, max_samples=0.514336123770044, min_samples_split=0.10142871805493492, n_estimators=1002;, score=0.636 total time=   0.8s\n",
      "[CV 5/10] END ccp_alpha=72370, max_samples=0.514336123770044, min_samples_split=0.10142871805493492, n_estimators=1002;, score=0.601 total time=   0.8s\n",
      "[CV 6/10] END ccp_alpha=72370, max_samples=0.514336123770044, min_samples_split=0.10142871805493492, n_estimators=1002;, score=0.555 total time=   0.8s\n",
      "[CV 7/10] END ccp_alpha=72370, max_samples=0.514336123770044, min_samples_split=0.10142871805493492, n_estimators=1002;, score=0.557 total time=   0.8s\n",
      "[CV 8/10] END ccp_alpha=72370, max_samples=0.514336123770044, min_samples_split=0.10142871805493492, n_estimators=1002;, score=0.756 total time=   0.8s\n",
      "[CV 9/10] END ccp_alpha=72370, max_samples=0.514336123770044, min_samples_split=0.10142871805493492, n_estimators=1002;, score=0.801 total time=   0.8s\n",
      "[CV 10/10] END ccp_alpha=72370, max_samples=0.514336123770044, min_samples_split=0.10142871805493492, n_estimators=1002;, score=0.572 total time=   0.8s\n"
     ]
    },
    {
     "data": {
      "text/plain": [
       "0.7972636780527714"
      ]
     },
     "execution_count": 60,
     "metadata": {},
     "output_type": "execute_result"
    }
   ],
   "source": [
    "##### Random forest regressor\n",
    "rfr_mdl = RandomForestRegressor(min_samples_split=0.2, \n",
    "                                max_samples=0.75,\n",
    "                                n_estimators=200,\n",
    "                                ccp_alpha=1000)\n",
    "\n",
    "rfr_dist = dict(min_samples_split = uniform().rvs(size=1000),\n",
    "                max_samples = uniform().rvs(size=1000),\n",
    "                n_estimators = randint(high=1500, low=50).rvs(size=300),\n",
    "                ccp_alpha = randint(high=100000, low=1).rvs(size=1000))\n",
    "\n",
    "rscv_rfr = RandomizedSearchCV(rfr_mdl, rfr_dist, random_state=43, n_iter=50, verbose=3, cv=10)\n",
    "search_rfr = rscv_rfr.fit(scaled_X_train_df, y_train)\n",
    "\n",
    "best_params_rfr = search_rfr.best_params_\n",
    "search_rfr.best_score_"
   ]
  },
  {
   "cell_type": "code",
   "execution_count": 61,
   "metadata": {},
   "outputs": [
    {
     "data": {
      "application/vnd.plotly.v1+json": {
       "config": {
        "plotlyServerURL": "https://plot.ly"
       },
       "data": [
        {
         "hovertemplate": "x=%{x}<br>y=%{y}<extra></extra>",
         "legendgroup": "",
         "marker": {
          "color": "#636efa",
          "symbol": "circle"
         },
         "mode": "markers",
         "name": "",
         "orientation": "v",
         "showlegend": false,
         "type": "scatter",
         "x": [
          189950,
          180000,
          136500,
          160000,
          135000,
          240000,
          100000,
          169900,
          119500,
          240000,
          148000,
          305900,
          140000,
          110000,
          179200,
          99500,
          125000,
          61000,
          143000,
          140000,
          402000,
          93000,
          235000,
          248328,
          200624,
          380000,
          119000,
          132000,
          136500,
          112000,
          137500,
          81000,
          123000,
          157500,
          109500,
          179665,
          501837,
          190000,
          230000,
          149000,
          276000,
          170000,
          60000,
          132000,
          193879,
          104900,
          152000,
          194201,
          171000,
          200000,
          110000,
          152000,
          173000,
          485000,
          120000,
          135500,
          133900,
          245500,
          226000,
          181900,
          112000,
          108500,
          167500,
          410000,
          177500,
          199900,
          150900,
          310000,
          55993,
          369900,
          231500,
          156000,
          134800,
          140000,
          119900,
          196000,
          172000,
          244000,
          161750,
          132000,
          130500,
          180500,
          302000,
          202500,
          228000,
          140000,
          125000,
          174900,
          278000,
          165500,
          131500,
          212000,
          215000,
          466500,
          136000,
          130000,
          168000,
          225000,
          345000,
          138000,
          160000,
          52000,
          82500,
          165000,
          178400,
          177000,
          208900,
          119000,
          311872,
          164500,
          229456,
          240000,
          181000,
          242000,
          135000,
          131500,
          146000,
          210000,
          145000,
          179000,
          180000,
          161500,
          157000,
          155000,
          239000,
          126000,
          168000,
          226000,
          157900,
          118000,
          185000,
          383970,
          175000,
          187500,
          187500,
          290000,
          173733,
          315000,
          176000,
          313000,
          129900,
          194000,
          108000,
          234000,
          113000,
          286000,
          244600,
          315000,
          103000,
          68500,
          252000,
          128000,
          87000,
          122500,
          107900,
          236000,
          160000,
          106250,
          212000,
          124500,
          101800,
          175000,
          129500,
          131400,
          128000,
          187000,
          215000,
          100000,
          372500,
          318000,
          394432,
          137000,
          259500,
          142500,
          277500,
          76000,
          253293,
          170000,
          185000,
          227680,
          290000,
          173500,
          140000,
          124000,
          184000,
          145000,
          165000,
          96500,
          246578,
          156000,
          187750,
          465000,
          138500,
          230000,
          93500,
          114500,
          315000,
          232000,
          128950,
          175000,
          129000,
          115000,
          151000,
          174000,
          266000,
          180000,
          190000,
          91500,
          221500,
          424870,
          97500,
          115000,
          120500,
          287000,
          113000,
          158000,
          125000,
          110000,
          173000,
          340000,
          214000,
          115000,
          185850,
          274000,
          126175,
          112000,
          233230,
          204900,
          205000,
          113000,
          216000,
          215000,
          167500,
          207000,
          86000,
          90000,
          80000,
          97000,
          335000,
          375000,
          187500,
          250000,
          108000,
          184750,
          217500,
          206000,
          149900,
          230000,
          275000,
          181000,
          162000,
          175500,
          140000,
          240000,
          266000,
          187100,
          34900,
          126000,
          110000,
          145000,
          150000,
          163500,
          147000,
          336000,
          237500,
          188000,
          222000,
          87500,
          266500,
          75500,
          117000,
          160000,
          127000,
          306000,
          107500,
          132000,
          172400,
          67000,
          235000,
          153575,
          149500,
          239000,
          234000,
          88000,
          270000,
          197900,
          91000,
          196500,
          119200,
          115000,
          129500,
          272000,
          87000,
          348000,
          129500,
          139000,
          143000,
          324000,
          130000,
          625000,
          215200,
          154000,
          385000,
          158500,
          135500,
          392500,
          287000,
          88000,
          210000,
          134500,
          176432,
          193000,
          315750,
          204000,
          215000,
          176000,
          128500,
          262500,
          159434,
          244400,
          196500,
          185000,
          120500,
          84900,
          58500,
          171750,
          181000,
          132500,
          187500,
          205000,
          250000,
          190000,
          109000,
          129900,
          162900,
          191000,
          184900,
          97000,
          263435,
          167000,
          260000,
          173000,
          89500,
          197500,
          213500,
          85000,
          159500,
          151000,
          215000,
          92000,
          118000,
          159000,
          167000,
          275000,
          155000,
          154000,
          86000,
          135000,
          145000,
          204750,
          212900,
          140000,
          200000,
          72500,
          126000
         ],
         "xaxis": "x",
         "y": [
          137970.97498563834,
          172565.47107420402,
          160883.22556734114,
          171683.87840109254,
          186600.99968028272,
          255998.1466799569,
          106921.48874016972,
          148906.94307051555,
          107893.41024975554,
          242023.65059555156,
          143684.45945946715,
          374317.74593771156,
          111512.86825647578,
          132242.15315582257,
          222008.6364753379,
          132278.26083094536,
          127641.39783344607,
          90298.4743423857,
          145280.8647414679,
          143200.31766937647,
          352202.9082976002,
          122695.07097287473,
          255897.12528649165,
          282054.1267753702,
          254196.0223802002,
          420728.9061937358,
          108986.82065426678,
          117051.92068569922,
          132516.6069872729,
          111993.4463715239,
          134997.41187535477,
          127853.29401633122,
          132003.0968719275,
          165451.9294377993,
          107910.14356114743,
          175813.11584577448,
          419361.43147709337,
          227504.6054414604,
          261014.84262456416,
          144859.9031404264,
          358763.8938313398,
          174589.2068286768,
          84585.07979535821,
          132686.24935304292,
          197209.8738383612,
          174144.37060807805,
          147711.756729351,
          199117.57126244393,
          162636.67597619165,
          246017.02830437061,
          117632.35770204876,
          145247.8796230757,
          181451.0620504299,
          490386.27203227277,
          122588.4262531658,
          127390.11306372224,
          124757.9601497941,
          182590.96362792904,
          205143.50308867017,
          164310.4328185943,
          119924.87870797797,
          108734.51328803724,
          148309.80570475684,
          402672.0732854384,
          176823.57091326703,
          209295.4991963188,
          189846.6409651697,
          284221.0518731664,
          103484.78103387747,
          376161.9677856767,
          215451.94248915464,
          135839.4779684683,
          127583.48346520956,
          151222.46764718954,
          122632.56894031895,
          196244.4043289473,
          184076.27405469725,
          217256.92145113973,
          135785.75534206882,
          124966.1630092524,
          119210.88392526384,
          161475.2980077804,
          347815.3516079891,
          189355.3409212869,
          252867.25266932466,
          149317.14865217285,
          134453.3503179197,
          149901.92355688463,
          287853.03981042665,
          149920.6394276209,
          137276.75715391344,
          196087.25149514774,
          209825.64575967297,
          487238.74224403827,
          135623.2009030157,
          162205.9295632927,
          168315.2036016381,
          195834.58277664924,
          268497.60102309485,
          143810.62576760608,
          116590.41744527197,
          90274.11900897947,
          82306.6735471392,
          154308.92787996182,
          143485.12178960675,
          176798.97161601787,
          200184.0860076733,
          114722.91985004648,
          304337.7169487699,
          163865.47689852712,
          209594.702602247,
          250872.4054627749,
          155519.62849369337,
          262549.0978785828,
          95014.59083101377,
          144064.67701640129,
          152732.33148524293,
          153323.28874470264,
          113434.98808771529,
          197066.15340467414,
          184472.87791803168,
          162528.5103951385,
          153450.84891301868,
          121064.5895421149,
          301622.0106710298,
          153983.75880162496,
          191027.01903758873,
          238083.47153075537,
          145386.92122545696,
          103409.65148449058,
          191748.00983668774,
          355659.102333935,
          186755.6099177285,
          158484.96179511212,
          174034.94662649962,
          257164.24107236895,
          163865.47689852712,
          332242.0266355726,
          169862.34493530428,
          287396.4493937912,
          143605.08467261196,
          181168.202056448,
          129501.28446389486,
          206945.45478321915,
          141035.72598234666,
          247714.88918854535,
          249627.242329923,
          371267.9620608592,
          115858.6851758387,
          74997.23319507418,
          281343.2193240803,
          134599.19778329457,
          90044.27074650822,
          155254.43923681646,
          125353.40683339833,
          231188.6530912258,
          169833.4508757173,
          96909.06681712177,
          219508.73469620608,
          131945.92312519404,
          115019.93799994982,
          208739.6276371251,
          118805.93088128301,
          130695.34540913718,
          129071.76131200283,
          182826.1294403069,
          218998.94134883006,
          131436.0130632663,
          393410.49484126974,
          283251.1208831712,
          344237.87893816276,
          158736.42635757264,
          212106.40011409504,
          160275.62662930373,
          226545.97741104345,
          99282.36856342708,
          404643.36426126544,
          145939.36746943588,
          187113.1185222799,
          236933.01096248854,
          298595.5127717595,
          181506.62947719303,
          145069.43703338964,
          118228.1746712213,
          158285.43236791287,
          158481.95012298564,
          143086.85773213973,
          98244.64042267628,
          220015.56926201758,
          141182.77108166984,
          199603.651350335,
          384094.90694914607,
          137477.78754197355,
          206916.91078512513,
          100779.96972717464,
          122865.61673345964,
          225573.74551643725,
          237188.79932671328,
          112756.26718785863,
          178198.40907894116,
          116965.37785756463,
          105930.73043000528,
          152178.28604006153,
          176011.1932735862,
          277060.79474598146,
          187825.56642593854,
          225338.3473670353,
          138333.0899665237,
          266496.5800929061,
          414369.48574061523,
          142103.50589219894,
          153098.52051581032,
          124783.86817967884,
          279045.0671161513,
          150730.15134155817,
          117782.83660664422,
          124883.01231398055,
          130287.52639851805,
          187786.75888027195,
          311360.98330198845,
          242469.52119348512,
          141137.3607792112,
          197468.40633729537,
          230240.21879184543,
          147302.80329872866,
          110065.08750686732,
          263453.4967677222,
          247546.57062739803,
          251200.111334913,
          114092.18957004028,
          206406.36833797235,
          219690.1010061684,
          162956.01902881218,
          193781.57378342212,
          83990.73751347825,
          159751.71480290376,
          97523.76407849655,
          122616.91553736769,
          272300.5431599337,
          211513.76853983296,
          230175.7139227414,
          247129.0545493868,
          155443.97356064597,
          570067.6614646805,
          192842.53712708227,
          184237.74175944747,
          165323.3644775446,
          230798.95357205535,
          236572.55361468438,
          184252.77458670433,
          140154.312430785,
          149345.46831751268,
          168216.98101256305,
          262336.3736778755,
          242813.73455766193,
          199524.51721457415,
          82976.97386719825,
          138549.249591965,
          113464.59668417416,
          145294.01765045116,
          161498.60974219756,
          165237.65116978862,
          140879.32980829518,
          300642.5348761251,
          209431.3042052208,
          189500.3380425789,
          204794.22302088825,
          98924.25406855733,
          223936.2244470774,
          87480.34660689493,
          122975.01408510738,
          149329.92981205645,
          124470.22961674977,
          318253.86316419643,
          168039.62168058366,
          128523.19462020345,
          185068.1302254661,
          95770.45521953909,
          225027.9747327713,
          136899.1717307354,
          167062.5319717144,
          239488.56542415798,
          198969.0793222225,
          91231.22844684708,
          278567.2173518643,
          167770.37929361322,
          96823.42669803425,
          185950.84369216877,
          127522.04674766166,
          123577.86735625268,
          130296.13505319504,
          258716.96780511065,
          175986.04086737375,
          320810.8243066527,
          133030.42838244783,
          146334.7639377869,
          144288.5547142606,
          250107.76226961552,
          118927.59068901958,
          463274.8339878133,
          197244.60656765566,
          145587.8093300985,
          243880.74264149045,
          140580.58073610175,
          127504.0540600657,
          258352.25709395923,
          298551.2622232253,
          90989.8030951582,
          214327.47366311942,
          128004.52287722804,
          189230.21894731573,
          226492.64515158342,
          315063.030885303,
          221770.8615850448,
          222404.40167569392,
          174545.1976582703,
          131023.86372369947,
          252423.68599513522,
          152678.52515170892,
          188208.0925762933,
          202701.6633485043,
          173140.60651094565,
          120600.75300157977,
          107262.80317084178,
          102503.49987621646,
          194571.49539880868,
          191742.93725234733,
          126305.73354841574,
          185189.01388324678,
          177784.5532894961,
          220585.35013917097,
          213574.61754996356,
          135371.61680333005,
          157327.91622943492,
          156461.152099647,
          196976.2457252506,
          174963.40309185305,
          97110.28968504722,
          235491.4433737053,
          191522.18125329117,
          267862.2502933874,
          172205.11482718174,
          90495.62897469389,
          177441.04133093514,
          194905.2321223976,
          88316.20231199375,
          251047.61964567812,
          141837.39587000685,
          182430.7234006822,
          86251.82524477453,
          145125.77060859097,
          148521.29335330293,
          148746.08196441957,
          224487.89422628458,
          174038.10424683706,
          159014.05751397973,
          107736.04423471911,
          114882.35617367539,
          198721.55539883138,
          231221.29993104126,
          252465.046419168,
          146693.19761255058,
          191161.1414065046,
          89256.74615986084,
          108703.89100403721
         ],
         "yaxis": "y"
        }
       ],
       "layout": {
        "legend": {
         "tracegroupgap": 0
        },
        "margin": {
         "t": 60
        },
        "template": {
         "data": {
          "bar": [
           {
            "error_x": {
             "color": "#2a3f5f"
            },
            "error_y": {
             "color": "#2a3f5f"
            },
            "marker": {
             "line": {
              "color": "#E5ECF6",
              "width": 0.5
             },
             "pattern": {
              "fillmode": "overlay",
              "size": 10,
              "solidity": 0.2
             }
            },
            "type": "bar"
           }
          ],
          "barpolar": [
           {
            "marker": {
             "line": {
              "color": "#E5ECF6",
              "width": 0.5
             },
             "pattern": {
              "fillmode": "overlay",
              "size": 10,
              "solidity": 0.2
             }
            },
            "type": "barpolar"
           }
          ],
          "carpet": [
           {
            "aaxis": {
             "endlinecolor": "#2a3f5f",
             "gridcolor": "white",
             "linecolor": "white",
             "minorgridcolor": "white",
             "startlinecolor": "#2a3f5f"
            },
            "baxis": {
             "endlinecolor": "#2a3f5f",
             "gridcolor": "white",
             "linecolor": "white",
             "minorgridcolor": "white",
             "startlinecolor": "#2a3f5f"
            },
            "type": "carpet"
           }
          ],
          "choropleth": [
           {
            "colorbar": {
             "outlinewidth": 0,
             "ticks": ""
            },
            "type": "choropleth"
           }
          ],
          "contour": [
           {
            "colorbar": {
             "outlinewidth": 0,
             "ticks": ""
            },
            "colorscale": [
             [
              0,
              "#0d0887"
             ],
             [
              0.1111111111111111,
              "#46039f"
             ],
             [
              0.2222222222222222,
              "#7201a8"
             ],
             [
              0.3333333333333333,
              "#9c179e"
             ],
             [
              0.4444444444444444,
              "#bd3786"
             ],
             [
              0.5555555555555556,
              "#d8576b"
             ],
             [
              0.6666666666666666,
              "#ed7953"
             ],
             [
              0.7777777777777778,
              "#fb9f3a"
             ],
             [
              0.8888888888888888,
              "#fdca26"
             ],
             [
              1,
              "#f0f921"
             ]
            ],
            "type": "contour"
           }
          ],
          "contourcarpet": [
           {
            "colorbar": {
             "outlinewidth": 0,
             "ticks": ""
            },
            "type": "contourcarpet"
           }
          ],
          "heatmap": [
           {
            "colorbar": {
             "outlinewidth": 0,
             "ticks": ""
            },
            "colorscale": [
             [
              0,
              "#0d0887"
             ],
             [
              0.1111111111111111,
              "#46039f"
             ],
             [
              0.2222222222222222,
              "#7201a8"
             ],
             [
              0.3333333333333333,
              "#9c179e"
             ],
             [
              0.4444444444444444,
              "#bd3786"
             ],
             [
              0.5555555555555556,
              "#d8576b"
             ],
             [
              0.6666666666666666,
              "#ed7953"
             ],
             [
              0.7777777777777778,
              "#fb9f3a"
             ],
             [
              0.8888888888888888,
              "#fdca26"
             ],
             [
              1,
              "#f0f921"
             ]
            ],
            "type": "heatmap"
           }
          ],
          "heatmapgl": [
           {
            "colorbar": {
             "outlinewidth": 0,
             "ticks": ""
            },
            "colorscale": [
             [
              0,
              "#0d0887"
             ],
             [
              0.1111111111111111,
              "#46039f"
             ],
             [
              0.2222222222222222,
              "#7201a8"
             ],
             [
              0.3333333333333333,
              "#9c179e"
             ],
             [
              0.4444444444444444,
              "#bd3786"
             ],
             [
              0.5555555555555556,
              "#d8576b"
             ],
             [
              0.6666666666666666,
              "#ed7953"
             ],
             [
              0.7777777777777778,
              "#fb9f3a"
             ],
             [
              0.8888888888888888,
              "#fdca26"
             ],
             [
              1,
              "#f0f921"
             ]
            ],
            "type": "heatmapgl"
           }
          ],
          "histogram": [
           {
            "marker": {
             "pattern": {
              "fillmode": "overlay",
              "size": 10,
              "solidity": 0.2
             }
            },
            "type": "histogram"
           }
          ],
          "histogram2d": [
           {
            "colorbar": {
             "outlinewidth": 0,
             "ticks": ""
            },
            "colorscale": [
             [
              0,
              "#0d0887"
             ],
             [
              0.1111111111111111,
              "#46039f"
             ],
             [
              0.2222222222222222,
              "#7201a8"
             ],
             [
              0.3333333333333333,
              "#9c179e"
             ],
             [
              0.4444444444444444,
              "#bd3786"
             ],
             [
              0.5555555555555556,
              "#d8576b"
             ],
             [
              0.6666666666666666,
              "#ed7953"
             ],
             [
              0.7777777777777778,
              "#fb9f3a"
             ],
             [
              0.8888888888888888,
              "#fdca26"
             ],
             [
              1,
              "#f0f921"
             ]
            ],
            "type": "histogram2d"
           }
          ],
          "histogram2dcontour": [
           {
            "colorbar": {
             "outlinewidth": 0,
             "ticks": ""
            },
            "colorscale": [
             [
              0,
              "#0d0887"
             ],
             [
              0.1111111111111111,
              "#46039f"
             ],
             [
              0.2222222222222222,
              "#7201a8"
             ],
             [
              0.3333333333333333,
              "#9c179e"
             ],
             [
              0.4444444444444444,
              "#bd3786"
             ],
             [
              0.5555555555555556,
              "#d8576b"
             ],
             [
              0.6666666666666666,
              "#ed7953"
             ],
             [
              0.7777777777777778,
              "#fb9f3a"
             ],
             [
              0.8888888888888888,
              "#fdca26"
             ],
             [
              1,
              "#f0f921"
             ]
            ],
            "type": "histogram2dcontour"
           }
          ],
          "mesh3d": [
           {
            "colorbar": {
             "outlinewidth": 0,
             "ticks": ""
            },
            "type": "mesh3d"
           }
          ],
          "parcoords": [
           {
            "line": {
             "colorbar": {
              "outlinewidth": 0,
              "ticks": ""
             }
            },
            "type": "parcoords"
           }
          ],
          "pie": [
           {
            "automargin": true,
            "type": "pie"
           }
          ],
          "scatter": [
           {
            "fillpattern": {
             "fillmode": "overlay",
             "size": 10,
             "solidity": 0.2
            },
            "type": "scatter"
           }
          ],
          "scatter3d": [
           {
            "line": {
             "colorbar": {
              "outlinewidth": 0,
              "ticks": ""
             }
            },
            "marker": {
             "colorbar": {
              "outlinewidth": 0,
              "ticks": ""
             }
            },
            "type": "scatter3d"
           }
          ],
          "scattercarpet": [
           {
            "marker": {
             "colorbar": {
              "outlinewidth": 0,
              "ticks": ""
             }
            },
            "type": "scattercarpet"
           }
          ],
          "scattergeo": [
           {
            "marker": {
             "colorbar": {
              "outlinewidth": 0,
              "ticks": ""
             }
            },
            "type": "scattergeo"
           }
          ],
          "scattergl": [
           {
            "marker": {
             "colorbar": {
              "outlinewidth": 0,
              "ticks": ""
             }
            },
            "type": "scattergl"
           }
          ],
          "scattermapbox": [
           {
            "marker": {
             "colorbar": {
              "outlinewidth": 0,
              "ticks": ""
             }
            },
            "type": "scattermapbox"
           }
          ],
          "scatterpolar": [
           {
            "marker": {
             "colorbar": {
              "outlinewidth": 0,
              "ticks": ""
             }
            },
            "type": "scatterpolar"
           }
          ],
          "scatterpolargl": [
           {
            "marker": {
             "colorbar": {
              "outlinewidth": 0,
              "ticks": ""
             }
            },
            "type": "scatterpolargl"
           }
          ],
          "scatterternary": [
           {
            "marker": {
             "colorbar": {
              "outlinewidth": 0,
              "ticks": ""
             }
            },
            "type": "scatterternary"
           }
          ],
          "surface": [
           {
            "colorbar": {
             "outlinewidth": 0,
             "ticks": ""
            },
            "colorscale": [
             [
              0,
              "#0d0887"
             ],
             [
              0.1111111111111111,
              "#46039f"
             ],
             [
              0.2222222222222222,
              "#7201a8"
             ],
             [
              0.3333333333333333,
              "#9c179e"
             ],
             [
              0.4444444444444444,
              "#bd3786"
             ],
             [
              0.5555555555555556,
              "#d8576b"
             ],
             [
              0.6666666666666666,
              "#ed7953"
             ],
             [
              0.7777777777777778,
              "#fb9f3a"
             ],
             [
              0.8888888888888888,
              "#fdca26"
             ],
             [
              1,
              "#f0f921"
             ]
            ],
            "type": "surface"
           }
          ],
          "table": [
           {
            "cells": {
             "fill": {
              "color": "#EBF0F8"
             },
             "line": {
              "color": "white"
             }
            },
            "header": {
             "fill": {
              "color": "#C8D4E3"
             },
             "line": {
              "color": "white"
             }
            },
            "type": "table"
           }
          ]
         },
         "layout": {
          "annotationdefaults": {
           "arrowcolor": "#2a3f5f",
           "arrowhead": 0,
           "arrowwidth": 1
          },
          "autotypenumbers": "strict",
          "coloraxis": {
           "colorbar": {
            "outlinewidth": 0,
            "ticks": ""
           }
          },
          "colorscale": {
           "diverging": [
            [
             0,
             "#8e0152"
            ],
            [
             0.1,
             "#c51b7d"
            ],
            [
             0.2,
             "#de77ae"
            ],
            [
             0.3,
             "#f1b6da"
            ],
            [
             0.4,
             "#fde0ef"
            ],
            [
             0.5,
             "#f7f7f7"
            ],
            [
             0.6,
             "#e6f5d0"
            ],
            [
             0.7,
             "#b8e186"
            ],
            [
             0.8,
             "#7fbc41"
            ],
            [
             0.9,
             "#4d9221"
            ],
            [
             1,
             "#276419"
            ]
           ],
           "sequential": [
            [
             0,
             "#0d0887"
            ],
            [
             0.1111111111111111,
             "#46039f"
            ],
            [
             0.2222222222222222,
             "#7201a8"
            ],
            [
             0.3333333333333333,
             "#9c179e"
            ],
            [
             0.4444444444444444,
             "#bd3786"
            ],
            [
             0.5555555555555556,
             "#d8576b"
            ],
            [
             0.6666666666666666,
             "#ed7953"
            ],
            [
             0.7777777777777778,
             "#fb9f3a"
            ],
            [
             0.8888888888888888,
             "#fdca26"
            ],
            [
             1,
             "#f0f921"
            ]
           ],
           "sequentialminus": [
            [
             0,
             "#0d0887"
            ],
            [
             0.1111111111111111,
             "#46039f"
            ],
            [
             0.2222222222222222,
             "#7201a8"
            ],
            [
             0.3333333333333333,
             "#9c179e"
            ],
            [
             0.4444444444444444,
             "#bd3786"
            ],
            [
             0.5555555555555556,
             "#d8576b"
            ],
            [
             0.6666666666666666,
             "#ed7953"
            ],
            [
             0.7777777777777778,
             "#fb9f3a"
            ],
            [
             0.8888888888888888,
             "#fdca26"
            ],
            [
             1,
             "#f0f921"
            ]
           ]
          },
          "colorway": [
           "#636efa",
           "#EF553B",
           "#00cc96",
           "#ab63fa",
           "#FFA15A",
           "#19d3f3",
           "#FF6692",
           "#B6E880",
           "#FF97FF",
           "#FECB52"
          ],
          "font": {
           "color": "#2a3f5f"
          },
          "geo": {
           "bgcolor": "white",
           "lakecolor": "white",
           "landcolor": "#E5ECF6",
           "showlakes": true,
           "showland": true,
           "subunitcolor": "white"
          },
          "hoverlabel": {
           "align": "left"
          },
          "hovermode": "closest",
          "mapbox": {
           "style": "light"
          },
          "paper_bgcolor": "white",
          "plot_bgcolor": "#E5ECF6",
          "polar": {
           "angularaxis": {
            "gridcolor": "white",
            "linecolor": "white",
            "ticks": ""
           },
           "bgcolor": "#E5ECF6",
           "radialaxis": {
            "gridcolor": "white",
            "linecolor": "white",
            "ticks": ""
           }
          },
          "scene": {
           "xaxis": {
            "backgroundcolor": "#E5ECF6",
            "gridcolor": "white",
            "gridwidth": 2,
            "linecolor": "white",
            "showbackground": true,
            "ticks": "",
            "zerolinecolor": "white"
           },
           "yaxis": {
            "backgroundcolor": "#E5ECF6",
            "gridcolor": "white",
            "gridwidth": 2,
            "linecolor": "white",
            "showbackground": true,
            "ticks": "",
            "zerolinecolor": "white"
           },
           "zaxis": {
            "backgroundcolor": "#E5ECF6",
            "gridcolor": "white",
            "gridwidth": 2,
            "linecolor": "white",
            "showbackground": true,
            "ticks": "",
            "zerolinecolor": "white"
           }
          },
          "shapedefaults": {
           "line": {
            "color": "#2a3f5f"
           }
          },
          "ternary": {
           "aaxis": {
            "gridcolor": "white",
            "linecolor": "white",
            "ticks": ""
           },
           "baxis": {
            "gridcolor": "white",
            "linecolor": "white",
            "ticks": ""
           },
           "bgcolor": "#E5ECF6",
           "caxis": {
            "gridcolor": "white",
            "linecolor": "white",
            "ticks": ""
           }
          },
          "title": {
           "x": 0.05
          },
          "xaxis": {
           "automargin": true,
           "gridcolor": "white",
           "linecolor": "white",
           "ticks": "",
           "title": {
            "standoff": 15
           },
           "zerolinecolor": "white",
           "zerolinewidth": 2
          },
          "yaxis": {
           "automargin": true,
           "gridcolor": "white",
           "linecolor": "white",
           "ticks": "",
           "title": {
            "standoff": 15
           },
           "zerolinecolor": "white",
           "zerolinewidth": 2
          }
         }
        },
        "title": {
         "text": "Predicted Sale Price vs. Actual Sale Price"
        },
        "xaxis": {
         "anchor": "y",
         "domain": [
          0,
          1
         ],
         "title": {
          "text": "Actual Sale Price"
         }
        },
        "yaxis": {
         "anchor": "x",
         "domain": [
          0,
          1
         ],
         "title": {
          "text": "Predicted Sale Price"
         }
        }
       }
      }
     },
     "metadata": {},
     "output_type": "display_data"
    },
    {
     "name": "stdout",
     "output_type": "stream",
     "text": [
      "Test set score: 0.7865814591179272\n"
     ]
    }
   ],
   "source": [
    "\n",
    "final_rfr_mdl = RandomForestRegressor(min_samples_split=best_params_rfr[\"min_samples_split\"], \n",
    "                                      max_samples=best_params_rfr[\"max_samples\"],\n",
    "                                      n_estimators=best_params_rfr[\"n_estimators\"],\n",
    "                                      ccp_alpha=best_params_rfr[\"ccp_alpha\"])\n",
    "final_rfr_mdl.fit(X_train, y_train)\n",
    "\n",
    "fig_5a = px.scatter(x=y_test, y=final_rfr_mdl.predict(X_test))\n",
    "\n",
    "fig_5a.update_xaxes(title_text=\"Actual Sale Price\")\n",
    "fig_5a.update_yaxes(title_text=\"Predicted Sale Price\")\n",
    "fig_5a.update_layout(title_text=\"Predicted Sale Price vs. Actual Sale Price\")\n",
    "fig_5a.show()\n",
    "\n",
    "print(f\"Test set score: {final_rfr_mdl.score(X_test, y_test)}\")"
   ]
  },
  {
   "cell_type": "code",
   "execution_count": 71,
   "metadata": {},
   "outputs": [
    {
     "name": "stdout",
     "output_type": "stream",
     "text": [
      "Fitting 10 folds for each of 30 candidates, totalling 300 fits\n",
      "[CV 1/10] END ccp_alpha=45881, learning_rate=0.919051711075536, max_depth=44, min_samples_split=0.8139534465075475, n_estimators=316;, score=0.852 total time=   0.3s\n",
      "[CV 2/10] END ccp_alpha=45881, learning_rate=0.919051711075536, max_depth=44, min_samples_split=0.8139534465075475, n_estimators=316;, score=0.812 total time=   0.3s\n",
      "[CV 3/10] END ccp_alpha=45881, learning_rate=0.919051711075536, max_depth=44, min_samples_split=0.8139534465075475, n_estimators=316;, score=0.773 total time=   0.3s\n",
      "[CV 4/10] END ccp_alpha=45881, learning_rate=0.919051711075536, max_depth=44, min_samples_split=0.8139534465075475, n_estimators=316;, score=0.707 total time=   0.3s\n",
      "[CV 5/10] END ccp_alpha=45881, learning_rate=0.919051711075536, max_depth=44, min_samples_split=0.8139534465075475, n_estimators=316;, score=0.848 total time=   0.3s\n",
      "[CV 6/10] END ccp_alpha=45881, learning_rate=0.919051711075536, max_depth=44, min_samples_split=0.8139534465075475, n_estimators=316;, score=0.440 total time=   0.3s\n",
      "[CV 7/10] END ccp_alpha=45881, learning_rate=0.919051711075536, max_depth=44, min_samples_split=0.8139534465075475, n_estimators=316;, score=0.852 total time=   0.3s\n",
      "[CV 8/10] END ccp_alpha=45881, learning_rate=0.919051711075536, max_depth=44, min_samples_split=0.8139534465075475, n_estimators=316;, score=0.773 total time=   0.3s\n",
      "[CV 9/10] END ccp_alpha=45881, learning_rate=0.919051711075536, max_depth=44, min_samples_split=0.8139534465075475, n_estimators=316;, score=0.769 total time=   0.3s\n",
      "[CV 10/10] END ccp_alpha=45881, learning_rate=0.919051711075536, max_depth=44, min_samples_split=0.8139534465075475, n_estimators=316;, score=0.157 total time=   0.3s\n",
      "[CV 1/10] END ccp_alpha=47974, learning_rate=0.04031718391692929, max_depth=952, min_samples_split=0.8053209288771187, n_estimators=1419;, score=0.862 total time=   1.4s\n",
      "[CV 2/10] END ccp_alpha=47974, learning_rate=0.04031718391692929, max_depth=952, min_samples_split=0.8053209288771187, n_estimators=1419;, score=0.858 total time=   1.4s\n",
      "[CV 3/10] END ccp_alpha=47974, learning_rate=0.04031718391692929, max_depth=952, min_samples_split=0.8053209288771187, n_estimators=1419;, score=0.815 total time=   1.4s\n",
      "[CV 4/10] END ccp_alpha=47974, learning_rate=0.04031718391692929, max_depth=952, min_samples_split=0.8053209288771187, n_estimators=1419;, score=0.773 total time=   1.3s\n",
      "[CV 5/10] END ccp_alpha=47974, learning_rate=0.04031718391692929, max_depth=952, min_samples_split=0.8053209288771187, n_estimators=1419;, score=0.873 total time=   1.3s\n",
      "[CV 6/10] END ccp_alpha=47974, learning_rate=0.04031718391692929, max_depth=952, min_samples_split=0.8053209288771187, n_estimators=1419;, score=0.647 total time=   1.4s\n",
      "[CV 7/10] END ccp_alpha=47974, learning_rate=0.04031718391692929, max_depth=952, min_samples_split=0.8053209288771187, n_estimators=1419;, score=0.878 total time=   1.3s\n",
      "[CV 8/10] END ccp_alpha=47974, learning_rate=0.04031718391692929, max_depth=952, min_samples_split=0.8053209288771187, n_estimators=1419;, score=0.804 total time=   1.4s\n",
      "[CV 9/10] END ccp_alpha=47974, learning_rate=0.04031718391692929, max_depth=952, min_samples_split=0.8053209288771187, n_estimators=1419;, score=0.747 total time=   1.2s\n",
      "[CV 10/10] END ccp_alpha=47974, learning_rate=0.04031718391692929, max_depth=952, min_samples_split=0.8053209288771187, n_estimators=1419;, score=0.226 total time=   1.3s\n",
      "[CV 1/10] END ccp_alpha=28206, learning_rate=0.46621320823484746, max_depth=155, min_samples_split=0.9181099056010322, n_estimators=394;, score=0.859 total time=   0.3s\n",
      "[CV 2/10] END ccp_alpha=28206, learning_rate=0.46621320823484746, max_depth=155, min_samples_split=0.9181099056010322, n_estimators=394;, score=0.851 total time=   0.2s\n",
      "[CV 3/10] END ccp_alpha=28206, learning_rate=0.46621320823484746, max_depth=155, min_samples_split=0.9181099056010322, n_estimators=394;, score=0.804 total time=   0.3s\n",
      "[CV 4/10] END ccp_alpha=28206, learning_rate=0.46621320823484746, max_depth=155, min_samples_split=0.9181099056010322, n_estimators=394;, score=0.724 total time=   0.3s\n",
      "[CV 5/10] END ccp_alpha=28206, learning_rate=0.46621320823484746, max_depth=155, min_samples_split=0.9181099056010322, n_estimators=394;, score=0.871 total time=   0.2s\n",
      "[CV 6/10] END ccp_alpha=28206, learning_rate=0.46621320823484746, max_depth=155, min_samples_split=0.9181099056010322, n_estimators=394;, score=0.554 total time=   0.2s\n",
      "[CV 7/10] END ccp_alpha=28206, learning_rate=0.46621320823484746, max_depth=155, min_samples_split=0.9181099056010322, n_estimators=394;, score=0.848 total time=   0.2s\n",
      "[CV 8/10] END ccp_alpha=28206, learning_rate=0.46621320823484746, max_depth=155, min_samples_split=0.9181099056010322, n_estimators=394;, score=0.765 total time=   0.2s\n",
      "[CV 9/10] END ccp_alpha=28206, learning_rate=0.46621320823484746, max_depth=155, min_samples_split=0.9181099056010322, n_estimators=394;, score=0.743 total time=   0.3s\n",
      "[CV 10/10] END ccp_alpha=28206, learning_rate=0.46621320823484746, max_depth=155, min_samples_split=0.9181099056010322, n_estimators=394;, score=0.163 total time=   0.3s\n",
      "[CV 1/10] END ccp_alpha=40467, learning_rate=0.5540002045549292, max_depth=1480, min_samples_split=0.6535619242022677, n_estimators=1208;, score=0.872 total time=   0.7s\n",
      "[CV 2/10] END ccp_alpha=40467, learning_rate=0.5540002045549292, max_depth=1480, min_samples_split=0.6535619242022677, n_estimators=1208;, score=0.844 total time=   0.8s\n",
      "[CV 3/10] END ccp_alpha=40467, learning_rate=0.5540002045549292, max_depth=1480, min_samples_split=0.6535619242022677, n_estimators=1208;, score=0.799 total time=   0.7s\n",
      "[CV 4/10] END ccp_alpha=40467, learning_rate=0.5540002045549292, max_depth=1480, min_samples_split=0.6535619242022677, n_estimators=1208;, score=0.728 total time=   0.7s\n",
      "[CV 5/10] END ccp_alpha=40467, learning_rate=0.5540002045549292, max_depth=1480, min_samples_split=0.6535619242022677, n_estimators=1208;, score=0.865 total time=   0.7s\n",
      "[CV 6/10] END ccp_alpha=40467, learning_rate=0.5540002045549292, max_depth=1480, min_samples_split=0.6535619242022677, n_estimators=1208;, score=0.699 total time=   0.7s\n",
      "[CV 7/10] END ccp_alpha=40467, learning_rate=0.5540002045549292, max_depth=1480, min_samples_split=0.6535619242022677, n_estimators=1208;, score=0.888 total time=   0.7s\n",
      "[CV 8/10] END ccp_alpha=40467, learning_rate=0.5540002045549292, max_depth=1480, min_samples_split=0.6535619242022677, n_estimators=1208;, score=0.830 total time=   0.8s\n",
      "[CV 9/10] END ccp_alpha=40467, learning_rate=0.5540002045549292, max_depth=1480, min_samples_split=0.6535619242022677, n_estimators=1208;, score=0.709 total time=   0.8s\n",
      "[CV 10/10] END ccp_alpha=40467, learning_rate=0.5540002045549292, max_depth=1480, min_samples_split=0.6535619242022677, n_estimators=1208;, score=0.225 total time=   1.7s\n",
      "[CV 1/10] END ccp_alpha=80579, learning_rate=0.5328445309182992, max_depth=436, min_samples_split=0.25976009617054563, n_estimators=1372;, score=0.844 total time=   4.5s\n",
      "[CV 2/10] END ccp_alpha=80579, learning_rate=0.5328445309182992, max_depth=436, min_samples_split=0.25976009617054563, n_estimators=1372;, score=0.823 total time=  11.4s\n",
      "[CV 3/10] END ccp_alpha=80579, learning_rate=0.5328445309182992, max_depth=436, min_samples_split=0.25976009617054563, n_estimators=1372;, score=0.830 total time=   6.1s\n",
      "[CV 4/10] END ccp_alpha=80579, learning_rate=0.5328445309182992, max_depth=436, min_samples_split=0.25976009617054563, n_estimators=1372;, score=0.724 total time=   6.2s\n",
      "[CV 5/10] END ccp_alpha=80579, learning_rate=0.5328445309182992, max_depth=436, min_samples_split=0.25976009617054563, n_estimators=1372;, score=0.851 total time=   6.5s\n",
      "[CV 6/10] END ccp_alpha=80579, learning_rate=0.5328445309182992, max_depth=436, min_samples_split=0.25976009617054563, n_estimators=1372;, score=0.540 total time=   5.2s\n",
      "[CV 7/10] END ccp_alpha=80579, learning_rate=0.5328445309182992, max_depth=436, min_samples_split=0.25976009617054563, n_estimators=1372;, score=0.882 total time=   6.3s\n",
      "[CV 8/10] END ccp_alpha=80579, learning_rate=0.5328445309182992, max_depth=436, min_samples_split=0.25976009617054563, n_estimators=1372;, score=0.837 total time=   8.3s\n",
      "[CV 9/10] END ccp_alpha=80579, learning_rate=0.5328445309182992, max_depth=436, min_samples_split=0.25976009617054563, n_estimators=1372;, score=0.715 total time=  11.0s\n",
      "[CV 10/10] END ccp_alpha=80579, learning_rate=0.5328445309182992, max_depth=436, min_samples_split=0.25976009617054563, n_estimators=1372;, score=0.116 total time=  13.9s\n",
      "[CV 1/10] END ccp_alpha=35050, learning_rate=0.9431834972476588, max_depth=414, min_samples_split=0.010000597881236195, n_estimators=920;, score=0.794 total time=   5.5s\n",
      "[CV 2/10] END ccp_alpha=35050, learning_rate=0.9431834972476588, max_depth=414, min_samples_split=0.010000597881236195, n_estimators=920;, score=0.738 total time=   5.8s\n",
      "[CV 3/10] END ccp_alpha=35050, learning_rate=0.9431834972476588, max_depth=414, min_samples_split=0.010000597881236195, n_estimators=920;, score=0.645 total time=   3.7s\n",
      "[CV 4/10] END ccp_alpha=35050, learning_rate=0.9431834972476588, max_depth=414, min_samples_split=0.010000597881236195, n_estimators=920;, score=0.633 total time=   7.1s\n",
      "[CV 5/10] END ccp_alpha=35050, learning_rate=0.9431834972476588, max_depth=414, min_samples_split=0.010000597881236195, n_estimators=920;, score=0.696 total time=   4.6s\n",
      "[CV 6/10] END ccp_alpha=35050, learning_rate=0.9431834972476588, max_depth=414, min_samples_split=0.010000597881236195, n_estimators=920;, score=0.569 total time=   4.5s\n",
      "[CV 7/10] END ccp_alpha=35050, learning_rate=0.9431834972476588, max_depth=414, min_samples_split=0.010000597881236195, n_estimators=920;, score=0.715 total time=   7.0s\n",
      "[CV 8/10] END ccp_alpha=35050, learning_rate=0.9431834972476588, max_depth=414, min_samples_split=0.010000597881236195, n_estimators=920;, score=0.772 total time=   4.5s\n",
      "[CV 9/10] END ccp_alpha=35050, learning_rate=0.9431834972476588, max_depth=414, min_samples_split=0.010000597881236195, n_estimators=920;, score=0.520 total time=   4.4s\n",
      "[CV 10/10] END ccp_alpha=35050, learning_rate=0.9431834972476588, max_depth=414, min_samples_split=0.010000597881236195, n_estimators=920;, score=0.061 total time=   5.0s\n",
      "[CV 1/10] END ccp_alpha=91060, learning_rate=0.9276689715329225, max_depth=275, min_samples_split=0.58342328630939, n_estimators=609;, score=0.845 total time=   0.4s\n",
      "[CV 2/10] END ccp_alpha=91060, learning_rate=0.9276689715329225, max_depth=275, min_samples_split=0.58342328630939, n_estimators=609;, score=0.796 total time=   0.6s\n",
      "[CV 3/10] END ccp_alpha=91060, learning_rate=0.9276689715329225, max_depth=275, min_samples_split=0.58342328630939, n_estimators=609;, score=0.749 total time=   0.6s\n",
      "[CV 4/10] END ccp_alpha=91060, learning_rate=0.9276689715329225, max_depth=275, min_samples_split=0.58342328630939, n_estimators=609;, score=0.700 total time=   0.4s\n",
      "[CV 5/10] END ccp_alpha=91060, learning_rate=0.9276689715329225, max_depth=275, min_samples_split=0.58342328630939, n_estimators=609;, score=0.845 total time=   0.4s\n",
      "[CV 6/10] END ccp_alpha=91060, learning_rate=0.9276689715329225, max_depth=275, min_samples_split=0.58342328630939, n_estimators=609;, score=0.400 total time=   0.4s\n",
      "[CV 7/10] END ccp_alpha=91060, learning_rate=0.9276689715329225, max_depth=275, min_samples_split=0.58342328630939, n_estimators=609;, score=0.843 total time=   0.4s\n",
      "[CV 8/10] END ccp_alpha=91060, learning_rate=0.9276689715329225, max_depth=275, min_samples_split=0.58342328630939, n_estimators=609;, score=0.780 total time=   0.8s\n",
      "[CV 9/10] END ccp_alpha=91060, learning_rate=0.9276689715329225, max_depth=275, min_samples_split=0.58342328630939, n_estimators=609;, score=0.665 total time=   0.5s\n",
      "[CV 10/10] END ccp_alpha=91060, learning_rate=0.9276689715329225, max_depth=275, min_samples_split=0.58342328630939, n_estimators=609;, score=0.234 total time=   0.4s\n",
      "[CV 1/10] END ccp_alpha=32637, learning_rate=0.6994130347852386, max_depth=905, min_samples_split=0.3180526424301666, n_estimators=319;, score=0.824 total time=   0.5s\n",
      "[CV 2/10] END ccp_alpha=32637, learning_rate=0.6994130347852386, max_depth=905, min_samples_split=0.3180526424301666, n_estimators=319;, score=0.780 total time=   0.7s\n",
      "[CV 3/10] END ccp_alpha=32637, learning_rate=0.6994130347852386, max_depth=905, min_samples_split=0.3180526424301666, n_estimators=319;, score=0.750 total time=   1.6s\n",
      "[CV 4/10] END ccp_alpha=32637, learning_rate=0.6994130347852386, max_depth=905, min_samples_split=0.3180526424301666, n_estimators=319;, score=0.661 total time=   1.3s\n",
      "[CV 5/10] END ccp_alpha=32637, learning_rate=0.6994130347852386, max_depth=905, min_samples_split=0.3180526424301666, n_estimators=319;, score=0.845 total time=   0.8s\n",
      "[CV 6/10] END ccp_alpha=32637, learning_rate=0.6994130347852386, max_depth=905, min_samples_split=0.3180526424301666, n_estimators=319;, score=0.448 total time=   1.3s\n",
      "[CV 7/10] END ccp_alpha=32637, learning_rate=0.6994130347852386, max_depth=905, min_samples_split=0.3180526424301666, n_estimators=319;, score=0.879 total time=   1.0s\n",
      "[CV 8/10] END ccp_alpha=32637, learning_rate=0.6994130347852386, max_depth=905, min_samples_split=0.3180526424301666, n_estimators=319;, score=0.784 total time=   1.1s\n",
      "[CV 9/10] END ccp_alpha=32637, learning_rate=0.6994130347852386, max_depth=905, min_samples_split=0.3180526424301666, n_estimators=319;, score=0.704 total time=   1.5s\n",
      "[CV 10/10] END ccp_alpha=32637, learning_rate=0.6994130347852386, max_depth=905, min_samples_split=0.3180526424301666, n_estimators=319;, score=0.085 total time=   0.8s\n",
      "[CV 1/10] END ccp_alpha=71517, learning_rate=0.7103476909639157, max_depth=615, min_samples_split=0.2495968528204534, n_estimators=1260;, score=0.832 total time=   3.5s\n",
      "[CV 2/10] END ccp_alpha=71517, learning_rate=0.7103476909639157, max_depth=615, min_samples_split=0.2495968528204534, n_estimators=1260;, score=0.821 total time=   5.7s\n",
      "[CV 3/10] END ccp_alpha=71517, learning_rate=0.7103476909639157, max_depth=615, min_samples_split=0.2495968528204534, n_estimators=1260;, score=0.777 total time=   5.2s\n",
      "[CV 4/10] END ccp_alpha=71517, learning_rate=0.7103476909639157, max_depth=615, min_samples_split=0.2495968528204534, n_estimators=1260;, score=0.624 total time=   7.5s\n",
      "[CV 5/10] END ccp_alpha=71517, learning_rate=0.7103476909639157, max_depth=615, min_samples_split=0.2495968528204534, n_estimators=1260;, score=0.859 total time=   1.7s\n",
      "[CV 6/10] END ccp_alpha=71517, learning_rate=0.7103476909639157, max_depth=615, min_samples_split=0.2495968528204534, n_estimators=1260;, score=0.481 total time=   1.9s\n",
      "[CV 7/10] END ccp_alpha=71517, learning_rate=0.7103476909639157, max_depth=615, min_samples_split=0.2495968528204534, n_estimators=1260;, score=0.884 total time=   3.1s\n",
      "[CV 8/10] END ccp_alpha=71517, learning_rate=0.7103476909639157, max_depth=615, min_samples_split=0.2495968528204534, n_estimators=1260;, score=0.846 total time=   3.0s\n",
      "[CV 9/10] END ccp_alpha=71517, learning_rate=0.7103476909639157, max_depth=615, min_samples_split=0.2495968528204534, n_estimators=1260;, score=0.705 total time=   3.4s\n",
      "[CV 10/10] END ccp_alpha=71517, learning_rate=0.7103476909639157, max_depth=615, min_samples_split=0.2495968528204534, n_estimators=1260;, score=0.077 total time=   3.5s\n",
      "[CV 1/10] END ccp_alpha=61, learning_rate=0.35285043428103835, max_depth=282, min_samples_split=0.9600444465030852, n_estimators=446;, score=0.842 total time=   0.3s\n",
      "[CV 2/10] END ccp_alpha=61, learning_rate=0.35285043428103835, max_depth=282, min_samples_split=0.9600444465030852, n_estimators=446;, score=0.859 total time=   0.3s\n",
      "[CV 3/10] END ccp_alpha=61, learning_rate=0.35285043428103835, max_depth=282, min_samples_split=0.9600444465030852, n_estimators=446;, score=0.806 total time=   0.3s\n",
      "[CV 4/10] END ccp_alpha=61, learning_rate=0.35285043428103835, max_depth=282, min_samples_split=0.9600444465030852, n_estimators=446;, score=0.745 total time=   0.3s\n",
      "[CV 5/10] END ccp_alpha=61, learning_rate=0.35285043428103835, max_depth=282, min_samples_split=0.9600444465030852, n_estimators=446;, score=0.870 total time=   0.3s\n",
      "[CV 6/10] END ccp_alpha=61, learning_rate=0.35285043428103835, max_depth=282, min_samples_split=0.9600444465030852, n_estimators=446;, score=0.605 total time=   0.3s\n",
      "[CV 7/10] END ccp_alpha=61, learning_rate=0.35285043428103835, max_depth=282, min_samples_split=0.9600444465030852, n_estimators=446;, score=0.851 total time=   0.3s\n",
      "[CV 8/10] END ccp_alpha=61, learning_rate=0.35285043428103835, max_depth=282, min_samples_split=0.9600444465030852, n_estimators=446;, score=0.819 total time=   0.3s\n",
      "[CV 9/10] END ccp_alpha=61, learning_rate=0.35285043428103835, max_depth=282, min_samples_split=0.9600444465030852, n_estimators=446;, score=0.704 total time=   0.3s\n",
      "[CV 10/10] END ccp_alpha=61, learning_rate=0.35285043428103835, max_depth=282, min_samples_split=0.9600444465030852, n_estimators=446;, score=0.232 total time=   0.3s\n",
      "[CV 1/10] END ccp_alpha=53960, learning_rate=0.5574074010990704, max_depth=986, min_samples_split=0.363773324442208, n_estimators=274;, score=0.861 total time=   0.6s\n",
      "[CV 2/10] END ccp_alpha=53960, learning_rate=0.5574074010990704, max_depth=986, min_samples_split=0.363773324442208, n_estimators=274;, score=0.813 total time=   0.6s\n",
      "[CV 3/10] END ccp_alpha=53960, learning_rate=0.5574074010990704, max_depth=986, min_samples_split=0.363773324442208, n_estimators=274;, score=0.794 total time=   0.5s\n",
      "[CV 4/10] END ccp_alpha=53960, learning_rate=0.5574074010990704, max_depth=986, min_samples_split=0.363773324442208, n_estimators=274;, score=0.667 total time=   1.4s\n",
      "[CV 5/10] END ccp_alpha=53960, learning_rate=0.5574074010990704, max_depth=986, min_samples_split=0.363773324442208, n_estimators=274;, score=0.849 total time=   0.5s\n",
      "[CV 6/10] END ccp_alpha=53960, learning_rate=0.5574074010990704, max_depth=986, min_samples_split=0.363773324442208, n_estimators=274;, score=0.582 total time=   1.2s\n",
      "[CV 7/10] END ccp_alpha=53960, learning_rate=0.5574074010990704, max_depth=986, min_samples_split=0.363773324442208, n_estimators=274;, score=0.865 total time=   0.7s\n",
      "[CV 8/10] END ccp_alpha=53960, learning_rate=0.5574074010990704, max_depth=986, min_samples_split=0.363773324442208, n_estimators=274;, score=0.796 total time=   0.8s\n",
      "[CV 9/10] END ccp_alpha=53960, learning_rate=0.5574074010990704, max_depth=986, min_samples_split=0.363773324442208, n_estimators=274;, score=0.690 total time=   0.8s\n",
      "[CV 10/10] END ccp_alpha=53960, learning_rate=0.5574074010990704, max_depth=986, min_samples_split=0.363773324442208, n_estimators=274;, score=0.145 total time=   1.3s\n",
      "[CV 1/10] END ccp_alpha=22089, learning_rate=0.2210033423185176, max_depth=44, min_samples_split=0.4679962538866772, n_estimators=1407;, score=0.858 total time=   2.4s\n",
      "[CV 2/10] END ccp_alpha=22089, learning_rate=0.2210033423185176, max_depth=44, min_samples_split=0.4679962538866772, n_estimators=1407;, score=0.844 total time=   1.6s\n",
      "[CV 3/10] END ccp_alpha=22089, learning_rate=0.2210033423185176, max_depth=44, min_samples_split=0.4679962538866772, n_estimators=1407;, score=0.776 total time=   1.9s\n",
      "[CV 4/10] END ccp_alpha=22089, learning_rate=0.2210033423185176, max_depth=44, min_samples_split=0.4679962538866772, n_estimators=1407;, score=0.752 total time=   1.5s\n",
      "[CV 5/10] END ccp_alpha=22089, learning_rate=0.2210033423185176, max_depth=44, min_samples_split=0.4679962538866772, n_estimators=1407;, score=0.872 total time=   1.8s\n",
      "[CV 6/10] END ccp_alpha=22089, learning_rate=0.2210033423185176, max_depth=44, min_samples_split=0.4679962538866772, n_estimators=1407;, score=0.662 total time=   2.2s\n",
      "[CV 7/10] END ccp_alpha=22089, learning_rate=0.2210033423185176, max_depth=44, min_samples_split=0.4679962538866772, n_estimators=1407;, score=0.883 total time=   1.6s\n",
      "[CV 8/10] END ccp_alpha=22089, learning_rate=0.2210033423185176, max_depth=44, min_samples_split=0.4679962538866772, n_estimators=1407;, score=0.807 total time=   6.7s\n",
      "[CV 9/10] END ccp_alpha=22089, learning_rate=0.2210033423185176, max_depth=44, min_samples_split=0.4679962538866772, n_estimators=1407;, score=0.746 total time=   1.8s\n",
      "[CV 10/10] END ccp_alpha=22089, learning_rate=0.2210033423185176, max_depth=44, min_samples_split=0.4679962538866772, n_estimators=1407;, score=0.210 total time=   1.5s\n",
      "[CV 1/10] END ccp_alpha=9229, learning_rate=0.32328196595352654, max_depth=186, min_samples_split=0.9816587910602428, n_estimators=1329;, score=0.839 total time=   0.7s\n",
      "[CV 2/10] END ccp_alpha=9229, learning_rate=0.32328196595352654, max_depth=186, min_samples_split=0.9816587910602428, n_estimators=1329;, score=0.863 total time=   0.7s\n",
      "[CV 3/10] END ccp_alpha=9229, learning_rate=0.32328196595352654, max_depth=186, min_samples_split=0.9816587910602428, n_estimators=1329;, score=0.821 total time=   0.7s\n",
      "[CV 4/10] END ccp_alpha=9229, learning_rate=0.32328196595352654, max_depth=186, min_samples_split=0.9816587910602428, n_estimators=1329;, score=0.742 total time=   0.7s\n",
      "[CV 5/10] END ccp_alpha=9229, learning_rate=0.32328196595352654, max_depth=186, min_samples_split=0.9816587910602428, n_estimators=1329;, score=0.868 total time=   0.7s\n",
      "[CV 6/10] END ccp_alpha=9229, learning_rate=0.32328196595352654, max_depth=186, min_samples_split=0.9816587910602428, n_estimators=1329;, score=0.539 total time=   0.7s\n",
      "[CV 7/10] END ccp_alpha=9229, learning_rate=0.32328196595352654, max_depth=186, min_samples_split=0.9816587910602428, n_estimators=1329;, score=0.843 total time=   0.7s\n",
      "[CV 8/10] END ccp_alpha=9229, learning_rate=0.32328196595352654, max_depth=186, min_samples_split=0.9816587910602428, n_estimators=1329;, score=0.816 total time=   0.7s\n",
      "[CV 9/10] END ccp_alpha=9229, learning_rate=0.32328196595352654, max_depth=186, min_samples_split=0.9816587910602428, n_estimators=1329;, score=0.719 total time=   0.7s\n",
      "[CV 10/10] END ccp_alpha=9229, learning_rate=0.32328196595352654, max_depth=186, min_samples_split=0.9816587910602428, n_estimators=1329;, score=0.153 total time=   0.7s\n",
      "[CV 1/10] END ccp_alpha=44109, learning_rate=0.8121105054453637, max_depth=146, min_samples_split=0.2012802337671411, n_estimators=446;, score=0.800 total time=   1.4s\n",
      "[CV 2/10] END ccp_alpha=44109, learning_rate=0.8121105054453637, max_depth=146, min_samples_split=0.2012802337671411, n_estimators=446;, score=0.704 total time=   2.4s\n",
      "[CV 3/10] END ccp_alpha=44109, learning_rate=0.8121105054453637, max_depth=146, min_samples_split=0.2012802337671411, n_estimators=446;, score=0.752 total time=   2.2s\n",
      "[CV 4/10] END ccp_alpha=44109, learning_rate=0.8121105054453637, max_depth=146, min_samples_split=0.2012802337671411, n_estimators=446;, score=0.652 total time=   1.3s\n",
      "[CV 5/10] END ccp_alpha=44109, learning_rate=0.8121105054453637, max_depth=146, min_samples_split=0.2012802337671411, n_estimators=446;, score=0.852 total time=   1.4s\n",
      "[CV 6/10] END ccp_alpha=44109, learning_rate=0.8121105054453637, max_depth=146, min_samples_split=0.2012802337671411, n_estimators=446;, score=0.497 total time=   1.5s\n",
      "[CV 7/10] END ccp_alpha=44109, learning_rate=0.8121105054453637, max_depth=146, min_samples_split=0.2012802337671411, n_estimators=446;, score=0.821 total time=   1.1s\n",
      "[CV 8/10] END ccp_alpha=44109, learning_rate=0.8121105054453637, max_depth=146, min_samples_split=0.2012802337671411, n_estimators=446;, score=0.656 total time=   1.8s\n",
      "[CV 9/10] END ccp_alpha=44109, learning_rate=0.8121105054453637, max_depth=146, min_samples_split=0.2012802337671411, n_estimators=446;, score=0.707 total time=   1.2s\n",
      "[CV 10/10] END ccp_alpha=44109, learning_rate=0.8121105054453637, max_depth=146, min_samples_split=0.2012802337671411, n_estimators=446;, score=0.125 total time=   1.8s\n",
      "[CV 1/10] END ccp_alpha=81633, learning_rate=0.3846328539508411, max_depth=645, min_samples_split=0.8776649513304003, n_estimators=487;, score=0.861 total time=   0.3s\n",
      "[CV 2/10] END ccp_alpha=81633, learning_rate=0.3846328539508411, max_depth=645, min_samples_split=0.8776649513304003, n_estimators=487;, score=0.852 total time=   0.3s\n",
      "[CV 3/10] END ccp_alpha=81633, learning_rate=0.3846328539508411, max_depth=645, min_samples_split=0.8776649513304003, n_estimators=487;, score=0.806 total time=   0.3s\n",
      "[CV 4/10] END ccp_alpha=81633, learning_rate=0.3846328539508411, max_depth=645, min_samples_split=0.8776649513304003, n_estimators=487;, score=0.740 total time=   0.3s\n",
      "[CV 5/10] END ccp_alpha=81633, learning_rate=0.3846328539508411, max_depth=645, min_samples_split=0.8776649513304003, n_estimators=487;, score=0.866 total time=   0.3s\n",
      "[CV 6/10] END ccp_alpha=81633, learning_rate=0.3846328539508411, max_depth=645, min_samples_split=0.8776649513304003, n_estimators=487;, score=0.614 total time=   0.3s\n",
      "[CV 7/10] END ccp_alpha=81633, learning_rate=0.3846328539508411, max_depth=645, min_samples_split=0.8776649513304003, n_estimators=487;, score=0.864 total time=   0.3s\n",
      "[CV 8/10] END ccp_alpha=81633, learning_rate=0.3846328539508411, max_depth=645, min_samples_split=0.8776649513304003, n_estimators=487;, score=0.795 total time=   0.3s\n",
      "[CV 9/10] END ccp_alpha=81633, learning_rate=0.3846328539508411, max_depth=645, min_samples_split=0.8776649513304003, n_estimators=487;, score=0.722 total time=   0.3s\n",
      "[CV 10/10] END ccp_alpha=81633, learning_rate=0.3846328539508411, max_depth=645, min_samples_split=0.8776649513304003, n_estimators=487;, score=0.166 total time=   0.3s\n",
      "[CV 1/10] END ccp_alpha=69695, learning_rate=0.5591933160992211, max_depth=547, min_samples_split=0.35363370823560925, n_estimators=793;, score=0.863 total time=   2.4s\n",
      "[CV 2/10] END ccp_alpha=69695, learning_rate=0.5591933160992211, max_depth=547, min_samples_split=0.35363370823560925, n_estimators=793;, score=0.819 total time=   3.3s\n",
      "[CV 3/10] END ccp_alpha=69695, learning_rate=0.5591933160992211, max_depth=547, min_samples_split=0.35363370823560925, n_estimators=793;, score=0.782 total time=   0.9s\n",
      "[CV 4/10] END ccp_alpha=69695, learning_rate=0.5591933160992211, max_depth=547, min_samples_split=0.35363370823560925, n_estimators=793;, score=0.691 total time=   2.4s\n",
      "[CV 5/10] END ccp_alpha=69695, learning_rate=0.5591933160992211, max_depth=547, min_samples_split=0.35363370823560925, n_estimators=793;, score=0.863 total time=   1.2s\n",
      "[CV 6/10] END ccp_alpha=69695, learning_rate=0.5591933160992211, max_depth=547, min_samples_split=0.35363370823560925, n_estimators=793;, score=0.595 total time=   2.1s\n",
      "[CV 7/10] END ccp_alpha=69695, learning_rate=0.5591933160992211, max_depth=547, min_samples_split=0.35363370823560925, n_estimators=793;, score=0.888 total time=   2.6s\n",
      "[CV 8/10] END ccp_alpha=69695, learning_rate=0.5591933160992211, max_depth=547, min_samples_split=0.35363370823560925, n_estimators=793;, score=0.816 total time=   2.4s\n",
      "[CV 9/10] END ccp_alpha=69695, learning_rate=0.5591933160992211, max_depth=547, min_samples_split=0.35363370823560925, n_estimators=793;, score=0.698 total time=   2.7s\n",
      "[CV 10/10] END ccp_alpha=69695, learning_rate=0.5591933160992211, max_depth=547, min_samples_split=0.35363370823560925, n_estimators=793;, score=0.119 total time=   2.7s\n",
      "[CV 1/10] END ccp_alpha=7981, learning_rate=0.5434919511857825, max_depth=320, min_samples_split=0.14112260793616793, n_estimators=960;, score=0.830 total time=   6.2s\n",
      "[CV 2/10] END ccp_alpha=7981, learning_rate=0.5434919511857825, max_depth=320, min_samples_split=0.14112260793616793, n_estimators=960;, score=0.794 total time=   5.3s\n",
      "[CV 3/10] END ccp_alpha=7981, learning_rate=0.5434919511857825, max_depth=320, min_samples_split=0.14112260793616793, n_estimators=960;, score=0.811 total time=   3.1s\n",
      "[CV 4/10] END ccp_alpha=7981, learning_rate=0.5434919511857825, max_depth=320, min_samples_split=0.14112260793616793, n_estimators=960;, score=0.681 total time=   3.7s\n",
      "[CV 5/10] END ccp_alpha=7981, learning_rate=0.5434919511857825, max_depth=320, min_samples_split=0.14112260793616793, n_estimators=960;, score=0.860 total time=   6.1s\n",
      "[CV 6/10] END ccp_alpha=7981, learning_rate=0.5434919511857825, max_depth=320, min_samples_split=0.14112260793616793, n_estimators=960;, score=0.657 total time=   8.7s\n",
      "[CV 7/10] END ccp_alpha=7981, learning_rate=0.5434919511857825, max_depth=320, min_samples_split=0.14112260793616793, n_estimators=960;, score=0.883 total time=   2.7s\n",
      "[CV 8/10] END ccp_alpha=7981, learning_rate=0.5434919511857825, max_depth=320, min_samples_split=0.14112260793616793, n_estimators=960;, score=0.764 total time=   7.7s\n",
      "[CV 9/10] END ccp_alpha=7981, learning_rate=0.5434919511857825, max_depth=320, min_samples_split=0.14112260793616793, n_estimators=960;, score=0.730 total time=   4.1s\n",
      "[CV 10/10] END ccp_alpha=7981, learning_rate=0.5434919511857825, max_depth=320, min_samples_split=0.14112260793616793, n_estimators=960;, score=0.211 total time=   3.7s\n",
      "[CV 1/10] END ccp_alpha=72544, learning_rate=0.8302882058391338, max_depth=706, min_samples_split=0.9743517456584908, n_estimators=979;, score=0.833 total time=   0.5s\n",
      "[CV 2/10] END ccp_alpha=72544, learning_rate=0.8302882058391338, max_depth=706, min_samples_split=0.9743517456584908, n_estimators=979;, score=0.847 total time=   0.5s\n",
      "[CV 3/10] END ccp_alpha=72544, learning_rate=0.8302882058391338, max_depth=706, min_samples_split=0.9743517456584908, n_estimators=979;, score=0.792 total time=   0.5s\n",
      "[CV 4/10] END ccp_alpha=72544, learning_rate=0.8302882058391338, max_depth=706, min_samples_split=0.9743517456584908, n_estimators=979;, score=0.656 total time=   0.5s\n",
      "[CV 5/10] END ccp_alpha=72544, learning_rate=0.8302882058391338, max_depth=706, min_samples_split=0.9743517456584908, n_estimators=979;, score=0.860 total time=   0.5s\n",
      "[CV 6/10] END ccp_alpha=72544, learning_rate=0.8302882058391338, max_depth=706, min_samples_split=0.9743517456584908, n_estimators=979;, score=0.485 total time=   0.5s\n",
      "[CV 7/10] END ccp_alpha=72544, learning_rate=0.8302882058391338, max_depth=706, min_samples_split=0.9743517456584908, n_estimators=979;, score=0.823 total time=   0.5s\n",
      "[CV 8/10] END ccp_alpha=72544, learning_rate=0.8302882058391338, max_depth=706, min_samples_split=0.9743517456584908, n_estimators=979;, score=0.786 total time=   0.5s\n",
      "[CV 9/10] END ccp_alpha=72544, learning_rate=0.8302882058391338, max_depth=706, min_samples_split=0.9743517456584908, n_estimators=979;, score=0.735 total time=   0.5s\n",
      "[CV 10/10] END ccp_alpha=72544, learning_rate=0.8302882058391338, max_depth=706, min_samples_split=0.9743517456584908, n_estimators=979;, score=0.149 total time=   0.5s\n",
      "[CV 1/10] END ccp_alpha=45553, learning_rate=0.558060133866703, max_depth=615, min_samples_split=0.7622887101275148, n_estimators=899;, score=0.872 total time=   0.6s\n",
      "[CV 2/10] END ccp_alpha=45553, learning_rate=0.558060133866703, max_depth=615, min_samples_split=0.7622887101275148, n_estimators=899;, score=0.845 total time=   0.6s\n",
      "[CV 3/10] END ccp_alpha=45553, learning_rate=0.558060133866703, max_depth=615, min_samples_split=0.7622887101275148, n_estimators=899;, score=0.725 total time=   0.6s\n",
      "[CV 4/10] END ccp_alpha=45553, learning_rate=0.558060133866703, max_depth=615, min_samples_split=0.7622887101275148, n_estimators=899;, score=0.716 total time=   0.6s\n",
      "[CV 5/10] END ccp_alpha=45553, learning_rate=0.558060133866703, max_depth=615, min_samples_split=0.7622887101275148, n_estimators=899;, score=0.859 total time=   0.6s\n",
      "[CV 6/10] END ccp_alpha=45553, learning_rate=0.558060133866703, max_depth=615, min_samples_split=0.7622887101275148, n_estimators=899;, score=0.566 total time=   0.6s\n",
      "[CV 7/10] END ccp_alpha=45553, learning_rate=0.558060133866703, max_depth=615, min_samples_split=0.7622887101275148, n_estimators=899;, score=0.863 total time=   0.6s\n",
      "[CV 8/10] END ccp_alpha=45553, learning_rate=0.558060133866703, max_depth=615, min_samples_split=0.7622887101275148, n_estimators=899;, score=0.810 total time=   0.6s\n",
      "[CV 9/10] END ccp_alpha=45553, learning_rate=0.558060133866703, max_depth=615, min_samples_split=0.7622887101275148, n_estimators=899;, score=0.758 total time=   0.6s\n",
      "[CV 10/10] END ccp_alpha=45553, learning_rate=0.558060133866703, max_depth=615, min_samples_split=0.7622887101275148, n_estimators=899;, score=0.180 total time=   0.6s\n",
      "[CV 1/10] END ccp_alpha=19394, learning_rate=0.23072967795144406, max_depth=792, min_samples_split=0.3378718999264595, n_estimators=874;, score=0.870 total time=   4.3s\n",
      "[CV 2/10] END ccp_alpha=19394, learning_rate=0.23072967795144406, max_depth=792, min_samples_split=0.3378718999264595, n_estimators=874;, score=0.850 total time=   2.9s\n",
      "[CV 3/10] END ccp_alpha=19394, learning_rate=0.23072967795144406, max_depth=792, min_samples_split=0.3378718999264595, n_estimators=874;, score=0.790 total time=   3.5s\n",
      "[CV 4/10] END ccp_alpha=19394, learning_rate=0.23072967795144406, max_depth=792, min_samples_split=0.3378718999264595, n_estimators=874;, score=0.748 total time=   2.9s\n",
      "[CV 5/10] END ccp_alpha=19394, learning_rate=0.23072967795144406, max_depth=792, min_samples_split=0.3378718999264595, n_estimators=874;, score=0.865 total time=   2.4s\n",
      "[CV 6/10] END ccp_alpha=19394, learning_rate=0.23072967795144406, max_depth=792, min_samples_split=0.3378718999264595, n_estimators=874;, score=0.683 total time=   2.2s\n",
      "[CV 7/10] END ccp_alpha=19394, learning_rate=0.23072967795144406, max_depth=792, min_samples_split=0.3378718999264595, n_estimators=874;, score=0.872 total time=   2.8s\n",
      "[CV 8/10] END ccp_alpha=19394, learning_rate=0.23072967795144406, max_depth=792, min_samples_split=0.3378718999264595, n_estimators=874;, score=0.812 total time=   1.2s\n",
      "[CV 9/10] END ccp_alpha=19394, learning_rate=0.23072967795144406, max_depth=792, min_samples_split=0.3378718999264595, n_estimators=874;, score=0.740 total time=   2.6s\n",
      "[CV 10/10] END ccp_alpha=19394, learning_rate=0.23072967795144406, max_depth=792, min_samples_split=0.3378718999264595, n_estimators=874;, score=0.143 total time=   4.0s\n",
      "[CV 1/10] END ccp_alpha=93248, learning_rate=0.03321701488837592, max_depth=1356, min_samples_split=0.2604758408734559, n_estimators=952;, score=0.871 total time=   4.5s\n",
      "[CV 2/10] END ccp_alpha=93248, learning_rate=0.03321701488837592, max_depth=1356, min_samples_split=0.2604758408734559, n_estimators=952;, score=0.861 total time=   5.0s\n",
      "[CV 3/10] END ccp_alpha=93248, learning_rate=0.03321701488837592, max_depth=1356, min_samples_split=0.2604758408734559, n_estimators=952;, score=0.800 total time=   5.7s\n",
      "[CV 4/10] END ccp_alpha=93248, learning_rate=0.03321701488837592, max_depth=1356, min_samples_split=0.2604758408734559, n_estimators=952;, score=0.739 total time=   4.1s\n",
      "[CV 5/10] END ccp_alpha=93248, learning_rate=0.03321701488837592, max_depth=1356, min_samples_split=0.2604758408734559, n_estimators=952;, score=0.873 total time=   5.3s\n",
      "[CV 6/10] END ccp_alpha=93248, learning_rate=0.03321701488837592, max_depth=1356, min_samples_split=0.2604758408734559, n_estimators=952;, score=0.682 total time=   4.5s\n",
      "[CV 7/10] END ccp_alpha=93248, learning_rate=0.03321701488837592, max_depth=1356, min_samples_split=0.2604758408734559, n_estimators=952;, score=0.905 total time=   4.8s\n",
      "[CV 8/10] END ccp_alpha=93248, learning_rate=0.03321701488837592, max_depth=1356, min_samples_split=0.2604758408734559, n_estimators=952;, score=0.831 total time=   6.2s\n",
      "[CV 9/10] END ccp_alpha=93248, learning_rate=0.03321701488837592, max_depth=1356, min_samples_split=0.2604758408734559, n_estimators=952;, score=0.740 total time=   5.9s\n",
      "[CV 10/10] END ccp_alpha=93248, learning_rate=0.03321701488837592, max_depth=1356, min_samples_split=0.2604758408734559, n_estimators=952;, score=0.164 total time=   3.8s\n",
      "[CV 1/10] END ccp_alpha=76733, learning_rate=0.19213363558677166, max_depth=891, min_samples_split=0.6273157606492277, n_estimators=601;, score=0.872 total time=   0.5s\n",
      "[CV 2/10] END ccp_alpha=76733, learning_rate=0.19213363558677166, max_depth=891, min_samples_split=0.6273157606492277, n_estimators=601;, score=0.850 total time=   0.6s\n",
      "[CV 3/10] END ccp_alpha=76733, learning_rate=0.19213363558677166, max_depth=891, min_samples_split=0.6273157606492277, n_estimators=601;, score=0.802 total time=   0.5s\n",
      "[CV 4/10] END ccp_alpha=76733, learning_rate=0.19213363558677166, max_depth=891, min_samples_split=0.6273157606492277, n_estimators=601;, score=0.757 total time=   0.5s\n",
      "[CV 5/10] END ccp_alpha=76733, learning_rate=0.19213363558677166, max_depth=891, min_samples_split=0.6273157606492277, n_estimators=601;, score=0.872 total time=   0.6s\n",
      "[CV 6/10] END ccp_alpha=76733, learning_rate=0.19213363558677166, max_depth=891, min_samples_split=0.6273157606492277, n_estimators=601;, score=0.683 total time=   0.5s\n",
      "[CV 7/10] END ccp_alpha=76733, learning_rate=0.19213363558677166, max_depth=891, min_samples_split=0.6273157606492277, n_estimators=601;, score=0.891 total time=   0.5s\n",
      "[CV 8/10] END ccp_alpha=76733, learning_rate=0.19213363558677166, max_depth=891, min_samples_split=0.6273157606492277, n_estimators=601;, score=0.831 total time=   0.6s\n",
      "[CV 9/10] END ccp_alpha=76733, learning_rate=0.19213363558677166, max_depth=891, min_samples_split=0.6273157606492277, n_estimators=601;, score=0.751 total time=   0.7s\n",
      "[CV 10/10] END ccp_alpha=76733, learning_rate=0.19213363558677166, max_depth=891, min_samples_split=0.6273157606492277, n_estimators=601;, score=0.223 total time=   0.5s\n",
      "[CV 1/10] END ccp_alpha=58805, learning_rate=0.23045763937419161, max_depth=726, min_samples_split=0.7120982582471833, n_estimators=164;, score=0.863 total time=   0.2s\n",
      "[CV 2/10] END ccp_alpha=58805, learning_rate=0.23045763937419161, max_depth=726, min_samples_split=0.7120982582471833, n_estimators=164;, score=0.835 total time=   0.2s\n",
      "[CV 3/10] END ccp_alpha=58805, learning_rate=0.23045763937419161, max_depth=726, min_samples_split=0.7120982582471833, n_estimators=164;, score=0.827 total time=   0.2s\n",
      "[CV 4/10] END ccp_alpha=58805, learning_rate=0.23045763937419161, max_depth=726, min_samples_split=0.7120982582471833, n_estimators=164;, score=0.751 total time=   0.2s\n",
      "[CV 5/10] END ccp_alpha=58805, learning_rate=0.23045763937419161, max_depth=726, min_samples_split=0.7120982582471833, n_estimators=164;, score=0.872 total time=   0.2s\n",
      "[CV 6/10] END ccp_alpha=58805, learning_rate=0.23045763937419161, max_depth=726, min_samples_split=0.7120982582471833, n_estimators=164;, score=0.668 total time=   0.2s\n",
      "[CV 7/10] END ccp_alpha=58805, learning_rate=0.23045763937419161, max_depth=726, min_samples_split=0.7120982582471833, n_estimators=164;, score=0.904 total time=   0.2s\n",
      "[CV 8/10] END ccp_alpha=58805, learning_rate=0.23045763937419161, max_depth=726, min_samples_split=0.7120982582471833, n_estimators=164;, score=0.840 total time=   0.2s\n",
      "[CV 9/10] END ccp_alpha=58805, learning_rate=0.23045763937419161, max_depth=726, min_samples_split=0.7120982582471833, n_estimators=164;, score=0.757 total time=   0.2s\n",
      "[CV 10/10] END ccp_alpha=58805, learning_rate=0.23045763937419161, max_depth=726, min_samples_split=0.7120982582471833, n_estimators=164;, score=0.237 total time=   0.2s\n",
      "[CV 1/10] END ccp_alpha=14630, learning_rate=0.26158042533062265, max_depth=345, min_samples_split=0.5423912590855182, n_estimators=757;, score=0.854 total time=   0.8s\n",
      "[CV 2/10] END ccp_alpha=14630, learning_rate=0.26158042533062265, max_depth=345, min_samples_split=0.5423912590855182, n_estimators=757;, score=0.872 total time=   0.8s\n",
      "[CV 3/10] END ccp_alpha=14630, learning_rate=0.26158042533062265, max_depth=345, min_samples_split=0.5423912590855182, n_estimators=757;, score=0.787 total time=   0.8s\n",
      "[CV 4/10] END ccp_alpha=14630, learning_rate=0.26158042533062265, max_depth=345, min_samples_split=0.5423912590855182, n_estimators=757;, score=0.763 total time=   0.8s\n",
      "[CV 5/10] END ccp_alpha=14630, learning_rate=0.26158042533062265, max_depth=345, min_samples_split=0.5423912590855182, n_estimators=757;, score=0.859 total time=   0.8s\n",
      "[CV 6/10] END ccp_alpha=14630, learning_rate=0.26158042533062265, max_depth=345, min_samples_split=0.5423912590855182, n_estimators=757;, score=0.611 total time=   0.8s\n",
      "[CV 7/10] END ccp_alpha=14630, learning_rate=0.26158042533062265, max_depth=345, min_samples_split=0.5423912590855182, n_estimators=757;, score=0.893 total time=   0.8s\n",
      "[CV 8/10] END ccp_alpha=14630, learning_rate=0.26158042533062265, max_depth=345, min_samples_split=0.5423912590855182, n_estimators=757;, score=0.816 total time=   0.8s\n",
      "[CV 9/10] END ccp_alpha=14630, learning_rate=0.26158042533062265, max_depth=345, min_samples_split=0.5423912590855182, n_estimators=757;, score=0.728 total time=   0.8s\n",
      "[CV 10/10] END ccp_alpha=14630, learning_rate=0.26158042533062265, max_depth=345, min_samples_split=0.5423912590855182, n_estimators=757;, score=0.164 total time=   0.8s\n",
      "[CV 1/10] END ccp_alpha=96800, learning_rate=0.9885707406614131, max_depth=148, min_samples_split=0.08289833966734705, n_estimators=1273;, score=0.814 total time=   4.5s\n",
      "[CV 2/10] END ccp_alpha=96800, learning_rate=0.9885707406614131, max_depth=148, min_samples_split=0.08289833966734705, n_estimators=1273;, score=0.733 total time=   6.9s\n",
      "[CV 3/10] END ccp_alpha=96800, learning_rate=0.9885707406614131, max_depth=148, min_samples_split=0.08289833966734705, n_estimators=1273;, score=0.699 total time=   4.0s\n",
      "[CV 4/10] END ccp_alpha=96800, learning_rate=0.9885707406614131, max_depth=148, min_samples_split=0.08289833966734705, n_estimators=1273;, score=0.632 total time=   5.2s\n",
      "[CV 5/10] END ccp_alpha=96800, learning_rate=0.9885707406614131, max_depth=148, min_samples_split=0.08289833966734705, n_estimators=1273;, score=0.798 total time=   4.2s\n",
      "[CV 6/10] END ccp_alpha=96800, learning_rate=0.9885707406614131, max_depth=148, min_samples_split=0.08289833966734705, n_estimators=1273;, score=0.390 total time=   4.5s\n",
      "[CV 7/10] END ccp_alpha=96800, learning_rate=0.9885707406614131, max_depth=148, min_samples_split=0.08289833966734705, n_estimators=1273;, score=0.794 total time=   4.3s\n",
      "[CV 8/10] END ccp_alpha=96800, learning_rate=0.9885707406614131, max_depth=148, min_samples_split=0.08289833966734705, n_estimators=1273;, score=0.700 total time=   7.3s\n",
      "[CV 9/10] END ccp_alpha=96800, learning_rate=0.9885707406614131, max_depth=148, min_samples_split=0.08289833966734705, n_estimators=1273;, score=0.617 total time=   6.2s\n",
      "[CV 10/10] END ccp_alpha=96800, learning_rate=0.9885707406614131, max_depth=148, min_samples_split=0.08289833966734705, n_estimators=1273;, score=-0.023 total time=   5.9s\n",
      "[CV 1/10] END ccp_alpha=84903, learning_rate=0.5273425718339431, max_depth=792, min_samples_split=0.7942513739952433, n_estimators=1489;, score=0.851 total time=   0.8s\n",
      "[CV 2/10] END ccp_alpha=84903, learning_rate=0.5273425718339431, max_depth=792, min_samples_split=0.7942513739952433, n_estimators=1489;, score=0.836 total time=   0.8s\n",
      "[CV 3/10] END ccp_alpha=84903, learning_rate=0.5273425718339431, max_depth=792, min_samples_split=0.7942513739952433, n_estimators=1489;, score=0.807 total time=   0.8s\n",
      "[CV 4/10] END ccp_alpha=84903, learning_rate=0.5273425718339431, max_depth=792, min_samples_split=0.7942513739952433, n_estimators=1489;, score=0.735 total time=   0.8s\n",
      "[CV 5/10] END ccp_alpha=84903, learning_rate=0.5273425718339431, max_depth=792, min_samples_split=0.7942513739952433, n_estimators=1489;, score=0.870 total time=   0.8s\n",
      "[CV 6/10] END ccp_alpha=84903, learning_rate=0.5273425718339431, max_depth=792, min_samples_split=0.7942513739952433, n_estimators=1489;, score=0.671 total time=   0.8s\n",
      "[CV 7/10] END ccp_alpha=84903, learning_rate=0.5273425718339431, max_depth=792, min_samples_split=0.7942513739952433, n_estimators=1489;, score=0.870 total time=   0.8s\n",
      "[CV 8/10] END ccp_alpha=84903, learning_rate=0.5273425718339431, max_depth=792, min_samples_split=0.7942513739952433, n_estimators=1489;, score=0.821 total time=   0.8s\n",
      "[CV 9/10] END ccp_alpha=84903, learning_rate=0.5273425718339431, max_depth=792, min_samples_split=0.7942513739952433, n_estimators=1489;, score=0.760 total time=   0.8s\n",
      "[CV 10/10] END ccp_alpha=84903, learning_rate=0.5273425718339431, max_depth=792, min_samples_split=0.7942513739952433, n_estimators=1489;, score=0.327 total time=   0.8s\n",
      "[CV 1/10] END ccp_alpha=83172, learning_rate=0.03509751511899928, max_depth=634, min_samples_split=0.005229975011061261, n_estimators=557;, score=0.775 total time=   3.2s\n",
      "[CV 2/10] END ccp_alpha=83172, learning_rate=0.03509751511899928, max_depth=634, min_samples_split=0.005229975011061261, n_estimators=557;, score=0.781 total time=   2.5s\n",
      "[CV 3/10] END ccp_alpha=83172, learning_rate=0.03509751511899928, max_depth=634, min_samples_split=0.005229975011061261, n_estimators=557;, score=0.776 total time=   2.8s\n",
      "[CV 4/10] END ccp_alpha=83172, learning_rate=0.03509751511899928, max_depth=634, min_samples_split=0.005229975011061261, n_estimators=557;, score=0.676 total time=   2.8s\n",
      "[CV 5/10] END ccp_alpha=83172, learning_rate=0.03509751511899928, max_depth=634, min_samples_split=0.005229975011061261, n_estimators=557;, score=0.714 total time=   3.2s\n",
      "[CV 6/10] END ccp_alpha=83172, learning_rate=0.03509751511899928, max_depth=634, min_samples_split=0.005229975011061261, n_estimators=557;, score=0.677 total time=   2.7s\n",
      "[CV 7/10] END ccp_alpha=83172, learning_rate=0.03509751511899928, max_depth=634, min_samples_split=0.005229975011061261, n_estimators=557;, score=0.884 total time=   2.6s\n",
      "[CV 8/10] END ccp_alpha=83172, learning_rate=0.03509751511899928, max_depth=634, min_samples_split=0.005229975011061261, n_estimators=557;, score=0.856 total time=   2.7s\n",
      "[CV 9/10] END ccp_alpha=83172, learning_rate=0.03509751511899928, max_depth=634, min_samples_split=0.005229975011061261, n_estimators=557;, score=0.795 total time=   2.6s\n",
      "[CV 10/10] END ccp_alpha=83172, learning_rate=0.03509751511899928, max_depth=634, min_samples_split=0.005229975011061261, n_estimators=557;, score=0.252 total time=   2.9s\n",
      "[CV 1/10] END ccp_alpha=96677, learning_rate=0.2846576740023887, max_depth=1412, min_samples_split=0.23355935152598473, n_estimators=1265;, score=0.865 total time=   7.8s\n",
      "[CV 2/10] END ccp_alpha=96677, learning_rate=0.2846576740023887, max_depth=1412, min_samples_split=0.23355935152598473, n_estimators=1265;, score=0.853 total time=   6.4s\n",
      "[CV 3/10] END ccp_alpha=96677, learning_rate=0.2846576740023887, max_depth=1412, min_samples_split=0.23355935152598473, n_estimators=1265;, score=0.808 total time=   7.0s\n",
      "[CV 4/10] END ccp_alpha=96677, learning_rate=0.2846576740023887, max_depth=1412, min_samples_split=0.23355935152598473, n_estimators=1265;, score=0.731 total time=   3.8s\n",
      "[CV 5/10] END ccp_alpha=96677, learning_rate=0.2846576740023887, max_depth=1412, min_samples_split=0.23355935152598473, n_estimators=1265;, score=0.876 total time=   3.7s\n",
      "[CV 6/10] END ccp_alpha=96677, learning_rate=0.2846576740023887, max_depth=1412, min_samples_split=0.23355935152598473, n_estimators=1265;, score=0.555 total time=   7.0s\n",
      "[CV 7/10] END ccp_alpha=96677, learning_rate=0.2846576740023887, max_depth=1412, min_samples_split=0.23355935152598473, n_estimators=1265;, score=0.874 total time=   5.8s\n",
      "[CV 8/10] END ccp_alpha=96677, learning_rate=0.2846576740023887, max_depth=1412, min_samples_split=0.23355935152598473, n_estimators=1265;, score=0.800 total time=   6.7s\n",
      "[CV 9/10] END ccp_alpha=96677, learning_rate=0.2846576740023887, max_depth=1412, min_samples_split=0.23355935152598473, n_estimators=1265;, score=0.753 total time=   7.3s\n",
      "[CV 10/10] END ccp_alpha=96677, learning_rate=0.2846576740023887, max_depth=1412, min_samples_split=0.23355935152598473, n_estimators=1265;, score=0.126 total time=   9.3s\n",
      "[CV 1/10] END ccp_alpha=72060, learning_rate=0.14376790151380103, max_depth=1100, min_samples_split=0.17957053503624698, n_estimators=1154;, score=0.880 total time=   9.6s\n",
      "[CV 2/10] END ccp_alpha=72060, learning_rate=0.14376790151380103, max_depth=1100, min_samples_split=0.17957053503624698, n_estimators=1154;, score=0.863 total time=   5.7s\n",
      "[CV 3/10] END ccp_alpha=72060, learning_rate=0.14376790151380103, max_depth=1100, min_samples_split=0.17957053503624698, n_estimators=1154;, score=0.822 total time=   8.9s\n",
      "[CV 4/10] END ccp_alpha=72060, learning_rate=0.14376790151380103, max_depth=1100, min_samples_split=0.17957053503624698, n_estimators=1154;, score=0.744 total time=   6.1s\n",
      "[CV 5/10] END ccp_alpha=72060, learning_rate=0.14376790151380103, max_depth=1100, min_samples_split=0.17957053503624698, n_estimators=1154;, score=0.882 total time=   7.7s\n",
      "[CV 6/10] END ccp_alpha=72060, learning_rate=0.14376790151380103, max_depth=1100, min_samples_split=0.17957053503624698, n_estimators=1154;, score=0.655 total time=   6.8s\n",
      "[CV 7/10] END ccp_alpha=72060, learning_rate=0.14376790151380103, max_depth=1100, min_samples_split=0.17957053503624698, n_estimators=1154;, score=0.881 total time=   6.2s\n",
      "[CV 8/10] END ccp_alpha=72060, learning_rate=0.14376790151380103, max_depth=1100, min_samples_split=0.17957053503624698, n_estimators=1154;, score=0.820 total time=  12.4s\n",
      "[CV 9/10] END ccp_alpha=72060, learning_rate=0.14376790151380103, max_depth=1100, min_samples_split=0.17957053503624698, n_estimators=1154;, score=0.766 total time=   5.6s\n",
      "[CV 10/10] END ccp_alpha=72060, learning_rate=0.14376790151380103, max_depth=1100, min_samples_split=0.17957053503624698, n_estimators=1154;, score=0.137 total time=   7.4s\n",
      "[CV 1/10] END ccp_alpha=76341, learning_rate=0.386671564469692, max_depth=1464, min_samples_split=0.9413238250919365, n_estimators=297;, score=0.858 total time=   0.2s\n",
      "[CV 2/10] END ccp_alpha=76341, learning_rate=0.386671564469692, max_depth=1464, min_samples_split=0.9413238250919365, n_estimators=297;, score=0.861 total time=   0.2s\n",
      "[CV 3/10] END ccp_alpha=76341, learning_rate=0.386671564469692, max_depth=1464, min_samples_split=0.9413238250919365, n_estimators=297;, score=0.803 total time=   0.2s\n",
      "[CV 4/10] END ccp_alpha=76341, learning_rate=0.386671564469692, max_depth=1464, min_samples_split=0.9413238250919365, n_estimators=297;, score=0.743 total time=   0.2s\n",
      "[CV 5/10] END ccp_alpha=76341, learning_rate=0.386671564469692, max_depth=1464, min_samples_split=0.9413238250919365, n_estimators=297;, score=0.876 total time=   0.2s\n",
      "[CV 6/10] END ccp_alpha=76341, learning_rate=0.386671564469692, max_depth=1464, min_samples_split=0.9413238250919365, n_estimators=297;, score=0.597 total time=   0.2s\n",
      "[CV 7/10] END ccp_alpha=76341, learning_rate=0.386671564469692, max_depth=1464, min_samples_split=0.9413238250919365, n_estimators=297;, score=0.865 total time=   0.2s\n",
      "[CV 8/10] END ccp_alpha=76341, learning_rate=0.386671564469692, max_depth=1464, min_samples_split=0.9413238250919365, n_estimators=297;, score=0.830 total time=   0.2s\n",
      "[CV 9/10] END ccp_alpha=76341, learning_rate=0.386671564469692, max_depth=1464, min_samples_split=0.9413238250919365, n_estimators=297;, score=0.762 total time=   0.2s\n",
      "[CV 10/10] END ccp_alpha=76341, learning_rate=0.386671564469692, max_depth=1464, min_samples_split=0.9413238250919365, n_estimators=297;, score=0.210 total time=   0.2s\n"
     ]
    },
    {
     "data": {
      "text/plain": [
       "0.7553125060445637"
      ]
     },
     "execution_count": 71,
     "metadata": {},
     "output_type": "execute_result"
    }
   ],
   "source": [
    "##### Gradient Boosting Regressor\n",
    "gbr_mdl = GradientBoostingRegressor(n_estimators= 500,\n",
    "                                    max_depth= 10,\n",
    "                                    min_samples_split= 10,\n",
    "                                    learning_rate = 0.2,\n",
    "                                    loss = \"squared_error\",\n",
    "                                    ccp_alpha = 100)\n",
    "\n",
    "\n",
    "gbr_dist = dict(n_estimators = randint(high=1500, low=50).rvs(size=300),\n",
    "                max_depth = randint(high=1500, low=3).rvs(size=300),\n",
    "                min_samples_split = uniform().rvs(size=1000),\n",
    "                learning_rate = uniform().rvs(size=1000),\n",
    "                ccp_alpha = randint(high=100000, low=1).rvs(size=1000))\n",
    "\n",
    "rscv_gbr = RandomizedSearchCV(gbr_mdl, gbr_dist, random_state=43, n_iter=30, verbose=3, cv=10)\n",
    "search_gbr = rscv_gbr.fit(scaled_X_train_df, y_train)\n",
    "\n",
    "best_params_gbr = search_gbr.best_params_\n",
    "search_gbr.best_score_\n"
   ]
  },
  {
   "cell_type": "code",
   "execution_count": 72,
   "metadata": {},
   "outputs": [
    {
     "data": {
      "application/vnd.plotly.v1+json": {
       "config": {
        "plotlyServerURL": "https://plot.ly"
       },
       "data": [
        {
         "hovertemplate": "x=%{x}<br>y=%{y}<extra></extra>",
         "legendgroup": "",
         "marker": {
          "color": "#636efa",
          "symbol": "circle"
         },
         "mode": "markers",
         "name": "",
         "orientation": "v",
         "showlegend": false,
         "type": "scatter",
         "x": [
          189950,
          180000,
          136500,
          160000,
          135000,
          240000,
          100000,
          169900,
          119500,
          240000,
          148000,
          305900,
          140000,
          110000,
          179200,
          99500,
          125000,
          61000,
          143000,
          140000,
          402000,
          93000,
          235000,
          248328,
          200624,
          380000,
          119000,
          132000,
          136500,
          112000,
          137500,
          81000,
          123000,
          157500,
          109500,
          179665,
          501837,
          190000,
          230000,
          149000,
          276000,
          170000,
          60000,
          132000,
          193879,
          104900,
          152000,
          194201,
          171000,
          200000,
          110000,
          152000,
          173000,
          485000,
          120000,
          135500,
          133900,
          245500,
          226000,
          181900,
          112000,
          108500,
          167500,
          410000,
          177500,
          199900,
          150900,
          310000,
          55993,
          369900,
          231500,
          156000,
          134800,
          140000,
          119900,
          196000,
          172000,
          244000,
          161750,
          132000,
          130500,
          180500,
          302000,
          202500,
          228000,
          140000,
          125000,
          174900,
          278000,
          165500,
          131500,
          212000,
          215000,
          466500,
          136000,
          130000,
          168000,
          225000,
          345000,
          138000,
          160000,
          52000,
          82500,
          165000,
          178400,
          177000,
          208900,
          119000,
          311872,
          164500,
          229456,
          240000,
          181000,
          242000,
          135000,
          131500,
          146000,
          210000,
          145000,
          179000,
          180000,
          161500,
          157000,
          155000,
          239000,
          126000,
          168000,
          226000,
          157900,
          118000,
          185000,
          383970,
          175000,
          187500,
          187500,
          290000,
          173733,
          315000,
          176000,
          313000,
          129900,
          194000,
          108000,
          234000,
          113000,
          286000,
          244600,
          315000,
          103000,
          68500,
          252000,
          128000,
          87000,
          122500,
          107900,
          236000,
          160000,
          106250,
          212000,
          124500,
          101800,
          175000,
          129500,
          131400,
          128000,
          187000,
          215000,
          100000,
          372500,
          318000,
          394432,
          137000,
          259500,
          142500,
          277500,
          76000,
          253293,
          170000,
          185000,
          227680,
          290000,
          173500,
          140000,
          124000,
          184000,
          145000,
          165000,
          96500,
          246578,
          156000,
          187750,
          465000,
          138500,
          230000,
          93500,
          114500,
          315000,
          232000,
          128950,
          175000,
          129000,
          115000,
          151000,
          174000,
          266000,
          180000,
          190000,
          91500,
          221500,
          424870,
          97500,
          115000,
          120500,
          287000,
          113000,
          158000,
          125000,
          110000,
          173000,
          340000,
          214000,
          115000,
          185850,
          274000,
          126175,
          112000,
          233230,
          204900,
          205000,
          113000,
          216000,
          215000,
          167500,
          207000,
          86000,
          90000,
          80000,
          97000,
          335000,
          375000,
          187500,
          250000,
          108000,
          184750,
          217500,
          206000,
          149900,
          230000,
          275000,
          181000,
          162000,
          175500,
          140000,
          240000,
          266000,
          187100,
          34900,
          126000,
          110000,
          145000,
          150000,
          163500,
          147000,
          336000,
          237500,
          188000,
          222000,
          87500,
          266500,
          75500,
          117000,
          160000,
          127000,
          306000,
          107500,
          132000,
          172400,
          67000,
          235000,
          153575,
          149500,
          239000,
          234000,
          88000,
          270000,
          197900,
          91000,
          196500,
          119200,
          115000,
          129500,
          272000,
          87000,
          348000,
          129500,
          139000,
          143000,
          324000,
          130000,
          625000,
          215200,
          154000,
          385000,
          158500,
          135500,
          392500,
          287000,
          88000,
          210000,
          134500,
          176432,
          193000,
          315750,
          204000,
          215000,
          176000,
          128500,
          262500,
          159434,
          244400,
          196500,
          185000,
          120500,
          84900,
          58500,
          171750,
          181000,
          132500,
          187500,
          205000,
          250000,
          190000,
          109000,
          129900,
          162900,
          191000,
          184900,
          97000,
          263435,
          167000,
          260000,
          173000,
          89500,
          197500,
          213500,
          85000,
          159500,
          151000,
          215000,
          92000,
          118000,
          159000,
          167000,
          275000,
          155000,
          154000,
          86000,
          135000,
          145000,
          204750,
          212900,
          140000,
          200000,
          72500,
          126000
         ],
         "xaxis": "x",
         "y": [
          143107.11578818137,
          190059.37568664696,
          153706.56398096101,
          160345.64683965364,
          196394.35629812878,
          262210.9108449558,
          82119.2491778255,
          117245.9907581751,
          113393.7665099241,
          297492.8356047147,
          148980.8762744485,
          332522.4757400256,
          111823.43104121549,
          139100.93228585107,
          225499.52046883124,
          134617.43730883815,
          124287.66959333871,
          81819.8403037442,
          136874.80129835516,
          147798.99731524297,
          305659.9757296485,
          123334.1955992018,
          238060.14329866058,
          274468.5772152176,
          423109.24515067943,
          409450.40310971864,
          116445.58534785308,
          120375.56924199098,
          143709.9160415477,
          116928.7695223339,
          124448.0571927984,
          175229.0222044178,
          131135.00166699212,
          159084.654501887,
          118066.48891175525,
          186206.41264816886,
          402962.7280548254,
          244513.88604952916,
          247701.39034678013,
          146706.2949289413,
          358095.8730810903,
          172619.29402199393,
          72340.38248014386,
          132706.1570056154,
          178369.55746509877,
          139857.14028191895,
          172814.2124975976,
          180455.57682800863,
          160383.43828145927,
          276747.54114200006,
          120833.25563198935,
          147669.29173190892,
          190804.20047376578,
          463121.16444298695,
          129170.42925631967,
          121463.91796968014,
          119742.59358654634,
          178778.07930163725,
          209459.5453861295,
          168294.9302224871,
          112199.49728385187,
          97820.2296142996,
          141172.45337604164,
          414182.4725038501,
          178047.271641448,
          209486.3888676584,
          158499.64158595007,
          268510.4176613588,
          113771.44224472236,
          371727.57760101964,
          206050.79652300072,
          139104.15624991298,
          136383.4225685123,
          157349.54035149497,
          118944.80273409109,
          185773.63102072245,
          183172.11565304355,
          240269.98260044772,
          128066.22098430968,
          127135.34092935892,
          130177.10212231555,
          163847.33620419138,
          376223.8587910203,
          183343.60702992586,
          263457.338363582,
          133990.87375812753,
          147967.89436624237,
          139435.83160281598,
          413042.377736532,
          152447.3193984369,
          134190.02062667845,
          200449.92781247885,
          214392.5286539904,
          487218.5379833131,
          128143.03195890188,
          183515.11515741935,
          178103.094905811,
          200519.18753275293,
          395818.18031842535,
          160814.86752156753,
          119122.03184142224,
          73763.40911052008,
          74011.34496696111,
          151815.43794987613,
          133348.38430995014,
          178352.48012294693,
          196841.50109905086,
          83791.83604411862,
          250460.84530647696,
          164454.26000418817,
          223231.2976904936,
          238339.21198260595,
          156421.98024035944,
          404389.19336728123,
          91093.72215957328,
          147798.99731524297,
          161542.613171,
          153569.34512183527,
          112896.98054910477,
          202846.4509712081,
          198374.7937632239,
          176686.12768346953,
          147964.2419866411,
          129983.95604457382,
          291233.7377346214,
          141466.49211787753,
          202657.30118427,
          234364.54313968538,
          134813.9925592904,
          111620.5096396226,
          194362.2719051969,
          397439.19298823684,
          185391.32044759687,
          159373.0748127379,
          175312.8202664562,
          226033.23704302814,
          164454.26000418817,
          304048.33942528046,
          176321.0292791007,
          284139.79251472355,
          152043.44349715757,
          188416.91481668633,
          120408.02224441181,
          199311.93546858238,
          119105.54393431808,
          243234.2298213682,
          253046.64457034235,
          378652.91358738166,
          126119.48226954057,
          65062.64302430112,
          328024.63433602033,
          140810.50180647834,
          81549.05390690923,
          116172.29395798816,
          126181.67161120275,
          228875.22312015697,
          174081.58234288648,
          72937.90647097203,
          211841.7642790675,
          128666.30773229073,
          102550.68969723603,
          217285.29573014897,
          113748.20625243854,
          122284.06998941551,
          123428.99606185112,
          204674.6471342347,
          220628.11707165558,
          128683.24288510822,
          390935.3395637471,
          244409.87558478286,
          284837.17714645155,
          171527.95367432985,
          248729.31001272413,
          167485.1789313997,
          219980.99600507744,
          100681.96646881357,
          399682.8575241424,
          168548.30828137923,
          211156.87278948625,
          231111.2055088576,
          284773.5890543777,
          179721.97258301303,
          143814.2555263172,
          115754.92280617755,
          156071.97794896777,
          165208.06874324664,
          141523.39990613874,
          95610.6835846879,
          239443.2295978971,
          133477.26455669192,
          198466.39304007727,
          398348.82066930336,
          130727.1164713554,
          209063.4678398626,
          94339.88904304121,
          119888.94040128704,
          269065.59073542827,
          214047.15240602643,
          100482.54161375223,
          184203.58257128828,
          119888.94040128704,
          100859.45975700328,
          136828.11104522357,
          168095.7425058678,
          308421.1278894835,
          198065.44163479426,
          234382.80069762707,
          139051.23242487395,
          270260.09345323953,
          436502.40135026636,
          137318.287779512,
          155785.6589086157,
          118482.88857676688,
          273265.4269232251,
          136027.84888596096,
          123265.10309697119,
          117211.85808872916,
          126301.61418510598,
          191767.9602827418,
          297894.7313450045,
          241459.52791507464,
          111853.35164456522,
          192582.64134845027,
          223511.50970141092,
          139778.10484351433,
          113180.61566827213,
          252462.36718358874,
          250555.1227325592,
          244191.59360712493,
          119628.65210538874,
          197996.24744899076,
          214801.5439339794,
          150569.09204582684,
          194438.65431678467,
          80495.84000310987,
          165739.05750152664,
          95106.27480470709,
          129011.03912498424,
          242793.26363462175,
          224768.22505626627,
          216021.4623485787,
          243726.14241588776,
          134086.63259030183,
          749872.1476858978,
          194792.99668631656,
          187407.45484072258,
          173253.99003536953,
          222963.41857960392,
          283830.41371346026,
          185657.43416478735,
          128873.13066247209,
          144815.23423952094,
          112615.60777547429,
          286125.90281448147,
          251972.06909597007,
          207010.25341167283,
          70784.69038827073,
          154266.61909871013,
          119888.94040128704,
          147837.89233022783,
          148623.63156402766,
          173134.99315427727,
          144116.74319183404,
          301813.1408996936,
          205134.14450198965,
          158499.64158595007,
          207297.1499293401,
          94339.88904304121,
          259465.04457024884,
          75078.94640085202,
          136907.6331902439,
          141172.45337604164,
          138261.98352542424,
          331434.26523893885,
          155697.84683713847,
          124323.10377977416,
          191222.98211164022,
          73009.22892238556,
          246501.47733247082,
          123490.1941611977,
          168682.7160761083,
          261908.30444387873,
          197242.3567659117,
          99720.92066988106,
          403606.8191652213,
          166090.75009136126,
          80887.14727731647,
          171003.6445806916,
          124009.01436379239,
          119888.94040128704,
          125989.22541973286,
          332705.25845785387,
          135655.7742906312,
          282033.9107527094,
          145305.9458300325,
          133020.28890532022,
          153867.52827369887,
          250341.19596053913,
          119888.94040128704,
          572745.9363314686,
          187933.47765309794,
          148581.6147544407,
          202155.02730892232,
          144639.24493252885,
          128350.32317154147,
          296504.2089473317,
          349031.2255736538,
          99720.92066988106,
          212813.22875522304,
          120674.09432171004,
          188913.48433988995,
          240681.12557954068,
          276560.3914861126,
          225171.14895764412,
          229010.63572303028,
          176266.29122178303,
          118574.4824489749,
          231376.88362911384,
          160459.9174239074,
          198963.79604444027,
          183330.09616260426,
          179159.44733399313,
          126895.82936142845,
          100218.75982252505,
          87732.76522975699,
          187942.04786263997,
          194567.91593094854,
          125698.92623655067,
          182127.75428053556,
          139067.6836345493,
          241323.88633057254,
          213312.57304001003,
          143536.7248898928,
          161510.33689506186,
          148052.85609460872,
          195173.54394471954,
          178962.37177508828,
          93542.64708829884,
          240727.28362224536,
          202749.47208631694,
          247617.3301663765,
          183133.99209398695,
          96710.90292695252,
          180804.6851999617,
          201866.42992334822,
          69384.0446289971,
          201173.7609101035,
          133956.10117134213,
          195090.0437408849,
          75078.94640085202,
          135318.5534980272,
          150557.74266955518,
          144815.23423952094,
          236392.47695791934,
          164321.78184081585,
          144939.37140736423,
          108552.49165740138,
          113877.57521132132,
          223972.0328803839,
          219396.18409651602,
          242133.83195877785,
          134959.45135654986,
          196974.37460007003,
          81157.8563695028,
          110263.39788710512
         ],
         "yaxis": "y"
        }
       ],
       "layout": {
        "legend": {
         "tracegroupgap": 0
        },
        "margin": {
         "t": 60
        },
        "template": {
         "data": {
          "bar": [
           {
            "error_x": {
             "color": "#2a3f5f"
            },
            "error_y": {
             "color": "#2a3f5f"
            },
            "marker": {
             "line": {
              "color": "#E5ECF6",
              "width": 0.5
             },
             "pattern": {
              "fillmode": "overlay",
              "size": 10,
              "solidity": 0.2
             }
            },
            "type": "bar"
           }
          ],
          "barpolar": [
           {
            "marker": {
             "line": {
              "color": "#E5ECF6",
              "width": 0.5
             },
             "pattern": {
              "fillmode": "overlay",
              "size": 10,
              "solidity": 0.2
             }
            },
            "type": "barpolar"
           }
          ],
          "carpet": [
           {
            "aaxis": {
             "endlinecolor": "#2a3f5f",
             "gridcolor": "white",
             "linecolor": "white",
             "minorgridcolor": "white",
             "startlinecolor": "#2a3f5f"
            },
            "baxis": {
             "endlinecolor": "#2a3f5f",
             "gridcolor": "white",
             "linecolor": "white",
             "minorgridcolor": "white",
             "startlinecolor": "#2a3f5f"
            },
            "type": "carpet"
           }
          ],
          "choropleth": [
           {
            "colorbar": {
             "outlinewidth": 0,
             "ticks": ""
            },
            "type": "choropleth"
           }
          ],
          "contour": [
           {
            "colorbar": {
             "outlinewidth": 0,
             "ticks": ""
            },
            "colorscale": [
             [
              0,
              "#0d0887"
             ],
             [
              0.1111111111111111,
              "#46039f"
             ],
             [
              0.2222222222222222,
              "#7201a8"
             ],
             [
              0.3333333333333333,
              "#9c179e"
             ],
             [
              0.4444444444444444,
              "#bd3786"
             ],
             [
              0.5555555555555556,
              "#d8576b"
             ],
             [
              0.6666666666666666,
              "#ed7953"
             ],
             [
              0.7777777777777778,
              "#fb9f3a"
             ],
             [
              0.8888888888888888,
              "#fdca26"
             ],
             [
              1,
              "#f0f921"
             ]
            ],
            "type": "contour"
           }
          ],
          "contourcarpet": [
           {
            "colorbar": {
             "outlinewidth": 0,
             "ticks": ""
            },
            "type": "contourcarpet"
           }
          ],
          "heatmap": [
           {
            "colorbar": {
             "outlinewidth": 0,
             "ticks": ""
            },
            "colorscale": [
             [
              0,
              "#0d0887"
             ],
             [
              0.1111111111111111,
              "#46039f"
             ],
             [
              0.2222222222222222,
              "#7201a8"
             ],
             [
              0.3333333333333333,
              "#9c179e"
             ],
             [
              0.4444444444444444,
              "#bd3786"
             ],
             [
              0.5555555555555556,
              "#d8576b"
             ],
             [
              0.6666666666666666,
              "#ed7953"
             ],
             [
              0.7777777777777778,
              "#fb9f3a"
             ],
             [
              0.8888888888888888,
              "#fdca26"
             ],
             [
              1,
              "#f0f921"
             ]
            ],
            "type": "heatmap"
           }
          ],
          "heatmapgl": [
           {
            "colorbar": {
             "outlinewidth": 0,
             "ticks": ""
            },
            "colorscale": [
             [
              0,
              "#0d0887"
             ],
             [
              0.1111111111111111,
              "#46039f"
             ],
             [
              0.2222222222222222,
              "#7201a8"
             ],
             [
              0.3333333333333333,
              "#9c179e"
             ],
             [
              0.4444444444444444,
              "#bd3786"
             ],
             [
              0.5555555555555556,
              "#d8576b"
             ],
             [
              0.6666666666666666,
              "#ed7953"
             ],
             [
              0.7777777777777778,
              "#fb9f3a"
             ],
             [
              0.8888888888888888,
              "#fdca26"
             ],
             [
              1,
              "#f0f921"
             ]
            ],
            "type": "heatmapgl"
           }
          ],
          "histogram": [
           {
            "marker": {
             "pattern": {
              "fillmode": "overlay",
              "size": 10,
              "solidity": 0.2
             }
            },
            "type": "histogram"
           }
          ],
          "histogram2d": [
           {
            "colorbar": {
             "outlinewidth": 0,
             "ticks": ""
            },
            "colorscale": [
             [
              0,
              "#0d0887"
             ],
             [
              0.1111111111111111,
              "#46039f"
             ],
             [
              0.2222222222222222,
              "#7201a8"
             ],
             [
              0.3333333333333333,
              "#9c179e"
             ],
             [
              0.4444444444444444,
              "#bd3786"
             ],
             [
              0.5555555555555556,
              "#d8576b"
             ],
             [
              0.6666666666666666,
              "#ed7953"
             ],
             [
              0.7777777777777778,
              "#fb9f3a"
             ],
             [
              0.8888888888888888,
              "#fdca26"
             ],
             [
              1,
              "#f0f921"
             ]
            ],
            "type": "histogram2d"
           }
          ],
          "histogram2dcontour": [
           {
            "colorbar": {
             "outlinewidth": 0,
             "ticks": ""
            },
            "colorscale": [
             [
              0,
              "#0d0887"
             ],
             [
              0.1111111111111111,
              "#46039f"
             ],
             [
              0.2222222222222222,
              "#7201a8"
             ],
             [
              0.3333333333333333,
              "#9c179e"
             ],
             [
              0.4444444444444444,
              "#bd3786"
             ],
             [
              0.5555555555555556,
              "#d8576b"
             ],
             [
              0.6666666666666666,
              "#ed7953"
             ],
             [
              0.7777777777777778,
              "#fb9f3a"
             ],
             [
              0.8888888888888888,
              "#fdca26"
             ],
             [
              1,
              "#f0f921"
             ]
            ],
            "type": "histogram2dcontour"
           }
          ],
          "mesh3d": [
           {
            "colorbar": {
             "outlinewidth": 0,
             "ticks": ""
            },
            "type": "mesh3d"
           }
          ],
          "parcoords": [
           {
            "line": {
             "colorbar": {
              "outlinewidth": 0,
              "ticks": ""
             }
            },
            "type": "parcoords"
           }
          ],
          "pie": [
           {
            "automargin": true,
            "type": "pie"
           }
          ],
          "scatter": [
           {
            "fillpattern": {
             "fillmode": "overlay",
             "size": 10,
             "solidity": 0.2
            },
            "type": "scatter"
           }
          ],
          "scatter3d": [
           {
            "line": {
             "colorbar": {
              "outlinewidth": 0,
              "ticks": ""
             }
            },
            "marker": {
             "colorbar": {
              "outlinewidth": 0,
              "ticks": ""
             }
            },
            "type": "scatter3d"
           }
          ],
          "scattercarpet": [
           {
            "marker": {
             "colorbar": {
              "outlinewidth": 0,
              "ticks": ""
             }
            },
            "type": "scattercarpet"
           }
          ],
          "scattergeo": [
           {
            "marker": {
             "colorbar": {
              "outlinewidth": 0,
              "ticks": ""
             }
            },
            "type": "scattergeo"
           }
          ],
          "scattergl": [
           {
            "marker": {
             "colorbar": {
              "outlinewidth": 0,
              "ticks": ""
             }
            },
            "type": "scattergl"
           }
          ],
          "scattermapbox": [
           {
            "marker": {
             "colorbar": {
              "outlinewidth": 0,
              "ticks": ""
             }
            },
            "type": "scattermapbox"
           }
          ],
          "scatterpolar": [
           {
            "marker": {
             "colorbar": {
              "outlinewidth": 0,
              "ticks": ""
             }
            },
            "type": "scatterpolar"
           }
          ],
          "scatterpolargl": [
           {
            "marker": {
             "colorbar": {
              "outlinewidth": 0,
              "ticks": ""
             }
            },
            "type": "scatterpolargl"
           }
          ],
          "scatterternary": [
           {
            "marker": {
             "colorbar": {
              "outlinewidth": 0,
              "ticks": ""
             }
            },
            "type": "scatterternary"
           }
          ],
          "surface": [
           {
            "colorbar": {
             "outlinewidth": 0,
             "ticks": ""
            },
            "colorscale": [
             [
              0,
              "#0d0887"
             ],
             [
              0.1111111111111111,
              "#46039f"
             ],
             [
              0.2222222222222222,
              "#7201a8"
             ],
             [
              0.3333333333333333,
              "#9c179e"
             ],
             [
              0.4444444444444444,
              "#bd3786"
             ],
             [
              0.5555555555555556,
              "#d8576b"
             ],
             [
              0.6666666666666666,
              "#ed7953"
             ],
             [
              0.7777777777777778,
              "#fb9f3a"
             ],
             [
              0.8888888888888888,
              "#fdca26"
             ],
             [
              1,
              "#f0f921"
             ]
            ],
            "type": "surface"
           }
          ],
          "table": [
           {
            "cells": {
             "fill": {
              "color": "#EBF0F8"
             },
             "line": {
              "color": "white"
             }
            },
            "header": {
             "fill": {
              "color": "#C8D4E3"
             },
             "line": {
              "color": "white"
             }
            },
            "type": "table"
           }
          ]
         },
         "layout": {
          "annotationdefaults": {
           "arrowcolor": "#2a3f5f",
           "arrowhead": 0,
           "arrowwidth": 1
          },
          "autotypenumbers": "strict",
          "coloraxis": {
           "colorbar": {
            "outlinewidth": 0,
            "ticks": ""
           }
          },
          "colorscale": {
           "diverging": [
            [
             0,
             "#8e0152"
            ],
            [
             0.1,
             "#c51b7d"
            ],
            [
             0.2,
             "#de77ae"
            ],
            [
             0.3,
             "#f1b6da"
            ],
            [
             0.4,
             "#fde0ef"
            ],
            [
             0.5,
             "#f7f7f7"
            ],
            [
             0.6,
             "#e6f5d0"
            ],
            [
             0.7,
             "#b8e186"
            ],
            [
             0.8,
             "#7fbc41"
            ],
            [
             0.9,
             "#4d9221"
            ],
            [
             1,
             "#276419"
            ]
           ],
           "sequential": [
            [
             0,
             "#0d0887"
            ],
            [
             0.1111111111111111,
             "#46039f"
            ],
            [
             0.2222222222222222,
             "#7201a8"
            ],
            [
             0.3333333333333333,
             "#9c179e"
            ],
            [
             0.4444444444444444,
             "#bd3786"
            ],
            [
             0.5555555555555556,
             "#d8576b"
            ],
            [
             0.6666666666666666,
             "#ed7953"
            ],
            [
             0.7777777777777778,
             "#fb9f3a"
            ],
            [
             0.8888888888888888,
             "#fdca26"
            ],
            [
             1,
             "#f0f921"
            ]
           ],
           "sequentialminus": [
            [
             0,
             "#0d0887"
            ],
            [
             0.1111111111111111,
             "#46039f"
            ],
            [
             0.2222222222222222,
             "#7201a8"
            ],
            [
             0.3333333333333333,
             "#9c179e"
            ],
            [
             0.4444444444444444,
             "#bd3786"
            ],
            [
             0.5555555555555556,
             "#d8576b"
            ],
            [
             0.6666666666666666,
             "#ed7953"
            ],
            [
             0.7777777777777778,
             "#fb9f3a"
            ],
            [
             0.8888888888888888,
             "#fdca26"
            ],
            [
             1,
             "#f0f921"
            ]
           ]
          },
          "colorway": [
           "#636efa",
           "#EF553B",
           "#00cc96",
           "#ab63fa",
           "#FFA15A",
           "#19d3f3",
           "#FF6692",
           "#B6E880",
           "#FF97FF",
           "#FECB52"
          ],
          "font": {
           "color": "#2a3f5f"
          },
          "geo": {
           "bgcolor": "white",
           "lakecolor": "white",
           "landcolor": "#E5ECF6",
           "showlakes": true,
           "showland": true,
           "subunitcolor": "white"
          },
          "hoverlabel": {
           "align": "left"
          },
          "hovermode": "closest",
          "mapbox": {
           "style": "light"
          },
          "paper_bgcolor": "white",
          "plot_bgcolor": "#E5ECF6",
          "polar": {
           "angularaxis": {
            "gridcolor": "white",
            "linecolor": "white",
            "ticks": ""
           },
           "bgcolor": "#E5ECF6",
           "radialaxis": {
            "gridcolor": "white",
            "linecolor": "white",
            "ticks": ""
           }
          },
          "scene": {
           "xaxis": {
            "backgroundcolor": "#E5ECF6",
            "gridcolor": "white",
            "gridwidth": 2,
            "linecolor": "white",
            "showbackground": true,
            "ticks": "",
            "zerolinecolor": "white"
           },
           "yaxis": {
            "backgroundcolor": "#E5ECF6",
            "gridcolor": "white",
            "gridwidth": 2,
            "linecolor": "white",
            "showbackground": true,
            "ticks": "",
            "zerolinecolor": "white"
           },
           "zaxis": {
            "backgroundcolor": "#E5ECF6",
            "gridcolor": "white",
            "gridwidth": 2,
            "linecolor": "white",
            "showbackground": true,
            "ticks": "",
            "zerolinecolor": "white"
           }
          },
          "shapedefaults": {
           "line": {
            "color": "#2a3f5f"
           }
          },
          "ternary": {
           "aaxis": {
            "gridcolor": "white",
            "linecolor": "white",
            "ticks": ""
           },
           "baxis": {
            "gridcolor": "white",
            "linecolor": "white",
            "ticks": ""
           },
           "bgcolor": "#E5ECF6",
           "caxis": {
            "gridcolor": "white",
            "linecolor": "white",
            "ticks": ""
           }
          },
          "title": {
           "x": 0.05
          },
          "xaxis": {
           "automargin": true,
           "gridcolor": "white",
           "linecolor": "white",
           "ticks": "",
           "title": {
            "standoff": 15
           },
           "zerolinecolor": "white",
           "zerolinewidth": 2
          },
          "yaxis": {
           "automargin": true,
           "gridcolor": "white",
           "linecolor": "white",
           "ticks": "",
           "title": {
            "standoff": 15
           },
           "zerolinecolor": "white",
           "zerolinewidth": 2
          }
         }
        },
        "title": {
         "text": "Predicted Sale Price vs. Actual Sale Price"
        },
        "xaxis": {
         "anchor": "y",
         "domain": [
          0,
          1
         ],
         "title": {
          "text": "Actual Sale Price"
         }
        },
        "yaxis": {
         "anchor": "x",
         "domain": [
          0,
          1
         ],
         "title": {
          "text": "Predicted Sale Price"
         }
        }
       }
      }
     },
     "metadata": {},
     "output_type": "display_data"
    },
    {
     "name": "stdout",
     "output_type": "stream",
     "text": [
      "Testing score: 0.6571597701988448\n"
     ]
    }
   ],
   "source": [
    "final_gbr_mdl = GradientBoostingRegressor(n_estimators= best_params_gbr[\"n_estimators\"],\n",
    "                                          max_depth= best_params_gbr[\"max_depth\"],\n",
    "                                          min_samples_split= best_params_gbr[\"min_samples_split\"],\n",
    "                                          learning_rate = best_params_gbr[\"learning_rate\"], \n",
    "                                          loss = \"squared_error\",\n",
    "                                          ccp_alpha = best_params_gbr[\"ccp_alpha\"])\n",
    "final_gbr_mdl.fit(scaled_X_train_df, y_train)\n",
    "\n",
    "fig_6a = px.scatter(x=y_test, y=final_gbr_mdl.predict(X_test))\n",
    "\n",
    "fig_6a.update_xaxes(title_text=\"Actual Sale Price\")\n",
    "fig_6a.update_yaxes(title_text=\"Predicted Sale Price\")\n",
    "fig_6a.update_layout(title_text=\"Predicted Sale Price vs. Actual Sale Price\")\n",
    "fig_6a.show()\n",
    "\n",
    "\n",
    "print(f\"Testing score: {final_gbr_mdl.score(scaled_X_test_df, y_test)}\")"
   ]
  },
  {
   "cell_type": "markdown",
   "metadata": {},
   "source": [
    "3 models were used for prediction: linear regression, random forest regression, and gradient boosting regression. The score for each model is 0.7276, 0.7865, and 0.6571, respectively. Based on this, random forest regression perform the best among the 3 models. Thus, random forest model was used to make prediction for the testing set."
   ]
  },
  {
   "cell_type": "markdown",
   "metadata": {},
   "source": [
    "----\n",
    "# <center>Testing Set </center>\n",
    "----"
   ]
  },
  {
   "cell_type": "markdown",
   "metadata": {},
   "source": [
    "The following testing set was obtained as part of the House Prices -- Advance Regression Techniques competition on Kaggle. Random Forest Regression was selected to be used to predict the house prices based on the selected features. The predicted house price was then submitted to Kaggle for evaluation."
   ]
  },
  {
   "cell_type": "code",
   "execution_count": 74,
   "metadata": {},
   "outputs": [
    {
     "data": {
      "text/html": [
       "<div>\n",
       "<style scoped>\n",
       "    .dataframe tbody tr th:only-of-type {\n",
       "        vertical-align: middle;\n",
       "    }\n",
       "\n",
       "    .dataframe tbody tr th {\n",
       "        vertical-align: top;\n",
       "    }\n",
       "\n",
       "    .dataframe thead th {\n",
       "        text-align: right;\n",
       "    }\n",
       "</style>\n",
       "<table border=\"1\" class=\"dataframe\">\n",
       "  <thead>\n",
       "    <tr style=\"text-align: right;\">\n",
       "      <th></th>\n",
       "      <th>gr_liv_area</th>\n",
       "      <th>garage_area</th>\n",
       "      <th>total_bsmt_sf</th>\n",
       "      <th>1st_flr_sf</th>\n",
       "      <th>year_remod_add</th>\n",
       "      <th>age_sold</th>\n",
       "      <th>scaled_remod</th>\n",
       "    </tr>\n",
       "  </thead>\n",
       "  <tbody>\n",
       "    <tr>\n",
       "      <th>0</th>\n",
       "      <td>-1.200982</td>\n",
       "      <td>1.256298</td>\n",
       "      <td>-0.390798</td>\n",
       "      <td>-0.692292</td>\n",
       "      <td>-1.157308</td>\n",
       "      <td>0.400682</td>\n",
       "      <td>-0.720098</td>\n",
       "    </tr>\n",
       "    <tr>\n",
       "      <th>1</th>\n",
       "      <td>-0.358465</td>\n",
       "      <td>-0.747159</td>\n",
       "      <td>0.624051</td>\n",
       "      <td>0.441838</td>\n",
       "      <td>-1.302814</td>\n",
       "      <td>0.499662</td>\n",
       "      <td>-0.720098</td>\n",
       "    </tr>\n",
       "    <tr>\n",
       "      <th>2</th>\n",
       "      <td>0.225265</td>\n",
       "      <td>0.067644</td>\n",
       "      <td>-0.286361</td>\n",
       "      <td>-0.608477</td>\n",
       "      <td>0.637255</td>\n",
       "      <td>-0.787075</td>\n",
       "      <td>-0.507570</td>\n",
       "    </tr>\n",
       "    <tr>\n",
       "      <th>3</th>\n",
       "      <td>0.176620</td>\n",
       "      <td>0.010129</td>\n",
       "      <td>-0.290902</td>\n",
       "      <td>-0.613715</td>\n",
       "      <td>0.637255</td>\n",
       "      <td>-0.820069</td>\n",
       "      <td>-0.720098</td>\n",
       "    </tr>\n",
       "    <tr>\n",
       "      <th>4</th>\n",
       "      <td>-0.453808</td>\n",
       "      <td>0.182675</td>\n",
       "      <td>0.512804</td>\n",
       "      <td>0.313495</td>\n",
       "      <td>0.346245</td>\n",
       "      <td>-0.622109</td>\n",
       "      <td>-0.720098</td>\n",
       "    </tr>\n",
       "    <tr>\n",
       "      <th>...</th>\n",
       "      <td>...</td>\n",
       "      <td>...</td>\n",
       "      <td>...</td>\n",
       "      <td>...</td>\n",
       "      <td>...</td>\n",
       "      <td>...</td>\n",
       "      <td>...</td>\n",
       "    </tr>\n",
       "    <tr>\n",
       "      <th>1454</th>\n",
       "      <td>-0.819612</td>\n",
       "      <td>-2.242562</td>\n",
       "      <td>-1.153637</td>\n",
       "      <td>-1.609026</td>\n",
       "      <td>-0.720793</td>\n",
       "      <td>-0.028230</td>\n",
       "      <td>-0.720098</td>\n",
       "    </tr>\n",
       "    <tr>\n",
       "      <th>1455</th>\n",
       "      <td>-0.819612</td>\n",
       "      <td>-0.871776</td>\n",
       "      <td>-1.153637</td>\n",
       "      <td>-1.609026</td>\n",
       "      <td>-0.720793</td>\n",
       "      <td>-0.028230</td>\n",
       "      <td>-0.720098</td>\n",
       "    </tr>\n",
       "    <tr>\n",
       "      <th>1456</th>\n",
       "      <td>-0.562771</td>\n",
       "      <td>0.518182</td>\n",
       "      <td>0.385664</td>\n",
       "      <td>0.166818</td>\n",
       "      <td>0.540251</td>\n",
       "      <td>0.301703</td>\n",
       "      <td>1.442147</td>\n",
       "    </tr>\n",
       "    <tr>\n",
       "      <th>1457</th>\n",
       "      <td>-1.056995</td>\n",
       "      <td>-2.242562</td>\n",
       "      <td>-0.322687</td>\n",
       "      <td>-0.498469</td>\n",
       "      <td>0.346245</td>\n",
       "      <td>-0.754082</td>\n",
       "      <td>-0.720098</td>\n",
       "    </tr>\n",
       "    <tr>\n",
       "      <th>1458</th>\n",
       "      <td>0.947144</td>\n",
       "      <td>0.872861</td>\n",
       "      <td>-0.131977</td>\n",
       "      <td>-0.430368</td>\n",
       "      <td>0.443248</td>\n",
       "      <td>-0.787075</td>\n",
       "      <td>-0.507570</td>\n",
       "    </tr>\n",
       "  </tbody>\n",
       "</table>\n",
       "<p>1459 rows × 7 columns</p>\n",
       "</div>"
      ],
      "text/plain": [
       "      gr_liv_area  garage_area  total_bsmt_sf  1st_flr_sf  year_remod_add  \\\n",
       "0       -1.200982     1.256298      -0.390798   -0.692292       -1.157308   \n",
       "1       -0.358465    -0.747159       0.624051    0.441838       -1.302814   \n",
       "2        0.225265     0.067644      -0.286361   -0.608477        0.637255   \n",
       "3        0.176620     0.010129      -0.290902   -0.613715        0.637255   \n",
       "4       -0.453808     0.182675       0.512804    0.313495        0.346245   \n",
       "...           ...          ...            ...         ...             ...   \n",
       "1454    -0.819612    -2.242562      -1.153637   -1.609026       -0.720793   \n",
       "1455    -0.819612    -0.871776      -1.153637   -1.609026       -0.720793   \n",
       "1456    -0.562771     0.518182       0.385664    0.166818        0.540251   \n",
       "1457    -1.056995    -2.242562      -0.322687   -0.498469        0.346245   \n",
       "1458     0.947144     0.872861      -0.131977   -0.430368        0.443248   \n",
       "\n",
       "      age_sold  scaled_remod  \n",
       "0     0.400682     -0.720098  \n",
       "1     0.499662     -0.720098  \n",
       "2    -0.787075     -0.507570  \n",
       "3    -0.820069     -0.720098  \n",
       "4    -0.622109     -0.720098  \n",
       "...        ...           ...  \n",
       "1454 -0.028230     -0.720098  \n",
       "1455 -0.028230     -0.720098  \n",
       "1456  0.301703      1.442147  \n",
       "1457 -0.754082     -0.720098  \n",
       "1458 -0.787075     -0.507570  \n",
       "\n",
       "[1459 rows x 7 columns]"
      ]
     },
     "execution_count": 74,
     "metadata": {},
     "output_type": "execute_result"
    }
   ],
   "source": [
    "house_testing_set = pd.read_csv(\"house_price_test.csv\")\n",
    "house_testing_set.columns = [infl.underscore(val) for val in house_testing_set.columns]\n",
    "\n",
    "id_col = house_testing_set[\"id\"]\n",
    "\n",
    "coi_testing = [\"gr_liv_area\", \"garage_area\", \"total_bsmt_sf\", \"1st_flr_sf\", \"year_built\", \n",
    "                \"yr_sold\", \"year_remod_add\", \"mo_sold\"]\n",
    "\n",
    "house_testing_set = house_testing_set[coi_testing]\n",
    "\n",
    "##### Feature engineering\n",
    "house_testing_set[\"age_sold\"] = house_testing_set[\"yr_sold\"] - house_testing_set[\"year_built\"]\n",
    "house_testing_set.loc[house_testing_set[\"age_sold\"]==0, \"age_sold\"] = house_testing_set.loc[house_testing_set[\"age_sold\"]==0, \"mo_sold\"]/12\n",
    "house_testing_set[\"scaled_remod\"] = (house_testing_set[\"year_remod_add\"] - house_testing_set[\"year_built\"])/house_testing_set[\"age_sold\"]\n",
    "\n",
    "##### Drop unnecessary columns\n",
    "house_testing_set = house_testing_set.drop(columns=[\"year_built\", \"yr_sold\", \"mo_sold\"])\n",
    "\n",
    "##### fillna\n",
    "house_testing_set = house_testing_set.fillna(0)\n",
    "\n",
    "##### transform values\n",
    "scaled_testing_set = std_scaler.transform(house_testing_set)\n",
    "\n",
    "##### recreate dataframe after scaling and encoding\n",
    "house_testing_set = pd.DataFrame(data=scaled_testing_set, columns=std_scaler.feature_names_in_)\n",
    "\n",
    "house_testing_set"
   ]
  },
  {
   "cell_type": "code",
   "execution_count": 75,
   "metadata": {},
   "outputs": [],
   "source": [
    "prediction = final_rfr_mdl.predict(house_testing_set)\n",
    "\n",
    "submission = pd.DataFrame(list(zip(id_col, prediction)), columns=[\"Id\", \"SalePrice\"])\n",
    "submission.to_csv(\"submission_house.csv\", index=False)"
   ]
  },
  {
   "cell_type": "markdown",
   "metadata": {},
   "source": [
    "The submission_house.csv was submitted to the page on Kaggle to receive the final score."
   ]
  },
  {
   "cell_type": "markdown",
   "metadata": {},
   "source": [
    "----\n",
    "# <center>Regression Analysis </center>\n",
    "----\n",
    "\n",
    "This part is used to investigate the performance of the model built above."
   ]
  },
  {
   "cell_type": "code",
   "execution_count": 79,
   "metadata": {},
   "outputs": [
    {
     "data": {
      "application/vnd.plotly.v1+json": {
       "config": {
        "plotlyServerURL": "https://plot.ly"
       },
       "data": [
        {
         "hovertemplate": "x=%{x}<br>y=%{y}<extra></extra>",
         "legendgroup": "",
         "marker": {
          "color": "#636efa",
          "symbol": "circle"
         },
         "mode": "markers",
         "name": "",
         "orientation": "v",
         "showlegend": false,
         "type": "scatter",
         "x": [
          189950,
          180000,
          136500,
          160000,
          135000,
          240000,
          100000,
          169900,
          119500,
          240000,
          148000,
          305900,
          140000,
          110000,
          179200,
          99500,
          125000,
          61000,
          143000,
          140000,
          402000,
          93000,
          235000,
          248328,
          200624,
          380000,
          119000,
          132000,
          136500,
          112000,
          137500,
          81000,
          123000,
          157500,
          109500,
          179665,
          501837,
          190000,
          230000,
          149000,
          276000,
          170000,
          60000,
          132000,
          193879,
          104900,
          152000,
          194201,
          171000,
          200000,
          110000,
          152000,
          173000,
          485000,
          120000,
          135500,
          133900,
          245500,
          226000,
          181900,
          112000,
          108500,
          167500,
          410000,
          177500,
          199900,
          150900,
          310000,
          55993,
          369900,
          231500,
          156000,
          134800,
          140000,
          119900,
          196000,
          172000,
          244000,
          161750,
          132000,
          130500,
          180500,
          302000,
          202500,
          228000,
          140000,
          125000,
          174900,
          278000,
          165500,
          131500,
          212000,
          215000,
          466500,
          136000,
          130000,
          168000,
          225000,
          345000,
          138000,
          160000,
          52000,
          82500,
          165000,
          178400,
          177000,
          208900,
          119000,
          311872,
          164500,
          229456,
          240000,
          181000,
          242000,
          135000,
          131500,
          146000,
          210000,
          145000,
          179000,
          180000,
          161500,
          157000,
          155000,
          239000,
          126000,
          168000,
          226000,
          157900,
          118000,
          185000,
          383970,
          175000,
          187500,
          187500,
          290000,
          173733,
          315000,
          176000,
          313000,
          129900,
          194000,
          108000,
          234000,
          113000,
          286000,
          244600,
          315000,
          103000,
          68500,
          252000,
          128000,
          87000,
          122500,
          107900,
          236000,
          160000,
          106250,
          212000,
          124500,
          101800,
          175000,
          129500,
          131400,
          128000,
          187000,
          215000,
          100000,
          372500,
          318000,
          394432,
          137000,
          259500,
          142500,
          277500,
          76000,
          253293,
          170000,
          185000,
          227680,
          290000,
          173500,
          140000,
          124000,
          184000,
          145000,
          165000,
          96500,
          246578,
          156000,
          187750,
          465000,
          138500,
          230000,
          93500,
          114500,
          315000,
          232000,
          128950,
          175000,
          129000,
          115000,
          151000,
          174000,
          266000,
          180000,
          190000,
          91500,
          221500,
          424870,
          97500,
          115000,
          120500,
          287000,
          113000,
          158000,
          125000,
          110000,
          173000,
          340000,
          214000,
          115000,
          185850,
          274000,
          126175,
          112000,
          233230,
          204900,
          205000,
          113000,
          216000,
          215000,
          167500,
          207000,
          86000,
          90000,
          80000,
          97000,
          335000,
          375000,
          187500,
          250000,
          108000,
          184750,
          217500,
          206000,
          149900,
          230000,
          275000,
          181000,
          162000,
          175500,
          140000,
          240000,
          266000,
          187100,
          34900,
          126000,
          110000,
          145000,
          150000,
          163500,
          147000,
          336000,
          237500,
          188000,
          222000,
          87500,
          266500,
          75500,
          117000,
          160000,
          127000,
          306000,
          107500,
          132000,
          172400,
          67000,
          235000,
          153575,
          149500,
          239000,
          234000,
          88000,
          270000,
          197900,
          91000,
          196500,
          119200,
          115000,
          129500,
          272000,
          87000,
          348000,
          129500,
          139000,
          143000,
          324000,
          130000,
          625000,
          215200,
          154000,
          385000,
          158500,
          135500,
          392500,
          287000,
          88000,
          210000,
          134500,
          176432,
          193000,
          315750,
          204000,
          215000,
          176000,
          128500,
          262500,
          159434,
          244400,
          196500,
          185000,
          120500,
          84900,
          58500,
          171750,
          181000,
          132500,
          187500,
          205000,
          250000,
          190000,
          109000,
          129900,
          162900,
          191000,
          184900,
          97000,
          263435,
          167000,
          260000,
          173000,
          89500,
          197500,
          213500,
          85000,
          159500,
          151000,
          215000,
          92000,
          118000,
          159000,
          167000,
          275000,
          155000,
          154000,
          86000,
          135000,
          145000,
          204750,
          212900,
          140000,
          200000,
          72500,
          126000
         ],
         "xaxis": "x",
         "y": [
          137970.97498563834,
          172565.47107420402,
          160883.22556734114,
          171683.87840109254,
          186600.99968028272,
          255998.1466799569,
          106921.48874016972,
          148906.94307051555,
          107893.41024975554,
          242023.65059555156,
          143684.45945946715,
          374317.74593771156,
          111512.86825647578,
          132242.15315582257,
          222008.6364753379,
          132278.26083094536,
          127641.39783344607,
          90298.4743423857,
          145280.8647414679,
          143200.31766937647,
          352202.9082976002,
          122695.07097287473,
          255897.12528649165,
          282054.1267753702,
          254196.0223802002,
          420728.9061937358,
          108986.82065426678,
          117051.92068569922,
          132516.6069872729,
          111993.4463715239,
          134997.41187535477,
          127853.29401633122,
          132003.0968719275,
          165451.9294377993,
          107910.14356114743,
          175813.11584577448,
          419361.43147709337,
          227504.6054414604,
          261014.84262456416,
          144859.9031404264,
          358763.8938313398,
          174589.2068286768,
          84585.07979535821,
          132686.24935304292,
          197209.8738383612,
          174144.37060807805,
          147711.756729351,
          199117.57126244393,
          162636.67597619165,
          246017.02830437061,
          117632.35770204876,
          145247.8796230757,
          181451.0620504299,
          490386.27203227277,
          122588.4262531658,
          127390.11306372224,
          124757.9601497941,
          182590.96362792904,
          205143.50308867017,
          164310.4328185943,
          119924.87870797797,
          108734.51328803724,
          148309.80570475684,
          402672.0732854384,
          176823.57091326703,
          209295.4991963188,
          189846.6409651697,
          284221.0518731664,
          103484.78103387747,
          376161.9677856767,
          215451.94248915464,
          135839.4779684683,
          127583.48346520956,
          151222.46764718954,
          122632.56894031895,
          196244.4043289473,
          184076.27405469725,
          217256.92145113973,
          135785.75534206882,
          124966.1630092524,
          119210.88392526384,
          161475.2980077804,
          347815.3516079891,
          189355.3409212869,
          252867.25266932466,
          149317.14865217285,
          134453.3503179197,
          149901.92355688463,
          287853.03981042665,
          149920.6394276209,
          137276.75715391344,
          196087.25149514774,
          209825.64575967297,
          487238.74224403827,
          135623.2009030157,
          162205.9295632927,
          168315.2036016381,
          195834.58277664924,
          268497.60102309485,
          143810.62576760608,
          116590.41744527197,
          90274.11900897947,
          82306.6735471392,
          154308.92787996182,
          143485.12178960675,
          176798.97161601787,
          200184.0860076733,
          114722.91985004648,
          304337.7169487699,
          163865.47689852712,
          209594.702602247,
          250872.4054627749,
          155519.62849369337,
          262549.0978785828,
          95014.59083101377,
          144064.67701640129,
          152732.33148524293,
          153323.28874470264,
          113434.98808771529,
          197066.15340467414,
          184472.87791803168,
          162528.5103951385,
          153450.84891301868,
          121064.5895421149,
          301622.0106710298,
          153983.75880162496,
          191027.01903758873,
          238083.47153075537,
          145386.92122545696,
          103409.65148449058,
          191748.00983668774,
          355659.102333935,
          186755.6099177285,
          158484.96179511212,
          174034.94662649962,
          257164.24107236895,
          163865.47689852712,
          332242.0266355726,
          169862.34493530428,
          287396.4493937912,
          143605.08467261196,
          181168.202056448,
          129501.28446389486,
          206945.45478321915,
          141035.72598234666,
          247714.88918854535,
          249627.242329923,
          371267.9620608592,
          115858.6851758387,
          74997.23319507418,
          281343.2193240803,
          134599.19778329457,
          90044.27074650822,
          155254.43923681646,
          125353.40683339833,
          231188.6530912258,
          169833.4508757173,
          96909.06681712177,
          219508.73469620608,
          131945.92312519404,
          115019.93799994982,
          208739.6276371251,
          118805.93088128301,
          130695.34540913718,
          129071.76131200283,
          182826.1294403069,
          218998.94134883006,
          131436.0130632663,
          393410.49484126974,
          283251.1208831712,
          344237.87893816276,
          158736.42635757264,
          212106.40011409504,
          160275.62662930373,
          226545.97741104345,
          99282.36856342708,
          404643.36426126544,
          145939.36746943588,
          187113.1185222799,
          236933.01096248854,
          298595.5127717595,
          181506.62947719303,
          145069.43703338964,
          118228.1746712213,
          158285.43236791287,
          158481.95012298564,
          143086.85773213973,
          98244.64042267628,
          220015.56926201758,
          141182.77108166984,
          199603.651350335,
          384094.90694914607,
          137477.78754197355,
          206916.91078512513,
          100779.96972717464,
          122865.61673345964,
          225573.74551643725,
          237188.79932671328,
          112756.26718785863,
          178198.40907894116,
          116965.37785756463,
          105930.73043000528,
          152178.28604006153,
          176011.1932735862,
          277060.79474598146,
          187825.56642593854,
          225338.3473670353,
          138333.0899665237,
          266496.5800929061,
          414369.48574061523,
          142103.50589219894,
          153098.52051581032,
          124783.86817967884,
          279045.0671161513,
          150730.15134155817,
          117782.83660664422,
          124883.01231398055,
          130287.52639851805,
          187786.75888027195,
          311360.98330198845,
          242469.52119348512,
          141137.3607792112,
          197468.40633729537,
          230240.21879184543,
          147302.80329872866,
          110065.08750686732,
          263453.4967677222,
          247546.57062739803,
          251200.111334913,
          114092.18957004028,
          206406.36833797235,
          219690.1010061684,
          162956.01902881218,
          193781.57378342212,
          83990.73751347825,
          159751.71480290376,
          97523.76407849655,
          122616.91553736769,
          272300.5431599337,
          211513.76853983296,
          230175.7139227414,
          247129.0545493868,
          155443.97356064597,
          570067.6614646805,
          192842.53712708227,
          184237.74175944747,
          165323.3644775446,
          230798.95357205535,
          236572.55361468438,
          184252.77458670433,
          140154.312430785,
          149345.46831751268,
          168216.98101256305,
          262336.3736778755,
          242813.73455766193,
          199524.51721457415,
          82976.97386719825,
          138549.249591965,
          113464.59668417416,
          145294.01765045116,
          161498.60974219756,
          165237.65116978862,
          140879.32980829518,
          300642.5348761251,
          209431.3042052208,
          189500.3380425789,
          204794.22302088825,
          98924.25406855733,
          223936.2244470774,
          87480.34660689493,
          122975.01408510738,
          149329.92981205645,
          124470.22961674977,
          318253.86316419643,
          168039.62168058366,
          128523.19462020345,
          185068.1302254661,
          95770.45521953909,
          225027.9747327713,
          136899.1717307354,
          167062.5319717144,
          239488.56542415798,
          198969.0793222225,
          91231.22844684708,
          278567.2173518643,
          167770.37929361322,
          96823.42669803425,
          185950.84369216877,
          127522.04674766166,
          123577.86735625268,
          130296.13505319504,
          258716.96780511065,
          175986.04086737375,
          320810.8243066527,
          133030.42838244783,
          146334.7639377869,
          144288.5547142606,
          250107.76226961552,
          118927.59068901958,
          463274.8339878133,
          197244.60656765566,
          145587.8093300985,
          243880.74264149045,
          140580.58073610175,
          127504.0540600657,
          258352.25709395923,
          298551.2622232253,
          90989.8030951582,
          214327.47366311942,
          128004.52287722804,
          189230.21894731573,
          226492.64515158342,
          315063.030885303,
          221770.8615850448,
          222404.40167569392,
          174545.1976582703,
          131023.86372369947,
          252423.68599513522,
          152678.52515170892,
          188208.0925762933,
          202701.6633485043,
          173140.60651094565,
          120600.75300157977,
          107262.80317084178,
          102503.49987621646,
          194571.49539880868,
          191742.93725234733,
          126305.73354841574,
          185189.01388324678,
          177784.5532894961,
          220585.35013917097,
          213574.61754996356,
          135371.61680333005,
          157327.91622943492,
          156461.152099647,
          196976.2457252506,
          174963.40309185305,
          97110.28968504722,
          235491.4433737053,
          191522.18125329117,
          267862.2502933874,
          172205.11482718174,
          90495.62897469389,
          177441.04133093514,
          194905.2321223976,
          88316.20231199375,
          251047.61964567812,
          141837.39587000685,
          182430.7234006822,
          86251.82524477453,
          145125.77060859097,
          148521.29335330293,
          148746.08196441957,
          224487.89422628458,
          174038.10424683706,
          159014.05751397973,
          107736.04423471911,
          114882.35617367539,
          198721.55539883138,
          231221.29993104126,
          252465.046419168,
          146693.19761255058,
          191161.1414065046,
          89256.74615986084,
          108703.89100403721
         ],
         "yaxis": "y"
        }
       ],
       "layout": {
        "legend": {
         "tracegroupgap": 0
        },
        "margin": {
         "t": 60
        },
        "template": {
         "data": {
          "bar": [
           {
            "error_x": {
             "color": "#2a3f5f"
            },
            "error_y": {
             "color": "#2a3f5f"
            },
            "marker": {
             "line": {
              "color": "#E5ECF6",
              "width": 0.5
             },
             "pattern": {
              "fillmode": "overlay",
              "size": 10,
              "solidity": 0.2
             }
            },
            "type": "bar"
           }
          ],
          "barpolar": [
           {
            "marker": {
             "line": {
              "color": "#E5ECF6",
              "width": 0.5
             },
             "pattern": {
              "fillmode": "overlay",
              "size": 10,
              "solidity": 0.2
             }
            },
            "type": "barpolar"
           }
          ],
          "carpet": [
           {
            "aaxis": {
             "endlinecolor": "#2a3f5f",
             "gridcolor": "white",
             "linecolor": "white",
             "minorgridcolor": "white",
             "startlinecolor": "#2a3f5f"
            },
            "baxis": {
             "endlinecolor": "#2a3f5f",
             "gridcolor": "white",
             "linecolor": "white",
             "minorgridcolor": "white",
             "startlinecolor": "#2a3f5f"
            },
            "type": "carpet"
           }
          ],
          "choropleth": [
           {
            "colorbar": {
             "outlinewidth": 0,
             "ticks": ""
            },
            "type": "choropleth"
           }
          ],
          "contour": [
           {
            "colorbar": {
             "outlinewidth": 0,
             "ticks": ""
            },
            "colorscale": [
             [
              0,
              "#0d0887"
             ],
             [
              0.1111111111111111,
              "#46039f"
             ],
             [
              0.2222222222222222,
              "#7201a8"
             ],
             [
              0.3333333333333333,
              "#9c179e"
             ],
             [
              0.4444444444444444,
              "#bd3786"
             ],
             [
              0.5555555555555556,
              "#d8576b"
             ],
             [
              0.6666666666666666,
              "#ed7953"
             ],
             [
              0.7777777777777778,
              "#fb9f3a"
             ],
             [
              0.8888888888888888,
              "#fdca26"
             ],
             [
              1,
              "#f0f921"
             ]
            ],
            "type": "contour"
           }
          ],
          "contourcarpet": [
           {
            "colorbar": {
             "outlinewidth": 0,
             "ticks": ""
            },
            "type": "contourcarpet"
           }
          ],
          "heatmap": [
           {
            "colorbar": {
             "outlinewidth": 0,
             "ticks": ""
            },
            "colorscale": [
             [
              0,
              "#0d0887"
             ],
             [
              0.1111111111111111,
              "#46039f"
             ],
             [
              0.2222222222222222,
              "#7201a8"
             ],
             [
              0.3333333333333333,
              "#9c179e"
             ],
             [
              0.4444444444444444,
              "#bd3786"
             ],
             [
              0.5555555555555556,
              "#d8576b"
             ],
             [
              0.6666666666666666,
              "#ed7953"
             ],
             [
              0.7777777777777778,
              "#fb9f3a"
             ],
             [
              0.8888888888888888,
              "#fdca26"
             ],
             [
              1,
              "#f0f921"
             ]
            ],
            "type": "heatmap"
           }
          ],
          "heatmapgl": [
           {
            "colorbar": {
             "outlinewidth": 0,
             "ticks": ""
            },
            "colorscale": [
             [
              0,
              "#0d0887"
             ],
             [
              0.1111111111111111,
              "#46039f"
             ],
             [
              0.2222222222222222,
              "#7201a8"
             ],
             [
              0.3333333333333333,
              "#9c179e"
             ],
             [
              0.4444444444444444,
              "#bd3786"
             ],
             [
              0.5555555555555556,
              "#d8576b"
             ],
             [
              0.6666666666666666,
              "#ed7953"
             ],
             [
              0.7777777777777778,
              "#fb9f3a"
             ],
             [
              0.8888888888888888,
              "#fdca26"
             ],
             [
              1,
              "#f0f921"
             ]
            ],
            "type": "heatmapgl"
           }
          ],
          "histogram": [
           {
            "marker": {
             "pattern": {
              "fillmode": "overlay",
              "size": 10,
              "solidity": 0.2
             }
            },
            "type": "histogram"
           }
          ],
          "histogram2d": [
           {
            "colorbar": {
             "outlinewidth": 0,
             "ticks": ""
            },
            "colorscale": [
             [
              0,
              "#0d0887"
             ],
             [
              0.1111111111111111,
              "#46039f"
             ],
             [
              0.2222222222222222,
              "#7201a8"
             ],
             [
              0.3333333333333333,
              "#9c179e"
             ],
             [
              0.4444444444444444,
              "#bd3786"
             ],
             [
              0.5555555555555556,
              "#d8576b"
             ],
             [
              0.6666666666666666,
              "#ed7953"
             ],
             [
              0.7777777777777778,
              "#fb9f3a"
             ],
             [
              0.8888888888888888,
              "#fdca26"
             ],
             [
              1,
              "#f0f921"
             ]
            ],
            "type": "histogram2d"
           }
          ],
          "histogram2dcontour": [
           {
            "colorbar": {
             "outlinewidth": 0,
             "ticks": ""
            },
            "colorscale": [
             [
              0,
              "#0d0887"
             ],
             [
              0.1111111111111111,
              "#46039f"
             ],
             [
              0.2222222222222222,
              "#7201a8"
             ],
             [
              0.3333333333333333,
              "#9c179e"
             ],
             [
              0.4444444444444444,
              "#bd3786"
             ],
             [
              0.5555555555555556,
              "#d8576b"
             ],
             [
              0.6666666666666666,
              "#ed7953"
             ],
             [
              0.7777777777777778,
              "#fb9f3a"
             ],
             [
              0.8888888888888888,
              "#fdca26"
             ],
             [
              1,
              "#f0f921"
             ]
            ],
            "type": "histogram2dcontour"
           }
          ],
          "mesh3d": [
           {
            "colorbar": {
             "outlinewidth": 0,
             "ticks": ""
            },
            "type": "mesh3d"
           }
          ],
          "parcoords": [
           {
            "line": {
             "colorbar": {
              "outlinewidth": 0,
              "ticks": ""
             }
            },
            "type": "parcoords"
           }
          ],
          "pie": [
           {
            "automargin": true,
            "type": "pie"
           }
          ],
          "scatter": [
           {
            "fillpattern": {
             "fillmode": "overlay",
             "size": 10,
             "solidity": 0.2
            },
            "type": "scatter"
           }
          ],
          "scatter3d": [
           {
            "line": {
             "colorbar": {
              "outlinewidth": 0,
              "ticks": ""
             }
            },
            "marker": {
             "colorbar": {
              "outlinewidth": 0,
              "ticks": ""
             }
            },
            "type": "scatter3d"
           }
          ],
          "scattercarpet": [
           {
            "marker": {
             "colorbar": {
              "outlinewidth": 0,
              "ticks": ""
             }
            },
            "type": "scattercarpet"
           }
          ],
          "scattergeo": [
           {
            "marker": {
             "colorbar": {
              "outlinewidth": 0,
              "ticks": ""
             }
            },
            "type": "scattergeo"
           }
          ],
          "scattergl": [
           {
            "marker": {
             "colorbar": {
              "outlinewidth": 0,
              "ticks": ""
             }
            },
            "type": "scattergl"
           }
          ],
          "scattermapbox": [
           {
            "marker": {
             "colorbar": {
              "outlinewidth": 0,
              "ticks": ""
             }
            },
            "type": "scattermapbox"
           }
          ],
          "scatterpolar": [
           {
            "marker": {
             "colorbar": {
              "outlinewidth": 0,
              "ticks": ""
             }
            },
            "type": "scatterpolar"
           }
          ],
          "scatterpolargl": [
           {
            "marker": {
             "colorbar": {
              "outlinewidth": 0,
              "ticks": ""
             }
            },
            "type": "scatterpolargl"
           }
          ],
          "scatterternary": [
           {
            "marker": {
             "colorbar": {
              "outlinewidth": 0,
              "ticks": ""
             }
            },
            "type": "scatterternary"
           }
          ],
          "surface": [
           {
            "colorbar": {
             "outlinewidth": 0,
             "ticks": ""
            },
            "colorscale": [
             [
              0,
              "#0d0887"
             ],
             [
              0.1111111111111111,
              "#46039f"
             ],
             [
              0.2222222222222222,
              "#7201a8"
             ],
             [
              0.3333333333333333,
              "#9c179e"
             ],
             [
              0.4444444444444444,
              "#bd3786"
             ],
             [
              0.5555555555555556,
              "#d8576b"
             ],
             [
              0.6666666666666666,
              "#ed7953"
             ],
             [
              0.7777777777777778,
              "#fb9f3a"
             ],
             [
              0.8888888888888888,
              "#fdca26"
             ],
             [
              1,
              "#f0f921"
             ]
            ],
            "type": "surface"
           }
          ],
          "table": [
           {
            "cells": {
             "fill": {
              "color": "#EBF0F8"
             },
             "line": {
              "color": "white"
             }
            },
            "header": {
             "fill": {
              "color": "#C8D4E3"
             },
             "line": {
              "color": "white"
             }
            },
            "type": "table"
           }
          ]
         },
         "layout": {
          "annotationdefaults": {
           "arrowcolor": "#2a3f5f",
           "arrowhead": 0,
           "arrowwidth": 1
          },
          "autotypenumbers": "strict",
          "coloraxis": {
           "colorbar": {
            "outlinewidth": 0,
            "ticks": ""
           }
          },
          "colorscale": {
           "diverging": [
            [
             0,
             "#8e0152"
            ],
            [
             0.1,
             "#c51b7d"
            ],
            [
             0.2,
             "#de77ae"
            ],
            [
             0.3,
             "#f1b6da"
            ],
            [
             0.4,
             "#fde0ef"
            ],
            [
             0.5,
             "#f7f7f7"
            ],
            [
             0.6,
             "#e6f5d0"
            ],
            [
             0.7,
             "#b8e186"
            ],
            [
             0.8,
             "#7fbc41"
            ],
            [
             0.9,
             "#4d9221"
            ],
            [
             1,
             "#276419"
            ]
           ],
           "sequential": [
            [
             0,
             "#0d0887"
            ],
            [
             0.1111111111111111,
             "#46039f"
            ],
            [
             0.2222222222222222,
             "#7201a8"
            ],
            [
             0.3333333333333333,
             "#9c179e"
            ],
            [
             0.4444444444444444,
             "#bd3786"
            ],
            [
             0.5555555555555556,
             "#d8576b"
            ],
            [
             0.6666666666666666,
             "#ed7953"
            ],
            [
             0.7777777777777778,
             "#fb9f3a"
            ],
            [
             0.8888888888888888,
             "#fdca26"
            ],
            [
             1,
             "#f0f921"
            ]
           ],
           "sequentialminus": [
            [
             0,
             "#0d0887"
            ],
            [
             0.1111111111111111,
             "#46039f"
            ],
            [
             0.2222222222222222,
             "#7201a8"
            ],
            [
             0.3333333333333333,
             "#9c179e"
            ],
            [
             0.4444444444444444,
             "#bd3786"
            ],
            [
             0.5555555555555556,
             "#d8576b"
            ],
            [
             0.6666666666666666,
             "#ed7953"
            ],
            [
             0.7777777777777778,
             "#fb9f3a"
            ],
            [
             0.8888888888888888,
             "#fdca26"
            ],
            [
             1,
             "#f0f921"
            ]
           ]
          },
          "colorway": [
           "#636efa",
           "#EF553B",
           "#00cc96",
           "#ab63fa",
           "#FFA15A",
           "#19d3f3",
           "#FF6692",
           "#B6E880",
           "#FF97FF",
           "#FECB52"
          ],
          "font": {
           "color": "#2a3f5f"
          },
          "geo": {
           "bgcolor": "white",
           "lakecolor": "white",
           "landcolor": "#E5ECF6",
           "showlakes": true,
           "showland": true,
           "subunitcolor": "white"
          },
          "hoverlabel": {
           "align": "left"
          },
          "hovermode": "closest",
          "mapbox": {
           "style": "light"
          },
          "paper_bgcolor": "white",
          "plot_bgcolor": "#E5ECF6",
          "polar": {
           "angularaxis": {
            "gridcolor": "white",
            "linecolor": "white",
            "ticks": ""
           },
           "bgcolor": "#E5ECF6",
           "radialaxis": {
            "gridcolor": "white",
            "linecolor": "white",
            "ticks": ""
           }
          },
          "scene": {
           "xaxis": {
            "backgroundcolor": "#E5ECF6",
            "gridcolor": "white",
            "gridwidth": 2,
            "linecolor": "white",
            "showbackground": true,
            "ticks": "",
            "zerolinecolor": "white"
           },
           "yaxis": {
            "backgroundcolor": "#E5ECF6",
            "gridcolor": "white",
            "gridwidth": 2,
            "linecolor": "white",
            "showbackground": true,
            "ticks": "",
            "zerolinecolor": "white"
           },
           "zaxis": {
            "backgroundcolor": "#E5ECF6",
            "gridcolor": "white",
            "gridwidth": 2,
            "linecolor": "white",
            "showbackground": true,
            "ticks": "",
            "zerolinecolor": "white"
           }
          },
          "shapedefaults": {
           "line": {
            "color": "#2a3f5f"
           }
          },
          "ternary": {
           "aaxis": {
            "gridcolor": "white",
            "linecolor": "white",
            "ticks": ""
           },
           "baxis": {
            "gridcolor": "white",
            "linecolor": "white",
            "ticks": ""
           },
           "bgcolor": "#E5ECF6",
           "caxis": {
            "gridcolor": "white",
            "linecolor": "white",
            "ticks": ""
           }
          },
          "title": {
           "x": 0.05
          },
          "xaxis": {
           "automargin": true,
           "gridcolor": "white",
           "linecolor": "white",
           "ticks": "",
           "title": {
            "standoff": 15
           },
           "zerolinecolor": "white",
           "zerolinewidth": 2
          },
          "yaxis": {
           "automargin": true,
           "gridcolor": "white",
           "linecolor": "white",
           "ticks": "",
           "title": {
            "standoff": 15
           },
           "zerolinecolor": "white",
           "zerolinewidth": 2
          }
         }
        },
        "title": {
         "text": "Predicted Sale Price vs. Actual Sale Price"
        },
        "xaxis": {
         "anchor": "y",
         "domain": [
          0,
          1
         ],
         "title": {
          "text": "Actual Sale Price"
         }
        },
        "yaxis": {
         "anchor": "x",
         "domain": [
          0,
          1
         ],
         "title": {
          "text": "Predicted Sale Price"
         }
        }
       }
      }
     },
     "metadata": {},
     "output_type": "display_data"
    },
    {
     "name": "stdout",
     "output_type": "stream",
     "text": [
      "Test set score: 0.7865814591179272\n"
     ]
    }
   ],
   "source": [
    "fig_2a = px.scatter(x=y_test, y=final_rfr_mdl.predict(scaled_X_test_df))\n",
    "\n",
    "fig_2a.update_xaxes(title_text=\"Actual Sale Price\")\n",
    "fig_2a.update_yaxes(title_text=\"Predicted Sale Price\")\n",
    "fig_2a.update_layout(title_text=\"Predicted Sale Price vs. Actual Sale Price\")\n",
    "fig_2a.show()\n",
    "\n",
    "\n",
    "print(f\"Test set score: {final_rfr_mdl.score(scaled_X_test_df, y_test)}\")"
   ]
  },
  {
   "cell_type": "code",
   "execution_count": 81,
   "metadata": {},
   "outputs": [
    {
     "data": {
      "application/vnd.plotly.v1+json": {
       "config": {
        "plotlyServerURL": "https://plot.ly"
       },
       "data": [
        {
         "hovertemplate": "x=%{x}<br>y=%{y}<extra></extra>",
         "legendgroup": "",
         "marker": {
          "color": "#636efa",
          "symbol": "circle"
         },
         "mode": "markers",
         "name": "",
         "orientation": "v",
         "showlegend": false,
         "type": "scatter",
         "x": [
          137970.97498563834,
          172565.47107420402,
          160883.22556734114,
          171683.87840109254,
          186600.99968028272,
          255998.1466799569,
          106921.48874016972,
          148906.94307051555,
          107893.41024975554,
          242023.65059555156,
          143684.45945946715,
          374317.74593771156,
          111512.86825647578,
          132242.15315582257,
          222008.6364753379,
          132278.26083094536,
          127641.39783344607,
          90298.4743423857,
          145280.8647414679,
          143200.31766937647,
          352202.9082976002,
          122695.07097287473,
          255897.12528649165,
          282054.1267753702,
          254196.0223802002,
          420728.9061937358,
          108986.82065426678,
          117051.92068569922,
          132516.6069872729,
          111993.4463715239,
          134997.41187535477,
          127853.29401633122,
          132003.0968719275,
          165451.9294377993,
          107910.14356114743,
          175813.11584577448,
          419361.43147709337,
          227504.6054414604,
          261014.84262456416,
          144859.9031404264,
          358763.8938313398,
          174589.2068286768,
          84585.07979535821,
          132686.24935304292,
          197209.8738383612,
          174144.37060807805,
          147711.756729351,
          199117.57126244393,
          162636.67597619165,
          246017.02830437061,
          117632.35770204876,
          145247.8796230757,
          181451.0620504299,
          490386.27203227277,
          122588.4262531658,
          127390.11306372224,
          124757.9601497941,
          182590.96362792904,
          205143.50308867017,
          164310.4328185943,
          119924.87870797797,
          108734.51328803724,
          148309.80570475684,
          402672.0732854384,
          176823.57091326703,
          209295.4991963188,
          189846.6409651697,
          284221.0518731664,
          103484.78103387747,
          376161.9677856767,
          215451.94248915464,
          135839.4779684683,
          127583.48346520956,
          151222.46764718954,
          122632.56894031895,
          196244.4043289473,
          184076.27405469725,
          217256.92145113973,
          135785.75534206882,
          124966.1630092524,
          119210.88392526384,
          161475.2980077804,
          347815.3516079891,
          189355.3409212869,
          252867.25266932466,
          149317.14865217285,
          134453.3503179197,
          149901.92355688463,
          287853.03981042665,
          149920.6394276209,
          137276.75715391344,
          196087.25149514774,
          209825.64575967297,
          487238.74224403827,
          135623.2009030157,
          162205.9295632927,
          168315.2036016381,
          195834.58277664924,
          268497.60102309485,
          143810.62576760608,
          116590.41744527197,
          90274.11900897947,
          82306.6735471392,
          154308.92787996182,
          143485.12178960675,
          176798.97161601787,
          200184.0860076733,
          114722.91985004648,
          304337.7169487699,
          163865.47689852712,
          209594.702602247,
          250872.4054627749,
          155519.62849369337,
          262549.0978785828,
          95014.59083101377,
          144064.67701640129,
          152732.33148524293,
          153323.28874470264,
          113434.98808771529,
          197066.15340467414,
          184472.87791803168,
          162528.5103951385,
          153450.84891301868,
          121064.5895421149,
          301622.0106710298,
          153983.75880162496,
          191027.01903758873,
          238083.47153075537,
          145386.92122545696,
          103409.65148449058,
          191748.00983668774,
          355659.102333935,
          186755.6099177285,
          158484.96179511212,
          174034.94662649962,
          257164.24107236895,
          163865.47689852712,
          332242.0266355726,
          169862.34493530428,
          287396.4493937912,
          143605.08467261196,
          181168.202056448,
          129501.28446389486,
          206945.45478321915,
          141035.72598234666,
          247714.88918854535,
          249627.242329923,
          371267.9620608592,
          115858.6851758387,
          74997.23319507418,
          281343.2193240803,
          134599.19778329457,
          90044.27074650822,
          155254.43923681646,
          125353.40683339833,
          231188.6530912258,
          169833.4508757173,
          96909.06681712177,
          219508.73469620608,
          131945.92312519404,
          115019.93799994982,
          208739.6276371251,
          118805.93088128301,
          130695.34540913718,
          129071.76131200283,
          182826.1294403069,
          218998.94134883006,
          131436.0130632663,
          393410.49484126974,
          283251.1208831712,
          344237.87893816276,
          158736.42635757264,
          212106.40011409504,
          160275.62662930373,
          226545.97741104345,
          99282.36856342708,
          404643.36426126544,
          145939.36746943588,
          187113.1185222799,
          236933.01096248854,
          298595.5127717595,
          181506.62947719303,
          145069.43703338964,
          118228.1746712213,
          158285.43236791287,
          158481.95012298564,
          143086.85773213973,
          98244.64042267628,
          220015.56926201758,
          141182.77108166984,
          199603.651350335,
          384094.90694914607,
          137477.78754197355,
          206916.91078512513,
          100779.96972717464,
          122865.61673345964,
          225573.74551643725,
          237188.79932671328,
          112756.26718785863,
          178198.40907894116,
          116965.37785756463,
          105930.73043000528,
          152178.28604006153,
          176011.1932735862,
          277060.79474598146,
          187825.56642593854,
          225338.3473670353,
          138333.0899665237,
          266496.5800929061,
          414369.48574061523,
          142103.50589219894,
          153098.52051581032,
          124783.86817967884,
          279045.0671161513,
          150730.15134155817,
          117782.83660664422,
          124883.01231398055,
          130287.52639851805,
          187786.75888027195,
          311360.98330198845,
          242469.52119348512,
          141137.3607792112,
          197468.40633729537,
          230240.21879184543,
          147302.80329872866,
          110065.08750686732,
          263453.4967677222,
          247546.57062739803,
          251200.111334913,
          114092.18957004028,
          206406.36833797235,
          219690.1010061684,
          162956.01902881218,
          193781.57378342212,
          83990.73751347825,
          159751.71480290376,
          97523.76407849655,
          122616.91553736769,
          272300.5431599337,
          211513.76853983296,
          230175.7139227414,
          247129.0545493868,
          155443.97356064597,
          570067.6614646805,
          192842.53712708227,
          184237.74175944747,
          165323.3644775446,
          230798.95357205535,
          236572.55361468438,
          184252.77458670433,
          140154.312430785,
          149345.46831751268,
          168216.98101256305,
          262336.3736778755,
          242813.73455766193,
          199524.51721457415,
          82976.97386719825,
          138549.249591965,
          113464.59668417416,
          145294.01765045116,
          161498.60974219756,
          165237.65116978862,
          140879.32980829518,
          300642.5348761251,
          209431.3042052208,
          189500.3380425789,
          204794.22302088825,
          98924.25406855733,
          223936.2244470774,
          87480.34660689493,
          122975.01408510738,
          149329.92981205645,
          124470.22961674977,
          318253.86316419643,
          168039.62168058366,
          128523.19462020345,
          185068.1302254661,
          95770.45521953909,
          225027.9747327713,
          136899.1717307354,
          167062.5319717144,
          239488.56542415798,
          198969.0793222225,
          91231.22844684708,
          278567.2173518643,
          167770.37929361322,
          96823.42669803425,
          185950.84369216877,
          127522.04674766166,
          123577.86735625268,
          130296.13505319504,
          258716.96780511065,
          175986.04086737375,
          320810.8243066527,
          133030.42838244783,
          146334.7639377869,
          144288.5547142606,
          250107.76226961552,
          118927.59068901958,
          463274.8339878133,
          197244.60656765566,
          145587.8093300985,
          243880.74264149045,
          140580.58073610175,
          127504.0540600657,
          258352.25709395923,
          298551.2622232253,
          90989.8030951582,
          214327.47366311942,
          128004.52287722804,
          189230.21894731573,
          226492.64515158342,
          315063.030885303,
          221770.8615850448,
          222404.40167569392,
          174545.1976582703,
          131023.86372369947,
          252423.68599513522,
          152678.52515170892,
          188208.0925762933,
          202701.6633485043,
          173140.60651094565,
          120600.75300157977,
          107262.80317084178,
          102503.49987621646,
          194571.49539880868,
          191742.93725234733,
          126305.73354841574,
          185189.01388324678,
          177784.5532894961,
          220585.35013917097,
          213574.61754996356,
          135371.61680333005,
          157327.91622943492,
          156461.152099647,
          196976.2457252506,
          174963.40309185305,
          97110.28968504722,
          235491.4433737053,
          191522.18125329117,
          267862.2502933874,
          172205.11482718174,
          90495.62897469389,
          177441.04133093514,
          194905.2321223976,
          88316.20231199375,
          251047.61964567812,
          141837.39587000685,
          182430.7234006822,
          86251.82524477453,
          145125.77060859097,
          148521.29335330293,
          148746.08196441957,
          224487.89422628458,
          174038.10424683706,
          159014.05751397973,
          107736.04423471911,
          114882.35617367539,
          198721.55539883138,
          231221.29993104126,
          252465.046419168,
          146693.19761255058,
          191161.1414065046,
          89256.74615986084,
          108703.89100403721
         ],
         "xaxis": "x",
         "y": [
          51979.02501436166,
          7434.528925795981,
          -24383.225567341142,
          -11683.878401092545,
          -51600.99968028272,
          -15998.146679956903,
          -6921.48874016972,
          20993.056929484446,
          11606.589750244457,
          -2023.6505955515604,
          4315.540540532849,
          -68417.74593771156,
          28487.131743524224,
          -22242.15315582257,
          -42808.6364753379,
          -32778.260830945364,
          -2641.39783344607,
          -29298.4743423857,
          -2280.8647414679,
          -3200.317669376469,
          49797.091702399775,
          -29695.07097287473,
          -20897.125286491646,
          -33726.12677537021,
          -53572.022380200186,
          -40728.90619373578,
          10013.179345733224,
          14948.079314300776,
          3983.393012727087,
          6.553628476103768,
          2502.5881246452336,
          -46853.294016331216,
          -9003.096871927497,
          -7951.929437799292,
          1589.8564388525701,
          3851.884154225525,
          82475.56852290663,
          -37504.605441460386,
          -31014.84262456416,
          4140.09685957359,
          -82763.89383133978,
          -4589.206828676804,
          -24585.079795358208,
          -686.2493530429201,
          -3330.873838361207,
          -69244.37060807805,
          4288.243270648993,
          -4916.571262443933,
          8363.324023808353,
          -46017.028304370615,
          -7632.357702048757,
          6752.120376924286,
          -8451.0620504299,
          -5386.272032272769,
          -2588.4262531658023,
          8109.886936277762,
          9142.039850205896,
          62909.03637207096,
          20856.49691132983,
          17589.5671814057,
          -7924.878707977972,
          -234.51328803724027,
          19190.194295243156,
          7327.926714561589,
          676.4290867329692,
          -9395.499196318793,
          -38946.6409651697,
          25778.948126833595,
          -47491.78103387747,
          -6261.967785676708,
          16048.057510845363,
          20160.5220315317,
          7216.51653479044,
          -11222.467647189536,
          -2732.5689403189463,
          -244.40432894730475,
          -12076.274054697249,
          26743.07854886027,
          25964.24465793118,
          7033.836990747601,
          11289.116074736157,
          19024.701992219605,
          -45815.35160798911,
          13144.659078713099,
          -24867.252669324662,
          -9317.148652172851,
          -9453.350317919714,
          24998.076443115366,
          -9853.03981042665,
          15579.360572379112,
          -5776.757153913437,
          15912.748504852265,
          5174.354240327026,
          -20738.742244038265,
          376.799096984294,
          -32205.92956329271,
          -315.203601638088,
          29165.417223350756,
          76502.39897690515,
          -5810.625767606078,
          43409.582554728026,
          -38274.11900897947,
          193.32645286079787,
          10691.072120038181,
          34914.878210393246,
          201.02838398213498,
          8715.913992326707,
          4277.0801499535155,
          7534.283051230072,
          634.5231014728779,
          19861.29739775299,
          -10872.405462774914,
          25480.371506306634,
          -20549.097878582776,
          39985.409168986225,
          -12564.677016401285,
          -6732.331485242932,
          56676.711255297356,
          31565.01191228471,
          -18066.153404674144,
          -4472.877918031678,
          -1028.5103951384954,
          3549.151086981321,
          33935.4104578851,
          -62622.0106710298,
          -27983.758801624965,
          -23027.019037588732,
          -12083.47153075537,
          12513.078774543043,
          14590.348515509424,
          -6748.0098366877355,
          28310.897666065022,
          -11755.609917728492,
          29015.038204887882,
          13465.053373500385,
          32835.75892763105,
          9867.523101472878,
          -17242.026635572605,
          6137.6550646957185,
          25603.550606208795,
          -13705.084672611963,
          12831.797943551996,
          -21501.28446389486,
          27054.545216780854,
          -28035.72598234666,
          38285.11081145465,
          -5027.2423299229995,
          -56267.962060859194,
          -12858.685175838706,
          -6497.233195074179,
          -29343.219324080274,
          -6599.19778329457,
          -3044.2707465082203,
          -32754.439236816455,
          -17453.40683339833,
          4811.346908774198,
          -9833.450875717303,
          9340.93318287823,
          -7508.734696206084,
          -7445.923125194036,
          -13219.93799994982,
          -33739.627637125086,
          10694.069118716987,
          704.6545908628177,
          -1071.7613120028254,
          4173.87055969311,
          -3998.9413488300634,
          -31436.01306326629,
          -20910.49484126974,
          34748.879116828786,
          50194.12106183724,
          -21736.426357572636,
          47393.59988590496,
          -17775.626629303733,
          50954.02258895655,
          -23282.36856342708,
          -151350.36426126544,
          24060.632530564122,
          -2113.118522279896,
          -9253.010962488537,
          -8595.512771759473,
          -8006.629477193026,
          -5069.437033389637,
          5771.825328778694,
          25714.567632087128,
          -13481.95012298564,
          21913.14226786027,
          -1744.6404226762825,
          26562.430737982417,
          14817.228918330162,
          -11853.651350335014,
          80905.09305085393,
          1022.2124580264499,
          23083.089214874868,
          -7279.969727174641,
          -8365.61673345964,
          89426.25448356275,
          -5188.799326713284,
          16193.732812141374,
          -3198.4090789411566,
          12034.622142435372,
          9069.269569994722,
          -1178.2860400615318,
          -2011.193273586192,
          -11060.79474598146,
          -7825.566425938538,
          -35338.34736703531,
          -46833.089966523694,
          -44996.58009290608,
          10500.51425938477,
          -44603.50589219894,
          -38098.52051581032,
          -4283.868179678844,
          7954.932883848727,
          -37730.15134155817,
          40217.163393355775,
          116.98768601944903,
          -20287.52639851805,
          -14786.758880271955,
          28639.016698011546,
          -28469.521193485125,
          -26137.360779211187,
          -11618.406337295368,
          43759.78120815457,
          -21127.803298728657,
          1934.9124931326805,
          -30223.496767722187,
          -42646.57062739803,
          -46200.111334913,
          -1092.189570040282,
          9593.631662027648,
          -4690.1010061684065,
          4543.980971187819,
          13218.426216577878,
          2009.2624865217513,
          -69751.71480290376,
          -17523.764078496548,
          -25616.91553736769,
          62699.4568400663,
          163486.23146016704,
          -42675.713922741386,
          2870.945450613188,
          -47443.97356064597,
          -385317.66146468045,
          24657.462872917735,
          21762.25824055253,
          -15423.364477544586,
          -798.953572055354,
          38427.44638531562,
          -3252.774586704327,
          21845.68756921499,
          26154.531682487315,
          -28216.981012563047,
          -22336.373677875497,
          23186.265442338074,
          -12424.517214574153,
          -48076.97386719825,
          -12549.249591964995,
          -3464.596684174161,
          -294.0176504511619,
          -11498.609742197557,
          -1737.6511697886162,
          6120.670191704819,
          35357.46512387489,
          28068.695794779196,
          -1500.3380425788928,
          17205.776979111746,
          -11424.254068557333,
          42563.7755529226,
          -11980.346606894935,
          -5975.014085107381,
          10670.070187943551,
          2529.77038325023,
          -12253.863164196431,
          -60539.62168058366,
          3476.805379796555,
          -12668.130225466099,
          -28770.455219539086,
          9972.025267228688,
          16675.828269264603,
          -17562.5319717144,
          -488.56542415797594,
          35030.920677777496,
          -3231.2284468470752,
          -8567.217351864325,
          30129.620706386777,
          -5823.426698034251,
          10549.156307831232,
          -8322.046747661661,
          -8577.867356252682,
          -796.1350531950447,
          13283.032194889354,
          -88986.04086737375,
          27189.175693347293,
          -3530.4283824478334,
          -7334.763937786891,
          -1288.5547142605938,
          73892.23773038448,
          11072.409310980423,
          161725.16601218667,
          17955.39343234434,
          8412.190669901494,
          141119.25735850955,
          17919.41926389825,
          7995.945939934303,
          134147.74290604077,
          -11551.26222322532,
          -2989.803095158204,
          -4327.473663119425,
          6495.477122771961,
          -12798.218947315734,
          -33492.64515158342,
          686.9691146970144,
          -17770.861585044797,
          -7404.401675693924,
          1454.8023417296936,
          -2523.863723699469,
          10076.314004864777,
          6755.47484829108,
          56191.907423706696,
          -6201.663348504313,
          11859.393489054346,
          -100.75300157976744,
          -22362.803170841784,
          -44003.49987621646,
          -22821.495398808678,
          -10742.937252347328,
          6194.2664515842625,
          2310.9861167532217,
          27215.446710503893,
          29414.649860829028,
          -23574.617549963557,
          -26371.61680333005,
          -27427.916229434923,
          6438.847900352994,
          -5976.245725250599,
          9936.596908146952,
          -110.28968504721706,
          27943.55662629471,
          -24522.18125329117,
          -7862.250293387391,
          794.8851728182635,
          -995.6289746938855,
          20058.958669064858,
          18594.767877602397,
          -3316.202311993751,
          -91547.61964567812,
          9162.604129993153,
          32569.27659931779,
          5748.174755225467,
          -27125.770608590974,
          10478.706646697072,
          18253.918035580427,
          50512.10577371542,
          -19038.104246837058,
          -5014.057513979729,
          -21736.044234719113,
          20117.64382632461,
          -53721.55539883138,
          -26471.299931041256,
          -39565.04641916801,
          -6693.197612550575,
          8838.858593495388,
          -16756.746159860835,
          17296.108995962786
         ],
         "yaxis": "y"
        }
       ],
       "layout": {
        "legend": {
         "tracegroupgap": 0
        },
        "margin": {
         "t": 60
        },
        "template": {
         "data": {
          "bar": [
           {
            "error_x": {
             "color": "#2a3f5f"
            },
            "error_y": {
             "color": "#2a3f5f"
            },
            "marker": {
             "line": {
              "color": "#E5ECF6",
              "width": 0.5
             },
             "pattern": {
              "fillmode": "overlay",
              "size": 10,
              "solidity": 0.2
             }
            },
            "type": "bar"
           }
          ],
          "barpolar": [
           {
            "marker": {
             "line": {
              "color": "#E5ECF6",
              "width": 0.5
             },
             "pattern": {
              "fillmode": "overlay",
              "size": 10,
              "solidity": 0.2
             }
            },
            "type": "barpolar"
           }
          ],
          "carpet": [
           {
            "aaxis": {
             "endlinecolor": "#2a3f5f",
             "gridcolor": "white",
             "linecolor": "white",
             "minorgridcolor": "white",
             "startlinecolor": "#2a3f5f"
            },
            "baxis": {
             "endlinecolor": "#2a3f5f",
             "gridcolor": "white",
             "linecolor": "white",
             "minorgridcolor": "white",
             "startlinecolor": "#2a3f5f"
            },
            "type": "carpet"
           }
          ],
          "choropleth": [
           {
            "colorbar": {
             "outlinewidth": 0,
             "ticks": ""
            },
            "type": "choropleth"
           }
          ],
          "contour": [
           {
            "colorbar": {
             "outlinewidth": 0,
             "ticks": ""
            },
            "colorscale": [
             [
              0,
              "#0d0887"
             ],
             [
              0.1111111111111111,
              "#46039f"
             ],
             [
              0.2222222222222222,
              "#7201a8"
             ],
             [
              0.3333333333333333,
              "#9c179e"
             ],
             [
              0.4444444444444444,
              "#bd3786"
             ],
             [
              0.5555555555555556,
              "#d8576b"
             ],
             [
              0.6666666666666666,
              "#ed7953"
             ],
             [
              0.7777777777777778,
              "#fb9f3a"
             ],
             [
              0.8888888888888888,
              "#fdca26"
             ],
             [
              1,
              "#f0f921"
             ]
            ],
            "type": "contour"
           }
          ],
          "contourcarpet": [
           {
            "colorbar": {
             "outlinewidth": 0,
             "ticks": ""
            },
            "type": "contourcarpet"
           }
          ],
          "heatmap": [
           {
            "colorbar": {
             "outlinewidth": 0,
             "ticks": ""
            },
            "colorscale": [
             [
              0,
              "#0d0887"
             ],
             [
              0.1111111111111111,
              "#46039f"
             ],
             [
              0.2222222222222222,
              "#7201a8"
             ],
             [
              0.3333333333333333,
              "#9c179e"
             ],
             [
              0.4444444444444444,
              "#bd3786"
             ],
             [
              0.5555555555555556,
              "#d8576b"
             ],
             [
              0.6666666666666666,
              "#ed7953"
             ],
             [
              0.7777777777777778,
              "#fb9f3a"
             ],
             [
              0.8888888888888888,
              "#fdca26"
             ],
             [
              1,
              "#f0f921"
             ]
            ],
            "type": "heatmap"
           }
          ],
          "heatmapgl": [
           {
            "colorbar": {
             "outlinewidth": 0,
             "ticks": ""
            },
            "colorscale": [
             [
              0,
              "#0d0887"
             ],
             [
              0.1111111111111111,
              "#46039f"
             ],
             [
              0.2222222222222222,
              "#7201a8"
             ],
             [
              0.3333333333333333,
              "#9c179e"
             ],
             [
              0.4444444444444444,
              "#bd3786"
             ],
             [
              0.5555555555555556,
              "#d8576b"
             ],
             [
              0.6666666666666666,
              "#ed7953"
             ],
             [
              0.7777777777777778,
              "#fb9f3a"
             ],
             [
              0.8888888888888888,
              "#fdca26"
             ],
             [
              1,
              "#f0f921"
             ]
            ],
            "type": "heatmapgl"
           }
          ],
          "histogram": [
           {
            "marker": {
             "pattern": {
              "fillmode": "overlay",
              "size": 10,
              "solidity": 0.2
             }
            },
            "type": "histogram"
           }
          ],
          "histogram2d": [
           {
            "colorbar": {
             "outlinewidth": 0,
             "ticks": ""
            },
            "colorscale": [
             [
              0,
              "#0d0887"
             ],
             [
              0.1111111111111111,
              "#46039f"
             ],
             [
              0.2222222222222222,
              "#7201a8"
             ],
             [
              0.3333333333333333,
              "#9c179e"
             ],
             [
              0.4444444444444444,
              "#bd3786"
             ],
             [
              0.5555555555555556,
              "#d8576b"
             ],
             [
              0.6666666666666666,
              "#ed7953"
             ],
             [
              0.7777777777777778,
              "#fb9f3a"
             ],
             [
              0.8888888888888888,
              "#fdca26"
             ],
             [
              1,
              "#f0f921"
             ]
            ],
            "type": "histogram2d"
           }
          ],
          "histogram2dcontour": [
           {
            "colorbar": {
             "outlinewidth": 0,
             "ticks": ""
            },
            "colorscale": [
             [
              0,
              "#0d0887"
             ],
             [
              0.1111111111111111,
              "#46039f"
             ],
             [
              0.2222222222222222,
              "#7201a8"
             ],
             [
              0.3333333333333333,
              "#9c179e"
             ],
             [
              0.4444444444444444,
              "#bd3786"
             ],
             [
              0.5555555555555556,
              "#d8576b"
             ],
             [
              0.6666666666666666,
              "#ed7953"
             ],
             [
              0.7777777777777778,
              "#fb9f3a"
             ],
             [
              0.8888888888888888,
              "#fdca26"
             ],
             [
              1,
              "#f0f921"
             ]
            ],
            "type": "histogram2dcontour"
           }
          ],
          "mesh3d": [
           {
            "colorbar": {
             "outlinewidth": 0,
             "ticks": ""
            },
            "type": "mesh3d"
           }
          ],
          "parcoords": [
           {
            "line": {
             "colorbar": {
              "outlinewidth": 0,
              "ticks": ""
             }
            },
            "type": "parcoords"
           }
          ],
          "pie": [
           {
            "automargin": true,
            "type": "pie"
           }
          ],
          "scatter": [
           {
            "fillpattern": {
             "fillmode": "overlay",
             "size": 10,
             "solidity": 0.2
            },
            "type": "scatter"
           }
          ],
          "scatter3d": [
           {
            "line": {
             "colorbar": {
              "outlinewidth": 0,
              "ticks": ""
             }
            },
            "marker": {
             "colorbar": {
              "outlinewidth": 0,
              "ticks": ""
             }
            },
            "type": "scatter3d"
           }
          ],
          "scattercarpet": [
           {
            "marker": {
             "colorbar": {
              "outlinewidth": 0,
              "ticks": ""
             }
            },
            "type": "scattercarpet"
           }
          ],
          "scattergeo": [
           {
            "marker": {
             "colorbar": {
              "outlinewidth": 0,
              "ticks": ""
             }
            },
            "type": "scattergeo"
           }
          ],
          "scattergl": [
           {
            "marker": {
             "colorbar": {
              "outlinewidth": 0,
              "ticks": ""
             }
            },
            "type": "scattergl"
           }
          ],
          "scattermapbox": [
           {
            "marker": {
             "colorbar": {
              "outlinewidth": 0,
              "ticks": ""
             }
            },
            "type": "scattermapbox"
           }
          ],
          "scatterpolar": [
           {
            "marker": {
             "colorbar": {
              "outlinewidth": 0,
              "ticks": ""
             }
            },
            "type": "scatterpolar"
           }
          ],
          "scatterpolargl": [
           {
            "marker": {
             "colorbar": {
              "outlinewidth": 0,
              "ticks": ""
             }
            },
            "type": "scatterpolargl"
           }
          ],
          "scatterternary": [
           {
            "marker": {
             "colorbar": {
              "outlinewidth": 0,
              "ticks": ""
             }
            },
            "type": "scatterternary"
           }
          ],
          "surface": [
           {
            "colorbar": {
             "outlinewidth": 0,
             "ticks": ""
            },
            "colorscale": [
             [
              0,
              "#0d0887"
             ],
             [
              0.1111111111111111,
              "#46039f"
             ],
             [
              0.2222222222222222,
              "#7201a8"
             ],
             [
              0.3333333333333333,
              "#9c179e"
             ],
             [
              0.4444444444444444,
              "#bd3786"
             ],
             [
              0.5555555555555556,
              "#d8576b"
             ],
             [
              0.6666666666666666,
              "#ed7953"
             ],
             [
              0.7777777777777778,
              "#fb9f3a"
             ],
             [
              0.8888888888888888,
              "#fdca26"
             ],
             [
              1,
              "#f0f921"
             ]
            ],
            "type": "surface"
           }
          ],
          "table": [
           {
            "cells": {
             "fill": {
              "color": "#EBF0F8"
             },
             "line": {
              "color": "white"
             }
            },
            "header": {
             "fill": {
              "color": "#C8D4E3"
             },
             "line": {
              "color": "white"
             }
            },
            "type": "table"
           }
          ]
         },
         "layout": {
          "annotationdefaults": {
           "arrowcolor": "#2a3f5f",
           "arrowhead": 0,
           "arrowwidth": 1
          },
          "autotypenumbers": "strict",
          "coloraxis": {
           "colorbar": {
            "outlinewidth": 0,
            "ticks": ""
           }
          },
          "colorscale": {
           "diverging": [
            [
             0,
             "#8e0152"
            ],
            [
             0.1,
             "#c51b7d"
            ],
            [
             0.2,
             "#de77ae"
            ],
            [
             0.3,
             "#f1b6da"
            ],
            [
             0.4,
             "#fde0ef"
            ],
            [
             0.5,
             "#f7f7f7"
            ],
            [
             0.6,
             "#e6f5d0"
            ],
            [
             0.7,
             "#b8e186"
            ],
            [
             0.8,
             "#7fbc41"
            ],
            [
             0.9,
             "#4d9221"
            ],
            [
             1,
             "#276419"
            ]
           ],
           "sequential": [
            [
             0,
             "#0d0887"
            ],
            [
             0.1111111111111111,
             "#46039f"
            ],
            [
             0.2222222222222222,
             "#7201a8"
            ],
            [
             0.3333333333333333,
             "#9c179e"
            ],
            [
             0.4444444444444444,
             "#bd3786"
            ],
            [
             0.5555555555555556,
             "#d8576b"
            ],
            [
             0.6666666666666666,
             "#ed7953"
            ],
            [
             0.7777777777777778,
             "#fb9f3a"
            ],
            [
             0.8888888888888888,
             "#fdca26"
            ],
            [
             1,
             "#f0f921"
            ]
           ],
           "sequentialminus": [
            [
             0,
             "#0d0887"
            ],
            [
             0.1111111111111111,
             "#46039f"
            ],
            [
             0.2222222222222222,
             "#7201a8"
            ],
            [
             0.3333333333333333,
             "#9c179e"
            ],
            [
             0.4444444444444444,
             "#bd3786"
            ],
            [
             0.5555555555555556,
             "#d8576b"
            ],
            [
             0.6666666666666666,
             "#ed7953"
            ],
            [
             0.7777777777777778,
             "#fb9f3a"
            ],
            [
             0.8888888888888888,
             "#fdca26"
            ],
            [
             1,
             "#f0f921"
            ]
           ]
          },
          "colorway": [
           "#636efa",
           "#EF553B",
           "#00cc96",
           "#ab63fa",
           "#FFA15A",
           "#19d3f3",
           "#FF6692",
           "#B6E880",
           "#FF97FF",
           "#FECB52"
          ],
          "font": {
           "color": "#2a3f5f"
          },
          "geo": {
           "bgcolor": "white",
           "lakecolor": "white",
           "landcolor": "#E5ECF6",
           "showlakes": true,
           "showland": true,
           "subunitcolor": "white"
          },
          "hoverlabel": {
           "align": "left"
          },
          "hovermode": "closest",
          "mapbox": {
           "style": "light"
          },
          "paper_bgcolor": "white",
          "plot_bgcolor": "#E5ECF6",
          "polar": {
           "angularaxis": {
            "gridcolor": "white",
            "linecolor": "white",
            "ticks": ""
           },
           "bgcolor": "#E5ECF6",
           "radialaxis": {
            "gridcolor": "white",
            "linecolor": "white",
            "ticks": ""
           }
          },
          "scene": {
           "xaxis": {
            "backgroundcolor": "#E5ECF6",
            "gridcolor": "white",
            "gridwidth": 2,
            "linecolor": "white",
            "showbackground": true,
            "ticks": "",
            "zerolinecolor": "white"
           },
           "yaxis": {
            "backgroundcolor": "#E5ECF6",
            "gridcolor": "white",
            "gridwidth": 2,
            "linecolor": "white",
            "showbackground": true,
            "ticks": "",
            "zerolinecolor": "white"
           },
           "zaxis": {
            "backgroundcolor": "#E5ECF6",
            "gridcolor": "white",
            "gridwidth": 2,
            "linecolor": "white",
            "showbackground": true,
            "ticks": "",
            "zerolinecolor": "white"
           }
          },
          "shapedefaults": {
           "line": {
            "color": "#2a3f5f"
           }
          },
          "ternary": {
           "aaxis": {
            "gridcolor": "white",
            "linecolor": "white",
            "ticks": ""
           },
           "baxis": {
            "gridcolor": "white",
            "linecolor": "white",
            "ticks": ""
           },
           "bgcolor": "#E5ECF6",
           "caxis": {
            "gridcolor": "white",
            "linecolor": "white",
            "ticks": ""
           }
          },
          "title": {
           "x": 0.05
          },
          "xaxis": {
           "automargin": true,
           "gridcolor": "white",
           "linecolor": "white",
           "ticks": "",
           "title": {
            "standoff": 15
           },
           "zerolinecolor": "white",
           "zerolinewidth": 2
          },
          "yaxis": {
           "automargin": true,
           "gridcolor": "white",
           "linecolor": "white",
           "ticks": "",
           "title": {
            "standoff": 15
           },
           "zerolinecolor": "white",
           "zerolinewidth": 2
          }
         }
        },
        "title": {
         "text": "Residual vs. Predicted Sale Price"
        },
        "xaxis": {
         "anchor": "y",
         "domain": [
          0,
          1
         ],
         "title": {
          "text": "Predicted Sale Price"
         }
        },
        "yaxis": {
         "anchor": "x",
         "domain": [
          0,
          1
         ],
         "title": {
          "text": "Residual"
         }
        }
       }
      }
     },
     "metadata": {},
     "output_type": "display_data"
    }
   ],
   "source": [
    "rfr_predicted_y = final_rfr_mdl.predict(scaled_X_test_df)\n",
    "rfr_residual = y_test - rfr_predicted_y\n",
    "rfr_z_score = (rfr_residual - np.mean(rfr_residual))/np.std(rfr_residual)\n",
    "\n",
    "fig_2b = px.scatter(x=rfr_predicted_y, y=rfr_residual)\n",
    "\n",
    "fig_2b.update_xaxes(title_text=\"Predicted Sale Price\")\n",
    "fig_2b.update_yaxes(title_text=\"Residual\")\n",
    "fig_2b.update_layout(title_text=\"Residual vs. Predicted Sale Price\")\n",
    "fig_2b.show()"
   ]
  },
  {
   "cell_type": "markdown",
   "metadata": {},
   "source": [
    "Based on residual vs. predicted sale price, it can be seen that the random forest model performed relatively good at the lower end of the house price. As the house price increases, the model performance deteriorate. In order to enhance the model ability to make better prediction, something has to be done for house with higher price."
   ]
  },
  {
   "cell_type": "code",
   "execution_count": 82,
   "metadata": {},
   "outputs": [
    {
     "data": {
      "application/vnd.plotly.v1+json": {
       "config": {
        "plotlyServerURL": "https://plot.ly"
       },
       "data": [
        {
         "hovertemplate": "x=%{x}<br>y=%{y}<extra></extra>",
         "legendgroup": "",
         "marker": {
          "color": "#636efa",
          "symbol": "circle"
         },
         "mode": "markers",
         "name": "",
         "orientation": "v",
         "showlegend": false,
         "type": "scatter",
         "x": [
          -10.235735891501161,
          -3.995969570226623,
          -2.4010665379122527,
          -2.3327507810470585,
          -2.1668098825303392,
          -1.8197829371472867,
          -1.8062523742950976,
          -1.784206794249767,
          -1.6296380397429253,
          -1.574101984722886,
          -1.4601794060133857,
          -1.392268280313728,
          -1.3882803251391114,
          -1.3357143417370811,
          -1.241730704508204,
          -1.2261239655474527,
          -1.2248489691486364,
          -1.2090959029238444,
          -1.208557073134172,
          -1.1916759158321881,
          -1.1867932021297598,
          -1.181414606604193,
          -1.1595784654609622,
          -1.1490954142454672,
          -1.133093616661617,
          -1.101227332371281,
          -1.0976823682803871,
          -1.0969051342184133,
          -1.0457621835082185,
          -1.0147227471816953,
          -0.9982302477132918,
          -0.9802944938591748,
          -0.9756113882421074,
          -0.9657872051414415,
          -0.9597720323880111,
          -0.9019992396193074,
          -0.8593623512717109,
          -0.8590022914535518,
          -0.8527754777485804,
          -0.8337232799515164,
          -0.8330879724425554,
          -0.8184595511689142,
          -0.7979263437314592,
          -0.7866939828402483,
          -0.7655892674162389,
          -0.7514964710408754,
          -0.7421128003549513,
          -0.7409194787533383,
          -0.7268375280742965,
          -0.7188117995936852,
          -0.7120767056958567,
          -0.7072427436566128,
          -0.7058568103746768,
          -0.6910328251282831,
          -0.6829747841473526,
          -0.6655204469778038,
          -0.6628619582465735,
          -0.6566144917530757,
          -0.6427345318999719,
          -0.6227414765788339,
          -0.6152160966783159,
          -0.6135386306002001,
          -0.6098327664913936,
          -0.5882676796854432,
          -0.580473575956359,
          -0.5736635585286058,
          -0.5681823673757644,
          -0.5559493230567123,
          -0.5552444644629233,
          -0.5527316601210087,
          -0.5392442322573514,
          -0.5392340412719423,
          -0.53297314015846,
          -0.5230126233516674,
          -0.5172171382117021,
          -0.5168605802712039,
          -0.5126366003134306,
          -0.5075788997769328,
          -0.5006029465927799,
          -0.46728161341374436,
          -0.4413602722547285,
          -0.43361209885591073,
          -0.43348501800725503,
          -0.42792899321011013,
          -0.42689507694343964,
          -0.4250186917662419,
          -0.41938130972549204,
          -0.40643917291871534,
          -0.38620778356379376,
          -0.37087868983339,
          -0.3539008035506628,
          -0.3250532065906479,
          -0.31910234309599206,
          -0.31211463823028535,
          -0.3024802438841641,
          -0.3008676461372914,
          -0.29739825859861635,
          -0.2946392240776971,
          -0.2942277839979415,
          -0.290901246926655,
          -0.2863500066086108,
          -0.281805764791567,
          -0.28161381245787565,
          -0.2790554854385132,
          -0.2756765995668672,
          -0.2730618938512397,
          -0.27114885768324143,
          -0.2694027573369576,
          -0.2676120644210932,
          -0.2662078545944398,
          -0.26422483374613476,
          -0.2588433119215414,
          -0.2545315934203706,
          -0.24950736516842284,
          -0.24605452629411054,
          -0.22232149969656273,
          -0.22179907465455886,
          -0.21166202264946163,
          -0.21011916822267587,
          -0.20802960659393965,
          -0.2063190931982637,
          -0.1996540355421975,
          -0.18878401408315446,
          -0.1883134215229111,
          -0.18802939234661933,
          -0.18493160070397846,
          -0.18265282577468514,
          -0.1814908406030384,
          -0.17307885275284152,
          -0.17162003578285845,
          -0.17089860917784783,
          -0.16922834723616556,
          -0.16825001067640932,
          -0.16309725085606686,
          -0.1598003000530613,
          -0.15812515344038505,
          -0.15701780149292013,
          -0.15516060513737875,
          -0.1536992766779493,
          -0.14413880555114128,
          -0.13951222810917763,
          -0.1390940959578568,
          -0.13805041923993278,
          -0.1355435006414449,
          -0.1328241667381812,
          -0.1265497805497435,
          -0.12494149768034496,
          -0.11892974599276875,
          -0.11889689889500149,
          -0.11485415495644767,
          -0.11451276188347796,
          -0.11360950643883408,
          -0.10319550439625859,
          -0.0979290267634903,
          -0.09474570658663903,
          -0.09362039936304707,
          -0.09326876829555009,
          -0.090668868923325,
          -0.08462904414965224,
          -0.0819382574531788,
          -0.07883583575788121,
          -0.07495799221471848,
          -0.07379506034241126,
          -0.06619623407733716,
          -0.05370127660398307,
          -0.05194558502370536,
          -0.04837927759671817,
          -0.047987996861318,
          -0.046296417786692405,
          -0.045721795267042314,
          -0.04489742352564543,
          -0.0448465225729836,
          -0.04073574646440522,
          -0.03928312714300805,
          -0.0324228477995576,
          -0.029991369516316597,
          -0.028578649505578792,
          -0.026856805889844446,
          -0.02037616999091248,
          -0.015902479772144734,
          -0.013516424273335572,
          -0.013184195030266618,
          -0.006075391698229453,
          -0.005888992550568171,
          0.0004400050335350451,
          0.006088138320722764,
          0.00902893717502033,
          0.01132507796238921,
          0.011869887249960732,
          0.013023363046108676,
          0.013900290643847107,
          0.019145504689894163,
          0.019220672883358162,
          0.02215125805143306,
          0.02742336888255096,
          0.03204682384606191,
          0.03261184035170379,
          0.03393499763183078,
          0.034198785711150724,
          0.0375117540768562,
          0.03776609165748446,
          0.04062789458582259,
          0.0435731041138942,
          0.04560901285856865,
          0.04581441870371936,
          0.05050211731958077,
          0.05737546065693503,
          0.058493067940564955,
          0.05877416411213018,
          0.0592458250659221,
          0.06165222011841141,
          0.06771490133541744,
          0.07925181191873196,
          0.0828536230130611,
          0.09205605930302259,
          0.09403892866246458,
          0.10208571540896524,
          0.1071956250853322,
          0.10792055948345951,
          0.11701949219942406,
          0.1331774101081025,
          0.13510682636659704,
          0.14318053418775553,
          0.14668779591208905,
          0.15086699273854495,
          0.15176771689559407,
          0.15452025425033178,
          0.15481796792821986,
          0.15554596960759964,
          0.1616383377404804,
          0.16876882560245296,
          0.1784500116009807,
          0.19375345770698396,
          0.1943842042006187,
          0.20368768572583204,
          0.20414066201664927,
          0.2056504534684036,
          0.21217329279286193,
          0.21368355990742632,
          0.2205280802869121,
          0.22061754200959893,
          0.22804129200534268,
          0.23291324496684254,
          0.2358844870844055,
          0.23872750358878236,
          0.2413878857863451,
          0.25260636242815393,
          0.2537001558307115,
          0.2567388932957097,
          0.26349790715036986,
          0.26480115104885593,
          0.27290126837682066,
          0.276180126537446,
          0.28232504793627955,
          0.2842657873006217,
          0.2848142242059992,
          0.2895701521993447,
          0.2963094678151632,
          0.30361398686531876,
          0.30545614351592276,
          0.306400996426815,
          0.3074985508120009,
          0.309182313989432,
          0.3199138823942715,
          0.3204954782361801,
          0.3217927322512579,
          0.32501743230941826,
          0.32557754113715687,
          0.32565746927944184,
          0.33574757340035005,
          0.34152701173313466,
          0.3499938426620984,
          0.3567359654894044,
          0.3614092077029887,
          0.37416935672766316,
          0.38266940421505896,
          0.39101322148246415,
          0.39298054643756364,
          0.3947035488077216,
          0.3995579435613113,
          0.42956888446001806,
          0.4356196475940095,
          0.4391093485208574,
          0.4559452378972447,
          0.46483649243508174,
          0.46844510179481985,
          0.4723301739811181,
          0.485187368268325,
          0.49932077986572504,
          0.5017298801255357,
          0.5095562324581739,
          0.5183531880153852,
          0.5193125973319386,
          0.5272740679631307,
          0.5363643271159358,
          0.5478304099438409,
          0.5522439895815915,
          0.5701419034661247,
          0.5754134100334711,
          0.5769785076868826,
          0.5781220434885348,
          0.5966832726317763,
          0.6003252457292942,
          0.6208393795097515,
          0.6230643892500741,
          0.6248633652687293,
          0.6560651428031031,
          0.6588167903922162,
          0.6821356318489364,
          0.6980527361376399,
          0.7071366940637788,
          0.7199992117241055,
          0.7232843238241362,
          0.7262450807651434,
          0.727962069624987,
          0.7329038160485758,
          0.7379786559146303,
          0.7488570770417726,
          0.7536748449084827,
          0.7619814725779076,
          0.7655719859681873,
          0.7662726181079724,
          0.7856908692270065,
          0.7890282551707477,
          0.7954876326028212,
          0.8001876888685254,
          0.8042383687500576,
          0.8142666349339506,
          0.8182771524124475,
          0.8249240361269149,
          0.8439918761888777,
          0.8822728915763771,
          0.9090560234358106,
          0.9161629459728446,
          0.9454899872543946,
          0.9671847044313691,
          0.9716117998663566,
          0.9747065822931174,
          0.9834153251880113,
          1.0614938651392698,
          1.0652898688146244,
          1.106839794054369,
          1.1130205390615524,
          1.175603266209219,
          1.198160427433231,
          1.207500013732366,
          1.3044117602630443,
          1.368511433462177,
          1.37909996636907,
          1.3875804263289615,
          1.3993660805357935,
          1.4267022753361587,
          1.5390573013912163,
          1.5519867263875404,
          1.7126097087899617,
          1.7181990681622425,
          2.0111144061370116,
          2.0807258280485774,
          2.19814301640724,
          2.2400266474789037,
          2.4253972385207394,
          3.618092288774858,
          3.804018363097003,
          4.353565485166323,
          4.400532035633906
         ],
         "xaxis": "x",
         "y": [
          74997.23319507418,
          82306.6735471392,
          82976.97386719825,
          83990.73751347825,
          84585.07979535821,
          86251.82524477453,
          87480.34660689493,
          88316.20231199375,
          89256.74615986084,
          90044.27074650822,
          90274.11900897947,
          90298.4743423857,
          90495.62897469389,
          90989.8030951582,
          91231.22844684708,
          95014.59083101377,
          95770.45521953909,
          96823.42669803425,
          96909.06681712177,
          97110.28968504722,
          97523.76407849655,
          98244.64042267628,
          98924.25406855733,
          99282.36856342708,
          100779.96972717464,
          102503.49987621646,
          103409.65148449058,
          103484.78103387747,
          105930.73043000528,
          106921.48874016972,
          107262.80317084178,
          107736.04423471911,
          107893.41024975554,
          107910.14356114743,
          108703.89100403721,
          108734.51328803724,
          108986.82065426678,
          110065.08750686732,
          111512.86825647578,
          111993.4463715239,
          112756.26718785863,
          113434.98808771529,
          113464.59668417416,
          114092.18957004028,
          114722.91985004648,
          114882.35617367539,
          115019.93799994982,
          115858.6851758387,
          116590.41744527197,
          116965.37785756463,
          117051.92068569922,
          117632.35770204876,
          117782.83660664422,
          118228.1746712213,
          118805.93088128301,
          118927.59068901958,
          119210.88392526384,
          119924.87870797797,
          120600.75300157977,
          121064.5895421149,
          122588.4262531658,
          122616.91553736769,
          122632.56894031895,
          122695.07097287473,
          122865.61673345964,
          122975.01408510738,
          123577.86735625268,
          124470.22961674977,
          124757.9601497941,
          124783.86817967884,
          124883.01231398055,
          124966.1630092524,
          125353.40683339833,
          126305.73354841574,
          127390.11306372224,
          127504.0540600657,
          127522.04674766166,
          127583.48346520956,
          127641.39783344607,
          127853.29401633122,
          128004.52287722804,
          128523.19462020345,
          129071.76131200283,
          129501.28446389486,
          130287.52639851805,
          130296.13505319504,
          130695.34540913718,
          131023.86372369947,
          131436.0130632663,
          131945.92312519404,
          132003.0968719275,
          132242.15315582257,
          132278.26083094536,
          132516.6069872729,
          132686.24935304292,
          133030.42838244783,
          134453.3503179197,
          134599.19778329457,
          134997.41187535477,
          135371.61680333005,
          135623.2009030157,
          135785.75534206882,
          135839.4779684683,
          136899.1717307354,
          137276.75715391344,
          137477.78754197355,
          137970.97498563834,
          138333.0899665237,
          138549.249591965,
          140154.312430785,
          140580.58073610175,
          140879.32980829518,
          141035.72598234666,
          141137.3607792112,
          141182.77108166984,
          141837.39587000685,
          142103.50589219894,
          143086.85773213973,
          143200.31766937647,
          143485.12178960675,
          143605.08467261196,
          143684.45945946715,
          143810.62576760608,
          144064.67701640129,
          144288.5547142606,
          144859.9031404264,
          145069.43703338964,
          145125.77060859097,
          145247.8796230757,
          145280.8647414679,
          145294.01765045116,
          145386.92122545696,
          145587.8093300985,
          145939.36746943588,
          146334.7639377869,
          146693.19761255058,
          147302.80329872866,
          147711.756729351,
          148309.80570475684,
          148521.29335330293,
          148746.08196441957,
          148906.94307051555,
          149317.14865217285,
          149329.92981205645,
          149345.46831751268,
          149901.92355688463,
          149920.6394276209,
          150730.15134155817,
          151222.46764718954,
          152178.28604006153,
          152678.52515170892,
          152732.33148524293,
          153098.52051581032,
          153323.28874470264,
          153450.84891301868,
          153983.75880162496,
          154308.92787996182,
          155254.43923681646,
          155443.97356064597,
          155519.62849369337,
          156461.152099647,
          157327.91622943492,
          158285.43236791287,
          158481.95012298564,
          158484.96179511212,
          158736.42635757264,
          159014.05751397973,
          159751.71480290376,
          160275.62662930373,
          160883.22556734114,
          161475.2980077804,
          161498.60974219756,
          162205.9295632927,
          162528.5103951385,
          162636.67597619165,
          162956.01902881218,
          163865.47689852712,
          163865.47689852712,
          164310.4328185943,
          165237.65116978862,
          165323.3644775446,
          165451.9294377993,
          167062.5319717144,
          167770.37929361322,
          168039.62168058366,
          168216.98101256305,
          168315.2036016381,
          169833.4508757173,
          169862.34493530428,
          171683.87840109254,
          172205.11482718174,
          172565.47107420402,
          173140.60651094565,
          174034.94662649962,
          174038.10424683706,
          174144.37060807805,
          174545.1976582703,
          174589.2068286768,
          174963.40309185305,
          175813.11584577448,
          175986.04086737375,
          176011.1932735862,
          176798.97161601787,
          176823.57091326703,
          177441.04133093514,
          177784.5532894961,
          178198.40907894116,
          181168.202056448,
          181451.0620504299,
          181506.62947719303,
          182430.7234006822,
          182590.96362792904,
          182826.1294403069,
          184076.27405469725,
          184237.74175944747,
          184252.77458670433,
          184472.87791803168,
          185068.1302254661,
          185189.01388324678,
          185950.84369216877,
          186600.99968028272,
          186755.6099177285,
          187113.1185222799,
          187786.75888027195,
          187825.56642593854,
          188208.0925762933,
          189230.21894731573,
          189355.3409212869,
          189500.3380425789,
          189846.6409651697,
          191027.01903758873,
          191161.1414065046,
          191522.18125329117,
          191742.93725234733,
          191748.00983668774,
          192842.53712708227,
          193781.57378342212,
          194571.49539880868,
          194905.2321223976,
          195834.58277664924,
          196087.25149514774,
          196244.4043289473,
          196976.2457252506,
          197066.15340467414,
          197209.8738383612,
          197244.60656765566,
          197468.40633729537,
          198721.55539883138,
          198969.0793222225,
          199117.57126244393,
          199524.51721457415,
          199603.651350335,
          200184.0860076733,
          202701.6633485043,
          204794.22302088825,
          205143.50308867017,
          206406.36833797235,
          206916.91078512513,
          206945.45478321915,
          208739.6276371251,
          209295.4991963188,
          209431.3042052208,
          209594.702602247,
          209825.64575967297,
          211513.76853983296,
          212106.40011409504,
          213574.61754996356,
          214327.47366311942,
          215451.94248915464,
          217256.92145113973,
          218998.94134883006,
          219508.73469620608,
          219690.1010061684,
          220015.56926201758,
          220585.35013917097,
          221770.8615850448,
          222008.6364753379,
          222404.40167569392,
          223936.2244470774,
          224487.89422628458,
          225027.9747327713,
          225338.3473670353,
          225573.74551643725,
          226492.64515158342,
          226545.97741104345,
          227504.6054414604,
          230175.7139227414,
          230240.21879184543,
          230798.95357205535,
          231188.6530912258,
          231221.29993104126,
          235491.4433737053,
          236572.55361468438,
          236933.01096248854,
          237188.79932671328,
          238083.47153075537,
          239488.56542415798,
          242023.65059555156,
          242469.52119348512,
          242813.73455766193,
          243880.74264149045,
          246017.02830437061,
          247129.0545493868,
          247546.57062739803,
          247714.88918854535,
          249627.242329923,
          250107.76226961552,
          250872.4054627749,
          251047.61964567812,
          251200.111334913,
          252423.68599513522,
          252465.046419168,
          252867.25266932466,
          254196.0223802002,
          255897.12528649165,
          255998.1466799569,
          257164.24107236895,
          258352.25709395923,
          258716.96780511065,
          261014.84262456416,
          262336.3736778755,
          262549.0978785828,
          263453.4967677222,
          266496.5800929061,
          267862.2502933874,
          268497.60102309485,
          272300.5431599337,
          277060.79474598146,
          278567.2173518643,
          279045.0671161513,
          281343.2193240803,
          282054.1267753702,
          283251.1208831712,
          284221.0518731664,
          287396.4493937912,
          287853.03981042665,
          298551.2622232253,
          298595.5127717595,
          300642.5348761251,
          301622.0106710298,
          304337.7169487699,
          311360.98330198845,
          315063.030885303,
          318253.86316419643,
          320810.8243066527,
          332242.0266355726,
          344237.87893816276,
          347815.3516079891,
          352202.9082976002,
          355659.102333935,
          358763.8938313398,
          371267.9620608592,
          374317.74593771156,
          376161.9677856767,
          384094.90694914607,
          393410.49484126974,
          402672.0732854384,
          404643.36426126544,
          414369.48574061523,
          419361.43147709337,
          420728.9061937358,
          463274.8339878133,
          487238.74224403827,
          490386.27203227277,
          570067.6614646805
         ],
         "yaxis": "y"
        }
       ],
       "layout": {
        "legend": {
         "tracegroupgap": 0
        },
        "margin": {
         "t": 60
        },
        "template": {
         "data": {
          "bar": [
           {
            "error_x": {
             "color": "#2a3f5f"
            },
            "error_y": {
             "color": "#2a3f5f"
            },
            "marker": {
             "line": {
              "color": "#E5ECF6",
              "width": 0.5
             },
             "pattern": {
              "fillmode": "overlay",
              "size": 10,
              "solidity": 0.2
             }
            },
            "type": "bar"
           }
          ],
          "barpolar": [
           {
            "marker": {
             "line": {
              "color": "#E5ECF6",
              "width": 0.5
             },
             "pattern": {
              "fillmode": "overlay",
              "size": 10,
              "solidity": 0.2
             }
            },
            "type": "barpolar"
           }
          ],
          "carpet": [
           {
            "aaxis": {
             "endlinecolor": "#2a3f5f",
             "gridcolor": "white",
             "linecolor": "white",
             "minorgridcolor": "white",
             "startlinecolor": "#2a3f5f"
            },
            "baxis": {
             "endlinecolor": "#2a3f5f",
             "gridcolor": "white",
             "linecolor": "white",
             "minorgridcolor": "white",
             "startlinecolor": "#2a3f5f"
            },
            "type": "carpet"
           }
          ],
          "choropleth": [
           {
            "colorbar": {
             "outlinewidth": 0,
             "ticks": ""
            },
            "type": "choropleth"
           }
          ],
          "contour": [
           {
            "colorbar": {
             "outlinewidth": 0,
             "ticks": ""
            },
            "colorscale": [
             [
              0,
              "#0d0887"
             ],
             [
              0.1111111111111111,
              "#46039f"
             ],
             [
              0.2222222222222222,
              "#7201a8"
             ],
             [
              0.3333333333333333,
              "#9c179e"
             ],
             [
              0.4444444444444444,
              "#bd3786"
             ],
             [
              0.5555555555555556,
              "#d8576b"
             ],
             [
              0.6666666666666666,
              "#ed7953"
             ],
             [
              0.7777777777777778,
              "#fb9f3a"
             ],
             [
              0.8888888888888888,
              "#fdca26"
             ],
             [
              1,
              "#f0f921"
             ]
            ],
            "type": "contour"
           }
          ],
          "contourcarpet": [
           {
            "colorbar": {
             "outlinewidth": 0,
             "ticks": ""
            },
            "type": "contourcarpet"
           }
          ],
          "heatmap": [
           {
            "colorbar": {
             "outlinewidth": 0,
             "ticks": ""
            },
            "colorscale": [
             [
              0,
              "#0d0887"
             ],
             [
              0.1111111111111111,
              "#46039f"
             ],
             [
              0.2222222222222222,
              "#7201a8"
             ],
             [
              0.3333333333333333,
              "#9c179e"
             ],
             [
              0.4444444444444444,
              "#bd3786"
             ],
             [
              0.5555555555555556,
              "#d8576b"
             ],
             [
              0.6666666666666666,
              "#ed7953"
             ],
             [
              0.7777777777777778,
              "#fb9f3a"
             ],
             [
              0.8888888888888888,
              "#fdca26"
             ],
             [
              1,
              "#f0f921"
             ]
            ],
            "type": "heatmap"
           }
          ],
          "heatmapgl": [
           {
            "colorbar": {
             "outlinewidth": 0,
             "ticks": ""
            },
            "colorscale": [
             [
              0,
              "#0d0887"
             ],
             [
              0.1111111111111111,
              "#46039f"
             ],
             [
              0.2222222222222222,
              "#7201a8"
             ],
             [
              0.3333333333333333,
              "#9c179e"
             ],
             [
              0.4444444444444444,
              "#bd3786"
             ],
             [
              0.5555555555555556,
              "#d8576b"
             ],
             [
              0.6666666666666666,
              "#ed7953"
             ],
             [
              0.7777777777777778,
              "#fb9f3a"
             ],
             [
              0.8888888888888888,
              "#fdca26"
             ],
             [
              1,
              "#f0f921"
             ]
            ],
            "type": "heatmapgl"
           }
          ],
          "histogram": [
           {
            "marker": {
             "pattern": {
              "fillmode": "overlay",
              "size": 10,
              "solidity": 0.2
             }
            },
            "type": "histogram"
           }
          ],
          "histogram2d": [
           {
            "colorbar": {
             "outlinewidth": 0,
             "ticks": ""
            },
            "colorscale": [
             [
              0,
              "#0d0887"
             ],
             [
              0.1111111111111111,
              "#46039f"
             ],
             [
              0.2222222222222222,
              "#7201a8"
             ],
             [
              0.3333333333333333,
              "#9c179e"
             ],
             [
              0.4444444444444444,
              "#bd3786"
             ],
             [
              0.5555555555555556,
              "#d8576b"
             ],
             [
              0.6666666666666666,
              "#ed7953"
             ],
             [
              0.7777777777777778,
              "#fb9f3a"
             ],
             [
              0.8888888888888888,
              "#fdca26"
             ],
             [
              1,
              "#f0f921"
             ]
            ],
            "type": "histogram2d"
           }
          ],
          "histogram2dcontour": [
           {
            "colorbar": {
             "outlinewidth": 0,
             "ticks": ""
            },
            "colorscale": [
             [
              0,
              "#0d0887"
             ],
             [
              0.1111111111111111,
              "#46039f"
             ],
             [
              0.2222222222222222,
              "#7201a8"
             ],
             [
              0.3333333333333333,
              "#9c179e"
             ],
             [
              0.4444444444444444,
              "#bd3786"
             ],
             [
              0.5555555555555556,
              "#d8576b"
             ],
             [
              0.6666666666666666,
              "#ed7953"
             ],
             [
              0.7777777777777778,
              "#fb9f3a"
             ],
             [
              0.8888888888888888,
              "#fdca26"
             ],
             [
              1,
              "#f0f921"
             ]
            ],
            "type": "histogram2dcontour"
           }
          ],
          "mesh3d": [
           {
            "colorbar": {
             "outlinewidth": 0,
             "ticks": ""
            },
            "type": "mesh3d"
           }
          ],
          "parcoords": [
           {
            "line": {
             "colorbar": {
              "outlinewidth": 0,
              "ticks": ""
             }
            },
            "type": "parcoords"
           }
          ],
          "pie": [
           {
            "automargin": true,
            "type": "pie"
           }
          ],
          "scatter": [
           {
            "fillpattern": {
             "fillmode": "overlay",
             "size": 10,
             "solidity": 0.2
            },
            "type": "scatter"
           }
          ],
          "scatter3d": [
           {
            "line": {
             "colorbar": {
              "outlinewidth": 0,
              "ticks": ""
             }
            },
            "marker": {
             "colorbar": {
              "outlinewidth": 0,
              "ticks": ""
             }
            },
            "type": "scatter3d"
           }
          ],
          "scattercarpet": [
           {
            "marker": {
             "colorbar": {
              "outlinewidth": 0,
              "ticks": ""
             }
            },
            "type": "scattercarpet"
           }
          ],
          "scattergeo": [
           {
            "marker": {
             "colorbar": {
              "outlinewidth": 0,
              "ticks": ""
             }
            },
            "type": "scattergeo"
           }
          ],
          "scattergl": [
           {
            "marker": {
             "colorbar": {
              "outlinewidth": 0,
              "ticks": ""
             }
            },
            "type": "scattergl"
           }
          ],
          "scattermapbox": [
           {
            "marker": {
             "colorbar": {
              "outlinewidth": 0,
              "ticks": ""
             }
            },
            "type": "scattermapbox"
           }
          ],
          "scatterpolar": [
           {
            "marker": {
             "colorbar": {
              "outlinewidth": 0,
              "ticks": ""
             }
            },
            "type": "scatterpolar"
           }
          ],
          "scatterpolargl": [
           {
            "marker": {
             "colorbar": {
              "outlinewidth": 0,
              "ticks": ""
             }
            },
            "type": "scatterpolargl"
           }
          ],
          "scatterternary": [
           {
            "marker": {
             "colorbar": {
              "outlinewidth": 0,
              "ticks": ""
             }
            },
            "type": "scatterternary"
           }
          ],
          "surface": [
           {
            "colorbar": {
             "outlinewidth": 0,
             "ticks": ""
            },
            "colorscale": [
             [
              0,
              "#0d0887"
             ],
             [
              0.1111111111111111,
              "#46039f"
             ],
             [
              0.2222222222222222,
              "#7201a8"
             ],
             [
              0.3333333333333333,
              "#9c179e"
             ],
             [
              0.4444444444444444,
              "#bd3786"
             ],
             [
              0.5555555555555556,
              "#d8576b"
             ],
             [
              0.6666666666666666,
              "#ed7953"
             ],
             [
              0.7777777777777778,
              "#fb9f3a"
             ],
             [
              0.8888888888888888,
              "#fdca26"
             ],
             [
              1,
              "#f0f921"
             ]
            ],
            "type": "surface"
           }
          ],
          "table": [
           {
            "cells": {
             "fill": {
              "color": "#EBF0F8"
             },
             "line": {
              "color": "white"
             }
            },
            "header": {
             "fill": {
              "color": "#C8D4E3"
             },
             "line": {
              "color": "white"
             }
            },
            "type": "table"
           }
          ]
         },
         "layout": {
          "annotationdefaults": {
           "arrowcolor": "#2a3f5f",
           "arrowhead": 0,
           "arrowwidth": 1
          },
          "autotypenumbers": "strict",
          "coloraxis": {
           "colorbar": {
            "outlinewidth": 0,
            "ticks": ""
           }
          },
          "colorscale": {
           "diverging": [
            [
             0,
             "#8e0152"
            ],
            [
             0.1,
             "#c51b7d"
            ],
            [
             0.2,
             "#de77ae"
            ],
            [
             0.3,
             "#f1b6da"
            ],
            [
             0.4,
             "#fde0ef"
            ],
            [
             0.5,
             "#f7f7f7"
            ],
            [
             0.6,
             "#e6f5d0"
            ],
            [
             0.7,
             "#b8e186"
            ],
            [
             0.8,
             "#7fbc41"
            ],
            [
             0.9,
             "#4d9221"
            ],
            [
             1,
             "#276419"
            ]
           ],
           "sequential": [
            [
             0,
             "#0d0887"
            ],
            [
             0.1111111111111111,
             "#46039f"
            ],
            [
             0.2222222222222222,
             "#7201a8"
            ],
            [
             0.3333333333333333,
             "#9c179e"
            ],
            [
             0.4444444444444444,
             "#bd3786"
            ],
            [
             0.5555555555555556,
             "#d8576b"
            ],
            [
             0.6666666666666666,
             "#ed7953"
            ],
            [
             0.7777777777777778,
             "#fb9f3a"
            ],
            [
             0.8888888888888888,
             "#fdca26"
            ],
            [
             1,
             "#f0f921"
            ]
           ],
           "sequentialminus": [
            [
             0,
             "#0d0887"
            ],
            [
             0.1111111111111111,
             "#46039f"
            ],
            [
             0.2222222222222222,
             "#7201a8"
            ],
            [
             0.3333333333333333,
             "#9c179e"
            ],
            [
             0.4444444444444444,
             "#bd3786"
            ],
            [
             0.5555555555555556,
             "#d8576b"
            ],
            [
             0.6666666666666666,
             "#ed7953"
            ],
            [
             0.7777777777777778,
             "#fb9f3a"
            ],
            [
             0.8888888888888888,
             "#fdca26"
            ],
            [
             1,
             "#f0f921"
            ]
           ]
          },
          "colorway": [
           "#636efa",
           "#EF553B",
           "#00cc96",
           "#ab63fa",
           "#FFA15A",
           "#19d3f3",
           "#FF6692",
           "#B6E880",
           "#FF97FF",
           "#FECB52"
          ],
          "font": {
           "color": "#2a3f5f"
          },
          "geo": {
           "bgcolor": "white",
           "lakecolor": "white",
           "landcolor": "#E5ECF6",
           "showlakes": true,
           "showland": true,
           "subunitcolor": "white"
          },
          "hoverlabel": {
           "align": "left"
          },
          "hovermode": "closest",
          "mapbox": {
           "style": "light"
          },
          "paper_bgcolor": "white",
          "plot_bgcolor": "#E5ECF6",
          "polar": {
           "angularaxis": {
            "gridcolor": "white",
            "linecolor": "white",
            "ticks": ""
           },
           "bgcolor": "#E5ECF6",
           "radialaxis": {
            "gridcolor": "white",
            "linecolor": "white",
            "ticks": ""
           }
          },
          "scene": {
           "xaxis": {
            "backgroundcolor": "#E5ECF6",
            "gridcolor": "white",
            "gridwidth": 2,
            "linecolor": "white",
            "showbackground": true,
            "ticks": "",
            "zerolinecolor": "white"
           },
           "yaxis": {
            "backgroundcolor": "#E5ECF6",
            "gridcolor": "white",
            "gridwidth": 2,
            "linecolor": "white",
            "showbackground": true,
            "ticks": "",
            "zerolinecolor": "white"
           },
           "zaxis": {
            "backgroundcolor": "#E5ECF6",
            "gridcolor": "white",
            "gridwidth": 2,
            "linecolor": "white",
            "showbackground": true,
            "ticks": "",
            "zerolinecolor": "white"
           }
          },
          "shapedefaults": {
           "line": {
            "color": "#2a3f5f"
           }
          },
          "ternary": {
           "aaxis": {
            "gridcolor": "white",
            "linecolor": "white",
            "ticks": ""
           },
           "baxis": {
            "gridcolor": "white",
            "linecolor": "white",
            "ticks": ""
           },
           "bgcolor": "#E5ECF6",
           "caxis": {
            "gridcolor": "white",
            "linecolor": "white",
            "ticks": ""
           }
          },
          "title": {
           "x": 0.05
          },
          "xaxis": {
           "automargin": true,
           "gridcolor": "white",
           "linecolor": "white",
           "ticks": "",
           "title": {
            "standoff": 15
           },
           "zerolinecolor": "white",
           "zerolinewidth": 2
          },
          "yaxis": {
           "automargin": true,
           "gridcolor": "white",
           "linecolor": "white",
           "ticks": "",
           "title": {
            "standoff": 15
           },
           "zerolinecolor": "white",
           "zerolinewidth": 2
          }
         }
        },
        "title": {
         "text": "Sample Quantile vs. Theoretical Quantile"
        },
        "xaxis": {
         "anchor": "y",
         "domain": [
          0,
          1
         ],
         "title": {
          "text": "Theoretical Quantiles"
         }
        },
        "yaxis": {
         "anchor": "x",
         "domain": [
          0,
          1
         ],
         "title": {
          "text": "Sample Quantile"
         }
        }
       }
      }
     },
     "metadata": {},
     "output_type": "display_data"
    }
   ],
   "source": [
    "fig_2c = px.scatter(x=sorted(rfr_z_score), y=sorted(rfr_predicted_y))\n",
    "\n",
    "fig_2c.update_xaxes(title_text=\"Theoretical Quantiles\")\n",
    "fig_2c.update_yaxes(title_text=\"Sample Quantile\")\n",
    "fig_2c.update_layout(title_text=\"Sample Quantile vs. Theoretical Quantile\")\n",
    "fig_2c.show()"
   ]
  },
  {
   "cell_type": "code",
   "execution_count": null,
   "metadata": {},
   "outputs": [],
   "source": []
  }
 ],
 "metadata": {
  "kernelspec": {
   "display_name": "Python 3",
   "language": "python",
   "name": "python3"
  },
  "language_info": {
   "codemirror_mode": {
    "name": "ipython",
    "version": 3
   },
   "file_extension": ".py",
   "mimetype": "text/x-python",
   "name": "python",
   "nbconvert_exporter": "python",
   "pygments_lexer": "ipython3",
   "version": "3.9.6"
  },
  "orig_nbformat": 4
 },
 "nbformat": 4,
 "nbformat_minor": 2
}
