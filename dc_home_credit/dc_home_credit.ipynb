{
 "cells": [
  {
   "cell_type": "markdown",
   "metadata": {},
   "source": [
    "# <center> Home Credit - Credit Risk Model Stability Data Challenge</center>\n",
    "\n",
    "---\n",
    "\n",
    "Link to the challenge: https://www.kaggle.com/competitions/home-credit-credit-risk-model-stability/data\n",
    "\n"
   ]
  },
  {
   "cell_type": "code",
   "execution_count": 1,
   "metadata": {},
   "outputs": [],
   "source": [
    "\n",
    "import math\n",
    "import pandas as pd\n",
    "import polars as pl\n",
    "import numpy as np\n",
    "\n",
    "import plotly.express as px\n",
    "import plotly.graph_objects as go\n",
    "\n",
    "from pandas.api.types import is_string_dtype\n",
    "from pandas.api.types import is_numeric_dtype\n",
    "from plotly.subplots import make_subplots\n",
    "from scipy import stats\n"
   ]
  },
  {
   "cell_type": "code",
   "execution_count": 2,
   "metadata": {},
   "outputs": [],
   "source": [
    "##### Functions used in notebook\n",
    "\n",
    "def dataframe_summary(dataframe: pd.DataFrame,\n",
    "                      max_length: int):\n",
    "    \n",
    "    pd.options.display.float_format = '{:,.4f}'.format\n",
    "\n",
    "    ### Get list of column names\n",
    "    col_names = dataframe.columns.to_list()\n",
    "\n",
    "    ### Get unique count of each column\n",
    "    col_length = [len(dataframe[val].unique()) for val in col_names]\n",
    "\n",
    "    ### Append info for dataframe\n",
    "    col_names.append(\"this_df\")\n",
    "    col_length.append(len(dataframe))\n",
    "\n",
    "    ### Create new dataframe for summary\n",
    "    summary_df = pd.DataFrame(list(zip(col_names, col_length)), columns=[\"column_name\", \"unique_count\"])\n",
    "    summary_df[\"uniqueness\"] = summary_df[\"unique_count\"]/len(dataframe) * 100\n",
    "\n",
    "    ### Count nan values in each column\n",
    "    nan_df = dataframe.isnull().sum(axis = 0).to_frame().reset_index().rename(columns={\"index\":\"column_name\", 0:\"nan_count\"})\n",
    "    nan_df[\"nan_percent\"] = nan_df[\"nan_count\"]/len(dataframe)*100\n",
    "    nan_df[\"percent_complete\"] = 100 - nan_df[\"nan_percent\"]\n",
    "\n",
    "    ### Create new frame for data type in each column\n",
    "    type_df = dataframe.dtypes.to_frame().reset_index().rename(columns={\"index\":\"column_name\", 0:\"data_type\"})\n",
    "    type_df[\"data_type\"] = type_df[\"data_type\"].astype(str)\n",
    "\n",
    "    ### Create new dataframe with unique entries for each column\n",
    "\n",
    "    col_name = []\n",
    "    unique_val = []\n",
    "    \n",
    "    for val  in dataframe.columns.to_list():\n",
    "\n",
    "        col_name.append(val)\n",
    "\n",
    "        if len(dataframe[val].unique())<=max_length:\n",
    "            unique_val.append(list(dataframe[val].unique()))\n",
    "\n",
    "        else:\n",
    "            unique_val.append(f\">{max_length} entries\")\n",
    "\n",
    "    unique_df = pd.DataFrame(list(zip(col_name, unique_val)),\n",
    "                             columns=[\"column_name\", \"unique_entries\"])\n",
    "    \n",
    "    \n",
    "\n",
    "    ### Merge summary_df with nan_df, type_df\n",
    "    summary_df = summary_df.merge(nan_df, on=\"column_name\", how=\"outer\")\n",
    "    summary_df = summary_df.merge(type_df, on=\"column_name\", how=\"outer\")\n",
    "    summary_df = summary_df.merge(unique_df, on=\"column_name\", how=\"outer\")\n",
    "\n",
    "\n",
    "    return summary_df.sort_values([\"data_type\", \"nan_count\"])\n",
    "\n",
    "\n",
    "def describe_dataframe(dataframe: pd.DataFrame):\n",
    "    \n",
    "    pd.options.display.float_format = '{:,.3f}'.format\n",
    "    \n",
    "    return dataframe.select_dtypes([int, float]).describe()\n",
    "\n",
    "\n",
    "def stats_tests(dataframe: pd.DataFrame):\n",
    "\n",
    "    cols = [val for val in dataframe.columns if val!=\"target\"]\n",
    "    pvals = []\n",
    "    tstats = []\n",
    "    \n",
    "\n",
    "    true_df = dataframe[dataframe[\"target\"]==1]\n",
    "    false_df = dataframe[dataframe[\"target\"]==0]\n",
    "\n",
    "    for col in cols:\n",
    "\n",
    "        if is_numeric_dtype(dataframe[col]):\n",
    "            result = stats.ttest_ind(true_df[col], false_df[col], nan_policy=\"omit\")\n",
    "\n",
    "            tstats.append(result.statistic)\n",
    "            pvals.append(result.pvalue)\n",
    "\n",
    "    result_df = pd.DataFrame(list(zip(cols, tstats, pvals)), columns=[\"col_name\", \"tstat\", \"pvalue\"])\n",
    "\n",
    "    return result_df\n",
    "\n",
    "\n"
   ]
  },
  {
   "cell_type": "code",
   "execution_count": 8,
   "metadata": {},
   "outputs": [],
   "source": [
    "pd.set_option(\"styler.format.thousands\", \",\")\n"
   ]
  },
  {
   "cell_type": "markdown",
   "metadata": {},
   "source": [
    "---\n",
    "---\n",
    "# <center> Data Exploration </center>\n",
    "---\n",
    "\n"
   ]
  },
  {
   "cell_type": "code",
   "execution_count": 3,
   "metadata": {},
   "outputs": [
    {
     "name": "stderr",
     "output_type": "stream",
     "text": [
      "/var/folders/pq/7mcbx8c97t90g8y2_ns4gjkr0000gn/T/ipykernel_2804/648692701.py:6: DtypeWarning: Columns (20,45,46,53,57,84,143,146,167) have mixed types. Specify dtype option on import or set low_memory=False.\n",
      "  static_df_1 = pd.read_csv(\"./csv_files/train/train_static_0_0.csv\")\n",
      "/var/folders/pq/7mcbx8c97t90g8y2_ns4gjkr0000gn/T/ipykernel_2804/648692701.py:7: DtypeWarning: Columns (20,45,46,56,57,84,143,146,167) have mixed types. Specify dtype option on import or set low_memory=False.\n",
      "  static_df_2 = pd.read_csv(\"./csv_files/train/train_static_0_1.csv\")\n",
      "/var/folders/pq/7mcbx8c97t90g8y2_ns4gjkr0000gn/T/ipykernel_2804/648692701.py:10: DtypeWarning: Columns (1,2,3,4,7,45,46,47,48) have mixed types. Specify dtype option on import or set low_memory=False.\n",
      "  static_cb = pd.read_csv(\"./csv_files/train/train_static_cb_0.csv\")\n"
     ]
    },
    {
     "data": {
      "text/html": [
       "<div>\n",
       "<style scoped>\n",
       "    .dataframe tbody tr th:only-of-type {\n",
       "        vertical-align: middle;\n",
       "    }\n",
       "\n",
       "    .dataframe tbody tr th {\n",
       "        vertical-align: top;\n",
       "    }\n",
       "\n",
       "    .dataframe thead th {\n",
       "        text-align: right;\n",
       "    }\n",
       "</style>\n",
       "<table border=\"1\" class=\"dataframe\">\n",
       "  <thead>\n",
       "    <tr style=\"text-align: right;\">\n",
       "      <th></th>\n",
       "      <th>case_id</th>\n",
       "      <th>date_decision</th>\n",
       "      <th>MONTH</th>\n",
       "      <th>WEEK_NUM</th>\n",
       "      <th>target</th>\n",
       "      <th>actualdpdtolerance_344P</th>\n",
       "      <th>amtinstpaidbefduel24m_4187115A</th>\n",
       "      <th>annuity_780A</th>\n",
       "      <th>annuitynextmonth_57A</th>\n",
       "      <th>applicationcnt_361L</th>\n",
       "      <th>...</th>\n",
       "      <th>pmtscount_423L</th>\n",
       "      <th>pmtssum_45A</th>\n",
       "      <th>requesttype_4525192L</th>\n",
       "      <th>responsedate_1012D</th>\n",
       "      <th>responsedate_4527233D</th>\n",
       "      <th>responsedate_4917613D</th>\n",
       "      <th>riskassesment_302T</th>\n",
       "      <th>riskassesment_940T</th>\n",
       "      <th>secondquarter_766L</th>\n",
       "      <th>thirdquarter_1082L</th>\n",
       "    </tr>\n",
       "  </thead>\n",
       "  <tbody>\n",
       "    <tr>\n",
       "      <th>0</th>\n",
       "      <td>357</td>\n",
       "      <td>2019-01-11</td>\n",
       "      <td>201901</td>\n",
       "      <td>1</td>\n",
       "      <td>0</td>\n",
       "      <td>NaN</td>\n",
       "      <td>NaN</td>\n",
       "      <td>7433.4</td>\n",
       "      <td>0.0</td>\n",
       "      <td>0.0</td>\n",
       "      <td>...</td>\n",
       "      <td>6.0</td>\n",
       "      <td>6301.4000</td>\n",
       "      <td>NaN</td>\n",
       "      <td>2019-01-25</td>\n",
       "      <td>NaN</td>\n",
       "      <td>NaN</td>\n",
       "      <td>NaN</td>\n",
       "      <td>NaN</td>\n",
       "      <td>NaN</td>\n",
       "      <td>NaN</td>\n",
       "    </tr>\n",
       "    <tr>\n",
       "      <th>1</th>\n",
       "      <td>381</td>\n",
       "      <td>2019-01-11</td>\n",
       "      <td>201901</td>\n",
       "      <td>1</td>\n",
       "      <td>0</td>\n",
       "      <td>0.0</td>\n",
       "      <td>NaN</td>\n",
       "      <td>2593.2</td>\n",
       "      <td>0.0</td>\n",
       "      <td>0.0</td>\n",
       "      <td>...</td>\n",
       "      <td>6.0</td>\n",
       "      <td>4019.6000</td>\n",
       "      <td>NaN</td>\n",
       "      <td>2019-01-25</td>\n",
       "      <td>NaN</td>\n",
       "      <td>NaN</td>\n",
       "      <td>NaN</td>\n",
       "      <td>NaN</td>\n",
       "      <td>NaN</td>\n",
       "      <td>NaN</td>\n",
       "    </tr>\n",
       "    <tr>\n",
       "      <th>2</th>\n",
       "      <td>388</td>\n",
       "      <td>2019-01-14</td>\n",
       "      <td>201901</td>\n",
       "      <td>1</td>\n",
       "      <td>0</td>\n",
       "      <td>NaN</td>\n",
       "      <td>NaN</td>\n",
       "      <td>5109.6</td>\n",
       "      <td>0.0</td>\n",
       "      <td>0.0</td>\n",
       "      <td>...</td>\n",
       "      <td>6.0</td>\n",
       "      <td>14548.0000</td>\n",
       "      <td>NaN</td>\n",
       "      <td>2019-01-28</td>\n",
       "      <td>NaN</td>\n",
       "      <td>NaN</td>\n",
       "      <td>NaN</td>\n",
       "      <td>NaN</td>\n",
       "      <td>3.0</td>\n",
       "      <td>5.0</td>\n",
       "    </tr>\n",
       "    <tr>\n",
       "      <th>3</th>\n",
       "      <td>405</td>\n",
       "      <td>2019-01-08</td>\n",
       "      <td>201901</td>\n",
       "      <td>1</td>\n",
       "      <td>0</td>\n",
       "      <td>NaN</td>\n",
       "      <td>NaN</td>\n",
       "      <td>10045.2</td>\n",
       "      <td>0.0</td>\n",
       "      <td>0.0</td>\n",
       "      <td>...</td>\n",
       "      <td>6.0</td>\n",
       "      <td>10498.2400</td>\n",
       "      <td>NaN</td>\n",
       "      <td>2019-01-21</td>\n",
       "      <td>NaN</td>\n",
       "      <td>NaN</td>\n",
       "      <td>NaN</td>\n",
       "      <td>NaN</td>\n",
       "      <td>2.0</td>\n",
       "      <td>0.0</td>\n",
       "    </tr>\n",
       "    <tr>\n",
       "      <th>4</th>\n",
       "      <td>409</td>\n",
       "      <td>2019-01-08</td>\n",
       "      <td>201901</td>\n",
       "      <td>1</td>\n",
       "      <td>0</td>\n",
       "      <td>NaN</td>\n",
       "      <td>NaN</td>\n",
       "      <td>1556.8</td>\n",
       "      <td>0.0</td>\n",
       "      <td>0.0</td>\n",
       "      <td>...</td>\n",
       "      <td>7.0</td>\n",
       "      <td>6344.8804</td>\n",
       "      <td>NaN</td>\n",
       "      <td>2019-01-21</td>\n",
       "      <td>NaN</td>\n",
       "      <td>NaN</td>\n",
       "      <td>NaN</td>\n",
       "      <td>NaN</td>\n",
       "      <td>0.0</td>\n",
       "      <td>4.0</td>\n",
       "    </tr>\n",
       "  </tbody>\n",
       "</table>\n",
       "<p>5 rows × 224 columns</p>\n",
       "</div>"
      ],
      "text/plain": [
       "   case_id date_decision   MONTH  WEEK_NUM  target  actualdpdtolerance_344P  \\\n",
       "0      357    2019-01-11  201901         1       0                      NaN   \n",
       "1      381    2019-01-11  201901         1       0                      0.0   \n",
       "2      388    2019-01-14  201901         1       0                      NaN   \n",
       "3      405    2019-01-08  201901         1       0                      NaN   \n",
       "4      409    2019-01-08  201901         1       0                      NaN   \n",
       "\n",
       "   amtinstpaidbefduel24m_4187115A  annuity_780A  annuitynextmonth_57A  \\\n",
       "0                             NaN        7433.4                   0.0   \n",
       "1                             NaN        2593.2                   0.0   \n",
       "2                             NaN        5109.6                   0.0   \n",
       "3                             NaN       10045.2                   0.0   \n",
       "4                             NaN        1556.8                   0.0   \n",
       "\n",
       "   applicationcnt_361L  ...  pmtscount_423L  pmtssum_45A  \\\n",
       "0                  0.0  ...             6.0    6301.4000   \n",
       "1                  0.0  ...             6.0    4019.6000   \n",
       "2                  0.0  ...             6.0   14548.0000   \n",
       "3                  0.0  ...             6.0   10498.2400   \n",
       "4                  0.0  ...             7.0    6344.8804   \n",
       "\n",
       "   requesttype_4525192L  responsedate_1012D  responsedate_4527233D  \\\n",
       "0                   NaN          2019-01-25                    NaN   \n",
       "1                   NaN          2019-01-25                    NaN   \n",
       "2                   NaN          2019-01-28                    NaN   \n",
       "3                   NaN          2019-01-21                    NaN   \n",
       "4                   NaN          2019-01-21                    NaN   \n",
       "\n",
       "   responsedate_4917613D  riskassesment_302T  riskassesment_940T  \\\n",
       "0                    NaN                 NaN                 NaN   \n",
       "1                    NaN                 NaN                 NaN   \n",
       "2                    NaN                 NaN                 NaN   \n",
       "3                    NaN                 NaN                 NaN   \n",
       "4                    NaN                 NaN                 NaN   \n",
       "\n",
       "   secondquarter_766L  thirdquarter_1082L  \n",
       "0                 NaN                 NaN  \n",
       "1                 NaN                 NaN  \n",
       "2                 3.0                 5.0  \n",
       "3                 2.0                 0.0  \n",
       "4                 0.0                 4.0  \n",
       "\n",
       "[5 rows x 224 columns]"
      ]
     },
     "execution_count": 3,
     "metadata": {},
     "output_type": "execute_result"
    }
   ],
   "source": [
    "##### Load base data\n",
    "base_df = pd.read_csv(\"./csv_files/train/train_base.csv\")\n",
    "\n",
    "##### Load static data\n",
    "### * static and static_cb come from different sources\n",
    "static_df_1 = pd.read_csv(\"./csv_files/train/train_static_0_0.csv\")\n",
    "static_df_2 = pd.read_csv(\"./csv_files/train/train_static_0_1.csv\")\n",
    "static_df = pd.concat([static_df_1, static_df_2])\n",
    "\n",
    "static_cb = pd.read_csv(\"./csv_files/train/train_static_cb_0.csv\")\n",
    "\n",
    "##### Combine base, static, and static_cb\n",
    "### * these can be combined since all three data have depth = 0. Hence they can be mapped back together\n",
    "combined_df = base_df.merge(static_df, on=[\"case_id\"])\n",
    "combined_df = combined_df.merge(static_cb, on=[\"case_id\"])\n",
    "combined_df.head(5)\n"
   ]
  },
  {
   "cell_type": "code",
   "execution_count": 4,
   "metadata": {},
   "outputs": [
    {
     "data": {
      "text/html": [
       "<div>\n",
       "<style scoped>\n",
       "    .dataframe tbody tr th:only-of-type {\n",
       "        vertical-align: middle;\n",
       "    }\n",
       "\n",
       "    .dataframe tbody tr th {\n",
       "        vertical-align: top;\n",
       "    }\n",
       "\n",
       "    .dataframe thead th {\n",
       "        text-align: right;\n",
       "    }\n",
       "</style>\n",
       "<table border=\"1\" class=\"dataframe\">\n",
       "  <thead>\n",
       "    <tr style=\"text-align: right;\">\n",
       "      <th></th>\n",
       "      <th>column_name</th>\n",
       "      <th>unique_count</th>\n",
       "      <th>uniqueness</th>\n",
       "      <th>nan_count</th>\n",
       "      <th>nan_percent</th>\n",
       "      <th>percent_complete</th>\n",
       "      <th>data_type</th>\n",
       "      <th>unique_entries</th>\n",
       "    </tr>\n",
       "  </thead>\n",
       "  <tbody>\n",
       "    <tr>\n",
       "      <th>68</th>\n",
       "      <td>isbidproduct_1095L</td>\n",
       "      <td>2</td>\n",
       "      <td>0.0001</td>\n",
       "      <td>0.0000</td>\n",
       "      <td>0.0000</td>\n",
       "      <td>100.0000</td>\n",
       "      <td>bool</td>\n",
       "      <td>[False, True]</td>\n",
       "    </tr>\n",
       "    <tr>\n",
       "      <th>7</th>\n",
       "      <td>annuity_780A</td>\n",
       "      <td>75044</td>\n",
       "      <td>5.0013</td>\n",
       "      <td>0.0000</td>\n",
       "      <td>0.0000</td>\n",
       "      <td>100.0000</td>\n",
       "      <td>float64</td>\n",
       "      <td>&gt;15 entries</td>\n",
       "    </tr>\n",
       "    <tr>\n",
       "      <th>9</th>\n",
       "      <td>applicationcnt_361L</td>\n",
       "      <td>5</td>\n",
       "      <td>0.0003</td>\n",
       "      <td>0.0000</td>\n",
       "      <td>0.0000</td>\n",
       "      <td>100.0000</td>\n",
       "      <td>float64</td>\n",
       "      <td>[0.0, 2.0, 1.0, 5.0, 3.0]</td>\n",
       "    </tr>\n",
       "    <tr>\n",
       "      <th>10</th>\n",
       "      <td>applications30d_658L</td>\n",
       "      <td>25</td>\n",
       "      <td>0.0017</td>\n",
       "      <td>0.0000</td>\n",
       "      <td>0.0000</td>\n",
       "      <td>100.0000</td>\n",
       "      <td>float64</td>\n",
       "      <td>&gt;15 entries</td>\n",
       "    </tr>\n",
       "    <tr>\n",
       "      <th>11</th>\n",
       "      <td>applicationscnt_1086L</td>\n",
       "      <td>125</td>\n",
       "      <td>0.0083</td>\n",
       "      <td>0.0000</td>\n",
       "      <td>0.0000</td>\n",
       "      <td>100.0000</td>\n",
       "      <td>float64</td>\n",
       "      <td>&gt;15 entries</td>\n",
       "    </tr>\n",
       "    <tr>\n",
       "      <th>...</th>\n",
       "      <td>...</td>\n",
       "      <td>...</td>\n",
       "      <td>...</td>\n",
       "      <td>...</td>\n",
       "      <td>...</td>\n",
       "      <td>...</td>\n",
       "      <td>...</td>\n",
       "      <td>...</td>\n",
       "    </tr>\n",
       "    <tr>\n",
       "      <th>178</th>\n",
       "      <td>dateofbirth_342D</td>\n",
       "      <td>665</td>\n",
       "      <td>0.0443</td>\n",
       "      <td>1,463,976.0000</td>\n",
       "      <td>97.5674</td>\n",
       "      <td>2.4326</td>\n",
       "      <td>object</td>\n",
       "      <td>&gt;15 entries</td>\n",
       "    </tr>\n",
       "    <tr>\n",
       "      <th>69</th>\n",
       "      <td>isbidproductrequest_292L</td>\n",
       "      <td>3</td>\n",
       "      <td>0.0002</td>\n",
       "      <td>1,488,228.0000</td>\n",
       "      <td>99.1837</td>\n",
       "      <td>0.8163</td>\n",
       "      <td>object</td>\n",
       "      <td>[nan, False, True]</td>\n",
       "    </tr>\n",
       "    <tr>\n",
       "      <th>150</th>\n",
       "      <td>payvacationpostpone_4187118D</td>\n",
       "      <td>597</td>\n",
       "      <td>0.0398</td>\n",
       "      <td>1,491,149.0000</td>\n",
       "      <td>99.3784</td>\n",
       "      <td>0.6216</td>\n",
       "      <td>object</td>\n",
       "      <td>&gt;15 entries</td>\n",
       "    </tr>\n",
       "    <tr>\n",
       "      <th>88</th>\n",
       "      <td>lastrepayingdate_696D</td>\n",
       "      <td>536</td>\n",
       "      <td>0.0357</td>\n",
       "      <td>1,498,139.0000</td>\n",
       "      <td>99.8442</td>\n",
       "      <td>0.1558</td>\n",
       "      <td>object</td>\n",
       "      <td>&gt;15 entries</td>\n",
       "    </tr>\n",
       "    <tr>\n",
       "      <th>224</th>\n",
       "      <td>this_df</td>\n",
       "      <td>1500476</td>\n",
       "      <td>100.0000</td>\n",
       "      <td>NaN</td>\n",
       "      <td>NaN</td>\n",
       "      <td>NaN</td>\n",
       "      <td>NaN</td>\n",
       "      <td>NaN</td>\n",
       "    </tr>\n",
       "  </tbody>\n",
       "</table>\n",
       "<p>225 rows × 8 columns</p>\n",
       "</div>"
      ],
      "text/plain": [
       "                      column_name  unique_count  uniqueness      nan_count  \\\n",
       "68             isbidproduct_1095L             2      0.0001         0.0000   \n",
       "7                    annuity_780A         75044      5.0013         0.0000   \n",
       "9             applicationcnt_361L             5      0.0003         0.0000   \n",
       "10           applications30d_658L            25      0.0017         0.0000   \n",
       "11          applicationscnt_1086L           125      0.0083         0.0000   \n",
       "..                            ...           ...         ...            ...   \n",
       "178              dateofbirth_342D           665      0.0443 1,463,976.0000   \n",
       "69       isbidproductrequest_292L             3      0.0002 1,488,228.0000   \n",
       "150  payvacationpostpone_4187118D           597      0.0398 1,491,149.0000   \n",
       "88          lastrepayingdate_696D           536      0.0357 1,498,139.0000   \n",
       "224                       this_df       1500476    100.0000            NaN   \n",
       "\n",
       "     nan_percent  percent_complete data_type             unique_entries  \n",
       "68        0.0000          100.0000      bool              [False, True]  \n",
       "7         0.0000          100.0000   float64                >15 entries  \n",
       "9         0.0000          100.0000   float64  [0.0, 2.0, 1.0, 5.0, 3.0]  \n",
       "10        0.0000          100.0000   float64                >15 entries  \n",
       "11        0.0000          100.0000   float64                >15 entries  \n",
       "..           ...               ...       ...                        ...  \n",
       "178      97.5674            2.4326    object                >15 entries  \n",
       "69       99.1837            0.8163    object         [nan, False, True]  \n",
       "150      99.3784            0.6216    object                >15 entries  \n",
       "88       99.8442            0.1558    object                >15 entries  \n",
       "224          NaN               NaN       NaN                        NaN  \n",
       "\n",
       "[225 rows x 8 columns]"
      ]
     },
     "execution_count": 4,
     "metadata": {},
     "output_type": "execute_result"
    }
   ],
   "source": [
    "combined_summary = dataframe_summary(combined_df, 15)\n",
    "\n",
    "combined_summary"
   ]
  },
  {
   "cell_type": "code",
   "execution_count": 12,
   "metadata": {},
   "outputs": [
    {
     "data": {
      "application/vnd.plotly.v1+json": {
       "config": {
        "plotlyServerURL": "https://plot.ly"
       },
       "data": [
        {
         "alignmentgroup": "True",
         "customdata": [
          [
           0.00013329103564468873,
           "bool"
          ]
         ],
         "hovertemplate": "data_type=%{customdata[1]}<br>column_name=%{x}<br>percent_complete=%{y}<br>uniqueness=%{customdata[0]}<extra></extra>",
         "legendgroup": "bool",
         "marker": {
          "color": "#636efa",
          "pattern": {
           "shape": ""
          }
         },
         "name": "bool",
         "offsetgroup": "bool",
         "orientation": "v",
         "showlegend": true,
         "textposition": "auto",
         "type": "bar",
         "x": [
          "isbidproduct_1095L"
         ],
         "xaxis": "x",
         "y": [
          100
         ],
         "yaxis": "y"
        },
        {
         "alignmentgroup": "True",
         "customdata": [
          [
           5.001346239460011,
           "float64"
          ],
          [
           0.0003332275891117219,
           "float64"
          ],
          [
           0.0016661379455586095,
           "float64"
          ],
          [
           0.008330689727793047,
           "float64"
          ],
          [
           0.016528088419941404,
           "float64"
          ],
          [
           0.005998096604010994,
           "float64"
          ],
          [
           0.01019676422681869,
           "float64"
          ],
          [
           0.005931451086188649,
           "float64"
          ],
          [
           0.005264995907965206,
           "float64"
          ],
          [
           0.005931451086188649,
           "float64"
          ],
          [
           0.0013329103564468875,
           "float64"
          ],
          [
           0.007131070406990849,
           "float64"
          ],
          [
           0.0007331006960457882,
           "float64"
          ],
          [
           0.002265947605959709,
           "float64"
          ],
          [
           0.002799111748538464,
           "float64"
          ],
          [
           0.0007997462138681325,
           "float64"
          ],
          [
           0.004465249694097073,
           "float64"
          ],
          [
           0.0006664551782234437,
           "float64"
          ],
          [
           0.005531577979254583,
           "float64"
          ],
          [
           0.0005998096604010993,
           "float64"
          ],
          [
           0.06911140198177113,
           "float64"
          ],
          [
           0.0014662013920915763,
           "float64"
          ],
          [
           12.137015187180602,
           "float64"
          ],
          [
           0.00006664551782234437,
           "float64"
          ],
          [
           13.285650686848708,
           "float64"
          ],
          [
           0.6635227754392606,
           "float64"
          ],
          [
           0.0009996827673351657,
           "float64"
          ],
          [
           0.001599492427736265,
           "float64"
          ],
          [
           0.0005331641425787549,
           "float64"
          ],
          [
           0.0003332275891117219,
           "float64"
          ],
          [
           0.0005998096604010993,
           "float64"
          ],
          [
           0.002799111748538464,
           "float64"
          ],
          [
           0.0003332275891117219,
           "float64"
          ],
          [
           0.0003332275891117219,
           "float64"
          ],
          [
           0.004331958658452384,
           "float64"
          ],
          [
           0.0005998096604010993,
           "float64"
          ],
          [
           0.004331958658452384,
           "float64"
          ],
          [
           23.93513791623458,
           "float64"
          ],
          [
           4.400936769398511,
           "float64"
          ],
          [
           23.928340073416702,
           "float64"
          ],
          [
           15.457161594054153,
           "float64"
          ],
          [
           0.02026023741799269,
           "float64"
          ],
          [
           49.06569648564855,
           "float64"
          ],
          [
           0.002732466230716119,
           "float64"
          ],
          [
           0.00019993655346703311,
           "float64"
          ],
          [
           0.003065693819827841,
           "float64"
          ],
          [
           0.003998731069340663,
           "float64"
          ],
          [
           0.0015328469099139205,
           "float64"
          ],
          [
           0.0061980331574780275,
           "float64"
          ],
          [
           0.002532529677249086,
           "float64"
          ],
          [
           0.004132022104985351,
           "float64"
          ],
          [
           0.003665503480228941,
           "float64"
          ],
          [
           0.0061980331574780275,
           "float64"
          ],
          [
           0.003732148998051285,
           "float64"
          ],
          [
           0.0035322124445842516,
           "float64"
          ],
          [
           0.00019993655346703311,
           "float64"
          ],
          [
           0.00019993655346703311,
           "float64"
          ],
          [
           0.007331006960457882,
           "float64"
          ],
          [
           0.007331006960457882,
           "float64"
          ],
          [
           11.49195322017813,
           "float64"
          ],
          [
           0.00013329103564468873,
           "float64"
          ],
          [
           0.00013329103564468873,
           "float64"
          ],
          [
           23.135591638919916,
           "float64"
          ],
          [
           28.989067469256426,
           "float64"
          ],
          [
           0.23272614823562657,
           "float64"
          ],
          [
           0.2573183443120716,
           "float64"
          ],
          [
           0.1515519075280111,
           "float64"
          ],
          [
           0.1964043410224489,
           "float64"
          ],
          [
           0.21933039915333535,
           "float64"
          ],
          [
           0.27791180931917603,
           "float64"
          ],
          [
           0.00013329103564468873,
           "float64"
          ],
          [
           0.26205017607745806,
           "float64"
          ],
          [
           0.011396383547620887,
           "float64"
          ],
          [
           8.550619936606783,
           "float64"
          ],
          [
           23.899082691092694,
           "float64"
          ],
          [
           0.019727073275413936,
           "float64"
          ],
          [
           0.020660110524926757,
           "float64"
          ],
          [
           0.019393845686302213,
           "float64"
          ],
          [
           0.011196446994153855,
           "float64"
          ],
          [
           0.013995558742692319,
           "float64"
          ],
          [
           0.018260871883322358,
           "float64"
          ],
          [
           0.007997462138681325,
           "float64"
          ],
          [
           0.32902892148891416,
           "float64"
          ],
          [
           0.007064424889168503,
           "float64"
          ],
          [
           0.004331958658452384,
           "float64"
          ],
          [
           0.02299270364870881,
           "float64"
          ],
          [
           0.007064424889168503,
           "float64"
          ],
          [
           0.021859729845728954,
           "float64"
          ],
          [
           0.015728342206073272,
           "float64"
          ],
          [
           0.025991751950714306,
           "float64"
          ],
          [
           0.0017994289812032981,
           "float64"
          ],
          [
           0.7127738131099731,
           "float64"
          ],
          [
           0.5057728347537714,
           "float64"
          ],
          [
           0.4232656836897091,
           "float64"
          ],
          [
           0.38514444749532817,
           "float64"
          ],
          [
           0.33815935743057535,
           "float64"
          ],
          [
           0.2873088273321266,
           "float64"
          ],
          [
           0.5097715658231121,
           "float64"
          ],
          [
           40.66182997928657,
           "float64"
          ],
          [
           0.005598223497076928,
           "float64"
          ],
          [
           0.30070457641441783,
           "float64"
          ],
          [
           0.30790229233923105,
           "float64"
          ],
          [
           6.1685758386005505,
           "float64"
          ],
          [
           13.622943652547592,
           "float64"
          ],
          [
           0.004931768318853484,
           "float64"
          ],
          [
           0.27391307824983535,
           "float64"
          ],
          [
           33.4071987822531,
           "float64"
          ],
          [
           0.01492859599220514,
           "float64"
          ],
          [
           5.020673439628491,
           "float64"
          ],
          [
           0.018794036025901115,
           "float64"
          ],
          [
           0.0034655669267619075,
           "float64"
          ],
          [
           0.017860998776388293,
           "float64"
          ],
          [
           0.021659793292261923,
           "float64"
          ],
          [
           0.007064424889168503,
           "float64"
          ],
          [
           0.0042653131406300395,
           "float64"
          ],
          [
           16.81273142656064,
           "float64"
          ],
          [
           37.29729765754334,
           "float64"
          ],
          [
           0.005264995907965206,
           "float64"
          ],
          [
           0.01966042775759159,
           "float64"
          ],
          [
           0.021659793292261923,
           "float64"
          ],
          [
           0.017860998776388293,
           "float64"
          ],
          [
           0.2359251330910991,
           "float64"
          ],
          [
           0.2625166947022145,
           "float64"
          ],
          [
           0.004465249694097073,
           "float64"
          ],
          [
           17.676390692020398,
           "float64"
          ],
          [
           0.15388450065179315,
           "float64"
          ],
          [
           0.2687147278596925,
           "float64"
          ],
          [
           0.2663821347359105,
           "float64"
          ],
          [
           6.185970318752183,
           "float64"
          ],
          [
           15.300344690618179,
           "float64"
          ],
          [
           9.3965514943258,
           "float64"
          ],
          [
           8.684577427429696,
           "float64"
          ],
          [
           3.096883922168699,
           "float64"
          ],
          [
           3.8010604634795895,
           "float64"
          ],
          [
           9.083184269525137,
           "float64"
          ],
          [
           0.002665820712893775,
           "float64"
          ],
          [
           2.666020649447242,
           "float64"
          ],
          [
           2.0344877225627065,
           "float64"
          ],
          [
           0.0010663282851575099,
           "float64"
          ],
          [
           0.3080355833748757,
           "float64"
          ],
          [
           2.1505175690914085,
           "float64"
          ],
          [
           0.0011329738029798545,
           "float64"
          ],
          [
           0.013595685635758255,
           "float64"
          ],
          [
           0.00019993655346703311,
           "float64"
          ],
          [
           0.003665503480228941,
           "float64"
          ],
          [
           0.00026658207128937747,
           "float64"
          ],
          [
           0.00013329103564468873,
           "float64"
          ],
          [
           0.00019993655346703311,
           "float64"
          ],
          [
           0.0006664551782234437,
           "float64"
          ],
          [
           0.00026658207128937747,
           "float64"
          ],
          [
           0.00013329103564468873,
           "float64"
          ],
          [
           0.0010663282851575099,
           "float64"
          ],
          [
           0.00026658207128937747,
           "float64"
          ],
          [
           0.00019993655346703311,
           "float64"
          ],
          [
           0.00039987310693406623,
           "float64"
          ],
          [
           0.00013329103564468873,
           "float64"
          ],
          [
           0.00019993655346703311,
           "float64"
          ],
          [
           0.00026658207128937747,
           "float64"
          ],
          [
           0.002532529677249086,
           "float64"
          ],
          [
           0.0009330372495128213,
           "float64"
          ],
          [
           0.00013329103564468873,
           "float64"
          ],
          [
           0.015461760134783894,
           "float64"
          ],
          [
           0.0061980331574780275,
           "float64"
          ],
          [
           0.00039987310693406623,
           "float64"
          ]
         ],
         "hovertemplate": "data_type=%{customdata[1]}<br>column_name=%{x}<br>percent_complete=%{y}<br>uniqueness=%{customdata[0]}<extra></extra>",
         "legendgroup": "float64",
         "marker": {
          "color": "#EF553B",
          "pattern": {
           "shape": ""
          }
         },
         "name": "float64",
         "offsetgroup": "float64",
         "orientation": "v",
         "showlegend": true,
         "textposition": "auto",
         "type": "bar",
         "x": [
          "annuity_780A",
          "applicationcnt_361L",
          "applications30d_658L",
          "applicationscnt_1086L",
          "applicationscnt_464L",
          "applicationscnt_629L",
          "applicationscnt_867L",
          "clientscnt12m_3712952L",
          "clientscnt3m_3712950L",
          "clientscnt6m_3712949L",
          "clientscnt_100L",
          "clientscnt_1022L",
          "clientscnt_1071L",
          "clientscnt_1130L",
          "clientscnt_157L",
          "clientscnt_257L",
          "clientscnt_304L",
          "clientscnt_360L",
          "clientscnt_493L",
          "clientscnt_533L",
          "clientscnt_887L",
          "clientscnt_946L",
          "credamount_770A",
          "deferredmnthsnum_166L",
          "disbursedcredamount_1113A",
          "downpmt_116A",
          "homephncnt_628L",
          "mobilephncnt_593L",
          "numactivecreds_622L",
          "numactivecredschannel_414L",
          "numactiverelcontr_750L",
          "numcontrs3months_479L",
          "numnotactivated_1143L",
          "numpmtchanneldd_318L",
          "numrejects9m_859L",
          "sellerplacecnt_915L",
          "sellerplacescnt_216L",
          "totaldebt_9A",
          "annuitynextmonth_57A",
          "currdebt_22A",
          "currdebtcredtyperange_828A",
          "numinstls_657L",
          "totalsettled_863A",
          "pmtnum_254L",
          "posfpd10lastmonth_333P",
          "days120_123L",
          "days180_256L",
          "days30_165L",
          "days360_512L",
          "days90_310L",
          "firstquarter_103L",
          "fourthquarter_440L",
          "numberofqueries_373L",
          "secondquarter_766L",
          "thirdquarter_1082L",
          "posfpd30lastmonth_3976960P",
          "posfstqpd30lastmonth_3976962P",
          "eir_270L",
          "interestrate_311L",
          "price_1097A",
          "mastercontrelectronic_519L",
          "mastercontrexist_109L",
          "maxannuity_159A",
          "maxdebt4_972A",
          "maxdpdlast12m_727P",
          "maxdpdlast24m_143P",
          "maxdpdlast3m_392P",
          "maxdpdlast6m_474P",
          "maxdpdlast9m_1059P",
          "maxdpdtolerance_374P",
          "commnoinclast6m_3546845L",
          "maxdpdfrom6mto36m_3546853P",
          "actualdpdtolerance_344P",
          "lastapprcredamount_781A",
          "sumoutstandtotal_3546847A",
          "numinstlallpaidearly3d_817L",
          "numinstlsallpaid_934L",
          "numinstpaidearly3d_3546850L",
          "monthsannuity_845L",
          "numinstpaidearly5d_1087L",
          "numinstpaidearly_338L",
          "numinstpaidlate1d_3546852L",
          "daysoverduetolerancedd_3976961L",
          "numinsttopaygr_769L",
          "numinstunpaidmax_3546851L",
          "numincomingpmts_3546848L",
          "cntincpaycont9m_3716944L",
          "numinstregularpaid_973L",
          "numinstlswithdpd10_728L",
          "numinstlswithoutdpd_562L",
          "cntpmts24_3658933L",
          "pctinstlsallpaidearl3d_427L",
          "pctinstlsallpaidlate1d_3546856L",
          "pctinstlsallpaidlate4d_3546849L",
          "pctinstlsallpaidlate6d_3546844L",
          "pctinstlsallpaidlat10d_839L",
          "avgdpdtolclosure24_3658938P",
          "maininc_215A",
          "amtinstpaidbefduel24m_4187115A",
          "numinstlswithdpd5_4187116L",
          "avgdbddpdlast24m_3658932P",
          "mindbddpdlast24m_3658935P",
          "avginstallast24m_3658937A",
          "maxinstallast24m_3658928A",
          "numinstpaidlastcontr_4325080L",
          "maxdbddpdtollast12m_3658940P",
          "maxoutstandbalancel12m_4187113A",
          "avgmaxdpdlast9m_3716943P",
          "lastrejectcredamount_222A",
          "numinstpaidearly3dest_4493216L",
          "numinstpaidearly5dest_4493211L",
          "numinstpaidearlyest_4493214L",
          "numinstregularpaidest_4493210L",
          "numinsttopaygrest_4493213L",
          "numinstunpaidmaxest_4493212L",
          "sumoutstandtotalest_4493215A",
          "avgoutstandbalancel6m_4187114A",
          "maxdpdinstlnum_3546846P",
          "numinstmatpaidtearly2d_4499204L",
          "numinstpaid_4499208L",
          "numinstpaidearly5dobd_4499205L",
          "maxdbddpdtollast6m_4187119P",
          "avgdbddpdlast3m_4187120P",
          "pmtscount_423L",
          "pmtssum_45A",
          "maxdbddpdlast1m_3658939P",
          "avgdbdtollast24m_4525197P",
          "mindbdtollast24m_4525191P",
          "avgpmtlast12m_4525200A",
          "maxlnamtstart6m_4525199A",
          "maxpmtlast3m_4525190A",
          "totinstallast1m_4525188A",
          "inittransactionamount_650A",
          "avglnamtstart24m_4525187A",
          "contractssum_5085716L",
          "pmtcount_693L",
          "pmtaverage_3A",
          "pmtaverage_4527227A",
          "pmtcount_4527229L",
          "maxannuity_4075009A",
          "pmtaverage_4955615A",
          "pmtcount_4955617L",
          "riskassesment_940T",
          "for3years_128L",
          "for3years_504L",
          "for3years_584L",
          "formonth_118L",
          "formonth_206L",
          "formonth_535L",
          "forquarter_1017L",
          "forquarter_462L",
          "forquarter_634L",
          "fortoday_1092L",
          "forweek_1077L",
          "forweek_528L",
          "forweek_601L",
          "foryear_618L",
          "foryear_818L",
          "foryear_850L",
          "lastdependentsnum_448L",
          "interestrategrace_34L",
          "lastotherlnsexpense_631A",
          "lastotherinc_902A",
          "clientscnt_136L"
         ],
         "xaxis": "x",
         "y": [
          100,
          100,
          100,
          100,
          100,
          100,
          100,
          100,
          100,
          100,
          100,
          100,
          100,
          100,
          100,
          100,
          100,
          100,
          100,
          100,
          100,
          100,
          100,
          100,
          100,
          100,
          100,
          100,
          100,
          100,
          100,
          100,
          100,
          100,
          100,
          100,
          100,
          99.99980006344653,
          99.99973341792871,
          99.99973341792871,
          99.99973341792871,
          99.99973341792871,
          99.99973341792871,
          97.09652137055174,
          94.80131638226803,
          92.3500942367622,
          92.3500942367622,
          92.3500942367622,
          92.3500942367622,
          92.3500942367622,
          92.3500942367622,
          92.3500942367622,
          92.3500942367622,
          92.3500942367622,
          92.3500942367622,
          91.41045908098496,
          88.18368304458052,
          87.45751348238825,
          87.45751348238825,
          85.71766559411813,
          79.96042589151709,
          79.96042589151709,
          79.96042589151709,
          79.96042589151709,
          79.96042589151709,
          79.96042589151709,
          79.96042589151709,
          79.96042589151709,
          79.96042589151709,
          79.96042589151709,
          77.57391654381676,
          77.57391654381676,
          72.61848906613635,
          71.0584507849509,
          70.84518512791941,
          70.82052628632513,
          70.82052628632513,
          70.73581983317294,
          70.36627043684804,
          70.36627043684804,
          70.36627043684804,
          70.36627043684804,
          70.36620379133022,
          70.36620379133022,
          70.36620379133022,
          70.20352208232588,
          70.19659094847236,
          70.16506761854238,
          70.10988512978548,
          70.10988512978548,
          69.9733284637675,
          69.96193208021988,
          69.96193208021988,
          69.8901548575252,
          69.8734268325518,
          69.78892031595308,
          69.40857434574096,
          66.48216965816181,
          64.34164891674376,
          64.34164891674376,
          59.84467595616324,
          59.84467595616324,
          59.07518680738645,
          59.07518680738645,
          57.14100058914638,
          53.78779800543294,
          50.62513495717359,
          50.404471647663804,
          49.6924975807677,
          45.716825860593566,
          45.716825860593566,
          45.716825860593566,
          45.716825860593566,
          45.716825860593566,
          45.716825860593566,
          45.716825860593566,
          45.67883791543483,
          45.67177349054566,
          45.28063094644633,
          45.28063094644633,
          45.28063094644633,
          43.34111308678046,
          38.54516833324892,
          38.16375603475164,
          38.16375603475164,
          37.04497772706794,
          36.90842106104996,
          36.90842106104996,
          33.29903310682744,
          32.9078905627281,
          26.478530812888707,
          23.48747997302189,
          12.639988910185835,
          10.829296836470562,
          10.485272673471613,
          9.757303682298144,
          9.56956325859261,
          7.662768348177508,
          7.662768348177508,
          5.0600609406614865,
          4.788147227946325,
          4.788147227946325,
          3.5695339345647596,
          2.433494437765077,
          2.433494437765077,
          2.433494437765077,
          2.433494437765077,
          2.433494437765077,
          2.433494437765077,
          2.433494437765077,
          2.433494437765077,
          2.433494437765077,
          2.433494437765077,
          2.433494437765077,
          2.433494437765077,
          2.433494437765077,
          2.433494437765077,
          2.433494437765077,
          2.433494437765077,
          1.8622090589919509,
          1.3592353359867104,
          0.19760396034325822,
          0.19567124032640493,
          0.02172643881009151
         ],
         "yaxis": "y"
        },
        {
         "alignmentgroup": "True",
         "customdata": [
          [
           100,
           "int64"
          ],
          [
           0.0014662013920915763,
           "int64"
          ],
          [
           0.006131387639655682,
           "int64"
          ],
          [
           0.00013329103564468873,
           "int64"
          ]
         ],
         "hovertemplate": "data_type=%{customdata[1]}<br>column_name=%{x}<br>percent_complete=%{y}<br>uniqueness=%{customdata[0]}<extra></extra>",
         "legendgroup": "int64",
         "marker": {
          "color": "#00cc96",
          "pattern": {
           "shape": ""
          }
         },
         "name": "int64",
         "offsetgroup": "int64",
         "orientation": "v",
         "showlegend": true,
         "textposition": "auto",
         "type": "bar",
         "x": [
          "case_id",
          "MONTH",
          "WEEK_NUM",
          "target"
         ],
         "xaxis": "x",
         "y": [
          100,
          100,
          100,
          100
         ],
         "yaxis": "y"
        },
        {
         "alignmentgroup": "True",
         "customdata": [
          [
           0.04251984037065571,
           "object"
          ],
          [
           0.002999048302005497,
           "object"
          ],
          [
           0.014262140813981698,
           "object"
          ],
          [
           0.004931768318853484,
           "object"
          ],
          [
           0.002999048302005497,
           "object"
          ],
          [
           0.012462711832778396,
           "object"
          ],
          [
           0.0011996193208021987,
           "object"
          ],
          [
           0.0009330372495128213,
           "object"
          ],
          [
           0.014861950474382796,
           "object"
          ],
          [
           0.00013329103564468873,
           "object"
          ],
          [
           0.0003332275891117219,
           "object"
          ],
          [
           0.0003332275891117219,
           "object"
          ],
          [
           0.00039987310693406623,
           "object"
          ],
          [
           0.00039987310693406623,
           "object"
          ],
          [
           0.00026658207128937747,
           "object"
          ],
          [
           0.00026658207128937747,
           "object"
          ],
          [
           0.00019993655346703311,
           "object"
          ],
          [
           0.00026658207128937747,
           "object"
          ],
          [
           0.00013329103564468873,
           "object"
          ],
          [
           0.00013329103564468873,
           "object"
          ],
          [
           0.04831800042119967,
           "object"
          ],
          [
           0.35861953140203506,
           "object"
          ],
          [
           0.0007997462138681325,
           "object"
          ],
          [
           0.00019993655346703311,
           "object"
          ],
          [
           0.3591526955446138,
           "object"
          ],
          [
           0.2781117458726431,
           "object"
          ],
          [
           0.34715650233659184,
           "object"
          ],
          [
           0.358219658295101,
           "object"
          ],
          [
           0.019527136721946902,
           "object"
          ],
          [
           0.35215491617326766,
           "object"
          ],
          [
           0.09350366150474916,
           "object"
          ],
          [
           0.00026658207128937747,
           "object"
          ],
          [
           0.026524916093293063,
           "object"
          ],
          [
           0.08324025176010813,
           "object"
          ],
          [
           0.34835612165739405,
           "object"
          ],
          [
           0.04451920590532604,
           "object"
          ],
          [
           0.2975722370767676,
           "object"
          ],
          [
           0.2931736329004929,
           "object"
          ],
          [
           0.00013329103564468873,
           "object"
          ],
          [
           0.00013329103564468873,
           "object"
          ],
          [
           0.01386226770704763,
           "object"
          ],
          [
           0.00013329103564468873,
           "object"
          ],
          [
           0.00019993655346703311,
           "object"
          ],
          [
           0.04018724724687366,
           "object"
          ],
          [
           0.5923453624049968,
           "object"
          ],
          [
           0.3449572002484545,
           "object"
          ],
          [
           0.02485877814773445,
           "object"
          ],
          [
           0.00019993655346703311,
           "object"
          ],
          [
           0.5042399878438576,
           "object"
          ],
          [
           0.0011329738029798545,
           "object"
          ],
          [
           0.00019993655346703311,
           "object"
          ],
          [
           0.044319269351859016,
           "object"
          ],
          [
           0.00019993655346703311,
           "object"
          ],
          [
           0.03978737413993959,
           "object"
          ],
          [
           0.03572199755277659,
           "object"
          ]
         ],
         "hovertemplate": "data_type=%{customdata[1]}<br>column_name=%{x}<br>percent_complete=%{y}<br>uniqueness=%{customdata[0]}<extra></extra>",
         "legendgroup": "object",
         "marker": {
          "color": "#ab63fa",
          "pattern": {
           "shape": ""
          }
         },
         "name": "object",
         "offsetgroup": "object",
         "orientation": "v",
         "showlegend": true,
         "textposition": "auto",
         "type": "bar",
         "x": [
          "date_decision",
          "lastapprcommoditycat_1041M",
          "lastapprcommoditytypec_5251766M",
          "lastcancelreason_561M",
          "lastrejectcommoditycat_161M",
          "lastrejectcommodtypec_5251769M",
          "lastrejectreason_759M",
          "lastrejectreasonclient_4145040M",
          "previouscontdistrict_112M",
          "description_5085714M",
          "education_1103M",
          "education_88M",
          "maritalst_385M",
          "maritalst_893M",
          "credtype_322L",
          "inittransactioncode_186L",
          "twobodfilling_608L",
          "disbursementtype_67L",
          "paytype1st_925L",
          "paytype_783L",
          "dateofbirth_337D",
          "lastapplicationdate_877D",
          "lastst_736L",
          "opencred_647L",
          "lastapprdate_640D",
          "lastactivateddate_801D",
          "firstdatedue_489D",
          "lastrejectdate_50D",
          "responsedate_1012D",
          "maxdpdinstldate_3546855D",
          "datefirstoffer_1144D",
          "requesttype_4525192L",
          "responsedate_4527233D",
          "firstclxcampaign_1125D",
          "datelastunpaid_3546854D",
          "birthdate_574D",
          "dtlastpmtallstes_4499206D",
          "lastdelinqdate_224D",
          "typesuite_864L",
          "bankacctype_710L",
          "responsedate_4917613D",
          "isdebitcard_729L",
          "cardtype_51L",
          "validfrom_1069D",
          "assignmentdate_238D",
          "datelastinstal40dpd_247D",
          "assignmentdate_4527235D",
          "equalitydataagreement_891L",
          "assignmentdate_4955616D",
          "riskassesment_302T",
          "equalityempfrom_62L",
          "dateofbirth_342D",
          "isbidproductrequest_292L",
          "payvacationpostpone_4187118D",
          "lastrepayingdate_696D"
         ],
         "xaxis": "x",
         "y": [
          100,
          100,
          100,
          100,
          100,
          100,
          100,
          100,
          100,
          100,
          100,
          100,
          100,
          100,
          99.99993335448218,
          99.99993335448218,
          99.99393525787816,
          99.94228498156585,
          96.0975050583948,
          96.0975050583948,
          92.3500942367622,
          80.03080355833748,
          80.03080355833748,
          80.03080355833748,
          71.0584507849509,
          70.29982485557916,
          68.4280188420208,
          49.6924975807677,
          47.984772832087955,
          45.89756850492777,
          45.288628408585005,
          44.87002791114286,
          44.0078348470752,
          43.541982677497,
          41.86744739669278,
          40.51187756418629,
          36.62277837166339,
          35.96225464452614,
          26.562637456380514,
          26.219946203738004,
          14.989376704459119,
          12.639988910185835,
          12.59940178983203,
          9.566964083397536,
          9.130169359589885,
          8.917436866700967,
          7.662768348177508,
          5.095982874767742,
          4.774018378167995,
          3.5694672890469406,
          2.470882573263424,
          2.432561400515567,
          0.816274302288079,
          0.6216027447290173,
          0.1557505751508188
         ],
         "yaxis": "y"
        }
       ],
       "layout": {
        "barmode": "relative",
        "legend": {
         "title": {
          "text": "data_type"
         },
         "tracegroupgap": 0
        },
        "margin": {
         "t": 60
        },
        "template": {
         "data": {
          "bar": [
           {
            "error_x": {
             "color": "#2a3f5f"
            },
            "error_y": {
             "color": "#2a3f5f"
            },
            "marker": {
             "line": {
              "color": "#E5ECF6",
              "width": 0.5
             },
             "pattern": {
              "fillmode": "overlay",
              "size": 10,
              "solidity": 0.2
             }
            },
            "type": "bar"
           }
          ],
          "barpolar": [
           {
            "marker": {
             "line": {
              "color": "#E5ECF6",
              "width": 0.5
             },
             "pattern": {
              "fillmode": "overlay",
              "size": 10,
              "solidity": 0.2
             }
            },
            "type": "barpolar"
           }
          ],
          "carpet": [
           {
            "aaxis": {
             "endlinecolor": "#2a3f5f",
             "gridcolor": "white",
             "linecolor": "white",
             "minorgridcolor": "white",
             "startlinecolor": "#2a3f5f"
            },
            "baxis": {
             "endlinecolor": "#2a3f5f",
             "gridcolor": "white",
             "linecolor": "white",
             "minorgridcolor": "white",
             "startlinecolor": "#2a3f5f"
            },
            "type": "carpet"
           }
          ],
          "choropleth": [
           {
            "colorbar": {
             "outlinewidth": 0,
             "ticks": ""
            },
            "type": "choropleth"
           }
          ],
          "contour": [
           {
            "colorbar": {
             "outlinewidth": 0,
             "ticks": ""
            },
            "colorscale": [
             [
              0,
              "#0d0887"
             ],
             [
              0.1111111111111111,
              "#46039f"
             ],
             [
              0.2222222222222222,
              "#7201a8"
             ],
             [
              0.3333333333333333,
              "#9c179e"
             ],
             [
              0.4444444444444444,
              "#bd3786"
             ],
             [
              0.5555555555555556,
              "#d8576b"
             ],
             [
              0.6666666666666666,
              "#ed7953"
             ],
             [
              0.7777777777777778,
              "#fb9f3a"
             ],
             [
              0.8888888888888888,
              "#fdca26"
             ],
             [
              1,
              "#f0f921"
             ]
            ],
            "type": "contour"
           }
          ],
          "contourcarpet": [
           {
            "colorbar": {
             "outlinewidth": 0,
             "ticks": ""
            },
            "type": "contourcarpet"
           }
          ],
          "heatmap": [
           {
            "colorbar": {
             "outlinewidth": 0,
             "ticks": ""
            },
            "colorscale": [
             [
              0,
              "#0d0887"
             ],
             [
              0.1111111111111111,
              "#46039f"
             ],
             [
              0.2222222222222222,
              "#7201a8"
             ],
             [
              0.3333333333333333,
              "#9c179e"
             ],
             [
              0.4444444444444444,
              "#bd3786"
             ],
             [
              0.5555555555555556,
              "#d8576b"
             ],
             [
              0.6666666666666666,
              "#ed7953"
             ],
             [
              0.7777777777777778,
              "#fb9f3a"
             ],
             [
              0.8888888888888888,
              "#fdca26"
             ],
             [
              1,
              "#f0f921"
             ]
            ],
            "type": "heatmap"
           }
          ],
          "heatmapgl": [
           {
            "colorbar": {
             "outlinewidth": 0,
             "ticks": ""
            },
            "colorscale": [
             [
              0,
              "#0d0887"
             ],
             [
              0.1111111111111111,
              "#46039f"
             ],
             [
              0.2222222222222222,
              "#7201a8"
             ],
             [
              0.3333333333333333,
              "#9c179e"
             ],
             [
              0.4444444444444444,
              "#bd3786"
             ],
             [
              0.5555555555555556,
              "#d8576b"
             ],
             [
              0.6666666666666666,
              "#ed7953"
             ],
             [
              0.7777777777777778,
              "#fb9f3a"
             ],
             [
              0.8888888888888888,
              "#fdca26"
             ],
             [
              1,
              "#f0f921"
             ]
            ],
            "type": "heatmapgl"
           }
          ],
          "histogram": [
           {
            "marker": {
             "pattern": {
              "fillmode": "overlay",
              "size": 10,
              "solidity": 0.2
             }
            },
            "type": "histogram"
           }
          ],
          "histogram2d": [
           {
            "colorbar": {
             "outlinewidth": 0,
             "ticks": ""
            },
            "colorscale": [
             [
              0,
              "#0d0887"
             ],
             [
              0.1111111111111111,
              "#46039f"
             ],
             [
              0.2222222222222222,
              "#7201a8"
             ],
             [
              0.3333333333333333,
              "#9c179e"
             ],
             [
              0.4444444444444444,
              "#bd3786"
             ],
             [
              0.5555555555555556,
              "#d8576b"
             ],
             [
              0.6666666666666666,
              "#ed7953"
             ],
             [
              0.7777777777777778,
              "#fb9f3a"
             ],
             [
              0.8888888888888888,
              "#fdca26"
             ],
             [
              1,
              "#f0f921"
             ]
            ],
            "type": "histogram2d"
           }
          ],
          "histogram2dcontour": [
           {
            "colorbar": {
             "outlinewidth": 0,
             "ticks": ""
            },
            "colorscale": [
             [
              0,
              "#0d0887"
             ],
             [
              0.1111111111111111,
              "#46039f"
             ],
             [
              0.2222222222222222,
              "#7201a8"
             ],
             [
              0.3333333333333333,
              "#9c179e"
             ],
             [
              0.4444444444444444,
              "#bd3786"
             ],
             [
              0.5555555555555556,
              "#d8576b"
             ],
             [
              0.6666666666666666,
              "#ed7953"
             ],
             [
              0.7777777777777778,
              "#fb9f3a"
             ],
             [
              0.8888888888888888,
              "#fdca26"
             ],
             [
              1,
              "#f0f921"
             ]
            ],
            "type": "histogram2dcontour"
           }
          ],
          "mesh3d": [
           {
            "colorbar": {
             "outlinewidth": 0,
             "ticks": ""
            },
            "type": "mesh3d"
           }
          ],
          "parcoords": [
           {
            "line": {
             "colorbar": {
              "outlinewidth": 0,
              "ticks": ""
             }
            },
            "type": "parcoords"
           }
          ],
          "pie": [
           {
            "automargin": true,
            "type": "pie"
           }
          ],
          "scatter": [
           {
            "fillpattern": {
             "fillmode": "overlay",
             "size": 10,
             "solidity": 0.2
            },
            "type": "scatter"
           }
          ],
          "scatter3d": [
           {
            "line": {
             "colorbar": {
              "outlinewidth": 0,
              "ticks": ""
             }
            },
            "marker": {
             "colorbar": {
              "outlinewidth": 0,
              "ticks": ""
             }
            },
            "type": "scatter3d"
           }
          ],
          "scattercarpet": [
           {
            "marker": {
             "colorbar": {
              "outlinewidth": 0,
              "ticks": ""
             }
            },
            "type": "scattercarpet"
           }
          ],
          "scattergeo": [
           {
            "marker": {
             "colorbar": {
              "outlinewidth": 0,
              "ticks": ""
             }
            },
            "type": "scattergeo"
           }
          ],
          "scattergl": [
           {
            "marker": {
             "colorbar": {
              "outlinewidth": 0,
              "ticks": ""
             }
            },
            "type": "scattergl"
           }
          ],
          "scattermapbox": [
           {
            "marker": {
             "colorbar": {
              "outlinewidth": 0,
              "ticks": ""
             }
            },
            "type": "scattermapbox"
           }
          ],
          "scatterpolar": [
           {
            "marker": {
             "colorbar": {
              "outlinewidth": 0,
              "ticks": ""
             }
            },
            "type": "scatterpolar"
           }
          ],
          "scatterpolargl": [
           {
            "marker": {
             "colorbar": {
              "outlinewidth": 0,
              "ticks": ""
             }
            },
            "type": "scatterpolargl"
           }
          ],
          "scatterternary": [
           {
            "marker": {
             "colorbar": {
              "outlinewidth": 0,
              "ticks": ""
             }
            },
            "type": "scatterternary"
           }
          ],
          "surface": [
           {
            "colorbar": {
             "outlinewidth": 0,
             "ticks": ""
            },
            "colorscale": [
             [
              0,
              "#0d0887"
             ],
             [
              0.1111111111111111,
              "#46039f"
             ],
             [
              0.2222222222222222,
              "#7201a8"
             ],
             [
              0.3333333333333333,
              "#9c179e"
             ],
             [
              0.4444444444444444,
              "#bd3786"
             ],
             [
              0.5555555555555556,
              "#d8576b"
             ],
             [
              0.6666666666666666,
              "#ed7953"
             ],
             [
              0.7777777777777778,
              "#fb9f3a"
             ],
             [
              0.8888888888888888,
              "#fdca26"
             ],
             [
              1,
              "#f0f921"
             ]
            ],
            "type": "surface"
           }
          ],
          "table": [
           {
            "cells": {
             "fill": {
              "color": "#EBF0F8"
             },
             "line": {
              "color": "white"
             }
            },
            "header": {
             "fill": {
              "color": "#C8D4E3"
             },
             "line": {
              "color": "white"
             }
            },
            "type": "table"
           }
          ]
         },
         "layout": {
          "annotationdefaults": {
           "arrowcolor": "#2a3f5f",
           "arrowhead": 0,
           "arrowwidth": 1
          },
          "autotypenumbers": "strict",
          "coloraxis": {
           "colorbar": {
            "outlinewidth": 0,
            "ticks": ""
           }
          },
          "colorscale": {
           "diverging": [
            [
             0,
             "#8e0152"
            ],
            [
             0.1,
             "#c51b7d"
            ],
            [
             0.2,
             "#de77ae"
            ],
            [
             0.3,
             "#f1b6da"
            ],
            [
             0.4,
             "#fde0ef"
            ],
            [
             0.5,
             "#f7f7f7"
            ],
            [
             0.6,
             "#e6f5d0"
            ],
            [
             0.7,
             "#b8e186"
            ],
            [
             0.8,
             "#7fbc41"
            ],
            [
             0.9,
             "#4d9221"
            ],
            [
             1,
             "#276419"
            ]
           ],
           "sequential": [
            [
             0,
             "#0d0887"
            ],
            [
             0.1111111111111111,
             "#46039f"
            ],
            [
             0.2222222222222222,
             "#7201a8"
            ],
            [
             0.3333333333333333,
             "#9c179e"
            ],
            [
             0.4444444444444444,
             "#bd3786"
            ],
            [
             0.5555555555555556,
             "#d8576b"
            ],
            [
             0.6666666666666666,
             "#ed7953"
            ],
            [
             0.7777777777777778,
             "#fb9f3a"
            ],
            [
             0.8888888888888888,
             "#fdca26"
            ],
            [
             1,
             "#f0f921"
            ]
           ],
           "sequentialminus": [
            [
             0,
             "#0d0887"
            ],
            [
             0.1111111111111111,
             "#46039f"
            ],
            [
             0.2222222222222222,
             "#7201a8"
            ],
            [
             0.3333333333333333,
             "#9c179e"
            ],
            [
             0.4444444444444444,
             "#bd3786"
            ],
            [
             0.5555555555555556,
             "#d8576b"
            ],
            [
             0.6666666666666666,
             "#ed7953"
            ],
            [
             0.7777777777777778,
             "#fb9f3a"
            ],
            [
             0.8888888888888888,
             "#fdca26"
            ],
            [
             1,
             "#f0f921"
            ]
           ]
          },
          "colorway": [
           "#636efa",
           "#EF553B",
           "#00cc96",
           "#ab63fa",
           "#FFA15A",
           "#19d3f3",
           "#FF6692",
           "#B6E880",
           "#FF97FF",
           "#FECB52"
          ],
          "font": {
           "color": "#2a3f5f"
          },
          "geo": {
           "bgcolor": "white",
           "lakecolor": "white",
           "landcolor": "#E5ECF6",
           "showlakes": true,
           "showland": true,
           "subunitcolor": "white"
          },
          "hoverlabel": {
           "align": "left"
          },
          "hovermode": "closest",
          "mapbox": {
           "style": "light"
          },
          "paper_bgcolor": "white",
          "plot_bgcolor": "#E5ECF6",
          "polar": {
           "angularaxis": {
            "gridcolor": "white",
            "linecolor": "white",
            "ticks": ""
           },
           "bgcolor": "#E5ECF6",
           "radialaxis": {
            "gridcolor": "white",
            "linecolor": "white",
            "ticks": ""
           }
          },
          "scene": {
           "xaxis": {
            "backgroundcolor": "#E5ECF6",
            "gridcolor": "white",
            "gridwidth": 2,
            "linecolor": "white",
            "showbackground": true,
            "ticks": "",
            "zerolinecolor": "white"
           },
           "yaxis": {
            "backgroundcolor": "#E5ECF6",
            "gridcolor": "white",
            "gridwidth": 2,
            "linecolor": "white",
            "showbackground": true,
            "ticks": "",
            "zerolinecolor": "white"
           },
           "zaxis": {
            "backgroundcolor": "#E5ECF6",
            "gridcolor": "white",
            "gridwidth": 2,
            "linecolor": "white",
            "showbackground": true,
            "ticks": "",
            "zerolinecolor": "white"
           }
          },
          "shapedefaults": {
           "line": {
            "color": "#2a3f5f"
           }
          },
          "ternary": {
           "aaxis": {
            "gridcolor": "white",
            "linecolor": "white",
            "ticks": ""
           },
           "baxis": {
            "gridcolor": "white",
            "linecolor": "white",
            "ticks": ""
           },
           "bgcolor": "#E5ECF6",
           "caxis": {
            "gridcolor": "white",
            "linecolor": "white",
            "ticks": ""
           }
          },
          "title": {
           "x": 0.05
          },
          "xaxis": {
           "automargin": true,
           "gridcolor": "white",
           "linecolor": "white",
           "ticks": "",
           "title": {
            "standoff": 15
           },
           "zerolinecolor": "white",
           "zerolinewidth": 2
          },
          "yaxis": {
           "automargin": true,
           "gridcolor": "white",
           "linecolor": "white",
           "ticks": "",
           "title": {
            "standoff": 15
           },
           "zerolinecolor": "white",
           "zerolinewidth": 2
          }
         }
        },
        "xaxis": {
         "anchor": "y",
         "domain": [
          0,
          1
         ],
         "title": {
          "text": "column_name"
         }
        },
        "yaxis": {
         "anchor": "x",
         "domain": [
          0,
          1
         ],
         "title": {
          "text": "percent_complete"
         }
        }
       }
      }
     },
     "metadata": {},
     "output_type": "display_data"
    }
   ],
   "source": [
    "fig_1 = px.bar(combined_summary, x=\"column_name\", y=\"percent_complete\", color=\"data_type\",\n",
    "               hover_data=[\"uniqueness\", \"data_type\"])\n",
    "\n",
    "fig_1.show()"
   ]
  },
  {
   "cell_type": "code",
   "execution_count": 13,
   "metadata": {},
   "outputs": [
    {
     "data": {
      "text/html": [
       "<div>\n",
       "<style scoped>\n",
       "    .dataframe tbody tr th:only-of-type {\n",
       "        vertical-align: middle;\n",
       "    }\n",
       "\n",
       "    .dataframe tbody tr th {\n",
       "        vertical-align: top;\n",
       "    }\n",
       "\n",
       "    .dataframe thead th {\n",
       "        text-align: right;\n",
       "    }\n",
       "</style>\n",
       "<table border=\"1\" class=\"dataframe\">\n",
       "  <thead>\n",
       "    <tr style=\"text-align: right;\">\n",
       "      <th></th>\n",
       "      <th>annuity_780A</th>\n",
       "      <th>applicationcnt_361L</th>\n",
       "      <th>applications30d_658L</th>\n",
       "      <th>applicationscnt_1086L</th>\n",
       "      <th>applicationscnt_464L</th>\n",
       "      <th>applicationscnt_629L</th>\n",
       "      <th>applicationscnt_867L</th>\n",
       "      <th>clientscnt12m_3712952L</th>\n",
       "      <th>clientscnt3m_3712950L</th>\n",
       "      <th>clientscnt6m_3712949L</th>\n",
       "      <th>...</th>\n",
       "      <th>maxdpdlast3m_392P</th>\n",
       "      <th>maxdpdlast6m_474P</th>\n",
       "      <th>maxdpdlast9m_1059P</th>\n",
       "      <th>maxdpdtolerance_374P</th>\n",
       "      <th>commnoinclast6m_3546845L</th>\n",
       "      <th>maxdpdfrom6mto36m_3546853P</th>\n",
       "      <th>case_id</th>\n",
       "      <th>MONTH</th>\n",
       "      <th>WEEK_NUM</th>\n",
       "      <th>target</th>\n",
       "    </tr>\n",
       "  </thead>\n",
       "  <tbody>\n",
       "    <tr>\n",
       "      <th>0</th>\n",
       "      <td>7,433.4</td>\n",
       "      <td>0.0</td>\n",
       "      <td>1.0</td>\n",
       "      <td>0.0</td>\n",
       "      <td>0.0</td>\n",
       "      <td>0.0</td>\n",
       "      <td>1.0</td>\n",
       "      <td>0.0</td>\n",
       "      <td>0.0</td>\n",
       "      <td>0.0</td>\n",
       "      <td>...</td>\n",
       "      <td>0.0</td>\n",
       "      <td>0.0</td>\n",
       "      <td>0.0</td>\n",
       "      <td>0.0</td>\n",
       "      <td>0.0</td>\n",
       "      <td>0.0</td>\n",
       "      <td>357</td>\n",
       "      <td>201901</td>\n",
       "      <td>1</td>\n",
       "      <td>0</td>\n",
       "    </tr>\n",
       "    <tr>\n",
       "      <th>1</th>\n",
       "      <td>2,593.2</td>\n",
       "      <td>0.0</td>\n",
       "      <td>0.0</td>\n",
       "      <td>0.0</td>\n",
       "      <td>0.0</td>\n",
       "      <td>0.0</td>\n",
       "      <td>0.0</td>\n",
       "      <td>0.0</td>\n",
       "      <td>0.0</td>\n",
       "      <td>0.0</td>\n",
       "      <td>...</td>\n",
       "      <td>0.0</td>\n",
       "      <td>0.0</td>\n",
       "      <td>0.0</td>\n",
       "      <td>0.0</td>\n",
       "      <td>NaN</td>\n",
       "      <td>NaN</td>\n",
       "      <td>381</td>\n",
       "      <td>201901</td>\n",
       "      <td>1</td>\n",
       "      <td>0</td>\n",
       "    </tr>\n",
       "    <tr>\n",
       "      <th>2</th>\n",
       "      <td>5,109.6</td>\n",
       "      <td>0.0</td>\n",
       "      <td>0.0</td>\n",
       "      <td>2.0</td>\n",
       "      <td>1.0</td>\n",
       "      <td>0.0</td>\n",
       "      <td>0.0</td>\n",
       "      <td>0.0</td>\n",
       "      <td>0.0</td>\n",
       "      <td>0.0</td>\n",
       "      <td>...</td>\n",
       "      <td>0.0</td>\n",
       "      <td>0.0</td>\n",
       "      <td>0.0</td>\n",
       "      <td>0.0</td>\n",
       "      <td>0.0</td>\n",
       "      <td>0.0</td>\n",
       "      <td>388</td>\n",
       "      <td>201901</td>\n",
       "      <td>1</td>\n",
       "      <td>0</td>\n",
       "    </tr>\n",
       "    <tr>\n",
       "      <th>3</th>\n",
       "      <td>10,045.2</td>\n",
       "      <td>0.0</td>\n",
       "      <td>0.0</td>\n",
       "      <td>0.0</td>\n",
       "      <td>0.0</td>\n",
       "      <td>0.0</td>\n",
       "      <td>0.0</td>\n",
       "      <td>0.0</td>\n",
       "      <td>0.0</td>\n",
       "      <td>0.0</td>\n",
       "      <td>...</td>\n",
       "      <td>0.0</td>\n",
       "      <td>0.0</td>\n",
       "      <td>0.0</td>\n",
       "      <td>0.0</td>\n",
       "      <td>0.0</td>\n",
       "      <td>0.0</td>\n",
       "      <td>405</td>\n",
       "      <td>201901</td>\n",
       "      <td>1</td>\n",
       "      <td>0</td>\n",
       "    </tr>\n",
       "    <tr>\n",
       "      <th>4</th>\n",
       "      <td>1,556.8</td>\n",
       "      <td>0.0</td>\n",
       "      <td>0.0</td>\n",
       "      <td>0.0</td>\n",
       "      <td>0.0</td>\n",
       "      <td>0.0</td>\n",
       "      <td>0.0</td>\n",
       "      <td>0.0</td>\n",
       "      <td>0.0</td>\n",
       "      <td>0.0</td>\n",
       "      <td>...</td>\n",
       "      <td>0.0</td>\n",
       "      <td>0.0</td>\n",
       "      <td>0.0</td>\n",
       "      <td>0.0</td>\n",
       "      <td>0.0</td>\n",
       "      <td>0.0</td>\n",
       "      <td>409</td>\n",
       "      <td>201901</td>\n",
       "      <td>1</td>\n",
       "      <td>0</td>\n",
       "    </tr>\n",
       "    <tr>\n",
       "      <th>...</th>\n",
       "      <td>...</td>\n",
       "      <td>...</td>\n",
       "      <td>...</td>\n",
       "      <td>...</td>\n",
       "      <td>...</td>\n",
       "      <td>...</td>\n",
       "      <td>...</td>\n",
       "      <td>...</td>\n",
       "      <td>...</td>\n",
       "      <td>...</td>\n",
       "      <td>...</td>\n",
       "      <td>...</td>\n",
       "      <td>...</td>\n",
       "      <td>...</td>\n",
       "      <td>...</td>\n",
       "      <td>...</td>\n",
       "      <td>...</td>\n",
       "      <td>...</td>\n",
       "      <td>...</td>\n",
       "      <td>...</td>\n",
       "      <td>...</td>\n",
       "    </tr>\n",
       "    <tr>\n",
       "      <th>1500471</th>\n",
       "      <td>3,675.4001</td>\n",
       "      <td>0.0</td>\n",
       "      <td>0.0</td>\n",
       "      <td>0.0</td>\n",
       "      <td>0.0</td>\n",
       "      <td>0.0</td>\n",
       "      <td>10.0</td>\n",
       "      <td>0.0</td>\n",
       "      <td>0.0</td>\n",
       "      <td>0.0</td>\n",
       "      <td>...</td>\n",
       "      <td>0.0</td>\n",
       "      <td>0.0</td>\n",
       "      <td>0.0</td>\n",
       "      <td>8.0</td>\n",
       "      <td>0.0</td>\n",
       "      <td>0.0</td>\n",
       "      <td>2703450</td>\n",
       "      <td>202010</td>\n",
       "      <td>91</td>\n",
       "      <td>0</td>\n",
       "    </tr>\n",
       "    <tr>\n",
       "      <th>1500472</th>\n",
       "      <td>7,088.6</td>\n",
       "      <td>0.0</td>\n",
       "      <td>0.0</td>\n",
       "      <td>5.0</td>\n",
       "      <td>0.0</td>\n",
       "      <td>0.0</td>\n",
       "      <td>5.0</td>\n",
       "      <td>0.0</td>\n",
       "      <td>0.0</td>\n",
       "      <td>0.0</td>\n",
       "      <td>...</td>\n",
       "      <td>0.0</td>\n",
       "      <td>2.0</td>\n",
       "      <td>2.0</td>\n",
       "      <td>2.0</td>\n",
       "      <td>0.0</td>\n",
       "      <td>0.0</td>\n",
       "      <td>2703451</td>\n",
       "      <td>202010</td>\n",
       "      <td>91</td>\n",
       "      <td>0</td>\n",
       "    </tr>\n",
       "    <tr>\n",
       "      <th>1500473</th>\n",
       "      <td>7,788.8003</td>\n",
       "      <td>0.0</td>\n",
       "      <td>0.0</td>\n",
       "      <td>0.0</td>\n",
       "      <td>0.0</td>\n",
       "      <td>0.0</td>\n",
       "      <td>3.0</td>\n",
       "      <td>0.0</td>\n",
       "      <td>0.0</td>\n",
       "      <td>0.0</td>\n",
       "      <td>...</td>\n",
       "      <td>0.0</td>\n",
       "      <td>0.0</td>\n",
       "      <td>0.0</td>\n",
       "      <td>4.0</td>\n",
       "      <td>0.0</td>\n",
       "      <td>4.0</td>\n",
       "      <td>2703452</td>\n",
       "      <td>202010</td>\n",
       "      <td>91</td>\n",
       "      <td>0</td>\n",
       "    </tr>\n",
       "    <tr>\n",
       "      <th>1500474</th>\n",
       "      <td>1,195.4</td>\n",
       "      <td>0.0</td>\n",
       "      <td>0.0</td>\n",
       "      <td>36.0</td>\n",
       "      <td>0.0</td>\n",
       "      <td>0.0</td>\n",
       "      <td>9.0</td>\n",
       "      <td>0.0</td>\n",
       "      <td>0.0</td>\n",
       "      <td>0.0</td>\n",
       "      <td>...</td>\n",
       "      <td>0.0</td>\n",
       "      <td>0.0</td>\n",
       "      <td>0.0</td>\n",
       "      <td>34.0</td>\n",
       "      <td>0.0</td>\n",
       "      <td>2.0</td>\n",
       "      <td>2703453</td>\n",
       "      <td>202010</td>\n",
       "      <td>91</td>\n",
       "      <td>0</td>\n",
       "    </tr>\n",
       "    <tr>\n",
       "      <th>1500475</th>\n",
       "      <td>4,533.8003</td>\n",
       "      <td>0.0</td>\n",
       "      <td>0.0</td>\n",
       "      <td>0.0</td>\n",
       "      <td>0.0</td>\n",
       "      <td>0.0</td>\n",
       "      <td>0.0</td>\n",
       "      <td>0.0</td>\n",
       "      <td>0.0</td>\n",
       "      <td>0.0</td>\n",
       "      <td>...</td>\n",
       "      <td>0.0</td>\n",
       "      <td>0.0</td>\n",
       "      <td>0.0</td>\n",
       "      <td>1.0</td>\n",
       "      <td>0.0</td>\n",
       "      <td>1.0</td>\n",
       "      <td>2703454</td>\n",
       "      <td>202010</td>\n",
       "      <td>91</td>\n",
       "      <td>0</td>\n",
       "    </tr>\n",
       "  </tbody>\n",
       "</table>\n",
       "<p>1500476 rows × 76 columns</p>\n",
       "</div>"
      ],
      "text/plain": [
       "         annuity_780A  applicationcnt_361L  applications30d_658L  \\\n",
       "0             7,433.4                  0.0                   1.0   \n",
       "1             2,593.2                  0.0                   0.0   \n",
       "2             5,109.6                  0.0                   0.0   \n",
       "3            10,045.2                  0.0                   0.0   \n",
       "4             1,556.8                  0.0                   0.0   \n",
       "...               ...                  ...                   ...   \n",
       "1500471    3,675.4001                  0.0                   0.0   \n",
       "1500472       7,088.6                  0.0                   0.0   \n",
       "1500473    7,788.8003                  0.0                   0.0   \n",
       "1500474       1,195.4                  0.0                   0.0   \n",
       "1500475    4,533.8003                  0.0                   0.0   \n",
       "\n",
       "         applicationscnt_1086L  applicationscnt_464L  applicationscnt_629L  \\\n",
       "0                          0.0                   0.0                   0.0   \n",
       "1                          0.0                   0.0                   0.0   \n",
       "2                          2.0                   1.0                   0.0   \n",
       "3                          0.0                   0.0                   0.0   \n",
       "4                          0.0                   0.0                   0.0   \n",
       "...                        ...                   ...                   ...   \n",
       "1500471                    0.0                   0.0                   0.0   \n",
       "1500472                    5.0                   0.0                   0.0   \n",
       "1500473                    0.0                   0.0                   0.0   \n",
       "1500474                   36.0                   0.0                   0.0   \n",
       "1500475                    0.0                   0.0                   0.0   \n",
       "\n",
       "         applicationscnt_867L  clientscnt12m_3712952L  clientscnt3m_3712950L  \\\n",
       "0                         1.0                     0.0                    0.0   \n",
       "1                         0.0                     0.0                    0.0   \n",
       "2                         0.0                     0.0                    0.0   \n",
       "3                         0.0                     0.0                    0.0   \n",
       "4                         0.0                     0.0                    0.0   \n",
       "...                       ...                     ...                    ...   \n",
       "1500471                  10.0                     0.0                    0.0   \n",
       "1500472                   5.0                     0.0                    0.0   \n",
       "1500473                   3.0                     0.0                    0.0   \n",
       "1500474                   9.0                     0.0                    0.0   \n",
       "1500475                   0.0                     0.0                    0.0   \n",
       "\n",
       "         clientscnt6m_3712949L  ...  maxdpdlast3m_392P  maxdpdlast6m_474P  \\\n",
       "0                          0.0  ...                0.0                0.0   \n",
       "1                          0.0  ...                0.0                0.0   \n",
       "2                          0.0  ...                0.0                0.0   \n",
       "3                          0.0  ...                0.0                0.0   \n",
       "4                          0.0  ...                0.0                0.0   \n",
       "...                        ...  ...                ...                ...   \n",
       "1500471                    0.0  ...                0.0                0.0   \n",
       "1500472                    0.0  ...                0.0                2.0   \n",
       "1500473                    0.0  ...                0.0                0.0   \n",
       "1500474                    0.0  ...                0.0                0.0   \n",
       "1500475                    0.0  ...                0.0                0.0   \n",
       "\n",
       "         maxdpdlast9m_1059P  maxdpdtolerance_374P  commnoinclast6m_3546845L  \\\n",
       "0                       0.0                   0.0                       0.0   \n",
       "1                       0.0                   0.0                       NaN   \n",
       "2                       0.0                   0.0                       0.0   \n",
       "3                       0.0                   0.0                       0.0   \n",
       "4                       0.0                   0.0                       0.0   \n",
       "...                     ...                   ...                       ...   \n",
       "1500471                 0.0                   8.0                       0.0   \n",
       "1500472                 2.0                   2.0                       0.0   \n",
       "1500473                 0.0                   4.0                       0.0   \n",
       "1500474                 0.0                  34.0                       0.0   \n",
       "1500475                 0.0                   1.0                       0.0   \n",
       "\n",
       "         maxdpdfrom6mto36m_3546853P  case_id   MONTH  WEEK_NUM  target  \n",
       "0                               0.0      357  201901         1       0  \n",
       "1                               NaN      381  201901         1       0  \n",
       "2                               0.0      388  201901         1       0  \n",
       "3                               0.0      405  201901         1       0  \n",
       "4                               0.0      409  201901         1       0  \n",
       "...                             ...      ...     ...       ...     ...  \n",
       "1500471                         0.0  2703450  202010        91       0  \n",
       "1500472                         0.0  2703451  202010        91       0  \n",
       "1500473                         4.0  2703452  202010        91       0  \n",
       "1500474                         2.0  2703453  202010        91       0  \n",
       "1500475                         1.0  2703454  202010        91       0  \n",
       "\n",
       "[1500476 rows x 76 columns]"
      ]
     },
     "execution_count": 13,
     "metadata": {},
     "output_type": "execute_result"
    }
   ],
   "source": [
    "##### Focus on data with at least 75% filled\n",
    "complete_75 = combined_summary.loc[combined_summary[\"percent_complete\"]>75, \"column_name\"].to_list()\n",
    "\n",
    "##### Numerical data\n",
    "numerics_75 = combined_df[complete_75]\n",
    "numerics_75 = numerics_75.select_dtypes([int, float])\n",
    "numerics_75"
   ]
  },
  {
   "cell_type": "code",
   "execution_count": 14,
   "metadata": {},
   "outputs": [
    {
     "data": {
      "application/vnd.plotly.v1+json": {
       "config": {
        "plotlyServerURL": "https://plot.ly"
       },
       "data": [
        {
         "alignmentgroup": "True",
         "customdata": [
          [
           0.9685333187601801
          ],
          [
           0.031466681239819896
          ]
         ],
         "hovertemplate": "target=%{x}<br>count=%{y}<br>percent=%{customdata[0]}<extra></extra>",
         "legendgroup": "",
         "marker": {
          "color": "#636efa",
          "pattern": {
           "shape": ""
          }
         },
         "name": "",
         "offsetgroup": "",
         "orientation": "v",
         "showlegend": false,
         "textposition": "auto",
         "type": "bar",
         "x": [
          0,
          1
         ],
         "xaxis": "x",
         "y": [
          1453261,
          47215
         ],
         "yaxis": "y"
        }
       ],
       "layout": {
        "barmode": "relative",
        "legend": {
         "tracegroupgap": 0
        },
        "margin": {
         "t": 60
        },
        "template": {
         "data": {
          "bar": [
           {
            "error_x": {
             "color": "#2a3f5f"
            },
            "error_y": {
             "color": "#2a3f5f"
            },
            "marker": {
             "line": {
              "color": "#E5ECF6",
              "width": 0.5
             },
             "pattern": {
              "fillmode": "overlay",
              "size": 10,
              "solidity": 0.2
             }
            },
            "type": "bar"
           }
          ],
          "barpolar": [
           {
            "marker": {
             "line": {
              "color": "#E5ECF6",
              "width": 0.5
             },
             "pattern": {
              "fillmode": "overlay",
              "size": 10,
              "solidity": 0.2
             }
            },
            "type": "barpolar"
           }
          ],
          "carpet": [
           {
            "aaxis": {
             "endlinecolor": "#2a3f5f",
             "gridcolor": "white",
             "linecolor": "white",
             "minorgridcolor": "white",
             "startlinecolor": "#2a3f5f"
            },
            "baxis": {
             "endlinecolor": "#2a3f5f",
             "gridcolor": "white",
             "linecolor": "white",
             "minorgridcolor": "white",
             "startlinecolor": "#2a3f5f"
            },
            "type": "carpet"
           }
          ],
          "choropleth": [
           {
            "colorbar": {
             "outlinewidth": 0,
             "ticks": ""
            },
            "type": "choropleth"
           }
          ],
          "contour": [
           {
            "colorbar": {
             "outlinewidth": 0,
             "ticks": ""
            },
            "colorscale": [
             [
              0,
              "#0d0887"
             ],
             [
              0.1111111111111111,
              "#46039f"
             ],
             [
              0.2222222222222222,
              "#7201a8"
             ],
             [
              0.3333333333333333,
              "#9c179e"
             ],
             [
              0.4444444444444444,
              "#bd3786"
             ],
             [
              0.5555555555555556,
              "#d8576b"
             ],
             [
              0.6666666666666666,
              "#ed7953"
             ],
             [
              0.7777777777777778,
              "#fb9f3a"
             ],
             [
              0.8888888888888888,
              "#fdca26"
             ],
             [
              1,
              "#f0f921"
             ]
            ],
            "type": "contour"
           }
          ],
          "contourcarpet": [
           {
            "colorbar": {
             "outlinewidth": 0,
             "ticks": ""
            },
            "type": "contourcarpet"
           }
          ],
          "heatmap": [
           {
            "colorbar": {
             "outlinewidth": 0,
             "ticks": ""
            },
            "colorscale": [
             [
              0,
              "#0d0887"
             ],
             [
              0.1111111111111111,
              "#46039f"
             ],
             [
              0.2222222222222222,
              "#7201a8"
             ],
             [
              0.3333333333333333,
              "#9c179e"
             ],
             [
              0.4444444444444444,
              "#bd3786"
             ],
             [
              0.5555555555555556,
              "#d8576b"
             ],
             [
              0.6666666666666666,
              "#ed7953"
             ],
             [
              0.7777777777777778,
              "#fb9f3a"
             ],
             [
              0.8888888888888888,
              "#fdca26"
             ],
             [
              1,
              "#f0f921"
             ]
            ],
            "type": "heatmap"
           }
          ],
          "heatmapgl": [
           {
            "colorbar": {
             "outlinewidth": 0,
             "ticks": ""
            },
            "colorscale": [
             [
              0,
              "#0d0887"
             ],
             [
              0.1111111111111111,
              "#46039f"
             ],
             [
              0.2222222222222222,
              "#7201a8"
             ],
             [
              0.3333333333333333,
              "#9c179e"
             ],
             [
              0.4444444444444444,
              "#bd3786"
             ],
             [
              0.5555555555555556,
              "#d8576b"
             ],
             [
              0.6666666666666666,
              "#ed7953"
             ],
             [
              0.7777777777777778,
              "#fb9f3a"
             ],
             [
              0.8888888888888888,
              "#fdca26"
             ],
             [
              1,
              "#f0f921"
             ]
            ],
            "type": "heatmapgl"
           }
          ],
          "histogram": [
           {
            "marker": {
             "pattern": {
              "fillmode": "overlay",
              "size": 10,
              "solidity": 0.2
             }
            },
            "type": "histogram"
           }
          ],
          "histogram2d": [
           {
            "colorbar": {
             "outlinewidth": 0,
             "ticks": ""
            },
            "colorscale": [
             [
              0,
              "#0d0887"
             ],
             [
              0.1111111111111111,
              "#46039f"
             ],
             [
              0.2222222222222222,
              "#7201a8"
             ],
             [
              0.3333333333333333,
              "#9c179e"
             ],
             [
              0.4444444444444444,
              "#bd3786"
             ],
             [
              0.5555555555555556,
              "#d8576b"
             ],
             [
              0.6666666666666666,
              "#ed7953"
             ],
             [
              0.7777777777777778,
              "#fb9f3a"
             ],
             [
              0.8888888888888888,
              "#fdca26"
             ],
             [
              1,
              "#f0f921"
             ]
            ],
            "type": "histogram2d"
           }
          ],
          "histogram2dcontour": [
           {
            "colorbar": {
             "outlinewidth": 0,
             "ticks": ""
            },
            "colorscale": [
             [
              0,
              "#0d0887"
             ],
             [
              0.1111111111111111,
              "#46039f"
             ],
             [
              0.2222222222222222,
              "#7201a8"
             ],
             [
              0.3333333333333333,
              "#9c179e"
             ],
             [
              0.4444444444444444,
              "#bd3786"
             ],
             [
              0.5555555555555556,
              "#d8576b"
             ],
             [
              0.6666666666666666,
              "#ed7953"
             ],
             [
              0.7777777777777778,
              "#fb9f3a"
             ],
             [
              0.8888888888888888,
              "#fdca26"
             ],
             [
              1,
              "#f0f921"
             ]
            ],
            "type": "histogram2dcontour"
           }
          ],
          "mesh3d": [
           {
            "colorbar": {
             "outlinewidth": 0,
             "ticks": ""
            },
            "type": "mesh3d"
           }
          ],
          "parcoords": [
           {
            "line": {
             "colorbar": {
              "outlinewidth": 0,
              "ticks": ""
             }
            },
            "type": "parcoords"
           }
          ],
          "pie": [
           {
            "automargin": true,
            "type": "pie"
           }
          ],
          "scatter": [
           {
            "fillpattern": {
             "fillmode": "overlay",
             "size": 10,
             "solidity": 0.2
            },
            "type": "scatter"
           }
          ],
          "scatter3d": [
           {
            "line": {
             "colorbar": {
              "outlinewidth": 0,
              "ticks": ""
             }
            },
            "marker": {
             "colorbar": {
              "outlinewidth": 0,
              "ticks": ""
             }
            },
            "type": "scatter3d"
           }
          ],
          "scattercarpet": [
           {
            "marker": {
             "colorbar": {
              "outlinewidth": 0,
              "ticks": ""
             }
            },
            "type": "scattercarpet"
           }
          ],
          "scattergeo": [
           {
            "marker": {
             "colorbar": {
              "outlinewidth": 0,
              "ticks": ""
             }
            },
            "type": "scattergeo"
           }
          ],
          "scattergl": [
           {
            "marker": {
             "colorbar": {
              "outlinewidth": 0,
              "ticks": ""
             }
            },
            "type": "scattergl"
           }
          ],
          "scattermapbox": [
           {
            "marker": {
             "colorbar": {
              "outlinewidth": 0,
              "ticks": ""
             }
            },
            "type": "scattermapbox"
           }
          ],
          "scatterpolar": [
           {
            "marker": {
             "colorbar": {
              "outlinewidth": 0,
              "ticks": ""
             }
            },
            "type": "scatterpolar"
           }
          ],
          "scatterpolargl": [
           {
            "marker": {
             "colorbar": {
              "outlinewidth": 0,
              "ticks": ""
             }
            },
            "type": "scatterpolargl"
           }
          ],
          "scatterternary": [
           {
            "marker": {
             "colorbar": {
              "outlinewidth": 0,
              "ticks": ""
             }
            },
            "type": "scatterternary"
           }
          ],
          "surface": [
           {
            "colorbar": {
             "outlinewidth": 0,
             "ticks": ""
            },
            "colorscale": [
             [
              0,
              "#0d0887"
             ],
             [
              0.1111111111111111,
              "#46039f"
             ],
             [
              0.2222222222222222,
              "#7201a8"
             ],
             [
              0.3333333333333333,
              "#9c179e"
             ],
             [
              0.4444444444444444,
              "#bd3786"
             ],
             [
              0.5555555555555556,
              "#d8576b"
             ],
             [
              0.6666666666666666,
              "#ed7953"
             ],
             [
              0.7777777777777778,
              "#fb9f3a"
             ],
             [
              0.8888888888888888,
              "#fdca26"
             ],
             [
              1,
              "#f0f921"
             ]
            ],
            "type": "surface"
           }
          ],
          "table": [
           {
            "cells": {
             "fill": {
              "color": "#EBF0F8"
             },
             "line": {
              "color": "white"
             }
            },
            "header": {
             "fill": {
              "color": "#C8D4E3"
             },
             "line": {
              "color": "white"
             }
            },
            "type": "table"
           }
          ]
         },
         "layout": {
          "annotationdefaults": {
           "arrowcolor": "#2a3f5f",
           "arrowhead": 0,
           "arrowwidth": 1
          },
          "autotypenumbers": "strict",
          "coloraxis": {
           "colorbar": {
            "outlinewidth": 0,
            "ticks": ""
           }
          },
          "colorscale": {
           "diverging": [
            [
             0,
             "#8e0152"
            ],
            [
             0.1,
             "#c51b7d"
            ],
            [
             0.2,
             "#de77ae"
            ],
            [
             0.3,
             "#f1b6da"
            ],
            [
             0.4,
             "#fde0ef"
            ],
            [
             0.5,
             "#f7f7f7"
            ],
            [
             0.6,
             "#e6f5d0"
            ],
            [
             0.7,
             "#b8e186"
            ],
            [
             0.8,
             "#7fbc41"
            ],
            [
             0.9,
             "#4d9221"
            ],
            [
             1,
             "#276419"
            ]
           ],
           "sequential": [
            [
             0,
             "#0d0887"
            ],
            [
             0.1111111111111111,
             "#46039f"
            ],
            [
             0.2222222222222222,
             "#7201a8"
            ],
            [
             0.3333333333333333,
             "#9c179e"
            ],
            [
             0.4444444444444444,
             "#bd3786"
            ],
            [
             0.5555555555555556,
             "#d8576b"
            ],
            [
             0.6666666666666666,
             "#ed7953"
            ],
            [
             0.7777777777777778,
             "#fb9f3a"
            ],
            [
             0.8888888888888888,
             "#fdca26"
            ],
            [
             1,
             "#f0f921"
            ]
           ],
           "sequentialminus": [
            [
             0,
             "#0d0887"
            ],
            [
             0.1111111111111111,
             "#46039f"
            ],
            [
             0.2222222222222222,
             "#7201a8"
            ],
            [
             0.3333333333333333,
             "#9c179e"
            ],
            [
             0.4444444444444444,
             "#bd3786"
            ],
            [
             0.5555555555555556,
             "#d8576b"
            ],
            [
             0.6666666666666666,
             "#ed7953"
            ],
            [
             0.7777777777777778,
             "#fb9f3a"
            ],
            [
             0.8888888888888888,
             "#fdca26"
            ],
            [
             1,
             "#f0f921"
            ]
           ]
          },
          "colorway": [
           "#636efa",
           "#EF553B",
           "#00cc96",
           "#ab63fa",
           "#FFA15A",
           "#19d3f3",
           "#FF6692",
           "#B6E880",
           "#FF97FF",
           "#FECB52"
          ],
          "font": {
           "color": "#2a3f5f"
          },
          "geo": {
           "bgcolor": "white",
           "lakecolor": "white",
           "landcolor": "#E5ECF6",
           "showlakes": true,
           "showland": true,
           "subunitcolor": "white"
          },
          "hoverlabel": {
           "align": "left"
          },
          "hovermode": "closest",
          "mapbox": {
           "style": "light"
          },
          "paper_bgcolor": "white",
          "plot_bgcolor": "#E5ECF6",
          "polar": {
           "angularaxis": {
            "gridcolor": "white",
            "linecolor": "white",
            "ticks": ""
           },
           "bgcolor": "#E5ECF6",
           "radialaxis": {
            "gridcolor": "white",
            "linecolor": "white",
            "ticks": ""
           }
          },
          "scene": {
           "xaxis": {
            "backgroundcolor": "#E5ECF6",
            "gridcolor": "white",
            "gridwidth": 2,
            "linecolor": "white",
            "showbackground": true,
            "ticks": "",
            "zerolinecolor": "white"
           },
           "yaxis": {
            "backgroundcolor": "#E5ECF6",
            "gridcolor": "white",
            "gridwidth": 2,
            "linecolor": "white",
            "showbackground": true,
            "ticks": "",
            "zerolinecolor": "white"
           },
           "zaxis": {
            "backgroundcolor": "#E5ECF6",
            "gridcolor": "white",
            "gridwidth": 2,
            "linecolor": "white",
            "showbackground": true,
            "ticks": "",
            "zerolinecolor": "white"
           }
          },
          "shapedefaults": {
           "line": {
            "color": "#2a3f5f"
           }
          },
          "ternary": {
           "aaxis": {
            "gridcolor": "white",
            "linecolor": "white",
            "ticks": ""
           },
           "baxis": {
            "gridcolor": "white",
            "linecolor": "white",
            "ticks": ""
           },
           "bgcolor": "#E5ECF6",
           "caxis": {
            "gridcolor": "white",
            "linecolor": "white",
            "ticks": ""
           }
          },
          "title": {
           "x": 0.05
          },
          "xaxis": {
           "automargin": true,
           "gridcolor": "white",
           "linecolor": "white",
           "ticks": "",
           "title": {
            "standoff": 15
           },
           "zerolinecolor": "white",
           "zerolinewidth": 2
          },
          "yaxis": {
           "automargin": true,
           "gridcolor": "white",
           "linecolor": "white",
           "ticks": "",
           "title": {
            "standoff": 15
           },
           "zerolinecolor": "white",
           "zerolinewidth": 2
          }
         }
        },
        "xaxis": {
         "anchor": "y",
         "domain": [
          0,
          1
         ],
         "title": {
          "text": "target"
         }
        },
        "yaxis": {
         "anchor": "x",
         "domain": [
          0,
          1
         ],
         "title": {
          "text": "count"
         }
        }
       }
      }
     },
     "metadata": {},
     "output_type": "display_data"
    }
   ],
   "source": [
    "class_count = numerics_75.groupby(\"target\").count().reset_index()\n",
    "class_count = class_count[[\"target\", \"annuity_780A\"]].rename(columns={\"annuity_780A\":\"count\"})\n",
    "class_count[\"percent\"] = class_count[\"count\"]/class_count[\"count\"].sum()\n",
    "class_count\n",
    "\n",
    "fig_2 = px.bar(class_count, x=\"target\", y=\"count\", hover_data=\"percent\")\n",
    "fig_2.show()"
   ]
  },
  {
   "cell_type": "code",
   "execution_count": 15,
   "metadata": {},
   "outputs": [
    {
     "data": {
      "application/vnd.plotly.v1+json": {
       "config": {
        "plotlyServerURL": "https://plot.ly"
       },
       "data": [
        {
         "coloraxis": "coloraxis",
         "hovertemplate": "x: %{x}<br>y: %{y}<br>color: %{z}<extra></extra>",
         "name": "0",
         "type": "heatmap",
         "x": [
          "annuity_780A",
          "applicationcnt_361L",
          "applications30d_658L",
          "applicationscnt_1086L",
          "applicationscnt_464L",
          "applicationscnt_629L",
          "applicationscnt_867L",
          "clientscnt12m_3712952L",
          "clientscnt3m_3712950L",
          "clientscnt6m_3712949L",
          "clientscnt_100L",
          "clientscnt_1022L",
          "clientscnt_1071L",
          "clientscnt_1130L",
          "clientscnt_157L",
          "clientscnt_257L",
          "clientscnt_304L",
          "clientscnt_360L",
          "clientscnt_493L",
          "clientscnt_533L",
          "clientscnt_887L",
          "clientscnt_946L",
          "credamount_770A",
          "deferredmnthsnum_166L",
          "disbursedcredamount_1113A",
          "downpmt_116A",
          "homephncnt_628L",
          "mobilephncnt_593L",
          "numactivecreds_622L",
          "numactivecredschannel_414L",
          "numactiverelcontr_750L",
          "numcontrs3months_479L",
          "numnotactivated_1143L",
          "numpmtchanneldd_318L",
          "numrejects9m_859L",
          "sellerplacecnt_915L",
          "sellerplacescnt_216L",
          "totaldebt_9A",
          "annuitynextmonth_57A",
          "currdebt_22A",
          "currdebtcredtyperange_828A",
          "numinstls_657L",
          "totalsettled_863A",
          "pmtnum_254L",
          "posfpd10lastmonth_333P",
          "days120_123L",
          "days180_256L",
          "days30_165L",
          "days360_512L",
          "days90_310L",
          "firstquarter_103L",
          "fourthquarter_440L",
          "numberofqueries_373L",
          "secondquarter_766L",
          "thirdquarter_1082L",
          "posfpd30lastmonth_3976960P",
          "posfstqpd30lastmonth_3976962P",
          "eir_270L",
          "interestrate_311L",
          "price_1097A",
          "mastercontrelectronic_519L",
          "mastercontrexist_109L",
          "maxannuity_159A",
          "maxdebt4_972A",
          "maxdpdlast12m_727P",
          "maxdpdlast24m_143P",
          "maxdpdlast3m_392P",
          "maxdpdlast6m_474P",
          "maxdpdlast9m_1059P",
          "maxdpdtolerance_374P",
          "commnoinclast6m_3546845L",
          "maxdpdfrom6mto36m_3546853P",
          "case_id",
          "MONTH",
          "WEEK_NUM",
          "target"
         ],
         "xaxis": "x",
         "y": [
          "annuity_780A",
          "applicationcnt_361L",
          "applications30d_658L",
          "applicationscnt_1086L",
          "applicationscnt_464L",
          "applicationscnt_629L",
          "applicationscnt_867L",
          "clientscnt12m_3712952L",
          "clientscnt3m_3712950L",
          "clientscnt6m_3712949L",
          "clientscnt_100L",
          "clientscnt_1022L",
          "clientscnt_1071L",
          "clientscnt_1130L",
          "clientscnt_157L",
          "clientscnt_257L",
          "clientscnt_304L",
          "clientscnt_360L",
          "clientscnt_493L",
          "clientscnt_533L",
          "clientscnt_887L",
          "clientscnt_946L",
          "credamount_770A",
          "deferredmnthsnum_166L",
          "disbursedcredamount_1113A",
          "downpmt_116A",
          "homephncnt_628L",
          "mobilephncnt_593L",
          "numactivecreds_622L",
          "numactivecredschannel_414L",
          "numactiverelcontr_750L",
          "numcontrs3months_479L",
          "numnotactivated_1143L",
          "numpmtchanneldd_318L",
          "numrejects9m_859L",
          "sellerplacecnt_915L",
          "sellerplacescnt_216L",
          "totaldebt_9A",
          "annuitynextmonth_57A",
          "currdebt_22A",
          "currdebtcredtyperange_828A",
          "numinstls_657L",
          "totalsettled_863A",
          "pmtnum_254L",
          "posfpd10lastmonth_333P",
          "days120_123L",
          "days180_256L",
          "days30_165L",
          "days360_512L",
          "days90_310L",
          "firstquarter_103L",
          "fourthquarter_440L",
          "numberofqueries_373L",
          "secondquarter_766L",
          "thirdquarter_1082L",
          "posfpd30lastmonth_3976960P",
          "posfstqpd30lastmonth_3976962P",
          "eir_270L",
          "interestrate_311L",
          "price_1097A",
          "mastercontrelectronic_519L",
          "mastercontrexist_109L",
          "maxannuity_159A",
          "maxdebt4_972A",
          "maxdpdlast12m_727P",
          "maxdpdlast24m_143P",
          "maxdpdlast3m_392P",
          "maxdpdlast6m_474P",
          "maxdpdlast9m_1059P",
          "maxdpdtolerance_374P",
          "commnoinclast6m_3546845L",
          "maxdpdfrom6mto36m_3546853P",
          "case_id",
          "MONTH",
          "WEEK_NUM",
          "target"
         ],
         "yaxis": "y",
         "z": [
          [
           1,
           0.001465874020185871,
           0.015416465510394021,
           0.03408350528762099,
           -0.021432690130788985,
           -0.021234827314230334,
           0.06164559512857828,
           -0.0009563359039203042,
           -0.0005439246740716622,
           -0.000697260668971214,
           -0.015709524616810102,
           0.00040774116174982283,
           -0.00010130762248038302,
           0.006829719365616378,
           -0.00817044188955125,
           0.0065419505527521595,
           0.013064036877286961,
           -0.00919636449941457,
           0.0019105485545651039,
           0.026177499583782172,
           -0.019487579553598918,
           0.015898037646830548,
           0.8195214291773498,
           null,
           0.7925543953142284,
           0.09524700010987924,
           0.06877977812931557,
           0.0026034281701630135,
           0.028369721722548702,
           -0.04213399939241977,
           -0.05333498327399796,
           -0.018882423116657637,
           -0.0046589694710664235,
           0.013607170993656853,
           -0.012070403831714772,
           -0.023569857462234535,
           0.06617419123193158,
           0.04540873078338883,
           0.09967787305808541,
           0.04540717858114093,
           0.09294671574997854,
           0.033273870025315955,
           0.15383566458646256,
           0.182358384668893,
           -0.003733505098381136,
           0.01317591171196309,
           0.0065135036819230505,
           0.05725609532780014,
           0.008803396544235703,
           0.021002194948652037,
           0.022203966962234,
           0.019691971776384314,
           0.008803396544235703,
           0.025919104589944193,
           0.03034996254905424,
           -0.0034823981672125926,
           -0.0025736011934668467,
           0.1550611262000615,
           0.1550611262000615,
           0.5405991305440787,
           null,
           null,
           0.07188273052589418,
           0.19531983269836845,
           -0.02099744961230863,
           -0.025367132281939625,
           -0.01141757310491456,
           -0.015861735853459184,
           -0.01878450640573631,
           -0.03569276761356438,
           null,
           -0.029223501876246026,
           0.09658029136398665,
           0.09052110854337893,
           0.08981853605731653,
           0.014238802381944565
          ],
          [
           0.001465874020185871,
           1,
           0.00019865809603545454,
           -0.0003274156192952484,
           -0.00017960544125642127,
           -0.00008951386039659065,
           -0.0005559728409107471,
           0.005191569165701695,
           0.004675894723274043,
           0.0037991212355456237,
           0.0011222685180685675,
           0.009471832288989552,
           -0.00043161264297332617,
           -0.00030214588955003034,
           -0.00024799067885369175,
           -0.00011980338728047354,
           -0.0001463628488026438,
           -0.00012279813198754288,
           -0.000029382368490159038,
           -0.0006521807333392184,
           -0.000058268312732672554,
           -0.00026204464963339077,
           0.0010722409162614796,
           null,
           0.0013279370841925875,
           -0.00032859597810569154,
           -0.0006941047040261272,
           0.00025716493507567465,
           -0.0007598359018556261,
           -0.0007628931914321834,
           0.00002612255147158029,
           -0.00006849939478560066,
           -0.00033771526179226217,
           -0.00036871356414378914,
           0.00025139937573518734,
           -0.0004974018047753566,
           -0.00035147055992599,
           -0.0009174396667946454,
           -0.0012449040049902725,
           -0.0009174200191203813,
           -0.0007257411226291738,
           -0.0012017665266815401,
           -0.0008198118667449948,
           0.00011490730821745705,
           -0.0003100796654849111,
           0.0016924383648033183,
           0.0020733086793084904,
           -0.00009775196227112902,
           0.0016158960306429067,
           0.0009411959381923038,
           0.0010454481287783604,
           0.0006988613888419534,
           0.0016158960306429067,
           0.0004989106954542496,
           0.0005458106800655879,
           -0.0002112578550443308,
           -0.0004092763384868359,
           0.000784744423991537,
           0.000784744423991537,
           0.00009542484798840591,
           null,
           null,
           -0.00020671811717919373,
           -0.0008368995582483433,
           -0.00015805891213749033,
           -0.00021362844115318136,
           -0.00009330085273025013,
           -0.00011206031842354791,
           -0.00013732040224473315,
           -0.0003288782001628943,
           null,
           -0.0002322009832594364,
           -0.002085440518297603,
           -0.000520862795392635,
           -0.0007954649399274788,
           0.0005577848662364589
          ],
          [
           0.015416465510394021,
           0.00019865809603545454,
           1,
           0.07328600303122869,
           0.00516946791411365,
           0.00840145634589535,
           0.2558121979481348,
           0.0014356722624050708,
           0.0010821291351355061,
           0.001015106189833949,
           -0.002865028375013452,
           0.0034254856920982774,
           0.02820528595102619,
           0.08763337136624974,
           0.006618753022953807,
           0.006471850831036521,
           0.013988028950969332,
           0.0021506806087250906,
           0.007077686749789453,
           0.038728203932766506,
           -0.0029873737520685144,
           0.0052742908138934865,
           0.04158121838719984,
           null,
           0.038075135041106385,
           0.006655579434299506,
           0.06652126199174453,
           0.07875900228346232,
           0.13768698904454327,
           0.06880412461311064,
           0.09049714054305064,
           0.6850346500667803,
           0.26742067060230174,
           0.03497475694811357,
           0.40931285248262766,
           0.48577749810080056,
           0.19056300426124995,
           0.1130962610311204,
           0.12266804269742089,
           0.11308465321631127,
           0.08608447709133345,
           0.10675728082640183,
           0.07737563619396651,
           0.06043999545002687,
           0.00472036275587984,
           0.2190720686385357,
           0.19469361299404342,
           0.3009323194633629,
           0.16235559119149773,
           0.23783280228674994,
           0.10418272629424828,
           0.1041058598697133,
           0.16235559119149773,
           0.10114903544504268,
           0.11152344386020628,
           0.004967269743291217,
           0.007409683166375708,
           0.015549182000178659,
           0.015549182000178659,
           0.0202048698953524,
           null,
           null,
           0.04711280359082983,
           0.04392735687946716,
           0.007972842797575227,
           0.011810828911323687,
           0.001570685146122588,
           0.0025611545278360136,
           0.006007854534617417,
           0.017380645495324767,
           null,
           0.013062169941108703,
           -0.04666047640403972,
           0.03422316355094742,
           0.03517213225584895,
           0.0410436919007471
          ],
          [
           0.03408350528762099,
           -0.0003274156192952484,
           0.07328600303122869,
           1,
           0.0005900466747153544,
           0.00042930252855792204,
           0.15283294254417704,
           0.0026160809158686403,
           0.0009258035787451707,
           0.0015625912906788377,
           -0.006849708600386162,
           0.006201843265752784,
           0.013310202413566747,
           0.011358813108506938,
           0.0054205572530393,
           0.0004836722824346425,
           0.7146363721442185,
           -0.004006546854052996,
           0.055624201221840495,
           0.031127845547976905,
           -0.005699761036329816,
           -0.003388479429902659,
           0.05496712507979281,
           null,
           0.051503763111363614,
           -0.015314695490592405,
           0.13307105723095167,
           0.054758878532547406,
           0.07793188906261728,
           0.002192513314325336,
           0.004399269407859231,
           0.1031413285039961,
           0.0034914662891917395,
           0.022854567527867083,
           0.14598952256783385,
           0.03239793229501911,
           0.0992659581477282,
           0.07686904444459587,
           0.07909086981416126,
           0.0768711284808056,
           0.09689769700629927,
           0.08456307922327758,
           0.11891165574132108,
           0.06909003157146457,
           0.0022128590469125426,
           0.051069984017076527,
           0.054280899236858804,
           0.03520687664257414,
           0.06069188361073803,
           0.04670190674706267,
           0.05324634235859173,
           0.05142151506084721,
           0.06069188361073803,
           0.054816944813095646,
           0.0577001953823757,
           0.0014703564106158338,
           0.004127033893203292,
           0.05909965810459436,
           0.05909965810459436,
           -0.06369378299579084,
           null,
           null,
           0.04190459851829501,
           0.09782529612482496,
           -0.005730301438618223,
           -0.0065269800817866755,
           -0.0034315836027769366,
           -0.004511260583425445,
           -0.005501877372347562,
           -0.008011467211639343,
           null,
           -0.006866502920350812,
           -0.01891693316996032,
           0.004974907748700221,
           -0.0039348257416321674,
           -0.001485678438634382
          ],
          [
           -0.021432690130788985,
           -0.00017960544125642127,
           0.00516946791411365,
           0.0005900466747153544,
           1,
           0.9665787293939261,
           -0.022146187935355575,
           0.0008417578227952759,
           0.0011725276634687247,
           0.0008119770008407201,
           0.010182660462624291,
           0.0006763209472243568,
           0.011722154944111243,
           0.024670825930298314,
           0.08339092306410437,
           0.0080569710481506,
           0.0039666036695716915,
           0.007233035075800228,
           0.0006563811339253216,
           0.03926597936509041,
           0.4026255626472462,
           -0.002077412698224166,
           -0.011067597171231984,
           null,
           -0.01405275448217506,
           0.004252028765262402,
           -0.037128353780397645,
           -0.027885773377260253,
           -0.028174610561736323,
           -0.018427270338172874,
           0.021034753262055544,
           0.00516503205022481,
           -0.002848153376195529,
           0.0010754792005043614,
           0.0069937224740821945,
           0.00022890709342490088,
           -0.03157048405309943,
           -0.018213427820100415,
           -0.024405030651674656,
           -0.0182133429717624,
           -0.013437220524352873,
           -0.024605477057362393,
           -0.03316740589155336,
           0.009817489246082283,
           0.0009483262868535696,
           0.016224425572665464,
           0.017267950531137582,
           0.004813522706020777,
           0.014638914778559022,
           0.014259859915082872,
           0.0006311523170068931,
           0.004207453701296759,
           0.014638914778559022,
           0.0020943938352871168,
           -0.0002910496397517804,
           0.0025371081544315584,
           0.0009130931279539103,
           -0.006687559382493259,
           -0.006687559382493259,
           -0.0011001095612212508,
           null,
           null,
           -0.008372206422268498,
           -0.029148498993736713,
           -0.004034308736933328,
           -0.00607573221652964,
           -0.001748690763480435,
           -0.0027026344455466935,
           -0.0036553706951084368,
           -0.010416245822679053,
           null,
           -0.006806568442479473,
           -0.07197531868266271,
           -0.03335555867724858,
           -0.02557833359324407,
           0.0038048967789401475
          ],
          [
           -0.021234827314230334,
           -0.00008951386039659065,
           0.00840145634589535,
           0.00042930252855792204,
           0.9665787293939261,
           1,
           -0.022753055378663626,
           0.0009200487311398091,
           0.0013243193144412805,
           0.0009120104747701757,
           0.010115403315779531,
           0.0007258468958827428,
           0.011436568433056807,
           0.027750035217652177,
           0.08174555712414985,
           0.008211017323749303,
           0.004429831288858386,
           0.007479942824611785,
           0.0007936271653430658,
           0.038477426414036384,
           0.3962254453598814,
           -0.001802878774680885,
           -0.010939770912645343,
           null,
           -0.013817719563214117,
           0.005152904656860452,
           -0.03754393853570977,
           -0.028239062577542717,
           -0.029005955646057523,
           -0.01860071521981872,
           0.019952589782807804,
           0.0065729038337054855,
           -0.0026947782722055147,
           -0.00001263094785330823,
           0.006091630551949994,
           -0.00000987433910141819,
           -0.032155201932223806,
           -0.018579316456577635,
           -0.024814623822447885,
           -0.01857957645646545,
           -0.013961462524105702,
           -0.024833560201285017,
           -0.03359693352824861,
           0.009273150832390992,
           0.000695409811999541,
           0.015382534944470894,
           0.01634686346631951,
           0.004501958611781538,
           0.013589317868865327,
           0.013437203214404215,
           -0.0001332749924659271,
           0.0032569517933378174,
           0.013589317868865327,
           0.0015024958558141736,
           -0.0012137855011128268,
           0.00245200802426188,
           0.0006472426973896524,
           -0.007946009171103925,
           -0.007946009171103925,
           -0.0003682825911516264,
           null,
           null,
           -0.008691288938591654,
           -0.02926406384652601,
           -0.004275139039817789,
           -0.006297175206356376,
           -0.0018644272589965073,
           -0.002824301269903462,
           -0.003790279572719151,
           -0.010525562838948632,
           null,
           -0.0070149008826531165,
           -0.07100778785587065,
           -0.037299470029290654,
           -0.026903757216005995,
           0.003773364315914042
          ],
          [
           0.06164559512857828,
           -0.0005559728409107471,
           0.2558121979481348,
           0.15283294254417704,
           -0.022146187935355575,
           -0.022753055378663626,
           1,
           0.26923302296536217,
           0.23705879475864985,
           0.2628524686753346,
           -0.038547260752136894,
           0.3070134167758254,
           0.0408268245366904,
           0.006920664168828877,
           -0.015847329183970513,
           -0.006366695512867921,
           0.03115175611641518,
           -0.01633034874809556,
           0.008332451242491065,
           -0.007184265012390332,
           -0.022128615795824483,
           0.1940565144692917,
           0.08792043814923672,
           null,
           0.07638950612757413,
           -0.022548752937975588,
           0.3280720991324885,
           0.08864221703046075,
           0.3778811556344514,
           0.12428539259712168,
           0.146539245770379,
           0.3632836547282516,
           0.07754282367882295,
           0.11203868808528292,
           0.46488317614328634,
           0.2749817365288402,
           0.8467034690456715,
           0.2723821921619245,
           0.3053401474842258,
           0.2723821658117527,
           0.22021183468626712,
           0.31058457852648974,
           0.44479016743962363,
           0.10508179634347928,
           -0.00036223533835220214,
           0.2392451667891246,
           0.267652092455491,
           0.13876412617403666,
           0.3214960612051699,
           0.21286802934897922,
           0.3110742641526743,
           0.3154279106379102,
           0.3214960612051699,
           0.3180611988515058,
           0.3249577082820605,
           -0.001035590675762057,
           0.002227840683137542,
           0.08805746459870237,
           0.08805746459870237,
           -0.0521631032121434,
           null,
           null,
           0.17824494203414984,
           0.3584343679193415,
           -0.025889687879573804,
           -0.02553795856222183,
           -0.017132394124984643,
           -0.02232309696075144,
           -0.024467120234037215,
           -0.022742455652165035,
           null,
           -0.025744248736429175,
           0.099798229891244,
           0.11497066889125097,
           0.11272794748702379,
           0.008703838592288259
          ],
          [
           -0.0009563359039203042,
           0.005191569165701695,
           0.0014356722624050708,
           0.0026160809158686403,
           0.0008417578227952759,
           0.0009200487311398091,
           0.26923302296536217,
           1,
           0.9047488312321964,
           0.9852180627890097,
           -0.00016576314819502342,
           0.9430550869200892,
           0.006375977804930737,
           0.0023427399701014097,
           0.0010971219609595192,
           0.00044284700951565667,
           0.0015900140092669978,
           0.0006399240635908091,
           0.00016518318349526963,
           0.0008825659970238555,
           0.001076529396255016,
           0.5375339173041185,
           -0.0015374549046551066,
           null,
           -0.00039533877922291716,
           -0.0015689400609369927,
           0.0009934810762233964,
           0.016222568471449948,
           0.0028825441209626365,
           -0.00010754262471090244,
           -0.00601956132823901,
           0.002268944081145028,
           -0.0003319802592905547,
           -0.002947946110850229,
           0.005018107030814833,
           0.0009385328749329602,
           0.21497438190718646,
           0.004605258030485042,
           0.004705128351706903,
           0.004604720712540094,
           0.00661613919017481,
           0.00619608281412591,
           0.0048073855438373935,
           0.0025555839397408764,
           -0.00045586311755080544,
           -0.003561783267296491,
           -0.0038018263815521574,
           -0.0031300251177767764,
           -0.0045456092573458295,
           -0.003605981328890395,
           -0.0056957094705972445,
           -0.005986679302989292,
           -0.0045456092573458295,
           -0.005430908411440334,
           -0.005618388616342732,
           -0.0000538185850772178,
           -0.0003970637222031704,
           0.008658850023786845,
           0.008658850023786845,
           -0.006062919428622741,
           null,
           null,
           0.0009175665969121362,
           0.004344841284436524,
           0.0006758826576420871,
           0.0010266801521621267,
           0.00047489064699434715,
           0.0004927582178212024,
           0.00045143433348702577,
           0.0013772425844319753,
           null,
           0.0011050358152341702,
           -0.00788144110165332,
           0.009330462622152508,
           0.00998029123913249,
           0.004819715784064873
          ],
          [
           -0.0005439246740716622,
           0.004675894723274043,
           0.0010821291351355061,
           0.0009258035787451707,
           0.0011725276634687247,
           0.0013243193144412805,
           0.23705879475864985,
           0.9047488312321964,
           1,
           0.9324228409139201,
           0.00022704211406069264,
           0.8709832600629783,
           0.0073468647724323185,
           0.0026762884867811126,
           0.001726589061792639,
           0.0008321784574268379,
           0.000833661572660146,
           0.0007766736880046539,
           -0.00010456827093083113,
           0.0007063891092702626,
           0.0011396409301434565,
           0.5062723207875546,
           -0.0011111782780580837,
           null,
           -0.00025772081035205615,
           -0.0012191996229597734,
           -0.0005169860325491806,
           0.01244443879255826,
           -0.0009118314827194822,
           -0.0018367388996367794,
           -0.005510404900627021,
           0.0009856305419075262,
           -0.0000508623415700655,
           -0.002917985515272653,
           0.0005757447516221194,
           0.00020058633416905085,
           0.1883838814032734,
           0.0022973913767699206,
           0.002083579515556688,
           0.0022975200797521666,
           0.00436724210517389,
           0.002460816793585025,
           0.0018615150985984365,
           0.0018002140258595682,
           -0.00033362452875513893,
           -0.00423234357657706,
           -0.005051406277155114,
           -0.0032276811748358863,
           -0.006323671926035105,
           -0.00397823087126177,
           -0.006589519039122792,
           -0.006683635258704263,
           -0.006323671926035105,
           -0.006117764825251983,
           -0.006077804673643439,
           0.00007369849453895805,
           -0.0002720862479069362,
           0.005835738223062005,
           0.005835738223062005,
           -0.0028436254119309657,
           null,
           null,
           0.00016708746202784056,
           0.00195036185253469,
           0.00030093941087500347,
           0.0003713038084577799,
           0.0002781048961066212,
           0.0003852997620196349,
           0.0003000775690117676,
           0.0004829755918941861,
           null,
           0.0003981727922255346,
           -0.008096311958257588,
           0.00814451363397387,
           0.008700851272740668,
           0.003214477487335169
          ],
          [
           -0.000697260668971214,
           0.0037991212355456237,
           0.001015106189833949,
           0.0015625912906788377,
           0.0008119770008407201,
           0.0009120104747701757,
           0.2628524686753346,
           0.9852180627890097,
           0.9324228409139201,
           1,
           -0.000024907473317533385,
           0.9333497762511479,
           0.005852525306923709,
           0.0023125918984202077,
           0.001107020002423081,
           0.0006436786324395022,
           0.0010588749385474984,
           0.0005042933956737524,
           -0.0001071672117726839,
           0.0007119466887958185,
           0.000974804663890679,
           0.5359507286349324,
           -0.0012005165604693443,
           null,
           -0.00028241991418519327,
           -0.0011593645538749676,
           0.0005229598291552125,
           0.012603158049074652,
           0.0011339781024776333,
           -0.0008468540863738811,
           -0.005220464436639906,
           0.0012751369408497265,
           -0.00022865818733544421,
           -0.0027060864819139245,
           0.0023398829454774196,
           0.0001761701366839829,
           0.2085992888177317,
           0.0035595922899639212,
           0.0033483828048685854,
           0.0035593311483793897,
           0.0056197574111541354,
           0.004230678983018231,
           0.0033635756393449855,
           0.0020645453270962846,
           -0.0003985828464187495,
           -0.0038357109673138666,
           -0.004086496456632362,
           -0.003200534654837292,
           -0.005507248424231551,
           -0.0038609370794246856,
           -0.006135627388426839,
           -0.0061968142320872315,
           -0.005507248424231551,
           -0.005625514278706512,
           -0.005627448964868923,
           -0.00017611075349995147,
           -0.0004899324300759847,
           0.006813237780467831,
           0.006813237780467831,
           -0.003877260072812992,
           null,
           null,
           0.0005133128055238732,
           0.003295461239583793,
           0.000351118803891263,
           0.0003871061219125985,
           0.0003292669732590733,
           0.000383386149396903,
           0.0002950361907173835,
           0.00045229983910753517,
           null,
           0.0004101514110466251,
           -0.007911574007565071,
           0.0084465385240724,
           0.009009493331026403,
           0.0037947916249398777
          ],
          [
           -0.015709524616810102,
           0.0011222685180685675,
           -0.002865028375013452,
           -0.006849708600386162,
           0.010182660462624291,
           0.010115403315779531,
           -0.038547260752136894,
           -0.00016576314819502342,
           0.00022704211406069264,
           -0.000024907473317533385,
           1,
           -0.0012083874857109981,
           0.004474413973691633,
           0.012506401148397718,
           0.5281258510125719,
           0.011092946773142761,
           -0.002487551297077703,
           0.07658244550365696,
           0.002324620889807988,
           0.024222978774801143,
           -0.0049180936047569694,
           0.006935479240629158,
           -0.008919703455703424,
           null,
           -0.009150100166071545,
           0.0040869965202449746,
           -0.05206250303522977,
           -0.04206002787028458,
           -0.04298711749378424,
           -0.021383721521048844,
           0.008932716819908747,
           -0.005623564050440391,
           -0.0058433227006882,
           -0.012359804153193382,
           -0.005763843774220364,
           -0.0063909337218031395,
           -0.04246891747757559,
           -0.02627612849090733,
           -0.03422536223020093,
           -0.026278849242360357,
           -0.021124618768866885,
           -0.03428512310496732,
           -0.04793034721782114,
           0.007096102150371733,
           0.00022805341817997958,
           -0.0022289336355584555,
           -0.0035636958286266863,
           -0.003094855540907292,
           -0.007543100413711724,
           -0.001870570119936393,
           -0.012951376698401195,
           -0.012955760097260233,
           -0.007543100413711724,
           -0.015580430577103658,
           -0.01663258426756851,
           0.0005916693845534253,
           0.0003545507531503747,
           -0.020866588977576494,
           -0.020866588977576494,
           0.009195747915554877,
           null,
           null,
           -0.01382257516069914,
           -0.03776441468218037,
           -0.003587363422920347,
           -0.005179062808064261,
           -0.0012740785484421885,
           -0.002067023895909306,
           -0.002958707866558448,
           -0.009034731976148451,
           null,
           -0.005486912966780051,
           -0.07061486216532153,
           -0.02054172374530623,
           -0.01924309217607386,
           0.007019853489152866
          ],
          [
           0.00040774116174982283,
           0.009471832288989552,
           0.0034254856920982774,
           0.006201843265752784,
           0.0006763209472243568,
           0.0007258468958827428,
           0.3070134167758254,
           0.9430550869200892,
           0.8709832600629783,
           0.9333497762511479,
           -0.0012083874857109981,
           1,
           0.0063104328964435925,
           0.0018272600966046367,
           0.0005806405045358653,
           -0.000018206731815696595,
           0.0029388506522650387,
           0.00028733049038813367,
           0.0004611801263710325,
           0.0012147938542748245,
           0.0007143253833963223,
           0.6208154142077165,
           -0.000053726538256453345,
           null,
           0.0008424161354443872,
           -0.002247190474397562,
           0.0107131033536657,
           0.01640891846603298,
           0.008935570118549662,
           0.0011467978391860884,
           -0.003876586560712952,
           0.005102389325392305,
           0.001238456429567452,
           -0.000681360402090744,
           0.008527349707562004,
           0.003831263837709555,
           0.25901013442940785,
           0.00927164805168907,
           0.009633888316647077,
           0.00927174978971626,
           0.010388045020534769,
           0.01154295653948614,
           0.014169856122504298,
           0.004498082643833315,
           -0.0008351231949387567,
           -0.0003883383669894539,
           -0.00008379994689182554,
           -0.0009097024687195059,
           0.00029498419384725734,
           -0.0008268919801696848,
           0.0006134774485248699,
           -0.000015890967937470598,
           0.00029498419384725734,
           0.0008861362052284202,
           0.0012147575218234277,
           -0.00029866717120120606,
           -0.0007000106945875426,
           0.011734059520420158,
           0.011734059520420158,
           -0.009465474021176647,
           null,
           null,
           0.004371410910304042,
           0.010648853973442845,
           0.0010979153590511468,
           0.0016504480133186896,
           0.0006721662221160947,
           0.0009137812464564872,
           0.0008370556327142601,
           0.003813561730929757,
           null,
           0.0020747014148151063,
           -0.003675440549667887,
           0.01481110633727618,
           0.015478727206357618,
           0.004229821902571792
          ],
          [
           -0.00010130762248038302,
           -0.00043161264297332617,
           0.02820528595102619,
           0.013310202413566747,
           0.011722154944111243,
           0.011436568433056807,
           0.0408268245366904,
           0.006375977804930737,
           0.0073468647724323185,
           0.005852525306923709,
           0.004474413973691633,
           0.0063104328964435925,
           1,
           0.04083739240009878,
           0.006013496406750409,
           0.01483730412599335,
           0.007662451189230504,
           0.011331444177690025,
           0.0009143327319814288,
           0.08248463847119863,
           0.0037433690232207095,
           0.007702368896345377,
           0.007991095605580666,
           null,
           0.006034487098599877,
           -0.0014714622828685831,
           0.002846996664423427,
           -0.0037092612405999637,
           0.025778306167580912,
           0.010677636786465529,
           0.016020840583539656,
           0.04629789949233417,
           0.0087821373571613,
           0.012847503982752704,
           0.04044594951232968,
           0.041560914641233265,
           0.03718486018495436,
           0.022634995694694075,
           0.021492789436449052,
           0.022635817331629605,
           0.01717408538280121,
           0.01972140719746579,
           0.01116591351577562,
           0.014048054206223513,
           0.002171431762562782,
           0.04847619638471062,
           0.0501176295176851,
           0.02453978279067447,
           0.04924814471716536,
           0.0459698941074821,
           0.03127346758682333,
           0.034710821889660924,
           0.04924814471716536,
           0.032882043426067965,
           0.03401612933318609,
           0.00027075536343697736,
           0.0003202811632708226,
           0.011570063638572695,
           0.011570063638572695,
           0.001647614199016864,
           null,
           null,
           0.008493983586688823,
           0.010572663417185463,
           -0.003427153957379902,
           -0.004336992480059775,
           -0.003146050053701127,
           -0.002630174914512022,
           -0.003702145627086019,
           -0.00513890501950202,
           null,
           -0.004352546447846204,
           -0.01944234902968003,
           -0.024635004386282987,
           -0.028335889762663546,
           0.003963336641084762
          ],
          [
           0.006829719365616378,
           -0.00030214588955003034,
           0.08763337136624974,
           0.011358813108506938,
           0.024670825930298314,
           0.027750035217652177,
           0.006920664168828877,
           0.0023427399701014097,
           0.0026762884867811126,
           0.0023125918984202077,
           0.012506401148397718,
           0.0018272600966046367,
           0.04083739240009878,
           1,
           0.01808807889769303,
           0.056074331221155696,
           0.003710849706516279,
           0.013778759111969957,
           0.0033667623145395035,
           0.1397268120625214,
           0.01517866224577942,
           0.0007604833670444748,
           0.012341380682279949,
           null,
           0.012166143420346684,
           0.002020823530227518,
           -0.027274928032656045,
           -0.018685372070813923,
           -0.00037597083746708775,
           0.000364317755552614,
           0.0012311405850838684,
           0.09127685919116738,
           0.016174319116885917,
           -0.0019279334481465207,
           0.03803993638982143,
           0.052230406888190965,
           -0.009697008344078377,
           0.009744611714592783,
           0.005957156092911992,
           0.009736306920270789,
           0.01727974779544569,
           0.0022518085096461375,
           -0.020032226321844173,
           0.025155529734309644,
           0.0009490389137558222,
           0.03853162131601745,
           0.03308198851737532,
           0.02798683503737017,
           0.022713819887135597,
           0.041751152735227136,
           0.00501742952721123,
           0.005836766608824993,
           0.022713819887135597,
           0.002501311856542074,
           0.0034439389164931224,
           -0.000480081639770916,
           0.0013505381329015353,
           0.026445334095640878,
           0.026445334095640878,
           -0.0004928108646315393,
           null,
           null,
           -0.0027333143869947823,
           -0.023765681024709488,
           -0.005878585744439146,
           -0.0076424899307066686,
           -0.0034414735928449862,
           -0.004453217836231134,
           -0.005362833477737927,
           -0.012854107360422475,
           null,
           -0.008603257946512104,
           -0.10453456006093816,
           -0.018411590373908698,
           -0.025370166590486413,
           0.01007218812382414
          ],
          [
           -0.00817044188955125,
           -0.00024799067885369175,
           0.006618753022953807,
           0.0054205572530393,
           0.08339092306410437,
           0.08174555712414985,
           -0.015847329183970513,
           0.0010971219609595192,
           0.001726589061792639,
           0.001107020002423081,
           0.5281258510125719,
           0.0005806405045358653,
           0.006013496406750409,
           0.01808807889769303,
           1,
           0.00589302749686182,
           0.0035774433483748546,
           0.0015711616141626918,
           0.0013525171034995192,
           0.03675199700946663,
           0.15333392695731302,
           -0.0014323565119995036,
           -0.0022629696511124214,
           null,
           -0.005774422776316282,
           0.0014370295738705202,
           -0.024965011293333162,
           -0.02214450155836625,
           -0.021576023795400412,
           -0.016934655950926025,
           0.013716823777555016,
           0.007688001129698951,
           -0.0006925986752667999,
           -0.002864260233519075,
           0.009782495619313993,
           0.0012558233971850495,
           -0.021450055911910244,
           -0.011996410199991907,
           -0.01846603710814309,
           -0.012002718530553494,
           -0.0077294069778936865,
           -0.017209493489855055,
           -0.026973514437172143,
           0.011725620594237866,
           -0.000050930303184336484,
           0.013410977512655842,
           0.013108686788407372,
           0.0075903388065339,
           0.009703920254814109,
           0.012756660312416738,
           0.0017234976221862175,
           0.0020812676845550246,
           0.009703920254814109,
           0.000014482658975564025,
           -0.001301279921616379,
           0.00042003757783719547,
           0.0002252827273723878,
           0.006042362389605635,
           0.006042362389605635,
           -0.004899066069580202,
           null,
           null,
           -0.005338672348256769,
           -0.022345703630103343,
           -0.00306350795134289,
           -0.0046423463173894996,
           -0.001383892264277042,
           -0.002190472013662783,
           -0.002651680462118298,
           -0.008194274570360524,
           null,
           -0.005073979506193792,
           -0.06899964887576289,
           -0.02152821121465831,
           -0.023290126381763566,
           0.004561918284806828
          ],
          [
           0.0065419505527521595,
           -0.00011980338728047354,
           0.006471850831036521,
           0.0004836722824346425,
           0.0080569710481506,
           0.008211017323749303,
           -0.006366695512867921,
           0.00044284700951565667,
           0.0008321784574268379,
           0.0006436786324395022,
           0.011092946773142761,
           -0.000018206731815696595,
           0.01483730412599335,
           0.056074331221155696,
           0.00589302749686182,
           1,
           0.00002939979191884388,
           0.015797130191253502,
           0.000278550863033264,
           0.045072141058399,
           0.005400722100690797,
           0.0014049418145380347,
           0.008224186950718968,
           null,
           0.0075154409654430215,
           0.002726654232668958,
           -0.015012939863380235,
           -0.011392826746504575,
           -0.008539531377971995,
           -0.007028285051822795,
           0.0028050513228279725,
           0.008599490928254879,
           -0.0012067036613250056,
           -0.001523310790117869,
           0.005861126046325286,
           0.004522559990937671,
           -0.009379074308510933,
           -0.003122112110223881,
           -0.005897139895672713,
           -0.0031257555327256978,
           0.00029364664342372934,
           -0.005834877002144093,
           -0.011313172760668842,
           0.009884932498010873,
           0.0005881873988849435,
           0.009143697785326676,
           0.008985161556527193,
           0.006781874624039662,
           0.0058950748859538694,
           0.009573930192615335,
           0.0005324859998017475,
           0.0012536105430265433,
           0.0058950748859538694,
           -0.00022497776621427143,
           -0.00016955713331027008,
           0.001467512294337252,
           0.001359598175529823,
           0.005531310825393345,
           0.005531310825393345,
           0.0038811043577186236,
           null,
           null,
           -0.002021460377407951,
           -0.01034163681946872,
           -0.002029533591112173,
           -0.0030082537603703615,
           -0.001409758344748555,
           -0.0016178989857986168,
           -0.002235890196739988,
           -0.004849391736321101,
           null,
           -0.0034760513918424014,
           -0.03871349048564051,
           -0.007665945621601758,
           -0.008835416341293244,
           0.005005993766285827
          ],
          [
           0.013064036877286961,
           -0.0001463628488026438,
           0.013988028950969332,
           0.7146363721442185,
           0.0039666036695716915,
           0.004429831288858386,
           0.03115175611641518,
           0.0015900140092669978,
           0.000833661572660146,
           0.0010588749385474984,
           -0.002487551297077703,
           0.0029388506522650387,
           0.007662451189230504,
           0.003710849706516279,
           0.0035774433483748546,
           0.00002939979191884388,
           1,
           -0.0014028674444675076,
           0.07529412154428852,
           0.013188103416203202,
           -0.002340902003220508,
           -0.0017469139695821352,
           0.02002611713670889,
           null,
           0.019200828854041944,
           -0.006231975503048052,
           0.057553631696889866,
           0.0117628063643773,
           0.01914810754415112,
           -0.003841406732695918,
           -0.002595837580788614,
           0.018490907329377346,
           0.0001901917452624307,
           0.008244131610070036,
           0.0266038259095069,
           0.006380216067250889,
           0.025357505995985668,
           0.018907863266333154,
           0.02013783868198449,
           0.018908654495795936,
           0.02515847029108196,
           0.020706388893818935,
           0.029059931026210427,
           0.023103545507050655,
           0.00046281244378284657,
           0.012475674907791369,
           0.013121634305312095,
           0.010831294999534037,
           0.015163357713905196,
           0.011661433978986656,
           0.01208534954110302,
           0.0111729828597957,
           0.015163357713905196,
           0.011986106134987738,
           0.012882032003984807,
           0.000028882983382994988,
           0.0016357172427741722,
           0.025388598267518457,
           0.025388598267518457,
           -0.038666416328454745,
           null,
           null,
           0.011229475289923518,
           0.02498323321013505,
           -0.0021224436908576696,
           -0.00255026587881538,
           -0.0012247414981336239,
           -0.00167463688191105,
           -0.002082613622923443,
           -0.0033232759339477938,
           null,
           -0.002689420024857218,
           -0.011794149201328688,
           -0.0012076449563809446,
           -0.005190295284856311,
           -0.0005117987628838823
          ],
          [
           -0.00919636449941457,
           -0.00012279813198754288,
           0.0021506806087250906,
           -0.004006546854052996,
           0.007233035075800228,
           0.007479942824611785,
           -0.01633034874809556,
           0.0006399240635908091,
           0.0007766736880046539,
           0.0005042933956737524,
           0.07658244550365696,
           0.00028733049038813367,
           0.011331444177690025,
           0.013778759111969957,
           0.0015711616141626918,
           0.015797130191253502,
           -0.0014028674444675076,
           1,
           0.006489291963547277,
           0.018773362380544754,
           -0.0021771423395530107,
           0.005893235749993236,
           -0.006253687908881162,
           null,
           -0.0058799960022326075,
           0.002123776306762623,
           -0.025022019641633,
           -0.01766976972923355,
           -0.01820070774571863,
           -0.008190659138107972,
           0.0034077678066054946,
           0.0038171513261445545,
           -0.0026654803801295355,
           -0.005559669433873748,
           0.0012811030797416707,
           0.003869436393775859,
           -0.018210440577989723,
           -0.01172810130480678,
           -0.015034813036992894,
           -0.01172763985262554,
           -0.009536113248378452,
           -0.015381297246726704,
           -0.021966117229637695,
           0.0014142593545814427,
           0.0008095315591742109,
           0.004736402877403498,
           0.0038048922125053244,
           0.001313204412810746,
           0.0010845459674224118,
           0.004719517102847924,
           -0.005264378176126744,
           -0.004752883752886357,
           0.0010845459674224118,
           -0.007031780008606952,
           -0.006521585002459459,
           -0.00009046779428133489,
           -0.00022417644858614203,
           -0.007181551688473633,
           -0.007181551688473633,
           0.00299667302534815,
           null,
           null,
           -0.008086699243425829,
           -0.02246767296655582,
           -0.0026801074878618565,
           -0.003572937233396727,
           -0.0014598247270925246,
           -0.0020142600033937526,
           -0.0022763621814470497,
           -0.004450998686716513,
           null,
           -0.0033805182231398476,
           -0.033298266440405636,
           -0.01353533752894576,
           -0.01291720847544021,
           0.006619326769694433
          ],
          [
           0.0019105485545651039,
           -0.000029382368490159038,
           0.007077686749789453,
           0.055624201221840495,
           0.0006563811339253216,
           0.0007936271653430658,
           0.008332451242491065,
           0.00016518318349526963,
           -0.00010456827093083113,
           -0.0001071672117726839,
           0.002324620889807988,
           0.0004611801263710325,
           0.0009143327319814288,
           0.0033667623145395035,
           0.0013525171034995192,
           0.000278550863033264,
           0.07529412154428852,
           0.006489291963547277,
           1,
           0.0050023592081790665,
           -0.0005178794298849806,
           0.0006634484623301744,
           0.005242910040147592,
           null,
           0.005712726631992119,
           -0.0014063711745705139,
           0.01168700763919489,
           0.0008116277344707838,
           0.0033195874413273004,
           -0.0017226441344860709,
           0.0020228607014947924,
           0.01159466357294367,
           -0.00036311975090302706,
           0.0027140774837540516,
           0.015204861225340887,
           0.003948059167542576,
           0.006720754397485721,
           0.0016776576818502845,
           0.0012948135601145681,
           0.001677359828985095,
           0.002144487387602454,
           0.0008596891660120172,
           0.003270913914235501,
           0.00820210175301327,
           0.00017254700484422168,
           0.01313474071929029,
           0.013334640855074067,
           0.008856814935451221,
           0.013841750393391153,
           0.013192253120835145,
           0.008769027326269541,
           0.008832814045938357,
           0.013841750393391153,
           0.008532477166857512,
           0.011000972740924913,
           0.0006732582030484334,
           0.0015505671102645487,
           0.00487773667907632,
           0.00487773667907632,
           -0.005806701864913175,
           null,
           null,
           0.001663282721433415,
           0.0013285787932836555,
           -0.0008277117846517769,
           -0.0007956048575608889,
           -0.00047173973564328494,
           -0.0006078905713892994,
           -0.0007462288776118273,
           -0.0012262705579502797,
           null,
           -0.0009051487602099826,
           -0.00961257259851841,
           0.004741422357712007,
           0.003848887030377884,
           0.002100471845032772
          ],
          [
           0.026177499583782172,
           -0.0006521807333392184,
           0.038728203932766506,
           0.031127845547976905,
           0.03926597936509041,
           0.038477426414036384,
           -0.007184265012390332,
           0.0008825659970238555,
           0.0007063891092702626,
           0.0007119466887958185,
           0.024222978774801143,
           0.0012147938542748245,
           0.08248463847119863,
           0.1397268120625214,
           0.03675199700946663,
           0.045072141058399,
           0.013188103416203202,
           0.018773362380544754,
           0.0050023592081790665,
           1,
           0.026823845336437235,
           0.0024319119621246123,
           0.03836896470929802,
           null,
           0.03650120791805125,
           0.0036577425659733652,
           -0.049575370849567375,
           -0.03552800200546847,
           -0.03147450996802233,
           -0.03993951535783447,
           0.00039857527937655056,
           0.04344827899129139,
           -0.0038837118478025554,
           -0.005803439158828166,
           0.05221460149618138,
           0.023935072455959206,
           -0.028219552353027838,
           0.006458229285528155,
           -0.013822373047401689,
           0.006450082225695856,
           0.027257956902617547,
           -0.008242008823872292,
           -0.03433901303299972,
           0.06485355958982839,
           0.0035327818185078037,
           0.04108892058029515,
           0.03782280547478884,
           0.03276171841714079,
           0.030074971792007885,
           0.041276339179626295,
           0.010850575158299382,
           0.008840459913148734,
           0.030074971792007885,
           0.008128423973733997,
           0.006934118239989978,
           0.0017766893302506904,
           0.006749923913053412,
           0.06562659337202033,
           0.06562659337202033,
           -0.006365674831580703,
           null,
           null,
           0.0011895638875879264,
           -0.012948066412359927,
           -0.00822632272321417,
           -0.0107173344926692,
           -0.004686528335751695,
           -0.006762162854136466,
           -0.007278701382796479,
           -0.01679097978955233,
           null,
           -0.010931375105800821,
           -0.21128593673949586,
           -0.0002747169486217826,
           -0.000918416400214084,
           0.012582098184047727
          ],
          [
           -0.019487579553598918,
           -0.000058268312732672554,
           -0.0029873737520685144,
           -0.005699761036329816,
           0.4026255626472462,
           0.3962254453598814,
           -0.022128615795824483,
           0.001076529396255016,
           0.0011396409301434565,
           0.000974804663890679,
           -0.0049180936047569694,
           0.0007143253833963223,
           0.0037433690232207095,
           0.01517866224577942,
           0.15333392695731302,
           0.005400722100690797,
           -0.002340902003220508,
           -0.0021771423395530107,
           -0.0005178794298849806,
           0.026823845336437235,
           1,
           -0.003444686281799468,
           -0.017324309677543774,
           null,
           -0.01606048406965898,
           0.004848954012900994,
           -0.033484385084602095,
           -0.018850307205632227,
           -0.02132377266355479,
           -0.009463960965459614,
           0.0037014598417389765,
           -0.00304921383283142,
           -0.0026655142287703103,
           -0.005764504260943616,
           -0.0036787172856611967,
           -0.0038793573365671456,
           -0.02548305830365836,
           -0.015104841525901377,
           -0.018497487799687084,
           -0.015108195314422672,
           -0.012184081248018766,
           -0.018610334083441135,
           -0.02626051033472996,
           -0.0036611143638910553,
           0.0004398600409596538,
           -0.007554077051964387,
           -0.008450516200957554,
           -0.005864780299497357,
           -0.010651817864066122,
           -0.007046739617195483,
           -0.012728231706074296,
           -0.013487280492103168,
           -0.010651817864066122,
           -0.015425365712305667,
           -0.015789054557015545,
           0.0010997139199116792,
           0.0020680460583866853,
           -0.003512057598504124,
           -0.003512057598504124,
           -0.004765401974088805,
           null,
           null,
           -0.010217381792372188,
           -0.026586659294300964,
           -0.0013725518070685837,
           -0.0026456772664430793,
           0.0006084499666059688,
           -0.00009185756960278788,
           -0.0007632543658084999,
           -0.005435447493262807,
           null,
           -0.003087067441567144,
           -0.03325649122092632,
           -0.016133136423460682,
           -0.012201207275987025,
           0.005634432038058633
          ],
          [
           0.015898037646830548,
           -0.00026204464963339077,
           0.0052742908138934865,
           -0.003388479429902659,
           -0.002077412698224166,
           -0.001802878774680885,
           0.1940565144692917,
           0.5375339173041185,
           0.5062723207875546,
           0.5359507286349324,
           0.006935479240629158,
           0.6208154142077165,
           0.007702368896345377,
           0.0007604833670444748,
           -0.0014323565119995036,
           0.0014049418145380347,
           -0.0017469139695821352,
           0.005893235749993236,
           0.0006634484623301744,
           0.0024319119621246123,
           -0.003444686281799468,
           1,
           0.015474946101971842,
           null,
           0.014316802057297191,
           0.008005284106789712,
           -0.0006675414644923682,
           -0.011959204104189514,
           0.0024970289011529974,
           0.0016822241735179049,
           0.015107218604438054,
           0.006310418790838119,
           0.0036220821445740064,
           0.007164236159561326,
           0.006814797249800976,
           0.007152305885792389,
           0.1761929537183511,
           0.0007038510476935281,
           0.002633450239831949,
           0.0007044587198015623,
           -0.0013906216540368914,
           -0.00384779134134212,
           0.004875485345405767,
           0.001881993355979546,
           0.0003734736886152451,
           0.016202116319132577,
           0.017784890997757652,
           0.009081775802483278,
           0.02295133385018939,
           0.014525016478762443,
           0.023453047090668543,
           0.0243630320804677,
           0.02295133385018939,
           0.02368019221651982,
           0.024510933634342646,
           -0.000029643808974139705,
           -0.00016560679154456516,
           -0.010436565361859728,
           -0.010436565361859728,
           0.028392378717077615,
           null,
           null,
           0.003877843367143938,
           0.005124410012079619,
           -0.0021425472446632296,
           -0.002886221675200145,
           -0.0006203507490314026,
           -0.0011217828886178594,
           -0.0015973667140923619,
           -0.002388134453268752,
           null,
           -0.0031748091973763707,
           0.0013506100052037746,
           0.021829499067259797,
           0.02390970698363992,
           -0.0007122506279921114
          ],
          [
           0.8195214291773498,
           0.0010722409162614796,
           0.04158121838719984,
           0.05496712507979281,
           -0.011067597171231984,
           -0.010939770912645343,
           0.08792043814923672,
           -0.0015374549046551066,
           -0.0011111782780580837,
           -0.0012005165604693443,
           -0.008919703455703424,
           -0.000053726538256453345,
           0.007991095605580666,
           0.012341380682279949,
           -0.0022629696511124214,
           0.008224186950718968,
           0.02002611713670889,
           -0.006253687908881162,
           0.005242910040147592,
           0.03836896470929802,
           -0.017324309677543774,
           0.015474946101971842,
           1,
           null,
           0.9293481479644433,
           0.08417886146447134,
           0.07744685903841045,
           0.014094249590518797,
           0.06367576888402647,
           -0.05256734077163174,
           0.060374237157490955,
           0.0045680014380823615,
           0.005724304450224474,
           0.023948408306248767,
           0.016238968299769698,
           -0.011360995479181053,
           0.08194457915767124,
           0.09461295935539699,
           0.12805433268700445,
           0.09459005558796972,
           0.14649639128057337,
           0.09583411259557663,
           0.17897061087508992,
           0.5724648620916764,
           -0.0025452137353718534,
           0.0616281063958079,
           0.05648957465390373,
           0.09765378275722028,
           0.06187049083773673,
           0.06825391482145977,
           0.06242768773030462,
           0.062451015101424555,
           0.06187049083773673,
           0.06822503291226055,
           0.07401271646481383,
           -0.0014220444833499403,
           0.0004094484779596247,
           0.09124803647535636,
           0.09124803647535636,
           0.5946768319719521,
           null,
           null,
           0.09578475533297241,
           0.23072784383684464,
           -0.022878070837224318,
           -0.027675729951979196,
           -0.011946304702900703,
           -0.016857962112239038,
           -0.020293775527371296,
           -0.039633671563847166,
           null,
           -0.032374229980838866,
           0.0835697678259094,
           0.06687828118963157,
           0.07736529849721344,
           0.02673903358570116
          ],
          [
           null,
           null,
           null,
           null,
           null,
           null,
           null,
           null,
           null,
           null,
           null,
           null,
           null,
           null,
           null,
           null,
           null,
           null,
           null,
           null,
           null,
           null,
           null,
           null,
           null,
           null,
           null,
           null,
           null,
           null,
           null,
           null,
           null,
           null,
           null,
           null,
           null,
           null,
           null,
           null,
           null,
           null,
           null,
           null,
           null,
           null,
           null,
           null,
           null,
           null,
           null,
           null,
           null,
           null,
           null,
           null,
           null,
           null,
           null,
           null,
           null,
           null,
           null,
           null,
           null,
           null,
           null,
           null,
           null,
           null,
           null,
           null,
           null,
           null,
           null,
           null
          ],
          [
           0.7925543953142284,
           0.0013279370841925875,
           0.038075135041106385,
           0.051503763111363614,
           -0.01405275448217506,
           -0.013817719563214117,
           0.07638950612757413,
           -0.00039533877922291716,
           -0.00025772081035205615,
           -0.00028241991418519327,
           -0.009150100166071545,
           0.0008424161354443872,
           0.006034487098599877,
           0.012166143420346684,
           -0.005774422776316282,
           0.0075154409654430215,
           0.019200828854041944,
           -0.0058799960022326075,
           0.005712726631992119,
           0.03650120791805125,
           -0.01606048406965898,
           0.014316802057297191,
           0.9293481479644433,
           null,
           1,
           0.09490480577485101,
           0.05998866588958367,
           0.011115300619061609,
           0.050460353501051346,
           -0.035505871599402945,
           -0.0582844022512867,
           0.008571231548418226,
           -0.014690392392964935,
           0.012954649836343863,
           0.021388319365583948,
           -0.011112593755327478,
           0.06524748759488892,
           0.07806056504701506,
           0.1027679443845088,
           0.07807559097518024,
           0.1382412363772037,
           0.07231868574567245,
           0.15657487917549462,
           0.5382839835637114,
           -0.001610023867070207,
           0.06026519709779643,
           0.0527845958645093,
           0.09928558451235933,
           0.054183502883138994,
           0.06877119511375007,
           0.05230705028312526,
           0.05124282502517422,
           0.054183502883138994,
           0.05752698817100647,
           0.06355478488840008,
           -0.000427161972089025,
           0.0010354998756867946,
           0.08053576270146327,
           0.08053576270146327,
           0.6446070805790886,
           null,
           null,
           0.08692858959196328,
           0.2064633817922973,
           -0.017876114688425017,
           -0.02111081205333511,
           -0.009536578386095266,
           -0.013315245490790039,
           -0.015942245493157283,
           -0.029471155827028604,
           null,
           -0.024439877664272486,
           0.048272598407899395,
           0.0660548822514154,
           0.07770521687252295,
           0.02829772244359665
          ],
          [
           0.09524700010987924,
           -0.00032859597810569154,
           0.006655579434299506,
           -0.015314695490592405,
           0.004252028765262402,
           0.005152904656860452,
           -0.022548752937975588,
           -0.0015689400609369927,
           -0.0012191996229597734,
           -0.0011593645538749676,
           0.0040869965202449746,
           -0.002247190474397562,
           -0.0014714622828685831,
           0.002020823530227518,
           0.0014370295738705202,
           0.002726654232668958,
           -0.006231975503048052,
           0.002123776306762623,
           -0.0014063711745705139,
           0.0036577425659733652,
           0.004848954012900994,
           0.008005284106789712,
           0.08417886146447134,
           null,
           0.09490480577485101,
           1,
           -0.019654795128331275,
           -0.022693013551429296,
           -0.025744747575481643,
           0.0021664657375564103,
           -0.007999154167434037,
           -0.004219915122088777,
           -0.0026814409798342565,
           -0.004489016343105198,
           -0.01089239684632403,
           -0.000720711047865727,
           -0.019792116581949577,
           -0.011409477655423666,
           -0.013969310863967412,
           -0.011408245428147243,
           -0.012203419796195937,
           -0.023241494173370996,
           -0.024573752899437622,
           -0.0070443032645671625,
           0.0009581594032146531,
           -0.0032533961445121093,
           -0.006059298129169705,
           0.003752173872312653,
           -0.008938389367420451,
           -0.0010467727960734483,
           -0.008576715738546029,
           -0.007696693907528292,
           -0.008938389367420451,
           -0.008650770052838996,
           -0.009142717425098841,
           0.0012191532379080023,
           0.0003390340582442296,
           -0.05044822665890846,
           -0.05044822665890846,
           0.2906387221092819,
           null,
           null,
           -0.007647440957688734,
           -0.017075614924237852,
           0.00029546493036369657,
           -0.0000788446370916948,
           0.0010417052872722626,
           0.00042336562377884464,
           0.00008403647128786292,
           0.002003153207168728,
           null,
           0.000026450284182688408,
           -0.005067657174878235,
           0.004532263994739817,
           0.0064915472155059484,
           0.0053481345872854105
          ],
          [
           0.06877977812931557,
           -0.0006941047040261272,
           0.06652126199174453,
           0.13307105723095167,
           -0.037128353780397645,
           -0.03754393853570977,
           0.3280720991324885,
           0.0009934810762233964,
           -0.0005169860325491806,
           0.0005229598291552125,
           -0.05206250303522977,
           0.0107131033536657,
           0.002846996664423427,
           -0.027274928032656045,
           -0.024965011293333162,
           -0.015012939863380235,
           0.057553631696889866,
           -0.025022019641633,
           0.01168700763919489,
           -0.049575370849567375,
           -0.033484385084602095,
           -0.0006675414644923682,
           0.07744685903841045,
           null,
           0.05998866588958367,
           -0.019654795128331275,
           1,
           0.3693006055453138,
           0.17113958593611497,
           0.03554676964158655,
           0.051872584389304977,
           0.0958103504137338,
           0.03173875078788649,
           0.07332862694168651,
           0.11973869769361316,
           0.08735086298493663,
           0.34097564683398246,
           0.14861264103456595,
           0.16617828378032115,
           0.14861197574757884,
           0.11720309900663067,
           0.15969421229668215,
           0.3455795879943674,
           0.06297554230104938,
           -0.002887810043300341,
           0.10758312188789187,
           0.1218955275776049,
           0.06593416637360368,
           0.15250898463459198,
           0.0967740847390847,
           0.17281142141883615,
           0.1720469695266061,
           0.15250898463459198,
           0.17973444331018074,
           0.18113010703900867,
           -0.0036464911426925587,
           -0.004427735078593818,
           0.06870731565939298,
           0.06870731565939298,
           -0.04319326458036855,
           null,
           null,
           0.10322300160569906,
           0.19975724761769575,
           0.018424692653621857,
           0.028615662585478097,
           0.010985174278014171,
           0.013157153816412238,
           0.016141294477581107,
           0.0823515387526565,
           null,
           0.03595264783187454,
           0.1884719515110425,
           0.0312831386683903,
           0.02458458650508967,
           -0.010434456672840858
          ],
          [
           0.0026034281701630135,
           0.00025716493507567465,
           0.07875900228346232,
           0.054758878532547406,
           -0.027885773377260253,
           -0.028239062577542717,
           0.08864221703046075,
           0.016222568471449948,
           0.01244443879255826,
           0.012603158049074652,
           -0.04206002787028458,
           0.01640891846603298,
           -0.0037092612405999637,
           -0.018685372070813923,
           -0.02214450155836625,
           -0.011392826746504575,
           0.0117628063643773,
           -0.01766976972923355,
           0.0008116277344707838,
           -0.03552800200546847,
           -0.018850307205632227,
           -0.011959204104189514,
           0.014094249590518797,
           null,
           0.011115300619061609,
           -0.022693013551429296,
           0.3693006055453138,
           1,
           0.1899281712304698,
           0.07748374554540685,
           0.03423224797882201,
           0.12577271624105948,
           0.041798659735758796,
           0.039319684475581575,
           0.16476561115423374,
           0.12517681643949308,
           0.07934464980999677,
           0.13555441826677017,
           0.15274045380808507,
           0.13554510138018394,
           0.10486233619100747,
           0.17685414841547345,
           0.27985231773799524,
           0.04826938836963111,
           0.0018565728617211616,
           0.11546257727662143,
           0.12986753999802333,
           0.06959438524103102,
           0.1554756501934738,
           0.10345338492692988,
           0.16534680340273297,
           0.1557025084108194,
           0.1554756501934738,
           0.16536504162077265,
           0.16523111628912177,
           -0.0003606888914714317,
           0.0035230429948429585,
           0.07506616203017331,
           0.07506616203017331,
           -0.06766029906396925,
           null,
           null,
           0.09257663650044,
           0.14269494489267112,
           0.03656100102252503,
           0.05242389528146034,
           0.01686329206670113,
           0.024266568399019074,
           0.031214672514778163,
           0.09991951348174738,
           null,
           0.0632714960015598,
           0.15313848980388456,
           0.06306546936770867,
           0.06038657788136044,
           0.05915760722156615
          ],
          [
           0.028369721722548702,
           -0.0007598359018556261,
           0.13768698904454327,
           0.07793188906261728,
           -0.028174610561736323,
           -0.029005955646057523,
           0.3778811556344514,
           0.0028825441209626365,
           -0.0009118314827194822,
           0.0011339781024776333,
           -0.04298711749378424,
           0.008935570118549662,
           0.025778306167580912,
           -0.00037597083746708775,
           -0.021576023795400412,
           -0.008539531377971995,
           0.01914810754415112,
           -0.01820070774571863,
           0.0033195874413273004,
           -0.03147450996802233,
           -0.02132377266355479,
           0.0024970289011529974,
           0.06367576888402647,
           null,
           0.050460353501051346,
           -0.025744747575481643,
           0.17113958593611497,
           0.1899281712304698,
           1,
           0.426716726993191,
           0.37408456603533186,
           0.2677141310615113,
           -0.0037041418609325616,
           0.13359225163821895,
           0.1603664274243921,
           0.2534822388858983,
           0.3546191057815014,
           0.5413920626200076,
           0.6968157255208907,
           0.5414083638907575,
           0.4163887833749495,
           0.6996894940303107,
           0.39870690224482497,
           0.10793373403859,
           -0.0003603405619309649,
           0.08201720573255199,
           0.09162172842695719,
           0.025609586161195654,
           0.10915885217802523,
           0.0691513410030764,
           0.07931194550033921,
           0.09416934904388825,
           0.10915885217802523,
           0.09138184411152908,
           0.09747529967836104,
           -0.0007805346850861015,
           0.0026167601395591083,
           0.07664000520109099,
           0.07664000520109099,
           -0.056409589608538126,
           null,
           null,
           0.13204233049392033,
           0.4342821412770439,
           -0.03446085091903513,
           -0.03858038881721611,
           -0.02304510265226165,
           -0.029691633383964508,
           -0.032381807518230526,
           -0.058521674180272376,
           null,
           -0.04688873847021664,
           0.13096755059399734,
           0.08382611859265142,
           0.07428055687372165,
           0.0068765275390272355
          ],
          [
           -0.04213399939241977,
           -0.0007628931914321834,
           0.06880412461311064,
           0.002192513314325336,
           -0.018427270338172874,
           -0.01860071521981872,
           0.12428539259712168,
           -0.00010754262471090244,
           -0.0018367388996367794,
           -0.0008468540863738811,
           -0.021383721521048844,
           0.0011467978391860884,
           0.010677636786465529,
           0.000364317755552614,
           -0.016934655950926025,
           -0.007028285051822795,
           -0.003841406732695918,
           -0.008190659138107972,
           -0.0017226441344860709,
           -0.03993951535783447,
           -0.009463960965459614,
           0.0016822241735179049,
           -0.05256734077163174,
           null,
           -0.035505871599402945,
           0.0021664657375564103,
           0.03554676964158655,
           0.07748374554540685,
           0.426716726993191,
           1,
           -0.04983600484773716,
           0.16074171824071043,
           -0.0036991238263219483,
           0.003182471700367019,
           0.07209546605372334,
           0.15877306366988614,
           0.11882133426857724,
           0.15301875539078855,
           0.3069369957968126,
           0.15302147638269886,
           0.23658582268823442,
           0.2808823463509987,
           0.0689568221751346,
           -0.052004611950943365,
           0.00018693090246270434,
           0.0414830221519297,
           0.04541198410891913,
           -0.003931271896851675,
           0.04105693344080507,
           0.035036853675512854,
           0.010669429794134988,
           0.02114324095260493,
           0.04105693344080507,
           0.01670871690622879,
           0.017338803955517536,
           0.00002248863163947263,
           0.0011333356963293885,
           -0.029362973234477667,
           -0.029362973234477667,
           0.016740405483790105,
           null,
           null,
           -0.0028083631589681576,
           0.07028966889773546,
           -0.005904635043468716,
           -0.0002884469513992372,
           -0.00883674240742997,
           -0.010012265380646266,
           -0.007281506182341675,
           0.0015308620423317358,
           null,
           -0.0008562237385605827,
           0.07573988663220008,
           0.007801374296073139,
           0.002585363636333816,
           0.013504191854579796
          ],
          [
           -0.05333498327399796,
           0.00002612255147158029,
           0.09049714054305064,
           0.004399269407859231,
           0.021034753262055544,
           0.019952589782807804,
           0.146539245770379,
           -0.00601956132823901,
           -0.005510404900627021,
           -0.005220464436639906,
           0.008932716819908747,
           -0.003876586560712952,
           0.016020840583539656,
           0.0012311405850838684,
           0.013716823777555016,
           0.0028050513228279725,
           -0.002595837580788614,
           0.0034077678066054946,
           0.0020228607014947924,
           0.00039857527937655056,
           0.0037014598417389765,
           0.015107218604438054,
           0.060374237157490955,
           null,
           -0.0582844022512867,
           -0.007999154167434037,
           0.051872584389304977,
           0.03423224797882201,
           0.37408456603533186,
           -0.04983600484773716,
           1,
           0.1280765897862914,
           0.13471138398851384,
           0.21091745593757544,
           0.05897667425549408,
           0.12107419194066309,
           0.14888141454957293,
           0.10677976662707188,
           0.05966081284927162,
           0.10678301208768275,
           -0.018863439855886902,
           0.05077317448819705,
           0.15432928016425856,
           0.19963756265570537,
           -0.0020927949206002295,
           0.062343154001058304,
           0.06994609259282082,
           0.030061896197757548,
           0.0897412270992262,
           0.05512757138614692,
           0.09168089689568193,
           0.10436730718347628,
           0.0897412270992262,
           0.09161699018565561,
           0.1000603744567557,
           0.0006943800631989793,
           0.00007097159390521962,
           -0.01818140852132511,
           -0.01818140852132511,
           0.02453402270430966,
           null,
           null,
           0.10554633810843352,
           0.10019686766853035,
           -0.01907692459845332,
           -0.02472163029093533,
           -0.010460434386194106,
           -0.014757127458944955,
           -0.017350336488163913,
           -0.03764114441537411,
           null,
           -0.0301556816906322,
           0.03663068340972458,
           0.09002313672405446,
           0.10446012243959057,
           -0.005067192980592532
          ],
          [
           -0.018882423116657637,
           -0.00006849939478560066,
           0.6850346500667803,
           0.1031413285039961,
           0.00516503205022481,
           0.0065729038337054855,
           0.3632836547282516,
           0.002268944081145028,
           0.0009856305419075262,
           0.0012751369408497265,
           -0.005623564050440391,
           0.005102389325392305,
           0.04629789949233417,
           0.09127685919116738,
           0.007688001129698951,
           0.008599490928254879,
           0.018490907329377346,
           0.0038171513261445545,
           0.01159466357294367,
           0.04344827899129139,
           -0.00304921383283142,
           0.006310418790838119,
           0.0045680014380823615,
           null,
           0.008571231548418226,
           -0.004219915122088777,
           0.0958103504137338,
           0.12577271624105948,
           0.2677141310615113,
           0.16074171824071043,
           0.1280765897862914,
           1,
           0.19813259553686166,
           0.05218923089501975,
           0.6483059674748298,
           0.6967410668148676,
           0.277511418472302,
           0.16620833993788378,
           0.19299553286020404,
           0.16620747989904594,
           0.11509801719095934,
           0.1645584907415992,
           0.11234368719316003,
           0.0456607683342429,
           0.004391067487096017,
           0.34978782399959635,
           0.31336662872071136,
           0.22713600515334714,
           0.2600141102304076,
           0.36854602088191957,
           0.1560290271169141,
           0.16750291663599914,
           0.2600141102304076,
           0.1581226063560394,
           0.16804670313945713,
           0.004911186613456563,
           0.007644485112355136,
           0.02290987472117596,
           0.02290987472117596,
           -0.003452863599131296,
           null,
           null,
           0.071864499464078,
           0.05230171737175033,
           0.011027084544590369,
           0.0179847450534711,
           -0.0011739917186815818,
           0.0011166540385830778,
           0.007607768106147228,
           0.02729585847054525,
           null,
           0.020006931542443922,
           -0.05295546462713236,
           0.04064390959305234,
           0.036920793639942454,
           0.053182651175652775
          ],
          [
           -0.0046589694710664235,
           -0.00033771526179226217,
           0.26742067060230174,
           0.0034914662891917395,
           -0.002848153376195529,
           -0.0026947782722055147,
           0.07754282367882295,
           -0.0003319802592905547,
           -0.0000508623415700655,
           -0.00022865818733544421,
           -0.0058433227006882,
           0.001238456429567452,
           0.0087821373571613,
           0.016174319116885917,
           -0.0006925986752667999,
           -0.0012067036613250056,
           0.0001901917452624307,
           -0.0026654803801295355,
           -0.00036311975090302706,
           -0.0038837118478025554,
           -0.0026655142287703103,
           0.0036220821445740064,
           0.005724304450224474,
           null,
           -0.014690392392964935,
           -0.0026814409798342565,
           0.03173875078788649,
           0.041798659735758796,
           -0.0037041418609325616,
           -0.0036991238263219483,
           0.13471138398851384,
           0.19813259553686166,
           1,
           0.034684786781162096,
           0.03425142420593179,
           0.2069276520970185,
           0.08575147389624278,
           0.11525731446783173,
           0.12122675202112213,
           0.115252339028362,
           0.05953804209944422,
           0.0892810391070662,
           0.04859929609045065,
           -0.000047392323793280236,
           0.001247113911729522,
           0.0465452737814519,
           0.04131548466435143,
           0.06154329964236354,
           0.03731011166508244,
           0.050784882752596926,
           0.027596222899834023,
           0.03239650634081662,
           0.03731011166508244,
           0.029058957170072314,
           0.037433822385131044,
           0.0016770856738429164,
           0.004354639401886728,
           -0.006304431704044408,
           -0.006304431704044408,
           0.002224211489120395,
           null,
           null,
           0.03100751025770192,
           0.025211923122305836,
           0.0032786608707360055,
           0.004777595190709022,
           0.00029219200012729383,
           0.0013538807737955554,
           0.002064569275103077,
           0.008424628972814145,
           null,
           0.0053286251091400946,
           0.049675676951037404,
           0.0314857500936495,
           0.04350774393985325,
           0.017964701243543015
          ],
          [
           0.013607170993656853,
           -0.00036871356414378914,
           0.03497475694811357,
           0.022854567527867083,
           0.0010754792005043614,
           -0.00001263094785330823,
           0.11203868808528292,
           -0.002947946110850229,
           -0.002917985515272653,
           -0.0027060864819139245,
           -0.012359804153193382,
           -0.000681360402090744,
           0.012847503982752704,
           -0.0019279334481465207,
           -0.002864260233519075,
           -0.001523310790117869,
           0.008244131610070036,
           -0.005559669433873748,
           0.0027140774837540516,
           -0.005803439158828166,
           -0.005764504260943616,
           0.007164236159561326,
           0.023948408306248767,
           null,
           0.012954649836343863,
           -0.004489016343105198,
           0.07332862694168651,
           0.039319684475581575,
           0.13359225163821895,
           0.003182471700367019,
           0.21091745593757544,
           0.05218923089501975,
           0.034684786781162096,
           1,
           0.0381694704023051,
           0.060081000984407974,
           0.13046871057193626,
           0.04991499256786663,
           0.0008104764503659931,
           0.049913323567382505,
           -0.0012552830941622423,
           -0.001672006238261628,
           0.12654225466089136,
           0.011246262471620291,
           -0.0010218807082929431,
           0.06215521798488008,
           0.0691715014958264,
           0.036955901255106526,
           0.08441629472690132,
           0.057051982846709204,
           0.09081942302188423,
           0.09131203190448722,
           0.08441629472690132,
           0.09283819215801664,
           0.0909246398339934,
           -0.0001975275125954402,
           0.0002208933047511721,
           -0.005120738003420336,
           -0.005120738003420336,
           0.00432849519227909,
           null,
           null,
           0.06653925565205251,
           0.07942299479631729,
           -0.011003495547028007,
           -0.015228001164934625,
           -0.006131715280871348,
           -0.007919630017151498,
           -0.009609884591127169,
           -0.025686982624965063,
           null,
           -0.01881668261612597,
           0.024387738523339742,
           0.0355925875832294,
           0.03958030417039837,
           -0.006423981460882847
          ],
          [
           -0.012070403831714772,
           0.00025139937573518734,
           0.40931285248262766,
           0.14598952256783385,
           0.0069937224740821945,
           0.006091630551949994,
           0.46488317614328634,
           0.005018107030814833,
           0.0005757447516221194,
           0.0023398829454774196,
           -0.005763843774220364,
           0.008527349707562004,
           0.04044594951232968,
           0.03803993638982143,
           0.009782495619313993,
           0.005861126046325286,
           0.0266038259095069,
           0.0012811030797416707,
           0.015204861225340887,
           0.05221460149618138,
           -0.0036787172856611967,
           0.006814797249800976,
           0.016238968299769698,
           null,
           0.021388319365583948,
           -0.01089239684632403,
           0.11973869769361316,
           0.16476561115423374,
           0.1603664274243921,
           0.07209546605372334,
           0.05897667425549408,
           0.6483059674748298,
           0.03425142420593179,
           0.0381694704023051,
           1,
           0.39526048294655525,
           0.3261138332753261,
           0.08842057889407497,
           0.0984402003799681,
           0.08842136741705675,
           0.08255199664953122,
           0.12847378456497588,
           0.12188610625021014,
           0.07505386030842648,
           0.005475203130118259,
           0.3520059639452803,
           0.3935088386662571,
           0.19450444736632458,
           0.4029587567170734,
           0.31101930807521666,
           0.25636742518823885,
           0.2614635919743804,
           0.4029587567170734,
           0.2508112363649929,
           0.2581916249299882,
           0.0052048346557933296,
           0.009742098198857492,
           0.053323731455874754,
           0.053323731455874754,
           -0.03071751854317524,
           null,
           null,
           0.06614534695328723,
           0.08868079196445389,
           0.008625397581754533,
           0.02117862268072203,
           -0.001549374989872415,
           -0.001868114246677009,
           0.004037473798223788,
           0.03561390589612959,
           null,
           0.02566720025337838,
           -0.07476448506552348,
           0.05593258815714252,
           0.044584648366800955,
           0.06412262886395174
          ],
          [
           -0.023569857462234535,
           -0.0004974018047753566,
           0.48577749810080056,
           0.03239793229501911,
           0.00022890709342490088,
           -0.00000987433910141819,
           0.2749817365288402,
           0.0009385328749329602,
           0.00020058633416905085,
           0.0001761701366839829,
           -0.0063909337218031395,
           0.003831263837709555,
           0.041560914641233265,
           0.052230406888190965,
           0.0012558233971850495,
           0.004522559990937671,
           0.006380216067250889,
           0.003869436393775859,
           0.003948059167542576,
           0.023935072455959206,
           -0.0038793573365671456,
           0.007152305885792389,
           -0.011360995479181053,
           null,
           -0.011112593755327478,
           -0.000720711047865727,
           0.08735086298493663,
           0.12517681643949308,
           0.2534822388858983,
           0.15877306366988614,
           0.12107419194066309,
           0.6967410668148676,
           0.2069276520970185,
           0.060081000984407974,
           0.39526048294655525,
           1,
           0.3219253536234206,
           0.1567242333328656,
           0.19495139833651967,
           0.15672481279456058,
           0.07938658505213007,
           0.14525023991655756,
           0.09551418739151897,
           0.007728667642456256,
           0.003026033755502837,
           0.325538266732264,
           0.28891045420218414,
           0.2094637680277901,
           0.23696817887889515,
           0.35519563530039533,
           0.14029188214701063,
           0.15199569901551085,
           0.23696817887889515,
           0.14550741758190608,
           0.15398233638252815,
           0.0038196341352451143,
           0.005998796779595093,
           0.0072986723103355446,
           0.0072986723103355446,
           0.004353169240175903,
           null,
           null,
           0.05865911042405507,
           0.02689799123801742,
           0.009477482347156702,
           0.015859634581443422,
           -0.001942410069819633,
           0.0008364144272844781,
           0.006322766847443143,
           0.02602233178850147,
           null,
           0.017860374004697088,
           0.0025801719343606505,
           0.025010486266949985,
           0.029014700151345503,
           0.04901380789328163
          ],
          [
           0.06617419123193158,
           -0.00035147055992599,
           0.19056300426124995,
           0.0992659581477282,
           -0.03157048405309943,
           -0.032155201932223806,
           0.8467034690456715,
           0.21497438190718646,
           0.1883838814032734,
           0.2085992888177317,
           -0.04246891747757559,
           0.25901013442940785,
           0.03718486018495436,
           -0.009697008344078377,
           -0.021450055911910244,
           -0.009379074308510933,
           0.025357505995985668,
           -0.018210440577989723,
           0.006720754397485721,
           -0.028219552353027838,
           -0.02548305830365836,
           0.1761929537183511,
           0.08194457915767124,
           null,
           0.06524748759488892,
           -0.019792116581949577,
           0.34097564683398246,
           0.07934464980999677,
           0.3546191057815014,
           0.11882133426857724,
           0.14888141454957293,
           0.277511418472302,
           0.08575147389624278,
           0.13046871057193626,
           0.3261138332753261,
           0.3219253536234206,
           1,
           0.24072984009720486,
           0.2840342950057905,
           0.240729512593006,
           0.15951494213856665,
           0.2655331182887269,
           0.3939257820245327,
           0.06845562336931368,
           -0.0005193282021515508,
           0.23843882407924177,
           0.267185248286555,
           0.1405168088304217,
           0.32223145010798426,
           0.21325407379735073,
           0.3152837250330183,
           0.3240522402311576,
           0.32223145010798426,
           0.32273192763477637,
           0.3319847555169336,
           -0.000732228184108899,
           0.0014118115740708187,
           0.07301344884916278,
           0.07301344884916278,
           -0.05130465971504912,
           null,
           null,
           0.16241083918382432,
           0.3179601402504484,
           -0.030167322736044916,
           -0.03028666343561009,
           -0.018771078196476956,
           -0.02504396832840099,
           -0.028254000757410445,
           -0.023246201510250055,
           null,
           -0.03070279372279877,
           0.16855489680684055,
           0.11953413290121111,
           0.12157667889640894,
           0.006737127967308005
          ],
          [
           0.04540873078338883,
           -0.0009174396667946454,
           0.1130962610311204,
           0.07686904444459587,
           -0.018213427820100415,
           -0.018579316456577635,
           0.2723821921619245,
           0.004605258030485042,
           0.0022973913767699206,
           0.0035595922899639212,
           -0.02627612849090733,
           0.00927164805168907,
           0.022634995694694075,
           0.009744611714592783,
           -0.011996410199991907,
           -0.003122112110223881,
           0.018907863266333154,
           -0.01172810130480678,
           0.0016776576818502845,
           0.006458229285528155,
           -0.015104841525901377,
           0.0007038510476935281,
           0.09461295935539699,
           null,
           0.07806056504701506,
           -0.011409477655423666,
           0.14861264103456595,
           0.13555441826677017,
           0.5413920626200076,
           0.15301875539078855,
           0.10677976662707188,
           0.16620833993788378,
           0.11525731446783173,
           0.04991499256786663,
           0.08842057889407497,
           0.1567242333328656,
           0.24072984009720486,
           1,
           0.7551363288769367,
           0.9999935173948518,
           0.6929045894131879,
           0.725400914007175,
           0.3953262310066352,
           0.1535214018882567,
           0.00037456241850960105,
           0.06233876124924357,
           0.06687346126226752,
           0.034959097268974955,
           0.08106425108278492,
           0.05485816824214695,
           0.06858184942571487,
           0.07216239406439202,
           0.08106425108278492,
           0.07980843929381552,
           0.08299675828767701,
           -0.0006881884067906192,
           0.0012336917158303827,
           0.07831515019561293,
           0.07831515019561293,
           0.0024021174832887806,
           null,
           null,
           0.15559105816262417,
           0.5832186710295915,
           -0.02308552961372537,
           -0.027641010816140177,
           -0.014104715584466817,
           -0.01828148758128893,
           -0.020886562199513122,
           -0.04148011435281546,
           null,
           -0.03283583012455855,
           0.0035085968395202373,
           0.044259681883318,
           0.03674711558845573,
           0.02214942417832761
          ],
          [
           0.09967787305808541,
           -0.0012449040049902725,
           0.12266804269742089,
           0.07909086981416126,
           -0.024405030651674656,
           -0.024814623822447885,
           0.3053401474842258,
           0.004705128351706903,
           0.002083579515556688,
           0.0033483828048685854,
           -0.03422536223020093,
           0.009633888316647077,
           0.021492789436449052,
           0.005957156092911992,
           -0.01846603710814309,
           -0.005897139895672713,
           0.02013783868198449,
           -0.015034813036992894,
           0.0012948135601145681,
           -0.013822373047401689,
           -0.018497487799687084,
           0.002633450239831949,
           0.12805433268700445,
           null,
           0.1027679443845088,
           -0.013969310863967412,
           0.16617828378032115,
           0.15274045380808507,
           0.6968157255208907,
           0.3069369957968126,
           0.05966081284927162,
           0.19299553286020404,
           0.12122675202112213,
           0.0008104764503659931,
           0.0984402003799681,
           0.19495139833651967,
           0.2840342950057905,
           0.7551363288769367,
           1,
           0.7551650045513131,
           0.5850356946354084,
           0.7031531802751385,
           0.41999458698390124,
           0.1285833530108648,
           -0.0005629816576089812,
           0.05224460036588417,
           0.05633165885669531,
           0.02282770268098042,
           0.06702250019840134,
           0.045404179031019835,
           0.046655554367005345,
           0.05607724061733437,
           0.06702250019840134,
           0.06073276232547194,
           0.06576527394419217,
           -0.002163414272138143,
           0.0013192800539693816,
           0.09484482172514475,
           0.09484482172514475,
           -0.007810375063185995,
           null,
           null,
           0.12132941023208563,
           0.5801059827238202,
           -0.029437287686036488,
           -0.03372582105265263,
           -0.019052468907790394,
           -0.024335602682452766,
           -0.027151323060321066,
           -0.050022364695583035,
           null,
           -0.04004565821194241,
           0.08909321241596084,
           0.0473845788618311,
           0.038525419651549576,
           0.006751674840446869
          ],
          [
           0.04540717858114093,
           -0.0009174200191203813,
           0.11308465321631127,
           0.0768711284808056,
           -0.0182133429717624,
           -0.01857957645646545,
           0.2723821658117527,
           0.004604720712540094,
           0.0022975200797521666,
           0.0035593311483793897,
           -0.026278849242360357,
           0.00927174978971626,
           0.022635817331629605,
           0.009736306920270789,
           -0.012002718530553494,
           -0.0031257555327256978,
           0.018908654495795936,
           -0.01172763985262554,
           0.001677359828985095,
           0.006450082225695856,
           -0.015108195314422672,
           0.0007044587198015623,
           0.09459005558796972,
           null,
           0.07807559097518024,
           -0.011408245428147243,
           0.14861197574757884,
           0.13554510138018394,
           0.5414083638907575,
           0.15302147638269886,
           0.10678301208768275,
           0.16620747989904594,
           0.115252339028362,
           0.049913323567382505,
           0.08842136741705675,
           0.15672481279456058,
           0.240729512593006,
           0.9999935173948518,
           0.7551650045513131,
           1,
           0.6929136610898066,
           0.7253801890483494,
           0.3953249051487265,
           0.15350433769724767,
           0.0003732931437576847,
           0.06233843864217932,
           0.06687332098536675,
           0.034955145807490436,
           0.08106281940669732,
           0.05485778908775725,
           0.06857560656274314,
           0.07216106806948921,
           0.08106281940669732,
           0.07980346782977123,
           0.08298935525674143,
           -0.0006892403331668894,
           0.0012330451828789762,
           0.07832695390816287,
           0.07832695390816287,
           0.0024090138654141824,
           null,
           null,
           0.15557012025776948,
           0.583204330938008,
           -0.023099293078617855,
           -0.027652315018043334,
           -0.014122554573607886,
           -0.01829732925344387,
           -0.020901442883479848,
           -0.04149117003337114,
           null,
           -0.03284075376221999,
           0.0035188530514041845,
           0.044259062488707535,
           0.03675066709072763,
           0.022130539784560657
          ],
          [
           0.09294671574997854,
           -0.0007257411226291738,
           0.08608447709133345,
           0.09689769700629927,
           -0.013437220524352873,
           -0.013961462524105702,
           0.22021183468626712,
           0.00661613919017481,
           0.00436724210517389,
           0.0056197574111541354,
           -0.021124618768866885,
           0.010388045020534769,
           0.01717408538280121,
           0.01727974779544569,
           -0.0077294069778936865,
           0.00029364664342372934,
           0.02515847029108196,
           -0.009536113248378452,
           0.002144487387602454,
           0.027257956902617547,
           -0.012184081248018766,
           -0.0013906216540368914,
           0.14649639128057337,
           null,
           0.1382412363772037,
           -0.012203419796195937,
           0.11720309900663067,
           0.10486233619100747,
           0.4163887833749495,
           0.23658582268823442,
           -0.018863439855886902,
           0.11509801719095934,
           0.05953804209944422,
           -0.0012552830941622423,
           0.08255199664953122,
           0.07938658505213007,
           0.15951494213856665,
           0.6929045894131879,
           0.5850356946354084,
           0.6929136610898066,
           1,
           0.5763213016677295,
           0.3146498622031224,
           0.20754031524831293,
           -0.0005445845573195634,
           0.03519290003270147,
           0.03725104238541105,
           0.02079392783840266,
           0.04788976476198459,
           0.029295489632893308,
           0.03936931113486874,
           0.040345459211848914,
           0.04788976476198459,
           0.04677899904548298,
           0.04839858082547426,
           -0.0027710338902469937,
           0.00051391026305572,
           0.10974084747376367,
           0.10974084747376367,
           0.01467855362902234,
           null,
           null,
           0.10754346148922146,
           0.44856018654859003,
           -0.01586070842947983,
           -0.017789984527643847,
           -0.010571435502167189,
           -0.013078098836438507,
           -0.014427065562780948,
           -0.025232651355690805,
           null,
           -0.020852882512545617,
           -0.0635819232723342,
           0.02971997713732652,
           0.018679489591627147,
           0.017693579919149695
          ],
          [
           0.033273870025315955,
           -0.0012017665266815401,
           0.10675728082640183,
           0.08456307922327758,
           -0.024605477057362393,
           -0.024833560201285017,
           0.31058457852648974,
           0.00619608281412591,
           0.002460816793585025,
           0.004230678983018231,
           -0.03428512310496732,
           0.01154295653948614,
           0.01972140719746579,
           0.0022518085096461375,
           -0.017209493489855055,
           -0.005834877002144093,
           0.020706388893818935,
           -0.015381297246726704,
           0.0008596891660120172,
           -0.008242008823872292,
           -0.018610334083441135,
           -0.00384779134134212,
           0.09583411259557663,
           null,
           0.07231868574567245,
           -0.023241494173370996,
           0.15969421229668215,
           0.17685414841547345,
           0.6996894940303107,
           0.2808823463509987,
           0.05077317448819705,
           0.1645584907415992,
           0.0892810391070662,
           -0.001672006238261628,
           0.12847378456497588,
           0.14525023991655756,
           0.2655331182887269,
           0.725400914007175,
           0.7031531802751385,
           0.7253801890483494,
           0.5763213016677295,
           1,
           0.3933040950587015,
           0.18887733905209847,
           0.00011359257394286657,
           0.04877680440570376,
           0.054025536841806075,
           0.024863178502201492,
           0.07478979861243623,
           0.042252585792470806,
           0.06129265738911155,
           0.06899967063912073,
           0.07478979861243623,
           0.07365114298603118,
           0.0781810262609623,
           -0.0009682821448545619,
           0.002577031722128947,
           0.10898938626474602,
           0.10898938626474602,
           -0.05643631370157126,
           null,
           null,
           0.18562891871797782,
           0.5422268092095228,
           -0.016872319721021017,
           -0.019947697900184153,
           -0.0025302137112187123,
           -0.009579732886311093,
           -0.014001216196590721,
           -0.038453957676128796,
           null,
           -0.02650931810746785,
           0.0652205486685807,
           0.050908276115550086,
           0.044795367632435544,
           0.018951685281435343
          ],
          [
           0.15383566458646256,
           -0.0008198118667449948,
           0.07737563619396651,
           0.11891165574132108,
           -0.03316740589155336,
           -0.03359693352824861,
           0.44479016743962363,
           0.0048073855438373935,
           0.0018615150985984365,
           0.0033635756393449855,
           -0.04793034721782114,
           0.014169856122504298,
           0.01116591351577562,
           -0.020032226321844173,
           -0.026973514437172143,
           -0.011313172760668842,
           0.029059931026210427,
           -0.021966117229637695,
           0.003270913914235501,
           -0.03433901303299972,
           -0.02626051033472996,
           0.004875485345405767,
           0.17897061087508992,
           null,
           0.15657487917549462,
           -0.024573752899437622,
           0.3455795879943674,
           0.27985231773799524,
           0.39870690224482497,
           0.0689568221751346,
           0.15432928016425856,
           0.11234368719316003,
           0.04859929609045065,
           0.12654225466089136,
           0.12188610625021014,
           0.09551418739151897,
           0.3939257820245327,
           0.3953262310066352,
           0.41999458698390124,
           0.3953249051487265,
           0.3146498622031224,
           0.3933040950587015,
           1,
           0.1463033629438405,
           -0.0009835847019726565,
           0.07691111480865534,
           0.08628994566544711,
           0.04955701479036316,
           0.11994337512606026,
           0.06833002555383141,
           0.15288094437265087,
           0.1509833998778394,
           0.11994337512606026,
           0.16468188967974787,
           0.17359149146913216,
           -0.003992504412968442,
           0.0012362509243971829,
           0.10950333120271775,
           0.10950333120271775,
           -0.029626486974973994,
           null,
           null,
           0.5020603441747252,
           0.6929287165115896,
           -0.01273318130381418,
           -0.009391750425134238,
           -0.014796639876249528,
           -0.014084821843600732,
           -0.013302392593137903,
           -0.018060690137193493,
           null,
           -0.009177073507151311,
           0.16651963763958919,
           0.12319662500332391,
           0.12554754478144328,
           -0.019371451325181418
          ],
          [
           0.182358384668893,
           0.00011490730821745705,
           0.06043999545002687,
           0.06909003157146457,
           0.009817489246082283,
           0.009273150832390992,
           0.10508179634347928,
           0.0025555839397408764,
           0.0018002140258595682,
           0.0020645453270962846,
           0.007096102150371733,
           0.004498082643833315,
           0.014048054206223513,
           0.025155529734309644,
           0.011725620594237866,
           0.009884932498010873,
           0.023103545507050655,
           0.0014142593545814427,
           0.00820210175301327,
           0.06485355958982839,
           -0.0036611143638910553,
           0.001881993355979546,
           0.5724648620916764,
           null,
           0.5382839835637114,
           -0.0070443032645671625,
           0.06297554230104938,
           0.04826938836963111,
           0.10793373403859,
           -0.052004611950943365,
           0.19963756265570537,
           0.0456607683342429,
           -0.000047392323793280236,
           0.011246262471620291,
           0.07505386030842648,
           0.007728667642456256,
           0.06845562336931368,
           0.1535214018882567,
           0.1285833530108648,
           0.15350433769724767,
           0.20754031524831293,
           0.18887733905209847,
           0.1463033629438405,
           1,
           0.0004250895924390339,
           0.10799458828977873,
           0.10818767002254609,
           0.11576675314337886,
           0.11247717997394048,
           0.10815324185658777,
           0.08723243739050811,
           0.08564077819458644,
           0.11247717997394048,
           0.09049097695032604,
           0.09463241890973366,
           0.00005303221939235209,
           0.004161648494433956,
           0.159570485641218,
           0.159570485641218,
           0.1425673669630637,
           null,
           null,
           0.08414096608989245,
           0.18976765706977175,
           -0.015514294322553348,
           -0.018518060732864296,
           -0.00840803513284814,
           -0.011751209225759049,
           -0.01403306762549054,
           -0.02691383497047195,
           null,
           -0.02176879661268301,
           -0.017481473735160395,
           0.00046674082673908967,
           0.007368462946675865,
           0.03457312180566582
          ],
          [
           -0.003733505098381136,
           -0.0003100796654849111,
           0.00472036275587984,
           0.0022128590469125426,
           0.0009483262868535696,
           0.000695409811999541,
           -0.00036223533835220214,
           -0.00045586311755080544,
           -0.00033362452875513893,
           -0.0003985828464187495,
           0.00022805341817997958,
           -0.0008351231949387567,
           0.002171431762562782,
           0.0009490389137558222,
           -0.000050930303184336484,
           0.0005881873988849435,
           0.00046281244378284657,
           0.0008095315591742109,
           0.00017254700484422168,
           0.0035327818185078037,
           0.0004398600409596538,
           0.0003734736886152451,
           -0.0025452137353718534,
           null,
           -0.001610023867070207,
           0.0009581594032146531,
           -0.002887810043300341,
           0.0018565728617211616,
           -0.0003603405619309649,
           0.00018693090246270434,
           -0.0020927949206002295,
           0.004391067487096017,
           0.001247113911729522,
           -0.0010218807082929431,
           0.005475203130118259,
           0.003026033755502837,
           -0.0005193282021515508,
           0.00037456241850960105,
           -0.0005629816576089812,
           0.0003732931437576847,
           -0.0005445845573195634,
           0.00011359257394286657,
           -0.0009835847019726565,
           0.0004250895924390339,
           1,
           0.0036341586770327703,
           0.004845296190742868,
           0.003054074249849016,
           0.0037564201794589103,
           0.003178915180913321,
           0.00363498829353648,
           0.002960019380049217,
           0.0037564201794589103,
           0.0018038419014069506,
           0.0012123845489401988,
           0.5748722843815219,
           0.5341773854528475,
           0.0029051402570998276,
           0.0029051402570998276,
           -0.0002490085680348262,
           null,
           null,
           0.0012508827070277693,
           -0.0016936622393227427,
           0.001669169001147367,
           0.0012846093524258575,
           0.0012203988752825148,
           0.0019448651827001485,
           0.0014408793768565476,
           0.0018018067792178218,
           null,
           0.0015605073958398909,
           -0.009989908067411797,
           0.00008399696560953005,
           -0.0039896846981805085,
           0.005822990021825946
          ],
          [
           0.01317591171196309,
           0.0016924383648033183,
           0.2190720686385357,
           0.051069984017076527,
           0.016224425572665464,
           0.015382534944470894,
           0.2392451667891246,
           -0.003561783267296491,
           -0.00423234357657706,
           -0.0038357109673138666,
           -0.0022289336355584555,
           -0.0003883383669894539,
           0.04847619638471062,
           0.03853162131601745,
           0.013410977512655842,
           0.009143697785326676,
           0.012475674907791369,
           0.004736402877403498,
           0.01313474071929029,
           0.04108892058029515,
           -0.007554077051964387,
           0.016202116319132577,
           0.0616281063958079,
           null,
           0.06026519709779643,
           -0.0032533961445121093,
           0.10758312188789187,
           0.11546257727662143,
           0.08201720573255199,
           0.0414830221519297,
           0.062343154001058304,
           0.34978782399959635,
           0.0465452737814519,
           0.06215521798488008,
           0.3520059639452803,
           0.325538266732264,
           0.23843882407924177,
           0.06233876124924357,
           0.05224460036588417,
           0.06233843864217932,
           0.03519290003270147,
           0.04877680440570376,
           0.07691111480865534,
           0.10799458828977873,
           0.0036341586770327703,
           1,
           0.9056655388871419,
           0.64839800627878,
           0.767653016491828,
           0.9187855269227658,
           0.48886570111329436,
           0.4980762435978302,
           0.767653016491828,
           0.46934336268738924,
           0.4791263304082962,
           0.0026447414123735935,
           0.005029875548358521,
           0.02441892591917659,
           0.02441892591917659,
           0.017204145467238204,
           null,
           null,
           0.08289699759490793,
           0.02914753535592802,
           0.013014043683022813,
           0.020337347812907643,
           0.0019349827007773966,
           0.005886746241288357,
           0.010157264583127053,
           0.039488381003784684,
           null,
           0.025850041129752477,
           -0.07150660185100814,
           -0.06569771288732958,
           -0.09522250905366315,
           0.07394508758790283
          ],
          [
           0.0065135036819230505,
           0.0020733086793084904,
           0.19469361299404342,
           0.054280899236858804,
           0.017267950531137582,
           0.01634686346631951,
           0.267652092455491,
           -0.0038018263815521574,
           -0.005051406277155114,
           -0.004086496456632362,
           -0.0035636958286266863,
           -0.00008379994689182554,
           0.0501176295176851,
           0.03308198851737532,
           0.013108686788407372,
           0.008985161556527193,
           0.013121634305312095,
           0.0038048922125053244,
           0.013334640855074067,
           0.03782280547478884,
           -0.008450516200957554,
           0.017784890997757652,
           0.05648957465390373,
           null,
           0.0527845958645093,
           -0.006059298129169705,
           0.1218955275776049,
           0.12986753999802333,
           0.09162172842695719,
           0.04541198410891913,
           0.06994609259282082,
           0.31336662872071136,
           0.04131548466435143,
           0.0691715014958264,
           0.3935088386662571,
           0.28891045420218414,
           0.267185248286555,
           0.06687346126226752,
           0.05633165885669531,
           0.06687332098536675,
           0.03725104238541105,
           0.054025536841806075,
           0.08628994566544711,
           0.10818767002254609,
           0.004845296190742868,
           0.9056655388871419,
           1,
           0.5697578958688432,
           0.8631466939804224,
           0.8248805821441703,
           0.5593396872857619,
           0.5632638304905042,
           0.8631466939804224,
           0.53096131741024,
           0.5421402080187199,
           0.0038050555793144327,
           0.004481902859005005,
           0.024246751344187176,
           0.024246751344187176,
           0.01121415489892297,
           null,
           null,
           0.08863236441152962,
           0.04383405615044234,
           0.008633251082735634,
           0.016696843692727975,
           -0.0001665476305454617,
           0.0011580290665241506,
           0.005544836396748916,
           0.03815498266543736,
           null,
           0.02294412390519071,
           -0.06404121100022084,
           -0.07217305422180961,
           -0.10845622029894256,
           0.0733055871141106
          ],
          [
           0.05725609532780014,
           -0.00009775196227112902,
           0.3009323194633629,
           0.03520687664257414,
           0.004813522706020777,
           0.004501958611781538,
           0.13876412617403666,
           -0.0031300251177767764,
           -0.0032276811748358863,
           -0.003200534654837292,
           -0.003094855540907292,
           -0.0009097024687195059,
           0.02453978279067447,
           0.02798683503737017,
           0.0075903388065339,
           0.006781874624039662,
           0.010831294999534037,
           0.001313204412810746,
           0.008856814935451221,
           0.03276171841714079,
           -0.005864780299497357,
           0.009081775802483278,
           0.09765378275722028,
           null,
           0.09928558451235933,
           0.003752173872312653,
           0.06593416637360368,
           0.06959438524103102,
           0.025609586161195654,
           -0.003931271896851675,
           0.030061896197757548,
           0.22713600515334714,
           0.06154329964236354,
           0.036955901255106526,
           0.19450444736632458,
           0.2094637680277901,
           0.1405168088304217,
           0.034959097268974955,
           0.02282770268098042,
           0.034955145807490436,
           0.02079392783840266,
           0.024863178502201492,
           0.04955701479036316,
           0.11576675314337886,
           0.003054074249849016,
           0.64839800627878,
           0.5697578958688432,
           1,
           0.47130532118902324,
           0.719698334977997,
           0.31076257680864483,
           0.2950963469933788,
           0.47130532118902324,
           0.28667628910717474,
           0.31178829733177793,
           0.0030676877148972065,
           0.00641941817029275,
           0.03250442288041884,
           0.03250442288041884,
           0.029629754178736947,
           null,
           null,
           0.05941776845304969,
           0.028649936537259092,
           0.01821501751304705,
           0.024129801503028243,
           0.007743082668729879,
           0.012964687841454041,
           0.015868668632860176,
           0.038045661798390015,
           null,
           0.027939438283625755,
           -0.04090764145330916,
           -0.0035886596975915302,
           -0.022250302508796827,
           0.06243588592850879
          ],
          [
           0.008803396544235703,
           0.0016158960306429067,
           0.16235559119149773,
           0.06069188361073803,
           0.014638914778559022,
           0.013589317868865327,
           0.3214960612051699,
           -0.0045456092573458295,
           -0.006323671926035105,
           -0.005507248424231551,
           -0.007543100413711724,
           0.00029498419384725734,
           0.04924814471716536,
           0.022713819887135597,
           0.009703920254814109,
           0.0058950748859538694,
           0.015163357713905196,
           0.0010845459674224118,
           0.013841750393391153,
           0.030074971792007885,
           -0.010651817864066122,
           0.02295133385018939,
           0.06187049083773673,
           null,
           0.054183502883138994,
           -0.008938389367420451,
           0.15250898463459198,
           0.1554756501934738,
           0.10915885217802523,
           0.04105693344080507,
           0.0897412270992262,
           0.2600141102304076,
           0.03731011166508244,
           0.08441629472690132,
           0.4029587567170734,
           0.23696817887889515,
           0.32223145010798426,
           0.08106425108278492,
           0.06702250019840134,
           0.08106281940669732,
           0.04788976476198459,
           0.07478979861243623,
           0.11994337512606026,
           0.11247717997394048,
           0.0037564201794589103,
           0.767653016491828,
           0.8631466939804224,
           0.47130532118902324,
           1,
           0.6950357788234183,
           0.6919637028515571,
           0.7000015718882245,
           1,
           0.6626537479066024,
           0.6729869082834121,
           0.0032173729779568275,
           0.004548028581726047,
           0.017934556573404876,
           0.017934556573404876,
           0.01129945515515327,
           null,
           null,
           0.1045222818645569,
           0.08130133915724753,
           -0.004549101377959507,
           0.005172475265218413,
           -0.0025311718818395927,
           -0.006652777259436476,
           -0.006729061652440009,
           0.031854348028150944,
           null,
           0.011944603202498747,
           -0.04094619995947021,
           -0.041166103631383,
           -0.06307686015719428,
           0.06444648491701134
          ],
          [
           0.021002194948652037,
           0.0009411959381923038,
           0.23783280228674994,
           0.04670190674706267,
           0.014259859915082872,
           0.013437203214404215,
           0.21286802934897922,
           -0.003605981328890395,
           -0.00397823087126177,
           -0.0038609370794246856,
           -0.001870570119936393,
           -0.0008268919801696848,
           0.0459698941074821,
           0.041751152735227136,
           0.012756660312416738,
           0.009573930192615335,
           0.011661433978986656,
           0.004719517102847924,
           0.013192253120835145,
           0.041276339179626295,
           -0.007046739617195483,
           0.014525016478762443,
           0.06825391482145977,
           null,
           0.06877119511375007,
           -0.0010467727960734483,
           0.0967740847390847,
           0.10345338492692988,
           0.0691513410030764,
           0.035036853675512854,
           0.05512757138614692,
           0.36854602088191957,
           0.050784882752596926,
           0.057051982846709204,
           0.31101930807521666,
           0.35519563530039533,
           0.21325407379735073,
           0.05485816824214695,
           0.045404179031019835,
           0.05485778908775725,
           0.029295489632893308,
           0.042252585792470806,
           0.06833002555383141,
           0.10815324185658777,
           0.003178915180913321,
           0.9187855269227658,
           0.8248805821441703,
           0.719698334977997,
           0.6950357788234183,
           1,
           0.44370889984957806,
           0.4481170404309351,
           0.6950357788234184,
           0.42351936885120195,
           0.4403290047468858,
           0.0025408124148293045,
           0.005294744507868914,
           0.02227866054463909,
           0.02227866054463909,
           0.02327673089523339,
           null,
           null,
           0.07710526569812558,
           0.02865317809242797,
           0.015085441282157082,
           0.021940442526643383,
           0.004010503041330122,
           0.008407001166397008,
           0.012495350305560498,
           0.040069261657604015,
           null,
           0.0269183601102535,
           -0.06710250951567269,
           -0.05695858688503783,
           -0.0811379847496919,
           0.07231994925461545
          ],
          [
           0.022203966962234,
           0.0010454481287783604,
           0.10418272629424828,
           0.05324634235859173,
           0.0006311523170068931,
           -0.0001332749924659271,
           0.3110742641526743,
           -0.0056957094705972445,
           -0.006589519039122792,
           -0.006135627388426839,
           -0.012951376698401195,
           0.0006134774485248699,
           0.03127346758682333,
           0.00501742952721123,
           0.0017234976221862175,
           0.0005324859998017475,
           0.01208534954110302,
           -0.005264378176126744,
           0.008769027326269541,
           0.010850575158299382,
           -0.012728231706074296,
           0.023453047090668543,
           0.06242768773030462,
           null,
           0.05230705028312526,
           -0.008576715738546029,
           0.17281142141883615,
           0.16534680340273297,
           0.07931194550033921,
           0.010669429794134988,
           0.09168089689568193,
           0.1560290271169141,
           0.027596222899834023,
           0.09081942302188423,
           0.25636742518823885,
           0.14029188214701063,
           0.3152837250330183,
           0.06858184942571487,
           0.046655554367005345,
           0.06857560656274314,
           0.03936931113486874,
           0.06129265738911155,
           0.15288094437265087,
           0.08723243739050811,
           0.00363498829353648,
           0.48886570111329436,
           0.5593396872857619,
           0.31076257680864483,
           0.6919637028515571,
           0.44370889984957806,
           1,
           0.620320083408536,
           0.6919637028515571,
           0.626993302014192,
           0.604835573051556,
           0.0037788606951515524,
           0.004819165465632557,
           0.008926958633412719,
           0.008926958633412719,
           0.014993470671057262,
           null,
           null,
           0.11265480798942361,
           0.11031974866409171,
           -0.013750059455625432,
           -0.01347039731646934,
           -0.0035883326003938233,
           -0.008560282541421285,
           -0.012058609261295887,
           0.012637493247446278,
           null,
           -0.009950459928466661,
           0.001598732544938316,
           0.07832600444273366,
           0.04995213167188562,
           0.036910842739799755
          ],
          [
           0.019691971776384314,
           0.0006988613888419534,
           0.1041058598697133,
           0.05142151506084721,
           0.004207453701296759,
           0.0032569517933378174,
           0.3154279106379102,
           -0.005986679302989292,
           -0.006683635258704263,
           -0.0061968142320872315,
           -0.012955760097260233,
           -0.000015890967937470598,
           0.034710821889660924,
           0.005836766608824993,
           0.0020812676845550246,
           0.0012536105430265433,
           0.0111729828597957,
           -0.004752883752886357,
           0.008832814045938357,
           0.008840459913148734,
           -0.013487280492103168,
           0.0243630320804677,
           0.062451015101424555,
           null,
           0.05124282502517422,
           -0.007696693907528292,
           0.1720469695266061,
           0.1557025084108194,
           0.09416934904388825,
           0.02114324095260493,
           0.10436730718347628,
           0.16750291663599914,
           0.03239650634081662,
           0.09131203190448722,
           0.2614635919743804,
           0.15199569901551085,
           0.3240522402311576,
           0.07216239406439202,
           0.05607724061733437,
           0.07216106806948921,
           0.040345459211848914,
           0.06899967063912073,
           0.1509833998778394,
           0.08564077819458644,
           0.002960019380049217,
           0.4980762435978302,
           0.5632638304905042,
           0.2950963469933788,
           0.7000015718882245,
           0.4481170404309351,
           0.620320083408536,
           1,
           0.7000015718882243,
           0.6016947533739236,
           0.6052638309141718,
           0.003362174187722813,
           0.0033799222424735257,
           -0.000886762694198891,
           -0.000886762694198891,
           0.022869995535213093,
           null,
           null,
           0.11005973409474626,
           0.11305019740718387,
           -0.016824503000071548,
           -0.018162021146805218,
           -0.0029112964736875044,
           -0.00985194701305219,
           -0.014331529616213489,
           0.006638239528425921,
           null,
           -0.015003393238218771,
           0.007162802523152984,
           0.07097510875479417,
           0.045887503211562104,
           0.03059594514184825
          ],
          [
           0.008803396544235703,
           0.0016158960306429067,
           0.16235559119149773,
           0.06069188361073803,
           0.014638914778559022,
           0.013589317868865327,
           0.3214960612051699,
           -0.0045456092573458295,
           -0.006323671926035105,
           -0.005507248424231551,
           -0.007543100413711724,
           0.00029498419384725734,
           0.04924814471716536,
           0.022713819887135597,
           0.009703920254814109,
           0.0058950748859538694,
           0.015163357713905196,
           0.0010845459674224118,
           0.013841750393391153,
           0.030074971792007885,
           -0.010651817864066122,
           0.02295133385018939,
           0.06187049083773673,
           null,
           0.054183502883138994,
           -0.008938389367420451,
           0.15250898463459198,
           0.1554756501934738,
           0.10915885217802523,
           0.04105693344080507,
           0.0897412270992262,
           0.2600141102304076,
           0.03731011166508244,
           0.08441629472690132,
           0.4029587567170734,
           0.23696817887889515,
           0.32223145010798426,
           0.08106425108278492,
           0.06702250019840134,
           0.08106281940669732,
           0.04788976476198459,
           0.07478979861243623,
           0.11994337512606026,
           0.11247717997394048,
           0.0037564201794589103,
           0.767653016491828,
           0.8631466939804224,
           0.47130532118902324,
           1,
           0.6950357788234184,
           0.6919637028515571,
           0.7000015718882243,
           1,
           0.6626537479066024,
           0.6729869082834121,
           0.0032173729779568275,
           0.004548028581726047,
           0.017934556573404876,
           0.017934556573404876,
           0.01129945515515327,
           null,
           null,
           0.1045222818645569,
           0.08130133915724753,
           -0.004549101377959507,
           0.005172475265218413,
           -0.0025311718818395927,
           -0.006652777259436476,
           -0.006729061652440009,
           0.031854348028150944,
           null,
           0.011944603202498747,
           -0.04094619995947021,
           -0.041166103631383,
           -0.06307686015719428,
           0.06444648491701134
          ],
          [
           0.025919104589944193,
           0.0004989106954542496,
           0.10114903544504268,
           0.054816944813095646,
           0.0020943938352871168,
           0.0015024958558141736,
           0.3180611988515058,
           -0.005430908411440334,
           -0.006117764825251983,
           -0.005625514278706512,
           -0.015580430577103658,
           0.0008861362052284202,
           0.032882043426067965,
           0.002501311856542074,
           0.000014482658975564025,
           -0.00022497776621427143,
           0.011986106134987738,
           -0.007031780008606952,
           0.008532477166857512,
           0.008128423973733997,
           -0.015425365712305667,
           0.02368019221651982,
           0.06822503291226055,
           null,
           0.05752698817100647,
           -0.008650770052838996,
           0.17973444331018074,
           0.16536504162077265,
           0.09138184411152908,
           0.01670871690622879,
           0.09161699018565561,
           0.1581226063560394,
           0.029058957170072314,
           0.09283819215801664,
           0.2508112363649929,
           0.14550741758190608,
           0.32273192763477637,
           0.07980843929381552,
           0.06073276232547194,
           0.07980346782977123,
           0.04677899904548298,
           0.07365114298603118,
           0.16468188967974787,
           0.09049097695032604,
           0.0018038419014069506,
           0.46934336268738924,
           0.53096131741024,
           0.28667628910717474,
           0.6626537479066024,
           0.42351936885120195,
           0.626993302014192,
           0.6016947533739236,
           0.6626537479066024,
           1,
           0.6072815643815161,
           0.003294729356234783,
           0.0042669704571951395,
           0.001715929697715759,
           0.001715929697715759,
           0.0189965539298229,
           null,
           null,
           0.11501958630286865,
           0.1261339805618558,
           -0.01828552654540542,
           -0.01987456296872152,
           -0.006345159054350188,
           -0.011661747499011903,
           -0.01563049731961748,
           0.0032267615266059627,
           null,
           -0.01648773446955845,
           0.008469791050246329,
           0.035814943600144235,
           0.044834501149406535,
           0.029321893549509637
          ],
          [
           0.03034996254905424,
           0.0005458106800655879,
           0.11152344386020628,
           0.0577001953823757,
           -0.0002910496397517804,
           -0.0012137855011128268,
           0.3249577082820605,
           -0.005618388616342732,
           -0.006077804673643439,
           -0.005627448964868923,
           -0.01663258426756851,
           0.0012147575218234277,
           0.03401612933318609,
           0.0034439389164931224,
           -0.001301279921616379,
           -0.00016955713331027008,
           0.012882032003984807,
           -0.006521585002459459,
           0.011000972740924913,
           0.006934118239989978,
           -0.015789054557015545,
           0.024510933634342646,
           0.07401271646481383,
           null,
           0.06355478488840008,
           -0.009142717425098841,
           0.18113010703900867,
           0.16523111628912177,
           0.09747529967836104,
           0.017338803955517536,
           0.1000603744567557,
           0.16804670313945713,
           0.037433822385131044,
           0.0909246398339934,
           0.2581916249299882,
           0.15398233638252815,
           0.3319847555169336,
           0.08299675828767701,
           0.06576527394419217,
           0.08298935525674143,
           0.04839858082547426,
           0.0781810262609623,
           0.17359149146913216,
           0.09463241890973366,
           0.0012123845489401988,
           0.4791263304082962,
           0.5421402080187199,
           0.31178829733177793,
           0.6729869082834121,
           0.4403290047468858,
           0.604835573051556,
           0.6052638309141718,
           0.6729869082834121,
           0.6072815643815161,
           1,
           0.0017291640133024967,
           0.005425272904473271,
           0.005985397841663888,
           0.005985397841663888,
           0.020730896609338665,
           null,
           null,
           0.11999412195312725,
           0.13449973480922647,
           -0.018031976408791353,
           -0.018218182644203426,
           -0.004561230647926149,
           -0.0110543005245776,
           -0.015516106392065552,
           0.007147566120291185,
           null,
           -0.014211643092979804,
           0.021337089213471157,
           0.08110635516996492,
           0.09618691735319392,
           0.02492706648306266
          ],
          [
           -0.0034823981672125926,
           -0.0002112578550443308,
           0.004967269743291217,
           0.0014703564106158338,
           0.0025371081544315584,
           0.00245200802426188,
           -0.001035590675762057,
           -0.0000538185850772178,
           0.00007369849453895805,
           -0.00017611075349995147,
           0.0005916693845534253,
           -0.00029866717120120606,
           0.00027075536343697736,
           -0.000480081639770916,
           0.00042003757783719547,
           0.001467512294337252,
           0.000028882983382994988,
           -0.00009046779428133489,
           0.0006732582030484334,
           0.0017766893302506904,
           0.0010997139199116792,
           -0.000029643808974139705,
           -0.0014220444833499403,
           null,
           -0.000427161972089025,
           0.0012191532379080023,
           -0.0036464911426925587,
           -0.0003606888914714317,
           -0.0007805346850861015,
           0.00002248863163947263,
           0.0006943800631989793,
           0.004911186613456563,
           0.0016770856738429164,
           -0.0001975275125954402,
           0.0052048346557933296,
           0.0038196341352451143,
           -0.000732228184108899,
           -0.0006881884067906192,
           -0.002163414272138143,
           -0.0006892403331668894,
           -0.0027710338902469937,
           -0.0009682821448545619,
           -0.003992504412968442,
           0.00005303221939235209,
           0.5748722843815219,
           0.0026447414123735935,
           0.0038050555793144327,
           0.0030676877148972065,
           0.0032173729779568275,
           0.0025408124148293045,
           0.0037788606951515524,
           0.003362174187722813,
           0.0032173729779568275,
           0.003294729356234783,
           0.0017291640133024967,
           1,
           0.4231251520791052,
           -0.0049356567667061466,
           -0.0049356567667061466,
           0.005108553945825208,
           null,
           null,
           -0.000856623381886508,
           -0.004136162036358002,
           0.001181162130390084,
           0.00035022283951342023,
           0.0011749908784414683,
           0.001464902091602058,
           0.0010209320331259688,
           0.000631608546781545,
           null,
           0.00030263120951362876,
           -0.007101828576178128,
           0.004659992446288199,
           0.004334011711973291,
           0.006071593669886353
          ],
          [
           -0.0025736011934668467,
           -0.0004092763384868359,
           0.007409683166375708,
           0.004127033893203292,
           0.0009130931279539103,
           0.0006472426973896524,
           0.002227840683137542,
           -0.0003970637222031704,
           -0.0002720862479069362,
           -0.0004899324300759847,
           0.0003545507531503747,
           -0.0007000106945875426,
           0.0003202811632708226,
           0.0013505381329015353,
           0.0002252827273723878,
           0.001359598175529823,
           0.0016357172427741722,
           -0.00022417644858614203,
           0.0015505671102645487,
           0.006749923913053412,
           0.0020680460583866853,
           -0.00016560679154456516,
           0.0004094484779596247,
           null,
           0.0010354998756867946,
           0.0003390340582442296,
           -0.004427735078593818,
           0.0035230429948429585,
           0.0026167601395591083,
           0.0011333356963293885,
           0.00007097159390521962,
           0.007644485112355136,
           0.004354639401886728,
           0.0002208933047511721,
           0.009742098198857492,
           0.005998796779595093,
           0.0014118115740708187,
           0.0012336917158303827,
           0.0013192800539693816,
           0.0012330451828789762,
           0.00051391026305572,
           0.002577031722128947,
           0.0012362509243971829,
           0.004161648494433956,
           0.5341773854528475,
           0.005029875548358521,
           0.004481902859005005,
           0.00641941817029275,
           0.004548028581726047,
           0.005294744507868914,
           0.004819165465632557,
           0.0033799222424735257,
           0.004548028581726047,
           0.0042669704571951395,
           0.005425272904473271,
           0.4231251520791052,
           1,
           0.004879609301284858,
           0.004879609301284858,
           0.0010878534939157075,
           null,
           null,
           0.0018006541343861962,
           0.00035755089451829184,
           0.0029825534298924404,
           0.00317387205002108,
           0.002017821874899482,
           0.002920225524359063,
           0.0025460186730709967,
           0.003441400345361242,
           null,
           0.00298492038108366,
           -0.008732180090295355,
           0.014604591434495207,
           0.022815733070208837,
           0.00929188782319278
          ],
          [
           0.1550611262000615,
           0.000784744423991537,
           0.015549182000178659,
           0.05909965810459436,
           -0.006687559382493259,
           -0.007946009171103925,
           0.08805746459870237,
           0.008658850023786845,
           0.005835738223062005,
           0.006813237780467831,
           -0.020866588977576494,
           0.011734059520420158,
           0.011570063638572695,
           0.026445334095640878,
           0.006042362389605635,
           0.005531310825393345,
           0.025388598267518457,
           -0.007181551688473633,
           0.00487773667907632,
           0.06562659337202033,
           -0.003512057598504124,
           -0.010436565361859728,
           0.09124803647535636,
           null,
           0.08053576270146327,
           -0.05044822665890846,
           0.06870731565939298,
           0.07506616203017331,
           0.07664000520109099,
           -0.029362973234477667,
           -0.01818140852132511,
           0.02290987472117596,
           -0.006304431704044408,
           -0.005120738003420336,
           0.053323731455874754,
           0.0072986723103355446,
           0.07301344884916278,
           0.07831515019561293,
           0.09484482172514475,
           0.07832695390816287,
           0.10974084747376367,
           0.10898938626474602,
           0.10950333120271775,
           0.159570485641218,
           0.0029051402570998276,
           0.02441892591917659,
           0.024246751344187176,
           0.03250442288041884,
           0.017934556573404876,
           0.02227866054463909,
           0.008926958633412719,
           -0.000886762694198891,
           0.017934556573404876,
           0.001715929697715759,
           0.005985397841663888,
           -0.0049356567667061466,
           0.004879609301284858,
           1,
           1,
           -0.2147124638301705,
           null,
           null,
           0.0418079167901391,
           0.10901952782166546,
           -0.00490451248729291,
           -0.0030730961031293926,
           -0.006105964674909207,
           -0.006040739025897043,
           -0.005285251744672055,
           -0.0054288556342151715,
           null,
           -0.0026841956990856044,
           -0.012857290794408621,
           0.0470016827224359,
           -0.007622738677075733,
           0.023227176768430585
          ],
          [
           0.1550611262000615,
           0.000784744423991537,
           0.015549182000178659,
           0.05909965810459436,
           -0.006687559382493259,
           -0.007946009171103925,
           0.08805746459870237,
           0.008658850023786845,
           0.005835738223062005,
           0.006813237780467831,
           -0.020866588977576494,
           0.011734059520420158,
           0.011570063638572695,
           0.026445334095640878,
           0.006042362389605635,
           0.005531310825393345,
           0.025388598267518457,
           -0.007181551688473633,
           0.00487773667907632,
           0.06562659337202033,
           -0.003512057598504124,
           -0.010436565361859728,
           0.09124803647535636,
           null,
           0.08053576270146327,
           -0.05044822665890846,
           0.06870731565939298,
           0.07506616203017331,
           0.07664000520109099,
           -0.029362973234477667,
           -0.01818140852132511,
           0.02290987472117596,
           -0.006304431704044408,
           -0.005120738003420336,
           0.053323731455874754,
           0.0072986723103355446,
           0.07301344884916278,
           0.07831515019561293,
           0.09484482172514475,
           0.07832695390816287,
           0.10974084747376367,
           0.10898938626474602,
           0.10950333120271775,
           0.159570485641218,
           0.0029051402570998276,
           0.02441892591917659,
           0.024246751344187176,
           0.03250442288041884,
           0.017934556573404876,
           0.02227866054463909,
           0.008926958633412719,
           -0.000886762694198891,
           0.017934556573404876,
           0.001715929697715759,
           0.005985397841663888,
           -0.0049356567667061466,
           0.004879609301284858,
           1,
           1,
           -0.2147124638301705,
           null,
           null,
           0.0418079167901391,
           0.10901952782166546,
           -0.00490451248729291,
           -0.0030730961031293926,
           -0.006105964674909207,
           -0.006040739025897043,
           -0.005285251744672055,
           -0.0054288556342151715,
           null,
           -0.0026841956990856044,
           -0.012857290794408621,
           0.0470016827224359,
           -0.007622738677075733,
           0.023227176768430585
          ],
          [
           0.5405991305440787,
           0.00009542484798840591,
           0.0202048698953524,
           -0.06369378299579084,
           -0.0011001095612212508,
           -0.0003682825911516264,
           -0.0521631032121434,
           -0.006062919428622741,
           -0.0028436254119309657,
           -0.003877260072812992,
           0.009195747915554877,
           -0.009465474021176647,
           0.001647614199016864,
           -0.0004928108646315393,
           -0.004899066069580202,
           0.0038811043577186236,
           -0.038666416328454745,
           0.00299667302534815,
           -0.005806701864913175,
           -0.006365674831580703,
           -0.004765401974088805,
           0.028392378717077615,
           0.5946768319719521,
           null,
           0.6446070805790886,
           0.2906387221092819,
           -0.04319326458036855,
           -0.06766029906396925,
           -0.056409589608538126,
           0.016740405483790105,
           0.02453402270430966,
           -0.003452863599131296,
           0.002224211489120395,
           0.00432849519227909,
           -0.03071751854317524,
           0.004353169240175903,
           -0.05130465971504912,
           0.0024021174832887806,
           -0.007810375063185995,
           0.0024090138654141824,
           0.01467855362902234,
           -0.05643631370157126,
           -0.029626486974973994,
           0.1425673669630637,
           -0.0002490085680348262,
           0.017204145467238204,
           0.01121415489892297,
           0.029629754178736947,
           0.01129945515515327,
           0.02327673089523339,
           0.014993470671057262,
           0.022869995535213093,
           0.01129945515515327,
           0.0189965539298229,
           0.020730896609338665,
           0.005108553945825208,
           0.0010878534939157075,
           -0.2147124638301705,
           -0.2147124638301705,
           1,
           null,
           null,
           0.015303316291778411,
           0.016738275774837975,
           0.00578915942805321,
           0.007644525617877167,
           0.005531871500449682,
           0.005334709716692009,
           0.0053816863167886605,
           0.01659065309884354,
           null,
           0.00834480105002753,
           -0.020375041053060892,
           0.03285197364227292,
           0.062199423204004525,
           0.02729522750451697
          ],
          [
           null,
           null,
           null,
           null,
           null,
           null,
           null,
           null,
           null,
           null,
           null,
           null,
           null,
           null,
           null,
           null,
           null,
           null,
           null,
           null,
           null,
           null,
           null,
           null,
           null,
           null,
           null,
           null,
           null,
           null,
           null,
           null,
           null,
           null,
           null,
           null,
           null,
           null,
           null,
           null,
           null,
           null,
           null,
           null,
           null,
           null,
           null,
           null,
           null,
           null,
           null,
           null,
           null,
           null,
           null,
           null,
           null,
           null,
           null,
           null,
           null,
           null,
           null,
           null,
           null,
           null,
           null,
           null,
           null,
           null,
           null,
           null,
           null,
           null,
           null,
           null
          ],
          [
           null,
           null,
           null,
           null,
           null,
           null,
           null,
           null,
           null,
           null,
           null,
           null,
           null,
           null,
           null,
           null,
           null,
           null,
           null,
           null,
           null,
           null,
           null,
           null,
           null,
           null,
           null,
           null,
           null,
           null,
           null,
           null,
           null,
           null,
           null,
           null,
           null,
           null,
           null,
           null,
           null,
           null,
           null,
           null,
           null,
           null,
           null,
           null,
           null,
           null,
           null,
           null,
           null,
           null,
           null,
           null,
           null,
           null,
           null,
           null,
           null,
           null,
           null,
           null,
           null,
           null,
           null,
           null,
           null,
           null,
           null,
           null,
           null,
           null,
           null,
           null
          ],
          [
           0.07188273052589418,
           -0.00020671811717919373,
           0.04711280359082983,
           0.04190459851829501,
           -0.008372206422268498,
           -0.008691288938591654,
           0.17824494203414984,
           0.0009175665969121362,
           0.00016708746202784056,
           0.0005133128055238732,
           -0.01382257516069914,
           0.004371410910304042,
           0.008493983586688823,
           -0.0027333143869947823,
           -0.005338672348256769,
           -0.002021460377407951,
           0.011229475289923518,
           -0.008086699243425829,
           0.001663282721433415,
           0.0011895638875879264,
           -0.010217381792372188,
           0.003877843367143938,
           0.09578475533297241,
           null,
           0.08692858959196328,
           -0.007647440957688734,
           0.10322300160569906,
           0.09257663650044,
           0.13204233049392033,
           -0.0028083631589681576,
           0.10554633810843352,
           0.071864499464078,
           0.03100751025770192,
           0.06653925565205251,
           0.06614534695328723,
           0.05865911042405507,
           0.16241083918382432,
           0.15559105816262417,
           0.12132941023208563,
           0.15557012025776948,
           0.10754346148922146,
           0.18562891871797782,
           0.5020603441747252,
           0.08414096608989245,
           0.0012508827070277693,
           0.08289699759490793,
           0.08863236441152962,
           0.05941776845304969,
           0.1045222818645569,
           0.07710526569812558,
           0.11265480798942361,
           0.11005973409474626,
           0.1045222818645569,
           0.11501958630286865,
           0.11999412195312725,
           -0.000856623381886508,
           0.0018006541343861962,
           0.0418079167901391,
           0.0418079167901391,
           0.015303316291778411,
           null,
           null,
           1,
           0.38939177315036605,
           0.0388268413532024,
           0.0536259042371822,
           0.010915723313064929,
           0.022681508425654476,
           0.03131522895831904,
           0.04286327903568706,
           null,
           0.055559418434220555,
           0.028423417210863687,
           0.08406544241748108,
           0.09085158741544995,
           0.01348601292674311
          ],
          [
           0.19531983269836845,
           -0.0008368995582483433,
           0.04392735687946716,
           0.09782529612482496,
           -0.029148498993736713,
           -0.02926406384652601,
           0.3584343679193415,
           0.004344841284436524,
           0.00195036185253469,
           0.003295461239583793,
           -0.03776441468218037,
           0.010648853973442845,
           0.010572663417185463,
           -0.023765681024709488,
           -0.022345703630103343,
           -0.01034163681946872,
           0.02498323321013505,
           -0.02246767296655582,
           0.0013285787932836555,
           -0.012948066412359927,
           -0.026586659294300964,
           0.005124410012079619,
           0.23072784383684464,
           null,
           0.2064633817922973,
           -0.017075614924237852,
           0.19975724761769575,
           0.14269494489267112,
           0.4342821412770439,
           0.07028966889773546,
           0.10019686766853035,
           0.05230171737175033,
           0.025211923122305836,
           0.07942299479631729,
           0.08868079196445389,
           0.02689799123801742,
           0.3179601402504484,
           0.5832186710295915,
           0.5801059827238202,
           0.583204330938008,
           0.44856018654859003,
           0.5422268092095228,
           0.6929287165115896,
           0.18976765706977175,
           -0.0016936622393227427,
           0.02914753535592802,
           0.04383405615044234,
           0.028649936537259092,
           0.08130133915724753,
           0.02865317809242797,
           0.11031974866409171,
           0.11305019740718387,
           0.08130133915724753,
           0.1261339805618558,
           0.13449973480922647,
           -0.004136162036358002,
           0.00035755089451829184,
           0.10901952782166546,
           0.10901952782166546,
           0.016738275774837975,
           null,
           null,
           0.38939177315036605,
           1,
           -0.020376555534291872,
           -0.021096827594468105,
           -0.01751232990709635,
           -0.01893535265073831,
           -0.019582853266128252,
           -0.0532873305361574,
           null,
           -0.02675907258601787,
           0.07964363060776733,
           0.11388571788841088,
           0.11576710857155316,
           -0.025407526346221954
          ],
          [
           -0.02099744961230863,
           -0.00015805891213749033,
           0.007972842797575227,
           -0.005730301438618223,
           -0.004034308736933328,
           -0.004275139039817789,
           -0.025889687879573804,
           0.0006758826576420871,
           0.00030093941087500347,
           0.000351118803891263,
           -0.003587363422920347,
           0.0010979153590511468,
           -0.003427153957379902,
           -0.005878585744439146,
           -0.00306350795134289,
           -0.002029533591112173,
           -0.0021224436908576696,
           -0.0026801074878618565,
           -0.0008277117846517769,
           -0.00822632272321417,
           -0.0013725518070685837,
           -0.0021425472446632296,
           -0.022878070837224318,
           null,
           -0.017876114688425017,
           0.00029546493036369657,
           0.018424692653621857,
           0.03656100102252503,
           -0.03446085091903513,
           -0.005904635043468716,
           -0.01907692459845332,
           0.011027084544590369,
           0.0032786608707360055,
           -0.011003495547028007,
           0.008625397581754533,
           0.009477482347156702,
           -0.030167322736044916,
           -0.02308552961372537,
           -0.029437287686036488,
           -0.023099293078617855,
           -0.01586070842947983,
           -0.016872319721021017,
           -0.01273318130381418,
           -0.015514294322553348,
           0.001669169001147367,
           0.013014043683022813,
           0.008633251082735634,
           0.01821501751304705,
           -0.004549101377959507,
           0.015085441282157082,
           -0.013750059455625432,
           -0.016824503000071548,
           -0.004549101377959507,
           -0.01828552654540542,
           -0.018031976408791353,
           0.001181162130390084,
           0.0029825534298924404,
           -0.00490451248729291,
           -0.00490451248729291,
           0.00578915942805321,
           null,
           null,
           0.0388268413532024,
           -0.020376555534291872,
           1,
           0.8297584389770395,
           0.7121596215061825,
           0.8214624087268805,
           0.9173479695382714,
           0.6655862828392791,
           null,
           0.7661467269924108,
           0.013245876088063458,
           0.0054044951209933495,
           0.007991372483570914,
           0.038458500560298384
          ],
          [
           -0.025367132281939625,
           -0.00021362844115318136,
           0.011810828911323687,
           -0.0065269800817866755,
           -0.00607573221652964,
           -0.006297175206356376,
           -0.02553795856222183,
           0.0010266801521621267,
           0.0003713038084577799,
           0.0003871061219125985,
           -0.005179062808064261,
           0.0016504480133186896,
           -0.004336992480059775,
           -0.0076424899307066686,
           -0.0046423463173894996,
           -0.0030082537603703615,
           -0.00255026587881538,
           -0.003572937233396727,
           -0.0007956048575608889,
           -0.0107173344926692,
           -0.0026456772664430793,
           -0.002886221675200145,
           -0.027675729951979196,
           null,
           -0.02111081205333511,
           -0.0000788446370916948,
           0.028615662585478097,
           0.05242389528146034,
           -0.03858038881721611,
           -0.0002884469513992372,
           -0.02472163029093533,
           0.0179847450534711,
           0.004777595190709022,
           -0.015228001164934625,
           0.02117862268072203,
           0.015859634581443422,
           -0.03028666343561009,
           -0.027641010816140177,
           -0.03372582105265263,
           -0.027652315018043334,
           -0.017789984527643847,
           -0.019947697900184153,
           -0.009391750425134238,
           -0.018518060732864296,
           0.0012846093524258575,
           0.020337347812907643,
           0.016696843692727975,
           0.024129801503028243,
           0.005172475265218413,
           0.021940442526643383,
           -0.01347039731646934,
           -0.018162021146805218,
           0.005172475265218413,
           -0.01987456296872152,
           -0.018218182644203426,
           0.00035022283951342023,
           0.00317387205002108,
           -0.0030730961031293926,
           -0.0030730961031293926,
           0.007644525617877167,
           null,
           null,
           0.0536259042371822,
           -0.021096827594468105,
           0.8297584389770395,
           1,
           0.5914027809583845,
           0.6818880216026789,
           0.7612531662958936,
           0.801127607289079,
           null,
           0.9306555251175733,
           0.019214766976033963,
           0.018104368973497976,
           0.021995441371777197,
           0.042655075539078484
          ],
          [
           -0.01141757310491456,
           -0.00009330085273025013,
           0.001570685146122588,
           -0.0034315836027769366,
           -0.001748690763480435,
           -0.0018644272589965073,
           -0.017132394124984643,
           0.00047489064699434715,
           0.0002781048961066212,
           0.0003292669732590733,
           -0.0012740785484421885,
           0.0006721662221160947,
           -0.003146050053701127,
           -0.0034414735928449862,
           -0.001383892264277042,
           -0.001409758344748555,
           -0.0012247414981336239,
           -0.0014598247270925246,
           -0.00047173973564328494,
           -0.004686528335751695,
           0.0006084499666059688,
           -0.0006203507490314026,
           -0.011946304702900703,
           null,
           -0.009536578386095266,
           0.0010417052872722626,
           0.010985174278014171,
           0.01686329206670113,
           -0.02304510265226165,
           -0.00883674240742997,
           -0.010460434386194106,
           -0.0011739917186815818,
           0.00029219200012729383,
           -0.006131715280871348,
           -0.001549374989872415,
           -0.001942410069819633,
           -0.018771078196476956,
           -0.014104715584466817,
           -0.019052468907790394,
           -0.014122554573607886,
           -0.010571435502167189,
           -0.0025302137112187123,
           -0.014796639876249528,
           -0.00840803513284814,
           0.0012203988752825148,
           0.0019349827007773966,
           -0.0001665476305454617,
           0.007743082668729879,
           -0.0025311718818395927,
           0.004010503041330122,
           -0.0035883326003938233,
           -0.0029112964736875044,
           -0.0025311718818395927,
           -0.006345159054350188,
           -0.004561230647926149,
           0.0011749908784414683,
           0.002017821874899482,
           -0.006105964674909207,
           -0.006105964674909207,
           0.005531871500449682,
           null,
           null,
           0.010915723313064929,
           -0.01751232990709635,
           0.7121596215061825,
           0.5914027809583845,
           1,
           0.8668629453409673,
           0.7762716875938993,
           0.47559310923095044,
           null,
           0.5358000744409516,
           0.0069121120891612415,
           -0.00030678059722707984,
           0.0006361672246638041,
           0.019263013692500944
          ],
          [
           -0.015861735853459184,
           -0.00011206031842354791,
           0.0025611545278360136,
           -0.004511260583425445,
           -0.0027026344455466935,
           -0.002824301269903462,
           -0.02232309696075144,
           0.0004927582178212024,
           0.0003852997620196349,
           0.000383386149396903,
           -0.002067023895909306,
           0.0009137812464564872,
           -0.002630174914512022,
           -0.004453217836231134,
           -0.002190472013662783,
           -0.0016178989857986168,
           -0.00167463688191105,
           -0.0020142600033937526,
           -0.0006078905713892994,
           -0.006762162854136466,
           -0.00009185756960278788,
           -0.0011217828886178594,
           -0.016857962112239038,
           null,
           -0.013315245490790039,
           0.00042336562377884464,
           0.013157153816412238,
           0.024266568399019074,
           -0.029691633383964508,
           -0.010012265380646266,
           -0.014757127458944955,
           0.0011166540385830778,
           0.0013538807737955554,
           -0.007919630017151498,
           -0.001868114246677009,
           0.0008364144272844781,
           -0.02504396832840099,
           -0.01828148758128893,
           -0.024335602682452766,
           -0.01829732925344387,
           -0.013078098836438507,
           -0.009579732886311093,
           -0.014084821843600732,
           -0.011751209225759049,
           0.0019448651827001485,
           0.005886746241288357,
           0.0011580290665241506,
           0.012964687841454041,
           -0.006652777259436476,
           0.008407001166397008,
           -0.008560282541421285,
           -0.00985194701305219,
           -0.006652777259436476,
           -0.011661747499011903,
           -0.0110543005245776,
           0.001464902091602058,
           0.002920225524359063,
           -0.006040739025897043,
           -0.006040739025897043,
           0.005334709716692009,
           null,
           null,
           0.022681508425654476,
           -0.01893535265073831,
           0.8214624087268805,
           0.6818880216026789,
           0.8668629453409673,
           1,
           0.8955454964650108,
           0.5477122448787316,
           null,
           0.6218669344324066,
           0.009710430363141481,
           -0.0007767464860156827,
           0.0008156334357503375,
           0.028992783433824908
          ],
          [
           -0.01878450640573631,
           -0.00013732040224473315,
           0.006007854534617417,
           -0.005501877372347562,
           -0.0036553706951084368,
           -0.003790279572719151,
           -0.024467120234037215,
           0.00045143433348702577,
           0.0003000775690117676,
           0.0002950361907173835,
           -0.002958707866558448,
           0.0008370556327142601,
           -0.003702145627086019,
           -0.005362833477737927,
           -0.002651680462118298,
           -0.002235890196739988,
           -0.002082613622923443,
           -0.0022763621814470497,
           -0.0007462288776118273,
           -0.007278701382796479,
           -0.0007632543658084999,
           -0.0015973667140923619,
           -0.020293775527371296,
           null,
           -0.015942245493157283,
           0.00008403647128786292,
           0.016141294477581107,
           0.031214672514778163,
           -0.032381807518230526,
           -0.007281506182341675,
           -0.017350336488163913,
           0.007607768106147228,
           0.002064569275103077,
           -0.009609884591127169,
           0.004037473798223788,
           0.006322766847443143,
           -0.028254000757410445,
           -0.020886562199513122,
           -0.027151323060321066,
           -0.020901442883479848,
           -0.014427065562780948,
           -0.014001216196590721,
           -0.013302392593137903,
           -0.01403306762549054,
           0.0014408793768565476,
           0.010157264583127053,
           0.005544836396748916,
           0.015868668632860176,
           -0.006729061652440009,
           0.012495350305560498,
           -0.012058609261295887,
           -0.014331529616213489,
           -0.006729061652440009,
           -0.01563049731961748,
           -0.015516106392065552,
           0.0010209320331259688,
           0.0025460186730709967,
           -0.005285251744672055,
           -0.005285251744672055,
           0.0053816863167886605,
           null,
           null,
           0.03131522895831904,
           -0.019582853266128252,
           0.9173479695382714,
           0.7612531662958936,
           0.7762716875938993,
           0.8955454964650108,
           1,
           0.6109609782544436,
           null,
           0.699515380613066,
           0.011560035344544393,
           0.0018593030160021016,
           0.004124938785130399,
           0.03485218958213935
          ],
          [
           -0.03569276761356438,
           -0.0003288782001628943,
           0.017380645495324767,
           -0.008011467211639343,
           -0.010416245822679053,
           -0.010525562838948632,
           -0.022742455652165035,
           0.0013772425844319753,
           0.0004829755918941861,
           0.00045229983910753517,
           -0.009034731976148451,
           0.003813561730929757,
           -0.00513890501950202,
           -0.012854107360422475,
           -0.008194274570360524,
           -0.004849391736321101,
           -0.0033232759339477938,
           -0.004450998686716513,
           -0.0012262705579502797,
           -0.01679097978955233,
           -0.005435447493262807,
           -0.002388134453268752,
           -0.039633671563847166,
           null,
           -0.029471155827028604,
           0.002003153207168728,
           0.0823515387526565,
           0.09991951348174738,
           -0.058521674180272376,
           0.0015308620423317358,
           -0.03764114441537411,
           0.02729585847054525,
           0.008424628972814145,
           -0.025686982624965063,
           0.03561390589612959,
           0.02602233178850147,
           -0.023246201510250055,
           -0.04148011435281546,
           -0.050022364695583035,
           -0.04149117003337114,
           -0.025232651355690805,
           -0.038453957676128796,
           -0.018060690137193493,
           -0.02691383497047195,
           0.0018018067792178218,
           0.039488381003784684,
           0.03815498266543736,
           0.038045661798390015,
           0.031854348028150944,
           0.040069261657604015,
           0.012637493247446278,
           0.006638239528425921,
           0.031854348028150944,
           0.0032267615266059627,
           0.007147566120291185,
           0.000631608546781545,
           0.003441400345361242,
           -0.0054288556342151715,
           -0.0054288556342151715,
           0.01659065309884354,
           null,
           null,
           0.04286327903568706,
           -0.0532873305361574,
           0.6655862828392791,
           0.801127607289079,
           0.47559310923095044,
           0.5477122448787316,
           0.6109609782544436,
           1,
           null,
           0.8573250191823546,
           0.032194080794997366,
           0.033590464423743964,
           0.04033234211343096,
           0.0497497841608393
          ],
          [
           null,
           null,
           null,
           null,
           null,
           null,
           null,
           null,
           null,
           null,
           null,
           null,
           null,
           null,
           null,
           null,
           null,
           null,
           null,
           null,
           null,
           null,
           null,
           null,
           null,
           null,
           null,
           null,
           null,
           null,
           null,
           null,
           null,
           null,
           null,
           null,
           null,
           null,
           null,
           null,
           null,
           null,
           null,
           null,
           null,
           null,
           null,
           null,
           null,
           null,
           null,
           null,
           null,
           null,
           null,
           null,
           null,
           null,
           null,
           null,
           null,
           null,
           null,
           null,
           null,
           null,
           null,
           null,
           null,
           null,
           null,
           null,
           null,
           null,
           null,
           null
          ],
          [
           -0.029223501876246026,
           -0.0002322009832594364,
           0.013062169941108703,
           -0.006866502920350812,
           -0.006806568442479473,
           -0.0070149008826531165,
           -0.025744248736429175,
           0.0011050358152341702,
           0.0003981727922255346,
           0.0004101514110466251,
           -0.005486912966780051,
           0.0020747014148151063,
           -0.004352546447846204,
           -0.008603257946512104,
           -0.005073979506193792,
           -0.0034760513918424014,
           -0.002689420024857218,
           -0.0033805182231398476,
           -0.0009051487602099826,
           -0.010931375105800821,
           -0.003087067441567144,
           -0.0031748091973763707,
           -0.032374229980838866,
           null,
           -0.024439877664272486,
           0.000026450284182688408,
           0.03595264783187454,
           0.0632714960015598,
           -0.04688873847021664,
           -0.0008562237385605827,
           -0.0301556816906322,
           0.020006931542443922,
           0.0053286251091400946,
           -0.01881668261612597,
           0.02566720025337838,
           0.017860374004697088,
           -0.03070279372279877,
           -0.03283583012455855,
           -0.04004565821194241,
           -0.03284075376221999,
           -0.020852882512545617,
           -0.02650931810746785,
           -0.009177073507151311,
           -0.02176879661268301,
           0.0015605073958398909,
           0.025850041129752477,
           0.02294412390519071,
           0.027939438283625755,
           0.011944603202498747,
           0.0269183601102535,
           -0.009950459928466661,
           -0.015003393238218771,
           0.011944603202498747,
           -0.01648773446955845,
           -0.014211643092979804,
           0.00030263120951362876,
           0.00298492038108366,
           -0.0026841956990856044,
           -0.0026841956990856044,
           0.00834480105002753,
           null,
           null,
           0.055559418434220555,
           -0.02675907258601787,
           0.7661467269924108,
           0.9306555251175733,
           0.5358000744409516,
           0.6218669344324066,
           0.699515380613066,
           0.8573250191823546,
           null,
           1,
           0.018225306808252528,
           0.020242317255886867,
           0.023724208343831238,
           0.044893788005877885
          ],
          [
           0.09658029136398665,
           -0.002085440518297603,
           -0.04666047640403972,
           -0.01891693316996032,
           -0.07197531868266271,
           -0.07100778785587065,
           0.099798229891244,
           -0.00788144110165332,
           -0.008096311958257588,
           -0.007911574007565071,
           -0.07061486216532153,
           -0.003675440549667887,
           -0.01944234902968003,
           -0.10453456006093816,
           -0.06899964887576289,
           -0.03871349048564051,
           -0.011794149201328688,
           -0.033298266440405636,
           -0.00961257259851841,
           -0.21128593673949586,
           -0.03325649122092632,
           0.0013506100052037746,
           0.0835697678259094,
           null,
           0.048272598407899395,
           -0.005067657174878235,
           0.1884719515110425,
           0.15313848980388456,
           0.13096755059399734,
           0.07573988663220008,
           0.03663068340972458,
           -0.05295546462713236,
           0.049675676951037404,
           0.024387738523339742,
           -0.07476448506552348,
           0.0025801719343606505,
           0.16855489680684055,
           0.0035085968395202373,
           0.08909321241596084,
           0.0035188530514041845,
           -0.0635819232723342,
           0.0652205486685807,
           0.16651963763958919,
           -0.017481473735160395,
           -0.009989908067411797,
           -0.07150660185100814,
           -0.06404121100022084,
           -0.04090764145330916,
           -0.04094619995947021,
           -0.06710250951567269,
           0.001598732544938316,
           0.007162802523152984,
           -0.04094619995947021,
           0.008469791050246329,
           0.021337089213471157,
           -0.007101828576178128,
           -0.008732180090295355,
           -0.012857290794408621,
           -0.012857290794408621,
           -0.020375041053060892,
           null,
           null,
           0.028423417210863687,
           0.07964363060776733,
           0.013245876088063458,
           0.019214766976033963,
           0.0069121120891612415,
           0.009710430363141481,
           0.011560035344544393,
           0.032194080794997366,
           null,
           0.018225306808252528,
           1,
           0.13857401496021726,
           0.17576825621778633,
           0.0045093549328857835
          ],
          [
           0.09052110854337893,
           -0.000520862795392635,
           0.03422316355094742,
           0.004974907748700221,
           -0.03335555867724858,
           -0.037299470029290654,
           0.11497066889125097,
           0.009330462622152508,
           0.00814451363397387,
           0.0084465385240724,
           -0.02054172374530623,
           0.01481110633727618,
           -0.024635004386282987,
           -0.018411590373908698,
           -0.02152821121465831,
           -0.007665945621601758,
           -0.0012076449563809446,
           -0.01353533752894576,
           0.004741422357712007,
           -0.0002747169486217826,
           -0.016133136423460682,
           0.021829499067259797,
           0.06687828118963157,
           null,
           0.0660548822514154,
           0.004532263994739817,
           0.0312831386683903,
           0.06306546936770867,
           0.08382611859265142,
           0.007801374296073139,
           0.09002313672405446,
           0.04064390959305234,
           0.0314857500936495,
           0.0355925875832294,
           0.05593258815714252,
           0.025010486266949985,
           0.11953413290121111,
           0.044259681883318,
           0.0473845788618311,
           0.044259062488707535,
           0.02971997713732652,
           0.050908276115550086,
           0.12319662500332391,
           0.00046674082673908967,
           0.00008399696560953005,
           -0.06569771288732958,
           -0.07217305422180961,
           -0.0035886596975915302,
           -0.041166103631383,
           -0.05695858688503783,
           0.07832600444273366,
           0.07097510875479417,
           -0.041166103631383,
           0.035814943600144235,
           0.08110635516996492,
           0.004659992446288199,
           0.014604591434495207,
           0.0470016827224359,
           0.0470016827224359,
           0.03285197364227292,
           null,
           null,
           0.08406544241748108,
           0.11388571788841088,
           0.0054044951209933495,
           0.018104368973497976,
           -0.00030678059722707984,
           -0.0007767464860156827,
           0.0018593030160021016,
           0.033590464423743964,
           null,
           0.020242317255886867,
           0.13857401496021726,
           1,
           0.8372576415127996,
           0.004532463489639866
          ],
          [
           0.08981853605731653,
           -0.0007954649399274788,
           0.03517213225584895,
           -0.0039348257416321674,
           -0.02557833359324407,
           -0.026903757216005995,
           0.11272794748702379,
           0.00998029123913249,
           0.008700851272740668,
           0.009009493331026403,
           -0.01924309217607386,
           0.015478727206357618,
           -0.028335889762663546,
           -0.025370166590486413,
           -0.023290126381763566,
           -0.008835416341293244,
           -0.005190295284856311,
           -0.01291720847544021,
           0.003848887030377884,
           -0.000918416400214084,
           -0.012201207275987025,
           0.02390970698363992,
           0.07736529849721344,
           null,
           0.07770521687252295,
           0.0064915472155059484,
           0.02458458650508967,
           0.06038657788136044,
           0.07428055687372165,
           0.002585363636333816,
           0.10446012243959057,
           0.036920793639942454,
           0.04350774393985325,
           0.03958030417039837,
           0.044584648366800955,
           0.029014700151345503,
           0.12157667889640894,
           0.03674711558845573,
           0.038525419651549576,
           0.03675066709072763,
           0.018679489591627147,
           0.044795367632435544,
           0.12554754478144328,
           0.007368462946675865,
           -0.0039896846981805085,
           -0.09522250905366315,
           -0.10845622029894256,
           -0.022250302508796827,
           -0.06307686015719428,
           -0.0811379847496919,
           0.04995213167188562,
           0.045887503211562104,
           -0.06307686015719428,
           0.044834501149406535,
           0.09618691735319392,
           0.004334011711973291,
           0.022815733070208837,
           -0.007622738677075733,
           -0.007622738677075733,
           0.062199423204004525,
           null,
           null,
           0.09085158741544995,
           0.11576710857155316,
           0.007991372483570914,
           0.021995441371777197,
           0.0006361672246638041,
           0.0008156334357503375,
           0.004124938785130399,
           0.04033234211343096,
           null,
           0.023724208343831238,
           0.17576825621778633,
           0.8372576415127996,
           1,
           0.002162711965740343
          ],
          [
           0.014238802381944565,
           0.0005577848662364589,
           0.0410436919007471,
           -0.001485678438634382,
           0.0038048967789401475,
           0.003773364315914042,
           0.008703838592288259,
           0.004819715784064873,
           0.003214477487335169,
           0.0037947916249398777,
           0.007019853489152866,
           0.004229821902571792,
           0.003963336641084762,
           0.01007218812382414,
           0.004561918284806828,
           0.005005993766285827,
           -0.0005117987628838823,
           0.006619326769694433,
           0.002100471845032772,
           0.012582098184047727,
           0.005634432038058633,
           -0.0007122506279921114,
           0.02673903358570116,
           null,
           0.02829772244359665,
           0.0053481345872854105,
           -0.010434456672840858,
           0.05915760722156615,
           0.0068765275390272355,
           0.013504191854579796,
           -0.005067192980592532,
           0.053182651175652775,
           0.017964701243543015,
           -0.006423981460882847,
           0.06412262886395174,
           0.04901380789328163,
           0.006737127967308005,
           0.02214942417832761,
           0.006751674840446869,
           0.022130539784560657,
           0.017693579919149695,
           0.018951685281435343,
           -0.019371451325181418,
           0.03457312180566582,
           0.005822990021825946,
           0.07394508758790283,
           0.0733055871141106,
           0.06243588592850879,
           0.06444648491701134,
           0.07231994925461545,
           0.036910842739799755,
           0.03059594514184825,
           0.06444648491701134,
           0.029321893549509637,
           0.02492706648306266,
           0.006071593669886353,
           0.00929188782319278,
           0.023227176768430585,
           0.023227176768430585,
           0.02729522750451697,
           null,
           null,
           0.01348601292674311,
           -0.025407526346221954,
           0.038458500560298384,
           0.042655075539078484,
           0.019263013692500944,
           0.028992783433824908,
           0.03485218958213935,
           0.0497497841608393,
           null,
           0.044893788005877885,
           0.0045093549328857835,
           0.004532463489639866,
           0.002162711965740343,
           1
          ]
         ]
        }
       ],
       "layout": {
        "coloraxis": {
         "colorscale": [
          [
           0,
           "#0d0887"
          ],
          [
           0.1111111111111111,
           "#46039f"
          ],
          [
           0.2222222222222222,
           "#7201a8"
          ],
          [
           0.3333333333333333,
           "#9c179e"
          ],
          [
           0.4444444444444444,
           "#bd3786"
          ],
          [
           0.5555555555555556,
           "#d8576b"
          ],
          [
           0.6666666666666666,
           "#ed7953"
          ],
          [
           0.7777777777777778,
           "#fb9f3a"
          ],
          [
           0.8888888888888888,
           "#fdca26"
          ],
          [
           1,
           "#f0f921"
          ]
         ]
        },
        "height": 1000,
        "margin": {
         "t": 60
        },
        "template": {
         "data": {
          "bar": [
           {
            "error_x": {
             "color": "#2a3f5f"
            },
            "error_y": {
             "color": "#2a3f5f"
            },
            "marker": {
             "line": {
              "color": "#E5ECF6",
              "width": 0.5
             },
             "pattern": {
              "fillmode": "overlay",
              "size": 10,
              "solidity": 0.2
             }
            },
            "type": "bar"
           }
          ],
          "barpolar": [
           {
            "marker": {
             "line": {
              "color": "#E5ECF6",
              "width": 0.5
             },
             "pattern": {
              "fillmode": "overlay",
              "size": 10,
              "solidity": 0.2
             }
            },
            "type": "barpolar"
           }
          ],
          "carpet": [
           {
            "aaxis": {
             "endlinecolor": "#2a3f5f",
             "gridcolor": "white",
             "linecolor": "white",
             "minorgridcolor": "white",
             "startlinecolor": "#2a3f5f"
            },
            "baxis": {
             "endlinecolor": "#2a3f5f",
             "gridcolor": "white",
             "linecolor": "white",
             "minorgridcolor": "white",
             "startlinecolor": "#2a3f5f"
            },
            "type": "carpet"
           }
          ],
          "choropleth": [
           {
            "colorbar": {
             "outlinewidth": 0,
             "ticks": ""
            },
            "type": "choropleth"
           }
          ],
          "contour": [
           {
            "colorbar": {
             "outlinewidth": 0,
             "ticks": ""
            },
            "colorscale": [
             [
              0,
              "#0d0887"
             ],
             [
              0.1111111111111111,
              "#46039f"
             ],
             [
              0.2222222222222222,
              "#7201a8"
             ],
             [
              0.3333333333333333,
              "#9c179e"
             ],
             [
              0.4444444444444444,
              "#bd3786"
             ],
             [
              0.5555555555555556,
              "#d8576b"
             ],
             [
              0.6666666666666666,
              "#ed7953"
             ],
             [
              0.7777777777777778,
              "#fb9f3a"
             ],
             [
              0.8888888888888888,
              "#fdca26"
             ],
             [
              1,
              "#f0f921"
             ]
            ],
            "type": "contour"
           }
          ],
          "contourcarpet": [
           {
            "colorbar": {
             "outlinewidth": 0,
             "ticks": ""
            },
            "type": "contourcarpet"
           }
          ],
          "heatmap": [
           {
            "colorbar": {
             "outlinewidth": 0,
             "ticks": ""
            },
            "colorscale": [
             [
              0,
              "#0d0887"
             ],
             [
              0.1111111111111111,
              "#46039f"
             ],
             [
              0.2222222222222222,
              "#7201a8"
             ],
             [
              0.3333333333333333,
              "#9c179e"
             ],
             [
              0.4444444444444444,
              "#bd3786"
             ],
             [
              0.5555555555555556,
              "#d8576b"
             ],
             [
              0.6666666666666666,
              "#ed7953"
             ],
             [
              0.7777777777777778,
              "#fb9f3a"
             ],
             [
              0.8888888888888888,
              "#fdca26"
             ],
             [
              1,
              "#f0f921"
             ]
            ],
            "type": "heatmap"
           }
          ],
          "heatmapgl": [
           {
            "colorbar": {
             "outlinewidth": 0,
             "ticks": ""
            },
            "colorscale": [
             [
              0,
              "#0d0887"
             ],
             [
              0.1111111111111111,
              "#46039f"
             ],
             [
              0.2222222222222222,
              "#7201a8"
             ],
             [
              0.3333333333333333,
              "#9c179e"
             ],
             [
              0.4444444444444444,
              "#bd3786"
             ],
             [
              0.5555555555555556,
              "#d8576b"
             ],
             [
              0.6666666666666666,
              "#ed7953"
             ],
             [
              0.7777777777777778,
              "#fb9f3a"
             ],
             [
              0.8888888888888888,
              "#fdca26"
             ],
             [
              1,
              "#f0f921"
             ]
            ],
            "type": "heatmapgl"
           }
          ],
          "histogram": [
           {
            "marker": {
             "pattern": {
              "fillmode": "overlay",
              "size": 10,
              "solidity": 0.2
             }
            },
            "type": "histogram"
           }
          ],
          "histogram2d": [
           {
            "colorbar": {
             "outlinewidth": 0,
             "ticks": ""
            },
            "colorscale": [
             [
              0,
              "#0d0887"
             ],
             [
              0.1111111111111111,
              "#46039f"
             ],
             [
              0.2222222222222222,
              "#7201a8"
             ],
             [
              0.3333333333333333,
              "#9c179e"
             ],
             [
              0.4444444444444444,
              "#bd3786"
             ],
             [
              0.5555555555555556,
              "#d8576b"
             ],
             [
              0.6666666666666666,
              "#ed7953"
             ],
             [
              0.7777777777777778,
              "#fb9f3a"
             ],
             [
              0.8888888888888888,
              "#fdca26"
             ],
             [
              1,
              "#f0f921"
             ]
            ],
            "type": "histogram2d"
           }
          ],
          "histogram2dcontour": [
           {
            "colorbar": {
             "outlinewidth": 0,
             "ticks": ""
            },
            "colorscale": [
             [
              0,
              "#0d0887"
             ],
             [
              0.1111111111111111,
              "#46039f"
             ],
             [
              0.2222222222222222,
              "#7201a8"
             ],
             [
              0.3333333333333333,
              "#9c179e"
             ],
             [
              0.4444444444444444,
              "#bd3786"
             ],
             [
              0.5555555555555556,
              "#d8576b"
             ],
             [
              0.6666666666666666,
              "#ed7953"
             ],
             [
              0.7777777777777778,
              "#fb9f3a"
             ],
             [
              0.8888888888888888,
              "#fdca26"
             ],
             [
              1,
              "#f0f921"
             ]
            ],
            "type": "histogram2dcontour"
           }
          ],
          "mesh3d": [
           {
            "colorbar": {
             "outlinewidth": 0,
             "ticks": ""
            },
            "type": "mesh3d"
           }
          ],
          "parcoords": [
           {
            "line": {
             "colorbar": {
              "outlinewidth": 0,
              "ticks": ""
             }
            },
            "type": "parcoords"
           }
          ],
          "pie": [
           {
            "automargin": true,
            "type": "pie"
           }
          ],
          "scatter": [
           {
            "fillpattern": {
             "fillmode": "overlay",
             "size": 10,
             "solidity": 0.2
            },
            "type": "scatter"
           }
          ],
          "scatter3d": [
           {
            "line": {
             "colorbar": {
              "outlinewidth": 0,
              "ticks": ""
             }
            },
            "marker": {
             "colorbar": {
              "outlinewidth": 0,
              "ticks": ""
             }
            },
            "type": "scatter3d"
           }
          ],
          "scattercarpet": [
           {
            "marker": {
             "colorbar": {
              "outlinewidth": 0,
              "ticks": ""
             }
            },
            "type": "scattercarpet"
           }
          ],
          "scattergeo": [
           {
            "marker": {
             "colorbar": {
              "outlinewidth": 0,
              "ticks": ""
             }
            },
            "type": "scattergeo"
           }
          ],
          "scattergl": [
           {
            "marker": {
             "colorbar": {
              "outlinewidth": 0,
              "ticks": ""
             }
            },
            "type": "scattergl"
           }
          ],
          "scattermapbox": [
           {
            "marker": {
             "colorbar": {
              "outlinewidth": 0,
              "ticks": ""
             }
            },
            "type": "scattermapbox"
           }
          ],
          "scatterpolar": [
           {
            "marker": {
             "colorbar": {
              "outlinewidth": 0,
              "ticks": ""
             }
            },
            "type": "scatterpolar"
           }
          ],
          "scatterpolargl": [
           {
            "marker": {
             "colorbar": {
              "outlinewidth": 0,
              "ticks": ""
             }
            },
            "type": "scatterpolargl"
           }
          ],
          "scatterternary": [
           {
            "marker": {
             "colorbar": {
              "outlinewidth": 0,
              "ticks": ""
             }
            },
            "type": "scatterternary"
           }
          ],
          "surface": [
           {
            "colorbar": {
             "outlinewidth": 0,
             "ticks": ""
            },
            "colorscale": [
             [
              0,
              "#0d0887"
             ],
             [
              0.1111111111111111,
              "#46039f"
             ],
             [
              0.2222222222222222,
              "#7201a8"
             ],
             [
              0.3333333333333333,
              "#9c179e"
             ],
             [
              0.4444444444444444,
              "#bd3786"
             ],
             [
              0.5555555555555556,
              "#d8576b"
             ],
             [
              0.6666666666666666,
              "#ed7953"
             ],
             [
              0.7777777777777778,
              "#fb9f3a"
             ],
             [
              0.8888888888888888,
              "#fdca26"
             ],
             [
              1,
              "#f0f921"
             ]
            ],
            "type": "surface"
           }
          ],
          "table": [
           {
            "cells": {
             "fill": {
              "color": "#EBF0F8"
             },
             "line": {
              "color": "white"
             }
            },
            "header": {
             "fill": {
              "color": "#C8D4E3"
             },
             "line": {
              "color": "white"
             }
            },
            "type": "table"
           }
          ]
         },
         "layout": {
          "annotationdefaults": {
           "arrowcolor": "#2a3f5f",
           "arrowhead": 0,
           "arrowwidth": 1
          },
          "autotypenumbers": "strict",
          "coloraxis": {
           "colorbar": {
            "outlinewidth": 0,
            "ticks": ""
           }
          },
          "colorscale": {
           "diverging": [
            [
             0,
             "#8e0152"
            ],
            [
             0.1,
             "#c51b7d"
            ],
            [
             0.2,
             "#de77ae"
            ],
            [
             0.3,
             "#f1b6da"
            ],
            [
             0.4,
             "#fde0ef"
            ],
            [
             0.5,
             "#f7f7f7"
            ],
            [
             0.6,
             "#e6f5d0"
            ],
            [
             0.7,
             "#b8e186"
            ],
            [
             0.8,
             "#7fbc41"
            ],
            [
             0.9,
             "#4d9221"
            ],
            [
             1,
             "#276419"
            ]
           ],
           "sequential": [
            [
             0,
             "#0d0887"
            ],
            [
             0.1111111111111111,
             "#46039f"
            ],
            [
             0.2222222222222222,
             "#7201a8"
            ],
            [
             0.3333333333333333,
             "#9c179e"
            ],
            [
             0.4444444444444444,
             "#bd3786"
            ],
            [
             0.5555555555555556,
             "#d8576b"
            ],
            [
             0.6666666666666666,
             "#ed7953"
            ],
            [
             0.7777777777777778,
             "#fb9f3a"
            ],
            [
             0.8888888888888888,
             "#fdca26"
            ],
            [
             1,
             "#f0f921"
            ]
           ],
           "sequentialminus": [
            [
             0,
             "#0d0887"
            ],
            [
             0.1111111111111111,
             "#46039f"
            ],
            [
             0.2222222222222222,
             "#7201a8"
            ],
            [
             0.3333333333333333,
             "#9c179e"
            ],
            [
             0.4444444444444444,
             "#bd3786"
            ],
            [
             0.5555555555555556,
             "#d8576b"
            ],
            [
             0.6666666666666666,
             "#ed7953"
            ],
            [
             0.7777777777777778,
             "#fb9f3a"
            ],
            [
             0.8888888888888888,
             "#fdca26"
            ],
            [
             1,
             "#f0f921"
            ]
           ]
          },
          "colorway": [
           "#636efa",
           "#EF553B",
           "#00cc96",
           "#ab63fa",
           "#FFA15A",
           "#19d3f3",
           "#FF6692",
           "#B6E880",
           "#FF97FF",
           "#FECB52"
          ],
          "font": {
           "color": "#2a3f5f"
          },
          "geo": {
           "bgcolor": "white",
           "lakecolor": "white",
           "landcolor": "#E5ECF6",
           "showlakes": true,
           "showland": true,
           "subunitcolor": "white"
          },
          "hoverlabel": {
           "align": "left"
          },
          "hovermode": "closest",
          "mapbox": {
           "style": "light"
          },
          "paper_bgcolor": "white",
          "plot_bgcolor": "#E5ECF6",
          "polar": {
           "angularaxis": {
            "gridcolor": "white",
            "linecolor": "white",
            "ticks": ""
           },
           "bgcolor": "#E5ECF6",
           "radialaxis": {
            "gridcolor": "white",
            "linecolor": "white",
            "ticks": ""
           }
          },
          "scene": {
           "xaxis": {
            "backgroundcolor": "#E5ECF6",
            "gridcolor": "white",
            "gridwidth": 2,
            "linecolor": "white",
            "showbackground": true,
            "ticks": "",
            "zerolinecolor": "white"
           },
           "yaxis": {
            "backgroundcolor": "#E5ECF6",
            "gridcolor": "white",
            "gridwidth": 2,
            "linecolor": "white",
            "showbackground": true,
            "ticks": "",
            "zerolinecolor": "white"
           },
           "zaxis": {
            "backgroundcolor": "#E5ECF6",
            "gridcolor": "white",
            "gridwidth": 2,
            "linecolor": "white",
            "showbackground": true,
            "ticks": "",
            "zerolinecolor": "white"
           }
          },
          "shapedefaults": {
           "line": {
            "color": "#2a3f5f"
           }
          },
          "ternary": {
           "aaxis": {
            "gridcolor": "white",
            "linecolor": "white",
            "ticks": ""
           },
           "baxis": {
            "gridcolor": "white",
            "linecolor": "white",
            "ticks": ""
           },
           "bgcolor": "#E5ECF6",
           "caxis": {
            "gridcolor": "white",
            "linecolor": "white",
            "ticks": ""
           }
          },
          "title": {
           "x": 0.05
          },
          "xaxis": {
           "automargin": true,
           "gridcolor": "white",
           "linecolor": "white",
           "ticks": "",
           "title": {
            "standoff": 15
           },
           "zerolinecolor": "white",
           "zerolinewidth": 2
          },
          "yaxis": {
           "automargin": true,
           "gridcolor": "white",
           "linecolor": "white",
           "ticks": "",
           "title": {
            "standoff": 15
           },
           "zerolinecolor": "white",
           "zerolinewidth": 2
          }
         }
        },
        "xaxis": {
         "anchor": "y",
         "constrain": "domain",
         "domain": [
          0,
          1
         ],
         "scaleanchor": "y"
        },
        "yaxis": {
         "anchor": "x",
         "autorange": "reversed",
         "constrain": "domain",
         "domain": [
          0,
          1
         ]
        }
       }
      }
     },
     "metadata": {},
     "output_type": "display_data"
    }
   ],
   "source": [
    "numerics_75_corr = numerics_75.corr()\n",
    "\n",
    "fig_3 = px.imshow(numerics_75_corr)\n",
    "\n",
    "fig_3.update_layout(height=1000)\n",
    "fig_3.show()"
   ]
  },
  {
   "cell_type": "code",
   "execution_count": 11,
   "metadata": {},
   "outputs": [
    {
     "data": {
      "text/html": [
       "<div>\n",
       "<style scoped>\n",
       "    .dataframe tbody tr th:only-of-type {\n",
       "        vertical-align: middle;\n",
       "    }\n",
       "\n",
       "    .dataframe tbody tr th {\n",
       "        vertical-align: top;\n",
       "    }\n",
       "\n",
       "    .dataframe thead th {\n",
       "        text-align: right;\n",
       "    }\n",
       "</style>\n",
       "<table border=\"1\" class=\"dataframe\">\n",
       "  <thead>\n",
       "    <tr style=\"text-align: right;\">\n",
       "      <th></th>\n",
       "      <th>annuity_780A</th>\n",
       "      <th>applicationcnt_361L</th>\n",
       "      <th>applications30d_658L</th>\n",
       "      <th>applicationscnt_1086L</th>\n",
       "      <th>applicationscnt_464L</th>\n",
       "      <th>applicationscnt_629L</th>\n",
       "      <th>applicationscnt_867L</th>\n",
       "      <th>clientscnt12m_3712952L</th>\n",
       "      <th>clientscnt3m_3712950L</th>\n",
       "      <th>clientscnt6m_3712949L</th>\n",
       "      <th>...</th>\n",
       "      <th>maxdpdlast3m_392P</th>\n",
       "      <th>maxdpdlast6m_474P</th>\n",
       "      <th>maxdpdlast9m_1059P</th>\n",
       "      <th>maxdpdtolerance_374P</th>\n",
       "      <th>commnoinclast6m_3546845L</th>\n",
       "      <th>maxdpdfrom6mto36m_3546853P</th>\n",
       "      <th>case_id</th>\n",
       "      <th>MONTH</th>\n",
       "      <th>WEEK_NUM</th>\n",
       "      <th>target</th>\n",
       "    </tr>\n",
       "  </thead>\n",
       "  <tbody>\n",
       "    <tr>\n",
       "      <th>annuity_780A</th>\n",
       "      <td>1.0000</td>\n",
       "      <td>NaN</td>\n",
       "      <td>NaN</td>\n",
       "      <td>NaN</td>\n",
       "      <td>NaN</td>\n",
       "      <td>NaN</td>\n",
       "      <td>NaN</td>\n",
       "      <td>NaN</td>\n",
       "      <td>NaN</td>\n",
       "      <td>NaN</td>\n",
       "      <td>...</td>\n",
       "      <td>NaN</td>\n",
       "      <td>NaN</td>\n",
       "      <td>NaN</td>\n",
       "      <td>NaN</td>\n",
       "      <td>NaN</td>\n",
       "      <td>NaN</td>\n",
       "      <td>NaN</td>\n",
       "      <td>NaN</td>\n",
       "      <td>NaN</td>\n",
       "      <td>NaN</td>\n",
       "    </tr>\n",
       "    <tr>\n",
       "      <th>applicationcnt_361L</th>\n",
       "      <td>NaN</td>\n",
       "      <td>1.0000</td>\n",
       "      <td>NaN</td>\n",
       "      <td>NaN</td>\n",
       "      <td>NaN</td>\n",
       "      <td>NaN</td>\n",
       "      <td>NaN</td>\n",
       "      <td>NaN</td>\n",
       "      <td>NaN</td>\n",
       "      <td>NaN</td>\n",
       "      <td>...</td>\n",
       "      <td>NaN</td>\n",
       "      <td>NaN</td>\n",
       "      <td>NaN</td>\n",
       "      <td>NaN</td>\n",
       "      <td>NaN</td>\n",
       "      <td>NaN</td>\n",
       "      <td>NaN</td>\n",
       "      <td>NaN</td>\n",
       "      <td>NaN</td>\n",
       "      <td>NaN</td>\n",
       "    </tr>\n",
       "    <tr>\n",
       "      <th>applications30d_658L</th>\n",
       "      <td>NaN</td>\n",
       "      <td>NaN</td>\n",
       "      <td>1.0000</td>\n",
       "      <td>NaN</td>\n",
       "      <td>NaN</td>\n",
       "      <td>NaN</td>\n",
       "      <td>NaN</td>\n",
       "      <td>NaN</td>\n",
       "      <td>NaN</td>\n",
       "      <td>NaN</td>\n",
       "      <td>...</td>\n",
       "      <td>NaN</td>\n",
       "      <td>NaN</td>\n",
       "      <td>NaN</td>\n",
       "      <td>NaN</td>\n",
       "      <td>NaN</td>\n",
       "      <td>NaN</td>\n",
       "      <td>NaN</td>\n",
       "      <td>NaN</td>\n",
       "      <td>NaN</td>\n",
       "      <td>NaN</td>\n",
       "    </tr>\n",
       "    <tr>\n",
       "      <th>applicationscnt_1086L</th>\n",
       "      <td>NaN</td>\n",
       "      <td>NaN</td>\n",
       "      <td>NaN</td>\n",
       "      <td>1.0000</td>\n",
       "      <td>NaN</td>\n",
       "      <td>NaN</td>\n",
       "      <td>NaN</td>\n",
       "      <td>NaN</td>\n",
       "      <td>NaN</td>\n",
       "      <td>NaN</td>\n",
       "      <td>...</td>\n",
       "      <td>NaN</td>\n",
       "      <td>NaN</td>\n",
       "      <td>NaN</td>\n",
       "      <td>NaN</td>\n",
       "      <td>NaN</td>\n",
       "      <td>NaN</td>\n",
       "      <td>NaN</td>\n",
       "      <td>NaN</td>\n",
       "      <td>NaN</td>\n",
       "      <td>NaN</td>\n",
       "    </tr>\n",
       "    <tr>\n",
       "      <th>applicationscnt_464L</th>\n",
       "      <td>NaN</td>\n",
       "      <td>NaN</td>\n",
       "      <td>NaN</td>\n",
       "      <td>NaN</td>\n",
       "      <td>1.0000</td>\n",
       "      <td>0.9666</td>\n",
       "      <td>NaN</td>\n",
       "      <td>NaN</td>\n",
       "      <td>NaN</td>\n",
       "      <td>NaN</td>\n",
       "      <td>...</td>\n",
       "      <td>NaN</td>\n",
       "      <td>NaN</td>\n",
       "      <td>NaN</td>\n",
       "      <td>NaN</td>\n",
       "      <td>NaN</td>\n",
       "      <td>NaN</td>\n",
       "      <td>NaN</td>\n",
       "      <td>NaN</td>\n",
       "      <td>NaN</td>\n",
       "      <td>NaN</td>\n",
       "    </tr>\n",
       "    <tr>\n",
       "      <th>...</th>\n",
       "      <td>...</td>\n",
       "      <td>...</td>\n",
       "      <td>...</td>\n",
       "      <td>...</td>\n",
       "      <td>...</td>\n",
       "      <td>...</td>\n",
       "      <td>...</td>\n",
       "      <td>...</td>\n",
       "      <td>...</td>\n",
       "      <td>...</td>\n",
       "      <td>...</td>\n",
       "      <td>...</td>\n",
       "      <td>...</td>\n",
       "      <td>...</td>\n",
       "      <td>...</td>\n",
       "      <td>...</td>\n",
       "      <td>...</td>\n",
       "      <td>...</td>\n",
       "      <td>...</td>\n",
       "      <td>...</td>\n",
       "      <td>...</td>\n",
       "    </tr>\n",
       "    <tr>\n",
       "      <th>maxdpdfrom6mto36m_3546853P</th>\n",
       "      <td>NaN</td>\n",
       "      <td>NaN</td>\n",
       "      <td>NaN</td>\n",
       "      <td>NaN</td>\n",
       "      <td>NaN</td>\n",
       "      <td>NaN</td>\n",
       "      <td>NaN</td>\n",
       "      <td>NaN</td>\n",
       "      <td>NaN</td>\n",
       "      <td>NaN</td>\n",
       "      <td>...</td>\n",
       "      <td>0.5358</td>\n",
       "      <td>0.6219</td>\n",
       "      <td>0.6995</td>\n",
       "      <td>0.8573</td>\n",
       "      <td>NaN</td>\n",
       "      <td>1.0000</td>\n",
       "      <td>NaN</td>\n",
       "      <td>NaN</td>\n",
       "      <td>NaN</td>\n",
       "      <td>NaN</td>\n",
       "    </tr>\n",
       "    <tr>\n",
       "      <th>case_id</th>\n",
       "      <td>NaN</td>\n",
       "      <td>NaN</td>\n",
       "      <td>NaN</td>\n",
       "      <td>NaN</td>\n",
       "      <td>NaN</td>\n",
       "      <td>NaN</td>\n",
       "      <td>NaN</td>\n",
       "      <td>NaN</td>\n",
       "      <td>NaN</td>\n",
       "      <td>NaN</td>\n",
       "      <td>...</td>\n",
       "      <td>NaN</td>\n",
       "      <td>NaN</td>\n",
       "      <td>NaN</td>\n",
       "      <td>NaN</td>\n",
       "      <td>NaN</td>\n",
       "      <td>NaN</td>\n",
       "      <td>1.0000</td>\n",
       "      <td>NaN</td>\n",
       "      <td>NaN</td>\n",
       "      <td>NaN</td>\n",
       "    </tr>\n",
       "    <tr>\n",
       "      <th>MONTH</th>\n",
       "      <td>NaN</td>\n",
       "      <td>NaN</td>\n",
       "      <td>NaN</td>\n",
       "      <td>NaN</td>\n",
       "      <td>NaN</td>\n",
       "      <td>NaN</td>\n",
       "      <td>NaN</td>\n",
       "      <td>NaN</td>\n",
       "      <td>NaN</td>\n",
       "      <td>NaN</td>\n",
       "      <td>...</td>\n",
       "      <td>NaN</td>\n",
       "      <td>NaN</td>\n",
       "      <td>NaN</td>\n",
       "      <td>NaN</td>\n",
       "      <td>NaN</td>\n",
       "      <td>NaN</td>\n",
       "      <td>NaN</td>\n",
       "      <td>1.0000</td>\n",
       "      <td>0.8373</td>\n",
       "      <td>NaN</td>\n",
       "    </tr>\n",
       "    <tr>\n",
       "      <th>WEEK_NUM</th>\n",
       "      <td>NaN</td>\n",
       "      <td>NaN</td>\n",
       "      <td>NaN</td>\n",
       "      <td>NaN</td>\n",
       "      <td>NaN</td>\n",
       "      <td>NaN</td>\n",
       "      <td>NaN</td>\n",
       "      <td>NaN</td>\n",
       "      <td>NaN</td>\n",
       "      <td>NaN</td>\n",
       "      <td>...</td>\n",
       "      <td>NaN</td>\n",
       "      <td>NaN</td>\n",
       "      <td>NaN</td>\n",
       "      <td>NaN</td>\n",
       "      <td>NaN</td>\n",
       "      <td>NaN</td>\n",
       "      <td>NaN</td>\n",
       "      <td>0.8373</td>\n",
       "      <td>1.0000</td>\n",
       "      <td>NaN</td>\n",
       "    </tr>\n",
       "    <tr>\n",
       "      <th>target</th>\n",
       "      <td>NaN</td>\n",
       "      <td>NaN</td>\n",
       "      <td>NaN</td>\n",
       "      <td>NaN</td>\n",
       "      <td>NaN</td>\n",
       "      <td>NaN</td>\n",
       "      <td>NaN</td>\n",
       "      <td>NaN</td>\n",
       "      <td>NaN</td>\n",
       "      <td>NaN</td>\n",
       "      <td>...</td>\n",
       "      <td>NaN</td>\n",
       "      <td>NaN</td>\n",
       "      <td>NaN</td>\n",
       "      <td>NaN</td>\n",
       "      <td>NaN</td>\n",
       "      <td>NaN</td>\n",
       "      <td>NaN</td>\n",
       "      <td>NaN</td>\n",
       "      <td>NaN</td>\n",
       "      <td>1.0000</td>\n",
       "    </tr>\n",
       "  </tbody>\n",
       "</table>\n",
       "<p>76 rows × 76 columns</p>\n",
       "</div>"
      ],
      "text/plain": [
       "                            annuity_780A  applicationcnt_361L  \\\n",
       "annuity_780A                      1.0000                  NaN   \n",
       "applicationcnt_361L                  NaN               1.0000   \n",
       "applications30d_658L                 NaN                  NaN   \n",
       "applicationscnt_1086L                NaN                  NaN   \n",
       "applicationscnt_464L                 NaN                  NaN   \n",
       "...                                  ...                  ...   \n",
       "maxdpdfrom6mto36m_3546853P           NaN                  NaN   \n",
       "case_id                              NaN                  NaN   \n",
       "MONTH                                NaN                  NaN   \n",
       "WEEK_NUM                             NaN                  NaN   \n",
       "target                               NaN                  NaN   \n",
       "\n",
       "                            applications30d_658L  applicationscnt_1086L  \\\n",
       "annuity_780A                                 NaN                    NaN   \n",
       "applicationcnt_361L                          NaN                    NaN   \n",
       "applications30d_658L                      1.0000                    NaN   \n",
       "applicationscnt_1086L                        NaN                 1.0000   \n",
       "applicationscnt_464L                         NaN                    NaN   \n",
       "...                                          ...                    ...   \n",
       "maxdpdfrom6mto36m_3546853P                   NaN                    NaN   \n",
       "case_id                                      NaN                    NaN   \n",
       "MONTH                                        NaN                    NaN   \n",
       "WEEK_NUM                                     NaN                    NaN   \n",
       "target                                       NaN                    NaN   \n",
       "\n",
       "                            applicationscnt_464L  applicationscnt_629L  \\\n",
       "annuity_780A                                 NaN                   NaN   \n",
       "applicationcnt_361L                          NaN                   NaN   \n",
       "applications30d_658L                         NaN                   NaN   \n",
       "applicationscnt_1086L                        NaN                   NaN   \n",
       "applicationscnt_464L                      1.0000                0.9666   \n",
       "...                                          ...                   ...   \n",
       "maxdpdfrom6mto36m_3546853P                   NaN                   NaN   \n",
       "case_id                                      NaN                   NaN   \n",
       "MONTH                                        NaN                   NaN   \n",
       "WEEK_NUM                                     NaN                   NaN   \n",
       "target                                       NaN                   NaN   \n",
       "\n",
       "                            applicationscnt_867L  clientscnt12m_3712952L  \\\n",
       "annuity_780A                                 NaN                     NaN   \n",
       "applicationcnt_361L                          NaN                     NaN   \n",
       "applications30d_658L                         NaN                     NaN   \n",
       "applicationscnt_1086L                        NaN                     NaN   \n",
       "applicationscnt_464L                         NaN                     NaN   \n",
       "...                                          ...                     ...   \n",
       "maxdpdfrom6mto36m_3546853P                   NaN                     NaN   \n",
       "case_id                                      NaN                     NaN   \n",
       "MONTH                                        NaN                     NaN   \n",
       "WEEK_NUM                                     NaN                     NaN   \n",
       "target                                       NaN                     NaN   \n",
       "\n",
       "                            clientscnt3m_3712950L  clientscnt6m_3712949L  ...  \\\n",
       "annuity_780A                                  NaN                    NaN  ...   \n",
       "applicationcnt_361L                           NaN                    NaN  ...   \n",
       "applications30d_658L                          NaN                    NaN  ...   \n",
       "applicationscnt_1086L                         NaN                    NaN  ...   \n",
       "applicationscnt_464L                          NaN                    NaN  ...   \n",
       "...                                           ...                    ...  ...   \n",
       "maxdpdfrom6mto36m_3546853P                    NaN                    NaN  ...   \n",
       "case_id                                       NaN                    NaN  ...   \n",
       "MONTH                                         NaN                    NaN  ...   \n",
       "WEEK_NUM                                      NaN                    NaN  ...   \n",
       "target                                        NaN                    NaN  ...   \n",
       "\n",
       "                            maxdpdlast3m_392P  maxdpdlast6m_474P  \\\n",
       "annuity_780A                              NaN                NaN   \n",
       "applicationcnt_361L                       NaN                NaN   \n",
       "applications30d_658L                      NaN                NaN   \n",
       "applicationscnt_1086L                     NaN                NaN   \n",
       "applicationscnt_464L                      NaN                NaN   \n",
       "...                                       ...                ...   \n",
       "maxdpdfrom6mto36m_3546853P             0.5358             0.6219   \n",
       "case_id                                   NaN                NaN   \n",
       "MONTH                                     NaN                NaN   \n",
       "WEEK_NUM                                  NaN                NaN   \n",
       "target                                    NaN                NaN   \n",
       "\n",
       "                            maxdpdlast9m_1059P  maxdpdtolerance_374P  \\\n",
       "annuity_780A                               NaN                   NaN   \n",
       "applicationcnt_361L                        NaN                   NaN   \n",
       "applications30d_658L                       NaN                   NaN   \n",
       "applicationscnt_1086L                      NaN                   NaN   \n",
       "applicationscnt_464L                       NaN                   NaN   \n",
       "...                                        ...                   ...   \n",
       "maxdpdfrom6mto36m_3546853P              0.6995                0.8573   \n",
       "case_id                                    NaN                   NaN   \n",
       "MONTH                                      NaN                   NaN   \n",
       "WEEK_NUM                                   NaN                   NaN   \n",
       "target                                     NaN                   NaN   \n",
       "\n",
       "                            commnoinclast6m_3546845L  \\\n",
       "annuity_780A                                     NaN   \n",
       "applicationcnt_361L                              NaN   \n",
       "applications30d_658L                             NaN   \n",
       "applicationscnt_1086L                            NaN   \n",
       "applicationscnt_464L                             NaN   \n",
       "...                                              ...   \n",
       "maxdpdfrom6mto36m_3546853P                       NaN   \n",
       "case_id                                          NaN   \n",
       "MONTH                                            NaN   \n",
       "WEEK_NUM                                         NaN   \n",
       "target                                           NaN   \n",
       "\n",
       "                            maxdpdfrom6mto36m_3546853P  case_id  MONTH  \\\n",
       "annuity_780A                                       NaN      NaN    NaN   \n",
       "applicationcnt_361L                                NaN      NaN    NaN   \n",
       "applications30d_658L                               NaN      NaN    NaN   \n",
       "applicationscnt_1086L                              NaN      NaN    NaN   \n",
       "applicationscnt_464L                               NaN      NaN    NaN   \n",
       "...                                                ...      ...    ...   \n",
       "maxdpdfrom6mto36m_3546853P                      1.0000      NaN    NaN   \n",
       "case_id                                            NaN   1.0000    NaN   \n",
       "MONTH                                              NaN      NaN 1.0000   \n",
       "WEEK_NUM                                           NaN      NaN 0.8373   \n",
       "target                                             NaN      NaN    NaN   \n",
       "\n",
       "                            WEEK_NUM  target  \n",
       "annuity_780A                     NaN     NaN  \n",
       "applicationcnt_361L              NaN     NaN  \n",
       "applications30d_658L             NaN     NaN  \n",
       "applicationscnt_1086L            NaN     NaN  \n",
       "applicationscnt_464L             NaN     NaN  \n",
       "...                              ...     ...  \n",
       "maxdpdfrom6mto36m_3546853P       NaN     NaN  \n",
       "case_id                          NaN     NaN  \n",
       "MONTH                         0.8373     NaN  \n",
       "WEEK_NUM                      1.0000     NaN  \n",
       "target                           NaN  1.0000  \n",
       "\n",
       "[76 rows x 76 columns]"
      ]
     },
     "execution_count": 11,
     "metadata": {},
     "output_type": "execute_result"
    }
   ],
   "source": [
    "def high_corr_finder(corr_df, min_val):\n",
    "\n",
    "    cols = corr_df.columns\n",
    "    rows = corr_df.index\n",
    "\n",
    "    abs_corr = abs(corr_df)\n",
    "\n",
    "    \n",
    "\n",
    "    for col in cols:\n",
    "        temp = list(abs_corr[abs_corr[col]>min_val].index)\n",
    "        "
   ]
  },
  {
   "cell_type": "code",
   "execution_count": 30,
   "metadata": {},
   "outputs": [
    {
     "data": {
      "text/plain": [
       "['credamount_770A', 'disbursedcredamount_1113A']"
      ]
     },
     "execution_count": 30,
     "metadata": {},
     "output_type": "execute_result"
    }
   ],
   "source": [
    "temp = abs(numerics_75_corr)\n",
    "\n",
    "temp = list(temp[temp[\"annuity_780A\"]>0.7].index)\n",
    "temp.remove(\"annuity_780A\")\n",
    "temp"
   ]
  },
  {
   "cell_type": "code",
   "execution_count": 8,
   "metadata": {},
   "outputs": [],
   "source": [
    "column_list = list(numerics_75.columns)\n",
    "column_list = column_list[:40]\n",
    "\n",
    "rows = 10\n",
    "cols = 4\n",
    "\n",
    "fig_1 = make_subplots(rows=rows, cols=cols, \n",
    "                    #   subplot_titles=column_list, \n",
    "                      horizontal_spacing=0.05)\n",
    "\n",
    "counter = 0\n",
    "for col_name in column_list:\n",
    "\n",
    "    counter = counter + 1\n",
    "\n",
    "    fig_1.add_trace(\n",
    "        go.Histogram(x=combined_df[col_name], histnorm=\"probability\", hovertemplate=f\"{col_name}\",\n",
    "                     marker_color=\"blue\"), \n",
    "        row=math.ceil(counter/cols), col=cols if counter%cols==0 else counter%cols\n",
    "    )\n",
    "\n",
    "    # print(counter)\n",
    "\n",
    "fig_1.update_layout(showlegend=False,\n",
    "                    height=100*rows)\n",
    "fig_1.show()"
   ]
  },
  {
   "cell_type": "code",
   "execution_count": null,
   "metadata": {},
   "outputs": [],
   "source": []
  },
  {
   "cell_type": "markdown",
   "metadata": {},
   "source": [
    "----\n",
    "----\n",
    "# <center> Model </center>\n",
    "----"
   ]
  },
  {
   "cell_type": "code",
   "execution_count": 31,
   "metadata": {},
   "outputs": [
    {
     "name": "stderr",
     "output_type": "stream",
     "text": [
      "IProgress not found. Please update jupyter and ipywidgets. See https://ipywidgets.readthedocs.io/en/stable/user_install.html\n"
     ]
    }
   ],
   "source": [
    "import math, shap\n",
    "\n",
    "import plotly.graph_objects as go\n",
    "import tensorflow as tf\n",
    "\n",
    "\n",
    "from keras import Model, Input\n",
    "from keras.callbacks import EarlyStopping\n",
    "from keras.layers import Dense, Dropout, Concatenate, Flatten\n",
    "# from keras.layers.merge import concatenate\n",
    "from keras.losses import BinaryCrossentropy\n",
    "from keras.metrics import Accuracy, AUC, TruePositives, TrueNegatives, FalsePositives, FalseNegatives\n",
    "from keras.optimizers import Adam\n",
    "from keras.regularizers import L1L2\n",
    "from keras.utils import plot_model\n",
    "from plotly.subplots import make_subplots\n",
    "from sklearn.decomposition import PCA\n",
    "from sklearn.feature_selection import f_classif, mutual_info_classif\n",
    "from sklearn.model_selection import train_test_split\n",
    "from sklearn.preprocessing import StandardScaler, MinMaxScaler\n",
    "\n"
   ]
  },
  {
   "cell_type": "code",
   "execution_count": 32,
   "metadata": {},
   "outputs": [],
   "source": [
    "def class_imbalance_treatment(df: pd.DataFrame):\n",
    "\n",
    "    true_class = df[df[\"target\"]==1]\n",
    "    false_class = df[df[\"target\"]==0]\n",
    "\n",
    "    # true_to_false = len(true_class)/len(false_class)\n",
    "    duplicate_factor = math.floor(len(false_class)/len(true_class))\n",
    "\n",
    "    ##### create duplicated rows to increase the number of true class\n",
    "    duplicated_true_class = true_class.loc[true_class.index.repeat(duplicate_factor)]\n",
    "\n",
    "    ##### concatenate, reshuffle, and reindex dataframe\n",
    "    new_df = pd.concat([false_class, duplicated_true_class], ignore_index=True)\n",
    "    new_df = new_df.sample(frac=1)\n",
    "    new_df = new_df.reset_index(drop=True)\n",
    "\n",
    "    ##### random sampling of new_df to reduce size\n",
    "    new_df_len = len(new_df)\n",
    "\n",
    "    rng = np.random.default_rng(43)\n",
    "    # random_sample = rng.integers(low=0, high=new_df_len, size=math.floor(new_df_len/2)) #### this is the real thing\n",
    "    random_sample = rng.integers(low=0, high=new_df_len, size=math.floor(new_df_len/8)) #### this is temporary. use for training smaller samples\n",
    "\n",
    "    new_df = new_df.loc[random_sample, :]\n",
    "    new_df = new_df.reset_index(drop=True)\n",
    "\n",
    "    return new_df\n",
    "    \n",
    "\n",
    "    \n"
   ]
  },
  {
   "cell_type": "code",
   "execution_count": 60,
   "metadata": {},
   "outputs": [
    {
     "data": {
      "text/plain": [
       "['annuity_780A',\n",
       " 'applications30d_658L',\n",
       " 'applicationscnt_867L',\n",
       " 'credamount_770A',\n",
       " 'disbursedcredamount_1113A',\n",
       " 'homephncnt_628L',\n",
       " 'mobilephncnt_593L',\n",
       " 'numactivecreds_622L',\n",
       " 'numactivecredschannel_414L',\n",
       " 'numactiverelcontr_750L',\n",
       " 'numcontrs3months_479L',\n",
       " 'numrejects9m_859L',\n",
       " 'sellerplacecnt_915L',\n",
       " 'sellerplacescnt_216L',\n",
       " 'totaldebt_9A',\n",
       " 'annuitynextmonth_57A',\n",
       " 'currdebt_22A',\n",
       " 'numinstls_657L',\n",
       " 'totalsettled_863A',\n",
       " 'pmtnum_254L',\n",
       " 'eir_270L',\n",
       " 'price_1097A',\n",
       " 'maxannuity_159A',\n",
       " 'maxdebt4_972A',\n",
       " 'maxdpdlast12m_727P',\n",
       " 'maxdpdlast24m_143P',\n",
       " 'maxdpdlast3m_392P',\n",
       " 'maxdpdlast6m_474P',\n",
       " 'maxdpdlast9m_1059P',\n",
       " 'maxdpdtolerance_374P',\n",
       " 'days120_123L',\n",
       " 'days180_256L',\n",
       " 'days30_165L',\n",
       " 'days360_512L',\n",
       " 'days90_310L',\n",
       " 'firstquarter_103L',\n",
       " 'fourthquarter_440L',\n",
       " 'numberofqueries_373L',\n",
       " 'secondquarter_766L',\n",
       " 'thirdquarter_1082L',\n",
       " 'target',\n",
       " 'case_id']"
      ]
     },
     "execution_count": 60,
     "metadata": {},
     "output_type": "execute_result"
    }
   ],
   "source": [
    "col_str = \"annuity_780A, applications30d_658L, applicationscnt_867L, credamount_770A, disbursedcredamount_1113A, homephncnt_628L, \\\n",
    "            mobilephncnt_593L, numactivecreds_622L, numactivecredschannel_414L, numactiverelcontr_750L, numcontrs3months_479L, \\\n",
    "            numrejects9m_859L, sellerplacecnt_915L, sellerplacescnt_216L, totaldebt_9A, annuitynextmonth_57A, currdebt_22A, \\\n",
    "            numinstls_657L, totalsettled_863A, pmtnum_254L, eir_270L, price_1097A, maxannuity_159A, maxdebt4_972A, \\\n",
    "            maxdpdlast12m_727P, maxdpdlast24m_143P, maxdpdlast3m_392P, maxdpdlast6m_474P, maxdpdlast9m_1059P, \\\n",
    "            maxdpdtolerance_374P, days120_123L, days180_256L, days30_165L, days360_512L, days90_310L, firstquarter_103L,\\\n",
    "            fourthquarter_440L, numberofqueries_373L, secondquarter_766L, thirdquarter_1082L, target, case_id\"\n",
    "\n",
    "col_list = col_str.split(\", \")\n",
    "col_list = [val.strip() for val in col_list]\n",
    "col_list\n"
   ]
  },
  {
   "cell_type": "code",
   "execution_count": 64,
   "metadata": {},
   "outputs": [],
   "source": [
    "# feature_names = [\"contract_length_year\", \"dpdmax_851P\", \"dpdmaxdatemonth_804T\", \"dpdmaxdateyear_742T\", \"overdueamountmax_950A\", \"target\"]\n",
    "\n",
    "# feature_names = [val for val in sig_numeric if val not in [\"isbidproduct_1095L\", \"MONTH\", \"WEEK_NUM\"]] \n",
    "feature_names = col_list\n",
    "numeric_features = combined_df[feature_names].dropna()\n",
    "# numeric_features[\"isbidproduct_1095L\"] = [1 if val==True else 0 for val in numeric_features[\"isbidproduct_1095L\"]]\n",
    "numeric_features = class_imbalance_treatment(numeric_features)\n",
    "\n",
    "target = numeric_features[\"target\"]\n",
    "\n",
    "numeric_features = numeric_features.drop(columns=[\"target\"])\n",
    "\n",
    "##### Split data\n",
    "feature_train, feature_test, target_train, target_test = train_test_split(numeric_features, target, test_size=0.3)\n",
    "\n",
    "train_case_id = feature_train[\"case_id\"]\n",
    "test_case_id = feature_test[\"case_id\"]\n",
    "\n",
    "feature_train = feature_train.drop(columns=[\"case_id\"])\n",
    "feature_test = feature_test.drop(columns=[\"case_id\"])\n",
    "\n",
    "# ##### Apply PCA\n",
    "# pca = PCA(n_components=15)\n",
    "# pca.fit(feature_train)\n",
    "\n",
    "# feature_train = pca.transform(feature_train)\n",
    "# feature_test = pca.transform(feature_test)\n",
    "\n",
    "##### Standardize data\n",
    "scaler = StandardScaler()\n",
    "scaler.fit(feature_train)\n",
    "\n",
    "# scaler = MinMaxScaler()\n",
    "# scaler.fit(feature_train)\n",
    "\n",
    "feature_train = scaler.transform(feature_train)\n",
    "feature_test = scaler.transform(feature_test)\n",
    "\n",
    "\n"
   ]
  },
  {
   "cell_type": "code",
   "execution_count": 51,
   "metadata": {},
   "outputs": [],
   "source": [
    "##### Model definition\n",
    "\n",
    "input_shape = feature_train.shape[1]\n",
    "### input layer\n",
    "input_layer = Input(shape=(input_shape, ))\n",
    "hidden_layer = Dense(input_shape*5, activation=\"relu\")(input_layer)\n",
    "hidden_layer = Dropout(rate=0.3)(hidden_layer)\n",
    "hidden_layer = Dense(input_shape*4,activation=\"relu\")(hidden_layer)\n",
    "hidden_layer = Dropout(rate=0.3)(hidden_layer)\n",
    "hidden_layer = Dense(input_shape*3,activation=\"relu\", )(hidden_layer)\n",
    "hidden_layer = Dense(input_shape*0.5,activation=\"relu\")(hidden_layer)\n",
    "\n",
    "# hidden_layer = Dense(2, activation=\"relu\")(input_layer)\n",
    "# hidden_layer = Dense(5,activation=\"relu\")(hidden_layer)\n",
    "# hidden_layer = Dense(8,activation=\"relu\")(hidden_layer)\n",
    "# hidden_layer = Dense(11,activation=\"relu\")(hidden_layer)\n",
    "\n",
    "output_layer = Dense(1, activation=\"sigmoid\")(hidden_layer)\n",
    "\n",
    "### define model\n",
    "model = Model(inputs=input_layer, outputs=output_layer)"
   ]
  },
  {
   "cell_type": "code",
   "execution_count": 188,
   "metadata": {},
   "outputs": [],
   "source": [
    "##### Keeping this in case I wanna try it again\n",
    "# ### left branch\n",
    "# left_input = Input(shape=(feature_train.shape[1], ))\n",
    "# left_hidden = Dense(11, activation=\"relu\")(left_input)\n",
    "# left_hidden = Dense(8, activation=\"relu\")(left_hidden)\n",
    "# left_hidden = Dense(5, activation=\"relu\")(left_hidden)\n",
    "# left_hidden = Dense(2, activation=\"relu\")(left_hidden)\n",
    "\n",
    "# ### right branch\n",
    "# # right_input = Input(shape=(feature_train.shape[1], ))\n",
    "# # right_hidden = Dense(2, activation=\"relu\")(right_input)\n",
    "# # right_hidden = Dense(5, activation=\"relu\")(right_hidden)\n",
    "# # right_hidden = Dense(8, activation=\"relu\")(right_hidden)\n",
    "# # right_hidden = Dense(11, activation=\"relu\")(right_hidden)\n",
    "\n",
    "# right_input = Input(shape=(feature_train.shape[1], ))\n",
    "# right_hidden = Dense(11, activation=\"relu\")(right_input)\n",
    "# right_hidden = Dense(8, activation=\"relu\")(right_hidden)\n",
    "# right_hidden = Dense(5, activation=\"relu\")(right_hidden)\n",
    "# right_hidden = Dense(2, activation=\"relu\")(right_hidden)\n",
    "\n",
    "# ### concatenated branch\n",
    "# concat_layer = Concatenate()([left_hidden, right_hidden])\n",
    "# # concat_layer = Flatten()(concat_layer)\n",
    "\n",
    "# output_layer = Dense(1, activation=\"sigmoid\")(concat_layer)\n",
    "\n",
    "# model = Model([left_input, right_input], output_layer)\n",
    "\n"
   ]
  },
  {
   "cell_type": "code",
   "execution_count": 52,
   "metadata": {},
   "outputs": [
    {
     "name": "stdout",
     "output_type": "stream",
     "text": [
      "Model: \"model_3\"\n",
      "_________________________________________________________________\n",
      " Layer (type)                Output Shape              Param #   \n",
      "=================================================================\n",
      " input_4 (InputLayer)        [(None, 40)]              0         \n",
      "                                                                 \n",
      " dense_15 (Dense)            (None, 200)               8200      \n",
      "                                                                 \n",
      " dropout_6 (Dropout)         (None, 200)               0         \n",
      "                                                                 \n",
      " dense_16 (Dense)            (None, 160)               32160     \n",
      "                                                                 \n",
      " dropout_7 (Dropout)         (None, 160)               0         \n",
      "                                                                 \n",
      " dense_17 (Dense)            (None, 120)               19320     \n",
      "                                                                 \n",
      " dense_18 (Dense)            (None, 20)                2420      \n",
      "                                                                 \n",
      " dense_19 (Dense)            (None, 1)                 21        \n",
      "                                                                 \n",
      "=================================================================\n",
      "Total params: 62121 (242.66 KB)\n",
      "Trainable params: 62121 (242.66 KB)\n",
      "Non-trainable params: 0 (0.00 Byte)\n",
      "_________________________________________________________________\n"
     ]
    }
   ],
   "source": [
    "# plot_model(model, show_shapes=True, show_layer_activations=True)\n",
    "model.summary()"
   ]
  },
  {
   "cell_type": "code",
   "execution_count": 53,
   "metadata": {},
   "outputs": [],
   "source": [
    "model.compile(\n",
    "    loss=BinaryCrossentropy(),\n",
    "    optimizer=tf.keras.optimizers.legacy.Adam(\n",
    "        learning_rate=0.0001,\n",
    "    ),\n",
    "    metrics=[AUC(name=\"auc_roc\")]\n",
    ")"
   ]
  },
  {
   "cell_type": "code",
   "execution_count": 54,
   "metadata": {},
   "outputs": [
    {
     "name": "stdout",
     "output_type": "stream",
     "text": [
      "Epoch 1/100\n"
     ]
    },
    {
     "name": "stdout",
     "output_type": "stream",
     "text": [
      "3580/3580 [==============================] - 3s 782us/step - loss: 0.6396 - auc_roc: 0.6849 - val_loss: 0.6145 - val_auc_roc: 0.7238\n",
      "Epoch 2/100\n",
      "3580/3580 [==============================] - 3s 753us/step - loss: 0.6117 - auc_roc: 0.7266 - val_loss: 0.5993 - val_auc_roc: 0.7427\n",
      "Epoch 3/100\n",
      "3580/3580 [==============================] - 3s 762us/step - loss: 0.5977 - auc_roc: 0.7436 - val_loss: 0.5863 - val_auc_roc: 0.7566\n",
      "Epoch 4/100\n",
      "3580/3580 [==============================] - 3s 761us/step - loss: 0.5890 - auc_roc: 0.7536 - val_loss: 0.5775 - val_auc_roc: 0.7656\n",
      "Epoch 5/100\n",
      "3580/3580 [==============================] - 3s 768us/step - loss: 0.5804 - auc_roc: 0.7627 - val_loss: 0.5698 - val_auc_roc: 0.7737\n",
      "Epoch 6/100\n",
      "3580/3580 [==============================] - 3s 794us/step - loss: 0.5736 - auc_roc: 0.7698 - val_loss: 0.5644 - val_auc_roc: 0.7791\n",
      "Epoch 7/100\n",
      "3580/3580 [==============================] - 3s 791us/step - loss: 0.5693 - auc_roc: 0.7740 - val_loss: 0.5617 - val_auc_roc: 0.7821\n",
      "Epoch 8/100\n",
      "3580/3580 [==============================] - 3s 907us/step - loss: 0.5651 - auc_roc: 0.7781 - val_loss: 0.5585 - val_auc_roc: 0.7850\n",
      "Epoch 9/100\n",
      "3580/3580 [==============================] - 3s 900us/step - loss: 0.5620 - auc_roc: 0.7813 - val_loss: 0.5556 - val_auc_roc: 0.7881\n",
      "Epoch 10/100\n",
      "3580/3580 [==============================] - 3s 892us/step - loss: 0.5581 - auc_roc: 0.7850 - val_loss: 0.5519 - val_auc_roc: 0.7907\n",
      "Epoch 11/100\n",
      "3580/3580 [==============================] - 3s 863us/step - loss: 0.5551 - auc_roc: 0.7877 - val_loss: 0.5493 - val_auc_roc: 0.7933\n",
      "Epoch 12/100\n",
      "3580/3580 [==============================] - 3s 898us/step - loss: 0.5533 - auc_roc: 0.7893 - val_loss: 0.5485 - val_auc_roc: 0.7942\n",
      "Epoch 13/100\n",
      "3580/3580 [==============================] - 3s 875us/step - loss: 0.5507 - auc_roc: 0.7914 - val_loss: 0.5479 - val_auc_roc: 0.7944\n",
      "Epoch 14/100\n",
      "3580/3580 [==============================] - 3s 892us/step - loss: 0.5496 - auc_roc: 0.7928 - val_loss: 0.5468 - val_auc_roc: 0.7957\n",
      "Epoch 15/100\n",
      "3580/3580 [==============================] - 3s 958us/step - loss: 0.5472 - auc_roc: 0.7947 - val_loss: 0.5448 - val_auc_roc: 0.7971\n",
      "Epoch 16/100\n",
      "3580/3580 [==============================] - 3s 862us/step - loss: 0.5453 - auc_roc: 0.7966 - val_loss: 0.5438 - val_auc_roc: 0.7981\n",
      "Epoch 17/100\n",
      "3580/3580 [==============================] - 3s 878us/step - loss: 0.5439 - auc_roc: 0.7979 - val_loss: 0.5430 - val_auc_roc: 0.7988\n",
      "Epoch 18/100\n",
      "3580/3580 [==============================] - 3s 935us/step - loss: 0.5436 - auc_roc: 0.7981 - val_loss: 0.5423 - val_auc_roc: 0.7999\n",
      "Epoch 19/100\n",
      "3580/3580 [==============================] - 3s 940us/step - loss: 0.5418 - auc_roc: 0.7995 - val_loss: 0.5428 - val_auc_roc: 0.8003\n",
      "Epoch 20/100\n",
      "3580/3580 [==============================] - 3s 925us/step - loss: 0.5409 - auc_roc: 0.8005 - val_loss: 0.5406 - val_auc_roc: 0.8009\n",
      "Epoch 21/100\n",
      "3580/3580 [==============================] - 3s 869us/step - loss: 0.5393 - auc_roc: 0.8016 - val_loss: 0.5392 - val_auc_roc: 0.8026\n",
      "Epoch 22/100\n",
      "3580/3580 [==============================] - 3s 804us/step - loss: 0.5375 - auc_roc: 0.8034 - val_loss: 0.5383 - val_auc_roc: 0.8028\n",
      "Epoch 23/100\n",
      "3580/3580 [==============================] - 3s 861us/step - loss: 0.5367 - auc_roc: 0.8041 - val_loss: 0.5413 - val_auc_roc: 0.8025\n",
      "Epoch 24/100\n",
      "3580/3580 [==============================] - 3s 838us/step - loss: 0.5361 - auc_roc: 0.8043 - val_loss: 0.5386 - val_auc_roc: 0.8031\n",
      "Epoch 25/100\n",
      "3580/3580 [==============================] - 3s 938us/step - loss: 0.5348 - auc_roc: 0.8057 - val_loss: 0.5349 - val_auc_roc: 0.8049\n",
      "Epoch 26/100\n",
      "3580/3580 [==============================] - 3s 941us/step - loss: 0.5342 - auc_roc: 0.8062 - val_loss: 0.5360 - val_auc_roc: 0.8044\n",
      "Epoch 27/100\n",
      "3580/3580 [==============================] - 3s 923us/step - loss: 0.5337 - auc_roc: 0.8062 - val_loss: 0.5342 - val_auc_roc: 0.8057\n",
      "Epoch 28/100\n",
      "3580/3580 [==============================] - 3s 952us/step - loss: 0.5325 - auc_roc: 0.8076 - val_loss: 0.5337 - val_auc_roc: 0.8059\n",
      "Epoch 29/100\n",
      "3580/3580 [==============================] - 3s 969us/step - loss: 0.5323 - auc_roc: 0.8078 - val_loss: 0.5335 - val_auc_roc: 0.8067\n",
      "Epoch 30/100\n",
      "3580/3580 [==============================] - 3s 933us/step - loss: 0.5307 - auc_roc: 0.8091 - val_loss: 0.5337 - val_auc_roc: 0.8076\n",
      "Epoch 31/100\n",
      "3580/3580 [==============================] - 3s 977us/step - loss: 0.5299 - auc_roc: 0.8098 - val_loss: 0.5334 - val_auc_roc: 0.8070\n",
      "Epoch 32/100\n",
      "3580/3580 [==============================] - 3s 970us/step - loss: 0.5291 - auc_roc: 0.8101 - val_loss: 0.5325 - val_auc_roc: 0.8074\n",
      "Epoch 33/100\n",
      "3580/3580 [==============================] - 3s 942us/step - loss: 0.5288 - auc_roc: 0.8106 - val_loss: 0.5323 - val_auc_roc: 0.8077\n",
      "Epoch 34/100\n",
      "3580/3580 [==============================] - 3s 927us/step - loss: 0.5275 - auc_roc: 0.8119 - val_loss: 0.5309 - val_auc_roc: 0.8087\n",
      "Epoch 35/100\n",
      "3580/3580 [==============================] - 3s 871us/step - loss: 0.5274 - auc_roc: 0.8120 - val_loss: 0.5316 - val_auc_roc: 0.8082\n",
      "Epoch 36/100\n",
      "3580/3580 [==============================] - 3s 864us/step - loss: 0.5257 - auc_roc: 0.8132 - val_loss: 0.5306 - val_auc_roc: 0.8099\n",
      "Epoch 37/100\n",
      "3580/3580 [==============================] - 3s 970us/step - loss: 0.5259 - auc_roc: 0.8132 - val_loss: 0.5298 - val_auc_roc: 0.8098\n",
      "Epoch 38/100\n",
      "3580/3580 [==============================] - 3s 969us/step - loss: 0.5250 - auc_roc: 0.8140 - val_loss: 0.5301 - val_auc_roc: 0.8094\n",
      "Epoch 39/100\n",
      "3580/3580 [==============================] - 3s 941us/step - loss: 0.5246 - auc_roc: 0.8144 - val_loss: 0.5312 - val_auc_roc: 0.8107\n",
      "Epoch 40/100\n",
      "3580/3580 [==============================] - 3s 937us/step - loss: 0.5235 - auc_roc: 0.8152 - val_loss: 0.5284 - val_auc_roc: 0.8108\n",
      "Epoch 41/100\n",
      "3580/3580 [==============================] - 3s 939us/step - loss: 0.5230 - auc_roc: 0.8153 - val_loss: 0.5292 - val_auc_roc: 0.8107\n",
      "Epoch 42/100\n",
      "3580/3580 [==============================] - 3s 830us/step - loss: 0.5227 - auc_roc: 0.8157 - val_loss: 0.5277 - val_auc_roc: 0.8120\n",
      "Epoch 43/100\n",
      "3580/3580 [==============================] - 3s 838us/step - loss: 0.5218 - auc_roc: 0.8164 - val_loss: 0.5273 - val_auc_roc: 0.8120\n",
      "Epoch 44/100\n",
      "3580/3580 [==============================] - 3s 936us/step - loss: 0.5213 - auc_roc: 0.8169 - val_loss: 0.5265 - val_auc_roc: 0.8117\n",
      "Epoch 45/100\n",
      "3580/3580 [==============================] - 3s 940us/step - loss: 0.5213 - auc_roc: 0.8170 - val_loss: 0.5273 - val_auc_roc: 0.8122\n",
      "Epoch 46/100\n",
      "3580/3580 [==============================] - 3s 870us/step - loss: 0.5203 - auc_roc: 0.8175 - val_loss: 0.5252 - val_auc_roc: 0.8134\n",
      "Epoch 47/100\n",
      "3580/3580 [==============================] - 3s 875us/step - loss: 0.5197 - auc_roc: 0.8181 - val_loss: 0.5283 - val_auc_roc: 0.8125\n",
      "Epoch 48/100\n",
      "3580/3580 [==============================] - 3s 870us/step - loss: 0.5194 - auc_roc: 0.8184 - val_loss: 0.5252 - val_auc_roc: 0.8131\n",
      "Epoch 49/100\n",
      "3580/3580 [==============================] - 3s 897us/step - loss: 0.5183 - auc_roc: 0.8195 - val_loss: 0.5237 - val_auc_roc: 0.8142\n",
      "Epoch 50/100\n",
      "3580/3580 [==============================] - 3s 944us/step - loss: 0.5176 - auc_roc: 0.8200 - val_loss: 0.5259 - val_auc_roc: 0.8137\n",
      "Epoch 51/100\n",
      "3580/3580 [==============================] - 3s 956us/step - loss: 0.5174 - auc_roc: 0.8201 - val_loss: 0.5255 - val_auc_roc: 0.8139\n",
      "Epoch 52/100\n",
      "3580/3580 [==============================] - 3s 902us/step - loss: 0.5171 - auc_roc: 0.8204 - val_loss: 0.5232 - val_auc_roc: 0.8150\n",
      "Epoch 53/100\n",
      "3580/3580 [==============================] - 3s 839us/step - loss: 0.5154 - auc_roc: 0.8216 - val_loss: 0.5248 - val_auc_roc: 0.8140\n",
      "Epoch 54/100\n",
      "3580/3580 [==============================] - 3s 976us/step - loss: 0.5158 - auc_roc: 0.8210 - val_loss: 0.5219 - val_auc_roc: 0.8155\n",
      "Epoch 55/100\n",
      "3580/3580 [==============================] - 3s 877us/step - loss: 0.5145 - auc_roc: 0.8225 - val_loss: 0.5220 - val_auc_roc: 0.8161\n",
      "Epoch 56/100\n",
      "3580/3580 [==============================] - 3s 858us/step - loss: 0.5140 - auc_roc: 0.8226 - val_loss: 0.5225 - val_auc_roc: 0.8166\n",
      "Epoch 57/100\n",
      "3580/3580 [==============================] - 3s 929us/step - loss: 0.5149 - auc_roc: 0.8221 - val_loss: 0.5231 - val_auc_roc: 0.8160\n",
      "Epoch 58/100\n",
      "3580/3580 [==============================] - 3s 792us/step - loss: 0.5140 - auc_roc: 0.8228 - val_loss: 0.5207 - val_auc_roc: 0.8162\n",
      "Epoch 59/100\n",
      "3580/3580 [==============================] - 3s 784us/step - loss: 0.5138 - auc_roc: 0.8229 - val_loss: 0.5209 - val_auc_roc: 0.8176\n",
      "Epoch 60/100\n",
      "3580/3580 [==============================] - 3s 766us/step - loss: 0.5136 - auc_roc: 0.8230 - val_loss: 0.5200 - val_auc_roc: 0.8175\n",
      "Epoch 61/100\n",
      "3580/3580 [==============================] - 3s 775us/step - loss: 0.5123 - auc_roc: 0.8239 - val_loss: 0.5212 - val_auc_roc: 0.8171\n",
      "Epoch 62/100\n",
      "3580/3580 [==============================] - 3s 780us/step - loss: 0.5118 - auc_roc: 0.8244 - val_loss: 0.5196 - val_auc_roc: 0.8176\n",
      "Epoch 63/100\n",
      "3580/3580 [==============================] - 3s 791us/step - loss: 0.5099 - auc_roc: 0.8257 - val_loss: 0.5213 - val_auc_roc: 0.8181\n",
      "Epoch 64/100\n",
      "3580/3580 [==============================] - 3s 784us/step - loss: 0.5118 - auc_roc: 0.8245 - val_loss: 0.5190 - val_auc_roc: 0.8175\n",
      "Epoch 65/100\n",
      "3580/3580 [==============================] - 3s 794us/step - loss: 0.5105 - auc_roc: 0.8254 - val_loss: 0.5181 - val_auc_roc: 0.8191\n",
      "Epoch 66/100\n",
      "3580/3580 [==============================] - 3s 784us/step - loss: 0.5097 - auc_roc: 0.8262 - val_loss: 0.5190 - val_auc_roc: 0.8183\n",
      "Epoch 67/100\n",
      "3580/3580 [==============================] - 3s 790us/step - loss: 0.5088 - auc_roc: 0.8267 - val_loss: 0.5199 - val_auc_roc: 0.8198\n",
      "Epoch 68/100\n",
      "3580/3580 [==============================] - 3s 786us/step - loss: 0.5090 - auc_roc: 0.8267 - val_loss: 0.5188 - val_auc_roc: 0.8193\n",
      "Epoch 69/100\n",
      "3580/3580 [==============================] - 3s 791us/step - loss: 0.5078 - auc_roc: 0.8274 - val_loss: 0.5192 - val_auc_roc: 0.8184\n",
      "Epoch 70/100\n",
      "3580/3580 [==============================] - 3s 785us/step - loss: 0.5078 - auc_roc: 0.8276 - val_loss: 0.5185 - val_auc_roc: 0.8194\n",
      "Epoch 71/100\n",
      "3580/3580 [==============================] - 3s 793us/step - loss: 0.5070 - auc_roc: 0.8279 - val_loss: 0.5173 - val_auc_roc: 0.8192\n",
      "Epoch 72/100\n",
      "3580/3580 [==============================] - 3s 768us/step - loss: 0.5065 - auc_roc: 0.8284 - val_loss: 0.5160 - val_auc_roc: 0.8205\n",
      "Epoch 73/100\n",
      "3580/3580 [==============================] - 3s 778us/step - loss: 0.5056 - auc_roc: 0.8293 - val_loss: 0.5176 - val_auc_roc: 0.8202\n",
      "Epoch 74/100\n",
      "3580/3580 [==============================] - 3s 768us/step - loss: 0.5069 - auc_roc: 0.8282 - val_loss: 0.5181 - val_auc_roc: 0.8195\n",
      "Epoch 75/100\n",
      "3580/3580 [==============================] - 3s 778us/step - loss: 0.5055 - auc_roc: 0.8293 - val_loss: 0.5148 - val_auc_roc: 0.8215\n",
      "Epoch 76/100\n",
      "3580/3580 [==============================] - 3s 755us/step - loss: 0.5058 - auc_roc: 0.8291 - val_loss: 0.5208 - val_auc_roc: 0.8217\n",
      "Epoch 77/100\n",
      "3580/3580 [==============================] - 3s 793us/step - loss: 0.5041 - auc_roc: 0.8302 - val_loss: 0.5160 - val_auc_roc: 0.8223\n",
      "Epoch 78/100\n",
      "3580/3580 [==============================] - 3s 770us/step - loss: 0.5038 - auc_roc: 0.8306 - val_loss: 0.5154 - val_auc_roc: 0.8220\n",
      "Epoch 79/100\n",
      "3580/3580 [==============================] - 3s 774us/step - loss: 0.5039 - auc_roc: 0.8307 - val_loss: 0.5149 - val_auc_roc: 0.8211\n",
      "Epoch 80/100\n",
      "3580/3580 [==============================] - 3s 788us/step - loss: 0.5042 - auc_roc: 0.8304 - val_loss: 0.5140 - val_auc_roc: 0.8225\n",
      "Epoch 81/100\n",
      "3580/3580 [==============================] - 3s 787us/step - loss: 0.5031 - auc_roc: 0.8311 - val_loss: 0.5117 - val_auc_roc: 0.8235\n",
      "Epoch 82/100\n",
      "3580/3580 [==============================] - 3s 772us/step - loss: 0.5027 - auc_roc: 0.8316 - val_loss: 0.5126 - val_auc_roc: 0.8229\n",
      "Epoch 83/100\n",
      "3580/3580 [==============================] - 3s 781us/step - loss: 0.5023 - auc_roc: 0.8317 - val_loss: 0.5130 - val_auc_roc: 0.8243\n",
      "Epoch 84/100\n",
      "3580/3580 [==============================] - 3s 774us/step - loss: 0.5016 - auc_roc: 0.8321 - val_loss: 0.5127 - val_auc_roc: 0.8234\n",
      "Epoch 85/100\n",
      "3580/3580 [==============================] - 3s 791us/step - loss: 0.5018 - auc_roc: 0.8321 - val_loss: 0.5131 - val_auc_roc: 0.8239\n",
      "Epoch 86/100\n",
      "3580/3580 [==============================] - 3s 783us/step - loss: 0.5016 - auc_roc: 0.8320 - val_loss: 0.5130 - val_auc_roc: 0.8240\n",
      "Epoch 87/100\n",
      "3580/3580 [==============================] - 3s 799us/step - loss: 0.5005 - auc_roc: 0.8331 - val_loss: 0.5105 - val_auc_roc: 0.8249\n",
      "Epoch 88/100\n",
      "3580/3580 [==============================] - 3s 786us/step - loss: 0.5019 - auc_roc: 0.8320 - val_loss: 0.5116 - val_auc_roc: 0.8239\n",
      "Epoch 89/100\n",
      "3580/3580 [==============================] - 3s 796us/step - loss: 0.4995 - auc_roc: 0.8340 - val_loss: 0.5104 - val_auc_roc: 0.8249\n",
      "Epoch 90/100\n",
      "3580/3580 [==============================] - 3s 808us/step - loss: 0.4997 - auc_roc: 0.8339 - val_loss: 0.5108 - val_auc_roc: 0.8252\n",
      "Epoch 91/100\n",
      "3580/3580 [==============================] - 3s 772us/step - loss: 0.4988 - auc_roc: 0.8344 - val_loss: 0.5104 - val_auc_roc: 0.8250\n",
      "Epoch 92/100\n",
      "3580/3580 [==============================] - 3s 778us/step - loss: 0.4989 - auc_roc: 0.8345 - val_loss: 0.5094 - val_auc_roc: 0.8264\n",
      "Epoch 93/100\n",
      "3580/3580 [==============================] - 3s 773us/step - loss: 0.4978 - auc_roc: 0.8354 - val_loss: 0.5106 - val_auc_roc: 0.8258\n",
      "Epoch 94/100\n",
      "3580/3580 [==============================] - 3s 776us/step - loss: 0.4981 - auc_roc: 0.8352 - val_loss: 0.5079 - val_auc_roc: 0.8268\n",
      "Epoch 95/100\n",
      "3580/3580 [==============================] - 3s 789us/step - loss: 0.4977 - auc_roc: 0.8352 - val_loss: 0.5097 - val_auc_roc: 0.8265\n",
      "Epoch 96/100\n",
      "3580/3580 [==============================] - 3s 796us/step - loss: 0.4976 - auc_roc: 0.8355 - val_loss: 0.5091 - val_auc_roc: 0.8270\n",
      "Epoch 97/100\n",
      "3580/3580 [==============================] - 3s 798us/step - loss: 0.4982 - auc_roc: 0.8351 - val_loss: 0.5088 - val_auc_roc: 0.8263\n",
      "Epoch 98/100\n",
      "3580/3580 [==============================] - 3s 771us/step - loss: 0.4952 - auc_roc: 0.8371 - val_loss: 0.5115 - val_auc_roc: 0.8261\n",
      "Epoch 99/100\n",
      "3580/3580 [==============================] - 3s 786us/step - loss: 0.4958 - auc_roc: 0.8368 - val_loss: 0.5082 - val_auc_roc: 0.8264\n",
      "Epoch 100/100\n",
      "3580/3580 [==============================] - 3s 794us/step - loss: 0.4965 - auc_roc: 0.8362 - val_loss: 0.5100 - val_auc_roc: 0.8268\n"
     ]
    }
   ],
   "source": [
    "early_stop = EarlyStopping(monitor=\"loss\", patience=5)\n",
    "result = model.fit(\n",
    "                #    [feature_train, feature_train],\n",
    "                   feature_train,\n",
    "                   target_train,\n",
    "                   epochs=100,\n",
    "                   validation_split=0.2, \n",
    "                   callbacks=[early_stop])"
   ]
  },
  {
   "cell_type": "code",
   "execution_count": 31,
   "metadata": {},
   "outputs": [],
   "source": [
    "def plot_fit_result(keras_object):\n",
    "\n",
    "    epochs = keras_object.epoch\n",
    "\n",
    "    train_loss = keras_object.history[\"loss\"]\n",
    "    train_auc = keras_object.history[\"auc_roc\"]\n",
    "    validation_loss = keras_object.history[\"val_loss\"]\n",
    "    validation_auc = keras_object.history[\"val_auc_roc\"]\n",
    "\n",
    "    fig = make_subplots(rows=1, cols=2)\n",
    "\n",
    "    fig.add_trace(go.Scatter(x=epochs, y=train_loss, name=\"train loss\"), row=1, col=1)\n",
    "    fig.add_trace(go.Scatter(x=epochs, y=train_auc, name=\"train auc\"), row=1, col=2)\n",
    "\n",
    "    fig.add_trace(go.Scatter(x=epochs, y=validation_loss, name=\"validation loss\"), row=1, col=1)\n",
    "    fig.add_trace(go.Scatter(x=epochs, y=validation_auc, name=\"validation auc\"), row=1, col=2)\n",
    "\n",
    "    fig.show()\n",
    "\n"
   ]
  },
  {
   "cell_type": "code",
   "execution_count": 90,
   "metadata": {},
   "outputs": [
    {
     "data": {
      "application/vnd.plotly.v1+json": {
       "config": {
        "plotlyServerURL": "https://plot.ly"
       },
       "data": [
        {
         "name": "train loss",
         "type": "scatter",
         "x": [
          0,
          1,
          2,
          3,
          4,
          5,
          6,
          7,
          8,
          9,
          10,
          11,
          12,
          13,
          14,
          15,
          16,
          17,
          18,
          19,
          20,
          21,
          22,
          23,
          24,
          25,
          26,
          27,
          28,
          29,
          30,
          31,
          32,
          33,
          34,
          35,
          36,
          37,
          38,
          39,
          40,
          41,
          42,
          43,
          44,
          45,
          46,
          47,
          48,
          49,
          50,
          51,
          52,
          53,
          54,
          55,
          56,
          57,
          58,
          59,
          60,
          61,
          62,
          63,
          64,
          65,
          66,
          67,
          68,
          69,
          70,
          71,
          72,
          73,
          74,
          75,
          76,
          77,
          78,
          79,
          80,
          81,
          82,
          83,
          84,
          85,
          86,
          87,
          88,
          89,
          90,
          91,
          92,
          93,
          94,
          95,
          96,
          97,
          98,
          99
         ],
         "xaxis": "x",
         "y": [
          0.6361029148101807,
          0.6228266954421997,
          0.6173202395439148,
          0.613379180431366,
          0.6101760864257812,
          0.6071504950523376,
          0.6050001978874207,
          0.6025700569152832,
          0.6005865931510925,
          0.5980767011642456,
          0.5972474217414856,
          0.5947877168655396,
          0.5925413370132446,
          0.5908774733543396,
          0.5901789665222168,
          0.5877968668937683,
          0.5857959389686584,
          0.5846643447875977,
          0.5821793675422668,
          0.5804362893104553,
          0.5800033211708069,
          0.5771865248680115,
          0.5758103132247925,
          0.5745477676391602,
          0.5727982521057129,
          0.5720171928405762,
          0.569100558757782,
          0.5682290196418762,
          0.566231369972229,
          0.5646485686302185,
          0.5629860758781433,
          0.5614945888519287,
          0.5597842931747437,
          0.5577142238616943,
          0.5573998093605042,
          0.5551043748855591,
          0.5539854168891907,
          0.5525266528129578,
          0.5509451627731323,
          0.5495179295539856,
          0.5483854413032532,
          0.5466093420982361,
          0.5455848574638367,
          0.5441376566886902,
          0.5420737266540527,
          0.5409599542617798,
          0.540293276309967,
          0.5376636385917664,
          0.537057101726532,
          0.5356934666633606,
          0.5349851250648499,
          0.5324618816375732,
          0.5310611128807068,
          0.531391978263855,
          0.529329240322113,
          0.5269938707351685,
          0.5259910821914673,
          0.5255946516990662,
          0.5239295363426208,
          0.5238969326019287,
          0.5226052403450012,
          0.5214060544967651,
          0.5202702879905701,
          0.5191892385482788,
          0.5172470808029175,
          0.5174395442008972,
          0.5159359574317932,
          0.5129928588867188,
          0.5142061710357666,
          0.5133146047592163,
          0.5118196606636047,
          0.5122143626213074,
          0.5106082558631897,
          0.509786069393158,
          0.5072529911994934,
          0.5076836347579956,
          0.5068775415420532,
          0.5059687495231628,
          0.504978358745575,
          0.502919614315033,
          0.5026776790618896,
          0.5017384886741638,
          0.502220630645752,
          0.5003678798675537,
          0.5003781318664551,
          0.49780771136283875,
          0.49779269099235535,
          0.49778318405151367,
          0.4964068531990051,
          0.4956744611263275,
          0.4951392114162445,
          0.49499309062957764,
          0.4952579736709595,
          0.4923318326473236,
          0.49261313676834106,
          0.4910545349121094,
          0.49124258756637573,
          0.49052804708480835,
          0.48959699273109436,
          0.48851367831230164
         ],
         "yaxis": "y"
        },
        {
         "name": "train auc",
         "type": "scatter",
         "x": [
          0,
          1,
          2,
          3,
          4,
          5,
          6,
          7,
          8,
          9,
          10,
          11,
          12,
          13,
          14,
          15,
          16,
          17,
          18,
          19,
          20,
          21,
          22,
          23,
          24,
          25,
          26,
          27,
          28,
          29,
          30,
          31,
          32,
          33,
          34,
          35,
          36,
          37,
          38,
          39,
          40,
          41,
          42,
          43,
          44,
          45,
          46,
          47,
          48,
          49,
          50,
          51,
          52,
          53,
          54,
          55,
          56,
          57,
          58,
          59,
          60,
          61,
          62,
          63,
          64,
          65,
          66,
          67,
          68,
          69,
          70,
          71,
          72,
          73,
          74,
          75,
          76,
          77,
          78,
          79,
          80,
          81,
          82,
          83,
          84,
          85,
          86,
          87,
          88,
          89,
          90,
          91,
          92,
          93,
          94,
          95,
          96,
          97,
          98,
          99
         ],
         "xaxis": "x2",
         "y": [
          0.6920586228370667,
          0.7108308672904968,
          0.7182408571243286,
          0.7234364151954651,
          0.7272225022315979,
          0.7306745648384094,
          0.7333031892776489,
          0.7361815571784973,
          0.7383077144622803,
          0.7412558197975159,
          0.7422448992729187,
          0.7451461553573608,
          0.7474338412284851,
          0.7492613792419434,
          0.75006502866745,
          0.7526238560676575,
          0.7548067569732666,
          0.7563027739524841,
          0.7587407231330872,
          0.7601566314697266,
          0.7610000967979431,
          0.7638417482376099,
          0.765529215335846,
          0.7666382789611816,
          0.7683649659156799,
          0.7693014144897461,
          0.7721928954124451,
          0.7731986045837402,
          0.7750396728515625,
          0.7769720554351807,
          0.7782008647918701,
          0.7799277305603027,
          0.781573474407196,
          0.7833786606788635,
          0.7839537858963013,
          0.7858544588088989,
          0.786863386631012,
          0.7882106900215149,
          0.7898929119110107,
          0.7911394238471985,
          0.7920790314674377,
          0.7937080264091492,
          0.7947948575019836,
          0.7962292432785034,
          0.7983222603797913,
          0.7990601658821106,
          0.7997705936431885,
          0.8020535707473755,
          0.8028950095176697,
          0.8034829497337341,
          0.804387629032135,
          0.8067125678062439,
          0.8080517649650574,
          0.8076871037483215,
          0.8093903064727783,
          0.8115264773368835,
          0.8121414184570312,
          0.8124000430107117,
          0.8141276836395264,
          0.8139426112174988,
          0.8147461414337158,
          0.815514087677002,
          0.8169599175453186,
          0.8177481293678284,
          0.8196032643318176,
          0.8196857571601868,
          0.8203941583633423,
          0.8226084113121033,
          0.8220442533493042,
          0.822725772857666,
          0.8239262104034424,
          0.8234319090843201,
          0.8247620463371277,
          0.8257522583007812,
          0.8275963664054871,
          0.8272762894630432,
          0.827635645866394,
          0.8286095857620239,
          0.8291404843330383,
          0.8308982849121094,
          0.831063985824585,
          0.8319113254547119,
          0.831612229347229,
          0.8330943584442139,
          0.8329830169677734,
          0.8350613713264465,
          0.8349875807762146,
          0.8352100849151611,
          0.8360549807548523,
          0.8366531133651733,
          0.8368814587593079,
          0.8373234868049622,
          0.8371610641479492,
          0.839185893535614,
          0.8386739492416382,
          0.839838445186615,
          0.8397418260574341,
          0.8405476808547974,
          0.8412004709243774,
          0.8420284390449524
         ],
         "yaxis": "y2"
        },
        {
         "name": "validation loss",
         "type": "scatter",
         "x": [
          0,
          1,
          2,
          3,
          4,
          5,
          6,
          7,
          8,
          9,
          10,
          11,
          12,
          13,
          14,
          15,
          16,
          17,
          18,
          19,
          20,
          21,
          22,
          23,
          24,
          25,
          26,
          27,
          28,
          29,
          30,
          31,
          32,
          33,
          34,
          35,
          36,
          37,
          38,
          39,
          40,
          41,
          42,
          43,
          44,
          45,
          46,
          47,
          48,
          49,
          50,
          51,
          52,
          53,
          54,
          55,
          56,
          57,
          58,
          59,
          60,
          61,
          62,
          63,
          64,
          65,
          66,
          67,
          68,
          69,
          70,
          71,
          72,
          73,
          74,
          75,
          76,
          77,
          78,
          79,
          80,
          81,
          82,
          83,
          84,
          85,
          86,
          87,
          88,
          89,
          90,
          91,
          92,
          93,
          94,
          95,
          96,
          97,
          98,
          99
         ],
         "xaxis": "x",
         "y": [
          0.6211259961128235,
          0.6141776442527771,
          0.6097823977470398,
          0.6053938865661621,
          0.6032626628875732,
          0.6020507216453552,
          0.5999120473861694,
          0.5984716415405273,
          0.5951853394508362,
          0.594430685043335,
          0.5935401916503906,
          0.5914947986602783,
          0.5896742343902588,
          0.5891980528831482,
          0.5891783237457275,
          0.5869718790054321,
          0.5883730053901672,
          0.5868678092956543,
          0.5846832990646362,
          0.5826127529144287,
          0.5824287533760071,
          0.5802486538887024,
          0.5799363851547241,
          0.5780776143074036,
          0.5775439739227295,
          0.5765012502670288,
          0.5761376619338989,
          0.5741461515426636,
          0.5720981359481812,
          0.5723921656608582,
          0.5709872245788574,
          0.5697160959243774,
          0.569287121295929,
          0.5669971108436584,
          0.5664195418357849,
          0.5653629899024963,
          0.5639963150024414,
          0.5660572052001953,
          0.5614053010940552,
          0.5632962584495544,
          0.5601652264595032,
          0.5594565272331238,
          0.5573821067810059,
          0.5559696555137634,
          0.5573450922966003,
          0.5552880167961121,
          0.5550973415374756,
          0.5520481467247009,
          0.5510669946670532,
          0.5494465231895447,
          0.5502079129219055,
          0.5473408102989197,
          0.5481119155883789,
          0.5469368696212769,
          0.5465368628501892,
          0.5444199442863464,
          0.5446791648864746,
          0.5440146327018738,
          0.5466637015342712,
          0.5412546992301941,
          0.5430206060409546,
          0.5400987267494202,
          0.5405206680297852,
          0.5399736166000366,
          0.5387415289878845,
          0.5360841155052185,
          0.5364997982978821,
          0.5351722836494446,
          0.5340432524681091,
          0.5340287685394287,
          0.5325902700424194,
          0.5340814590454102,
          0.5338535904884338,
          0.5306172966957092,
          0.5339975953102112,
          0.5310114622116089,
          0.5321673154830933,
          0.528153657913208,
          0.5322383046150208,
          0.5287908315658569,
          0.5279455184936523,
          0.5272290110588074,
          0.5270424485206604,
          0.5246391892433167,
          0.5250179767608643,
          0.5248035192489624,
          0.5240556001663208,
          0.5216396450996399,
          0.5215049982070923,
          0.5202738046646118,
          0.5205912590026855,
          0.5205240845680237,
          0.5195905566215515,
          0.5207049250602722,
          0.5199323892593384,
          0.5187020301818848,
          0.5174207091331482,
          0.5172027945518494,
          0.5156318545341492,
          0.5186746716499329
         ],
         "yaxis": "y"
        },
        {
         "name": "validation auc",
         "type": "scatter",
         "x": [
          0,
          1,
          2,
          3,
          4,
          5,
          6,
          7,
          8,
          9,
          10,
          11,
          12,
          13,
          14,
          15,
          16,
          17,
          18,
          19,
          20,
          21,
          22,
          23,
          24,
          25,
          26,
          27,
          28,
          29,
          30,
          31,
          32,
          33,
          34,
          35,
          36,
          37,
          38,
          39,
          40,
          41,
          42,
          43,
          44,
          45,
          46,
          47,
          48,
          49,
          50,
          51,
          52,
          53,
          54,
          55,
          56,
          57,
          58,
          59,
          60,
          61,
          62,
          63,
          64,
          65,
          66,
          67,
          68,
          69,
          70,
          71,
          72,
          73,
          74,
          75,
          76,
          77,
          78,
          79,
          80,
          81,
          82,
          83,
          84,
          85,
          86,
          87,
          88,
          89,
          90,
          91,
          92,
          93,
          94,
          95,
          96,
          97,
          98,
          99
         ],
         "xaxis": "x2",
         "y": [
          0.7160190343856812,
          0.7242177724838257,
          0.728897213935852,
          0.7333917617797852,
          0.7359563112258911,
          0.737922728061676,
          0.7407292127609253,
          0.7424997091293335,
          0.745498538017273,
          0.7458263039588928,
          0.7480162382125854,
          0.749840259552002,
          0.7518143653869629,
          0.7522839903831482,
          0.7526943683624268,
          0.7539244890213013,
          0.7536512017250061,
          0.7564724683761597,
          0.75754714012146,
          0.7593474388122559,
          0.7592618465423584,
          0.7620402574539185,
          0.7616012096405029,
          0.763751745223999,
          0.764957070350647,
          0.7650482654571533,
          0.7664884328842163,
          0.7680727243423462,
          0.7696422338485718,
          0.7702644467353821,
          0.771602988243103,
          0.7723433971405029,
          0.77376389503479,
          0.7752009630203247,
          0.7756800055503845,
          0.776747465133667,
          0.7781933546066284,
          0.7770507335662842,
          0.7806880474090576,
          0.7800546288490295,
          0.7816199660301208,
          0.7839388847351074,
          0.7838008403778076,
          0.7863466143608093,
          0.7858147025108337,
          0.7880918979644775,
          0.7883119583129883,
          0.7898013591766357,
          0.7914534211158752,
          0.7924585342407227,
          0.7935215830802917,
          0.7948060035705566,
          0.7948093414306641,
          0.7945679426193237,
          0.7956262826919556,
          0.7972034215927124,
          0.7972679734230042,
          0.7994067668914795,
          0.7988641858100891,
          0.8012446761131287,
          0.7999921441078186,
          0.8026582598686218,
          0.8023096919059753,
          0.803263247013092,
          0.8043040633201599,
          0.805042028427124,
          0.8054391145706177,
          0.8062707781791687,
          0.8080796599388123,
          0.8076679110527039,
          0.8093826174736023,
          0.8080717921257019,
          0.8088895678520203,
          0.8101173639297485,
          0.8097264170646667,
          0.8108477592468262,
          0.8103199005126953,
          0.8135989904403687,
          0.8124919533729553,
          0.812814474105835,
          0.8129734992980957,
          0.8142297267913818,
          0.814856767654419,
          0.8166811466217041,
          0.8165382146835327,
          0.8162841796875,
          0.8176378011703491,
          0.8182061910629272,
          0.8182846307754517,
          0.820573091506958,
          0.819894552230835,
          0.8193339109420776,
          0.820705771446228,
          0.8193862438201904,
          0.8204999566078186,
          0.8210158348083496,
          0.8229362368583679,
          0.8230151534080505,
          0.824006199836731,
          0.8233555555343628
         ],
         "yaxis": "y2"
        }
       ],
       "layout": {
        "template": {
         "data": {
          "bar": [
           {
            "error_x": {
             "color": "#2a3f5f"
            },
            "error_y": {
             "color": "#2a3f5f"
            },
            "marker": {
             "line": {
              "color": "#E5ECF6",
              "width": 0.5
             },
             "pattern": {
              "fillmode": "overlay",
              "size": 10,
              "solidity": 0.2
             }
            },
            "type": "bar"
           }
          ],
          "barpolar": [
           {
            "marker": {
             "line": {
              "color": "#E5ECF6",
              "width": 0.5
             },
             "pattern": {
              "fillmode": "overlay",
              "size": 10,
              "solidity": 0.2
             }
            },
            "type": "barpolar"
           }
          ],
          "carpet": [
           {
            "aaxis": {
             "endlinecolor": "#2a3f5f",
             "gridcolor": "white",
             "linecolor": "white",
             "minorgridcolor": "white",
             "startlinecolor": "#2a3f5f"
            },
            "baxis": {
             "endlinecolor": "#2a3f5f",
             "gridcolor": "white",
             "linecolor": "white",
             "minorgridcolor": "white",
             "startlinecolor": "#2a3f5f"
            },
            "type": "carpet"
           }
          ],
          "choropleth": [
           {
            "colorbar": {
             "outlinewidth": 0,
             "ticks": ""
            },
            "type": "choropleth"
           }
          ],
          "contour": [
           {
            "colorbar": {
             "outlinewidth": 0,
             "ticks": ""
            },
            "colorscale": [
             [
              0,
              "#0d0887"
             ],
             [
              0.1111111111111111,
              "#46039f"
             ],
             [
              0.2222222222222222,
              "#7201a8"
             ],
             [
              0.3333333333333333,
              "#9c179e"
             ],
             [
              0.4444444444444444,
              "#bd3786"
             ],
             [
              0.5555555555555556,
              "#d8576b"
             ],
             [
              0.6666666666666666,
              "#ed7953"
             ],
             [
              0.7777777777777778,
              "#fb9f3a"
             ],
             [
              0.8888888888888888,
              "#fdca26"
             ],
             [
              1,
              "#f0f921"
             ]
            ],
            "type": "contour"
           }
          ],
          "contourcarpet": [
           {
            "colorbar": {
             "outlinewidth": 0,
             "ticks": ""
            },
            "type": "contourcarpet"
           }
          ],
          "heatmap": [
           {
            "colorbar": {
             "outlinewidth": 0,
             "ticks": ""
            },
            "colorscale": [
             [
              0,
              "#0d0887"
             ],
             [
              0.1111111111111111,
              "#46039f"
             ],
             [
              0.2222222222222222,
              "#7201a8"
             ],
             [
              0.3333333333333333,
              "#9c179e"
             ],
             [
              0.4444444444444444,
              "#bd3786"
             ],
             [
              0.5555555555555556,
              "#d8576b"
             ],
             [
              0.6666666666666666,
              "#ed7953"
             ],
             [
              0.7777777777777778,
              "#fb9f3a"
             ],
             [
              0.8888888888888888,
              "#fdca26"
             ],
             [
              1,
              "#f0f921"
             ]
            ],
            "type": "heatmap"
           }
          ],
          "heatmapgl": [
           {
            "colorbar": {
             "outlinewidth": 0,
             "ticks": ""
            },
            "colorscale": [
             [
              0,
              "#0d0887"
             ],
             [
              0.1111111111111111,
              "#46039f"
             ],
             [
              0.2222222222222222,
              "#7201a8"
             ],
             [
              0.3333333333333333,
              "#9c179e"
             ],
             [
              0.4444444444444444,
              "#bd3786"
             ],
             [
              0.5555555555555556,
              "#d8576b"
             ],
             [
              0.6666666666666666,
              "#ed7953"
             ],
             [
              0.7777777777777778,
              "#fb9f3a"
             ],
             [
              0.8888888888888888,
              "#fdca26"
             ],
             [
              1,
              "#f0f921"
             ]
            ],
            "type": "heatmapgl"
           }
          ],
          "histogram": [
           {
            "marker": {
             "pattern": {
              "fillmode": "overlay",
              "size": 10,
              "solidity": 0.2
             }
            },
            "type": "histogram"
           }
          ],
          "histogram2d": [
           {
            "colorbar": {
             "outlinewidth": 0,
             "ticks": ""
            },
            "colorscale": [
             [
              0,
              "#0d0887"
             ],
             [
              0.1111111111111111,
              "#46039f"
             ],
             [
              0.2222222222222222,
              "#7201a8"
             ],
             [
              0.3333333333333333,
              "#9c179e"
             ],
             [
              0.4444444444444444,
              "#bd3786"
             ],
             [
              0.5555555555555556,
              "#d8576b"
             ],
             [
              0.6666666666666666,
              "#ed7953"
             ],
             [
              0.7777777777777778,
              "#fb9f3a"
             ],
             [
              0.8888888888888888,
              "#fdca26"
             ],
             [
              1,
              "#f0f921"
             ]
            ],
            "type": "histogram2d"
           }
          ],
          "histogram2dcontour": [
           {
            "colorbar": {
             "outlinewidth": 0,
             "ticks": ""
            },
            "colorscale": [
             [
              0,
              "#0d0887"
             ],
             [
              0.1111111111111111,
              "#46039f"
             ],
             [
              0.2222222222222222,
              "#7201a8"
             ],
             [
              0.3333333333333333,
              "#9c179e"
             ],
             [
              0.4444444444444444,
              "#bd3786"
             ],
             [
              0.5555555555555556,
              "#d8576b"
             ],
             [
              0.6666666666666666,
              "#ed7953"
             ],
             [
              0.7777777777777778,
              "#fb9f3a"
             ],
             [
              0.8888888888888888,
              "#fdca26"
             ],
             [
              1,
              "#f0f921"
             ]
            ],
            "type": "histogram2dcontour"
           }
          ],
          "mesh3d": [
           {
            "colorbar": {
             "outlinewidth": 0,
             "ticks": ""
            },
            "type": "mesh3d"
           }
          ],
          "parcoords": [
           {
            "line": {
             "colorbar": {
              "outlinewidth": 0,
              "ticks": ""
             }
            },
            "type": "parcoords"
           }
          ],
          "pie": [
           {
            "automargin": true,
            "type": "pie"
           }
          ],
          "scatter": [
           {
            "fillpattern": {
             "fillmode": "overlay",
             "size": 10,
             "solidity": 0.2
            },
            "type": "scatter"
           }
          ],
          "scatter3d": [
           {
            "line": {
             "colorbar": {
              "outlinewidth": 0,
              "ticks": ""
             }
            },
            "marker": {
             "colorbar": {
              "outlinewidth": 0,
              "ticks": ""
             }
            },
            "type": "scatter3d"
           }
          ],
          "scattercarpet": [
           {
            "marker": {
             "colorbar": {
              "outlinewidth": 0,
              "ticks": ""
             }
            },
            "type": "scattercarpet"
           }
          ],
          "scattergeo": [
           {
            "marker": {
             "colorbar": {
              "outlinewidth": 0,
              "ticks": ""
             }
            },
            "type": "scattergeo"
           }
          ],
          "scattergl": [
           {
            "marker": {
             "colorbar": {
              "outlinewidth": 0,
              "ticks": ""
             }
            },
            "type": "scattergl"
           }
          ],
          "scattermapbox": [
           {
            "marker": {
             "colorbar": {
              "outlinewidth": 0,
              "ticks": ""
             }
            },
            "type": "scattermapbox"
           }
          ],
          "scatterpolar": [
           {
            "marker": {
             "colorbar": {
              "outlinewidth": 0,
              "ticks": ""
             }
            },
            "type": "scatterpolar"
           }
          ],
          "scatterpolargl": [
           {
            "marker": {
             "colorbar": {
              "outlinewidth": 0,
              "ticks": ""
             }
            },
            "type": "scatterpolargl"
           }
          ],
          "scatterternary": [
           {
            "marker": {
             "colorbar": {
              "outlinewidth": 0,
              "ticks": ""
             }
            },
            "type": "scatterternary"
           }
          ],
          "surface": [
           {
            "colorbar": {
             "outlinewidth": 0,
             "ticks": ""
            },
            "colorscale": [
             [
              0,
              "#0d0887"
             ],
             [
              0.1111111111111111,
              "#46039f"
             ],
             [
              0.2222222222222222,
              "#7201a8"
             ],
             [
              0.3333333333333333,
              "#9c179e"
             ],
             [
              0.4444444444444444,
              "#bd3786"
             ],
             [
              0.5555555555555556,
              "#d8576b"
             ],
             [
              0.6666666666666666,
              "#ed7953"
             ],
             [
              0.7777777777777778,
              "#fb9f3a"
             ],
             [
              0.8888888888888888,
              "#fdca26"
             ],
             [
              1,
              "#f0f921"
             ]
            ],
            "type": "surface"
           }
          ],
          "table": [
           {
            "cells": {
             "fill": {
              "color": "#EBF0F8"
             },
             "line": {
              "color": "white"
             }
            },
            "header": {
             "fill": {
              "color": "#C8D4E3"
             },
             "line": {
              "color": "white"
             }
            },
            "type": "table"
           }
          ]
         },
         "layout": {
          "annotationdefaults": {
           "arrowcolor": "#2a3f5f",
           "arrowhead": 0,
           "arrowwidth": 1
          },
          "autotypenumbers": "strict",
          "coloraxis": {
           "colorbar": {
            "outlinewidth": 0,
            "ticks": ""
           }
          },
          "colorscale": {
           "diverging": [
            [
             0,
             "#8e0152"
            ],
            [
             0.1,
             "#c51b7d"
            ],
            [
             0.2,
             "#de77ae"
            ],
            [
             0.3,
             "#f1b6da"
            ],
            [
             0.4,
             "#fde0ef"
            ],
            [
             0.5,
             "#f7f7f7"
            ],
            [
             0.6,
             "#e6f5d0"
            ],
            [
             0.7,
             "#b8e186"
            ],
            [
             0.8,
             "#7fbc41"
            ],
            [
             0.9,
             "#4d9221"
            ],
            [
             1,
             "#276419"
            ]
           ],
           "sequential": [
            [
             0,
             "#0d0887"
            ],
            [
             0.1111111111111111,
             "#46039f"
            ],
            [
             0.2222222222222222,
             "#7201a8"
            ],
            [
             0.3333333333333333,
             "#9c179e"
            ],
            [
             0.4444444444444444,
             "#bd3786"
            ],
            [
             0.5555555555555556,
             "#d8576b"
            ],
            [
             0.6666666666666666,
             "#ed7953"
            ],
            [
             0.7777777777777778,
             "#fb9f3a"
            ],
            [
             0.8888888888888888,
             "#fdca26"
            ],
            [
             1,
             "#f0f921"
            ]
           ],
           "sequentialminus": [
            [
             0,
             "#0d0887"
            ],
            [
             0.1111111111111111,
             "#46039f"
            ],
            [
             0.2222222222222222,
             "#7201a8"
            ],
            [
             0.3333333333333333,
             "#9c179e"
            ],
            [
             0.4444444444444444,
             "#bd3786"
            ],
            [
             0.5555555555555556,
             "#d8576b"
            ],
            [
             0.6666666666666666,
             "#ed7953"
            ],
            [
             0.7777777777777778,
             "#fb9f3a"
            ],
            [
             0.8888888888888888,
             "#fdca26"
            ],
            [
             1,
             "#f0f921"
            ]
           ]
          },
          "colorway": [
           "#636efa",
           "#EF553B",
           "#00cc96",
           "#ab63fa",
           "#FFA15A",
           "#19d3f3",
           "#FF6692",
           "#B6E880",
           "#FF97FF",
           "#FECB52"
          ],
          "font": {
           "color": "#2a3f5f"
          },
          "geo": {
           "bgcolor": "white",
           "lakecolor": "white",
           "landcolor": "#E5ECF6",
           "showlakes": true,
           "showland": true,
           "subunitcolor": "white"
          },
          "hoverlabel": {
           "align": "left"
          },
          "hovermode": "closest",
          "mapbox": {
           "style": "light"
          },
          "paper_bgcolor": "white",
          "plot_bgcolor": "#E5ECF6",
          "polar": {
           "angularaxis": {
            "gridcolor": "white",
            "linecolor": "white",
            "ticks": ""
           },
           "bgcolor": "#E5ECF6",
           "radialaxis": {
            "gridcolor": "white",
            "linecolor": "white",
            "ticks": ""
           }
          },
          "scene": {
           "xaxis": {
            "backgroundcolor": "#E5ECF6",
            "gridcolor": "white",
            "gridwidth": 2,
            "linecolor": "white",
            "showbackground": true,
            "ticks": "",
            "zerolinecolor": "white"
           },
           "yaxis": {
            "backgroundcolor": "#E5ECF6",
            "gridcolor": "white",
            "gridwidth": 2,
            "linecolor": "white",
            "showbackground": true,
            "ticks": "",
            "zerolinecolor": "white"
           },
           "zaxis": {
            "backgroundcolor": "#E5ECF6",
            "gridcolor": "white",
            "gridwidth": 2,
            "linecolor": "white",
            "showbackground": true,
            "ticks": "",
            "zerolinecolor": "white"
           }
          },
          "shapedefaults": {
           "line": {
            "color": "#2a3f5f"
           }
          },
          "ternary": {
           "aaxis": {
            "gridcolor": "white",
            "linecolor": "white",
            "ticks": ""
           },
           "baxis": {
            "gridcolor": "white",
            "linecolor": "white",
            "ticks": ""
           },
           "bgcolor": "#E5ECF6",
           "caxis": {
            "gridcolor": "white",
            "linecolor": "white",
            "ticks": ""
           }
          },
          "title": {
           "x": 0.05
          },
          "xaxis": {
           "automargin": true,
           "gridcolor": "white",
           "linecolor": "white",
           "ticks": "",
           "title": {
            "standoff": 15
           },
           "zerolinecolor": "white",
           "zerolinewidth": 2
          },
          "yaxis": {
           "automargin": true,
           "gridcolor": "white",
           "linecolor": "white",
           "ticks": "",
           "title": {
            "standoff": 15
           },
           "zerolinecolor": "white",
           "zerolinewidth": 2
          }
         }
        },
        "xaxis": {
         "anchor": "y",
         "domain": [
          0,
          0.45
         ]
        },
        "xaxis2": {
         "anchor": "y2",
         "domain": [
          0.55,
          1
         ]
        },
        "yaxis": {
         "anchor": "x",
         "domain": [
          0,
          1
         ]
        },
        "yaxis2": {
         "anchor": "x2",
         "domain": [
          0,
          1
         ]
        }
       }
      }
     },
     "metadata": {},
     "output_type": "display_data"
    }
   ],
   "source": [
    "plot_fit_result(result)"
   ]
  },
  {
   "cell_type": "code",
   "execution_count": 102,
   "metadata": {},
   "outputs": [
    {
     "data": {
      "application/vnd.plotly.v1+json": {
       "config": {
        "plotlyServerURL": "https://plot.ly"
       },
       "data": [
        {
         "name": "train loss",
         "type": "scatter",
         "x": [
          0,
          1,
          2,
          3,
          4,
          5,
          6,
          7,
          8,
          9,
          10,
          11,
          12,
          13,
          14,
          15,
          16,
          17,
          18,
          19,
          20,
          21,
          22,
          23,
          24,
          25,
          26,
          27,
          28,
          29,
          30,
          31,
          32,
          33,
          34,
          35,
          36,
          37,
          38,
          39,
          40,
          41,
          42,
          43,
          44,
          45,
          46,
          47,
          48,
          49,
          50,
          51,
          52,
          53,
          54,
          55,
          56,
          57,
          58,
          59,
          60,
          61,
          62,
          63,
          64,
          65,
          66,
          67,
          68,
          69,
          70,
          71,
          72,
          73,
          74,
          75,
          76,
          77,
          78,
          79,
          80,
          81,
          82,
          83,
          84,
          85,
          86,
          87,
          88,
          89,
          90,
          91,
          92,
          93,
          94,
          95,
          96,
          97,
          98,
          99,
          100,
          101,
          102,
          103,
          104,
          105,
          106,
          107,
          108,
          109,
          110,
          111,
          112,
          113,
          114,
          115,
          116,
          117,
          118,
          119,
          120,
          121,
          122,
          123,
          124,
          125,
          126,
          127,
          128,
          129,
          130,
          131,
          132,
          133,
          134,
          135,
          136,
          137,
          138,
          139,
          140,
          141,
          142,
          143,
          144,
          145,
          146,
          147,
          148,
          149,
          150,
          151,
          152,
          153,
          154,
          155,
          156,
          157,
          158,
          159,
          160,
          161
         ],
         "xaxis": "x",
         "y": [
          0.6371330618858337,
          0.623936116695404,
          0.6177398562431335,
          0.6134246587753296,
          0.6109791398048401,
          0.6074556708335876,
          0.6053879857063293,
          0.6031715273857117,
          0.6003367900848389,
          0.5985576510429382,
          0.5970790982246399,
          0.5949435234069824,
          0.5932728052139282,
          0.5914703011512756,
          0.5900735855102539,
          0.5879068970680237,
          0.586461067199707,
          0.5846280455589294,
          0.5834700465202332,
          0.5821403861045837,
          0.5792706608772278,
          0.578289806842804,
          0.576697826385498,
          0.5755584836006165,
          0.5730588436126709,
          0.5719389319419861,
          0.570767879486084,
          0.5686819553375244,
          0.5677170753479004,
          0.566071629524231,
          0.5642402768135071,
          0.5623014569282532,
          0.5612183213233948,
          0.5591520071029663,
          0.5593194365501404,
          0.5563876628875732,
          0.5553545951843262,
          0.55362468957901,
          0.5525407791137695,
          0.5500471591949463,
          0.5497388243675232,
          0.5473820567131042,
          0.5469438433647156,
          0.5450416207313538,
          0.5447134375572205,
          0.5426079630851746,
          0.5411170125007629,
          0.540431797504425,
          0.5397225022315979,
          0.5377579927444458,
          0.536655843257904,
          0.5347951054573059,
          0.5343015193939209,
          0.5326663255691528,
          0.5314713716506958,
          0.530066192150116,
          0.5290123224258423,
          0.527418315410614,
          0.5270702838897705,
          0.5251978635787964,
          0.5248400568962097,
          0.5231576561927795,
          0.5223551988601685,
          0.5202128887176514,
          0.5199173092842102,
          0.5193522572517395,
          0.5185211896896362,
          0.5172011256217957,
          0.5164069533348083,
          0.5146316885948181,
          0.5140098333358765,
          0.5145168900489807,
          0.5118697285652161,
          0.5118785500526428,
          0.5091102123260498,
          0.5103862881660461,
          0.5088947415351868,
          0.5066500902175903,
          0.5070884227752686,
          0.5044495463371277,
          0.5048815011978149,
          0.5040683746337891,
          0.5027445554733276,
          0.5019810795783997,
          0.5000788569450378,
          0.49994710087776184,
          0.4985736906528473,
          0.4983747899532318,
          0.4974205493927002,
          0.49840155243873596,
          0.4974271357059479,
          0.49531474709510803,
          0.49457991123199463,
          0.4942552149295807,
          0.4932350516319275,
          0.49302488565444946,
          0.4919947683811188,
          0.4918380379676819,
          0.4897598922252655,
          0.4901695251464844,
          0.4911823272705078,
          0.48895159363746643,
          0.4884890913963318,
          0.4876025319099426,
          0.4879390597343445,
          0.48609864711761475,
          0.48636358976364136,
          0.48382776975631714,
          0.4848445951938629,
          0.48253142833709717,
          0.4842929244041443,
          0.4837244153022766,
          0.48262277245521545,
          0.48280730843544006,
          0.48013755679130554,
          0.47944194078445435,
          0.47855710983276367,
          0.4796266555786133,
          0.47963395714759827,
          0.4784695506095886,
          0.4784810543060303,
          0.47772979736328125,
          0.4770057201385498,
          0.4759872853755951,
          0.475739061832428,
          0.4754429757595062,
          0.47509437799453735,
          0.47392189502716064,
          0.4729160666465759,
          0.47339940071105957,
          0.472425252199173,
          0.47166451811790466,
          0.47132912278175354,
          0.47337788343429565,
          0.47239425778388977,
          0.46972110867500305,
          0.46971040964126587,
          0.4690511226654053,
          0.4671945571899414,
          0.46808335185050964,
          0.4688137173652649,
          0.46886366605758667,
          0.46650370955467224,
          0.4652417302131653,
          0.4672775864601135,
          0.46639108657836914,
          0.4664444327354431,
          0.46499964594841003,
          0.4645092487335205,
          0.4643450677394867,
          0.4626229405403137,
          0.46379727125167847,
          0.4648423194885254,
          0.46322205662727356,
          0.4630048871040344,
          0.4617820382118225,
          0.45930442214012146,
          0.4604193866252899,
          0.46092820167541504,
          0.46225467324256897,
          0.4612521231174469,
          0.46042466163635254
         ],
         "yaxis": "y"
        },
        {
         "name": "train auc",
         "type": "scatter",
         "x": [
          0,
          1,
          2,
          3,
          4,
          5,
          6,
          7,
          8,
          9,
          10,
          11,
          12,
          13,
          14,
          15,
          16,
          17,
          18,
          19,
          20,
          21,
          22,
          23,
          24,
          25,
          26,
          27,
          28,
          29,
          30,
          31,
          32,
          33,
          34,
          35,
          36,
          37,
          38,
          39,
          40,
          41,
          42,
          43,
          44,
          45,
          46,
          47,
          48,
          49,
          50,
          51,
          52,
          53,
          54,
          55,
          56,
          57,
          58,
          59,
          60,
          61,
          62,
          63,
          64,
          65,
          66,
          67,
          68,
          69,
          70,
          71,
          72,
          73,
          74,
          75,
          76,
          77,
          78,
          79,
          80,
          81,
          82,
          83,
          84,
          85,
          86,
          87,
          88,
          89,
          90,
          91,
          92,
          93,
          94,
          95,
          96,
          97,
          98,
          99,
          100,
          101,
          102,
          103,
          104,
          105,
          106,
          107,
          108,
          109,
          110,
          111,
          112,
          113,
          114,
          115,
          116,
          117,
          118,
          119,
          120,
          121,
          122,
          123,
          124,
          125,
          126,
          127,
          128,
          129,
          130,
          131,
          132,
          133,
          134,
          135,
          136,
          137,
          138,
          139,
          140,
          141,
          142,
          143,
          144,
          145,
          146,
          147,
          148,
          149,
          150,
          151,
          152,
          153,
          154,
          155,
          156,
          157,
          158,
          159,
          160,
          161
         ],
         "xaxis": "x2",
         "y": [
          0.690055787563324,
          0.7093503475189209,
          0.7174810171127319,
          0.7230057716369629,
          0.7259085774421692,
          0.7306404113769531,
          0.7329102754592896,
          0.7355459332466125,
          0.7386957406997681,
          0.7407432198524475,
          0.7426853775978088,
          0.7450436353683472,
          0.7469127178192139,
          0.7488318085670471,
          0.7507765293121338,
          0.752812385559082,
          0.7543576955795288,
          0.7562399506568909,
          0.7574377655982971,
          0.758958101272583,
          0.7621896862983704,
          0.7635591626167297,
          0.7645553946495056,
          0.7659188508987427,
          0.7683618068695068,
          0.7696709036827087,
          0.7709851264953613,
          0.7732933759689331,
          0.7741883397102356,
          0.7754974961280823,
          0.7772327661514282,
          0.7794871926307678,
          0.7802128195762634,
          0.7821580767631531,
          0.7824029326438904,
          0.7847718000411987,
          0.7856951951980591,
          0.7878418564796448,
          0.7888839840888977,
          0.7908068299293518,
          0.7912066578865051,
          0.7934747934341431,
          0.7938217520713806,
          0.7953925728797913,
          0.7959722280502319,
          0.7979868650436401,
          0.7992169857025146,
          0.7999054789543152,
          0.8001418113708496,
          0.8022011518478394,
          0.802883505821228,
          0.8047374486923218,
          0.8050601482391357,
          0.8069136738777161,
          0.8075385689735413,
          0.8088605403900146,
          0.8097027540206909,
          0.8108981847763062,
          0.8113774061203003,
          0.8131570816040039,
          0.8131458163261414,
          0.8146265149116516,
          0.8153243660926819,
          0.8171263337135315,
          0.8170726895332336,
          0.8180156350135803,
          0.8187741637229919,
          0.8198967576026917,
          0.8205721378326416,
          0.82185959815979,
          0.8222885727882385,
          0.8220421671867371,
          0.8241755962371826,
          0.8239535689353943,
          0.8263497948646545,
          0.8252453804016113,
          0.8261376619338989,
          0.8283567428588867,
          0.8276329636573792,
          0.8299588561058044,
          0.8296910524368286,
          0.8302561044692993,
          0.8313799500465393,
          0.831957995891571,
          0.8334460258483887,
          0.8333973288536072,
          0.8342127203941345,
          0.8345223069190979,
          0.8354057669639587,
          0.8346471786499023,
          0.8354629278182983,
          0.8367791771888733,
          0.8378071784973145,
          0.8377691507339478,
          0.8386147618293762,
          0.8387259244918823,
          0.8394103646278381,
          0.8395932912826538,
          0.8412829041481018,
          0.8408676981925964,
          0.840398907661438,
          0.8416393995285034,
          0.8421616554260254,
          0.8428850769996643,
          0.8424980640411377,
          0.843852698802948,
          0.8439592123031616,
          0.8456286787986755,
          0.844965934753418,
          0.8464297652244568,
          0.8451780080795288,
          0.8460446000099182,
          0.846467912197113,
          0.8464030027389526,
          0.8483973741531372,
          0.8486544489860535,
          0.849249541759491,
          0.8487385511398315,
          0.8485169410705566,
          0.8495838046073914,
          0.8494225740432739,
          0.8502376675605774,
          0.8506386280059814,
          0.8513575792312622,
          0.8517824411392212,
          0.8517451882362366,
          0.851901113986969,
          0.8528555631637573,
          0.8534512519836426,
          0.8530489802360535,
          0.8538023233413696,
          0.8544232249259949,
          0.8543598055839539,
          0.8533312082290649,
          0.8538854122161865,
          0.855854868888855,
          0.856049656867981,
          0.8563002347946167,
          0.8574339747428894,
          0.8569915890693665,
          0.8562526702880859,
          0.8563869595527649,
          0.8579593300819397,
          0.8590710163116455,
          0.8571877479553223,
          0.8582396507263184,
          0.8579270839691162,
          0.8591607809066772,
          0.8591532707214355,
          0.8593889474868774,
          0.8607740998268127,
          0.8598924279212952,
          0.8591126799583435,
          0.8602297306060791,
          0.8605126738548279,
          0.8612951636314392,
          0.8629332184791565,
          0.8622762560844421,
          0.8617086410522461,
          0.8610668182373047,
          0.8617769479751587,
          0.8624767661094666
         ],
         "yaxis": "y2"
        },
        {
         "name": "validation loss",
         "type": "scatter",
         "x": [
          0,
          1,
          2,
          3,
          4,
          5,
          6,
          7,
          8,
          9,
          10,
          11,
          12,
          13,
          14,
          15,
          16,
          17,
          18,
          19,
          20,
          21,
          22,
          23,
          24,
          25,
          26,
          27,
          28,
          29,
          30,
          31,
          32,
          33,
          34,
          35,
          36,
          37,
          38,
          39,
          40,
          41,
          42,
          43,
          44,
          45,
          46,
          47,
          48,
          49,
          50,
          51,
          52,
          53,
          54,
          55,
          56,
          57,
          58,
          59,
          60,
          61,
          62,
          63,
          64,
          65,
          66,
          67,
          68,
          69,
          70,
          71,
          72,
          73,
          74,
          75,
          76,
          77,
          78,
          79,
          80,
          81,
          82,
          83,
          84,
          85,
          86,
          87,
          88,
          89,
          90,
          91,
          92,
          93,
          94,
          95,
          96,
          97,
          98,
          99,
          100,
          101,
          102,
          103,
          104,
          105,
          106,
          107,
          108,
          109,
          110,
          111,
          112,
          113,
          114,
          115,
          116,
          117,
          118,
          119,
          120,
          121,
          122,
          123,
          124,
          125,
          126,
          127,
          128,
          129,
          130,
          131,
          132,
          133,
          134,
          135,
          136,
          137,
          138,
          139,
          140,
          141,
          142,
          143,
          144,
          145,
          146,
          147,
          148,
          149,
          150,
          151,
          152,
          153,
          154,
          155,
          156,
          157,
          158,
          159,
          160,
          161
         ],
         "xaxis": "x",
         "y": [
          0.6198221445083618,
          0.6150686144828796,
          0.6125138401985168,
          0.6065064668655396,
          0.6030824184417725,
          0.60141521692276,
          0.598745584487915,
          0.5989981293678284,
          0.5963833332061768,
          0.5940645337104797,
          0.5952110290527344,
          0.5933655500411987,
          0.591074526309967,
          0.5886781811714172,
          0.5892773866653442,
          0.5885466933250427,
          0.5863124132156372,
          0.5851066708564758,
          0.5842024683952332,
          0.5818372964859009,
          0.5813330411911011,
          0.5808064937591553,
          0.5806582570075989,
          0.5780206322669983,
          0.5758212208747864,
          0.5756509900093079,
          0.5762338638305664,
          0.5737308263778687,
          0.5749958753585815,
          0.5716463327407837,
          0.5703204870223999,
          0.5708025693893433,
          0.5706162452697754,
          0.5688022971153259,
          0.5678232908248901,
          0.5650147795677185,
          0.5642335414886475,
          0.563075065612793,
          0.5615952610969543,
          0.5609208941459656,
          0.5599507689476013,
          0.5584563612937927,
          0.5584719181060791,
          0.557662308216095,
          0.5572100281715393,
          0.5552230477333069,
          0.554162859916687,
          0.5537004470825195,
          0.552067756652832,
          0.5522592067718506,
          0.5530431866645813,
          0.5507516264915466,
          0.5484114289283752,
          0.5478480458259583,
          0.5471294522285461,
          0.5469356775283813,
          0.5441796183586121,
          0.5447008609771729,
          0.5440282225608826,
          0.5417159199714661,
          0.5421009659767151,
          0.5401543378829956,
          0.5417688488960266,
          0.5403850078582764,
          0.5382142663002014,
          0.5371565818786621,
          0.5367583632469177,
          0.5341756343841553,
          0.5351573824882507,
          0.531959056854248,
          0.532758891582489,
          0.531195342540741,
          0.530998945236206,
          0.5303574204444885,
          0.530824601650238,
          0.5304825901985168,
          0.5287637114524841,
          0.5291944146156311,
          0.526811420917511,
          0.5263336300849915,
          0.5254647731781006,
          0.5284486413002014,
          0.5255430340766907,
          0.5232142210006714,
          0.5230379104614258,
          0.5229182243347168,
          0.5215132236480713,
          0.5224505066871643,
          0.5205630660057068,
          0.5192176699638367,
          0.5214422941207886,
          0.5198478698730469,
          0.5177997350692749,
          0.5198999643325806,
          0.51837557554245,
          0.5155600309371948,
          0.5158165693283081,
          0.5165191292762756,
          0.5166835784912109,
          0.5136048793792725,
          0.5143154263496399,
          0.5139375329017639,
          0.514586865901947,
          0.5139579772949219,
          0.5133140087127686,
          0.5133858919143677,
          0.5107941031455994,
          0.5098874568939209,
          0.5099744200706482,
          0.5108916163444519,
          0.508310854434967,
          0.5108289122581482,
          0.5071500539779663,
          0.5092414021492004,
          0.5053356885910034,
          0.5063368082046509,
          0.5062267780303955,
          0.5082862377166748,
          0.5068870186805725,
          0.5064843893051147,
          0.5055821537971497,
          0.5022743940353394,
          0.5015642642974854,
          0.5038263201713562,
          0.5028857588768005,
          0.5002287030220032,
          0.5035386681556702,
          0.5010668635368347,
          0.5015573501586914,
          0.49971920251846313,
          0.5007593631744385,
          0.5008248090744019,
          0.5027377605438232,
          0.4983152151107788,
          0.49900150299072266,
          0.4982796013355255,
          0.5003208518028259,
          0.4974542260169983,
          0.49607157707214355,
          0.4963049590587616,
          0.4976573884487152,
          0.4958941340446472,
          0.4961777329444885,
          0.4951833486557007,
          0.4963653087615967,
          0.49389341473579407,
          0.49527302384376526,
          0.4950452744960785,
          0.49339479207992554,
          0.49341633915901184,
          0.4913398325443268,
          0.4941554069519043,
          0.4931822121143341,
          0.4915226101875305,
          0.49266794323921204,
          0.49119532108306885,
          0.4899384677410126,
          0.49187323451042175,
          0.49296870827674866,
          0.48932555317878723,
          0.49085938930511475,
          0.49098801612854004
         ],
         "yaxis": "y"
        },
        {
         "name": "validation auc",
         "type": "scatter",
         "x": [
          0,
          1,
          2,
          3,
          4,
          5,
          6,
          7,
          8,
          9,
          10,
          11,
          12,
          13,
          14,
          15,
          16,
          17,
          18,
          19,
          20,
          21,
          22,
          23,
          24,
          25,
          26,
          27,
          28,
          29,
          30,
          31,
          32,
          33,
          34,
          35,
          36,
          37,
          38,
          39,
          40,
          41,
          42,
          43,
          44,
          45,
          46,
          47,
          48,
          49,
          50,
          51,
          52,
          53,
          54,
          55,
          56,
          57,
          58,
          59,
          60,
          61,
          62,
          63,
          64,
          65,
          66,
          67,
          68,
          69,
          70,
          71,
          72,
          73,
          74,
          75,
          76,
          77,
          78,
          79,
          80,
          81,
          82,
          83,
          84,
          85,
          86,
          87,
          88,
          89,
          90,
          91,
          92,
          93,
          94,
          95,
          96,
          97,
          98,
          99,
          100,
          101,
          102,
          103,
          104,
          105,
          106,
          107,
          108,
          109,
          110,
          111,
          112,
          113,
          114,
          115,
          116,
          117,
          118,
          119,
          120,
          121,
          122,
          123,
          124,
          125,
          126,
          127,
          128,
          129,
          130,
          131,
          132,
          133,
          134,
          135,
          136,
          137,
          138,
          139,
          140,
          141,
          142,
          143,
          144,
          145,
          146,
          147,
          148,
          149,
          150,
          151,
          152,
          153,
          154,
          155,
          156,
          157,
          158,
          159,
          160,
          161
         ],
         "xaxis": "x2",
         "y": [
          0.7159024477005005,
          0.7236841320991516,
          0.7285288572311401,
          0.7334550619125366,
          0.7372381687164307,
          0.7396856546401978,
          0.7409914135932922,
          0.7432247400283813,
          0.7454780340194702,
          0.7469701766967773,
          0.7463442087173462,
          0.7497985363006592,
          0.7510658502578735,
          0.7527948617935181,
          0.7524901628494263,
          0.7543561458587646,
          0.7565157413482666,
          0.7571887373924255,
          0.7579997181892395,
          0.7602403163909912,
          0.7607176899909973,
          0.7615960836410522,
          0.7630215883255005,
          0.7646013498306274,
          0.7657796144485474,
          0.766804039478302,
          0.7671700716018677,
          0.7687171101570129,
          0.7672317028045654,
          0.7703433632850647,
          0.7722739577293396,
          0.7723539471626282,
          0.7728918790817261,
          0.7742828130722046,
          0.7751574516296387,
          0.7773336172103882,
          0.7778854966163635,
          0.779302716255188,
          0.7801759839057922,
          0.7812588214874268,
          0.7818747162818909,
          0.7838175296783447,
          0.7838633060455322,
          0.7850839495658875,
          0.7854801416397095,
          0.7877110242843628,
          0.7878931760787964,
          0.7884684205055237,
          0.789655864238739,
          0.7902013063430786,
          0.7900810241699219,
          0.7921729683876038,
          0.7938453555107117,
          0.794409990310669,
          0.7950151562690735,
          0.7959662675857544,
          0.7976772785186768,
          0.7973705530166626,
          0.7983489036560059,
          0.8001177310943604,
          0.800879180431366,
          0.8016127347946167,
          0.7999982833862305,
          0.8023234009742737,
          0.803227961063385,
          0.8040406107902527,
          0.8054059147834778,
          0.8071427345275879,
          0.8069723844528198,
          0.8084264993667603,
          0.8082711100578308,
          0.8099937438964844,
          0.8093426823616028,
          0.8110888600349426,
          0.8109456300735474,
          0.8103542327880859,
          0.8123501539230347,
          0.8127824664115906,
          0.8135641813278198,
          0.8144969344139099,
          0.8156079053878784,
          0.812596321105957,
          0.814639151096344,
          0.816299319267273,
          0.8181697130203247,
          0.8180286288261414,
          0.818888247013092,
          0.8187268972396851,
          0.8200458884239197,
          0.8203373551368713,
          0.8205376267433167,
          0.8213937878608704,
          0.8216509222984314,
          0.8207711577415466,
          0.8223056793212891,
          0.823754072189331,
          0.8240241408348083,
          0.8240349888801575,
          0.8232433795928955,
          0.8256810307502747,
          0.8245027661323547,
          0.8251837491989136,
          0.824121356010437,
          0.8256401419639587,
          0.8260982036590576,
          0.8266952037811279,
          0.8280848264694214,
          0.8283447027206421,
          0.828610360622406,
          0.8293537497520447,
          0.8304067850112915,
          0.828417181968689,
          0.8307478427886963,
          0.8301793336868286,
          0.8317853808403015,
          0.8310645818710327,
          0.8317297697067261,
          0.8312290906906128,
          0.8315339088439941,
          0.8322409391403198,
          0.8323734402656555,
          0.8342418074607849,
          0.8347494602203369,
          0.8331037759780884,
          0.8342814445495605,
          0.8361916542053223,
          0.8349978923797607,
          0.8357133865356445,
          0.8358674645423889,
          0.8362980484962463,
          0.8358808159828186,
          0.8359103202819824,
          0.8357681035995483,
          0.8379535675048828,
          0.8378798365592957,
          0.8381651043891907,
          0.837751030921936,
          0.8387236595153809,
          0.8391502499580383,
          0.8394591212272644,
          0.8390626907348633,
          0.8393166065216064,
          0.8396221399307251,
          0.8404741287231445,
          0.8402405977249146,
          0.8419456481933594,
          0.840327262878418,
          0.8416085243225098,
          0.8421696424484253,
          0.8421937227249146,
          0.8434751629829407,
          0.8425712585449219,
          0.8426516652107239,
          0.8429037928581238,
          0.8431099653244019,
          0.8439949154853821,
          0.844279944896698,
          0.8435946702957153,
          0.8440345525741577,
          0.8447731733322144,
          0.8445879817008972,
          0.8446359038352966
         ],
         "yaxis": "y2"
        }
       ],
       "layout": {
        "template": {
         "data": {
          "bar": [
           {
            "error_x": {
             "color": "#2a3f5f"
            },
            "error_y": {
             "color": "#2a3f5f"
            },
            "marker": {
             "line": {
              "color": "#E5ECF6",
              "width": 0.5
             },
             "pattern": {
              "fillmode": "overlay",
              "size": 10,
              "solidity": 0.2
             }
            },
            "type": "bar"
           }
          ],
          "barpolar": [
           {
            "marker": {
             "line": {
              "color": "#E5ECF6",
              "width": 0.5
             },
             "pattern": {
              "fillmode": "overlay",
              "size": 10,
              "solidity": 0.2
             }
            },
            "type": "barpolar"
           }
          ],
          "carpet": [
           {
            "aaxis": {
             "endlinecolor": "#2a3f5f",
             "gridcolor": "white",
             "linecolor": "white",
             "minorgridcolor": "white",
             "startlinecolor": "#2a3f5f"
            },
            "baxis": {
             "endlinecolor": "#2a3f5f",
             "gridcolor": "white",
             "linecolor": "white",
             "minorgridcolor": "white",
             "startlinecolor": "#2a3f5f"
            },
            "type": "carpet"
           }
          ],
          "choropleth": [
           {
            "colorbar": {
             "outlinewidth": 0,
             "ticks": ""
            },
            "type": "choropleth"
           }
          ],
          "contour": [
           {
            "colorbar": {
             "outlinewidth": 0,
             "ticks": ""
            },
            "colorscale": [
             [
              0,
              "#0d0887"
             ],
             [
              0.1111111111111111,
              "#46039f"
             ],
             [
              0.2222222222222222,
              "#7201a8"
             ],
             [
              0.3333333333333333,
              "#9c179e"
             ],
             [
              0.4444444444444444,
              "#bd3786"
             ],
             [
              0.5555555555555556,
              "#d8576b"
             ],
             [
              0.6666666666666666,
              "#ed7953"
             ],
             [
              0.7777777777777778,
              "#fb9f3a"
             ],
             [
              0.8888888888888888,
              "#fdca26"
             ],
             [
              1,
              "#f0f921"
             ]
            ],
            "type": "contour"
           }
          ],
          "contourcarpet": [
           {
            "colorbar": {
             "outlinewidth": 0,
             "ticks": ""
            },
            "type": "contourcarpet"
           }
          ],
          "heatmap": [
           {
            "colorbar": {
             "outlinewidth": 0,
             "ticks": ""
            },
            "colorscale": [
             [
              0,
              "#0d0887"
             ],
             [
              0.1111111111111111,
              "#46039f"
             ],
             [
              0.2222222222222222,
              "#7201a8"
             ],
             [
              0.3333333333333333,
              "#9c179e"
             ],
             [
              0.4444444444444444,
              "#bd3786"
             ],
             [
              0.5555555555555556,
              "#d8576b"
             ],
             [
              0.6666666666666666,
              "#ed7953"
             ],
             [
              0.7777777777777778,
              "#fb9f3a"
             ],
             [
              0.8888888888888888,
              "#fdca26"
             ],
             [
              1,
              "#f0f921"
             ]
            ],
            "type": "heatmap"
           }
          ],
          "heatmapgl": [
           {
            "colorbar": {
             "outlinewidth": 0,
             "ticks": ""
            },
            "colorscale": [
             [
              0,
              "#0d0887"
             ],
             [
              0.1111111111111111,
              "#46039f"
             ],
             [
              0.2222222222222222,
              "#7201a8"
             ],
             [
              0.3333333333333333,
              "#9c179e"
             ],
             [
              0.4444444444444444,
              "#bd3786"
             ],
             [
              0.5555555555555556,
              "#d8576b"
             ],
             [
              0.6666666666666666,
              "#ed7953"
             ],
             [
              0.7777777777777778,
              "#fb9f3a"
             ],
             [
              0.8888888888888888,
              "#fdca26"
             ],
             [
              1,
              "#f0f921"
             ]
            ],
            "type": "heatmapgl"
           }
          ],
          "histogram": [
           {
            "marker": {
             "pattern": {
              "fillmode": "overlay",
              "size": 10,
              "solidity": 0.2
             }
            },
            "type": "histogram"
           }
          ],
          "histogram2d": [
           {
            "colorbar": {
             "outlinewidth": 0,
             "ticks": ""
            },
            "colorscale": [
             [
              0,
              "#0d0887"
             ],
             [
              0.1111111111111111,
              "#46039f"
             ],
             [
              0.2222222222222222,
              "#7201a8"
             ],
             [
              0.3333333333333333,
              "#9c179e"
             ],
             [
              0.4444444444444444,
              "#bd3786"
             ],
             [
              0.5555555555555556,
              "#d8576b"
             ],
             [
              0.6666666666666666,
              "#ed7953"
             ],
             [
              0.7777777777777778,
              "#fb9f3a"
             ],
             [
              0.8888888888888888,
              "#fdca26"
             ],
             [
              1,
              "#f0f921"
             ]
            ],
            "type": "histogram2d"
           }
          ],
          "histogram2dcontour": [
           {
            "colorbar": {
             "outlinewidth": 0,
             "ticks": ""
            },
            "colorscale": [
             [
              0,
              "#0d0887"
             ],
             [
              0.1111111111111111,
              "#46039f"
             ],
             [
              0.2222222222222222,
              "#7201a8"
             ],
             [
              0.3333333333333333,
              "#9c179e"
             ],
             [
              0.4444444444444444,
              "#bd3786"
             ],
             [
              0.5555555555555556,
              "#d8576b"
             ],
             [
              0.6666666666666666,
              "#ed7953"
             ],
             [
              0.7777777777777778,
              "#fb9f3a"
             ],
             [
              0.8888888888888888,
              "#fdca26"
             ],
             [
              1,
              "#f0f921"
             ]
            ],
            "type": "histogram2dcontour"
           }
          ],
          "mesh3d": [
           {
            "colorbar": {
             "outlinewidth": 0,
             "ticks": ""
            },
            "type": "mesh3d"
           }
          ],
          "parcoords": [
           {
            "line": {
             "colorbar": {
              "outlinewidth": 0,
              "ticks": ""
             }
            },
            "type": "parcoords"
           }
          ],
          "pie": [
           {
            "automargin": true,
            "type": "pie"
           }
          ],
          "scatter": [
           {
            "fillpattern": {
             "fillmode": "overlay",
             "size": 10,
             "solidity": 0.2
            },
            "type": "scatter"
           }
          ],
          "scatter3d": [
           {
            "line": {
             "colorbar": {
              "outlinewidth": 0,
              "ticks": ""
             }
            },
            "marker": {
             "colorbar": {
              "outlinewidth": 0,
              "ticks": ""
             }
            },
            "type": "scatter3d"
           }
          ],
          "scattercarpet": [
           {
            "marker": {
             "colorbar": {
              "outlinewidth": 0,
              "ticks": ""
             }
            },
            "type": "scattercarpet"
           }
          ],
          "scattergeo": [
           {
            "marker": {
             "colorbar": {
              "outlinewidth": 0,
              "ticks": ""
             }
            },
            "type": "scattergeo"
           }
          ],
          "scattergl": [
           {
            "marker": {
             "colorbar": {
              "outlinewidth": 0,
              "ticks": ""
             }
            },
            "type": "scattergl"
           }
          ],
          "scattermapbox": [
           {
            "marker": {
             "colorbar": {
              "outlinewidth": 0,
              "ticks": ""
             }
            },
            "type": "scattermapbox"
           }
          ],
          "scatterpolar": [
           {
            "marker": {
             "colorbar": {
              "outlinewidth": 0,
              "ticks": ""
             }
            },
            "type": "scatterpolar"
           }
          ],
          "scatterpolargl": [
           {
            "marker": {
             "colorbar": {
              "outlinewidth": 0,
              "ticks": ""
             }
            },
            "type": "scatterpolargl"
           }
          ],
          "scatterternary": [
           {
            "marker": {
             "colorbar": {
              "outlinewidth": 0,
              "ticks": ""
             }
            },
            "type": "scatterternary"
           }
          ],
          "surface": [
           {
            "colorbar": {
             "outlinewidth": 0,
             "ticks": ""
            },
            "colorscale": [
             [
              0,
              "#0d0887"
             ],
             [
              0.1111111111111111,
              "#46039f"
             ],
             [
              0.2222222222222222,
              "#7201a8"
             ],
             [
              0.3333333333333333,
              "#9c179e"
             ],
             [
              0.4444444444444444,
              "#bd3786"
             ],
             [
              0.5555555555555556,
              "#d8576b"
             ],
             [
              0.6666666666666666,
              "#ed7953"
             ],
             [
              0.7777777777777778,
              "#fb9f3a"
             ],
             [
              0.8888888888888888,
              "#fdca26"
             ],
             [
              1,
              "#f0f921"
             ]
            ],
            "type": "surface"
           }
          ],
          "table": [
           {
            "cells": {
             "fill": {
              "color": "#EBF0F8"
             },
             "line": {
              "color": "white"
             }
            },
            "header": {
             "fill": {
              "color": "#C8D4E3"
             },
             "line": {
              "color": "white"
             }
            },
            "type": "table"
           }
          ]
         },
         "layout": {
          "annotationdefaults": {
           "arrowcolor": "#2a3f5f",
           "arrowhead": 0,
           "arrowwidth": 1
          },
          "autotypenumbers": "strict",
          "coloraxis": {
           "colorbar": {
            "outlinewidth": 0,
            "ticks": ""
           }
          },
          "colorscale": {
           "diverging": [
            [
             0,
             "#8e0152"
            ],
            [
             0.1,
             "#c51b7d"
            ],
            [
             0.2,
             "#de77ae"
            ],
            [
             0.3,
             "#f1b6da"
            ],
            [
             0.4,
             "#fde0ef"
            ],
            [
             0.5,
             "#f7f7f7"
            ],
            [
             0.6,
             "#e6f5d0"
            ],
            [
             0.7,
             "#b8e186"
            ],
            [
             0.8,
             "#7fbc41"
            ],
            [
             0.9,
             "#4d9221"
            ],
            [
             1,
             "#276419"
            ]
           ],
           "sequential": [
            [
             0,
             "#0d0887"
            ],
            [
             0.1111111111111111,
             "#46039f"
            ],
            [
             0.2222222222222222,
             "#7201a8"
            ],
            [
             0.3333333333333333,
             "#9c179e"
            ],
            [
             0.4444444444444444,
             "#bd3786"
            ],
            [
             0.5555555555555556,
             "#d8576b"
            ],
            [
             0.6666666666666666,
             "#ed7953"
            ],
            [
             0.7777777777777778,
             "#fb9f3a"
            ],
            [
             0.8888888888888888,
             "#fdca26"
            ],
            [
             1,
             "#f0f921"
            ]
           ],
           "sequentialminus": [
            [
             0,
             "#0d0887"
            ],
            [
             0.1111111111111111,
             "#46039f"
            ],
            [
             0.2222222222222222,
             "#7201a8"
            ],
            [
             0.3333333333333333,
             "#9c179e"
            ],
            [
             0.4444444444444444,
             "#bd3786"
            ],
            [
             0.5555555555555556,
             "#d8576b"
            ],
            [
             0.6666666666666666,
             "#ed7953"
            ],
            [
             0.7777777777777778,
             "#fb9f3a"
            ],
            [
             0.8888888888888888,
             "#fdca26"
            ],
            [
             1,
             "#f0f921"
            ]
           ]
          },
          "colorway": [
           "#636efa",
           "#EF553B",
           "#00cc96",
           "#ab63fa",
           "#FFA15A",
           "#19d3f3",
           "#FF6692",
           "#B6E880",
           "#FF97FF",
           "#FECB52"
          ],
          "font": {
           "color": "#2a3f5f"
          },
          "geo": {
           "bgcolor": "white",
           "lakecolor": "white",
           "landcolor": "#E5ECF6",
           "showlakes": true,
           "showland": true,
           "subunitcolor": "white"
          },
          "hoverlabel": {
           "align": "left"
          },
          "hovermode": "closest",
          "mapbox": {
           "style": "light"
          },
          "paper_bgcolor": "white",
          "plot_bgcolor": "#E5ECF6",
          "polar": {
           "angularaxis": {
            "gridcolor": "white",
            "linecolor": "white",
            "ticks": ""
           },
           "bgcolor": "#E5ECF6",
           "radialaxis": {
            "gridcolor": "white",
            "linecolor": "white",
            "ticks": ""
           }
          },
          "scene": {
           "xaxis": {
            "backgroundcolor": "#E5ECF6",
            "gridcolor": "white",
            "gridwidth": 2,
            "linecolor": "white",
            "showbackground": true,
            "ticks": "",
            "zerolinecolor": "white"
           },
           "yaxis": {
            "backgroundcolor": "#E5ECF6",
            "gridcolor": "white",
            "gridwidth": 2,
            "linecolor": "white",
            "showbackground": true,
            "ticks": "",
            "zerolinecolor": "white"
           },
           "zaxis": {
            "backgroundcolor": "#E5ECF6",
            "gridcolor": "white",
            "gridwidth": 2,
            "linecolor": "white",
            "showbackground": true,
            "ticks": "",
            "zerolinecolor": "white"
           }
          },
          "shapedefaults": {
           "line": {
            "color": "#2a3f5f"
           }
          },
          "ternary": {
           "aaxis": {
            "gridcolor": "white",
            "linecolor": "white",
            "ticks": ""
           },
           "baxis": {
            "gridcolor": "white",
            "linecolor": "white",
            "ticks": ""
           },
           "bgcolor": "#E5ECF6",
           "caxis": {
            "gridcolor": "white",
            "linecolor": "white",
            "ticks": ""
           }
          },
          "title": {
           "x": 0.05
          },
          "xaxis": {
           "automargin": true,
           "gridcolor": "white",
           "linecolor": "white",
           "ticks": "",
           "title": {
            "standoff": 15
           },
           "zerolinecolor": "white",
           "zerolinewidth": 2
          },
          "yaxis": {
           "automargin": true,
           "gridcolor": "white",
           "linecolor": "white",
           "ticks": "",
           "title": {
            "standoff": 15
           },
           "zerolinecolor": "white",
           "zerolinewidth": 2
          }
         }
        },
        "xaxis": {
         "anchor": "y",
         "domain": [
          0,
          0.45
         ]
        },
        "xaxis2": {
         "anchor": "y2",
         "domain": [
          0.55,
          1
         ]
        },
        "yaxis": {
         "anchor": "x",
         "domain": [
          0,
          1
         ]
        },
        "yaxis2": {
         "anchor": "x2",
         "domain": [
          0,
          1
         ]
        }
       }
      }
     },
     "metadata": {},
     "output_type": "display_data"
    }
   ],
   "source": [
    "plot_fit_result(result)"
   ]
  },
  {
   "cell_type": "code",
   "execution_count": 49,
   "metadata": {},
   "outputs": [
    {
     "data": {
      "application/vnd.plotly.v1+json": {
       "config": {
        "plotlyServerURL": "https://plot.ly"
       },
       "data": [
        {
         "name": "train loss",
         "type": "scatter",
         "x": [
          0,
          1,
          2,
          3,
          4,
          5,
          6,
          7,
          8,
          9,
          10,
          11,
          12,
          13,
          14,
          15,
          16,
          17,
          18,
          19,
          20,
          21,
          22,
          23,
          24,
          25,
          26,
          27,
          28,
          29,
          30,
          31,
          32,
          33,
          34,
          35,
          36,
          37,
          38,
          39,
          40,
          41,
          42,
          43,
          44,
          45,
          46,
          47,
          48,
          49,
          50,
          51,
          52,
          53,
          54,
          55,
          56,
          57,
          58,
          59,
          60,
          61,
          62,
          63,
          64,
          65,
          66,
          67,
          68,
          69,
          70,
          71,
          72,
          73,
          74,
          75,
          76,
          77,
          78,
          79,
          80,
          81,
          82,
          83,
          84,
          85,
          86,
          87,
          88,
          89,
          90,
          91,
          92,
          93,
          94,
          95,
          96,
          97,
          98,
          99
         ],
         "xaxis": "x",
         "y": [
          0.6256908774375916,
          0.5986838340759277,
          0.5887434482574463,
          0.5821410417556763,
          0.5776241421699524,
          0.5732543468475342,
          0.5700454115867615,
          0.566620409488678,
          0.5630104541778564,
          0.5616648197174072,
          0.558474063873291,
          0.5561279058456421,
          0.5538531541824341,
          0.5524161458015442,
          0.5501298308372498,
          0.548766553401947,
          0.5465676784515381,
          0.5457175374031067,
          0.5440547466278076,
          0.5431988835334778,
          0.5416943430900574,
          0.5403028726577759,
          0.5391377210617065,
          0.5384780168533325,
          0.5358546376228333,
          0.5350013375282288,
          0.5345625877380371,
          0.5332993268966675,
          0.5328505039215088,
          0.531552791595459,
          0.530154824256897,
          0.5299714207649231,
          0.5281149744987488,
          0.527574360370636,
          0.5268938541412354,
          0.5271546840667725,
          0.5253705382347107,
          0.524319052696228,
          0.5236803889274597,
          0.5229984521865845,
          0.5218003392219543,
          0.5216686725616455,
          0.5212794542312622,
          0.5191841721534729,
          0.5177651047706604,
          0.5179828405380249,
          0.5173416137695312,
          0.5183968544006348,
          0.5162723660469055,
          0.5151699185371399,
          0.5144099593162537,
          0.513135552406311,
          0.5133309364318848,
          0.511554479598999,
          0.5118571519851685,
          0.5110186338424683,
          0.5107890367507935,
          0.5112301707267761,
          0.5089303255081177,
          0.5090674161911011,
          0.5095097422599792,
          0.5083890557289124,
          0.5073853135108948,
          0.5065141916275024,
          0.5064671039581299,
          0.5058913230895996,
          0.5045684576034546,
          0.5045422911643982,
          0.5035198330879211,
          0.5036975145339966,
          0.5029397010803223,
          0.5028167366981506,
          0.5026699304580688,
          0.5021277070045471,
          0.5021596550941467,
          0.5015742778778076,
          0.4988780915737152,
          0.4992419183254242,
          0.49976614117622375,
          0.49780040979385376,
          0.4978772699832916,
          0.4982931911945343,
          0.49733152985572815,
          0.49527212977409363,
          0.4967116117477417,
          0.4962798058986664,
          0.4970182180404663,
          0.49525564908981323,
          0.4955291748046875,
          0.4943845868110657,
          0.49413636326789856,
          0.4947107136249542,
          0.49325650930404663,
          0.49347448348999023,
          0.49241381883621216,
          0.49074891209602356,
          0.4929271340370178,
          0.49136003851890564,
          0.49127718806266785,
          0.49081388115882874
         ],
         "yaxis": "y"
        },
        {
         "name": "train auc",
         "type": "scatter",
         "x": [
          0,
          1,
          2,
          3,
          4,
          5,
          6,
          7,
          8,
          9,
          10,
          11,
          12,
          13,
          14,
          15,
          16,
          17,
          18,
          19,
          20,
          21,
          22,
          23,
          24,
          25,
          26,
          27,
          28,
          29,
          30,
          31,
          32,
          33,
          34,
          35,
          36,
          37,
          38,
          39,
          40,
          41,
          42,
          43,
          44,
          45,
          46,
          47,
          48,
          49,
          50,
          51,
          52,
          53,
          54,
          55,
          56,
          57,
          58,
          59,
          60,
          61,
          62,
          63,
          64,
          65,
          66,
          67,
          68,
          69,
          70,
          71,
          72,
          73,
          74,
          75,
          76,
          77,
          78,
          79,
          80,
          81,
          82,
          83,
          84,
          85,
          86,
          87,
          88,
          89,
          90,
          91,
          92,
          93,
          94,
          95,
          96,
          97,
          98,
          99
         ],
         "xaxis": "x2",
         "y": [
          0.7093029022216797,
          0.743500292301178,
          0.7546172142028809,
          0.761446475982666,
          0.7660814523696899,
          0.770399272441864,
          0.7738322019577026,
          0.7772499918937683,
          0.7804018259048462,
          0.7819501757621765,
          0.7850611209869385,
          0.7869681715965271,
          0.7890999913215637,
          0.7905392646789551,
          0.7925545573234558,
          0.7940512299537659,
          0.7956674695014954,
          0.7965859174728394,
          0.7978047132492065,
          0.7988818287849426,
          0.8003609776496887,
          0.8013551831245422,
          0.802435576915741,
          0.8028865456581116,
          0.8051506280899048,
          0.8058648705482483,
          0.8063713312149048,
          0.8071751594543457,
          0.807826817035675,
          0.808955192565918,
          0.8095594048500061,
          0.8101906776428223,
          0.8115586042404175,
          0.8120312690734863,
          0.8124714493751526,
          0.8122101426124573,
          0.8138832449913025,
          0.8144866824150085,
          0.8153001666069031,
          0.8156217336654663,
          0.8167197704315186,
          0.8164129257202148,
          0.8169911503791809,
          0.8186039328575134,
          0.8197078704833984,
          0.8197525143623352,
          0.8203023076057434,
          0.8192499876022339,
          0.8210451006889343,
          0.8217501044273376,
          0.822405219078064,
          0.8236885070800781,
          0.8232399225234985,
          0.8246553540229797,
          0.8244395852088928,
          0.8252941370010376,
          0.8252158164978027,
          0.8247420787811279,
          0.8262310028076172,
          0.8264119625091553,
          0.8260707259178162,
          0.8267964720726013,
          0.8277104496955872,
          0.8284284472465515,
          0.828416109085083,
          0.828688383102417,
          0.8295997381210327,
          0.8298643827438354,
          0.8304949998855591,
          0.8305798172950745,
          0.8312786817550659,
          0.8311166167259216,
          0.8313455581665039,
          0.8317511081695557,
          0.8313503861427307,
          0.8321734070777893,
          0.8339681029319763,
          0.8336489796638489,
          0.8334563970565796,
          0.8345826864242554,
          0.8347455263137817,
          0.8344712257385254,
          0.835053563117981,
          0.8364163041114807,
          0.835989773273468,
          0.8360205888748169,
          0.8352673053741455,
          0.8368474841117859,
          0.8364030718803406,
          0.8372945189476013,
          0.8373936414718628,
          0.8367443084716797,
          0.8380235433578491,
          0.8376068472862244,
          0.8385059833526611,
          0.8400550484657288,
          0.8383715152740479,
          0.8394784927368164,
          0.8394384980201721,
          0.8399936556816101
         ],
         "yaxis": "y2"
        },
        {
         "name": "validation loss",
         "type": "scatter",
         "x": [
          0,
          1,
          2,
          3,
          4,
          5,
          6,
          7,
          8,
          9,
          10,
          11,
          12,
          13,
          14,
          15,
          16,
          17,
          18,
          19,
          20,
          21,
          22,
          23,
          24,
          25,
          26,
          27,
          28,
          29,
          30,
          31,
          32,
          33,
          34,
          35,
          36,
          37,
          38,
          39,
          40,
          41,
          42,
          43,
          44,
          45,
          46,
          47,
          48,
          49,
          50,
          51,
          52,
          53,
          54,
          55,
          56,
          57,
          58,
          59,
          60,
          61,
          62,
          63,
          64,
          65,
          66,
          67,
          68,
          69,
          70,
          71,
          72,
          73,
          74,
          75,
          76,
          77,
          78,
          79,
          80,
          81,
          82,
          83,
          84,
          85,
          86,
          87,
          88,
          89,
          90,
          91,
          92,
          93,
          94,
          95,
          96,
          97,
          98,
          99
         ],
         "xaxis": "x",
         "y": [
          0.5940887928009033,
          0.5831349492073059,
          0.5801216959953308,
          0.5764224529266357,
          0.5685757994651794,
          0.5639753341674805,
          0.5609714984893799,
          0.557456910610199,
          0.5590260028839111,
          0.5568573474884033,
          0.5538089871406555,
          0.5502082705497742,
          0.5494226217269897,
          0.5510988831520081,
          0.5477494597434998,
          0.5443909168243408,
          0.544287919998169,
          0.5428940057754517,
          0.5420156121253967,
          0.5426033139228821,
          0.539884626865387,
          0.5414720177650452,
          0.539088785648346,
          0.5374515652656555,
          0.5369547009468079,
          0.5368159413337708,
          0.5349312424659729,
          0.5341911315917969,
          0.5348775386810303,
          0.5329470634460449,
          0.5319526195526123,
          0.5323213338851929,
          0.5340262651443481,
          0.5320245623588562,
          0.5303740501403809,
          0.5303652286529541,
          0.5311488509178162,
          0.5278773307800293,
          0.5274968147277832,
          0.527850866317749,
          0.5304118394851685,
          0.5285043120384216,
          0.5249217748641968,
          0.5243295431137085,
          0.5241374969482422,
          0.5259631872177124,
          0.5230109691619873,
          0.5264384150505066,
          0.5231521725654602,
          0.5196030139923096,
          0.5217324495315552,
          0.5188477039337158,
          0.5198562741279602,
          0.5193217992782593,
          0.5209983587265015,
          0.519677996635437,
          0.5170876383781433,
          0.5176006555557251,
          0.517392635345459,
          0.5159116387367249,
          0.5169121026992798,
          0.5160057544708252,
          0.5198919773101807,
          0.5168852210044861,
          0.51545250415802,
          0.5141949653625488,
          0.5150283575057983,
          0.5114577412605286,
          0.5126131772994995,
          0.5131168365478516,
          0.5117393732070923,
          0.5130715370178223,
          0.5121037364006042,
          0.5095055103302002,
          0.510430634021759,
          0.5097371935844421,
          0.5097766518592834,
          0.5076833367347717,
          0.508542537689209,
          0.5089338421821594,
          0.5121837854385376,
          0.5099790692329407,
          0.5070229172706604,
          0.5088362693786621,
          0.5068172216415405,
          0.5050279498100281,
          0.5070896148681641,
          0.5053484439849854,
          0.5067983865737915,
          0.50484699010849,
          0.5057969689369202,
          0.5040401816368103,
          0.5063754916191101,
          0.5038443207740784,
          0.5027976036071777,
          0.5061166882514954,
          0.5061335563659668,
          0.5027225017547607,
          0.5035464763641357,
          0.5028749704360962
         ],
         "yaxis": "y"
        },
        {
         "name": "validation auc",
         "type": "scatter",
         "x": [
          0,
          1,
          2,
          3,
          4,
          5,
          6,
          7,
          8,
          9,
          10,
          11,
          12,
          13,
          14,
          15,
          16,
          17,
          18,
          19,
          20,
          21,
          22,
          23,
          24,
          25,
          26,
          27,
          28,
          29,
          30,
          31,
          32,
          33,
          34,
          35,
          36,
          37,
          38,
          39,
          40,
          41,
          42,
          43,
          44,
          45,
          46,
          47,
          48,
          49,
          50,
          51,
          52,
          53,
          54,
          55,
          56,
          57,
          58,
          59,
          60,
          61,
          62,
          63,
          64,
          65,
          66,
          67,
          68,
          69,
          70,
          71,
          72,
          73,
          74,
          75,
          76,
          77,
          78,
          79,
          80,
          81,
          82,
          83,
          84,
          85,
          86,
          87,
          88,
          89,
          90,
          91,
          92,
          93,
          94,
          95,
          96,
          97,
          98,
          99
         ],
         "xaxis": "x2",
         "y": [
          0.7490535974502563,
          0.759432315826416,
          0.7665143013000488,
          0.7699691653251648,
          0.7755697965621948,
          0.7798869609832764,
          0.7839550971984863,
          0.7858888506889343,
          0.7854572534561157,
          0.7877181768417358,
          0.7915440797805786,
          0.7926825284957886,
          0.794965386390686,
          0.7925975918769836,
          0.7964581251144409,
          0.7982544898986816,
          0.7981065511703491,
          0.7997303605079651,
          0.8002829551696777,
          0.8015958666801453,
          0.8013010025024414,
          0.8027133345603943,
          0.8033221960067749,
          0.8037234544754028,
          0.8040950298309326,
          0.8056315183639526,
          0.8062452077865601,
          0.8069877624511719,
          0.8066714406013489,
          0.8078885674476624,
          0.8083380460739136,
          0.8085794448852539,
          0.8085638880729675,
          0.8093719482421875,
          0.8108643293380737,
          0.8104897737503052,
          0.8111904859542847,
          0.8122137188911438,
          0.8123235702514648,
          0.8128044605255127,
          0.8118972182273865,
          0.8130258321762085,
          0.8141834139823914,
          0.8150297999382019,
          0.8146671056747437,
          0.8145575523376465,
          0.8163043260574341,
          0.8151978254318237,
          0.8157838582992554,
          0.8177504539489746,
          0.8174911737442017,
          0.8185286521911621,
          0.8186764717102051,
          0.8191065192222595,
          0.818324089050293,
          0.8183168172836304,
          0.8203684687614441,
          0.8193297386169434,
          0.8204441070556641,
          0.8205875158309937,
          0.8208314180374146,
          0.822444498538971,
          0.8211729526519775,
          0.8219001293182373,
          0.8226495981216431,
          0.8230395317077637,
          0.8229864835739136,
          0.8245673179626465,
          0.824478030204773,
          0.8243297934532166,
          0.8249433636665344,
          0.8252115845680237,
          0.8247817754745483,
          0.8264893293380737,
          0.8252835273742676,
          0.826219916343689,
          0.8263448476791382,
          0.8280652761459351,
          0.8276297450065613,
          0.8278883695602417,
          0.8266313076019287,
          0.8276445865631104,
          0.8288110494613647,
          0.8282853364944458,
          0.8286701440811157,
          0.8293570876121521,
          0.8290745615959167,
          0.829236626625061,
          0.829069972038269,
          0.8292437791824341,
          0.8300635814666748,
          0.8300086259841919,
          0.8307689428329468,
          0.8311260938644409,
          0.8316589593887329,
          0.8313547372817993,
          0.8313050270080566,
          0.8320770263671875,
          0.8316959738731384,
          0.8311205506324768
         ],
         "yaxis": "y2"
        }
       ],
       "layout": {
        "template": {
         "data": {
          "bar": [
           {
            "error_x": {
             "color": "#2a3f5f"
            },
            "error_y": {
             "color": "#2a3f5f"
            },
            "marker": {
             "line": {
              "color": "#E5ECF6",
              "width": 0.5
             },
             "pattern": {
              "fillmode": "overlay",
              "size": 10,
              "solidity": 0.2
             }
            },
            "type": "bar"
           }
          ],
          "barpolar": [
           {
            "marker": {
             "line": {
              "color": "#E5ECF6",
              "width": 0.5
             },
             "pattern": {
              "fillmode": "overlay",
              "size": 10,
              "solidity": 0.2
             }
            },
            "type": "barpolar"
           }
          ],
          "carpet": [
           {
            "aaxis": {
             "endlinecolor": "#2a3f5f",
             "gridcolor": "white",
             "linecolor": "white",
             "minorgridcolor": "white",
             "startlinecolor": "#2a3f5f"
            },
            "baxis": {
             "endlinecolor": "#2a3f5f",
             "gridcolor": "white",
             "linecolor": "white",
             "minorgridcolor": "white",
             "startlinecolor": "#2a3f5f"
            },
            "type": "carpet"
           }
          ],
          "choropleth": [
           {
            "colorbar": {
             "outlinewidth": 0,
             "ticks": ""
            },
            "type": "choropleth"
           }
          ],
          "contour": [
           {
            "colorbar": {
             "outlinewidth": 0,
             "ticks": ""
            },
            "colorscale": [
             [
              0,
              "#0d0887"
             ],
             [
              0.1111111111111111,
              "#46039f"
             ],
             [
              0.2222222222222222,
              "#7201a8"
             ],
             [
              0.3333333333333333,
              "#9c179e"
             ],
             [
              0.4444444444444444,
              "#bd3786"
             ],
             [
              0.5555555555555556,
              "#d8576b"
             ],
             [
              0.6666666666666666,
              "#ed7953"
             ],
             [
              0.7777777777777778,
              "#fb9f3a"
             ],
             [
              0.8888888888888888,
              "#fdca26"
             ],
             [
              1,
              "#f0f921"
             ]
            ],
            "type": "contour"
           }
          ],
          "contourcarpet": [
           {
            "colorbar": {
             "outlinewidth": 0,
             "ticks": ""
            },
            "type": "contourcarpet"
           }
          ],
          "heatmap": [
           {
            "colorbar": {
             "outlinewidth": 0,
             "ticks": ""
            },
            "colorscale": [
             [
              0,
              "#0d0887"
             ],
             [
              0.1111111111111111,
              "#46039f"
             ],
             [
              0.2222222222222222,
              "#7201a8"
             ],
             [
              0.3333333333333333,
              "#9c179e"
             ],
             [
              0.4444444444444444,
              "#bd3786"
             ],
             [
              0.5555555555555556,
              "#d8576b"
             ],
             [
              0.6666666666666666,
              "#ed7953"
             ],
             [
              0.7777777777777778,
              "#fb9f3a"
             ],
             [
              0.8888888888888888,
              "#fdca26"
             ],
             [
              1,
              "#f0f921"
             ]
            ],
            "type": "heatmap"
           }
          ],
          "heatmapgl": [
           {
            "colorbar": {
             "outlinewidth": 0,
             "ticks": ""
            },
            "colorscale": [
             [
              0,
              "#0d0887"
             ],
             [
              0.1111111111111111,
              "#46039f"
             ],
             [
              0.2222222222222222,
              "#7201a8"
             ],
             [
              0.3333333333333333,
              "#9c179e"
             ],
             [
              0.4444444444444444,
              "#bd3786"
             ],
             [
              0.5555555555555556,
              "#d8576b"
             ],
             [
              0.6666666666666666,
              "#ed7953"
             ],
             [
              0.7777777777777778,
              "#fb9f3a"
             ],
             [
              0.8888888888888888,
              "#fdca26"
             ],
             [
              1,
              "#f0f921"
             ]
            ],
            "type": "heatmapgl"
           }
          ],
          "histogram": [
           {
            "marker": {
             "pattern": {
              "fillmode": "overlay",
              "size": 10,
              "solidity": 0.2
             }
            },
            "type": "histogram"
           }
          ],
          "histogram2d": [
           {
            "colorbar": {
             "outlinewidth": 0,
             "ticks": ""
            },
            "colorscale": [
             [
              0,
              "#0d0887"
             ],
             [
              0.1111111111111111,
              "#46039f"
             ],
             [
              0.2222222222222222,
              "#7201a8"
             ],
             [
              0.3333333333333333,
              "#9c179e"
             ],
             [
              0.4444444444444444,
              "#bd3786"
             ],
             [
              0.5555555555555556,
              "#d8576b"
             ],
             [
              0.6666666666666666,
              "#ed7953"
             ],
             [
              0.7777777777777778,
              "#fb9f3a"
             ],
             [
              0.8888888888888888,
              "#fdca26"
             ],
             [
              1,
              "#f0f921"
             ]
            ],
            "type": "histogram2d"
           }
          ],
          "histogram2dcontour": [
           {
            "colorbar": {
             "outlinewidth": 0,
             "ticks": ""
            },
            "colorscale": [
             [
              0,
              "#0d0887"
             ],
             [
              0.1111111111111111,
              "#46039f"
             ],
             [
              0.2222222222222222,
              "#7201a8"
             ],
             [
              0.3333333333333333,
              "#9c179e"
             ],
             [
              0.4444444444444444,
              "#bd3786"
             ],
             [
              0.5555555555555556,
              "#d8576b"
             ],
             [
              0.6666666666666666,
              "#ed7953"
             ],
             [
              0.7777777777777778,
              "#fb9f3a"
             ],
             [
              0.8888888888888888,
              "#fdca26"
             ],
             [
              1,
              "#f0f921"
             ]
            ],
            "type": "histogram2dcontour"
           }
          ],
          "mesh3d": [
           {
            "colorbar": {
             "outlinewidth": 0,
             "ticks": ""
            },
            "type": "mesh3d"
           }
          ],
          "parcoords": [
           {
            "line": {
             "colorbar": {
              "outlinewidth": 0,
              "ticks": ""
             }
            },
            "type": "parcoords"
           }
          ],
          "pie": [
           {
            "automargin": true,
            "type": "pie"
           }
          ],
          "scatter": [
           {
            "fillpattern": {
             "fillmode": "overlay",
             "size": 10,
             "solidity": 0.2
            },
            "type": "scatter"
           }
          ],
          "scatter3d": [
           {
            "line": {
             "colorbar": {
              "outlinewidth": 0,
              "ticks": ""
             }
            },
            "marker": {
             "colorbar": {
              "outlinewidth": 0,
              "ticks": ""
             }
            },
            "type": "scatter3d"
           }
          ],
          "scattercarpet": [
           {
            "marker": {
             "colorbar": {
              "outlinewidth": 0,
              "ticks": ""
             }
            },
            "type": "scattercarpet"
           }
          ],
          "scattergeo": [
           {
            "marker": {
             "colorbar": {
              "outlinewidth": 0,
              "ticks": ""
             }
            },
            "type": "scattergeo"
           }
          ],
          "scattergl": [
           {
            "marker": {
             "colorbar": {
              "outlinewidth": 0,
              "ticks": ""
             }
            },
            "type": "scattergl"
           }
          ],
          "scattermapbox": [
           {
            "marker": {
             "colorbar": {
              "outlinewidth": 0,
              "ticks": ""
             }
            },
            "type": "scattermapbox"
           }
          ],
          "scatterpolar": [
           {
            "marker": {
             "colorbar": {
              "outlinewidth": 0,
              "ticks": ""
             }
            },
            "type": "scatterpolar"
           }
          ],
          "scatterpolargl": [
           {
            "marker": {
             "colorbar": {
              "outlinewidth": 0,
              "ticks": ""
             }
            },
            "type": "scatterpolargl"
           }
          ],
          "scatterternary": [
           {
            "marker": {
             "colorbar": {
              "outlinewidth": 0,
              "ticks": ""
             }
            },
            "type": "scatterternary"
           }
          ],
          "surface": [
           {
            "colorbar": {
             "outlinewidth": 0,
             "ticks": ""
            },
            "colorscale": [
             [
              0,
              "#0d0887"
             ],
             [
              0.1111111111111111,
              "#46039f"
             ],
             [
              0.2222222222222222,
              "#7201a8"
             ],
             [
              0.3333333333333333,
              "#9c179e"
             ],
             [
              0.4444444444444444,
              "#bd3786"
             ],
             [
              0.5555555555555556,
              "#d8576b"
             ],
             [
              0.6666666666666666,
              "#ed7953"
             ],
             [
              0.7777777777777778,
              "#fb9f3a"
             ],
             [
              0.8888888888888888,
              "#fdca26"
             ],
             [
              1,
              "#f0f921"
             ]
            ],
            "type": "surface"
           }
          ],
          "table": [
           {
            "cells": {
             "fill": {
              "color": "#EBF0F8"
             },
             "line": {
              "color": "white"
             }
            },
            "header": {
             "fill": {
              "color": "#C8D4E3"
             },
             "line": {
              "color": "white"
             }
            },
            "type": "table"
           }
          ]
         },
         "layout": {
          "annotationdefaults": {
           "arrowcolor": "#2a3f5f",
           "arrowhead": 0,
           "arrowwidth": 1
          },
          "autotypenumbers": "strict",
          "coloraxis": {
           "colorbar": {
            "outlinewidth": 0,
            "ticks": ""
           }
          },
          "colorscale": {
           "diverging": [
            [
             0,
             "#8e0152"
            ],
            [
             0.1,
             "#c51b7d"
            ],
            [
             0.2,
             "#de77ae"
            ],
            [
             0.3,
             "#f1b6da"
            ],
            [
             0.4,
             "#fde0ef"
            ],
            [
             0.5,
             "#f7f7f7"
            ],
            [
             0.6,
             "#e6f5d0"
            ],
            [
             0.7,
             "#b8e186"
            ],
            [
             0.8,
             "#7fbc41"
            ],
            [
             0.9,
             "#4d9221"
            ],
            [
             1,
             "#276419"
            ]
           ],
           "sequential": [
            [
             0,
             "#0d0887"
            ],
            [
             0.1111111111111111,
             "#46039f"
            ],
            [
             0.2222222222222222,
             "#7201a8"
            ],
            [
             0.3333333333333333,
             "#9c179e"
            ],
            [
             0.4444444444444444,
             "#bd3786"
            ],
            [
             0.5555555555555556,
             "#d8576b"
            ],
            [
             0.6666666666666666,
             "#ed7953"
            ],
            [
             0.7777777777777778,
             "#fb9f3a"
            ],
            [
             0.8888888888888888,
             "#fdca26"
            ],
            [
             1,
             "#f0f921"
            ]
           ],
           "sequentialminus": [
            [
             0,
             "#0d0887"
            ],
            [
             0.1111111111111111,
             "#46039f"
            ],
            [
             0.2222222222222222,
             "#7201a8"
            ],
            [
             0.3333333333333333,
             "#9c179e"
            ],
            [
             0.4444444444444444,
             "#bd3786"
            ],
            [
             0.5555555555555556,
             "#d8576b"
            ],
            [
             0.6666666666666666,
             "#ed7953"
            ],
            [
             0.7777777777777778,
             "#fb9f3a"
            ],
            [
             0.8888888888888888,
             "#fdca26"
            ],
            [
             1,
             "#f0f921"
            ]
           ]
          },
          "colorway": [
           "#636efa",
           "#EF553B",
           "#00cc96",
           "#ab63fa",
           "#FFA15A",
           "#19d3f3",
           "#FF6692",
           "#B6E880",
           "#FF97FF",
           "#FECB52"
          ],
          "font": {
           "color": "#2a3f5f"
          },
          "geo": {
           "bgcolor": "white",
           "lakecolor": "white",
           "landcolor": "#E5ECF6",
           "showlakes": true,
           "showland": true,
           "subunitcolor": "white"
          },
          "hoverlabel": {
           "align": "left"
          },
          "hovermode": "closest",
          "mapbox": {
           "style": "light"
          },
          "paper_bgcolor": "white",
          "plot_bgcolor": "#E5ECF6",
          "polar": {
           "angularaxis": {
            "gridcolor": "white",
            "linecolor": "white",
            "ticks": ""
           },
           "bgcolor": "#E5ECF6",
           "radialaxis": {
            "gridcolor": "white",
            "linecolor": "white",
            "ticks": ""
           }
          },
          "scene": {
           "xaxis": {
            "backgroundcolor": "#E5ECF6",
            "gridcolor": "white",
            "gridwidth": 2,
            "linecolor": "white",
            "showbackground": true,
            "ticks": "",
            "zerolinecolor": "white"
           },
           "yaxis": {
            "backgroundcolor": "#E5ECF6",
            "gridcolor": "white",
            "gridwidth": 2,
            "linecolor": "white",
            "showbackground": true,
            "ticks": "",
            "zerolinecolor": "white"
           },
           "zaxis": {
            "backgroundcolor": "#E5ECF6",
            "gridcolor": "white",
            "gridwidth": 2,
            "linecolor": "white",
            "showbackground": true,
            "ticks": "",
            "zerolinecolor": "white"
           }
          },
          "shapedefaults": {
           "line": {
            "color": "#2a3f5f"
           }
          },
          "ternary": {
           "aaxis": {
            "gridcolor": "white",
            "linecolor": "white",
            "ticks": ""
           },
           "baxis": {
            "gridcolor": "white",
            "linecolor": "white",
            "ticks": ""
           },
           "bgcolor": "#E5ECF6",
           "caxis": {
            "gridcolor": "white",
            "linecolor": "white",
            "ticks": ""
           }
          },
          "title": {
           "x": 0.05
          },
          "xaxis": {
           "automargin": true,
           "gridcolor": "white",
           "linecolor": "white",
           "ticks": "",
           "title": {
            "standoff": 15
           },
           "zerolinecolor": "white",
           "zerolinewidth": 2
          },
          "yaxis": {
           "automargin": true,
           "gridcolor": "white",
           "linecolor": "white",
           "ticks": "",
           "title": {
            "standoff": 15
           },
           "zerolinecolor": "white",
           "zerolinewidth": 2
          }
         }
        },
        "xaxis": {
         "anchor": "y",
         "domain": [
          0,
          0.45
         ]
        },
        "xaxis2": {
         "anchor": "y2",
         "domain": [
          0.55,
          1
         ]
        },
        "yaxis": {
         "anchor": "x",
         "domain": [
          0,
          1
         ]
        },
        "yaxis2": {
         "anchor": "x2",
         "domain": [
          0,
          1
         ]
        }
       }
      }
     },
     "metadata": {},
     "output_type": "display_data"
    }
   ],
   "source": [
    "plot_fit_result(result)"
   ]
  },
  {
   "cell_type": "code",
   "execution_count": 55,
   "metadata": {},
   "outputs": [
    {
     "data": {
      "application/vnd.plotly.v1+json": {
       "config": {
        "plotlyServerURL": "https://plot.ly"
       },
       "data": [
        {
         "name": "train loss",
         "type": "scatter",
         "x": [
          0,
          1,
          2,
          3,
          4,
          5,
          6,
          7,
          8,
          9,
          10,
          11,
          12,
          13,
          14,
          15,
          16,
          17,
          18,
          19,
          20,
          21,
          22,
          23,
          24,
          25,
          26,
          27,
          28,
          29,
          30,
          31,
          32,
          33,
          34,
          35,
          36,
          37,
          38,
          39,
          40,
          41,
          42,
          43,
          44,
          45,
          46,
          47,
          48,
          49,
          50,
          51,
          52,
          53,
          54,
          55,
          56,
          57,
          58,
          59,
          60,
          61,
          62,
          63,
          64,
          65,
          66,
          67,
          68,
          69,
          70,
          71,
          72,
          73,
          74,
          75,
          76,
          77,
          78,
          79,
          80,
          81,
          82,
          83,
          84,
          85,
          86,
          87,
          88,
          89,
          90,
          91,
          92,
          93,
          94,
          95,
          96,
          97,
          98,
          99
         ],
         "xaxis": "x",
         "y": [
          0.6395843029022217,
          0.6117050647735596,
          0.5977343320846558,
          0.5890291929244995,
          0.580405056476593,
          0.5735818147659302,
          0.5692596435546875,
          0.5650724172592163,
          0.5619578957557678,
          0.5580947399139404,
          0.5551150441169739,
          0.5533091425895691,
          0.5507452487945557,
          0.5496047139167786,
          0.5472052097320557,
          0.5453492999076843,
          0.5439456105232239,
          0.5436275601387024,
          0.5418451428413391,
          0.5409123301506042,
          0.5392959713935852,
          0.5374850034713745,
          0.5367328524589539,
          0.5360935926437378,
          0.5347705483436584,
          0.5341655611991882,
          0.5337011814117432,
          0.532454252243042,
          0.5322824716567993,
          0.5307412147521973,
          0.5299257040023804,
          0.5291466116905212,
          0.528788149356842,
          0.5275468230247498,
          0.5274332165718079,
          0.5256980061531067,
          0.5259380340576172,
          0.5250284075737,
          0.5246111750602722,
          0.5234771370887756,
          0.5229858160018921,
          0.5226941704750061,
          0.5218438506126404,
          0.5213193893432617,
          0.5212503671646118,
          0.520297110080719,
          0.5196856260299683,
          0.5194110870361328,
          0.5183107256889343,
          0.5175611972808838,
          0.517440915107727,
          0.5171218514442444,
          0.5153586864471436,
          0.515815019607544,
          0.5144529342651367,
          0.5140205025672913,
          0.5149329900741577,
          0.51402348279953,
          0.5137699246406555,
          0.5135608315467834,
          0.5122665166854858,
          0.5117552280426025,
          0.5099363327026367,
          0.5117788910865784,
          0.5104871392250061,
          0.5096845030784607,
          0.508830189704895,
          0.5089618563652039,
          0.5077824592590332,
          0.5077707767486572,
          0.5070231556892395,
          0.5064854025840759,
          0.5056321620941162,
          0.5069440603256226,
          0.5055222511291504,
          0.5058070421218872,
          0.5041192173957825,
          0.5037990808486938,
          0.5039498209953308,
          0.5041747093200684,
          0.5030578970909119,
          0.5027250647544861,
          0.5023097395896912,
          0.5015684962272644,
          0.501767635345459,
          0.5016469955444336,
          0.5005302429199219,
          0.5019453763961792,
          0.4995229244232178,
          0.4996532201766968,
          0.4988081753253937,
          0.4989355206489563,
          0.49776434898376465,
          0.4980847239494324,
          0.497723788022995,
          0.4976426064968109,
          0.4982381761074066,
          0.4952108860015869,
          0.4958471655845642,
          0.4964505434036255
         ],
         "yaxis": "y"
        },
        {
         "name": "train auc",
         "type": "scatter",
         "x": [
          0,
          1,
          2,
          3,
          4,
          5,
          6,
          7,
          8,
          9,
          10,
          11,
          12,
          13,
          14,
          15,
          16,
          17,
          18,
          19,
          20,
          21,
          22,
          23,
          24,
          25,
          26,
          27,
          28,
          29,
          30,
          31,
          32,
          33,
          34,
          35,
          36,
          37,
          38,
          39,
          40,
          41,
          42,
          43,
          44,
          45,
          46,
          47,
          48,
          49,
          50,
          51,
          52,
          53,
          54,
          55,
          56,
          57,
          58,
          59,
          60,
          61,
          62,
          63,
          64,
          65,
          66,
          67,
          68,
          69,
          70,
          71,
          72,
          73,
          74,
          75,
          76,
          77,
          78,
          79,
          80,
          81,
          82,
          83,
          84,
          85,
          86,
          87,
          88,
          89,
          90,
          91,
          92,
          93,
          94,
          95,
          96,
          97,
          98,
          99
         ],
         "xaxis": "x2",
         "y": [
          0.6848947405815125,
          0.7266154289245605,
          0.7435727119445801,
          0.7535922527313232,
          0.7626617550849915,
          0.7698022723197937,
          0.7739913463592529,
          0.7781471014022827,
          0.7813253402709961,
          0.7850370407104492,
          0.7877064347267151,
          0.789295494556427,
          0.7913591861724854,
          0.7927693128585815,
          0.7946610450744629,
          0.7965748310089111,
          0.797870934009552,
          0.7981152534484863,
          0.799537181854248,
          0.8004550933837891,
          0.8016026020050049,
          0.8034011721611023,
          0.8041439056396484,
          0.8043215274810791,
          0.8056551218032837,
          0.8061795830726624,
          0.8062227368354797,
          0.8076414465904236,
          0.8077523708343506,
          0.8091060519218445,
          0.8097596764564514,
          0.8101473450660706,
          0.8106290698051453,
          0.8119009137153625,
          0.8120008111000061,
          0.8132128119468689,
          0.8131539821624756,
          0.8139517307281494,
          0.8144361972808838,
          0.8152226209640503,
          0.8152734637260437,
          0.8156907558441162,
          0.8163532018661499,
          0.8169058561325073,
          0.8170082569122314,
          0.8175440430641174,
          0.8180638551712036,
          0.8183681964874268,
          0.8195076584815979,
          0.820023775100708,
          0.8200660943984985,
          0.820357084274292,
          0.8216037750244141,
          0.8210484981536865,
          0.8224825263023376,
          0.8226212859153748,
          0.8220575451850891,
          0.8227918744087219,
          0.822945773601532,
          0.8230158090591431,
          0.8238632678985596,
          0.8243953585624695,
          0.8256723284721375,
          0.824463427066803,
          0.8254390954971313,
          0.8261964917182922,
          0.8266904950141907,
          0.8266966938972473,
          0.8273966312408447,
          0.8275758028030396,
          0.8279322385787964,
          0.8284254670143127,
          0.8293281197547913,
          0.8281797766685486,
          0.8292948603630066,
          0.8290693759918213,
          0.8302454948425293,
          0.8306179642677307,
          0.830680787563324,
          0.8303784132003784,
          0.8311318159103394,
          0.8315645456314087,
          0.8317433595657349,
          0.8321473002433777,
          0.8320783376693726,
          0.8320237398147583,
          0.8331012725830078,
          0.8319958448410034,
          0.8339682221412659,
          0.833925724029541,
          0.8344459533691406,
          0.8344922065734863,
          0.8354021310806274,
          0.8351837396621704,
          0.8351716995239258,
          0.8355310559272766,
          0.8351064324378967,
          0.837071418762207,
          0.8367722034454346,
          0.8362059593200684
         ],
         "yaxis": "y2"
        },
        {
         "name": "validation loss",
         "type": "scatter",
         "x": [
          0,
          1,
          2,
          3,
          4,
          5,
          6,
          7,
          8,
          9,
          10,
          11,
          12,
          13,
          14,
          15,
          16,
          17,
          18,
          19,
          20,
          21,
          22,
          23,
          24,
          25,
          26,
          27,
          28,
          29,
          30,
          31,
          32,
          33,
          34,
          35,
          36,
          37,
          38,
          39,
          40,
          41,
          42,
          43,
          44,
          45,
          46,
          47,
          48,
          49,
          50,
          51,
          52,
          53,
          54,
          55,
          56,
          57,
          58,
          59,
          60,
          61,
          62,
          63,
          64,
          65,
          66,
          67,
          68,
          69,
          70,
          71,
          72,
          73,
          74,
          75,
          76,
          77,
          78,
          79,
          80,
          81,
          82,
          83,
          84,
          85,
          86,
          87,
          88,
          89,
          90,
          91,
          92,
          93,
          94,
          95,
          96,
          97,
          98,
          99
         ],
         "xaxis": "x",
         "y": [
          0.6145398616790771,
          0.5992950797080994,
          0.5862672328948975,
          0.5775282382965088,
          0.569835901260376,
          0.5644059777259827,
          0.5616993308067322,
          0.5584593415260315,
          0.5555759072303772,
          0.5518879294395447,
          0.549305260181427,
          0.5484797358512878,
          0.547878086566925,
          0.5467885732650757,
          0.5447813868522644,
          0.5438380837440491,
          0.5430140495300293,
          0.5423457026481628,
          0.5428125262260437,
          0.5405584573745728,
          0.5391603708267212,
          0.5382957458496094,
          0.5413364171981812,
          0.5385999083518982,
          0.5348962545394897,
          0.5359820127487183,
          0.534246027469635,
          0.5337316393852234,
          0.53349369764328,
          0.5336716175079346,
          0.533449113368988,
          0.5325126051902771,
          0.5323161482810974,
          0.5309253334999084,
          0.5316265821456909,
          0.5305884480476379,
          0.529795229434967,
          0.5301454663276672,
          0.5312458276748657,
          0.5283891558647156,
          0.5292202234268188,
          0.5276982188224792,
          0.5272991061210632,
          0.5264654159545898,
          0.5273196697235107,
          0.525229275226593,
          0.5283275842666626,
          0.5252085328102112,
          0.5236515402793884,
          0.5258920192718506,
          0.5254884362220764,
          0.5231518149375916,
          0.5248090624809265,
          0.5219267010688782,
          0.5219696760177612,
          0.5225067138671875,
          0.5230656266212463,
          0.5207011103630066,
          0.5208954215049744,
          0.5199954509735107,
          0.5212336182594299,
          0.5196237564086914,
          0.5212631225585938,
          0.5190420746803284,
          0.5180689096450806,
          0.518955409526825,
          0.5199159979820251,
          0.5188431739807129,
          0.519208550453186,
          0.5185496211051941,
          0.5173192620277405,
          0.5160235166549683,
          0.5175527930259705,
          0.518084704875946,
          0.5147677659988403,
          0.520767867565155,
          0.5159971117973328,
          0.5154441595077515,
          0.5148878693580627,
          0.5139912366867065,
          0.5116618871688843,
          0.5125564336776733,
          0.5130050182342529,
          0.5127261877059937,
          0.5131487250328064,
          0.5130253434181213,
          0.510500967502594,
          0.5115566849708557,
          0.5104137063026428,
          0.510810375213623,
          0.5104003548622131,
          0.509375810623169,
          0.5106481313705444,
          0.5078721642494202,
          0.5096836090087891,
          0.509059727191925,
          0.5087674260139465,
          0.5115289092063904,
          0.5082225203514099,
          0.5100393295288086
         ],
         "yaxis": "y"
        },
        {
         "name": "validation auc",
         "type": "scatter",
         "x": [
          0,
          1,
          2,
          3,
          4,
          5,
          6,
          7,
          8,
          9,
          10,
          11,
          12,
          13,
          14,
          15,
          16,
          17,
          18,
          19,
          20,
          21,
          22,
          23,
          24,
          25,
          26,
          27,
          28,
          29,
          30,
          31,
          32,
          33,
          34,
          35,
          36,
          37,
          38,
          39,
          40,
          41,
          42,
          43,
          44,
          45,
          46,
          47,
          48,
          49,
          50,
          51,
          52,
          53,
          54,
          55,
          56,
          57,
          58,
          59,
          60,
          61,
          62,
          63,
          64,
          65,
          66,
          67,
          68,
          69,
          70,
          71,
          72,
          73,
          74,
          75,
          76,
          77,
          78,
          79,
          80,
          81,
          82,
          83,
          84,
          85,
          86,
          87,
          88,
          89,
          90,
          91,
          92,
          93,
          94,
          95,
          96,
          97,
          98,
          99
         ],
         "xaxis": "x2",
         "y": [
          0.723798394203186,
          0.742728590965271,
          0.7566053867340088,
          0.7655518054962158,
          0.773725152015686,
          0.7790688872337341,
          0.782140851020813,
          0.7850052118301392,
          0.7881212830543518,
          0.7906801104545593,
          0.7933371663093567,
          0.7941782474517822,
          0.7943839430809021,
          0.7956975102424622,
          0.7971481084823608,
          0.7981269359588623,
          0.7987566590309143,
          0.7999245524406433,
          0.8003442287445068,
          0.8009279370307922,
          0.8026303052902222,
          0.8028113842010498,
          0.8025109767913818,
          0.8031010627746582,
          0.8048758506774902,
          0.8044283390045166,
          0.8057392239570618,
          0.8059332966804504,
          0.8066615462303162,
          0.8076126575469971,
          0.8070482015609741,
          0.8074297904968262,
          0.8077219724655151,
          0.8086892366409302,
          0.8081907033920288,
          0.8098597526550293,
          0.8098465204238892,
          0.8094179630279541,
          0.8106577396392822,
          0.8107752799987793,
          0.8107209205627441,
          0.811969518661499,
          0.8119722604751587,
          0.811729371547699,
          0.8122351169586182,
          0.8133946657180786,
          0.8124618530273438,
          0.8130898475646973,
          0.8141615390777588,
          0.8137301802635193,
          0.813900351524353,
          0.8149849772453308,
          0.8140158653259277,
          0.815497875213623,
          0.8161283135414124,
          0.8165844082832336,
          0.8160316348075867,
          0.8161745071411133,
          0.8175526857376099,
          0.8175169229507446,
          0.8170761466026306,
          0.8176194429397583,
          0.8180873990058899,
          0.8175023794174194,
          0.819085955619812,
          0.8182510137557983,
          0.819797158241272,
          0.8192610740661621,
          0.8183997273445129,
          0.8193808794021606,
          0.8191656470298767,
          0.8204823136329651,
          0.8202300667762756,
          0.819547176361084,
          0.8215245008468628,
          0.8217415809631348,
          0.822287917137146,
          0.8219721913337708,
          0.8211094737052917,
          0.8224815130233765,
          0.8235356211662292,
          0.8229284286499023,
          0.8243485689163208,
          0.8233814239501953,
          0.8238537907600403,
          0.8239566683769226,
          0.8249231576919556,
          0.8238950371742249,
          0.8249231576919556,
          0.8251560926437378,
          0.8249549865722656,
          0.8263627290725708,
          0.8258277773857117,
          0.8267718553543091,
          0.8264512419700623,
          0.8269802331924438,
          0.8262554407119751,
          0.8261086940765381,
          0.8263610601425171,
          0.8268413543701172
         ],
         "yaxis": "y2"
        }
       ],
       "layout": {
        "template": {
         "data": {
          "bar": [
           {
            "error_x": {
             "color": "#2a3f5f"
            },
            "error_y": {
             "color": "#2a3f5f"
            },
            "marker": {
             "line": {
              "color": "#E5ECF6",
              "width": 0.5
             },
             "pattern": {
              "fillmode": "overlay",
              "size": 10,
              "solidity": 0.2
             }
            },
            "type": "bar"
           }
          ],
          "barpolar": [
           {
            "marker": {
             "line": {
              "color": "#E5ECF6",
              "width": 0.5
             },
             "pattern": {
              "fillmode": "overlay",
              "size": 10,
              "solidity": 0.2
             }
            },
            "type": "barpolar"
           }
          ],
          "carpet": [
           {
            "aaxis": {
             "endlinecolor": "#2a3f5f",
             "gridcolor": "white",
             "linecolor": "white",
             "minorgridcolor": "white",
             "startlinecolor": "#2a3f5f"
            },
            "baxis": {
             "endlinecolor": "#2a3f5f",
             "gridcolor": "white",
             "linecolor": "white",
             "minorgridcolor": "white",
             "startlinecolor": "#2a3f5f"
            },
            "type": "carpet"
           }
          ],
          "choropleth": [
           {
            "colorbar": {
             "outlinewidth": 0,
             "ticks": ""
            },
            "type": "choropleth"
           }
          ],
          "contour": [
           {
            "colorbar": {
             "outlinewidth": 0,
             "ticks": ""
            },
            "colorscale": [
             [
              0,
              "#0d0887"
             ],
             [
              0.1111111111111111,
              "#46039f"
             ],
             [
              0.2222222222222222,
              "#7201a8"
             ],
             [
              0.3333333333333333,
              "#9c179e"
             ],
             [
              0.4444444444444444,
              "#bd3786"
             ],
             [
              0.5555555555555556,
              "#d8576b"
             ],
             [
              0.6666666666666666,
              "#ed7953"
             ],
             [
              0.7777777777777778,
              "#fb9f3a"
             ],
             [
              0.8888888888888888,
              "#fdca26"
             ],
             [
              1,
              "#f0f921"
             ]
            ],
            "type": "contour"
           }
          ],
          "contourcarpet": [
           {
            "colorbar": {
             "outlinewidth": 0,
             "ticks": ""
            },
            "type": "contourcarpet"
           }
          ],
          "heatmap": [
           {
            "colorbar": {
             "outlinewidth": 0,
             "ticks": ""
            },
            "colorscale": [
             [
              0,
              "#0d0887"
             ],
             [
              0.1111111111111111,
              "#46039f"
             ],
             [
              0.2222222222222222,
              "#7201a8"
             ],
             [
              0.3333333333333333,
              "#9c179e"
             ],
             [
              0.4444444444444444,
              "#bd3786"
             ],
             [
              0.5555555555555556,
              "#d8576b"
             ],
             [
              0.6666666666666666,
              "#ed7953"
             ],
             [
              0.7777777777777778,
              "#fb9f3a"
             ],
             [
              0.8888888888888888,
              "#fdca26"
             ],
             [
              1,
              "#f0f921"
             ]
            ],
            "type": "heatmap"
           }
          ],
          "heatmapgl": [
           {
            "colorbar": {
             "outlinewidth": 0,
             "ticks": ""
            },
            "colorscale": [
             [
              0,
              "#0d0887"
             ],
             [
              0.1111111111111111,
              "#46039f"
             ],
             [
              0.2222222222222222,
              "#7201a8"
             ],
             [
              0.3333333333333333,
              "#9c179e"
             ],
             [
              0.4444444444444444,
              "#bd3786"
             ],
             [
              0.5555555555555556,
              "#d8576b"
             ],
             [
              0.6666666666666666,
              "#ed7953"
             ],
             [
              0.7777777777777778,
              "#fb9f3a"
             ],
             [
              0.8888888888888888,
              "#fdca26"
             ],
             [
              1,
              "#f0f921"
             ]
            ],
            "type": "heatmapgl"
           }
          ],
          "histogram": [
           {
            "marker": {
             "pattern": {
              "fillmode": "overlay",
              "size": 10,
              "solidity": 0.2
             }
            },
            "type": "histogram"
           }
          ],
          "histogram2d": [
           {
            "colorbar": {
             "outlinewidth": 0,
             "ticks": ""
            },
            "colorscale": [
             [
              0,
              "#0d0887"
             ],
             [
              0.1111111111111111,
              "#46039f"
             ],
             [
              0.2222222222222222,
              "#7201a8"
             ],
             [
              0.3333333333333333,
              "#9c179e"
             ],
             [
              0.4444444444444444,
              "#bd3786"
             ],
             [
              0.5555555555555556,
              "#d8576b"
             ],
             [
              0.6666666666666666,
              "#ed7953"
             ],
             [
              0.7777777777777778,
              "#fb9f3a"
             ],
             [
              0.8888888888888888,
              "#fdca26"
             ],
             [
              1,
              "#f0f921"
             ]
            ],
            "type": "histogram2d"
           }
          ],
          "histogram2dcontour": [
           {
            "colorbar": {
             "outlinewidth": 0,
             "ticks": ""
            },
            "colorscale": [
             [
              0,
              "#0d0887"
             ],
             [
              0.1111111111111111,
              "#46039f"
             ],
             [
              0.2222222222222222,
              "#7201a8"
             ],
             [
              0.3333333333333333,
              "#9c179e"
             ],
             [
              0.4444444444444444,
              "#bd3786"
             ],
             [
              0.5555555555555556,
              "#d8576b"
             ],
             [
              0.6666666666666666,
              "#ed7953"
             ],
             [
              0.7777777777777778,
              "#fb9f3a"
             ],
             [
              0.8888888888888888,
              "#fdca26"
             ],
             [
              1,
              "#f0f921"
             ]
            ],
            "type": "histogram2dcontour"
           }
          ],
          "mesh3d": [
           {
            "colorbar": {
             "outlinewidth": 0,
             "ticks": ""
            },
            "type": "mesh3d"
           }
          ],
          "parcoords": [
           {
            "line": {
             "colorbar": {
              "outlinewidth": 0,
              "ticks": ""
             }
            },
            "type": "parcoords"
           }
          ],
          "pie": [
           {
            "automargin": true,
            "type": "pie"
           }
          ],
          "scatter": [
           {
            "fillpattern": {
             "fillmode": "overlay",
             "size": 10,
             "solidity": 0.2
            },
            "type": "scatter"
           }
          ],
          "scatter3d": [
           {
            "line": {
             "colorbar": {
              "outlinewidth": 0,
              "ticks": ""
             }
            },
            "marker": {
             "colorbar": {
              "outlinewidth": 0,
              "ticks": ""
             }
            },
            "type": "scatter3d"
           }
          ],
          "scattercarpet": [
           {
            "marker": {
             "colorbar": {
              "outlinewidth": 0,
              "ticks": ""
             }
            },
            "type": "scattercarpet"
           }
          ],
          "scattergeo": [
           {
            "marker": {
             "colorbar": {
              "outlinewidth": 0,
              "ticks": ""
             }
            },
            "type": "scattergeo"
           }
          ],
          "scattergl": [
           {
            "marker": {
             "colorbar": {
              "outlinewidth": 0,
              "ticks": ""
             }
            },
            "type": "scattergl"
           }
          ],
          "scattermapbox": [
           {
            "marker": {
             "colorbar": {
              "outlinewidth": 0,
              "ticks": ""
             }
            },
            "type": "scattermapbox"
           }
          ],
          "scatterpolar": [
           {
            "marker": {
             "colorbar": {
              "outlinewidth": 0,
              "ticks": ""
             }
            },
            "type": "scatterpolar"
           }
          ],
          "scatterpolargl": [
           {
            "marker": {
             "colorbar": {
              "outlinewidth": 0,
              "ticks": ""
             }
            },
            "type": "scatterpolargl"
           }
          ],
          "scatterternary": [
           {
            "marker": {
             "colorbar": {
              "outlinewidth": 0,
              "ticks": ""
             }
            },
            "type": "scatterternary"
           }
          ],
          "surface": [
           {
            "colorbar": {
             "outlinewidth": 0,
             "ticks": ""
            },
            "colorscale": [
             [
              0,
              "#0d0887"
             ],
             [
              0.1111111111111111,
              "#46039f"
             ],
             [
              0.2222222222222222,
              "#7201a8"
             ],
             [
              0.3333333333333333,
              "#9c179e"
             ],
             [
              0.4444444444444444,
              "#bd3786"
             ],
             [
              0.5555555555555556,
              "#d8576b"
             ],
             [
              0.6666666666666666,
              "#ed7953"
             ],
             [
              0.7777777777777778,
              "#fb9f3a"
             ],
             [
              0.8888888888888888,
              "#fdca26"
             ],
             [
              1,
              "#f0f921"
             ]
            ],
            "type": "surface"
           }
          ],
          "table": [
           {
            "cells": {
             "fill": {
              "color": "#EBF0F8"
             },
             "line": {
              "color": "white"
             }
            },
            "header": {
             "fill": {
              "color": "#C8D4E3"
             },
             "line": {
              "color": "white"
             }
            },
            "type": "table"
           }
          ]
         },
         "layout": {
          "annotationdefaults": {
           "arrowcolor": "#2a3f5f",
           "arrowhead": 0,
           "arrowwidth": 1
          },
          "autotypenumbers": "strict",
          "coloraxis": {
           "colorbar": {
            "outlinewidth": 0,
            "ticks": ""
           }
          },
          "colorscale": {
           "diverging": [
            [
             0,
             "#8e0152"
            ],
            [
             0.1,
             "#c51b7d"
            ],
            [
             0.2,
             "#de77ae"
            ],
            [
             0.3,
             "#f1b6da"
            ],
            [
             0.4,
             "#fde0ef"
            ],
            [
             0.5,
             "#f7f7f7"
            ],
            [
             0.6,
             "#e6f5d0"
            ],
            [
             0.7,
             "#b8e186"
            ],
            [
             0.8,
             "#7fbc41"
            ],
            [
             0.9,
             "#4d9221"
            ],
            [
             1,
             "#276419"
            ]
           ],
           "sequential": [
            [
             0,
             "#0d0887"
            ],
            [
             0.1111111111111111,
             "#46039f"
            ],
            [
             0.2222222222222222,
             "#7201a8"
            ],
            [
             0.3333333333333333,
             "#9c179e"
            ],
            [
             0.4444444444444444,
             "#bd3786"
            ],
            [
             0.5555555555555556,
             "#d8576b"
            ],
            [
             0.6666666666666666,
             "#ed7953"
            ],
            [
             0.7777777777777778,
             "#fb9f3a"
            ],
            [
             0.8888888888888888,
             "#fdca26"
            ],
            [
             1,
             "#f0f921"
            ]
           ],
           "sequentialminus": [
            [
             0,
             "#0d0887"
            ],
            [
             0.1111111111111111,
             "#46039f"
            ],
            [
             0.2222222222222222,
             "#7201a8"
            ],
            [
             0.3333333333333333,
             "#9c179e"
            ],
            [
             0.4444444444444444,
             "#bd3786"
            ],
            [
             0.5555555555555556,
             "#d8576b"
            ],
            [
             0.6666666666666666,
             "#ed7953"
            ],
            [
             0.7777777777777778,
             "#fb9f3a"
            ],
            [
             0.8888888888888888,
             "#fdca26"
            ],
            [
             1,
             "#f0f921"
            ]
           ]
          },
          "colorway": [
           "#636efa",
           "#EF553B",
           "#00cc96",
           "#ab63fa",
           "#FFA15A",
           "#19d3f3",
           "#FF6692",
           "#B6E880",
           "#FF97FF",
           "#FECB52"
          ],
          "font": {
           "color": "#2a3f5f"
          },
          "geo": {
           "bgcolor": "white",
           "lakecolor": "white",
           "landcolor": "#E5ECF6",
           "showlakes": true,
           "showland": true,
           "subunitcolor": "white"
          },
          "hoverlabel": {
           "align": "left"
          },
          "hovermode": "closest",
          "mapbox": {
           "style": "light"
          },
          "paper_bgcolor": "white",
          "plot_bgcolor": "#E5ECF6",
          "polar": {
           "angularaxis": {
            "gridcolor": "white",
            "linecolor": "white",
            "ticks": ""
           },
           "bgcolor": "#E5ECF6",
           "radialaxis": {
            "gridcolor": "white",
            "linecolor": "white",
            "ticks": ""
           }
          },
          "scene": {
           "xaxis": {
            "backgroundcolor": "#E5ECF6",
            "gridcolor": "white",
            "gridwidth": 2,
            "linecolor": "white",
            "showbackground": true,
            "ticks": "",
            "zerolinecolor": "white"
           },
           "yaxis": {
            "backgroundcolor": "#E5ECF6",
            "gridcolor": "white",
            "gridwidth": 2,
            "linecolor": "white",
            "showbackground": true,
            "ticks": "",
            "zerolinecolor": "white"
           },
           "zaxis": {
            "backgroundcolor": "#E5ECF6",
            "gridcolor": "white",
            "gridwidth": 2,
            "linecolor": "white",
            "showbackground": true,
            "ticks": "",
            "zerolinecolor": "white"
           }
          },
          "shapedefaults": {
           "line": {
            "color": "#2a3f5f"
           }
          },
          "ternary": {
           "aaxis": {
            "gridcolor": "white",
            "linecolor": "white",
            "ticks": ""
           },
           "baxis": {
            "gridcolor": "white",
            "linecolor": "white",
            "ticks": ""
           },
           "bgcolor": "#E5ECF6",
           "caxis": {
            "gridcolor": "white",
            "linecolor": "white",
            "ticks": ""
           }
          },
          "title": {
           "x": 0.05
          },
          "xaxis": {
           "automargin": true,
           "gridcolor": "white",
           "linecolor": "white",
           "ticks": "",
           "title": {
            "standoff": 15
           },
           "zerolinecolor": "white",
           "zerolinewidth": 2
          },
          "yaxis": {
           "automargin": true,
           "gridcolor": "white",
           "linecolor": "white",
           "ticks": "",
           "title": {
            "standoff": 15
           },
           "zerolinecolor": "white",
           "zerolinewidth": 2
          }
         }
        },
        "xaxis": {
         "anchor": "y",
         "domain": [
          0,
          0.45
         ]
        },
        "xaxis2": {
         "anchor": "y2",
         "domain": [
          0.55,
          1
         ]
        },
        "yaxis": {
         "anchor": "x",
         "domain": [
          0,
          1
         ]
        },
        "yaxis2": {
         "anchor": "x2",
         "domain": [
          0,
          1
         ]
        }
       }
      }
     },
     "metadata": {},
     "output_type": "display_data"
    }
   ],
   "source": [
    "plot_fit_result(result)\n"
   ]
  },
  {
   "cell_type": "code",
   "execution_count": 180,
   "metadata": {},
   "outputs": [
    {
     "data": {
      "application/vnd.plotly.v1+json": {
       "config": {
        "plotlyServerURL": "https://plot.ly"
       },
       "data": [
        {
         "name": "train loss",
         "type": "scatter",
         "x": [
          0,
          1,
          2,
          3,
          4,
          5,
          6,
          7,
          8,
          9,
          10,
          11,
          12,
          13,
          14,
          15,
          16,
          17,
          18,
          19,
          20,
          21,
          22,
          23,
          24,
          25,
          26,
          27,
          28,
          29,
          30,
          31,
          32,
          33,
          34,
          35,
          36,
          37,
          38,
          39,
          40,
          41,
          42,
          43,
          44,
          45,
          46,
          47,
          48,
          49,
          50,
          51,
          52,
          53,
          54,
          55,
          56,
          57,
          58,
          59,
          60,
          61,
          62,
          63,
          64,
          65,
          66,
          67,
          68,
          69,
          70,
          71,
          72,
          73,
          74,
          75,
          76,
          77,
          78,
          79,
          80,
          81,
          82,
          83,
          84,
          85,
          86,
          87,
          88,
          89,
          90,
          91,
          92,
          93,
          94,
          95,
          96,
          97,
          98,
          99
         ],
         "xaxis": "x",
         "y": [
          0.6776397824287415,
          0.6564882397651672,
          0.6466678977012634,
          0.6411542892456055,
          0.6376467347145081,
          0.6355953216552734,
          0.6341038942337036,
          0.6330244541168213,
          0.6322453022003174,
          0.6317119598388672,
          0.6312570571899414,
          0.6310015916824341,
          0.6307508945465088,
          0.6304908394813538,
          0.6303297877311707,
          0.630148708820343,
          0.6300075054168701,
          0.6299439668655396,
          0.6298158168792725,
          0.6297417283058167,
          0.6297112107276917,
          0.6296094059944153,
          0.629530131816864,
          0.6294041872024536,
          0.6293303966522217,
          0.6292829513549805,
          0.62921142578125,
          0.6291539072990417,
          0.6290821433067322,
          0.629061222076416,
          0.6290134191513062,
          0.6289708614349365,
          0.628925621509552,
          0.6287851929664612,
          0.6288277506828308,
          0.6287474036216736,
          0.6286110877990723,
          0.6285461783409119,
          0.6284319162368774,
          0.6283741593360901,
          0.6283743381500244,
          0.6282842755317688,
          0.628267765045166,
          0.6282599568367004,
          0.6282497644424438,
          0.6281512975692749,
          0.6281628012657166,
          0.6281241178512573,
          0.628085732460022,
          0.6280658841133118,
          0.6280413269996643,
          0.6280527114868164,
          0.6280096173286438,
          0.6279839873313904,
          0.6279353499412537,
          0.6279397010803223,
          0.6279166340827942,
          0.6278344392776489,
          0.6278465390205383,
          0.6277865171432495,
          0.6278186440467834,
          0.6277679204940796,
          0.6277551651000977,
          0.6277113556861877,
          0.6277021765708923,
          0.6276991963386536,
          0.6277065277099609,
          0.6276402473449707,
          0.6276192665100098,
          0.6276682019233704,
          0.6276451349258423,
          0.6275991797447205,
          0.6275972127914429,
          0.6275676488876343,
          0.6275796294212341,
          0.6275315880775452,
          0.6275663375854492,
          0.6275539398193359,
          0.6275808215141296,
          0.6275069117546082,
          0.6274636387825012,
          0.6275172829627991,
          0.6274580955505371,
          0.6274569034576416,
          0.6274416446685791,
          0.6273921728134155,
          0.6274382472038269,
          0.6273905038833618,
          0.6273698806762695,
          0.6274030804634094,
          0.6273874044418335,
          0.6274000406265259,
          0.6274153590202332,
          0.6273664236068726,
          0.6273389458656311,
          0.6273683309555054,
          0.6273520588874817,
          0.6273307204246521,
          0.6273201107978821,
          0.6273096799850464
         ],
         "yaxis": "y"
        },
        {
         "name": "train auc",
         "type": "scatter",
         "x": [
          0,
          1,
          2,
          3,
          4,
          5,
          6,
          7,
          8,
          9,
          10,
          11,
          12,
          13,
          14,
          15,
          16,
          17,
          18,
          19,
          20,
          21,
          22,
          23,
          24,
          25,
          26,
          27,
          28,
          29,
          30,
          31,
          32,
          33,
          34,
          35,
          36,
          37,
          38,
          39,
          40,
          41,
          42,
          43,
          44,
          45,
          46,
          47,
          48,
          49,
          50,
          51,
          52,
          53,
          54,
          55,
          56,
          57,
          58,
          59,
          60,
          61,
          62,
          63,
          64,
          65,
          66,
          67,
          68,
          69,
          70,
          71,
          72,
          73,
          74,
          75,
          76,
          77,
          78,
          79,
          80,
          81,
          82,
          83,
          84,
          85,
          86,
          87,
          88,
          89,
          90,
          91,
          92,
          93,
          94,
          95,
          96,
          97,
          98,
          99
         ],
         "xaxis": "x2",
         "y": [
          0.5959601402282715,
          0.6534754037857056,
          0.6726416349411011,
          0.6822566986083984,
          0.6880152225494385,
          0.6912886500358582,
          0.6935988664627075,
          0.6951903700828552,
          0.6964308619499207,
          0.697155773639679,
          0.6977553963661194,
          0.6982232928276062,
          0.6984779238700867,
          0.6988391876220703,
          0.6990031003952026,
          0.6992813348770142,
          0.6994757652282715,
          0.6995491981506348,
          0.6997199058532715,
          0.6997777223587036,
          0.6998422145843506,
          0.6999475955963135,
          0.7000882625579834,
          0.7002488970756531,
          0.700310230255127,
          0.7003726959228516,
          0.7005171775817871,
          0.7005860209465027,
          0.7006248235702515,
          0.7006955146789551,
          0.700812578201294,
          0.7009180784225464,
          0.7009748220443726,
          0.701191246509552,
          0.7011131644248962,
          0.7012935876846313,
          0.7014797329902649,
          0.7014517188072205,
          0.7016922235488892,
          0.7016949653625488,
          0.7016807794570923,
          0.7018508315086365,
          0.7018334269523621,
          0.7018395662307739,
          0.701797604560852,
          0.7018960118293762,
          0.7019734382629395,
          0.70204758644104,
          0.7020817995071411,
          0.7021396160125732,
          0.7021793127059937,
          0.7021000385284424,
          0.70219486951828,
          0.702239990234375,
          0.7022992968559265,
          0.7022806406021118,
          0.7022830247879028,
          0.7024234533309937,
          0.7025281190872192,
          0.7025158405303955,
          0.702502429485321,
          0.7025169730186462,
          0.7026398181915283,
          0.7026444673538208,
          0.702660322189331,
          0.7026276588439941,
          0.7027008533477783,
          0.702764630317688,
          0.7028181552886963,
          0.7027277946472168,
          0.7027289867401123,
          0.7028459310531616,
          0.7028816938400269,
          0.7028428912162781,
          0.702812671661377,
          0.70298171043396,
          0.7029508352279663,
          0.7029271125793457,
          0.7028910517692566,
          0.7029887437820435,
          0.703038215637207,
          0.7029364109039307,
          0.7030375599861145,
          0.7030607461929321,
          0.7030627727508545,
          0.7030901312828064,
          0.7030920386314392,
          0.7031534910202026,
          0.7032004594802856,
          0.7031068801879883,
          0.703154981136322,
          0.7031102180480957,
          0.703095555305481,
          0.703181266784668,
          0.7032254934310913,
          0.7031898498535156,
          0.7031987309455872,
          0.7032239437103271,
          0.7032660245895386,
          0.7033041715621948
         ],
         "yaxis": "y2"
        },
        {
         "name": "validation loss",
         "type": "scatter",
         "x": [
          0,
          1,
          2,
          3,
          4,
          5,
          6,
          7,
          8,
          9,
          10,
          11,
          12,
          13,
          14,
          15,
          16,
          17,
          18,
          19,
          20,
          21,
          22,
          23,
          24,
          25,
          26,
          27,
          28,
          29,
          30,
          31,
          32,
          33,
          34,
          35,
          36,
          37,
          38,
          39,
          40,
          41,
          42,
          43,
          44,
          45,
          46,
          47,
          48,
          49,
          50,
          51,
          52,
          53,
          54,
          55,
          56,
          57,
          58,
          59,
          60,
          61,
          62,
          63,
          64,
          65,
          66,
          67,
          68,
          69,
          70,
          71,
          72,
          73,
          74,
          75,
          76,
          77,
          78,
          79,
          80,
          81,
          82,
          83,
          84,
          85,
          86,
          87,
          88,
          89,
          90,
          91,
          92,
          93,
          94,
          95,
          96,
          97,
          98,
          99
         ],
         "xaxis": "x",
         "y": [
          0.664209246635437,
          0.6505508422851562,
          0.643799364566803,
          0.6394556760787964,
          0.637141764163971,
          0.6352397799491882,
          0.6338865756988525,
          0.6328989863395691,
          0.6323023438453674,
          0.631820023059845,
          0.6314732432365417,
          0.6311177015304565,
          0.6308944225311279,
          0.6305745244026184,
          0.6307088136672974,
          0.630724310874939,
          0.6301938891410828,
          0.6302332282066345,
          0.6299882531166077,
          0.6299391388893127,
          0.6299001574516296,
          0.6296743750572205,
          0.6296226382255554,
          0.6299097537994385,
          0.6302684545516968,
          0.6294531226158142,
          0.6294639110565186,
          0.6293327212333679,
          0.6293990015983582,
          0.6294777989387512,
          0.6290230751037598,
          0.6291453838348389,
          0.6290221810340881,
          0.6289864778518677,
          0.6290644407272339,
          0.6287751197814941,
          0.6293898820877075,
          0.6286846399307251,
          0.6290801763534546,
          0.6286945939064026,
          0.6286925673484802,
          0.6286461353302002,
          0.6288203597068787,
          0.628743052482605,
          0.6285275816917419,
          0.628987193107605,
          0.6285544037818909,
          0.6286754608154297,
          0.6284698247909546,
          0.6287432312965393,
          0.6284781098365784,
          0.6285594701766968,
          0.6284041404724121,
          0.6285670399665833,
          0.6285789608955383,
          0.6284595131874084,
          0.628301739692688,
          0.628324031829834,
          0.6286199688911438,
          0.6285817623138428,
          0.6282969117164612,
          0.6282392144203186,
          0.6283392310142517,
          0.6282381415367126,
          0.6282702088356018,
          0.6281646490097046,
          0.6283562183380127,
          0.6282474398612976,
          0.6282896399497986,
          0.6284894347190857,
          0.6282236576080322,
          0.6281951665878296,
          0.6283182501792908,
          0.6280612945556641,
          0.6281358003616333,
          0.6283613443374634,
          0.6280712485313416,
          0.6287322044372559,
          0.6281983852386475,
          0.6279918551445007,
          0.6283467411994934,
          0.6281134486198425,
          0.6280972957611084,
          0.6280387043952942,
          0.6282610893249512,
          0.6282860636711121,
          0.6281900405883789,
          0.628359317779541,
          0.6281898617744446,
          0.6281555891036987,
          0.6281169652938843,
          0.6280378699302673,
          0.6282733082771301,
          0.6279345154762268,
          0.6279661059379578,
          0.6283888816833496,
          0.6280372142791748,
          0.6280025839805603,
          0.6282061338424683,
          0.6279175281524658
         ],
         "yaxis": "y"
        },
        {
         "name": "validation auc",
         "type": "scatter",
         "x": [
          0,
          1,
          2,
          3,
          4,
          5,
          6,
          7,
          8,
          9,
          10,
          11,
          12,
          13,
          14,
          15,
          16,
          17,
          18,
          19,
          20,
          21,
          22,
          23,
          24,
          25,
          26,
          27,
          28,
          29,
          30,
          31,
          32,
          33,
          34,
          35,
          36,
          37,
          38,
          39,
          40,
          41,
          42,
          43,
          44,
          45,
          46,
          47,
          48,
          49,
          50,
          51,
          52,
          53,
          54,
          55,
          56,
          57,
          58,
          59,
          60,
          61,
          62,
          63,
          64,
          65,
          66,
          67,
          68,
          69,
          70,
          71,
          72,
          73,
          74,
          75,
          76,
          77,
          78,
          79,
          80,
          81,
          82,
          83,
          84,
          85,
          86,
          87,
          88,
          89,
          90,
          91,
          92,
          93,
          94,
          95,
          96,
          97,
          98,
          99
         ],
         "xaxis": "x2",
         "y": [
          0.6377220749855042,
          0.666072428226471,
          0.6782865524291992,
          0.6853707432746887,
          0.6896310448646545,
          0.6922345161437988,
          0.6942775845527649,
          0.6957170367240906,
          0.6964865922927856,
          0.6971496939659119,
          0.6977815628051758,
          0.6982987523078918,
          0.6986016631126404,
          0.6990435123443604,
          0.6990132331848145,
          0.699207067489624,
          0.6995668411254883,
          0.6997271776199341,
          0.6999603509902954,
          0.7000313401222229,
          0.7001731395721436,
          0.7003057599067688,
          0.7004503607749939,
          0.7003417015075684,
          0.7002989053726196,
          0.700687825679779,
          0.700806736946106,
          0.7008846402168274,
          0.7010480761528015,
          0.7009039521217346,
          0.7013643383979797,
          0.7012521028518677,
          0.7013766765594482,
          0.7014650702476501,
          0.7015783190727234,
          0.7017459869384766,
          0.701818585395813,
          0.7019017934799194,
          0.7017902731895447,
          0.7018696069717407,
          0.7019118070602417,
          0.7020130157470703,
          0.7019703388214111,
          0.7019983530044556,
          0.7020792961120605,
          0.7019799947738647,
          0.7022364139556885,
          0.7020796537399292,
          0.7021944522857666,
          0.7021101117134094,
          0.7021670937538147,
          0.7021850347518921,
          0.7023382186889648,
          0.7022996544837952,
          0.7023038864135742,
          0.702386736869812,
          0.702461302280426,
          0.7024416923522949,
          0.7024046182632446,
          0.7023295164108276,
          0.7024362087249756,
          0.7025031447410583,
          0.7026692628860474,
          0.7025692462921143,
          0.7026113271713257,
          0.7026264667510986,
          0.7024955749511719,
          0.7025657296180725,
          0.7024960517883301,
          0.7026004791259766,
          0.7027323842048645,
          0.7026375532150269,
          0.702555239200592,
          0.7028120756149292,
          0.7028218507766724,
          0.7026851177215576,
          0.7027673721313477,
          0.7026537656784058,
          0.7027921676635742,
          0.7028634548187256,
          0.7026822566986084,
          0.7028893232345581,
          0.7028458118438721,
          0.7028380632400513,
          0.7028173208236694,
          0.7026993632316589,
          0.7028422355651855,
          0.7028385400772095,
          0.7027705907821655,
          0.7027653455734253,
          0.7027168273925781,
          0.7028005123138428,
          0.7028453350067139,
          0.7029942274093628,
          0.7029727697372437,
          0.7029411792755127,
          0.7028465270996094,
          0.7028622627258301,
          0.7028403282165527,
          0.7030410766601562
         ],
         "yaxis": "y2"
        }
       ],
       "layout": {
        "template": {
         "data": {
          "bar": [
           {
            "error_x": {
             "color": "#2a3f5f"
            },
            "error_y": {
             "color": "#2a3f5f"
            },
            "marker": {
             "line": {
              "color": "#E5ECF6",
              "width": 0.5
             },
             "pattern": {
              "fillmode": "overlay",
              "size": 10,
              "solidity": 0.2
             }
            },
            "type": "bar"
           }
          ],
          "barpolar": [
           {
            "marker": {
             "line": {
              "color": "#E5ECF6",
              "width": 0.5
             },
             "pattern": {
              "fillmode": "overlay",
              "size": 10,
              "solidity": 0.2
             }
            },
            "type": "barpolar"
           }
          ],
          "carpet": [
           {
            "aaxis": {
             "endlinecolor": "#2a3f5f",
             "gridcolor": "white",
             "linecolor": "white",
             "minorgridcolor": "white",
             "startlinecolor": "#2a3f5f"
            },
            "baxis": {
             "endlinecolor": "#2a3f5f",
             "gridcolor": "white",
             "linecolor": "white",
             "minorgridcolor": "white",
             "startlinecolor": "#2a3f5f"
            },
            "type": "carpet"
           }
          ],
          "choropleth": [
           {
            "colorbar": {
             "outlinewidth": 0,
             "ticks": ""
            },
            "type": "choropleth"
           }
          ],
          "contour": [
           {
            "colorbar": {
             "outlinewidth": 0,
             "ticks": ""
            },
            "colorscale": [
             [
              0,
              "#0d0887"
             ],
             [
              0.1111111111111111,
              "#46039f"
             ],
             [
              0.2222222222222222,
              "#7201a8"
             ],
             [
              0.3333333333333333,
              "#9c179e"
             ],
             [
              0.4444444444444444,
              "#bd3786"
             ],
             [
              0.5555555555555556,
              "#d8576b"
             ],
             [
              0.6666666666666666,
              "#ed7953"
             ],
             [
              0.7777777777777778,
              "#fb9f3a"
             ],
             [
              0.8888888888888888,
              "#fdca26"
             ],
             [
              1,
              "#f0f921"
             ]
            ],
            "type": "contour"
           }
          ],
          "contourcarpet": [
           {
            "colorbar": {
             "outlinewidth": 0,
             "ticks": ""
            },
            "type": "contourcarpet"
           }
          ],
          "heatmap": [
           {
            "colorbar": {
             "outlinewidth": 0,
             "ticks": ""
            },
            "colorscale": [
             [
              0,
              "#0d0887"
             ],
             [
              0.1111111111111111,
              "#46039f"
             ],
             [
              0.2222222222222222,
              "#7201a8"
             ],
             [
              0.3333333333333333,
              "#9c179e"
             ],
             [
              0.4444444444444444,
              "#bd3786"
             ],
             [
              0.5555555555555556,
              "#d8576b"
             ],
             [
              0.6666666666666666,
              "#ed7953"
             ],
             [
              0.7777777777777778,
              "#fb9f3a"
             ],
             [
              0.8888888888888888,
              "#fdca26"
             ],
             [
              1,
              "#f0f921"
             ]
            ],
            "type": "heatmap"
           }
          ],
          "heatmapgl": [
           {
            "colorbar": {
             "outlinewidth": 0,
             "ticks": ""
            },
            "colorscale": [
             [
              0,
              "#0d0887"
             ],
             [
              0.1111111111111111,
              "#46039f"
             ],
             [
              0.2222222222222222,
              "#7201a8"
             ],
             [
              0.3333333333333333,
              "#9c179e"
             ],
             [
              0.4444444444444444,
              "#bd3786"
             ],
             [
              0.5555555555555556,
              "#d8576b"
             ],
             [
              0.6666666666666666,
              "#ed7953"
             ],
             [
              0.7777777777777778,
              "#fb9f3a"
             ],
             [
              0.8888888888888888,
              "#fdca26"
             ],
             [
              1,
              "#f0f921"
             ]
            ],
            "type": "heatmapgl"
           }
          ],
          "histogram": [
           {
            "marker": {
             "pattern": {
              "fillmode": "overlay",
              "size": 10,
              "solidity": 0.2
             }
            },
            "type": "histogram"
           }
          ],
          "histogram2d": [
           {
            "colorbar": {
             "outlinewidth": 0,
             "ticks": ""
            },
            "colorscale": [
             [
              0,
              "#0d0887"
             ],
             [
              0.1111111111111111,
              "#46039f"
             ],
             [
              0.2222222222222222,
              "#7201a8"
             ],
             [
              0.3333333333333333,
              "#9c179e"
             ],
             [
              0.4444444444444444,
              "#bd3786"
             ],
             [
              0.5555555555555556,
              "#d8576b"
             ],
             [
              0.6666666666666666,
              "#ed7953"
             ],
             [
              0.7777777777777778,
              "#fb9f3a"
             ],
             [
              0.8888888888888888,
              "#fdca26"
             ],
             [
              1,
              "#f0f921"
             ]
            ],
            "type": "histogram2d"
           }
          ],
          "histogram2dcontour": [
           {
            "colorbar": {
             "outlinewidth": 0,
             "ticks": ""
            },
            "colorscale": [
             [
              0,
              "#0d0887"
             ],
             [
              0.1111111111111111,
              "#46039f"
             ],
             [
              0.2222222222222222,
              "#7201a8"
             ],
             [
              0.3333333333333333,
              "#9c179e"
             ],
             [
              0.4444444444444444,
              "#bd3786"
             ],
             [
              0.5555555555555556,
              "#d8576b"
             ],
             [
              0.6666666666666666,
              "#ed7953"
             ],
             [
              0.7777777777777778,
              "#fb9f3a"
             ],
             [
              0.8888888888888888,
              "#fdca26"
             ],
             [
              1,
              "#f0f921"
             ]
            ],
            "type": "histogram2dcontour"
           }
          ],
          "mesh3d": [
           {
            "colorbar": {
             "outlinewidth": 0,
             "ticks": ""
            },
            "type": "mesh3d"
           }
          ],
          "parcoords": [
           {
            "line": {
             "colorbar": {
              "outlinewidth": 0,
              "ticks": ""
             }
            },
            "type": "parcoords"
           }
          ],
          "pie": [
           {
            "automargin": true,
            "type": "pie"
           }
          ],
          "scatter": [
           {
            "fillpattern": {
             "fillmode": "overlay",
             "size": 10,
             "solidity": 0.2
            },
            "type": "scatter"
           }
          ],
          "scatter3d": [
           {
            "line": {
             "colorbar": {
              "outlinewidth": 0,
              "ticks": ""
             }
            },
            "marker": {
             "colorbar": {
              "outlinewidth": 0,
              "ticks": ""
             }
            },
            "type": "scatter3d"
           }
          ],
          "scattercarpet": [
           {
            "marker": {
             "colorbar": {
              "outlinewidth": 0,
              "ticks": ""
             }
            },
            "type": "scattercarpet"
           }
          ],
          "scattergeo": [
           {
            "marker": {
             "colorbar": {
              "outlinewidth": 0,
              "ticks": ""
             }
            },
            "type": "scattergeo"
           }
          ],
          "scattergl": [
           {
            "marker": {
             "colorbar": {
              "outlinewidth": 0,
              "ticks": ""
             }
            },
            "type": "scattergl"
           }
          ],
          "scattermapbox": [
           {
            "marker": {
             "colorbar": {
              "outlinewidth": 0,
              "ticks": ""
             }
            },
            "type": "scattermapbox"
           }
          ],
          "scatterpolar": [
           {
            "marker": {
             "colorbar": {
              "outlinewidth": 0,
              "ticks": ""
             }
            },
            "type": "scatterpolar"
           }
          ],
          "scatterpolargl": [
           {
            "marker": {
             "colorbar": {
              "outlinewidth": 0,
              "ticks": ""
             }
            },
            "type": "scatterpolargl"
           }
          ],
          "scatterternary": [
           {
            "marker": {
             "colorbar": {
              "outlinewidth": 0,
              "ticks": ""
             }
            },
            "type": "scatterternary"
           }
          ],
          "surface": [
           {
            "colorbar": {
             "outlinewidth": 0,
             "ticks": ""
            },
            "colorscale": [
             [
              0,
              "#0d0887"
             ],
             [
              0.1111111111111111,
              "#46039f"
             ],
             [
              0.2222222222222222,
              "#7201a8"
             ],
             [
              0.3333333333333333,
              "#9c179e"
             ],
             [
              0.4444444444444444,
              "#bd3786"
             ],
             [
              0.5555555555555556,
              "#d8576b"
             ],
             [
              0.6666666666666666,
              "#ed7953"
             ],
             [
              0.7777777777777778,
              "#fb9f3a"
             ],
             [
              0.8888888888888888,
              "#fdca26"
             ],
             [
              1,
              "#f0f921"
             ]
            ],
            "type": "surface"
           }
          ],
          "table": [
           {
            "cells": {
             "fill": {
              "color": "#EBF0F8"
             },
             "line": {
              "color": "white"
             }
            },
            "header": {
             "fill": {
              "color": "#C8D4E3"
             },
             "line": {
              "color": "white"
             }
            },
            "type": "table"
           }
          ]
         },
         "layout": {
          "annotationdefaults": {
           "arrowcolor": "#2a3f5f",
           "arrowhead": 0,
           "arrowwidth": 1
          },
          "autotypenumbers": "strict",
          "coloraxis": {
           "colorbar": {
            "outlinewidth": 0,
            "ticks": ""
           }
          },
          "colorscale": {
           "diverging": [
            [
             0,
             "#8e0152"
            ],
            [
             0.1,
             "#c51b7d"
            ],
            [
             0.2,
             "#de77ae"
            ],
            [
             0.3,
             "#f1b6da"
            ],
            [
             0.4,
             "#fde0ef"
            ],
            [
             0.5,
             "#f7f7f7"
            ],
            [
             0.6,
             "#e6f5d0"
            ],
            [
             0.7,
             "#b8e186"
            ],
            [
             0.8,
             "#7fbc41"
            ],
            [
             0.9,
             "#4d9221"
            ],
            [
             1,
             "#276419"
            ]
           ],
           "sequential": [
            [
             0,
             "#0d0887"
            ],
            [
             0.1111111111111111,
             "#46039f"
            ],
            [
             0.2222222222222222,
             "#7201a8"
            ],
            [
             0.3333333333333333,
             "#9c179e"
            ],
            [
             0.4444444444444444,
             "#bd3786"
            ],
            [
             0.5555555555555556,
             "#d8576b"
            ],
            [
             0.6666666666666666,
             "#ed7953"
            ],
            [
             0.7777777777777778,
             "#fb9f3a"
            ],
            [
             0.8888888888888888,
             "#fdca26"
            ],
            [
             1,
             "#f0f921"
            ]
           ],
           "sequentialminus": [
            [
             0,
             "#0d0887"
            ],
            [
             0.1111111111111111,
             "#46039f"
            ],
            [
             0.2222222222222222,
             "#7201a8"
            ],
            [
             0.3333333333333333,
             "#9c179e"
            ],
            [
             0.4444444444444444,
             "#bd3786"
            ],
            [
             0.5555555555555556,
             "#d8576b"
            ],
            [
             0.6666666666666666,
             "#ed7953"
            ],
            [
             0.7777777777777778,
             "#fb9f3a"
            ],
            [
             0.8888888888888888,
             "#fdca26"
            ],
            [
             1,
             "#f0f921"
            ]
           ]
          },
          "colorway": [
           "#636efa",
           "#EF553B",
           "#00cc96",
           "#ab63fa",
           "#FFA15A",
           "#19d3f3",
           "#FF6692",
           "#B6E880",
           "#FF97FF",
           "#FECB52"
          ],
          "font": {
           "color": "#2a3f5f"
          },
          "geo": {
           "bgcolor": "white",
           "lakecolor": "white",
           "landcolor": "#E5ECF6",
           "showlakes": true,
           "showland": true,
           "subunitcolor": "white"
          },
          "hoverlabel": {
           "align": "left"
          },
          "hovermode": "closest",
          "mapbox": {
           "style": "light"
          },
          "paper_bgcolor": "white",
          "plot_bgcolor": "#E5ECF6",
          "polar": {
           "angularaxis": {
            "gridcolor": "white",
            "linecolor": "white",
            "ticks": ""
           },
           "bgcolor": "#E5ECF6",
           "radialaxis": {
            "gridcolor": "white",
            "linecolor": "white",
            "ticks": ""
           }
          },
          "scene": {
           "xaxis": {
            "backgroundcolor": "#E5ECF6",
            "gridcolor": "white",
            "gridwidth": 2,
            "linecolor": "white",
            "showbackground": true,
            "ticks": "",
            "zerolinecolor": "white"
           },
           "yaxis": {
            "backgroundcolor": "#E5ECF6",
            "gridcolor": "white",
            "gridwidth": 2,
            "linecolor": "white",
            "showbackground": true,
            "ticks": "",
            "zerolinecolor": "white"
           },
           "zaxis": {
            "backgroundcolor": "#E5ECF6",
            "gridcolor": "white",
            "gridwidth": 2,
            "linecolor": "white",
            "showbackground": true,
            "ticks": "",
            "zerolinecolor": "white"
           }
          },
          "shapedefaults": {
           "line": {
            "color": "#2a3f5f"
           }
          },
          "ternary": {
           "aaxis": {
            "gridcolor": "white",
            "linecolor": "white",
            "ticks": ""
           },
           "baxis": {
            "gridcolor": "white",
            "linecolor": "white",
            "ticks": ""
           },
           "bgcolor": "#E5ECF6",
           "caxis": {
            "gridcolor": "white",
            "linecolor": "white",
            "ticks": ""
           }
          },
          "title": {
           "x": 0.05
          },
          "xaxis": {
           "automargin": true,
           "gridcolor": "white",
           "linecolor": "white",
           "ticks": "",
           "title": {
            "standoff": 15
           },
           "zerolinecolor": "white",
           "zerolinewidth": 2
          },
          "yaxis": {
           "automargin": true,
           "gridcolor": "white",
           "linecolor": "white",
           "ticks": "",
           "title": {
            "standoff": 15
           },
           "zerolinecolor": "white",
           "zerolinewidth": 2
          }
         }
        },
        "xaxis": {
         "anchor": "y",
         "domain": [
          0,
          0.45
         ]
        },
        "xaxis2": {
         "anchor": "y2",
         "domain": [
          0.55,
          1
         ]
        },
        "yaxis": {
         "anchor": "x",
         "domain": [
          0,
          1
         ]
        },
        "yaxis2": {
         "anchor": "x2",
         "domain": [
          0,
          1
         ]
        }
       }
      }
     },
     "metadata": {},
     "output_type": "display_data"
    }
   ],
   "source": [
    "plot_fit_result(result)"
   ]
  },
  {
   "cell_type": "code",
   "execution_count": 46,
   "metadata": {},
   "outputs": [
    {
     "name": "stdout",
     "output_type": "stream",
     "text": [
      "4475/4475 [==============================] - 1s 277us/step\n",
      "4475/4475 [==============================] - 1s 281us/step\n",
      "4475/4475 [==============================] - 1s 274us/step\n",
      "4475/4475 [==============================] - 1s 274us/step\n",
      "4475/4475 [==============================] - 1s 276us/step\n",
      "4475/4475 [==============================] - 1s 275us/step\n",
      "4475/4475 [==============================] - 1s 275us/step\n",
      "4475/4475 [==============================] - 1s 281us/step\n",
      "4475/4475 [==============================] - 1s 276us/step\n",
      "4475/4475 [==============================] - 1s 302us/step\n",
      "4475/4475 [==============================] - 1s 275us/step\n",
      "4475/4475 [==============================] - 1s 275us/step\n",
      "4475/4475 [==============================] - 1s 281us/step\n",
      "4475/4475 [==============================] - 1s 276us/step\n",
      "4475/4475 [==============================] - 1s 275us/step\n",
      "4475/4475 [==============================] - 1s 274us/step\n",
      "4475/4475 [==============================] - 1s 275us/step\n",
      "4475/4475 [==============================] - 1s 276us/step\n",
      "4475/4475 [==============================] - 1s 282us/step\n",
      "4475/4475 [==============================] - 1s 275us/step\n",
      "4475/4475 [==============================] - 1s 277us/step\n",
      "4475/4475 [==============================] - 1s 276us/step\n",
      "4475/4475 [==============================] - 1s 278us/step\n",
      "4475/4475 [==============================] - 1s 306us/step\n",
      "4475/4475 [==============================] - 1s 275us/step\n",
      "4475/4475 [==============================] - 1s 275us/step\n",
      "4475/4475 [==============================] - 1s 275us/step\n",
      "4475/4475 [==============================] - 1s 283us/step\n",
      "4475/4475 [==============================] - 1s 276us/step\n",
      "4475/4475 [==============================] - 1s 276us/step\n",
      "4475/4475 [==============================] - 1s 276us/step\n",
      "4475/4475 [==============================] - 1s 276us/step\n",
      "4475/4475 [==============================] - 1s 275us/step\n",
      "4475/4475 [==============================] - 1s 285us/step\n",
      "4475/4475 [==============================] - 1s 276us/step\n",
      "4475/4475 [==============================] - 1s 277us/step\n",
      "4475/4475 [==============================] - 1s 277us/step\n",
      "4475/4475 [==============================] - 1s 276us/step\n",
      "4475/4475 [==============================] - 1s 283us/step\n",
      "4475/4475 [==============================] - 1s 277us/step\n",
      "4475/4475 [==============================] - 1s 277us/step\n",
      "4475/4475 [==============================] - 1s 277us/step\n",
      "4475/4475 [==============================] - 1s 320us/step\n",
      "4475/4475 [==============================] - 1s 280us/step\n",
      "4475/4475 [==============================] - 1s 276us/step\n",
      "4475/4475 [==============================] - 1s 277us/step\n",
      "4475/4475 [==============================] - 1s 289us/step\n",
      "4475/4475 [==============================] - 1s 276us/step\n",
      "4475/4475 [==============================] - 1s 281us/step\n",
      "4475/4475 [==============================] - 1s 277us/step\n",
      "4475/4475 [==============================] - 1s 275us/step\n",
      "4475/4475 [==============================] - 1s 274us/step\n",
      "4475/4475 [==============================] - 1s 276us/step\n",
      "4475/4475 [==============================] - 1s 287us/step\n",
      "4475/4475 [==============================] - 1s 276us/step\n",
      "4475/4475 [==============================] - 1s 278us/step\n",
      "4475/4475 [==============================] - 1s 276us/step\n",
      "4475/4475 [==============================] - 1s 275us/step\n",
      "4475/4475 [==============================] - 1s 285us/step\n",
      "4475/4475 [==============================] - 1s 278us/step\n",
      "4475/4475 [==============================] - 1s 280us/step\n",
      "4475/4475 [==============================] - 1s 277us/step\n",
      "4475/4475 [==============================] - 1s 282us/step\n",
      "4475/4475 [==============================] - 1s 279us/step\n",
      "4475/4475 [==============================] - 1s 276us/step\n",
      "4475/4475 [==============================] - 1s 277us/step\n",
      "4475/4475 [==============================] - 1s 279us/step\n",
      "4475/4475 [==============================] - 1s 282us/step\n",
      "4475/4475 [==============================] - 1s 278us/step\n",
      "4475/4475 [==============================] - 1s 276us/step\n",
      "4475/4475 [==============================] - 1s 281us/step\n",
      "4475/4475 [==============================] - 1s 277us/step\n",
      "4475/4475 [==============================] - 1s 282us/step\n",
      "4475/4475 [==============================] - 1s 276us/step\n",
      "4475/4475 [==============================] - 1s 275us/step\n",
      "4475/4475 [==============================] - 1s 277us/step\n",
      "4475/4475 [==============================] - 1s 274us/step\n",
      "4475/4475 [==============================] - 1s 282us/step\n",
      "4475/4475 [==============================] - 1s 275us/step\n",
      "4475/4475 [==============================] - 1s 277us/step\n",
      "4475/4475 [==============================] - 1s 275us/step\n",
      "4475/4475 [==============================] - 1s 275us/step\n",
      "4475/4475 [==============================] - 1s 283us/step\n",
      "4475/4475 [==============================] - 1s 276us/step\n",
      "4475/4475 [==============================] - 1s 277us/step\n",
      "4475/4475 [==============================] - 1s 275us/step\n",
      "4475/4475 [==============================] - 1s 275us/step\n",
      "4475/4475 [==============================] - 1s 281us/step\n",
      "4475/4475 [==============================] - 1s 277us/step\n",
      "4475/4475 [==============================] - 1s 276us/step\n",
      "4475/4475 [==============================] - 1s 277us/step\n",
      "4475/4475 [==============================] - 1s 282us/step\n",
      "4475/4475 [==============================] - 1s 283us/step\n",
      "4475/4475 [==============================] - 1s 275us/step\n",
      "4475/4475 [==============================] - 1s 277us/step\n",
      "4475/4475 [==============================] - 1s 276us/step\n",
      "4475/4475 [==============================] - 1s 290us/step\n",
      "4475/4475 [==============================] - 1s 275us/step\n",
      "4475/4475 [==============================] - 1s 280us/step\n",
      "4475/4475 [==============================] - 1s 277us/step\n",
      "4475/4475 [==============================] - 1s 279us/step\n"
     ]
    },
    {
     "data": {
      "image/png": "[encoded data removed]",
      "text/plain": [
       "<Figure size 640x480 with 4 Axes>"
      ]
     },
     "metadata": {},
     "output_type": "display_data"
    }
   ],
   "source": [
    "recon = pd.DataFrame(feature_train, columns=col_list[:-1])\n",
    "\n",
    "shap.partial_dependence_plot(\n",
    "    \"annuity_780A\",\n",
    "    model.predict,\n",
    "    recon,\n",
    "    ice=False,\n",
    "    model_expected_value=True,\n",
    "    feature_expected_value=True,\n",
    ")"
   ]
  },
  {
   "cell_type": "code",
   "execution_count": 56,
   "metadata": {},
   "outputs": [
    {
     "name": "stdout",
     "output_type": "stream",
     "text": [
      "4475/4475 [==============================] - 1s 279us/step\n",
      "4475/4475 [==============================] - 1s 291us/step\n",
      "4475/4475 [==============================] - 1s 277us/step\n",
      "4475/4475 [==============================] - 1s 277us/step\n",
      "4475/4475 [==============================] - 1s 277us/step\n",
      "4475/4475 [==============================] - 1s 274us/step\n",
      "4475/4475 [==============================] - 1s 283us/step\n",
      "4475/4475 [==============================] - 1s 276us/step\n",
      "4475/4475 [==============================] - 1s 277us/step\n",
      "4475/4475 [==============================] - 1s 273us/step\n",
      "4475/4475 [==============================] - 1s 275us/step\n",
      "4475/4475 [==============================] - 1s 276us/step\n",
      "4475/4475 [==============================] - 1s 282us/step\n",
      "4475/4475 [==============================] - 1s 279us/step\n",
      "4475/4475 [==============================] - 1s 275us/step\n",
      "4475/4475 [==============================] - 1s 277us/step\n",
      "4475/4475 [==============================] - 1s 274us/step\n",
      "4475/4475 [==============================] - 1s 279us/step\n",
      "4475/4475 [==============================] - 1s 280us/step\n",
      "4475/4475 [==============================] - 1s 278us/step\n",
      "4475/4475 [==============================] - 1s 305us/step\n",
      "4475/4475 [==============================] - 1s 279us/step\n",
      "4475/4475 [==============================] - 1s 273us/step\n",
      "4475/4475 [==============================] - 1s 281us/step\n",
      "4475/4475 [==============================] - 1s 278us/step\n",
      "4475/4475 [==============================] - 1s 277us/step\n",
      "4475/4475 [==============================] - 1s 277us/step\n",
      "4475/4475 [==============================] - 1s 279us/step\n",
      "4475/4475 [==============================] - 1s 275us/step\n",
      "4475/4475 [==============================] - 1s 280us/step\n",
      "4475/4475 [==============================] - 1s 278us/step\n",
      "4475/4475 [==============================] - 1s 275us/step\n",
      "4475/4475 [==============================] - 1s 279us/step\n",
      "4475/4475 [==============================] - 1s 278us/step\n",
      "4475/4475 [==============================] - 1s 284us/step\n",
      "4475/4475 [==============================] - 1s 277us/step\n",
      "4475/4475 [==============================] - 1s 279us/step\n",
      "4475/4475 [==============================] - 1s 277us/step\n",
      "4475/4475 [==============================] - 1s 279us/step\n",
      "4475/4475 [==============================] - 1s 277us/step\n",
      "4475/4475 [==============================] - 1s 285us/step\n",
      "4475/4475 [==============================] - 1s 304us/step\n",
      "4475/4475 [==============================] - 1s 273us/step\n",
      "4475/4475 [==============================] - 1s 279us/step\n",
      "4475/4475 [==============================] - 1s 278us/step\n",
      "4475/4475 [==============================] - 1s 284us/step\n",
      "4475/4475 [==============================] - 1s 275us/step\n",
      "4475/4475 [==============================] - 1s 279us/step\n",
      "4475/4475 [==============================] - 1s 274us/step\n",
      "4475/4475 [==============================] - 1s 280us/step\n",
      "4475/4475 [==============================] - 1s 281us/step\n",
      "4475/4475 [==============================] - 1s 280us/step\n",
      "4475/4475 [==============================] - 1s 277us/step\n",
      "4475/4475 [==============================] - 1s 280us/step\n",
      "4475/4475 [==============================] - 1s 279us/step\n",
      "4475/4475 [==============================] - 1s 279us/step\n",
      "4475/4475 [==============================] - 1s 286us/step\n",
      "4475/4475 [==============================] - 1s 279us/step\n",
      "4475/4475 [==============================] - 1s 276us/step\n",
      "4475/4475 [==============================] - 1s 277us/step\n",
      "4475/4475 [==============================] - 1s 279us/step\n",
      "4475/4475 [==============================] - 1s 287us/step\n",
      "4475/4475 [==============================] - 1s 306us/step\n",
      "4475/4475 [==============================] - 1s 273us/step\n",
      "4475/4475 [==============================] - 1s 281us/step\n",
      "4475/4475 [==============================] - 1s 276us/step\n",
      "4475/4475 [==============================] - 1s 283us/step\n",
      "4475/4475 [==============================] - 1s 275us/step\n",
      "4475/4475 [==============================] - 1s 277us/step\n",
      "4475/4475 [==============================] - 1s 300us/step\n",
      "4475/4475 [==============================] - 1s 280us/step\n",
      "4475/4475 [==============================] - 1s 273us/step\n",
      "4475/4475 [==============================] - 1s 274us/step\n",
      "4475/4475 [==============================] - 1s 272us/step\n",
      "4475/4475 [==============================] - 1s 280us/step\n",
      "4475/4475 [==============================] - 1s 276us/step\n",
      "4475/4475 [==============================] - 1s 278us/step\n",
      "4475/4475 [==============================] - 1s 277us/step\n",
      "4475/4475 [==============================] - 1s 278us/step\n",
      "4475/4475 [==============================] - 1s 284us/step\n",
      "4475/4475 [==============================] - 1s 276us/step\n",
      "4475/4475 [==============================] - 1s 279us/step\n",
      "4475/4475 [==============================] - 1s 276us/step\n",
      "4475/4475 [==============================] - 1s 275us/step\n",
      "4475/4475 [==============================] - 1s 285us/step\n",
      "4475/4475 [==============================] - 1s 281us/step\n",
      "4475/4475 [==============================] - 1s 275us/step\n",
      "4475/4475 [==============================] - 1s 280us/step\n",
      "4475/4475 [==============================] - 1s 278us/step\n",
      "4475/4475 [==============================] - 1s 289us/step\n",
      "4475/4475 [==============================] - 1s 278us/step\n",
      "4475/4475 [==============================] - 1s 276us/step\n",
      "4475/4475 [==============================] - 1s 274us/step\n",
      "4475/4475 [==============================] - 1s 291us/step\n",
      "4475/4475 [==============================] - 1s 279us/step\n",
      "4475/4475 [==============================] - 1s 281us/step\n",
      "4475/4475 [==============================] - 1s 275us/step\n",
      "4475/4475 [==============================] - 1s 276us/step\n",
      "4475/4475 [==============================] - 1s 284us/step\n",
      "4475/4475 [==============================] - 1s 281us/step\n",
      "4475/4475 [==============================] - 1s 282us/step\n"
     ]
    },
    {
     "data": {
      "image/png": "[encoded data removed]",
      "text/plain": [
       "<Figure size 640x480 with 4 Axes>"
      ]
     },
     "metadata": {},
     "output_type": "display_data"
    }
   ],
   "source": [
    "recon = pd.DataFrame(feature_train, columns=col_list[:-1])\n",
    "\n",
    "shap.partial_dependence_plot(\n",
    "    \"annuity_780A\",\n",
    "    model.predict,\n",
    "    recon,\n",
    "    ice=False,\n",
    "    model_expected_value=True,\n",
    "    feature_expected_value=True,\n",
    ")"
   ]
  },
  {
   "cell_type": "code",
   "execution_count": 61,
   "metadata": {},
   "outputs": [
    {
     "data": {
      "text/plain": [
       "annuity_780A                  0.0000\n",
       "applications30d_658L         -0.0000\n",
       "applicationscnt_867L          0.0000\n",
       "credamount_770A              -0.0000\n",
       "disbursedcredamount_1113A    -0.0000\n",
       "homephncnt_628L              -0.0000\n",
       "mobilephncnt_593L             0.0000\n",
       "numactivecreds_622L           0.0000\n",
       "numactivecredschannel_414L    0.0000\n",
       "numactiverelcontr_750L        0.0000\n",
       "numcontrs3months_479L         0.0000\n",
       "numrejects9m_859L             0.0000\n",
       "sellerplacecnt_915L           0.0000\n",
       "sellerplacescnt_216L          0.0000\n",
       "totaldebt_9A                 -0.0000\n",
       "annuitynextmonth_57A         -0.0000\n",
       "currdebt_22A                 -0.0000\n",
       "numinstls_657L                0.0000\n",
       "totalsettled_863A            -0.0000\n",
       "pmtnum_254L                  -0.0000\n",
       "eir_270L                      0.0000\n",
       "price_1097A                   0.0000\n",
       "maxannuity_159A               0.0000\n",
       "maxdebt4_972A                -0.0000\n",
       "maxdpdlast12m_727P           -0.0000\n",
       "maxdpdlast24m_143P           -0.0000\n",
       "maxdpdlast3m_392P             0.0000\n",
       "maxdpdlast6m_474P            -0.0000\n",
       "maxdpdlast9m_1059P            0.0000\n",
       "maxdpdtolerance_374P         -0.0000\n",
       "days120_123L                 -0.0000\n",
       "days180_256L                 -0.0000\n",
       "days30_165L                   0.0000\n",
       "days360_512L                 -0.0000\n",
       "days90_310L                  -0.0000\n",
       "firstquarter_103L             0.0000\n",
       "fourthquarter_440L           -0.0000\n",
       "numberofqueries_373L         -0.0000\n",
       "secondquarter_766L           -0.0000\n",
       "thirdquarter_1082L           -0.0000\n",
       "dtype: float64"
      ]
     },
     "execution_count": 61,
     "metadata": {},
     "output_type": "execute_result"
    }
   ],
   "source": [
    "recon = pd.DataFrame(feature_train, columns=col_list[:-1])\n",
    "recon.mean()"
   ]
  },
  {
   "cell_type": "code",
   "execution_count": 58,
   "metadata": {},
   "outputs": [
    {
     "data": {
      "text/plain": [
       "annuity_780A                 1.0000\n",
       "applications30d_658L         1.0000\n",
       "applicationscnt_867L         1.0000\n",
       "credamount_770A              1.0000\n",
       "disbursedcredamount_1113A    1.0000\n",
       "homephncnt_628L              1.0000\n",
       "mobilephncnt_593L            1.0000\n",
       "numactivecreds_622L          1.0000\n",
       "numactivecredschannel_414L   1.0000\n",
       "numactiverelcontr_750L       1.0000\n",
       "numcontrs3months_479L        1.0000\n",
       "numrejects9m_859L            1.0000\n",
       "sellerplacecnt_915L          1.0000\n",
       "sellerplacescnt_216L         1.0000\n",
       "totaldebt_9A                 1.0000\n",
       "annuitynextmonth_57A         1.0000\n",
       "currdebt_22A                 1.0000\n",
       "numinstls_657L               1.0000\n",
       "totalsettled_863A            1.0000\n",
       "pmtnum_254L                  1.0000\n",
       "eir_270L                     1.0000\n",
       "price_1097A                  1.0000\n",
       "maxannuity_159A              1.0000\n",
       "maxdebt4_972A                1.0000\n",
       "maxdpdlast12m_727P           1.0000\n",
       "maxdpdlast24m_143P           1.0000\n",
       "maxdpdlast3m_392P            1.0000\n",
       "maxdpdlast6m_474P            1.0000\n",
       "maxdpdlast9m_1059P           1.0000\n",
       "maxdpdtolerance_374P         1.0000\n",
       "days120_123L                 1.0000\n",
       "days180_256L                 1.0000\n",
       "days30_165L                  1.0000\n",
       "days360_512L                 1.0000\n",
       "days90_310L                  1.0000\n",
       "firstquarter_103L            1.0000\n",
       "fourthquarter_440L           1.0000\n",
       "numberofqueries_373L         1.0000\n",
       "secondquarter_766L           1.0000\n",
       "thirdquarter_1082L           1.0000\n",
       "dtype: float64"
      ]
     },
     "execution_count": 58,
     "metadata": {},
     "output_type": "execute_result"
    }
   ],
   "source": [
    "recon.max()"
   ]
  },
  {
   "cell_type": "markdown",
   "metadata": {},
   "source": [
    "---\n",
    "---\n",
    "# <center> Experimentation </center>\n",
    "---"
   ]
  },
  {
   "cell_type": "code",
   "execution_count": 96,
   "metadata": {},
   "outputs": [],
   "source": [
    "import statistics as stat\n",
    "\n",
    "from scipy.stats import linregress\n",
    "from sklearn.ensemble import RandomForestClassifier\n",
    "from sklearn.metrics import roc_auc_score\n",
    "from sklearn.model_selection import cross_val_score, cross_val_predict, RandomizedSearchCV\n",
    "\n",
    "\n"
   ]
  },
  {
   "cell_type": "code",
   "execution_count": 65,
   "metadata": {},
   "outputs": [
    {
     "name": "stdout",
     "output_type": "stream",
     "text": [
      "Number of trees: 100\n",
      "Number of trees: 400\n",
      "Number of trees: 700\n",
      "Number of trees: 1000\n",
      "Number of trees: 1300\n",
      "Number of trees: 1600\n"
     ]
    },
    {
     "data": {
      "application/vnd.plotly.v1+json": {
       "config": {
        "plotlyServerURL": "https://plot.ly"
       },
       "data": [
        {
         "name": "train",
         "type": "scatter",
         "x": [
          100,
          400,
          700,
          1000,
          1300,
          1600
         ],
         "y": [
          0.7740793883756428,
          0.7750577362746633,
          0.775119213877913,
          0.7754570669907118,
          0.7755930778169424,
          0.7754851155091432
         ]
        },
        {
         "name": "test",
         "type": "scatter",
         "x": [
          100,
          400,
          700,
          1000,
          1300,
          1600
         ],
         "y": [
          0.7733575348216846,
          0.7743880635373779,
          0.7743790155967919,
          0.7746413002546001,
          0.7747480820626824,
          0.7747179514428701
         ]
        }
       ],
       "layout": {
        "template": {
         "data": {
          "bar": [
           {
            "error_x": {
             "color": "#2a3f5f"
            },
            "error_y": {
             "color": "#2a3f5f"
            },
            "marker": {
             "line": {
              "color": "#E5ECF6",
              "width": 0.5
             },
             "pattern": {
              "fillmode": "overlay",
              "size": 10,
              "solidity": 0.2
             }
            },
            "type": "bar"
           }
          ],
          "barpolar": [
           {
            "marker": {
             "line": {
              "color": "#E5ECF6",
              "width": 0.5
             },
             "pattern": {
              "fillmode": "overlay",
              "size": 10,
              "solidity": 0.2
             }
            },
            "type": "barpolar"
           }
          ],
          "carpet": [
           {
            "aaxis": {
             "endlinecolor": "#2a3f5f",
             "gridcolor": "white",
             "linecolor": "white",
             "minorgridcolor": "white",
             "startlinecolor": "#2a3f5f"
            },
            "baxis": {
             "endlinecolor": "#2a3f5f",
             "gridcolor": "white",
             "linecolor": "white",
             "minorgridcolor": "white",
             "startlinecolor": "#2a3f5f"
            },
            "type": "carpet"
           }
          ],
          "choropleth": [
           {
            "colorbar": {
             "outlinewidth": 0,
             "ticks": ""
            },
            "type": "choropleth"
           }
          ],
          "contour": [
           {
            "colorbar": {
             "outlinewidth": 0,
             "ticks": ""
            },
            "colorscale": [
             [
              0,
              "#0d0887"
             ],
             [
              0.1111111111111111,
              "#46039f"
             ],
             [
              0.2222222222222222,
              "#7201a8"
             ],
             [
              0.3333333333333333,
              "#9c179e"
             ],
             [
              0.4444444444444444,
              "#bd3786"
             ],
             [
              0.5555555555555556,
              "#d8576b"
             ],
             [
              0.6666666666666666,
              "#ed7953"
             ],
             [
              0.7777777777777778,
              "#fb9f3a"
             ],
             [
              0.8888888888888888,
              "#fdca26"
             ],
             [
              1,
              "#f0f921"
             ]
            ],
            "type": "contour"
           }
          ],
          "contourcarpet": [
           {
            "colorbar": {
             "outlinewidth": 0,
             "ticks": ""
            },
            "type": "contourcarpet"
           }
          ],
          "heatmap": [
           {
            "colorbar": {
             "outlinewidth": 0,
             "ticks": ""
            },
            "colorscale": [
             [
              0,
              "#0d0887"
             ],
             [
              0.1111111111111111,
              "#46039f"
             ],
             [
              0.2222222222222222,
              "#7201a8"
             ],
             [
              0.3333333333333333,
              "#9c179e"
             ],
             [
              0.4444444444444444,
              "#bd3786"
             ],
             [
              0.5555555555555556,
              "#d8576b"
             ],
             [
              0.6666666666666666,
              "#ed7953"
             ],
             [
              0.7777777777777778,
              "#fb9f3a"
             ],
             [
              0.8888888888888888,
              "#fdca26"
             ],
             [
              1,
              "#f0f921"
             ]
            ],
            "type": "heatmap"
           }
          ],
          "heatmapgl": [
           {
            "colorbar": {
             "outlinewidth": 0,
             "ticks": ""
            },
            "colorscale": [
             [
              0,
              "#0d0887"
             ],
             [
              0.1111111111111111,
              "#46039f"
             ],
             [
              0.2222222222222222,
              "#7201a8"
             ],
             [
              0.3333333333333333,
              "#9c179e"
             ],
             [
              0.4444444444444444,
              "#bd3786"
             ],
             [
              0.5555555555555556,
              "#d8576b"
             ],
             [
              0.6666666666666666,
              "#ed7953"
             ],
             [
              0.7777777777777778,
              "#fb9f3a"
             ],
             [
              0.8888888888888888,
              "#fdca26"
             ],
             [
              1,
              "#f0f921"
             ]
            ],
            "type": "heatmapgl"
           }
          ],
          "histogram": [
           {
            "marker": {
             "pattern": {
              "fillmode": "overlay",
              "size": 10,
              "solidity": 0.2
             }
            },
            "type": "histogram"
           }
          ],
          "histogram2d": [
           {
            "colorbar": {
             "outlinewidth": 0,
             "ticks": ""
            },
            "colorscale": [
             [
              0,
              "#0d0887"
             ],
             [
              0.1111111111111111,
              "#46039f"
             ],
             [
              0.2222222222222222,
              "#7201a8"
             ],
             [
              0.3333333333333333,
              "#9c179e"
             ],
             [
              0.4444444444444444,
              "#bd3786"
             ],
             [
              0.5555555555555556,
              "#d8576b"
             ],
             [
              0.6666666666666666,
              "#ed7953"
             ],
             [
              0.7777777777777778,
              "#fb9f3a"
             ],
             [
              0.8888888888888888,
              "#fdca26"
             ],
             [
              1,
              "#f0f921"
             ]
            ],
            "type": "histogram2d"
           }
          ],
          "histogram2dcontour": [
           {
            "colorbar": {
             "outlinewidth": 0,
             "ticks": ""
            },
            "colorscale": [
             [
              0,
              "#0d0887"
             ],
             [
              0.1111111111111111,
              "#46039f"
             ],
             [
              0.2222222222222222,
              "#7201a8"
             ],
             [
              0.3333333333333333,
              "#9c179e"
             ],
             [
              0.4444444444444444,
              "#bd3786"
             ],
             [
              0.5555555555555556,
              "#d8576b"
             ],
             [
              0.6666666666666666,
              "#ed7953"
             ],
             [
              0.7777777777777778,
              "#fb9f3a"
             ],
             [
              0.8888888888888888,
              "#fdca26"
             ],
             [
              1,
              "#f0f921"
             ]
            ],
            "type": "histogram2dcontour"
           }
          ],
          "mesh3d": [
           {
            "colorbar": {
             "outlinewidth": 0,
             "ticks": ""
            },
            "type": "mesh3d"
           }
          ],
          "parcoords": [
           {
            "line": {
             "colorbar": {
              "outlinewidth": 0,
              "ticks": ""
             }
            },
            "type": "parcoords"
           }
          ],
          "pie": [
           {
            "automargin": true,
            "type": "pie"
           }
          ],
          "scatter": [
           {
            "fillpattern": {
             "fillmode": "overlay",
             "size": 10,
             "solidity": 0.2
            },
            "type": "scatter"
           }
          ],
          "scatter3d": [
           {
            "line": {
             "colorbar": {
              "outlinewidth": 0,
              "ticks": ""
             }
            },
            "marker": {
             "colorbar": {
              "outlinewidth": 0,
              "ticks": ""
             }
            },
            "type": "scatter3d"
           }
          ],
          "scattercarpet": [
           {
            "marker": {
             "colorbar": {
              "outlinewidth": 0,
              "ticks": ""
             }
            },
            "type": "scattercarpet"
           }
          ],
          "scattergeo": [
           {
            "marker": {
             "colorbar": {
              "outlinewidth": 0,
              "ticks": ""
             }
            },
            "type": "scattergeo"
           }
          ],
          "scattergl": [
           {
            "marker": {
             "colorbar": {
              "outlinewidth": 0,
              "ticks": ""
             }
            },
            "type": "scattergl"
           }
          ],
          "scattermapbox": [
           {
            "marker": {
             "colorbar": {
              "outlinewidth": 0,
              "ticks": ""
             }
            },
            "type": "scattermapbox"
           }
          ],
          "scatterpolar": [
           {
            "marker": {
             "colorbar": {
              "outlinewidth": 0,
              "ticks": ""
             }
            },
            "type": "scatterpolar"
           }
          ],
          "scatterpolargl": [
           {
            "marker": {
             "colorbar": {
              "outlinewidth": 0,
              "ticks": ""
             }
            },
            "type": "scatterpolargl"
           }
          ],
          "scatterternary": [
           {
            "marker": {
             "colorbar": {
              "outlinewidth": 0,
              "ticks": ""
             }
            },
            "type": "scatterternary"
           }
          ],
          "surface": [
           {
            "colorbar": {
             "outlinewidth": 0,
             "ticks": ""
            },
            "colorscale": [
             [
              0,
              "#0d0887"
             ],
             [
              0.1111111111111111,
              "#46039f"
             ],
             [
              0.2222222222222222,
              "#7201a8"
             ],
             [
              0.3333333333333333,
              "#9c179e"
             ],
             [
              0.4444444444444444,
              "#bd3786"
             ],
             [
              0.5555555555555556,
              "#d8576b"
             ],
             [
              0.6666666666666666,
              "#ed7953"
             ],
             [
              0.7777777777777778,
              "#fb9f3a"
             ],
             [
              0.8888888888888888,
              "#fdca26"
             ],
             [
              1,
              "#f0f921"
             ]
            ],
            "type": "surface"
           }
          ],
          "table": [
           {
            "cells": {
             "fill": {
              "color": "#EBF0F8"
             },
             "line": {
              "color": "white"
             }
            },
            "header": {
             "fill": {
              "color": "#C8D4E3"
             },
             "line": {
              "color": "white"
             }
            },
            "type": "table"
           }
          ]
         },
         "layout": {
          "annotationdefaults": {
           "arrowcolor": "#2a3f5f",
           "arrowhead": 0,
           "arrowwidth": 1
          },
          "autotypenumbers": "strict",
          "coloraxis": {
           "colorbar": {
            "outlinewidth": 0,
            "ticks": ""
           }
          },
          "colorscale": {
           "diverging": [
            [
             0,
             "#8e0152"
            ],
            [
             0.1,
             "#c51b7d"
            ],
            [
             0.2,
             "#de77ae"
            ],
            [
             0.3,
             "#f1b6da"
            ],
            [
             0.4,
             "#fde0ef"
            ],
            [
             0.5,
             "#f7f7f7"
            ],
            [
             0.6,
             "#e6f5d0"
            ],
            [
             0.7,
             "#b8e186"
            ],
            [
             0.8,
             "#7fbc41"
            ],
            [
             0.9,
             "#4d9221"
            ],
            [
             1,
             "#276419"
            ]
           ],
           "sequential": [
            [
             0,
             "#0d0887"
            ],
            [
             0.1111111111111111,
             "#46039f"
            ],
            [
             0.2222222222222222,
             "#7201a8"
            ],
            [
             0.3333333333333333,
             "#9c179e"
            ],
            [
             0.4444444444444444,
             "#bd3786"
            ],
            [
             0.5555555555555556,
             "#d8576b"
            ],
            [
             0.6666666666666666,
             "#ed7953"
            ],
            [
             0.7777777777777778,
             "#fb9f3a"
            ],
            [
             0.8888888888888888,
             "#fdca26"
            ],
            [
             1,
             "#f0f921"
            ]
           ],
           "sequentialminus": [
            [
             0,
             "#0d0887"
            ],
            [
             0.1111111111111111,
             "#46039f"
            ],
            [
             0.2222222222222222,
             "#7201a8"
            ],
            [
             0.3333333333333333,
             "#9c179e"
            ],
            [
             0.4444444444444444,
             "#bd3786"
            ],
            [
             0.5555555555555556,
             "#d8576b"
            ],
            [
             0.6666666666666666,
             "#ed7953"
            ],
            [
             0.7777777777777778,
             "#fb9f3a"
            ],
            [
             0.8888888888888888,
             "#fdca26"
            ],
            [
             1,
             "#f0f921"
            ]
           ]
          },
          "colorway": [
           "#636efa",
           "#EF553B",
           "#00cc96",
           "#ab63fa",
           "#FFA15A",
           "#19d3f3",
           "#FF6692",
           "#B6E880",
           "#FF97FF",
           "#FECB52"
          ],
          "font": {
           "color": "#2a3f5f"
          },
          "geo": {
           "bgcolor": "white",
           "lakecolor": "white",
           "landcolor": "#E5ECF6",
           "showlakes": true,
           "showland": true,
           "subunitcolor": "white"
          },
          "hoverlabel": {
           "align": "left"
          },
          "hovermode": "closest",
          "mapbox": {
           "style": "light"
          },
          "paper_bgcolor": "white",
          "plot_bgcolor": "#E5ECF6",
          "polar": {
           "angularaxis": {
            "gridcolor": "white",
            "linecolor": "white",
            "ticks": ""
           },
           "bgcolor": "#E5ECF6",
           "radialaxis": {
            "gridcolor": "white",
            "linecolor": "white",
            "ticks": ""
           }
          },
          "scene": {
           "xaxis": {
            "backgroundcolor": "#E5ECF6",
            "gridcolor": "white",
            "gridwidth": 2,
            "linecolor": "white",
            "showbackground": true,
            "ticks": "",
            "zerolinecolor": "white"
           },
           "yaxis": {
            "backgroundcolor": "#E5ECF6",
            "gridcolor": "white",
            "gridwidth": 2,
            "linecolor": "white",
            "showbackground": true,
            "ticks": "",
            "zerolinecolor": "white"
           },
           "zaxis": {
            "backgroundcolor": "#E5ECF6",
            "gridcolor": "white",
            "gridwidth": 2,
            "linecolor": "white",
            "showbackground": true,
            "ticks": "",
            "zerolinecolor": "white"
           }
          },
          "shapedefaults": {
           "line": {
            "color": "#2a3f5f"
           }
          },
          "ternary": {
           "aaxis": {
            "gridcolor": "white",
            "linecolor": "white",
            "ticks": ""
           },
           "baxis": {
            "gridcolor": "white",
            "linecolor": "white",
            "ticks": ""
           },
           "bgcolor": "#E5ECF6",
           "caxis": {
            "gridcolor": "white",
            "linecolor": "white",
            "ticks": ""
           }
          },
          "title": {
           "x": 0.05
          },
          "xaxis": {
           "automargin": true,
           "gridcolor": "white",
           "linecolor": "white",
           "ticks": "",
           "title": {
            "standoff": 15
           },
           "zerolinecolor": "white",
           "zerolinewidth": 2
          },
          "yaxis": {
           "automargin": true,
           "gridcolor": "white",
           "linecolor": "white",
           "ticks": "",
           "title": {
            "standoff": 15
           },
           "zerolinecolor": "white",
           "zerolinewidth": 2
          }
         }
        }
       }
      }
     },
     "metadata": {},
     "output_type": "display_data"
    }
   ],
   "source": [
    "train_scores = []\n",
    "test_scores = []\n",
    "depth_list = []\n",
    "\n",
    "# for depth in range(3,9):\n",
    "\n",
    "# for ccp_val in range(0,10,2):\n",
    "\n",
    "for trees in range(100, 1800, 300):\n",
    "\n",
    "    depth=6 ### temporary\n",
    "\n",
    "    # ccp_val = ccp_val/10000\n",
    "\n",
    "    ccp_val = 0\n",
    "\n",
    "    rfc = RandomForestClassifier(n_estimators=trees, max_depth=depth, random_state=43, ccp_alpha=ccp_val)\n",
    "\n",
    "    rfc.fit(feature_train, target_train)\n",
    "\n",
    "    ##### evaluate on training dataset\n",
    "    # rfc_train = rfc.predict(feature_train)\n",
    "    # rfc_train_score = roc_auc_score(rfc_train, target_train)\n",
    "    # train_score.append(rfc_train_score)\n",
    "    train_score = cross_val_score(rfc, feature_train, target_train, scoring=\"roc_auc\")\n",
    "    train_scores.append(train_score)\n",
    "\n",
    "    ##### evaluate on testing score\n",
    "    # rfc_test_score = roc_auc_score(target_test, rfc.predict(feature_test))\n",
    "    # test_score.append(rfc_test_score)\n",
    "\n",
    "    test_score = cross_val_score(rfc, feature_test, target_test, scoring=\"roc_auc\")\n",
    "    test_scores.append(test_score)\n",
    "\n",
    "    # depth_list.append(depth)\n",
    "    # print(f\"depth: {depth}\")\n",
    "\n",
    "    # depth_list.append(ccp_val)\n",
    "    # print(f\"alpha: {ccp_val}\")\n",
    "\n",
    "    depth_list.append(trees)\n",
    "    print(f\"Number of trees: {trees}\")\n",
    "\n",
    "##### Use this when use cross validation\n",
    "train_scores = [np.mean(val) for val in train_scores] \n",
    "test_scores = [np.mean(val) for val in test_scores] \n",
    "\n",
    "fig_2 = go.Figure()\n",
    "\n",
    "fig_2.add_trace( go.Scatter(x=depth_list, y=train_scores, name=\"train\"))\n",
    "fig_2.add_trace( go.Scatter(x=depth_list, y=test_scores, name=\"test\"))\n",
    "\n",
    "fig_2.show()\n",
    "\n"
   ]
  },
  {
   "cell_type": "code",
   "execution_count": 105,
   "metadata": {},
   "outputs": [],
   "source": [
    "rfc = RandomForestClassifier(max_depth=6, random_state=43, ccp_alpha=0)\n",
    "\n",
    "# rfc.fit(feature_train, target_train)\n",
    "# test_score = cross_val_score(rfc, feature_test, target_test, scoring=\"roc_auc\")\n",
    "\n",
    "\n",
    "distributions = dict(n_estimators = [val for val in range(10,1001)],\n",
    "                     max_depth = [val for val in range(2,20)],\n",
    "                     )\n",
    "\n",
    "clf = RandomizedSearchCV(rfc, distributions, random_state=43)\n",
    "\n",
    "searching = clf.fit(feature_train, target_train)\n",
    "\n",
    "# test_score.mean()"
   ]
  },
  {
   "cell_type": "code",
   "execution_count": null,
   "metadata": {},
   "outputs": [],
   "source": []
  },
  {
   "cell_type": "code",
   "execution_count": 106,
   "metadata": {},
   "outputs": [
    {
     "data": {
      "text/plain": [
       "{'n_estimators': 476, 'max_depth': 18}"
      ]
     },
     "execution_count": 106,
     "metadata": {},
     "output_type": "execute_result"
    }
   ],
   "source": [
    "searching.best_params_"
   ]
  },
  {
   "cell_type": "code",
   "execution_count": null,
   "metadata": {},
   "outputs": [],
   "source": []
  },
  {
   "cell_type": "code",
   "execution_count": 107,
   "metadata": {},
   "outputs": [
    {
     "data": {
      "text/html": [
       "<div>\n",
       "<style scoped>\n",
       "    .dataframe tbody tr th:only-of-type {\n",
       "        vertical-align: middle;\n",
       "    }\n",
       "\n",
       "    .dataframe tbody tr th {\n",
       "        vertical-align: top;\n",
       "    }\n",
       "\n",
       "    .dataframe thead th {\n",
       "        text-align: right;\n",
       "    }\n",
       "</style>\n",
       "<table border=\"1\" class=\"dataframe\">\n",
       "  <thead>\n",
       "    <tr style=\"text-align: right;\">\n",
       "      <th></th>\n",
       "      <th>case_id</th>\n",
       "      <th>prob</th>\n",
       "      <th>WEEK_NUM</th>\n",
       "      <th>target</th>\n",
       "    </tr>\n",
       "  </thead>\n",
       "  <tbody>\n",
       "    <tr>\n",
       "      <th>0</th>\n",
       "      <td>713806</td>\n",
       "      <td>0.6694</td>\n",
       "      <td>23</td>\n",
       "      <td>0</td>\n",
       "    </tr>\n",
       "    <tr>\n",
       "      <th>1</th>\n",
       "      <td>1613093</td>\n",
       "      <td>0.5745</td>\n",
       "      <td>44</td>\n",
       "      <td>1</td>\n",
       "    </tr>\n",
       "    <tr>\n",
       "      <th>2</th>\n",
       "      <td>1297119</td>\n",
       "      <td>0.7455</td>\n",
       "      <td>8</td>\n",
       "      <td>1</td>\n",
       "    </tr>\n",
       "    <tr>\n",
       "      <th>3</th>\n",
       "      <td>2597225</td>\n",
       "      <td>0.8356</td>\n",
       "      <td>28</td>\n",
       "      <td>1</td>\n",
       "    </tr>\n",
       "    <tr>\n",
       "      <th>4</th>\n",
       "      <td>191764</td>\n",
       "      <td>0.8158</td>\n",
       "      <td>52</td>\n",
       "      <td>1</td>\n",
       "    </tr>\n",
       "    <tr>\n",
       "      <th>...</th>\n",
       "      <td>...</td>\n",
       "      <td>...</td>\n",
       "      <td>...</td>\n",
       "      <td>...</td>\n",
       "    </tr>\n",
       "    <tr>\n",
       "      <th>61363</th>\n",
       "      <td>2545298</td>\n",
       "      <td>0.6569</td>\n",
       "      <td>7</td>\n",
       "      <td>0</td>\n",
       "    </tr>\n",
       "    <tr>\n",
       "      <th>61364</th>\n",
       "      <td>1791849</td>\n",
       "      <td>0.6282</td>\n",
       "      <td>59</td>\n",
       "      <td>0</td>\n",
       "    </tr>\n",
       "    <tr>\n",
       "      <th>61365</th>\n",
       "      <td>155731</td>\n",
       "      <td>0.6358</td>\n",
       "      <td>34</td>\n",
       "      <td>0</td>\n",
       "    </tr>\n",
       "    <tr>\n",
       "      <th>61366</th>\n",
       "      <td>1666122</td>\n",
       "      <td>0.6621</td>\n",
       "      <td>48</td>\n",
       "      <td>0</td>\n",
       "    </tr>\n",
       "    <tr>\n",
       "      <th>61367</th>\n",
       "      <td>1434379</td>\n",
       "      <td>0.6785</td>\n",
       "      <td>26</td>\n",
       "      <td>0</td>\n",
       "    </tr>\n",
       "  </tbody>\n",
       "</table>\n",
       "<p>61368 rows × 4 columns</p>\n",
       "</div>"
      ],
      "text/plain": [
       "       case_id   prob  WEEK_NUM  target\n",
       "0       713806 0.6694        23       0\n",
       "1      1613093 0.5745        44       1\n",
       "2      1297119 0.7455         8       1\n",
       "3      2597225 0.8356        28       1\n",
       "4       191764 0.8158        52       1\n",
       "...        ...    ...       ...     ...\n",
       "61363  2545298 0.6569         7       0\n",
       "61364  1791849 0.6282        59       0\n",
       "61365   155731 0.6358        34       0\n",
       "61366  1666122 0.6621        48       0\n",
       "61367  1434379 0.6785        26       0\n",
       "\n",
       "[61368 rows x 4 columns]"
      ]
     },
     "execution_count": 107,
     "metadata": {},
     "output_type": "execute_result"
    }
   ],
   "source": [
    "# predicted = rfc.predict_proba(feature_test)\n",
    "predicted = searching.predict_proba(feature_test)\n",
    "predicted = [predicted[val].max() for val in range(len(predicted))]\n",
    "\n",
    "predicted_df = pd.DataFrame(list(zip(test_case_id, predicted)), columns=[\"case_id\", \"prob\"])\n",
    "predicted_df = predicted_df.merge(combined_df[[\"case_id\", \"WEEK_NUM\", \"target\"]])\n",
    "\n",
    "predicted_df"
   ]
  },
  {
   "cell_type": "code",
   "execution_count": 108,
   "metadata": {},
   "outputs": [
    {
     "data": {
      "text/html": [
       "<div>\n",
       "<style scoped>\n",
       "    .dataframe tbody tr th:only-of-type {\n",
       "        vertical-align: middle;\n",
       "    }\n",
       "\n",
       "    .dataframe tbody tr th {\n",
       "        vertical-align: top;\n",
       "    }\n",
       "\n",
       "    .dataframe thead th {\n",
       "        text-align: right;\n",
       "    }\n",
       "</style>\n",
       "<table border=\"1\" class=\"dataframe\">\n",
       "  <thead>\n",
       "    <tr style=\"text-align: right;\">\n",
       "      <th></th>\n",
       "      <th>week</th>\n",
       "      <th>auc_roc</th>\n",
       "      <th>gini</th>\n",
       "    </tr>\n",
       "  </thead>\n",
       "  <tbody>\n",
       "    <tr>\n",
       "      <th>0</th>\n",
       "      <td>0</td>\n",
       "      <td>0.7077</td>\n",
       "      <td>0.4154</td>\n",
       "    </tr>\n",
       "    <tr>\n",
       "      <th>1</th>\n",
       "      <td>1</td>\n",
       "      <td>0.6188</td>\n",
       "      <td>0.2376</td>\n",
       "    </tr>\n",
       "    <tr>\n",
       "      <th>2</th>\n",
       "      <td>2</td>\n",
       "      <td>0.6537</td>\n",
       "      <td>0.3074</td>\n",
       "    </tr>\n",
       "    <tr>\n",
       "      <th>3</th>\n",
       "      <td>3</td>\n",
       "      <td>0.6364</td>\n",
       "      <td>0.2728</td>\n",
       "    </tr>\n",
       "    <tr>\n",
       "      <th>4</th>\n",
       "      <td>4</td>\n",
       "      <td>0.6786</td>\n",
       "      <td>0.3572</td>\n",
       "    </tr>\n",
       "    <tr>\n",
       "      <th>...</th>\n",
       "      <td>...</td>\n",
       "      <td>...</td>\n",
       "      <td>...</td>\n",
       "    </tr>\n",
       "    <tr>\n",
       "      <th>87</th>\n",
       "      <td>87</td>\n",
       "      <td>0.5475</td>\n",
       "      <td>0.0950</td>\n",
       "    </tr>\n",
       "    <tr>\n",
       "      <th>88</th>\n",
       "      <td>88</td>\n",
       "      <td>0.6394</td>\n",
       "      <td>0.2788</td>\n",
       "    </tr>\n",
       "    <tr>\n",
       "      <th>89</th>\n",
       "      <td>89</td>\n",
       "      <td>0.5775</td>\n",
       "      <td>0.1550</td>\n",
       "    </tr>\n",
       "    <tr>\n",
       "      <th>90</th>\n",
       "      <td>90</td>\n",
       "      <td>0.6305</td>\n",
       "      <td>0.2610</td>\n",
       "    </tr>\n",
       "    <tr>\n",
       "      <th>91</th>\n",
       "      <td>91</td>\n",
       "      <td>0.6539</td>\n",
       "      <td>0.3077</td>\n",
       "    </tr>\n",
       "  </tbody>\n",
       "</table>\n",
       "<p>92 rows × 3 columns</p>\n",
       "</div>"
      ],
      "text/plain": [
       "    week  auc_roc   gini\n",
       "0      0   0.7077 0.4154\n",
       "1      1   0.6188 0.2376\n",
       "2      2   0.6537 0.3074\n",
       "3      3   0.6364 0.2728\n",
       "4      4   0.6786 0.3572\n",
       "..   ...      ...    ...\n",
       "87    87   0.5475 0.0950\n",
       "88    88   0.6394 0.2788\n",
       "89    89   0.5775 0.1550\n",
       "90    90   0.6305 0.2610\n",
       "91    91   0.6539 0.3077\n",
       "\n",
       "[92 rows x 3 columns]"
      ]
     },
     "execution_count": 108,
     "metadata": {},
     "output_type": "execute_result"
    }
   ],
   "source": [
    "weeks = []\n",
    "ginis = []\n",
    "\n",
    "for week in range(92):\n",
    "\n",
    "    temp = predicted_df[predicted_df[\"WEEK_NUM\"]==week]\n",
    "\n",
    "    ginis.append(roc_auc_score(temp[\"target\"], temp[\"prob\"]))\n",
    "    weeks.append(week)\n",
    "\n",
    "scoring = pd.DataFrame(list(zip(weeks, ginis)), columns=[\"week\", \"auc_roc\"])\n",
    "scoring[\"gini\"] = 2*scoring[\"auc_roc\"] - 1\n",
    "scoring\n"
   ]
  },
  {
   "cell_type": "code",
   "execution_count": 109,
   "metadata": {},
   "outputs": [
    {
     "data": {
      "application/vnd.plotly.v1+json": {
       "config": {
        "plotlyServerURL": "https://plot.ly"
       },
       "data": [
        {
         "hovertemplate": "week=%{x}<br>gini=%{y}<extra></extra>",
         "legendgroup": "",
         "marker": {
          "color": "#636efa",
          "symbol": "circle"
         },
         "mode": "markers",
         "name": "",
         "orientation": "v",
         "showlegend": false,
         "type": "scatter",
         "x": [
          0,
          1,
          2,
          3,
          4,
          5,
          6,
          7,
          8,
          9,
          10,
          11,
          12,
          13,
          14,
          15,
          16,
          17,
          18,
          19,
          20,
          21,
          22,
          23,
          24,
          25,
          26,
          27,
          28,
          29,
          30,
          31,
          32,
          33,
          34,
          35,
          36,
          37,
          38,
          39,
          40,
          41,
          42,
          43,
          44,
          45,
          46,
          47,
          48,
          49,
          50,
          51,
          52,
          53,
          54,
          55,
          56,
          57,
          58,
          59,
          60,
          61,
          62,
          63,
          64,
          65,
          66,
          67,
          68,
          69,
          70,
          71,
          72,
          73,
          74,
          75,
          76,
          77,
          78,
          79,
          80,
          81,
          82,
          83,
          84,
          85,
          86,
          87,
          88,
          89,
          90,
          91
         ],
         "xaxis": "x",
         "y": [
          0.41538461538461524,
          0.23761097659402752,
          0.30735513281318494,
          0.2728323956503369,
          0.35724686379928317,
          0.2334505427304694,
          0.3036809319634335,
          0.26001322562659634,
          0.2432551319648093,
          0.17852361246348591,
          0.18003560830860543,
          0.22046936114732718,
          0.3027797464367272,
          0.13014684211438787,
          0.25655611719406113,
          0.35197486750281803,
          0.2816552623004236,
          0.21148936170212762,
          0.34952606635071093,
          0.13141258741258754,
          0.3512422536812778,
          0.3299570012413868,
          0.25594055128315896,
          0.32496140784192673,
          0.24728585528024505,
          0.2857719656355848,
          0.3349703995583728,
          0.3243928300934107,
          0.2741743970315398,
          0.3269756817476803,
          0.24608187134502923,
          0.1410455054706683,
          0.24353026613695583,
          0.3181399122321791,
          0.17965472178279107,
          0.23185028220926185,
          0.25795974048119796,
          0.25797318499500776,
          0.22924503050026068,
          0.2593202824087122,
          0.21562709590878604,
          0.24796425316753368,
          0.22272272272272264,
          0.23261344507718196,
          0.24664872066780852,
          0.24082658914119603,
          0.18206419711105926,
          0.24001604517654918,
          0.2947687233401519,
          0.19147840095912483,
          0.23585220978647015,
          0.21556228634181762,
          0.17240325561982006,
          0.25500944594134234,
          0.3332846555437916,
          0.29390158267163624,
          0.3455294742858288,
          0.4306029705165151,
          0.2858931860036833,
          0.29621818774578723,
          0.34150477719061834,
          0.299906103286385,
          0.31374786884783923,
          0.3177293516276567,
          0.1978556427545044,
          0.18835282651072127,
          0.24972129319955405,
          0.2826510721247564,
          0.3090909090909091,
          0.10160427807486627,
          0.22363008063189094,
          0.31310642230093944,
          0.2387120998779686,
          0.20453703703703696,
          0.15228712174524972,
          0.21737066919791181,
          0.15848093812864916,
          0.24071919619249083,
          0.23668896502964043,
          0.30014602416036107,
          0.2593420930015842,
          0.2654451491660794,
          0.05037957211870259,
          0.316209406494961,
          0.26752737375388147,
          0.16567505720823794,
          0.3419594230654137,
          0.09501113816505202,
          0.27877122963423706,
          0.15495055403312286,
          0.2609900990099008,
          0.30771221532091086
         ],
         "yaxis": "y"
        },
        {
         "hovertemplate": "<b>OLS trendline</b><br>gini = -0.000473369 * week + 0.27672<br>R<sup>2</sup>=0.034059<br><br>week=%{x}<br>gini=%{y} <b>(trend)</b><extra></extra>",
         "legendgroup": "",
         "marker": {
          "color": "#636efa",
          "symbol": "circle"
         },
         "mode": "lines",
         "name": "",
         "showlegend": false,
         "type": "scatter",
         "x": [
          0,
          1,
          2,
          3,
          4,
          5,
          6,
          7,
          8,
          9,
          10,
          11,
          12,
          13,
          14,
          15,
          16,
          17,
          18,
          19,
          20,
          21,
          22,
          23,
          24,
          25,
          26,
          27,
          28,
          29,
          30,
          31,
          32,
          33,
          34,
          35,
          36,
          37,
          38,
          39,
          40,
          41,
          42,
          43,
          44,
          45,
          46,
          47,
          48,
          49,
          50,
          51,
          52,
          53,
          54,
          55,
          56,
          57,
          58,
          59,
          60,
          61,
          62,
          63,
          64,
          65,
          66,
          67,
          68,
          69,
          70,
          71,
          72,
          73,
          74,
          75,
          76,
          77,
          78,
          79,
          80,
          81,
          82,
          83,
          84,
          85,
          86,
          87,
          88,
          89,
          90,
          91
         ],
         "xaxis": "x",
         "y": [
          0.27671955356848266,
          0.2762461844566401,
          0.2757728153447976,
          0.27529944623295505,
          0.2748260771211125,
          0.27435270800927,
          0.2738793388974274,
          0.27340596978558485,
          0.2729326006737423,
          0.2724592315618998,
          0.27198586245005724,
          0.2715124933382147,
          0.27103912422637216,
          0.2705657551145296,
          0.2700923860026871,
          0.26961901689084455,
          0.26914564777900196,
          0.2686722786671594,
          0.2681989095553169,
          0.26772554044347435,
          0.2672521713316318,
          0.2667788022197893,
          0.26630543310794674,
          0.2658320639961042,
          0.26535869488426167,
          0.26488532577241913,
          0.2644119566605766,
          0.263938587548734,
          0.26346521843689147,
          0.26299184932504893,
          0.2625184802132064,
          0.26204511110136386,
          0.2615717419895213,
          0.2610983728776788,
          0.26062500376583625,
          0.2601516346539937,
          0.2596782655421512,
          0.2592048964303086,
          0.25873152731846605,
          0.2582581582066235,
          0.257784789094781,
          0.25731141998293844,
          0.2568380508710959,
          0.25636468175925337,
          0.25589131264741083,
          0.2554179435355683,
          0.25494457442372576,
          0.2544712053118832,
          0.2539978362000406,
          0.2535244670881981,
          0.25305109797635555,
          0.252577728864513,
          0.2521043597526705,
          0.25163099064082795,
          0.2511576215289854,
          0.25068425241714287,
          0.25021088330530034,
          0.24973751419345777,
          0.24926414508161523,
          0.2487907759697727,
          0.24831740685793016,
          0.2478440377460876,
          0.24737066863424506,
          0.24689729952240252,
          0.24642393041056,
          0.24595056129871745,
          0.2454771921868749,
          0.24500382307503235,
          0.24453045396318981,
          0.24405708485134728,
          0.24358371573950474,
          0.24311034662766218,
          0.24263697751581964,
          0.2421636084039771,
          0.24169023929213457,
          0.24121687018029203,
          0.24074350106844947,
          0.24027013195660693,
          0.2397967628447644,
          0.23932339373292186,
          0.23885002462107932,
          0.23837665550923676,
          0.23790328639739422,
          0.23742991728555168,
          0.23695654817370915,
          0.2364831790618666,
          0.23600980995002407,
          0.2355364408381815,
          0.23506307172633897,
          0.23458970261449644,
          0.2341163335026539,
          0.23364296439081136
         ],
         "yaxis": "y"
        }
       ],
       "layout": {
        "legend": {
         "tracegroupgap": 0
        },
        "margin": {
         "t": 60
        },
        "template": {
         "data": {
          "bar": [
           {
            "error_x": {
             "color": "#2a3f5f"
            },
            "error_y": {
             "color": "#2a3f5f"
            },
            "marker": {
             "line": {
              "color": "#E5ECF6",
              "width": 0.5
             },
             "pattern": {
              "fillmode": "overlay",
              "size": 10,
              "solidity": 0.2
             }
            },
            "type": "bar"
           }
          ],
          "barpolar": [
           {
            "marker": {
             "line": {
              "color": "#E5ECF6",
              "width": 0.5
             },
             "pattern": {
              "fillmode": "overlay",
              "size": 10,
              "solidity": 0.2
             }
            },
            "type": "barpolar"
           }
          ],
          "carpet": [
           {
            "aaxis": {
             "endlinecolor": "#2a3f5f",
             "gridcolor": "white",
             "linecolor": "white",
             "minorgridcolor": "white",
             "startlinecolor": "#2a3f5f"
            },
            "baxis": {
             "endlinecolor": "#2a3f5f",
             "gridcolor": "white",
             "linecolor": "white",
             "minorgridcolor": "white",
             "startlinecolor": "#2a3f5f"
            },
            "type": "carpet"
           }
          ],
          "choropleth": [
           {
            "colorbar": {
             "outlinewidth": 0,
             "ticks": ""
            },
            "type": "choropleth"
           }
          ],
          "contour": [
           {
            "colorbar": {
             "outlinewidth": 0,
             "ticks": ""
            },
            "colorscale": [
             [
              0,
              "#0d0887"
             ],
             [
              0.1111111111111111,
              "#46039f"
             ],
             [
              0.2222222222222222,
              "#7201a8"
             ],
             [
              0.3333333333333333,
              "#9c179e"
             ],
             [
              0.4444444444444444,
              "#bd3786"
             ],
             [
              0.5555555555555556,
              "#d8576b"
             ],
             [
              0.6666666666666666,
              "#ed7953"
             ],
             [
              0.7777777777777778,
              "#fb9f3a"
             ],
             [
              0.8888888888888888,
              "#fdca26"
             ],
             [
              1,
              "#f0f921"
             ]
            ],
            "type": "contour"
           }
          ],
          "contourcarpet": [
           {
            "colorbar": {
             "outlinewidth": 0,
             "ticks": ""
            },
            "type": "contourcarpet"
           }
          ],
          "heatmap": [
           {
            "colorbar": {
             "outlinewidth": 0,
             "ticks": ""
            },
            "colorscale": [
             [
              0,
              "#0d0887"
             ],
             [
              0.1111111111111111,
              "#46039f"
             ],
             [
              0.2222222222222222,
              "#7201a8"
             ],
             [
              0.3333333333333333,
              "#9c179e"
             ],
             [
              0.4444444444444444,
              "#bd3786"
             ],
             [
              0.5555555555555556,
              "#d8576b"
             ],
             [
              0.6666666666666666,
              "#ed7953"
             ],
             [
              0.7777777777777778,
              "#fb9f3a"
             ],
             [
              0.8888888888888888,
              "#fdca26"
             ],
             [
              1,
              "#f0f921"
             ]
            ],
            "type": "heatmap"
           }
          ],
          "heatmapgl": [
           {
            "colorbar": {
             "outlinewidth": 0,
             "ticks": ""
            },
            "colorscale": [
             [
              0,
              "#0d0887"
             ],
             [
              0.1111111111111111,
              "#46039f"
             ],
             [
              0.2222222222222222,
              "#7201a8"
             ],
             [
              0.3333333333333333,
              "#9c179e"
             ],
             [
              0.4444444444444444,
              "#bd3786"
             ],
             [
              0.5555555555555556,
              "#d8576b"
             ],
             [
              0.6666666666666666,
              "#ed7953"
             ],
             [
              0.7777777777777778,
              "#fb9f3a"
             ],
             [
              0.8888888888888888,
              "#fdca26"
             ],
             [
              1,
              "#f0f921"
             ]
            ],
            "type": "heatmapgl"
           }
          ],
          "histogram": [
           {
            "marker": {
             "pattern": {
              "fillmode": "overlay",
              "size": 10,
              "solidity": 0.2
             }
            },
            "type": "histogram"
           }
          ],
          "histogram2d": [
           {
            "colorbar": {
             "outlinewidth": 0,
             "ticks": ""
            },
            "colorscale": [
             [
              0,
              "#0d0887"
             ],
             [
              0.1111111111111111,
              "#46039f"
             ],
             [
              0.2222222222222222,
              "#7201a8"
             ],
             [
              0.3333333333333333,
              "#9c179e"
             ],
             [
              0.4444444444444444,
              "#bd3786"
             ],
             [
              0.5555555555555556,
              "#d8576b"
             ],
             [
              0.6666666666666666,
              "#ed7953"
             ],
             [
              0.7777777777777778,
              "#fb9f3a"
             ],
             [
              0.8888888888888888,
              "#fdca26"
             ],
             [
              1,
              "#f0f921"
             ]
            ],
            "type": "histogram2d"
           }
          ],
          "histogram2dcontour": [
           {
            "colorbar": {
             "outlinewidth": 0,
             "ticks": ""
            },
            "colorscale": [
             [
              0,
              "#0d0887"
             ],
             [
              0.1111111111111111,
              "#46039f"
             ],
             [
              0.2222222222222222,
              "#7201a8"
             ],
             [
              0.3333333333333333,
              "#9c179e"
             ],
             [
              0.4444444444444444,
              "#bd3786"
             ],
             [
              0.5555555555555556,
              "#d8576b"
             ],
             [
              0.6666666666666666,
              "#ed7953"
             ],
             [
              0.7777777777777778,
              "#fb9f3a"
             ],
             [
              0.8888888888888888,
              "#fdca26"
             ],
             [
              1,
              "#f0f921"
             ]
            ],
            "type": "histogram2dcontour"
           }
          ],
          "mesh3d": [
           {
            "colorbar": {
             "outlinewidth": 0,
             "ticks": ""
            },
            "type": "mesh3d"
           }
          ],
          "parcoords": [
           {
            "line": {
             "colorbar": {
              "outlinewidth": 0,
              "ticks": ""
             }
            },
            "type": "parcoords"
           }
          ],
          "pie": [
           {
            "automargin": true,
            "type": "pie"
           }
          ],
          "scatter": [
           {
            "fillpattern": {
             "fillmode": "overlay",
             "size": 10,
             "solidity": 0.2
            },
            "type": "scatter"
           }
          ],
          "scatter3d": [
           {
            "line": {
             "colorbar": {
              "outlinewidth": 0,
              "ticks": ""
             }
            },
            "marker": {
             "colorbar": {
              "outlinewidth": 0,
              "ticks": ""
             }
            },
            "type": "scatter3d"
           }
          ],
          "scattercarpet": [
           {
            "marker": {
             "colorbar": {
              "outlinewidth": 0,
              "ticks": ""
             }
            },
            "type": "scattercarpet"
           }
          ],
          "scattergeo": [
           {
            "marker": {
             "colorbar": {
              "outlinewidth": 0,
              "ticks": ""
             }
            },
            "type": "scattergeo"
           }
          ],
          "scattergl": [
           {
            "marker": {
             "colorbar": {
              "outlinewidth": 0,
              "ticks": ""
             }
            },
            "type": "scattergl"
           }
          ],
          "scattermapbox": [
           {
            "marker": {
             "colorbar": {
              "outlinewidth": 0,
              "ticks": ""
             }
            },
            "type": "scattermapbox"
           }
          ],
          "scatterpolar": [
           {
            "marker": {
             "colorbar": {
              "outlinewidth": 0,
              "ticks": ""
             }
            },
            "type": "scatterpolar"
           }
          ],
          "scatterpolargl": [
           {
            "marker": {
             "colorbar": {
              "outlinewidth": 0,
              "ticks": ""
             }
            },
            "type": "scatterpolargl"
           }
          ],
          "scatterternary": [
           {
            "marker": {
             "colorbar": {
              "outlinewidth": 0,
              "ticks": ""
             }
            },
            "type": "scatterternary"
           }
          ],
          "surface": [
           {
            "colorbar": {
             "outlinewidth": 0,
             "ticks": ""
            },
            "colorscale": [
             [
              0,
              "#0d0887"
             ],
             [
              0.1111111111111111,
              "#46039f"
             ],
             [
              0.2222222222222222,
              "#7201a8"
             ],
             [
              0.3333333333333333,
              "#9c179e"
             ],
             [
              0.4444444444444444,
              "#bd3786"
             ],
             [
              0.5555555555555556,
              "#d8576b"
             ],
             [
              0.6666666666666666,
              "#ed7953"
             ],
             [
              0.7777777777777778,
              "#fb9f3a"
             ],
             [
              0.8888888888888888,
              "#fdca26"
             ],
             [
              1,
              "#f0f921"
             ]
            ],
            "type": "surface"
           }
          ],
          "table": [
           {
            "cells": {
             "fill": {
              "color": "#EBF0F8"
             },
             "line": {
              "color": "white"
             }
            },
            "header": {
             "fill": {
              "color": "#C8D4E3"
             },
             "line": {
              "color": "white"
             }
            },
            "type": "table"
           }
          ]
         },
         "layout": {
          "annotationdefaults": {
           "arrowcolor": "#2a3f5f",
           "arrowhead": 0,
           "arrowwidth": 1
          },
          "autotypenumbers": "strict",
          "coloraxis": {
           "colorbar": {
            "outlinewidth": 0,
            "ticks": ""
           }
          },
          "colorscale": {
           "diverging": [
            [
             0,
             "#8e0152"
            ],
            [
             0.1,
             "#c51b7d"
            ],
            [
             0.2,
             "#de77ae"
            ],
            [
             0.3,
             "#f1b6da"
            ],
            [
             0.4,
             "#fde0ef"
            ],
            [
             0.5,
             "#f7f7f7"
            ],
            [
             0.6,
             "#e6f5d0"
            ],
            [
             0.7,
             "#b8e186"
            ],
            [
             0.8,
             "#7fbc41"
            ],
            [
             0.9,
             "#4d9221"
            ],
            [
             1,
             "#276419"
            ]
           ],
           "sequential": [
            [
             0,
             "#0d0887"
            ],
            [
             0.1111111111111111,
             "#46039f"
            ],
            [
             0.2222222222222222,
             "#7201a8"
            ],
            [
             0.3333333333333333,
             "#9c179e"
            ],
            [
             0.4444444444444444,
             "#bd3786"
            ],
            [
             0.5555555555555556,
             "#d8576b"
            ],
            [
             0.6666666666666666,
             "#ed7953"
            ],
            [
             0.7777777777777778,
             "#fb9f3a"
            ],
            [
             0.8888888888888888,
             "#fdca26"
            ],
            [
             1,
             "#f0f921"
            ]
           ],
           "sequentialminus": [
            [
             0,
             "#0d0887"
            ],
            [
             0.1111111111111111,
             "#46039f"
            ],
            [
             0.2222222222222222,
             "#7201a8"
            ],
            [
             0.3333333333333333,
             "#9c179e"
            ],
            [
             0.4444444444444444,
             "#bd3786"
            ],
            [
             0.5555555555555556,
             "#d8576b"
            ],
            [
             0.6666666666666666,
             "#ed7953"
            ],
            [
             0.7777777777777778,
             "#fb9f3a"
            ],
            [
             0.8888888888888888,
             "#fdca26"
            ],
            [
             1,
             "#f0f921"
            ]
           ]
          },
          "colorway": [
           "#636efa",
           "#EF553B",
           "#00cc96",
           "#ab63fa",
           "#FFA15A",
           "#19d3f3",
           "#FF6692",
           "#B6E880",
           "#FF97FF",
           "#FECB52"
          ],
          "font": {
           "color": "#2a3f5f"
          },
          "geo": {
           "bgcolor": "white",
           "lakecolor": "white",
           "landcolor": "#E5ECF6",
           "showlakes": true,
           "showland": true,
           "subunitcolor": "white"
          },
          "hoverlabel": {
           "align": "left"
          },
          "hovermode": "closest",
          "mapbox": {
           "style": "light"
          },
          "paper_bgcolor": "white",
          "plot_bgcolor": "#E5ECF6",
          "polar": {
           "angularaxis": {
            "gridcolor": "white",
            "linecolor": "white",
            "ticks": ""
           },
           "bgcolor": "#E5ECF6",
           "radialaxis": {
            "gridcolor": "white",
            "linecolor": "white",
            "ticks": ""
           }
          },
          "scene": {
           "xaxis": {
            "backgroundcolor": "#E5ECF6",
            "gridcolor": "white",
            "gridwidth": 2,
            "linecolor": "white",
            "showbackground": true,
            "ticks": "",
            "zerolinecolor": "white"
           },
           "yaxis": {
            "backgroundcolor": "#E5ECF6",
            "gridcolor": "white",
            "gridwidth": 2,
            "linecolor": "white",
            "showbackground": true,
            "ticks": "",
            "zerolinecolor": "white"
           },
           "zaxis": {
            "backgroundcolor": "#E5ECF6",
            "gridcolor": "white",
            "gridwidth": 2,
            "linecolor": "white",
            "showbackground": true,
            "ticks": "",
            "zerolinecolor": "white"
           }
          },
          "shapedefaults": {
           "line": {
            "color": "#2a3f5f"
           }
          },
          "ternary": {
           "aaxis": {
            "gridcolor": "white",
            "linecolor": "white",
            "ticks": ""
           },
           "baxis": {
            "gridcolor": "white",
            "linecolor": "white",
            "ticks": ""
           },
           "bgcolor": "#E5ECF6",
           "caxis": {
            "gridcolor": "white",
            "linecolor": "white",
            "ticks": ""
           }
          },
          "title": {
           "x": 0.05
          },
          "xaxis": {
           "automargin": true,
           "gridcolor": "white",
           "linecolor": "white",
           "ticks": "",
           "title": {
            "standoff": 15
           },
           "zerolinecolor": "white",
           "zerolinewidth": 2
          },
          "yaxis": {
           "automargin": true,
           "gridcolor": "white",
           "linecolor": "white",
           "ticks": "",
           "title": {
            "standoff": 15
           },
           "zerolinecolor": "white",
           "zerolinewidth": 2
          }
         }
        },
        "xaxis": {
         "anchor": "y",
         "domain": [
          0,
          1
         ],
         "title": {
          "text": "week"
         }
        },
        "yaxis": {
         "anchor": "x",
         "domain": [
          0,
          1
         ],
         "title": {
          "text": "gini"
         }
        }
       }
      }
     },
     "metadata": {},
     "output_type": "display_data"
    }
   ],
   "source": [
    "fig_4 = px.scatter(scoring, x=\"week\", y=\"gini\", trendline=\"ols\")\n",
    "fig_4.show()"
   ]
  },
  {
   "cell_type": "code",
   "execution_count": 110,
   "metadata": {},
   "outputs": [
    {
     "data": {
      "text/plain": [
       "0.06731339809732771"
      ]
     },
     "execution_count": 110,
     "metadata": {},
     "output_type": "execute_result"
    }
   ],
   "source": [
    "result = linregress(scoring[\"week\"], scoring[\"gini\"])\n",
    "result\n",
    "\n",
    "y_hat = result[0]*scoring[\"week\"] + result[1]\n",
    "resid = scoring[\"gini\"] - y_hat\n",
    "\n",
    "std_resid = stat.stdev(resid)\n",
    "std_resid"
   ]
  },
  {
   "cell_type": "code",
   "execution_count": 111,
   "metadata": {},
   "outputs": [
    {
     "data": {
      "text/plain": [
       "0.1798680780888393"
      ]
     },
     "execution_count": 111,
     "metadata": {},
     "output_type": "execute_result"
    }
   ],
   "source": [
    "stability = scoring[\"gini\"].mean() + 88*min(0,result[0]) - 0.5*std_resid\n",
    "stability"
   ]
  },
  {
   "cell_type": "code",
   "execution_count": 92,
   "metadata": {},
   "outputs": [
    {
     "data": {
      "text/plain": [
       "-0.04109519008560104"
      ]
     },
     "execution_count": 92,
     "metadata": {},
     "output_type": "execute_result"
    }
   ],
   "source": [
    "scoring[\"gini\"].mean()"
   ]
  },
  {
   "cell_type": "code",
   "execution_count": 84,
   "metadata": {},
   "outputs": [
    {
     "data": {
      "text/plain": [
       "1.6980148266448056e-05"
      ]
     },
     "execution_count": 84,
     "metadata": {},
     "output_type": "execute_result"
    }
   ],
   "source": [
    "result[0]"
   ]
  },
  {
   "cell_type": "code",
   "execution_count": null,
   "metadata": {},
   "outputs": [],
   "source": [
    "s"
   ]
  },
  {
   "cell_type": "code",
   "execution_count": 71,
   "metadata": {},
   "outputs": [],
   "source": [
    "predicted_df = predicted_df.merge(combined_df[[\"case_id\", \"WEEK_NUM\"]])\n"
   ]
  },
  {
   "cell_type": "code",
   "execution_count": 46,
   "metadata": {},
   "outputs": [
    {
     "data": {
      "text/plain": [
       "array([0, 1, 1, ..., 1, 0, 1])"
      ]
     },
     "execution_count": 46,
     "metadata": {},
     "output_type": "execute_result"
    }
   ],
   "source": [
    "predicted = rfc.predict(feature_test)\n",
    "predicted"
   ]
  },
  {
   "cell_type": "code",
   "execution_count": 33,
   "metadata": {},
   "outputs": [
    {
     "data": {
      "text/plain": [
       "['accuracy',\n",
       " 'adjusted_mutual_info_score',\n",
       " 'adjusted_rand_score',\n",
       " 'average_precision',\n",
       " 'balanced_accuracy',\n",
       " 'completeness_score',\n",
       " 'explained_variance',\n",
       " 'f1',\n",
       " 'f1_macro',\n",
       " 'f1_micro',\n",
       " 'f1_samples',\n",
       " 'f1_weighted',\n",
       " 'fowlkes_mallows_score',\n",
       " 'homogeneity_score',\n",
       " 'jaccard',\n",
       " 'jaccard_macro',\n",
       " 'jaccard_micro',\n",
       " 'jaccard_samples',\n",
       " 'jaccard_weighted',\n",
       " 'matthews_corrcoef',\n",
       " 'max_error',\n",
       " 'mutual_info_score',\n",
       " 'neg_brier_score',\n",
       " 'neg_log_loss',\n",
       " 'neg_mean_absolute_error',\n",
       " 'neg_mean_absolute_percentage_error',\n",
       " 'neg_mean_gamma_deviance',\n",
       " 'neg_mean_poisson_deviance',\n",
       " 'neg_mean_squared_error',\n",
       " 'neg_mean_squared_log_error',\n",
       " 'neg_median_absolute_error',\n",
       " 'neg_negative_likelihood_ratio',\n",
       " 'neg_root_mean_squared_error',\n",
       " 'normalized_mutual_info_score',\n",
       " 'positive_likelihood_ratio',\n",
       " 'precision',\n",
       " 'precision_macro',\n",
       " 'precision_micro',\n",
       " 'precision_samples',\n",
       " 'precision_weighted',\n",
       " 'r2',\n",
       " 'rand_score',\n",
       " 'recall',\n",
       " 'recall_macro',\n",
       " 'recall_micro',\n",
       " 'recall_samples',\n",
       " 'recall_weighted',\n",
       " 'roc_auc',\n",
       " 'roc_auc_ovo',\n",
       " 'roc_auc_ovo_weighted',\n",
       " 'roc_auc_ovr',\n",
       " 'roc_auc_ovr_weighted',\n",
       " 'top_k_accuracy',\n",
       " 'v_measure_score']"
      ]
     },
     "execution_count": 33,
     "metadata": {},
     "output_type": "execute_result"
    }
   ],
   "source": [
    "import sklearn\n",
    "sklearn.metrics.get_scorer_names()"
   ]
  },
  {
   "cell_type": "code",
   "execution_count": 29,
   "metadata": {},
   "outputs": [
    {
     "data": {
      "application/vnd.plotly.v1+json": {
       "config": {
        "plotlyServerURL": "https://plot.ly"
       },
       "data": [
        {
         "name": "train",
         "type": "scatter",
         "x": [
          2,
          3,
          4,
          5,
          6,
          7,
          8,
          9,
          10,
          11,
          12,
          13,
          14,
          15,
          16
         ],
         "y": [
          0.6648172358534821,
          0.6767003646519029,
          0.6875403545921919,
          0.6941955253944876,
          0.7025351237781321,
          0.7118456355150699,
          0.7224859546487372,
          0.7357657763144009,
          0.7520288452607551,
          0.7742358886494798,
          0.8011898309043128,
          0.8317426676426283,
          0.8658362503975123,
          0.8936169450444419,
          0.9193421035259524
         ]
        },
        {
         "name": "test",
         "type": "scatter",
         "x": [
          2,
          3,
          4,
          5,
          6,
          7,
          8,
          9,
          10,
          11,
          12,
          13,
          14,
          15,
          16
         ],
         "y": [
          0.6552864316849234,
          0.6667007982305345,
          0.6801090539821328,
          0.6876818368594386,
          0.6965491453436897,
          0.7046729428187203,
          0.7132097708650091,
          0.7210581340713613,
          0.7322957707583052,
          0.7449353054811437,
          0.7603310508700909,
          0.7765985110924749,
          0.7971858060233862,
          0.8152944788145146,
          0.8330810151981655
         ]
        }
       ],
       "layout": {
        "template": {
         "data": {
          "bar": [
           {
            "error_x": {
             "color": "#2a3f5f"
            },
            "error_y": {
             "color": "#2a3f5f"
            },
            "marker": {
             "line": {
              "color": "#E5ECF6",
              "width": 0.5
             },
             "pattern": {
              "fillmode": "overlay",
              "size": 10,
              "solidity": 0.2
             }
            },
            "type": "bar"
           }
          ],
          "barpolar": [
           {
            "marker": {
             "line": {
              "color": "#E5ECF6",
              "width": 0.5
             },
             "pattern": {
              "fillmode": "overlay",
              "size": 10,
              "solidity": 0.2
             }
            },
            "type": "barpolar"
           }
          ],
          "carpet": [
           {
            "aaxis": {
             "endlinecolor": "#2a3f5f",
             "gridcolor": "white",
             "linecolor": "white",
             "minorgridcolor": "white",
             "startlinecolor": "#2a3f5f"
            },
            "baxis": {
             "endlinecolor": "#2a3f5f",
             "gridcolor": "white",
             "linecolor": "white",
             "minorgridcolor": "white",
             "startlinecolor": "#2a3f5f"
            },
            "type": "carpet"
           }
          ],
          "choropleth": [
           {
            "colorbar": {
             "outlinewidth": 0,
             "ticks": ""
            },
            "type": "choropleth"
           }
          ],
          "contour": [
           {
            "colorbar": {
             "outlinewidth": 0,
             "ticks": ""
            },
            "colorscale": [
             [
              0,
              "#0d0887"
             ],
             [
              0.1111111111111111,
              "#46039f"
             ],
             [
              0.2222222222222222,
              "#7201a8"
             ],
             [
              0.3333333333333333,
              "#9c179e"
             ],
             [
              0.4444444444444444,
              "#bd3786"
             ],
             [
              0.5555555555555556,
              "#d8576b"
             ],
             [
              0.6666666666666666,
              "#ed7953"
             ],
             [
              0.7777777777777778,
              "#fb9f3a"
             ],
             [
              0.8888888888888888,
              "#fdca26"
             ],
             [
              1,
              "#f0f921"
             ]
            ],
            "type": "contour"
           }
          ],
          "contourcarpet": [
           {
            "colorbar": {
             "outlinewidth": 0,
             "ticks": ""
            },
            "type": "contourcarpet"
           }
          ],
          "heatmap": [
           {
            "colorbar": {
             "outlinewidth": 0,
             "ticks": ""
            },
            "colorscale": [
             [
              0,
              "#0d0887"
             ],
             [
              0.1111111111111111,
              "#46039f"
             ],
             [
              0.2222222222222222,
              "#7201a8"
             ],
             [
              0.3333333333333333,
              "#9c179e"
             ],
             [
              0.4444444444444444,
              "#bd3786"
             ],
             [
              0.5555555555555556,
              "#d8576b"
             ],
             [
              0.6666666666666666,
              "#ed7953"
             ],
             [
              0.7777777777777778,
              "#fb9f3a"
             ],
             [
              0.8888888888888888,
              "#fdca26"
             ],
             [
              1,
              "#f0f921"
             ]
            ],
            "type": "heatmap"
           }
          ],
          "heatmapgl": [
           {
            "colorbar": {
             "outlinewidth": 0,
             "ticks": ""
            },
            "colorscale": [
             [
              0,
              "#0d0887"
             ],
             [
              0.1111111111111111,
              "#46039f"
             ],
             [
              0.2222222222222222,
              "#7201a8"
             ],
             [
              0.3333333333333333,
              "#9c179e"
             ],
             [
              0.4444444444444444,
              "#bd3786"
             ],
             [
              0.5555555555555556,
              "#d8576b"
             ],
             [
              0.6666666666666666,
              "#ed7953"
             ],
             [
              0.7777777777777778,
              "#fb9f3a"
             ],
             [
              0.8888888888888888,
              "#fdca26"
             ],
             [
              1,
              "#f0f921"
             ]
            ],
            "type": "heatmapgl"
           }
          ],
          "histogram": [
           {
            "marker": {
             "pattern": {
              "fillmode": "overlay",
              "size": 10,
              "solidity": 0.2
             }
            },
            "type": "histogram"
           }
          ],
          "histogram2d": [
           {
            "colorbar": {
             "outlinewidth": 0,
             "ticks": ""
            },
            "colorscale": [
             [
              0,
              "#0d0887"
             ],
             [
              0.1111111111111111,
              "#46039f"
             ],
             [
              0.2222222222222222,
              "#7201a8"
             ],
             [
              0.3333333333333333,
              "#9c179e"
             ],
             [
              0.4444444444444444,
              "#bd3786"
             ],
             [
              0.5555555555555556,
              "#d8576b"
             ],
             [
              0.6666666666666666,
              "#ed7953"
             ],
             [
              0.7777777777777778,
              "#fb9f3a"
             ],
             [
              0.8888888888888888,
              "#fdca26"
             ],
             [
              1,
              "#f0f921"
             ]
            ],
            "type": "histogram2d"
           }
          ],
          "histogram2dcontour": [
           {
            "colorbar": {
             "outlinewidth": 0,
             "ticks": ""
            },
            "colorscale": [
             [
              0,
              "#0d0887"
             ],
             [
              0.1111111111111111,
              "#46039f"
             ],
             [
              0.2222222222222222,
              "#7201a8"
             ],
             [
              0.3333333333333333,
              "#9c179e"
             ],
             [
              0.4444444444444444,
              "#bd3786"
             ],
             [
              0.5555555555555556,
              "#d8576b"
             ],
             [
              0.6666666666666666,
              "#ed7953"
             ],
             [
              0.7777777777777778,
              "#fb9f3a"
             ],
             [
              0.8888888888888888,
              "#fdca26"
             ],
             [
              1,
              "#f0f921"
             ]
            ],
            "type": "histogram2dcontour"
           }
          ],
          "mesh3d": [
           {
            "colorbar": {
             "outlinewidth": 0,
             "ticks": ""
            },
            "type": "mesh3d"
           }
          ],
          "parcoords": [
           {
            "line": {
             "colorbar": {
              "outlinewidth": 0,
              "ticks": ""
             }
            },
            "type": "parcoords"
           }
          ],
          "pie": [
           {
            "automargin": true,
            "type": "pie"
           }
          ],
          "scatter": [
           {
            "fillpattern": {
             "fillmode": "overlay",
             "size": 10,
             "solidity": 0.2
            },
            "type": "scatter"
           }
          ],
          "scatter3d": [
           {
            "line": {
             "colorbar": {
              "outlinewidth": 0,
              "ticks": ""
             }
            },
            "marker": {
             "colorbar": {
              "outlinewidth": 0,
              "ticks": ""
             }
            },
            "type": "scatter3d"
           }
          ],
          "scattercarpet": [
           {
            "marker": {
             "colorbar": {
              "outlinewidth": 0,
              "ticks": ""
             }
            },
            "type": "scattercarpet"
           }
          ],
          "scattergeo": [
           {
            "marker": {
             "colorbar": {
              "outlinewidth": 0,
              "ticks": ""
             }
            },
            "type": "scattergeo"
           }
          ],
          "scattergl": [
           {
            "marker": {
             "colorbar": {
              "outlinewidth": 0,
              "ticks": ""
             }
            },
            "type": "scattergl"
           }
          ],
          "scattermapbox": [
           {
            "marker": {
             "colorbar": {
              "outlinewidth": 0,
              "ticks": ""
             }
            },
            "type": "scattermapbox"
           }
          ],
          "scatterpolar": [
           {
            "marker": {
             "colorbar": {
              "outlinewidth": 0,
              "ticks": ""
             }
            },
            "type": "scatterpolar"
           }
          ],
          "scatterpolargl": [
           {
            "marker": {
             "colorbar": {
              "outlinewidth": 0,
              "ticks": ""
             }
            },
            "type": "scatterpolargl"
           }
          ],
          "scatterternary": [
           {
            "marker": {
             "colorbar": {
              "outlinewidth": 0,
              "ticks": ""
             }
            },
            "type": "scatterternary"
           }
          ],
          "surface": [
           {
            "colorbar": {
             "outlinewidth": 0,
             "ticks": ""
            },
            "colorscale": [
             [
              0,
              "#0d0887"
             ],
             [
              0.1111111111111111,
              "#46039f"
             ],
             [
              0.2222222222222222,
              "#7201a8"
             ],
             [
              0.3333333333333333,
              "#9c179e"
             ],
             [
              0.4444444444444444,
              "#bd3786"
             ],
             [
              0.5555555555555556,
              "#d8576b"
             ],
             [
              0.6666666666666666,
              "#ed7953"
             ],
             [
              0.7777777777777778,
              "#fb9f3a"
             ],
             [
              0.8888888888888888,
              "#fdca26"
             ],
             [
              1,
              "#f0f921"
             ]
            ],
            "type": "surface"
           }
          ],
          "table": [
           {
            "cells": {
             "fill": {
              "color": "#EBF0F8"
             },
             "line": {
              "color": "white"
             }
            },
            "header": {
             "fill": {
              "color": "#C8D4E3"
             },
             "line": {
              "color": "white"
             }
            },
            "type": "table"
           }
          ]
         },
         "layout": {
          "annotationdefaults": {
           "arrowcolor": "#2a3f5f",
           "arrowhead": 0,
           "arrowwidth": 1
          },
          "autotypenumbers": "strict",
          "coloraxis": {
           "colorbar": {
            "outlinewidth": 0,
            "ticks": ""
           }
          },
          "colorscale": {
           "diverging": [
            [
             0,
             "#8e0152"
            ],
            [
             0.1,
             "#c51b7d"
            ],
            [
             0.2,
             "#de77ae"
            ],
            [
             0.3,
             "#f1b6da"
            ],
            [
             0.4,
             "#fde0ef"
            ],
            [
             0.5,
             "#f7f7f7"
            ],
            [
             0.6,
             "#e6f5d0"
            ],
            [
             0.7,
             "#b8e186"
            ],
            [
             0.8,
             "#7fbc41"
            ],
            [
             0.9,
             "#4d9221"
            ],
            [
             1,
             "#276419"
            ]
           ],
           "sequential": [
            [
             0,
             "#0d0887"
            ],
            [
             0.1111111111111111,
             "#46039f"
            ],
            [
             0.2222222222222222,
             "#7201a8"
            ],
            [
             0.3333333333333333,
             "#9c179e"
            ],
            [
             0.4444444444444444,
             "#bd3786"
            ],
            [
             0.5555555555555556,
             "#d8576b"
            ],
            [
             0.6666666666666666,
             "#ed7953"
            ],
            [
             0.7777777777777778,
             "#fb9f3a"
            ],
            [
             0.8888888888888888,
             "#fdca26"
            ],
            [
             1,
             "#f0f921"
            ]
           ],
           "sequentialminus": [
            [
             0,
             "#0d0887"
            ],
            [
             0.1111111111111111,
             "#46039f"
            ],
            [
             0.2222222222222222,
             "#7201a8"
            ],
            [
             0.3333333333333333,
             "#9c179e"
            ],
            [
             0.4444444444444444,
             "#bd3786"
            ],
            [
             0.5555555555555556,
             "#d8576b"
            ],
            [
             0.6666666666666666,
             "#ed7953"
            ],
            [
             0.7777777777777778,
             "#fb9f3a"
            ],
            [
             0.8888888888888888,
             "#fdca26"
            ],
            [
             1,
             "#f0f921"
            ]
           ]
          },
          "colorway": [
           "#636efa",
           "#EF553B",
           "#00cc96",
           "#ab63fa",
           "#FFA15A",
           "#19d3f3",
           "#FF6692",
           "#B6E880",
           "#FF97FF",
           "#FECB52"
          ],
          "font": {
           "color": "#2a3f5f"
          },
          "geo": {
           "bgcolor": "white",
           "lakecolor": "white",
           "landcolor": "#E5ECF6",
           "showlakes": true,
           "showland": true,
           "subunitcolor": "white"
          },
          "hoverlabel": {
           "align": "left"
          },
          "hovermode": "closest",
          "mapbox": {
           "style": "light"
          },
          "paper_bgcolor": "white",
          "plot_bgcolor": "#E5ECF6",
          "polar": {
           "angularaxis": {
            "gridcolor": "white",
            "linecolor": "white",
            "ticks": ""
           },
           "bgcolor": "#E5ECF6",
           "radialaxis": {
            "gridcolor": "white",
            "linecolor": "white",
            "ticks": ""
           }
          },
          "scene": {
           "xaxis": {
            "backgroundcolor": "#E5ECF6",
            "gridcolor": "white",
            "gridwidth": 2,
            "linecolor": "white",
            "showbackground": true,
            "ticks": "",
            "zerolinecolor": "white"
           },
           "yaxis": {
            "backgroundcolor": "#E5ECF6",
            "gridcolor": "white",
            "gridwidth": 2,
            "linecolor": "white",
            "showbackground": true,
            "ticks": "",
            "zerolinecolor": "white"
           },
           "zaxis": {
            "backgroundcolor": "#E5ECF6",
            "gridcolor": "white",
            "gridwidth": 2,
            "linecolor": "white",
            "showbackground": true,
            "ticks": "",
            "zerolinecolor": "white"
           }
          },
          "shapedefaults": {
           "line": {
            "color": "#2a3f5f"
           }
          },
          "ternary": {
           "aaxis": {
            "gridcolor": "white",
            "linecolor": "white",
            "ticks": ""
           },
           "baxis": {
            "gridcolor": "white",
            "linecolor": "white",
            "ticks": ""
           },
           "bgcolor": "#E5ECF6",
           "caxis": {
            "gridcolor": "white",
            "linecolor": "white",
            "ticks": ""
           }
          },
          "title": {
           "x": 0.05
          },
          "xaxis": {
           "automargin": true,
           "gridcolor": "white",
           "linecolor": "white",
           "ticks": "",
           "title": {
            "standoff": 15
           },
           "zerolinecolor": "white",
           "zerolinewidth": 2
          },
          "yaxis": {
           "automargin": true,
           "gridcolor": "white",
           "linecolor": "white",
           "ticks": "",
           "title": {
            "standoff": 15
           },
           "zerolinecolor": "white",
           "zerolinewidth": 2
          }
         }
        }
       }
      }
     },
     "metadata": {},
     "output_type": "display_data"
    }
   ],
   "source": [
    "depth_list = [val for val in range(2,17)]\n",
    "compare_df = pd.DataFrame(list(zip(depth_list, train_score, test_score)), columns=[\"depth\", \"train_score\", \"test_score\"])\n",
    "\n",
    "fig_2 = go.Figure()\n",
    "\n",
    "fig_2.add_trace( go.Scatter(x=depth_list, y=train_score, name=\"train\"))\n",
    "fig_2.add_trace( go.Scatter(x=depth_list, y=test_score, name=\"test\"))\n",
    "\n",
    "fig_2.show()"
   ]
  },
  {
   "cell_type": "code",
   "execution_count": 49,
   "metadata": {},
   "outputs": [
    {
     "data": {
      "application/vnd.plotly.v1+json": {
       "config": {
        "plotlyServerURL": "https://plot.ly"
       },
       "data": [
        {
         "name": "train",
         "type": "scatter",
         "x": [
          2,
          3,
          4,
          5,
          6,
          7,
          8,
          9,
          10,
          11,
          12,
          13,
          14,
          15,
          16
         ],
         "y": [
          0.7324228250573206,
          0.7563458451119313,
          0.7740793883756428,
          0.7910770683252196,
          0.8124704016369838,
          0.8424895293539807,
          0.8767063394703498,
          0.9081645855702455
         ]
        },
        {
         "name": "test",
         "type": "scatter",
         "x": [
          2,
          3,
          4,
          5,
          6,
          7,
          8,
          9,
          10,
          11,
          12,
          13,
          14,
          15,
          16
         ],
         "y": [
          0.7287067651628492,
          0.7550336874835728,
          0.7733575348216846,
          0.7892899962025258,
          0.807066249639837,
          0.8272775289018849,
          0.849363192833011,
          0.8676126608018302
         ]
        }
       ],
       "layout": {
        "template": {
         "data": {
          "bar": [
           {
            "error_x": {
             "color": "#2a3f5f"
            },
            "error_y": {
             "color": "#2a3f5f"
            },
            "marker": {
             "line": {
              "color": "#E5ECF6",
              "width": 0.5
             },
             "pattern": {
              "fillmode": "overlay",
              "size": 10,
              "solidity": 0.2
             }
            },
            "type": "bar"
           }
          ],
          "barpolar": [
           {
            "marker": {
             "line": {
              "color": "#E5ECF6",
              "width": 0.5
             },
             "pattern": {
              "fillmode": "overlay",
              "size": 10,
              "solidity": 0.2
             }
            },
            "type": "barpolar"
           }
          ],
          "carpet": [
           {
            "aaxis": {
             "endlinecolor": "#2a3f5f",
             "gridcolor": "white",
             "linecolor": "white",
             "minorgridcolor": "white",
             "startlinecolor": "#2a3f5f"
            },
            "baxis": {
             "endlinecolor": "#2a3f5f",
             "gridcolor": "white",
             "linecolor": "white",
             "minorgridcolor": "white",
             "startlinecolor": "#2a3f5f"
            },
            "type": "carpet"
           }
          ],
          "choropleth": [
           {
            "colorbar": {
             "outlinewidth": 0,
             "ticks": ""
            },
            "type": "choropleth"
           }
          ],
          "contour": [
           {
            "colorbar": {
             "outlinewidth": 0,
             "ticks": ""
            },
            "colorscale": [
             [
              0,
              "#0d0887"
             ],
             [
              0.1111111111111111,
              "#46039f"
             ],
             [
              0.2222222222222222,
              "#7201a8"
             ],
             [
              0.3333333333333333,
              "#9c179e"
             ],
             [
              0.4444444444444444,
              "#bd3786"
             ],
             [
              0.5555555555555556,
              "#d8576b"
             ],
             [
              0.6666666666666666,
              "#ed7953"
             ],
             [
              0.7777777777777778,
              "#fb9f3a"
             ],
             [
              0.8888888888888888,
              "#fdca26"
             ],
             [
              1,
              "#f0f921"
             ]
            ],
            "type": "contour"
           }
          ],
          "contourcarpet": [
           {
            "colorbar": {
             "outlinewidth": 0,
             "ticks": ""
            },
            "type": "contourcarpet"
           }
          ],
          "heatmap": [
           {
            "colorbar": {
             "outlinewidth": 0,
             "ticks": ""
            },
            "colorscale": [
             [
              0,
              "#0d0887"
             ],
             [
              0.1111111111111111,
              "#46039f"
             ],
             [
              0.2222222222222222,
              "#7201a8"
             ],
             [
              0.3333333333333333,
              "#9c179e"
             ],
             [
              0.4444444444444444,
              "#bd3786"
             ],
             [
              0.5555555555555556,
              "#d8576b"
             ],
             [
              0.6666666666666666,
              "#ed7953"
             ],
             [
              0.7777777777777778,
              "#fb9f3a"
             ],
             [
              0.8888888888888888,
              "#fdca26"
             ],
             [
              1,
              "#f0f921"
             ]
            ],
            "type": "heatmap"
           }
          ],
          "heatmapgl": [
           {
            "colorbar": {
             "outlinewidth": 0,
             "ticks": ""
            },
            "colorscale": [
             [
              0,
              "#0d0887"
             ],
             [
              0.1111111111111111,
              "#46039f"
             ],
             [
              0.2222222222222222,
              "#7201a8"
             ],
             [
              0.3333333333333333,
              "#9c179e"
             ],
             [
              0.4444444444444444,
              "#bd3786"
             ],
             [
              0.5555555555555556,
              "#d8576b"
             ],
             [
              0.6666666666666666,
              "#ed7953"
             ],
             [
              0.7777777777777778,
              "#fb9f3a"
             ],
             [
              0.8888888888888888,
              "#fdca26"
             ],
             [
              1,
              "#f0f921"
             ]
            ],
            "type": "heatmapgl"
           }
          ],
          "histogram": [
           {
            "marker": {
             "pattern": {
              "fillmode": "overlay",
              "size": 10,
              "solidity": 0.2
             }
            },
            "type": "histogram"
           }
          ],
          "histogram2d": [
           {
            "colorbar": {
             "outlinewidth": 0,
             "ticks": ""
            },
            "colorscale": [
             [
              0,
              "#0d0887"
             ],
             [
              0.1111111111111111,
              "#46039f"
             ],
             [
              0.2222222222222222,
              "#7201a8"
             ],
             [
              0.3333333333333333,
              "#9c179e"
             ],
             [
              0.4444444444444444,
              "#bd3786"
             ],
             [
              0.5555555555555556,
              "#d8576b"
             ],
             [
              0.6666666666666666,
              "#ed7953"
             ],
             [
              0.7777777777777778,
              "#fb9f3a"
             ],
             [
              0.8888888888888888,
              "#fdca26"
             ],
             [
              1,
              "#f0f921"
             ]
            ],
            "type": "histogram2d"
           }
          ],
          "histogram2dcontour": [
           {
            "colorbar": {
             "outlinewidth": 0,
             "ticks": ""
            },
            "colorscale": [
             [
              0,
              "#0d0887"
             ],
             [
              0.1111111111111111,
              "#46039f"
             ],
             [
              0.2222222222222222,
              "#7201a8"
             ],
             [
              0.3333333333333333,
              "#9c179e"
             ],
             [
              0.4444444444444444,
              "#bd3786"
             ],
             [
              0.5555555555555556,
              "#d8576b"
             ],
             [
              0.6666666666666666,
              "#ed7953"
             ],
             [
              0.7777777777777778,
              "#fb9f3a"
             ],
             [
              0.8888888888888888,
              "#fdca26"
             ],
             [
              1,
              "#f0f921"
             ]
            ],
            "type": "histogram2dcontour"
           }
          ],
          "mesh3d": [
           {
            "colorbar": {
             "outlinewidth": 0,
             "ticks": ""
            },
            "type": "mesh3d"
           }
          ],
          "parcoords": [
           {
            "line": {
             "colorbar": {
              "outlinewidth": 0,
              "ticks": ""
             }
            },
            "type": "parcoords"
           }
          ],
          "pie": [
           {
            "automargin": true,
            "type": "pie"
           }
          ],
          "scatter": [
           {
            "fillpattern": {
             "fillmode": "overlay",
             "size": 10,
             "solidity": 0.2
            },
            "type": "scatter"
           }
          ],
          "scatter3d": [
           {
            "line": {
             "colorbar": {
              "outlinewidth": 0,
              "ticks": ""
             }
            },
            "marker": {
             "colorbar": {
              "outlinewidth": 0,
              "ticks": ""
             }
            },
            "type": "scatter3d"
           }
          ],
          "scattercarpet": [
           {
            "marker": {
             "colorbar": {
              "outlinewidth": 0,
              "ticks": ""
             }
            },
            "type": "scattercarpet"
           }
          ],
          "scattergeo": [
           {
            "marker": {
             "colorbar": {
              "outlinewidth": 0,
              "ticks": ""
             }
            },
            "type": "scattergeo"
           }
          ],
          "scattergl": [
           {
            "marker": {
             "colorbar": {
              "outlinewidth": 0,
              "ticks": ""
             }
            },
            "type": "scattergl"
           }
          ],
          "scattermapbox": [
           {
            "marker": {
             "colorbar": {
              "outlinewidth": 0,
              "ticks": ""
             }
            },
            "type": "scattermapbox"
           }
          ],
          "scatterpolar": [
           {
            "marker": {
             "colorbar": {
              "outlinewidth": 0,
              "ticks": ""
             }
            },
            "type": "scatterpolar"
           }
          ],
          "scatterpolargl": [
           {
            "marker": {
             "colorbar": {
              "outlinewidth": 0,
              "ticks": ""
             }
            },
            "type": "scatterpolargl"
           }
          ],
          "scatterternary": [
           {
            "marker": {
             "colorbar": {
              "outlinewidth": 0,
              "ticks": ""
             }
            },
            "type": "scatterternary"
           }
          ],
          "surface": [
           {
            "colorbar": {
             "outlinewidth": 0,
             "ticks": ""
            },
            "colorscale": [
             [
              0,
              "#0d0887"
             ],
             [
              0.1111111111111111,
              "#46039f"
             ],
             [
              0.2222222222222222,
              "#7201a8"
             ],
             [
              0.3333333333333333,
              "#9c179e"
             ],
             [
              0.4444444444444444,
              "#bd3786"
             ],
             [
              0.5555555555555556,
              "#d8576b"
             ],
             [
              0.6666666666666666,
              "#ed7953"
             ],
             [
              0.7777777777777778,
              "#fb9f3a"
             ],
             [
              0.8888888888888888,
              "#fdca26"
             ],
             [
              1,
              "#f0f921"
             ]
            ],
            "type": "surface"
           }
          ],
          "table": [
           {
            "cells": {
             "fill": {
              "color": "#EBF0F8"
             },
             "line": {
              "color": "white"
             }
            },
            "header": {
             "fill": {
              "color": "#C8D4E3"
             },
             "line": {
              "color": "white"
             }
            },
            "type": "table"
           }
          ]
         },
         "layout": {
          "annotationdefaults": {
           "arrowcolor": "#2a3f5f",
           "arrowhead": 0,
           "arrowwidth": 1
          },
          "autotypenumbers": "strict",
          "coloraxis": {
           "colorbar": {
            "outlinewidth": 0,
            "ticks": ""
           }
          },
          "colorscale": {
           "diverging": [
            [
             0,
             "#8e0152"
            ],
            [
             0.1,
             "#c51b7d"
            ],
            [
             0.2,
             "#de77ae"
            ],
            [
             0.3,
             "#f1b6da"
            ],
            [
             0.4,
             "#fde0ef"
            ],
            [
             0.5,
             "#f7f7f7"
            ],
            [
             0.6,
             "#e6f5d0"
            ],
            [
             0.7,
             "#b8e186"
            ],
            [
             0.8,
             "#7fbc41"
            ],
            [
             0.9,
             "#4d9221"
            ],
            [
             1,
             "#276419"
            ]
           ],
           "sequential": [
            [
             0,
             "#0d0887"
            ],
            [
             0.1111111111111111,
             "#46039f"
            ],
            [
             0.2222222222222222,
             "#7201a8"
            ],
            [
             0.3333333333333333,
             "#9c179e"
            ],
            [
             0.4444444444444444,
             "#bd3786"
            ],
            [
             0.5555555555555556,
             "#d8576b"
            ],
            [
             0.6666666666666666,
             "#ed7953"
            ],
            [
             0.7777777777777778,
             "#fb9f3a"
            ],
            [
             0.8888888888888888,
             "#fdca26"
            ],
            [
             1,
             "#f0f921"
            ]
           ],
           "sequentialminus": [
            [
             0,
             "#0d0887"
            ],
            [
             0.1111111111111111,
             "#46039f"
            ],
            [
             0.2222222222222222,
             "#7201a8"
            ],
            [
             0.3333333333333333,
             "#9c179e"
            ],
            [
             0.4444444444444444,
             "#bd3786"
            ],
            [
             0.5555555555555556,
             "#d8576b"
            ],
            [
             0.6666666666666666,
             "#ed7953"
            ],
            [
             0.7777777777777778,
             "#fb9f3a"
            ],
            [
             0.8888888888888888,
             "#fdca26"
            ],
            [
             1,
             "#f0f921"
            ]
           ]
          },
          "colorway": [
           "#636efa",
           "#EF553B",
           "#00cc96",
           "#ab63fa",
           "#FFA15A",
           "#19d3f3",
           "#FF6692",
           "#B6E880",
           "#FF97FF",
           "#FECB52"
          ],
          "font": {
           "color": "#2a3f5f"
          },
          "geo": {
           "bgcolor": "white",
           "lakecolor": "white",
           "landcolor": "#E5ECF6",
           "showlakes": true,
           "showland": true,
           "subunitcolor": "white"
          },
          "hoverlabel": {
           "align": "left"
          },
          "hovermode": "closest",
          "mapbox": {
           "style": "light"
          },
          "paper_bgcolor": "white",
          "plot_bgcolor": "#E5ECF6",
          "polar": {
           "angularaxis": {
            "gridcolor": "white",
            "linecolor": "white",
            "ticks": ""
           },
           "bgcolor": "#E5ECF6",
           "radialaxis": {
            "gridcolor": "white",
            "linecolor": "white",
            "ticks": ""
           }
          },
          "scene": {
           "xaxis": {
            "backgroundcolor": "#E5ECF6",
            "gridcolor": "white",
            "gridwidth": 2,
            "linecolor": "white",
            "showbackground": true,
            "ticks": "",
            "zerolinecolor": "white"
           },
           "yaxis": {
            "backgroundcolor": "#E5ECF6",
            "gridcolor": "white",
            "gridwidth": 2,
            "linecolor": "white",
            "showbackground": true,
            "ticks": "",
            "zerolinecolor": "white"
           },
           "zaxis": {
            "backgroundcolor": "#E5ECF6",
            "gridcolor": "white",
            "gridwidth": 2,
            "linecolor": "white",
            "showbackground": true,
            "ticks": "",
            "zerolinecolor": "white"
           }
          },
          "shapedefaults": {
           "line": {
            "color": "#2a3f5f"
           }
          },
          "ternary": {
           "aaxis": {
            "gridcolor": "white",
            "linecolor": "white",
            "ticks": ""
           },
           "baxis": {
            "gridcolor": "white",
            "linecolor": "white",
            "ticks": ""
           },
           "bgcolor": "#E5ECF6",
           "caxis": {
            "gridcolor": "white",
            "linecolor": "white",
            "ticks": ""
           }
          },
          "title": {
           "x": 0.05
          },
          "xaxis": {
           "automargin": true,
           "gridcolor": "white",
           "linecolor": "white",
           "ticks": "",
           "title": {
            "standoff": 15
           },
           "zerolinecolor": "white",
           "zerolinewidth": 2
          },
          "yaxis": {
           "automargin": true,
           "gridcolor": "white",
           "linecolor": "white",
           "ticks": "",
           "title": {
            "standoff": 15
           },
           "zerolinecolor": "white",
           "zerolinewidth": 2
          }
         }
        }
       }
      }
     },
     "metadata": {},
     "output_type": "display_data"
    }
   ],
   "source": [
    "depth_list = [val for val in range(2,17)]\n",
    "compare_df = pd.DataFrame(list(zip(depth_list, train_score, test_score)), columns=[\"depth\", \"train_score\", \"test_score\"])\n",
    "\n",
    "fig_2 = go.Figure()\n",
    "\n",
    "fig_2.add_trace( go.Scatter(x=depth_list, y=new1, name=\"train\"))\n",
    "fig_2.add_trace( go.Scatter(x=depth_list, y=new2, name=\"test\"))\n",
    "\n",
    "fig_2.show()"
   ]
  },
  {
   "cell_type": "code",
   "execution_count": 21,
   "metadata": {},
   "outputs": [],
   "source": [
    "predictions = cross_val_predict(rfc, feature_train, target_train)"
   ]
  },
  {
   "cell_type": "code",
   "execution_count": 23,
   "metadata": {},
   "outputs": [
    {
     "data": {
      "text/plain": [
       "(143190,)"
      ]
     },
     "execution_count": 23,
     "metadata": {},
     "output_type": "execute_result"
    }
   ],
   "source": [
    "predictions.shape"
   ]
  },
  {
   "cell_type": "code",
   "execution_count": null,
   "metadata": {},
   "outputs": [],
   "source": []
  },
  {
   "cell_type": "code",
   "execution_count": 44,
   "metadata": {},
   "outputs": [
    {
     "name": "stderr",
     "output_type": "stream",
     "text": [
      "/var/folders/pq/7mcbx8c97t90g8y2_ns4gjkr0000gn/T/ipykernel_39845/2293800697.py:1: DtypeWarning:\n",
      "\n",
      "Columns (16) have mixed types. Specify dtype option on import or set low_memory=False.\n",
      "\n"
     ]
    },
    {
     "data": {
      "text/html": [
       "<div>\n",
       "<style scoped>\n",
       "    .dataframe tbody tr th:only-of-type {\n",
       "        vertical-align: middle;\n",
       "    }\n",
       "\n",
       "    .dataframe tbody tr th {\n",
       "        vertical-align: top;\n",
       "    }\n",
       "\n",
       "    .dataframe thead th {\n",
       "        text-align: right;\n",
       "    }\n",
       "</style>\n",
       "<table border=\"1\" class=\"dataframe\">\n",
       "  <thead>\n",
       "    <tr style=\"text-align: right;\">\n",
       "      <th></th>\n",
       "      <th>case_id</th>\n",
       "      <th>birth_259D</th>\n",
       "      <th>birthdate_87D</th>\n",
       "      <th>childnum_185L</th>\n",
       "      <th>contaddr_district_15M</th>\n",
       "      <th>contaddr_matchlist_1032L</th>\n",
       "      <th>contaddr_smempladdr_334L</th>\n",
       "      <th>contaddr_zipcode_807M</th>\n",
       "      <th>education_927M</th>\n",
       "      <th>empl_employedfrom_271D</th>\n",
       "      <th>...</th>\n",
       "      <th>registaddr_district_1083M</th>\n",
       "      <th>registaddr_zipcode_184M</th>\n",
       "      <th>relationshiptoclient_415T</th>\n",
       "      <th>relationshiptoclient_642T</th>\n",
       "      <th>remitter_829L</th>\n",
       "      <th>role_1084L</th>\n",
       "      <th>role_993L</th>\n",
       "      <th>safeguarantyflag_411L</th>\n",
       "      <th>sex_738L</th>\n",
       "      <th>type_25L</th>\n",
       "    </tr>\n",
       "  </thead>\n",
       "  <tbody>\n",
       "    <tr>\n",
       "      <th>0</th>\n",
       "      <td>0</td>\n",
       "      <td>1986-07-01</td>\n",
       "      <td>NaN</td>\n",
       "      <td>NaN</td>\n",
       "      <td>P88_18_84</td>\n",
       "      <td>False</td>\n",
       "      <td>False</td>\n",
       "      <td>P167_100_165</td>\n",
       "      <td>P97_36_170</td>\n",
       "      <td>2017-09-15</td>\n",
       "      <td>...</td>\n",
       "      <td>P88_18_84</td>\n",
       "      <td>P167_100_165</td>\n",
       "      <td>NaN</td>\n",
       "      <td>NaN</td>\n",
       "      <td>NaN</td>\n",
       "      <td>CL</td>\n",
       "      <td>NaN</td>\n",
       "      <td>True</td>\n",
       "      <td>F</td>\n",
       "      <td>PRIMARY_MOBILE</td>\n",
       "    </tr>\n",
       "    <tr>\n",
       "      <th>1</th>\n",
       "      <td>0</td>\n",
       "      <td>NaN</td>\n",
       "      <td>NaN</td>\n",
       "      <td>NaN</td>\n",
       "      <td>a55475b1</td>\n",
       "      <td>NaN</td>\n",
       "      <td>NaN</td>\n",
       "      <td>a55475b1</td>\n",
       "      <td>a55475b1</td>\n",
       "      <td>NaN</td>\n",
       "      <td>...</td>\n",
       "      <td>a55475b1</td>\n",
       "      <td>a55475b1</td>\n",
       "      <td>SPOUSE</td>\n",
       "      <td>NaN</td>\n",
       "      <td>False</td>\n",
       "      <td>EM</td>\n",
       "      <td>NaN</td>\n",
       "      <td>NaN</td>\n",
       "      <td>NaN</td>\n",
       "      <td>PHONE</td>\n",
       "    </tr>\n",
       "    <tr>\n",
       "      <th>2</th>\n",
       "      <td>0</td>\n",
       "      <td>NaN</td>\n",
       "      <td>NaN</td>\n",
       "      <td>NaN</td>\n",
       "      <td>a55475b1</td>\n",
       "      <td>NaN</td>\n",
       "      <td>NaN</td>\n",
       "      <td>a55475b1</td>\n",
       "      <td>a55475b1</td>\n",
       "      <td>NaN</td>\n",
       "      <td>...</td>\n",
       "      <td>a55475b1</td>\n",
       "      <td>a55475b1</td>\n",
       "      <td>COLLEAGUE</td>\n",
       "      <td>SPOUSE</td>\n",
       "      <td>False</td>\n",
       "      <td>PE</td>\n",
       "      <td>NaN</td>\n",
       "      <td>NaN</td>\n",
       "      <td>NaN</td>\n",
       "      <td>PHONE</td>\n",
       "    </tr>\n",
       "    <tr>\n",
       "      <th>3</th>\n",
       "      <td>0</td>\n",
       "      <td>NaN</td>\n",
       "      <td>NaN</td>\n",
       "      <td>NaN</td>\n",
       "      <td>a55475b1</td>\n",
       "      <td>NaN</td>\n",
       "      <td>NaN</td>\n",
       "      <td>a55475b1</td>\n",
       "      <td>a55475b1</td>\n",
       "      <td>NaN</td>\n",
       "      <td>...</td>\n",
       "      <td>a55475b1</td>\n",
       "      <td>a55475b1</td>\n",
       "      <td>NaN</td>\n",
       "      <td>COLLEAGUE</td>\n",
       "      <td>NaN</td>\n",
       "      <td>PE</td>\n",
       "      <td>NaN</td>\n",
       "      <td>NaN</td>\n",
       "      <td>NaN</td>\n",
       "      <td>PHONE</td>\n",
       "    </tr>\n",
       "    <tr>\n",
       "      <th>4</th>\n",
       "      <td>1</td>\n",
       "      <td>1957-08-01</td>\n",
       "      <td>NaN</td>\n",
       "      <td>NaN</td>\n",
       "      <td>P103_93_94</td>\n",
       "      <td>False</td>\n",
       "      <td>False</td>\n",
       "      <td>P176_37_166</td>\n",
       "      <td>P97_36_170</td>\n",
       "      <td>2008-10-29</td>\n",
       "      <td>...</td>\n",
       "      <td>P103_93_94</td>\n",
       "      <td>P176_37_166</td>\n",
       "      <td>NaN</td>\n",
       "      <td>NaN</td>\n",
       "      <td>NaN</td>\n",
       "      <td>CL</td>\n",
       "      <td>NaN</td>\n",
       "      <td>True</td>\n",
       "      <td>M</td>\n",
       "      <td>PRIMARY_MOBILE</td>\n",
       "    </tr>\n",
       "    <tr>\n",
       "      <th>...</th>\n",
       "      <td>...</td>\n",
       "      <td>...</td>\n",
       "      <td>...</td>\n",
       "      <td>...</td>\n",
       "      <td>...</td>\n",
       "      <td>...</td>\n",
       "      <td>...</td>\n",
       "      <td>...</td>\n",
       "      <td>...</td>\n",
       "      <td>...</td>\n",
       "      <td>...</td>\n",
       "      <td>...</td>\n",
       "      <td>...</td>\n",
       "      <td>...</td>\n",
       "      <td>...</td>\n",
       "      <td>...</td>\n",
       "      <td>...</td>\n",
       "      <td>...</td>\n",
       "      <td>...</td>\n",
       "      <td>...</td>\n",
       "      <td>...</td>\n",
       "    </tr>\n",
       "    <tr>\n",
       "      <th>2973986</th>\n",
       "      <td>2703451</td>\n",
       "      <td>NaN</td>\n",
       "      <td>NaN</td>\n",
       "      <td>NaN</td>\n",
       "      <td>a55475b1</td>\n",
       "      <td>NaN</td>\n",
       "      <td>NaN</td>\n",
       "      <td>a55475b1</td>\n",
       "      <td>a55475b1</td>\n",
       "      <td>NaN</td>\n",
       "      <td>...</td>\n",
       "      <td>a55475b1</td>\n",
       "      <td>a55475b1</td>\n",
       "      <td>NaN</td>\n",
       "      <td>NaN</td>\n",
       "      <td>NaN</td>\n",
       "      <td>CL</td>\n",
       "      <td>NaN</td>\n",
       "      <td>NaN</td>\n",
       "      <td>NaN</td>\n",
       "      <td>HOME_PHONE</td>\n",
       "    </tr>\n",
       "    <tr>\n",
       "      <th>2973987</th>\n",
       "      <td>2703452</td>\n",
       "      <td>1977-08-01</td>\n",
       "      <td>NaN</td>\n",
       "      <td>NaN</td>\n",
       "      <td>P133_44_167</td>\n",
       "      <td>False</td>\n",
       "      <td>False</td>\n",
       "      <td>P59_150_74</td>\n",
       "      <td>a55475b1</td>\n",
       "      <td>NaN</td>\n",
       "      <td>...</td>\n",
       "      <td>P19_11_176</td>\n",
       "      <td>P11_15_81</td>\n",
       "      <td>NaN</td>\n",
       "      <td>NaN</td>\n",
       "      <td>NaN</td>\n",
       "      <td>CL</td>\n",
       "      <td>NaN</td>\n",
       "      <td>False</td>\n",
       "      <td>M</td>\n",
       "      <td>PRIMARY_MOBILE</td>\n",
       "    </tr>\n",
       "    <tr>\n",
       "      <th>2973988</th>\n",
       "      <td>2703453</td>\n",
       "      <td>1950-02-01</td>\n",
       "      <td>NaN</td>\n",
       "      <td>NaN</td>\n",
       "      <td>P123_6_84</td>\n",
       "      <td>False</td>\n",
       "      <td>False</td>\n",
       "      <td>P46_103_143</td>\n",
       "      <td>a55475b1</td>\n",
       "      <td>NaN</td>\n",
       "      <td>...</td>\n",
       "      <td>P123_6_84</td>\n",
       "      <td>P46_103_143</td>\n",
       "      <td>NaN</td>\n",
       "      <td>NaN</td>\n",
       "      <td>NaN</td>\n",
       "      <td>CL</td>\n",
       "      <td>NaN</td>\n",
       "      <td>False</td>\n",
       "      <td>F</td>\n",
       "      <td>PRIMARY_MOBILE</td>\n",
       "    </tr>\n",
       "    <tr>\n",
       "      <th>2973989</th>\n",
       "      <td>2703453</td>\n",
       "      <td>NaN</td>\n",
       "      <td>NaN</td>\n",
       "      <td>NaN</td>\n",
       "      <td>a55475b1</td>\n",
       "      <td>NaN</td>\n",
       "      <td>NaN</td>\n",
       "      <td>a55475b1</td>\n",
       "      <td>a55475b1</td>\n",
       "      <td>NaN</td>\n",
       "      <td>...</td>\n",
       "      <td>a55475b1</td>\n",
       "      <td>a55475b1</td>\n",
       "      <td>NaN</td>\n",
       "      <td>NaN</td>\n",
       "      <td>NaN</td>\n",
       "      <td>CL</td>\n",
       "      <td>NaN</td>\n",
       "      <td>NaN</td>\n",
       "      <td>NaN</td>\n",
       "      <td>HOME_PHONE</td>\n",
       "    </tr>\n",
       "    <tr>\n",
       "      <th>2973990</th>\n",
       "      <td>2703454</td>\n",
       "      <td>1948-04-01</td>\n",
       "      <td>NaN</td>\n",
       "      <td>NaN</td>\n",
       "      <td>P48_127_19</td>\n",
       "      <td>False</td>\n",
       "      <td>False</td>\n",
       "      <td>P78_144_175</td>\n",
       "      <td>a55475b1</td>\n",
       "      <td>NaN</td>\n",
       "      <td>...</td>\n",
       "      <td>P48_127_19</td>\n",
       "      <td>P78_144_175</td>\n",
       "      <td>NaN</td>\n",
       "      <td>NaN</td>\n",
       "      <td>NaN</td>\n",
       "      <td>CL</td>\n",
       "      <td>NaN</td>\n",
       "      <td>True</td>\n",
       "      <td>F</td>\n",
       "      <td>PRIMARY_MOBILE</td>\n",
       "    </tr>\n",
       "  </tbody>\n",
       "</table>\n",
       "<p>2973991 rows × 37 columns</p>\n",
       "</div>"
      ],
      "text/plain": [
       "         case_id  birth_259D birthdate_87D  childnum_185L  \\\n",
       "0              0  1986-07-01           NaN            NaN   \n",
       "1              0         NaN           NaN            NaN   \n",
       "2              0         NaN           NaN            NaN   \n",
       "3              0         NaN           NaN            NaN   \n",
       "4              1  1957-08-01           NaN            NaN   \n",
       "...          ...         ...           ...            ...   \n",
       "2973986  2703451         NaN           NaN            NaN   \n",
       "2973987  2703452  1977-08-01           NaN            NaN   \n",
       "2973988  2703453  1950-02-01           NaN            NaN   \n",
       "2973989  2703453         NaN           NaN            NaN   \n",
       "2973990  2703454  1948-04-01           NaN            NaN   \n",
       "\n",
       "        contaddr_district_15M contaddr_matchlist_1032L  \\\n",
       "0                   P88_18_84                    False   \n",
       "1                    a55475b1                      NaN   \n",
       "2                    a55475b1                      NaN   \n",
       "3                    a55475b1                      NaN   \n",
       "4                  P103_93_94                    False   \n",
       "...                       ...                      ...   \n",
       "2973986              a55475b1                      NaN   \n",
       "2973987           P133_44_167                    False   \n",
       "2973988             P123_6_84                    False   \n",
       "2973989              a55475b1                      NaN   \n",
       "2973990            P48_127_19                    False   \n",
       "\n",
       "        contaddr_smempladdr_334L contaddr_zipcode_807M education_927M  \\\n",
       "0                          False          P167_100_165     P97_36_170   \n",
       "1                            NaN              a55475b1       a55475b1   \n",
       "2                            NaN              a55475b1       a55475b1   \n",
       "3                            NaN              a55475b1       a55475b1   \n",
       "4                          False           P176_37_166     P97_36_170   \n",
       "...                          ...                   ...            ...   \n",
       "2973986                      NaN              a55475b1       a55475b1   \n",
       "2973987                    False            P59_150_74       a55475b1   \n",
       "2973988                    False           P46_103_143       a55475b1   \n",
       "2973989                      NaN              a55475b1       a55475b1   \n",
       "2973990                    False           P78_144_175       a55475b1   \n",
       "\n",
       "        empl_employedfrom_271D  ... registaddr_district_1083M  \\\n",
       "0                   2017-09-15  ...                 P88_18_84   \n",
       "1                          NaN  ...                  a55475b1   \n",
       "2                          NaN  ...                  a55475b1   \n",
       "3                          NaN  ...                  a55475b1   \n",
       "4                   2008-10-29  ...                P103_93_94   \n",
       "...                        ...  ...                       ...   \n",
       "2973986                    NaN  ...                  a55475b1   \n",
       "2973987                    NaN  ...                P19_11_176   \n",
       "2973988                    NaN  ...                 P123_6_84   \n",
       "2973989                    NaN  ...                  a55475b1   \n",
       "2973990                    NaN  ...                P48_127_19   \n",
       "\n",
       "        registaddr_zipcode_184M relationshiptoclient_415T  \\\n",
       "0                  P167_100_165                       NaN   \n",
       "1                      a55475b1                    SPOUSE   \n",
       "2                      a55475b1                 COLLEAGUE   \n",
       "3                      a55475b1                       NaN   \n",
       "4                   P176_37_166                       NaN   \n",
       "...                         ...                       ...   \n",
       "2973986                a55475b1                       NaN   \n",
       "2973987               P11_15_81                       NaN   \n",
       "2973988             P46_103_143                       NaN   \n",
       "2973989                a55475b1                       NaN   \n",
       "2973990             P78_144_175                       NaN   \n",
       "\n",
       "        relationshiptoclient_642T remitter_829L role_1084L role_993L  \\\n",
       "0                             NaN           NaN         CL       NaN   \n",
       "1                             NaN         False         EM       NaN   \n",
       "2                          SPOUSE         False         PE       NaN   \n",
       "3                       COLLEAGUE           NaN         PE       NaN   \n",
       "4                             NaN           NaN         CL       NaN   \n",
       "...                           ...           ...        ...       ...   \n",
       "2973986                       NaN           NaN         CL       NaN   \n",
       "2973987                       NaN           NaN         CL       NaN   \n",
       "2973988                       NaN           NaN         CL       NaN   \n",
       "2973989                       NaN           NaN         CL       NaN   \n",
       "2973990                       NaN           NaN         CL       NaN   \n",
       "\n",
       "        safeguarantyflag_411L sex_738L        type_25L  \n",
       "0                        True        F  PRIMARY_MOBILE  \n",
       "1                         NaN      NaN           PHONE  \n",
       "2                         NaN      NaN           PHONE  \n",
       "3                         NaN      NaN           PHONE  \n",
       "4                        True        M  PRIMARY_MOBILE  \n",
       "...                       ...      ...             ...  \n",
       "2973986                   NaN      NaN      HOME_PHONE  \n",
       "2973987                 False        M  PRIMARY_MOBILE  \n",
       "2973988                 False        F  PRIMARY_MOBILE  \n",
       "2973989                   NaN      NaN      HOME_PHONE  \n",
       "2973990                  True        F  PRIMARY_MOBILE  \n",
       "\n",
       "[2973991 rows x 37 columns]"
      ]
     },
     "execution_count": 44,
     "metadata": {},
     "output_type": "execute_result"
    }
   ],
   "source": [
    "person_df_1 = pd.read_csv(\"./csv_files/train/train_person_1.csv\")\n",
    "person_df_1\n"
   ]
  },
  {
   "cell_type": "code",
   "execution_count": 45,
   "metadata": {},
   "outputs": [
    {
     "data": {
      "text/html": [
       "<div>\n",
       "<style scoped>\n",
       "    .dataframe tbody tr th:only-of-type {\n",
       "        vertical-align: middle;\n",
       "    }\n",
       "\n",
       "    .dataframe tbody tr th {\n",
       "        vertical-align: top;\n",
       "    }\n",
       "\n",
       "    .dataframe thead th {\n",
       "        text-align: right;\n",
       "    }\n",
       "</style>\n",
       "<table border=\"1\" class=\"dataframe\">\n",
       "  <thead>\n",
       "    <tr style=\"text-align: right;\">\n",
       "      <th></th>\n",
       "      <th>column_name</th>\n",
       "      <th>unique_count</th>\n",
       "      <th>nan_count</th>\n",
       "      <th>nan_percent</th>\n",
       "      <th>data_type</th>\n",
       "      <th>unique_entries</th>\n",
       "    </tr>\n",
       "  </thead>\n",
       "  <tbody>\n",
       "    <tr>\n",
       "      <th>0</th>\n",
       "      <td>case_id</td>\n",
       "      <td>1526659</td>\n",
       "      <td>0.000</td>\n",
       "      <td>0.000</td>\n",
       "      <td>int64</td>\n",
       "      <td>&gt;15 entries</td>\n",
       "    </tr>\n",
       "    <tr>\n",
       "      <th>23</th>\n",
       "      <td>num_group1</td>\n",
       "      <td>10</td>\n",
       "      <td>0.000</td>\n",
       "      <td>0.000</td>\n",
       "      <td>int64</td>\n",
       "      <td>[0, 1, 2, 3, 4, 5, 6, 7, 8, 9]</td>\n",
       "    </tr>\n",
       "    <tr>\n",
       "      <th>25</th>\n",
       "      <td>persontype_1072L</td>\n",
       "      <td>4</td>\n",
       "      <td>6,117.000</td>\n",
       "      <td>0.206</td>\n",
       "      <td>float64</td>\n",
       "      <td>[1.0, 4.0, 5.0, nan]</td>\n",
       "    </tr>\n",
       "    <tr>\n",
       "      <th>24</th>\n",
       "      <td>personindex_1023L</td>\n",
       "      <td>8</td>\n",
       "      <td>642,283.000</td>\n",
       "      <td>21.597</td>\n",
       "      <td>float64</td>\n",
       "      <td>[0.0, 1.0, 2.0, nan, 3.0, 4.0, 5.0, 6.0]</td>\n",
       "    </tr>\n",
       "    <tr>\n",
       "      <th>26</th>\n",
       "      <td>persontype_792L</td>\n",
       "      <td>4</td>\n",
       "      <td>642,283.000</td>\n",
       "      <td>21.597</td>\n",
       "      <td>float64</td>\n",
       "      <td>[1.0, 4.0, 5.0, nan]</td>\n",
       "    </tr>\n",
       "    <tr>\n",
       "      <th>21</th>\n",
       "      <td>mainoccupationinc_384A</td>\n",
       "      <td>6633</td>\n",
       "      <td>1,447,332.000</td>\n",
       "      <td>48.666</td>\n",
       "      <td>float64</td>\n",
       "      <td>&gt;15 entries</td>\n",
       "    </tr>\n",
       "    <tr>\n",
       "      <th>3</th>\n",
       "      <td>childnum_185L</td>\n",
       "      <td>12</td>\n",
       "      <td>2,964,084.000</td>\n",
       "      <td>99.667</td>\n",
       "      <td>float64</td>\n",
       "      <td>[nan, 0.0, 1.0, 3.0, 2.0, 4.0, 7.0, 6.0, 5.0, ...</td>\n",
       "    </tr>\n",
       "    <tr>\n",
       "      <th>4</th>\n",
       "      <td>contaddr_district_15M</td>\n",
       "      <td>975</td>\n",
       "      <td>0.000</td>\n",
       "      <td>0.000</td>\n",
       "      <td>object</td>\n",
       "      <td>&gt;15 entries</td>\n",
       "    </tr>\n",
       "    <tr>\n",
       "      <th>7</th>\n",
       "      <td>contaddr_zipcode_807M</td>\n",
       "      <td>3530</td>\n",
       "      <td>0.000</td>\n",
       "      <td>0.000</td>\n",
       "      <td>object</td>\n",
       "      <td>&gt;15 entries</td>\n",
       "    </tr>\n",
       "    <tr>\n",
       "      <th>8</th>\n",
       "      <td>education_927M</td>\n",
       "      <td>6</td>\n",
       "      <td>0.000</td>\n",
       "      <td>0.000</td>\n",
       "      <td>object</td>\n",
       "      <td>[P97_36_170, a55475b1, P33_146_175, P17_36_170...</td>\n",
       "    </tr>\n",
       "    <tr>\n",
       "      <th>12</th>\n",
       "      <td>empladdr_district_926M</td>\n",
       "      <td>223</td>\n",
       "      <td>0.000</td>\n",
       "      <td>0.000</td>\n",
       "      <td>object</td>\n",
       "      <td>&gt;15 entries</td>\n",
       "    </tr>\n",
       "    <tr>\n",
       "      <th>13</th>\n",
       "      <td>empladdr_zipcode_114M</td>\n",
       "      <td>3339</td>\n",
       "      <td>0.000</td>\n",
       "      <td>0.000</td>\n",
       "      <td>object</td>\n",
       "      <td>&gt;15 entries</td>\n",
       "    </tr>\n",
       "    <tr>\n",
       "      <th>20</th>\n",
       "      <td>language1_981M</td>\n",
       "      <td>3</td>\n",
       "      <td>0.000</td>\n",
       "      <td>0.000</td>\n",
       "      <td>object</td>\n",
       "      <td>[P10_39_147, a55475b1, P209_127_106]</td>\n",
       "    </tr>\n",
       "    <tr>\n",
       "      <th>27</th>\n",
       "      <td>registaddr_district_1083M</td>\n",
       "      <td>991</td>\n",
       "      <td>0.000</td>\n",
       "      <td>0.000</td>\n",
       "      <td>object</td>\n",
       "      <td>&gt;15 entries</td>\n",
       "    </tr>\n",
       "    <tr>\n",
       "      <th>28</th>\n",
       "      <td>registaddr_zipcode_184M</td>\n",
       "      <td>3531</td>\n",
       "      <td>0.000</td>\n",
       "      <td>0.000</td>\n",
       "      <td>object</td>\n",
       "      <td>&gt;15 entries</td>\n",
       "    </tr>\n",
       "    <tr>\n",
       "      <th>32</th>\n",
       "      <td>role_1084L</td>\n",
       "      <td>4</td>\n",
       "      <td>6,117.000</td>\n",
       "      <td>0.206</td>\n",
       "      <td>object</td>\n",
       "      <td>[CL, EM, PE, nan]</td>\n",
       "    </tr>\n",
       "    <tr>\n",
       "      <th>36</th>\n",
       "      <td>type_25L</td>\n",
       "      <td>9</td>\n",
       "      <td>6,117.000</td>\n",
       "      <td>0.206</td>\n",
       "      <td>object</td>\n",
       "      <td>[PRIMARY_MOBILE, PHONE, PRIMARY_EMAIL, HOME_PH...</td>\n",
       "    </tr>\n",
       "    <tr>\n",
       "      <th>1</th>\n",
       "      <td>birth_259D</td>\n",
       "      <td>681</td>\n",
       "      <td>1,447,332.000</td>\n",
       "      <td>48.666</td>\n",
       "      <td>object</td>\n",
       "      <td>&gt;15 entries</td>\n",
       "    </tr>\n",
       "    <tr>\n",
       "      <th>18</th>\n",
       "      <td>incometype_1044T</td>\n",
       "      <td>10</td>\n",
       "      <td>1,447,332.000</td>\n",
       "      <td>48.666</td>\n",
       "      <td>object</td>\n",
       "      <td>[SALARIED_GOVT, nan, EMPLOYED, PRIVATE_SECTOR_...</td>\n",
       "    </tr>\n",
       "    <tr>\n",
       "      <th>35</th>\n",
       "      <td>sex_738L</td>\n",
       "      <td>3</td>\n",
       "      <td>1,447,332.000</td>\n",
       "      <td>48.666</td>\n",
       "      <td>object</td>\n",
       "      <td>[F, nan, M]</td>\n",
       "    </tr>\n",
       "    <tr>\n",
       "      <th>34</th>\n",
       "      <td>safeguarantyflag_411L</td>\n",
       "      <td>3</td>\n",
       "      <td>1,447,334.000</td>\n",
       "      <td>48.666</td>\n",
       "      <td>object</td>\n",
       "      <td>[True, nan, False]</td>\n",
       "    </tr>\n",
       "    <tr>\n",
       "      <th>5</th>\n",
       "      <td>contaddr_matchlist_1032L</td>\n",
       "      <td>2</td>\n",
       "      <td>1,447,773.000</td>\n",
       "      <td>48.681</td>\n",
       "      <td>object</td>\n",
       "      <td>[False, nan]</td>\n",
       "    </tr>\n",
       "    <tr>\n",
       "      <th>6</th>\n",
       "      <td>contaddr_smempladdr_334L</td>\n",
       "      <td>3</td>\n",
       "      <td>1,447,773.000</td>\n",
       "      <td>48.681</td>\n",
       "      <td>object</td>\n",
       "      <td>[False, nan, True]</td>\n",
       "    </tr>\n",
       "    <tr>\n",
       "      <th>30</th>\n",
       "      <td>relationshiptoclient_642T</td>\n",
       "      <td>11</td>\n",
       "      <td>2,168,049.000</td>\n",
       "      <td>72.900</td>\n",
       "      <td>object</td>\n",
       "      <td>[nan, SPOUSE, COLLEAGUE, SIBLING, OTHER_RELATI...</td>\n",
       "    </tr>\n",
       "    <tr>\n",
       "      <th>29</th>\n",
       "      <td>relationshiptoclient_415T</td>\n",
       "      <td>11</td>\n",
       "      <td>2,168,942.000</td>\n",
       "      <td>72.930</td>\n",
       "      <td>object</td>\n",
       "      <td>[nan, SPOUSE, COLLEAGUE, SIBLING, OTHER_RELATI...</td>\n",
       "    </tr>\n",
       "    <tr>\n",
       "      <th>31</th>\n",
       "      <td>remitter_829L</td>\n",
       "      <td>2</td>\n",
       "      <td>2,168,942.000</td>\n",
       "      <td>72.930</td>\n",
       "      <td>object</td>\n",
       "      <td>[nan, False]</td>\n",
       "    </tr>\n",
       "    <tr>\n",
       "      <th>14</th>\n",
       "      <td>familystate_447L</td>\n",
       "      <td>6</td>\n",
       "      <td>2,245,378.000</td>\n",
       "      <td>75.500</td>\n",
       "      <td>object</td>\n",
       "      <td>[MARRIED, nan, DIVORCED, SINGLE, WIDOWED, LIVI...</td>\n",
       "    </tr>\n",
       "    <tr>\n",
       "      <th>9</th>\n",
       "      <td>empl_employedfrom_271D</td>\n",
       "      <td>8076</td>\n",
       "      <td>2,407,290.000</td>\n",
       "      <td>80.945</td>\n",
       "      <td>object</td>\n",
       "      <td>&gt;15 entries</td>\n",
       "    </tr>\n",
       "    <tr>\n",
       "      <th>10</th>\n",
       "      <td>empl_employedtotal_800L</td>\n",
       "      <td>4</td>\n",
       "      <td>2,445,676.000</td>\n",
       "      <td>82.235</td>\n",
       "      <td>object</td>\n",
       "      <td>[MORE_FIVE, nan, LESS_ONE, MORE_ONE]</td>\n",
       "    </tr>\n",
       "    <tr>\n",
       "      <th>11</th>\n",
       "      <td>empl_industry_691L</td>\n",
       "      <td>25</td>\n",
       "      <td>2,451,755.000</td>\n",
       "      <td>82.440</td>\n",
       "      <td>object</td>\n",
       "      <td>&gt;15 entries</td>\n",
       "    </tr>\n",
       "    <tr>\n",
       "      <th>16</th>\n",
       "      <td>housetype_905L</td>\n",
       "      <td>7</td>\n",
       "      <td>2,873,173.000</td>\n",
       "      <td>96.610</td>\n",
       "      <td>object</td>\n",
       "      <td>[nan, OWNED, FLAT, PARENTAL, COMPANY_FLAT, STA...</td>\n",
       "    </tr>\n",
       "    <tr>\n",
       "      <th>2</th>\n",
       "      <td>birthdate_87D</td>\n",
       "      <td>660</td>\n",
       "      <td>2,949,075.000</td>\n",
       "      <td>99.162</td>\n",
       "      <td>object</td>\n",
       "      <td>&gt;15 entries</td>\n",
       "    </tr>\n",
       "    <tr>\n",
       "      <th>15</th>\n",
       "      <td>gender_992L</td>\n",
       "      <td>3</td>\n",
       "      <td>2,949,075.000</td>\n",
       "      <td>99.162</td>\n",
       "      <td>object</td>\n",
       "      <td>[nan, F, M]</td>\n",
       "    </tr>\n",
       "    <tr>\n",
       "      <th>19</th>\n",
       "      <td>isreference_387L</td>\n",
       "      <td>3</td>\n",
       "      <td>2,949,075.000</td>\n",
       "      <td>99.162</td>\n",
       "      <td>object</td>\n",
       "      <td>[nan, True, False]</td>\n",
       "    </tr>\n",
       "    <tr>\n",
       "      <th>33</th>\n",
       "      <td>role_993L</td>\n",
       "      <td>2</td>\n",
       "      <td>2,949,075.000</td>\n",
       "      <td>99.162</td>\n",
       "      <td>object</td>\n",
       "      <td>[nan, FULL]</td>\n",
       "    </tr>\n",
       "    <tr>\n",
       "      <th>22</th>\n",
       "      <td>maritalst_703L</td>\n",
       "      <td>6</td>\n",
       "      <td>2,962,646.000</td>\n",
       "      <td>99.619</td>\n",
       "      <td>object</td>\n",
       "      <td>[nan, SINGLE, MARRIED, LIVING_WITH_PARTNER, WI...</td>\n",
       "    </tr>\n",
       "    <tr>\n",
       "      <th>17</th>\n",
       "      <td>housingtype_772L</td>\n",
       "      <td>7</td>\n",
       "      <td>2,964,176.000</td>\n",
       "      <td>99.670</td>\n",
       "      <td>object</td>\n",
       "      <td>[nan, PARENTAL, FLAT, OWNED, STATE_FLAT, COMPA...</td>\n",
       "    </tr>\n",
       "    <tr>\n",
       "      <th>37</th>\n",
       "      <td>this_df</td>\n",
       "      <td>2973991</td>\n",
       "      <td>NaN</td>\n",
       "      <td>NaN</td>\n",
       "      <td>NaN</td>\n",
       "      <td>NaN</td>\n",
       "    </tr>\n",
       "  </tbody>\n",
       "</table>\n",
       "</div>"
      ],
      "text/plain": [
       "                  column_name  unique_count     nan_count  nan_percent  \\\n",
       "0                     case_id       1526659         0.000        0.000   \n",
       "23                 num_group1            10         0.000        0.000   \n",
       "25           persontype_1072L             4     6,117.000        0.206   \n",
       "24          personindex_1023L             8   642,283.000       21.597   \n",
       "26            persontype_792L             4   642,283.000       21.597   \n",
       "21     mainoccupationinc_384A          6633 1,447,332.000       48.666   \n",
       "3               childnum_185L            12 2,964,084.000       99.667   \n",
       "4       contaddr_district_15M           975         0.000        0.000   \n",
       "7       contaddr_zipcode_807M          3530         0.000        0.000   \n",
       "8              education_927M             6         0.000        0.000   \n",
       "12     empladdr_district_926M           223         0.000        0.000   \n",
       "13      empladdr_zipcode_114M          3339         0.000        0.000   \n",
       "20             language1_981M             3         0.000        0.000   \n",
       "27  registaddr_district_1083M           991         0.000        0.000   \n",
       "28    registaddr_zipcode_184M          3531         0.000        0.000   \n",
       "32                 role_1084L             4     6,117.000        0.206   \n",
       "36                   type_25L             9     6,117.000        0.206   \n",
       "1                  birth_259D           681 1,447,332.000       48.666   \n",
       "18           incometype_1044T            10 1,447,332.000       48.666   \n",
       "35                   sex_738L             3 1,447,332.000       48.666   \n",
       "34      safeguarantyflag_411L             3 1,447,334.000       48.666   \n",
       "5    contaddr_matchlist_1032L             2 1,447,773.000       48.681   \n",
       "6    contaddr_smempladdr_334L             3 1,447,773.000       48.681   \n",
       "30  relationshiptoclient_642T            11 2,168,049.000       72.900   \n",
       "29  relationshiptoclient_415T            11 2,168,942.000       72.930   \n",
       "31              remitter_829L             2 2,168,942.000       72.930   \n",
       "14           familystate_447L             6 2,245,378.000       75.500   \n",
       "9      empl_employedfrom_271D          8076 2,407,290.000       80.945   \n",
       "10    empl_employedtotal_800L             4 2,445,676.000       82.235   \n",
       "11         empl_industry_691L            25 2,451,755.000       82.440   \n",
       "16             housetype_905L             7 2,873,173.000       96.610   \n",
       "2               birthdate_87D           660 2,949,075.000       99.162   \n",
       "15                gender_992L             3 2,949,075.000       99.162   \n",
       "19           isreference_387L             3 2,949,075.000       99.162   \n",
       "33                  role_993L             2 2,949,075.000       99.162   \n",
       "22             maritalst_703L             6 2,962,646.000       99.619   \n",
       "17           housingtype_772L             7 2,964,176.000       99.670   \n",
       "37                    this_df       2973991           NaN          NaN   \n",
       "\n",
       "   data_type                                     unique_entries  \n",
       "0      int64                                        >15 entries  \n",
       "23     int64                     [0, 1, 2, 3, 4, 5, 6, 7, 8, 9]  \n",
       "25   float64                               [1.0, 4.0, 5.0, nan]  \n",
       "24   float64           [0.0, 1.0, 2.0, nan, 3.0, 4.0, 5.0, 6.0]  \n",
       "26   float64                               [1.0, 4.0, 5.0, nan]  \n",
       "21   float64                                        >15 entries  \n",
       "3    float64  [nan, 0.0, 1.0, 3.0, 2.0, 4.0, 7.0, 6.0, 5.0, ...  \n",
       "4     object                                        >15 entries  \n",
       "7     object                                        >15 entries  \n",
       "8     object  [P97_36_170, a55475b1, P33_146_175, P17_36_170...  \n",
       "12    object                                        >15 entries  \n",
       "13    object                                        >15 entries  \n",
       "20    object               [P10_39_147, a55475b1, P209_127_106]  \n",
       "27    object                                        >15 entries  \n",
       "28    object                                        >15 entries  \n",
       "32    object                                  [CL, EM, PE, nan]  \n",
       "36    object  [PRIMARY_MOBILE, PHONE, PRIMARY_EMAIL, HOME_PH...  \n",
       "1     object                                        >15 entries  \n",
       "18    object  [SALARIED_GOVT, nan, EMPLOYED, PRIVATE_SECTOR_...  \n",
       "35    object                                        [F, nan, M]  \n",
       "34    object                                 [True, nan, False]  \n",
       "5     object                                       [False, nan]  \n",
       "6     object                                 [False, nan, True]  \n",
       "30    object  [nan, SPOUSE, COLLEAGUE, SIBLING, OTHER_RELATI...  \n",
       "29    object  [nan, SPOUSE, COLLEAGUE, SIBLING, OTHER_RELATI...  \n",
       "31    object                                       [nan, False]  \n",
       "14    object  [MARRIED, nan, DIVORCED, SINGLE, WIDOWED, LIVI...  \n",
       "9     object                                        >15 entries  \n",
       "10    object               [MORE_FIVE, nan, LESS_ONE, MORE_ONE]  \n",
       "11    object                                        >15 entries  \n",
       "16    object  [nan, OWNED, FLAT, PARENTAL, COMPANY_FLAT, STA...  \n",
       "2     object                                        >15 entries  \n",
       "15    object                                        [nan, F, M]  \n",
       "19    object                                 [nan, True, False]  \n",
       "33    object                                        [nan, FULL]  \n",
       "22    object  [nan, SINGLE, MARRIED, LIVING_WITH_PARTNER, WI...  \n",
       "17    object  [nan, PARENTAL, FLAT, OWNED, STATE_FLAT, COMPA...  \n",
       "37       NaN                                                NaN  "
      ]
     },
     "execution_count": 45,
     "metadata": {},
     "output_type": "execute_result"
    }
   ],
   "source": [
    "person_df_1_summary = dataframe_summary(person_df_1, 15)\n",
    "person_df_1_summary"
   ]
  },
  {
   "cell_type": "code",
   "execution_count": 229,
   "metadata": {},
   "outputs": [
    {
     "data": {
      "text/html": [
       "<div>\n",
       "<style scoped>\n",
       "    .dataframe tbody tr th:only-of-type {\n",
       "        vertical-align: middle;\n",
       "    }\n",
       "\n",
       "    .dataframe tbody tr th {\n",
       "        vertical-align: top;\n",
       "    }\n",
       "\n",
       "    .dataframe thead th {\n",
       "        text-align: right;\n",
       "    }\n",
       "</style>\n",
       "<table border=\"1\" class=\"dataframe\">\n",
       "  <thead>\n",
       "    <tr style=\"text-align: right;\">\n",
       "      <th></th>\n",
       "      <th>case_id</th>\n",
       "      <th>childnum_185L</th>\n",
       "      <th>mainoccupationinc_384A</th>\n",
       "      <th>num_group1</th>\n",
       "      <th>personindex_1023L</th>\n",
       "      <th>persontype_1072L</th>\n",
       "      <th>persontype_792L</th>\n",
       "    </tr>\n",
       "  </thead>\n",
       "  <tbody>\n",
       "    <tr>\n",
       "      <th>count</th>\n",
       "      <td>2,973,991.000</td>\n",
       "      <td>9,907.000</td>\n",
       "      <td>1,526,659.000</td>\n",
       "      <td>2,973,991.000</td>\n",
       "      <td>2,331,708.000</td>\n",
       "      <td>2,967,874.000</td>\n",
       "      <td>2,331,708.000</td>\n",
       "    </tr>\n",
       "    <tr>\n",
       "      <th>mean</th>\n",
       "      <td>1,055,195.612</td>\n",
       "      <td>0.616</td>\n",
       "      <td>57,707.483</td>\n",
       "      <td>0.797</td>\n",
       "      <td>0.438</td>\n",
       "      <td>2.035</td>\n",
       "      <td>2.316</td>\n",
       "    </tr>\n",
       "    <tr>\n",
       "      <th>std</th>\n",
       "      <td>724,571.385</td>\n",
       "      <td>0.966</td>\n",
       "      <td>33,348.303</td>\n",
       "      <td>0.978</td>\n",
       "      <td>0.660</td>\n",
       "      <td>1.707</td>\n",
       "      <td>1.826</td>\n",
       "    </tr>\n",
       "    <tr>\n",
       "      <th>min</th>\n",
       "      <td>0.000</td>\n",
       "      <td>0.000</td>\n",
       "      <td>0.000</td>\n",
       "      <td>0.000</td>\n",
       "      <td>0.000</td>\n",
       "      <td>1.000</td>\n",
       "      <td>1.000</td>\n",
       "    </tr>\n",
       "    <tr>\n",
       "      <th>25%</th>\n",
       "      <td>637,353.500</td>\n",
       "      <td>0.000</td>\n",
       "      <td>36,000.000</td>\n",
       "      <td>0.000</td>\n",
       "      <td>0.000</td>\n",
       "      <td>1.000</td>\n",
       "      <td>1.000</td>\n",
       "    </tr>\n",
       "    <tr>\n",
       "      <th>50%</th>\n",
       "      <td>890,817.000</td>\n",
       "      <td>0.000</td>\n",
       "      <td>50,000.000</td>\n",
       "      <td>0.000</td>\n",
       "      <td>0.000</td>\n",
       "      <td>1.000</td>\n",
       "      <td>1.000</td>\n",
       "    </tr>\n",
       "    <tr>\n",
       "      <th>75%</th>\n",
       "      <td>1,568,333.500</td>\n",
       "      <td>1.000</td>\n",
       "      <td>70,000.000</td>\n",
       "      <td>1.000</td>\n",
       "      <td>1.000</td>\n",
       "      <td>4.000</td>\n",
       "      <td>5.000</td>\n",
       "    </tr>\n",
       "    <tr>\n",
       "      <th>max</th>\n",
       "      <td>2,703,454.000</td>\n",
       "      <td>11.000</td>\n",
       "      <td>200,000.000</td>\n",
       "      <td>9.000</td>\n",
       "      <td>6.000</td>\n",
       "      <td>5.000</td>\n",
       "      <td>5.000</td>\n",
       "    </tr>\n",
       "  </tbody>\n",
       "</table>\n",
       "</div>"
      ],
      "text/plain": [
       "            case_id  childnum_185L  mainoccupationinc_384A    num_group1  \\\n",
       "count 2,973,991.000      9,907.000           1,526,659.000 2,973,991.000   \n",
       "mean  1,055,195.612          0.616              57,707.483         0.797   \n",
       "std     724,571.385          0.966              33,348.303         0.978   \n",
       "min           0.000          0.000                   0.000         0.000   \n",
       "25%     637,353.500          0.000              36,000.000         0.000   \n",
       "50%     890,817.000          0.000              50,000.000         0.000   \n",
       "75%   1,568,333.500          1.000              70,000.000         1.000   \n",
       "max   2,703,454.000         11.000             200,000.000         9.000   \n",
       "\n",
       "       personindex_1023L  persontype_1072L  persontype_792L  \n",
       "count      2,331,708.000     2,967,874.000    2,331,708.000  \n",
       "mean               0.438             2.035            2.316  \n",
       "std                0.660             1.707            1.826  \n",
       "min                0.000             1.000            1.000  \n",
       "25%                0.000             1.000            1.000  \n",
       "50%                0.000             1.000            1.000  \n",
       "75%                1.000             4.000            5.000  \n",
       "max                6.000             5.000            5.000  "
      ]
     },
     "execution_count": 229,
     "metadata": {},
     "output_type": "execute_result"
    }
   ],
   "source": [
    "person_df_1_desc = describe_dataframe(person_df_1)\n",
    "person_df_1_desc"
   ]
  },
  {
   "cell_type": "code",
   "execution_count": 242,
   "metadata": {},
   "outputs": [
    {
     "data": {
      "text/html": [
       "<div>\n",
       "<style scoped>\n",
       "    .dataframe tbody tr th:only-of-type {\n",
       "        vertical-align: middle;\n",
       "    }\n",
       "\n",
       "    .dataframe tbody tr th {\n",
       "        vertical-align: top;\n",
       "    }\n",
       "\n",
       "    .dataframe thead th {\n",
       "        text-align: right;\n",
       "    }\n",
       "</style>\n",
       "<table border=\"1\" class=\"dataframe\">\n",
       "  <thead>\n",
       "    <tr style=\"text-align: right;\">\n",
       "      <th></th>\n",
       "      <th>case_id</th>\n",
       "      <th>birth_259D</th>\n",
       "      <th>birthdate_87D</th>\n",
       "      <th>maritalst_703L</th>\n",
       "      <th>familystate_447L</th>\n",
       "      <th>relationshiptoclient_415T</th>\n",
       "      <th>relationshiptoclient_642T</th>\n",
       "      <th>num_group1</th>\n",
       "      <th>persontype_1072L</th>\n",
       "      <th>personindex_1023L</th>\n",
       "      <th>persontype_792L</th>\n",
       "    </tr>\n",
       "  </thead>\n",
       "  <tbody>\n",
       "    <tr>\n",
       "      <th>0</th>\n",
       "      <td>0</td>\n",
       "      <td>1986-07-01</td>\n",
       "      <td>NaN</td>\n",
       "      <td>NaN</td>\n",
       "      <td>MARRIED</td>\n",
       "      <td>NaN</td>\n",
       "      <td>NaN</td>\n",
       "      <td>0</td>\n",
       "      <td>1.000</td>\n",
       "      <td>0.000</td>\n",
       "      <td>1.000</td>\n",
       "    </tr>\n",
       "    <tr>\n",
       "      <th>1</th>\n",
       "      <td>0</td>\n",
       "      <td>NaN</td>\n",
       "      <td>NaN</td>\n",
       "      <td>NaN</td>\n",
       "      <td>NaN</td>\n",
       "      <td>SPOUSE</td>\n",
       "      <td>NaN</td>\n",
       "      <td>1</td>\n",
       "      <td>1.000</td>\n",
       "      <td>1.000</td>\n",
       "      <td>4.000</td>\n",
       "    </tr>\n",
       "    <tr>\n",
       "      <th>2</th>\n",
       "      <td>0</td>\n",
       "      <td>NaN</td>\n",
       "      <td>NaN</td>\n",
       "      <td>NaN</td>\n",
       "      <td>NaN</td>\n",
       "      <td>COLLEAGUE</td>\n",
       "      <td>SPOUSE</td>\n",
       "      <td>2</td>\n",
       "      <td>4.000</td>\n",
       "      <td>2.000</td>\n",
       "      <td>5.000</td>\n",
       "    </tr>\n",
       "    <tr>\n",
       "      <th>3</th>\n",
       "      <td>0</td>\n",
       "      <td>NaN</td>\n",
       "      <td>NaN</td>\n",
       "      <td>NaN</td>\n",
       "      <td>NaN</td>\n",
       "      <td>NaN</td>\n",
       "      <td>COLLEAGUE</td>\n",
       "      <td>3</td>\n",
       "      <td>5.000</td>\n",
       "      <td>NaN</td>\n",
       "      <td>NaN</td>\n",
       "    </tr>\n",
       "    <tr>\n",
       "      <th>119</th>\n",
       "      <td>31</td>\n",
       "      <td>1972-07-01</td>\n",
       "      <td>NaN</td>\n",
       "      <td>NaN</td>\n",
       "      <td>MARRIED</td>\n",
       "      <td>NaN</td>\n",
       "      <td>NaN</td>\n",
       "      <td>0</td>\n",
       "      <td>1.000</td>\n",
       "      <td>0.000</td>\n",
       "      <td>1.000</td>\n",
       "    </tr>\n",
       "    <tr>\n",
       "      <th>120</th>\n",
       "      <td>31</td>\n",
       "      <td>NaN</td>\n",
       "      <td>NaN</td>\n",
       "      <td>NaN</td>\n",
       "      <td>NaN</td>\n",
       "      <td>CHILD</td>\n",
       "      <td>NaN</td>\n",
       "      <td>1</td>\n",
       "      <td>1.000</td>\n",
       "      <td>1.000</td>\n",
       "      <td>5.000</td>\n",
       "    </tr>\n",
       "    <tr>\n",
       "      <th>121</th>\n",
       "      <td>31</td>\n",
       "      <td>NaN</td>\n",
       "      <td>NaN</td>\n",
       "      <td>NaN</td>\n",
       "      <td>NaN</td>\n",
       "      <td>FRIEND</td>\n",
       "      <td>CHILD</td>\n",
       "      <td>2</td>\n",
       "      <td>5.000</td>\n",
       "      <td>2.000</td>\n",
       "      <td>5.000</td>\n",
       "    </tr>\n",
       "    <tr>\n",
       "      <th>122</th>\n",
       "      <td>31</td>\n",
       "      <td>NaN</td>\n",
       "      <td>NaN</td>\n",
       "      <td>NaN</td>\n",
       "      <td>NaN</td>\n",
       "      <td>NaN</td>\n",
       "      <td>FRIEND</td>\n",
       "      <td>3</td>\n",
       "      <td>5.000</td>\n",
       "      <td>NaN</td>\n",
       "      <td>NaN</td>\n",
       "    </tr>\n",
       "    <tr>\n",
       "      <th>356</th>\n",
       "      <td>97</td>\n",
       "      <td>1986-04-01</td>\n",
       "      <td>NaN</td>\n",
       "      <td>NaN</td>\n",
       "      <td>MARRIED</td>\n",
       "      <td>NaN</td>\n",
       "      <td>NaN</td>\n",
       "      <td>0</td>\n",
       "      <td>1.000</td>\n",
       "      <td>0.000</td>\n",
       "      <td>1.000</td>\n",
       "    </tr>\n",
       "    <tr>\n",
       "      <th>357</th>\n",
       "      <td>97</td>\n",
       "      <td>NaN</td>\n",
       "      <td>NaN</td>\n",
       "      <td>NaN</td>\n",
       "      <td>NaN</td>\n",
       "      <td>SPOUSE</td>\n",
       "      <td>NaN</td>\n",
       "      <td>1</td>\n",
       "      <td>1.000</td>\n",
       "      <td>1.000</td>\n",
       "      <td>4.000</td>\n",
       "    </tr>\n",
       "    <tr>\n",
       "      <th>358</th>\n",
       "      <td>97</td>\n",
       "      <td>NaN</td>\n",
       "      <td>NaN</td>\n",
       "      <td>NaN</td>\n",
       "      <td>NaN</td>\n",
       "      <td>FRIEND</td>\n",
       "      <td>SPOUSE</td>\n",
       "      <td>2</td>\n",
       "      <td>4.000</td>\n",
       "      <td>2.000</td>\n",
       "      <td>5.000</td>\n",
       "    </tr>\n",
       "    <tr>\n",
       "      <th>359</th>\n",
       "      <td>97</td>\n",
       "      <td>NaN</td>\n",
       "      <td>NaN</td>\n",
       "      <td>NaN</td>\n",
       "      <td>NaN</td>\n",
       "      <td>NaN</td>\n",
       "      <td>FRIEND</td>\n",
       "      <td>3</td>\n",
       "      <td>5.000</td>\n",
       "      <td>NaN</td>\n",
       "      <td>NaN</td>\n",
       "    </tr>\n",
       "    <tr>\n",
       "      <th>459</th>\n",
       "      <td>123</td>\n",
       "      <td>1951-10-01</td>\n",
       "      <td>NaN</td>\n",
       "      <td>NaN</td>\n",
       "      <td>WIDOWED</td>\n",
       "      <td>NaN</td>\n",
       "      <td>NaN</td>\n",
       "      <td>0</td>\n",
       "      <td>1.000</td>\n",
       "      <td>0.000</td>\n",
       "      <td>1.000</td>\n",
       "    </tr>\n",
       "    <tr>\n",
       "      <th>460</th>\n",
       "      <td>123</td>\n",
       "      <td>NaN</td>\n",
       "      <td>NaN</td>\n",
       "      <td>NaN</td>\n",
       "      <td>NaN</td>\n",
       "      <td>CHILD</td>\n",
       "      <td>CHILD</td>\n",
       "      <td>1</td>\n",
       "      <td>5.000</td>\n",
       "      <td>1.000</td>\n",
       "      <td>5.000</td>\n",
       "    </tr>\n",
       "    <tr>\n",
       "      <th>461</th>\n",
       "      <td>123</td>\n",
       "      <td>NaN</td>\n",
       "      <td>NaN</td>\n",
       "      <td>NaN</td>\n",
       "      <td>NaN</td>\n",
       "      <td>CHILD</td>\n",
       "      <td>CHILD</td>\n",
       "      <td>2</td>\n",
       "      <td>5.000</td>\n",
       "      <td>2.000</td>\n",
       "      <td>5.000</td>\n",
       "    </tr>\n",
       "    <tr>\n",
       "      <th>3309</th>\n",
       "      <td>913</td>\n",
       "      <td>1973-03-01</td>\n",
       "      <td>NaN</td>\n",
       "      <td>NaN</td>\n",
       "      <td>MARRIED</td>\n",
       "      <td>NaN</td>\n",
       "      <td>NaN</td>\n",
       "      <td>0</td>\n",
       "      <td>1.000</td>\n",
       "      <td>0.000</td>\n",
       "      <td>1.000</td>\n",
       "    </tr>\n",
       "    <tr>\n",
       "      <th>3310</th>\n",
       "      <td>913</td>\n",
       "      <td>NaN</td>\n",
       "      <td>NaN</td>\n",
       "      <td>NaN</td>\n",
       "      <td>NaN</td>\n",
       "      <td>CHILD</td>\n",
       "      <td>NaN</td>\n",
       "      <td>1</td>\n",
       "      <td>1.000</td>\n",
       "      <td>1.000</td>\n",
       "      <td>5.000</td>\n",
       "    </tr>\n",
       "    <tr>\n",
       "      <th>3311</th>\n",
       "      <td>913</td>\n",
       "      <td>NaN</td>\n",
       "      <td>NaN</td>\n",
       "      <td>NaN</td>\n",
       "      <td>NaN</td>\n",
       "      <td>NaN</td>\n",
       "      <td>CHILD</td>\n",
       "      <td>2</td>\n",
       "      <td>5.000</td>\n",
       "      <td>NaN</td>\n",
       "      <td>NaN</td>\n",
       "    </tr>\n",
       "  </tbody>\n",
       "</table>\n",
       "</div>"
      ],
      "text/plain": [
       "      case_id  birth_259D birthdate_87D maritalst_703L familystate_447L  \\\n",
       "0           0  1986-07-01           NaN            NaN          MARRIED   \n",
       "1           0         NaN           NaN            NaN              NaN   \n",
       "2           0         NaN           NaN            NaN              NaN   \n",
       "3           0         NaN           NaN            NaN              NaN   \n",
       "119        31  1972-07-01           NaN            NaN          MARRIED   \n",
       "120        31         NaN           NaN            NaN              NaN   \n",
       "121        31         NaN           NaN            NaN              NaN   \n",
       "122        31         NaN           NaN            NaN              NaN   \n",
       "356        97  1986-04-01           NaN            NaN          MARRIED   \n",
       "357        97         NaN           NaN            NaN              NaN   \n",
       "358        97         NaN           NaN            NaN              NaN   \n",
       "359        97         NaN           NaN            NaN              NaN   \n",
       "459       123  1951-10-01           NaN            NaN          WIDOWED   \n",
       "460       123         NaN           NaN            NaN              NaN   \n",
       "461       123         NaN           NaN            NaN              NaN   \n",
       "3309      913  1973-03-01           NaN            NaN          MARRIED   \n",
       "3310      913         NaN           NaN            NaN              NaN   \n",
       "3311      913         NaN           NaN            NaN              NaN   \n",
       "\n",
       "     relationshiptoclient_415T relationshiptoclient_642T  num_group1  \\\n",
       "0                          NaN                       NaN           0   \n",
       "1                       SPOUSE                       NaN           1   \n",
       "2                    COLLEAGUE                    SPOUSE           2   \n",
       "3                          NaN                 COLLEAGUE           3   \n",
       "119                        NaN                       NaN           0   \n",
       "120                      CHILD                       NaN           1   \n",
       "121                     FRIEND                     CHILD           2   \n",
       "122                        NaN                    FRIEND           3   \n",
       "356                        NaN                       NaN           0   \n",
       "357                     SPOUSE                       NaN           1   \n",
       "358                     FRIEND                    SPOUSE           2   \n",
       "359                        NaN                    FRIEND           3   \n",
       "459                        NaN                       NaN           0   \n",
       "460                      CHILD                     CHILD           1   \n",
       "461                      CHILD                     CHILD           2   \n",
       "3309                       NaN                       NaN           0   \n",
       "3310                     CHILD                       NaN           1   \n",
       "3311                       NaN                     CHILD           2   \n",
       "\n",
       "      persontype_1072L  personindex_1023L  persontype_792L  \n",
       "0                1.000              0.000            1.000  \n",
       "1                1.000              1.000            4.000  \n",
       "2                4.000              2.000            5.000  \n",
       "3                5.000                NaN              NaN  \n",
       "119              1.000              0.000            1.000  \n",
       "120              1.000              1.000            5.000  \n",
       "121              5.000              2.000            5.000  \n",
       "122              5.000                NaN              NaN  \n",
       "356              1.000              0.000            1.000  \n",
       "357              1.000              1.000            4.000  \n",
       "358              4.000              2.000            5.000  \n",
       "359              5.000                NaN              NaN  \n",
       "459              1.000              0.000            1.000  \n",
       "460              5.000              1.000            5.000  \n",
       "461              5.000              2.000            5.000  \n",
       "3309             1.000              0.000            1.000  \n",
       "3310             1.000              1.000            5.000  \n",
       "3311             5.000                NaN              NaN  "
      ]
     },
     "execution_count": 242,
     "metadata": {},
     "output_type": "execute_result"
    }
   ],
   "source": [
    "columns_of_interest = [\"case_id\", \"birth_259D\", \"birthdate_87D\", \"maritalst_703L\", \"familystate_447L\",\n",
    "                       \"relationshiptoclient_415T\", \"relationshiptoclient_642T\", \"num_group1\",\n",
    "                       \"persontype_1072L\", \"personindex_1023L\", \"persontype_792L\"]\n",
    "person_df_1.loc[person_df_1[\"case_id\"].isin([31, 97, 123, 913, 0]), columns_of_interest]"
   ]
  },
  {
   "cell_type": "markdown",
   "metadata": {},
   "source": [
    "Notes on person_df_1:\n",
    "* Basically each `case_id` represents individual cases with `num_group1` == 0, that is the applicants. Other values of `num_group1` with the same `case_id` are different individuals related to the applicants.\n",
    "* `relationshiptoclient_415T` and `relationshiptoclient_642T` are 2 different descriptions but not too sure what\n",
    "* potential features to be use:\n",
    "    * birth_259D -> get age in 2024\n",
    "    * mainoccupationinc_384A\n",
    "    * education_927M\n",
    "    * contaddr_district_15M\n",
    "    * contaddr_zipcode_807M\n",
    "    * incometype_1044T\n",
    "    * sex_738L\n",
    "    * language1_981M\n"
   ]
  },
  {
   "cell_type": "code",
   "execution_count": 247,
   "metadata": {},
   "outputs": [
    {
     "data": {
      "text/html": [
       "<div>\n",
       "<style scoped>\n",
       "    .dataframe tbody tr th:only-of-type {\n",
       "        vertical-align: middle;\n",
       "    }\n",
       "\n",
       "    .dataframe tbody tr th {\n",
       "        vertical-align: top;\n",
       "    }\n",
       "\n",
       "    .dataframe thead th {\n",
       "        text-align: right;\n",
       "    }\n",
       "</style>\n",
       "<table border=\"1\" class=\"dataframe\">\n",
       "  <thead>\n",
       "    <tr style=\"text-align: right;\">\n",
       "      <th></th>\n",
       "      <th>case_id</th>\n",
       "      <th>addres_district_368M</th>\n",
       "      <th>addres_role_871L</th>\n",
       "      <th>addres_zip_823M</th>\n",
       "      <th>conts_role_79M</th>\n",
       "      <th>empls_economicalst_849M</th>\n",
       "      <th>empls_employedfrom_796D</th>\n",
       "      <th>empls_employer_name_740M</th>\n",
       "      <th>num_group1</th>\n",
       "      <th>num_group2</th>\n",
       "      <th>relatedpersons_role_762T</th>\n",
       "    </tr>\n",
       "  </thead>\n",
       "  <tbody>\n",
       "    <tr>\n",
       "      <th>0</th>\n",
       "      <td>5</td>\n",
       "      <td>a55475b1</td>\n",
       "      <td>NaN</td>\n",
       "      <td>a55475b1</td>\n",
       "      <td>a55475b1</td>\n",
       "      <td>a55475b1</td>\n",
       "      <td>NaN</td>\n",
       "      <td>a55475b1</td>\n",
       "      <td>0</td>\n",
       "      <td>0</td>\n",
       "      <td>NaN</td>\n",
       "    </tr>\n",
       "    <tr>\n",
       "      <th>1</th>\n",
       "      <td>6</td>\n",
       "      <td>P55_110_32</td>\n",
       "      <td>CONTACT</td>\n",
       "      <td>P10_68_40</td>\n",
       "      <td>P38_92_157</td>\n",
       "      <td>P164_110_33</td>\n",
       "      <td>NaN</td>\n",
       "      <td>a55475b1</td>\n",
       "      <td>0</td>\n",
       "      <td>0</td>\n",
       "      <td>NaN</td>\n",
       "    </tr>\n",
       "    <tr>\n",
       "      <th>2</th>\n",
       "      <td>6</td>\n",
       "      <td>P55_110_32</td>\n",
       "      <td>PERMANENT</td>\n",
       "      <td>P10_68_40</td>\n",
       "      <td>a55475b1</td>\n",
       "      <td>a55475b1</td>\n",
       "      <td>NaN</td>\n",
       "      <td>a55475b1</td>\n",
       "      <td>0</td>\n",
       "      <td>1</td>\n",
       "      <td>NaN</td>\n",
       "    </tr>\n",
       "    <tr>\n",
       "      <th>3</th>\n",
       "      <td>6</td>\n",
       "      <td>P204_92_178</td>\n",
       "      <td>CONTACT</td>\n",
       "      <td>P65_136_169</td>\n",
       "      <td>P38_92_157</td>\n",
       "      <td>P164_110_33</td>\n",
       "      <td>NaN</td>\n",
       "      <td>a55475b1</td>\n",
       "      <td>1</td>\n",
       "      <td>0</td>\n",
       "      <td>OTHER_RELATIVE</td>\n",
       "    </tr>\n",
       "    <tr>\n",
       "      <th>4</th>\n",
       "      <td>6</td>\n",
       "      <td>P191_109_75</td>\n",
       "      <td>CONTACT</td>\n",
       "      <td>P10_68_40</td>\n",
       "      <td>P7_147_157</td>\n",
       "      <td>a55475b1</td>\n",
       "      <td>NaN</td>\n",
       "      <td>a55475b1</td>\n",
       "      <td>1</td>\n",
       "      <td>1</td>\n",
       "      <td>OTHER_RELATIVE</td>\n",
       "    </tr>\n",
       "  </tbody>\n",
       "</table>\n",
       "</div>"
      ],
      "text/plain": [
       "   case_id addres_district_368M addres_role_871L addres_zip_823M  \\\n",
       "0        5             a55475b1              NaN        a55475b1   \n",
       "1        6           P55_110_32          CONTACT       P10_68_40   \n",
       "2        6           P55_110_32        PERMANENT       P10_68_40   \n",
       "3        6          P204_92_178          CONTACT     P65_136_169   \n",
       "4        6          P191_109_75          CONTACT       P10_68_40   \n",
       "\n",
       "  conts_role_79M empls_economicalst_849M empls_employedfrom_796D  \\\n",
       "0       a55475b1                a55475b1                     NaN   \n",
       "1     P38_92_157             P164_110_33                     NaN   \n",
       "2       a55475b1                a55475b1                     NaN   \n",
       "3     P38_92_157             P164_110_33                     NaN   \n",
       "4     P7_147_157                a55475b1                     NaN   \n",
       "\n",
       "  empls_employer_name_740M  num_group1  num_group2 relatedpersons_role_762T  \n",
       "0                 a55475b1           0           0                      NaN  \n",
       "1                 a55475b1           0           0                      NaN  \n",
       "2                 a55475b1           0           1                      NaN  \n",
       "3                 a55475b1           1           0           OTHER_RELATIVE  \n",
       "4                 a55475b1           1           1           OTHER_RELATIVE  "
      ]
     },
     "execution_count": 247,
     "metadata": {},
     "output_type": "execute_result"
    }
   ],
   "source": [
    "person_df_2 = pd.read_csv(\"./csv_files/train/train_person_2.csv\")\n",
    "person_df_2.head(5)"
   ]
  },
  {
   "cell_type": "code",
   "execution_count": 248,
   "metadata": {},
   "outputs": [
    {
     "data": {
      "text/html": [
       "<div>\n",
       "<style scoped>\n",
       "    .dataframe tbody tr th:only-of-type {\n",
       "        vertical-align: middle;\n",
       "    }\n",
       "\n",
       "    .dataframe tbody tr th {\n",
       "        vertical-align: top;\n",
       "    }\n",
       "\n",
       "    .dataframe thead th {\n",
       "        text-align: right;\n",
       "    }\n",
       "</style>\n",
       "<table border=\"1\" class=\"dataframe\">\n",
       "  <thead>\n",
       "    <tr style=\"text-align: right;\">\n",
       "      <th></th>\n",
       "      <th>column_name</th>\n",
       "      <th>unique_count</th>\n",
       "      <th>nan_count</th>\n",
       "      <th>nan_percent</th>\n",
       "      <th>data_type</th>\n",
       "      <th>unique_entries</th>\n",
       "    </tr>\n",
       "  </thead>\n",
       "  <tbody>\n",
       "    <tr>\n",
       "      <th>0</th>\n",
       "      <td>case_id</td>\n",
       "      <td>1435105</td>\n",
       "      <td>0.000</td>\n",
       "      <td>0.000</td>\n",
       "      <td>int64</td>\n",
       "      <td>&gt;15 entries</td>\n",
       "    </tr>\n",
       "    <tr>\n",
       "      <th>8</th>\n",
       "      <td>num_group1</td>\n",
       "      <td>5</td>\n",
       "      <td>0.000</td>\n",
       "      <td>0.000</td>\n",
       "      <td>int64</td>\n",
       "      <td>[0, 1, 2, 3, 4]</td>\n",
       "    </tr>\n",
       "    <tr>\n",
       "      <th>9</th>\n",
       "      <td>num_group2</td>\n",
       "      <td>32</td>\n",
       "      <td>0.000</td>\n",
       "      <td>0.000</td>\n",
       "      <td>int64</td>\n",
       "      <td>&gt;15 entries</td>\n",
       "    </tr>\n",
       "    <tr>\n",
       "      <th>1</th>\n",
       "      <td>addres_district_368M</td>\n",
       "      <td>508</td>\n",
       "      <td>0.000</td>\n",
       "      <td>0.000</td>\n",
       "      <td>object</td>\n",
       "      <td>&gt;15 entries</td>\n",
       "    </tr>\n",
       "    <tr>\n",
       "      <th>3</th>\n",
       "      <td>addres_zip_823M</td>\n",
       "      <td>2027</td>\n",
       "      <td>0.000</td>\n",
       "      <td>0.000</td>\n",
       "      <td>object</td>\n",
       "      <td>&gt;15 entries</td>\n",
       "    </tr>\n",
       "    <tr>\n",
       "      <th>4</th>\n",
       "      <td>conts_role_79M</td>\n",
       "      <td>11</td>\n",
       "      <td>0.000</td>\n",
       "      <td>0.000</td>\n",
       "      <td>object</td>\n",
       "      <td>[a55475b1, P38_92_157, P7_147_157, P177_137_98...</td>\n",
       "    </tr>\n",
       "    <tr>\n",
       "      <th>5</th>\n",
       "      <td>empls_economicalst_849M</td>\n",
       "      <td>10</td>\n",
       "      <td>0.000</td>\n",
       "      <td>0.000</td>\n",
       "      <td>object</td>\n",
       "      <td>[a55475b1, P164_110_33, P22_131_138, P28_32_17...</td>\n",
       "    </tr>\n",
       "    <tr>\n",
       "      <th>7</th>\n",
       "      <td>empls_employer_name_740M</td>\n",
       "      <td>7153</td>\n",
       "      <td>0.000</td>\n",
       "      <td>0.000</td>\n",
       "      <td>object</td>\n",
       "      <td>&gt;15 entries</td>\n",
       "    </tr>\n",
       "    <tr>\n",
       "      <th>2</th>\n",
       "      <td>addres_role_871L</td>\n",
       "      <td>9</td>\n",
       "      <td>1,575,736.000</td>\n",
       "      <td>95.882</td>\n",
       "      <td>object</td>\n",
       "      <td>[nan, CONTACT, PERMANENT, TEMPORARY, REGISTERE...</td>\n",
       "    </tr>\n",
       "    <tr>\n",
       "      <th>10</th>\n",
       "      <td>relatedpersons_role_762T</td>\n",
       "      <td>11</td>\n",
       "      <td>1,614,684.000</td>\n",
       "      <td>98.252</td>\n",
       "      <td>object</td>\n",
       "      <td>[nan, OTHER_RELATIVE, PARENT, COLLEAGUE, FRIEN...</td>\n",
       "    </tr>\n",
       "    <tr>\n",
       "      <th>6</th>\n",
       "      <td>empls_employedfrom_796D</td>\n",
       "      <td>802</td>\n",
       "      <td>1,637,653.000</td>\n",
       "      <td>99.650</td>\n",
       "      <td>object</td>\n",
       "      <td>&gt;15 entries</td>\n",
       "    </tr>\n",
       "    <tr>\n",
       "      <th>11</th>\n",
       "      <td>this_df</td>\n",
       "      <td>1643410</td>\n",
       "      <td>NaN</td>\n",
       "      <td>NaN</td>\n",
       "      <td>NaN</td>\n",
       "      <td>NaN</td>\n",
       "    </tr>\n",
       "  </tbody>\n",
       "</table>\n",
       "</div>"
      ],
      "text/plain": [
       "                 column_name  unique_count     nan_count  nan_percent  \\\n",
       "0                    case_id       1435105         0.000        0.000   \n",
       "8                 num_group1             5         0.000        0.000   \n",
       "9                 num_group2            32         0.000        0.000   \n",
       "1       addres_district_368M           508         0.000        0.000   \n",
       "3            addres_zip_823M          2027         0.000        0.000   \n",
       "4             conts_role_79M            11         0.000        0.000   \n",
       "5    empls_economicalst_849M            10         0.000        0.000   \n",
       "7   empls_employer_name_740M          7153         0.000        0.000   \n",
       "2           addres_role_871L             9 1,575,736.000       95.882   \n",
       "10  relatedpersons_role_762T            11 1,614,684.000       98.252   \n",
       "6    empls_employedfrom_796D           802 1,637,653.000       99.650   \n",
       "11                   this_df       1643410           NaN          NaN   \n",
       "\n",
       "   data_type                                     unique_entries  \n",
       "0      int64                                        >15 entries  \n",
       "8      int64                                    [0, 1, 2, 3, 4]  \n",
       "9      int64                                        >15 entries  \n",
       "1     object                                        >15 entries  \n",
       "3     object                                        >15 entries  \n",
       "4     object  [a55475b1, P38_92_157, P7_147_157, P177_137_98...  \n",
       "5     object  [a55475b1, P164_110_33, P22_131_138, P28_32_17...  \n",
       "7     object                                        >15 entries  \n",
       "2     object  [nan, CONTACT, PERMANENT, TEMPORARY, REGISTERE...  \n",
       "10    object  [nan, OTHER_RELATIVE, PARENT, COLLEAGUE, FRIEN...  \n",
       "6     object                                        >15 entries  \n",
       "11       NaN                                                NaN  "
      ]
     },
     "execution_count": 248,
     "metadata": {},
     "output_type": "execute_result"
    }
   ],
   "source": [
    "person_df_2_summary = dataframe_summary(person_df_2, 15)\n",
    "person_df_2_summary"
   ]
  },
  {
   "cell_type": "markdown",
   "metadata": {},
   "source": [
    "Notes on person_df_2:\n",
    "* There are some intersection between `case_id` in person_df_1 and person_df_2. However, some `case_id` may only exist in either one of the tables\n",
    "* Potential features to be used:\n",
    "    * addres_district_368M\n",
    "    * addres_zip_823M\t\n",
    "    * conts_role_79M"
   ]
  },
  {
   "cell_type": "code",
   "execution_count": 29,
   "metadata": {},
   "outputs": [
    {
     "data": {
      "text/html": [
       "<div>\n",
       "<style scoped>\n",
       "    .dataframe tbody tr th:only-of-type {\n",
       "        vertical-align: middle;\n",
       "    }\n",
       "\n",
       "    .dataframe tbody tr th {\n",
       "        vertical-align: top;\n",
       "    }\n",
       "\n",
       "    .dataframe thead th {\n",
       "        text-align: right;\n",
       "    }\n",
       "</style>\n",
       "<table border=\"1\" class=\"dataframe\">\n",
       "  <thead>\n",
       "    <tr style=\"text-align: right;\">\n",
       "      <th></th>\n",
       "      <th>case_id</th>\n",
       "      <th>amount_416A</th>\n",
       "      <th>contractenddate_991D</th>\n",
       "      <th>num_group1</th>\n",
       "      <th>openingdate_313D</th>\n",
       "    </tr>\n",
       "  </thead>\n",
       "  <tbody>\n",
       "    <tr>\n",
       "      <th>0</th>\n",
       "      <td>225</td>\n",
       "      <td>0.00000</td>\n",
       "      <td>NaN</td>\n",
       "      <td>0</td>\n",
       "      <td>2016-08-16</td>\n",
       "    </tr>\n",
       "    <tr>\n",
       "      <th>1</th>\n",
       "      <td>331</td>\n",
       "      <td>260.37400</td>\n",
       "      <td>2018-03-18</td>\n",
       "      <td>0</td>\n",
       "      <td>2015-03-19</td>\n",
       "    </tr>\n",
       "    <tr>\n",
       "      <th>2</th>\n",
       "      <td>358</td>\n",
       "      <td>0.00000</td>\n",
       "      <td>NaN</td>\n",
       "      <td>0</td>\n",
       "      <td>2014-09-02</td>\n",
       "    </tr>\n",
       "    <tr>\n",
       "      <th>3</th>\n",
       "      <td>390</td>\n",
       "      <td>211748.53000</td>\n",
       "      <td>2017-07-22</td>\n",
       "      <td>0</td>\n",
       "      <td>2014-07-23</td>\n",
       "    </tr>\n",
       "    <tr>\n",
       "      <th>4</th>\n",
       "      <td>390</td>\n",
       "      <td>223.68001</td>\n",
       "      <td>NaN</td>\n",
       "      <td>2</td>\n",
       "      <td>2016-06-08</td>\n",
       "    </tr>\n",
       "    <tr>\n",
       "      <th>...</th>\n",
       "      <td>...</td>\n",
       "      <td>...</td>\n",
       "      <td>...</td>\n",
       "      <td>...</td>\n",
       "      <td>...</td>\n",
       "    </tr>\n",
       "    <tr>\n",
       "      <th>145081</th>\n",
       "      <td>2703430</td>\n",
       "      <td>22918.00600</td>\n",
       "      <td>NaN</td>\n",
       "      <td>8</td>\n",
       "      <td>2016-11-26</td>\n",
       "    </tr>\n",
       "    <tr>\n",
       "      <th>145082</th>\n",
       "      <td>2703430</td>\n",
       "      <td>0.00000</td>\n",
       "      <td>NaN</td>\n",
       "      <td>2</td>\n",
       "      <td>2014-02-14</td>\n",
       "    </tr>\n",
       "    <tr>\n",
       "      <th>145083</th>\n",
       "      <td>2703439</td>\n",
       "      <td>219.98401</td>\n",
       "      <td>NaN</td>\n",
       "      <td>0</td>\n",
       "      <td>2016-11-25</td>\n",
       "    </tr>\n",
       "    <tr>\n",
       "      <th>145084</th>\n",
       "      <td>2703453</td>\n",
       "      <td>44916.64500</td>\n",
       "      <td>2018-05-28</td>\n",
       "      <td>1</td>\n",
       "      <td>2015-05-29</td>\n",
       "    </tr>\n",
       "    <tr>\n",
       "      <th>145085</th>\n",
       "      <td>2703453</td>\n",
       "      <td>0.00000</td>\n",
       "      <td>NaN</td>\n",
       "      <td>0</td>\n",
       "      <td>2014-08-18</td>\n",
       "    </tr>\n",
       "  </tbody>\n",
       "</table>\n",
       "<p>145086 rows × 5 columns</p>\n",
       "</div>"
      ],
      "text/plain": [
       "        case_id   amount_416A contractenddate_991D  num_group1  \\\n",
       "0           225       0.00000                  NaN           0   \n",
       "1           331     260.37400           2018-03-18           0   \n",
       "2           358       0.00000                  NaN           0   \n",
       "3           390  211748.53000           2017-07-22           0   \n",
       "4           390     223.68001                  NaN           2   \n",
       "...         ...           ...                  ...         ...   \n",
       "145081  2703430   22918.00600                  NaN           8   \n",
       "145082  2703430       0.00000                  NaN           2   \n",
       "145083  2703439     219.98401                  NaN           0   \n",
       "145084  2703453   44916.64500           2018-05-28           1   \n",
       "145085  2703453       0.00000                  NaN           0   \n",
       "\n",
       "       openingdate_313D  \n",
       "0            2016-08-16  \n",
       "1            2015-03-19  \n",
       "2            2014-09-02  \n",
       "3            2014-07-23  \n",
       "4            2016-06-08  \n",
       "...                 ...  \n",
       "145081       2016-11-26  \n",
       "145082       2014-02-14  \n",
       "145083       2016-11-25  \n",
       "145084       2015-05-29  \n",
       "145085       2014-08-18  \n",
       "\n",
       "[145086 rows x 5 columns]"
      ]
     },
     "execution_count": 29,
     "metadata": {},
     "output_type": "execute_result"
    }
   ],
   "source": [
    "deposit_df = pd.read_csv(\"./csv_files/train/train_deposit_1.csv\")\n",
    "deposit_df"
   ]
  },
  {
   "cell_type": "code",
   "execution_count": 38,
   "metadata": {},
   "outputs": [
    {
     "data": {
      "text/html": [
       "<div>\n",
       "<style scoped>\n",
       "    .dataframe tbody tr th:only-of-type {\n",
       "        vertical-align: middle;\n",
       "    }\n",
       "\n",
       "    .dataframe tbody tr th {\n",
       "        vertical-align: top;\n",
       "    }\n",
       "\n",
       "    .dataframe thead th {\n",
       "        text-align: right;\n",
       "    }\n",
       "</style>\n",
       "<table border=\"1\" class=\"dataframe\">\n",
       "  <thead>\n",
       "    <tr style=\"text-align: right;\">\n",
       "      <th></th>\n",
       "      <th>column_name</th>\n",
       "      <th>unique_count</th>\n",
       "      <th>nan_count</th>\n",
       "      <th>nan_percent</th>\n",
       "      <th>data_type</th>\n",
       "      <th>unique_entries</th>\n",
       "    </tr>\n",
       "  </thead>\n",
       "  <tbody>\n",
       "    <tr>\n",
       "      <th>0</th>\n",
       "      <td>case_id</td>\n",
       "      <td>105111</td>\n",
       "      <td>0.0</td>\n",
       "      <td>0.00000</td>\n",
       "      <td>int64</td>\n",
       "      <td>&gt;15 entries</td>\n",
       "    </tr>\n",
       "    <tr>\n",
       "      <th>3</th>\n",
       "      <td>num_group1</td>\n",
       "      <td>65</td>\n",
       "      <td>0.0</td>\n",
       "      <td>0.00000</td>\n",
       "      <td>int64</td>\n",
       "      <td>&gt;15 entries</td>\n",
       "    </tr>\n",
       "    <tr>\n",
       "      <th>1</th>\n",
       "      <td>amount_416A</td>\n",
       "      <td>40724</td>\n",
       "      <td>0.0</td>\n",
       "      <td>0.00000</td>\n",
       "      <td>float64</td>\n",
       "      <td>&gt;15 entries</td>\n",
       "    </tr>\n",
       "    <tr>\n",
       "      <th>4</th>\n",
       "      <td>openingdate_313D</td>\n",
       "      <td>1579</td>\n",
       "      <td>0.0</td>\n",
       "      <td>0.00000</td>\n",
       "      <td>object</td>\n",
       "      <td>&gt;15 entries</td>\n",
       "    </tr>\n",
       "    <tr>\n",
       "      <th>2</th>\n",
       "      <td>contractenddate_991D</td>\n",
       "      <td>1525</td>\n",
       "      <td>79682.0</td>\n",
       "      <td>54.92053</td>\n",
       "      <td>object</td>\n",
       "      <td>&gt;15 entries</td>\n",
       "    </tr>\n",
       "    <tr>\n",
       "      <th>5</th>\n",
       "      <td>this_df</td>\n",
       "      <td>145086</td>\n",
       "      <td>NaN</td>\n",
       "      <td>NaN</td>\n",
       "      <td>NaN</td>\n",
       "      <td>NaN</td>\n",
       "    </tr>\n",
       "  </tbody>\n",
       "</table>\n",
       "</div>"
      ],
      "text/plain": [
       "            column_name  unique_count  nan_count  nan_percent data_type  \\\n",
       "0               case_id        105111        0.0      0.00000     int64   \n",
       "3            num_group1            65        0.0      0.00000     int64   \n",
       "1           amount_416A         40724        0.0      0.00000   float64   \n",
       "4      openingdate_313D          1579        0.0      0.00000    object   \n",
       "2  contractenddate_991D          1525    79682.0     54.92053    object   \n",
       "5               this_df        145086        NaN          NaN       NaN   \n",
       "\n",
       "  unique_entries  \n",
       "0    >15 entries  \n",
       "3    >15 entries  \n",
       "1    >15 entries  \n",
       "4    >15 entries  \n",
       "2    >15 entries  \n",
       "5            NaN  "
      ]
     },
     "execution_count": 38,
     "metadata": {},
     "output_type": "execute_result"
    }
   ],
   "source": [
    "deposit_summary = dataframe_summary(deposit_df, 15)\n",
    "deposit_summary"
   ]
  },
  {
   "cell_type": "code",
   "execution_count": 39,
   "metadata": {},
   "outputs": [
    {
     "data": {
      "text/html": [
       "<div>\n",
       "<style scoped>\n",
       "    .dataframe tbody tr th:only-of-type {\n",
       "        vertical-align: middle;\n",
       "    }\n",
       "\n",
       "    .dataframe tbody tr th {\n",
       "        vertical-align: top;\n",
       "    }\n",
       "\n",
       "    .dataframe thead th {\n",
       "        text-align: right;\n",
       "    }\n",
       "</style>\n",
       "<table border=\"1\" class=\"dataframe\">\n",
       "  <thead>\n",
       "    <tr style=\"text-align: right;\">\n",
       "      <th></th>\n",
       "      <th>case_id</th>\n",
       "      <th>amount_416A</th>\n",
       "      <th>num_group1</th>\n",
       "    </tr>\n",
       "  </thead>\n",
       "  <tbody>\n",
       "    <tr>\n",
       "      <th>count</th>\n",
       "      <td>145,086.000</td>\n",
       "      <td>145,086.000</td>\n",
       "      <td>145,086.000</td>\n",
       "    </tr>\n",
       "    <tr>\n",
       "      <th>mean</th>\n",
       "      <td>1,466,214.050</td>\n",
       "      <td>8,422.304</td>\n",
       "      <td>0.523</td>\n",
       "    </tr>\n",
       "    <tr>\n",
       "      <th>std</th>\n",
       "      <td>886,528.959</td>\n",
       "      <td>86,232.120</td>\n",
       "      <td>1.621</td>\n",
       "    </tr>\n",
       "    <tr>\n",
       "      <th>min</th>\n",
       "      <td>225.000</td>\n",
       "      <td>-40,000.000</td>\n",
       "      <td>0.000</td>\n",
       "    </tr>\n",
       "    <tr>\n",
       "      <th>25%</th>\n",
       "      <td>660,041.000</td>\n",
       "      <td>0.000</td>\n",
       "      <td>0.000</td>\n",
       "    </tr>\n",
       "    <tr>\n",
       "      <th>50%</th>\n",
       "      <td>1,556,939.000</td>\n",
       "      <td>223.658</td>\n",
       "      <td>0.000</td>\n",
       "    </tr>\n",
       "    <tr>\n",
       "      <th>75%</th>\n",
       "      <td>2,530,539.000</td>\n",
       "      <td>478.340</td>\n",
       "      <td>1.000</td>\n",
       "    </tr>\n",
       "    <tr>\n",
       "      <th>max</th>\n",
       "      <td>2,703,453.000</td>\n",
       "      <td>12,213,286.000</td>\n",
       "      <td>64.000</td>\n",
       "    </tr>\n",
       "  </tbody>\n",
       "</table>\n",
       "</div>"
      ],
      "text/plain": [
       "            case_id    amount_416A  num_group1\n",
       "count   145,086.000    145,086.000 145,086.000\n",
       "mean  1,466,214.050      8,422.304       0.523\n",
       "std     886,528.959     86,232.120       1.621\n",
       "min         225.000    -40,000.000       0.000\n",
       "25%     660,041.000          0.000       0.000\n",
       "50%   1,556,939.000        223.658       0.000\n",
       "75%   2,530,539.000        478.340       1.000\n",
       "max   2,703,453.000 12,213,286.000      64.000"
      ]
     },
     "execution_count": 39,
     "metadata": {},
     "output_type": "execute_result"
    }
   ],
   "source": [
    "deposit_desc = describe_dataframe(deposit_df)\n",
    "deposit_desc"
   ]
  },
  {
   "cell_type": "code",
   "execution_count": 30,
   "metadata": {},
   "outputs": [
    {
     "data": {
      "text/html": [
       "<div>\n",
       "<style scoped>\n",
       "    .dataframe tbody tr th:only-of-type {\n",
       "        vertical-align: middle;\n",
       "    }\n",
       "\n",
       "    .dataframe tbody tr th {\n",
       "        vertical-align: top;\n",
       "    }\n",
       "\n",
       "    .dataframe thead th {\n",
       "        text-align: right;\n",
       "    }\n",
       "</style>\n",
       "<table border=\"1\" class=\"dataframe\">\n",
       "  <thead>\n",
       "    <tr style=\"text-align: right;\">\n",
       "      <th></th>\n",
       "      <th></th>\n",
       "      <th>amount_416A</th>\n",
       "      <th>contractenddate_991D</th>\n",
       "      <th>openingdate_313D</th>\n",
       "    </tr>\n",
       "    <tr>\n",
       "      <th>case_id</th>\n",
       "      <th>num_group1</th>\n",
       "      <th></th>\n",
       "      <th></th>\n",
       "      <th></th>\n",
       "    </tr>\n",
       "  </thead>\n",
       "  <tbody>\n",
       "    <tr>\n",
       "      <th>225</th>\n",
       "      <th>0</th>\n",
       "      <td>1</td>\n",
       "      <td>0</td>\n",
       "      <td>1</td>\n",
       "    </tr>\n",
       "    <tr>\n",
       "      <th>331</th>\n",
       "      <th>0</th>\n",
       "      <td>1</td>\n",
       "      <td>1</td>\n",
       "      <td>1</td>\n",
       "    </tr>\n",
       "    <tr>\n",
       "      <th>358</th>\n",
       "      <th>0</th>\n",
       "      <td>1</td>\n",
       "      <td>0</td>\n",
       "      <td>1</td>\n",
       "    </tr>\n",
       "    <tr>\n",
       "      <th rowspan=\"2\" valign=\"top\">390</th>\n",
       "      <th>0</th>\n",
       "      <td>1</td>\n",
       "      <td>1</td>\n",
       "      <td>1</td>\n",
       "    </tr>\n",
       "    <tr>\n",
       "      <th>1</th>\n",
       "      <td>1</td>\n",
       "      <td>1</td>\n",
       "      <td>1</td>\n",
       "    </tr>\n",
       "    <tr>\n",
       "      <th>...</th>\n",
       "      <th>...</th>\n",
       "      <td>...</td>\n",
       "      <td>...</td>\n",
       "      <td>...</td>\n",
       "    </tr>\n",
       "    <tr>\n",
       "      <th rowspan=\"2\" valign=\"top\">2703430</th>\n",
       "      <th>7</th>\n",
       "      <td>1</td>\n",
       "      <td>0</td>\n",
       "      <td>1</td>\n",
       "    </tr>\n",
       "    <tr>\n",
       "      <th>8</th>\n",
       "      <td>1</td>\n",
       "      <td>0</td>\n",
       "      <td>1</td>\n",
       "    </tr>\n",
       "    <tr>\n",
       "      <th>2703439</th>\n",
       "      <th>0</th>\n",
       "      <td>1</td>\n",
       "      <td>0</td>\n",
       "      <td>1</td>\n",
       "    </tr>\n",
       "    <tr>\n",
       "      <th rowspan=\"2\" valign=\"top\">2703453</th>\n",
       "      <th>0</th>\n",
       "      <td>1</td>\n",
       "      <td>0</td>\n",
       "      <td>1</td>\n",
       "    </tr>\n",
       "    <tr>\n",
       "      <th>1</th>\n",
       "      <td>1</td>\n",
       "      <td>1</td>\n",
       "      <td>1</td>\n",
       "    </tr>\n",
       "  </tbody>\n",
       "</table>\n",
       "<p>145086 rows × 3 columns</p>\n",
       "</div>"
      ],
      "text/plain": [
       "                    amount_416A  contractenddate_991D  openingdate_313D\n",
       "case_id num_group1                                                     \n",
       "225     0                     1                     0                 1\n",
       "331     0                     1                     1                 1\n",
       "358     0                     1                     0                 1\n",
       "390     0                     1                     1                 1\n",
       "        1                     1                     1                 1\n",
       "...                         ...                   ...               ...\n",
       "2703430 7                     1                     0                 1\n",
       "        8                     1                     0                 1\n",
       "2703439 0                     1                     0                 1\n",
       "2703453 0                     1                     0                 1\n",
       "        1                     1                     1                 1\n",
       "\n",
       "[145086 rows x 3 columns]"
      ]
     },
     "execution_count": 30,
     "metadata": {},
     "output_type": "execute_result"
    }
   ],
   "source": [
    "deposit_df.groupby([\"case_id\", \"num_group1\"]).count()"
   ]
  },
  {
   "cell_type": "code",
   "execution_count": 34,
   "metadata": {},
   "outputs": [
    {
     "data": {
      "text/html": [
       "<div>\n",
       "<style scoped>\n",
       "    .dataframe tbody tr th:only-of-type {\n",
       "        vertical-align: middle;\n",
       "    }\n",
       "\n",
       "    .dataframe tbody tr th {\n",
       "        vertical-align: top;\n",
       "    }\n",
       "\n",
       "    .dataframe thead th {\n",
       "        text-align: right;\n",
       "    }\n",
       "</style>\n",
       "<table border=\"1\" class=\"dataframe\">\n",
       "  <thead>\n",
       "    <tr style=\"text-align: right;\">\n",
       "      <th></th>\n",
       "      <th>case_id</th>\n",
       "      <th>amount_416A</th>\n",
       "      <th>contractenddate_991D</th>\n",
       "      <th>num_group1</th>\n",
       "      <th>openingdate_313D</th>\n",
       "    </tr>\n",
       "  </thead>\n",
       "  <tbody>\n",
       "    <tr>\n",
       "      <th>145076</th>\n",
       "      <td>2703430</td>\n",
       "      <td>0.000</td>\n",
       "      <td>NaN</td>\n",
       "      <td>1</td>\n",
       "      <td>2013-09-02</td>\n",
       "    </tr>\n",
       "    <tr>\n",
       "      <th>145082</th>\n",
       "      <td>2703430</td>\n",
       "      <td>0.000</td>\n",
       "      <td>NaN</td>\n",
       "      <td>2</td>\n",
       "      <td>2014-02-14</td>\n",
       "    </tr>\n",
       "    <tr>\n",
       "      <th>145079</th>\n",
       "      <td>2703430</td>\n",
       "      <td>0.000</td>\n",
       "      <td>NaN</td>\n",
       "      <td>0</td>\n",
       "      <td>2015-02-13</td>\n",
       "    </tr>\n",
       "    <tr>\n",
       "      <th>145075</th>\n",
       "      <td>2703430</td>\n",
       "      <td>0.000</td>\n",
       "      <td>NaN</td>\n",
       "      <td>4</td>\n",
       "      <td>2015-03-19</td>\n",
       "    </tr>\n",
       "    <tr>\n",
       "      <th>145078</th>\n",
       "      <td>2703430</td>\n",
       "      <td>0.000</td>\n",
       "      <td>NaN</td>\n",
       "      <td>3</td>\n",
       "      <td>2015-03-19</td>\n",
       "    </tr>\n",
       "    <tr>\n",
       "      <th>145080</th>\n",
       "      <td>2703430</td>\n",
       "      <td>0.000</td>\n",
       "      <td>NaN</td>\n",
       "      <td>5</td>\n",
       "      <td>2015-08-25</td>\n",
       "    </tr>\n",
       "    <tr>\n",
       "      <th>145074</th>\n",
       "      <td>2703430</td>\n",
       "      <td>0.000</td>\n",
       "      <td>NaN</td>\n",
       "      <td>6</td>\n",
       "      <td>2015-12-11</td>\n",
       "    </tr>\n",
       "    <tr>\n",
       "      <th>145077</th>\n",
       "      <td>2703430</td>\n",
       "      <td>0.000</td>\n",
       "      <td>NaN</td>\n",
       "      <td>7</td>\n",
       "      <td>2016-02-25</td>\n",
       "    </tr>\n",
       "    <tr>\n",
       "      <th>145081</th>\n",
       "      <td>2703430</td>\n",
       "      <td>22918.006</td>\n",
       "      <td>NaN</td>\n",
       "      <td>8</td>\n",
       "      <td>2016-11-26</td>\n",
       "    </tr>\n",
       "  </tbody>\n",
       "</table>\n",
       "</div>"
      ],
      "text/plain": [
       "        case_id  amount_416A contractenddate_991D  num_group1 openingdate_313D\n",
       "145076  2703430        0.000                  NaN           1       2013-09-02\n",
       "145082  2703430        0.000                  NaN           2       2014-02-14\n",
       "145079  2703430        0.000                  NaN           0       2015-02-13\n",
       "145075  2703430        0.000                  NaN           4       2015-03-19\n",
       "145078  2703430        0.000                  NaN           3       2015-03-19\n",
       "145080  2703430        0.000                  NaN           5       2015-08-25\n",
       "145074  2703430        0.000                  NaN           6       2015-12-11\n",
       "145077  2703430        0.000                  NaN           7       2016-02-25\n",
       "145081  2703430    22918.006                  NaN           8       2016-11-26"
      ]
     },
     "execution_count": 34,
     "metadata": {},
     "output_type": "execute_result"
    }
   ],
   "source": [
    "deposit_df[deposit_df[\"case_id\"]==2703430].sort_values(\"openingdate_313D\")"
   ]
  },
  {
   "cell_type": "code",
   "execution_count": 32,
   "metadata": {},
   "outputs": [
    {
     "data": {
      "text/html": [
       "<div>\n",
       "<style scoped>\n",
       "    .dataframe tbody tr th:only-of-type {\n",
       "        vertical-align: middle;\n",
       "    }\n",
       "\n",
       "    .dataframe tbody tr th {\n",
       "        vertical-align: top;\n",
       "    }\n",
       "\n",
       "    .dataframe thead th {\n",
       "        text-align: right;\n",
       "    }\n",
       "</style>\n",
       "<table border=\"1\" class=\"dataframe\">\n",
       "  <thead>\n",
       "    <tr style=\"text-align: right;\">\n",
       "      <th></th>\n",
       "      <th>case_id</th>\n",
       "      <th>date_decision</th>\n",
       "      <th>MONTH</th>\n",
       "      <th>WEEK_NUM</th>\n",
       "      <th>target</th>\n",
       "    </tr>\n",
       "  </thead>\n",
       "  <tbody>\n",
       "    <tr>\n",
       "      <th>1526635</th>\n",
       "      <td>2703430</td>\n",
       "      <td>2020-10-05</td>\n",
       "      <td>202010</td>\n",
       "      <td>91</td>\n",
       "      <td>0</td>\n",
       "    </tr>\n",
       "  </tbody>\n",
       "</table>\n",
       "</div>"
      ],
      "text/plain": [
       "         case_id date_decision   MONTH  WEEK_NUM  target\n",
       "1526635  2703430    2020-10-05  202010        91       0"
      ]
     },
     "execution_count": 32,
     "metadata": {},
     "output_type": "execute_result"
    }
   ],
   "source": [
    "base_df[base_df[\"case_id\"]==2703430]"
   ]
  },
  {
   "cell_type": "code",
   "execution_count": 42,
   "metadata": {},
   "outputs": [
    {
     "name": "stderr",
     "output_type": "stream",
     "text": [
      "/var/folders/pq/7mcbx8c97t90g8y2_ns4gjkr0000gn/T/ipykernel_39845/739880207.py:1: DtypeWarning:\n",
      "\n",
      "Columns (27) have mixed types. Specify dtype option on import or set low_memory=False.\n",
      "\n"
     ]
    },
    {
     "data": {
      "text/html": [
       "<div>\n",
       "<style scoped>\n",
       "    .dataframe tbody tr th:only-of-type {\n",
       "        vertical-align: middle;\n",
       "    }\n",
       "\n",
       "    .dataframe tbody tr th {\n",
       "        vertical-align: top;\n",
       "    }\n",
       "\n",
       "    .dataframe thead th {\n",
       "        text-align: right;\n",
       "    }\n",
       "</style>\n",
       "<table border=\"1\" class=\"dataframe\">\n",
       "  <thead>\n",
       "    <tr style=\"text-align: right;\">\n",
       "      <th></th>\n",
       "      <th>case_id</th>\n",
       "      <th>actualdpd_943P</th>\n",
       "      <th>annuity_853A</th>\n",
       "      <th>approvaldate_319D</th>\n",
       "      <th>byoccupationinc_3656910L</th>\n",
       "      <th>cancelreason_3545846M</th>\n",
       "      <th>childnum_21L</th>\n",
       "      <th>creationdate_885D</th>\n",
       "      <th>credacc_actualbalance_314A</th>\n",
       "      <th>credacc_credlmt_575A</th>\n",
       "      <th>...</th>\n",
       "      <th>num_group1</th>\n",
       "      <th>outstandingdebt_522A</th>\n",
       "      <th>pmtnum_8L</th>\n",
       "      <th>postype_4733339M</th>\n",
       "      <th>profession_152M</th>\n",
       "      <th>rejectreason_755M</th>\n",
       "      <th>rejectreasonclient_4145042M</th>\n",
       "      <th>revolvingaccount_394A</th>\n",
       "      <th>status_219L</th>\n",
       "      <th>tenor_203L</th>\n",
       "    </tr>\n",
       "  </thead>\n",
       "  <tbody>\n",
       "    <tr>\n",
       "      <th>0</th>\n",
       "      <td>2</td>\n",
       "      <td>0.000</td>\n",
       "      <td>640.200</td>\n",
       "      <td>NaN</td>\n",
       "      <td>NaN</td>\n",
       "      <td>a55475b1</td>\n",
       "      <td>0.000</td>\n",
       "      <td>2013-04-03</td>\n",
       "      <td>NaN</td>\n",
       "      <td>0.000</td>\n",
       "      <td>...</td>\n",
       "      <td>0</td>\n",
       "      <td>NaN</td>\n",
       "      <td>24.000</td>\n",
       "      <td>a55475b1</td>\n",
       "      <td>a55475b1</td>\n",
       "      <td>a55475b1</td>\n",
       "      <td>a55475b1</td>\n",
       "      <td>NaN</td>\n",
       "      <td>D</td>\n",
       "      <td>24.000</td>\n",
       "    </tr>\n",
       "    <tr>\n",
       "      <th>1</th>\n",
       "      <td>2</td>\n",
       "      <td>0.000</td>\n",
       "      <td>1,682.400</td>\n",
       "      <td>NaN</td>\n",
       "      <td>NaN</td>\n",
       "      <td>a55475b1</td>\n",
       "      <td>0.000</td>\n",
       "      <td>2013-04-03</td>\n",
       "      <td>NaN</td>\n",
       "      <td>0.000</td>\n",
       "      <td>...</td>\n",
       "      <td>1</td>\n",
       "      <td>NaN</td>\n",
       "      <td>12.000</td>\n",
       "      <td>a55475b1</td>\n",
       "      <td>a55475b1</td>\n",
       "      <td>a55475b1</td>\n",
       "      <td>a55475b1</td>\n",
       "      <td>NaN</td>\n",
       "      <td>D</td>\n",
       "      <td>12.000</td>\n",
       "    </tr>\n",
       "    <tr>\n",
       "      <th>2</th>\n",
       "      <td>3</td>\n",
       "      <td>0.000</td>\n",
       "      <td>6,140.000</td>\n",
       "      <td>NaN</td>\n",
       "      <td>NaN</td>\n",
       "      <td>P94_109_143</td>\n",
       "      <td>NaN</td>\n",
       "      <td>2019-01-07</td>\n",
       "      <td>NaN</td>\n",
       "      <td>0.000</td>\n",
       "      <td>...</td>\n",
       "      <td>0</td>\n",
       "      <td>NaN</td>\n",
       "      <td>12.000</td>\n",
       "      <td>a55475b1</td>\n",
       "      <td>a55475b1</td>\n",
       "      <td>P94_109_143</td>\n",
       "      <td>a55475b1</td>\n",
       "      <td>NaN</td>\n",
       "      <td>D</td>\n",
       "      <td>12.000</td>\n",
       "    </tr>\n",
       "    <tr>\n",
       "      <th>3</th>\n",
       "      <td>4</td>\n",
       "      <td>0.000</td>\n",
       "      <td>2,556.600</td>\n",
       "      <td>NaN</td>\n",
       "      <td>NaN</td>\n",
       "      <td>P24_27_36</td>\n",
       "      <td>NaN</td>\n",
       "      <td>2019-01-08</td>\n",
       "      <td>NaN</td>\n",
       "      <td>0.000</td>\n",
       "      <td>...</td>\n",
       "      <td>0</td>\n",
       "      <td>NaN</td>\n",
       "      <td>24.000</td>\n",
       "      <td>a55475b1</td>\n",
       "      <td>a55475b1</td>\n",
       "      <td>a55475b1</td>\n",
       "      <td>a55475b1</td>\n",
       "      <td>NaN</td>\n",
       "      <td>T</td>\n",
       "      <td>24.000</td>\n",
       "    </tr>\n",
       "    <tr>\n",
       "      <th>4</th>\n",
       "      <td>5</td>\n",
       "      <td>0.000</td>\n",
       "      <td>NaN</td>\n",
       "      <td>NaN</td>\n",
       "      <td>NaN</td>\n",
       "      <td>P85_114_140</td>\n",
       "      <td>NaN</td>\n",
       "      <td>2019-01-16</td>\n",
       "      <td>NaN</td>\n",
       "      <td>NaN</td>\n",
       "      <td>...</td>\n",
       "      <td>0</td>\n",
       "      <td>NaN</td>\n",
       "      <td>NaN</td>\n",
       "      <td>a55475b1</td>\n",
       "      <td>a55475b1</td>\n",
       "      <td>a55475b1</td>\n",
       "      <td>a55475b1</td>\n",
       "      <td>NaN</td>\n",
       "      <td>T</td>\n",
       "      <td>NaN</td>\n",
       "    </tr>\n",
       "    <tr>\n",
       "      <th>...</th>\n",
       "      <td>...</td>\n",
       "      <td>...</td>\n",
       "      <td>...</td>\n",
       "      <td>...</td>\n",
       "      <td>...</td>\n",
       "      <td>...</td>\n",
       "      <td>...</td>\n",
       "      <td>...</td>\n",
       "      <td>...</td>\n",
       "      <td>...</td>\n",
       "      <td>...</td>\n",
       "      <td>...</td>\n",
       "      <td>...</td>\n",
       "      <td>...</td>\n",
       "      <td>...</td>\n",
       "      <td>...</td>\n",
       "      <td>...</td>\n",
       "      <td>...</td>\n",
       "      <td>...</td>\n",
       "      <td>...</td>\n",
       "      <td>...</td>\n",
       "    </tr>\n",
       "    <tr>\n",
       "      <th>3887679</th>\n",
       "      <td>2651092</td>\n",
       "      <td>0.000</td>\n",
       "      <td>0.000</td>\n",
       "      <td>NaN</td>\n",
       "      <td>NaN</td>\n",
       "      <td>P94_109_143</td>\n",
       "      <td>NaN</td>\n",
       "      <td>2018-05-04</td>\n",
       "      <td>NaN</td>\n",
       "      <td>100,000.000</td>\n",
       "      <td>...</td>\n",
       "      <td>3</td>\n",
       "      <td>NaN</td>\n",
       "      <td>NaN</td>\n",
       "      <td>P46_145_78</td>\n",
       "      <td>a55475b1</td>\n",
       "      <td>P99_56_166</td>\n",
       "      <td>P94_109_143</td>\n",
       "      <td>NaN</td>\n",
       "      <td>D</td>\n",
       "      <td>NaN</td>\n",
       "    </tr>\n",
       "    <tr>\n",
       "      <th>3887680</th>\n",
       "      <td>2651092</td>\n",
       "      <td>0.000</td>\n",
       "      <td>4,366.000</td>\n",
       "      <td>2017-11-09</td>\n",
       "      <td>NaN</td>\n",
       "      <td>a55475b1</td>\n",
       "      <td>NaN</td>\n",
       "      <td>2017-11-09</td>\n",
       "      <td>NaN</td>\n",
       "      <td>0.000</td>\n",
       "      <td>...</td>\n",
       "      <td>4</td>\n",
       "      <td>0.000</td>\n",
       "      <td>5.000</td>\n",
       "      <td>P60_146_156</td>\n",
       "      <td>a55475b1</td>\n",
       "      <td>a55475b1</td>\n",
       "      <td>a55475b1</td>\n",
       "      <td>NaN</td>\n",
       "      <td>K</td>\n",
       "      <td>5.000</td>\n",
       "    </tr>\n",
       "    <tr>\n",
       "      <th>3887681</th>\n",
       "      <td>2651092</td>\n",
       "      <td>0.000</td>\n",
       "      <td>2,632.200</td>\n",
       "      <td>2015-12-11</td>\n",
       "      <td>1.000</td>\n",
       "      <td>a55475b1</td>\n",
       "      <td>1.000</td>\n",
       "      <td>2015-12-11</td>\n",
       "      <td>NaN</td>\n",
       "      <td>0.000</td>\n",
       "      <td>...</td>\n",
       "      <td>5</td>\n",
       "      <td>0.000</td>\n",
       "      <td>14.000</td>\n",
       "      <td>P46_145_78</td>\n",
       "      <td>a55475b1</td>\n",
       "      <td>a55475b1</td>\n",
       "      <td>a55475b1</td>\n",
       "      <td>NaN</td>\n",
       "      <td>K</td>\n",
       "      <td>14.000</td>\n",
       "    </tr>\n",
       "    <tr>\n",
       "      <th>3887682</th>\n",
       "      <td>2651092</td>\n",
       "      <td>0.000</td>\n",
       "      <td>NaN</td>\n",
       "      <td>2014-02-15</td>\n",
       "      <td>60,000.000</td>\n",
       "      <td>a55475b1</td>\n",
       "      <td>1.000</td>\n",
       "      <td>2014-02-15</td>\n",
       "      <td>NaN</td>\n",
       "      <td>53,300.000</td>\n",
       "      <td>...</td>\n",
       "      <td>6</td>\n",
       "      <td>0.000</td>\n",
       "      <td>NaN</td>\n",
       "      <td>P46_145_78</td>\n",
       "      <td>a55475b1</td>\n",
       "      <td>a55475b1</td>\n",
       "      <td>a55475b1</td>\n",
       "      <td>680,531,000.000</td>\n",
       "      <td>K</td>\n",
       "      <td>NaN</td>\n",
       "    </tr>\n",
       "    <tr>\n",
       "      <th>3887683</th>\n",
       "      <td>2651092</td>\n",
       "      <td>0.000</td>\n",
       "      <td>3,119.200</td>\n",
       "      <td>2012-12-12</td>\n",
       "      <td>25,000.000</td>\n",
       "      <td>a55475b1</td>\n",
       "      <td>1.000</td>\n",
       "      <td>2012-12-12</td>\n",
       "      <td>NaN</td>\n",
       "      <td>0.000</td>\n",
       "      <td>...</td>\n",
       "      <td>7</td>\n",
       "      <td>0.000</td>\n",
       "      <td>12.000</td>\n",
       "      <td>P149_40_170</td>\n",
       "      <td>a55475b1</td>\n",
       "      <td>a55475b1</td>\n",
       "      <td>a55475b1</td>\n",
       "      <td>NaN</td>\n",
       "      <td>K</td>\n",
       "      <td>12.000</td>\n",
       "    </tr>\n",
       "  </tbody>\n",
       "</table>\n",
       "<p>3887684 rows × 41 columns</p>\n",
       "</div>"
      ],
      "text/plain": [
       "         case_id  actualdpd_943P  annuity_853A approvaldate_319D  \\\n",
       "0              2           0.000       640.200               NaN   \n",
       "1              2           0.000     1,682.400               NaN   \n",
       "2              3           0.000     6,140.000               NaN   \n",
       "3              4           0.000     2,556.600               NaN   \n",
       "4              5           0.000           NaN               NaN   \n",
       "...          ...             ...           ...               ...   \n",
       "3887679  2651092           0.000         0.000               NaN   \n",
       "3887680  2651092           0.000     4,366.000        2017-11-09   \n",
       "3887681  2651092           0.000     2,632.200        2015-12-11   \n",
       "3887682  2651092           0.000           NaN        2014-02-15   \n",
       "3887683  2651092           0.000     3,119.200        2012-12-12   \n",
       "\n",
       "         byoccupationinc_3656910L cancelreason_3545846M  childnum_21L  \\\n",
       "0                             NaN              a55475b1         0.000   \n",
       "1                             NaN              a55475b1         0.000   \n",
       "2                             NaN           P94_109_143           NaN   \n",
       "3                             NaN             P24_27_36           NaN   \n",
       "4                             NaN           P85_114_140           NaN   \n",
       "...                           ...                   ...           ...   \n",
       "3887679                       NaN           P94_109_143           NaN   \n",
       "3887680                       NaN              a55475b1           NaN   \n",
       "3887681                     1.000              a55475b1         1.000   \n",
       "3887682                60,000.000              a55475b1         1.000   \n",
       "3887683                25,000.000              a55475b1         1.000   \n",
       "\n",
       "        creationdate_885D  credacc_actualbalance_314A  credacc_credlmt_575A  \\\n",
       "0              2013-04-03                         NaN                 0.000   \n",
       "1              2013-04-03                         NaN                 0.000   \n",
       "2              2019-01-07                         NaN                 0.000   \n",
       "3              2019-01-08                         NaN                 0.000   \n",
       "4              2019-01-16                         NaN                   NaN   \n",
       "...                   ...                         ...                   ...   \n",
       "3887679        2018-05-04                         NaN           100,000.000   \n",
       "3887680        2017-11-09                         NaN                 0.000   \n",
       "3887681        2015-12-11                         NaN                 0.000   \n",
       "3887682        2014-02-15                         NaN            53,300.000   \n",
       "3887683        2012-12-12                         NaN                 0.000   \n",
       "\n",
       "         ...  num_group1  outstandingdebt_522A pmtnum_8L  postype_4733339M  \\\n",
       "0        ...           0                   NaN    24.000          a55475b1   \n",
       "1        ...           1                   NaN    12.000          a55475b1   \n",
       "2        ...           0                   NaN    12.000          a55475b1   \n",
       "3        ...           0                   NaN    24.000          a55475b1   \n",
       "4        ...           0                   NaN       NaN          a55475b1   \n",
       "...      ...         ...                   ...       ...               ...   \n",
       "3887679  ...           3                   NaN       NaN        P46_145_78   \n",
       "3887680  ...           4                 0.000     5.000       P60_146_156   \n",
       "3887681  ...           5                 0.000    14.000        P46_145_78   \n",
       "3887682  ...           6                 0.000       NaN        P46_145_78   \n",
       "3887683  ...           7                 0.000    12.000       P149_40_170   \n",
       "\n",
       "         profession_152M rejectreason_755M  rejectreasonclient_4145042M  \\\n",
       "0               a55475b1          a55475b1                     a55475b1   \n",
       "1               a55475b1          a55475b1                     a55475b1   \n",
       "2               a55475b1       P94_109_143                     a55475b1   \n",
       "3               a55475b1          a55475b1                     a55475b1   \n",
       "4               a55475b1          a55475b1                     a55475b1   \n",
       "...                  ...               ...                          ...   \n",
       "3887679         a55475b1        P99_56_166                  P94_109_143   \n",
       "3887680         a55475b1          a55475b1                     a55475b1   \n",
       "3887681         a55475b1          a55475b1                     a55475b1   \n",
       "3887682         a55475b1          a55475b1                     a55475b1   \n",
       "3887683         a55475b1          a55475b1                     a55475b1   \n",
       "\n",
       "        revolvingaccount_394A status_219L  tenor_203L  \n",
       "0                         NaN           D      24.000  \n",
       "1                         NaN           D      12.000  \n",
       "2                         NaN           D      12.000  \n",
       "3                         NaN           T      24.000  \n",
       "4                         NaN           T         NaN  \n",
       "...                       ...         ...         ...  \n",
       "3887679                   NaN           D         NaN  \n",
       "3887680                   NaN           K       5.000  \n",
       "3887681                   NaN           K      14.000  \n",
       "3887682       680,531,000.000           K         NaN  \n",
       "3887683                   NaN           K      12.000  \n",
       "\n",
       "[3887684 rows x 41 columns]"
      ]
     },
     "execution_count": 42,
     "metadata": {},
     "output_type": "execute_result"
    }
   ],
   "source": [
    "prev_appl_1_df = pd.read_csv(\"./csv_files/train/train_applprev_1_0.csv\")\n",
    "prev_appl_1_df\n"
   ]
  },
  {
   "cell_type": "code",
   "execution_count": 43,
   "metadata": {},
   "outputs": [
    {
     "data": {
      "text/html": [
       "<div>\n",
       "<style scoped>\n",
       "    .dataframe tbody tr th:only-of-type {\n",
       "        vertical-align: middle;\n",
       "    }\n",
       "\n",
       "    .dataframe tbody tr th {\n",
       "        vertical-align: top;\n",
       "    }\n",
       "\n",
       "    .dataframe thead th {\n",
       "        text-align: right;\n",
       "    }\n",
       "</style>\n",
       "<table border=\"1\" class=\"dataframe\">\n",
       "  <thead>\n",
       "    <tr style=\"text-align: right;\">\n",
       "      <th></th>\n",
       "      <th>column_name</th>\n",
       "      <th>unique_count</th>\n",
       "      <th>nan_count</th>\n",
       "      <th>nan_percent</th>\n",
       "      <th>data_type</th>\n",
       "      <th>unique_entries</th>\n",
       "    </tr>\n",
       "  </thead>\n",
       "  <tbody>\n",
       "    <tr>\n",
       "      <th>0</th>\n",
       "      <td>case_id</td>\n",
       "      <td>782997</td>\n",
       "      <td>0.000</td>\n",
       "      <td>0.000</td>\n",
       "      <td>int64</td>\n",
       "      <td>&gt;15 entries</td>\n",
       "    </tr>\n",
       "    <tr>\n",
       "      <th>31</th>\n",
       "      <td>num_group1</td>\n",
       "      <td>20</td>\n",
       "      <td>0.000</td>\n",
       "      <td>0.000</td>\n",
       "      <td>int64</td>\n",
       "      <td>&gt;15 entries</td>\n",
       "    </tr>\n",
       "    <tr>\n",
       "      <th>1</th>\n",
       "      <td>actualdpd_943P</td>\n",
       "      <td>102</td>\n",
       "      <td>2,234.000</td>\n",
       "      <td>0.057</td>\n",
       "      <td>float64</td>\n",
       "      <td>&gt;15 entries</td>\n",
       "    </tr>\n",
       "    <tr>\n",
       "      <th>29</th>\n",
       "      <td>mainoccupationinc_437A</td>\n",
       "      <td>21958</td>\n",
       "      <td>36,612.000</td>\n",
       "      <td>0.942</td>\n",
       "      <td>float64</td>\n",
       "      <td>&gt;15 entries</td>\n",
       "    </tr>\n",
       "    <tr>\n",
       "      <th>9</th>\n",
       "      <td>credacc_credlmt_575A</td>\n",
       "      <td>37850</td>\n",
       "      <td>119,070.000</td>\n",
       "      <td>3.063</td>\n",
       "      <td>float64</td>\n",
       "      <td>&gt;15 entries</td>\n",
       "    </tr>\n",
       "    <tr>\n",
       "      <th>14</th>\n",
       "      <td>credamount_590A</td>\n",
       "      <td>201794</td>\n",
       "      <td>123,329.000</td>\n",
       "      <td>3.172</td>\n",
       "      <td>float64</td>\n",
       "      <td>&gt;15 entries</td>\n",
       "    </tr>\n",
       "    <tr>\n",
       "      <th>19</th>\n",
       "      <td>downpmt_134A</td>\n",
       "      <td>18721</td>\n",
       "      <td>123,329.000</td>\n",
       "      <td>3.172</td>\n",
       "      <td>float64</td>\n",
       "      <td>&gt;15 entries</td>\n",
       "    </tr>\n",
       "    <tr>\n",
       "      <th>2</th>\n",
       "      <td>annuity_853A</td>\n",
       "      <td>80310</td>\n",
       "      <td>155,851.000</td>\n",
       "      <td>4.009</td>\n",
       "      <td>float64</td>\n",
       "      <td>&gt;15 entries</td>\n",
       "    </tr>\n",
       "    <tr>\n",
       "      <th>33</th>\n",
       "      <td>pmtnum_8L</td>\n",
       "      <td>58</td>\n",
       "      <td>312,833.000</td>\n",
       "      <td>8.047</td>\n",
       "      <td>float64</td>\n",
       "      <td>&gt;15 entries</td>\n",
       "    </tr>\n",
       "    <tr>\n",
       "      <th>40</th>\n",
       "      <td>tenor_203L</td>\n",
       "      <td>58</td>\n",
       "      <td>312,833.000</td>\n",
       "      <td>8.047</td>\n",
       "      <td>float64</td>\n",
       "      <td>&gt;15 entries</td>\n",
       "    </tr>\n",
       "    <tr>\n",
       "      <th>16</th>\n",
       "      <td>currdebt_94A</td>\n",
       "      <td>346083</td>\n",
       "      <td>1,270,377.000</td>\n",
       "      <td>32.677</td>\n",
       "      <td>float64</td>\n",
       "      <td>&gt;15 entries</td>\n",
       "    </tr>\n",
       "    <tr>\n",
       "      <th>32</th>\n",
       "      <td>outstandingdebt_522A</td>\n",
       "      <td>269096</td>\n",
       "      <td>1,277,922.000</td>\n",
       "      <td>32.871</td>\n",
       "      <td>float64</td>\n",
       "      <td>&gt;15 entries</td>\n",
       "    </tr>\n",
       "    <tr>\n",
       "      <th>30</th>\n",
       "      <td>maxdpdtolerance_577P</td>\n",
       "      <td>3200</td>\n",
       "      <td>1,817,378.000</td>\n",
       "      <td>46.747</td>\n",
       "      <td>float64</td>\n",
       "      <td>&gt;15 entries</td>\n",
       "    </tr>\n",
       "    <tr>\n",
       "      <th>6</th>\n",
       "      <td>childnum_21L</td>\n",
       "      <td>21</td>\n",
       "      <td>1,953,893.000</td>\n",
       "      <td>50.259</td>\n",
       "      <td>float64</td>\n",
       "      <td>&gt;15 entries</td>\n",
       "    </tr>\n",
       "    <tr>\n",
       "      <th>4</th>\n",
       "      <td>byoccupationinc_3656910L</td>\n",
       "      <td>24299</td>\n",
       "      <td>2,896,024.000</td>\n",
       "      <td>74.492</td>\n",
       "      <td>float64</td>\n",
       "      <td>&gt;15 entries</td>\n",
       "    </tr>\n",
       "    <tr>\n",
       "      <th>8</th>\n",
       "      <td>credacc_actualbalance_314A</td>\n",
       "      <td>57144</td>\n",
       "      <td>3,719,506.000</td>\n",
       "      <td>95.674</td>\n",
       "      <td>float64</td>\n",
       "      <td>&gt;15 entries</td>\n",
       "    </tr>\n",
       "    <tr>\n",
       "      <th>10</th>\n",
       "      <td>credacc_maxhisbal_375A</td>\n",
       "      <td>43047</td>\n",
       "      <td>3,719,506.000</td>\n",
       "      <td>95.674</td>\n",
       "      <td>float64</td>\n",
       "      <td>&gt;15 entries</td>\n",
       "    </tr>\n",
       "    <tr>\n",
       "      <th>11</th>\n",
       "      <td>credacc_minhisbal_90A</td>\n",
       "      <td>42879</td>\n",
       "      <td>3,719,506.000</td>\n",
       "      <td>95.674</td>\n",
       "      <td>float64</td>\n",
       "      <td>&gt;15 entries</td>\n",
       "    </tr>\n",
       "    <tr>\n",
       "      <th>13</th>\n",
       "      <td>credacc_transactions_402L</td>\n",
       "      <td>87</td>\n",
       "      <td>3,719,506.000</td>\n",
       "      <td>95.674</td>\n",
       "      <td>float64</td>\n",
       "      <td>&gt;15 entries</td>\n",
       "    </tr>\n",
       "    <tr>\n",
       "      <th>38</th>\n",
       "      <td>revolvingaccount_394A</td>\n",
       "      <td>60660</td>\n",
       "      <td>3,731,033.000</td>\n",
       "      <td>95.971</td>\n",
       "      <td>float64</td>\n",
       "      <td>&gt;15 entries</td>\n",
       "    </tr>\n",
       "    <tr>\n",
       "      <th>5</th>\n",
       "      <td>cancelreason_3545846M</td>\n",
       "      <td>71</td>\n",
       "      <td>0.000</td>\n",
       "      <td>0.000</td>\n",
       "      <td>object</td>\n",
       "      <td>&gt;15 entries</td>\n",
       "    </tr>\n",
       "    <tr>\n",
       "      <th>18</th>\n",
       "      <td>district_544M</td>\n",
       "      <td>479</td>\n",
       "      <td>0.000</td>\n",
       "      <td>0.000</td>\n",
       "      <td>object</td>\n",
       "      <td>&gt;15 entries</td>\n",
       "    </tr>\n",
       "    <tr>\n",
       "      <th>22</th>\n",
       "      <td>education_1138M</td>\n",
       "      <td>6</td>\n",
       "      <td>0.000</td>\n",
       "      <td>0.000</td>\n",
       "      <td>object</td>\n",
       "      <td>[P97_36_170, a55475b1, P17_36_170, P33_146_175...</td>\n",
       "    </tr>\n",
       "    <tr>\n",
       "      <th>34</th>\n",
       "      <td>postype_4733339M</td>\n",
       "      <td>9</td>\n",
       "      <td>0.000</td>\n",
       "      <td>0.000</td>\n",
       "      <td>object</td>\n",
       "      <td>[a55475b1, P177_117_192, P46_145_78, P149_40_1...</td>\n",
       "    </tr>\n",
       "    <tr>\n",
       "      <th>35</th>\n",
       "      <td>profession_152M</td>\n",
       "      <td>9028</td>\n",
       "      <td>0.000</td>\n",
       "      <td>0.000</td>\n",
       "      <td>object</td>\n",
       "      <td>&gt;15 entries</td>\n",
       "    </tr>\n",
       "    <tr>\n",
       "      <th>36</th>\n",
       "      <td>rejectreason_755M</td>\n",
       "      <td>18</td>\n",
       "      <td>0.000</td>\n",
       "      <td>0.000</td>\n",
       "      <td>object</td>\n",
       "      <td>&gt;15 entries</td>\n",
       "    </tr>\n",
       "    <tr>\n",
       "      <th>37</th>\n",
       "      <td>rejectreasonclient_4145042M</td>\n",
       "      <td>11</td>\n",
       "      <td>0.000</td>\n",
       "      <td>0.000</td>\n",
       "      <td>object</td>\n",
       "      <td>[a55475b1, P94_109_143, P129_162_80, P30_86_84...</td>\n",
       "    </tr>\n",
       "    <tr>\n",
       "      <th>7</th>\n",
       "      <td>creationdate_885D</td>\n",
       "      <td>5108</td>\n",
       "      <td>35.000</td>\n",
       "      <td>0.001</td>\n",
       "      <td>object</td>\n",
       "      <td>&gt;15 entries</td>\n",
       "    </tr>\n",
       "    <tr>\n",
       "      <th>27</th>\n",
       "      <td>isbidproduct_390L</td>\n",
       "      <td>3</td>\n",
       "      <td>35.000</td>\n",
       "      <td>0.001</td>\n",
       "      <td>object</td>\n",
       "      <td>[False, True, nan]</td>\n",
       "    </tr>\n",
       "    <tr>\n",
       "      <th>39</th>\n",
       "      <td>status_219L</td>\n",
       "      <td>12</td>\n",
       "      <td>35.000</td>\n",
       "      <td>0.001</td>\n",
       "      <td>object</td>\n",
       "      <td>[D, T, K, A, N, S, nan, Q, L, P, H, R]</td>\n",
       "    </tr>\n",
       "    <tr>\n",
       "      <th>15</th>\n",
       "      <td>credtype_587L</td>\n",
       "      <td>4</td>\n",
       "      <td>123,329.000</td>\n",
       "      <td>3.172</td>\n",
       "      <td>object</td>\n",
       "      <td>[CAL, nan, COL, REL]</td>\n",
       "    </tr>\n",
       "    <tr>\n",
       "      <th>26</th>\n",
       "      <td>inittransactioncode_279L</td>\n",
       "      <td>4</td>\n",
       "      <td>123,329.000</td>\n",
       "      <td>3.172</td>\n",
       "      <td>object</td>\n",
       "      <td>[CASH, nan, POS, NDF]</td>\n",
       "    </tr>\n",
       "    <tr>\n",
       "      <th>25</th>\n",
       "      <td>firstnonzeroinstldate_307D</td>\n",
       "      <td>4887</td>\n",
       "      <td>365,175.000</td>\n",
       "      <td>9.393</td>\n",
       "      <td>object</td>\n",
       "      <td>&gt;15 entries</td>\n",
       "    </tr>\n",
       "    <tr>\n",
       "      <th>24</th>\n",
       "      <td>familystate_726L</td>\n",
       "      <td>6</td>\n",
       "      <td>1,245,201.000</td>\n",
       "      <td>32.029</td>\n",
       "      <td>object</td>\n",
       "      <td>[SINGLE, MARRIED, nan, WIDOWED, DIVORCED, LIVI...</td>\n",
       "    </tr>\n",
       "    <tr>\n",
       "      <th>3</th>\n",
       "      <td>approvaldate_319D</td>\n",
       "      <td>5106</td>\n",
       "      <td>1,766,021.000</td>\n",
       "      <td>45.426</td>\n",
       "      <td>object</td>\n",
       "      <td>&gt;15 entries</td>\n",
       "    </tr>\n",
       "    <tr>\n",
       "      <th>17</th>\n",
       "      <td>dateactivated_425D</td>\n",
       "      <td>3940</td>\n",
       "      <td>1,844,702.000</td>\n",
       "      <td>47.450</td>\n",
       "      <td>object</td>\n",
       "      <td>&gt;15 entries</td>\n",
       "    </tr>\n",
       "    <tr>\n",
       "      <th>23</th>\n",
       "      <td>employedfrom_700D</td>\n",
       "      <td>9286</td>\n",
       "      <td>2,180,869.000</td>\n",
       "      <td>56.097</td>\n",
       "      <td>object</td>\n",
       "      <td>&gt;15 entries</td>\n",
       "    </tr>\n",
       "    <tr>\n",
       "      <th>21</th>\n",
       "      <td>dtlastpmtallstes_3545839D</td>\n",
       "      <td>2169</td>\n",
       "      <td>2,434,155.000</td>\n",
       "      <td>62.612</td>\n",
       "      <td>object</td>\n",
       "      <td>&gt;15 entries</td>\n",
       "    </tr>\n",
       "    <tr>\n",
       "      <th>20</th>\n",
       "      <td>dtlastpmt_581D</td>\n",
       "      <td>2151</td>\n",
       "      <td>2,860,375.000</td>\n",
       "      <td>73.575</td>\n",
       "      <td>object</td>\n",
       "      <td>&gt;15 entries</td>\n",
       "    </tr>\n",
       "    <tr>\n",
       "      <th>28</th>\n",
       "      <td>isdebitcard_527L</td>\n",
       "      <td>3</td>\n",
       "      <td>3,637,550.000</td>\n",
       "      <td>93.566</td>\n",
       "      <td>object</td>\n",
       "      <td>[nan, False, True]</td>\n",
       "    </tr>\n",
       "    <tr>\n",
       "      <th>12</th>\n",
       "      <td>credacc_status_367L</td>\n",
       "      <td>7</td>\n",
       "      <td>3,719,506.000</td>\n",
       "      <td>95.674</td>\n",
       "      <td>object</td>\n",
       "      <td>[nan, CL, AC, CA, PCL, PO, CR]</td>\n",
       "    </tr>\n",
       "    <tr>\n",
       "      <th>41</th>\n",
       "      <td>this_df</td>\n",
       "      <td>3887684</td>\n",
       "      <td>NaN</td>\n",
       "      <td>NaN</td>\n",
       "      <td>NaN</td>\n",
       "      <td>NaN</td>\n",
       "    </tr>\n",
       "  </tbody>\n",
       "</table>\n",
       "</div>"
      ],
      "text/plain": [
       "                    column_name  unique_count     nan_count  nan_percent  \\\n",
       "0                       case_id        782997         0.000        0.000   \n",
       "31                   num_group1            20         0.000        0.000   \n",
       "1                actualdpd_943P           102     2,234.000        0.057   \n",
       "29       mainoccupationinc_437A         21958    36,612.000        0.942   \n",
       "9          credacc_credlmt_575A         37850   119,070.000        3.063   \n",
       "14              credamount_590A        201794   123,329.000        3.172   \n",
       "19                 downpmt_134A         18721   123,329.000        3.172   \n",
       "2                  annuity_853A         80310   155,851.000        4.009   \n",
       "33                    pmtnum_8L            58   312,833.000        8.047   \n",
       "40                   tenor_203L            58   312,833.000        8.047   \n",
       "16                 currdebt_94A        346083 1,270,377.000       32.677   \n",
       "32         outstandingdebt_522A        269096 1,277,922.000       32.871   \n",
       "30         maxdpdtolerance_577P          3200 1,817,378.000       46.747   \n",
       "6                  childnum_21L            21 1,953,893.000       50.259   \n",
       "4      byoccupationinc_3656910L         24299 2,896,024.000       74.492   \n",
       "8    credacc_actualbalance_314A         57144 3,719,506.000       95.674   \n",
       "10       credacc_maxhisbal_375A         43047 3,719,506.000       95.674   \n",
       "11        credacc_minhisbal_90A         42879 3,719,506.000       95.674   \n",
       "13    credacc_transactions_402L            87 3,719,506.000       95.674   \n",
       "38        revolvingaccount_394A         60660 3,731,033.000       95.971   \n",
       "5         cancelreason_3545846M            71         0.000        0.000   \n",
       "18                district_544M           479         0.000        0.000   \n",
       "22              education_1138M             6         0.000        0.000   \n",
       "34             postype_4733339M             9         0.000        0.000   \n",
       "35              profession_152M          9028         0.000        0.000   \n",
       "36            rejectreason_755M            18         0.000        0.000   \n",
       "37  rejectreasonclient_4145042M            11         0.000        0.000   \n",
       "7             creationdate_885D          5108        35.000        0.001   \n",
       "27            isbidproduct_390L             3        35.000        0.001   \n",
       "39                  status_219L            12        35.000        0.001   \n",
       "15                credtype_587L             4   123,329.000        3.172   \n",
       "26     inittransactioncode_279L             4   123,329.000        3.172   \n",
       "25   firstnonzeroinstldate_307D          4887   365,175.000        9.393   \n",
       "24             familystate_726L             6 1,245,201.000       32.029   \n",
       "3             approvaldate_319D          5106 1,766,021.000       45.426   \n",
       "17           dateactivated_425D          3940 1,844,702.000       47.450   \n",
       "23            employedfrom_700D          9286 2,180,869.000       56.097   \n",
       "21    dtlastpmtallstes_3545839D          2169 2,434,155.000       62.612   \n",
       "20               dtlastpmt_581D          2151 2,860,375.000       73.575   \n",
       "28             isdebitcard_527L             3 3,637,550.000       93.566   \n",
       "12          credacc_status_367L             7 3,719,506.000       95.674   \n",
       "41                      this_df       3887684           NaN          NaN   \n",
       "\n",
       "   data_type                                     unique_entries  \n",
       "0      int64                                        >15 entries  \n",
       "31     int64                                        >15 entries  \n",
       "1    float64                                        >15 entries  \n",
       "29   float64                                        >15 entries  \n",
       "9    float64                                        >15 entries  \n",
       "14   float64                                        >15 entries  \n",
       "19   float64                                        >15 entries  \n",
       "2    float64                                        >15 entries  \n",
       "33   float64                                        >15 entries  \n",
       "40   float64                                        >15 entries  \n",
       "16   float64                                        >15 entries  \n",
       "32   float64                                        >15 entries  \n",
       "30   float64                                        >15 entries  \n",
       "6    float64                                        >15 entries  \n",
       "4    float64                                        >15 entries  \n",
       "8    float64                                        >15 entries  \n",
       "10   float64                                        >15 entries  \n",
       "11   float64                                        >15 entries  \n",
       "13   float64                                        >15 entries  \n",
       "38   float64                                        >15 entries  \n",
       "5     object                                        >15 entries  \n",
       "18    object                                        >15 entries  \n",
       "22    object  [P97_36_170, a55475b1, P17_36_170, P33_146_175...  \n",
       "34    object  [a55475b1, P177_117_192, P46_145_78, P149_40_1...  \n",
       "35    object                                        >15 entries  \n",
       "36    object                                        >15 entries  \n",
       "37    object  [a55475b1, P94_109_143, P129_162_80, P30_86_84...  \n",
       "7     object                                        >15 entries  \n",
       "27    object                                 [False, True, nan]  \n",
       "39    object             [D, T, K, A, N, S, nan, Q, L, P, H, R]  \n",
       "15    object                               [CAL, nan, COL, REL]  \n",
       "26    object                              [CASH, nan, POS, NDF]  \n",
       "25    object                                        >15 entries  \n",
       "24    object  [SINGLE, MARRIED, nan, WIDOWED, DIVORCED, LIVI...  \n",
       "3     object                                        >15 entries  \n",
       "17    object                                        >15 entries  \n",
       "23    object                                        >15 entries  \n",
       "21    object                                        >15 entries  \n",
       "20    object                                        >15 entries  \n",
       "28    object                                 [nan, False, True]  \n",
       "12    object                     [nan, CL, AC, CA, PCL, PO, CR]  \n",
       "41       NaN                                                NaN  "
      ]
     },
     "execution_count": 43,
     "metadata": {},
     "output_type": "execute_result"
    }
   ],
   "source": [
    "prev_appl_1_summary = dataframe_summary(prev_appl_1_df, 15)\n",
    "prev_appl_1_summary\n",
    "\n"
   ]
  },
  {
   "cell_type": "code",
   "execution_count": 56,
   "metadata": {},
   "outputs": [
    {
     "data": {
      "text/html": [
       "<div>\n",
       "<style scoped>\n",
       "    .dataframe tbody tr th:only-of-type {\n",
       "        vertical-align: middle;\n",
       "    }\n",
       "\n",
       "    .dataframe tbody tr th {\n",
       "        vertical-align: top;\n",
       "    }\n",
       "\n",
       "    .dataframe thead th {\n",
       "        text-align: right;\n",
       "    }\n",
       "</style>\n",
       "<table border=\"1\" class=\"dataframe\">\n",
       "  <thead>\n",
       "    <tr style=\"text-align: right;\">\n",
       "      <th></th>\n",
       "      <th>column_name</th>\n",
       "      <th>unique_count</th>\n",
       "      <th>nan_count</th>\n",
       "      <th>nan_percent</th>\n",
       "      <th>data_type</th>\n",
       "      <th>unique_entries</th>\n",
       "    </tr>\n",
       "  </thead>\n",
       "  <tbody>\n",
       "    <tr>\n",
       "      <th>69</th>\n",
       "      <td>lastapprcommoditycat_1041M</td>\n",
       "      <td>45</td>\n",
       "      <td>0.000</td>\n",
       "      <td>0.000</td>\n",
       "      <td>object</td>\n",
       "      <td>&gt;15 entries</td>\n",
       "    </tr>\n",
       "    <tr>\n",
       "      <th>70</th>\n",
       "      <td>lastapprcommoditytypec_5251766M</td>\n",
       "      <td>214</td>\n",
       "      <td>0.000</td>\n",
       "      <td>0.000</td>\n",
       "      <td>object</td>\n",
       "      <td>&gt;15 entries</td>\n",
       "    </tr>\n",
       "    <tr>\n",
       "      <th>73</th>\n",
       "      <td>lastcancelreason_561M</td>\n",
       "      <td>74</td>\n",
       "      <td>0.000</td>\n",
       "      <td>0.000</td>\n",
       "      <td>object</td>\n",
       "      <td>&gt;15 entries</td>\n",
       "    </tr>\n",
       "    <tr>\n",
       "      <th>78</th>\n",
       "      <td>lastrejectcommoditycat_161M</td>\n",
       "      <td>45</td>\n",
       "      <td>0.000</td>\n",
       "      <td>0.000</td>\n",
       "      <td>object</td>\n",
       "      <td>&gt;15 entries</td>\n",
       "    </tr>\n",
       "    <tr>\n",
       "      <th>79</th>\n",
       "      <td>lastrejectcommodtypec_5251769M</td>\n",
       "      <td>187</td>\n",
       "      <td>0.000</td>\n",
       "      <td>0.000</td>\n",
       "      <td>object</td>\n",
       "      <td>&gt;15 entries</td>\n",
       "    </tr>\n",
       "    <tr>\n",
       "      <th>82</th>\n",
       "      <td>lastrejectreason_759M</td>\n",
       "      <td>18</td>\n",
       "      <td>0.000</td>\n",
       "      <td>0.000</td>\n",
       "      <td>object</td>\n",
       "      <td>&gt;15 entries</td>\n",
       "    </tr>\n",
       "    <tr>\n",
       "      <th>83</th>\n",
       "      <td>lastrejectreasonclient_4145040M</td>\n",
       "      <td>14</td>\n",
       "      <td>0.000</td>\n",
       "      <td>0.000</td>\n",
       "      <td>object</td>\n",
       "      <td>[a55475b1, P94_109_143, P129_162_80, P30_86_84...</td>\n",
       "    </tr>\n",
       "    <tr>\n",
       "      <th>156</th>\n",
       "      <td>previouscontdistrict_112M</td>\n",
       "      <td>223</td>\n",
       "      <td>0.000</td>\n",
       "      <td>0.000</td>\n",
       "      <td>object</td>\n",
       "      <td>&gt;15 entries</td>\n",
       "    </tr>\n",
       "    <tr>\n",
       "      <th>42</th>\n",
       "      <td>credtype_322L</td>\n",
       "      <td>4</td>\n",
       "      <td>1.000</td>\n",
       "      <td>0.000</td>\n",
       "      <td>object</td>\n",
       "      <td>[CAL, REL, COL, nan]</td>\n",
       "    </tr>\n",
       "    <tr>\n",
       "      <th>61</th>\n",
       "      <td>inittransactioncode_186L</td>\n",
       "      <td>4</td>\n",
       "      <td>1.000</td>\n",
       "      <td>0.000</td>\n",
       "      <td>object</td>\n",
       "      <td>[CASH, NDF, POS, nan]</td>\n",
       "    </tr>\n",
       "    <tr>\n",
       "      <th>165</th>\n",
       "      <td>twobodfilling_608L</td>\n",
       "      <td>3</td>\n",
       "      <td>91.000</td>\n",
       "      <td>0.006</td>\n",
       "      <td>object</td>\n",
       "      <td>[BO, FO, nan]</td>\n",
       "    </tr>\n",
       "    <tr>\n",
       "      <th>51</th>\n",
       "      <td>disbursementtype_67L</td>\n",
       "      <td>4</td>\n",
       "      <td>866.000</td>\n",
       "      <td>0.057</td>\n",
       "      <td>object</td>\n",
       "      <td>[GBA, DD, SBA, nan]</td>\n",
       "    </tr>\n",
       "    <tr>\n",
       "      <th>144</th>\n",
       "      <td>paytype1st_925L</td>\n",
       "      <td>2</td>\n",
       "      <td>58,575.000</td>\n",
       "      <td>3.837</td>\n",
       "      <td>object</td>\n",
       "      <td>[OTHER, nan]</td>\n",
       "    </tr>\n",
       "    <tr>\n",
       "      <th>145</th>\n",
       "      <td>paytype_783L</td>\n",
       "      <td>2</td>\n",
       "      <td>58,575.000</td>\n",
       "      <td>3.837</td>\n",
       "      <td>object</td>\n",
       "      <td>[OTHER, nan]</td>\n",
       "    </tr>\n",
       "  </tbody>\n",
       "</table>\n",
       "</div>"
      ],
      "text/plain": [
       "                         column_name  unique_count  nan_count  nan_percent  \\\n",
       "69        lastapprcommoditycat_1041M            45      0.000        0.000   \n",
       "70   lastapprcommoditytypec_5251766M           214      0.000        0.000   \n",
       "73             lastcancelreason_561M            74      0.000        0.000   \n",
       "78       lastrejectcommoditycat_161M            45      0.000        0.000   \n",
       "79    lastrejectcommodtypec_5251769M           187      0.000        0.000   \n",
       "82             lastrejectreason_759M            18      0.000        0.000   \n",
       "83   lastrejectreasonclient_4145040M            14      0.000        0.000   \n",
       "156        previouscontdistrict_112M           223      0.000        0.000   \n",
       "42                     credtype_322L             4      1.000        0.000   \n",
       "61          inittransactioncode_186L             4      1.000        0.000   \n",
       "165               twobodfilling_608L             3     91.000        0.006   \n",
       "51              disbursementtype_67L             4    866.000        0.057   \n",
       "144                  paytype1st_925L             2 58,575.000        3.837   \n",
       "145                     paytype_783L             2 58,575.000        3.837   \n",
       "\n",
       "    data_type                                     unique_entries  \n",
       "69     object                                        >15 entries  \n",
       "70     object                                        >15 entries  \n",
       "73     object                                        >15 entries  \n",
       "78     object                                        >15 entries  \n",
       "79     object                                        >15 entries  \n",
       "82     object                                        >15 entries  \n",
       "83     object  [a55475b1, P94_109_143, P129_162_80, P30_86_84...  \n",
       "156    object                                        >15 entries  \n",
       "42     object                               [CAL, REL, COL, nan]  \n",
       "61     object                              [CASH, NDF, POS, nan]  \n",
       "165    object                                      [BO, FO, nan]  \n",
       "51     object                                [GBA, DD, SBA, nan]  \n",
       "144    object                                       [OTHER, nan]  \n",
       "145    object                                       [OTHER, nan]  "
      ]
     },
     "execution_count": 56,
     "metadata": {},
     "output_type": "execute_result"
    }
   ],
   "source": [
    "static_summary[(static_summary[\"nan_percent\"]<10) & (static_summary[\"data_type\"]==object)]"
   ]
  },
  {
   "cell_type": "code",
   "execution_count": 51,
   "metadata": {},
   "outputs": [
    {
     "data": {
      "text/plain": [
       "dtype('O')"
      ]
     },
     "execution_count": 51,
     "metadata": {},
     "output_type": "execute_result"
    }
   ],
   "source": [
    "static_summary.loc[144, \"data_type\"]"
   ]
  },
  {
   "cell_type": "code",
   "execution_count": null,
   "metadata": {},
   "outputs": [],
   "source": []
  },
  {
   "cell_type": "code",
   "execution_count": null,
   "metadata": {},
   "outputs": [],
   "source": []
  },
  {
   "cell_type": "code",
   "execution_count": 35,
   "metadata": {},
   "outputs": [
    {
     "data": {
      "text/html": [
       "<div>\n",
       "<style scoped>\n",
       "    .dataframe tbody tr th:only-of-type {\n",
       "        vertical-align: middle;\n",
       "    }\n",
       "\n",
       "    .dataframe tbody tr th {\n",
       "        vertical-align: top;\n",
       "    }\n",
       "\n",
       "    .dataframe thead th {\n",
       "        text-align: right;\n",
       "    }\n",
       "</style>\n",
       "<table border=\"1\" class=\"dataframe\">\n",
       "  <thead>\n",
       "    <tr style=\"text-align: right;\">\n",
       "      <th></th>\n",
       "      <th>case_id</th>\n",
       "      <th>last180dayaveragebalance_704A</th>\n",
       "      <th>last180dayturnover_1134A</th>\n",
       "      <th>last30dayturnover_651A</th>\n",
       "      <th>num_group1</th>\n",
       "      <th>openingdate_857D</th>\n",
       "    </tr>\n",
       "  </thead>\n",
       "  <tbody>\n",
       "    <tr>\n",
       "      <th>0</th>\n",
       "      <td>225</td>\n",
       "      <td>NaN</td>\n",
       "      <td>NaN</td>\n",
       "      <td>NaN</td>\n",
       "      <td>0</td>\n",
       "      <td>2016-08-16</td>\n",
       "    </tr>\n",
       "    <tr>\n",
       "      <th>1</th>\n",
       "      <td>331</td>\n",
       "      <td>NaN</td>\n",
       "      <td>NaN</td>\n",
       "      <td>NaN</td>\n",
       "      <td>0</td>\n",
       "      <td>2015-03-19</td>\n",
       "    </tr>\n",
       "    <tr>\n",
       "      <th>2</th>\n",
       "      <td>358</td>\n",
       "      <td>NaN</td>\n",
       "      <td>NaN</td>\n",
       "      <td>NaN</td>\n",
       "      <td>0</td>\n",
       "      <td>2014-09-02</td>\n",
       "    </tr>\n",
       "    <tr>\n",
       "      <th>3</th>\n",
       "      <td>390</td>\n",
       "      <td>NaN</td>\n",
       "      <td>NaN</td>\n",
       "      <td>NaN</td>\n",
       "      <td>0</td>\n",
       "      <td>2014-07-23</td>\n",
       "    </tr>\n",
       "    <tr>\n",
       "      <th>4</th>\n",
       "      <td>390</td>\n",
       "      <td>NaN</td>\n",
       "      <td>NaN</td>\n",
       "      <td>NaN</td>\n",
       "      <td>2</td>\n",
       "      <td>2016-06-08</td>\n",
       "    </tr>\n",
       "    <tr>\n",
       "      <th>...</th>\n",
       "      <td>...</td>\n",
       "      <td>...</td>\n",
       "      <td>...</td>\n",
       "      <td>...</td>\n",
       "      <td>...</td>\n",
       "      <td>...</td>\n",
       "    </tr>\n",
       "    <tr>\n",
       "      <th>157297</th>\n",
       "      <td>2703430</td>\n",
       "      <td>NaN</td>\n",
       "      <td>NaN</td>\n",
       "      <td>NaN</td>\n",
       "      <td>8</td>\n",
       "      <td>2016-11-26</td>\n",
       "    </tr>\n",
       "    <tr>\n",
       "      <th>157298</th>\n",
       "      <td>2703430</td>\n",
       "      <td>NaN</td>\n",
       "      <td>NaN</td>\n",
       "      <td>NaN</td>\n",
       "      <td>2</td>\n",
       "      <td>2014-02-14</td>\n",
       "    </tr>\n",
       "    <tr>\n",
       "      <th>157299</th>\n",
       "      <td>2703439</td>\n",
       "      <td>NaN</td>\n",
       "      <td>NaN</td>\n",
       "      <td>NaN</td>\n",
       "      <td>0</td>\n",
       "      <td>2016-11-25</td>\n",
       "    </tr>\n",
       "    <tr>\n",
       "      <th>157300</th>\n",
       "      <td>2703453</td>\n",
       "      <td>NaN</td>\n",
       "      <td>NaN</td>\n",
       "      <td>NaN</td>\n",
       "      <td>1</td>\n",
       "      <td>2015-05-29</td>\n",
       "    </tr>\n",
       "    <tr>\n",
       "      <th>157301</th>\n",
       "      <td>2703453</td>\n",
       "      <td>NaN</td>\n",
       "      <td>NaN</td>\n",
       "      <td>NaN</td>\n",
       "      <td>0</td>\n",
       "      <td>2014-08-18</td>\n",
       "    </tr>\n",
       "  </tbody>\n",
       "</table>\n",
       "<p>157302 rows × 6 columns</p>\n",
       "</div>"
      ],
      "text/plain": [
       "        case_id  last180dayaveragebalance_704A  last180dayturnover_1134A  \\\n",
       "0           225                            NaN                       NaN   \n",
       "1           331                            NaN                       NaN   \n",
       "2           358                            NaN                       NaN   \n",
       "3           390                            NaN                       NaN   \n",
       "4           390                            NaN                       NaN   \n",
       "...         ...                            ...                       ...   \n",
       "157297  2703430                            NaN                       NaN   \n",
       "157298  2703430                            NaN                       NaN   \n",
       "157299  2703439                            NaN                       NaN   \n",
       "157300  2703453                            NaN                       NaN   \n",
       "157301  2703453                            NaN                       NaN   \n",
       "\n",
       "        last30dayturnover_651A  num_group1 openingdate_857D  \n",
       "0                          NaN           0       2016-08-16  \n",
       "1                          NaN           0       2015-03-19  \n",
       "2                          NaN           0       2014-09-02  \n",
       "3                          NaN           0       2014-07-23  \n",
       "4                          NaN           2       2016-06-08  \n",
       "...                        ...         ...              ...  \n",
       "157297                     NaN           8       2016-11-26  \n",
       "157298                     NaN           2       2014-02-14  \n",
       "157299                     NaN           0       2016-11-25  \n",
       "157300                     NaN           1       2015-05-29  \n",
       "157301                     NaN           0       2014-08-18  \n",
       "\n",
       "[157302 rows x 6 columns]"
      ]
     },
     "execution_count": 35,
     "metadata": {},
     "output_type": "execute_result"
    }
   ],
   "source": [
    "debit_df = pd.read_csv(\"./csv_files/train/train_debitcard_1.csv\")\n",
    "debit_df\n"
   ]
  },
  {
   "cell_type": "code",
   "execution_count": 41,
   "metadata": {},
   "outputs": [
    {
     "data": {
      "text/html": [
       "<div>\n",
       "<style scoped>\n",
       "    .dataframe tbody tr th:only-of-type {\n",
       "        vertical-align: middle;\n",
       "    }\n",
       "\n",
       "    .dataframe tbody tr th {\n",
       "        vertical-align: top;\n",
       "    }\n",
       "\n",
       "    .dataframe thead th {\n",
       "        text-align: right;\n",
       "    }\n",
       "</style>\n",
       "<table border=\"1\" class=\"dataframe\">\n",
       "  <thead>\n",
       "    <tr style=\"text-align: right;\">\n",
       "      <th></th>\n",
       "      <th>column_name</th>\n",
       "      <th>unique_count</th>\n",
       "      <th>nan_count</th>\n",
       "      <th>nan_percent</th>\n",
       "      <th>data_type</th>\n",
       "      <th>unique_entries</th>\n",
       "    </tr>\n",
       "  </thead>\n",
       "  <tbody>\n",
       "    <tr>\n",
       "      <th>0</th>\n",
       "      <td>case_id</td>\n",
       "      <td>111772</td>\n",
       "      <td>0.000</td>\n",
       "      <td>0.000</td>\n",
       "      <td>int64</td>\n",
       "      <td>&gt;15 entries</td>\n",
       "    </tr>\n",
       "    <tr>\n",
       "      <th>4</th>\n",
       "      <td>num_group1</td>\n",
       "      <td>66</td>\n",
       "      <td>0.000</td>\n",
       "      <td>0.000</td>\n",
       "      <td>int64</td>\n",
       "      <td>&gt;15 entries</td>\n",
       "    </tr>\n",
       "    <tr>\n",
       "      <th>1</th>\n",
       "      <td>last180dayaveragebalance_704A</td>\n",
       "      <td>2496</td>\n",
       "      <td>145,086.000</td>\n",
       "      <td>92.234</td>\n",
       "      <td>float64</td>\n",
       "      <td>&gt;15 entries</td>\n",
       "    </tr>\n",
       "    <tr>\n",
       "      <th>2</th>\n",
       "      <td>last180dayturnover_1134A</td>\n",
       "      <td>2582</td>\n",
       "      <td>146,221.000</td>\n",
       "      <td>92.956</td>\n",
       "      <td>float64</td>\n",
       "      <td>&gt;15 entries</td>\n",
       "    </tr>\n",
       "    <tr>\n",
       "      <th>3</th>\n",
       "      <td>last30dayturnover_651A</td>\n",
       "      <td>483</td>\n",
       "      <td>146,221.000</td>\n",
       "      <td>92.956</td>\n",
       "      <td>float64</td>\n",
       "      <td>&gt;15 entries</td>\n",
       "    </tr>\n",
       "    <tr>\n",
       "      <th>5</th>\n",
       "      <td>openingdate_857D</td>\n",
       "      <td>1579</td>\n",
       "      <td>12,711.000</td>\n",
       "      <td>8.081</td>\n",
       "      <td>object</td>\n",
       "      <td>&gt;15 entries</td>\n",
       "    </tr>\n",
       "    <tr>\n",
       "      <th>6</th>\n",
       "      <td>this_df</td>\n",
       "      <td>157302</td>\n",
       "      <td>NaN</td>\n",
       "      <td>NaN</td>\n",
       "      <td>NaN</td>\n",
       "      <td>NaN</td>\n",
       "    </tr>\n",
       "  </tbody>\n",
       "</table>\n",
       "</div>"
      ],
      "text/plain": [
       "                     column_name  unique_count   nan_count  nan_percent  \\\n",
       "0                        case_id        111772       0.000        0.000   \n",
       "4                     num_group1            66       0.000        0.000   \n",
       "1  last180dayaveragebalance_704A          2496 145,086.000       92.234   \n",
       "2       last180dayturnover_1134A          2582 146,221.000       92.956   \n",
       "3         last30dayturnover_651A           483 146,221.000       92.956   \n",
       "5               openingdate_857D          1579  12,711.000        8.081   \n",
       "6                        this_df        157302         NaN          NaN   \n",
       "\n",
       "  data_type unique_entries  \n",
       "0     int64    >15 entries  \n",
       "4     int64    >15 entries  \n",
       "1   float64    >15 entries  \n",
       "2   float64    >15 entries  \n",
       "3   float64    >15 entries  \n",
       "5    object    >15 entries  \n",
       "6       NaN            NaN  "
      ]
     },
     "execution_count": 41,
     "metadata": {},
     "output_type": "execute_result"
    }
   ],
   "source": [
    "debit_summary = dataframe_summary(debit_df, 15)\n",
    "debit_summary"
   ]
  },
  {
   "cell_type": "code",
   "execution_count": null,
   "metadata": {},
   "outputs": [],
   "source": []
  },
  {
   "cell_type": "code",
   "execution_count": null,
   "metadata": {},
   "outputs": [],
   "source": []
  },
  {
   "cell_type": "code",
   "execution_count": null,
   "metadata": {},
   "outputs": [],
   "source": []
  },
  {
   "cell_type": "code",
   "execution_count": null,
   "metadata": {},
   "outputs": [],
   "source": []
  },
  {
   "cell_type": "code",
   "execution_count": 164,
   "metadata": {},
   "outputs": [
    {
     "data": {
      "text/html": [
       "<div>\n",
       "<style scoped>\n",
       "    .dataframe tbody tr th:only-of-type {\n",
       "        vertical-align: middle;\n",
       "    }\n",
       "\n",
       "    .dataframe tbody tr th {\n",
       "        vertical-align: top;\n",
       "    }\n",
       "\n",
       "    .dataframe thead th {\n",
       "        text-align: right;\n",
       "    }\n",
       "</style>\n",
       "<table border=\"1\" class=\"dataframe\">\n",
       "  <thead>\n",
       "    <tr style=\"text-align: right;\">\n",
       "      <th></th>\n",
       "      <th>column_name</th>\n",
       "      <th>data_type</th>\n",
       "    </tr>\n",
       "  </thead>\n",
       "  <tbody>\n",
       "    <tr>\n",
       "      <th>0</th>\n",
       "      <td>case_id</td>\n",
       "      <td>int64</td>\n",
       "    </tr>\n",
       "    <tr>\n",
       "      <th>1</th>\n",
       "      <td>date_decision</td>\n",
       "      <td>object</td>\n",
       "    </tr>\n",
       "    <tr>\n",
       "      <th>2</th>\n",
       "      <td>MONTH</td>\n",
       "      <td>int64</td>\n",
       "    </tr>\n",
       "    <tr>\n",
       "      <th>3</th>\n",
       "      <td>WEEK_NUM</td>\n",
       "      <td>int64</td>\n",
       "    </tr>\n",
       "    <tr>\n",
       "      <th>4</th>\n",
       "      <td>target</td>\n",
       "      <td>int64</td>\n",
       "    </tr>\n",
       "  </tbody>\n",
       "</table>\n",
       "</div>"
      ],
      "text/plain": [
       "     column_name data_type\n",
       "0        case_id     int64\n",
       "1  date_decision    object\n",
       "2          MONTH     int64\n",
       "3       WEEK_NUM     int64\n",
       "4         target     int64"
      ]
     },
     "execution_count": 164,
     "metadata": {},
     "output_type": "execute_result"
    }
   ],
   "source": [
    "temp = base_df.dtypes.to_frame().reset_index().rename(columns={\"index\":\"column_name\", 0:\"data_type\"})\n",
    "temp\n",
    "temp"
   ]
  },
  {
   "cell_type": "code",
   "execution_count": 141,
   "metadata": {},
   "outputs": [
    {
     "data": {
      "text/html": [
       "<div>\n",
       "<style scoped>\n",
       "    .dataframe tbody tr th:only-of-type {\n",
       "        vertical-align: middle;\n",
       "    }\n",
       "\n",
       "    .dataframe tbody tr th {\n",
       "        vertical-align: top;\n",
       "    }\n",
       "\n",
       "    .dataframe thead th {\n",
       "        text-align: right;\n",
       "    }\n",
       "</style>\n",
       "<table border=\"1\" class=\"dataframe\">\n",
       "  <thead>\n",
       "    <tr style=\"text-align: right;\">\n",
       "      <th></th>\n",
       "      <th></th>\n",
       "      <th>incometype_1044T</th>\n",
       "      <th>mainoccupationinc_384A</th>\n",
       "      <th>registaddr_zipcode_184M</th>\n",
       "      <th>birth_259D</th>\n",
       "      <th>applicant_bday</th>\n",
       "      <th>age_in_2024</th>\n",
       "    </tr>\n",
       "    <tr>\n",
       "      <th>sex_738L</th>\n",
       "      <th>target</th>\n",
       "      <th></th>\n",
       "      <th></th>\n",
       "      <th></th>\n",
       "      <th></th>\n",
       "      <th></th>\n",
       "      <th></th>\n",
       "    </tr>\n",
       "  </thead>\n",
       "  <tbody>\n",
       "    <tr>\n",
       "      <th rowspan=\"2\" valign=\"top\">F</th>\n",
       "      <th>0</th>\n",
       "      <td>927562</td>\n",
       "      <td>927562</td>\n",
       "      <td>927562</td>\n",
       "      <td>927562</td>\n",
       "      <td>927562</td>\n",
       "      <td>927562</td>\n",
       "    </tr>\n",
       "    <tr>\n",
       "      <th>1</th>\n",
       "      <td>25214</td>\n",
       "      <td>25214</td>\n",
       "      <td>25214</td>\n",
       "      <td>25214</td>\n",
       "      <td>25214</td>\n",
       "      <td>25214</td>\n",
       "    </tr>\n",
       "    <tr>\n",
       "      <th rowspan=\"2\" valign=\"top\">M</th>\n",
       "      <th>0</th>\n",
       "      <td>551103</td>\n",
       "      <td>551103</td>\n",
       "      <td>551103</td>\n",
       "      <td>551103</td>\n",
       "      <td>551103</td>\n",
       "      <td>551103</td>\n",
       "    </tr>\n",
       "    <tr>\n",
       "      <th>1</th>\n",
       "      <td>22780</td>\n",
       "      <td>22780</td>\n",
       "      <td>22780</td>\n",
       "      <td>22780</td>\n",
       "      <td>22780</td>\n",
       "      <td>22780</td>\n",
       "    </tr>\n",
       "  </tbody>\n",
       "</table>\n",
       "</div>"
      ],
      "text/plain": [
       "                 incometype_1044T  mainoccupationinc_384A  \\\n",
       "sex_738L target                                             \n",
       "F        0                 927562                  927562   \n",
       "         1                  25214                   25214   \n",
       "M        0                 551103                  551103   \n",
       "         1                  22780                   22780   \n",
       "\n",
       "                 registaddr_zipcode_184M  birth_259D  applicant_bday  \\\n",
       "sex_738L target                                                        \n",
       "F        0                        927562      927562          927562   \n",
       "         1                         25214       25214           25214   \n",
       "M        0                        551103      551103          551103   \n",
       "         1                         22780       22780           22780   \n",
       "\n",
       "                 age_in_2024  \n",
       "sex_738L target               \n",
       "F        0            927562  \n",
       "         1             25214  \n",
       "M        0            551103  \n",
       "         1             22780  "
      ]
     },
     "execution_count": 141,
     "metadata": {},
     "output_type": "execute_result"
    }
   ],
   "source": [
    "sub_credit_df.groupby([\"sex_738L\", \"target\"]).count()"
   ]
  },
  {
   "cell_type": "code",
   "execution_count": 125,
   "metadata": {},
   "outputs": [
    {
     "data": {
      "text/plain": [
       "case_id                        int64\n",
       "date_decision                 object\n",
       "MONTH                          int64\n",
       "WEEK_NUM                       int64\n",
       "target                         int64\n",
       "birth_259D                    object\n",
       "contaddr_district_15M         object\n",
       "contaddr_zipcode_807M         object\n",
       "education_927M                object\n",
       "empladdr_district_926M        object\n",
       "empladdr_zipcode_114M         object\n",
       "incometype_1044T              object\n",
       "language1_981M                object\n",
       "mainoccupationinc_384A       float64\n",
       "num_group1                     int64\n",
       "personindex_1023L            float64\n",
       "persontype_1072L             float64\n",
       "persontype_792L              float64\n",
       "registaddr_district_1083M     object\n",
       "registaddr_zipcode_184M       object\n",
       "role_1084L                    object\n",
       "safeguarantyflag_411L         object\n",
       "sex_738L                      object\n",
       "type_25L                      object\n",
       "dtype: object"
      ]
     },
     "execution_count": 125,
     "metadata": {},
     "output_type": "execute_result"
    }
   ],
   "source": [
    "credit_df.dtypes"
   ]
  },
  {
   "cell_type": "code",
   "execution_count": 86,
   "metadata": {},
   "outputs": [
    {
     "data": {
      "text/html": [
       "<div>\n",
       "<style scoped>\n",
       "    .dataframe tbody tr th:only-of-type {\n",
       "        vertical-align: middle;\n",
       "    }\n",
       "\n",
       "    .dataframe tbody tr th {\n",
       "        vertical-align: top;\n",
       "    }\n",
       "\n",
       "    .dataframe thead th {\n",
       "        text-align: right;\n",
       "    }\n",
       "</style>\n",
       "<table border=\"1\" class=\"dataframe\">\n",
       "  <thead>\n",
       "    <tr style=\"text-align: right;\">\n",
       "      <th></th>\n",
       "      <th>case_id</th>\n",
       "      <th>num_group1</th>\n",
       "      <th>personindex_1023L</th>\n",
       "      <th>persontype_1072L</th>\n",
       "      <th>persontype_792L</th>\n",
       "      <th>role_1084L</th>\n",
       "      <th>role_993L</th>\n",
       "    </tr>\n",
       "  </thead>\n",
       "  <tbody>\n",
       "    <tr>\n",
       "      <th>331801</th>\n",
       "      <td>147982</td>\n",
       "      <td>0</td>\n",
       "      <td>0.0</td>\n",
       "      <td>1.0</td>\n",
       "      <td>1.0</td>\n",
       "      <td>CL</td>\n",
       "      <td>NaN</td>\n",
       "    </tr>\n",
       "    <tr>\n",
       "      <th>331802</th>\n",
       "      <td>147982</td>\n",
       "      <td>1</td>\n",
       "      <td>1.0</td>\n",
       "      <td>1.0</td>\n",
       "      <td>5.0</td>\n",
       "      <td>EM</td>\n",
       "      <td>NaN</td>\n",
       "    </tr>\n",
       "    <tr>\n",
       "      <th>331803</th>\n",
       "      <td>147982</td>\n",
       "      <td>2</td>\n",
       "      <td>2.0</td>\n",
       "      <td>1.0</td>\n",
       "      <td>5.0</td>\n",
       "      <td>EM</td>\n",
       "      <td>NaN</td>\n",
       "    </tr>\n",
       "    <tr>\n",
       "      <th>331804</th>\n",
       "      <td>147982</td>\n",
       "      <td>3</td>\n",
       "      <td>3.0</td>\n",
       "      <td>1.0</td>\n",
       "      <td>5.0</td>\n",
       "      <td>CL</td>\n",
       "      <td>NaN</td>\n",
       "    </tr>\n",
       "    <tr>\n",
       "      <th>331805</th>\n",
       "      <td>147982</td>\n",
       "      <td>4</td>\n",
       "      <td>NaN</td>\n",
       "      <td>5.0</td>\n",
       "      <td>NaN</td>\n",
       "      <td>PE</td>\n",
       "      <td>NaN</td>\n",
       "    </tr>\n",
       "    <tr>\n",
       "      <th>331806</th>\n",
       "      <td>147982</td>\n",
       "      <td>5</td>\n",
       "      <td>NaN</td>\n",
       "      <td>5.0</td>\n",
       "      <td>NaN</td>\n",
       "      <td>PE</td>\n",
       "      <td>NaN</td>\n",
       "    </tr>\n",
       "    <tr>\n",
       "      <th>331807</th>\n",
       "      <td>147982</td>\n",
       "      <td>6</td>\n",
       "      <td>NaN</td>\n",
       "      <td>5.0</td>\n",
       "      <td>NaN</td>\n",
       "      <td>PE</td>\n",
       "      <td>NaN</td>\n",
       "    </tr>\n",
       "    <tr>\n",
       "      <th>331808</th>\n",
       "      <td>147982</td>\n",
       "      <td>7</td>\n",
       "      <td>NaN</td>\n",
       "      <td>5.0</td>\n",
       "      <td>NaN</td>\n",
       "      <td>PE</td>\n",
       "      <td>NaN</td>\n",
       "    </tr>\n",
       "    <tr>\n",
       "      <th>331809</th>\n",
       "      <td>147982</td>\n",
       "      <td>8</td>\n",
       "      <td>NaN</td>\n",
       "      <td>5.0</td>\n",
       "      <td>NaN</td>\n",
       "      <td>PE</td>\n",
       "      <td>NaN</td>\n",
       "    </tr>\n",
       "    <tr>\n",
       "      <th>331810</th>\n",
       "      <td>147982</td>\n",
       "      <td>9</td>\n",
       "      <td>NaN</td>\n",
       "      <td>5.0</td>\n",
       "      <td>NaN</td>\n",
       "      <td>PE</td>\n",
       "      <td>NaN</td>\n",
       "    </tr>\n",
       "  </tbody>\n",
       "</table>\n",
       "</div>"
      ],
      "text/plain": [
       "        case_id  num_group1  personindex_1023L  persontype_1072L  \\\n",
       "331801   147982           0                0.0               1.0   \n",
       "331802   147982           1                1.0               1.0   \n",
       "331803   147982           2                2.0               1.0   \n",
       "331804   147982           3                3.0               1.0   \n",
       "331805   147982           4                NaN               5.0   \n",
       "331806   147982           5                NaN               5.0   \n",
       "331807   147982           6                NaN               5.0   \n",
       "331808   147982           7                NaN               5.0   \n",
       "331809   147982           8                NaN               5.0   \n",
       "331810   147982           9                NaN               5.0   \n",
       "\n",
       "        persontype_792L role_1084L role_993L  \n",
       "331801              1.0         CL       NaN  \n",
       "331802              5.0         EM       NaN  \n",
       "331803              5.0         EM       NaN  \n",
       "331804              5.0         CL       NaN  \n",
       "331805              NaN         PE       NaN  \n",
       "331806              NaN         PE       NaN  \n",
       "331807              NaN         PE       NaN  \n",
       "331808              NaN         PE       NaN  \n",
       "331809              NaN         PE       NaN  \n",
       "331810              NaN         PE       NaN  "
      ]
     },
     "execution_count": 86,
     "metadata": {},
     "output_type": "execute_result"
    }
   ],
   "source": [
    "person_df_1[person_df_1[\"case_id\"]==147982][[\"case_id\", \"num_group1\", \"personindex_1023L\", \"persontype_1072L\",\n",
    "                                             \"\", \"persontype_792L\", \"role_1084L\", \"role_993L\"]]"
   ]
  },
  {
   "cell_type": "code",
   "execution_count": null,
   "metadata": {},
   "outputs": [],
   "source": []
  },
  {
   "cell_type": "code",
   "execution_count": 88,
   "metadata": {},
   "outputs": [
    {
     "data": {
      "text/html": [
       "<div>\n",
       "<style scoped>\n",
       "    .dataframe tbody tr th:only-of-type {\n",
       "        vertical-align: middle;\n",
       "    }\n",
       "\n",
       "    .dataframe tbody tr th {\n",
       "        vertical-align: top;\n",
       "    }\n",
       "\n",
       "    .dataframe thead th {\n",
       "        text-align: right;\n",
       "    }\n",
       "</style>\n",
       "<table border=\"1\" class=\"dataframe\">\n",
       "  <thead>\n",
       "    <tr style=\"text-align: right;\">\n",
       "      <th></th>\n",
       "      <th>case_id</th>\n",
       "      <th>birth_259D</th>\n",
       "      <th>birthdate_87D</th>\n",
       "      <th>childnum_185L</th>\n",
       "      <th>contaddr_district_15M</th>\n",
       "      <th>contaddr_matchlist_1032L</th>\n",
       "      <th>contaddr_smempladdr_334L</th>\n",
       "      <th>contaddr_zipcode_807M</th>\n",
       "      <th>education_927M</th>\n",
       "      <th>empl_employedfrom_271D</th>\n",
       "      <th>...</th>\n",
       "      <th>registaddr_district_1083M</th>\n",
       "      <th>registaddr_zipcode_184M</th>\n",
       "      <th>relationshiptoclient_415T</th>\n",
       "      <th>relationshiptoclient_642T</th>\n",
       "      <th>remitter_829L</th>\n",
       "      <th>role_1084L</th>\n",
       "      <th>role_993L</th>\n",
       "      <th>safeguarantyflag_411L</th>\n",
       "      <th>sex_738L</th>\n",
       "      <th>type_25L</th>\n",
       "    </tr>\n",
       "  </thead>\n",
       "  <tbody>\n",
       "    <tr>\n",
       "      <th>0</th>\n",
       "      <td>0</td>\n",
       "      <td>1986-07-01</td>\n",
       "      <td>NaN</td>\n",
       "      <td>NaN</td>\n",
       "      <td>P88_18_84</td>\n",
       "      <td>False</td>\n",
       "      <td>False</td>\n",
       "      <td>P167_100_165</td>\n",
       "      <td>P97_36_170</td>\n",
       "      <td>2017-09-15</td>\n",
       "      <td>...</td>\n",
       "      <td>P88_18_84</td>\n",
       "      <td>P167_100_165</td>\n",
       "      <td>NaN</td>\n",
       "      <td>NaN</td>\n",
       "      <td>NaN</td>\n",
       "      <td>CL</td>\n",
       "      <td>NaN</td>\n",
       "      <td>True</td>\n",
       "      <td>F</td>\n",
       "      <td>PRIMARY_MOBILE</td>\n",
       "    </tr>\n",
       "    <tr>\n",
       "      <th>1</th>\n",
       "      <td>0</td>\n",
       "      <td>NaN</td>\n",
       "      <td>NaN</td>\n",
       "      <td>NaN</td>\n",
       "      <td>a55475b1</td>\n",
       "      <td>NaN</td>\n",
       "      <td>NaN</td>\n",
       "      <td>a55475b1</td>\n",
       "      <td>a55475b1</td>\n",
       "      <td>NaN</td>\n",
       "      <td>...</td>\n",
       "      <td>a55475b1</td>\n",
       "      <td>a55475b1</td>\n",
       "      <td>SPOUSE</td>\n",
       "      <td>NaN</td>\n",
       "      <td>False</td>\n",
       "      <td>EM</td>\n",
       "      <td>NaN</td>\n",
       "      <td>NaN</td>\n",
       "      <td>NaN</td>\n",
       "      <td>PHONE</td>\n",
       "    </tr>\n",
       "    <tr>\n",
       "      <th>2</th>\n",
       "      <td>0</td>\n",
       "      <td>NaN</td>\n",
       "      <td>NaN</td>\n",
       "      <td>NaN</td>\n",
       "      <td>a55475b1</td>\n",
       "      <td>NaN</td>\n",
       "      <td>NaN</td>\n",
       "      <td>a55475b1</td>\n",
       "      <td>a55475b1</td>\n",
       "      <td>NaN</td>\n",
       "      <td>...</td>\n",
       "      <td>a55475b1</td>\n",
       "      <td>a55475b1</td>\n",
       "      <td>COLLEAGUE</td>\n",
       "      <td>SPOUSE</td>\n",
       "      <td>False</td>\n",
       "      <td>PE</td>\n",
       "      <td>NaN</td>\n",
       "      <td>NaN</td>\n",
       "      <td>NaN</td>\n",
       "      <td>PHONE</td>\n",
       "    </tr>\n",
       "    <tr>\n",
       "      <th>3</th>\n",
       "      <td>0</td>\n",
       "      <td>NaN</td>\n",
       "      <td>NaN</td>\n",
       "      <td>NaN</td>\n",
       "      <td>a55475b1</td>\n",
       "      <td>NaN</td>\n",
       "      <td>NaN</td>\n",
       "      <td>a55475b1</td>\n",
       "      <td>a55475b1</td>\n",
       "      <td>NaN</td>\n",
       "      <td>...</td>\n",
       "      <td>a55475b1</td>\n",
       "      <td>a55475b1</td>\n",
       "      <td>NaN</td>\n",
       "      <td>COLLEAGUE</td>\n",
       "      <td>NaN</td>\n",
       "      <td>PE</td>\n",
       "      <td>NaN</td>\n",
       "      <td>NaN</td>\n",
       "      <td>NaN</td>\n",
       "      <td>PHONE</td>\n",
       "    </tr>\n",
       "  </tbody>\n",
       "</table>\n",
       "<p>4 rows × 37 columns</p>\n",
       "</div>"
      ],
      "text/plain": [
       "   case_id  birth_259D birthdate_87D  childnum_185L contaddr_district_15M  \\\n",
       "0        0  1986-07-01           NaN            NaN             P88_18_84   \n",
       "1        0         NaN           NaN            NaN              a55475b1   \n",
       "2        0         NaN           NaN            NaN              a55475b1   \n",
       "3        0         NaN           NaN            NaN              a55475b1   \n",
       "\n",
       "  contaddr_matchlist_1032L contaddr_smempladdr_334L contaddr_zipcode_807M  \\\n",
       "0                    False                    False          P167_100_165   \n",
       "1                      NaN                      NaN              a55475b1   \n",
       "2                      NaN                      NaN              a55475b1   \n",
       "3                      NaN                      NaN              a55475b1   \n",
       "\n",
       "  education_927M empl_employedfrom_271D  ... registaddr_district_1083M  \\\n",
       "0     P97_36_170             2017-09-15  ...                 P88_18_84   \n",
       "1       a55475b1                    NaN  ...                  a55475b1   \n",
       "2       a55475b1                    NaN  ...                  a55475b1   \n",
       "3       a55475b1                    NaN  ...                  a55475b1   \n",
       "\n",
       "  registaddr_zipcode_184M relationshiptoclient_415T relationshiptoclient_642T  \\\n",
       "0            P167_100_165                       NaN                       NaN   \n",
       "1                a55475b1                    SPOUSE                       NaN   \n",
       "2                a55475b1                 COLLEAGUE                    SPOUSE   \n",
       "3                a55475b1                       NaN                 COLLEAGUE   \n",
       "\n",
       "  remitter_829L role_1084L role_993L safeguarantyflag_411L sex_738L  \\\n",
       "0           NaN         CL       NaN                  True        F   \n",
       "1         False         EM       NaN                   NaN      NaN   \n",
       "2         False         PE       NaN                   NaN      NaN   \n",
       "3           NaN         PE       NaN                   NaN      NaN   \n",
       "\n",
       "         type_25L  \n",
       "0  PRIMARY_MOBILE  \n",
       "1           PHONE  \n",
       "2           PHONE  \n",
       "3           PHONE  \n",
       "\n",
       "[4 rows x 37 columns]"
      ]
     },
     "execution_count": 88,
     "metadata": {},
     "output_type": "execute_result"
    }
   ],
   "source": [
    "person_df_1[person_df_1[\"case_id\"]==0]"
   ]
  },
  {
   "cell_type": "code",
   "execution_count": 92,
   "metadata": {},
   "outputs": [
    {
     "data": {
      "text/html": [
       "<div>\n",
       "<style scoped>\n",
       "    .dataframe tbody tr th:only-of-type {\n",
       "        vertical-align: middle;\n",
       "    }\n",
       "\n",
       "    .dataframe tbody tr th {\n",
       "        vertical-align: top;\n",
       "    }\n",
       "\n",
       "    .dataframe thead th {\n",
       "        text-align: right;\n",
       "    }\n",
       "</style>\n",
       "<table border=\"1\" class=\"dataframe\">\n",
       "  <thead>\n",
       "    <tr style=\"text-align: right;\">\n",
       "      <th></th>\n",
       "      <th>case_id</th>\n",
       "      <th>num_group1</th>\n",
       "      <th>personindex_1023L</th>\n",
       "      <th>persontype_1072L</th>\n",
       "      <th>maritalst_703L</th>\n",
       "      <th>relationshiptoclient_415T</th>\n",
       "      <th>relationshiptoclient_642T</th>\n",
       "      <th>persontype_792L</th>\n",
       "      <th>role_1084L</th>\n",
       "      <th>role_993L</th>\n",
       "    </tr>\n",
       "  </thead>\n",
       "  <tbody>\n",
       "    <tr>\n",
       "      <th>0</th>\n",
       "      <td>0</td>\n",
       "      <td>0</td>\n",
       "      <td>0.0</td>\n",
       "      <td>1.0</td>\n",
       "      <td>NaN</td>\n",
       "      <td>NaN</td>\n",
       "      <td>NaN</td>\n",
       "      <td>1.0</td>\n",
       "      <td>CL</td>\n",
       "      <td>NaN</td>\n",
       "    </tr>\n",
       "    <tr>\n",
       "      <th>1</th>\n",
       "      <td>0</td>\n",
       "      <td>1</td>\n",
       "      <td>1.0</td>\n",
       "      <td>1.0</td>\n",
       "      <td>NaN</td>\n",
       "      <td>SPOUSE</td>\n",
       "      <td>NaN</td>\n",
       "      <td>4.0</td>\n",
       "      <td>EM</td>\n",
       "      <td>NaN</td>\n",
       "    </tr>\n",
       "    <tr>\n",
       "      <th>2</th>\n",
       "      <td>0</td>\n",
       "      <td>2</td>\n",
       "      <td>2.0</td>\n",
       "      <td>4.0</td>\n",
       "      <td>NaN</td>\n",
       "      <td>COLLEAGUE</td>\n",
       "      <td>SPOUSE</td>\n",
       "      <td>5.0</td>\n",
       "      <td>PE</td>\n",
       "      <td>NaN</td>\n",
       "    </tr>\n",
       "    <tr>\n",
       "      <th>3</th>\n",
       "      <td>0</td>\n",
       "      <td>3</td>\n",
       "      <td>NaN</td>\n",
       "      <td>5.0</td>\n",
       "      <td>NaN</td>\n",
       "      <td>NaN</td>\n",
       "      <td>COLLEAGUE</td>\n",
       "      <td>NaN</td>\n",
       "      <td>PE</td>\n",
       "      <td>NaN</td>\n",
       "    </tr>\n",
       "  </tbody>\n",
       "</table>\n",
       "</div>"
      ],
      "text/plain": [
       "   case_id  num_group1  personindex_1023L  persontype_1072L maritalst_703L  \\\n",
       "0        0           0                0.0               1.0            NaN   \n",
       "1        0           1                1.0               1.0            NaN   \n",
       "2        0           2                2.0               4.0            NaN   \n",
       "3        0           3                NaN               5.0            NaN   \n",
       "\n",
       "  relationshiptoclient_415T relationshiptoclient_642T  persontype_792L  \\\n",
       "0                       NaN                       NaN              1.0   \n",
       "1                    SPOUSE                       NaN              4.0   \n",
       "2                 COLLEAGUE                    SPOUSE              5.0   \n",
       "3                       NaN                 COLLEAGUE              NaN   \n",
       "\n",
       "  role_1084L role_993L  \n",
       "0         CL       NaN  \n",
       "1         EM       NaN  \n",
       "2         PE       NaN  \n",
       "3         PE       NaN  "
      ]
     },
     "execution_count": 92,
     "metadata": {},
     "output_type": "execute_result"
    }
   ],
   "source": [
    "person_df_1[person_df_1[\"case_id\"]==0][[\"case_id\", \"num_group1\", \"personindex_1023L\", \"persontype_1072L\", \"maritalst_703L\",\n",
    "                                        \"relationshiptoclient_415T\", \"relationshiptoclient_642T\", \"persontype_792L\", \n",
    "                                        \"role_1084L\", \"role_993L\"]]"
   ]
  },
  {
   "cell_type": "code",
   "execution_count": 95,
   "metadata": {},
   "outputs": [],
   "source": [
    "temp = person_df_1[person_df_1[\"num_group1\"]==0]"
   ]
  },
  {
   "cell_type": "code",
   "execution_count": 96,
   "metadata": {},
   "outputs": [
    {
     "data": {
      "text/html": [
       "<div>\n",
       "<style scoped>\n",
       "    .dataframe tbody tr th:only-of-type {\n",
       "        vertical-align: middle;\n",
       "    }\n",
       "\n",
       "    .dataframe tbody tr th {\n",
       "        vertical-align: top;\n",
       "    }\n",
       "\n",
       "    .dataframe thead th {\n",
       "        text-align: right;\n",
       "    }\n",
       "</style>\n",
       "<table border=\"1\" class=\"dataframe\">\n",
       "  <thead>\n",
       "    <tr style=\"text-align: right;\">\n",
       "      <th></th>\n",
       "      <th>case_id</th>\n",
       "      <th>birth_259D</th>\n",
       "      <th>birthdate_87D</th>\n",
       "      <th>childnum_185L</th>\n",
       "      <th>contaddr_district_15M</th>\n",
       "      <th>contaddr_matchlist_1032L</th>\n",
       "      <th>contaddr_smempladdr_334L</th>\n",
       "      <th>contaddr_zipcode_807M</th>\n",
       "      <th>education_927M</th>\n",
       "      <th>empl_employedfrom_271D</th>\n",
       "      <th>...</th>\n",
       "      <th>registaddr_district_1083M</th>\n",
       "      <th>registaddr_zipcode_184M</th>\n",
       "      <th>relationshiptoclient_415T</th>\n",
       "      <th>relationshiptoclient_642T</th>\n",
       "      <th>remitter_829L</th>\n",
       "      <th>role_1084L</th>\n",
       "      <th>role_993L</th>\n",
       "      <th>safeguarantyflag_411L</th>\n",
       "      <th>sex_738L</th>\n",
       "      <th>type_25L</th>\n",
       "    </tr>\n",
       "  </thead>\n",
       "  <tbody>\n",
       "    <tr>\n",
       "      <th>0</th>\n",
       "      <td>0</td>\n",
       "      <td>1986-07-01</td>\n",
       "      <td>NaN</td>\n",
       "      <td>NaN</td>\n",
       "      <td>P88_18_84</td>\n",
       "      <td>False</td>\n",
       "      <td>False</td>\n",
       "      <td>P167_100_165</td>\n",
       "      <td>P97_36_170</td>\n",
       "      <td>2017-09-15</td>\n",
       "      <td>...</td>\n",
       "      <td>P88_18_84</td>\n",
       "      <td>P167_100_165</td>\n",
       "      <td>NaN</td>\n",
       "      <td>NaN</td>\n",
       "      <td>NaN</td>\n",
       "      <td>CL</td>\n",
       "      <td>NaN</td>\n",
       "      <td>True</td>\n",
       "      <td>F</td>\n",
       "      <td>PRIMARY_MOBILE</td>\n",
       "    </tr>\n",
       "    <tr>\n",
       "      <th>4</th>\n",
       "      <td>1</td>\n",
       "      <td>1957-08-01</td>\n",
       "      <td>NaN</td>\n",
       "      <td>NaN</td>\n",
       "      <td>P103_93_94</td>\n",
       "      <td>False</td>\n",
       "      <td>False</td>\n",
       "      <td>P176_37_166</td>\n",
       "      <td>P97_36_170</td>\n",
       "      <td>2008-10-29</td>\n",
       "      <td>...</td>\n",
       "      <td>P103_93_94</td>\n",
       "      <td>P176_37_166</td>\n",
       "      <td>NaN</td>\n",
       "      <td>NaN</td>\n",
       "      <td>NaN</td>\n",
       "      <td>CL</td>\n",
       "      <td>NaN</td>\n",
       "      <td>True</td>\n",
       "      <td>M</td>\n",
       "      <td>PRIMARY_MOBILE</td>\n",
       "    </tr>\n",
       "    <tr>\n",
       "      <th>9</th>\n",
       "      <td>2</td>\n",
       "      <td>1974-12-01</td>\n",
       "      <td>NaN</td>\n",
       "      <td>NaN</td>\n",
       "      <td>P91_125_184</td>\n",
       "      <td>False</td>\n",
       "      <td>False</td>\n",
       "      <td>P161_5_97</td>\n",
       "      <td>P97_36_170</td>\n",
       "      <td>2010-02-15</td>\n",
       "      <td>...</td>\n",
       "      <td>P91_125_184</td>\n",
       "      <td>P161_5_97</td>\n",
       "      <td>NaN</td>\n",
       "      <td>NaN</td>\n",
       "      <td>NaN</td>\n",
       "      <td>EM</td>\n",
       "      <td>NaN</td>\n",
       "      <td>True</td>\n",
       "      <td>F</td>\n",
       "      <td>PRIMARY_MOBILE</td>\n",
       "    </tr>\n",
       "    <tr>\n",
       "      <th>14</th>\n",
       "      <td>3</td>\n",
       "      <td>1993-08-01</td>\n",
       "      <td>NaN</td>\n",
       "      <td>NaN</td>\n",
       "      <td>P155_139_77</td>\n",
       "      <td>False</td>\n",
       "      <td>False</td>\n",
       "      <td>P161_14_174</td>\n",
       "      <td>P33_146_175</td>\n",
       "      <td>2018-05-15</td>\n",
       "      <td>...</td>\n",
       "      <td>P155_139_77</td>\n",
       "      <td>P161_14_174</td>\n",
       "      <td>NaN</td>\n",
       "      <td>NaN</td>\n",
       "      <td>NaN</td>\n",
       "      <td>CL</td>\n",
       "      <td>NaN</td>\n",
       "      <td>True</td>\n",
       "      <td>F</td>\n",
       "      <td>PRIMARY_MOBILE</td>\n",
       "    </tr>\n",
       "    <tr>\n",
       "      <th>17</th>\n",
       "      <td>4</td>\n",
       "      <td>1994-01-01</td>\n",
       "      <td>NaN</td>\n",
       "      <td>NaN</td>\n",
       "      <td>P194_82_174</td>\n",
       "      <td>False</td>\n",
       "      <td>False</td>\n",
       "      <td>P8_88_79</td>\n",
       "      <td>P33_146_175</td>\n",
       "      <td>2014-12-15</td>\n",
       "      <td>...</td>\n",
       "      <td>P194_82_174</td>\n",
       "      <td>P8_88_79</td>\n",
       "      <td>NaN</td>\n",
       "      <td>NaN</td>\n",
       "      <td>NaN</td>\n",
       "      <td>CL</td>\n",
       "      <td>NaN</td>\n",
       "      <td>True</td>\n",
       "      <td>F</td>\n",
       "      <td>PRIMARY_MOBILE</td>\n",
       "    </tr>\n",
       "    <tr>\n",
       "      <th>...</th>\n",
       "      <td>...</td>\n",
       "      <td>...</td>\n",
       "      <td>...</td>\n",
       "      <td>...</td>\n",
       "      <td>...</td>\n",
       "      <td>...</td>\n",
       "      <td>...</td>\n",
       "      <td>...</td>\n",
       "      <td>...</td>\n",
       "      <td>...</td>\n",
       "      <td>...</td>\n",
       "      <td>...</td>\n",
       "      <td>...</td>\n",
       "      <td>...</td>\n",
       "      <td>...</td>\n",
       "      <td>...</td>\n",
       "      <td>...</td>\n",
       "      <td>...</td>\n",
       "      <td>...</td>\n",
       "      <td>...</td>\n",
       "      <td>...</td>\n",
       "    </tr>\n",
       "    <tr>\n",
       "      <th>2973984</th>\n",
       "      <td>2703450</td>\n",
       "      <td>1960-01-01</td>\n",
       "      <td>NaN</td>\n",
       "      <td>NaN</td>\n",
       "      <td>P123_39_170</td>\n",
       "      <td>False</td>\n",
       "      <td>False</td>\n",
       "      <td>P40_33_175</td>\n",
       "      <td>a55475b1</td>\n",
       "      <td>NaN</td>\n",
       "      <td>...</td>\n",
       "      <td>P123_39_170</td>\n",
       "      <td>P40_33_175</td>\n",
       "      <td>NaN</td>\n",
       "      <td>NaN</td>\n",
       "      <td>NaN</td>\n",
       "      <td>CL</td>\n",
       "      <td>NaN</td>\n",
       "      <td>True</td>\n",
       "      <td>F</td>\n",
       "      <td>PRIMARY_MOBILE</td>\n",
       "    </tr>\n",
       "    <tr>\n",
       "      <th>2973985</th>\n",
       "      <td>2703451</td>\n",
       "      <td>1950-11-01</td>\n",
       "      <td>NaN</td>\n",
       "      <td>NaN</td>\n",
       "      <td>P162_18_172</td>\n",
       "      <td>False</td>\n",
       "      <td>False</td>\n",
       "      <td>P80_161_153</td>\n",
       "      <td>a55475b1</td>\n",
       "      <td>NaN</td>\n",
       "      <td>...</td>\n",
       "      <td>P162_18_172</td>\n",
       "      <td>P80_161_153</td>\n",
       "      <td>NaN</td>\n",
       "      <td>NaN</td>\n",
       "      <td>NaN</td>\n",
       "      <td>CL</td>\n",
       "      <td>NaN</td>\n",
       "      <td>True</td>\n",
       "      <td>F</td>\n",
       "      <td>PRIMARY_MOBILE</td>\n",
       "    </tr>\n",
       "    <tr>\n",
       "      <th>2973987</th>\n",
       "      <td>2703452</td>\n",
       "      <td>1977-08-01</td>\n",
       "      <td>NaN</td>\n",
       "      <td>NaN</td>\n",
       "      <td>P133_44_167</td>\n",
       "      <td>False</td>\n",
       "      <td>False</td>\n",
       "      <td>P59_150_74</td>\n",
       "      <td>a55475b1</td>\n",
       "      <td>NaN</td>\n",
       "      <td>...</td>\n",
       "      <td>P19_11_176</td>\n",
       "      <td>P11_15_81</td>\n",
       "      <td>NaN</td>\n",
       "      <td>NaN</td>\n",
       "      <td>NaN</td>\n",
       "      <td>CL</td>\n",
       "      <td>NaN</td>\n",
       "      <td>False</td>\n",
       "      <td>M</td>\n",
       "      <td>PRIMARY_MOBILE</td>\n",
       "    </tr>\n",
       "    <tr>\n",
       "      <th>2973988</th>\n",
       "      <td>2703453</td>\n",
       "      <td>1950-02-01</td>\n",
       "      <td>NaN</td>\n",
       "      <td>NaN</td>\n",
       "      <td>P123_6_84</td>\n",
       "      <td>False</td>\n",
       "      <td>False</td>\n",
       "      <td>P46_103_143</td>\n",
       "      <td>a55475b1</td>\n",
       "      <td>NaN</td>\n",
       "      <td>...</td>\n",
       "      <td>P123_6_84</td>\n",
       "      <td>P46_103_143</td>\n",
       "      <td>NaN</td>\n",
       "      <td>NaN</td>\n",
       "      <td>NaN</td>\n",
       "      <td>CL</td>\n",
       "      <td>NaN</td>\n",
       "      <td>False</td>\n",
       "      <td>F</td>\n",
       "      <td>PRIMARY_MOBILE</td>\n",
       "    </tr>\n",
       "    <tr>\n",
       "      <th>2973990</th>\n",
       "      <td>2703454</td>\n",
       "      <td>1948-04-01</td>\n",
       "      <td>NaN</td>\n",
       "      <td>NaN</td>\n",
       "      <td>P48_127_19</td>\n",
       "      <td>False</td>\n",
       "      <td>False</td>\n",
       "      <td>P78_144_175</td>\n",
       "      <td>a55475b1</td>\n",
       "      <td>NaN</td>\n",
       "      <td>...</td>\n",
       "      <td>P48_127_19</td>\n",
       "      <td>P78_144_175</td>\n",
       "      <td>NaN</td>\n",
       "      <td>NaN</td>\n",
       "      <td>NaN</td>\n",
       "      <td>CL</td>\n",
       "      <td>NaN</td>\n",
       "      <td>True</td>\n",
       "      <td>F</td>\n",
       "      <td>PRIMARY_MOBILE</td>\n",
       "    </tr>\n",
       "  </tbody>\n",
       "</table>\n",
       "<p>1526659 rows × 37 columns</p>\n",
       "</div>"
      ],
      "text/plain": [
       "         case_id  birth_259D birthdate_87D  childnum_185L  \\\n",
       "0              0  1986-07-01           NaN            NaN   \n",
       "4              1  1957-08-01           NaN            NaN   \n",
       "9              2  1974-12-01           NaN            NaN   \n",
       "14             3  1993-08-01           NaN            NaN   \n",
       "17             4  1994-01-01           NaN            NaN   \n",
       "...          ...         ...           ...            ...   \n",
       "2973984  2703450  1960-01-01           NaN            NaN   \n",
       "2973985  2703451  1950-11-01           NaN            NaN   \n",
       "2973987  2703452  1977-08-01           NaN            NaN   \n",
       "2973988  2703453  1950-02-01           NaN            NaN   \n",
       "2973990  2703454  1948-04-01           NaN            NaN   \n",
       "\n",
       "        contaddr_district_15M contaddr_matchlist_1032L  \\\n",
       "0                   P88_18_84                    False   \n",
       "4                  P103_93_94                    False   \n",
       "9                 P91_125_184                    False   \n",
       "14                P155_139_77                    False   \n",
       "17                P194_82_174                    False   \n",
       "...                       ...                      ...   \n",
       "2973984           P123_39_170                    False   \n",
       "2973985           P162_18_172                    False   \n",
       "2973987           P133_44_167                    False   \n",
       "2973988             P123_6_84                    False   \n",
       "2973990            P48_127_19                    False   \n",
       "\n",
       "        contaddr_smempladdr_334L contaddr_zipcode_807M education_927M  \\\n",
       "0                          False          P167_100_165     P97_36_170   \n",
       "4                          False           P176_37_166     P97_36_170   \n",
       "9                          False             P161_5_97     P97_36_170   \n",
       "14                         False           P161_14_174    P33_146_175   \n",
       "17                         False              P8_88_79    P33_146_175   \n",
       "...                          ...                   ...            ...   \n",
       "2973984                    False            P40_33_175       a55475b1   \n",
       "2973985                    False           P80_161_153       a55475b1   \n",
       "2973987                    False            P59_150_74       a55475b1   \n",
       "2973988                    False           P46_103_143       a55475b1   \n",
       "2973990                    False           P78_144_175       a55475b1   \n",
       "\n",
       "        empl_employedfrom_271D  ... registaddr_district_1083M  \\\n",
       "0                   2017-09-15  ...                 P88_18_84   \n",
       "4                   2008-10-29  ...                P103_93_94   \n",
       "9                   2010-02-15  ...               P91_125_184   \n",
       "14                  2018-05-15  ...               P155_139_77   \n",
       "17                  2014-12-15  ...               P194_82_174   \n",
       "...                        ...  ...                       ...   \n",
       "2973984                    NaN  ...               P123_39_170   \n",
       "2973985                    NaN  ...               P162_18_172   \n",
       "2973987                    NaN  ...                P19_11_176   \n",
       "2973988                    NaN  ...                 P123_6_84   \n",
       "2973990                    NaN  ...                P48_127_19   \n",
       "\n",
       "        registaddr_zipcode_184M relationshiptoclient_415T  \\\n",
       "0                  P167_100_165                       NaN   \n",
       "4                   P176_37_166                       NaN   \n",
       "9                     P161_5_97                       NaN   \n",
       "14                  P161_14_174                       NaN   \n",
       "17                     P8_88_79                       NaN   \n",
       "...                         ...                       ...   \n",
       "2973984              P40_33_175                       NaN   \n",
       "2973985             P80_161_153                       NaN   \n",
       "2973987               P11_15_81                       NaN   \n",
       "2973988             P46_103_143                       NaN   \n",
       "2973990             P78_144_175                       NaN   \n",
       "\n",
       "        relationshiptoclient_642T remitter_829L role_1084L role_993L  \\\n",
       "0                             NaN           NaN         CL       NaN   \n",
       "4                             NaN           NaN         CL       NaN   \n",
       "9                             NaN           NaN         EM       NaN   \n",
       "14                            NaN           NaN         CL       NaN   \n",
       "17                            NaN           NaN         CL       NaN   \n",
       "...                           ...           ...        ...       ...   \n",
       "2973984                       NaN           NaN         CL       NaN   \n",
       "2973985                       NaN           NaN         CL       NaN   \n",
       "2973987                       NaN           NaN         CL       NaN   \n",
       "2973988                       NaN           NaN         CL       NaN   \n",
       "2973990                       NaN           NaN         CL       NaN   \n",
       "\n",
       "        safeguarantyflag_411L sex_738L        type_25L  \n",
       "0                        True        F  PRIMARY_MOBILE  \n",
       "4                        True        M  PRIMARY_MOBILE  \n",
       "9                        True        F  PRIMARY_MOBILE  \n",
       "14                       True        F  PRIMARY_MOBILE  \n",
       "17                       True        F  PRIMARY_MOBILE  \n",
       "...                       ...      ...             ...  \n",
       "2973984                  True        F  PRIMARY_MOBILE  \n",
       "2973985                  True        F  PRIMARY_MOBILE  \n",
       "2973987                 False        M  PRIMARY_MOBILE  \n",
       "2973988                 False        F  PRIMARY_MOBILE  \n",
       "2973990                  True        F  PRIMARY_MOBILE  \n",
       "\n",
       "[1526659 rows x 37 columns]"
      ]
     },
     "execution_count": 96,
     "metadata": {},
     "output_type": "execute_result"
    }
   ],
   "source": [
    "temp"
   ]
  },
  {
   "cell_type": "code",
   "execution_count": 97,
   "metadata": {},
   "outputs": [
    {
     "data": {
      "text/plain": [
       "1526659"
      ]
     },
     "execution_count": 97,
     "metadata": {},
     "output_type": "execute_result"
    }
   ],
   "source": [
    "len(set(temp[\"case_id\"].to_list()))"
   ]
  },
  {
   "cell_type": "code",
   "execution_count": 98,
   "metadata": {},
   "outputs": [
    {
     "data": {
      "text/html": [
       "<div>\n",
       "<style scoped>\n",
       "    .dataframe tbody tr th:only-of-type {\n",
       "        vertical-align: middle;\n",
       "    }\n",
       "\n",
       "    .dataframe tbody tr th {\n",
       "        vertical-align: top;\n",
       "    }\n",
       "\n",
       "    .dataframe thead th {\n",
       "        text-align: right;\n",
       "    }\n",
       "</style>\n",
       "<table border=\"1\" class=\"dataframe\">\n",
       "  <thead>\n",
       "    <tr style=\"text-align: right;\">\n",
       "      <th></th>\n",
       "      <th>case_id</th>\n",
       "      <th>birth_259D</th>\n",
       "      <th>birthdate_87D</th>\n",
       "      <th>childnum_185L</th>\n",
       "      <th>contaddr_district_15M</th>\n",
       "      <th>contaddr_matchlist_1032L</th>\n",
       "      <th>contaddr_smempladdr_334L</th>\n",
       "      <th>contaddr_zipcode_807M</th>\n",
       "      <th>education_927M</th>\n",
       "      <th>empl_employedfrom_271D</th>\n",
       "      <th>...</th>\n",
       "      <th>registaddr_district_1083M</th>\n",
       "      <th>registaddr_zipcode_184M</th>\n",
       "      <th>relationshiptoclient_415T</th>\n",
       "      <th>relationshiptoclient_642T</th>\n",
       "      <th>remitter_829L</th>\n",
       "      <th>role_1084L</th>\n",
       "      <th>role_993L</th>\n",
       "      <th>safeguarantyflag_411L</th>\n",
       "      <th>sex_738L</th>\n",
       "      <th>type_25L</th>\n",
       "    </tr>\n",
       "  </thead>\n",
       "  <tbody>\n",
       "    <tr>\n",
       "      <th>21</th>\n",
       "      <td>5</td>\n",
       "      <td>1979-10-01</td>\n",
       "      <td>NaN</td>\n",
       "      <td>NaN</td>\n",
       "      <td>P54_133_26</td>\n",
       "      <td>False</td>\n",
       "      <td>False</td>\n",
       "      <td>P66_157_171</td>\n",
       "      <td>P97_36_170</td>\n",
       "      <td>2016-01-15</td>\n",
       "      <td>...</td>\n",
       "      <td>P54_133_26</td>\n",
       "      <td>P66_157_171</td>\n",
       "      <td>NaN</td>\n",
       "      <td>NaN</td>\n",
       "      <td>NaN</td>\n",
       "      <td>CL</td>\n",
       "      <td>NaN</td>\n",
       "      <td>True</td>\n",
       "      <td>F</td>\n",
       "      <td>PRIMARY_MOBILE</td>\n",
       "    </tr>\n",
       "  </tbody>\n",
       "</table>\n",
       "<p>1 rows × 37 columns</p>\n",
       "</div>"
      ],
      "text/plain": [
       "    case_id  birth_259D birthdate_87D  childnum_185L contaddr_district_15M  \\\n",
       "21        5  1979-10-01           NaN            NaN            P54_133_26   \n",
       "\n",
       "   contaddr_matchlist_1032L contaddr_smempladdr_334L contaddr_zipcode_807M  \\\n",
       "21                    False                    False           P66_157_171   \n",
       "\n",
       "   education_927M empl_employedfrom_271D  ... registaddr_district_1083M  \\\n",
       "21     P97_36_170             2016-01-15  ...                P54_133_26   \n",
       "\n",
       "   registaddr_zipcode_184M relationshiptoclient_415T  \\\n",
       "21             P66_157_171                       NaN   \n",
       "\n",
       "   relationshiptoclient_642T remitter_829L role_1084L role_993L  \\\n",
       "21                       NaN           NaN         CL       NaN   \n",
       "\n",
       "   safeguarantyflag_411L sex_738L        type_25L  \n",
       "21                  True        F  PRIMARY_MOBILE  \n",
       "\n",
       "[1 rows x 37 columns]"
      ]
     },
     "execution_count": 98,
     "metadata": {},
     "output_type": "execute_result"
    }
   ],
   "source": [
    "temp[temp[\"case_id\"]==5]"
   ]
  },
  {
   "cell_type": "code",
   "execution_count": null,
   "metadata": {},
   "outputs": [],
   "source": []
  },
  {
   "cell_type": "code",
   "execution_count": 33,
   "metadata": {},
   "outputs": [
    {
     "data": {
      "text/html": [
       "<div>\n",
       "<style scoped>\n",
       "    .dataframe tbody tr th:only-of-type {\n",
       "        vertical-align: middle;\n",
       "    }\n",
       "\n",
       "    .dataframe tbody tr th {\n",
       "        vertical-align: top;\n",
       "    }\n",
       "\n",
       "    .dataframe thead th {\n",
       "        text-align: right;\n",
       "    }\n",
       "</style>\n",
       "<table border=\"1\" class=\"dataframe\">\n",
       "  <thead>\n",
       "    <tr style=\"text-align: right;\">\n",
       "      <th></th>\n",
       "      <th>case_id</th>\n",
       "      <th>addres_district_368M</th>\n",
       "      <th>addres_role_871L</th>\n",
       "      <th>addres_zip_823M</th>\n",
       "      <th>conts_role_79M</th>\n",
       "      <th>empls_economicalst_849M</th>\n",
       "      <th>empls_employedfrom_796D</th>\n",
       "      <th>empls_employer_name_740M</th>\n",
       "      <th>num_group1</th>\n",
       "      <th>num_group2</th>\n",
       "      <th>relatedpersons_role_762T</th>\n",
       "    </tr>\n",
       "  </thead>\n",
       "  <tbody>\n",
       "    <tr>\n",
       "      <th>0</th>\n",
       "      <td>5</td>\n",
       "      <td>a55475b1</td>\n",
       "      <td>NaN</td>\n",
       "      <td>a55475b1</td>\n",
       "      <td>a55475b1</td>\n",
       "      <td>a55475b1</td>\n",
       "      <td>NaN</td>\n",
       "      <td>a55475b1</td>\n",
       "      <td>0</td>\n",
       "      <td>0</td>\n",
       "      <td>NaN</td>\n",
       "    </tr>\n",
       "    <tr>\n",
       "      <th>1</th>\n",
       "      <td>6</td>\n",
       "      <td>P55_110_32</td>\n",
       "      <td>CONTACT</td>\n",
       "      <td>P10_68_40</td>\n",
       "      <td>P38_92_157</td>\n",
       "      <td>P164_110_33</td>\n",
       "      <td>NaN</td>\n",
       "      <td>a55475b1</td>\n",
       "      <td>0</td>\n",
       "      <td>0</td>\n",
       "      <td>NaN</td>\n",
       "    </tr>\n",
       "    <tr>\n",
       "      <th>2</th>\n",
       "      <td>6</td>\n",
       "      <td>P55_110_32</td>\n",
       "      <td>PERMANENT</td>\n",
       "      <td>P10_68_40</td>\n",
       "      <td>a55475b1</td>\n",
       "      <td>a55475b1</td>\n",
       "      <td>NaN</td>\n",
       "      <td>a55475b1</td>\n",
       "      <td>0</td>\n",
       "      <td>1</td>\n",
       "      <td>NaN</td>\n",
       "    </tr>\n",
       "    <tr>\n",
       "      <th>3</th>\n",
       "      <td>6</td>\n",
       "      <td>P204_92_178</td>\n",
       "      <td>CONTACT</td>\n",
       "      <td>P65_136_169</td>\n",
       "      <td>P38_92_157</td>\n",
       "      <td>P164_110_33</td>\n",
       "      <td>NaN</td>\n",
       "      <td>a55475b1</td>\n",
       "      <td>1</td>\n",
       "      <td>0</td>\n",
       "      <td>OTHER_RELATIVE</td>\n",
       "    </tr>\n",
       "    <tr>\n",
       "      <th>4</th>\n",
       "      <td>6</td>\n",
       "      <td>P191_109_75</td>\n",
       "      <td>CONTACT</td>\n",
       "      <td>P10_68_40</td>\n",
       "      <td>P7_147_157</td>\n",
       "      <td>a55475b1</td>\n",
       "      <td>NaN</td>\n",
       "      <td>a55475b1</td>\n",
       "      <td>1</td>\n",
       "      <td>1</td>\n",
       "      <td>OTHER_RELATIVE</td>\n",
       "    </tr>\n",
       "    <tr>\n",
       "      <th>...</th>\n",
       "      <td>...</td>\n",
       "      <td>...</td>\n",
       "      <td>...</td>\n",
       "      <td>...</td>\n",
       "      <td>...</td>\n",
       "      <td>...</td>\n",
       "      <td>...</td>\n",
       "      <td>...</td>\n",
       "      <td>...</td>\n",
       "      <td>...</td>\n",
       "      <td>...</td>\n",
       "    </tr>\n",
       "    <tr>\n",
       "      <th>1643405</th>\n",
       "      <td>2703450</td>\n",
       "      <td>a55475b1</td>\n",
       "      <td>NaN</td>\n",
       "      <td>a55475b1</td>\n",
       "      <td>a55475b1</td>\n",
       "      <td>a55475b1</td>\n",
       "      <td>NaN</td>\n",
       "      <td>a55475b1</td>\n",
       "      <td>0</td>\n",
       "      <td>0</td>\n",
       "      <td>NaN</td>\n",
       "    </tr>\n",
       "    <tr>\n",
       "      <th>1643406</th>\n",
       "      <td>2703451</td>\n",
       "      <td>a55475b1</td>\n",
       "      <td>NaN</td>\n",
       "      <td>a55475b1</td>\n",
       "      <td>a55475b1</td>\n",
       "      <td>a55475b1</td>\n",
       "      <td>NaN</td>\n",
       "      <td>a55475b1</td>\n",
       "      <td>0</td>\n",
       "      <td>0</td>\n",
       "      <td>NaN</td>\n",
       "    </tr>\n",
       "    <tr>\n",
       "      <th>1643407</th>\n",
       "      <td>2703452</td>\n",
       "      <td>a55475b1</td>\n",
       "      <td>NaN</td>\n",
       "      <td>a55475b1</td>\n",
       "      <td>a55475b1</td>\n",
       "      <td>a55475b1</td>\n",
       "      <td>NaN</td>\n",
       "      <td>a55475b1</td>\n",
       "      <td>0</td>\n",
       "      <td>0</td>\n",
       "      <td>NaN</td>\n",
       "    </tr>\n",
       "    <tr>\n",
       "      <th>1643408</th>\n",
       "      <td>2703453</td>\n",
       "      <td>a55475b1</td>\n",
       "      <td>NaN</td>\n",
       "      <td>a55475b1</td>\n",
       "      <td>a55475b1</td>\n",
       "      <td>a55475b1</td>\n",
       "      <td>NaN</td>\n",
       "      <td>a55475b1</td>\n",
       "      <td>0</td>\n",
       "      <td>0</td>\n",
       "      <td>NaN</td>\n",
       "    </tr>\n",
       "    <tr>\n",
       "      <th>1643409</th>\n",
       "      <td>2703454</td>\n",
       "      <td>a55475b1</td>\n",
       "      <td>NaN</td>\n",
       "      <td>a55475b1</td>\n",
       "      <td>a55475b1</td>\n",
       "      <td>a55475b1</td>\n",
       "      <td>NaN</td>\n",
       "      <td>a55475b1</td>\n",
       "      <td>0</td>\n",
       "      <td>0</td>\n",
       "      <td>NaN</td>\n",
       "    </tr>\n",
       "  </tbody>\n",
       "</table>\n",
       "<p>1643410 rows × 11 columns</p>\n",
       "</div>"
      ],
      "text/plain": [
       "         case_id addres_district_368M addres_role_871L addres_zip_823M  \\\n",
       "0              5             a55475b1              NaN        a55475b1   \n",
       "1              6           P55_110_32          CONTACT       P10_68_40   \n",
       "2              6           P55_110_32        PERMANENT       P10_68_40   \n",
       "3              6          P204_92_178          CONTACT     P65_136_169   \n",
       "4              6          P191_109_75          CONTACT       P10_68_40   \n",
       "...          ...                  ...              ...             ...   \n",
       "1643405  2703450             a55475b1              NaN        a55475b1   \n",
       "1643406  2703451             a55475b1              NaN        a55475b1   \n",
       "1643407  2703452             a55475b1              NaN        a55475b1   \n",
       "1643408  2703453             a55475b1              NaN        a55475b1   \n",
       "1643409  2703454             a55475b1              NaN        a55475b1   \n",
       "\n",
       "        conts_role_79M empls_economicalst_849M empls_employedfrom_796D  \\\n",
       "0             a55475b1                a55475b1                     NaN   \n",
       "1           P38_92_157             P164_110_33                     NaN   \n",
       "2             a55475b1                a55475b1                     NaN   \n",
       "3           P38_92_157             P164_110_33                     NaN   \n",
       "4           P7_147_157                a55475b1                     NaN   \n",
       "...                ...                     ...                     ...   \n",
       "1643405       a55475b1                a55475b1                     NaN   \n",
       "1643406       a55475b1                a55475b1                     NaN   \n",
       "1643407       a55475b1                a55475b1                     NaN   \n",
       "1643408       a55475b1                a55475b1                     NaN   \n",
       "1643409       a55475b1                a55475b1                     NaN   \n",
       "\n",
       "        empls_employer_name_740M  num_group1  num_group2  \\\n",
       "0                       a55475b1           0           0   \n",
       "1                       a55475b1           0           0   \n",
       "2                       a55475b1           0           1   \n",
       "3                       a55475b1           1           0   \n",
       "4                       a55475b1           1           1   \n",
       "...                          ...         ...         ...   \n",
       "1643405                 a55475b1           0           0   \n",
       "1643406                 a55475b1           0           0   \n",
       "1643407                 a55475b1           0           0   \n",
       "1643408                 a55475b1           0           0   \n",
       "1643409                 a55475b1           0           0   \n",
       "\n",
       "        relatedpersons_role_762T  \n",
       "0                            NaN  \n",
       "1                            NaN  \n",
       "2                            NaN  \n",
       "3                 OTHER_RELATIVE  \n",
       "4                 OTHER_RELATIVE  \n",
       "...                          ...  \n",
       "1643405                      NaN  \n",
       "1643406                      NaN  \n",
       "1643407                      NaN  \n",
       "1643408                      NaN  \n",
       "1643409                      NaN  \n",
       "\n",
       "[1643410 rows x 11 columns]"
      ]
     },
     "execution_count": 33,
     "metadata": {},
     "output_type": "execute_result"
    }
   ],
   "source": [
    "person_df_2 = pd.read_csv(\"./csv_files/train/train_person_2.csv\")\n",
    "person_df_2"
   ]
  },
  {
   "cell_type": "markdown",
   "metadata": {},
   "source": [
    "------\n"
   ]
  },
  {
   "cell_type": "code",
   "execution_count": 73,
   "metadata": {},
   "outputs": [
    {
     "name": "stdout",
     "output_type": "stream",
     "text": [
      "train_static_0_1.csv\n",
      "train_static_0_0.csv\n",
      "train_static_cb_0.csv\n",
      "train_other_1.csv\n",
      "train_debitcard_1.csv\n",
      "train_person_1.csv\n",
      "train_person_2.csv\n",
      "train_applprev_2.csv\n",
      "train_credit_bureau_a_2_8.csv\n",
      "train_credit_bureau_a_2_9.csv\n",
      "train_credit_bureau_a_2_4.csv\n",
      "train_credit_bureau_a_2_5.csv\n",
      "train_tax_registry_b_1.csv\n",
      "train_credit_bureau_a_2_10.csv\n",
      "train_credit_bureau_a_2_7.csv\n",
      "train_credit_bureau_a_2_6.csv\n",
      "train_credit_bureau_a_2_2.csv\n",
      "train_credit_bureau_a_2_3.csv\n",
      "train_applprev_1_1.csv\n",
      "train_deposit_1.csv\n",
      "train_credit_bureau_a_2_1.csv\n",
      "train_credit_bureau_a_2_0.csv\n",
      "train_applprev_1_0.csv\n",
      "train_tax_registry_a_1.csv\n",
      "train_credit_bureau_b_1.csv\n",
      "train_base.csv\n",
      "train_credit_bureau_b_2.csv\n",
      "train_tax_registry_c_1.csv\n",
      "train_credit_bureau_a_1_3.csv\n",
      "train_credit_bureau_a_1_2.csv\n",
      "train_credit_bureau_a_1_0.csv\n",
      "train_credit_bureau_a_1_1.csv\n"
     ]
    }
   ],
   "source": [
    "##### Code used to compile metadata\n",
    "\n",
    "import os, warnings\n",
    "\n",
    "warnings.filterwarnings(\"ignore\")\n",
    "\n",
    "path = \"./csv_files/train/\"\n",
    "dir_list = os.listdir(path)\n",
    "\n",
    "filename_dict = {}\n",
    "\n",
    "for filename in dir_list:\n",
    "\n",
    "    temp_df = pd.read_csv(\"./csv_files/train/\" + filename)\n",
    "\n",
    "    col_names = temp_df.columns.to_list()\n",
    "\n",
    "    filename_dict[filename] = col_names\n",
    "\n",
    "    print(filename)\n",
    "\n",
    "files = []\n",
    "columns = []\n",
    "depth_list = []\n",
    "\n",
    "for val in filename_dict.keys():\n",
    "\n",
    "    files = files + [val]*len(filename_dict[val])\n",
    "    columns = columns + filename_dict[val]\n",
    "    print(val)\n",
    "\n",
    "\n",
    "\n",
    "for val in files:\n",
    "\n",
    "    temp = val[:-4].split(\"_\")\n",
    "    temp = [val for val in temp if val.isdigit()]\n",
    "\n",
    "    if len(temp)>0:\n",
    "        depth_list.append(int(temp[0]))\n",
    "    else:\n",
    "        depth_list.append(np.nan)\n",
    "\n",
    "\n",
    "metadata = pd.DataFrame(list(zip(files, columns, depth_list)), columns=[\"filename\", \"col_names\", \"data_depth\"])\n",
    "metadata"
   ]
  },
  {
   "cell_type": "code",
   "execution_count": null,
   "metadata": {},
   "outputs": [],
   "source": []
  },
  {
   "cell_type": "code",
   "execution_count": null,
   "metadata": {},
   "outputs": [],
   "source": []
  },
  {
   "cell_type": "code",
   "execution_count": null,
   "metadata": {},
   "outputs": [],
   "source": []
  }
 ],
 "metadata": {
  "kernelspec": {
   "display_name": "Python 3",
   "language": "python",
   "name": "python3"
  },
  "language_info": {
   "codemirror_mode": {
    "name": "ipython",
    "version": 3
   },
   "file_extension": ".py",
   "mimetype": "text/x-python",
   "name": "python",
   "nbconvert_exporter": "python",
   "pygments_lexer": "ipython3",
   "version": "3.9.6"
  },
  "orig_nbformat": 4
 },
 "nbformat": 4,
 "nbformat_minor": 2
}
